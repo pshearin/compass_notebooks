{
 "cells": [
  {
   "cell_type": "code",
   "execution_count": 1,
   "metadata": {},
   "outputs": [],
   "source": [
    "import datetime as dt\n",
    "import pandas as pd\n",
    "import xlsxwriter\n",
    "import os\n",
    "start = dt.datetime.now()"
   ]
  },
  {
   "cell_type": "code",
   "execution_count": 2,
   "metadata": {},
   "outputs": [],
   "source": [
    "how_many_files = 5"
   ]
  },
  {
   "cell_type": "code",
   "execution_count": 3,
   "metadata": {},
   "outputs": [],
   "source": [
    "how_many_files = how_many_files + 1"
   ]
  },
  {
   "cell_type": "code",
   "execution_count": 4,
   "metadata": {},
   "outputs": [],
   "source": [
    "dealid_export_filepath = r'C:\\Users\\phsheari\\Documents\\SFDC Data\\Exports from SFDC'\n",
    "entries = os.listdir(dealid_export_filepath)"
   ]
  },
  {
   "cell_type": "code",
   "execution_count": 5,
   "metadata": {},
   "outputs": [],
   "source": [
    "# entries"
   ]
  },
  {
   "cell_type": "code",
   "execution_count": 6,
   "metadata": {},
   "outputs": [],
   "source": [
    "csvs = []\n",
    "for f in entries:\n",
    "    for i in range(1,how_many_files):\n",
    "        if f.endswith(f'{i}.csv'):\n",
    "            csvs.append(f)"
   ]
  },
  {
   "cell_type": "code",
   "execution_count": 7,
   "metadata": {},
   "outputs": [],
   "source": [
    "DTYPES={'CSC ID':'str', 'Product Family ID':'str', 'ZZ_Customer_Use_Case':'str','CuC Solutions':'str', 'Contract Number':'str','Main Technology':'str','Primary Partner':'str', 'Forecasted Attrition ($000) (converted) Currency':'str'}"
   ]
  },
  {
   "cell_type": "code",
   "execution_count": 8,
   "metadata": {},
   "outputs": [],
   "source": [
    "tempdfs = []\n",
    "for f_name in csvs:\n",
    "    tempdf = pd.read_csv(dealid_export_filepath + \"\\\\\" + f_name, dtype=DTYPES, encoding = 'latin-1')\n",
    "    tempdfs.append(tempdf)"
   ]
  },
  {
   "cell_type": "code",
   "execution_count": 9,
   "metadata": {},
   "outputs": [],
   "source": [
    "sfdc_extract = pd.concat(tempdfs)"
   ]
  },
  {
   "cell_type": "code",
   "execution_count": 10,
   "metadata": {},
   "outputs": [
    {
     "data": {
      "text/plain": [
       "Index(['Level 01 Territory', 'Level 02 Territory', 'Level 03 Territory',\n",
       "       'Level 04 Territory', 'Level 05 Territory', 'Level 06 Territory',\n",
       "       'Deal ID', 'Opportunity ID', 'Opportunity ID 18',\n",
       "       'Opportunity Record Type', 'Opportunity Name', 'Opportunity Owner',\n",
       "       'Opportunity Owner Alias', 'Opportunity Owner Email',\n",
       "       'Opportunity Owner: Title', 'Opportunity Owner: Division',\n",
       "       'Opportunity Owner: Department', 'Opportunity Status', 'Account Owner',\n",
       "       'Account Owner Alias', 'SFDC Account ID', 'Account Name',\n",
       "       'Account Name (English)', 'GU ID', 'HQ Party ID', 'Party ID', 'CSC ID',\n",
       "       'Product Family ID', 'Business Entity', 'Total Price Currency',\n",
       "       'Total Price', 'Total Price (converted) Currency',\n",
       "       'Total Price (converted)',\n",
       "       'Expected Service ($000s) (converted) Currency',\n",
       "       'Expected Service ($000s) (converted)',\n",
       "       'Opportunity Line Value ($000s) (converted) Currency',\n",
       "       'Opportunity Line Value ($000s) (converted)', 'Services',\n",
       "       'Service Type', 'Service Category', 'Service Source',\n",
       "       'Service Start Date', 'Service End Date', 'Technology & Service Name',\n",
       "       'Technology & Service: Month', 'Technology & Service Date',\n",
       "       'Technical Services (TS) %', 'Advanced Services (AS) %', 'Mix %',\n",
       "       'Description', 'Stage', 'Forecast Status', 'Expected Book Date',\n",
       "       'Fiscal Week', 'Fiscal Month', 'Fiscal Period', 'Fiscal Quarter',\n",
       "       'Fiscal Year', 'Fiscal Month of QTR', 'Fiscal Week of Month',\n",
       "       'Created Date', 'Last Modified Date', 'Deals Desk Status',\n",
       "       'Close Probability %', 'Created By', 'ZZ_Customer_Use_Case',\n",
       "       'CuC Solutions', 'Forecasting Position',\n",
       "       'Forecasted Attrition ($000) (converted) Currency',\n",
       "       'Forecasted Attrition ($000) (converted)', 'Contract Number',\n",
       "       'Primary Partner', 'Main Technology', 'Default Position', 'Cloud Deal?',\n",
       "       'Technologies', 'Group', 'Service Level', 'Lost/Cancelled Reason'],\n",
       "      dtype='object')"
      ]
     },
     "execution_count": 10,
     "metadata": {},
     "output_type": "execute_result"
    }
   ],
   "source": [
    "sfdc_extract.columns"
   ]
  },
  {
   "cell_type": "code",
   "execution_count": 11,
   "metadata": {},
   "outputs": [
    {
     "data": {
      "text/html": [
       "<div>\n",
       "<style scoped>\n",
       "    .dataframe tbody tr th:only-of-type {\n",
       "        vertical-align: middle;\n",
       "    }\n",
       "\n",
       "    .dataframe tbody tr th {\n",
       "        vertical-align: top;\n",
       "    }\n",
       "\n",
       "    .dataframe thead th {\n",
       "        text-align: right;\n",
       "    }\n",
       "</style>\n",
       "<table border=\"1\" class=\"dataframe\">\n",
       "  <thead>\n",
       "    <tr style=\"text-align: right;\">\n",
       "      <th></th>\n",
       "      <th>Level 01 Territory</th>\n",
       "      <th>Level 02 Territory</th>\n",
       "      <th>Level 03 Territory</th>\n",
       "      <th>Level 04 Territory</th>\n",
       "      <th>Level 05 Territory</th>\n",
       "      <th>Level 06 Territory</th>\n",
       "      <th>Deal ID</th>\n",
       "      <th>Account Owner</th>\n",
       "      <th>Account Name</th>\n",
       "      <th>Account Name (English)</th>\n",
       "      <th>...</th>\n",
       "      <th>Expected Book Date</th>\n",
       "      <th>Fiscal Week</th>\n",
       "      <th>Fiscal Month</th>\n",
       "      <th>Fiscal Period</th>\n",
       "      <th>Fiscal Quarter</th>\n",
       "      <th>Fiscal Year</th>\n",
       "      <th>Fiscal Month of QTR</th>\n",
       "      <th>Fiscal Week of Month</th>\n",
       "      <th>Created Date</th>\n",
       "      <th>Last Modified Date</th>\n",
       "    </tr>\n",
       "  </thead>\n",
       "  <tbody>\n",
       "    <tr>\n",
       "      <th>0</th>\n",
       "      <td>Americas</td>\n",
       "      <td>LATIN AMERICA</td>\n",
       "      <td>BRASIL</td>\n",
       "      <td>BRASIL PUBLIC SECTOR</td>\n",
       "      <td>BRASIL CENTRAL GOVT</td>\n",
       "      <td>SEL_BRA_PS_DF</td>\n",
       "      <td>20041472</td>\n",
       "      <td>Carlos Bertozzi</td>\n",
       "      <td>MINISTERIO DA JUSTICA</td>\n",
       "      <td>MINISTRY OF JUSTICE</td>\n",
       "      <td>...</td>\n",
       "      <td>11/20/2020</td>\n",
       "      <td>17</td>\n",
       "      <td>4</td>\n",
       "      <td>Q2-2021</td>\n",
       "      <td>2</td>\n",
       "      <td>2021</td>\n",
       "      <td>1</td>\n",
       "      <td>4</td>\n",
       "      <td>8/12/2019</td>\n",
       "      <td>2/13/2021</td>\n",
       "    </tr>\n",
       "    <tr>\n",
       "      <th>1</th>\n",
       "      <td>Americas</td>\n",
       "      <td>US PS Market Segment</td>\n",
       "      <td>SLED-East Area</td>\n",
       "      <td>SLED-Centraleast Operation</td>\n",
       "      <td>SLED-DE-MD-PA REGION</td>\n",
       "      <td>SLED-STATE PA Key L6</td>\n",
       "      <td>20071511</td>\n",
       "      <td>Daniel Burkholder</td>\n",
       "      <td>PA STATE POLICE</td>\n",
       "      <td>NaN</td>\n",
       "      <td>...</td>\n",
       "      <td>7/11/2020</td>\n",
       "      <td>50</td>\n",
       "      <td>12</td>\n",
       "      <td>Q4-2020</td>\n",
       "      <td>4</td>\n",
       "      <td>2020</td>\n",
       "      <td>3</td>\n",
       "      <td>3</td>\n",
       "      <td>8/18/2019</td>\n",
       "      <td>4/16/2021</td>\n",
       "    </tr>\n",
       "    <tr>\n",
       "      <th>2</th>\n",
       "      <td>Americas</td>\n",
       "      <td>LATIN AMERICA</td>\n",
       "      <td>M_C_R</td>\n",
       "      <td>CENTRAL_AMERICA</td>\n",
       "      <td>COSTA RICA_SP</td>\n",
       "      <td>MJR_CRI_SP_WIRELINE</td>\n",
       "      <td>19409975</td>\n",
       "      <td>Joshua Sibaja</td>\n",
       "      <td>ICE INSTITUTO COSTARICENSE DE ELECTRICIDAD</td>\n",
       "      <td>ICE INSTITUTO COSTARICENSE DE ELECTRICIDAD</td>\n",
       "      <td>...</td>\n",
       "      <td>10/18/2019</td>\n",
       "      <td>12</td>\n",
       "      <td>3</td>\n",
       "      <td>Q1-2020</td>\n",
       "      <td>1</td>\n",
       "      <td>2020</td>\n",
       "      <td>3</td>\n",
       "      <td>4</td>\n",
       "      <td>1/29/2019</td>\n",
       "      <td>7/8/2021</td>\n",
       "    </tr>\n",
       "    <tr>\n",
       "      <th>3</th>\n",
       "      <td>Americas</td>\n",
       "      <td>AMERICAS_SP</td>\n",
       "      <td>ASP WEB</td>\n",
       "      <td>ASP WEB REGION</td>\n",
       "      <td>EBAY</td>\n",
       "      <td>EBAY MARKETPLACE AMER</td>\n",
       "      <td>18838389</td>\n",
       "      <td>Leslie Anderson</td>\n",
       "      <td>EBAY INC (HQ)</td>\n",
       "      <td>EBAY INC (HQ)</td>\n",
       "      <td>...</td>\n",
       "      <td>1/25/2019</td>\n",
       "      <td>26</td>\n",
       "      <td>6</td>\n",
       "      <td>Q2-2019</td>\n",
       "      <td>2</td>\n",
       "      <td>2019</td>\n",
       "      <td>3</td>\n",
       "      <td>5</td>\n",
       "      <td>12/15/2018</td>\n",
       "      <td>6/1/2021</td>\n",
       "    </tr>\n",
       "    <tr>\n",
       "      <th>4</th>\n",
       "      <td>Americas</td>\n",
       "      <td>GLOBAL ENTERPRISE SEGMENT</td>\n",
       "      <td>GES SOUTH</td>\n",
       "      <td>GLL_K_PWC</td>\n",
       "      <td>GLL_K_PWC_APJ</td>\n",
       "      <td>GLL_K_PWC_IN</td>\n",
       "      <td>19156888</td>\n",
       "      <td>Parul Adlakha</td>\n",
       "      <td>PWC</td>\n",
       "      <td>NaN</td>\n",
       "      <td>...</td>\n",
       "      <td>7/20/2019</td>\n",
       "      <td>51</td>\n",
       "      <td>12</td>\n",
       "      <td>Q4-2019</td>\n",
       "      <td>4</td>\n",
       "      <td>2019</td>\n",
       "      <td>3</td>\n",
       "      <td>4</td>\n",
       "      <td>11/15/2018</td>\n",
       "      <td>1/18/2021</td>\n",
       "    </tr>\n",
       "    <tr>\n",
       "      <th>...</th>\n",
       "      <td>...</td>\n",
       "      <td>...</td>\n",
       "      <td>...</td>\n",
       "      <td>...</td>\n",
       "      <td>...</td>\n",
       "      <td>...</td>\n",
       "      <td>...</td>\n",
       "      <td>...</td>\n",
       "      <td>...</td>\n",
       "      <td>...</td>\n",
       "      <td>...</td>\n",
       "      <td>...</td>\n",
       "      <td>...</td>\n",
       "      <td>...</td>\n",
       "      <td>...</td>\n",
       "      <td>...</td>\n",
       "      <td>...</td>\n",
       "      <td>...</td>\n",
       "      <td>...</td>\n",
       "      <td>...</td>\n",
       "      <td>...</td>\n",
       "    </tr>\n",
       "    <tr>\n",
       "      <th>8909</th>\n",
       "      <td>EMEAR-REGION</td>\n",
       "      <td>EMEAR-NORTH</td>\n",
       "      <td>COUNTRY_SWEDEN</td>\n",
       "      <td>PUBLICSECTOR_SWE</td>\n",
       "      <td>PS_SWE_REGIONAL</td>\n",
       "      <td>PMJ_SWE_VAXJO</td>\n",
       "      <td>43858555</td>\n",
       "      <td>Marc Montelius</td>\n",
       "      <td>WEXNET AB</td>\n",
       "      <td>NaN</td>\n",
       "      <td>...</td>\n",
       "      <td>6/28/2021</td>\n",
       "      <td>49</td>\n",
       "      <td>12</td>\n",
       "      <td>Q4-2021</td>\n",
       "      <td>4</td>\n",
       "      <td>2021</td>\n",
       "      <td>3</td>\n",
       "      <td>1</td>\n",
       "      <td>3/15/2021</td>\n",
       "      <td>7/8/2021</td>\n",
       "    </tr>\n",
       "    <tr>\n",
       "      <th>8910</th>\n",
       "      <td>EMEAR-REGION</td>\n",
       "      <td>EMEAR-NORTH</td>\n",
       "      <td>COUNTRY_SWEDEN</td>\n",
       "      <td>PUBLICSECTOR_SWE</td>\n",
       "      <td>PS_SWE_REGIONAL</td>\n",
       "      <td>PMJ_SWE_VAXJO</td>\n",
       "      <td>43858555</td>\n",
       "      <td>Marc Montelius</td>\n",
       "      <td>WEXNET AB</td>\n",
       "      <td>NaN</td>\n",
       "      <td>...</td>\n",
       "      <td>6/28/2021</td>\n",
       "      <td>49</td>\n",
       "      <td>12</td>\n",
       "      <td>Q4-2021</td>\n",
       "      <td>4</td>\n",
       "      <td>2021</td>\n",
       "      <td>3</td>\n",
       "      <td>1</td>\n",
       "      <td>3/15/2021</td>\n",
       "      <td>7/8/2021</td>\n",
       "    </tr>\n",
       "    <tr>\n",
       "      <th>8911</th>\n",
       "      <td>Americas</td>\n",
       "      <td>GLOBAL ENTERPRISE SEGMENT</td>\n",
       "      <td>GES CENTRAL</td>\n",
       "      <td>HEARTLAND_OPERATION</td>\n",
       "      <td>BIG RIVERS REGION</td>\n",
       "      <td>SANFORD HEALTH</td>\n",
       "      <td>43858322</td>\n",
       "      <td>Jay Heuertz</td>\n",
       "      <td>SANFORD HEALTH</td>\n",
       "      <td>SANFORD HEALTH</td>\n",
       "      <td>...</td>\n",
       "      <td>7/15/2021</td>\n",
       "      <td>51</td>\n",
       "      <td>12</td>\n",
       "      <td>Q4-2021</td>\n",
       "      <td>4</td>\n",
       "      <td>2021</td>\n",
       "      <td>3</td>\n",
       "      <td>3</td>\n",
       "      <td>3/15/2021</td>\n",
       "      <td>6/22/2021</td>\n",
       "    </tr>\n",
       "    <tr>\n",
       "      <th>8912</th>\n",
       "      <td>Americas</td>\n",
       "      <td>CANADA</td>\n",
       "      <td>PUBLIC SECTOR CAN</td>\n",
       "      <td>PS CENTRAL AREA</td>\n",
       "      <td>PS CENTRAL OP</td>\n",
       "      <td>CENTRAL PS MAJOR</td>\n",
       "      <td>43858004</td>\n",
       "      <td>Ron Rotman</td>\n",
       "      <td>HOSPITAL FOR SICK CHILDREN, THE</td>\n",
       "      <td>NaN</td>\n",
       "      <td>...</td>\n",
       "      <td>7/3/2021</td>\n",
       "      <td>49</td>\n",
       "      <td>12</td>\n",
       "      <td>Q4-2021</td>\n",
       "      <td>4</td>\n",
       "      <td>2021</td>\n",
       "      <td>3</td>\n",
       "      <td>1</td>\n",
       "      <td>3/15/2021</td>\n",
       "      <td>6/25/2021</td>\n",
       "    </tr>\n",
       "    <tr>\n",
       "      <th>8913</th>\n",
       "      <td>Americas</td>\n",
       "      <td>CANADA</td>\n",
       "      <td>PUBLIC SECTOR CAN</td>\n",
       "      <td>PS CENTRAL AREA</td>\n",
       "      <td>PS CENTRAL OP</td>\n",
       "      <td>CENTRAL PS MAJOR</td>\n",
       "      <td>43857980</td>\n",
       "      <td>Ron Rotman</td>\n",
       "      <td>HAMILTON HEALTH SCIENCES</td>\n",
       "      <td>HAMILTON HEALTH SCIENCES</td>\n",
       "      <td>...</td>\n",
       "      <td>8/28/2021</td>\n",
       "      <td>4</td>\n",
       "      <td>1</td>\n",
       "      <td>Q1-2022</td>\n",
       "      <td>1</td>\n",
       "      <td>2022</td>\n",
       "      <td>1</td>\n",
       "      <td>4</td>\n",
       "      <td>3/15/2021</td>\n",
       "      <td>7/3/2021</td>\n",
       "    </tr>\n",
       "  </tbody>\n",
       "</table>\n",
       "<p>56856 rows × 40 columns</p>\n",
       "</div>"
      ],
      "text/plain": [
       "     Level 01 Territory         Level 02 Territory Level 03 Territory  \\\n",
       "0              Americas              LATIN AMERICA             BRASIL   \n",
       "1              Americas       US PS Market Segment     SLED-East Area   \n",
       "2              Americas              LATIN AMERICA              M_C_R   \n",
       "3              Americas                AMERICAS_SP            ASP WEB   \n",
       "4              Americas  GLOBAL ENTERPRISE SEGMENT          GES SOUTH   \n",
       "...                 ...                        ...                ...   \n",
       "8909       EMEAR-REGION                EMEAR-NORTH     COUNTRY_SWEDEN   \n",
       "8910       EMEAR-REGION                EMEAR-NORTH     COUNTRY_SWEDEN   \n",
       "8911           Americas  GLOBAL ENTERPRISE SEGMENT        GES CENTRAL   \n",
       "8912           Americas                     CANADA  PUBLIC SECTOR CAN   \n",
       "8913           Americas                     CANADA  PUBLIC SECTOR CAN   \n",
       "\n",
       "              Level 04 Territory    Level 05 Territory     Level 06 Territory  \\\n",
       "0           BRASIL PUBLIC SECTOR   BRASIL CENTRAL GOVT          SEL_BRA_PS_DF   \n",
       "1     SLED-Centraleast Operation  SLED-DE-MD-PA REGION   SLED-STATE PA Key L6   \n",
       "2                CENTRAL_AMERICA         COSTA RICA_SP    MJR_CRI_SP_WIRELINE   \n",
       "3                 ASP WEB REGION                  EBAY  EBAY MARKETPLACE AMER   \n",
       "4                      GLL_K_PWC         GLL_K_PWC_APJ           GLL_K_PWC_IN   \n",
       "...                          ...                   ...                    ...   \n",
       "8909            PUBLICSECTOR_SWE       PS_SWE_REGIONAL          PMJ_SWE_VAXJO   \n",
       "8910            PUBLICSECTOR_SWE       PS_SWE_REGIONAL          PMJ_SWE_VAXJO   \n",
       "8911         HEARTLAND_OPERATION     BIG RIVERS REGION         SANFORD HEALTH   \n",
       "8912             PS CENTRAL AREA         PS CENTRAL OP       CENTRAL PS MAJOR   \n",
       "8913             PS CENTRAL AREA         PS CENTRAL OP       CENTRAL PS MAJOR   \n",
       "\n",
       "       Deal ID      Account Owner                                Account Name  \\\n",
       "0     20041472    Carlos Bertozzi                       MINISTERIO DA JUSTICA   \n",
       "1     20071511  Daniel Burkholder                             PA STATE POLICE   \n",
       "2     19409975      Joshua Sibaja  ICE INSTITUTO COSTARICENSE DE ELECTRICIDAD   \n",
       "3     18838389    Leslie Anderson                               EBAY INC (HQ)   \n",
       "4     19156888      Parul Adlakha                                         PWC   \n",
       "...        ...                ...                                         ...   \n",
       "8909  43858555     Marc Montelius                                   WEXNET AB   \n",
       "8910  43858555     Marc Montelius                                   WEXNET AB   \n",
       "8911  43858322        Jay Heuertz                              SANFORD HEALTH   \n",
       "8912  43858004         Ron Rotman             HOSPITAL FOR SICK CHILDREN, THE   \n",
       "8913  43857980         Ron Rotman                    HAMILTON HEALTH SCIENCES   \n",
       "\n",
       "                          Account Name (English)  ...  Expected Book Date  \\\n",
       "0                            MINISTRY OF JUSTICE  ...          11/20/2020   \n",
       "1                                            NaN  ...           7/11/2020   \n",
       "2     ICE INSTITUTO COSTARICENSE DE ELECTRICIDAD  ...          10/18/2019   \n",
       "3                                  EBAY INC (HQ)  ...           1/25/2019   \n",
       "4                                            NaN  ...           7/20/2019   \n",
       "...                                          ...  ...                 ...   \n",
       "8909                                         NaN  ...           6/28/2021   \n",
       "8910                                         NaN  ...           6/28/2021   \n",
       "8911                              SANFORD HEALTH  ...           7/15/2021   \n",
       "8912                                         NaN  ...            7/3/2021   \n",
       "8913                    HAMILTON HEALTH SCIENCES  ...           8/28/2021   \n",
       "\n",
       "      Fiscal Week  Fiscal Month Fiscal Period Fiscal Quarter Fiscal Year  \\\n",
       "0              17             4       Q2-2021              2        2021   \n",
       "1              50            12       Q4-2020              4        2020   \n",
       "2              12             3       Q1-2020              1        2020   \n",
       "3              26             6       Q2-2019              2        2019   \n",
       "4              51            12       Q4-2019              4        2019   \n",
       "...           ...           ...           ...            ...         ...   \n",
       "8909           49            12       Q4-2021              4        2021   \n",
       "8910           49            12       Q4-2021              4        2021   \n",
       "8911           51            12       Q4-2021              4        2021   \n",
       "8912           49            12       Q4-2021              4        2021   \n",
       "8913            4             1       Q1-2022              1        2022   \n",
       "\n",
       "     Fiscal Month of QTR  Fiscal Week of Month Created Date  \\\n",
       "0                      1                     4    8/12/2019   \n",
       "1                      3                     3    8/18/2019   \n",
       "2                      3                     4    1/29/2019   \n",
       "3                      3                     5   12/15/2018   \n",
       "4                      3                     4   11/15/2018   \n",
       "...                  ...                   ...          ...   \n",
       "8909                   3                     1    3/15/2021   \n",
       "8910                   3                     1    3/15/2021   \n",
       "8911                   3                     3    3/15/2021   \n",
       "8912                   3                     1    3/15/2021   \n",
       "8913                   1                     4    3/15/2021   \n",
       "\n",
       "      Last Modified Date  \n",
       "0              2/13/2021  \n",
       "1              4/16/2021  \n",
       "2               7/8/2021  \n",
       "3               6/1/2021  \n",
       "4              1/18/2021  \n",
       "...                  ...  \n",
       "8909            7/8/2021  \n",
       "8910            7/8/2021  \n",
       "8911           6/22/2021  \n",
       "8912           6/25/2021  \n",
       "8913            7/3/2021  \n",
       "\n",
       "[56856 rows x 40 columns]"
      ]
     },
     "execution_count": 11,
     "metadata": {},
     "output_type": "execute_result"
    }
   ],
   "source": [
    "sfdc_extract[['Level 01 Territory', 'Level 02 Territory', 'Level 03 Territory',\n",
    "       'Level 04 Territory', 'Level 05 Territory', 'Level 06 Territory',\n",
    "       'Deal ID', 'Account Owner', 'Account Name',\n",
    "       'Account Name (English)', 'GU ID', 'HQ Party ID', 'Party ID', 'CSC ID',\n",
    "       'Product Family ID', 'Business Entity', 'Total Price Currency',\n",
    "       'Total Price', 'Total Price (converted) Currency',\n",
    "       'Total Price (converted)',\n",
    "       'Expected Service ($000s) (converted) Currency',\n",
    "       'Expected Service ($000s) (converted)',\n",
    "       'Opportunity Line Value ($000s) (converted) Currency',\n",
    "       'Opportunity Line Value ($000s) (converted)', 'Services',\n",
    "       'Service Type', 'Service Category', 'Service Source',\n",
    "       'Stage', 'Forecast Status', 'Expected Book Date',\n",
    "       'Fiscal Week', 'Fiscal Month', 'Fiscal Period', 'Fiscal Quarter',\n",
    "       'Fiscal Year', 'Fiscal Month of QTR', 'Fiscal Week of Month',\n",
    "       'Created Date', 'Last Modified Date',]]"
   ]
  },
  {
   "cell_type": "code",
   "execution_count": null,
   "metadata": {},
   "outputs": [],
   "source": []
  },
  {
   "cell_type": "code",
   "execution_count": 12,
   "metadata": {},
   "outputs": [],
   "source": [
    "sfdc_extract = sfdc_extract.drop(sfdc_extract.loc[sfdc_extract['Level 01 Territory'].isnull()].index)"
   ]
  },
  {
   "cell_type": "code",
   "execution_count": 13,
   "metadata": {},
   "outputs": [],
   "source": [
    "sfdc_extract = sfdc_extract.drop(sfdc_extract.loc[sfdc_extract['Level 02 Territory'].isnull()].index)"
   ]
  },
  {
   "cell_type": "code",
   "execution_count": 14,
   "metadata": {},
   "outputs": [],
   "source": [
    "def update_qumark_account_names(account_name, account_name_english):\n",
    "    new_account_name = None\n",
    "    if (account_name.startswith('????') or account_name.startswith('*') or account_name.startswith('[') or account_name.startswith('(')) and pd.notnull(account_name_english):\n",
    "        new_account_name = account_name_english\n",
    "        return new_account_name.upper()\n",
    "    elif account_name.startswith('*'):\n",
    "        new_account_name = account_name.replace('*','')\n",
    "        return new_account_name.upper()\n",
    "    else:\n",
    "        new_account_name = account_name\n",
    "        return new_account_name.upper()"
   ]
  },
  {
   "cell_type": "code",
   "execution_count": 15,
   "metadata": {},
   "outputs": [],
   "source": [
    "# df['CompassURL'] = df.apply(lambda x: process_compass_url(x['Tableau Project Name'],x['Tableau Project Name 1.0'], x['Customer Name']), axis=1)"
   ]
  },
  {
   "cell_type": "code",
   "execution_count": 16,
   "metadata": {},
   "outputs": [
    {
     "data": {
      "text/plain": [
       "0                            MINISTERIO DA JUSTICA\n",
       "1                                  PA STATE POLICE\n",
       "2       ICE INSTITUTO COSTARICENSE DE ELECTRICIDAD\n",
       "3                                    EBAY INC (HQ)\n",
       "4                                              PWC\n",
       "                           ...                    \n",
       "8909                                     WEXNET AB\n",
       "8910                                     WEXNET AB\n",
       "8911                                SANFORD HEALTH\n",
       "8912               HOSPITAL FOR SICK CHILDREN, THE\n",
       "8913                      HAMILTON HEALTH SCIENCES\n",
       "Name: Account Name, Length: 54724, dtype: object"
      ]
     },
     "execution_count": 16,
     "metadata": {},
     "output_type": "execute_result"
    }
   ],
   "source": [
    "sfdc_extract['Account Name']"
   ]
  },
  {
   "cell_type": "code",
   "execution_count": 17,
   "metadata": {},
   "outputs": [],
   "source": [
    "sfdc_extract['Account Name'] = sfdc_extract.apply(lambda x: update_qumark_account_names(x['Account Name'], x['Account Name (English)']), axis=1)"
   ]
  },
  {
   "cell_type": "code",
   "execution_count": 18,
   "metadata": {},
   "outputs": [
    {
     "data": {
      "text/html": [
       "<div>\n",
       "<style scoped>\n",
       "    .dataframe tbody tr th:only-of-type {\n",
       "        vertical-align: middle;\n",
       "    }\n",
       "\n",
       "    .dataframe tbody tr th {\n",
       "        vertical-align: top;\n",
       "    }\n",
       "\n",
       "    .dataframe thead th {\n",
       "        text-align: right;\n",
       "    }\n",
       "</style>\n",
       "<table border=\"1\" class=\"dataframe\">\n",
       "  <thead>\n",
       "    <tr style=\"text-align: right;\">\n",
       "      <th></th>\n",
       "      <th>Account Name</th>\n",
       "    </tr>\n",
       "  </thead>\n",
       "  <tbody>\n",
       "  </tbody>\n",
       "</table>\n",
       "</div>"
      ],
      "text/plain": [
       "Empty DataFrame\n",
       "Columns: [Account Name]\n",
       "Index: []"
      ]
     },
     "execution_count": 18,
     "metadata": {},
     "output_type": "execute_result"
    }
   ],
   "source": [
    "sfdc_extract.loc[sfdc_extract['Account Name'].str.startswith('????')][['Account Name']]"
   ]
  },
  {
   "cell_type": "code",
   "execution_count": 19,
   "metadata": {},
   "outputs": [],
   "source": [
    "# sfdc_extract.loc[sfdc_extract.values.startswith('=')]"
   ]
  },
  {
   "cell_type": "code",
   "execution_count": 20,
   "metadata": {},
   "outputs": [],
   "source": [
    "sfdc_extract.to_excel(dealid_export_filepath + r'\\SFDC Extract.xlsx', engine='xlsxwriter', index=False)\n",
    "sfdc_extract.to_pickle(dealid_export_filepath + r'\\SFDC Extract.pkl')"
   ]
  },
  {
   "cell_type": "code",
   "execution_count": 21,
   "metadata": {},
   "outputs": [],
   "source": [
    "# checkit = pd.read_pickle(dealid_export_filepath + r'\\SFDC Extract.pkl')"
   ]
  },
  {
   "cell_type": "code",
   "execution_count": 22,
   "metadata": {},
   "outputs": [],
   "source": [
    "# newchk = newchk.applymap(lambda x: x.encode('unicode_escape').decode('utf-8') if isinstance(x, str) else x)"
   ]
  },
  {
   "cell_type": "code",
   "execution_count": 23,
   "metadata": {},
   "outputs": [],
   "source": [
    "# newchk.to_excel(r'C:\\Users\\phsheari\\Documents\\SFDC Data' + r'\\TESTCSV.xlsx', index=False)"
   ]
  },
  {
   "cell_type": "code",
   "execution_count": null,
   "metadata": {},
   "outputs": [],
   "source": []
  },
  {
   "cell_type": "code",
   "execution_count": 24,
   "metadata": {},
   "outputs": [],
   "source": [
    "sfdc_extract.to_excel(r'C:\\Users\\phsheari\\Documents\\SFDC Data' + r'\\SFDC Extract.xlsx', index=False)\n",
    "sfdc_extract.to_pickle(r'C:\\Users\\phsheari\\Documents\\SFDC Data' + r'\\SFDC Extract.pkl')"
   ]
  },
  {
   "cell_type": "markdown",
   "metadata": {},
   "source": [
    "## The SFDC FULL EXPORT for the CURRENT FISCAL YEAR"
   ]
  },
  {
   "cell_type": "code",
   "execution_count": 25,
   "metadata": {},
   "outputs": [],
   "source": [
    "### Current SFDC FULL QUERY FILE\n",
    "sfdc_full_export_path = r'C:\\Users\\phsheari\\Documents\\SFDC Data\\FULL EXPORT'\n",
    "\n",
    "current_csv = r'\\SFDC FULL EXPORT.csv'\n",
    "current_xlsx = r'\\SFDC FULL EXPORT.xlsx'\n",
    "current_pkl = r'\\SFDC FULL EXPORT.pkl'\n",
    "combined_xlsx = r'\\COMBINED.xlsx'\n",
    "combined_pkl = r'\\COMBINED.pkl'"
   ]
  },
  {
   "cell_type": "code",
   "execution_count": 26,
   "metadata": {},
   "outputs": [],
   "source": [
    "current = pd.read_csv(sfdc_full_export_path + current_csv, dtype=DTYPES) #, encoding = 'latin-1')"
   ]
  },
  {
   "cell_type": "code",
   "execution_count": 27,
   "metadata": {},
   "outputs": [],
   "source": [
    "# current.info()"
   ]
  },
  {
   "cell_type": "code",
   "execution_count": 28,
   "metadata": {},
   "outputs": [],
   "source": [
    "current.to_pickle(sfdc_full_export_path + current_pkl)\n",
    "# current.to_excel(sfdc_full_export_path + current_xlsx, index=False)"
   ]
  },
  {
   "cell_type": "code",
   "execution_count": 29,
   "metadata": {},
   "outputs": [
    {
     "data": {
      "text/plain": [
       "625523"
      ]
     },
     "execution_count": 29,
     "metadata": {},
     "output_type": "execute_result"
    }
   ],
   "source": [
    "current.shape[0]"
   ]
  },
  {
   "cell_type": "code",
   "execution_count": 30,
   "metadata": {},
   "outputs": [],
   "source": [
    "# current.columns"
   ]
  },
  {
   "cell_type": "markdown",
   "metadata": {},
   "source": [
    "# Combine the SFDC Deal ID Extract File with the SFDC FULL EXPORT FILE"
   ]
  },
  {
   "cell_type": "code",
   "execution_count": 31,
   "metadata": {},
   "outputs": [],
   "source": [
    "combined = pd.concat([sfdc_extract,current]).drop_duplicates(keep='first')"
   ]
  },
  {
   "cell_type": "code",
   "execution_count": 32,
   "metadata": {},
   "outputs": [],
   "source": [
    "combined = combined[['Deal ID','Service Source']]"
   ]
  },
  {
   "cell_type": "code",
   "execution_count": 33,
   "metadata": {},
   "outputs": [],
   "source": [
    "combined.drop_duplicates(keep='first', inplace=True)"
   ]
  },
  {
   "cell_type": "code",
   "execution_count": 34,
   "metadata": {},
   "outputs": [],
   "source": [
    "combined = combined.dropna()"
   ]
  },
  {
   "cell_type": "code",
   "execution_count": 35,
   "metadata": {},
   "outputs": [
    {
     "name": "stdout",
     "output_type": "stream",
     "text": [
      "<class 'pandas.core.frame.DataFrame'>\n",
      "Int64Index: 256862 entries, 0 to 625522\n",
      "Data columns (total 2 columns):\n",
      " #   Column          Non-Null Count   Dtype  \n",
      "---  ------          --------------   -----  \n",
      " 0   Deal ID         256862 non-null  float64\n",
      " 1   Service Source  256862 non-null  object \n",
      "dtypes: float64(1), object(1)\n",
      "memory usage: 5.9+ MB\n"
     ]
    }
   ],
   "source": [
    "combined.info()"
   ]
  },
  {
   "cell_type": "code",
   "execution_count": 36,
   "metadata": {},
   "outputs": [],
   "source": [
    "def convert_nan_to_int(dataframe_cell):\n",
    "        if pd.isnull(dataframe_cell):\n",
    "            return pd.NA\n",
    "        else:\n",
    "            try:\n",
    "                return int(dataframe_cell)\n",
    "            except:\n",
    "                return pd.NA"
   ]
  },
  {
   "cell_type": "code",
   "execution_count": 37,
   "metadata": {},
   "outputs": [],
   "source": [
    "combined['Deal ID'] = combined['Deal ID'].apply(lambda x: convert_nan_to_int(x))"
   ]
  },
  {
   "cell_type": "code",
   "execution_count": 38,
   "metadata": {},
   "outputs": [],
   "source": [
    "combined.to_excel(sfdc_full_export_path + combined_xlsx, index=False)"
   ]
  },
  {
   "cell_type": "code",
   "execution_count": 39,
   "metadata": {},
   "outputs": [],
   "source": [
    "combined.to_pickle(sfdc_full_export_path + combined_pkl)"
   ]
  },
  {
   "cell_type": "code",
   "execution_count": 40,
   "metadata": {},
   "outputs": [
    {
     "name": "stdout",
     "output_type": "stream",
     "text": [
      "Run time: 0:03:06.924428 minutes\n"
     ]
    }
   ],
   "source": [
    "end = dt.datetime.now()\n",
    "runtime = (end-start)\n",
    "print(f'Run time: {runtime} minutes')"
   ]
  }
 ],
 "metadata": {
  "kernelspec": {
   "display_name": "Python 3",
   "language": "python",
   "name": "python3"
  },
  "language_info": {
   "codemirror_mode": {
    "name": "ipython",
    "version": 3
   },
   "file_extension": ".py",
   "mimetype": "text/x-python",
   "name": "python",
   "nbconvert_exporter": "python",
   "pygments_lexer": "ipython3",
   "version": "3.9.5"
  }
 },
 "nbformat": 4,
 "nbformat_minor": 4
}
