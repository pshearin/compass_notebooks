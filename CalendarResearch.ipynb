{
 "cells": [
  {
   "cell_type": "code",
   "execution_count": 1,
   "id": "loved-pleasure",
   "metadata": {},
   "outputs": [],
   "source": [
    "from datetime import *\n",
    "from dateutil.relativedelta import *\n",
    "from dateutil.rrule import *\n",
    "from dateutil.parser import *\n",
    "import calendar"
   ]
  },
  {
   "cell_type": "code",
   "execution_count": 96,
   "id": "handmade-appraisal",
   "metadata": {},
   "outputs": [],
   "source": [
    "checkdate = datetime.strptime('2020-7-19', \"%Y-%m-%d\")"
   ]
  },
  {
   "cell_type": "code",
   "execution_count": 97,
   "id": "stone-greensboro",
   "metadata": {},
   "outputs": [
    {
     "data": {
      "text/plain": [
       "2020"
      ]
     },
     "execution_count": 97,
     "metadata": {},
     "output_type": "execute_result"
    }
   ],
   "source": [
    "checkdate.year"
   ]
  },
  {
   "cell_type": "code",
   "execution_count": 98,
   "id": "comfortable-march",
   "metadata": {},
   "outputs": [],
   "source": [
    "dates_to_measure = list(rrule(freq=YEARLY, count=2, dtstart=checkdate, bymonth=7, byweekday=SA(-1)))"
   ]
  },
  {
   "cell_type": "code",
   "execution_count": 99,
   "id": "worldwide-isaac",
   "metadata": {},
   "outputs": [
    {
     "data": {
      "text/plain": [
       "[datetime.datetime(2020, 7, 25, 0, 0), datetime.datetime(2021, 7, 31, 0, 0)]"
      ]
     },
     "execution_count": 99,
     "metadata": {},
     "output_type": "execute_result"
    }
   ],
   "source": [
    "dates_to_measure"
   ]
  },
  {
   "cell_type": "code",
   "execution_count": 100,
   "id": "compatible-binding",
   "metadata": {},
   "outputs": [],
   "source": [
    "d1 = dates_to_measure[0]\n",
    "d2 = dates_to_measure[1]"
   ]
  },
  {
   "cell_type": "code",
   "execution_count": 101,
   "id": "whole-least",
   "metadata": {},
   "outputs": [
    {
     "data": {
      "text/plain": [
       "2021"
      ]
     },
     "execution_count": 101,
     "metadata": {},
     "output_type": "execute_result"
    }
   ],
   "source": [
    "d2.year"
   ]
  },
  {
   "cell_type": "code",
   "execution_count": 102,
   "id": "theoretical-making",
   "metadata": {},
   "outputs": [
    {
     "data": {
      "text/plain": [
       "53.0"
      ]
     },
     "execution_count": 102,
     "metadata": {},
     "output_type": "execute_result"
    }
   ],
   "source": [
    "(dates_to_measure[1] - dates_to_measure[0]).days/7"
   ]
  },
  {
   "cell_type": "code",
   "execution_count": null,
   "id": "connected-symphony",
   "metadata": {},
   "outputs": [],
   "source": []
  },
  {
   "cell_type": "code",
   "execution_count": null,
   "id": "daily-prior",
   "metadata": {},
   "outputs": [],
   "source": []
  },
  {
   "cell_type": "code",
   "execution_count": 53,
   "id": "accurate-documentary",
   "metadata": {},
   "outputs": [
    {
     "data": {
      "text/plain": [
       "<bound method relativedelta.normalized of relativedelta(years=-1, days=-6)>"
      ]
     },
     "execution_count": 53,
     "metadata": {},
     "output_type": "execute_result"
    }
   ],
   "source": [
    "relativedelta.weeks"
   ]
  },
  {
   "cell_type": "code",
   "execution_count": null,
   "id": "defensive-poverty",
   "metadata": {},
   "outputs": [],
   "source": []
  }
 ],
 "metadata": {
  "kernelspec": {
   "display_name": "Python 3",
   "language": "python",
   "name": "python3"
  },
  "language_info": {
   "codemirror_mode": {
    "name": "ipython",
    "version": 3
   },
   "file_extension": ".py",
   "mimetype": "text/x-python",
   "name": "python",
   "nbconvert_exporter": "python",
   "pygments_lexer": "ipython3",
   "version": "3.9.1"
  }
 },
 "nbformat": 4,
 "nbformat_minor": 5
}
