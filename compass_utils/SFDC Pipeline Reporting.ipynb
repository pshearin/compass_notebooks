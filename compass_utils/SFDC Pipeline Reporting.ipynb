{
 "cells": [
  {
   "cell_type": "code",
   "execution_count": 1,
   "metadata": {},
   "outputs": [],
   "source": [
    "import numpy as np\n",
    "import pandas as pd\n",
    "import datetime as dt"
   ]
  },
  {
   "cell_type": "code",
   "execution_count": 2,
   "metadata": {},
   "outputs": [],
   "source": [
    "today = dt.datetime.now().isoformat()[:10].replace('-','')"
   ]
  },
  {
   "cell_type": "code",
   "execution_count": 3,
   "metadata": {},
   "outputs": [
    {
     "data": {
      "text/plain": [
       "'20220414'"
      ]
     },
     "execution_count": 3,
     "metadata": {},
     "output_type": "execute_result"
    }
   ],
   "source": [
    "today"
   ]
  },
  {
   "cell_type": "code",
   "execution_count": null,
   "metadata": {},
   "outputs": [],
   "source": []
  },
  {
   "cell_type": "code",
   "execution_count": 4,
   "metadata": {},
   "outputs": [],
   "source": [
    "excel_sfdc_path = r'C:\\Users\\phsheari\\Documents\\SFDC Data\\FULL EXPORT'\n",
    "\n",
    "full_export_csv = excel_sfdc_path + r'\\SFDC FULL EXPORT.csv'\n",
    "last_fiscal_year_export_CSV = excel_sfdc_path + r'\\SFDC FULL EXPORT_PFY.csv'"
   ]
  },
  {
   "cell_type": "code",
   "execution_count": null,
   "metadata": {},
   "outputs": [],
   "source": []
  },
  {
   "cell_type": "code",
   "execution_count": 5,
   "metadata": {},
   "outputs": [],
   "source": [
    "def update_qumark_account_names(account_name, account_name_english):\n",
    "    new_account_name = None\n",
    "    if (account_name.startswith('????') or account_name.startswith('*') or account_name.startswith('[') or account_name.startswith('(')) and pd.notnull(account_name_english):\n",
    "        new_account_name = account_name_english\n",
    "        return new_account_name.upper()\n",
    "    elif account_name.startswith('*'):\n",
    "        new_account_name = account_name.replace('*','')\n",
    "        return new_account_name.upper()\n",
    "    else:\n",
    "        new_account_name = account_name\n",
    "        return new_account_name.upper()"
   ]
  },
  {
   "cell_type": "code",
   "execution_count": 6,
   "metadata": {},
   "outputs": [],
   "source": [
    "#A function to stringify the various possible elements in the dataframe with a float data-type\n",
    "def stringify_element(m):\n",
    "    a = pd.NA\n",
    "    if pd.isnull(m):  # if did is null or nan\n",
    "        return pd.NA\n",
    "    elif type(m) == np.float64:\n",
    "        return str(int(m))\n",
    "    elif type(m) == float:\n",
    "        return str(int(m))\n",
    "    elif type(m) == np.int64:\n",
    "        return str(m)\n",
    "    elif type(m) == int:\n",
    "        return str(m)\n",
    "    elif type(m) == str:\n",
    "        try:\n",
    "            a = m.replace('\"','').replace('&',',').replace('(','').replace(')','').replace(':',',').replace(' ',',').replace('\\n',',').replace('\\\\n',',').replace('\\\\n\\\\r',',') .replace(',,',',').strip().split(',') \n",
    "            return a\n",
    "        except:\n",
    "            import pdb; pdb.set_trace()  \n",
    "    else:\n",
    "        return m"
   ]
  },
  {
   "cell_type": "code",
   "execution_count": 7,
   "metadata": {
    "tags": []
   },
   "outputs": [
    {
     "name": "stderr",
     "output_type": "stream",
     "text": [
      "C:\\Users\\phsheari\\.conda\\envs\\compass_env\\lib\\site-packages\\IPython\\core\\interactiveshell.py:3165: DtypeWarning: Columns (71,75) have mixed types.Specify dtype option on import or set low_memory=False.\n",
      "  has_raised = await self.run_ast_nodes(code_ast.body, cell_name,\n"
     ]
    }
   ],
   "source": [
    "sfdc = pd.read_csv(full_export_csv, \n",
    "            usecols = ['Level 01 Territory',\n",
    "                        'Level 02 Territory',\n",
    "                        'Level 03 Territory',\n",
    "                        'Level 04 Territory',\n",
    "                        'Level 05 Territory',\n",
    "                        'Level 06 Territory',\n",
    "                        'Deal ID',\n",
    "                        'Opportunity ID 18',\n",
    "                        'Opportunity Record Type',\n",
    "                        'Opportunity Name',\n",
    "                        'Opportunity Owner',\n",
    "                        'Opportunity Owner Alias',\n",
    "                        'Opportunity Owner Email',\n",
    "                        'Opportunity Owner: Title',\n",
    "#                        'Opportunity Owner: Division',\n",
    "#                        'Opportunity Owner: Department',\n",
    "                        'Opportunity Status',\n",
    "                        'Account Owner',\n",
    "                        'Account Owner Alias',\n",
    "                        'SFDC Account ID',\n",
    "                        'Account Name',\n",
    "                        'Account Name (English)',\n",
    "                        'GU ID',\n",
    "                        'HQ Party ID',\n",
    "                        'Party ID',\n",
    "#                        'CSC ID',\n",
    "#                         'Product Family ID',\n",
    "                        'Business Entity',\n",
    "#                         'Total Price Currency'\n",
    "#                         'Total Price',\n",
    "#                         'Total Price (converted) Currency',\n",
    "#                         'Total Price (converted)',\n",
    "#                         'Expected Service ($000s) (converted) Currency',\n",
    "#                         'Expected Service ($000s) (converted)',\n",
    "#                         'Opportunity Line Value ($000s) (converted) Currency',\n",
    "                        'Opportunity Line Value ($000s) (converted)',\n",
    "                        'Services',\n",
    "                        'Service Type',\n",
    "                        'Service Category',\n",
    "                        'Service Source',\n",
    "#                         'Service Start Date',\n",
    "#                         'Service End Date',\n",
    "                        'Technology & Service Name',\n",
    "#                         'Technology & Service: Month',\n",
    "#                         'Technology & Service Date',\n",
    "#                         'Technical Services (TS) %',\n",
    "#                         'Advanced Services (AS) %',\n",
    "#                         'Mix %',\n",
    "                        'Stage',\n",
    "                        'Forecast Status',\n",
    "                        'Expected Book Date',\n",
    "                        'Fiscal Week',\n",
    "                        'Fiscal Month',\n",
    "                        'Fiscal Period',\n",
    "                        'Fiscal Quarter',\n",
    "                        'Fiscal Year',\n",
    "                        'Fiscal Month of QTR',\n",
    "                        'Fiscal Week of Month',\n",
    "                        'Created Date',\n",
    "                        'Last Modified Date',\n",
    "#                         'Deals Desk Status',\n",
    "#                         'Close Probability %',\n",
    "#                         'Created By',\n",
    "#                         'Forecasting Position',\n",
    "#                         'Forecasted Attrition ($000) (converted) Currency',\n",
    "#                         'Forecasted Attrition ($000) (converted)',\n",
    "#                         'Contract Number',\n",
    "                        'Primary Partner',\n",
    "#                         'Main Technology',\n",
    "#                         'Default Position',\n",
    "#                         'Cloud Deal?',\n",
    "                        'Technologies',\n",
    "                        'Group',\n",
    "#                         'Service Level',\n",
    "                        'Lost/Cancelled Reason'\n",
    "])\n",
    "# sfdc = pd.read_csv(full_export_csv)"
   ]
  },
  {
   "cell_type": "code",
   "execution_count": 8,
   "metadata": {
    "tags": []
   },
   "outputs": [],
   "source": [
    "prior_year_sfdc = pd.read_csv(last_fiscal_year_export_CSV, \n",
    "            usecols = ['Level 01 Territory',\n",
    "                        'Level 02 Territory',\n",
    "                        'Level 03 Territory',\n",
    "                        'Level 04 Territory',\n",
    "                        'Level 05 Territory',\n",
    "                        'Level 06 Territory',\n",
    "                        'Deal ID',\n",
    "                        'Opportunity ID 18',\n",
    "                        'Opportunity Record Type',\n",
    "                        'Opportunity Name',\n",
    "                        'Opportunity Owner',\n",
    "                        'Opportunity Owner Alias',\n",
    "                        'Opportunity Owner Email',\n",
    "                        'Opportunity Owner: Title',\n",
    "#                        'Opportunity Owner: Division',\n",
    "#                        'Opportunity Owner: Department',\n",
    "                        'Opportunity Status',\n",
    "                        'Account Owner',\n",
    "                        'Account Owner Alias',\n",
    "                        'SFDC Account ID',\n",
    "                        'Account Name',\n",
    "                        'Account Name (English)',\n",
    "                        'GU ID',\n",
    "                        'HQ Party ID',\n",
    "                        'Party ID',\n",
    "#                        'CSC ID',\n",
    "#                         'Product Family ID',\n",
    "                        'Business Entity',\n",
    "#                         'Total Price Currency'\n",
    "#                         'Total Price',\n",
    "#                         'Total Price (converted) Currency',\n",
    "#                         'Total Price (converted)',\n",
    "#                         'Expected Service ($000s) (converted) Currency',\n",
    "#                         'Expected Service ($000s) (converted)',\n",
    "#                         'Opportunity Line Value ($000s) (converted) Currency',\n",
    "                        'Opportunity Line Value ($000s) (converted)',\n",
    "                        'Services',\n",
    "                        'Service Type',\n",
    "                        'Service Category',\n",
    "                        'Service Source',\n",
    "#                         'Service Start Date',\n",
    "#                         'Service End Date',\n",
    "                        'Technology & Service Name',\n",
    "#                         'Technology & Service: Month',\n",
    "#                         'Technology & Service Date',\n",
    "#                         'Technical Services (TS) %',\n",
    "#                         'Advanced Services (AS) %',\n",
    "#                         'Mix %',\n",
    "                        'Stage',\n",
    "                        'Forecast Status',\n",
    "                        'Expected Book Date',\n",
    "                        'Fiscal Week',\n",
    "                        'Fiscal Month',\n",
    "                        'Fiscal Period',\n",
    "                        'Fiscal Quarter',\n",
    "                        'Fiscal Year',\n",
    "                        'Fiscal Month of QTR',\n",
    "                        'Fiscal Week of Month',\n",
    "                        'Created Date',\n",
    "                        'Last Modified Date',\n",
    "#                         'Deals Desk Status',\n",
    "#                         'Close Probability %',\n",
    "#                         'Created By',\n",
    "#                         'Forecasting Position',\n",
    "#                         'Forecasted Attrition ($000) (converted) Currency',\n",
    "#                         'Forecasted Attrition ($000) (converted)',\n",
    "#                         'Contract Number',\n",
    "                        'Primary Partner',\n",
    "#                         'Main Technology',\n",
    "#                         'Default Position',\n",
    "#                         'Cloud Deal?',\n",
    "                        'Technologies',\n",
    "                        'Group',\n",
    "#                         'Service Level',\n",
    "                        'Lost/Cancelled Reason'\n",
    "])"
   ]
  },
  {
   "cell_type": "code",
   "execution_count": 9,
   "metadata": {},
   "outputs": [
    {
     "data": {
      "text/plain": [
       "(589729, 46)"
      ]
     },
     "execution_count": 9,
     "metadata": {},
     "output_type": "execute_result"
    }
   ],
   "source": [
    "prior_year_sfdc.shape"
   ]
  },
  {
   "cell_type": "markdown",
   "metadata": {},
   "source": [
    "### Combine the Current Year SFDC Full Export with the Future Year Full Export"
   ]
  },
  {
   "cell_type": "code",
   "execution_count": 10,
   "metadata": {},
   "outputs": [],
   "source": [
    "combined = pd.concat([sfdc,prior_year_sfdc])"
   ]
  },
  {
   "cell_type": "code",
   "execution_count": 11,
   "metadata": {},
   "outputs": [
    {
     "data": {
      "text/plain": [
       "(1329820, 46)"
      ]
     },
     "execution_count": 11,
     "metadata": {},
     "output_type": "execute_result"
    }
   ],
   "source": [
    "combined.shape"
   ]
  },
  {
   "cell_type": "markdown",
   "metadata": {},
   "source": [
    "### Remove any duplicate records in the resultant dataframe"
   ]
  },
  {
   "cell_type": "code",
   "execution_count": 12,
   "metadata": {},
   "outputs": [],
   "source": [
    "combined.drop_duplicates(inplace=True)"
   ]
  },
  {
   "cell_type": "code",
   "execution_count": 13,
   "metadata": {},
   "outputs": [
    {
     "data": {
      "text/plain": [
       "(1239006, 46)"
      ]
     },
     "execution_count": 13,
     "metadata": {},
     "output_type": "execute_result"
    }
   ],
   "source": [
    "combined.shape"
   ]
  },
  {
   "cell_type": "code",
   "execution_count": 14,
   "metadata": {
    "tags": []
   },
   "outputs": [],
   "source": [
    "def convert_nan_to_int(dataframe_cell):\n",
    "        if pd.isnull(dataframe_cell):\n",
    "            return pd.NA\n",
    "        else:\n",
    "            try:\n",
    "                return int(dataframe_cell)\n",
    "            except:\n",
    "                return pd.NA"
   ]
  },
  {
   "cell_type": "markdown",
   "metadata": {},
   "source": [
    "### Do some data formatting and prep"
   ]
  },
  {
   "cell_type": "code",
   "execution_count": 15,
   "metadata": {},
   "outputs": [],
   "source": [
    "combined['Level 01 Territory'] = combined['Level 01 Territory'].str.upper()\n",
    "combined['Level 01 Territory'] = combined['Level 01 Territory'].str.replace('__','')"
   ]
  },
  {
   "cell_type": "code",
   "execution_count": 16,
   "metadata": {},
   "outputs": [],
   "source": [
    "combined['Deal ID'] = combined['Deal ID'].apply(convert_nan_to_int).astype(str)"
   ]
  },
  {
   "cell_type": "code",
   "execution_count": 17,
   "metadata": {},
   "outputs": [],
   "source": [
    "combined['GU ID'] = combined['GU ID'].apply(convert_nan_to_int).astype(str)\n",
    "combined['HQ Party ID'] = combined['HQ Party ID'].apply(convert_nan_to_int).astype(str)\n",
    "combined['Party ID'] = combined['Party ID'].apply(convert_nan_to_int).astype(str)"
   ]
  },
  {
   "cell_type": "code",
   "execution_count": 18,
   "metadata": {},
   "outputs": [],
   "source": [
    "combined.rename(columns = {'Opportunity ID 18':'OpportunityID18',\n",
    "                       'GU ID':'GUID', \n",
    "                       'HQ Party ID':'HQPartyID',\n",
    "                       'Party ID':'PartyID',\n",
    "                       'Opportunity Line Value ($000s) (converted)': 'Opportunity Value',\n",
    "                       'Technology & Service Name':'Technology Name'\n",
    "                      }, inplace=True)"
   ]
  },
  {
   "cell_type": "markdown",
   "metadata": {},
   "source": [
    "### Create a \"Type\" Label for the SFDC transactions encountered, and filter for them"
   ]
  },
  {
   "cell_type": "code",
   "execution_count": 19,
   "metadata": {},
   "outputs": [],
   "source": [
    "combined['Type'] = pd.NA"
   ]
  },
  {
   "cell_type": "code",
   "execution_count": 20,
   "metadata": {},
   "outputs": [],
   "source": [
    "condition1 = combined['Business Entity'].isin(['AS-S'])\n",
    "condition2 = combined['Business Entity'].isin(['AS-T'])\n",
    "condition3 = ((combined['Business Entity']=='TS-S') & ((combined['Technology Name'].str.contains('SOLUTION SUPPORT SERVICES')) | (combined['Technology Name'].str.contains('SSPT'))))\n",
    "condition4 = ((combined['Business Entity']=='TS-S') & ((combined['Technology Name'].str.contains('SNTC')) | (combined['Technology Name'].str.contains('SMART NET TOTAL CARE'))))"
   ]
  },
  {
   "cell_type": "markdown",
   "metadata": {},
   "source": [
    "### Set search conditions"
   ]
  },
  {
   "cell_type": "code",
   "execution_count": 21,
   "metadata": {},
   "outputs": [],
   "source": [
    "combined.loc[condition1,'Type'] = 'AS-S'\n",
    "combined.loc[condition2,'Type'] = 'AS-T'\n",
    "combined.loc[condition3,'Type'] = 'TS-SSPT'\n",
    "combined.loc[condition4,'Type'] = 'TS-SNTC'"
   ]
  },
  {
   "cell_type": "code",
   "execution_count": 22,
   "metadata": {},
   "outputs": [],
   "source": [
    "# combined['Technology Name'].to_excel(r'C:\\Users\\phsheari\\Desktop\\TechnologyName.xlsx')"
   ]
  },
  {
   "cell_type": "code",
   "execution_count": null,
   "metadata": {},
   "outputs": [],
   "source": []
  },
  {
   "cell_type": "code",
   "execution_count": 23,
   "metadata": {},
   "outputs": [],
   "source": [
    "search1 = combined['Type'].notnull()\n",
    "search2 = ~(combined['Opportunity Status']=='Booked')\n",
    "search3 = ~(combined['Stage'].str.contains('closed', na=False, case=False))\n",
    "search4 = (combined['Fiscal Year'] >=2021)\n",
    "#search5 = (combined['Service Source']=='New')\n",
    "search6 = ~(combined['Opportunity Value']==0)"
   ]
  },
  {
   "cell_type": "code",
   "execution_count": 24,
   "metadata": {},
   "outputs": [],
   "source": [
    "new_sfdc = combined.loc[search1 & search2 & search3 & search4 & search6][['Account Name', 'Account Name (English)', 'Level 01 Territory', 'Level 02 Territory', 'Level 03 Territory', 'Level 04 Territory',\n",
    "                        'Level 05 Territory','Level 06 Territory', 'GUID', 'Deal ID', 'Opportunity Record Type', 'Opportunity Status', 'Account Owner', 'Account Owner Alias', 'Business Entity',\n",
    "                        'Services', 'Service Source', 'Technology Name', 'Stage', 'Forecast Status', 'Opportunity Name','Opportunity Value', 'Fiscal Month', 'Fiscal Period','Fiscal Quarter', 'Fiscal Year','Group',  'Type']]"
   ]
  },
  {
   "cell_type": "code",
   "execution_count": 25,
   "metadata": {},
   "outputs": [],
   "source": [
    "new_sfdc = new_sfdc.loc[new_sfdc['GUID'].notnull()] #.drop_duplicates(keep='first', inplace=True)\n",
    "new_sfdc = new_sfdc.loc[(new_sfdc['Deal ID'].notnull()) & (new_sfdc['Deal ID'] != '<NA>')]"
   ]
  },
  {
   "cell_type": "code",
   "execution_count": 26,
   "metadata": {},
   "outputs": [],
   "source": [
    "new_sfdc.drop_duplicates(keep='first', inplace=True)"
   ]
  },
  {
   "cell_type": "code",
   "execution_count": 27,
   "metadata": {},
   "outputs": [
    {
     "data": {
      "text/html": [
       "<div>\n",
       "<style scoped>\n",
       "    .dataframe tbody tr th:only-of-type {\n",
       "        vertical-align: middle;\n",
       "    }\n",
       "\n",
       "    .dataframe tbody tr th {\n",
       "        vertical-align: top;\n",
       "    }\n",
       "\n",
       "    .dataframe thead th {\n",
       "        text-align: right;\n",
       "    }\n",
       "</style>\n",
       "<table border=\"1\" class=\"dataframe\">\n",
       "  <thead>\n",
       "    <tr style=\"text-align: right;\">\n",
       "      <th></th>\n",
       "      <th>Account Name</th>\n",
       "      <th>GUID</th>\n",
       "      <th>Deal ID</th>\n",
       "      <th>Business Entity</th>\n",
       "      <th>Type</th>\n",
       "      <th>Service Source</th>\n",
       "      <th>Technology Name</th>\n",
       "      <th>Stage</th>\n",
       "      <th>Forecast Status</th>\n",
       "      <th>Opportunity Name</th>\n",
       "      <th>Opportunity Value</th>\n",
       "      <th>Fiscal Month</th>\n",
       "      <th>Fiscal Period</th>\n",
       "      <th>Fiscal Quarter</th>\n",
       "      <th>Fiscal Year</th>\n",
       "    </tr>\n",
       "  </thead>\n",
       "  <tbody>\n",
       "  </tbody>\n",
       "</table>\n",
       "</div>"
      ],
      "text/plain": [
       "Empty DataFrame\n",
       "Columns: [Account Name, GUID, Deal ID, Business Entity, Type, Service Source, Technology Name, Stage, Forecast Status, Opportunity Name, Opportunity Value, Fiscal Month, Fiscal Period, Fiscal Quarter, Fiscal Year]\n",
       "Index: []"
      ]
     },
     "execution_count": 27,
     "metadata": {},
     "output_type": "execute_result"
    }
   ],
   "source": [
    "new_sfdc.loc[new_sfdc['Account Name'].str.contains('charter comm', case=False) & (new_sfdc['Deal ID']=='43909907')][['Account Name','GUID', 'Deal ID','Business Entity','Type', 'Service Source','Technology Name','Stage', 'Forecast Status', 'Opportunity Name','Opportunity Value', 'Fiscal Month', 'Fiscal Period','Fiscal Quarter', 'Fiscal Year',]]"
   ]
  },
  {
   "cell_type": "code",
   "execution_count": 28,
   "metadata": {},
   "outputs": [
    {
     "data": {
      "text/plain": [
       "(172061, 28)"
      ]
     },
     "execution_count": 28,
     "metadata": {},
     "output_type": "execute_result"
    }
   ],
   "source": [
    "new_sfdc.shape"
   ]
  },
  {
   "cell_type": "code",
   "execution_count": 29,
   "metadata": {},
   "outputs": [
    {
     "data": {
      "text/plain": [
       "array(['2 - Qualification', '3 - Proposal', '1 - Prospect',\n",
       "       '4 - Agreement', 'Open'], dtype=object)"
      ]
     },
     "execution_count": 29,
     "metadata": {},
     "output_type": "execute_result"
    }
   ],
   "source": [
    "new_sfdc.Stage.unique()"
   ]
  },
  {
   "cell_type": "code",
   "execution_count": 30,
   "metadata": {},
   "outputs": [],
   "source": [
    "new_sfdc['Account Name'] = new_sfdc['Account Name'].str.upper()\n",
    "new_sfdc['Account Name (English)'] = new_sfdc['Account Name (English)'].str.upper()"
   ]
  },
  {
   "cell_type": "code",
   "execution_count": 31,
   "metadata": {},
   "outputs": [],
   "source": [
    "bydealid = pd.DataFrame(new_sfdc.groupby(['Deal ID','Type','Opportunity Name','Stage'])['Opportunity Value'].sum())"
   ]
  },
  {
   "cell_type": "code",
   "execution_count": 32,
   "metadata": {},
   "outputs": [],
   "source": [
    "bydealid.reset_index(inplace=True)"
   ]
  },
  {
   "cell_type": "code",
   "execution_count": 33,
   "metadata": {},
   "outputs": [],
   "source": [
    "bydealid.sort_values(by=['Deal ID','Type','Opportunity Name','Stage'], inplace=True)"
   ]
  },
  {
   "cell_type": "code",
   "execution_count": 34,
   "metadata": {},
   "outputs": [
    {
     "data": {
      "text/html": [
       "<div>\n",
       "<style scoped>\n",
       "    .dataframe tbody tr th:only-of-type {\n",
       "        vertical-align: middle;\n",
       "    }\n",
       "\n",
       "    .dataframe tbody tr th {\n",
       "        vertical-align: top;\n",
       "    }\n",
       "\n",
       "    .dataframe thead th {\n",
       "        text-align: right;\n",
       "    }\n",
       "</style>\n",
       "<table border=\"1\" class=\"dataframe\">\n",
       "  <thead>\n",
       "    <tr style=\"text-align: right;\">\n",
       "      <th></th>\n",
       "      <th>Deal ID</th>\n",
       "      <th>Type</th>\n",
       "      <th>Opportunity Name</th>\n",
       "      <th>Stage</th>\n",
       "      <th>Opportunity Value</th>\n",
       "    </tr>\n",
       "  </thead>\n",
       "  <tbody>\n",
       "  </tbody>\n",
       "</table>\n",
       "</div>"
      ],
      "text/plain": [
       "Empty DataFrame\n",
       "Columns: [Deal ID, Type, Opportunity Name, Stage, Opportunity Value]\n",
       "Index: []"
      ]
     },
     "execution_count": 34,
     "metadata": {},
     "output_type": "execute_result"
    }
   ],
   "source": [
    "bydealid.loc[bydealid['Deal ID']=='43909907']"
   ]
  },
  {
   "cell_type": "markdown",
   "metadata": {},
   "source": [
    "### Remove duplicate deals where there's more than one Stage by selecting the highest stage for a given deal ID "
   ]
  },
  {
   "cell_type": "code",
   "execution_count": 35,
   "metadata": {},
   "outputs": [],
   "source": [
    "deduped = pd.DataFrame(bydealid.groupby(['Deal ID'])['Stage'].max())"
   ]
  },
  {
   "cell_type": "code",
   "execution_count": 36,
   "metadata": {},
   "outputs": [],
   "source": [
    "deduped.reset_index(inplace=True)"
   ]
  },
  {
   "cell_type": "code",
   "execution_count": 37,
   "metadata": {},
   "outputs": [
    {
     "data": {
      "text/html": [
       "<div>\n",
       "<style scoped>\n",
       "    .dataframe tbody tr th:only-of-type {\n",
       "        vertical-align: middle;\n",
       "    }\n",
       "\n",
       "    .dataframe tbody tr th {\n",
       "        vertical-align: top;\n",
       "    }\n",
       "\n",
       "    .dataframe thead th {\n",
       "        text-align: right;\n",
       "    }\n",
       "</style>\n",
       "<table border=\"1\" class=\"dataframe\">\n",
       "  <thead>\n",
       "    <tr style=\"text-align: right;\">\n",
       "      <th></th>\n",
       "      <th>Deal ID</th>\n",
       "      <th>Stage</th>\n",
       "    </tr>\n",
       "  </thead>\n",
       "  <tbody>\n",
       "  </tbody>\n",
       "</table>\n",
       "</div>"
      ],
      "text/plain": [
       "Empty DataFrame\n",
       "Columns: [Deal ID, Stage]\n",
       "Index: []"
      ]
     },
     "execution_count": 37,
     "metadata": {},
     "output_type": "execute_result"
    }
   ],
   "source": [
    "deduped.loc[deduped['Deal ID']=='43909907']"
   ]
  },
  {
   "cell_type": "code",
   "execution_count": 38,
   "metadata": {},
   "outputs": [
    {
     "data": {
      "text/html": [
       "<div>\n",
       "<style scoped>\n",
       "    .dataframe tbody tr th:only-of-type {\n",
       "        vertical-align: middle;\n",
       "    }\n",
       "\n",
       "    .dataframe tbody tr th {\n",
       "        vertical-align: top;\n",
       "    }\n",
       "\n",
       "    .dataframe thead th {\n",
       "        text-align: right;\n",
       "    }\n",
       "</style>\n",
       "<table border=\"1\" class=\"dataframe\">\n",
       "  <thead>\n",
       "    <tr style=\"text-align: right;\">\n",
       "      <th></th>\n",
       "      <th>Deal ID</th>\n",
       "      <th>Stage</th>\n",
       "    </tr>\n",
       "  </thead>\n",
       "  <tbody>\n",
       "    <tr>\n",
       "      <th>0</th>\n",
       "      <td>10234665</td>\n",
       "      <td>4 - Agreement</td>\n",
       "    </tr>\n",
       "    <tr>\n",
       "      <th>1</th>\n",
       "      <td>10797908</td>\n",
       "      <td>4 - Agreement</td>\n",
       "    </tr>\n",
       "    <tr>\n",
       "      <th>2</th>\n",
       "      <td>11073595</td>\n",
       "      <td>2 - Qualification</td>\n",
       "    </tr>\n",
       "    <tr>\n",
       "      <th>3</th>\n",
       "      <td>11106635</td>\n",
       "      <td>4 - Agreement</td>\n",
       "    </tr>\n",
       "    <tr>\n",
       "      <th>4</th>\n",
       "      <td>11230343</td>\n",
       "      <td>3 - Proposal</td>\n",
       "    </tr>\n",
       "    <tr>\n",
       "      <th>...</th>\n",
       "      <td>...</td>\n",
       "      <td>...</td>\n",
       "    </tr>\n",
       "    <tr>\n",
       "      <th>111331</th>\n",
       "      <td>9428983</td>\n",
       "      <td>4 - Agreement</td>\n",
       "    </tr>\n",
       "    <tr>\n",
       "      <th>111332</th>\n",
       "      <td>9610732</td>\n",
       "      <td>3 - Proposal</td>\n",
       "    </tr>\n",
       "    <tr>\n",
       "      <th>111333</th>\n",
       "      <td>9771581</td>\n",
       "      <td>4 - Agreement</td>\n",
       "    </tr>\n",
       "    <tr>\n",
       "      <th>111334</th>\n",
       "      <td>9835196</td>\n",
       "      <td>3 - Proposal</td>\n",
       "    </tr>\n",
       "    <tr>\n",
       "      <th>111335</th>\n",
       "      <td>9870227</td>\n",
       "      <td>2 - Qualification</td>\n",
       "    </tr>\n",
       "  </tbody>\n",
       "</table>\n",
       "<p>111336 rows × 2 columns</p>\n",
       "</div>"
      ],
      "text/plain": [
       "         Deal ID              Stage\n",
       "0       10234665      4 - Agreement\n",
       "1       10797908      4 - Agreement\n",
       "2       11073595  2 - Qualification\n",
       "3       11106635      4 - Agreement\n",
       "4       11230343       3 - Proposal\n",
       "...          ...                ...\n",
       "111331   9428983      4 - Agreement\n",
       "111332   9610732       3 - Proposal\n",
       "111333   9771581      4 - Agreement\n",
       "111334   9835196       3 - Proposal\n",
       "111335   9870227  2 - Qualification\n",
       "\n",
       "[111336 rows x 2 columns]"
      ]
     },
     "execution_count": 38,
     "metadata": {},
     "output_type": "execute_result"
    }
   ],
   "source": [
    "deduped"
   ]
  },
  {
   "cell_type": "code",
   "execution_count": 39,
   "metadata": {},
   "outputs": [],
   "source": [
    "new_sfdc = pd.merge(new_sfdc,deduped, how='inner', on=['Deal ID','Stage'])"
   ]
  },
  {
   "cell_type": "code",
   "execution_count": 40,
   "metadata": {},
   "outputs": [
    {
     "data": {
      "text/html": [
       "<div>\n",
       "<style scoped>\n",
       "    .dataframe tbody tr th:only-of-type {\n",
       "        vertical-align: middle;\n",
       "    }\n",
       "\n",
       "    .dataframe tbody tr th {\n",
       "        vertical-align: top;\n",
       "    }\n",
       "\n",
       "    .dataframe thead th {\n",
       "        text-align: right;\n",
       "    }\n",
       "</style>\n",
       "<table border=\"1\" class=\"dataframe\">\n",
       "  <thead>\n",
       "    <tr style=\"text-align: right;\">\n",
       "      <th></th>\n",
       "      <th>Account Name</th>\n",
       "      <th>Account Name (English)</th>\n",
       "      <th>Level 01 Territory</th>\n",
       "      <th>Level 02 Territory</th>\n",
       "      <th>Level 03 Territory</th>\n",
       "      <th>Level 04 Territory</th>\n",
       "      <th>Level 05 Territory</th>\n",
       "      <th>Level 06 Territory</th>\n",
       "      <th>GUID</th>\n",
       "      <th>Deal ID</th>\n",
       "      <th>...</th>\n",
       "      <th>Stage</th>\n",
       "      <th>Forecast Status</th>\n",
       "      <th>Opportunity Name</th>\n",
       "      <th>Opportunity Value</th>\n",
       "      <th>Fiscal Month</th>\n",
       "      <th>Fiscal Period</th>\n",
       "      <th>Fiscal Quarter</th>\n",
       "      <th>Fiscal Year</th>\n",
       "      <th>Group</th>\n",
       "      <th>Type</th>\n",
       "    </tr>\n",
       "  </thead>\n",
       "  <tbody>\n",
       "  </tbody>\n",
       "</table>\n",
       "<p>0 rows × 28 columns</p>\n",
       "</div>"
      ],
      "text/plain": [
       "Empty DataFrame\n",
       "Columns: [Account Name, Account Name (English), Level 01 Territory, Level 02 Territory, Level 03 Territory, Level 04 Territory, Level 05 Territory, Level 06 Territory, GUID, Deal ID, Opportunity Record Type, Opportunity Status, Account Owner, Account Owner Alias, Business Entity, Services, Service Source, Technology Name, Stage, Forecast Status, Opportunity Name, Opportunity Value, Fiscal Month, Fiscal Period, Fiscal Quarter, Fiscal Year, Group, Type]\n",
       "Index: []\n",
       "\n",
       "[0 rows x 28 columns]"
      ]
     },
     "execution_count": 40,
     "metadata": {},
     "output_type": "execute_result"
    }
   ],
   "source": [
    "new_sfdc.loc[new_sfdc['Account Name'].str.contains('charter comm', case=False) & (new_sfdc['Deal ID']=='43909907')]\n",
    "# new_sfdc.loc[new_sfdc['Deal ID']==17848096]"
   ]
  },
  {
   "cell_type": "code",
   "execution_count": null,
   "metadata": {},
   "outputs": [],
   "source": []
  },
  {
   "cell_type": "code",
   "execution_count": 41,
   "metadata": {},
   "outputs": [],
   "source": [
    "tracker_path = r'C:\\Users\\phsheari\\Documents\\SFDC Data\\PIPELINE UPDATE\\SFDC_Trackerfile.pkl'\n",
    "trkr = pd.read_pickle(tracker_path)"
   ]
  },
  {
   "cell_type": "code",
   "execution_count": 42,
   "metadata": {},
   "outputs": [],
   "source": [
    "trkr = trkr.loc[~trkr['Deal ID'].isnull()]"
   ]
  },
  {
   "cell_type": "code",
   "execution_count": 43,
   "metadata": {},
   "outputs": [
    {
     "data": {
      "text/html": [
       "<div>\n",
       "<style scoped>\n",
       "    .dataframe tbody tr th:only-of-type {\n",
       "        vertical-align: middle;\n",
       "    }\n",
       "\n",
       "    .dataframe tbody tr th {\n",
       "        vertical-align: top;\n",
       "    }\n",
       "\n",
       "    .dataframe thead th {\n",
       "        text-align: right;\n",
       "    }\n",
       "</style>\n",
       "<table border=\"1\" class=\"dataframe\">\n",
       "  <thead>\n",
       "    <tr style=\"text-align: right;\">\n",
       "      <th></th>\n",
       "      <th>Request ID</th>\n",
       "      <th>Create Date</th>\n",
       "      <th>Created By</th>\n",
       "      <th>Request Type</th>\n",
       "      <th>Modified</th>\n",
       "      <th>Modified By</th>\n",
       "      <th>Date Completed</th>\n",
       "      <th>LAST_UPDATED</th>\n",
       "      <th>QA Approve</th>\n",
       "      <th>REVIEW_REQUIRED_FLAG</th>\n",
       "      <th>...</th>\n",
       "      <th>RRT_LPM+</th>\n",
       "      <th>LPM_OFFERS</th>\n",
       "      <th>Method</th>\n",
       "      <th>Measure Group</th>\n",
       "      <th>Offer Focus</th>\n",
       "      <th>Value Type</th>\n",
       "      <th>Report FY</th>\n",
       "      <th>Report FQ</th>\n",
       "      <th>Injection Month</th>\n",
       "      <th>Injection Quarter</th>\n",
       "    </tr>\n",
       "  </thead>\n",
       "  <tbody>\n",
       "    <tr>\n",
       "      <th>13172</th>\n",
       "      <td>3387</td>\n",
       "      <td>2020-04-02</td>\n",
       "      <td>vikantha@cisco.com</td>\n",
       "      <td>NaN</td>\n",
       "      <td>2021-06-25</td>\n",
       "      <td>phsheari@cisco.com</td>\n",
       "      <td>2020-04-20</td>\n",
       "      <td>2022-04-13 11:01 AM Eastern</td>\n",
       "      <td>True</td>\n",
       "      <td>True</td>\n",
       "      <td>...</td>\n",
       "      <td>0</td>\n",
       "      <td>0</td>\n",
       "      <td>FIELD</td>\n",
       "      <td>Operations</td>\n",
       "      <td>ANY</td>\n",
       "      <td>Actual</td>\n",
       "      <td>2020</td>\n",
       "      <td>Q3</td>\n",
       "      <td>202009</td>\n",
       "      <td>2020-Q3</td>\n",
       "    </tr>\n",
       "    <tr>\n",
       "      <th>17334</th>\n",
       "      <td>7856</td>\n",
       "      <td>2020-07-30</td>\n",
       "      <td>vikantha@cisco.com</td>\n",
       "      <td>NaN</td>\n",
       "      <td>2021-02-05</td>\n",
       "      <td>phsheari@cisco.com</td>\n",
       "      <td>NaT</td>\n",
       "      <td>2022-04-13 11:01 AM Eastern</td>\n",
       "      <td>True</td>\n",
       "      <td>True</td>\n",
       "      <td>...</td>\n",
       "      <td>0</td>\n",
       "      <td>0</td>\n",
       "      <td>None</td>\n",
       "      <td>Operations</td>\n",
       "      <td>None</td>\n",
       "      <td>Actual</td>\n",
       "      <td>2021</td>\n",
       "      <td>Q1</td>\n",
       "      <td>202101</td>\n",
       "      <td>2021-Q1</td>\n",
       "    </tr>\n",
       "    <tr>\n",
       "      <th>27445</th>\n",
       "      <td>17296</td>\n",
       "      <td>2021-04-20</td>\n",
       "      <td>vikantha@cisco.com</td>\n",
       "      <td>NaN</td>\n",
       "      <td>2021-07-17</td>\n",
       "      <td>phsheari@cisco.com</td>\n",
       "      <td>2021-04-21</td>\n",
       "      <td>2022-04-13 11:01 AM Eastern</td>\n",
       "      <td>True</td>\n",
       "      <td>True</td>\n",
       "      <td>...</td>\n",
       "      <td>0</td>\n",
       "      <td>0</td>\n",
       "      <td>FIELD</td>\n",
       "      <td>Operations</td>\n",
       "      <td>ANY</td>\n",
       "      <td>Actual</td>\n",
       "      <td>2021</td>\n",
       "      <td>Q3</td>\n",
       "      <td>202109</td>\n",
       "      <td>2021-Q3</td>\n",
       "    </tr>\n",
       "  </tbody>\n",
       "</table>\n",
       "<p>3 rows × 181 columns</p>\n",
       "</div>"
      ],
      "text/plain": [
       "      Request ID Create Date          Created By Request Type   Modified  \\\n",
       "13172       3387  2020-04-02  vikantha@cisco.com          NaN 2021-06-25   \n",
       "17334       7856  2020-07-30  vikantha@cisco.com          NaN 2021-02-05   \n",
       "27445      17296  2021-04-20  vikantha@cisco.com          NaN 2021-07-17   \n",
       "\n",
       "              Modified By Date Completed                 LAST_UPDATED  \\\n",
       "13172  phsheari@cisco.com     2020-04-20  2022-04-13 11:01 AM Eastern   \n",
       "17334  phsheari@cisco.com            NaT  2022-04-13 11:01 AM Eastern   \n",
       "27445  phsheari@cisco.com     2021-04-21  2022-04-13 11:01 AM Eastern   \n",
       "\n",
       "      QA Approve REVIEW_REQUIRED_FLAG  ... RRT_LPM+  LPM_OFFERS Method  \\\n",
       "13172       True                 True  ...        0           0  FIELD   \n",
       "17334       True                 True  ...        0           0   None   \n",
       "27445       True                 True  ...        0           0  FIELD   \n",
       "\n",
       "      Measure Group Offer Focus Value Type Report FY Report FQ  \\\n",
       "13172    Operations         ANY     Actual      2020        Q3   \n",
       "17334    Operations        None     Actual      2021        Q1   \n",
       "27445    Operations         ANY     Actual      2021        Q3   \n",
       "\n",
       "      Injection Month Injection Quarter  \n",
       "13172          202009           2020-Q3  \n",
       "17334          202101           2021-Q1  \n",
       "27445          202109           2021-Q3  \n",
       "\n",
       "[3 rows x 181 columns]"
      ]
     },
     "execution_count": 43,
     "metadata": {},
     "output_type": "execute_result"
    }
   ],
   "source": [
    "trkr.loc[trkr['GUID']=='3958057']"
   ]
  },
  {
   "cell_type": "code",
   "execution_count": 44,
   "metadata": {},
   "outputs": [],
   "source": [
    "gdf = trkr[['Request ID','GUID']]\n",
    "campaigns = trkr[['Request ID','Campaign Type','Campaign','is_Targeting_Campaign']]"
   ]
  },
  {
   "cell_type": "code",
   "execution_count": 45,
   "metadata": {},
   "outputs": [
    {
     "name": "stderr",
     "output_type": "stream",
     "text": [
      "C:\\Users\\phsheari\\.conda\\envs\\compass_env\\lib\\site-packages\\pandas\\core\\indexing.py:1843: SettingWithCopyWarning: \n",
      "A value is trying to be set on a copy of a slice from a DataFrame.\n",
      "Try using .loc[row_indexer,col_indexer] = value instead\n",
      "\n",
      "See the caveats in the documentation: https://pandas.pydata.org/pandas-docs/stable/user_guide/indexing.html#returning-a-view-versus-a-copy\n",
      "  self.obj[item_labels[indexer[info_axis]]] = value\n"
     ]
    }
   ],
   "source": [
    "gdf.loc[:,'GUID'] = gdf['GUID'].apply(stringify_element)"
   ]
  },
  {
   "cell_type": "code",
   "execution_count": 46,
   "metadata": {},
   "outputs": [],
   "source": [
    "gdf = gdf.explode('GUID')"
   ]
  },
  {
   "cell_type": "code",
   "execution_count": 47,
   "metadata": {},
   "outputs": [],
   "source": [
    "gdf.dropna(inplace=True)"
   ]
  },
  {
   "cell_type": "code",
   "execution_count": 48,
   "metadata": {},
   "outputs": [
    {
     "data": {
      "text/plain": [
       "(33950, 2)"
      ]
     },
     "execution_count": 48,
     "metadata": {},
     "output_type": "execute_result"
    }
   ],
   "source": [
    "gdf.shape"
   ]
  },
  {
   "cell_type": "markdown",
   "metadata": {},
   "source": [
    "#### Remove bad GUIDs"
   ]
  },
  {
   "cell_type": "code",
   "execution_count": 49,
   "metadata": {},
   "outputs": [],
   "source": [
    "gdf['BADLENGTH'] = gdf['GUID'].apply(lambda x: len(x) > 10)"
   ]
  },
  {
   "cell_type": "code",
   "execution_count": 50,
   "metadata": {},
   "outputs": [],
   "source": [
    "gdf['BADGUID'] = ~gdf['GUID'].str.isdigit()"
   ]
  },
  {
   "cell_type": "code",
   "execution_count": 51,
   "metadata": {},
   "outputs": [],
   "source": [
    "gdf = gdf.drop(gdf.loc[(gdf['BADGUID']==True) | (gdf['BADLENGTH']==True)].index)"
   ]
  },
  {
   "cell_type": "code",
   "execution_count": 52,
   "metadata": {},
   "outputs": [],
   "source": [
    "gdf.drop(columns=['BADGUID','BADLENGTH'], inplace=True)"
   ]
  },
  {
   "cell_type": "code",
   "execution_count": 53,
   "metadata": {},
   "outputs": [],
   "source": [
    "gdf['GUID'] = gdf['GUID'].astype(int).astype(pd.Int64Dtype()).astype(str)"
   ]
  },
  {
   "cell_type": "code",
   "execution_count": 54,
   "metadata": {},
   "outputs": [],
   "source": [
    "gdf.sort_values(by=['Request ID','GUID'], inplace=True)"
   ]
  },
  {
   "cell_type": "code",
   "execution_count": 55,
   "metadata": {},
   "outputs": [],
   "source": [
    "### Update THIS\n",
    "\n",
    "reqs_dealids = pd.read_pickle(r'C:\\Users\\phsheari\\Documents\\SFDC Data\\DealIDs_RequestIDs.pkl')"
   ]
  },
  {
   "cell_type": "code",
   "execution_count": 56,
   "metadata": {},
   "outputs": [],
   "source": [
    "reqs_dealids.drop_duplicates(keep='first', inplace=True)"
   ]
  },
  {
   "cell_type": "code",
   "execution_count": 57,
   "metadata": {},
   "outputs": [
    {
     "data": {
      "text/html": [
       "<div>\n",
       "<style scoped>\n",
       "    .dataframe tbody tr th:only-of-type {\n",
       "        vertical-align: middle;\n",
       "    }\n",
       "\n",
       "    .dataframe tbody tr th {\n",
       "        vertical-align: top;\n",
       "    }\n",
       "\n",
       "    .dataframe thead th {\n",
       "        text-align: right;\n",
       "    }\n",
       "</style>\n",
       "<table border=\"1\" class=\"dataframe\">\n",
       "  <thead>\n",
       "    <tr style=\"text-align: right;\">\n",
       "      <th></th>\n",
       "      <th>Request ID</th>\n",
       "      <th>Deal ID</th>\n",
       "    </tr>\n",
       "  </thead>\n",
       "  <tbody>\n",
       "    <tr>\n",
       "      <th>15418</th>\n",
       "      <td>17296</td>\n",
       "      <td>43909907</td>\n",
       "    </tr>\n",
       "  </tbody>\n",
       "</table>\n",
       "</div>"
      ],
      "text/plain": [
       "      Request ID   Deal ID\n",
       "15418      17296  43909907"
      ]
     },
     "execution_count": 57,
     "metadata": {},
     "output_type": "execute_result"
    }
   ],
   "source": [
    "reqs_dealids.loc[reqs_dealids['Deal ID']=='43909907']"
   ]
  },
  {
   "cell_type": "code",
   "execution_count": 58,
   "metadata": {},
   "outputs": [],
   "source": [
    "gdf = gdf.merge(reqs_dealids, how='left', on='Request ID').dropna()"
   ]
  },
  {
   "cell_type": "code",
   "execution_count": 59,
   "metadata": {},
   "outputs": [
    {
     "data": {
      "text/html": [
       "<div>\n",
       "<style scoped>\n",
       "    .dataframe tbody tr th:only-of-type {\n",
       "        vertical-align: middle;\n",
       "    }\n",
       "\n",
       "    .dataframe tbody tr th {\n",
       "        vertical-align: top;\n",
       "    }\n",
       "\n",
       "    .dataframe thead th {\n",
       "        text-align: right;\n",
       "    }\n",
       "</style>\n",
       "<table border=\"1\" class=\"dataframe\">\n",
       "  <thead>\n",
       "    <tr style=\"text-align: right;\">\n",
       "      <th></th>\n",
       "      <th>Request ID</th>\n",
       "      <th>GUID</th>\n",
       "      <th>Deal ID</th>\n",
       "    </tr>\n",
       "  </thead>\n",
       "  <tbody>\n",
       "    <tr>\n",
       "      <th>15265</th>\n",
       "      <td>17296</td>\n",
       "      <td>3958057</td>\n",
       "      <td>43909907</td>\n",
       "    </tr>\n",
       "  </tbody>\n",
       "</table>\n",
       "</div>"
      ],
      "text/plain": [
       "      Request ID     GUID   Deal ID\n",
       "15265      17296  3958057  43909907"
      ]
     },
     "execution_count": 59,
     "metadata": {},
     "output_type": "execute_result"
    }
   ],
   "source": [
    "gdf.loc[gdf['Deal ID']=='43909907']"
   ]
  },
  {
   "cell_type": "code",
   "execution_count": 60,
   "metadata": {},
   "outputs": [],
   "source": [
    "gdf['Dupechk'] = gdf.duplicated(['Request ID','Deal ID'], keep='first')"
   ]
  },
  {
   "cell_type": "code",
   "execution_count": 61,
   "metadata": {},
   "outputs": [],
   "source": [
    "gdf = gdf.loc[gdf['Dupechk']==False]"
   ]
  },
  {
   "cell_type": "code",
   "execution_count": 62,
   "metadata": {},
   "outputs": [],
   "source": [
    "gdf.drop(columns='Dupechk', inplace=True)"
   ]
  },
  {
   "cell_type": "code",
   "execution_count": 63,
   "metadata": {},
   "outputs": [],
   "source": [
    "gdf.sort_values(by=['Deal ID','Request ID'], ascending=['True','False'], inplace=True)"
   ]
  },
  {
   "cell_type": "code",
   "execution_count": 64,
   "metadata": {},
   "outputs": [],
   "source": [
    "gdf['DealDupe'] = gdf.duplicated('Deal ID', keep='last')"
   ]
  },
  {
   "cell_type": "code",
   "execution_count": 65,
   "metadata": {},
   "outputs": [],
   "source": [
    "gdf = gdf.loc[gdf['DealDupe']==False]"
   ]
  },
  {
   "cell_type": "code",
   "execution_count": 66,
   "metadata": {},
   "outputs": [],
   "source": [
    "gdf.drop(columns='DealDupe', inplace=True)"
   ]
  },
  {
   "cell_type": "code",
   "execution_count": 67,
   "metadata": {},
   "outputs": [
    {
     "data": {
      "text/html": [
       "<div>\n",
       "<style scoped>\n",
       "    .dataframe tbody tr th:only-of-type {\n",
       "        vertical-align: middle;\n",
       "    }\n",
       "\n",
       "    .dataframe tbody tr th {\n",
       "        vertical-align: top;\n",
       "    }\n",
       "\n",
       "    .dataframe thead th {\n",
       "        text-align: right;\n",
       "    }\n",
       "</style>\n",
       "<table border=\"1\" class=\"dataframe\">\n",
       "  <thead>\n",
       "    <tr style=\"text-align: right;\">\n",
       "      <th></th>\n",
       "      <th>Request ID</th>\n",
       "      <th>GUID</th>\n",
       "      <th>Deal ID</th>\n",
       "    </tr>\n",
       "  </thead>\n",
       "  <tbody>\n",
       "    <tr>\n",
       "      <th>15265</th>\n",
       "      <td>17296</td>\n",
       "      <td>3958057</td>\n",
       "      <td>43909907</td>\n",
       "    </tr>\n",
       "  </tbody>\n",
       "</table>\n",
       "</div>"
      ],
      "text/plain": [
       "      Request ID     GUID   Deal ID\n",
       "15265      17296  3958057  43909907"
      ]
     },
     "execution_count": 67,
     "metadata": {},
     "output_type": "execute_result"
    }
   ],
   "source": [
    "gdf.loc[gdf['Deal ID']=='43909907']"
   ]
  },
  {
   "cell_type": "code",
   "execution_count": 68,
   "metadata": {},
   "outputs": [
    {
     "data": {
      "text/html": [
       "<div>\n",
       "<style scoped>\n",
       "    .dataframe tbody tr th:only-of-type {\n",
       "        vertical-align: middle;\n",
       "    }\n",
       "\n",
       "    .dataframe tbody tr th {\n",
       "        vertical-align: top;\n",
       "    }\n",
       "\n",
       "    .dataframe thead th {\n",
       "        text-align: right;\n",
       "    }\n",
       "</style>\n",
       "<table border=\"1\" class=\"dataframe\">\n",
       "  <thead>\n",
       "    <tr style=\"text-align: right;\">\n",
       "      <th></th>\n",
       "      <th>Request ID</th>\n",
       "      <th>Create Date</th>\n",
       "      <th>Created By</th>\n",
       "      <th>Request Type</th>\n",
       "      <th>Modified</th>\n",
       "      <th>Modified By</th>\n",
       "      <th>Date Completed</th>\n",
       "      <th>LAST_UPDATED</th>\n",
       "      <th>QA Approve</th>\n",
       "      <th>REVIEW_REQUIRED_FLAG</th>\n",
       "      <th>...</th>\n",
       "      <th>RRT_LPM+</th>\n",
       "      <th>LPM_OFFERS</th>\n",
       "      <th>Method</th>\n",
       "      <th>Measure Group</th>\n",
       "      <th>Offer Focus</th>\n",
       "      <th>Value Type</th>\n",
       "      <th>Report FY</th>\n",
       "      <th>Report FQ</th>\n",
       "      <th>Injection Month</th>\n",
       "      <th>Injection Quarter</th>\n",
       "    </tr>\n",
       "  </thead>\n",
       "  <tbody>\n",
       "    <tr>\n",
       "      <th>449</th>\n",
       "      <td>116418</td>\n",
       "      <td>2022-03-30</td>\n",
       "      <td>jedelega@cisco.com</td>\n",
       "      <td>Reactive</td>\n",
       "      <td>2022-04-12</td>\n",
       "      <td>stedward@cisco.com</td>\n",
       "      <td>2022-04-05</td>\n",
       "      <td>2022-04-13 11:01 AM Eastern</td>\n",
       "      <td>False</td>\n",
       "      <td>False</td>\n",
       "      <td>...</td>\n",
       "      <td>0</td>\n",
       "      <td>0</td>\n",
       "      <td>M1 (Coverage Program)</td>\n",
       "      <td>Operations</td>\n",
       "      <td>ANY</td>\n",
       "      <td>Actual</td>\n",
       "      <td>2022</td>\n",
       "      <td>Q3</td>\n",
       "      <td>202209</td>\n",
       "      <td>2022-Q3</td>\n",
       "    </tr>\n",
       "    <tr>\n",
       "      <th>458</th>\n",
       "      <td>114641</td>\n",
       "      <td>2022-03-04</td>\n",
       "      <td>vikantha@cisco.com</td>\n",
       "      <td>Targeting Campaign</td>\n",
       "      <td>2022-04-12</td>\n",
       "      <td>macoup@cisco.com</td>\n",
       "      <td>2022-03-10</td>\n",
       "      <td>2022-04-13 11:01 AM Eastern</td>\n",
       "      <td>False</td>\n",
       "      <td>False</td>\n",
       "      <td>...</td>\n",
       "      <td>0</td>\n",
       "      <td>0</td>\n",
       "      <td>M1 (Coverage Program)</td>\n",
       "      <td>Operations</td>\n",
       "      <td>SNTC</td>\n",
       "      <td>Actual</td>\n",
       "      <td>2022</td>\n",
       "      <td>Q3</td>\n",
       "      <td>202208</td>\n",
       "      <td>2022-Q3</td>\n",
       "    </tr>\n",
       "    <tr>\n",
       "      <th>459</th>\n",
       "      <td>115192</td>\n",
       "      <td>2022-03-04</td>\n",
       "      <td>vikantha@cisco.com</td>\n",
       "      <td>Targeting Campaign</td>\n",
       "      <td>2022-04-07</td>\n",
       "      <td>gnunessr@cisco.com</td>\n",
       "      <td>2022-03-10</td>\n",
       "      <td>2022-04-13 11:01 AM Eastern</td>\n",
       "      <td>False</td>\n",
       "      <td>False</td>\n",
       "      <td>...</td>\n",
       "      <td>0</td>\n",
       "      <td>1</td>\n",
       "      <td>M1 (Coverage Program)</td>\n",
       "      <td>Operations</td>\n",
       "      <td>SNTC</td>\n",
       "      <td>Actual</td>\n",
       "      <td>2022</td>\n",
       "      <td>Q3</td>\n",
       "      <td>202208</td>\n",
       "      <td>2022-Q3</td>\n",
       "    </tr>\n",
       "    <tr>\n",
       "      <th>460</th>\n",
       "      <td>115177</td>\n",
       "      <td>2022-03-04</td>\n",
       "      <td>vikantha@cisco.com</td>\n",
       "      <td>Targeting Campaign</td>\n",
       "      <td>2022-04-01</td>\n",
       "      <td>gnunessr@cisco.com</td>\n",
       "      <td>2022-03-10</td>\n",
       "      <td>2022-04-13 11:01 AM Eastern</td>\n",
       "      <td>False</td>\n",
       "      <td>False</td>\n",
       "      <td>...</td>\n",
       "      <td>0</td>\n",
       "      <td>0</td>\n",
       "      <td>M1 (Coverage Program)</td>\n",
       "      <td>Operations</td>\n",
       "      <td>SNTC</td>\n",
       "      <td>Actual</td>\n",
       "      <td>2022</td>\n",
       "      <td>Q3</td>\n",
       "      <td>202208</td>\n",
       "      <td>2022-Q3</td>\n",
       "    </tr>\n",
       "    <tr>\n",
       "      <th>461</th>\n",
       "      <td>115168</td>\n",
       "      <td>2022-03-04</td>\n",
       "      <td>vikantha@cisco.com</td>\n",
       "      <td>Targeting Campaign</td>\n",
       "      <td>2022-04-07</td>\n",
       "      <td>gnunessr@cisco.com</td>\n",
       "      <td>2022-03-10</td>\n",
       "      <td>2022-04-13 11:01 AM Eastern</td>\n",
       "      <td>False</td>\n",
       "      <td>False</td>\n",
       "      <td>...</td>\n",
       "      <td>0</td>\n",
       "      <td>0</td>\n",
       "      <td>M1 (Coverage Program)</td>\n",
       "      <td>Operations</td>\n",
       "      <td>SNTC</td>\n",
       "      <td>Actual</td>\n",
       "      <td>2022</td>\n",
       "      <td>Q3</td>\n",
       "      <td>202208</td>\n",
       "      <td>2022-Q3</td>\n",
       "    </tr>\n",
       "    <tr>\n",
       "      <th>...</th>\n",
       "      <td>...</td>\n",
       "      <td>...</td>\n",
       "      <td>...</td>\n",
       "      <td>...</td>\n",
       "      <td>...</td>\n",
       "      <td>...</td>\n",
       "      <td>...</td>\n",
       "      <td>...</td>\n",
       "      <td>...</td>\n",
       "      <td>...</td>\n",
       "      <td>...</td>\n",
       "      <td>...</td>\n",
       "      <td>...</td>\n",
       "      <td>...</td>\n",
       "      <td>...</td>\n",
       "      <td>...</td>\n",
       "      <td>...</td>\n",
       "      <td>...</td>\n",
       "      <td>...</td>\n",
       "      <td>...</td>\n",
       "      <td>...</td>\n",
       "    </tr>\n",
       "    <tr>\n",
       "      <th>42568</th>\n",
       "      <td>118488</td>\n",
       "      <td>2022-04-07</td>\n",
       "      <td>vikantha@cisco.com</td>\n",
       "      <td>Reactive</td>\n",
       "      <td>2022-04-11</td>\n",
       "      <td>cx-compass-two.gen@cisco.com</td>\n",
       "      <td>2022-04-11</td>\n",
       "      <td>2022-04-13 11:01 AM Eastern</td>\n",
       "      <td>False</td>\n",
       "      <td>False</td>\n",
       "      <td>...</td>\n",
       "      <td>0</td>\n",
       "      <td>0</td>\n",
       "      <td>FIELD</td>\n",
       "      <td>Operations</td>\n",
       "      <td>ANY</td>\n",
       "      <td>Actual</td>\n",
       "      <td>2022</td>\n",
       "      <td>Q3</td>\n",
       "      <td>202209</td>\n",
       "      <td>2022-Q3</td>\n",
       "    </tr>\n",
       "    <tr>\n",
       "      <th>42569</th>\n",
       "      <td>118489</td>\n",
       "      <td>2022-04-07</td>\n",
       "      <td>vikantha@cisco.com</td>\n",
       "      <td>Reactive</td>\n",
       "      <td>2022-04-11</td>\n",
       "      <td>cx-compass-two.gen@cisco.com</td>\n",
       "      <td>2022-04-11</td>\n",
       "      <td>2022-04-13 11:01 AM Eastern</td>\n",
       "      <td>False</td>\n",
       "      <td>False</td>\n",
       "      <td>...</td>\n",
       "      <td>0</td>\n",
       "      <td>0</td>\n",
       "      <td>FIELD</td>\n",
       "      <td>Operations</td>\n",
       "      <td>ANY</td>\n",
       "      <td>Actual</td>\n",
       "      <td>2022</td>\n",
       "      <td>Q3</td>\n",
       "      <td>202209</td>\n",
       "      <td>2022-Q3</td>\n",
       "    </tr>\n",
       "    <tr>\n",
       "      <th>42593</th>\n",
       "      <td>118516</td>\n",
       "      <td>2022-04-11</td>\n",
       "      <td>vikantha@cisco.com</td>\n",
       "      <td>Reactive</td>\n",
       "      <td>2022-04-12</td>\n",
       "      <td>josguti2@cisco.com</td>\n",
       "      <td>NaT</td>\n",
       "      <td>2022-04-13 11:01 AM Eastern</td>\n",
       "      <td>False</td>\n",
       "      <td>False</td>\n",
       "      <td>...</td>\n",
       "      <td>0</td>\n",
       "      <td>0</td>\n",
       "      <td>FIELD</td>\n",
       "      <td>Operations</td>\n",
       "      <td>ANY</td>\n",
       "      <td>Actual</td>\n",
       "      <td>2022</td>\n",
       "      <td>Q3</td>\n",
       "      <td>202209</td>\n",
       "      <td>2022-Q3</td>\n",
       "    </tr>\n",
       "    <tr>\n",
       "      <th>42597</th>\n",
       "      <td>118520</td>\n",
       "      <td>2022-04-12</td>\n",
       "      <td>ebaird@cisco.com</td>\n",
       "      <td>Reactive</td>\n",
       "      <td>2022-04-12</td>\n",
       "      <td>ebaird@cisco.com</td>\n",
       "      <td>NaT</td>\n",
       "      <td>2022-04-13 11:01 AM Eastern</td>\n",
       "      <td>False</td>\n",
       "      <td>False</td>\n",
       "      <td>...</td>\n",
       "      <td>0</td>\n",
       "      <td>0</td>\n",
       "      <td>FIELD</td>\n",
       "      <td>Operations</td>\n",
       "      <td>ANY</td>\n",
       "      <td>Actual</td>\n",
       "      <td>2022</td>\n",
       "      <td>Q3</td>\n",
       "      <td>202209</td>\n",
       "      <td>2022-Q3</td>\n",
       "    </tr>\n",
       "    <tr>\n",
       "      <th>42599</th>\n",
       "      <td>118522</td>\n",
       "      <td>2022-04-12</td>\n",
       "      <td>hbegley@cisco.com</td>\n",
       "      <td>Reactive</td>\n",
       "      <td>2022-04-12</td>\n",
       "      <td>hbegley@cisco.com</td>\n",
       "      <td>NaT</td>\n",
       "      <td>2022-04-13 11:01 AM Eastern</td>\n",
       "      <td>False</td>\n",
       "      <td>False</td>\n",
       "      <td>...</td>\n",
       "      <td>0</td>\n",
       "      <td>0</td>\n",
       "      <td>FIELD</td>\n",
       "      <td>Operations</td>\n",
       "      <td>ANY</td>\n",
       "      <td>Actual</td>\n",
       "      <td>2022</td>\n",
       "      <td>Q3</td>\n",
       "      <td>202209</td>\n",
       "      <td>2022-Q3</td>\n",
       "    </tr>\n",
       "  </tbody>\n",
       "</table>\n",
       "<p>20382 rows × 181 columns</p>\n",
       "</div>"
      ],
      "text/plain": [
       "      Request ID Create Date          Created By        Request Type  \\\n",
       "449       116418  2022-03-30  jedelega@cisco.com            Reactive   \n",
       "458       114641  2022-03-04  vikantha@cisco.com  Targeting Campaign   \n",
       "459       115192  2022-03-04  vikantha@cisco.com  Targeting Campaign   \n",
       "460       115177  2022-03-04  vikantha@cisco.com  Targeting Campaign   \n",
       "461       115168  2022-03-04  vikantha@cisco.com  Targeting Campaign   \n",
       "...          ...         ...                 ...                 ...   \n",
       "42568     118488  2022-04-07  vikantha@cisco.com            Reactive   \n",
       "42569     118489  2022-04-07  vikantha@cisco.com            Reactive   \n",
       "42593     118516  2022-04-11  vikantha@cisco.com            Reactive   \n",
       "42597     118520  2022-04-12    ebaird@cisco.com            Reactive   \n",
       "42599     118522  2022-04-12   hbegley@cisco.com            Reactive   \n",
       "\n",
       "        Modified                   Modified By Date Completed  \\\n",
       "449   2022-04-12            stedward@cisco.com     2022-04-05   \n",
       "458   2022-04-12              macoup@cisco.com     2022-03-10   \n",
       "459   2022-04-07            gnunessr@cisco.com     2022-03-10   \n",
       "460   2022-04-01            gnunessr@cisco.com     2022-03-10   \n",
       "461   2022-04-07            gnunessr@cisco.com     2022-03-10   \n",
       "...          ...                           ...            ...   \n",
       "42568 2022-04-11  cx-compass-two.gen@cisco.com     2022-04-11   \n",
       "42569 2022-04-11  cx-compass-two.gen@cisco.com     2022-04-11   \n",
       "42593 2022-04-12            josguti2@cisco.com            NaT   \n",
       "42597 2022-04-12              ebaird@cisco.com            NaT   \n",
       "42599 2022-04-12             hbegley@cisco.com            NaT   \n",
       "\n",
       "                      LAST_UPDATED QA Approve REVIEW_REQUIRED_FLAG  ...  \\\n",
       "449    2022-04-13 11:01 AM Eastern      False                False  ...   \n",
       "458    2022-04-13 11:01 AM Eastern      False                False  ...   \n",
       "459    2022-04-13 11:01 AM Eastern      False                False  ...   \n",
       "460    2022-04-13 11:01 AM Eastern      False                False  ...   \n",
       "461    2022-04-13 11:01 AM Eastern      False                False  ...   \n",
       "...                            ...        ...                  ...  ...   \n",
       "42568  2022-04-13 11:01 AM Eastern      False                False  ...   \n",
       "42569  2022-04-13 11:01 AM Eastern      False                False  ...   \n",
       "42593  2022-04-13 11:01 AM Eastern      False                False  ...   \n",
       "42597  2022-04-13 11:01 AM Eastern      False                False  ...   \n",
       "42599  2022-04-13 11:01 AM Eastern      False                False  ...   \n",
       "\n",
       "      RRT_LPM+  LPM_OFFERS                 Method Measure Group Offer Focus  \\\n",
       "449          0           0  M1 (Coverage Program)    Operations         ANY   \n",
       "458          0           0  M1 (Coverage Program)    Operations        SNTC   \n",
       "459          0           1  M1 (Coverage Program)    Operations        SNTC   \n",
       "460          0           0  M1 (Coverage Program)    Operations        SNTC   \n",
       "461          0           0  M1 (Coverage Program)    Operations        SNTC   \n",
       "...        ...         ...                    ...           ...         ...   \n",
       "42568        0           0                  FIELD    Operations         ANY   \n",
       "42569        0           0                  FIELD    Operations         ANY   \n",
       "42593        0           0                  FIELD    Operations         ANY   \n",
       "42597        0           0                  FIELD    Operations         ANY   \n",
       "42599        0           0                  FIELD    Operations         ANY   \n",
       "\n",
       "      Value Type Report FY Report FQ Injection Month Injection Quarter  \n",
       "449       Actual      2022        Q3          202209           2022-Q3  \n",
       "458       Actual      2022        Q3          202208           2022-Q3  \n",
       "459       Actual      2022        Q3          202208           2022-Q3  \n",
       "460       Actual      2022        Q3          202208           2022-Q3  \n",
       "461       Actual      2022        Q3          202208           2022-Q3  \n",
       "...          ...       ...       ...             ...               ...  \n",
       "42568     Actual      2022        Q3          202209           2022-Q3  \n",
       "42569     Actual      2022        Q3          202209           2022-Q3  \n",
       "42593     Actual      2022        Q3          202209           2022-Q3  \n",
       "42597     Actual      2022        Q3          202209           2022-Q3  \n",
       "42599     Actual      2022        Q3          202209           2022-Q3  \n",
       "\n",
       "[20382 rows x 181 columns]"
      ]
     },
     "execution_count": 68,
     "metadata": {},
     "output_type": "execute_result"
    }
   ],
   "source": [
    "trkr"
   ]
  },
  {
   "cell_type": "markdown",
   "metadata": {},
   "source": [
    "### Re-Merge the Exploded GUIDs with Tracker"
   ]
  },
  {
   "cell_type": "code",
   "execution_count": 69,
   "metadata": {},
   "outputs": [],
   "source": [
    "### \"gdf\" is the exploded dataframe with GUID's from the tracker\n",
    "\n",
    "deepdive = pd.merge(gdf,trkr, how='inner', on=['Request ID'])[['Request ID','GUID_x','Customer Name','Deal ID_x']].sort_values(by=['Deal ID_x','Request ID'])"
   ]
  },
  {
   "cell_type": "code",
   "execution_count": 70,
   "metadata": {},
   "outputs": [
    {
     "data": {
      "text/plain": [
       "(17403, 4)"
      ]
     },
     "execution_count": 70,
     "metadata": {},
     "output_type": "execute_result"
    }
   ],
   "source": [
    "deepdive.shape"
   ]
  },
  {
   "cell_type": "code",
   "execution_count": 71,
   "metadata": {},
   "outputs": [],
   "source": [
    "deepdive.drop_duplicates(keep='first', inplace=True)"
   ]
  },
  {
   "cell_type": "code",
   "execution_count": 72,
   "metadata": {},
   "outputs": [],
   "source": [
    "deepdive = deepdive.loc[deepdive['Deal ID_x'].notnull()]"
   ]
  },
  {
   "cell_type": "code",
   "execution_count": 73,
   "metadata": {},
   "outputs": [
    {
     "data": {
      "text/html": [
       "<div>\n",
       "<style scoped>\n",
       "    .dataframe tbody tr th:only-of-type {\n",
       "        vertical-align: middle;\n",
       "    }\n",
       "\n",
       "    .dataframe tbody tr th {\n",
       "        vertical-align: top;\n",
       "    }\n",
       "\n",
       "    .dataframe thead th {\n",
       "        text-align: right;\n",
       "    }\n",
       "</style>\n",
       "<table border=\"1\" class=\"dataframe\">\n",
       "  <thead>\n",
       "    <tr style=\"text-align: right;\">\n",
       "      <th></th>\n",
       "      <th>Request ID</th>\n",
       "      <th>GUID_x</th>\n",
       "      <th>Customer Name</th>\n",
       "      <th>Deal ID_x</th>\n",
       "    </tr>\n",
       "  </thead>\n",
       "  <tbody>\n",
       "    <tr>\n",
       "      <th>4928</th>\n",
       "      <td>7856</td>\n",
       "      <td>3958057</td>\n",
       "      <td>CHARTER COMMUNICATIONS INC</td>\n",
       "      <td>20639408</td>\n",
       "    </tr>\n",
       "    <tr>\n",
       "      <th>8899</th>\n",
       "      <td>17296</td>\n",
       "      <td>3958057</td>\n",
       "      <td>CHARTER COMMUNICATIONS</td>\n",
       "      <td>43605474</td>\n",
       "    </tr>\n",
       "    <tr>\n",
       "      <th>8900</th>\n",
       "      <td>17296</td>\n",
       "      <td>3958057</td>\n",
       "      <td>CHARTER COMMUNICATIONS</td>\n",
       "      <td>43909907</td>\n",
       "    </tr>\n",
       "    <tr>\n",
       "      <th>8901</th>\n",
       "      <td>17296</td>\n",
       "      <td>3958057</td>\n",
       "      <td>CHARTER COMMUNICATIONS</td>\n",
       "      <td>43909919</td>\n",
       "    </tr>\n",
       "    <tr>\n",
       "      <th>8902</th>\n",
       "      <td>17296</td>\n",
       "      <td>3958057</td>\n",
       "      <td>CHARTER COMMUNICATIONS</td>\n",
       "      <td>43909925</td>\n",
       "    </tr>\n",
       "    <tr>\n",
       "      <th>8903</th>\n",
       "      <td>17296</td>\n",
       "      <td>3958057</td>\n",
       "      <td>CHARTER COMMUNICATIONS</td>\n",
       "      <td>43909936</td>\n",
       "    </tr>\n",
       "    <tr>\n",
       "      <th>8904</th>\n",
       "      <td>17296</td>\n",
       "      <td>3958057</td>\n",
       "      <td>CHARTER COMMUNICATIONS</td>\n",
       "      <td>43909944</td>\n",
       "    </tr>\n",
       "    <tr>\n",
       "      <th>8905</th>\n",
       "      <td>17296</td>\n",
       "      <td>3958057</td>\n",
       "      <td>CHARTER COMMUNICATIONS</td>\n",
       "      <td>43916973</td>\n",
       "    </tr>\n",
       "    <tr>\n",
       "      <th>8906</th>\n",
       "      <td>17296</td>\n",
       "      <td>3958057</td>\n",
       "      <td>CHARTER COMMUNICATIONS</td>\n",
       "      <td>43917524</td>\n",
       "    </tr>\n",
       "    <tr>\n",
       "      <th>8907</th>\n",
       "      <td>17296</td>\n",
       "      <td>3958057</td>\n",
       "      <td>CHARTER COMMUNICATIONS</td>\n",
       "      <td>43919499</td>\n",
       "    </tr>\n",
       "    <tr>\n",
       "      <th>8908</th>\n",
       "      <td>17296</td>\n",
       "      <td>3958057</td>\n",
       "      <td>CHARTER COMMUNICATIONS</td>\n",
       "      <td>43936910</td>\n",
       "    </tr>\n",
       "    <tr>\n",
       "      <th>8909</th>\n",
       "      <td>17296</td>\n",
       "      <td>3958057</td>\n",
       "      <td>CHARTER COMMUNICATIONS</td>\n",
       "      <td>43939184</td>\n",
       "    </tr>\n",
       "    <tr>\n",
       "      <th>8910</th>\n",
       "      <td>17296</td>\n",
       "      <td>3958057</td>\n",
       "      <td>CHARTER COMMUNICATIONS</td>\n",
       "      <td>43942139</td>\n",
       "    </tr>\n",
       "    <tr>\n",
       "      <th>8911</th>\n",
       "      <td>17296</td>\n",
       "      <td>3958057</td>\n",
       "      <td>CHARTER COMMUNICATIONS</td>\n",
       "      <td>43942147</td>\n",
       "    </tr>\n",
       "    <tr>\n",
       "      <th>8912</th>\n",
       "      <td>17296</td>\n",
       "      <td>3958057</td>\n",
       "      <td>CHARTER COMMUNICATIONS</td>\n",
       "      <td>43942196</td>\n",
       "    </tr>\n",
       "    <tr>\n",
       "      <th>8913</th>\n",
       "      <td>17296</td>\n",
       "      <td>3958057</td>\n",
       "      <td>CHARTER COMMUNICATIONS</td>\n",
       "      <td>43948840</td>\n",
       "    </tr>\n",
       "    <tr>\n",
       "      <th>8914</th>\n",
       "      <td>17296</td>\n",
       "      <td>3958057</td>\n",
       "      <td>CHARTER COMMUNICATIONS</td>\n",
       "      <td>43969741</td>\n",
       "    </tr>\n",
       "  </tbody>\n",
       "</table>\n",
       "</div>"
      ],
      "text/plain": [
       "     Request ID   GUID_x               Customer Name Deal ID_x\n",
       "4928       7856  3958057  CHARTER COMMUNICATIONS INC  20639408\n",
       "8899      17296  3958057      CHARTER COMMUNICATIONS  43605474\n",
       "8900      17296  3958057      CHARTER COMMUNICATIONS  43909907\n",
       "8901      17296  3958057      CHARTER COMMUNICATIONS  43909919\n",
       "8902      17296  3958057      CHARTER COMMUNICATIONS  43909925\n",
       "8903      17296  3958057      CHARTER COMMUNICATIONS  43909936\n",
       "8904      17296  3958057      CHARTER COMMUNICATIONS  43909944\n",
       "8905      17296  3958057      CHARTER COMMUNICATIONS  43916973\n",
       "8906      17296  3958057      CHARTER COMMUNICATIONS  43917524\n",
       "8907      17296  3958057      CHARTER COMMUNICATIONS  43919499\n",
       "8908      17296  3958057      CHARTER COMMUNICATIONS  43936910\n",
       "8909      17296  3958057      CHARTER COMMUNICATIONS  43939184\n",
       "8910      17296  3958057      CHARTER COMMUNICATIONS  43942139\n",
       "8911      17296  3958057      CHARTER COMMUNICATIONS  43942147\n",
       "8912      17296  3958057      CHARTER COMMUNICATIONS  43942196\n",
       "8913      17296  3958057      CHARTER COMMUNICATIONS  43948840\n",
       "8914      17296  3958057      CHARTER COMMUNICATIONS  43969741"
      ]
     },
     "execution_count": 73,
     "metadata": {},
     "output_type": "execute_result"
    }
   ],
   "source": [
    "deepdive.loc[deepdive['Customer Name'].str.contains('charter comm', case=False)]"
   ]
  },
  {
   "cell_type": "code",
   "execution_count": 74,
   "metadata": {},
   "outputs": [],
   "source": [
    "# deepdive.GUID_x = deepdive.GUID_x.astype(str)\n",
    "# deepdive['Deal ID_x'] = deepdive['Deal ID_x'].astype(str)"
   ]
  },
  {
   "cell_type": "code",
   "execution_count": 75,
   "metadata": {},
   "outputs": [],
   "source": [
    "guidlist = list(gdf['GUID'].unique())"
   ]
  },
  {
   "cell_type": "markdown",
   "metadata": {},
   "source": [
    "### What pipeline values are coming from SFDC with ONLY the GUID-DealID pairing matching from SFDC and Tracker?"
   ]
  },
  {
   "cell_type": "code",
   "execution_count": 76,
   "metadata": {},
   "outputs": [],
   "source": [
    "trkr_pipeline = pd.merge(deepdive, new_sfdc, how='inner', left_on=['GUID_x','Deal ID_x'], right_on=['GUID','Deal ID'])"
   ]
  },
  {
   "cell_type": "code",
   "execution_count": 77,
   "metadata": {},
   "outputs": [
    {
     "data": {
      "text/html": [
       "<div>\n",
       "<style scoped>\n",
       "    .dataframe tbody tr th:only-of-type {\n",
       "        vertical-align: middle;\n",
       "    }\n",
       "\n",
       "    .dataframe tbody tr th {\n",
       "        vertical-align: top;\n",
       "    }\n",
       "\n",
       "    .dataframe thead th {\n",
       "        text-align: right;\n",
       "    }\n",
       "</style>\n",
       "<table border=\"1\" class=\"dataframe\">\n",
       "  <thead>\n",
       "    <tr style=\"text-align: right;\">\n",
       "      <th></th>\n",
       "      <th>Request ID</th>\n",
       "      <th>GUID_x</th>\n",
       "      <th>Customer Name</th>\n",
       "      <th>Deal ID_x</th>\n",
       "      <th>Account Name</th>\n",
       "      <th>Account Name (English)</th>\n",
       "      <th>Level 01 Territory</th>\n",
       "      <th>Level 02 Territory</th>\n",
       "      <th>Level 03 Territory</th>\n",
       "      <th>Level 04 Territory</th>\n",
       "      <th>...</th>\n",
       "      <th>Stage</th>\n",
       "      <th>Forecast Status</th>\n",
       "      <th>Opportunity Name</th>\n",
       "      <th>Opportunity Value</th>\n",
       "      <th>Fiscal Month</th>\n",
       "      <th>Fiscal Period</th>\n",
       "      <th>Fiscal Quarter</th>\n",
       "      <th>Fiscal Year</th>\n",
       "      <th>Group</th>\n",
       "      <th>Type</th>\n",
       "    </tr>\n",
       "  </thead>\n",
       "  <tbody>\n",
       "  </tbody>\n",
       "</table>\n",
       "<p>0 rows × 32 columns</p>\n",
       "</div>"
      ],
      "text/plain": [
       "Empty DataFrame\n",
       "Columns: [Request ID, GUID_x, Customer Name, Deal ID_x, Account Name, Account Name (English), Level 01 Territory, Level 02 Territory, Level 03 Territory, Level 04 Territory, Level 05 Territory, Level 06 Territory, GUID, Deal ID, Opportunity Record Type, Opportunity Status, Account Owner, Account Owner Alias, Business Entity, Services, Service Source, Technology Name, Stage, Forecast Status, Opportunity Name, Opportunity Value, Fiscal Month, Fiscal Period, Fiscal Quarter, Fiscal Year, Group, Type]\n",
       "Index: []\n",
       "\n",
       "[0 rows x 32 columns]"
      ]
     },
     "execution_count": 77,
     "metadata": {},
     "output_type": "execute_result"
    }
   ],
   "source": [
    "trkr_pipeline.loc[trkr_pipeline['Request ID']=='17296']"
   ]
  },
  {
   "cell_type": "code",
   "execution_count": 78,
   "metadata": {},
   "outputs": [],
   "source": [
    "trkr_pipeline['DupeCheck'] = pd.NA"
   ]
  },
  {
   "cell_type": "code",
   "execution_count": 79,
   "metadata": {},
   "outputs": [],
   "source": [
    "dupe1 = trkr_pipeline.sort_values(by=['Deal ID','Request ID'], ascending = ['True','True'],).copy()  ### make a copy of the trkr_pipeline to preserve the index"
   ]
  },
  {
   "cell_type": "code",
   "execution_count": 80,
   "metadata": {},
   "outputs": [],
   "source": [
    "dupe1['DupeCheck'] = dupe1.duplicated(['Deal ID','Stage','Service Source','Opportunity Value'], keep='last')"
   ]
  },
  {
   "cell_type": "code",
   "execution_count": 81,
   "metadata": {},
   "outputs": [
    {
     "data": {
      "text/html": [
       "<div>\n",
       "<style scoped>\n",
       "    .dataframe tbody tr th:only-of-type {\n",
       "        vertical-align: middle;\n",
       "    }\n",
       "\n",
       "    .dataframe tbody tr th {\n",
       "        vertical-align: top;\n",
       "    }\n",
       "\n",
       "    .dataframe thead th {\n",
       "        text-align: right;\n",
       "    }\n",
       "</style>\n",
       "<table border=\"1\" class=\"dataframe\">\n",
       "  <thead>\n",
       "    <tr style=\"text-align: right;\">\n",
       "      <th></th>\n",
       "      <th>Request ID</th>\n",
       "      <th>GUID_x</th>\n",
       "      <th>Customer Name</th>\n",
       "      <th>Deal ID_x</th>\n",
       "      <th>Account Name</th>\n",
       "      <th>Account Name (English)</th>\n",
       "      <th>Level 01 Territory</th>\n",
       "      <th>Level 02 Territory</th>\n",
       "      <th>Level 03 Territory</th>\n",
       "      <th>Level 04 Territory</th>\n",
       "      <th>...</th>\n",
       "      <th>Forecast Status</th>\n",
       "      <th>Opportunity Name</th>\n",
       "      <th>Opportunity Value</th>\n",
       "      <th>Fiscal Month</th>\n",
       "      <th>Fiscal Period</th>\n",
       "      <th>Fiscal Quarter</th>\n",
       "      <th>Fiscal Year</th>\n",
       "      <th>Group</th>\n",
       "      <th>Type</th>\n",
       "      <th>DupeCheck</th>\n",
       "    </tr>\n",
       "  </thead>\n",
       "  <tbody>\n",
       "    <tr>\n",
       "      <th>0</th>\n",
       "      <td>16842</td>\n",
       "      <td>197402001</td>\n",
       "      <td>AMC ENTERTAINMENT INC</td>\n",
       "      <td>15645318</td>\n",
       "      <td>AMC ENTERTAINMENT INC</td>\n",
       "      <td>NaN</td>\n",
       "      <td>AMERICAS</td>\n",
       "      <td>US COMMERCIAL</td>\n",
       "      <td>COMMERCIAL CENTRAL AREA</td>\n",
       "      <td>Midwest Select Operation</td>\n",
       "      <td>...</td>\n",
       "      <td>Commit</td>\n",
       "      <td>amc, my renewal 3 yrs, sirius</td>\n",
       "      <td>24.0</td>\n",
       "      <td>12</td>\n",
       "      <td>Q4-2021</td>\n",
       "      <td>4</td>\n",
       "      <td>2021</td>\n",
       "      <td>CX Renewals.Americas.Commercial - US Inv</td>\n",
       "      <td>TS-SNTC</td>\n",
       "      <td>False</td>\n",
       "    </tr>\n",
       "    <tr>\n",
       "      <th>1</th>\n",
       "      <td>16842</td>\n",
       "      <td>197402001</td>\n",
       "      <td>AMC ENTERTAINMENT INC</td>\n",
       "      <td>15645318</td>\n",
       "      <td>AMC ENTERTAINMENT INC</td>\n",
       "      <td>NaN</td>\n",
       "      <td>AMERICAS</td>\n",
       "      <td>US COMMERCIAL</td>\n",
       "      <td>COMMERCIAL CENTRAL AREA</td>\n",
       "      <td>Midwest Select Operation</td>\n",
       "      <td>...</td>\n",
       "      <td>Commit</td>\n",
       "      <td>amc, my renewal 3 yrs, sirius</td>\n",
       "      <td>60.0</td>\n",
       "      <td>12</td>\n",
       "      <td>Q4-2021</td>\n",
       "      <td>4</td>\n",
       "      <td>2021</td>\n",
       "      <td>CX Renewals.Americas.Commercial - US Inv</td>\n",
       "      <td>TS-SNTC</td>\n",
       "      <td>False</td>\n",
       "    </tr>\n",
       "    <tr>\n",
       "      <th>2</th>\n",
       "      <td>16842</td>\n",
       "      <td>197402001</td>\n",
       "      <td>AMC ENTERTAINMENT INC</td>\n",
       "      <td>15645318</td>\n",
       "      <td>AMC ENTERTAINMENT INC</td>\n",
       "      <td>NaN</td>\n",
       "      <td>AMERICAS</td>\n",
       "      <td>US COMMERCIAL</td>\n",
       "      <td>COMMERCIAL CENTRAL AREA</td>\n",
       "      <td>Midwest Select Operation</td>\n",
       "      <td>...</td>\n",
       "      <td>Commit</td>\n",
       "      <td>amc, my renewal 3 yrs, sirius</td>\n",
       "      <td>298.0</td>\n",
       "      <td>12</td>\n",
       "      <td>Q4-2021</td>\n",
       "      <td>4</td>\n",
       "      <td>2021</td>\n",
       "      <td>CX Renewals.Americas.Commercial - US Inv</td>\n",
       "      <td>TS-SNTC</td>\n",
       "      <td>False</td>\n",
       "    </tr>\n",
       "    <tr>\n",
       "      <th>3</th>\n",
       "      <td>106079</td>\n",
       "      <td>133092</td>\n",
       "      <td>FOOT LOCKER INC</td>\n",
       "      <td>16042652</td>\n",
       "      <td>FOOT LOCKER INC</td>\n",
       "      <td>FOOT LOCKER INC</td>\n",
       "      <td>AMERICAS</td>\n",
       "      <td>US COMMERCIAL</td>\n",
       "      <td>COMMERCIAL CENTRAL AREA</td>\n",
       "      <td>CENTRAL NORTH COMMERCIAL OPERATION</td>\n",
       "      <td>...</td>\n",
       "      <td>Upside</td>\n",
       "      <td>Global Deal for Foot Locker</td>\n",
       "      <td>2.0</td>\n",
       "      <td>12</td>\n",
       "      <td>Q4-2022</td>\n",
       "      <td>4</td>\n",
       "      <td>2022</td>\n",
       "      <td>Wisconsin Select</td>\n",
       "      <td>TS-SNTC</td>\n",
       "      <td>False</td>\n",
       "    </tr>\n",
       "    <tr>\n",
       "      <th>4</th>\n",
       "      <td>106079</td>\n",
       "      <td>133092</td>\n",
       "      <td>FOOT LOCKER INC</td>\n",
       "      <td>16042652</td>\n",
       "      <td>FOOT LOCKER INC</td>\n",
       "      <td>FOOT LOCKER INC</td>\n",
       "      <td>AMERICAS</td>\n",
       "      <td>US COMMERCIAL</td>\n",
       "      <td>COMMERCIAL CENTRAL AREA</td>\n",
       "      <td>CENTRAL NORTH COMMERCIAL OPERATION</td>\n",
       "      <td>...</td>\n",
       "      <td>Upside</td>\n",
       "      <td>Global Deal for Foot Locker</td>\n",
       "      <td>4.0</td>\n",
       "      <td>12</td>\n",
       "      <td>Q4-2022</td>\n",
       "      <td>4</td>\n",
       "      <td>2022</td>\n",
       "      <td>Wisconsin Select</td>\n",
       "      <td>TS-SNTC</td>\n",
       "      <td>False</td>\n",
       "    </tr>\n",
       "    <tr>\n",
       "      <th>...</th>\n",
       "      <td>...</td>\n",
       "      <td>...</td>\n",
       "      <td>...</td>\n",
       "      <td>...</td>\n",
       "      <td>...</td>\n",
       "      <td>...</td>\n",
       "      <td>...</td>\n",
       "      <td>...</td>\n",
       "      <td>...</td>\n",
       "      <td>...</td>\n",
       "      <td>...</td>\n",
       "      <td>...</td>\n",
       "      <td>...</td>\n",
       "      <td>...</td>\n",
       "      <td>...</td>\n",
       "      <td>...</td>\n",
       "      <td>...</td>\n",
       "      <td>...</td>\n",
       "      <td>...</td>\n",
       "      <td>...</td>\n",
       "      <td>...</td>\n",
       "    </tr>\n",
       "    <tr>\n",
       "      <th>2391</th>\n",
       "      <td>116535</td>\n",
       "      <td>2652279</td>\n",
       "      <td>NAPLES COMMUNITY HEALTH SYSTEMS</td>\n",
       "      <td>56036637</td>\n",
       "      <td>NAPLES COMMUNITY HEALTH SYSTEMS</td>\n",
       "      <td>NaN</td>\n",
       "      <td>AMERICAS</td>\n",
       "      <td>US COMMERCIAL</td>\n",
       "      <td>COMMERCIAL EAST AREA</td>\n",
       "      <td>SOUTH EAST COMMERCIAL OPERATION</td>\n",
       "      <td>...</td>\n",
       "      <td>Upside</td>\n",
       "      <td>NCH , Compass, Anthony Forina, TBD</td>\n",
       "      <td>125.0</td>\n",
       "      <td>10</td>\n",
       "      <td>Q4-2022</td>\n",
       "      <td>4</td>\n",
       "      <td>2022</td>\n",
       "      <td>US Commercial ISS South Select</td>\n",
       "      <td>AS-S</td>\n",
       "      <td>False</td>\n",
       "    </tr>\n",
       "    <tr>\n",
       "      <th>2392</th>\n",
       "      <td>116534</td>\n",
       "      <td>27858</td>\n",
       "      <td>LENNAR CORPORATION</td>\n",
       "      <td>56036682</td>\n",
       "      <td>LENNAR CORPORATION</td>\n",
       "      <td>NaN</td>\n",
       "      <td>AMERICAS</td>\n",
       "      <td>US COMMERCIAL</td>\n",
       "      <td>COMMERCIAL EAST AREA</td>\n",
       "      <td>SOUTH EAST COMMERCIAL OPERATION</td>\n",
       "      <td>...</td>\n",
       "      <td>Upside</td>\n",
       "      <td>Lennar, Compass BCS, Anthony Forina,TBD</td>\n",
       "      <td>125.0</td>\n",
       "      <td>10</td>\n",
       "      <td>Q4-2022</td>\n",
       "      <td>4</td>\n",
       "      <td>2022</td>\n",
       "      <td>US Commercial ISS South Select</td>\n",
       "      <td>AS-S</td>\n",
       "      <td>False</td>\n",
       "    </tr>\n",
       "    <tr>\n",
       "      <th>2393</th>\n",
       "      <td>117076</td>\n",
       "      <td>167909436</td>\n",
       "      <td>BIOFIRE DIAGNOSTICS INC</td>\n",
       "      <td>56040344</td>\n",
       "      <td>BIOFIRE DIAGNOSTICS INC</td>\n",
       "      <td>NaN</td>\n",
       "      <td>AMERICAS</td>\n",
       "      <td>US COMMERCIAL</td>\n",
       "      <td>COMMERCIAL EAST AREA</td>\n",
       "      <td>MID-ATLANTIC COMMERCIAL OPERATION</td>\n",
       "      <td>...</td>\n",
       "      <td>Upside</td>\n",
       "      <td>BioFire Compass Report</td>\n",
       "      <td>50.0</td>\n",
       "      <td>12</td>\n",
       "      <td>Q4-2022</td>\n",
       "      <td>4</td>\n",
       "      <td>2022</td>\n",
       "      <td>US Commercial ISS East Select</td>\n",
       "      <td>TS-SSPT</td>\n",
       "      <td>False</td>\n",
       "    </tr>\n",
       "    <tr>\n",
       "      <th>2394</th>\n",
       "      <td>118234</td>\n",
       "      <td>167909436</td>\n",
       "      <td>BIOMERIEUX</td>\n",
       "      <td>56045192</td>\n",
       "      <td>BIOMERIEUX INC</td>\n",
       "      <td>BIOMERIEUX INC</td>\n",
       "      <td>AMERICAS</td>\n",
       "      <td>US COMMERCIAL</td>\n",
       "      <td>COMMERCIAL EAST AREA</td>\n",
       "      <td>MID-ATLANTIC COMMERCIAL OPERATION</td>\n",
       "      <td>...</td>\n",
       "      <td>Upside</td>\n",
       "      <td>Biomerieux Compass Report</td>\n",
       "      <td>50.0</td>\n",
       "      <td>12</td>\n",
       "      <td>Q4-2022</td>\n",
       "      <td>4</td>\n",
       "      <td>2022</td>\n",
       "      <td>US Commercial ISS East Select</td>\n",
       "      <td>TS-SSPT</td>\n",
       "      <td>False</td>\n",
       "    </tr>\n",
       "    <tr>\n",
       "      <th>2395</th>\n",
       "      <td>118516</td>\n",
       "      <td>4252802</td>\n",
       "      <td>FORSVARETS RADIOANSTALT</td>\n",
       "      <td>56056031</td>\n",
       "      <td>FORSVARETS RADIOANSTALT</td>\n",
       "      <td>FRA</td>\n",
       "      <td>EMEAR-REGION</td>\n",
       "      <td>EMEAR-NORTH</td>\n",
       "      <td>COUNTRY_SWEDEN</td>\n",
       "      <td>PUBLICSECTOR_SWE_NATIONAL</td>\n",
       "      <td>...</td>\n",
       "      <td>Upside</td>\n",
       "      <td>AS engagement</td>\n",
       "      <td>100.0</td>\n",
       "      <td>12</td>\n",
       "      <td>Q4-2022</td>\n",
       "      <td>4</td>\n",
       "      <td>2022</td>\n",
       "      <td>Services Sales EMEAR North Sweden - SW 3</td>\n",
       "      <td>AS-T</td>\n",
       "      <td>False</td>\n",
       "    </tr>\n",
       "  </tbody>\n",
       "</table>\n",
       "<p>2396 rows × 33 columns</p>\n",
       "</div>"
      ],
      "text/plain": [
       "     Request ID     GUID_x                    Customer Name Deal ID_x  \\\n",
       "0         16842  197402001            AMC ENTERTAINMENT INC  15645318   \n",
       "1         16842  197402001            AMC ENTERTAINMENT INC  15645318   \n",
       "2         16842  197402001            AMC ENTERTAINMENT INC  15645318   \n",
       "3        106079     133092                  FOOT LOCKER INC  16042652   \n",
       "4        106079     133092                  FOOT LOCKER INC  16042652   \n",
       "...         ...        ...                              ...       ...   \n",
       "2391     116535    2652279  NAPLES COMMUNITY HEALTH SYSTEMS  56036637   \n",
       "2392     116534      27858               LENNAR CORPORATION  56036682   \n",
       "2393     117076  167909436          BIOFIRE DIAGNOSTICS INC  56040344   \n",
       "2394     118234  167909436                       BIOMERIEUX  56045192   \n",
       "2395     118516    4252802          FORSVARETS RADIOANSTALT  56056031   \n",
       "\n",
       "                         Account Name Account Name (English)  \\\n",
       "0               AMC ENTERTAINMENT INC                    NaN   \n",
       "1               AMC ENTERTAINMENT INC                    NaN   \n",
       "2               AMC ENTERTAINMENT INC                    NaN   \n",
       "3                     FOOT LOCKER INC        FOOT LOCKER INC   \n",
       "4                     FOOT LOCKER INC        FOOT LOCKER INC   \n",
       "...                               ...                    ...   \n",
       "2391  NAPLES COMMUNITY HEALTH SYSTEMS                    NaN   \n",
       "2392               LENNAR CORPORATION                    NaN   \n",
       "2393          BIOFIRE DIAGNOSTICS INC                    NaN   \n",
       "2394                   BIOMERIEUX INC         BIOMERIEUX INC   \n",
       "2395          FORSVARETS RADIOANSTALT                    FRA   \n",
       "\n",
       "     Level 01 Territory Level 02 Territory       Level 03 Territory  \\\n",
       "0              AMERICAS      US COMMERCIAL  COMMERCIAL CENTRAL AREA   \n",
       "1              AMERICAS      US COMMERCIAL  COMMERCIAL CENTRAL AREA   \n",
       "2              AMERICAS      US COMMERCIAL  COMMERCIAL CENTRAL AREA   \n",
       "3              AMERICAS      US COMMERCIAL  COMMERCIAL CENTRAL AREA   \n",
       "4              AMERICAS      US COMMERCIAL  COMMERCIAL CENTRAL AREA   \n",
       "...                 ...                ...                      ...   \n",
       "2391           AMERICAS      US COMMERCIAL     COMMERCIAL EAST AREA   \n",
       "2392           AMERICAS      US COMMERCIAL     COMMERCIAL EAST AREA   \n",
       "2393           AMERICAS      US COMMERCIAL     COMMERCIAL EAST AREA   \n",
       "2394           AMERICAS      US COMMERCIAL     COMMERCIAL EAST AREA   \n",
       "2395       EMEAR-REGION        EMEAR-NORTH           COUNTRY_SWEDEN   \n",
       "\n",
       "                      Level 04 Territory  ... Forecast Status  \\\n",
       "0               Midwest Select Operation  ...          Commit   \n",
       "1               Midwest Select Operation  ...          Commit   \n",
       "2               Midwest Select Operation  ...          Commit   \n",
       "3     CENTRAL NORTH COMMERCIAL OPERATION  ...          Upside   \n",
       "4     CENTRAL NORTH COMMERCIAL OPERATION  ...          Upside   \n",
       "...                                  ...  ...             ...   \n",
       "2391     SOUTH EAST COMMERCIAL OPERATION  ...          Upside   \n",
       "2392     SOUTH EAST COMMERCIAL OPERATION  ...          Upside   \n",
       "2393   MID-ATLANTIC COMMERCIAL OPERATION  ...          Upside   \n",
       "2394   MID-ATLANTIC COMMERCIAL OPERATION  ...          Upside   \n",
       "2395           PUBLICSECTOR_SWE_NATIONAL  ...          Upside   \n",
       "\n",
       "                             Opportunity Name Opportunity Value Fiscal Month  \\\n",
       "0               amc, my renewal 3 yrs, sirius              24.0           12   \n",
       "1               amc, my renewal 3 yrs, sirius              60.0           12   \n",
       "2               amc, my renewal 3 yrs, sirius             298.0           12   \n",
       "3                 Global Deal for Foot Locker               2.0           12   \n",
       "4                 Global Deal for Foot Locker               4.0           12   \n",
       "...                                       ...               ...          ...   \n",
       "2391       NCH , Compass, Anthony Forina, TBD             125.0           10   \n",
       "2392  Lennar, Compass BCS, Anthony Forina,TBD             125.0           10   \n",
       "2393                   BioFire Compass Report              50.0           12   \n",
       "2394                Biomerieux Compass Report              50.0           12   \n",
       "2395                            AS engagement             100.0           12   \n",
       "\n",
       "     Fiscal Period Fiscal Quarter Fiscal Year  \\\n",
       "0          Q4-2021              4        2021   \n",
       "1          Q4-2021              4        2021   \n",
       "2          Q4-2021              4        2021   \n",
       "3          Q4-2022              4        2022   \n",
       "4          Q4-2022              4        2022   \n",
       "...            ...            ...         ...   \n",
       "2391       Q4-2022              4        2022   \n",
       "2392       Q4-2022              4        2022   \n",
       "2393       Q4-2022              4        2022   \n",
       "2394       Q4-2022              4        2022   \n",
       "2395       Q4-2022              4        2022   \n",
       "\n",
       "                                         Group     Type DupeCheck  \n",
       "0     CX Renewals.Americas.Commercial - US Inv  TS-SNTC     False  \n",
       "1     CX Renewals.Americas.Commercial - US Inv  TS-SNTC     False  \n",
       "2     CX Renewals.Americas.Commercial - US Inv  TS-SNTC     False  \n",
       "3                             Wisconsin Select  TS-SNTC     False  \n",
       "4                             Wisconsin Select  TS-SNTC     False  \n",
       "...                                        ...      ...       ...  \n",
       "2391            US Commercial ISS South Select     AS-S     False  \n",
       "2392            US Commercial ISS South Select     AS-S     False  \n",
       "2393             US Commercial ISS East Select  TS-SSPT     False  \n",
       "2394             US Commercial ISS East Select  TS-SSPT     False  \n",
       "2395  Services Sales EMEAR North Sweden - SW 3     AS-T     False  \n",
       "\n",
       "[2396 rows x 33 columns]"
      ]
     },
     "execution_count": 81,
     "metadata": {},
     "output_type": "execute_result"
    }
   ],
   "source": [
    "dupe1"
   ]
  },
  {
   "cell_type": "code",
   "execution_count": 82,
   "metadata": {},
   "outputs": [],
   "source": [
    "# dupe1.drop(columns=['GUID','Deal ID'], inplace=True)\n",
    "# dupe1.rename(columns={'GUID_x':'GUID','Deal ID_x':'Deal ID'}, inplace=True)"
   ]
  },
  {
   "cell_type": "code",
   "execution_count": 83,
   "metadata": {},
   "outputs": [],
   "source": [
    "dupe_index = dupe1.loc[dupe1['DupeCheck']==False].index   ### Keep ONLY the FALSE records which did not indicate a duplicate"
   ]
  },
  {
   "cell_type": "code",
   "execution_count": 84,
   "metadata": {},
   "outputs": [],
   "source": [
    "# trkr_pipeline.drop(columns=['GUID','Deal ID'], inplace=True)\n",
    "# trkr_pipeline.rename(columns={'GUID_x':'GUID','Deal ID_x':'Deal ID'}, inplace=True)"
   ]
  },
  {
   "cell_type": "code",
   "execution_count": 85,
   "metadata": {},
   "outputs": [],
   "source": [
    "trkr_pipeline_one = trkr_pipeline.loc[dupe_index]"
   ]
  },
  {
   "cell_type": "code",
   "execution_count": 86,
   "metadata": {},
   "outputs": [
    {
     "data": {
      "text/html": [
       "<div>\n",
       "<style scoped>\n",
       "    .dataframe tbody tr th:only-of-type {\n",
       "        vertical-align: middle;\n",
       "    }\n",
       "\n",
       "    .dataframe tbody tr th {\n",
       "        vertical-align: top;\n",
       "    }\n",
       "\n",
       "    .dataframe thead th {\n",
       "        text-align: right;\n",
       "    }\n",
       "</style>\n",
       "<table border=\"1\" class=\"dataframe\">\n",
       "  <thead>\n",
       "    <tr style=\"text-align: right;\">\n",
       "      <th></th>\n",
       "      <th>Request ID</th>\n",
       "      <th>GUID</th>\n",
       "      <th>Customer Name</th>\n",
       "      <th>Deal ID</th>\n",
       "      <th>Account Name</th>\n",
       "      <th>Account Name (English)</th>\n",
       "      <th>Level 01 Territory</th>\n",
       "      <th>Level 02 Territory</th>\n",
       "      <th>Level 03 Territory</th>\n",
       "      <th>Business Entity</th>\n",
       "      <th>...</th>\n",
       "      <th>Technology Name</th>\n",
       "      <th>Stage</th>\n",
       "      <th>Opportunity Name</th>\n",
       "      <th>Opportunity Value</th>\n",
       "      <th>Fiscal Month</th>\n",
       "      <th>Fiscal Period</th>\n",
       "      <th>Fiscal Quarter</th>\n",
       "      <th>Fiscal Year</th>\n",
       "      <th>Group</th>\n",
       "      <th>Type</th>\n",
       "    </tr>\n",
       "  </thead>\n",
       "  <tbody>\n",
       "  </tbody>\n",
       "</table>\n",
       "<p>0 rows × 22 columns</p>\n",
       "</div>"
      ],
      "text/plain": [
       "Empty DataFrame\n",
       "Columns: [Request ID, GUID, Customer Name, Deal ID, Account Name, Account Name (English), Level 01 Territory, Level 02 Territory, Level 03 Territory, Business Entity, Services, Service Source, Technology Name, Stage, Opportunity Name, Opportunity Value, Fiscal Month, Fiscal Period, Fiscal Quarter, Fiscal Year, Group, Type]\n",
       "Index: []\n",
       "\n",
       "[0 rows x 22 columns]"
      ]
     },
     "execution_count": 86,
     "metadata": {},
     "output_type": "execute_result"
    }
   ],
   "source": [
    "trkr_pipeline_one.loc[trkr_pipeline_one['Request ID']=='17296'][['Request ID', 'GUID', 'Customer Name', 'Deal ID', 'Account Name',\n",
    "       'Account Name (English)', 'Level 01 Territory', 'Level 02 Territory',\n",
    "       'Level 03 Territory','Business Entity', 'Services',\n",
    "       'Service Source', 'Technology Name', 'Stage', 'Opportunity Name','Opportunity Value',\n",
    "       'Fiscal Month', 'Fiscal Period', 'Fiscal Quarter', 'Fiscal Year',\n",
    "       'Group', 'Type']]"
   ]
  },
  {
   "cell_type": "code",
   "execution_count": 87,
   "metadata": {},
   "outputs": [],
   "source": [
    "sfdc_pipeline = new_sfdc.loc[new_sfdc['GUID'].isin(guidlist)]"
   ]
  },
  {
   "cell_type": "code",
   "execution_count": 88,
   "metadata": {},
   "outputs": [
    {
     "name": "stderr",
     "output_type": "stream",
     "text": [
      "C:\\Users\\phsheari\\.conda\\envs\\compass_env\\lib\\site-packages\\pandas\\core\\indexing.py:1676: SettingWithCopyWarning: \n",
      "A value is trying to be set on a copy of a slice from a DataFrame.\n",
      "Try using .loc[row_indexer,col_indexer] = value instead\n",
      "\n",
      "See the caveats in the documentation: https://pandas.pydata.org/pandas-docs/stable/user_guide/indexing.html#returning-a-view-versus-a-copy\n",
      "  self._setitem_single_column(ilocs[0], value, pi)\n"
     ]
    }
   ],
   "source": [
    "sfdc_pipeline.loc[:,'Account Name'] = sfdc_pipeline.apply(lambda x: update_qumark_account_names(x['Account Name'], x['Account Name (English)']), axis=1)"
   ]
  },
  {
   "cell_type": "code",
   "execution_count": 89,
   "metadata": {},
   "outputs": [],
   "source": [
    "# sfdc_pipeline"
   ]
  },
  {
   "cell_type": "markdown",
   "metadata": {},
   "source": [
    "### Consolidating the rows from the Tracker Pipeline/SFDC merge"
   ]
  },
  {
   "cell_type": "code",
   "execution_count": 90,
   "metadata": {},
   "outputs": [],
   "source": [
    "trkr_values = trkr_pipeline_one.groupby(['Request ID', 'Business Entity','Type','Opportunity Name'])['Opportunity Value'].sum()"
   ]
  },
  {
   "cell_type": "code",
   "execution_count": 91,
   "metadata": {},
   "outputs": [],
   "source": [
    "trkr_dimensions = trkr_pipeline_one[['Request ID', 'GUID', 'Customer Name', 'Deal ID',\n",
    "       'Account Name', 'Account Name (English)', 'Level 01 Territory', 'Level 02 Territory', 'Level 03 Territory', 'Level 04 Territory',\n",
    "       'Level 05 Territory', 'Level 06 Territory','Business Entity', 'Service Source', 'Forecast Status', 'Stage', 'Fiscal Month',\n",
    "       'Fiscal Period', 'Fiscal Quarter', 'Fiscal Year', 'Group', 'Type','Opportunity Record Type','Opportunity Status', 'Opportunity Name','Account Owner', 'Account Owner Alias',\n",
    "       ]].drop_duplicates()"
   ]
  },
  {
   "cell_type": "code",
   "execution_count": 92,
   "metadata": {},
   "outputs": [],
   "source": [
    "trkr_pipeline_final = trkr_dimensions.merge(trkr_values, how='left', on=['Request ID','Business Entity','Type','Opportunity Name'])\n",
    "trkr_pipeline_final = trkr_pipeline_final.merge(campaigns, how='left', on=['Request ID'])"
   ]
  },
  {
   "cell_type": "code",
   "execution_count": 93,
   "metadata": {},
   "outputs": [],
   "source": [
    "trkr_pipeline_final = trkr_pipeline_final[['Request ID', 'GUID', 'Customer Name','Campaign Type', 'Campaign', 'is_Targeting_Campaign', 'Deal ID', 'Account Name',\n",
    "       'Account Name (English)', 'Level 01 Territory', 'Level 02 Territory',\n",
    "       'Level 03 Territory', 'Level 04 Territory', 'Level 05 Territory',\n",
    "       'Level 06 Territory', 'Business Entity', 'Service Source', 'Forecast Status', 'Stage',\n",
    "       'Fiscal Month', 'Fiscal Period', 'Fiscal Quarter', 'Fiscal Year',\n",
    "       'Group', 'Type', 'Opportunity Record Type', 'Opportunity Status', 'Opportunity Name',\n",
    "       'Account Owner', 'Account Owner Alias', 'Opportunity Value', \n",
    "       ]]"
   ]
  },
  {
   "cell_type": "code",
   "execution_count": 94,
   "metadata": {},
   "outputs": [],
   "source": [
    "trkrperiods = trkr[['Request ID','Request FY','Request FQ','Request FM','Readout FY','Readout FQ','Readout FM']]"
   ]
  },
  {
   "cell_type": "code",
   "execution_count": 95,
   "metadata": {},
   "outputs": [],
   "source": [
    "trkr_pipeline_final = trkr_pipeline_final.merge(trkrperiods, how='inner', on='Request ID')"
   ]
  },
  {
   "cell_type": "code",
   "execution_count": 96,
   "metadata": {},
   "outputs": [],
   "source": [
    "# trkr_pipeline_final.loc[trkr_pipeline_final['Request ID']=='2021202114496'].to_excel(r'C:\\Users\\phsheari\\Desktop\\CheckPipeline.xlsx',index=False) #.drop_duplicates()"
   ]
  },
  {
   "cell_type": "code",
   "execution_count": 97,
   "metadata": {},
   "outputs": [
    {
     "data": {
      "text/plain": [
       "962"
      ]
     },
     "execution_count": 97,
     "metadata": {},
     "output_type": "execute_result"
    }
   ],
   "source": [
    "trkr_pipeline_final['Deal ID'].nunique()"
   ]
  },
  {
   "cell_type": "code",
   "execution_count": 98,
   "metadata": {},
   "outputs": [],
   "source": [
    "pipeline_years = ['2021','2022']"
   ]
  },
  {
   "cell_type": "code",
   "execution_count": 99,
   "metadata": {},
   "outputs": [
    {
     "name": "stderr",
     "output_type": "stream",
     "text": [
      "C:\\Users\\phsheari\\.conda\\envs\\compass_env\\lib\\site-packages\\pandas\\core\\indexing.py:1597: SettingWithCopyWarning: \n",
      "A value is trying to be set on a copy of a slice from a DataFrame.\n",
      "Try using .loc[row_indexer,col_indexer] = value instead\n",
      "\n",
      "See the caveats in the documentation: https://pandas.pydata.org/pandas-docs/stable/user_guide/indexing.html#returning-a-view-versus-a-copy\n",
      "  self.obj[key] = value\n"
     ]
    }
   ],
   "source": [
    "trkr_pipeline_final.loc[:,'Fiscal Year'] = trkr_pipeline_final['Fiscal Year'].astype(str)\n",
    "trkr_pipeline_final.loc[:,'Fiscal Quarter'] = trkr_pipeline_final['Fiscal Quarter'].astype(str)\n",
    "trkr_pipeline_final.loc[:,'Fiscal Y-Q'] = trkr_pipeline_final['Fiscal Year'] + \"-Q\" + trkr_pipeline_final['Fiscal Quarter']\n",
    "sfdc_pipeline.loc[:,'Fiscal Year'] = sfdc_pipeline['Fiscal Year'].astype(str)\n",
    "sfdc_pipeline.loc[:,'Fiscal Quarter'] = sfdc_pipeline['Fiscal Quarter'].astype(str)\n",
    "sfdc_pipeline.loc[:,'Fiscal Y-Q'] = sfdc_pipeline['Fiscal Year'] + \"-Q\" + sfdc_pipeline['Fiscal Quarter']"
   ]
  },
  {
   "cell_type": "code",
   "execution_count": 100,
   "metadata": {},
   "outputs": [],
   "source": [
    "trkr_pipeline_final.sort_values(by=['Request ID','Business Entity','Service Source'], inplace=True)"
   ]
  },
  {
   "cell_type": "code",
   "execution_count": 101,
   "metadata": {},
   "outputs": [],
   "source": [
    "trkr_pipeline_final.rename(columns={'Customer Name':'Compass Account Name','Account Name':'SFDC Account Name', 'Account Name (English)': 'SFDC Account Name (English)', 'Stage':'Forecast Stage', }, inplace=True)"
   ]
  },
  {
   "cell_type": "code",
   "execution_count": 102,
   "metadata": {},
   "outputs": [],
   "source": [
    "trkr_pipeline_final = trkr_pipeline_final[['Request ID', 'GUID', 'Compass Account Name', 'SFDC Account Name', 'SFDC Account Name (English)', 'Deal ID','Campaign Type', 'Campaign', 'is_Targeting_Campaign',\n",
    "                                           'Level 01 Territory', 'Level 02 Territory', 'Level 03 Territory',  'Level 04 Territory','Business Entity', 'Service Source', 'Forecast Stage', 'Forecast Status', 'Fiscal Month',\n",
    "                                           'Fiscal Quarter', 'Fiscal Year','Fiscal Y-Q', 'Opportunity Record Type', 'Opportunity Status', 'Account Owner', 'Opportunity Name','Opportunity Value', 'Type', 'Request FY','Request FQ','Request FM','Readout FY','Readout FQ','Readout FM']]"
   ]
  },
  {
   "cell_type": "code",
   "execution_count": 103,
   "metadata": {},
   "outputs": [],
   "source": [
    "trkr_pipeline_final.drop_duplicates(keep='first', inplace=True)"
   ]
  },
  {
   "cell_type": "code",
   "execution_count": 104,
   "metadata": {},
   "outputs": [],
   "source": [
    "trkr_pipeline_final = trkr_pipeline_final.loc[(trkr_pipeline_final['Request FY'] >= '2021')]# & (trkr_pipeline_final['Request FQ'] == '3') & (trkr_pipeline_final['Request ID']=='17296')]"
   ]
  },
  {
   "cell_type": "code",
   "execution_count": 105,
   "metadata": {},
   "outputs": [
    {
     "data": {
      "text/html": [
       "<div>\n",
       "<style scoped>\n",
       "    .dataframe tbody tr th:only-of-type {\n",
       "        vertical-align: middle;\n",
       "    }\n",
       "\n",
       "    .dataframe tbody tr th {\n",
       "        vertical-align: top;\n",
       "    }\n",
       "\n",
       "    .dataframe thead th {\n",
       "        text-align: right;\n",
       "    }\n",
       "</style>\n",
       "<table border=\"1\" class=\"dataframe\">\n",
       "  <thead>\n",
       "    <tr style=\"text-align: right;\">\n",
       "      <th></th>\n",
       "      <th>Request ID</th>\n",
       "      <th>GUID</th>\n",
       "      <th>Compass Account Name</th>\n",
       "      <th>SFDC Account Name</th>\n",
       "      <th>SFDC Account Name (English)</th>\n",
       "      <th>Deal ID</th>\n",
       "      <th>Campaign Type</th>\n",
       "      <th>Campaign</th>\n",
       "      <th>is_Targeting_Campaign</th>\n",
       "      <th>Level 01 Territory</th>\n",
       "      <th>...</th>\n",
       "      <th>Account Owner</th>\n",
       "      <th>Opportunity Name</th>\n",
       "      <th>Opportunity Value</th>\n",
       "      <th>Type</th>\n",
       "      <th>Request FY</th>\n",
       "      <th>Request FQ</th>\n",
       "      <th>Request FM</th>\n",
       "      <th>Readout FY</th>\n",
       "      <th>Readout FQ</th>\n",
       "      <th>Readout FM</th>\n",
       "    </tr>\n",
       "  </thead>\n",
       "  <tbody>\n",
       "  </tbody>\n",
       "</table>\n",
       "<p>0 rows × 33 columns</p>\n",
       "</div>"
      ],
      "text/plain": [
       "Empty DataFrame\n",
       "Columns: [Request ID, GUID, Compass Account Name, SFDC Account Name, SFDC Account Name (English), Deal ID, Campaign Type, Campaign, is_Targeting_Campaign, Level 01 Territory, Level 02 Territory, Level 03 Territory, Level 04 Territory, Business Entity, Service Source, Forecast Stage, Forecast Status, Fiscal Month, Fiscal Quarter, Fiscal Year, Fiscal Y-Q, Opportunity Record Type, Opportunity Status, Account Owner, Opportunity Name, Opportunity Value, Type, Request FY, Request FQ, Request FM, Readout FY, Readout FQ, Readout FM]\n",
       "Index: []\n",
       "\n",
       "[0 rows x 33 columns]"
      ]
     },
     "execution_count": 105,
     "metadata": {},
     "output_type": "execute_result"
    }
   ],
   "source": [
    "trkr_pipeline_final.loc[(trkr_pipeline_final['Request ID'] == '17296')]"
   ]
  },
  {
   "cell_type": "code",
   "execution_count": 106,
   "metadata": {},
   "outputs": [
    {
     "data": {
      "text/plain": [
       "array(['New', 'Renewal'], dtype=object)"
      ]
     },
     "execution_count": 106,
     "metadata": {},
     "output_type": "execute_result"
    }
   ],
   "source": [
    "sfdc_pipeline['Service Source'].unique()"
   ]
  },
  {
   "cell_type": "code",
   "execution_count": 107,
   "metadata": {},
   "outputs": [],
   "source": [
    "trkr_pipeline_final.loc[trkr_pipeline_final['Fiscal Year'].isin(pipeline_years)].to_excel(r'C:\\Users\\phsheari\\Desktop\\TrkrPipeline.xlsx', sheet_name='Data', index=False)\n",
    "trkr_pipeline_final.loc[trkr_pipeline_final['Fiscal Year'].isin(pipeline_years)].to_excel(r'C:\\Users\\phsheari\\Documents\\Compass Tableau Data\\TrkrPipeline.xlsx', sheet_name='Data', index=False)\n",
    "trkr_pipeline_final.loc[trkr_pipeline_final['Fiscal Year'].isin(pipeline_years)].to_excel(r'C:\\Users\\phsheari\\Documents\\Compass Tableau Data\\TrkrPipeline' + today + '.xlsx', sheet_name='Data', index=False)\n",
    "sfdc_pipeline.loc[sfdc_pipeline['Fiscal Year'].isin(pipeline_years)].to_excel(r'C:\\Users\\phsheari\\Documents\\Compass Tableau Data\\Salesforce_Pipeline.xlsx', index=False)"
   ]
  },
  {
   "cell_type": "code",
   "execution_count": 108,
   "metadata": {},
   "outputs": [],
   "source": [
    "trkr_pipeline_dollars = pd.pivot_table(data=trkr_pipeline_final.loc[(trkr_pipeline_final['Fiscal Year'].isin(pipeline_years))], index=['Fiscal Year','Fiscal Quarter','Level 01 Territory'], columns=['Service Source','Forecast Stage'], values='Opportunity Value', aggfunc='sum', margins=True, margins_name='Total').fillna(0.0)"
   ]
  },
  {
   "cell_type": "code",
   "execution_count": 109,
   "metadata": {},
   "outputs": [
    {
     "data": {
      "text/plain": [
       "pandas.core.frame.DataFrame"
      ]
     },
     "execution_count": 109,
     "metadata": {},
     "output_type": "execute_result"
    }
   ],
   "source": [
    "type(trkr_pipeline_dollars)"
   ]
  },
  {
   "cell_type": "code",
   "execution_count": 110,
   "metadata": {},
   "outputs": [],
   "source": [
    "trkr_pipeline_count = pd.pivot_table(data=trkr_pipeline_final.loc[(trkr_pipeline_final['Fiscal Year'].isin(pipeline_years))], index=['Fiscal Year','Fiscal Quarter','Level 01 Territory',], columns='Forecast Stage', values='Opportunity Value', aggfunc='count', margins=True, margins_name='Total').fillna(0.0)"
   ]
  },
  {
   "cell_type": "code",
   "execution_count": 111,
   "metadata": {},
   "outputs": [
    {
     "data": {
      "text/html": [
       "<div>\n",
       "<style scoped>\n",
       "    .dataframe tbody tr th:only-of-type {\n",
       "        vertical-align: middle;\n",
       "    }\n",
       "\n",
       "    .dataframe tbody tr th {\n",
       "        vertical-align: top;\n",
       "    }\n",
       "\n",
       "    .dataframe thead th {\n",
       "        text-align: right;\n",
       "    }\n",
       "</style>\n",
       "<table border=\"1\" class=\"dataframe\">\n",
       "  <thead>\n",
       "    <tr style=\"text-align: right;\">\n",
       "      <th></th>\n",
       "      <th></th>\n",
       "      <th>Forecast Stage</th>\n",
       "      <th>1 - Prospect</th>\n",
       "      <th>2 - Qualification</th>\n",
       "      <th>3 - Proposal</th>\n",
       "      <th>4 - Agreement</th>\n",
       "      <th>Total</th>\n",
       "    </tr>\n",
       "    <tr>\n",
       "      <th>Fiscal Year</th>\n",
       "      <th>Fiscal Quarter</th>\n",
       "      <th>Level 01 Territory</th>\n",
       "      <th></th>\n",
       "      <th></th>\n",
       "      <th></th>\n",
       "      <th></th>\n",
       "      <th></th>\n",
       "    </tr>\n",
       "  </thead>\n",
       "  <tbody>\n",
       "    <tr>\n",
       "      <th rowspan=\"6\" valign=\"top\">2021</th>\n",
       "      <th>1</th>\n",
       "      <th>AMERICAS</th>\n",
       "      <td>1.0</td>\n",
       "      <td>0.0</td>\n",
       "      <td>1.0</td>\n",
       "      <td>0.0</td>\n",
       "      <td>2</td>\n",
       "    </tr>\n",
       "    <tr>\n",
       "      <th>2</th>\n",
       "      <th>AMERICAS</th>\n",
       "      <td>6.0</td>\n",
       "      <td>1.0</td>\n",
       "      <td>0.0</td>\n",
       "      <td>0.0</td>\n",
       "      <td>7</td>\n",
       "    </tr>\n",
       "    <tr>\n",
       "      <th rowspan=\"2\" valign=\"top\">3</th>\n",
       "      <th>AMERICAS</th>\n",
       "      <td>6.0</td>\n",
       "      <td>0.0</td>\n",
       "      <td>0.0</td>\n",
       "      <td>0.0</td>\n",
       "      <td>6</td>\n",
       "    </tr>\n",
       "    <tr>\n",
       "      <th>APJC</th>\n",
       "      <td>1.0</td>\n",
       "      <td>0.0</td>\n",
       "      <td>0.0</td>\n",
       "      <td>0.0</td>\n",
       "      <td>1</td>\n",
       "    </tr>\n",
       "    <tr>\n",
       "      <th rowspan=\"2\" valign=\"top\">4</th>\n",
       "      <th>AMERICAS</th>\n",
       "      <td>9.0</td>\n",
       "      <td>6.0</td>\n",
       "      <td>2.0</td>\n",
       "      <td>1.0</td>\n",
       "      <td>18</td>\n",
       "    </tr>\n",
       "    <tr>\n",
       "      <th>EMEAR-REGION</th>\n",
       "      <td>2.0</td>\n",
       "      <td>0.0</td>\n",
       "      <td>0.0</td>\n",
       "      <td>0.0</td>\n",
       "      <td>2</td>\n",
       "    </tr>\n",
       "    <tr>\n",
       "      <th rowspan=\"10\" valign=\"top\">2022</th>\n",
       "      <th rowspan=\"2\" valign=\"top\">1</th>\n",
       "      <th>AMERICAS</th>\n",
       "      <td>10.0</td>\n",
       "      <td>5.0</td>\n",
       "      <td>1.0</td>\n",
       "      <td>0.0</td>\n",
       "      <td>16</td>\n",
       "    </tr>\n",
       "    <tr>\n",
       "      <th>EMEAR-REGION</th>\n",
       "      <td>1.0</td>\n",
       "      <td>0.0</td>\n",
       "      <td>0.0</td>\n",
       "      <td>1.0</td>\n",
       "      <td>2</td>\n",
       "    </tr>\n",
       "    <tr>\n",
       "      <th rowspan=\"2\" valign=\"top\">2</th>\n",
       "      <th>AMERICAS</th>\n",
       "      <td>16.0</td>\n",
       "      <td>2.0</td>\n",
       "      <td>3.0</td>\n",
       "      <td>3.0</td>\n",
       "      <td>24</td>\n",
       "    </tr>\n",
       "    <tr>\n",
       "      <th>APJC</th>\n",
       "      <td>1.0</td>\n",
       "      <td>0.0</td>\n",
       "      <td>2.0</td>\n",
       "      <td>0.0</td>\n",
       "      <td>3</td>\n",
       "    </tr>\n",
       "    <tr>\n",
       "      <th rowspan=\"3\" valign=\"top\">3</th>\n",
       "      <th>AMERICAS</th>\n",
       "      <td>17.0</td>\n",
       "      <td>26.0</td>\n",
       "      <td>50.0</td>\n",
       "      <td>76.0</td>\n",
       "      <td>169</td>\n",
       "    </tr>\n",
       "    <tr>\n",
       "      <th>APJC</th>\n",
       "      <td>1.0</td>\n",
       "      <td>7.0</td>\n",
       "      <td>15.0</td>\n",
       "      <td>11.0</td>\n",
       "      <td>34</td>\n",
       "    </tr>\n",
       "    <tr>\n",
       "      <th>EMEAR-REGION</th>\n",
       "      <td>6.0</td>\n",
       "      <td>3.0</td>\n",
       "      <td>11.0</td>\n",
       "      <td>35.0</td>\n",
       "      <td>55</td>\n",
       "    </tr>\n",
       "    <tr>\n",
       "      <th rowspan=\"3\" valign=\"top\">4</th>\n",
       "      <th>AMERICAS</th>\n",
       "      <td>29.0</td>\n",
       "      <td>147.0</td>\n",
       "      <td>190.0</td>\n",
       "      <td>263.0</td>\n",
       "      <td>629</td>\n",
       "    </tr>\n",
       "    <tr>\n",
       "      <th>APJC</th>\n",
       "      <td>13.0</td>\n",
       "      <td>9.0</td>\n",
       "      <td>5.0</td>\n",
       "      <td>6.0</td>\n",
       "      <td>33</td>\n",
       "    </tr>\n",
       "    <tr>\n",
       "      <th>EMEAR-REGION</th>\n",
       "      <td>10.0</td>\n",
       "      <td>31.0</td>\n",
       "      <td>23.0</td>\n",
       "      <td>101.0</td>\n",
       "      <td>165</td>\n",
       "    </tr>\n",
       "    <tr>\n",
       "      <th>Total</th>\n",
       "      <th></th>\n",
       "      <th></th>\n",
       "      <td>129.0</td>\n",
       "      <td>237.0</td>\n",
       "      <td>303.0</td>\n",
       "      <td>497.0</td>\n",
       "      <td>1166</td>\n",
       "    </tr>\n",
       "  </tbody>\n",
       "</table>\n",
       "</div>"
      ],
      "text/plain": [
       "Forecast Stage                                 1 - Prospect  \\\n",
       "Fiscal Year Fiscal Quarter Level 01 Territory                 \n",
       "2021        1              AMERICAS                     1.0   \n",
       "            2              AMERICAS                     6.0   \n",
       "            3              AMERICAS                     6.0   \n",
       "                           APJC                         1.0   \n",
       "            4              AMERICAS                     9.0   \n",
       "                           EMEAR-REGION                 2.0   \n",
       "2022        1              AMERICAS                    10.0   \n",
       "                           EMEAR-REGION                 1.0   \n",
       "            2              AMERICAS                    16.0   \n",
       "                           APJC                         1.0   \n",
       "            3              AMERICAS                    17.0   \n",
       "                           APJC                         1.0   \n",
       "                           EMEAR-REGION                 6.0   \n",
       "            4              AMERICAS                    29.0   \n",
       "                           APJC                        13.0   \n",
       "                           EMEAR-REGION                10.0   \n",
       "Total                                                 129.0   \n",
       "\n",
       "Forecast Stage                                 2 - Qualification  \\\n",
       "Fiscal Year Fiscal Quarter Level 01 Territory                      \n",
       "2021        1              AMERICAS                          0.0   \n",
       "            2              AMERICAS                          1.0   \n",
       "            3              AMERICAS                          0.0   \n",
       "                           APJC                              0.0   \n",
       "            4              AMERICAS                          6.0   \n",
       "                           EMEAR-REGION                      0.0   \n",
       "2022        1              AMERICAS                          5.0   \n",
       "                           EMEAR-REGION                      0.0   \n",
       "            2              AMERICAS                          2.0   \n",
       "                           APJC                              0.0   \n",
       "            3              AMERICAS                         26.0   \n",
       "                           APJC                              7.0   \n",
       "                           EMEAR-REGION                      3.0   \n",
       "            4              AMERICAS                        147.0   \n",
       "                           APJC                              9.0   \n",
       "                           EMEAR-REGION                     31.0   \n",
       "Total                                                      237.0   \n",
       "\n",
       "Forecast Stage                                 3 - Proposal  4 - Agreement  \\\n",
       "Fiscal Year Fiscal Quarter Level 01 Territory                                \n",
       "2021        1              AMERICAS                     1.0            0.0   \n",
       "            2              AMERICAS                     0.0            0.0   \n",
       "            3              AMERICAS                     0.0            0.0   \n",
       "                           APJC                         0.0            0.0   \n",
       "            4              AMERICAS                     2.0            1.0   \n",
       "                           EMEAR-REGION                 0.0            0.0   \n",
       "2022        1              AMERICAS                     1.0            0.0   \n",
       "                           EMEAR-REGION                 0.0            1.0   \n",
       "            2              AMERICAS                     3.0            3.0   \n",
       "                           APJC                         2.0            0.0   \n",
       "            3              AMERICAS                    50.0           76.0   \n",
       "                           APJC                        15.0           11.0   \n",
       "                           EMEAR-REGION                11.0           35.0   \n",
       "            4              AMERICAS                   190.0          263.0   \n",
       "                           APJC                         5.0            6.0   \n",
       "                           EMEAR-REGION                23.0          101.0   \n",
       "Total                                                 303.0          497.0   \n",
       "\n",
       "Forecast Stage                                 Total  \n",
       "Fiscal Year Fiscal Quarter Level 01 Territory         \n",
       "2021        1              AMERICAS                2  \n",
       "            2              AMERICAS                7  \n",
       "            3              AMERICAS                6  \n",
       "                           APJC                    1  \n",
       "            4              AMERICAS               18  \n",
       "                           EMEAR-REGION            2  \n",
       "2022        1              AMERICAS               16  \n",
       "                           EMEAR-REGION            2  \n",
       "            2              AMERICAS               24  \n",
       "                           APJC                    3  \n",
       "            3              AMERICAS              169  \n",
       "                           APJC                   34  \n",
       "                           EMEAR-REGION           55  \n",
       "            4              AMERICAS              629  \n",
       "                           APJC                   33  \n",
       "                           EMEAR-REGION          165  \n",
       "Total                                           1166  "
      ]
     },
     "execution_count": 111,
     "metadata": {},
     "output_type": "execute_result"
    }
   ],
   "source": [
    "trkr_pipeline_count"
   ]
  },
  {
   "cell_type": "code",
   "execution_count": null,
   "metadata": {},
   "outputs": [],
   "source": []
  }
 ],
 "metadata": {
  "kernelspec": {
   "display_name": "Python 3",
   "language": "python",
   "name": "python3"
  },
  "language_info": {
   "codemirror_mode": {
    "name": "ipython",
    "version": 3
   },
   "file_extension": ".py",
   "mimetype": "text/x-python",
   "name": "python",
   "nbconvert_exporter": "python",
   "pygments_lexer": "ipython3",
   "version": "3.9.5"
  }
 },
 "nbformat": 4,
 "nbformat_minor": 4
}
