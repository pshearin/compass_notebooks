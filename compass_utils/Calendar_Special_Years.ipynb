{
 "cells": [
  {
   "cell_type": "code",
   "execution_count": 42,
   "id": "modified-nigeria",
   "metadata": {},
   "outputs": [],
   "source": [
    "import pandas as pd\n",
    "import datetime as dt\n",
    "from dateutil import rrule"
   ]
  },
  {
   "cell_type": "code",
   "execution_count": 43,
   "id": "preliminary-alert",
   "metadata": {},
   "outputs": [],
   "source": [
    "# startdate = dt.datetime.today()"
   ]
  },
  {
   "cell_type": "code",
   "execution_count": 44,
   "id": "resistant-reservoir",
   "metadata": {},
   "outputs": [],
   "source": [
    "startdate = dt.datetime(1999,1,1)"
   ]
  },
  {
   "cell_type": "code",
   "execution_count": 45,
   "id": "c60f182f-4647-4077-a382-4f94eeaf2a68",
   "metadata": {},
   "outputs": [],
   "source": [
    "year_count = 301"
   ]
  },
  {
   "cell_type": "code",
   "execution_count": 46,
   "id": "directed-relaxation",
   "metadata": {},
   "outputs": [],
   "source": [
    "rulelist = list(rrule.rrule(rrule.YEARLY, interval = 1, count=year_count, dtstart = startdate, bymonth=7, byweekday=rrule.SA(-1)))"
   ]
  },
  {
   "cell_type": "code",
   "execution_count": 48,
   "id": "hawaiian-celtic",
   "metadata": {},
   "outputs": [],
   "source": [
    "years = [rulelist[i+1].year for i in range(0,year_count -1)]"
   ]
  },
  {
   "cell_type": "code",
   "execution_count": 49,
   "id": "light-contemporary",
   "metadata": {},
   "outputs": [],
   "source": [
    "weeks = [(rulelist[i+1] - rulelist[i]).days/7 for i in range(0,year_count - 1)]"
   ]
  },
  {
   "cell_type": "code",
   "execution_count": 50,
   "id": "professional-blind",
   "metadata": {},
   "outputs": [],
   "source": [
    "yw= zip(years,weeks)"
   ]
  },
  {
   "cell_type": "code",
   "execution_count": 51,
   "id": "lesser-playback",
   "metadata": {},
   "outputs": [],
   "source": [
    "year_weeks = pd.DataFrame(data = yw, columns = ['years','weeks'])"
   ]
  },
  {
   "cell_type": "code",
   "execution_count": 52,
   "id": "southeast-simulation",
   "metadata": {},
   "outputs": [],
   "source": [
    "special_years = list(year_weeks.loc[year_weeks['weeks']==53]['years'])"
   ]
  },
  {
   "cell_type": "code",
   "execution_count": 53,
   "id": "considerable-alberta",
   "metadata": {},
   "outputs": [
    {
     "data": {
      "text/plain": [
       "53"
      ]
     },
     "execution_count": 53,
     "metadata": {},
     "output_type": "execute_result"
    }
   ],
   "source": [
    "len(special_years)"
   ]
  },
  {
   "cell_type": "code",
   "execution_count": 54,
   "id": "convertible-laugh",
   "metadata": {},
   "outputs": [
    {
     "data": {
      "text/html": [
       "<div>\n",
       "<style scoped>\n",
       "    .dataframe tbody tr th:only-of-type {\n",
       "        vertical-align: middle;\n",
       "    }\n",
       "\n",
       "    .dataframe tbody tr th {\n",
       "        vertical-align: top;\n",
       "    }\n",
       "\n",
       "    .dataframe thead th {\n",
       "        text-align: right;\n",
       "    }\n",
       "</style>\n",
       "<table border=\"1\" class=\"dataframe\">\n",
       "  <thead>\n",
       "    <tr style=\"text-align: right;\">\n",
       "      <th></th>\n",
       "      <th>years</th>\n",
       "      <th>weeks</th>\n",
       "    </tr>\n",
       "  </thead>\n",
       "  <tbody>\n",
       "    <tr>\n",
       "      <th>0</th>\n",
       "      <td>2000</td>\n",
       "      <td>52.0</td>\n",
       "    </tr>\n",
       "    <tr>\n",
       "      <th>1</th>\n",
       "      <td>2001</td>\n",
       "      <td>52.0</td>\n",
       "    </tr>\n",
       "    <tr>\n",
       "      <th>2</th>\n",
       "      <td>2002</td>\n",
       "      <td>52.0</td>\n",
       "    </tr>\n",
       "    <tr>\n",
       "      <th>3</th>\n",
       "      <td>2003</td>\n",
       "      <td>52.0</td>\n",
       "    </tr>\n",
       "    <tr>\n",
       "      <th>4</th>\n",
       "      <td>2004</td>\n",
       "      <td>53.0</td>\n",
       "    </tr>\n",
       "    <tr>\n",
       "      <th>...</th>\n",
       "      <td>...</td>\n",
       "      <td>...</td>\n",
       "    </tr>\n",
       "    <tr>\n",
       "      <th>295</th>\n",
       "      <td>2295</td>\n",
       "      <td>52.0</td>\n",
       "    </tr>\n",
       "    <tr>\n",
       "      <th>296</th>\n",
       "      <td>2296</td>\n",
       "      <td>52.0</td>\n",
       "    </tr>\n",
       "    <tr>\n",
       "      <th>297</th>\n",
       "      <td>2297</td>\n",
       "      <td>53.0</td>\n",
       "    </tr>\n",
       "    <tr>\n",
       "      <th>298</th>\n",
       "      <td>2298</td>\n",
       "      <td>52.0</td>\n",
       "    </tr>\n",
       "    <tr>\n",
       "      <th>299</th>\n",
       "      <td>2299</td>\n",
       "      <td>52.0</td>\n",
       "    </tr>\n",
       "  </tbody>\n",
       "</table>\n",
       "<p>300 rows × 2 columns</p>\n",
       "</div>"
      ],
      "text/plain": [
       "     years  weeks\n",
       "0     2000   52.0\n",
       "1     2001   52.0\n",
       "2     2002   52.0\n",
       "3     2003   52.0\n",
       "4     2004   53.0\n",
       "..     ...    ...\n",
       "295   2295   52.0\n",
       "296   2296   52.0\n",
       "297   2297   53.0\n",
       "298   2298   52.0\n",
       "299   2299   52.0\n",
       "\n",
       "[300 rows x 2 columns]"
      ]
     },
     "execution_count": 54,
     "metadata": {},
     "output_type": "execute_result"
    }
   ],
   "source": [
    "year_weeks"
   ]
  },
  {
   "cell_type": "code",
   "execution_count": 55,
   "id": "visible-syndrome",
   "metadata": {},
   "outputs": [
    {
     "data": {
      "text/plain": [
       "[2004,\n",
       " 2010,\n",
       " 2016,\n",
       " 2021,\n",
       " 2027,\n",
       " 2032,\n",
       " 2038,\n",
       " 2044,\n",
       " 2049,\n",
       " 2055,\n",
       " 2060,\n",
       " 2066,\n",
       " 2072,\n",
       " 2077,\n",
       " 2083,\n",
       " 2088,\n",
       " 2094,\n",
       " 2100,\n",
       " 2106,\n",
       " 2112,\n",
       " 2117,\n",
       " 2123,\n",
       " 2128,\n",
       " 2134,\n",
       " 2140,\n",
       " 2145,\n",
       " 2151,\n",
       " 2156,\n",
       " 2162,\n",
       " 2168,\n",
       " 2173,\n",
       " 2179,\n",
       " 2184,\n",
       " 2190,\n",
       " 2196,\n",
       " 2202,\n",
       " 2208,\n",
       " 2213,\n",
       " 2219,\n",
       " 2224,\n",
       " 2230,\n",
       " 2236,\n",
       " 2241,\n",
       " 2247,\n",
       " 2252,\n",
       " 2258,\n",
       " 2264,\n",
       " 2269,\n",
       " 2275,\n",
       " 2280,\n",
       " 2286,\n",
       " 2292,\n",
       " 2297]"
      ]
     },
     "execution_count": 55,
     "metadata": {},
     "output_type": "execute_result"
    }
   ],
   "source": [
    "special_years"
   ]
  },
  {
   "cell_type": "code",
   "execution_count": null,
   "id": "2f98e2e6-cce0-4d85-a8d1-53aecb385598",
   "metadata": {},
   "outputs": [],
   "source": []
  }
 ],
 "metadata": {
  "kernelspec": {
   "display_name": "Python 3",
   "language": "python",
   "name": "python3"
  },
  "language_info": {
   "codemirror_mode": {
    "name": "ipython",
    "version": 3
   },
   "file_extension": ".py",
   "mimetype": "text/x-python",
   "name": "python",
   "nbconvert_exporter": "python",
   "pygments_lexer": "ipython3",
   "version": "3.9.5"
  }
 },
 "nbformat": 4,
 "nbformat_minor": 5
}
