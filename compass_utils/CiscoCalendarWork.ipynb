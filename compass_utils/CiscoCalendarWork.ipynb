{
 "cells": [
  {
   "cell_type": "code",
   "execution_count": 3,
   "metadata": {},
   "outputs": [],
   "source": [
    "import numpy as np\n",
    "import pandas as pd\n",
    "import datetime as dt\n",
    "from range_key_dict import RangeKeyDict\n",
    "import compass_utils.special_years\n",
    "starttime = dt.datetime.now()\n",
    "current_year = int(starttime.year)"
   ]
  },
  {
   "cell_type": "code",
   "execution_count": 4,
   "metadata": {},
   "outputs": [
    {
     "data": {
      "text/plain": [
       "'1999-08-01'"
      ]
     },
     "execution_count": 4,
     "metadata": {},
     "output_type": "execute_result"
    }
   ],
   "source": [
    "reference_start_date = dt.date(1999,8,1)  ### This should be the first day of FY 2001\n",
    "str(reference_start_date)"
   ]
  },
  {
   "cell_type": "code",
   "execution_count": 6,
   "metadata": {},
   "outputs": [],
   "source": [
    "###  Note: Cisco's fiscal year is 364 days normally. Every 6 years, their cycle adds an additional week, and their fiscal year becomes 371 days long.\n",
    "###  The list, \"special_years\", below, lists the years which were lengthened from 364 days to 371 days.\n",
    "\n",
    "how_many_years_to_track = 3\n",
    "\n",
    "reference_year_day_count = 364\n",
    "special_years_day_count = 371\n",
    "special_year_startyear = 2004\n",
    "special_year_endyear = current_year + how_many_years_to_track\n",
    "special_years = compass_utils.special_years.get_special_years()     #list(range(special_year_startyear, special_year_endyear, 6))\n",
    "years_list = list(range(2000,current_year + how_many_years_to_track + 1,1))\n",
    "\n",
    "# special_years = [2004,2010,2016,2022,2028,2034,2040,2046,2052,2058,2064,2070] # these are the years in which the days_in_year_count \n",
    "                                                                              # changes from 364 to 371 to reset the fiscal year cycle"
   ]
  },
  {
   "cell_type": "code",
   "execution_count": 8,
   "metadata": {},
   "outputs": [],
   "source": [
    "##Build list of years, incrementing by 1 starting from 2020\n",
    "\n",
    "# years_list = list(range(2000,2051,1))"
   ]
  },
  {
   "cell_type": "code",
   "execution_count": 9,
   "metadata": {},
   "outputs": [],
   "source": [
    "year_day_count = {}\n",
    "for year in years_list:\n",
    "    if year in special_years:\n",
    "        day_count = 371\n",
    "    else:\n",
    "        day_count = 364\n",
    "    year_day_count[year] = day_count"
   ]
  },
  {
   "cell_type": "code",
   "execution_count": 10,
   "metadata": {},
   "outputs": [],
   "source": [
    "# year_day_count\n",
    "# dt.date.isoformat(reference_start_date)"
   ]
  },
  {
   "cell_type": "code",
   "execution_count": 11,
   "metadata": {},
   "outputs": [],
   "source": [
    "dict_dates = {}\n",
    "# dict_dates[str(reference_start_date)] = 1\n",
    "day_increment = 1\n",
    "j = 0\n",
    "\n",
    "for y in years_list:\n",
    "    k = 0\n",
    "    for i in range(1,year_day_count[y]+1):     #this range is a count of days in the fiscal year indicated in the dict \"year_day_count\"\n",
    "        k+=1\n",
    "        dict_dates[str(reference_start_date + dt.timedelta(days=j))] = k\n",
    "        j+=1"
   ]
  },
  {
   "cell_type": "code",
   "execution_count": 12,
   "metadata": {},
   "outputs": [],
   "source": [
    "# dict_dates"
   ]
  },
  {
   "cell_type": "code",
   "execution_count": 13,
   "metadata": {},
   "outputs": [],
   "source": [
    "dict_fiscalyear = {}\n",
    "# dict_fiscalyear[str(reference_start_date)] = 2020\n",
    "#day_increment = 1\n",
    "j = 0\n",
    "\n",
    "for y in years_list:\n",
    "#     k = 0\n",
    "    for i in range(1,year_day_count[y]+1):     #this range is a count of days in the fiscal year indicated in the dict \"year_day_count\"\n",
    "        dict_fiscalyear[str(reference_start_date + dt.timedelta(days=j))] = y\n",
    "        j+=1"
   ]
  },
  {
   "cell_type": "code",
   "execution_count": 14,
   "metadata": {},
   "outputs": [
    {
     "data": {
      "text/plain": [
       "2021"
      ]
     },
     "execution_count": 14,
     "metadata": {},
     "output_type": "execute_result"
    }
   ],
   "source": [
    "dict_fiscalyear['2020-07-26']"
   ]
  },
  {
   "cell_type": "code",
   "execution_count": 15,
   "metadata": {},
   "outputs": [],
   "source": [
    "daynumbers = dict_dates.values()\n",
    "fiscalyears = dict_fiscalyear.values()\n",
    "dates = dict_dates.keys()\n",
    "\n",
    "df = pd.DataFrame(list(zip(dates,fiscalyears,daynumbers)),columns=['date','fiscalyear','daynumber'])"
   ]
  },
  {
   "cell_type": "code",
   "execution_count": 16,
   "metadata": {},
   "outputs": [
    {
     "data": {
      "text/html": [
       "<div>\n",
       "<style scoped>\n",
       "    .dataframe tbody tr th:only-of-type {\n",
       "        vertical-align: middle;\n",
       "    }\n",
       "\n",
       "    .dataframe tbody tr th {\n",
       "        vertical-align: top;\n",
       "    }\n",
       "\n",
       "    .dataframe thead th {\n",
       "        text-align: right;\n",
       "    }\n",
       "</style>\n",
       "<table border=\"1\" class=\"dataframe\">\n",
       "  <thead>\n",
       "    <tr style=\"text-align: right;\">\n",
       "      <th></th>\n",
       "      <th>date</th>\n",
       "      <th>fiscalyear</th>\n",
       "      <th>daynumber</th>\n",
       "    </tr>\n",
       "  </thead>\n",
       "  <tbody>\n",
       "    <tr>\n",
       "      <th>0</th>\n",
       "      <td>1999-08-01</td>\n",
       "      <td>2000</td>\n",
       "      <td>1</td>\n",
       "    </tr>\n",
       "    <tr>\n",
       "      <th>1</th>\n",
       "      <td>1999-08-02</td>\n",
       "      <td>2000</td>\n",
       "      <td>2</td>\n",
       "    </tr>\n",
       "    <tr>\n",
       "      <th>2</th>\n",
       "      <td>1999-08-03</td>\n",
       "      <td>2000</td>\n",
       "      <td>3</td>\n",
       "    </tr>\n",
       "    <tr>\n",
       "      <th>3</th>\n",
       "      <td>1999-08-04</td>\n",
       "      <td>2000</td>\n",
       "      <td>4</td>\n",
       "    </tr>\n",
       "    <tr>\n",
       "      <th>4</th>\n",
       "      <td>1999-08-05</td>\n",
       "      <td>2000</td>\n",
       "      <td>5</td>\n",
       "    </tr>\n",
       "    <tr>\n",
       "      <th>...</th>\n",
       "      <td>...</td>\n",
       "      <td>...</td>\n",
       "      <td>...</td>\n",
       "    </tr>\n",
       "    <tr>\n",
       "      <th>9123</th>\n",
       "      <td>2024-07-23</td>\n",
       "      <td>2024</td>\n",
       "      <td>360</td>\n",
       "    </tr>\n",
       "    <tr>\n",
       "      <th>9124</th>\n",
       "      <td>2024-07-24</td>\n",
       "      <td>2024</td>\n",
       "      <td>361</td>\n",
       "    </tr>\n",
       "    <tr>\n",
       "      <th>9125</th>\n",
       "      <td>2024-07-25</td>\n",
       "      <td>2024</td>\n",
       "      <td>362</td>\n",
       "    </tr>\n",
       "    <tr>\n",
       "      <th>9126</th>\n",
       "      <td>2024-07-26</td>\n",
       "      <td>2024</td>\n",
       "      <td>363</td>\n",
       "    </tr>\n",
       "    <tr>\n",
       "      <th>9127</th>\n",
       "      <td>2024-07-27</td>\n",
       "      <td>2024</td>\n",
       "      <td>364</td>\n",
       "    </tr>\n",
       "  </tbody>\n",
       "</table>\n",
       "<p>9128 rows × 3 columns</p>\n",
       "</div>"
      ],
      "text/plain": [
       "            date  fiscalyear  daynumber\n",
       "0     1999-08-01        2000          1\n",
       "1     1999-08-02        2000          2\n",
       "2     1999-08-03        2000          3\n",
       "3     1999-08-04        2000          4\n",
       "4     1999-08-05        2000          5\n",
       "...          ...         ...        ...\n",
       "9123  2024-07-23        2024        360\n",
       "9124  2024-07-24        2024        361\n",
       "9125  2024-07-25        2024        362\n",
       "9126  2024-07-26        2024        363\n",
       "9127  2024-07-27        2024        364\n",
       "\n",
       "[9128 rows x 3 columns]"
      ]
     },
     "execution_count": 16,
     "metadata": {},
     "output_type": "execute_result"
    }
   ],
   "source": [
    "df"
   ]
  },
  {
   "cell_type": "code",
   "execution_count": 17,
   "metadata": {},
   "outputs": [],
   "source": [
    "qlist = [] #qlist is short for quarter_list, containing tuples for each permutation of (year, quarter, days in the quarter)\n",
    "for year in years_list:\n",
    "    for q in list([1,2,3,4]):\n",
    "        if year in special_years and q == 3:\n",
    "            fiscalquarter = (year, q, (14*7))\n",
    "        else:\n",
    "            fiscalquarter = (year, q ,(13*7))\n",
    "        qlist.append(fiscalquarter)"
   ]
  },
  {
   "cell_type": "code",
   "execution_count": 18,
   "metadata": {},
   "outputs": [],
   "source": [
    "dfq = pd.DataFrame(qlist, columns=['fiscalyear','fiscalquarter','days_in_quarter'])"
   ]
  },
  {
   "cell_type": "code",
   "execution_count": 19,
   "metadata": {},
   "outputs": [],
   "source": [
    "dfqgb = dfq.groupby(['fiscalyear'])['days_in_quarter'].cumsum()"
   ]
  },
  {
   "cell_type": "code",
   "execution_count": 20,
   "metadata": {},
   "outputs": [
    {
     "data": {
      "text/plain": [
       "0      91\n",
       "1     182\n",
       "2     273\n",
       "3     364\n",
       "4      91\n",
       "     ... \n",
       "95    364\n",
       "96     91\n",
       "97    182\n",
       "98    273\n",
       "99    364\n",
       "Name: days_in_quarter, Length: 100, dtype: int64"
      ]
     },
     "execution_count": 20,
     "metadata": {},
     "output_type": "execute_result"
    }
   ],
   "source": [
    "dfqgb"
   ]
  },
  {
   "cell_type": "code",
   "execution_count": null,
   "metadata": {},
   "outputs": [],
   "source": []
  },
  {
   "cell_type": "code",
   "execution_count": 21,
   "metadata": {},
   "outputs": [],
   "source": [
    "pdq = pd.merge(dfq,dfqgb, left_on = dfq.index, right_on=dfqgb.index).drop(columns=['key_0']).rename(columns={'days_in_quarter_x':'days_in_quarter','days_in_quarter_y':'cume_days_in_quarter'})"
   ]
  },
  {
   "cell_type": "code",
   "execution_count": 22,
   "metadata": {},
   "outputs": [],
   "source": [
    "gx = pd.merge(pdq,pdq,how = 'left', left_on = [pdq.fiscalyear,pdq.index], right_on = [pdq.fiscalyear,pdq.index+1]).drop(columns=['key_0','key_1','fiscalyear_y','fiscalquarter_y','days_in_quarter_y']).fillna(0).rename(columns={'fiscalyear_x':'fiscalyear','fiscalquarter_x':'fiscalquarter','days_in_quarter_x':'days_in_quarter','cume_days_in_quarter_x':'quarterdays_end','cume_days_in_quarter_y':'quarterdays_begin'})"
   ]
  },
  {
   "cell_type": "code",
   "execution_count": 23,
   "metadata": {},
   "outputs": [],
   "source": [
    "test = pd.merge(df,gx, how='left',left_on = [df.fiscalyear], right_on = [gx.fiscalyear])"
   ]
  },
  {
   "cell_type": "code",
   "execution_count": 24,
   "metadata": {},
   "outputs": [],
   "source": [
    "test = test.loc[(test['daynumber'] > test['quarterdays_begin']) & (test['daynumber'] <= test['quarterdays_end'])].drop(columns=['fiscalyear_y','key_0']).rename(columns={'fiscalyear_x':'fiscalyear'})"
   ]
  },
  {
   "cell_type": "code",
   "execution_count": 25,
   "metadata": {},
   "outputs": [],
   "source": [
    "# test.reset_index(inplace=True)"
   ]
  },
  {
   "cell_type": "code",
   "execution_count": 26,
   "metadata": {},
   "outputs": [
    {
     "data": {
      "text/html": [
       "<div>\n",
       "<style scoped>\n",
       "    .dataframe tbody tr th:only-of-type {\n",
       "        vertical-align: middle;\n",
       "    }\n",
       "\n",
       "    .dataframe tbody tr th {\n",
       "        vertical-align: top;\n",
       "    }\n",
       "\n",
       "    .dataframe thead th {\n",
       "        text-align: right;\n",
       "    }\n",
       "</style>\n",
       "<table border=\"1\" class=\"dataframe\">\n",
       "  <thead>\n",
       "    <tr style=\"text-align: right;\">\n",
       "      <th></th>\n",
       "      <th>date</th>\n",
       "      <th>fiscalyear</th>\n",
       "      <th>daynumber</th>\n",
       "      <th>fiscalquarter</th>\n",
       "      <th>days_in_quarter</th>\n",
       "      <th>quarterdays_end</th>\n",
       "      <th>quarterdays_begin</th>\n",
       "    </tr>\n",
       "  </thead>\n",
       "  <tbody>\n",
       "    <tr>\n",
       "      <th>0</th>\n",
       "      <td>1999-08-01</td>\n",
       "      <td>2000</td>\n",
       "      <td>1</td>\n",
       "      <td>1</td>\n",
       "      <td>91</td>\n",
       "      <td>91</td>\n",
       "      <td>0.0</td>\n",
       "    </tr>\n",
       "    <tr>\n",
       "      <th>4</th>\n",
       "      <td>1999-08-02</td>\n",
       "      <td>2000</td>\n",
       "      <td>2</td>\n",
       "      <td>1</td>\n",
       "      <td>91</td>\n",
       "      <td>91</td>\n",
       "      <td>0.0</td>\n",
       "    </tr>\n",
       "    <tr>\n",
       "      <th>8</th>\n",
       "      <td>1999-08-03</td>\n",
       "      <td>2000</td>\n",
       "      <td>3</td>\n",
       "      <td>1</td>\n",
       "      <td>91</td>\n",
       "      <td>91</td>\n",
       "      <td>0.0</td>\n",
       "    </tr>\n",
       "    <tr>\n",
       "      <th>12</th>\n",
       "      <td>1999-08-04</td>\n",
       "      <td>2000</td>\n",
       "      <td>4</td>\n",
       "      <td>1</td>\n",
       "      <td>91</td>\n",
       "      <td>91</td>\n",
       "      <td>0.0</td>\n",
       "    </tr>\n",
       "    <tr>\n",
       "      <th>16</th>\n",
       "      <td>1999-08-05</td>\n",
       "      <td>2000</td>\n",
       "      <td>5</td>\n",
       "      <td>1</td>\n",
       "      <td>91</td>\n",
       "      <td>91</td>\n",
       "      <td>0.0</td>\n",
       "    </tr>\n",
       "    <tr>\n",
       "      <th>...</th>\n",
       "      <td>...</td>\n",
       "      <td>...</td>\n",
       "      <td>...</td>\n",
       "      <td>...</td>\n",
       "      <td>...</td>\n",
       "      <td>...</td>\n",
       "      <td>...</td>\n",
       "    </tr>\n",
       "    <tr>\n",
       "      <th>36495</th>\n",
       "      <td>2024-07-23</td>\n",
       "      <td>2024</td>\n",
       "      <td>360</td>\n",
       "      <td>4</td>\n",
       "      <td>91</td>\n",
       "      <td>364</td>\n",
       "      <td>273.0</td>\n",
       "    </tr>\n",
       "    <tr>\n",
       "      <th>36499</th>\n",
       "      <td>2024-07-24</td>\n",
       "      <td>2024</td>\n",
       "      <td>361</td>\n",
       "      <td>4</td>\n",
       "      <td>91</td>\n",
       "      <td>364</td>\n",
       "      <td>273.0</td>\n",
       "    </tr>\n",
       "    <tr>\n",
       "      <th>36503</th>\n",
       "      <td>2024-07-25</td>\n",
       "      <td>2024</td>\n",
       "      <td>362</td>\n",
       "      <td>4</td>\n",
       "      <td>91</td>\n",
       "      <td>364</td>\n",
       "      <td>273.0</td>\n",
       "    </tr>\n",
       "    <tr>\n",
       "      <th>36507</th>\n",
       "      <td>2024-07-26</td>\n",
       "      <td>2024</td>\n",
       "      <td>363</td>\n",
       "      <td>4</td>\n",
       "      <td>91</td>\n",
       "      <td>364</td>\n",
       "      <td>273.0</td>\n",
       "    </tr>\n",
       "    <tr>\n",
       "      <th>36511</th>\n",
       "      <td>2024-07-27</td>\n",
       "      <td>2024</td>\n",
       "      <td>364</td>\n",
       "      <td>4</td>\n",
       "      <td>91</td>\n",
       "      <td>364</td>\n",
       "      <td>273.0</td>\n",
       "    </tr>\n",
       "  </tbody>\n",
       "</table>\n",
       "<p>9128 rows × 7 columns</p>\n",
       "</div>"
      ],
      "text/plain": [
       "             date  fiscalyear  daynumber  fiscalquarter  days_in_quarter  \\\n",
       "0      1999-08-01        2000          1              1               91   \n",
       "4      1999-08-02        2000          2              1               91   \n",
       "8      1999-08-03        2000          3              1               91   \n",
       "12     1999-08-04        2000          4              1               91   \n",
       "16     1999-08-05        2000          5              1               91   \n",
       "...           ...         ...        ...            ...              ...   \n",
       "36495  2024-07-23        2024        360              4               91   \n",
       "36499  2024-07-24        2024        361              4               91   \n",
       "36503  2024-07-25        2024        362              4               91   \n",
       "36507  2024-07-26        2024        363              4               91   \n",
       "36511  2024-07-27        2024        364              4               91   \n",
       "\n",
       "       quarterdays_end  quarterdays_begin  \n",
       "0                   91                0.0  \n",
       "4                   91                0.0  \n",
       "8                   91                0.0  \n",
       "12                  91                0.0  \n",
       "16                  91                0.0  \n",
       "...                ...                ...  \n",
       "36495              364              273.0  \n",
       "36499              364              273.0  \n",
       "36503              364              273.0  \n",
       "36507              364              273.0  \n",
       "36511              364              273.0  \n",
       "\n",
       "[9128 rows x 7 columns]"
      ]
     },
     "execution_count": 26,
     "metadata": {},
     "output_type": "execute_result"
    }
   ],
   "source": [
    "test"
   ]
  },
  {
   "cell_type": "code",
   "execution_count": 27,
   "metadata": {},
   "outputs": [],
   "source": [
    "n_year_rkd_monthOfQtr = RangeKeyDict({\n",
    "    (1, 29): 1,\n",
    "    (29, 57): 2,\n",
    "    (57, 92): 3,\n",
    "    (92, 120): 1,\n",
    "    (120, 148): 2,\n",
    "    (148, 183): 3,\n",
    "    (183, 211): 1,\n",
    "    (211, 239): 2,\n",
    "    (239, 274): 3,\n",
    "    (274, 302): 1,\n",
    "    (302, 330): 2,\n",
    "    (330, 365): 3,      \n",
    "    })"
   ]
  },
  {
   "cell_type": "code",
   "execution_count": 28,
   "metadata": {},
   "outputs": [],
   "source": [
    "s_year_rkd_monthOfQtr = RangeKeyDict({\n",
    "    (1, 29): 1,  ### All keys in the 2nd position are 1 greater than the actual day count because the range function is n + 1\n",
    "    (29, 57): 2,\n",
    "    (57, 92): 3,\n",
    "    (92, 120): 1,\n",
    "    (120, 148): 2,\n",
    "    (148, 183): 3,\n",
    "    (183, 218): 1,\n",
    "    (218, 246): 2,\n",
    "    (246, 281): 3,\n",
    "    (281, 309): 1,\n",
    "    (309, 337): 2,\n",
    "    (337, 372): 3,      \n",
    "    })"
   ]
  },
  {
   "cell_type": "code",
   "execution_count": 29,
   "metadata": {},
   "outputs": [],
   "source": [
    "def get_monthOfQuarter(row):\n",
    "    if row.fiscalyear in special_years:\n",
    "        return s_year_rkd_monthOfQtr[row.daynumber]\n",
    "    else:\n",
    "        return n_year_rkd_monthOfQtr[row.daynumber]    "
   ]
  },
  {
   "cell_type": "code",
   "execution_count": 30,
   "metadata": {},
   "outputs": [],
   "source": [
    "test['month_of_quarter'] = test.apply(get_monthOfQuarter, axis=1)"
   ]
  },
  {
   "cell_type": "code",
   "execution_count": 31,
   "metadata": {},
   "outputs": [
    {
     "data": {
      "text/html": [
       "<div>\n",
       "<style scoped>\n",
       "    .dataframe tbody tr th:only-of-type {\n",
       "        vertical-align: middle;\n",
       "    }\n",
       "\n",
       "    .dataframe tbody tr th {\n",
       "        vertical-align: top;\n",
       "    }\n",
       "\n",
       "    .dataframe thead th {\n",
       "        text-align: right;\n",
       "    }\n",
       "</style>\n",
       "<table border=\"1\" class=\"dataframe\">\n",
       "  <thead>\n",
       "    <tr style=\"text-align: right;\">\n",
       "      <th></th>\n",
       "      <th>date</th>\n",
       "      <th>fiscalyear</th>\n",
       "      <th>daynumber</th>\n",
       "      <th>fiscalquarter</th>\n",
       "      <th>days_in_quarter</th>\n",
       "      <th>quarterdays_end</th>\n",
       "      <th>quarterdays_begin</th>\n",
       "      <th>month_of_quarter</th>\n",
       "    </tr>\n",
       "  </thead>\n",
       "  <tbody>\n",
       "    <tr>\n",
       "      <th>32986</th>\n",
       "      <td>2022-02-27</td>\n",
       "      <td>2022</td>\n",
       "      <td>211</td>\n",
       "      <td>3</td>\n",
       "      <td>91</td>\n",
       "      <td>273</td>\n",
       "      <td>182.0</td>\n",
       "      <td>2</td>\n",
       "    </tr>\n",
       "  </tbody>\n",
       "</table>\n",
       "</div>"
      ],
      "text/plain": [
       "             date  fiscalyear  daynumber  fiscalquarter  days_in_quarter  \\\n",
       "32986  2022-02-27        2022        211              3               91   \n",
       "\n",
       "       quarterdays_end  quarterdays_begin  month_of_quarter  \n",
       "32986              273              182.0                 2  "
      ]
     },
     "execution_count": 31,
     "metadata": {},
     "output_type": "execute_result"
    }
   ],
   "source": [
    "test.loc[(test['fiscalyear']==2022) & (test['daynumber']==211)]"
   ]
  },
  {
   "cell_type": "code",
   "execution_count": 32,
   "metadata": {},
   "outputs": [],
   "source": [
    "n_year_rkd_monthOfYear = RangeKeyDict({\n",
    "    (1, 29): 1,\n",
    "    (29, 57): 2,\n",
    "    (57, 92): 3,\n",
    "    (92, 120): 4,\n",
    "    (120, 148): 5,\n",
    "    (148, 183): 6,\n",
    "    (183, 211): 7,\n",
    "    (211, 239): 8,\n",
    "    (239, 274): 9,\n",
    "    (274, 302): 10,\n",
    "    (302, 330): 11,\n",
    "    (330, 365): 12,      \n",
    "    })"
   ]
  },
  {
   "cell_type": "code",
   "execution_count": 33,
   "metadata": {},
   "outputs": [],
   "source": [
    "s_year_rkd_monthOfYear = RangeKeyDict({\n",
    "    (1, 29): 1,  ### All keys in the 2nd position are 1 greater than the actual day count because the range function is n + 1\n",
    "    (29, 57): 2,\n",
    "    (57, 92): 3,\n",
    "    (92, 120): 4,\n",
    "    (120, 148): 5,\n",
    "    (148, 183): 6,\n",
    "    (183, 218): 7,\n",
    "    (218, 246): 8,\n",
    "    (246, 281): 9,\n",
    "    (281, 309): 10,\n",
    "    (309, 337): 11,\n",
    "    (337, 372): 12,      \n",
    "    })"
   ]
  },
  {
   "cell_type": "code",
   "execution_count": 34,
   "metadata": {},
   "outputs": [],
   "source": [
    "def get_monthOfFiscalYear(row):\n",
    "    if row.fiscalyear in special_years:\n",
    "        return s_year_rkd_monthOfYear[row.daynumber]\n",
    "    else:\n",
    "        return n_year_rkd_monthOfYear[row.daynumber]  "
   ]
  },
  {
   "cell_type": "code",
   "execution_count": 35,
   "metadata": {},
   "outputs": [],
   "source": [
    "test['month_of_fiscalyear'] = test.apply(get_monthOfFiscalYear, axis=1)"
   ]
  },
  {
   "cell_type": "code",
   "execution_count": 36,
   "metadata": {},
   "outputs": [
    {
     "data": {
      "text/html": [
       "<div>\n",
       "<style scoped>\n",
       "    .dataframe tbody tr th:only-of-type {\n",
       "        vertical-align: middle;\n",
       "    }\n",
       "\n",
       "    .dataframe tbody tr th {\n",
       "        vertical-align: top;\n",
       "    }\n",
       "\n",
       "    .dataframe thead th {\n",
       "        text-align: right;\n",
       "    }\n",
       "</style>\n",
       "<table border=\"1\" class=\"dataframe\">\n",
       "  <thead>\n",
       "    <tr style=\"text-align: right;\">\n",
       "      <th></th>\n",
       "      <th>date</th>\n",
       "      <th>fiscalyear</th>\n",
       "      <th>daynumber</th>\n",
       "      <th>fiscalquarter</th>\n",
       "      <th>days_in_quarter</th>\n",
       "      <th>quarterdays_end</th>\n",
       "      <th>quarterdays_begin</th>\n",
       "      <th>month_of_quarter</th>\n",
       "      <th>month_of_fiscalyear</th>\n",
       "    </tr>\n",
       "  </thead>\n",
       "  <tbody>\n",
       "    <tr>\n",
       "      <th>268</th>\n",
       "      <td>1999-10-07</td>\n",
       "      <td>2000</td>\n",
       "      <td>68</td>\n",
       "      <td>1</td>\n",
       "      <td>91</td>\n",
       "      <td>91</td>\n",
       "      <td>0.0</td>\n",
       "      <td>3</td>\n",
       "      <td>3</td>\n",
       "    </tr>\n",
       "    <tr>\n",
       "      <th>272</th>\n",
       "      <td>1999-10-08</td>\n",
       "      <td>2000</td>\n",
       "      <td>69</td>\n",
       "      <td>1</td>\n",
       "      <td>91</td>\n",
       "      <td>91</td>\n",
       "      <td>0.0</td>\n",
       "      <td>3</td>\n",
       "      <td>3</td>\n",
       "    </tr>\n",
       "  </tbody>\n",
       "</table>\n",
       "</div>"
      ],
      "text/plain": [
       "           date  fiscalyear  daynumber  fiscalquarter  days_in_quarter  \\\n",
       "268  1999-10-07        2000         68              1               91   \n",
       "272  1999-10-08        2000         69              1               91   \n",
       "\n",
       "     quarterdays_end  quarterdays_begin  month_of_quarter  month_of_fiscalyear  \n",
       "268               91                0.0                 3                    3  \n",
       "272               91                0.0                 3                    3  "
      ]
     },
     "execution_count": 36,
     "metadata": {},
     "output_type": "execute_result"
    }
   ],
   "source": [
    "test.loc[265:275]"
   ]
  },
  {
   "cell_type": "code",
   "execution_count": 37,
   "metadata": {},
   "outputs": [],
   "source": [
    "n_year_rkd_weekOfYear = RangeKeyDict({\n",
    "    (1, 8): 1,      \n",
    "    (8, 15): 2,\n",
    "    (15, 22): 3,    \n",
    "    (22, 29): 4,\n",
    "    (29, 36): 5,    \n",
    "    (35, 43): 6,\n",
    "    (43, 50): 7,    \n",
    "    (50, 57): 8,\n",
    "    (57, 64): 9,    \n",
    "    (64, 71): 10,\n",
    "    (71, 78): 11,   \n",
    "    (78, 85): 12,\n",
    "    (85, 92): 13,   \n",
    "    (92, 99): 14,\n",
    "    (99, 106): 15,  \n",
    "    (106, 113): 16,\n",
    "    (113, 120): 17, \n",
    "    (120, 127): 18,\n",
    "    (127, 134): 19, \n",
    "    (134, 141): 20,\n",
    "    (141, 148): 21, \n",
    "    (148, 155): 22,\n",
    "    (155, 162): 23, \n",
    "    (162, 169): 24,\n",
    "    (169, 176): 25, \n",
    "    (176, 183): 26,\n",
    "    (183, 190): 27, \n",
    "    (190, 197): 28,\n",
    "    (197, 204): 29, \n",
    "    (204, 211): 30,\n",
    "    (211, 218): 31, \n",
    "    (218, 225): 32,\n",
    "    (225, 232): 33, \n",
    "    (232, 239): 34,\n",
    "    (239, 246): 35, \n",
    "    (246, 253): 36,\n",
    "    (253, 260): 37, \n",
    "    (260, 267): 38,\n",
    "    (267, 274): 39, \n",
    "    (274, 281): 40,\n",
    "    (281, 288): 41, \n",
    "    (288, 295): 42,\n",
    "    (295, 302): 43, \n",
    "    (302, 309): 44,\n",
    "    (309, 316): 45, \n",
    "    (316, 323): 46,\n",
    "    (323, 330): 47, \n",
    "    (330, 337): 48,\n",
    "    (337, 344): 49, \n",
    "    (344, 351): 50,\n",
    "    (351, 358): 51, \n",
    "    (358, 365): 52   \n",
    "    })"
   ]
  },
  {
   "cell_type": "code",
   "execution_count": 38,
   "metadata": {},
   "outputs": [],
   "source": [
    "s_year_rkd_weekOfYear = RangeKeyDict({\n",
    "    (1, 8): 1,      \n",
    "    (8, 15): 2,\n",
    "    (15, 22): 3,    \n",
    "    (22, 29): 4,\n",
    "    (29, 36): 5,    \n",
    "    (35, 43): 6,\n",
    "    (43, 50): 7,    \n",
    "    (50, 57): 8,\n",
    "    (57, 64): 9,    \n",
    "    (64, 71): 10,\n",
    "    (71, 78): 11,   \n",
    "    (78, 85): 12,\n",
    "    (85, 92): 13,   \n",
    "    (92, 99): 14,\n",
    "    (99, 106): 15,  \n",
    "    (106, 113): 16,\n",
    "    (113, 120): 17, \n",
    "    (120, 127): 18,\n",
    "    (127, 134): 19, \n",
    "    (134, 141): 20,\n",
    "    (141, 148): 21, \n",
    "    (148, 155): 22,\n",
    "    (155, 162): 23, \n",
    "    (162, 169): 24,\n",
    "    (169, 176): 25, \n",
    "    (176, 183): 26,\n",
    "    (183, 190): 27, \n",
    "    (190, 197): 28,\n",
    "    (197, 204): 29, \n",
    "    (204, 211): 30,\n",
    "    (211, 218): 31, \n",
    "    (218, 225): 32,\n",
    "    (225, 232): 33, \n",
    "    (232, 239): 34,\n",
    "    (239, 246): 35, \n",
    "    (246, 253): 36,\n",
    "    (253, 260): 37, \n",
    "    (260, 267): 38,\n",
    "    (267, 274): 39, \n",
    "    (274, 281): 40,\n",
    "    (281, 288): 41, \n",
    "    (288, 295): 42,\n",
    "    (295, 302): 43, \n",
    "    (302, 309): 44,\n",
    "    (309, 316): 45, \n",
    "    (316, 323): 46,\n",
    "    (323, 330): 47, \n",
    "    (330, 337): 48,\n",
    "    (337, 344): 49, \n",
    "    (344, 351): 50,\n",
    "    (351, 358): 51, \n",
    "    (358, 365): 52,\n",
    "    (365, 372): 53,\n",
    "    })"
   ]
  },
  {
   "cell_type": "code",
   "execution_count": 39,
   "metadata": {},
   "outputs": [],
   "source": [
    "def get_weekOfFiscalYear(row):\n",
    "    if row.fiscalyear in special_years:\n",
    "        return s_year_rkd_weekOfYear[row.daynumber]\n",
    "    else:\n",
    "        return n_year_rkd_weekOfYear[row.daynumber]"
   ]
  },
  {
   "cell_type": "code",
   "execution_count": 40,
   "metadata": {},
   "outputs": [],
   "source": [
    "test['week_of_fiscalyear'] = test.apply(get_weekOfFiscalYear, axis=1)"
   ]
  },
  {
   "cell_type": "code",
   "execution_count": 41,
   "metadata": {},
   "outputs": [],
   "source": [
    "n_year_rkd_weekOfQtr = RangeKeyDict({\n",
    "    (1, 8): 1,      \n",
    "    (8, 15): 2,\n",
    "    (15, 22): 3,    \n",
    "    (22, 29): 4,\n",
    "    (29, 36): 5,    \n",
    "    (35, 43): 6,\n",
    "    (43, 50): 7,    \n",
    "    (50, 57): 8,\n",
    "    (57, 64): 9,    \n",
    "    (64, 71): 10,\n",
    "    (71, 78): 11,   \n",
    "    (78, 85): 12,\n",
    "    (85, 92): 13,   \n",
    "    (92, 99): 1,\n",
    "    (99, 106): 2,  \n",
    "    (106, 113): 3,\n",
    "    (113, 120): 4, \n",
    "    (120, 127): 5,\n",
    "    (127, 134): 6, \n",
    "    (134, 141): 7,\n",
    "    (141, 148): 8, \n",
    "    (148, 155): 9,\n",
    "    (155, 162): 10, \n",
    "    (162, 169): 11,\n",
    "    (169, 176): 12, \n",
    "    (176, 183): 13,\n",
    "    (183, 190): 1, \n",
    "    (190, 197): 2,\n",
    "    (197, 204): 3, \n",
    "    (204, 211): 4,\n",
    "    (211, 218): 5, \n",
    "    (218, 225): 6,\n",
    "    (225, 232): 7, \n",
    "    (232, 239): 8,\n",
    "    (239, 246): 9, \n",
    "    (246, 253): 10,\n",
    "    (253, 260): 11, \n",
    "    (260, 267): 12,\n",
    "    (267, 274): 13, \n",
    "    (274, 281): 1,\n",
    "    (281, 288): 2, \n",
    "    (288, 295): 3,\n",
    "    (295, 302): 4, \n",
    "    (302, 309): 5,\n",
    "    (309, 316): 6, \n",
    "    (316, 323): 7,\n",
    "    (323, 330): 8, \n",
    "    (330, 337): 9,\n",
    "    (337, 344): 10, \n",
    "    (344, 351): 11,\n",
    "    (351, 358): 12, \n",
    "    (358, 365): 13   \n",
    "    })"
   ]
  },
  {
   "cell_type": "code",
   "execution_count": 42,
   "metadata": {},
   "outputs": [],
   "source": [
    "s_year_rkd_weekOfQtr = RangeKeyDict({\n",
    "    (1, 8): 1,      \n",
    "    (8, 15): 2,\n",
    "    (15, 22): 3,    \n",
    "    (22, 29): 4,\n",
    "    (29, 36): 5,    \n",
    "    (35, 43): 6,\n",
    "    (43, 50): 7,    \n",
    "    (50, 57): 8,\n",
    "    (57, 64): 9,    \n",
    "    (64, 71): 10,\n",
    "    (71, 78): 11,   \n",
    "    (78, 85): 12,\n",
    "    (85, 92): 13,   \n",
    "    (92, 99): 1,\n",
    "    (99, 106): 2,  \n",
    "    (106, 113): 3,\n",
    "    (113, 120): 4, \n",
    "    (120, 127): 5,\n",
    "    (127, 134): 6, \n",
    "    (134, 141): 7,\n",
    "    (141, 148): 8, \n",
    "    (148, 155): 9,\n",
    "    (155, 162): 10, \n",
    "    (162, 169): 11,\n",
    "    (169, 176): 12, \n",
    "    (176, 183): 13,\n",
    "    (183, 190): 1, \n",
    "    (190, 197): 2,\n",
    "    (197, 204): 3, \n",
    "    (204, 211): 4,\n",
    "    (211, 218): 5, \n",
    "    (218, 225): 6,\n",
    "    (225, 232): 7, \n",
    "    (232, 239): 8,\n",
    "    (239, 246): 9, \n",
    "    (246, 253): 10,\n",
    "    (253, 260): 11, \n",
    "    (260, 267): 12,\n",
    "    (267, 274): 13, \n",
    "    (274, 281): 1,\n",
    "    (281, 288): 2, \n",
    "    (288, 295): 3,\n",
    "    (295, 302): 4, \n",
    "    (302, 309): 5,\n",
    "    (309, 316): 6, \n",
    "    (316, 323): 7,\n",
    "    (323, 330): 8, \n",
    "    (330, 337): 9,\n",
    "    (337, 344): 10, \n",
    "    (344, 351): 11,\n",
    "    (351, 358): 12, \n",
    "    (358, 365): 13,\n",
    "    (365, 372): 14,\n",
    "    })"
   ]
  },
  {
   "cell_type": "code",
   "execution_count": 43,
   "metadata": {},
   "outputs": [],
   "source": [
    "# get the week of the fiscal quarter\n",
    "def get_weekOfFiscalQuarter(row):\n",
    "    if row.fiscalyear in special_years:\n",
    "        return s_year_rkd_weekOfQtr[row.daynumber]\n",
    "    else:\n",
    "        return n_year_rkd_weekOfQtr[row.daynumber]"
   ]
  },
  {
   "cell_type": "code",
   "execution_count": 44,
   "metadata": {},
   "outputs": [],
   "source": [
    "test['week_of_fiscalquarter'] = test.apply(get_weekOfFiscalQuarter, axis=1)"
   ]
  },
  {
   "cell_type": "code",
   "execution_count": 45,
   "metadata": {},
   "outputs": [
    {
     "data": {
      "text/plain": [
       "'2024-07-27'"
      ]
     },
     "execution_count": 45,
     "metadata": {},
     "output_type": "execute_result"
    }
   ],
   "source": [
    "input_a_date = '2/29/2096'\n",
    "thisdate = dt.datetime.strptime(input_a_date, '%m/%d/%Y')\n",
    "thisdate = thisdate.isoformat()[:10]\n",
    "df_maxdate = test.date.max()\n",
    "df_maxdate"
   ]
  },
  {
   "cell_type": "code",
   "execution_count": 46,
   "metadata": {},
   "outputs": [],
   "source": [
    "def get_fiscal_year(input_a_date):\n",
    "    thisdate = dt.datetime.strptime(input_a_date, '%m/%d/%Y')\n",
    "    thisdate = thisdate.isoformat()[:10]\n",
    "    df_maxdate = test.date.max()\n",
    "    if thisdate > df_maxdate:\n",
    "        print(f\"The date queried is greater than the current maximum date: {df_maxdate}. Please input an earlier date.\")\n",
    "    else:\n",
    "        try:\n",
    "            checkyear = test.loc[test.date == thisdate]['fiscalyear'].values[0]\n",
    "            return checkyear\n",
    "        except ValueError:\n",
    "            print(f\"The date provided does not exist; Please check your input and re-enter a valid date.\")\n",
    "        "
   ]
  },
  {
   "cell_type": "code",
   "execution_count": 47,
   "metadata": {},
   "outputs": [
    {
     "data": {
      "text/plain": [
       "2023"
      ]
     },
     "execution_count": 47,
     "metadata": {},
     "output_type": "execute_result"
    }
   ],
   "source": [
    "get_fiscal_year('2/28/2023')"
   ]
  },
  {
   "cell_type": "code",
   "execution_count": 48,
   "metadata": {},
   "outputs": [],
   "source": [
    "# input_a_date = '5/26/2028'\n",
    "# date = dt.datetime.strptime(input_a_date, '%m/%d/%Y')\n",
    "\n",
    "## Add CALENDAR MONTH NUMBER and CALENDAR DAY OF MONTH to the dataframe"
   ]
  },
  {
   "cell_type": "code",
   "execution_count": 49,
   "metadata": {},
   "outputs": [
    {
     "data": {
      "text/html": [
       "<div>\n",
       "<style scoped>\n",
       "    .dataframe tbody tr th:only-of-type {\n",
       "        vertical-align: middle;\n",
       "    }\n",
       "\n",
       "    .dataframe tbody tr th {\n",
       "        vertical-align: top;\n",
       "    }\n",
       "\n",
       "    .dataframe thead th {\n",
       "        text-align: right;\n",
       "    }\n",
       "</style>\n",
       "<table border=\"1\" class=\"dataframe\">\n",
       "  <thead>\n",
       "    <tr style=\"text-align: right;\">\n",
       "      <th></th>\n",
       "      <th>date</th>\n",
       "      <th>fiscalyear</th>\n",
       "      <th>daynumber</th>\n",
       "      <th>fiscalquarter</th>\n",
       "      <th>days_in_quarter</th>\n",
       "      <th>quarterdays_end</th>\n",
       "      <th>quarterdays_begin</th>\n",
       "      <th>month_of_quarter</th>\n",
       "      <th>month_of_fiscalyear</th>\n",
       "      <th>week_of_fiscalyear</th>\n",
       "      <th>week_of_fiscalquarter</th>\n",
       "    </tr>\n",
       "  </thead>\n",
       "  <tbody>\n",
       "  </tbody>\n",
       "</table>\n",
       "</div>"
      ],
      "text/plain": [
       "Empty DataFrame\n",
       "Columns: [date, fiscalyear, daynumber, fiscalquarter, days_in_quarter, quarterdays_end, quarterdays_begin, month_of_quarter, month_of_fiscalyear, week_of_fiscalyear, week_of_fiscalquarter]\n",
       "Index: []"
      ]
     },
     "execution_count": 49,
     "metadata": {},
     "output_type": "execute_result"
    }
   ],
   "source": [
    "test.loc[test['date']=='2104-02-29']"
   ]
  },
  {
   "cell_type": "code",
   "execution_count": 50,
   "metadata": {},
   "outputs": [
    {
     "data": {
      "text/plain": [
       "datetime.timedelta(seconds=174, microseconds=758015)"
      ]
     },
     "execution_count": 50,
     "metadata": {},
     "output_type": "execute_result"
    }
   ],
   "source": [
    "endtime=dt.datetime.now()\n",
    "elapsed = endtime - starttime\n",
    "elapsed"
   ]
  },
  {
   "cell_type": "code",
   "execution_count": 51,
   "metadata": {},
   "outputs": [
    {
     "data": {
      "text/plain": [
       "(9128, 11)"
      ]
     },
     "execution_count": 51,
     "metadata": {},
     "output_type": "execute_result"
    }
   ],
   "source": [
    "test.shape"
   ]
  },
  {
   "cell_type": "code",
   "execution_count": 52,
   "metadata": {},
   "outputs": [
    {
     "data": {
      "text/html": [
       "<div>\n",
       "<style scoped>\n",
       "    .dataframe tbody tr th:only-of-type {\n",
       "        vertical-align: middle;\n",
       "    }\n",
       "\n",
       "    .dataframe tbody tr th {\n",
       "        vertical-align: top;\n",
       "    }\n",
       "\n",
       "    .dataframe thead th {\n",
       "        text-align: right;\n",
       "    }\n",
       "</style>\n",
       "<table border=\"1\" class=\"dataframe\">\n",
       "  <thead>\n",
       "    <tr style=\"text-align: right;\">\n",
       "      <th></th>\n",
       "      <th>date</th>\n",
       "      <th>fiscalyear</th>\n",
       "      <th>daynumber</th>\n",
       "      <th>fiscalquarter</th>\n",
       "      <th>days_in_quarter</th>\n",
       "      <th>quarterdays_end</th>\n",
       "      <th>quarterdays_begin</th>\n",
       "      <th>month_of_quarter</th>\n",
       "      <th>month_of_fiscalyear</th>\n",
       "      <th>week_of_fiscalyear</th>\n",
       "      <th>week_of_fiscalquarter</th>\n",
       "    </tr>\n",
       "  </thead>\n",
       "  <tbody>\n",
       "    <tr>\n",
       "      <th>0</th>\n",
       "      <td>1999-08-01</td>\n",
       "      <td>2000</td>\n",
       "      <td>1</td>\n",
       "      <td>1</td>\n",
       "      <td>91</td>\n",
       "      <td>91</td>\n",
       "      <td>0.0</td>\n",
       "      <td>1</td>\n",
       "      <td>1</td>\n",
       "      <td>1</td>\n",
       "      <td>1</td>\n",
       "    </tr>\n",
       "    <tr>\n",
       "      <th>4</th>\n",
       "      <td>1999-08-02</td>\n",
       "      <td>2000</td>\n",
       "      <td>2</td>\n",
       "      <td>1</td>\n",
       "      <td>91</td>\n",
       "      <td>91</td>\n",
       "      <td>0.0</td>\n",
       "      <td>1</td>\n",
       "      <td>1</td>\n",
       "      <td>1</td>\n",
       "      <td>1</td>\n",
       "    </tr>\n",
       "    <tr>\n",
       "      <th>8</th>\n",
       "      <td>1999-08-03</td>\n",
       "      <td>2000</td>\n",
       "      <td>3</td>\n",
       "      <td>1</td>\n",
       "      <td>91</td>\n",
       "      <td>91</td>\n",
       "      <td>0.0</td>\n",
       "      <td>1</td>\n",
       "      <td>1</td>\n",
       "      <td>1</td>\n",
       "      <td>1</td>\n",
       "    </tr>\n",
       "    <tr>\n",
       "      <th>12</th>\n",
       "      <td>1999-08-04</td>\n",
       "      <td>2000</td>\n",
       "      <td>4</td>\n",
       "      <td>1</td>\n",
       "      <td>91</td>\n",
       "      <td>91</td>\n",
       "      <td>0.0</td>\n",
       "      <td>1</td>\n",
       "      <td>1</td>\n",
       "      <td>1</td>\n",
       "      <td>1</td>\n",
       "    </tr>\n",
       "    <tr>\n",
       "      <th>16</th>\n",
       "      <td>1999-08-05</td>\n",
       "      <td>2000</td>\n",
       "      <td>5</td>\n",
       "      <td>1</td>\n",
       "      <td>91</td>\n",
       "      <td>91</td>\n",
       "      <td>0.0</td>\n",
       "      <td>1</td>\n",
       "      <td>1</td>\n",
       "      <td>1</td>\n",
       "      <td>1</td>\n",
       "    </tr>\n",
       "    <tr>\n",
       "      <th>...</th>\n",
       "      <td>...</td>\n",
       "      <td>...</td>\n",
       "      <td>...</td>\n",
       "      <td>...</td>\n",
       "      <td>...</td>\n",
       "      <td>...</td>\n",
       "      <td>...</td>\n",
       "      <td>...</td>\n",
       "      <td>...</td>\n",
       "      <td>...</td>\n",
       "      <td>...</td>\n",
       "    </tr>\n",
       "    <tr>\n",
       "      <th>36495</th>\n",
       "      <td>2024-07-23</td>\n",
       "      <td>2024</td>\n",
       "      <td>360</td>\n",
       "      <td>4</td>\n",
       "      <td>91</td>\n",
       "      <td>364</td>\n",
       "      <td>273.0</td>\n",
       "      <td>3</td>\n",
       "      <td>12</td>\n",
       "      <td>52</td>\n",
       "      <td>13</td>\n",
       "    </tr>\n",
       "    <tr>\n",
       "      <th>36499</th>\n",
       "      <td>2024-07-24</td>\n",
       "      <td>2024</td>\n",
       "      <td>361</td>\n",
       "      <td>4</td>\n",
       "      <td>91</td>\n",
       "      <td>364</td>\n",
       "      <td>273.0</td>\n",
       "      <td>3</td>\n",
       "      <td>12</td>\n",
       "      <td>52</td>\n",
       "      <td>13</td>\n",
       "    </tr>\n",
       "    <tr>\n",
       "      <th>36503</th>\n",
       "      <td>2024-07-25</td>\n",
       "      <td>2024</td>\n",
       "      <td>362</td>\n",
       "      <td>4</td>\n",
       "      <td>91</td>\n",
       "      <td>364</td>\n",
       "      <td>273.0</td>\n",
       "      <td>3</td>\n",
       "      <td>12</td>\n",
       "      <td>52</td>\n",
       "      <td>13</td>\n",
       "    </tr>\n",
       "    <tr>\n",
       "      <th>36507</th>\n",
       "      <td>2024-07-26</td>\n",
       "      <td>2024</td>\n",
       "      <td>363</td>\n",
       "      <td>4</td>\n",
       "      <td>91</td>\n",
       "      <td>364</td>\n",
       "      <td>273.0</td>\n",
       "      <td>3</td>\n",
       "      <td>12</td>\n",
       "      <td>52</td>\n",
       "      <td>13</td>\n",
       "    </tr>\n",
       "    <tr>\n",
       "      <th>36511</th>\n",
       "      <td>2024-07-27</td>\n",
       "      <td>2024</td>\n",
       "      <td>364</td>\n",
       "      <td>4</td>\n",
       "      <td>91</td>\n",
       "      <td>364</td>\n",
       "      <td>273.0</td>\n",
       "      <td>3</td>\n",
       "      <td>12</td>\n",
       "      <td>52</td>\n",
       "      <td>13</td>\n",
       "    </tr>\n",
       "  </tbody>\n",
       "</table>\n",
       "<p>9128 rows × 11 columns</p>\n",
       "</div>"
      ],
      "text/plain": [
       "             date  fiscalyear  daynumber  fiscalquarter  days_in_quarter  \\\n",
       "0      1999-08-01        2000          1              1               91   \n",
       "4      1999-08-02        2000          2              1               91   \n",
       "8      1999-08-03        2000          3              1               91   \n",
       "12     1999-08-04        2000          4              1               91   \n",
       "16     1999-08-05        2000          5              1               91   \n",
       "...           ...         ...        ...            ...              ...   \n",
       "36495  2024-07-23        2024        360              4               91   \n",
       "36499  2024-07-24        2024        361              4               91   \n",
       "36503  2024-07-25        2024        362              4               91   \n",
       "36507  2024-07-26        2024        363              4               91   \n",
       "36511  2024-07-27        2024        364              4               91   \n",
       "\n",
       "       quarterdays_end  quarterdays_begin  month_of_quarter  \\\n",
       "0                   91                0.0                 1   \n",
       "4                   91                0.0                 1   \n",
       "8                   91                0.0                 1   \n",
       "12                  91                0.0                 1   \n",
       "16                  91                0.0                 1   \n",
       "...                ...                ...               ...   \n",
       "36495              364              273.0                 3   \n",
       "36499              364              273.0                 3   \n",
       "36503              364              273.0                 3   \n",
       "36507              364              273.0                 3   \n",
       "36511              364              273.0                 3   \n",
       "\n",
       "       month_of_fiscalyear  week_of_fiscalyear  week_of_fiscalquarter  \n",
       "0                        1                   1                      1  \n",
       "4                        1                   1                      1  \n",
       "8                        1                   1                      1  \n",
       "12                       1                   1                      1  \n",
       "16                       1                   1                      1  \n",
       "...                    ...                 ...                    ...  \n",
       "36495                   12                  52                     13  \n",
       "36499                   12                  52                     13  \n",
       "36503                   12                  52                     13  \n",
       "36507                   12                  52                     13  \n",
       "36511                   12                  52                     13  \n",
       "\n",
       "[9128 rows x 11 columns]"
      ]
     },
     "execution_count": 52,
     "metadata": {},
     "output_type": "execute_result"
    }
   ],
   "source": [
    "test"
   ]
  },
  {
   "cell_type": "code",
   "execution_count": 57,
   "metadata": {},
   "outputs": [],
   "source": [
    "FY = dict(zip(test.date, test.fiscalyear))\n",
    "FQ = dict(zip(test.date, test.fiscalquarter))\n"
   ]
  },
  {
   "cell_type": "code",
   "execution_count": 59,
   "metadata": {},
   "outputs": [
    {
     "data": {
      "text/plain": [
       "3"
      ]
     },
     "execution_count": 59,
     "metadata": {},
     "output_type": "execute_result"
    }
   ],
   "source": [
    "FQ.get('2021-03-05')"
   ]
  },
  {
   "cell_type": "code",
   "execution_count": null,
   "metadata": {},
   "outputs": [],
   "source": []
  }
 ],
 "metadata": {
  "kernelspec": {
   "display_name": "Python 3",
   "language": "python",
   "name": "python3"
  },
  "language_info": {
   "codemirror_mode": {
    "name": "ipython",
    "version": 3
   },
   "file_extension": ".py",
   "mimetype": "text/x-python",
   "name": "python",
   "nbconvert_exporter": "python",
   "pygments_lexer": "ipython3",
   "version": "3.9.5"
  }
 },
 "nbformat": 4,
 "nbformat_minor": 4
}
