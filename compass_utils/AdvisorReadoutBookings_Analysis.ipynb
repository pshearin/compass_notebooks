{
 "cells": [
  {
   "cell_type": "code",
   "execution_count": 18,
   "id": "93aeab57-ceec-40bd-9fc1-8cfaa07d6a77",
   "metadata": {},
   "outputs": [],
   "source": [
    "import numpy as np\n",
    "import pandas as pd\n",
    "import cisco_fiscal_calendar as cfc"
   ]
  },
  {
   "cell_type": "code",
   "execution_count": 91,
   "id": "49a5d6a4-9b52-4090-8500-946c897e9f56",
   "metadata": {},
   "outputs": [],
   "source": [
    "pd.options.display.float_format = '{:,.2f}'.format"
   ]
  },
  {
   "cell_type": "code",
   "execution_count": 2,
   "id": "500e112a-58b1-4e4e-a75e-641f3d4ecfb7",
   "metadata": {},
   "outputs": [],
   "source": [
    "df = pd.read_pickle(r'C:\\Users\\phsheari\\Documents\\SFDC Data\\PIPELINE UPDATE\\SFDC_Trackerfile.pkl')"
   ]
  },
  {
   "cell_type": "code",
   "execution_count": 3,
   "id": "8866726d-1638-4dab-a570-0ce454a422d1",
   "metadata": {},
   "outputs": [],
   "source": [
    "df['Request ID'] = df['Request ID'].astype(str)"
   ]
  },
  {
   "cell_type": "code",
   "execution_count": 4,
   "id": "a95cb670-9de5-420d-bc2e-ca4a3e22f847",
   "metadata": {},
   "outputs": [],
   "source": [
    "df['Items Recommended'] = df['Items Recommended'].str.replace('\"','')"
   ]
  },
  {
   "cell_type": "code",
   "execution_count": 64,
   "id": "5961ce50-9293-462b-a537-28d2cf56a530",
   "metadata": {},
   "outputs": [],
   "source": [
    "adv = df.loc[df['Compass Advisor'].notnull()][['Request ID','Compass Advisor']]"
   ]
  },
  {
   "cell_type": "code",
   "execution_count": 67,
   "id": "1442c028-4eb7-400f-b31f-504cb04aa680",
   "metadata": {},
   "outputs": [],
   "source": [
    "adv['Request ID'] = adv['Request ID'].astype('int64')"
   ]
  },
  {
   "cell_type": "code",
   "execution_count": 76,
   "id": "9983df3a-3e72-4fa8-93e7-bfa2e4a1bea8",
   "metadata": {},
   "outputs": [],
   "source": [
    "fins = pd.read_excel(r'C:\\Users\\phsheari\\Documents\\FIN BI Data\\FINBI_Bookings_Accrued_Results.xlsx', sheet_name='YTD Transactions')"
   ]
  },
  {
   "cell_type": "code",
   "execution_count": 77,
   "id": "fddd222d-c8b4-4bf8-96c7-8f9c77d16984",
   "metadata": {},
   "outputs": [],
   "source": [
    "fins['Request ID'] = fins['Request ID'].astype('int64')"
   ]
  },
  {
   "cell_type": "code",
   "execution_count": 78,
   "id": "ab86be31-64c3-47e2-810d-27b8225d99a2",
   "metadata": {},
   "outputs": [],
   "source": [
    "fins = fins.loc[fins['Fiscal Quarter ID'].str.contains('2021') & (fins['Partner Deal']==False)][['Fiscal Quarter ID','Fiscal Week ID','Sales Level 2','CAV Name','Booked Deal ID','TCV','Request ID']]"
   ]
  },
  {
   "cell_type": "code",
   "execution_count": 110,
   "id": "e876e47b-e6d9-49b6-ad75-407edaa0e511",
   "metadata": {},
   "outputs": [],
   "source": [
    "# fins"
   ]
  },
  {
   "cell_type": "code",
   "execution_count": 80,
   "id": "0b26b5af-653b-414b-bc96-9b5938187cfe",
   "metadata": {},
   "outputs": [],
   "source": [
    "fin2 = fins.merge(adv, on='Request ID', how='left')"
   ]
  },
  {
   "cell_type": "code",
   "execution_count": 114,
   "id": "35338493-46fc-4c64-bf5b-1806451a142e",
   "metadata": {},
   "outputs": [
    {
     "data": {
      "text/html": [
       "<div>\n",
       "<style scoped>\n",
       "    .dataframe tbody tr th:only-of-type {\n",
       "        vertical-align: middle;\n",
       "    }\n",
       "\n",
       "    .dataframe tbody tr th {\n",
       "        vertical-align: top;\n",
       "    }\n",
       "\n",
       "    .dataframe thead th {\n",
       "        text-align: right;\n",
       "    }\n",
       "</style>\n",
       "<table border=\"1\" class=\"dataframe\">\n",
       "  <thead>\n",
       "    <tr style=\"text-align: right;\">\n",
       "      <th></th>\n",
       "      <th>Fiscal Quarter ID</th>\n",
       "      <th>Fiscal Week ID</th>\n",
       "      <th>Sales Level 2</th>\n",
       "      <th>CAV Name</th>\n",
       "      <th>Booked Deal ID</th>\n",
       "      <th>TCV</th>\n",
       "      <th>Request ID</th>\n",
       "      <th>Compass Advisor</th>\n",
       "    </tr>\n",
       "  </thead>\n",
       "  <tbody>\n",
       "    <tr>\n",
       "      <th>76</th>\n",
       "      <td>2021Q1</td>\n",
       "      <td>2021031</td>\n",
       "      <td>US PS Market Segment</td>\n",
       "      <td>COUNTY OF MACOMB</td>\n",
       "      <td>42892112</td>\n",
       "      <td>70,000.00</td>\n",
       "      <td>201820182725</td>\n",
       "      <td>Expired</td>\n",
       "    </tr>\n",
       "    <tr>\n",
       "      <th>92</th>\n",
       "      <td>2021Q1</td>\n",
       "      <td>2021024</td>\n",
       "      <td>US PS Market Segment</td>\n",
       "      <td>COURTS US</td>\n",
       "      <td>20922950</td>\n",
       "      <td>32,249.32</td>\n",
       "      <td>201820182967</td>\n",
       "      <td>Expired</td>\n",
       "    </tr>\n",
       "    <tr>\n",
       "      <th>93</th>\n",
       "      <td>2021Q1</td>\n",
       "      <td>2021024</td>\n",
       "      <td>US PS Market Segment</td>\n",
       "      <td>DEPARTMENT OF TRANSPORTATION (DOT) - EXEC DEPT</td>\n",
       "      <td>20456045</td>\n",
       "      <td>486,538.09</td>\n",
       "      <td>201820182735</td>\n",
       "      <td>Expired</td>\n",
       "    </tr>\n",
       "    <tr>\n",
       "      <th>112</th>\n",
       "      <td>2021Q1</td>\n",
       "      <td>2021021</td>\n",
       "      <td>US PS Market Segment</td>\n",
       "      <td>COURTS US</td>\n",
       "      <td>20922950</td>\n",
       "      <td>23,209.71</td>\n",
       "      <td>201820182967</td>\n",
       "      <td>Expired</td>\n",
       "    </tr>\n",
       "    <tr>\n",
       "      <th>113</th>\n",
       "      <td>2021Q1</td>\n",
       "      <td>2021022</td>\n",
       "      <td>US PS Market Segment</td>\n",
       "      <td>FEDERAL RESERVE BANK</td>\n",
       "      <td>42824069</td>\n",
       "      <td>25,567.73</td>\n",
       "      <td>201820182961</td>\n",
       "      <td>Expired</td>\n",
       "    </tr>\n",
       "    <tr>\n",
       "      <th>115</th>\n",
       "      <td>2021Q1</td>\n",
       "      <td>2021021</td>\n",
       "      <td>US PS Market Segment</td>\n",
       "      <td>CARNEGIE MELLON UNIVERSITY</td>\n",
       "      <td>48899327</td>\n",
       "      <td>21,665.84</td>\n",
       "      <td>201820182874</td>\n",
       "      <td>Expired</td>\n",
       "    </tr>\n",
       "    <tr>\n",
       "      <th>116</th>\n",
       "      <td>2021Q1</td>\n",
       "      <td>2021022</td>\n",
       "      <td>US PS Market Segment</td>\n",
       "      <td>STATE OF NEW JERSEY</td>\n",
       "      <td>20160475</td>\n",
       "      <td>197,002.23</td>\n",
       "      <td>201820183374</td>\n",
       "      <td>Expired</td>\n",
       "    </tr>\n",
       "    <tr>\n",
       "      <th>174</th>\n",
       "      <td>2021Q2</td>\n",
       "      <td>2021044</td>\n",
       "      <td>US PS Market Segment</td>\n",
       "      <td>FEDERAL RESERVE BANK</td>\n",
       "      <td>42824069</td>\n",
       "      <td>73,823.15</td>\n",
       "      <td>201820182961</td>\n",
       "      <td>Expired</td>\n",
       "    </tr>\n",
       "    <tr>\n",
       "      <th>198</th>\n",
       "      <td>2021Q2</td>\n",
       "      <td>2021044</td>\n",
       "      <td>US PS Market Segment</td>\n",
       "      <td>FEDERAL RESERVE BANK</td>\n",
       "      <td>49991792</td>\n",
       "      <td>39,035.25</td>\n",
       "      <td>201820182961</td>\n",
       "      <td>Expired</td>\n",
       "    </tr>\n",
       "    <tr>\n",
       "      <th>531</th>\n",
       "      <td>2021Q3</td>\n",
       "      <td>2021071</td>\n",
       "      <td>US PS Market Segment</td>\n",
       "      <td>FEDERAL RESERVE BANK</td>\n",
       "      <td>42824069</td>\n",
       "      <td>43,535.03</td>\n",
       "      <td>201820182961</td>\n",
       "      <td>Expired</td>\n",
       "    </tr>\n",
       "  </tbody>\n",
       "</table>\n",
       "</div>"
      ],
      "text/plain": [
       "    Fiscal Quarter ID  Fiscal Week ID         Sales Level 2  \\\n",
       "76             2021Q1         2021031  US PS Market Segment   \n",
       "92             2021Q1         2021024  US PS Market Segment   \n",
       "93             2021Q1         2021024  US PS Market Segment   \n",
       "112            2021Q1         2021021  US PS Market Segment   \n",
       "113            2021Q1         2021022  US PS Market Segment   \n",
       "115            2021Q1         2021021  US PS Market Segment   \n",
       "116            2021Q1         2021022  US PS Market Segment   \n",
       "174            2021Q2         2021044  US PS Market Segment   \n",
       "198            2021Q2         2021044  US PS Market Segment   \n",
       "531            2021Q3         2021071  US PS Market Segment   \n",
       "\n",
       "                                           CAV Name  Booked Deal ID  \\\n",
       "76                                 COUNTY OF MACOMB        42892112   \n",
       "92                                        COURTS US        20922950   \n",
       "93   DEPARTMENT OF TRANSPORTATION (DOT) - EXEC DEPT        20456045   \n",
       "112                                       COURTS US        20922950   \n",
       "113                            FEDERAL RESERVE BANK        42824069   \n",
       "115                      CARNEGIE MELLON UNIVERSITY        48899327   \n",
       "116                             STATE OF NEW JERSEY        20160475   \n",
       "174                            FEDERAL RESERVE BANK        42824069   \n",
       "198                            FEDERAL RESERVE BANK        49991792   \n",
       "531                            FEDERAL RESERVE BANK        42824069   \n",
       "\n",
       "           TCV    Request ID Compass Advisor  \n",
       "76   70,000.00  201820182725         Expired  \n",
       "92   32,249.32  201820182967         Expired  \n",
       "93  486,538.09  201820182735         Expired  \n",
       "112  23,209.71  201820182967         Expired  \n",
       "113  25,567.73  201820182961         Expired  \n",
       "115  21,665.84  201820182874         Expired  \n",
       "116 197,002.23  201820183374         Expired  \n",
       "174  73,823.15  201820182961         Expired  \n",
       "198  39,035.25  201820182961         Expired  \n",
       "531  43,535.03  201820182961         Expired  "
      ]
     },
     "execution_count": 114,
     "metadata": {},
     "output_type": "execute_result"
    }
   ],
   "source": [
    "fin2.loc[fin2['Compass Advisor']=='Expired']"
   ]
  },
  {
   "cell_type": "code",
   "execution_count": 99,
   "id": "9cc790c4-426c-4d36-ae66-b183a1d4ab52",
   "metadata": {},
   "outputs": [
    {
     "data": {
      "text/plain": [
       "Compass Advisor\n",
       "Adrian Machado                     207\n",
       "Alicia Biersteker                   75\n",
       "Andres Hernandez, Javier Lozano      3\n",
       "Angela Hunnicutt                     8\n",
       "Anthony Hawthorne                    2\n",
       "Atif Ahmad                         170\n",
       "Bill Black-Hogins                  179\n",
       "Carlos Gasca Dominguez               1\n",
       "Charlotte Post                       1\n",
       "Cheryl Wright                        3\n",
       "Clare Fagan                         86\n",
       "Eduardo Standerski                   3\n",
       "Expired                             10\n",
       "Fabiano Carneiro                     1\n",
       "Farha Diba                          72\n",
       "Farha Diba, Francisco Pizano         4\n",
       "Francisco Flores                     6\n",
       "Francisco Pizano                     9\n",
       "Gary Schriber                        5\n",
       "Houman Asefi                         5\n",
       "Javier Lozano/ Andres Hernandez      1\n",
       "Jenee St John                      234\n",
       "Jorge Abad                           3\n",
       "Juan Balderas                        2\n",
       "Mark Vodka                          19\n",
       "Mauricio Russo                       1\n",
       "Melissa Villiard                     6\n",
       "Patrick Liu                          2\n",
       "Rene Sanz                            7\n",
       "Stacey Edwards                     198\n",
       "Tracy Turner                        74\n",
       "Name: Booked Deal ID, dtype: int64"
      ]
     },
     "execution_count": 99,
     "metadata": {},
     "output_type": "execute_result"
    }
   ],
   "source": [
    "fin2.groupby('Compass Advisor')['Booked Deal ID'].count()"
   ]
  },
  {
   "cell_type": "code",
   "execution_count": null,
   "id": "73b7b357-0bfa-48a9-bc8a-19453e916728",
   "metadata": {},
   "outputs": [],
   "source": []
  },
  {
   "cell_type": "code",
   "execution_count": 14,
   "id": "8a58e4ac-43c0-432a-aefe-a3e8ebb693b0",
   "metadata": {},
   "outputs": [],
   "source": [
    "eadmin = pd.DataFrame(df.groupby('Compass Advisor')['Date Readout Done'].min())"
   ]
  },
  {
   "cell_type": "code",
   "execution_count": 16,
   "id": "3f243e21-11fb-45c2-a1ca-159bd04b08cb",
   "metadata": {},
   "outputs": [],
   "source": [
    "ead.reset_index(inplace=True)"
   ]
  },
  {
   "cell_type": "code",
   "execution_count": 20,
   "id": "3a0be4f4-6419-41b7-8638-ef80eec23bea",
   "metadata": {},
   "outputs": [],
   "source": [
    "fc = cfc.get_calendar_dataframe()"
   ]
  },
  {
   "cell_type": "code",
   "execution_count": 22,
   "id": "a317d960-3b08-43a9-a8dc-d3ddbeb9f4e3",
   "metadata": {},
   "outputs": [],
   "source": [
    "ead['FiscalYear'] = ead['Date Readout Done'].apply(lambda x: cfc.get_fiscal_year(x))\n",
    "ead['FiscalMonth'] = ead['Date Readout Done'].apply(lambda x: cfc.get_fiscal_month(x))"
   ]
  },
  {
   "cell_type": "code",
   "execution_count": 106,
   "id": "7b4ab21d-5b92-4cdd-ac42-46c86b61123f",
   "metadata": {},
   "outputs": [],
   "source": [
    "ro = df.loc[(df['Readout FY']=='2021') & ~(df['Readout Delivery Status'].isin(['Declined','Postponed']))][['Request ID','Create Date','Customer Name','Compass Advisor','Date Readout Done','Readout Delivery Status','Items Recommended','HashedReadout']]"
   ]
  },
  {
   "cell_type": "code",
   "execution_count": 108,
   "id": "43e803df-18ba-4e84-bebe-b21ea58f0ec2",
   "metadata": {},
   "outputs": [
    {
     "data": {
      "text/plain": [
       "Compass Advisor\n",
       "Adrian Machado                   441\n",
       "Alicia Biersteker                257\n",
       "Andrés Sáenz                      73\n",
       "Atif Ahmad                       305\n",
       "Barbara Brown                     57\n",
       "Bill Black-Hogins                431\n",
       "Billy Gómez                       52\n",
       "Camila Bernal                     78\n",
       "Camilo Piraquive                  21\n",
       "Charlotte Post                    70\n",
       "Chuan Ling                        16\n",
       "Clare Fagan                      284\n",
       "Clare Fagan, Cristian Herrera      0\n",
       "Cristian Herrera                  30\n",
       "Edgar Prieto                      29\n",
       "Emma Baird                        25\n",
       "Farha Diba                       136\n",
       "Francisco Pizano                   2\n",
       "Giovanni León                     30\n",
       "Haimin Chen                        5\n",
       "Houman Asefi                     111\n",
       "Isabella Rico                      1\n",
       "Jenee St John                    433\n",
       "Jorge Abad                        65\n",
       "Juan Balderas                      0\n",
       "Juan Cabrera                      45\n",
       "Juan Prieto                       95\n",
       "Juan Rodríguez                    33\n",
       "Juan Salazar                      44\n",
       "Leidy Rodríguez                   41\n",
       "Leonardo Pimentel                  0\n",
       "Liliana Maldonado                  0\n",
       "Lina Hernández                    83\n",
       "Mariangela Pineda                 55\n",
       "Mark Vodka                       243\n",
       "Martin Coup                        6\n",
       "Melissa Villiard                  24\n",
       "Miguel Mora                       60\n",
       "Ricardo Alvis                     12\n",
       "Ruben Felantana                   69\n",
       "Sara Villamarín                   72\n",
       "Stacey Edwards                   434\n",
       "Tere Stevens                      98\n",
       "Theresa Salmi                     19\n",
       "Tracy Turner                     304\n",
       "Vanessa Gómez                     59\n",
       "William Rodríguez                 30\n",
       "Yana Xu                            3\n",
       "Yesenia Díaz                      48\n",
       "Yohan González                    60\n",
       "Name: HashedReadout, dtype: int64"
      ]
     },
     "execution_count": 108,
     "metadata": {},
     "output_type": "execute_result"
    }
   ],
   "source": [
    "ro.groupby(['Compass Advisor'])['HashedReadout'].count()"
   ]
  },
  {
   "cell_type": "code",
   "execution_count": 97,
   "id": "e5ec4525-1d13-43e8-a28e-9dcaa45163e3",
   "metadata": {},
   "outputs": [],
   "source": [
    "# ead['Compass Advisor'].unique()"
   ]
  },
  {
   "cell_type": "code",
   "execution_count": 86,
   "id": "6bee72e8-84b0-47f6-84b1-d468ddfe0e50",
   "metadata": {},
   "outputs": [],
   "source": [
    "fin3 = pd.DataFrame(fin2.groupby(['Compass Advisor'])['TCV'].sum())"
   ]
  },
  {
   "cell_type": "code",
   "execution_count": 89,
   "id": "50566bf8-5e24-4e4c-a53d-02b7ec88825c",
   "metadata": {},
   "outputs": [],
   "source": [
    "fin3.reset_index(inplace=True)"
   ]
  },
  {
   "cell_type": "code",
   "execution_count": 96,
   "id": "528bde21-b88a-4fbf-b227-48b592500e1b",
   "metadata": {},
   "outputs": [],
   "source": [
    "# Contains Compass Advisor, TCV\n",
    "# fin3"
   ]
  },
  {
   "cell_type": "code",
   "execution_count": null,
   "id": "643a8fe9-8857-4c7a-9ed4-4594755cd74e",
   "metadata": {},
   "outputs": [],
   "source": []
  },
  {
   "cell_type": "code",
   "execution_count": null,
   "id": "176ea6d1-237e-494a-a185-0ced0beede7f",
   "metadata": {},
   "outputs": [],
   "source": []
  },
  {
   "cell_type": "code",
   "execution_count": null,
   "id": "94ffe27e-eab5-4b44-84f3-31319a032c6f",
   "metadata": {},
   "outputs": [],
   "source": []
  },
  {
   "cell_type": "code",
   "execution_count": 25,
   "id": "3a1d65d6-8496-46ac-887b-48c7f8cddb34",
   "metadata": {},
   "outputs": [],
   "source": [
    "ead.to_excel(r'C:\\Users\\phsheari\\Desktop\\CompassAdvisors.xlsx', index=False)"
   ]
  },
  {
   "cell_type": "code",
   "execution_count": 11,
   "id": "f11a2dae-d1bc-4b03-adcc-4ee42d5bec67",
   "metadata": {},
   "outputs": [],
   "source": [
    "name = 'forrest'"
   ]
  },
  {
   "cell_type": "code",
   "execution_count": 12,
   "id": "700a47cb-e835-4c13-bc10-69e29fa8092c",
   "metadata": {},
   "outputs": [],
   "source": [
    "cond1 = df['Customer Name'].str.contains(name, na=False, case=False) & (~df['Readout Delivery Status'].isin(['Declined','Postponed']))"
   ]
  },
  {
   "cell_type": "code",
   "execution_count": 13,
   "id": "b8284971-e4a2-413e-8ca5-84b70d68406f",
   "metadata": {},
   "outputs": [
    {
     "data": {
      "text/html": [
       "<div>\n",
       "<style scoped>\n",
       "    .dataframe tbody tr th:only-of-type {\n",
       "        vertical-align: middle;\n",
       "    }\n",
       "\n",
       "    .dataframe tbody tr th {\n",
       "        vertical-align: top;\n",
       "    }\n",
       "\n",
       "    .dataframe thead th {\n",
       "        text-align: right;\n",
       "    }\n",
       "</style>\n",
       "<table border=\"1\" class=\"dataframe\">\n",
       "  <thead>\n",
       "    <tr style=\"text-align: right;\">\n",
       "      <th></th>\n",
       "      <th>GUID</th>\n",
       "      <th>CAV ID</th>\n",
       "      <th>Lvl2 (Region)</th>\n",
       "      <th>IndexID</th>\n",
       "      <th>Request ID</th>\n",
       "      <th>Customer Name</th>\n",
       "      <th>Deal ID</th>\n",
       "      <th>Compass Campaign Name</th>\n",
       "      <th>Date Readout Done</th>\n",
       "      <th>Compass Advisor</th>\n",
       "      <th>Readout Delivery Status</th>\n",
       "      <th>Items Recommended</th>\n",
       "      <th>Campaign Type</th>\n",
       "      <th>is_Targeting_Campaign</th>\n",
       "    </tr>\n",
       "  </thead>\n",
       "  <tbody>\n",
       "    <tr>\n",
       "      <th>453</th>\n",
       "      <td>2374498.0</td>\n",
       "      <td>570238, 1570022, 1858680</td>\n",
       "      <td>EMEAR_NORTH</td>\n",
       "      <td>202120218168_Compass Request Tracker - Targeti...</td>\n",
       "      <td>202120218168</td>\n",
       "      <td>SCA FORREST</td>\n",
       "      <td>43771258.0</td>\n",
       "      <td>BCS MAJOR EMEAR</td>\n",
       "      <td>2021-04-08</td>\n",
       "      <td>Atif Ahmad</td>\n",
       "      <td>Complete</td>\n",
       "      <td>BCS, EC-HTOM, IRR, PR, SNTC, SSPT</td>\n",
       "      <td>PROACTIVE</td>\n",
       "      <td>True</td>\n",
       "    </tr>\n",
       "    <tr>\n",
       "      <th>1181</th>\n",
       "      <td>45155.0</td>\n",
       "      <td>NaN</td>\n",
       "      <td>US COMMERCIAL</td>\n",
       "      <td>202120217437_Compass Request Tracker – Partners</td>\n",
       "      <td>202120217437</td>\n",
       "      <td>FORRESTER RESEARCH INC</td>\n",
       "      <td>-44444.0</td>\n",
       "      <td>REACTIVE - PARTNER</td>\n",
       "      <td>2021-02-10</td>\n",
       "      <td>Charlotte Post</td>\n",
       "      <td>Complete</td>\n",
       "      <td>SNTC</td>\n",
       "      <td>REACTIVE</td>\n",
       "      <td>False</td>\n",
       "    </tr>\n",
       "  </tbody>\n",
       "</table>\n",
       "</div>"
      ],
      "text/plain": [
       "           GUID                    CAV ID  Lvl2 (Region)  \\\n",
       "453   2374498.0  570238, 1570022, 1858680    EMEAR_NORTH   \n",
       "1181    45155.0                       NaN  US COMMERCIAL   \n",
       "\n",
       "                                                IndexID    Request ID  \\\n",
       "453   202120218168_Compass Request Tracker - Targeti...  202120218168   \n",
       "1181    202120217437_Compass Request Tracker – Partners  202120217437   \n",
       "\n",
       "               Customer Name     Deal ID Compass Campaign Name  \\\n",
       "453              SCA FORREST  43771258.0       BCS MAJOR EMEAR   \n",
       "1181  FORRESTER RESEARCH INC    -44444.0    REACTIVE - PARTNER   \n",
       "\n",
       "     Date Readout Done Compass Advisor Readout Delivery Status  \\\n",
       "453         2021-04-08      Atif Ahmad                Complete   \n",
       "1181        2021-02-10  Charlotte Post                Complete   \n",
       "\n",
       "                      Items Recommended Campaign Type  is_Targeting_Campaign  \n",
       "453   BCS, EC-HTOM, IRR, PR, SNTC, SSPT     PROACTIVE                   True  \n",
       "1181                               SNTC      REACTIVE                  False  "
      ]
     },
     "execution_count": 13,
     "metadata": {},
     "output_type": "execute_result"
    }
   ],
   "source": [
    "df.loc[(df['Deliverability']=='Good') & (df['Compass Advisor'].notnull()) & cond1][['GUID','CAV ID','Lvl2 (Region)','IndexID','Request ID','Customer Name','Deal ID','Compass Campaign Name','Date Readout Done','Compass Advisor','Readout Delivery Status','Items Recommended','Campaign Type','is_Targeting_Campaign']]"
   ]
  },
  {
   "cell_type": "code",
   "execution_count": 18,
   "id": "f102108d-608f-43d6-82e1-e8bebee29ee9",
   "metadata": {},
   "outputs": [],
   "source": [
    "guid = 14005"
   ]
  },
  {
   "cell_type": "code",
   "execution_count": 19,
   "id": "1dacf9e6-65e0-47c1-9711-6393f4ee2f0e",
   "metadata": {},
   "outputs": [],
   "source": [
    "cond2 = (df['GUID']==guid) & (~df['Readout Delivery Status'].isin(['Declined','Postponed']))"
   ]
  },
  {
   "cell_type": "code",
   "execution_count": 20,
   "id": "86ab120c-c0c0-4ebe-9cce-3e301da632ec",
   "metadata": {},
   "outputs": [
    {
     "data": {
      "text/html": [
       "<div>\n",
       "<style scoped>\n",
       "    .dataframe tbody tr th:only-of-type {\n",
       "        vertical-align: middle;\n",
       "    }\n",
       "\n",
       "    .dataframe tbody tr th {\n",
       "        vertical-align: top;\n",
       "    }\n",
       "\n",
       "    .dataframe thead th {\n",
       "        text-align: right;\n",
       "    }\n",
       "</style>\n",
       "<table border=\"1\" class=\"dataframe\">\n",
       "  <thead>\n",
       "    <tr style=\"text-align: right;\">\n",
       "      <th></th>\n",
       "      <th>GUID</th>\n",
       "      <th>Lvl2 (Region)</th>\n",
       "      <th>IndexID</th>\n",
       "      <th>Request ID</th>\n",
       "      <th>Customer Name</th>\n",
       "      <th>Partner Name</th>\n",
       "      <th>Deal ID</th>\n",
       "      <th>Compass Campaign Name</th>\n",
       "      <th>Date Readout Done</th>\n",
       "      <th>Compass Advisor</th>\n",
       "      <th>Readout Delivery Status</th>\n",
       "      <th>Items Recommended</th>\n",
       "      <th>Campaign Type</th>\n",
       "      <th>is_Targeting_Campaign</th>\n",
       "    </tr>\n",
       "  </thead>\n",
       "  <tbody>\n",
       "    <tr>\n",
       "      <th>6695</th>\n",
       "      <td>14005.0</td>\n",
       "      <td>GES</td>\n",
       "      <td>2021202111925_Compass Request Tracker - FY21Q3</td>\n",
       "      <td>2021202111925</td>\n",
       "      <td>CARGILL</td>\n",
       "      <td>None</td>\n",
       "      <td>41008600.0</td>\n",
       "      <td>REACTIVE</td>\n",
       "      <td>2021-06-03</td>\n",
       "      <td>Mark Vodka</td>\n",
       "      <td>Complete</td>\n",
       "      <td>BCS, EC-AM, EC-HTOM, EC-KT, IRR, SNTC, PR, BRW</td>\n",
       "      <td>REACTIVE</td>\n",
       "      <td>False</td>\n",
       "    </tr>\n",
       "    <tr>\n",
       "      <th>1979</th>\n",
       "      <td>14005.0</td>\n",
       "      <td>GES</td>\n",
       "      <td>202120216637_Compass Request Tracker – Partners</td>\n",
       "      <td>202120216637</td>\n",
       "      <td>CARGILL INC</td>\n",
       "      <td>NTT AMERICA INC</td>\n",
       "      <td>-44444.0</td>\n",
       "      <td>REACTIVE - PARTNER</td>\n",
       "      <td>2021-01-20</td>\n",
       "      <td>Tere Stevens</td>\n",
       "      <td>Complete</td>\n",
       "      <td>BCS, SNTC</td>\n",
       "      <td>REACTIVE</td>\n",
       "      <td>False</td>\n",
       "    </tr>\n",
       "    <tr>\n",
       "      <th>2503</th>\n",
       "      <td>14005.0</td>\n",
       "      <td>GES</td>\n",
       "      <td>202120206113_Compass Request Tracker - Targeti...</td>\n",
       "      <td>202120206113</td>\n",
       "      <td>CARGILL</td>\n",
       "      <td>None</td>\n",
       "      <td>43616468.0</td>\n",
       "      <td>BCS 3.0 TARGETING - MAJORS</td>\n",
       "      <td>2021-03-08</td>\n",
       "      <td>Alicia Biersteker</td>\n",
       "      <td>Complete</td>\n",
       "      <td>BCS, EC-KT, IRR, PR, SNTC</td>\n",
       "      <td>PROACTIVE</td>\n",
       "      <td>True</td>\n",
       "    </tr>\n",
       "  </tbody>\n",
       "</table>\n",
       "</div>"
      ],
      "text/plain": [
       "         GUID Lvl2 (Region)  \\\n",
       "6695  14005.0           GES   \n",
       "1979  14005.0           GES   \n",
       "2503  14005.0           GES   \n",
       "\n",
       "                                                IndexID     Request ID  \\\n",
       "6695     2021202111925_Compass Request Tracker - FY21Q3  2021202111925   \n",
       "1979    202120216637_Compass Request Tracker – Partners   202120216637   \n",
       "2503  202120206113_Compass Request Tracker - Targeti...   202120206113   \n",
       "\n",
       "     Customer Name     Partner Name     Deal ID       Compass Campaign Name  \\\n",
       "6695       CARGILL             None  41008600.0                    REACTIVE   \n",
       "1979   CARGILL INC  NTT AMERICA INC    -44444.0          REACTIVE - PARTNER   \n",
       "2503       CARGILL             None  43616468.0  BCS 3.0 TARGETING - MAJORS   \n",
       "\n",
       "     Date Readout Done    Compass Advisor Readout Delivery Status  \\\n",
       "6695        2021-06-03         Mark Vodka                Complete   \n",
       "1979        2021-01-20       Tere Stevens                Complete   \n",
       "2503        2021-03-08  Alicia Biersteker                Complete   \n",
       "\n",
       "                                   Items Recommended Campaign Type  \\\n",
       "6695  BCS, EC-AM, EC-HTOM, EC-KT, IRR, SNTC, PR, BRW      REACTIVE   \n",
       "1979                                       BCS, SNTC      REACTIVE   \n",
       "2503                       BCS, EC-KT, IRR, PR, SNTC     PROACTIVE   \n",
       "\n",
       "      is_Targeting_Campaign  \n",
       "6695                  False  \n",
       "1979                  False  \n",
       "2503                   True  "
      ]
     },
     "execution_count": 20,
     "metadata": {},
     "output_type": "execute_result"
    }
   ],
   "source": [
    "df.loc[(df['Deliverability']=='Good') & (df['Compass Advisor'].notnull()) & ~(df['Compass Advisor']=='Expired') & cond2][['GUID','Lvl2 (Region)','IndexID','Request ID','Customer Name','Partner Name','Deal ID','Compass Campaign Name','Date Readout Done','Compass Advisor','Readout Delivery Status','Items Recommended','Campaign Type','is_Targeting_Campaign']]"
   ]
  },
  {
   "cell_type": "code",
   "execution_count": null,
   "id": "21b4d3f9-f08b-4c23-bd47-bbd2b0bcfadd",
   "metadata": {},
   "outputs": [],
   "source": []
  },
  {
   "cell_type": "code",
   "execution_count": null,
   "id": "8924fbd2-5964-43ff-8a6a-81ff618b3de4",
   "metadata": {},
   "outputs": [],
   "source": []
  }
 ],
 "metadata": {
  "kernelspec": {
   "display_name": "Python 3",
   "language": "python",
   "name": "python3"
  },
  "language_info": {
   "codemirror_mode": {
    "name": "ipython",
    "version": 3
   },
   "file_extension": ".py",
   "mimetype": "text/x-python",
   "name": "python",
   "nbconvert_exporter": "python",
   "pygments_lexer": "ipython3",
   "version": "3.9.5"
  }
 },
 "nbformat": 4,
 "nbformat_minor": 5
}
