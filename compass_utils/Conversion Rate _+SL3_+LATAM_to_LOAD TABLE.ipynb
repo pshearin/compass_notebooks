{
 "cells": [
  {
   "cell_type": "code",
   "execution_count": 1,
   "id": "explicit-partner",
   "metadata": {},
   "outputs": [],
   "source": [
    "import numpy as np\n",
    "import pandas as pd\n",
    "import datetime as dt\n",
    "import Tracker\n",
    "import cisco_fiscal_calendar as fc"
   ]
  },
  {
   "cell_type": "code",
   "execution_count": 2,
   "id": "1bfc25af-9030-46ce-a26e-b1e0d161bcc8",
   "metadata": {},
   "outputs": [],
   "source": [
    "def squeeze_customer_name(customer_name):\n",
    "    if customer_name.startswith('THE '):\n",
    "        customer_name = customer_name[4:]\n",
    "    customer_name = customer_name.replace(',',\"\").replace('[ACTIVE]','').replace('-','').replace('_','').replace('.','').replace(' ','').strip()\n",
    "    return customer_name"
   ]
  },
  {
   "cell_type": "code",
   "execution_count": 3,
   "id": "ced3635f-a885-41e5-8ef4-a34663e2207b",
   "metadata": {},
   "outputs": [],
   "source": [
    "### Start with GUID. If GUID is None, use CAV ID, if CAV ID, is None, use CustomerName, if GUID is bad or a list with unacceptable alpha lexicon values, use CustomerName\n",
    "\n",
    "def make_fake_guid(guid, cavid, customername):\n",
    "    \"\"\"Returns either a GUID, a CAV ID\n",
    "    \"\"\"\n",
    "    if pd.isnull(guid):\n",
    "        if pd.isnull(cavid):\n",
    "            return str(customername[:10])\n",
    "        elif isinstance(cavid, float):\n",
    "            return str(int(cavid))\n",
    "        elif ',' in cavid:\n",
    "            quicklist = list(cavid.split(','))\n",
    "            return str(int(quicklist[0]))\n",
    "        else:\n",
    "            return str(int(cavid))\n",
    "    elif type(guid) == float:\n",
    "        return str(int(guid))\n",
    "    \n",
    "    elif isinstance(guid, str):\n",
    "        return str(customername[:10])\n",
    "    \n",
    "    elif ',' in guid:\n",
    "        quicklist = list(guid.split(','))\n",
    "        return str(int(quicklist[0]))\n",
    "    \n",
    "    elif ';' in guid:\n",
    "        quicklist = list(guid.split(';'))\n",
    "        return str(int(quicklist[0]))\n",
    "    \n",
    "    elif '\\r\\n' in guid:\n",
    "        quicklist = list(guid.split('\\r\\n'))\n",
    "        return str(int(quicklist[0]))\n",
    "    \n",
    "    elif guid == '-':\n",
    "        return str(customername[:10])\n",
    "        \n",
    "    elif str(guid).isalpha():\n",
    "        return str(customername[:10])\n",
    "    \n",
    "    elif ' ' in guid:\n",
    "        quicklist = list(guid.split(' '))\n",
    "        if quicklist[0].isalpha():\n",
    "            return str(customername[:10])\n",
    "        else:\n",
    "            return str(int(quicklist[0]))\n",
    "    \n",
    "    elif len(str(guid)) > 12:\n",
    "        return str(guid)[:12]\n",
    "    \n",
    "    else:\n",
    "        return str(guid)"
   ]
  },
  {
   "cell_type": "code",
   "execution_count": 4,
   "id": "israeli-clark",
   "metadata": {},
   "outputs": [],
   "source": [
    "finbi_path = r'C:\\Users\\phsheari\\Documents\\FIN BI Data\\FINBI_Bookings_Accrued_Results.pkl'\n",
    "fins = pd.read_pickle(finbi_path)"
   ]
  },
  {
   "cell_type": "code",
   "execution_count": 5,
   "id": "0486c026-91ac-484f-9348-08cc2726762d",
   "metadata": {},
   "outputs": [
    {
     "data": {
      "text/plain": [
       "Index(['Sales Level 1', 'Sales Level 2', 'Sales Level 3', 'CAV ID', 'CAV Name',\n",
       "       'GUID', 'GUID Name', 'Partner', 'Booked Deal ID', 'CX Product Category',\n",
       "       'Fiscal Year', 'Fiscal Quarter ID', 'Fiscal Week ID',\n",
       "       'Fiscal Week of Year', 'ReportWeek', 'ProductType', 'TCV', 'ACV', 'Ind',\n",
       "       'Request ID', 'Date Readout Done', 'Campaign Type', 'Compass Exists?',\n",
       "       'Compass Claim?', 'Notes', 'Respondant_File', 'AddIncre', 'Campaign',\n",
       "       'Target Campaign Flag', 'Partner Deal', 'Service Source',\n",
       "       'Compass GUID Name', 'Compass Deal ID', 'Compass Advisor',\n",
       "       'Readout Delivery Status', 'Items Recommended'],\n",
       "      dtype='object')"
      ]
     },
     "execution_count": 5,
     "metadata": {},
     "output_type": "execute_result"
    }
   ],
   "source": [
    "fins.columns"
   ]
  },
  {
   "cell_type": "code",
   "execution_count": 6,
   "id": "ongoing-watson",
   "metadata": {},
   "outputs": [],
   "source": [
    "fins['Fiscal Month'] = fins['Fiscal Week ID'].apply(lambda x: int(str(x)[:6]))"
   ]
  },
  {
   "cell_type": "code",
   "execution_count": 7,
   "id": "c54448b8-f196-480f-a4fe-4492e206ea5f",
   "metadata": {},
   "outputs": [],
   "source": [
    "# fins['Fiscal Year'] = fins['Fiscal Week ID'].apply(lambda x: int(str(x)[:4]))"
   ]
  },
  {
   "cell_type": "code",
   "execution_count": 8,
   "id": "3bdcb800-6f6b-469c-8027-26ec86eb8ed3",
   "metadata": {},
   "outputs": [],
   "source": [
    "fins['GUID'] = fins['GUID'].astype('Int64')"
   ]
  },
  {
   "cell_type": "code",
   "execution_count": 9,
   "id": "067c5f09-9302-44f2-93e0-e71448ff0672",
   "metadata": {},
   "outputs": [],
   "source": [
    "fins['CAV ID'] = fins['CAV ID'].astype('Int64')"
   ]
  },
  {
   "cell_type": "code",
   "execution_count": 10,
   "id": "fdbd85ff-9603-448c-aed6-aedb8de4161c",
   "metadata": {},
   "outputs": [],
   "source": [
    "def concat_fin_names(cav_name, guid_name):\n",
    "    if pd.isnull(cav_name):\n",
    "        return guid_name\n",
    "    else:\n",
    "        return cav_name + '_' + guid_name"
   ]
  },
  {
   "cell_type": "code",
   "execution_count": 11,
   "id": "4dd0e5a5-2265-4e30-8fda-cac6bd429a6a",
   "metadata": {},
   "outputs": [],
   "source": [
    "def get_account_name(cav_name, guid_name):\n",
    "    customer_name = None\n",
    "    if pd.isnull(cav_name) and pd.notnull(guid_name):\n",
    "        customer_name = guid_name\n",
    "    else:\n",
    "        customer_name = cav_name\n",
    "    if customer_name.startswith('THE '):\n",
    "        customer_name = customer_name[4:]\n",
    "    customer_name = customer_name.replace(',',\"\").replace('[ACTIVE]','').replace('-','').replace('_','').replace('.','').replace(' ','').strip()\n",
    "    return customer_name"
   ]
  },
  {
   "cell_type": "code",
   "execution_count": 12,
   "id": "4172431c-08ae-47f5-b36e-c4b36bdbf133",
   "metadata": {},
   "outputs": [],
   "source": [
    "fins['FINBI Name'] = fins.apply(lambda x: concat_fin_names(x['CAV Name'], x['GUID Name']), axis=1)"
   ]
  },
  {
   "cell_type": "code",
   "execution_count": 13,
   "id": "78ef3d9f-65ca-4f90-8499-3655c04831e9",
   "metadata": {},
   "outputs": [],
   "source": [
    "fins['Squeezed'] = fins.apply(lambda x: get_account_name(x['CAV Name'],x['GUID Name']), axis=1)"
   ]
  },
  {
   "cell_type": "code",
   "execution_count": 14,
   "id": "87941bf1-c4a7-4bc5-b9cd-2082520f8d56",
   "metadata": {},
   "outputs": [],
   "source": [
    "# fins['Squeezed']"
   ]
  },
  {
   "cell_type": "code",
   "execution_count": 15,
   "id": "0ee7280f-0fef-49ea-8dbb-b227b5e1aadd",
   "metadata": {},
   "outputs": [],
   "source": [
    "fins['Prepend'] = fins['Squeezed'].apply(lambda x: x[:2].upper())"
   ]
  },
  {
   "cell_type": "code",
   "execution_count": 16,
   "id": "448e484a-f427-46eb-873a-9018440e6b54",
   "metadata": {},
   "outputs": [],
   "source": [
    "fins['Prehash_Entity'] = fins.apply(lambda x: x['Prepend'] + str(x['GUID']), axis=1)"
   ]
  },
  {
   "cell_type": "code",
   "execution_count": 17,
   "id": "d2c0e932-1930-4be5-9387-e7d92659130d",
   "metadata": {},
   "outputs": [
    {
     "data": {
      "text/plain": [
       "0          CE180320\n",
       "1          CE180320\n",
       "2          CE180320\n",
       "3          CE180320\n",
       "4          CE180320\n",
       "           ...     \n",
       "2816        SI92372\n",
       "2817     ST83880344\n",
       "2818      TE2374518\n",
       "2819        TH77043\n",
       "2820    X5205204294\n",
       "Name: Prehash_Entity, Length: 2821, dtype: object"
      ]
     },
     "execution_count": 17,
     "metadata": {},
     "output_type": "execute_result"
    }
   ],
   "source": [
    "fins['Prehash_Entity']"
   ]
  },
  {
   "cell_type": "code",
   "execution_count": 18,
   "id": "connected-diversity",
   "metadata": {},
   "outputs": [],
   "source": [
    "# fins['FINBI Name'] = fins.loc[fins['CAV Name'].notnull()].apply(lambda x: x['GUID Name'] + '_' + x['CAV Name'], axis=1)"
   ]
  },
  {
   "cell_type": "code",
   "execution_count": 19,
   "id": "8528a65e-4785-48f1-bab8-12bd5b57d434",
   "metadata": {},
   "outputs": [],
   "source": [
    "fins['Campaign'] = fins['Campaign'].str.upper()"
   ]
  },
  {
   "cell_type": "code",
   "execution_count": 20,
   "id": "worthy-cricket",
   "metadata": {},
   "outputs": [],
   "source": [
    "fins.loc[fins['Sales Level 2']=='GLOBAL ENTERPRISE SEGMENT','Sales Level 2']='GES'"
   ]
  },
  {
   "cell_type": "code",
   "execution_count": 21,
   "id": "74f0a82d-285e-4403-8266-598f0db84b18",
   "metadata": {},
   "outputs": [],
   "source": [
    "month_list = list(fins['Fiscal Month'].unique())"
   ]
  },
  {
   "cell_type": "code",
   "execution_count": 22,
   "id": "c0d343ee-59ba-468b-9b0e-fb302b40932d",
   "metadata": {},
   "outputs": [],
   "source": [
    "month_list.sort()"
   ]
  },
  {
   "cell_type": "code",
   "execution_count": 23,
   "id": "33151c4b-6a31-4891-b4ee-1107f3fb7d00",
   "metadata": {},
   "outputs": [],
   "source": [
    "earliest_finbi_month = month_list[11] # we need 11 months plus a 30-day minimum booking window, so 12 months back\n",
    "last_finbi_month = month_list[-1]"
   ]
  },
  {
   "cell_type": "code",
   "execution_count": 24,
   "id": "823977e9-23b7-4625-bdfd-fa6e2c2e8656",
   "metadata": {},
   "outputs": [
    {
     "data": {
      "text/plain": [
       "(202012, 202202)"
      ]
     },
     "execution_count": 24,
     "metadata": {},
     "output_type": "execute_result"
    }
   ],
   "source": [
    "earliest_finbi_month, last_finbi_month"
   ]
  },
  {
   "cell_type": "code",
   "execution_count": 25,
   "id": "29a28090-320e-4824-b1ed-e770742d0040",
   "metadata": {},
   "outputs": [],
   "source": [
    "A1 = month_list.index(earliest_finbi_month)\n",
    "use_list = month_list[A1:]"
   ]
  },
  {
   "cell_type": "code",
   "execution_count": 26,
   "id": "8d34d2ab-c4d1-4f6f-8660-17909d17d532",
   "metadata": {},
   "outputs": [
    {
     "data": {
      "text/plain": [
       "202201"
      ]
     },
     "execution_count": 26,
     "metadata": {},
     "output_type": "execute_result"
    }
   ],
   "source": [
    "use_list[-2]"
   ]
  },
  {
   "cell_type": "code",
   "execution_count": 27,
   "id": "quiet-action",
   "metadata": {},
   "outputs": [],
   "source": [
    "caldf = fc.calendar_df"
   ]
  },
  {
   "cell_type": "code",
   "execution_count": 28,
   "id": "40430bdb-1e26-4ece-abf9-aa992ee24d29",
   "metadata": {},
   "outputs": [],
   "source": [
    "removed_campaigns = ['REACTIVE - ACC DESIGNATION','REACTIVE - PARTNER','REACTIVE - GROWTH INITIATIVE',\n",
    "                     'PROACTIVE - TAC LEAD','PROACTIVE - CS RESEARCH','PROACTIVE - PRESALES ALIGN PITSTOP EFFORT']"
   ]
  },
  {
   "cell_type": "code",
   "execution_count": 29,
   "id": "dd7b0bbb-54d6-427f-b18c-6e0592cc0208",
   "metadata": {},
   "outputs": [],
   "source": [
    "fins = fins.loc[~fins['Campaign'].isin(removed_campaigns)]"
   ]
  },
  {
   "cell_type": "code",
   "execution_count": 30,
   "id": "e91c4ee6-69db-482d-8720-c83c0863571e",
   "metadata": {},
   "outputs": [],
   "source": [
    "load_table = []  # table to load temp_table dataframes from the loop process"
   ]
  },
  {
   "cell_type": "code",
   "execution_count": 31,
   "id": "c23c4a5c-54f6-4b25-acf1-0e99414ecbc8",
   "metadata": {},
   "outputs": [],
   "source": [
    "tracker = Tracker.main()"
   ]
  },
  {
   "cell_type": "code",
   "execution_count": 32,
   "id": "5fe5d73e-1c8a-4ed8-a25b-053f1e43c4a3",
   "metadata": {},
   "outputs": [],
   "source": [
    "### Fix some tracker SL3 values to conform them to FINBI SL3 values\n",
    "tracker.loc[tracker['Lvl3']=='GES-MWA','Lvl3']='GES MWA'\n",
    "tracker.loc[tracker['Lvl3']=='MEXICO','Lvl3']='MEXICO-'\n",
    "tracker.loc[tracker['Lvl3']=='SLED-SOUTHEAST OPERATION','Lvl3']='SLED-EAST AREA'\n",
    "tracker.loc[tracker['Lvl3']=='SLED_WEST AREA','Lvl3']='SLED-WEST AREA'\n",
    "tracker.loc[tracker['Lvl3']=='US COMM MISC L3','Lvl3']='US COMMERCIAL MISC'"
   ]
  },
  {
   "cell_type": "code",
   "execution_count": 33,
   "id": "7699bdab-12a0-47d6-9769-485b88aba1ae",
   "metadata": {},
   "outputs": [
    {
     "data": {
      "text/plain": [
       "Timestamp('2019-09-26 00:00:00')"
      ]
     },
     "execution_count": 33,
     "metadata": {},
     "output_type": "execute_result"
    }
   ],
   "source": [
    "tracker['Date Readout Done'].min()"
   ]
  },
  {
   "cell_type": "code",
   "execution_count": 34,
   "id": "ee8e3ec2-34ab-48d3-8c02-d1d4a353c305",
   "metadata": {},
   "outputs": [],
   "source": [
    "for fiscal_period_id in use_list[:-1]:\n",
    "    max_tracker_readout_date = pd.to_datetime(caldf.loc[caldf['finbi_fiscal_period_id'] == fiscal_period_id]['date'].max()) # The absolute MAX date for the finbi period\n",
    "    min_tracker_readout_date = max_tracker_readout_date + dt.timedelta(days = -333)   # Looking 11 months back\n",
    "    ten_months_ago = max_tracker_readout_date + dt.timedelta(days = -303)   # Looking 10 months back\n",
    "    revised_max_tracker_readout_date = max_tracker_readout_date + dt.timedelta(days = -30)   #reset the MAX date for the period to be 30 days less, to account for the bookings minimum of 30 days out, for that booking window\n",
    "    \n",
    "    oldest_fiscal_week_id = caldf.loc[caldf['date']==ten_months_ago.isoformat()[:10]]['finbi_fiscal_week_id'].values[0]\n",
    "    thirty_days_ago_week_id = caldf.loc[caldf['date']==revised_max_tracker_readout_date.isoformat()[:10]]['finbi_fiscal_week_id'].values[0]\n",
    "    max_tracker_readout_date_week_id = caldf.loc[caldf['date']==max_tracker_readout_date.isoformat()[:10]]['finbi_fiscal_week_id'].values[0]\n",
    "    \n",
    "    fins['Report Month'] = fiscal_period_id\n",
    "    fins['Sales Level 2'] = fins['Sales Level 2'].str.upper()\n",
    "    fins['Sales Level 1'] = fins['Sales Level 1'].str.upper()\n",
    "    \n",
    "    \n",
    "    fin_sl1           = fins.loc[(fins['CAV Name'].notnull()) & ((fins['Fiscal Week ID'] >= oldest_fiscal_week_id) & (fins['Fiscal Week ID'] <= max_tracker_readout_date_week_id)) ].groupby(['Sales Level 1'])[['Prehash_Entity']].nunique()\n",
    "    fin_ct            = fins.loc[(fins['CAV Name'].notnull()) & ((fins['Fiscal Week ID'] >= oldest_fiscal_week_id) & (fins['Fiscal Week ID'] <= max_tracker_readout_date_week_id)) ].groupby(['Campaign Type'])[['Prehash_Entity']].nunique()\n",
    "    fin_sl1_ct        = fins.loc[(fins['CAV Name'].notnull()) & ((fins['Fiscal Week ID'] >= oldest_fiscal_week_id) & (fins['Fiscal Week ID'] <= max_tracker_readout_date_week_id)) ].groupby(['Sales Level 1','Campaign Type'])[['Prehash_Entity']].nunique()\n",
    "    fin_sl1_sl2_ct    = fins.loc[(fins['CAV Name'].notnull()) & ((fins['Fiscal Week ID'] >= oldest_fiscal_week_id) & (fins['Fiscal Week ID'] <= max_tracker_readout_date_week_id)) ].groupby(['Sales Level 1','Sales Level 2','Campaign Type'])[['Prehash_Entity']].nunique()\n",
    "    fin_sl1_sl2       = fins.loc[(fins['CAV Name'].notnull()) & ((fins['Fiscal Week ID'] >= oldest_fiscal_week_id) & (fins['Fiscal Week ID'] <= max_tracker_readout_date_week_id)) ].groupby(['Sales Level 1','Sales Level 2'])[['Prehash_Entity']].nunique()\n",
    "    fin_sl1_sl2_sl3   = fins.loc[(fins['CAV Name'].notnull()) & ((fins['Fiscal Week ID'] >= oldest_fiscal_week_id) & (fins['Fiscal Week ID'] <= max_tracker_readout_date_week_id)) ].groupby(['Sales Level 1','Sales Level 2','Sales Level 3'])[['Prehash_Entity']].nunique()\n",
    "    fin_sl1_sl2_sl3_ct = fins.loc[(fins['CAV Name'].notnull()) & ((fins['Fiscal Week ID'] >= oldest_fiscal_week_id) & (fins['Fiscal Week ID'] <= max_tracker_readout_date_week_id)) ].groupby(['Sales Level 1','Sales Level 2','Sales Level 3','Campaign Type'])[['Prehash_Entity']].nunique()\n",
    "    overall_numerator = fins.loc[(fins['CAV Name'].notnull()) & ((fins['Fiscal Week ID'] >= oldest_fiscal_week_id) & (fins['Fiscal Week ID'] <= max_tracker_readout_date_week_id)) ][['Prehash_Entity']].nunique()[0]\n",
    "    \n",
    "    \n",
    "    fin_sl1_ct.reset_index(inplace=True)\n",
    "    fin_ct.reset_index(inplace=True)\n",
    "    fin_sl1.reset_index(inplace=True)\n",
    "    fin_sl1_sl2_ct.reset_index(inplace=True)\n",
    "    fin_sl1_sl2.reset_index(inplace=True)\n",
    "    fin_sl1_sl2_sl3.reset_index(inplace=True)\n",
    "    fin_sl1_sl2_sl3_ct.reset_index(inplace=True)\n",
    "    \n",
    "    fin_sl1_ct.rename(columns = {'Prehash_Entity':'FINBI Name'}, inplace=True)\n",
    "    fin_ct.rename(columns = {'Prehash_Entity':'FINBI Name'}, inplace=True)\n",
    "    fin_sl1.rename(columns = {'Prehash_Entity':'FINBI Name'}, inplace=True)\n",
    "    fin_sl1_sl2_ct.rename(columns = {'Prehash_Entity':'FINBI Name'}, inplace=True)\n",
    "    fin_sl1_sl2.rename(columns = {'Prehash_Entity':'FINBI Name'}, inplace=True)\n",
    "    fin_sl1_sl2_sl3.rename(columns = {'Prehash_Entity':'FINBI Name'}, inplace=True)\n",
    "    fin_sl1_sl2_sl3_ct.rename(columns = {'Prehash_Entity':'FINBI Name'}, inplace=True)\n",
    "    \n",
    "    \n",
    "    ### Set the SL and Campaign Dimension Level on the various dataframes\n",
    "    fin_sl1_ct['Report Month'] = fiscal_period_id\n",
    "    fin_sl1_ct['Dimension Grouping'] = 'SL1_CT'\n",
    "    \n",
    "    fin_ct['Report Month'] = fiscal_period_id\n",
    "    fin_ct['Dimension Grouping'] = 'CT ONLY'\n",
    "    \n",
    "    fin_sl1['Report Month'] = fiscal_period_id\n",
    "    fin_sl1['Dimension Grouping'] = 'SL1 ONLY'\n",
    "    \n",
    "    fin_sl1_sl2_ct['Report Month'] = fiscal_period_id\n",
    "    fin_sl1_sl2_ct['Dimension Grouping'] = 'SL1_SL2_CT'\n",
    "    \n",
    "    fin_sl1_sl2['Report Month'] = fiscal_period_id\n",
    "    fin_sl1_sl2['Dimension Grouping'] = 'SL1_SL2'\n",
    "    \n",
    "    fin_sl1_sl2_sl3['Report Month'] = fiscal_period_id\n",
    "    fin_sl1_sl2_sl3['Dimension Grouping'] = 'SL1_SL2_SL3'\n",
    "\n",
    "    fin_sl1_sl2_sl3_ct['Report Month'] = fiscal_period_id\n",
    "    fin_sl1_sl2_sl3_ct['Dimension Grouping'] = 'SL1_SL2_SL3_CT'\n",
    "    \n",
    "    fin_sl1['Sales Level 1']        = fin_sl1['Sales Level 1'].str.upper()\n",
    "    fin_ct['Campaign Type']         = fin_ct['Campaign Type'].str.upper()\n",
    "    fin_sl1_ct['Sales Level 1']     = fin_sl1_ct['Sales Level 1'].str.upper()\n",
    "    fin_sl1_sl2_ct['Sales Level 1'] = fin_sl1_sl2_ct['Sales Level 1'].str.upper()\n",
    "    fin_sl1_sl2_ct['Sales Level 2'] = fin_sl1_sl2_ct['Sales Level 2'].str.upper()\n",
    "    fin_sl1_sl2['Sales Level 1']    = fin_sl1_sl2['Sales Level 1'].str.upper()\n",
    "    fin_sl1_sl2['Sales Level 2']    = fin_sl1_sl2['Sales Level 2'].str.upper()\n",
    "    fin_sl1_sl2_sl3['Sales Level 1']    = fin_sl1_sl2_sl3['Sales Level 1'].str.upper()\n",
    "    fin_sl1_sl2_sl3['Sales Level 2']    = fin_sl1_sl2_sl3['Sales Level 2'].str.upper()\n",
    "    fin_sl1_sl2_sl3['Sales Level 3']    = fin_sl1_sl2_sl3['Sales Level 3'].str.upper()\n",
    "    fin_sl1_sl2_sl3_ct['Sales Level 1']    = fin_sl1_sl2_sl3_ct['Sales Level 1'].str.upper()\n",
    "    fin_sl1_sl2_sl3_ct['Sales Level 2']    = fin_sl1_sl2_sl3_ct['Sales Level 2'].str.upper()\n",
    "    fin_sl1_sl2_sl3_ct['Sales Level 3']    = fin_sl1_sl2_sl3_ct['Sales Level 3'].str.upper()\n",
    "    \n",
    "    # Set Uniform Values for the Lvl Entries\n",
    "    tracker.loc[(tracker['Lvl2 (Region)'].notnull()) & (tracker['Lvl2 (Region)'].str.contains('UKI', case=False)), 'Lvl2 (Region)'] = 'EMEAR-UKI'\n",
    "    tracker.loc[(tracker['Lvl2 (Region)'].notnull()) & (tracker['Lvl2 (Region)'].str.contains('central', case=False)), 'Lvl2 (Region)'] = 'EMEAR-CENTRAL'\n",
    "    tracker.loc[(tracker['Lvl2 (Region)'].notnull()) & (tracker['Lvl2 (Region)'].str.contains('north', case=False)), 'Lvl2 (Region)'] = 'EMEAR-NORTH'\n",
    "    tracker.loc[(tracker['Lvl2 (Region)'].notnull()) & (tracker['Lvl2 (Region)'].str.contains('south', case=False)), 'Lvl2 (Region)'] = 'EMEAR-SOUTH'\n",
    "    tracker.loc[(tracker['Lvl2 (Region)'].notnull()) & (tracker['Lvl2 (Region)'].str.contains('ANZ', case=False)), 'Lvl2 (Region)'] = 'ANZ AREA'\n",
    "    tracker.loc[(tracker['Lvl2 (Region)'].notnull()) & (tracker['Lvl2 (Region)'].str.contains('japan', case=False)), 'Lvl2 (Region)'] = 'JAPAN__'\n",
    "    tracker.loc[(tracker['Lvl2 (Region)'].notnull()) & (tracker['Lvl2 (Region)'].str.contains('global enterprise segment', case=False)),'Lvl2 (Region)'] = 'GES'\n",
    "    tracker.loc[(tracker['Lvl1'].notnull()) & (tracker['Lvl1'].str.contains('apjc__', case=False)),'Lvl1'] = 'APJC'\n",
    "    \n",
    "    trkr_condition1A = (tracker['Date Readout Done']>= min_tracker_readout_date)\n",
    "    trkr_condition1B = (tracker['Date Readout Done']<= revised_max_tracker_readout_date)\n",
    "    trkr_condition2 = ~(tracker['Compass Campaign Name'].isin(removed_campaigns))\n",
    "    trkr_condition3 = ~(tracker['Readout Delivery Status'].isin(['Declined','Postponed']))\n",
    "    trkr_condition4 = (tracker['Items Recommended'].notnull())\n",
    "    #trkr_condition5 = (tracker['is_Targeting_Campaign']==True)\n",
    "    \n",
    "    compass_sl1         = tracker.loc[trkr_condition1A & trkr_condition1B & trkr_condition2 & (trkr_condition3 | trkr_condition4)].groupby(['Lvl1'])[['Prehash_Entity']].nunique()\n",
    "    compass_ct          = tracker.loc[trkr_condition1A & trkr_condition1B & trkr_condition2 & (trkr_condition3 | trkr_condition4)].groupby(['Campaign Type'])[['Prehash_Entity']].nunique()\n",
    "    compass_sl1_ct      = tracker.loc[trkr_condition1A & trkr_condition1B & trkr_condition2 & (trkr_condition3 | trkr_condition4)].groupby(['Lvl1','Campaign Type'])[['Prehash_Entity']].nunique()\n",
    "    compass_sl1_sl2_ct  = tracker.loc[trkr_condition1A & trkr_condition1B & trkr_condition2 & (trkr_condition3 | trkr_condition4)].groupby(['Lvl1','Lvl2 (Region)','Campaign Type'])[['Prehash_Entity']].nunique()\n",
    "    compass_sl1_sl2     = tracker.loc[trkr_condition1A & trkr_condition1B & trkr_condition2 & (trkr_condition3 | trkr_condition4)].groupby(['Lvl1','Lvl2 (Region)'])[['Prehash_Entity']].nunique()\n",
    "    compass_sl1_sl2_sl3     = tracker.loc[trkr_condition1A & trkr_condition1B & trkr_condition2 & (trkr_condition3 | trkr_condition4)].groupby(['Lvl1','Lvl2 (Region)','Lvl3'])[['Prehash_Entity']].nunique()\n",
    "    compass_sl1_sl2_sl3_ct  = tracker.loc[trkr_condition1A & trkr_condition1B & trkr_condition2 & (trkr_condition3 | trkr_condition4)].groupby(['Lvl1','Lvl2 (Region)','Lvl3','Campaign Type'])[['Prehash_Entity']].nunique()\n",
    "    overall_denominator = tracker.loc[trkr_condition1A & trkr_condition1B & trkr_condition2 & (trkr_condition3 | trkr_condition4)][['Prehash_Entity']].nunique()[0]\n",
    "    \n",
    "    compass_sl1.reset_index(inplace=True)\n",
    "    compass_ct.reset_index(inplace=True)\n",
    "    compass_sl1_ct.reset_index(inplace=True)\n",
    "    compass_sl1_sl2_ct.reset_index(inplace=True)\n",
    "    compass_sl1_sl2.reset_index(inplace=True)\n",
    "    compass_sl1_sl2_sl3.reset_index(inplace=True)\n",
    "    compass_sl1_sl2_sl3_ct.reset_index(inplace=True)\n",
    "    \n",
    "    compass_sl1.rename(columns = {'Lvl1':'Sales Level 1','Prehash_Entity':'Compass Name'}, inplace=True)\n",
    "    compass_ct.rename(columns = {'Prehash_Entity':'Compass Name'}, inplace=True)\n",
    "    compass_sl1_ct.rename(columns = {'Lvl1':'Sales Level 1','Prehash_Entity':'Compass Name'}, inplace=True)\n",
    "    compass_sl1_sl2_ct.rename(columns = {'Lvl1':'Sales Level 1','Lvl2 (Region)':'Sales Level 2','Prehash_Entity':'Compass Name'}, inplace=True)\n",
    "    compass_sl1_sl2.rename(columns = {'Lvl1':'Sales Level 1','Lvl2 (Region)':'Sales Level 2','Prehash_Entity':'Compass Name'}, inplace=True)\n",
    "    compass_sl1_sl2_sl3.rename(columns = {'Lvl1':'Sales Level 1','Lvl2 (Region)':'Sales Level 2', 'Lvl3':'Sales Level 3','Prehash_Entity':'Compass Name'}, inplace=True)\n",
    "    compass_sl1_sl2_sl3_ct.rename(columns = {'Lvl1':'Sales Level 1','Lvl2 (Region)':'Sales Level 2','Lvl3':'Sales Level 3','Prehash_Entity':'Compass Name'}, inplace=True)\n",
    "    \n",
    "    combined_sl1 = pd.merge(fin_sl1, compass_sl1, on = ['Sales Level 1'])\n",
    "    combined_ct = pd.merge(fin_ct, compass_ct, on=['Campaign Type'])\n",
    "    combined_sl1_ct = pd.merge(fin_sl1_ct, compass_sl1_ct, on = ['Sales Level 1','Campaign Type'])\n",
    "    combined_sl1_sl2_ct = pd.merge(fin_sl1_sl2_ct,compass_sl1_sl2_ct, on = ['Sales Level 1', 'Sales Level 2','Campaign Type'])\n",
    "    combined_sl1_sl2 = pd.merge(fin_sl1_sl2,compass_sl1_sl2, on = ['Sales Level 1', 'Sales Level 2'])\n",
    "    combined_sl1_sl2_sl3 = pd.merge(fin_sl1_sl2_sl3,compass_sl1_sl2_sl3, on = ['Sales Level 1', 'Sales Level 2','Sales Level 3'])\n",
    "    combined_sl1_sl2_sl3_ct = pd.merge(fin_sl1_sl2_sl3_ct,compass_sl1_sl2_sl3_ct, on = ['Sales Level 1', 'Sales Level 2','Sales Level 3','Campaign Type'])\n",
    "    \n",
    "    combined_sl1_sl2_ct['Conversion Ratio %'] = (combined_sl1_sl2_ct['FINBI Name'] / combined_sl1_sl2_ct['Compass Name']) #* 100\n",
    "    combined_sl1_ct['Conversion Ratio %'] = (combined_sl1_ct['FINBI Name'] / combined_sl1_ct['Compass Name']) #* 100\n",
    "    combined_sl1['Conversion Ratio %'] = (combined_sl1['FINBI Name'] / combined_sl1['Compass Name']) #* 100\n",
    "    combined_ct['Conversion Ratio %'] = (combined_ct['FINBI Name'] / combined_ct['Compass Name']) #* 100\n",
    "    combined_sl1_sl2['Conversion Ratio %'] = (combined_sl1_sl2['FINBI Name'] / combined_sl1_sl2['Compass Name']) #* 100\n",
    "    combined_sl1_sl2_sl3['Conversion Ratio %'] = (combined_sl1_sl2_sl3['FINBI Name'] / combined_sl1_sl2_sl3['Compass Name']) #* 100\n",
    "    combined_sl1_sl2_sl3_ct['Conversion Ratio %'] = (combined_sl1_sl2_sl3_ct['FINBI Name'] / combined_sl1_sl2_sl3_ct['Compass Name']) #* 100\n",
    "    \n",
    "    combined_ct['Sales Level 1'] = pd.NA\n",
    "    combined_ct['Sales Level 2'] = pd.NA\n",
    "    combined_ct['Sales Level 3'] = pd.NA\n",
    "    combined_ct = combined_ct[['Dimension Grouping', 'Report Month','Sales Level 1','Sales Level 2','Sales Level 3','Campaign Type', 'FINBI Name',  'Compass Name','Conversion Ratio %']]\n",
    "    \n",
    "    combined_sl1_ct['Sales Level 2'] = pd.NA\n",
    "    combined_sl1_ct['Sales Level 3'] = pd.NA\n",
    "    combined_sl1_ct = combined_sl1_ct[['Dimension Grouping', 'Report Month', 'Sales Level 1', 'Sales Level 2', 'Sales Level 3', 'Campaign Type', 'FINBI Name', 'Compass Name', 'Conversion Ratio %']]\n",
    "    \n",
    "    combined_sl1['Sales Level 2'] = pd.NA\n",
    "    combined_sl1['Campaign Type'] = pd.NA\n",
    "    combined_sl1['Sales Level 3'] = pd.NA\n",
    "    combined_sl1 = combined_sl1[['Dimension Grouping', 'Report Month', 'Sales Level 1', 'Sales Level 2', 'Sales Level 3', 'Campaign Type', 'FINBI Name', 'Compass Name', 'Conversion Ratio %']]\n",
    "    \n",
    "    combined_sl1_sl2_ct['Sales Level 3'] = pd.NA\n",
    "    combined_sl1_sl2_ct = combined_sl1_sl2_ct[['Dimension Grouping', 'Report Month', 'Sales Level 1', 'Sales Level 2', 'Sales Level 3', 'Campaign Type', 'FINBI Name', 'Compass Name', 'Conversion Ratio %']]\n",
    "    \n",
    "    combined_sl1_sl2['Campaign Type'] = pd.NA\n",
    "    combined_sl1_sl2['Sales Level 3'] = pd.NA\n",
    "    combined_sl1_sl2 = combined_sl1_sl2[['Dimension Grouping', 'Report Month', 'Sales Level 1', 'Sales Level 2', 'Sales Level 3', 'Campaign Type', 'FINBI Name', 'Compass Name', 'Conversion Ratio %']]\n",
    "    \n",
    "    combined_sl1_sl2_sl3['Campaign Type'] = pd.NA\n",
    "    combined_sl1_sl2_sl3 = combined_sl1_sl2_sl3[['Dimension Grouping', 'Report Month', 'Sales Level 1', 'Sales Level 2', 'Sales Level 3', 'Campaign Type', 'FINBI Name', 'Compass Name', 'Conversion Ratio %']]\n",
    "    \n",
    "    overall_conversion_ratio = (overall_numerator / overall_denominator) #* 100\n",
    "    overall_list = [['OVERALL',fiscal_period_id, pd.NA, pd.NA, pd.NA, pd.NA, overall_numerator, overall_denominator, overall_conversion_ratio]]\n",
    "    overall_columns = ['Dimension Grouping', 'Report Month','Sales Level 1','Sales Level 2','Sales Level 3','Campaign Type','FINBI Name','Compass Name','Conversion Ratio %']\n",
    "    overall = pd.DataFrame(data = overall_list, columns = overall_columns)\n",
    "    \n",
    "    temp_table = pd.concat([overall,combined_ct,combined_sl1, combined_sl1_ct, combined_sl1_sl2, combined_sl1_sl2_ct, combined_sl1_sl2_sl3, combined_sl1_sl2_sl3_ct])\n",
    "    load_table.append(temp_table)\n",
    "    \n",
    "    #print(f'{fiscal_period_id}: {min_tracker_readout_date} as weekID {oldest_fiscal_week_id}, {max_tracker_readout_date}, {revised_max_tracker_readout_date} as weekID {thirty_days_ago_week_id}')\n",
    "    "
   ]
  },
  {
   "cell_type": "code",
   "execution_count": 35,
   "id": "7fedd43b-0b47-4e95-872b-6652fd76e753",
   "metadata": {},
   "outputs": [
    {
     "data": {
      "text/plain": [
       "array(['CANADA', 'AMERICAS_SP', 'LATIN AMERICA', 'GES',\n",
       "       'US PS MARKET SEGMENT', 'US COMMERCIAL', 'EMEAR-CENTRAL',\n",
       "       'EMEAR-SOUTH', 'EMEAR_GERMANY', 'JAPAN__', 'EMEAR_MEA',\n",
       "       'EMEAR-UKI', 'ANZ AREA', 'EMEAR_SP', 'EMEAR-NORTH', 'INDIA_AREA',\n",
       "       'APJ_SP', 'ASEAN_AREA', 'GREATER_CHINA', 'ROK_AREA',\n",
       "       'AMERICAS_MISC', 'EMEAR_UNALLOCATED'], dtype=object)"
      ]
     },
     "execution_count": 35,
     "metadata": {},
     "output_type": "execute_result"
    }
   ],
   "source": [
    "# tracker.loc[tracker['Lvl2 (Region)']=='GLOBAL ENTERPRISE SEGMENT']\n",
    "tracker['Lvl2 (Region)'].unique()"
   ]
  },
  {
   "cell_type": "code",
   "execution_count": 36,
   "id": "fce01a02-0bf3-4836-a76b-0d5196c873ea",
   "metadata": {},
   "outputs": [
    {
     "data": {
      "text/plain": [
       "array(['GES', 'LATIN AMERICA', 'US COMMERCIAL', 'CANADA',\n",
       "       'US PS MARKET SEGMENT', 'EMEAR-SOUTH', 'EMEAR_MEA', 'EMEAR-UKI',\n",
       "       'EMEAR-CENTRAL', 'EMEAR_GERMANY', 'GREATER_CHINA', 'INDIA_AREA',\n",
       "       'ANZ AREA', 'JAPAN__', 'ASEAN_AREA', 'EMEAR-NORTH', 'APJ_SP',\n",
       "       'EMEAR_SP', 'AMERICAS_SP', 'ROK_AREA'], dtype=object)"
      ]
     },
     "execution_count": 36,
     "metadata": {},
     "output_type": "execute_result"
    }
   ],
   "source": [
    "fins['Sales Level 2'].unique()"
   ]
  },
  {
   "cell_type": "code",
   "execution_count": 37,
   "id": "90d0b8b4-6fe3-43e6-a51a-fdd57d2cb83f",
   "metadata": {},
   "outputs": [],
   "source": [
    "load_table = pd.concat(load_table)"
   ]
  },
  {
   "cell_type": "code",
   "execution_count": 38,
   "id": "3de7e195-0d2d-4363-bfda-ed8403b51367",
   "metadata": {},
   "outputs": [
    {
     "data": {
      "text/html": [
       "<div>\n",
       "<style scoped>\n",
       "    .dataframe tbody tr th:only-of-type {\n",
       "        vertical-align: middle;\n",
       "    }\n",
       "\n",
       "    .dataframe tbody tr th {\n",
       "        vertical-align: top;\n",
       "    }\n",
       "\n",
       "    .dataframe thead th {\n",
       "        text-align: right;\n",
       "    }\n",
       "</style>\n",
       "<table border=\"1\" class=\"dataframe\">\n",
       "  <thead>\n",
       "    <tr style=\"text-align: right;\">\n",
       "      <th></th>\n",
       "      <th>Dimension Grouping</th>\n",
       "      <th>Report Month</th>\n",
       "      <th>Sales Level 1</th>\n",
       "      <th>Sales Level 2</th>\n",
       "      <th>Sales Level 3</th>\n",
       "      <th>Campaign Type</th>\n",
       "      <th>FINBI Name</th>\n",
       "      <th>Compass Name</th>\n",
       "      <th>Conversion Ratio %</th>\n",
       "    </tr>\n",
       "  </thead>\n",
       "  <tbody>\n",
       "    <tr>\n",
       "      <th>0</th>\n",
       "      <td>OVERALL</td>\n",
       "      <td>202012</td>\n",
       "      <td>&lt;NA&gt;</td>\n",
       "      <td>&lt;NA&gt;</td>\n",
       "      <td>&lt;NA&gt;</td>\n",
       "      <td>&lt;NA&gt;</td>\n",
       "      <td>90</td>\n",
       "      <td>670</td>\n",
       "      <td>0.134328</td>\n",
       "    </tr>\n",
       "    <tr>\n",
       "      <th>0</th>\n",
       "      <td>CT ONLY</td>\n",
       "      <td>202012</td>\n",
       "      <td>&lt;NA&gt;</td>\n",
       "      <td>&lt;NA&gt;</td>\n",
       "      <td>&lt;NA&gt;</td>\n",
       "      <td>FIELD</td>\n",
       "      <td>65</td>\n",
       "      <td>557</td>\n",
       "      <td>0.116697</td>\n",
       "    </tr>\n",
       "    <tr>\n",
       "      <th>1</th>\n",
       "      <td>CT ONLY</td>\n",
       "      <td>202012</td>\n",
       "      <td>&lt;NA&gt;</td>\n",
       "      <td>&lt;NA&gt;</td>\n",
       "      <td>&lt;NA&gt;</td>\n",
       "      <td>TARGETING</td>\n",
       "      <td>26</td>\n",
       "      <td>132</td>\n",
       "      <td>0.196970</td>\n",
       "    </tr>\n",
       "    <tr>\n",
       "      <th>0</th>\n",
       "      <td>SL1 ONLY</td>\n",
       "      <td>202012</td>\n",
       "      <td>AMERICAS</td>\n",
       "      <td>&lt;NA&gt;</td>\n",
       "      <td>&lt;NA&gt;</td>\n",
       "      <td>&lt;NA&gt;</td>\n",
       "      <td>90</td>\n",
       "      <td>632</td>\n",
       "      <td>0.142405</td>\n",
       "    </tr>\n",
       "    <tr>\n",
       "      <th>0</th>\n",
       "      <td>SL1_CT</td>\n",
       "      <td>202012</td>\n",
       "      <td>AMERICAS</td>\n",
       "      <td>&lt;NA&gt;</td>\n",
       "      <td>&lt;NA&gt;</td>\n",
       "      <td>FIELD</td>\n",
       "      <td>65</td>\n",
       "      <td>522</td>\n",
       "      <td>0.124521</td>\n",
       "    </tr>\n",
       "    <tr>\n",
       "      <th>...</th>\n",
       "      <td>...</td>\n",
       "      <td>...</td>\n",
       "      <td>...</td>\n",
       "      <td>...</td>\n",
       "      <td>...</td>\n",
       "      <td>...</td>\n",
       "      <td>...</td>\n",
       "      <td>...</td>\n",
       "      <td>...</td>\n",
       "    </tr>\n",
       "    <tr>\n",
       "      <th>119</th>\n",
       "      <td>SL1_SL2_SL3_CT</td>\n",
       "      <td>202201</td>\n",
       "      <td>EMEAR-REGION</td>\n",
       "      <td>EMEAR_MEA</td>\n",
       "      <td>COUNTRY_KSA</td>\n",
       "      <td>FIELD</td>\n",
       "      <td>1</td>\n",
       "      <td>2</td>\n",
       "      <td>0.500000</td>\n",
       "    </tr>\n",
       "    <tr>\n",
       "      <th>120</th>\n",
       "      <td>SL1_SL2_SL3_CT</td>\n",
       "      <td>202201</td>\n",
       "      <td>EMEAR-REGION</td>\n",
       "      <td>EMEAR_MEA</td>\n",
       "      <td>COUNTRY_KSA</td>\n",
       "      <td>TARGETING</td>\n",
       "      <td>3</td>\n",
       "      <td>8</td>\n",
       "      <td>0.375000</td>\n",
       "    </tr>\n",
       "    <tr>\n",
       "      <th>121</th>\n",
       "      <td>SL1_SL2_SL3_CT</td>\n",
       "      <td>202201</td>\n",
       "      <td>EMEAR-REGION</td>\n",
       "      <td>EMEAR_SP</td>\n",
       "      <td>SP_GERMANY_CENTRAL</td>\n",
       "      <td>TARGETING</td>\n",
       "      <td>1</td>\n",
       "      <td>3</td>\n",
       "      <td>0.333333</td>\n",
       "    </tr>\n",
       "    <tr>\n",
       "      <th>122</th>\n",
       "      <td>SL1_SL2_SL3_CT</td>\n",
       "      <td>202201</td>\n",
       "      <td>EMEAR-REGION</td>\n",
       "      <td>EMEAR_SP</td>\n",
       "      <td>SP_MEA</td>\n",
       "      <td>FIELD</td>\n",
       "      <td>1</td>\n",
       "      <td>3</td>\n",
       "      <td>0.333333</td>\n",
       "    </tr>\n",
       "    <tr>\n",
       "      <th>123</th>\n",
       "      <td>SL1_SL2_SL3_CT</td>\n",
       "      <td>202201</td>\n",
       "      <td>EMEAR-REGION</td>\n",
       "      <td>EMEAR_SP</td>\n",
       "      <td>SP_VDF_LG</td>\n",
       "      <td>FIELD</td>\n",
       "      <td>1</td>\n",
       "      <td>1</td>\n",
       "      <td>1.000000</td>\n",
       "    </tr>\n",
       "  </tbody>\n",
       "</table>\n",
       "<p>2289 rows × 9 columns</p>\n",
       "</div>"
      ],
      "text/plain": [
       "    Dimension Grouping  Report Month Sales Level 1 Sales Level 2  \\\n",
       "0              OVERALL        202012          <NA>          <NA>   \n",
       "0              CT ONLY        202012          <NA>          <NA>   \n",
       "1              CT ONLY        202012          <NA>          <NA>   \n",
       "0             SL1 ONLY        202012      AMERICAS          <NA>   \n",
       "0               SL1_CT        202012      AMERICAS          <NA>   \n",
       "..                 ...           ...           ...           ...   \n",
       "119     SL1_SL2_SL3_CT        202201  EMEAR-REGION     EMEAR_MEA   \n",
       "120     SL1_SL2_SL3_CT        202201  EMEAR-REGION     EMEAR_MEA   \n",
       "121     SL1_SL2_SL3_CT        202201  EMEAR-REGION      EMEAR_SP   \n",
       "122     SL1_SL2_SL3_CT        202201  EMEAR-REGION      EMEAR_SP   \n",
       "123     SL1_SL2_SL3_CT        202201  EMEAR-REGION      EMEAR_SP   \n",
       "\n",
       "          Sales Level 3 Campaign Type  FINBI Name  Compass Name  \\\n",
       "0                  <NA>          <NA>          90           670   \n",
       "0                  <NA>         FIELD          65           557   \n",
       "1                  <NA>     TARGETING          26           132   \n",
       "0                  <NA>          <NA>          90           632   \n",
       "0                  <NA>         FIELD          65           522   \n",
       "..                  ...           ...         ...           ...   \n",
       "119         COUNTRY_KSA         FIELD           1             2   \n",
       "120         COUNTRY_KSA     TARGETING           3             8   \n",
       "121  SP_GERMANY_CENTRAL     TARGETING           1             3   \n",
       "122              SP_MEA         FIELD           1             3   \n",
       "123           SP_VDF_LG         FIELD           1             1   \n",
       "\n",
       "     Conversion Ratio %  \n",
       "0              0.134328  \n",
       "0              0.116697  \n",
       "1              0.196970  \n",
       "0              0.142405  \n",
       "0              0.124521  \n",
       "..                  ...  \n",
       "119            0.500000  \n",
       "120            0.375000  \n",
       "121            0.333333  \n",
       "122            0.333333  \n",
       "123            1.000000  \n",
       "\n",
       "[2289 rows x 9 columns]"
      ]
     },
     "execution_count": 38,
     "metadata": {},
     "output_type": "execute_result"
    }
   ],
   "source": [
    "load_table"
   ]
  },
  {
   "cell_type": "code",
   "execution_count": null,
   "id": "5243cc1c-1988-4883-aeea-5e696469f77a",
   "metadata": {},
   "outputs": [],
   "source": []
  },
  {
   "cell_type": "code",
   "execution_count": 41,
   "id": "2aaf5275-4a3d-40e1-81ed-db4291d4c088",
   "metadata": {},
   "outputs": [
    {
     "data": {
      "text/plain": [
       "[202012,\n",
       " 202101,\n",
       " 202102,\n",
       " 202103,\n",
       " 202104,\n",
       " 202105,\n",
       " 202106,\n",
       " 202107,\n",
       " 202108,\n",
       " 202109,\n",
       " 202110,\n",
       " 202111,\n",
       " 202112,\n",
       " 202201]"
      ]
     },
     "execution_count": 41,
     "metadata": {},
     "output_type": "execute_result"
    }
   ],
   "source": [
    "list(load_table['Report Month'].unique())"
   ]
  },
  {
   "cell_type": "code",
   "execution_count": 42,
   "id": "070362b6-4a61-4228-abae-a7082ee9289c",
   "metadata": {},
   "outputs": [
    {
     "data": {
      "text/plain": [
       "Index(['Dimension Grouping', 'Report Month', 'Sales Level 1', 'Sales Level 2',\n",
       "       'Sales Level 3', 'Campaign Type', 'FINBI Name', 'Compass Name',\n",
       "       'Conversion Ratio %'],\n",
       "      dtype='object')"
      ]
     },
     "execution_count": 42,
     "metadata": {},
     "output_type": "execute_result"
    }
   ],
   "source": [
    "load_table.columns"
   ]
  },
  {
   "cell_type": "code",
   "execution_count": 39,
   "id": "e3b41261-58bc-4382-8abb-e615cdba3adf",
   "metadata": {},
   "outputs": [],
   "source": [
    "load_table.to_excel(r'C:\\Users\\phsheari\\Documents\\Compass Tableau Data\\Conversion Rates.xlsx', index=False)\n",
    "load_table.to_excel(r'C:\\Users\\phsheari\\Documents\\FIN BI Data\\Conversion Rate\\Conversion Rates_' + str(use_list[-2])  + '.xlsx', index=False)\n",
    "load_table.to_excel(r'C:\\Users\\phsheari\\Documents\\Compass Conversion Ratios\\Conversion Rates_' + str(use_list[-2])  + '.xlsx', index=False)"
   ]
  },
  {
   "cell_type": "code",
   "execution_count": 44,
   "id": "f3e94866-7635-4d41-9ad2-9c121bc7c046",
   "metadata": {},
   "outputs": [
    {
     "data": {
      "text/plain": [
       "array(['OVERALL', 'CT ONLY', 'SL1 ONLY', 'SL1_CT', 'SL1_SL2',\n",
       "       'SL1_SL2_CT', 'SL1_SL2_SL3', 'SL1_SL2_SL3_CT'], dtype=object)"
      ]
     },
     "execution_count": 44,
     "metadata": {},
     "output_type": "execute_result"
    }
   ],
   "source": [
    "load_table['Dimension Grouping'].unique()"
   ]
  },
  {
   "cell_type": "code",
   "execution_count": 45,
   "id": "be412c98-42c5-40cd-9619-c210931624d0",
   "metadata": {},
   "outputs": [
    {
     "data": {
      "text/html": [
       "<div>\n",
       "<style scoped>\n",
       "    .dataframe tbody tr th:only-of-type {\n",
       "        vertical-align: middle;\n",
       "    }\n",
       "\n",
       "    .dataframe tbody tr th {\n",
       "        vertical-align: top;\n",
       "    }\n",
       "\n",
       "    .dataframe thead th {\n",
       "        text-align: right;\n",
       "    }\n",
       "</style>\n",
       "<table border=\"1\" class=\"dataframe\">\n",
       "  <thead>\n",
       "    <tr style=\"text-align: right;\">\n",
       "      <th></th>\n",
       "      <th>Dimension Grouping</th>\n",
       "      <th>Report Month</th>\n",
       "      <th>Sales Level 1</th>\n",
       "      <th>Sales Level 2</th>\n",
       "      <th>Sales Level 3</th>\n",
       "      <th>Campaign Type</th>\n",
       "      <th>FINBI Name</th>\n",
       "      <th>Compass Name</th>\n",
       "      <th>Conversion Ratio %</th>\n",
       "    </tr>\n",
       "  </thead>\n",
       "  <tbody>\n",
       "    <tr>\n",
       "      <th>0</th>\n",
       "      <td>OVERALL</td>\n",
       "      <td>202012</td>\n",
       "      <td>&lt;NA&gt;</td>\n",
       "      <td>&lt;NA&gt;</td>\n",
       "      <td>&lt;NA&gt;</td>\n",
       "      <td>&lt;NA&gt;</td>\n",
       "      <td>91</td>\n",
       "      <td>670</td>\n",
       "      <td>0.135821</td>\n",
       "    </tr>\n",
       "    <tr>\n",
       "      <th>0</th>\n",
       "      <td>CT ONLY</td>\n",
       "      <td>202012</td>\n",
       "      <td>&lt;NA&gt;</td>\n",
       "      <td>&lt;NA&gt;</td>\n",
       "      <td>&lt;NA&gt;</td>\n",
       "      <td>FIELD</td>\n",
       "      <td>66</td>\n",
       "      <td>557</td>\n",
       "      <td>0.118492</td>\n",
       "    </tr>\n",
       "    <tr>\n",
       "      <th>1</th>\n",
       "      <td>CT ONLY</td>\n",
       "      <td>202012</td>\n",
       "      <td>&lt;NA&gt;</td>\n",
       "      <td>&lt;NA&gt;</td>\n",
       "      <td>&lt;NA&gt;</td>\n",
       "      <td>TARGETING</td>\n",
       "      <td>26</td>\n",
       "      <td>132</td>\n",
       "      <td>0.196970</td>\n",
       "    </tr>\n",
       "    <tr>\n",
       "      <th>0</th>\n",
       "      <td>SL1 ONLY</td>\n",
       "      <td>202012</td>\n",
       "      <td>AMERICAS</td>\n",
       "      <td>&lt;NA&gt;</td>\n",
       "      <td>&lt;NA&gt;</td>\n",
       "      <td>&lt;NA&gt;</td>\n",
       "      <td>91</td>\n",
       "      <td>632</td>\n",
       "      <td>0.143987</td>\n",
       "    </tr>\n",
       "    <tr>\n",
       "      <th>0</th>\n",
       "      <td>SL1_CT</td>\n",
       "      <td>202012</td>\n",
       "      <td>AMERICAS</td>\n",
       "      <td>&lt;NA&gt;</td>\n",
       "      <td>&lt;NA&gt;</td>\n",
       "      <td>FIELD</td>\n",
       "      <td>66</td>\n",
       "      <td>522</td>\n",
       "      <td>0.126437</td>\n",
       "    </tr>\n",
       "    <tr>\n",
       "      <th>...</th>\n",
       "      <td>...</td>\n",
       "      <td>...</td>\n",
       "      <td>...</td>\n",
       "      <td>...</td>\n",
       "      <td>...</td>\n",
       "      <td>...</td>\n",
       "      <td>...</td>\n",
       "      <td>...</td>\n",
       "      <td>...</td>\n",
       "    </tr>\n",
       "    <tr>\n",
       "      <th>120</th>\n",
       "      <td>SL1_SL2_SL3_CT</td>\n",
       "      <td>202201</td>\n",
       "      <td>EMEAR-REGION</td>\n",
       "      <td>EMEAR_MEA</td>\n",
       "      <td>COUNTRY_KSA</td>\n",
       "      <td>FIELD</td>\n",
       "      <td>1</td>\n",
       "      <td>2</td>\n",
       "      <td>0.500000</td>\n",
       "    </tr>\n",
       "    <tr>\n",
       "      <th>121</th>\n",
       "      <td>SL1_SL2_SL3_CT</td>\n",
       "      <td>202201</td>\n",
       "      <td>EMEAR-REGION</td>\n",
       "      <td>EMEAR_MEA</td>\n",
       "      <td>COUNTRY_KSA</td>\n",
       "      <td>TARGETING</td>\n",
       "      <td>3</td>\n",
       "      <td>8</td>\n",
       "      <td>0.375000</td>\n",
       "    </tr>\n",
       "    <tr>\n",
       "      <th>122</th>\n",
       "      <td>SL1_SL2_SL3_CT</td>\n",
       "      <td>202201</td>\n",
       "      <td>EMEAR-REGION</td>\n",
       "      <td>EMEAR_SP</td>\n",
       "      <td>SP_GERMANY_CENTRAL</td>\n",
       "      <td>TARGETING</td>\n",
       "      <td>1</td>\n",
       "      <td>3</td>\n",
       "      <td>0.333333</td>\n",
       "    </tr>\n",
       "    <tr>\n",
       "      <th>123</th>\n",
       "      <td>SL1_SL2_SL3_CT</td>\n",
       "      <td>202201</td>\n",
       "      <td>EMEAR-REGION</td>\n",
       "      <td>EMEAR_SP</td>\n",
       "      <td>SP_MEA</td>\n",
       "      <td>FIELD</td>\n",
       "      <td>1</td>\n",
       "      <td>3</td>\n",
       "      <td>0.333333</td>\n",
       "    </tr>\n",
       "    <tr>\n",
       "      <th>124</th>\n",
       "      <td>SL1_SL2_SL3_CT</td>\n",
       "      <td>202201</td>\n",
       "      <td>EMEAR-REGION</td>\n",
       "      <td>EMEAR_SP</td>\n",
       "      <td>SP_VDF_LG</td>\n",
       "      <td>FIELD</td>\n",
       "      <td>1</td>\n",
       "      <td>1</td>\n",
       "      <td>1.000000</td>\n",
       "    </tr>\n",
       "  </tbody>\n",
       "</table>\n",
       "<p>2291 rows × 9 columns</p>\n",
       "</div>"
      ],
      "text/plain": [
       "    Dimension Grouping  Report Month Sales Level 1 Sales Level 2  \\\n",
       "0              OVERALL        202012          <NA>          <NA>   \n",
       "0              CT ONLY        202012          <NA>          <NA>   \n",
       "1              CT ONLY        202012          <NA>          <NA>   \n",
       "0             SL1 ONLY        202012      AMERICAS          <NA>   \n",
       "0               SL1_CT        202012      AMERICAS          <NA>   \n",
       "..                 ...           ...           ...           ...   \n",
       "120     SL1_SL2_SL3_CT        202201  EMEAR-REGION     EMEAR_MEA   \n",
       "121     SL1_SL2_SL3_CT        202201  EMEAR-REGION     EMEAR_MEA   \n",
       "122     SL1_SL2_SL3_CT        202201  EMEAR-REGION      EMEAR_SP   \n",
       "123     SL1_SL2_SL3_CT        202201  EMEAR-REGION      EMEAR_SP   \n",
       "124     SL1_SL2_SL3_CT        202201  EMEAR-REGION      EMEAR_SP   \n",
       "\n",
       "          Sales Level 3 Campaign Type  FINBI Name  Compass Name  \\\n",
       "0                  <NA>          <NA>          91           670   \n",
       "0                  <NA>         FIELD          66           557   \n",
       "1                  <NA>     TARGETING          26           132   \n",
       "0                  <NA>          <NA>          91           632   \n",
       "0                  <NA>         FIELD          66           522   \n",
       "..                  ...           ...         ...           ...   \n",
       "120         COUNTRY_KSA         FIELD           1             2   \n",
       "121         COUNTRY_KSA     TARGETING           3             8   \n",
       "122  SP_GERMANY_CENTRAL     TARGETING           1             3   \n",
       "123              SP_MEA         FIELD           1             3   \n",
       "124           SP_VDF_LG         FIELD           1             1   \n",
       "\n",
       "     Conversion Ratio %  \n",
       "0              0.135821  \n",
       "0              0.118492  \n",
       "1              0.196970  \n",
       "0              0.143987  \n",
       "0              0.126437  \n",
       "..                  ...  \n",
       "120            0.500000  \n",
       "121            0.375000  \n",
       "122            0.333333  \n",
       "123            0.333333  \n",
       "124            1.000000  \n",
       "\n",
       "[2291 rows x 9 columns]"
      ]
     },
     "execution_count": 45,
     "metadata": {},
     "output_type": "execute_result"
    }
   ],
   "source": [
    "load_table"
   ]
  },
  {
   "cell_type": "code",
   "execution_count": 49,
   "id": "c5582f30-5477-4661-b055-ec29c71ad9e3",
   "metadata": {},
   "outputs": [
    {
     "data": {
      "text/html": [
       "<div>\n",
       "<style scoped>\n",
       "    .dataframe tbody tr th:only-of-type {\n",
       "        vertical-align: middle;\n",
       "    }\n",
       "\n",
       "    .dataframe tbody tr th {\n",
       "        vertical-align: top;\n",
       "    }\n",
       "\n",
       "    .dataframe thead th {\n",
       "        text-align: right;\n",
       "    }\n",
       "</style>\n",
       "<table border=\"1\" class=\"dataframe\">\n",
       "  <thead>\n",
       "    <tr style=\"text-align: right;\">\n",
       "      <th></th>\n",
       "      <th>Dimension Grouping</th>\n",
       "      <th>Report Month</th>\n",
       "      <th>Sales Level 1</th>\n",
       "      <th>Sales Level 2</th>\n",
       "      <th>Sales Level 3</th>\n",
       "      <th>Campaign Type</th>\n",
       "      <th>FINBI Name</th>\n",
       "      <th>Compass Name</th>\n",
       "      <th>Conversion Ratio %</th>\n",
       "    </tr>\n",
       "  </thead>\n",
       "  <tbody>\n",
       "  </tbody>\n",
       "</table>\n",
       "</div>"
      ],
      "text/plain": [
       "Empty DataFrame\n",
       "Columns: [Dimension Grouping, Report Month, Sales Level 1, Sales Level 2, Sales Level 3, Campaign Type, FINBI Name, Compass Name, Conversion Ratio %]\n",
       "Index: []"
      ]
     },
     "execution_count": 49,
     "metadata": {},
     "output_type": "execute_result"
    }
   ],
   "source": [
    "load_table.loc[(load_table['Sales Level 2'].str.contains('GES', na=False, case=False))]"
   ]
  },
  {
   "cell_type": "code",
   "execution_count": 41,
   "id": "010882dd-79c5-4aab-bf0e-fb6ae8ac37b1",
   "metadata": {},
   "outputs": [],
   "source": [
    "usps2 = load_table.loc[(load_table['Dimension Grouping']=='SL1_SL2_CT') & (load_table['Sales Level 2']=='US PS MARKET SEGMENT')  &  (load_table['Report Month']==202201)]\n",
    "usps3 = load_table.loc[(load_table['Dimension Grouping']=='SL1_SL2_SL3_CT') & (load_table['Sales Level 2']=='US PS MARKET SEGMENT')  &  (load_table['Report Month']==202201)]"
   ]
  },
  {
   "cell_type": "code",
   "execution_count": 42,
   "id": "a3b4c523-c914-4878-a9f0-1617b346ae51",
   "metadata": {},
   "outputs": [],
   "source": [
    "with pd.ExcelWriter(r'C:\\Users\\phsheari\\Documents\\Compass Conversion Ratios\\Conversion Ratio USPS_202201.xlsx') as writer:  \n",
    "    usps2.to_excel(writer, sheet_name = 'SalesLevel2', index=False)\n",
    "    usps3.to_excel(writer, sheet_name = 'SalesLevel3', index = False)"
   ]
  },
  {
   "cell_type": "markdown",
   "id": "6dbcb556-23c3-4de9-acae-24d382eaa46c",
   "metadata": {},
   "source": [
    "## Data Audit Area"
   ]
  },
  {
   "cell_type": "code",
   "execution_count": 40,
   "id": "4cba65f0-576a-429a-b0ca-521df10629e6",
   "metadata": {},
   "outputs": [
    {
     "name": "stdout",
     "output_type": "stream",
     "text": [
      "202012: 2019-08-27 00:00:00 as weekID 2020021, 2020-07-25 00:00:00, 2020-06-25 00:00:00 as weekID 2020121\n",
      "202101: 2019-09-24 00:00:00 as weekID 2020031, 2020-08-22 00:00:00, 2020-07-23 00:00:00 as weekID 2020125\n",
      "202102: 2019-10-22 00:00:00 as weekID 2020035, 2020-09-19 00:00:00, 2020-08-20 00:00:00 as weekID 2021014\n",
      "202103: 2019-11-26 00:00:00 as weekID 2020051, 2020-10-24 00:00:00, 2020-09-24 00:00:00 as weekID 2021031\n",
      "202104: 2019-12-24 00:00:00 as weekID 2020061, 2020-11-21 00:00:00, 2020-10-22 00:00:00 as weekID 2021035\n",
      "202105: 2020-01-21 00:00:00 as weekID 2020065, 2020-12-19 00:00:00, 2020-11-19 00:00:00 as weekID 2021044\n",
      "202106: 2020-02-25 00:00:00 as weekID 2020081, 2021-01-23 00:00:00, 2020-12-24 00:00:00 as weekID 2021061\n",
      "202107: 2020-03-31 00:00:00 as weekID 2020092, 2021-02-27 00:00:00, 2021-01-28 00:00:00 as weekID 2021071\n",
      "202108: 2020-04-28 00:00:00 as weekID 2020101, 2021-03-27 00:00:00, 2021-02-25 00:00:00 as weekID 2021075\n",
      "202109: 2020-06-02 00:00:00 as weekID 2020112, 2021-05-01 00:00:00, 2021-04-01 00:00:00 as weekID 2021091\n",
      "202110: 2020-06-30 00:00:00 as weekID 2020122, 2021-05-29 00:00:00, 2021-04-29 00:00:00 as weekID 2021095\n",
      "202111: 2020-07-28 00:00:00 as weekID 2021011, 2021-06-26 00:00:00, 2021-05-27 00:00:00 as weekID 2021104\n",
      "202112: 2020-09-01 00:00:00 as weekID 2021022, 2021-07-31 00:00:00, 2021-07-01 00:00:00 as weekID 2021121\n"
     ]
    }
   ],
   "source": [
    "for fiscal_period_id in use_list[:-1]:\n",
    "    max_tracker_readout_date = pd.to_datetime(caldf.loc[caldf['finbi_fiscal_period_id'] == fiscal_period_id]['date'].max()) # The absolute MAX date for the finbi period\n",
    "    min_tracker_readout_date = max_tracker_readout_date + dt.timedelta(days = -333)\n",
    "    revised_max_tracker_readout_date = max_tracker_readout_date + dt.timedelta(days = -30)   #reset the MAX date for the period to be 30 days less, to account for the bookings minimum of 30 days out, for that booking window\n",
    "    \n",
    "    oldest_fiscal_week_id = caldf.loc[caldf['date']==min_tracker_readout_date.isoformat()[:10]]['finbi_fiscal_week_id'].values[0]\n",
    "    thirty_days_ago_week_id = caldf.loc[caldf['date']==revised_max_tracker_readout_date.isoformat()[:10]]['finbi_fiscal_week_id'].values[0]\n",
    "    print(f'{fiscal_period_id}: {min_tracker_readout_date} as weekID {oldest_fiscal_week_id}, {max_tracker_readout_date}, {revised_max_tracker_readout_date} as weekID {thirty_days_ago_week_id}')"
   ]
  },
  {
   "cell_type": "code",
   "execution_count": 41,
   "id": "39d8a739-34a7-4a54-a4ca-1c91b69acd70",
   "metadata": {},
   "outputs": [],
   "source": [
    "fin_sl1_sl2_ct    = fins.loc[(fins['CAV Name'].notnull()) & ((fins['Fiscal Week ID'] >= 2020021) & (fins['Fiscal Week ID'] <= 2020121)) ].groupby(['Sales Level 1','Sales Level 2','Campaign Type'])[['FINBI Name']].nunique()"
   ]
  },
  {
   "cell_type": "code",
   "execution_count": 42,
   "id": "bdf2dcb6-9803-49c2-b689-0b3ab2e6be2b",
   "metadata": {},
   "outputs": [],
   "source": [
    "trkr_condition0 = (tracker['Deliverability']=='Good')\n",
    "trkr_condition1A = (tracker['Date Readout Done']>= '2020-01-21')\n",
    "trkr_condition1B = (tracker['Date Readout Done']<= '2020-11-19')\n",
    "trkr_condition2 = ~(tracker['Compass Campaign Name'].isin(removed_campaigns))\n",
    "trkr_condition3 = ~(tracker['Readout Delivery Status'].isin(['Declined','Postponed']))\n",
    "trkr_condition4 = (tracker['Lvl2 (Region)']=='GES')\n",
    "trkr_condition5 = (~(tracker['Compass Advisor'].isin(['N/A','Expired','None'])) | (tracker['Compass Advisor'] != None))"
   ]
  },
  {
   "cell_type": "code",
   "execution_count": 43,
   "id": "9d4b10f8-bbd7-4535-96b9-db78a7af0bfd",
   "metadata": {},
   "outputs": [
    {
     "data": {
      "text/html": [
       "<div>\n",
       "<style scoped>\n",
       "    .dataframe tbody tr th:only-of-type {\n",
       "        vertical-align: middle;\n",
       "    }\n",
       "\n",
       "    .dataframe tbody tr th {\n",
       "        vertical-align: top;\n",
       "    }\n",
       "\n",
       "    .dataframe thead th {\n",
       "        text-align: right;\n",
       "    }\n",
       "</style>\n",
       "<table border=\"1\" class=\"dataframe\">\n",
       "  <thead>\n",
       "    <tr style=\"text-align: right;\">\n",
       "      <th></th>\n",
       "      <th></th>\n",
       "      <th>Lvl1</th>\n",
       "      <th>Lvl2 (Region)</th>\n",
       "      <th>Compass Advisor</th>\n",
       "      <th>Readout Delivery Status</th>\n",
       "      <th>Items Recommended</th>\n",
       "      <th>Readout FY</th>\n",
       "      <th>Readout FM</th>\n",
       "      <th>Date Readout Done</th>\n",
       "    </tr>\n",
       "    <tr>\n",
       "      <th>Campaign Type</th>\n",
       "      <th>Customer Name</th>\n",
       "      <th></th>\n",
       "      <th></th>\n",
       "      <th></th>\n",
       "      <th></th>\n",
       "      <th></th>\n",
       "      <th></th>\n",
       "      <th></th>\n",
       "      <th></th>\n",
       "    </tr>\n",
       "  </thead>\n",
       "  <tbody>\n",
       "    <tr>\n",
       "      <th rowspan=\"2\" valign=\"top\">REACTIVE</th>\n",
       "      <th>VERITAS TECHNOLOGY INC</th>\n",
       "      <td>2</td>\n",
       "      <td>2</td>\n",
       "      <td>2</td>\n",
       "      <td>2</td>\n",
       "      <td>2</td>\n",
       "      <td>2</td>\n",
       "      <td>2</td>\n",
       "      <td>2</td>\n",
       "    </tr>\n",
       "    <tr>\n",
       "      <th>WORKDAY INC</th>\n",
       "      <td>1</td>\n",
       "      <td>1</td>\n",
       "      <td>1</td>\n",
       "      <td>1</td>\n",
       "      <td>1</td>\n",
       "      <td>1</td>\n",
       "      <td>1</td>\n",
       "      <td>1</td>\n",
       "    </tr>\n",
       "  </tbody>\n",
       "</table>\n",
       "</div>"
      ],
      "text/plain": [
       "                                      Lvl1  Lvl2 (Region)  Compass Advisor  \\\n",
       "Campaign Type Customer Name                                                  \n",
       "REACTIVE      VERITAS TECHNOLOGY INC     2              2                2   \n",
       "              WORKDAY INC                1              1                1   \n",
       "\n",
       "                                      Readout Delivery Status  \\\n",
       "Campaign Type Customer Name                                     \n",
       "REACTIVE      VERITAS TECHNOLOGY INC                        2   \n",
       "              WORKDAY INC                                   1   \n",
       "\n",
       "                                      Items Recommended  Readout FY  \\\n",
       "Campaign Type Customer Name                                           \n",
       "REACTIVE      VERITAS TECHNOLOGY INC                  2           2   \n",
       "              WORKDAY INC                             1           1   \n",
       "\n",
       "                                      Readout FM  Date Readout Done  \n",
       "Campaign Type Customer Name                                          \n",
       "REACTIVE      VERITAS TECHNOLOGY INC           2                  2  \n",
       "              WORKDAY INC                      1                  1  "
      ]
     },
     "execution_count": 43,
     "metadata": {},
     "output_type": "execute_result"
    }
   ],
   "source": [
    "tracker.loc[trkr_condition1A & trkr_condition1B & trkr_condition2 & trkr_condition3 & trkr_condition4 & trkr_condition5][['Customer Name','Lvl1','Lvl2 (Region)','Campaign Type','Compass Advisor','Readout Delivery Status','Items Recommended','Readout FY','Readout FM','Date Readout Done',]].groupby(['Campaign Type','Customer Name']).count()[59:]"
   ]
  },
  {
   "cell_type": "code",
   "execution_count": 44,
   "id": "47564845-37c0-4aad-99db-4ecd3d328aea",
   "metadata": {},
   "outputs": [],
   "source": [
    "compass_sl1_sl2_ct  = tracker.loc[trkr_condition1A & trkr_condition1B & trkr_condition2 & trkr_condition3 ].groupby(['Lvl1','Lvl2 (Region)','Campaign Type'])[['Customer Name']].nunique()"
   ]
  },
  {
   "cell_type": "code",
   "execution_count": null,
   "id": "b2600bca-ab4b-48ee-8fec-7bb7d338aeeb",
   "metadata": {},
   "outputs": [],
   "source": []
  },
  {
   "cell_type": "code",
   "execution_count": 45,
   "id": "5ac43eeb-1888-4df4-a9df-7dcc7af25254",
   "metadata": {},
   "outputs": [
    {
     "data": {
      "text/html": [
       "<div>\n",
       "<style scoped>\n",
       "    .dataframe tbody tr th:only-of-type {\n",
       "        vertical-align: middle;\n",
       "    }\n",
       "\n",
       "    .dataframe tbody tr th {\n",
       "        vertical-align: top;\n",
       "    }\n",
       "\n",
       "    .dataframe thead th {\n",
       "        text-align: right;\n",
       "    }\n",
       "</style>\n",
       "<table border=\"1\" class=\"dataframe\">\n",
       "  <thead>\n",
       "    <tr style=\"text-align: right;\">\n",
       "      <th></th>\n",
       "      <th></th>\n",
       "      <th></th>\n",
       "      <th>FINBI Name</th>\n",
       "    </tr>\n",
       "    <tr>\n",
       "      <th>Sales Level 1</th>\n",
       "      <th>Sales Level 2</th>\n",
       "      <th>Campaign Type</th>\n",
       "      <th></th>\n",
       "    </tr>\n",
       "  </thead>\n",
       "  <tbody>\n",
       "    <tr>\n",
       "      <th rowspan=\"9\" valign=\"top\">Americas</th>\n",
       "      <th rowspan=\"2\" valign=\"top\">CANADA</th>\n",
       "      <th>PROACTIVE</th>\n",
       "      <td>1</td>\n",
       "    </tr>\n",
       "    <tr>\n",
       "      <th>REACTIVE</th>\n",
       "      <td>2</td>\n",
       "    </tr>\n",
       "    <tr>\n",
       "      <th rowspan=\"2\" valign=\"top\">GES</th>\n",
       "      <th>PROACTIVE</th>\n",
       "      <td>6</td>\n",
       "    </tr>\n",
       "    <tr>\n",
       "      <th>REACTIVE</th>\n",
       "      <td>17</td>\n",
       "    </tr>\n",
       "    <tr>\n",
       "      <th rowspan=\"2\" valign=\"top\">LATIN AMERICA</th>\n",
       "      <th>PROACTIVE</th>\n",
       "      <td>2</td>\n",
       "    </tr>\n",
       "    <tr>\n",
       "      <th>REACTIVE</th>\n",
       "      <td>10</td>\n",
       "    </tr>\n",
       "    <tr>\n",
       "      <th rowspan=\"2\" valign=\"top\">US COMMERCIAL</th>\n",
       "      <th>PROACTIVE</th>\n",
       "      <td>8</td>\n",
       "    </tr>\n",
       "    <tr>\n",
       "      <th>REACTIVE</th>\n",
       "      <td>10</td>\n",
       "    </tr>\n",
       "    <tr>\n",
       "      <th>US PS Market Segment</th>\n",
       "      <th>REACTIVE</th>\n",
       "      <td>3</td>\n",
       "    </tr>\n",
       "  </tbody>\n",
       "</table>\n",
       "</div>"
      ],
      "text/plain": [
       "                                                  FINBI Name\n",
       "Sales Level 1 Sales Level 2        Campaign Type            \n",
       "Americas      CANADA               PROACTIVE               1\n",
       "                                   REACTIVE                2\n",
       "              GES                  PROACTIVE               6\n",
       "                                   REACTIVE               17\n",
       "              LATIN AMERICA        PROACTIVE               2\n",
       "                                   REACTIVE               10\n",
       "              US COMMERCIAL        PROACTIVE               8\n",
       "                                   REACTIVE               10\n",
       "              US PS Market Segment REACTIVE                3"
      ]
     },
     "execution_count": 45,
     "metadata": {},
     "output_type": "execute_result"
    }
   ],
   "source": [
    "fin_sl1_sl2_ct"
   ]
  },
  {
   "cell_type": "code",
   "execution_count": 46,
   "id": "34406df7-b686-4114-928f-6a66f1978453",
   "metadata": {},
   "outputs": [
    {
     "data": {
      "text/html": [
       "<div>\n",
       "<style scoped>\n",
       "    .dataframe tbody tr th:only-of-type {\n",
       "        vertical-align: middle;\n",
       "    }\n",
       "\n",
       "    .dataframe tbody tr th {\n",
       "        vertical-align: top;\n",
       "    }\n",
       "\n",
       "    .dataframe thead th {\n",
       "        text-align: right;\n",
       "    }\n",
       "</style>\n",
       "<table border=\"1\" class=\"dataframe\">\n",
       "  <thead>\n",
       "    <tr style=\"text-align: right;\">\n",
       "      <th></th>\n",
       "      <th></th>\n",
       "      <th></th>\n",
       "      <th>Customer Name</th>\n",
       "    </tr>\n",
       "    <tr>\n",
       "      <th>Lvl1</th>\n",
       "      <th>Lvl2 (Region)</th>\n",
       "      <th>Campaign Type</th>\n",
       "      <th></th>\n",
       "    </tr>\n",
       "  </thead>\n",
       "  <tbody>\n",
       "    <tr>\n",
       "      <th rowspan=\"12\" valign=\"top\">AMERICAS</th>\n",
       "      <th rowspan=\"2\" valign=\"top\">AMERICAS_SP</th>\n",
       "      <th>PROACTIVE</th>\n",
       "      <td>3</td>\n",
       "    </tr>\n",
       "    <tr>\n",
       "      <th>REACTIVE</th>\n",
       "      <td>11</td>\n",
       "    </tr>\n",
       "    <tr>\n",
       "      <th rowspan=\"2\" valign=\"top\">CANADA</th>\n",
       "      <th>PROACTIVE</th>\n",
       "      <td>5</td>\n",
       "    </tr>\n",
       "    <tr>\n",
       "      <th>REACTIVE</th>\n",
       "      <td>56</td>\n",
       "    </tr>\n",
       "    <tr>\n",
       "      <th rowspan=\"2\" valign=\"top\">GES</th>\n",
       "      <th>PROACTIVE</th>\n",
       "      <td>6</td>\n",
       "    </tr>\n",
       "    <tr>\n",
       "      <th>REACTIVE</th>\n",
       "      <td>55</td>\n",
       "    </tr>\n",
       "    <tr>\n",
       "      <th rowspan=\"2\" valign=\"top\">LATIN AMERICA</th>\n",
       "      <th>PROACTIVE</th>\n",
       "      <td>8</td>\n",
       "    </tr>\n",
       "    <tr>\n",
       "      <th>REACTIVE</th>\n",
       "      <td>110</td>\n",
       "    </tr>\n",
       "    <tr>\n",
       "      <th rowspan=\"2\" valign=\"top\">US COMMERCIAL</th>\n",
       "      <th>PROACTIVE</th>\n",
       "      <td>261</td>\n",
       "    </tr>\n",
       "    <tr>\n",
       "      <th>REACTIVE</th>\n",
       "      <td>337</td>\n",
       "    </tr>\n",
       "    <tr>\n",
       "      <th rowspan=\"2\" valign=\"top\">US PS MARKET SEGMENT</th>\n",
       "      <th>PROACTIVE</th>\n",
       "      <td>28</td>\n",
       "    </tr>\n",
       "    <tr>\n",
       "      <th>REACTIVE</th>\n",
       "      <td>63</td>\n",
       "    </tr>\n",
       "    <tr>\n",
       "      <th rowspan=\"11\" valign=\"top\">APJC</th>\n",
       "      <th rowspan=\"2\" valign=\"top\">ANZ AREA</th>\n",
       "      <th>PROACTIVE</th>\n",
       "      <td>29</td>\n",
       "    </tr>\n",
       "    <tr>\n",
       "      <th>REACTIVE</th>\n",
       "      <td>26</td>\n",
       "    </tr>\n",
       "    <tr>\n",
       "      <th>APJ_SP</th>\n",
       "      <th>PROACTIVE</th>\n",
       "      <td>3</td>\n",
       "    </tr>\n",
       "    <tr>\n",
       "      <th rowspan=\"2\" valign=\"top\">ASEAN_AREA</th>\n",
       "      <th>PROACTIVE</th>\n",
       "      <td>5</td>\n",
       "    </tr>\n",
       "    <tr>\n",
       "      <th>REACTIVE</th>\n",
       "      <td>5</td>\n",
       "    </tr>\n",
       "    <tr>\n",
       "      <th rowspan=\"2\" valign=\"top\">GREATER_CHINA</th>\n",
       "      <th>PROACTIVE</th>\n",
       "      <td>19</td>\n",
       "    </tr>\n",
       "    <tr>\n",
       "      <th>REACTIVE</th>\n",
       "      <td>4</td>\n",
       "    </tr>\n",
       "    <tr>\n",
       "      <th rowspan=\"2\" valign=\"top\">INDIA_AREA</th>\n",
       "      <th>PROACTIVE</th>\n",
       "      <td>3</td>\n",
       "    </tr>\n",
       "    <tr>\n",
       "      <th>REACTIVE</th>\n",
       "      <td>6</td>\n",
       "    </tr>\n",
       "    <tr>\n",
       "      <th>JAPAN__</th>\n",
       "      <th>PROACTIVE</th>\n",
       "      <td>10</td>\n",
       "    </tr>\n",
       "    <tr>\n",
       "      <th>ROK_AREA</th>\n",
       "      <th>PROACTIVE</th>\n",
       "      <td>2</td>\n",
       "    </tr>\n",
       "    <tr>\n",
       "      <th rowspan=\"12\" valign=\"top\">EMEAR-REGION</th>\n",
       "      <th rowspan=\"2\" valign=\"top\">EMEAR-CENTRAL</th>\n",
       "      <th>PROACTIVE</th>\n",
       "      <td>1</td>\n",
       "    </tr>\n",
       "    <tr>\n",
       "      <th>REACTIVE</th>\n",
       "      <td>10</td>\n",
       "    </tr>\n",
       "    <tr>\n",
       "      <th rowspan=\"2\" valign=\"top\">EMEAR-NORTH</th>\n",
       "      <th>PROACTIVE</th>\n",
       "      <td>15</td>\n",
       "    </tr>\n",
       "    <tr>\n",
       "      <th>REACTIVE</th>\n",
       "      <td>10</td>\n",
       "    </tr>\n",
       "    <tr>\n",
       "      <th rowspan=\"2\" valign=\"top\">EMEAR-SOUTH</th>\n",
       "      <th>PROACTIVE</th>\n",
       "      <td>26</td>\n",
       "    </tr>\n",
       "    <tr>\n",
       "      <th>REACTIVE</th>\n",
       "      <td>15</td>\n",
       "    </tr>\n",
       "    <tr>\n",
       "      <th rowspan=\"2\" valign=\"top\">EMEAR-UKI</th>\n",
       "      <th>PROACTIVE</th>\n",
       "      <td>49</td>\n",
       "    </tr>\n",
       "    <tr>\n",
       "      <th>REACTIVE</th>\n",
       "      <td>64</td>\n",
       "    </tr>\n",
       "    <tr>\n",
       "      <th rowspan=\"2\" valign=\"top\">EMEAR_GERMANY</th>\n",
       "      <th>PROACTIVE</th>\n",
       "      <td>1</td>\n",
       "    </tr>\n",
       "    <tr>\n",
       "      <th>REACTIVE</th>\n",
       "      <td>6</td>\n",
       "    </tr>\n",
       "    <tr>\n",
       "      <th rowspan=\"2\" valign=\"top\">EMEAR_MEA</th>\n",
       "      <th>PROACTIVE</th>\n",
       "      <td>1</td>\n",
       "    </tr>\n",
       "    <tr>\n",
       "      <th>REACTIVE</th>\n",
       "      <td>15</td>\n",
       "    </tr>\n",
       "  </tbody>\n",
       "</table>\n",
       "</div>"
      ],
      "text/plain": [
       "                                                 Customer Name\n",
       "Lvl1         Lvl2 (Region)        Campaign Type               \n",
       "AMERICAS     AMERICAS_SP          PROACTIVE                  3\n",
       "                                  REACTIVE                  11\n",
       "             CANADA               PROACTIVE                  5\n",
       "                                  REACTIVE                  56\n",
       "             GES                  PROACTIVE                  6\n",
       "                                  REACTIVE                  55\n",
       "             LATIN AMERICA        PROACTIVE                  8\n",
       "                                  REACTIVE                 110\n",
       "             US COMMERCIAL        PROACTIVE                261\n",
       "                                  REACTIVE                 337\n",
       "             US PS MARKET SEGMENT PROACTIVE                 28\n",
       "                                  REACTIVE                  63\n",
       "APJC         ANZ AREA             PROACTIVE                 29\n",
       "                                  REACTIVE                  26\n",
       "             APJ_SP               PROACTIVE                  3\n",
       "             ASEAN_AREA           PROACTIVE                  5\n",
       "                                  REACTIVE                   5\n",
       "             GREATER_CHINA        PROACTIVE                 19\n",
       "                                  REACTIVE                   4\n",
       "             INDIA_AREA           PROACTIVE                  3\n",
       "                                  REACTIVE                   6\n",
       "             JAPAN__              PROACTIVE                 10\n",
       "             ROK_AREA             PROACTIVE                  2\n",
       "EMEAR-REGION EMEAR-CENTRAL        PROACTIVE                  1\n",
       "                                  REACTIVE                  10\n",
       "             EMEAR-NORTH          PROACTIVE                 15\n",
       "                                  REACTIVE                  10\n",
       "             EMEAR-SOUTH          PROACTIVE                 26\n",
       "                                  REACTIVE                  15\n",
       "             EMEAR-UKI            PROACTIVE                 49\n",
       "                                  REACTIVE                  64\n",
       "             EMEAR_GERMANY        PROACTIVE                  1\n",
       "                                  REACTIVE                   6\n",
       "             EMEAR_MEA            PROACTIVE                  1\n",
       "                                  REACTIVE                  15"
      ]
     },
     "execution_count": 46,
     "metadata": {},
     "output_type": "execute_result"
    }
   ],
   "source": [
    "compass_sl1_sl2_ct"
   ]
  },
  {
   "cell_type": "code",
   "execution_count": 47,
   "id": "a059ebd5-b635-488a-91b6-30dce0c24609",
   "metadata": {},
   "outputs": [],
   "source": [
    "# caldf.loc[caldf['date']==revised_max_tracker_readout_date.isoformat()[:10]]['finbi_fiscal_week_id'].values[0]"
   ]
  },
  {
   "cell_type": "code",
   "execution_count": 48,
   "id": "45e9bec0-ce2b-43cb-ae2d-4ac5d96544f2",
   "metadata": {},
   "outputs": [],
   "source": [
    "# caldf.head(2)"
   ]
  },
  {
   "cell_type": "code",
   "execution_count": 49,
   "id": "respiratory-motorcycle",
   "metadata": {},
   "outputs": [],
   "source": [
    "# fins['Report Month'] = fiscal_period_id"
   ]
  },
  {
   "cell_type": "code",
   "execution_count": 50,
   "id": "ad3278ac-7c6e-4182-aa44-a7ba3029f922",
   "metadata": {},
   "outputs": [],
   "source": [
    "# fins.columns"
   ]
  },
  {
   "cell_type": "code",
   "execution_count": 51,
   "id": "oriented-organic",
   "metadata": {},
   "outputs": [],
   "source": [
    "#((fins['Fiscal Week ID'] >= oldest_fiscal_week_id) & (fins['Fiscal Week ID'] <= thirty_days_ago_week_id))"
   ]
  },
  {
   "cell_type": "code",
   "execution_count": 52,
   "id": "welsh-remains",
   "metadata": {},
   "outputs": [],
   "source": [
    "# fin_sl1           = fins.loc[(fins['CAV Name'].notnull()) & ((fins['Fiscal Week ID'] >= oldest_fiscal_week_id) & (fins['Fiscal Week ID'] <= thirty_days_ago_week_id)) ].groupby(['Sales Level 1'])[['FINBI Name']].nunique()\n",
    "# fin_ct            = fins.loc[(fins['CAV Name'].notnull()) & ((fins['Fiscal Week ID'] >= oldest_fiscal_week_id) & (fins['Fiscal Week ID'] <= thirty_days_ago_week_id)) ].groupby(['Campaign Type'])[['FINBI Name']].nunique()\n",
    "# fin_sl1_ct        = fins.loc[(fins['CAV Name'].notnull()) & ((fins['Fiscal Week ID'] >= oldest_fiscal_week_id) & (fins['Fiscal Week ID'] <= thirty_days_ago_week_id)) ].groupby(['Sales Level 1','Campaign Type'])[['FINBI Name']].nunique()\n",
    "# fin_sl1_sl2_ct    = fins.loc[(fins['CAV Name'].notnull()) & ((fins['Fiscal Week ID'] >= oldest_fiscal_week_id) & (fins['Fiscal Week ID'] <= thirty_days_ago_week_id)) ].groupby(['Sales Level 1','Sales Level 2','Campaign Type'])[['FINBI Name']].nunique()\n",
    "# fin_sl1_sl2       = fins.loc[(fins['CAV Name'].notnull()) & ((fins['Fiscal Week ID'] >= oldest_fiscal_week_id) & (fins['Fiscal Week ID'] <= thirty_days_ago_week_id)) ].groupby(['Sales Level 1','Sales Level 2'])[['FINBI Name']].nunique()\n",
    "# fin_sl1_sl2_sl3   = fins.loc[(fins['CAV Name'].notnull()) & ((fins['Fiscal Week ID'] >= oldest_fiscal_week_id) & (fins['Fiscal Week ID'] <= thirty_days_ago_week_id)) ].groupby(['Sales Level 1','Sales Level 2','Sales Level 3'])[['FINBI Name']].nunique()\n",
    "# fin_sl1_sl2_sl3_ct = fins.loc[(fins['CAV Name'].notnull()) & ((fins['Fiscal Week ID'] >= oldest_fiscal_week_id) & (fins['Fiscal Week ID'] <= thirty_days_ago_week_id)) ].groupby(['Sales Level 1','Sales Level 2','Sales Level 3','Campaign Type'])[['FINBI Name']].nunique()\n",
    "# overall_numerator = fins.loc[(fins['CAV Name'].notnull()) & ((fins['Fiscal Week ID'] >= oldest_fiscal_week_id) & (fins['Fiscal Week ID'] <= thirty_days_ago_week_id)) ][['FINBI Name']].nunique()[0]"
   ]
  },
  {
   "cell_type": "code",
   "execution_count": 53,
   "id": "honey-trailer",
   "metadata": {},
   "outputs": [],
   "source": [
    "# fin_sl1_ct.reset_index(inplace=True)\n",
    "# fin_ct.reset_index(inplace=True)\n",
    "# fin_sl1.reset_index(inplace=True)\n",
    "# fin_sl1_sl2_ct.reset_index(inplace=True)\n",
    "# fin_sl1_sl2.reset_index(inplace=True)\n",
    "# fin_sl1_sl2_sl3.reset_index(inplace=True)\n",
    "# fin_sl1_sl2_sl3_ct.reset_index(inplace=True)"
   ]
  },
  {
   "cell_type": "code",
   "execution_count": 54,
   "id": "43d51962-01f6-4cd7-88cb-e1592ca211dc",
   "metadata": {},
   "outputs": [],
   "source": [
    "# overall_numerator"
   ]
  },
  {
   "cell_type": "markdown",
   "id": "dbce31de-c0be-4549-bc84-a61969331a0e",
   "metadata": {},
   "source": [
    "### Set the SL and Campaign Dimension Level on the various dataframes"
   ]
  },
  {
   "cell_type": "code",
   "execution_count": 55,
   "id": "2addbb46-ca86-41a5-a383-96dd87f70225",
   "metadata": {},
   "outputs": [],
   "source": [
    "# fin_sl1_ct['Report Month'] = fiscal_period_id\n",
    "# fin_sl1_ct['Dimension Grouping'] = 'SL1_CT'"
   ]
  },
  {
   "cell_type": "code",
   "execution_count": 56,
   "id": "06dec43a-8a41-4f1b-bb56-f2821881cbb8",
   "metadata": {},
   "outputs": [],
   "source": [
    "# fin_ct['Report Month'] = fiscal_period_id\n",
    "# fin_ct['Dimension Grouping'] = 'CT ONLY'"
   ]
  },
  {
   "cell_type": "code",
   "execution_count": 57,
   "id": "d58e6b36-ef81-45bc-84fd-fcc1f64c46ee",
   "metadata": {},
   "outputs": [],
   "source": [
    "# fin_sl1['Report Month'] = fiscal_period_id\n",
    "# fin_sl1['Dimension Grouping'] = 'SL1 ONLY'"
   ]
  },
  {
   "cell_type": "code",
   "execution_count": 58,
   "id": "96b5f1c5-7fab-4a48-b5c5-c36e72fe2987",
   "metadata": {},
   "outputs": [],
   "source": [
    "# fin_sl1_sl2_ct['Report Month'] = fiscal_period_id\n",
    "# fin_sl1_sl2_ct['Dimension Grouping'] = 'SL1_SL2_CT'"
   ]
  },
  {
   "cell_type": "code",
   "execution_count": 59,
   "id": "543f7b77-8e64-4e1e-a678-c78a3eed0863",
   "metadata": {},
   "outputs": [],
   "source": [
    "# fin_sl1_sl2['Report Month'] = fiscal_period_id\n",
    "# fin_sl1_sl2['Dimension Grouping'] = 'SL1_SL2'"
   ]
  },
  {
   "cell_type": "code",
   "execution_count": 60,
   "id": "7271884d-36e9-4a82-a2f4-8dc15f41e8c4",
   "metadata": {},
   "outputs": [],
   "source": [
    "# fin_sl1_sl2_sl3['Report Month'] = fiscal_period_id\n",
    "# fin_sl1_sl2_sl3['Dimension Grouping'] = 'SL1_SL2_SL3'"
   ]
  },
  {
   "cell_type": "code",
   "execution_count": 61,
   "id": "9d78ce46-3d64-4658-b67e-75554eb49924",
   "metadata": {},
   "outputs": [],
   "source": [
    "# fin_sl1_sl2_sl3_ct['Report Month'] = fiscal_period_id\n",
    "# fin_sl1_sl2_sl3_ct['Dimension Grouping'] = 'SL1_SL2_SL3_CT'"
   ]
  },
  {
   "cell_type": "code",
   "execution_count": 62,
   "id": "modular-integrity",
   "metadata": {},
   "outputs": [],
   "source": [
    "# fin_sl1_sl2_sl3_ct"
   ]
  },
  {
   "cell_type": "code",
   "execution_count": 63,
   "id": "forward-groove",
   "metadata": {},
   "outputs": [],
   "source": [
    "# fin_sl1['Sales Level 1']        = fin_sl1['Sales Level 1'].str.upper()\n",
    "# fin_ct['Campaign Type']         = fin_ct['Campaign Type'].str.upper()\n",
    "# fin_sl1_ct['Sales Level 1']     = fin_sl1_ct['Sales Level 1'].str.upper()\n",
    "# fin_sl1_sl2_ct['Sales Level 1'] = fin_sl1_sl2_ct['Sales Level 1'].str.upper()\n",
    "# fin_sl1_sl2_ct['Sales Level 2'] = fin_sl1_sl2_ct['Sales Level 2'].str.upper()\n",
    "# fin_sl1_sl2['Sales Level 1']    = fin_sl1_sl2['Sales Level 1'].str.upper()\n",
    "# fin_sl1_sl2['Sales Level 2']    = fin_sl1_sl2['Sales Level 2'].str.upper()\n",
    "# fin_sl1_sl2_sl3['Sales Level 1']    = fin_sl1_sl2_sl3['Sales Level 1'].str.upper()\n",
    "# fin_sl1_sl2_sl3['Sales Level 2']    = fin_sl1_sl2_sl3['Sales Level 2'].str.upper()\n",
    "# fin_sl1_sl2_sl3['Sales Level 3']    = fin_sl1_sl2_sl3['Sales Level 3'].str.upper()\n",
    "# fin_sl1_sl2_sl3_ct['Sales Level 1']    = fin_sl1_sl2_sl3_ct['Sales Level 1'].str.upper()\n",
    "# fin_sl1_sl2_sl3_ct['Sales Level 2']    = fin_sl1_sl2_sl3_ct['Sales Level 2'].str.upper()\n",
    "# fin_sl1_sl2_sl3_ct['Sales Level 3']    = fin_sl1_sl2_sl3_ct['Sales Level 3'].str.upper()"
   ]
  },
  {
   "cell_type": "code",
   "execution_count": 64,
   "id": "relevant-lexington",
   "metadata": {},
   "outputs": [],
   "source": [
    "# removed_campaigns = ['REACTIVE - ACC DESIGNATION','REACTIVE - PARTNER','REACTIVE - GROWTH INITIATIVE',\n",
    "#                      'PROACTIVE - TAC LEAD','PROACTIVE - CS RESEARCH','PROACTIVE - PRESALES ALIGN PITSTOP EFFORT']"
   ]
  },
  {
   "cell_type": "code",
   "execution_count": 65,
   "id": "concrete-projector",
   "metadata": {},
   "outputs": [],
   "source": [
    "# tracker.loc[(tracker['Lvl2 (Region)'].notnull()) & (tracker['Lvl2 (Region)'].str.contains('UKI', case=False)), 'Lvl2 (Region)'] = 'EMEAR-UKI'"
   ]
  },
  {
   "cell_type": "code",
   "execution_count": 66,
   "id": "extra-turning",
   "metadata": {},
   "outputs": [],
   "source": [
    "# tracker.loc[(tracker['Lvl2 (Region)'].notnull()) & (tracker['Lvl2 (Region)'].str.contains('central', case=False)), 'Lvl2 (Region)'] = 'EMEAR-CENTRAL'"
   ]
  },
  {
   "cell_type": "code",
   "execution_count": 67,
   "id": "sexual-batman",
   "metadata": {},
   "outputs": [],
   "source": [
    "# tracker.loc[(tracker['Lvl2 (Region)'].notnull()) & (tracker['Lvl2 (Region)'].str.contains('north', case=False)), 'Lvl2 (Region)'] = 'EMEAR-NORTH'"
   ]
  },
  {
   "cell_type": "code",
   "execution_count": 68,
   "id": "reduced-central",
   "metadata": {},
   "outputs": [],
   "source": [
    "# tracker.loc[(tracker['Lvl2 (Region)'].notnull()) & (tracker['Lvl2 (Region)'].str.contains('south', case=False)), 'Lvl2 (Region)'] = 'EMEAR-SOUTH'"
   ]
  },
  {
   "cell_type": "code",
   "execution_count": 69,
   "id": "allied-characterization",
   "metadata": {},
   "outputs": [],
   "source": [
    "# tracker.loc[(tracker['Lvl2 (Region)'].notnull()) & (tracker['Lvl2 (Region)'].str.contains('ANZ', case=False)), 'Lvl2 (Region)'] = 'ANZ AREA'"
   ]
  },
  {
   "cell_type": "code",
   "execution_count": 70,
   "id": "fitted-oxygen",
   "metadata": {},
   "outputs": [],
   "source": [
    "# tracker.loc[(tracker['Lvl2 (Region)'].notnull()) & (tracker['Lvl2 (Region)'].str.contains('japan', case=False)), 'Lvl2 (Region)'] = 'JAPAN__'"
   ]
  },
  {
   "cell_type": "code",
   "execution_count": 71,
   "id": "least-translator",
   "metadata": {},
   "outputs": [],
   "source": [
    "# tracker.columns"
   ]
  },
  {
   "cell_type": "code",
   "execution_count": 72,
   "id": "sacred-occupation",
   "metadata": {},
   "outputs": [],
   "source": [
    "# trkr_condition1A = (tracker['Date Readout Done']>= min_tracker_readout_date)\n",
    "# trkr_condition1B = (tracker['Date Readout Done']<= revised_max_tracker_readout_date)\n",
    "# trkr_condition2 = ~(tracker['Compass Campaign Name'].isin(removed_campaigns))\n",
    "# trkr_condition3 = ~(tracker['Readout Delivery Status'].isin(['Declined','Postponed']))\n",
    "# #trkr_condition4 = ~(tracker['Lvl2 (Region)']=='LATAM')\n",
    "# trkr_condition5 = (tracker['is_Targeting_Campaign']==True)"
   ]
  },
  {
   "cell_type": "code",
   "execution_count": 73,
   "id": "religious-citizenship",
   "metadata": {},
   "outputs": [],
   "source": [
    "# compass_sl1         = tracker.loc[trkr_condition1A & trkr_condition1B & trkr_condition2 & trkr_condition3 ].groupby(['Lvl1'])[['Customer Name']].nunique()\n",
    "# compass_ct          = tracker.loc[trkr_condition1A & trkr_condition1B & trkr_condition2 & trkr_condition3 ].groupby(['Campaign Type'])[['Customer Name']].nunique()\n",
    "# compass_sl1_ct      = tracker.loc[trkr_condition1A & trkr_condition1B & trkr_condition2 & trkr_condition3 ].groupby(['Lvl1','Campaign Type'])[['Customer Name']].nunique()\n",
    "# compass_sl1_sl2_ct  = tracker.loc[trkr_condition1A & trkr_condition1B & trkr_condition2 & trkr_condition3 ].groupby(['Lvl1','Lvl2 (Region)','Campaign Type'])[['Customer Name']].nunique()\n",
    "# compass_sl1_sl2     = tracker.loc[trkr_condition1A & trkr_condition1B & trkr_condition2 & trkr_condition3 ].groupby(['Lvl1','Lvl2 (Region)'])[['Customer Name']].nunique()\n",
    "# compass_sl1_sl2_sl3     = tracker.loc[trkr_condition1A & trkr_condition1B & trkr_condition2 & trkr_condition3 ].groupby(['Lvl1','Lvl2 (Region)','Lvl3'])[['Customer Name']].nunique()\n",
    "# compass_sl1_sl2_sl3_ct  = tracker.loc[trkr_condition1A & trkr_condition1B & trkr_condition2 & trkr_condition3 ].groupby(['Lvl1','Lvl2 (Region)','Lvl3','Campaign Type'])[['Customer Name']].nunique()\n",
    "# overall_denominator = tracker.loc[trkr_condition1A & trkr_condition1B & trkr_condition2 & trkr_condition3 ][['Customer Name']].nunique()[0]"
   ]
  },
  {
   "cell_type": "code",
   "execution_count": 74,
   "id": "selective-finish",
   "metadata": {},
   "outputs": [],
   "source": [
    "# ### Sanity Check\n",
    "# tracker.loc[(tracker['Lvl2 (Region)'].notnull()) & (tracker['Lvl2 (Region)'].str.contains('UKI', case=False)), 'Lvl2 (Region)'] = 'EMEAR-UKI'"
   ]
  },
  {
   "cell_type": "code",
   "execution_count": 75,
   "id": "stretch-company",
   "metadata": {},
   "outputs": [],
   "source": [
    "# compass_sl1.reset_index(inplace=True)\n",
    "# compass_ct.reset_index(inplace=True)\n",
    "# compass_sl1_ct.reset_index(inplace=True)\n",
    "# compass_sl1_sl2_ct.reset_index(inplace=True)\n",
    "# compass_sl1_sl2.reset_index(inplace=True)\n",
    "# compass_sl1_sl2_sl3.reset_index(inplace=True)\n",
    "# compass_sl1_sl2_sl3_ct.reset_index(inplace=True)"
   ]
  },
  {
   "cell_type": "code",
   "execution_count": 76,
   "id": "selective-musical",
   "metadata": {},
   "outputs": [],
   "source": [
    "# compass_sl1.rename(columns = {'Lvl1':'Sales Level 1','Customer Name':'Compass Name'}, inplace=True)\n",
    "# compass_ct.rename(columns = {'Customer Name':'Compass Name'}, inplace=True)\n",
    "# compass_sl1_ct.rename(columns = {'Lvl1':'Sales Level 1','Customer Name':'Compass Name'}, inplace=True)\n",
    "# compass_sl1_sl2_ct.rename(columns = {'Lvl1':'Sales Level 1','Lvl2 (Region)':'Sales Level 2','Customer Name':'Compass Name'}, inplace=True)\n",
    "# compass_sl1_sl2.rename(columns = {'Lvl1':'Sales Level 1','Lvl2 (Region)':'Sales Level 2','Customer Name':'Compass Name'}, inplace=True)\n",
    "# compass_sl1_sl2_sl3.rename(columns = {'Lvl1':'Sales Level 1','Lvl2 (Region)':'Sales Level 2', 'Lvl3':'Sales Level 3','Customer Name':'Compass Name'}, inplace=True)\n",
    "# compass_sl1_sl2_sl3_ct.rename(columns = {'Lvl1':'Sales Level 1','Lvl2 (Region)':'Sales Level 2','Lvl3':'Sales Level 3','Customer Name':'Compass Name'}, inplace=True)"
   ]
  },
  {
   "cell_type": "code",
   "execution_count": 77,
   "id": "compliant-custom",
   "metadata": {},
   "outputs": [],
   "source": [
    "# fin_sl1_sl2_sl3_ct"
   ]
  },
  {
   "cell_type": "code",
   "execution_count": 78,
   "id": "amazing-december",
   "metadata": {},
   "outputs": [],
   "source": [
    "# combined_sl1 = pd.merge(fin_sl1, compass_sl1, on = ['Sales Level 1'])"
   ]
  },
  {
   "cell_type": "code",
   "execution_count": 79,
   "id": "marked-index",
   "metadata": {},
   "outputs": [],
   "source": [
    "# combined_ct = pd.merge(fin_ct, compass_ct, on=['Campaign Type'])"
   ]
  },
  {
   "cell_type": "code",
   "execution_count": 80,
   "id": "broke-student",
   "metadata": {},
   "outputs": [],
   "source": [
    "# combined_sl1_ct = pd.merge(fin_sl1_ct, compass_sl1_ct, on = ['Sales Level 1','Campaign Type'])"
   ]
  },
  {
   "cell_type": "code",
   "execution_count": 81,
   "id": "plastic-punishment",
   "metadata": {},
   "outputs": [],
   "source": [
    "# combined_sl1_sl2_ct = pd.merge(fin_sl1_sl2_ct,compass_sl1_sl2_ct, on = ['Sales Level 1', 'Sales Level 2','Campaign Type'])"
   ]
  },
  {
   "cell_type": "code",
   "execution_count": 82,
   "id": "a42cace5-6325-4607-a0ea-dffe06ca19ba",
   "metadata": {},
   "outputs": [],
   "source": [
    "# combined_sl1_sl2 = pd.merge(fin_sl1_sl2,compass_sl1_sl2, on = ['Sales Level 1', 'Sales Level 2'])"
   ]
  },
  {
   "cell_type": "code",
   "execution_count": 83,
   "id": "b415bfba-2b61-4c9e-84fc-2c1cab6ff7bf",
   "metadata": {},
   "outputs": [],
   "source": [
    "# combined_sl1_sl2_sl3 = pd.merge(fin_sl1_sl2_sl3,compass_sl1_sl2_sl3, on = ['Sales Level 1', 'Sales Level 2','Sales Level 3'])"
   ]
  },
  {
   "cell_type": "code",
   "execution_count": 84,
   "id": "85edf9ae-68c4-40ac-895d-586959d46092",
   "metadata": {},
   "outputs": [],
   "source": [
    "# combined_sl1_sl2_sl3_ct = pd.merge(fin_sl1_sl2_sl3_ct,compass_sl1_sl2_sl3_ct, on = ['Sales Level 1', 'Sales Level 2','Sales Level 3','Campaign Type'])"
   ]
  },
  {
   "cell_type": "code",
   "execution_count": 85,
   "id": "guilty-forwarding",
   "metadata": {},
   "outputs": [],
   "source": [
    "# combined_sl1_sl2_sl3_ct"
   ]
  },
  {
   "cell_type": "code",
   "execution_count": 86,
   "id": "varied-option",
   "metadata": {},
   "outputs": [],
   "source": [
    "# combined_sl1_sl2_ct['Conversion Ratio %'] = (combined_sl1_sl2_ct['FINBI Name'] / combined_sl1_sl2_ct['Compass Name']) #* 100\n",
    "# combined_sl1_ct['Conversion Ratio %'] = (combined_sl1_ct['FINBI Name'] / combined_sl1_ct['Compass Name']) #* 100\n",
    "# combined_sl1['Conversion Ratio %'] = (combined_sl1['FINBI Name'] / combined_sl1['Compass Name']) #* 100\n",
    "# combined_ct['Conversion Ratio %'] = (combined_ct['FINBI Name'] / combined_ct['Compass Name']) #* 100\n",
    "# combined_sl1_sl2['Conversion Ratio %'] = (combined_sl1_sl2['FINBI Name'] / combined_sl1_sl2['Compass Name']) #* 100\n",
    "# combined_sl1_sl2_sl3['Conversion Ratio %'] = (combined_sl1_sl2_sl3['FINBI Name'] / combined_sl1_sl2_sl3['Compass Name']) #* 100\n",
    "# combined_sl1_sl2_sl3_ct['Conversion Ratio %'] = (combined_sl1_sl2_sl3_ct['FINBI Name'] / combined_sl1_sl2_sl3_ct['Compass Name']) #* 100"
   ]
  },
  {
   "cell_type": "code",
   "execution_count": 87,
   "id": "7971ac24-07c9-43d4-9324-079f0f6fd6c7",
   "metadata": {},
   "outputs": [],
   "source": [
    "# combined_ct['Sales Level 1'] = pd.NA\n",
    "# combined_ct['Sales Level 2'] = pd.NA\n",
    "# combined_ct['Sales Level 3'] = pd.NA"
   ]
  },
  {
   "cell_type": "code",
   "execution_count": 88,
   "id": "d139e3f0-9c2a-4a0f-91ef-3ad6a2ae355d",
   "metadata": {},
   "outputs": [],
   "source": [
    "# combined_ct = combined_ct[['Dimension Grouping', 'Report Month','Sales Level 1','Sales Level 2','Sales Level 3','Campaign Type', 'FINBI Name',  'Compass Name','Conversion Ratio %']]"
   ]
  },
  {
   "cell_type": "code",
   "execution_count": 89,
   "id": "63f19105-d7e6-423d-b187-b3c1296140ff",
   "metadata": {},
   "outputs": [],
   "source": [
    "# combined_sl1_ct['Sales Level 2'] = pd.NA\n",
    "# combined_sl1_ct['Sales Level 3'] = pd.NA"
   ]
  },
  {
   "cell_type": "code",
   "execution_count": 90,
   "id": "60e98b52-3a08-4cc4-83d9-1bc9d72606e6",
   "metadata": {},
   "outputs": [],
   "source": [
    "# combined_sl1_ct = combined_sl1_ct[['Dimension Grouping', 'Report Month', 'Sales Level 1', 'Sales Level 2', 'Sales Level 3', 'Campaign Type', 'FINBI Name', 'Compass Name', 'Conversion Ratio %']]"
   ]
  },
  {
   "cell_type": "code",
   "execution_count": 91,
   "id": "1d5e9d17-c8b2-416b-88c8-6fedf64f5af6",
   "metadata": {},
   "outputs": [],
   "source": [
    "# combined_sl1['Sales Level 2'] = pd.NA\n",
    "# combined_sl1['Campaign Type'] = pd.NA\n",
    "# combined_sl1['Sales Level 3'] = pd.NA"
   ]
  },
  {
   "cell_type": "code",
   "execution_count": 92,
   "id": "e78b9f54-e0c8-4abf-b049-7b32ff18352b",
   "metadata": {},
   "outputs": [],
   "source": [
    "## combined_sl1 = combined_sl1[['Dimension Grouping', 'Report Month', 'Sales Level 1', 'Sales Level 2', 'Sales Level 3', 'Campaign Type', 'FINBI Name', 'Compass Name', 'Conversion Ratio %']]"
   ]
  },
  {
   "cell_type": "code",
   "execution_count": 93,
   "id": "312b66f2-692b-4364-b9d6-10f73219055f",
   "metadata": {},
   "outputs": [],
   "source": [
    "# combined_sl1_sl2_ct['Sales Level 3'] = pd.NA"
   ]
  },
  {
   "cell_type": "code",
   "execution_count": 94,
   "id": "f8bd7150-b1a9-45ff-9905-3dcfd4aac2fc",
   "metadata": {},
   "outputs": [],
   "source": [
    "# combined_sl1_sl2_ct = combined_sl1_sl2_ct[['Dimension Grouping', 'Report Month', 'Sales Level 1', 'Sales Level 2', 'Sales Level 3', 'Campaign Type', 'FINBI Name', 'Compass Name', 'Conversion Ratio %']]"
   ]
  },
  {
   "cell_type": "code",
   "execution_count": 95,
   "id": "260243ab-50e2-4244-921b-9f11065fcbd5",
   "metadata": {},
   "outputs": [],
   "source": [
    "# combined_sl1_sl2['Campaign Type'] = pd.NA\n",
    "# combined_sl1_sl2['Sales Level 3'] = pd.NA"
   ]
  },
  {
   "cell_type": "code",
   "execution_count": 96,
   "id": "7de73940-c314-4c70-81bd-8335b0eaa6f2",
   "metadata": {},
   "outputs": [],
   "source": [
    "# combined_sl1_sl2 = combined_sl1_sl2[['Dimension Grouping', 'Report Month', 'Sales Level 1', 'Sales Level 2', 'Sales Level 3', 'Campaign Type', 'FINBI Name', 'Compass Name', 'Conversion Ratio %']]"
   ]
  },
  {
   "cell_type": "code",
   "execution_count": 97,
   "id": "6c7c2dec-73e7-4adc-b24d-ec75a310e64c",
   "metadata": {},
   "outputs": [],
   "source": [
    "# combined_sl1_sl2_sl3['Campaign Type'] = pd.NA"
   ]
  },
  {
   "cell_type": "code",
   "execution_count": 98,
   "id": "86ed596e-e66b-4ca8-8d00-c3aff7725c0a",
   "metadata": {},
   "outputs": [],
   "source": [
    "# combined_sl1_sl2_sl3 = combined_sl1_sl2_sl3[['Dimension Grouping', 'Report Month', 'Sales Level 1', 'Sales Level 2', 'Sales Level 3', 'Campaign Type', 'FINBI Name', 'Compass Name', 'Conversion Ratio %']]"
   ]
  },
  {
   "cell_type": "code",
   "execution_count": 99,
   "id": "2284bc84-8051-44e8-90cf-7c2a5aa0d164",
   "metadata": {},
   "outputs": [],
   "source": [
    "# combined_ct"
   ]
  },
  {
   "cell_type": "code",
   "execution_count": 100,
   "id": "geographic-lithuania",
   "metadata": {},
   "outputs": [],
   "source": [
    "# combined_sl1"
   ]
  },
  {
   "cell_type": "code",
   "execution_count": 101,
   "id": "df61d20b-23b3-4516-9b62-59f1c2aee3e3",
   "metadata": {},
   "outputs": [],
   "source": [
    "# combined_sl1_ct"
   ]
  },
  {
   "cell_type": "code",
   "execution_count": 102,
   "id": "d4aa48be-4022-40e3-b593-7c542b21e84a",
   "metadata": {},
   "outputs": [],
   "source": [
    "# combined_sl1_sl2"
   ]
  },
  {
   "cell_type": "code",
   "execution_count": 103,
   "id": "f3c1070c-87a6-4648-acc2-db6ae84baaa5",
   "metadata": {},
   "outputs": [],
   "source": [
    "# combined_sl1_sl2_ct"
   ]
  },
  {
   "cell_type": "code",
   "execution_count": 104,
   "id": "8cd38ed2-52f8-43d6-b3c2-3663c9dbd707",
   "metadata": {},
   "outputs": [],
   "source": [
    "# combined_sl1_sl2_sl3"
   ]
  },
  {
   "cell_type": "code",
   "execution_count": 105,
   "id": "8317fdb1-6389-4bf7-ae06-4311b91cd1fa",
   "metadata": {},
   "outputs": [],
   "source": [
    "# combined_sl1_sl2_sl3_ct"
   ]
  },
  {
   "cell_type": "code",
   "execution_count": null,
   "id": "1be2aa0d-179e-4f95-ad13-44297149e859",
   "metadata": {},
   "outputs": [],
   "source": []
  },
  {
   "cell_type": "markdown",
   "id": "turned-borough",
   "metadata": {},
   "source": [
    "### Campaign Type Only"
   ]
  },
  {
   "cell_type": "code",
   "execution_count": 106,
   "id": "psychological-crawford",
   "metadata": {},
   "outputs": [],
   "source": [
    "# combined_ct.columns"
   ]
  },
  {
   "cell_type": "markdown",
   "id": "exact-accommodation",
   "metadata": {},
   "source": [
    "### Sales Level 1 Only"
   ]
  },
  {
   "cell_type": "code",
   "execution_count": 107,
   "id": "developing-cinema",
   "metadata": {},
   "outputs": [],
   "source": [
    "# combined_sl1"
   ]
  },
  {
   "cell_type": "markdown",
   "id": "equal-stereo",
   "metadata": {},
   "source": [
    "### SL1 = Sales Level 1 and CT = Campaign Type"
   ]
  },
  {
   "cell_type": "code",
   "execution_count": 108,
   "id": "possible-grill",
   "metadata": {},
   "outputs": [],
   "source": [
    "# combined_sl1_ct"
   ]
  },
  {
   "cell_type": "code",
   "execution_count": 109,
   "id": "8abe1bef-51c4-4da3-a19c-28108214cb3a",
   "metadata": {},
   "outputs": [],
   "source": [
    "# with pd.ExcelWriter(r'C:\\Users\\phsheari\\Documents\\FIN BI Data\\Conversion Rate\\ConversionRates_' + file_run_date + '_.xlsx') as writer:\n",
    "#     combined_sl1_ct.to_excel(writer, sheet_name = 'Theater_CampaignType', index=False)\n",
    "#     combined_sl1_sl2_ct.to_excel(writer, sheet_name = 'Theater_SL2_CampaignType', index=False)\n",
    "#     combined_sl1.to_excel(writer, sheet_name = 'Theater_Only', index=False)\n",
    "#     combined_ct.to_excel(writer, sheet_name = 'CampaignType_Only', index=False)      "
   ]
  },
  {
   "cell_type": "markdown",
   "id": "agreed-nutrition",
   "metadata": {},
   "source": [
    "### SL1 = Sales Level 1 and SL2 = Sales Level 2 and CT = Campaign Type"
   ]
  },
  {
   "cell_type": "code",
   "execution_count": 110,
   "id": "functional-reflection",
   "metadata": {},
   "outputs": [],
   "source": [
    "# combined_sl1_sl2_ct"
   ]
  },
  {
   "cell_type": "code",
   "execution_count": 111,
   "id": "meaning-neighborhood",
   "metadata": {},
   "outputs": [],
   "source": [
    "# combined_sl1_sl2_ct.to_excel(r'C:\\Users\\phsheari\\Documents\\Francisco\\USCOMMERCIAL_ConversionRates.xlsx', index=False)"
   ]
  },
  {
   "cell_type": "code",
   "execution_count": 112,
   "id": "prospective-injection",
   "metadata": {},
   "outputs": [],
   "source": [
    "# overall_conversion_ratio = (overall_numerator / overall_denominator) #* 100\n",
    "# print(overall_numerator, overall_denominator)"
   ]
  },
  {
   "cell_type": "code",
   "execution_count": 113,
   "id": "78b83508-9b1d-46ad-a76d-f7d99fff61fa",
   "metadata": {},
   "outputs": [],
   "source": [
    "# overall_list = [['OVERALL',fiscal_period_id, pd.NA, pd.NA, pd.NA, pd.NA, overall_numerator, overall_denominator, overall_conversion_ratio]]\n",
    "# overall_columns = ['Dimension Grouping', 'Report Month','Sales Level 1','Sales Level 2','Sales Level 3','Campaign Type','FINBI Name','Compass Name','Conversion Ratio %']\n",
    "# overall = pd.DataFrame(data = overall_list, columns = overall_columns)"
   ]
  },
  {
   "cell_type": "code",
   "execution_count": 114,
   "id": "9b166fd9-a607-4a5b-97c7-02de3812e630",
   "metadata": {},
   "outputs": [],
   "source": [
    "# overall"
   ]
  },
  {
   "cell_type": "code",
   "execution_count": 115,
   "id": "checked-philippines",
   "metadata": {},
   "outputs": [],
   "source": [
    "# overall_conversion_ratio"
   ]
  },
  {
   "cell_type": "code",
   "execution_count": 116,
   "id": "continued-stretch",
   "metadata": {},
   "outputs": [],
   "source": [
    "# temp_table = pd.concat([overall,combined_ct,combined_sl1, combined_sl1_ct, combined_sl1_sl2, combined_sl1_sl2_ct, combined_sl1_sl2_sl3, combined_sl1_sl2_sl3_ct])"
   ]
  },
  {
   "cell_type": "code",
   "execution_count": 117,
   "id": "be4c7179-e107-4376-a45b-91bab1f2fe25",
   "metadata": {},
   "outputs": [],
   "source": [
    "# load_table.append(temp_table)"
   ]
  },
  {
   "cell_type": "code",
   "execution_count": 118,
   "id": "744c6876-7c9d-4a09-80eb-863d12c47a68",
   "metadata": {},
   "outputs": [],
   "source": [
    "# load_table['Report Month'] = '202112'"
   ]
  },
  {
   "cell_type": "code",
   "execution_count": 119,
   "id": "13017632-1232-4542-a070-65182fa3a963",
   "metadata": {},
   "outputs": [],
   "source": [
    "# load_table"
   ]
  },
  {
   "cell_type": "code",
   "execution_count": 120,
   "id": "4440911d-68e1-42ac-97b8-35c126a3611d",
   "metadata": {},
   "outputs": [],
   "source": [
    "# load_table.to_excel(r'C:\\Users\\phsheari\\Documents\\FIN BI Data\\Conversion Rate\\ConversionRates_' + fiscal_month_id + '+_SL3_LATAM.xlsx', sheet_name=fiscal_month_id, index=False)"
   ]
  },
  {
   "cell_type": "code",
   "execution_count": 121,
   "id": "f620a967-bb96-4ba6-b037-e734d815fa9f",
   "metadata": {},
   "outputs": [],
   "source": [
    "# load_table['Sales Level 2'].unique()"
   ]
  },
  {
   "cell_type": "code",
   "execution_count": 122,
   "id": "64e2fe45-30c1-4f6c-b6c0-12bfd12af3a4",
   "metadata": {},
   "outputs": [],
   "source": [
    "# load_table.loc[load_table['Sales Level 2'] == 'US PS MARKET SEGMENT']"
   ]
  },
  {
   "cell_type": "code",
   "execution_count": 123,
   "id": "0db10b99-d943-4a3d-987c-be5cfaaecb1c",
   "metadata": {},
   "outputs": [],
   "source": [
    "# len(sorted(list(fins['Fiscal Week ID'].unique())))"
   ]
  },
  {
   "cell_type": "code",
   "execution_count": 124,
   "id": "9d5ac375-674a-4438-a6ae-4df5bea658fd",
   "metadata": {},
   "outputs": [],
   "source": [
    "# sorted(list(fins['Fiscal Week ID'].unique()))[0:37]"
   ]
  },
  {
   "cell_type": "code",
   "execution_count": 125,
   "id": "d6cb4cbe-fad8-4a20-8b47-84ea71d1a425",
   "metadata": {},
   "outputs": [],
   "source": [
    "# 2021012 - 2020013"
   ]
  },
  {
   "cell_type": "code",
   "execution_count": null,
   "id": "af58f453-e597-470c-9c7a-c8f172a3cf56",
   "metadata": {},
   "outputs": [],
   "source": []
  }
 ],
 "metadata": {
  "kernelspec": {
   "display_name": "Python 3",
   "language": "python",
   "name": "python3"
  },
  "language_info": {
   "codemirror_mode": {
    "name": "ipython",
    "version": 3
   },
   "file_extension": ".py",
   "mimetype": "text/x-python",
   "name": "python",
   "nbconvert_exporter": "python",
   "pygments_lexer": "ipython3",
   "version": "3.9.5"
  }
 },
 "nbformat": 4,
 "nbformat_minor": 5
}
