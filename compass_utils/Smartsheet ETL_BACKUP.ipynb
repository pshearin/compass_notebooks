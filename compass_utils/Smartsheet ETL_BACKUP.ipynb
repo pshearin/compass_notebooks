{
 "cells": [
  {
   "cell_type": "code",
   "execution_count": 1,
   "metadata": {},
   "outputs": [],
   "source": [
    "import numpy as np\n",
    "import pandas as pd\n",
    "import datetime as dt\n",
    "import os\n",
    "# from compass_smartsheet import CompassSmartsheet\n",
    "# from ftplib import FTP\n",
    "import cisco_fiscal_calendar as fc\n",
    "import hashlib"
   ]
  },
  {
   "cell_type": "code",
   "execution_count": 2,
   "metadata": {},
   "outputs": [
    {
     "data": {
      "text/plain": [
       "'1.2.2'"
      ]
     },
     "execution_count": 2,
     "metadata": {},
     "output_type": "execute_result"
    }
   ],
   "source": [
    "pd.__version__"
   ]
  },
  {
   "cell_type": "code",
   "execution_count": 3,
   "metadata": {},
   "outputs": [],
   "source": [
    "today_timestamp = dt.datetime.now().isoformat()[:19]"
   ]
  },
  {
   "cell_type": "code",
   "execution_count": 4,
   "metadata": {},
   "outputs": [],
   "source": [
    "def convert_nan_to_int_to_str(dataframe_cell):\n",
    "        if pd.isnull(dataframe_cell):\n",
    "            return pd.NA\n",
    "        else:\n",
    "            try:\n",
    "                return str(int(dataframe_cell))\n",
    "            except:\n",
    "                return pd.NA"
   ]
  },
  {
   "cell_type": "code",
   "execution_count": 5,
   "metadata": {},
   "outputs": [],
   "source": [
    "# def convert_requestid_to_str(requestid_cell):\n",
    "#     return str(int(requestid_cell))"
   ]
  },
  {
   "cell_type": "markdown",
   "metadata": {},
   "source": [
    "### Prepare the Partners Dictionary"
   ]
  },
  {
   "cell_type": "code",
   "execution_count": 6,
   "metadata": {},
   "outputs": [],
   "source": [
    "partner = pd.read_excel(r'C:\\Users\\phsheari\\Documents\\Compass Partners\\Compass Partners Hash.xlsx')"
   ]
  },
  {
   "cell_type": "code",
   "execution_count": 7,
   "metadata": {},
   "outputs": [],
   "source": [
    "compass_partner_names = partner['CompassPartnerName']\n",
    "standardname = partner['StandardName']"
   ]
  },
  {
   "cell_type": "code",
   "execution_count": 8,
   "metadata": {},
   "outputs": [],
   "source": [
    "partner_dict = {}\n",
    "for k,v in zip(compass_partner_names,standardname):\n",
    "    partner_dict[k] = v"
   ]
  },
  {
   "cell_type": "code",
   "execution_count": 9,
   "metadata": {},
   "outputs": [],
   "source": [
    "# partner_dict"
   ]
  },
  {
   "cell_type": "code",
   "execution_count": 10,
   "metadata": {},
   "outputs": [],
   "source": [
    "sss_map = pd.read_excel(r'C:\\Users\\phsheari\\Documents\\Francisco\\SSS_GEO Mapping.xlsx')"
   ]
  },
  {
   "cell_type": "code",
   "execution_count": 11,
   "metadata": {},
   "outputs": [],
   "source": [
    "sss = list(sss_map['SSS'])"
   ]
  },
  {
   "cell_type": "code",
   "execution_count": 12,
   "metadata": {},
   "outputs": [],
   "source": [
    "geo = list(sss_map['SL3'])"
   ]
  },
  {
   "cell_type": "code",
   "execution_count": 13,
   "metadata": {},
   "outputs": [],
   "source": [
    "sssgeo_dict = {}\n",
    "for k, v in zip(sss,geo):\n",
    "    sssgeo_dict[k] = v"
   ]
  },
  {
   "cell_type": "code",
   "execution_count": 14,
   "metadata": {},
   "outputs": [],
   "source": [
    "# sssgeo_dict"
   ]
  },
  {
   "cell_type": "markdown",
   "metadata": {},
   "source": [
    "#### Bring in FINBI Accrued Results to verify booked records are tagged as '5 - Closed Won'"
   ]
  },
  {
   "cell_type": "code",
   "execution_count": 15,
   "metadata": {},
   "outputs": [],
   "source": [
    "finbi_data_types = {'Sales Level 1':str,                     \n",
    "                    'Sales Level 2':str, \n",
    "                    'Sales Level 3':str, \n",
    "                    'CAV ID':str, \n",
    "                    'CAV Name':str,\n",
    "                    'GUID':str, \n",
    "                    'GUID Name':str, \n",
    "                    'Partner':str,\n",
    "                    'Booked Deal ID':str, \n",
    "                    'CX Product Category':str, \n",
    "                    'Fiscal Year':str,\n",
    "                    'Fiscal Quarter ID':str, \n",
    "                    'Fiscal Week ID':str, \n",
    "                    'Fiscal Week of Year':str, \n",
    "                    'ReportWeek':str, \n",
    "                    'ProductType':str,\n",
    "                    'TCV':np.float32, \n",
    "                    'ACV':np.float32, \n",
    "                    'Request ID':str, \n",
    "                    'Readout_Date':np.datetime64, \n",
    "                    'Campaign Type':str,\n",
    "                    'Campaign':str, \n",
    "                    'Target Campaign Flag':str, \n",
    "                    'Partner Deal':str,\n",
    "                    'Service Source':str,\n",
    "                    'Compass GUID Name':str,\n",
    "                    'Compass Deal ID':str,\n",
    "                    'Compass Advisor':str,\n",
    "                    'Readout Delivery Status':str,\n",
    "                    'Items Recommended':str,}"
   ]
  },
  {
   "cell_type": "code",
   "execution_count": 16,
   "metadata": {},
   "outputs": [],
   "source": [
    "finbi_path = r'C:\\Users\\phsheari\\Documents\\FIN BI Data\\FINBI_Bookings_Accrued_Results.xlsx'\n",
    "finbi_sheetname = 'YTD Transactions'\n",
    "finbi_columns = ['Sales Level 1', 'Sales Level 2', 'Sales Level 3', 'CAV ID', 'CAV Name',\n",
    "       'GUID', 'GUID Name', 'Partner','Booked Deal ID', 'CX Product Category', 'Fiscal Year',\n",
    "       'Fiscal Quarter ID', 'Fiscal Week ID', 'Fiscal Week of Year', 'ReportWeek', 'ProductType',\n",
    "       'TCV', 'ACV', 'Request ID', 'Readout_Date', 'Campaign Type',\n",
    "       'Campaign', 'Target Campaign Flag', 'Partner Deal','Service Source','Compass GUID Name','Compass Deal ID','Compass Advisor','Readout Delivery Status','Items Recommended', ]\n",
    "finbi_df = pd.read_excel(finbi_path, sheet_name = finbi_sheetname, usecols=finbi_columns, dtype=finbi_data_types)\n",
    "finbi_df['Request ID'] = finbi_df['Request ID'].apply(convert_nan_to_int_to_str)\n",
    "finbi_df['Readout_Date'] = finbi_df['Readout_Date'].apply(lambda x: pd.to_datetime(x).date() if x != pd.NA else x)\n",
    "\n",
    "finbi_df.to_pickle(r'C:\\Users\\phsheari\\Documents\\FIN BI Data\\FINBI_Bookings_Accrued_Results.pkl')\n",
    "finbi_df.to_excel(r'C:\\Users\\phsheari\\Documents\\FIN BI Data\\FINBI_Bookings_Accrued_Results_Copy.xlsx', index=False)\n",
    "\n",
    "#maven_fields_to_drop = ['Ind','Compass Exists?','Compass Claim?','Notes','Respondant_File','AddIncre']\n",
    "# maven_version = finbi_df #.drop(columns=maven_fields_to_drop)\n",
    "# maven_version.to_excel(r'C:\\Users\\phsheari\\Documents\\FIN BI Data\\Maven\\Compass Bookings.xlsx', index=False)\n",
    "\n",
    "finbi_requests = list(finbi_df.loc[finbi_df['Request ID'].notnull()]['Request ID'].unique())"
   ]
  },
  {
   "cell_type": "code",
   "execution_count": 17,
   "metadata": {},
   "outputs": [],
   "source": [
    "# finbi_df.columns\n",
    "finbi_requests.sort()"
   ]
  },
  {
   "cell_type": "code",
   "execution_count": 18,
   "metadata": {},
   "outputs": [],
   "source": [
    "# finbi_requests"
   ]
  },
  {
   "cell_type": "code",
   "execution_count": null,
   "metadata": {},
   "outputs": [],
   "source": []
  },
  {
   "cell_type": "markdown",
   "metadata": {},
   "source": [
    "### Start the pull from SMARTSHEET"
   ]
  },
  {
   "cell_type": "code",
   "execution_count": 19,
   "metadata": {},
   "outputs": [],
   "source": [
    "start = dt.datetime.now()\n",
    "\n",
    "# # The Compass Smartsheet object init's a class which retrieves, cleans, & modifies records to prepare for presentation. \n",
    "# # It also unmarks, then remarks the Duplicate DealID Request records\n",
    "\n",
    "# dflist = []\n",
    "# for i in range(1,4,1):                  # This paginates the CompassSmartsheet Object, pulling 10k records per page\n",
    "#     cs = CompassSmartsheet(page = i)\n",
    "#     tmpdf = cs.get_report_dataframe()   # this takes the dataframe object from cs and stores it in tmpdf\n",
    "#     dflist.append(tmpdf)                # appends each tmpdf to dflist, for future concatenation\n",
    "    \n",
    "# nonbooked = pd.concat(dflist)\n",
    "\n",
    "# finish = dt.datetime.now()\n",
    "# elapsed = (finish - start)\n",
    "# print(f'Compass object was created in {elapsed} minutes. It shows {nonbooked.shape[0]} rows in the dataframe.')"
   ]
  },
  {
   "cell_type": "code",
   "execution_count": 20,
   "metadata": {},
   "outputs": [],
   "source": [
    "nonbooked = pd.read_pickle(r'C:\\Users\\phsheari\\Documents\\Compass SNOWFLAKE\\data_download\\result.pkl')"
   ]
  },
  {
   "cell_type": "code",
   "execution_count": 21,
   "metadata": {},
   "outputs": [],
   "source": [
    "today_file = today_timestamp.replace('-','').replace('T','_').replace(':','')"
   ]
  },
  {
   "cell_type": "code",
   "execution_count": 22,
   "metadata": {},
   "outputs": [
    {
     "data": {
      "text/plain": [
       "'20220419_133613'"
      ]
     },
     "execution_count": 22,
     "metadata": {},
     "output_type": "execute_result"
    }
   ],
   "source": [
    "today_file"
   ]
  },
  {
   "cell_type": "code",
   "execution_count": 23,
   "metadata": {},
   "outputs": [
    {
     "name": "stdout",
     "output_type": "stream",
     "text": [
      "<class 'pandas.core.frame.DataFrame'>\n",
      "RangeIndex: 42717 entries, 0 to 42716\n",
      "Columns: 107 entries, Request ID to Readout_Date\n",
      "dtypes: bool(9), datetime64[ns](7), float64(12), int64(16), object(63)\n",
      "memory usage: 32.3+ MB\n"
     ]
    }
   ],
   "source": [
    "nonbooked.info()"
   ]
  },
  {
   "cell_type": "markdown",
   "metadata": {},
   "source": [
    "### Push Booked deals to a reference file for corrective measures"
   ]
  },
  {
   "cell_type": "code",
   "execution_count": 24,
   "metadata": {},
   "outputs": [
    {
     "name": "stdout",
     "output_type": "stream",
     "text": [
      "Nickname is Mirthas Top68 and its count is 52\n",
      "Nickname is US Commercial Missed Attach Mari 20211130 and its count is 376\n"
     ]
    }
   ],
   "source": [
    "nickname_files_path = r'C:\\Users\\phsheari\\Documents\\Compass Nickname'\n",
    "nonbooked['Nickname'] = pd.NA\n",
    "USECOLS = ['Request ID']\n",
    "DTYPES = {'Request ID':str}\n",
    "\n",
    "entries = os.listdir(nickname_files_path)\n",
    "for f_name in entries:\n",
    "    tempdf = pd.read_excel(nickname_files_path + '\\\\' + f_name, usecols = USECOLS, dtype=DTYPES)\n",
    "    id_list = list(tempdf['Request ID'].unique())\n",
    "    nonbooked.loc[nonbooked['Request ID'].isin(id_list),'Nickname'] = f_name[:-5]\n",
    "    print(f'Nickname is {f_name[:-5]} and its count is {len(id_list)}')"
   ]
  },
  {
   "cell_type": "code",
   "execution_count": 25,
   "metadata": {},
   "outputs": [
    {
     "data": {
      "text/html": [
       "<div>\n",
       "<style scoped>\n",
       "    .dataframe tbody tr th:only-of-type {\n",
       "        vertical-align: middle;\n",
       "    }\n",
       "\n",
       "    .dataframe tbody tr th {\n",
       "        vertical-align: top;\n",
       "    }\n",
       "\n",
       "    .dataframe thead th {\n",
       "        text-align: right;\n",
       "    }\n",
       "</style>\n",
       "<table border=\"1\" class=\"dataframe\">\n",
       "  <thead>\n",
       "    <tr style=\"text-align: right;\">\n",
       "      <th></th>\n",
       "      <th>Request ID</th>\n",
       "      <th>Create Date</th>\n",
       "      <th>Customer Name</th>\n",
       "      <th>Campaign</th>\n",
       "      <th>Nickname</th>\n",
       "      <th>WORKING STATUS</th>\n",
       "    </tr>\n",
       "  </thead>\n",
       "  <tbody>\n",
       "    <tr>\n",
       "      <th>25556</th>\n",
       "      <td>107558</td>\n",
       "      <td>2021-11-24 20:52:47.514</td>\n",
       "      <td>HELENA CHEMICAL COMPANY</td>\n",
       "      <td>REACTIVE</td>\n",
       "      <td>US Commercial Missed Attach Mari 20211130</td>\n",
       "      <td>DECLINED</td>\n",
       "    </tr>\n",
       "    <tr>\n",
       "      <th>25557</th>\n",
       "      <td>107551</td>\n",
       "      <td>2021-11-24 20:52:11.648</td>\n",
       "      <td>BAPTIST MEMORIAL HEALTH CARE CORPORATION</td>\n",
       "      <td>REACTIVE</td>\n",
       "      <td>US Commercial Missed Attach Mari 20211130</td>\n",
       "      <td>DECLINED</td>\n",
       "    </tr>\n",
       "    <tr>\n",
       "      <th>25558</th>\n",
       "      <td>107545</td>\n",
       "      <td>2021-11-24 20:51:41.654</td>\n",
       "      <td>VALEO</td>\n",
       "      <td>REACTIVE</td>\n",
       "      <td>US Commercial Missed Attach Mari 20211130</td>\n",
       "      <td>READOUT DONE</td>\n",
       "    </tr>\n",
       "    <tr>\n",
       "      <th>25559</th>\n",
       "      <td>107464</td>\n",
       "      <td>2021-11-24 20:44:41.116</td>\n",
       "      <td>SPECTRUM BRANDS</td>\n",
       "      <td>REACTIVE</td>\n",
       "      <td>US Commercial Missed Attach Mari 20211130</td>\n",
       "      <td>READOUT DONE</td>\n",
       "    </tr>\n",
       "    <tr>\n",
       "      <th>25560</th>\n",
       "      <td>107427</td>\n",
       "      <td>2021-11-24 20:41:00.480</td>\n",
       "      <td>MUSEUM OF SCIENCE AND INDUSTRY</td>\n",
       "      <td>REACTIVE</td>\n",
       "      <td>US Commercial Missed Attach Mari 20211130</td>\n",
       "      <td>READOUT DONE</td>\n",
       "    </tr>\n",
       "    <tr>\n",
       "      <th>...</th>\n",
       "      <td>...</td>\n",
       "      <td>...</td>\n",
       "      <td>...</td>\n",
       "      <td>...</td>\n",
       "      <td>...</td>\n",
       "      <td>...</td>\n",
       "    </tr>\n",
       "    <tr>\n",
       "      <th>36402</th>\n",
       "      <td>107775</td>\n",
       "      <td>2021-11-24 21:13:15.642</td>\n",
       "      <td>PURE STORAGE</td>\n",
       "      <td>REACTIVE</td>\n",
       "      <td>US Commercial Missed Attach Mari 20211130</td>\n",
       "      <td>READOUT DONE</td>\n",
       "    </tr>\n",
       "    <tr>\n",
       "      <th>36403</th>\n",
       "      <td>107773</td>\n",
       "      <td>2021-11-24 21:13:03.574</td>\n",
       "      <td>ROSS STORES</td>\n",
       "      <td>REACTIVE</td>\n",
       "      <td>US Commercial Missed Attach Mari 20211130</td>\n",
       "      <td>READOUT DONE</td>\n",
       "    </tr>\n",
       "    <tr>\n",
       "      <th>36404</th>\n",
       "      <td>107774</td>\n",
       "      <td>2021-11-24 21:13:08.899</td>\n",
       "      <td>MADERA COMMUNITY HOSPITAL INC</td>\n",
       "      <td>REACTIVE</td>\n",
       "      <td>US Commercial Missed Attach Mari 20211130</td>\n",
       "      <td>READOUT DONE</td>\n",
       "    </tr>\n",
       "    <tr>\n",
       "      <th>36533</th>\n",
       "      <td>107904</td>\n",
       "      <td>2021-11-24 21:34:06.418</td>\n",
       "      <td>PARKVIEW HEALTH SYSTEMS</td>\n",
       "      <td>REACTIVE</td>\n",
       "      <td>US Commercial Missed Attach Mari 20211130</td>\n",
       "      <td>DECLINED</td>\n",
       "    </tr>\n",
       "    <tr>\n",
       "      <th>36534</th>\n",
       "      <td>107905</td>\n",
       "      <td>2021-11-24 21:38:27.524</td>\n",
       "      <td>ENTERPRISE BANK AND TRUST</td>\n",
       "      <td>REACTIVE</td>\n",
       "      <td>US Commercial Missed Attach Mari 20211130</td>\n",
       "      <td>DECLINED</td>\n",
       "    </tr>\n",
       "  </tbody>\n",
       "</table>\n",
       "<p>428 rows × 6 columns</p>\n",
       "</div>"
      ],
      "text/plain": [
       "      Request ID             Create Date  \\\n",
       "25556     107558 2021-11-24 20:52:47.514   \n",
       "25557     107551 2021-11-24 20:52:11.648   \n",
       "25558     107545 2021-11-24 20:51:41.654   \n",
       "25559     107464 2021-11-24 20:44:41.116   \n",
       "25560     107427 2021-11-24 20:41:00.480   \n",
       "...          ...                     ...   \n",
       "36402     107775 2021-11-24 21:13:15.642   \n",
       "36403     107773 2021-11-24 21:13:03.574   \n",
       "36404     107774 2021-11-24 21:13:08.899   \n",
       "36533     107904 2021-11-24 21:34:06.418   \n",
       "36534     107905 2021-11-24 21:38:27.524   \n",
       "\n",
       "                                  Customer Name  Campaign  \\\n",
       "25556                   HELENA CHEMICAL COMPANY  REACTIVE   \n",
       "25557  BAPTIST MEMORIAL HEALTH CARE CORPORATION  REACTIVE   \n",
       "25558                                     VALEO  REACTIVE   \n",
       "25559                           SPECTRUM BRANDS  REACTIVE   \n",
       "25560            MUSEUM OF SCIENCE AND INDUSTRY  REACTIVE   \n",
       "...                                         ...       ...   \n",
       "36402                              PURE STORAGE  REACTIVE   \n",
       "36403                               ROSS STORES  REACTIVE   \n",
       "36404             MADERA COMMUNITY HOSPITAL INC  REACTIVE   \n",
       "36533                   PARKVIEW HEALTH SYSTEMS  REACTIVE   \n",
       "36534                 ENTERPRISE BANK AND TRUST  REACTIVE   \n",
       "\n",
       "                                        Nickname WORKING STATUS  \n",
       "25556  US Commercial Missed Attach Mari 20211130       DECLINED  \n",
       "25557  US Commercial Missed Attach Mari 20211130       DECLINED  \n",
       "25558  US Commercial Missed Attach Mari 20211130   READOUT DONE  \n",
       "25559  US Commercial Missed Attach Mari 20211130   READOUT DONE  \n",
       "25560  US Commercial Missed Attach Mari 20211130   READOUT DONE  \n",
       "...                                          ...            ...  \n",
       "36402  US Commercial Missed Attach Mari 20211130   READOUT DONE  \n",
       "36403  US Commercial Missed Attach Mari 20211130   READOUT DONE  \n",
       "36404  US Commercial Missed Attach Mari 20211130   READOUT DONE  \n",
       "36533  US Commercial Missed Attach Mari 20211130       DECLINED  \n",
       "36534  US Commercial Missed Attach Mari 20211130       DECLINED  \n",
       "\n",
       "[428 rows x 6 columns]"
      ]
     },
     "execution_count": 25,
     "metadata": {},
     "output_type": "execute_result"
    }
   ],
   "source": [
    "nonbooked.loc[nonbooked['Nickname'].notnull()][['Request ID','Create Date','Customer Name','Campaign','Nickname','WORKING STATUS']]"
   ]
  },
  {
   "cell_type": "code",
   "execution_count": 26,
   "metadata": {},
   "outputs": [],
   "source": [
    "# booked_requestids = nonbooked.loc[nonbooked['TARGET_REQUEST_ID'].isin(finbi_requests),['Request ID','Forecast Stage', 'Customer Name','Deal ID','Compass Campaign Name']]"
   ]
  },
  {
   "cell_type": "code",
   "execution_count": 27,
   "metadata": {},
   "outputs": [],
   "source": [
    "# booked_requestids.sort_values(by=['Sheet Name','Request ID'], inplace=True)"
   ]
  },
  {
   "cell_type": "code",
   "execution_count": 28,
   "metadata": {},
   "outputs": [],
   "source": [
    "# booked_requestids.shape[0]"
   ]
  },
  {
   "cell_type": "code",
   "execution_count": 29,
   "metadata": {},
   "outputs": [],
   "source": [
    "# booked_requestids.loc[booked_requestids['Forecast Stage']!='5 - Closed Won'].to_excel(r'C:\\Users\\phsheari\\Documents\\FIN BI Data\\REQUEST IDS TO BOOK.xlsx', index=False)\n",
    "# booked_requestids.loc[booked_requestids['Forecast Stage']!='5 - Closed Won'].to_pickle(r'C:\\Users\\phsheari\\Documents\\FIN BI Data\\REQUEST IDS TO BOOK.pkl')"
   ]
  },
  {
   "cell_type": "markdown",
   "metadata": {},
   "source": [
    "### Begin to Inspect, Clean, & Curate the remaining dataframe"
   ]
  },
  {
   "cell_type": "code",
   "execution_count": 30,
   "metadata": {},
   "outputs": [
    {
     "data": {
      "text/plain": [
       "Good                 35954\n",
       "Insufficient Data     6763\n",
       "Name: DELIVERABILITY, dtype: int64"
      ]
     },
     "execution_count": 30,
     "metadata": {},
     "output_type": "execute_result"
    }
   ],
   "source": [
    "nonbooked['DELIVERABILITY'].value_counts()"
   ]
  },
  {
   "cell_type": "code",
   "execution_count": 31,
   "metadata": {},
   "outputs": [],
   "source": [
    "hyper_csv_file_path_tracker = r'C:\\Users\\phsheari\\Documents\\Compass_hyper_csvs\\compass_tracker_hyper.csv'\n",
    "excel_file_path_tracker = r'C:\\Users\\phsheari\\Documents\\Compass Trackers\\ConsolidatedReport_' + today_file + '.xlsx'\n",
    "excel_file_path_sfdc_version = r'C:\\Users\\phsheari\\Documents\\SFDC Data\\PIPELINE UPDATE\\SFDC_Trackerfile.pkl'\n",
    "excel_file_path_tableau = r'C:\\Users\\phsheari\\Documents\\Compass Tableau Data\\ConsolidatedReport_' + today_file + '.xlsx'"
   ]
  },
  {
   "cell_type": "code",
   "execution_count": 32,
   "metadata": {},
   "outputs": [],
   "source": [
    "# nonbooked = nonbooked.reindex(columns = booked.columns)\n",
    "# nonbooked = nonbooked.loc[~(nonbooked['Forecast Stage']=='5 - Closed Won')]"
   ]
  },
  {
   "cell_type": "code",
   "execution_count": 33,
   "metadata": {},
   "outputs": [],
   "source": [
    "#Determine what is undeliverable so you can avoid or remove any pipeline values in those records\n",
    "\n",
    "undeliverable_requests = list(nonbooked.loc[(nonbooked['INSUFFICIENT_DATA_COUNT']==1)]['Request ID'])\n",
    "\n",
    "nonbooked.loc[nonbooked['Request ID'].isin(undeliverable_requests),'Forecast Stage']=pd.NA\n",
    "#nonbooked.loc[nonbooked['Request ID'].isin(undeliverable_requests),'Forecast Status']=pd.NA\n",
    "#nonbooked.loc[nonbooked['Request ID'].isin(undeliverable_requests),'Opportunity Name']=pd.NA\n",
    "#nonbooked.loc[nonbooked['Request ID'].isin(undeliverable_requests),'Projected Booking ($,000)']=pd.NA\n",
    "#nonbooked.loc[nonbooked['Request ID'].isin(undeliverable_requests),'Target Fiscal Month']=pd.NA\n",
    "#nonbooked.loc[nonbooked['Request ID'].isin(undeliverable_requests),'Target Fiscal Quarter']=pd.NA\n",
    "#nonbooked.loc[nonbooked['Request ID'].isin(undeliverable_requests),'Target Fiscal Year']=pd.NA"
   ]
  },
  {
   "cell_type": "code",
   "execution_count": 34,
   "metadata": {},
   "outputs": [],
   "source": [
    "def update_did_dupechk(did, dupechk):\n",
    "    if pd.isnull(did):\n",
    "        return False\n",
    "    elif did == None:\n",
    "        return False\n",
    "    elif did in [-44444,99999,9999,22222]:\n",
    "        return False\n",
    "    else:\n",
    "        return dupechk"
   ]
  },
  {
   "cell_type": "code",
   "execution_count": 35,
   "metadata": {},
   "outputs": [],
   "source": [
    "# Initialize the nonbooked dataframe Dupechk field to 0. Sort the Deal ID Subset dataframe to determine which rows contain duplicate deal IDs\n",
    "nonbooked['Dupechk'] = 0\n",
    "\n",
    "did_subset = nonbooked.loc[(nonbooked['INSUFFICIENT_DATA_COUNT']==0),['Request ID','Create Date','Customer Name', 'Deal ID','Forecast Stage']].copy()\n",
    "did_subset.sort_values(['Deal ID','Request ID','Create Date'], ascending=[True, False, False], ignore_index=False, inplace=True)\n",
    "did_subset['Dupechk'] = did_subset.duplicated(['Deal ID'], keep='first')  # Chronologically sets the first deal id occurance to False, all after to True\n",
    "did_subset['Dupechk'] = did_subset.apply(lambda x: update_did_dupechk(x['Deal ID'], x['Dupechk']), axis=1)"
   ]
  },
  {
   "cell_type": "code",
   "execution_count": 36,
   "metadata": {},
   "outputs": [],
   "source": [
    "dupes_requestid_list = list(did_subset.loc[(did_subset['Dupechk']==True) & ~(did_subset['Forecast Stage']=='5 - Closed Won')]['Request ID'])"
   ]
  },
  {
   "cell_type": "code",
   "execution_count": 37,
   "metadata": {},
   "outputs": [
    {
     "data": {
      "text/plain": [
       "3683"
      ]
     },
     "execution_count": 37,
     "metadata": {},
     "output_type": "execute_result"
    }
   ],
   "source": [
    "len(dupes_requestid_list)"
   ]
  },
  {
   "cell_type": "code",
   "execution_count": 38,
   "metadata": {},
   "outputs": [],
   "source": [
    "# did_subset.to_excel(r'C:\\Users\\phsheari\\Desktop\\Dupes.xlsx', index=False)"
   ]
  },
  {
   "cell_type": "code",
   "execution_count": 39,
   "metadata": {},
   "outputs": [],
   "source": [
    "# nonbooked.info()"
   ]
  },
  {
   "cell_type": "code",
   "execution_count": 40,
   "metadata": {},
   "outputs": [],
   "source": [
    "# booked.info()"
   ]
  },
  {
   "cell_type": "code",
   "execution_count": 41,
   "metadata": {},
   "outputs": [],
   "source": [
    "# nonbooked.loc[nonbooked['Request ID'].isin(dupes_requestid_list)]   ### Sanity Check"
   ]
  },
  {
   "cell_type": "code",
   "execution_count": 42,
   "metadata": {},
   "outputs": [],
   "source": [
    "# Set the duplicate deal ID values so that pipeline values are not duplicated\n",
    "nonbooked.loc[nonbooked['Request ID'].isin(dupes_requestid_list),'Dupechk'] = 1\n",
    "nonbooked.loc[nonbooked['Request ID'].isin(dupes_requestid_list),'Forecast Stage'] = '7 - Duplicate Request'\n",
    "#nonbooked.loc[nonbooked['Request ID'].isin(dupes_requestid_list),'Forecast Status'] = pd.NA\n",
    "#nonbooked.loc[nonbooked['Request ID'].isin(dupes_requestid_list),'Opportunity Name'] = pd.NA\n",
    "#nonbooked.loc[nonbooked['Request ID'].isin(dupes_requestid_list),'Projected Booking ($,000)'] = pd.NA\n",
    "#nonbooked.loc[nonbooked['Request ID'].isin(dupes_requestid_list),'Target Fiscal Month'] = pd.NA\n",
    "#nonbooked.loc[nonbooked['Request ID'].isin(dupes_requestid_list),'Target Fiscal Quarter'] = pd.NA\n",
    "#nonbooked.loc[nonbooked['Request ID'].isin(dupes_requestid_list),'Target Fiscal Year'] = pd.NA"
   ]
  },
  {
   "cell_type": "code",
   "execution_count": 43,
   "metadata": {},
   "outputs": [],
   "source": [
    "#df = pd.concat([booked, nonbooked]) #### [booked, nonbooked]\n",
    "df = nonbooked"
   ]
  },
  {
   "cell_type": "code",
   "execution_count": 44,
   "metadata": {},
   "outputs": [
    {
     "data": {
      "text/plain": [
       "(42717, 110)"
      ]
     },
     "execution_count": 44,
     "metadata": {},
     "output_type": "execute_result"
    }
   ],
   "source": [
    "df.shape"
   ]
  },
  {
   "cell_type": "code",
   "execution_count": null,
   "metadata": {},
   "outputs": [],
   "source": []
  },
  {
   "cell_type": "markdown",
   "metadata": {},
   "source": [
    "### Change the field name \"BDM Assigned\" to \"Compass Advisor\""
   ]
  },
  {
   "cell_type": "code",
   "execution_count": 45,
   "metadata": {},
   "outputs": [],
   "source": [
    "df.rename(columns={'BDM Assigned': 'Compass Advisor'}, inplace=True)"
   ]
  },
  {
   "cell_type": "markdown",
   "metadata": {},
   "source": [
    "### Read in the Compass Advisor Email Lookup Table to resolve proper names"
   ]
  },
  {
   "cell_type": "code",
   "execution_count": 46,
   "metadata": {},
   "outputs": [],
   "source": [
    "advisor_emails = pd.read_excel(r'C:\\Users\\phsheari\\Documents\\Compass Advisors\\Advisor Email Translation.xlsx', usecols=['cecid','name', 'source'])\n",
    "offer_creator_emails = pd.read_excel(r'C:\\Users\\phsheari\\Documents\\Compass LPM_Offer_Creators\\Offer Creator team list 3-1-2022.xlsx', usecols=['email','name', 'vendor'])"
   ]
  },
  {
   "cell_type": "code",
   "execution_count": 47,
   "metadata": {},
   "outputs": [],
   "source": [
    "advisor_email = dict(zip(advisor_emails.cecid, advisor_emails.name))\n",
    "offer_email = dict(zip(offer_creator_emails.email, offer_creator_emails.name))"
   ]
  },
  {
   "cell_type": "code",
   "execution_count": 48,
   "metadata": {},
   "outputs": [
    {
     "data": {
      "text/plain": [
       "{'andreshe@cisco.com': 'Andres Mauricio Hernandez ',\n",
       " 'anosilva@cisco.com': 'Antonio Silva',\n",
       " 'ansaenz@cisco.com': 'Andres Saenz',\n",
       " 'apuertoq@cisco.com': 'Andres Felipe Puerto',\n",
       " 'borirodr@cisco.com': 'Boris Rodriguez',\n",
       " 'camdiaz@cisco.com': 'Camilo Diaz',\n",
       " 'carguill@cisco.com': 'Carolina Guillermo',\n",
       " 'chrmedin@cisco.com': 'Christian Medina',\n",
       " 'daniels3@cisco.com': 'Daniel Glennie',\n",
       " 'davvasqu@cisco.com': 'David Alejandro Vasquez Vargas',\n",
       " 'ddiazriv@cisco.com': 'Daniel Steven Diaz Rivera',\n",
       " 'ecuello@cisco.com': 'Edgar Felipe Cuello Betancourt',\n",
       " 'edprieto@cisco.com': 'Alexander Prieto',\n",
       " 'emaximo@cisco.com': 'Ella Maximo',\n",
       " 'ggomezbe@cisco.com': 'Gladys Adriana Gomez Beltran',\n",
       " 'gileon@cisco.com': 'Giovanni Leon',\n",
       " 'jmateus@cisco.com': 'Jeferson Mateus',\n",
       " 'jmorenoa@cisco.com': 'Sebastian Moreno',\n",
       " 'jnorenag@cisco.com': 'Julian Norena',\n",
       " 'jofiguei@cisco.com': 'Joao Figueiredo',\n",
       " 'mpalheir@cisco.com': 'Miguel Palheira Pinto',\n",
       " 'mvieiraf@cisco.com': 'Lourdes Fortes',\n",
       " 'nicolaro@cisco.com': 'Nicolas Rodriguez Santacoloma',\n",
       " 'nnino@cisco.com': 'Natalia Nino',\n",
       " 'rasanta@cisco.com': 'Raquel Santa',\n",
       " 'rgalvis@cisco.com': 'Ricardo Alvis',\n",
       " 'ricfonse@cisco.com': 'Ricardo Fonseca',\n",
       " 'rporrasd@cisco.com': 'Rafael Ernesto Porras Diaz',\n",
       " 'sarico@cisco.com': 'Samanta Rico',\n",
       " 'sleonoro@cisco.com': 'Sergio Leon',\n",
       " 'srianogu@cisco.com': 'Sara Nicole Riano',\n",
       " 'tipinto@cisco.com': 'Tiago Pinto',\n",
       " 'wilrodri@cisco.com': 'William Rodriguez ',\n",
       " 'wmurciae@cisco.com': 'Wilmar Fabian Murcia Espitia',\n",
       " 'sedmiste@cisco.com': 'Sydney Leigh Edmisten'}"
      ]
     },
     "execution_count": 48,
     "metadata": {},
     "output_type": "execute_result"
    }
   ],
   "source": [
    "offer_email"
   ]
  },
  {
   "cell_type": "code",
   "execution_count": 49,
   "metadata": {},
   "outputs": [],
   "source": [
    "advisor_vendor = dict(zip(advisor_emails.cecid, advisor_emails.source))\n",
    "oc_vendor = dict(zip(offer_creator_emails.email, offer_creator_emails.vendor))"
   ]
  },
  {
   "cell_type": "code",
   "execution_count": 50,
   "metadata": {},
   "outputs": [],
   "source": [
    "def get_advisor_name_from_cecid(advisor):\n",
    "    if pd.isnull(advisor) or advisor == None or advisor.lower()=='nan':\n",
    "        return None\n",
    "    if advisor=='Expired' or advisor=='N/A':\n",
    "        return 'Expired'\n",
    "    if advisor.lower().endswith('cisco.com'):\n",
    "        pieces = advisor.lower().split('@')\n",
    "        cecid = pieces[0]\n",
    "        actual_name = advisor_email.get(cecid,'Term')\n",
    "        return actual_name \n",
    "    else:\n",
    "        return advisor"
   ]
  },
  {
   "cell_type": "code",
   "execution_count": 51,
   "metadata": {},
   "outputs": [],
   "source": [
    "def get_advisor_vendor_from_cecid(advisor):\n",
    "    if pd.isnull(advisor) or advisor == None or advisor.lower()=='nan':\n",
    "        return None\n",
    "    if advisor=='Expired' or advisor=='N/A':\n",
    "        return None\n",
    "    if advisor.lower().endswith('cisco.com'):\n",
    "        pieces = advisor.lower().split('@')\n",
    "        cecid = pieces[0]\n",
    "        vendor_name = advisor_vendor.get(cecid, None)\n",
    "        if vendor_name:\n",
    "            return vendor_name.upper()\n",
    "        else:\n",
    "            return None\n",
    "    else:\n",
    "        return None"
   ]
  },
  {
   "cell_type": "code",
   "execution_count": 52,
   "metadata": {},
   "outputs": [],
   "source": [
    "df['NewAdvisor'] = df['Compass Advisor'].apply(lambda x: get_advisor_name_from_cecid(x))"
   ]
  },
  {
   "cell_type": "code",
   "execution_count": 53,
   "metadata": {},
   "outputs": [],
   "source": [
    "df['Vendor'] = df['Compass Advisor'].apply(lambda x: get_advisor_vendor_from_cecid(x))"
   ]
  },
  {
   "cell_type": "code",
   "execution_count": 54,
   "metadata": {},
   "outputs": [],
   "source": [
    "df['Concierge Advisor Name'] = df['CONCIERGE_ADVISOR_ASSIGNED'].apply(lambda x: get_advisor_name_from_cecid(x))"
   ]
  },
  {
   "cell_type": "code",
   "execution_count": 55,
   "metadata": {},
   "outputs": [
    {
     "data": {
      "text/plain": [
       "array([None, 'Mark Vodka', 'Peter Wittenstrom', 'Emma Baird',\n",
       "       'Alicia Biersteker', 'Martin Coup', 'Brenda Buck',\n",
       "       'Stacey Edwards', 'Jenee St John', 'Tracy Turner',\n",
       "       'Bill Black-Hogins', 'Jenee St. John', 'Alicia Bierstkeker',\n",
       "       'Stacey Edwards,', 'Atif Ahmad', 'Clare Fagan',\n",
       "       'DUPLICATE of SAME record', 'Adrian Machado',\n",
       "       'Jenee St John <jestjohn@cisco.com>', 'x', 'Term',\n",
       "       'Alicia Bierstker', 'Alicia', 'Houman Asefi', 'Sangeetha Sampath',\n",
       "       'Gloria Canales', 'Jayjay Towler'], dtype=object)"
      ]
     },
     "execution_count": 55,
     "metadata": {},
     "output_type": "execute_result"
    }
   ],
   "source": [
    "df['Concierge Advisor Name'].unique()"
   ]
  },
  {
   "cell_type": "code",
   "execution_count": 56,
   "metadata": {},
   "outputs": [],
   "source": [
    "df['Compass Advisor'] = df['NewAdvisor']"
   ]
  },
  {
   "cell_type": "code",
   "execution_count": 57,
   "metadata": {},
   "outputs": [],
   "source": [
    "# df['Compass Advisor'].unique()"
   ]
  },
  {
   "cell_type": "code",
   "execution_count": 58,
   "metadata": {},
   "outputs": [],
   "source": [
    "df.drop(columns=['NewAdvisor'], inplace=True)"
   ]
  },
  {
   "cell_type": "code",
   "execution_count": 59,
   "metadata": {},
   "outputs": [
    {
     "data": {
      "text/plain": [
       "array(['MODIS INC', 'NUB78', 'ADECCO UK LTD', 'SERVICESOURCE', None,\n",
       "       'ADECCO AISAPAC', 'CISCO', 'ADECCO AUSTRALIA'], dtype=object)"
      ]
     },
     "execution_count": 59,
     "metadata": {},
     "output_type": "execute_result"
    }
   ],
   "source": [
    "df['Vendor'].unique()"
   ]
  },
  {
   "cell_type": "code",
   "execution_count": 60,
   "metadata": {},
   "outputs": [],
   "source": [
    "# column_list = df.columns\n",
    "# [col for col in column_list if 'LPM' in col]"
   ]
  },
  {
   "cell_type": "code",
   "execution_count": 61,
   "metadata": {},
   "outputs": [],
   "source": [
    "def get_oc_name_from_email(offer_creator_email):\n",
    "    if pd.isnull(offer_creator_email) or offer_creator_email == None or offer_creator_email.lower()=='nan':\n",
    "        return None\n",
    "\n",
    "    if offer_creator_email.lower().endswith('cisco.com'):\n",
    "        actual_name = offer_email.get(offer_creator_email,pd.NA)\n",
    "        return actual_name \n",
    "    else:\n",
    "        return offer_creator_email"
   ]
  },
  {
   "cell_type": "code",
   "execution_count": 62,
   "metadata": {},
   "outputs": [],
   "source": [
    "# df.loc[df['LPM_EMAIL'].notnull()]['LPM_EMAIL']"
   ]
  },
  {
   "cell_type": "code",
   "execution_count": 63,
   "metadata": {},
   "outputs": [],
   "source": [
    "df['Offer_Creator_Name'] = df['OFFER_CREATOR_EMAIL'].apply(lambda x: get_oc_name_from_email(x))"
   ]
  },
  {
   "cell_type": "code",
   "execution_count": 64,
   "metadata": {},
   "outputs": [
    {
     "data": {
      "text/html": [
       "<div>\n",
       "<style scoped>\n",
       "    .dataframe tbody tr th:only-of-type {\n",
       "        vertical-align: middle;\n",
       "    }\n",
       "\n",
       "    .dataframe tbody tr th {\n",
       "        vertical-align: top;\n",
       "    }\n",
       "\n",
       "    .dataframe thead th {\n",
       "        text-align: right;\n",
       "    }\n",
       "</style>\n",
       "<table border=\"1\" class=\"dataframe\">\n",
       "  <thead>\n",
       "    <tr style=\"text-align: right;\">\n",
       "      <th></th>\n",
       "      <th>Offer_Creator_Name</th>\n",
       "    </tr>\n",
       "  </thead>\n",
       "  <tbody>\n",
       "    <tr>\n",
       "      <th>18</th>\n",
       "      <td>Rafael Ernesto Porras Diaz</td>\n",
       "    </tr>\n",
       "    <tr>\n",
       "      <th>19</th>\n",
       "      <td>Rafael Ernesto Porras Diaz</td>\n",
       "    </tr>\n",
       "    <tr>\n",
       "      <th>20</th>\n",
       "      <td>Rafael Ernesto Porras Diaz</td>\n",
       "    </tr>\n",
       "    <tr>\n",
       "      <th>21</th>\n",
       "      <td>Rafael Ernesto Porras Diaz</td>\n",
       "    </tr>\n",
       "    <tr>\n",
       "      <th>22</th>\n",
       "      <td>Rafael Ernesto Porras Diaz</td>\n",
       "    </tr>\n",
       "    <tr>\n",
       "      <th>...</th>\n",
       "      <td>...</td>\n",
       "    </tr>\n",
       "    <tr>\n",
       "      <th>42711</th>\n",
       "      <td>Gladys Adriana Gomez Beltran</td>\n",
       "    </tr>\n",
       "    <tr>\n",
       "      <th>42712</th>\n",
       "      <td>Gladys Adriana Gomez Beltran</td>\n",
       "    </tr>\n",
       "    <tr>\n",
       "      <th>42713</th>\n",
       "      <td>Gladys Adriana Gomez Beltran</td>\n",
       "    </tr>\n",
       "    <tr>\n",
       "      <th>42714</th>\n",
       "      <td>Gladys Adriana Gomez Beltran</td>\n",
       "    </tr>\n",
       "    <tr>\n",
       "      <th>42715</th>\n",
       "      <td>Gladys Adriana Gomez Beltran</td>\n",
       "    </tr>\n",
       "  </tbody>\n",
       "</table>\n",
       "<p>4971 rows × 1 columns</p>\n",
       "</div>"
      ],
      "text/plain": [
       "                 Offer_Creator_Name\n",
       "18       Rafael Ernesto Porras Diaz\n",
       "19       Rafael Ernesto Porras Diaz\n",
       "20       Rafael Ernesto Porras Diaz\n",
       "21       Rafael Ernesto Porras Diaz\n",
       "22       Rafael Ernesto Porras Diaz\n",
       "...                             ...\n",
       "42711  Gladys Adriana Gomez Beltran\n",
       "42712  Gladys Adriana Gomez Beltran\n",
       "42713  Gladys Adriana Gomez Beltran\n",
       "42714  Gladys Adriana Gomez Beltran\n",
       "42715  Gladys Adriana Gomez Beltran\n",
       "\n",
       "[4971 rows x 1 columns]"
      ]
     },
     "execution_count": 64,
     "metadata": {},
     "output_type": "execute_result"
    }
   ],
   "source": [
    "df.loc[df['Offer_Creator_Name'].notnull()][['Offer_Creator_Name']]"
   ]
  },
  {
   "cell_type": "code",
   "execution_count": 65,
   "metadata": {},
   "outputs": [],
   "source": [
    "def get_oc_vendor_from_email(offer_creator_email):\n",
    "    if pd.isnull(offer_creator_email) or offer_creator_email == None or offer_creator_email.lower()=='nan':\n",
    "        return None\n",
    "\n",
    "    if offer_creator_email.lower().endswith('cisco.com'):\n",
    "        vendor = oc_vendor.get(offer_creator_email,pd.NA)\n",
    "        return vendor \n",
    "    else:\n",
    "        return offer_creator_email"
   ]
  },
  {
   "cell_type": "code",
   "execution_count": 66,
   "metadata": {},
   "outputs": [],
   "source": [
    "df['Offer_Creator_Vendor'] = df['OFFER_CREATOR_EMAIL'].apply(lambda x: get_oc_vendor_from_email(x))"
   ]
  },
  {
   "cell_type": "code",
   "execution_count": null,
   "metadata": {},
   "outputs": [],
   "source": []
  },
  {
   "cell_type": "markdown",
   "metadata": {},
   "source": [
    "### Fix/Clean Customer Names"
   ]
  },
  {
   "cell_type": "code",
   "execution_count": 67,
   "metadata": {},
   "outputs": [],
   "source": [
    "name_correction = {'201820184589':'NIPPON TELEGRAPH AND TELEPHONE EAST CORPORATION'}"
   ]
  },
  {
   "cell_type": "code",
   "execution_count": 68,
   "metadata": {},
   "outputs": [],
   "source": [
    "def correct_customer_name(df):\n",
    "    reqid = df['TARGET_REQUEST_ID']\n",
    "    if reqid in name_correction.keys():\n",
    "        return name_correction.get(reqid)\n",
    "    else:\n",
    "        return df['Customer Name'].strip()"
   ]
  },
  {
   "cell_type": "code",
   "execution_count": 69,
   "metadata": {},
   "outputs": [],
   "source": [
    "# df['Customer Name'] = df['Customer Name'].astype(str)\n",
    "# df['Customer Name'] = df.apply(lambda x: correct_customer_name(x), axis=1)"
   ]
  },
  {
   "cell_type": "code",
   "execution_count": 70,
   "metadata": {},
   "outputs": [
    {
     "name": "stderr",
     "output_type": "stream",
     "text": [
      "<ipython-input-70-c82f039ad48b>:1: FutureWarning: The default value of regex will change from True to False in a future version.\n",
      "  df['Customer Name'] = df['Customer Name'].str.lower().str.replace('\\^_ inc',' inc').str.replace('\\^_ ',', ').str.replace(', ',' ').str.replace(' inc.',' inc ').str.replace('\\* ','').str.strip().str.upper()\n"
     ]
    }
   ],
   "source": [
    "df['Customer Name'] = df['Customer Name'].str.lower().str.replace('\\^_ inc',' inc').str.replace('\\^_ ',', ').str.replace(', ',' ').str.replace(' inc.',' inc ').str.replace('\\* ','').str.strip().str.upper()"
   ]
  },
  {
   "cell_type": "code",
   "execution_count": 71,
   "metadata": {},
   "outputs": [],
   "source": [
    "def squeeze_customer_name(customer_name):\n",
    "    if type(customer_name)==float:\n",
    "        return ''\n",
    "    if customer_name.startswith('THE '):\n",
    "        customer_name = customer_name[4:]\n",
    "    customer_name = customer_name.replace(',',\"\").replace('[ACTIVE]','').replace('-','').replace('_','').replace('.','').replace(' ','').strip()\n",
    "    return customer_name"
   ]
  },
  {
   "cell_type": "code",
   "execution_count": 72,
   "metadata": {},
   "outputs": [],
   "source": [
    "df['Squeezed'] = df['Customer Name'].apply(lambda x: squeeze_customer_name(x))"
   ]
  },
  {
   "cell_type": "code",
   "execution_count": 73,
   "metadata": {},
   "outputs": [
    {
     "data": {
      "text/plain": [
       "0        ADOBESYSTEMSINCRPORATED\n",
       "1                   DILLARD'SINC\n",
       "2        NEIMANMARCUSGROUPINCTHE\n",
       "3        ARCTICSLOPEREGIONALCORP\n",
       "4                    ILLUMINAINC\n",
       "                  ...           \n",
       "42712            TROYCORPORATION\n",
       "42713                     VALPAK\n",
       "42714              UNITEDRENTALS\n",
       "42715                  VERSARINC\n",
       "42716                  VTSYSTEMS\n",
       "Name: Squeezed, Length: 42717, dtype: object"
      ]
     },
     "execution_count": 73,
     "metadata": {},
     "output_type": "execute_result"
    }
   ],
   "source": [
    "df['Squeezed']"
   ]
  },
  {
   "cell_type": "code",
   "execution_count": 74,
   "metadata": {},
   "outputs": [],
   "source": [
    "df['Prepend'] = df['Squeezed'].apply(lambda x: x[:2].upper())"
   ]
  },
  {
   "cell_type": "code",
   "execution_count": 75,
   "metadata": {},
   "outputs": [],
   "source": [
    "# df.loc[(df['Customer Name'].str.contains('choctaw', case=False))] #df['GUID'].isnull()) | "
   ]
  },
  {
   "cell_type": "markdown",
   "metadata": {},
   "source": [
    "### Standardize Campaign Name to Uppercase"
   ]
  },
  {
   "cell_type": "code",
   "execution_count": 76,
   "metadata": {},
   "outputs": [],
   "source": [
    "df['Campaign'] = df['Campaign'].str.upper()"
   ]
  },
  {
   "cell_type": "code",
   "execution_count": 77,
   "metadata": {},
   "outputs": [],
   "source": [
    "df.loc[df['Campaign'].str.contains('missed attach', na=False, case=False),'Campaign'] = df.loc[df['Campaign'].str.contains('missed attach', na=False, case=False), 'Campaign'].apply(lambda x: x.replace('MISSED ATTACH','COVERAGE PROGRAM'))"
   ]
  },
  {
   "cell_type": "code",
   "execution_count": 78,
   "metadata": {},
   "outputs": [
    {
     "data": {
      "text/html": [
       "<div>\n",
       "<style scoped>\n",
       "    .dataframe tbody tr th:only-of-type {\n",
       "        vertical-align: middle;\n",
       "    }\n",
       "\n",
       "    .dataframe tbody tr th {\n",
       "        vertical-align: top;\n",
       "    }\n",
       "\n",
       "    .dataframe thead th {\n",
       "        text-align: right;\n",
       "    }\n",
       "</style>\n",
       "<table border=\"1\" class=\"dataframe\">\n",
       "  <thead>\n",
       "    <tr style=\"text-align: right;\">\n",
       "      <th></th>\n",
       "      <th>Request ID</th>\n",
       "      <th>Customer Name</th>\n",
       "      <th>Campaign</th>\n",
       "    </tr>\n",
       "  </thead>\n",
       "  <tbody>\n",
       "    <tr>\n",
       "      <th>25608</th>\n",
       "      <td>103167</td>\n",
       "      <td>PARTNERS HEALTHCARE SYSTEM</td>\n",
       "      <td>COVERAGE PROGRAM - SNTC PROACTIVE ATTACH</td>\n",
       "    </tr>\n",
       "    <tr>\n",
       "      <th>25609</th>\n",
       "      <td>103160</td>\n",
       "      <td>HEALTH CARE SERVICES CORP</td>\n",
       "      <td>COVERAGE PROGRAM - SNTC PROACTIVE ATTACH</td>\n",
       "    </tr>\n",
       "    <tr>\n",
       "      <th>25610</th>\n",
       "      <td>105574</td>\n",
       "      <td>UNITED NATIONS_UNITED NATIONS</td>\n",
       "      <td>COVERAGE PROGRAM - TELEMETRY</td>\n",
       "    </tr>\n",
       "    <tr>\n",
       "      <th>25611</th>\n",
       "      <td>105477</td>\n",
       "      <td>POLSKIE KOLEJE PANSTWOWE</td>\n",
       "      <td>COVERAGE PROGRAM - TELEMETRY</td>\n",
       "    </tr>\n",
       "    <tr>\n",
       "      <th>25612</th>\n",
       "      <td>105345</td>\n",
       "      <td>LAUREATE CRI</td>\n",
       "      <td>COVERAGE PROGRAM - TELEMETRY</td>\n",
       "    </tr>\n",
       "    <tr>\n",
       "      <th>...</th>\n",
       "      <td>...</td>\n",
       "      <td>...</td>\n",
       "      <td>...</td>\n",
       "    </tr>\n",
       "    <tr>\n",
       "      <th>42712</th>\n",
       "      <td>114327</td>\n",
       "      <td>TROY CORPORATION</td>\n",
       "      <td>COVERAGE PROGRAM - TELEMETRY</td>\n",
       "    </tr>\n",
       "    <tr>\n",
       "      <th>42713</th>\n",
       "      <td>114365</td>\n",
       "      <td>VALPAK</td>\n",
       "      <td>COVERAGE PROGRAM - TELEMETRY</td>\n",
       "    </tr>\n",
       "    <tr>\n",
       "      <th>42714</th>\n",
       "      <td>114344</td>\n",
       "      <td>UNITED RENTALS</td>\n",
       "      <td>COVERAGE PROGRAM - TELEMETRY</td>\n",
       "    </tr>\n",
       "    <tr>\n",
       "      <th>42715</th>\n",
       "      <td>114370</td>\n",
       "      <td>VERSAR INC</td>\n",
       "      <td>COVERAGE PROGRAM - TELEMETRY</td>\n",
       "    </tr>\n",
       "    <tr>\n",
       "      <th>42716</th>\n",
       "      <td>114383</td>\n",
       "      <td>VT SYSTEMS</td>\n",
       "      <td>COVERAGE PROGRAM - TELEMETRY</td>\n",
       "    </tr>\n",
       "  </tbody>\n",
       "</table>\n",
       "<p>6376 rows × 3 columns</p>\n",
       "</div>"
      ],
      "text/plain": [
       "      Request ID                  Customer Name  \\\n",
       "25608     103167     PARTNERS HEALTHCARE SYSTEM   \n",
       "25609     103160      HEALTH CARE SERVICES CORP   \n",
       "25610     105574  UNITED NATIONS_UNITED NATIONS   \n",
       "25611     105477       POLSKIE KOLEJE PANSTWOWE   \n",
       "25612     105345                   LAUREATE CRI   \n",
       "...          ...                            ...   \n",
       "42712     114327               TROY CORPORATION   \n",
       "42713     114365                         VALPAK   \n",
       "42714     114344                 UNITED RENTALS   \n",
       "42715     114370                     VERSAR INC   \n",
       "42716     114383                     VT SYSTEMS   \n",
       "\n",
       "                                       Campaign  \n",
       "25608  COVERAGE PROGRAM - SNTC PROACTIVE ATTACH  \n",
       "25609  COVERAGE PROGRAM - SNTC PROACTIVE ATTACH  \n",
       "25610              COVERAGE PROGRAM - TELEMETRY  \n",
       "25611              COVERAGE PROGRAM - TELEMETRY  \n",
       "25612              COVERAGE PROGRAM - TELEMETRY  \n",
       "...                                         ...  \n",
       "42712              COVERAGE PROGRAM - TELEMETRY  \n",
       "42713              COVERAGE PROGRAM - TELEMETRY  \n",
       "42714              COVERAGE PROGRAM - TELEMETRY  \n",
       "42715              COVERAGE PROGRAM - TELEMETRY  \n",
       "42716              COVERAGE PROGRAM - TELEMETRY  \n",
       "\n",
       "[6376 rows x 3 columns]"
      ]
     },
     "execution_count": 78,
     "metadata": {},
     "output_type": "execute_result"
    }
   ],
   "source": [
    "df.loc[df['Campaign'].str.contains('coverage p', na=False, case=False)][['Request ID','Customer Name','Campaign']]"
   ]
  },
  {
   "cell_type": "code",
   "execution_count": 79,
   "metadata": {},
   "outputs": [],
   "source": [
    "# df.loc[df['Requester Name'].str.lower().isin(confirm_exclusions)][['Request ID','Requester Name']]"
   ]
  },
  {
   "cell_type": "markdown",
   "metadata": {},
   "source": [
    "### Clean up issues with Requester Name"
   ]
  },
  {
   "cell_type": "code",
   "execution_count": 80,
   "metadata": {},
   "outputs": [],
   "source": [
    "confirm_exclusions = ['kenpatton@cisco.com','kpatton@cisco.com','lsweidan@cisco.com','escudder@cisco.com', 'rosecam@cisco.com']"
   ]
  },
  {
   "cell_type": "code",
   "execution_count": 81,
   "metadata": {},
   "outputs": [],
   "source": [
    "def swap_requester_name_with_notified(requester_name, distribution_list, campaign_name):\n",
    "    if requester_name:\n",
    "        requester_name = str(requester_name.lower())\n",
    "    if distribution_list:\n",
    "        distribution_list = str(distribution_list)\n",
    "    if (campaign_name != 'nan' or pd.notnull(campaign_name)):\n",
    "        campaign_name = str(campaign_name).lower()\n",
    "     \n",
    "    if ('target' in campaign_name or 'tac lead' in campaign_name or 'success tracks' in campaign_name or 'major' in campaign_name) and (requester_name.lower() in confirm_exclusions and pd.notnull(distribution_list)):\n",
    "        requester_name = distribution_list\n",
    "        return requester_name.upper()\n",
    "    else:\n",
    "        return requester_name.upper()\n",
    "    "
   ]
  },
  {
   "cell_type": "code",
   "execution_count": 82,
   "metadata": {},
   "outputs": [],
   "source": [
    "df.loc[df['Requester Name'].notnull(),'Requester Name'] = df.loc[df['Requester Name'].notnull()].apply(lambda x: swap_requester_name_with_notified(x['Requester Name'],x['DISTRIBUTION_LIST'], x['Campaign']), axis=1)"
   ]
  },
  {
   "cell_type": "markdown",
   "metadata": {},
   "source": [
    "### Sanity Check"
   ]
  },
  {
   "cell_type": "code",
   "execution_count": 83,
   "metadata": {},
   "outputs": [],
   "source": [
    "# df.loc[(df['Compass Campaign Name']=='BCS 3.0 TARGETING') & (df['Who Should be Notified On Completion of Analysis'].notnull())][['Request ID','Customer Name','Requester Name','Who Should be Notified On Completion of Analysis']]"
   ]
  },
  {
   "cell_type": "code",
   "execution_count": 84,
   "metadata": {},
   "outputs": [],
   "source": [
    "# name_counts = pd.DataFrame(df['Requester Name'].value_counts())"
   ]
  },
  {
   "cell_type": "code",
   "execution_count": 85,
   "metadata": {},
   "outputs": [],
   "source": [
    "# name_counts.reset_index(inplace=True)"
   ]
  },
  {
   "cell_type": "code",
   "execution_count": 86,
   "metadata": {},
   "outputs": [],
   "source": [
    "# name_counts"
   ]
  },
  {
   "cell_type": "code",
   "execution_count": 87,
   "metadata": {},
   "outputs": [],
   "source": [
    "# df.loc[df['Requester Name']=='nan']"
   ]
  },
  {
   "cell_type": "code",
   "execution_count": null,
   "metadata": {},
   "outputs": [],
   "source": []
  },
  {
   "cell_type": "code",
   "execution_count": null,
   "metadata": {},
   "outputs": [],
   "source": []
  },
  {
   "cell_type": "markdown",
   "metadata": {},
   "source": [
    "### Set Recipient Confirmation Status & Clean Requester Name"
   ]
  },
  {
   "cell_type": "code",
   "execution_count": 88,
   "metadata": {},
   "outputs": [],
   "source": [
    "def set_recipient_confirmation_field(requester_name, compass_url, oa_url, distribution_list):\n",
    "    #requester_name = str(requester_name)\n",
    "\n",
    "    if pd.isnull(requester_name) or requester_name == 'N/A' or requester_name == 'nan' or type(requester_name) == bool or requester_name.lower().startswith('kpatton'):\n",
    "        return \"NOT CONFIRMED\"\n",
    "    \n",
    "    elif (pd.isnull(compass_url) and pd.isnull(oa_url)):\n",
    "          return 'NOT CONFIRMED'\n",
    "    \n",
    "    elif requester_name.lower() in confirm_exclusions and not pd.isnull(distribution_list):\n",
    "        return \"CONFIRMED\"\n",
    "    \n",
    "    elif requester_name.lower() in confirm_exclusions  and pd.isnull(distribution_list):\n",
    "        return \"NOT CONFIRMED\"\n",
    "    \n",
    "    else:\n",
    "        return \"CONFIRMED\""
   ]
  },
  {
   "cell_type": "code",
   "execution_count": 89,
   "metadata": {},
   "outputs": [],
   "source": [
    "df['Recipient Confirmation'] = df.apply(lambda x: set_recipient_confirmation_field(x['Requester Name'], x['COMPASS URL'], x['OA URL'], x['DISTRIBUTION_LIST']), axis=1)"
   ]
  },
  {
   "cell_type": "code",
   "execution_count": 90,
   "metadata": {},
   "outputs": [
    {
     "data": {
      "text/plain": [
       "CONFIRMED        28861\n",
       "NOT CONFIRMED    13856\n",
       "Name: Recipient Confirmation, dtype: int64"
      ]
     },
     "execution_count": 90,
     "metadata": {},
     "output_type": "execute_result"
    }
   ],
   "source": [
    "df['Recipient Confirmation'].value_counts()"
   ]
  },
  {
   "cell_type": "code",
   "execution_count": 91,
   "metadata": {},
   "outputs": [],
   "source": [
    "working_status_list = ['ASSIGNED','BOOKED','EXCEPTION_REVIEW','READOUT DONE','READOUT POSTPONED','SCHEDULED','UNASSIGNED']"
   ]
  },
  {
   "cell_type": "code",
   "execution_count": 92,
   "metadata": {},
   "outputs": [],
   "source": [
    "# df.loc[(df['Request FY']=='2022') & (df['Report FY']=='2022') & (df['WORKING STATUS'].isin(working_status_list)) & (df['Recipient Confirmation']=='NOT CONFIRMED')][['Requester Name','DISTRIBUTION_LIST','Recipient Confirmation']]"
   ]
  },
  {
   "cell_type": "markdown",
   "metadata": {},
   "source": [
    "### Note: The Requester Name is acting as if there is hidden / blank / characters. Test deeply!!!"
   ]
  },
  {
   "cell_type": "code",
   "execution_count": 93,
   "metadata": {},
   "outputs": [],
   "source": [
    "# requester_list = list(df['Requester Name'])"
   ]
  },
  {
   "cell_type": "code",
   "execution_count": 94,
   "metadata": {},
   "outputs": [],
   "source": [
    "# len(requester_list)"
   ]
  },
  {
   "cell_type": "code",
   "execution_count": 95,
   "metadata": {},
   "outputs": [],
   "source": [
    "# confirm_list = list([set_recipient_confirmation_field(x) for x in requester_list])"
   ]
  },
  {
   "cell_type": "code",
   "execution_count": 96,
   "metadata": {},
   "outputs": [],
   "source": [
    "# len(confirm_list)"
   ]
  },
  {
   "cell_type": "code",
   "execution_count": 97,
   "metadata": {},
   "outputs": [],
   "source": [
    "# kk = pd.DataFrame(confirm_list)"
   ]
  },
  {
   "cell_type": "code",
   "execution_count": 98,
   "metadata": {},
   "outputs": [],
   "source": [
    "# kk.rename(columns={0:'Recipient Confirmation'}, inplace=True)"
   ]
  },
  {
   "cell_type": "code",
   "execution_count": 99,
   "metadata": {},
   "outputs": [],
   "source": [
    "# kk.value_counts()"
   ]
  },
  {
   "cell_type": "code",
   "execution_count": 100,
   "metadata": {},
   "outputs": [
    {
     "data": {
      "text/plain": [
       "(13856, 7)"
      ]
     },
     "execution_count": 100,
     "metadata": {},
     "output_type": "execute_result"
    }
   ],
   "source": [
    "df.loc[df['Recipient Confirmation'].isin(['NOT CONFIRMED'])][['Request ID','Create Date','Customer Name','GUID','Deal ID','Requester Name','Campaign']].shape"
   ]
  },
  {
   "cell_type": "code",
   "execution_count": 101,
   "metadata": {},
   "outputs": [],
   "source": [
    "# def fix_requester_name(requester_name, sss_confirmation):\n",
    "#     requester_name = str(requester_name)\n",
    "#     sss_confirmation = str(sss_confirmation)\n",
    "    \n",
    "#     if sss_confirmation.lower() == \"not confirmed\":\n",
    "#         return requester_name\n",
    "    \n",
    "#     if pd.isnull(requester_name) or requester_name == 'nan':\n",
    "#         return pd.NA\n",
    "    \n",
    "#     if requester_name.lower().endswith(\"@cisco.com\"):\n",
    "#             return requester_name\n",
    "#     else:    # requester name does not end in \"@cisco.com\"\n",
    "#         if not ',' in requester_name:   # would not be construed as a list of items\n",
    "#                 return requester_name + \"@cisco.com\"\n",
    "#         else:\n",
    "#             requester_name = requester_name.replace(';',',')\n",
    "#             alist = list(requester_name.split(','))\n",
    "#             checklist = []\n",
    "#             for n in alist:\n",
    "#                 checklist.append(n + \"@cisco.com\")\n",
    "#             return ', '.join(checklist)"
   ]
  },
  {
   "cell_type": "code",
   "execution_count": 102,
   "metadata": {},
   "outputs": [],
   "source": [
    "# df['Requester Name'] = df.apply(lambda x: fix_requester_name(x['Requester Name'],x['Recipient Confirmation']), axis = 1)"
   ]
  },
  {
   "cell_type": "code",
   "execution_count": 103,
   "metadata": {},
   "outputs": [],
   "source": [
    "# df['Requester Name'].value_counts()"
   ]
  },
  {
   "cell_type": "code",
   "execution_count": 104,
   "metadata": {},
   "outputs": [],
   "source": [
    "# df['Requester Name'] = df['Requester Name'].apply(lambda x: None if x == 'nan@cisco.com' else x)"
   ]
  },
  {
   "cell_type": "markdown",
   "metadata": {},
   "source": [
    "### Assign Compass Advisor name"
   ]
  },
  {
   "cell_type": "code",
   "execution_count": 105,
   "metadata": {},
   "outputs": [],
   "source": [
    "def clean_bdm_assigned(bdm_assigned):\n",
    "    if pd.isnull(bdm_assigned):\n",
    "        return None\n",
    "    elif bdm_assigned.lower() == 'nan':\n",
    "        return 'Expired'\n",
    "    else:\n",
    "        return bdm_assigned.title()"
   ]
  },
  {
   "cell_type": "code",
   "execution_count": 106,
   "metadata": {},
   "outputs": [],
   "source": [
    "df['Compass Advisor'] = df['Compass Advisor'].apply(clean_bdm_assigned)"
   ]
  },
  {
   "cell_type": "code",
   "execution_count": 107,
   "metadata": {},
   "outputs": [],
   "source": [
    "# df.loc[df['Recipient Confirmation'] == 'Confirmed',['Request ID','Requester Name','Compass Campaign Name','Recipient Confirmation']].shape"
   ]
  },
  {
   "cell_type": "code",
   "execution_count": 108,
   "metadata": {},
   "outputs": [],
   "source": [
    "# df['Compass Advisor'].unique()"
   ]
  },
  {
   "cell_type": "code",
   "execution_count": 109,
   "metadata": {},
   "outputs": [],
   "source": [
    "confirmed = df.loc[(df['Recipient Confirmation']=='Confirmed') & ~(df['Requester Name'].str.lower().isin(confirm_exclusions)) & (df['Requester Name'].notnull())][['Request ID', 'Create Date','Customer Name','Requester Name','Campaign','Sales Level 2','Sales Level 3','Recipient Confirmation', 'Compass Advisor','Readout_Date']]"
   ]
  },
  {
   "cell_type": "code",
   "execution_count": 110,
   "metadata": {},
   "outputs": [
    {
     "data": {
      "text/html": [
       "<div>\n",
       "<style scoped>\n",
       "    .dataframe tbody tr th:only-of-type {\n",
       "        vertical-align: middle;\n",
       "    }\n",
       "\n",
       "    .dataframe tbody tr th {\n",
       "        vertical-align: top;\n",
       "    }\n",
       "\n",
       "    .dataframe thead th {\n",
       "        text-align: right;\n",
       "    }\n",
       "</style>\n",
       "<table border=\"1\" class=\"dataframe\">\n",
       "  <thead>\n",
       "    <tr style=\"text-align: right;\">\n",
       "      <th></th>\n",
       "      <th>Request ID</th>\n",
       "      <th>Create Date</th>\n",
       "      <th>Customer Name</th>\n",
       "      <th>Requester Name</th>\n",
       "      <th>Campaign</th>\n",
       "      <th>Sales Level 2</th>\n",
       "      <th>Sales Level 3</th>\n",
       "      <th>Recipient Confirmation</th>\n",
       "      <th>Compass Advisor</th>\n",
       "      <th>Readout_Date</th>\n",
       "    </tr>\n",
       "  </thead>\n",
       "  <tbody>\n",
       "  </tbody>\n",
       "</table>\n",
       "</div>"
      ],
      "text/plain": [
       "Empty DataFrame\n",
       "Columns: [Request ID, Create Date, Customer Name, Requester Name, Campaign, Sales Level 2, Sales Level 3, Recipient Confirmation, Compass Advisor, Readout_Date]\n",
       "Index: []"
      ]
     },
     "execution_count": 110,
     "metadata": {},
     "output_type": "execute_result"
    }
   ],
   "source": [
    "# Sanity Check -- Test if we show all the \"Confirmed\" recipients for readouts on Targeting Campaign leads\n",
    "confirmed"
   ]
  },
  {
   "cell_type": "code",
   "execution_count": 111,
   "metadata": {},
   "outputs": [],
   "source": [
    "def populate_sl3_from_requestername(requester_name):\n",
    "    if requester_name in sssgeo_dict.keys():\n",
    "        try:\n",
    "            return sssgeo_dict.get(requester_name)\n",
    "        except:\n",
    "            return 'No SL3 Available'\n",
    "\n",
    "confirmed['Sales Level 3'] = confirmed.apply(lambda x: populate_sl3_from_requestername(x['Requester Name']), axis=1)"
   ]
  },
  {
   "cell_type": "code",
   "execution_count": 112,
   "metadata": {},
   "outputs": [],
   "source": [
    "confirmed = confirmed[['Request ID', 'Create Date', 'Customer Name', 'Requester Name','Recipient Confirmation','Campaign', 'Sales Level 2', 'Sales Level 3',]]"
   ]
  },
  {
   "cell_type": "markdown",
   "metadata": {},
   "source": [
    "### Fix the Sales Level3 value for certain Requester Names"
   ]
  },
  {
   "cell_type": "code",
   "execution_count": 113,
   "metadata": {},
   "outputs": [],
   "source": [
    "# df.loc[df['Request ID'].isin(list(confirmed['Request ID'])),'Lvl3'] = df.loc[df['Request ID'].isin(list(confirmed['Request ID']))].apply(lambda x: populate_sl3_from_requestername(x['Requester Name']), axis=1)"
   ]
  },
  {
   "cell_type": "markdown",
   "metadata": {},
   "source": [
    "### Standardize the Partner Names from the partner_dict hash"
   ]
  },
  {
   "cell_type": "code",
   "execution_count": 114,
   "metadata": {},
   "outputs": [],
   "source": [
    "PartnerNames = list(df.loc[df['Partner Name'].notnull()]['Partner Name'].unique())"
   ]
  },
  {
   "cell_type": "code",
   "execution_count": 115,
   "metadata": {},
   "outputs": [],
   "source": [
    "PartnerNames.sort()"
   ]
  },
  {
   "cell_type": "code",
   "execution_count": 116,
   "metadata": {},
   "outputs": [],
   "source": [
    "# PartnerNames"
   ]
  },
  {
   "cell_type": "code",
   "execution_count": 117,
   "metadata": {},
   "outputs": [],
   "source": [
    "# partner_dict\n",
    "def update_partner_names(partner_name):\n",
    "    if partner_name == np.nan or partner_name is None or pd.isnull(partner_name):\n",
    "        return None\n",
    "    else:\n",
    "        PN = partner_name.lower().replace('. ','').replace('.','')\n",
    "        newname = partner_dict.get(PN, PN.upper())\n",
    "        return newname"
   ]
  },
  {
   "cell_type": "code",
   "execution_count": 118,
   "metadata": {},
   "outputs": [],
   "source": [
    "df['Partner Name'] = df['Partner Name'].apply(update_partner_names)"
   ]
  },
  {
   "cell_type": "markdown",
   "metadata": {},
   "source": [
    "### Apply Fiscal Period Dating to the Create Date and Readout Date fields"
   ]
  },
  {
   "cell_type": "code",
   "execution_count": 119,
   "metadata": {},
   "outputs": [],
   "source": [
    "### Fix Injection & Readout Date for 10 Missed Attach records\n",
    "coverage_at_renewal_q1_list = ['104315','104316','104317','104318','104319','104320','104321','104322','104323','104324']    #['104315','104316','104317','104318','104319','104320','104321','104322','104323','104324']    #[104315,104316,104317,104318,104319,104320,104321,104322,104323,104324]   "
   ]
  },
  {
   "cell_type": "code",
   "execution_count": 120,
   "metadata": {},
   "outputs": [],
   "source": [
    "df.loc[df['Request ID'].isin(coverage_at_renewal_q1_list), 'Create Date'] = pd.to_datetime('20211101T1903', format='%Y-%m-%d %H:%M:%S', errors='ignore')"
   ]
  },
  {
   "cell_type": "code",
   "execution_count": 121,
   "metadata": {},
   "outputs": [],
   "source": [
    "df.loc[df['Request ID'].isin(coverage_at_renewal_q1_list), 'Readout_Date'] = pd.to_datetime('20211103', format='%Y-%m-%d', errors='ignore')"
   ]
  },
  {
   "cell_type": "code",
   "execution_count": 122,
   "metadata": {},
   "outputs": [
    {
     "data": {
      "text/html": [
       "<div>\n",
       "<style scoped>\n",
       "    .dataframe tbody tr th:only-of-type {\n",
       "        vertical-align: middle;\n",
       "    }\n",
       "\n",
       "    .dataframe tbody tr th {\n",
       "        vertical-align: top;\n",
       "    }\n",
       "\n",
       "    .dataframe thead th {\n",
       "        text-align: right;\n",
       "    }\n",
       "</style>\n",
       "<table border=\"1\" class=\"dataframe\">\n",
       "  <thead>\n",
       "    <tr style=\"text-align: right;\">\n",
       "      <th></th>\n",
       "      <th>Request ID</th>\n",
       "      <th>Create Date</th>\n",
       "      <th>Readout_Date</th>\n",
       "    </tr>\n",
       "  </thead>\n",
       "  <tbody>\n",
       "    <tr>\n",
       "      <th>28298</th>\n",
       "      <td>104315</td>\n",
       "      <td>2021-11-01 19:03:00</td>\n",
       "      <td>2021-11-03</td>\n",
       "    </tr>\n",
       "    <tr>\n",
       "      <th>28299</th>\n",
       "      <td>104316</td>\n",
       "      <td>2021-11-01 19:03:00</td>\n",
       "      <td>2021-11-03</td>\n",
       "    </tr>\n",
       "    <tr>\n",
       "      <th>28300</th>\n",
       "      <td>104317</td>\n",
       "      <td>2021-11-01 19:03:00</td>\n",
       "      <td>2021-11-03</td>\n",
       "    </tr>\n",
       "    <tr>\n",
       "      <th>28301</th>\n",
       "      <td>104324</td>\n",
       "      <td>2021-11-01 19:03:00</td>\n",
       "      <td>2021-11-03</td>\n",
       "    </tr>\n",
       "    <tr>\n",
       "      <th>28302</th>\n",
       "      <td>104318</td>\n",
       "      <td>2021-11-01 19:03:00</td>\n",
       "      <td>2021-11-03</td>\n",
       "    </tr>\n",
       "    <tr>\n",
       "      <th>28303</th>\n",
       "      <td>104319</td>\n",
       "      <td>2021-11-01 19:03:00</td>\n",
       "      <td>2021-11-03</td>\n",
       "    </tr>\n",
       "    <tr>\n",
       "      <th>28304</th>\n",
       "      <td>104320</td>\n",
       "      <td>2021-11-01 19:03:00</td>\n",
       "      <td>2021-11-03</td>\n",
       "    </tr>\n",
       "    <tr>\n",
       "      <th>28305</th>\n",
       "      <td>104323</td>\n",
       "      <td>2021-11-01 19:03:00</td>\n",
       "      <td>2021-11-03</td>\n",
       "    </tr>\n",
       "    <tr>\n",
       "      <th>28306</th>\n",
       "      <td>104321</td>\n",
       "      <td>2021-11-01 19:03:00</td>\n",
       "      <td>2021-11-03</td>\n",
       "    </tr>\n",
       "    <tr>\n",
       "      <th>28307</th>\n",
       "      <td>104322</td>\n",
       "      <td>2021-11-01 19:03:00</td>\n",
       "      <td>2021-11-03</td>\n",
       "    </tr>\n",
       "  </tbody>\n",
       "</table>\n",
       "</div>"
      ],
      "text/plain": [
       "      Request ID         Create Date Readout_Date\n",
       "28298     104315 2021-11-01 19:03:00   2021-11-03\n",
       "28299     104316 2021-11-01 19:03:00   2021-11-03\n",
       "28300     104317 2021-11-01 19:03:00   2021-11-03\n",
       "28301     104324 2021-11-01 19:03:00   2021-11-03\n",
       "28302     104318 2021-11-01 19:03:00   2021-11-03\n",
       "28303     104319 2021-11-01 19:03:00   2021-11-03\n",
       "28304     104320 2021-11-01 19:03:00   2021-11-03\n",
       "28305     104323 2021-11-01 19:03:00   2021-11-03\n",
       "28306     104321 2021-11-01 19:03:00   2021-11-03\n",
       "28307     104322 2021-11-01 19:03:00   2021-11-03"
      ]
     },
     "execution_count": 122,
     "metadata": {},
     "output_type": "execute_result"
    }
   ],
   "source": [
    "df.loc[df['Request ID'].isin(coverage_at_renewal_q1_list) ][['Request ID','Create Date','Readout_Date']]"
   ]
  },
  {
   "cell_type": "code",
   "execution_count": 123,
   "metadata": {},
   "outputs": [
    {
     "data": {
      "text/html": [
       "<div>\n",
       "<style scoped>\n",
       "    .dataframe tbody tr th:only-of-type {\n",
       "        vertical-align: middle;\n",
       "    }\n",
       "\n",
       "    .dataframe tbody tr th {\n",
       "        vertical-align: top;\n",
       "    }\n",
       "\n",
       "    .dataframe thead th {\n",
       "        text-align: right;\n",
       "    }\n",
       "</style>\n",
       "<table border=\"1\" class=\"dataframe\">\n",
       "  <thead>\n",
       "    <tr style=\"text-align: right;\">\n",
       "      <th></th>\n",
       "      <th>Request ID</th>\n",
       "      <th>Create Date</th>\n",
       "      <th>Created By</th>\n",
       "      <th>Request Type</th>\n",
       "      <th>Modified</th>\n",
       "      <th>Modified By</th>\n",
       "      <th>Date Completed</th>\n",
       "      <th>LAST_UPDATED</th>\n",
       "      <th>QA Approve</th>\n",
       "      <th>REVIEW_REQUIRED_FLAG</th>\n",
       "      <th>...</th>\n",
       "      <th>Nickname</th>\n",
       "      <th>Forecast Stage</th>\n",
       "      <th>Dupechk</th>\n",
       "      <th>Vendor</th>\n",
       "      <th>Concierge Advisor Name</th>\n",
       "      <th>Offer_Creator_Name</th>\n",
       "      <th>Offer_Creator_Vendor</th>\n",
       "      <th>Squeezed</th>\n",
       "      <th>Prepend</th>\n",
       "      <th>Recipient Confirmation</th>\n",
       "    </tr>\n",
       "  </thead>\n",
       "  <tbody>\n",
       "  </tbody>\n",
       "</table>\n",
       "<p>0 rows × 117 columns</p>\n",
       "</div>"
      ],
      "text/plain": [
       "Empty DataFrame\n",
       "Columns: [Request ID, Create Date, Created By, Request Type, Modified, Modified By, Date Completed, LAST_UPDATED, QA Approve, REVIEW_REQUIRED_FLAG, FAILURE_DETAILS, Low Volume Count, API_TRANSACTION_ID, CONCIERGE_REQUESTED_FLAG, CC_INDICATED, PARTNER_RECORD, CUSTOMER_IDENTIFIER, Customer Name, Deal ID, SAV ID, GUID, CAV ID, CAV BU ID, CR Party ID, CR Party Name, Contract ID, Appliance ID, Inventory Name, Status, Requester Name, SSP, Requester Function, REQUESTER_COMMENTS, DISTRIBUTION_LIST, Partner Name, BE_GEO_ID, Sales Level 1, Sales Level 2, Sales Level 3, Sales Level 4, Sales Level 5, Sales Level 6, opportunityID18, OPPTY_NAME, PROJECTED_BOOKING, Campaign, Risk Score, RR_INTERNAL, ADVISOR_NOTES, Compass Advisor, READOUT_DONE_DT, Readout Delivery Status, Items Recommended, DECLINED_REASON, NEXT_STEPS, BCS_ESTIMATE, EC_ESTIMATE, ST_ESTIMATE, SSPT_ESTIMATE, SNTC_ESTIMATE, TOTAL_ESTIMATE, CONCIERGE_ADVISOR_ASSIGNED, CONCIERGE_BUSINESS_OBJECTIVE, CONCIERGE_INTERNAL_READOUT_DT, CONCIERGE_INTERNAL_RESULT, CONCIERGE_EXTERNAL_READOUT_DT, CONCIERGE_EXTERNAL_READOUT_RESULT, CONCIERGE_ACCOUNT_TEAM_NOTES, OFFER_CREATOR_PROACTIVE_REPORT_URL, OFFER_CREATOR_READOUT_DT, OFFER_CREATOR_READOUT_STATUS, OFFER_CREATOR_EMAIL, OFFER_CREATOR_DECLINED_REASON, OFFER_CREATOR_NOTES, LPM_PLUS, NS_LPM_PLUS, OFFER_CREATOR_OFFER_CREATED, PROACTIVE_REPORT_REQUESTED_FLAG, ALERT_BELOW_25, Tableau Project Name, Report Type, COMPASS URL, COMPASS PPT URL, OA Package Type, OA URL, VBDM, NS_VBDM, REPORT_EXIST_FLAG, DELIVERABILITY, INSUFFICIENT_DATA_COUNT, READOUT_DELIVERABLE, Email sent, EMAIL_SENT_TO_SSX_FLAG, OPPTY_STG1_CREATED, COMPASS_READOUTS_DONE, LPM_PLUS_ENGAGED, LPM_PLUS_UNASSIGNED, LPM_PLUS_ASSIGNED, LPM_PLUS_SCHEDULED, LPM_READOUTS_DONE, ...]\n",
       "Index: []\n",
       "\n",
       "[0 rows x 117 columns]"
      ]
     },
     "execution_count": 123,
     "metadata": {},
     "output_type": "execute_result"
    }
   ],
   "source": [
    "df.loc[df['Campaign'].str.contains('coverage at', na=False, case=False) & (df['Readout_Date'] < '2021-10-31')]"
   ]
  },
  {
   "cell_type": "code",
   "execution_count": 124,
   "metadata": {},
   "outputs": [],
   "source": [
    "def get_fiscal_half(fiscal_quarter):\n",
    "    if pd.isnull(fiscal_quarter):\n",
    "        return pd.NA\n",
    "    elif fiscal_quarter == '1' or fiscal_quarter == '2':\n",
    "        return '1'\n",
    "    else:\n",
    "        return '2'"
   ]
  },
  {
   "cell_type": "code",
   "execution_count": 125,
   "metadata": {},
   "outputs": [],
   "source": [
    "df['Request FY'] = df['Create Date'].apply(fc.get_fiscal_year)"
   ]
  },
  {
   "cell_type": "code",
   "execution_count": 126,
   "metadata": {},
   "outputs": [],
   "source": [
    "df['Request FQ'] = df['Create Date'].apply(fc.get_fiscal_quarter)"
   ]
  },
  {
   "cell_type": "code",
   "execution_count": 127,
   "metadata": {},
   "outputs": [],
   "source": [
    "df['Request FM'] = df['Create Date'].apply(fc.get_fiscal_month)"
   ]
  },
  {
   "cell_type": "code",
   "execution_count": 128,
   "metadata": {},
   "outputs": [],
   "source": [
    "df['Request FWOFM'] = df['Create Date'].apply(fc.get_fiscal_week_of_fiscal_month)"
   ]
  },
  {
   "cell_type": "code",
   "execution_count": 129,
   "metadata": {},
   "outputs": [
    {
     "data": {
      "text/plain": [
       "array(['3', '4', '1', '2'], dtype=object)"
      ]
     },
     "execution_count": 129,
     "metadata": {},
     "output_type": "execute_result"
    }
   ],
   "source": [
    "df['Request FQ'].unique()"
   ]
  },
  {
   "cell_type": "code",
   "execution_count": 130,
   "metadata": {},
   "outputs": [],
   "source": [
    "df['Request FH'] = df['Request FQ'].apply(get_fiscal_half)"
   ]
  },
  {
   "cell_type": "code",
   "execution_count": 131,
   "metadata": {},
   "outputs": [],
   "source": [
    "df['Request FWOFQ'] = df['Create Date'].apply(fc.get_fiscal_week_of_fiscal_quarter)"
   ]
  },
  {
   "cell_type": "code",
   "execution_count": 132,
   "metadata": {},
   "outputs": [],
   "source": [
    "df['Request FWOFY'] = df['Create Date'].apply(fc.get_fiscal_week_of_fiscal_year)"
   ]
  },
  {
   "cell_type": "code",
   "execution_count": 133,
   "metadata": {},
   "outputs": [],
   "source": [
    "df['Readout_Date'] = pd.to_datetime(df['Readout_Date'])"
   ]
  },
  {
   "cell_type": "code",
   "execution_count": 134,
   "metadata": {},
   "outputs": [],
   "source": [
    "df['Readout FY'] = df['Readout_Date'].apply(fc.get_fiscal_year)\n",
    "df['Readout FQ'] = df['Readout_Date'].apply(fc.get_fiscal_quarter)\n",
    "df['Readout FM'] = df['Readout_Date'].apply(fc.get_fiscal_month)"
   ]
  },
  {
   "cell_type": "code",
   "execution_count": 135,
   "metadata": {},
   "outputs": [],
   "source": [
    "df['Readout FWOFM'] = df['Readout_Date'].apply(fc.get_fiscal_week_of_fiscal_month)"
   ]
  },
  {
   "cell_type": "code",
   "execution_count": 136,
   "metadata": {},
   "outputs": [],
   "source": [
    "df['Readout FWOFQ'] = df['Readout_Date'].apply(fc.get_fiscal_week_of_fiscal_quarter)"
   ]
  },
  {
   "cell_type": "code",
   "execution_count": 137,
   "metadata": {},
   "outputs": [],
   "source": [
    "df['Readout FWOFY'] = df['Readout_Date'].apply(fc.get_fiscal_week_of_fiscal_year)"
   ]
  },
  {
   "cell_type": "code",
   "execution_count": 138,
   "metadata": {},
   "outputs": [],
   "source": [
    "df['Readout FH'] = df['Readout FQ'].apply(get_fiscal_half)"
   ]
  },
  {
   "cell_type": "code",
   "execution_count": 139,
   "metadata": {},
   "outputs": [
    {
     "data": {
      "text/plain": [
       "array(['2', '1'], dtype=object)"
      ]
     },
     "execution_count": 139,
     "metadata": {},
     "output_type": "execute_result"
    }
   ],
   "source": [
    "df['Request FH'].unique()"
   ]
  },
  {
   "cell_type": "code",
   "execution_count": 140,
   "metadata": {},
   "outputs": [],
   "source": [
    "df['OC Readout FY'] = df['OFFER_CREATOR_READOUT_DT'].apply(fc.get_fiscal_year)"
   ]
  },
  {
   "cell_type": "code",
   "execution_count": 141,
   "metadata": {},
   "outputs": [],
   "source": [
    "df['OC Readout FQ'] = df['OFFER_CREATOR_READOUT_DT'].apply(fc.get_fiscal_quarter)"
   ]
  },
  {
   "cell_type": "code",
   "execution_count": 142,
   "metadata": {},
   "outputs": [],
   "source": [
    "df['OC Readout FM'] = df['OFFER_CREATOR_READOUT_DT'].apply(fc.get_fiscal_month)"
   ]
  },
  {
   "cell_type": "markdown",
   "metadata": {},
   "source": [
    "### Set the Campaign Type field from the campaign names"
   ]
  },
  {
   "cell_type": "code",
   "execution_count": 143,
   "metadata": {},
   "outputs": [],
   "source": [
    "def set_campaign_type(campaign_name):\n",
    "    if pd.isnull(campaign_name) or campaign_name == '':\n",
    "        return 'NO CAMPAIGN'\n",
    "    \n",
    "    elif campaign_name.lower() == 'test' or campaign_name.lower() == 'accelerator' or campaign_name.lower() == 'proactive - ignore' \\\n",
    "    or campaign_name.upper() == 'IAP – STEPHAN' or campaign_name.upper() == 'IAP - STEPHAN' or 'research' in campaign_name.lower():\n",
    "        return 'NONREPORTING/TESTS'\n",
    "    \n",
    "    elif 'cxib scale' in campaign_name.lower():\n",
    "        return 'COVERAGE AT RENEWAL'\n",
    "    \n",
    "    elif 'cxib' in campaign_name.lower():\n",
    "        return 'CXIB'    \n",
    "    \n",
    "    elif 'coverage at renewal' in campaign_name.lower():\n",
    "        return 'COVERAGE AT RENEWAL'\n",
    "    \n",
    "    elif campaign_name.upper() == 'COVERAGE PROGRAM - TELEMETRY':\n",
    "        return 'COVERAGE PROGRAM'\n",
    "    \n",
    "    elif ('missed attach' in campaign_name.lower() or 'coverage program' in campaign_name.lower()) and ('sntc tac leads' in campaign_name.lower() or 'tac sntc' in campaign_name.lower() or campaign_name.upper()=='PROACTIVE - TAC LEAD'):\n",
    "        return 'COVERAGE PROGRAM'\n",
    "    \n",
    "    elif ('missed attach' in campaign_name.lower() or 'coverage program' in campaign_name.lower()) and ('proactive attach' in campaign_name.lower() or 'proactive sntc' in campaign_name.lower()):\n",
    "        return 'COVERAGE PROGRAM'\n",
    "    \n",
    "    elif ('missed attach' in campaign_name.lower() or 'coverage program' in campaign_name.lower()) and ('sspt' in campaign_name.lower() or 'telemetry' in campaign_name.lower()):\n",
    "        return 'COVERAGE PROGRAM'\n",
    "    \n",
    "    elif ('missed attach' in campaign_name.lower() or 'coverage program' in campaign_name.lower()) and ('field' in campaign_name.lower() or 'reactive' in campaign_name.lower()):\n",
    "        return 'FIELD'\n",
    "    \n",
    "    #elif ('missed attach' in campaign_name.lower() or 'coverage program' in campaign_name.lower()):\n",
    "    #    return 'PROACTIVE COVERAGE'\n",
    "    \n",
    "    elif 'proactive - refresh bdm' in campaign_name.lower():   #'PROACTIVE - AMERICAS - IRR EXPAND',\n",
    "        return 'NONREPORTING/TESTS'\n",
    "        \n",
    "    elif 'proactive' in campaign_name.lower() or campaign_name.upper() in ('PROACTIVE - REFRESH','PROACTIVE - CS RESEARCH'):   #'PROACTIVE - AMERICAS - IRR EXPAND',\n",
    "        return 'PROACTIVE_OLD'\n",
    "    \n",
    "    elif 'proactive tac' in campaign_name.lower():\n",
    "        return 'COVERAGE PROGRAM'\n",
    "    \n",
    "    elif 'reactive' in campaign_name.lower() or campaign_name.upper() in ('UKI - SUZI','UKI -- SUZI','PROACTIVE - PARTNER.1','PROACTIVE - PARTNER.2') or campaign_name.upper() == 'PROACTIVE - REFRESH BDM':   #'PROACTIVE - AMERICAS - IRR EXPAND',\n",
    "        return 'FIELD'\n",
    "    \n",
    "    elif campaign_name.upper() == 'TELEMETRY':\n",
    "        return 'TELEMETRY'\n",
    "    \n",
    "    elif 'bcs' in campaign_name.lower() or 'success' in campaign_name.lower() or 'solution' in campaign_name.lower() or 'sspt' in campaign_name.lower() or 'st target' in campaign_name.lower() or 'ctu' in campaign_name.lower() or 'target' in campaign_name.lower():\n",
    "        return 'TARGETING'    "
   ]
  },
  {
   "cell_type": "code",
   "execution_count": 144,
   "metadata": {},
   "outputs": [],
   "source": [
    "df['Campaign Type'] = df['Campaign'].apply(lambda x: set_campaign_type(x))"
   ]
  },
  {
   "cell_type": "code",
   "execution_count": 145,
   "metadata": {},
   "outputs": [
    {
     "data": {
      "text/plain": [
       "array(['CXIB'], dtype=object)"
      ]
     },
     "execution_count": 145,
     "metadata": {},
     "output_type": "execute_result"
    }
   ],
   "source": [
    "# df['Campaign Type'].unique()\n",
    "df.loc[df['Campaign'].str.contains('CXIB', na=False, case=False)]['Campaign Type'].unique()"
   ]
  },
  {
   "cell_type": "code",
   "execution_count": 146,
   "metadata": {},
   "outputs": [
    {
     "data": {
      "text/plain": [
       "array(['TEST REQUEST'], dtype=object)"
      ]
     },
     "execution_count": 146,
     "metadata": {},
     "output_type": "execute_result"
    }
   ],
   "source": [
    "df.loc[df['Campaign Type'].isnull()]['Campaign'].unique()"
   ]
  },
  {
   "cell_type": "markdown",
   "metadata": {},
   "source": [
    "### Set the Items Recommended fields"
   ]
  },
  {
   "cell_type": "code",
   "execution_count": 147,
   "metadata": {},
   "outputs": [],
   "source": [
    "def bcs_recommended(items_recommended):\n",
    "    if pd.isnull(items_recommended):\n",
    "        return None\n",
    "    elif 'BCS' in items_recommended:\n",
    "        return 'BCS'\n",
    "    else:\n",
    "        return None"
   ]
  },
  {
   "cell_type": "code",
   "execution_count": 148,
   "metadata": {},
   "outputs": [],
   "source": [
    "# df['Items Recommended'].unique()"
   ]
  },
  {
   "cell_type": "code",
   "execution_count": 149,
   "metadata": {},
   "outputs": [],
   "source": [
    "df['IR_BCS'] = df['Items Recommended'].apply(bcs_recommended)"
   ]
  },
  {
   "cell_type": "code",
   "execution_count": 150,
   "metadata": {},
   "outputs": [],
   "source": [
    "def ec_recommended(items_recommended):\n",
    "    if pd.isnull(items_recommended):\n",
    "        return None\n",
    "    elif 'EC-' in items_recommended:\n",
    "        return 'EC'\n",
    "    else:\n",
    "        return None"
   ]
  },
  {
   "cell_type": "code",
   "execution_count": 151,
   "metadata": {},
   "outputs": [],
   "source": [
    "df['IR_EC'] = df['Items Recommended'].apply(ec_recommended)"
   ]
  },
  {
   "cell_type": "code",
   "execution_count": 152,
   "metadata": {},
   "outputs": [],
   "source": [
    "def dnac_recommended(items_recommended):\n",
    "    if pd.isnull(items_recommended):\n",
    "        return None\n",
    "    elif 'DNA' in items_recommended:\n",
    "        return 'DNAC'\n",
    "    else:\n",
    "        return None"
   ]
  },
  {
   "cell_type": "code",
   "execution_count": 153,
   "metadata": {},
   "outputs": [],
   "source": [
    "df['IR_DNAC'] = df['Items Recommended'].apply(dnac_recommended)"
   ]
  },
  {
   "cell_type": "code",
   "execution_count": 154,
   "metadata": {},
   "outputs": [],
   "source": [
    "def sspt_recommended(items_recommended):\n",
    "    if pd.isnull(items_recommended):\n",
    "        return None\n",
    "    elif 'SSPT' in items_recommended:\n",
    "        return 'SSPT'\n",
    "    else:\n",
    "        return None"
   ]
  },
  {
   "cell_type": "code",
   "execution_count": 155,
   "metadata": {},
   "outputs": [],
   "source": [
    "df['IR_SSPT'] = df['Items Recommended'].apply(sspt_recommended)"
   ]
  },
  {
   "cell_type": "code",
   "execution_count": 156,
   "metadata": {},
   "outputs": [],
   "source": [
    "def st_recommended(items_recommended):\n",
    "    if pd.isnull(items_recommended):\n",
    "        return None\n",
    "    elif 'ST' in items_recommended:\n",
    "        return 'ST'\n",
    "    else:\n",
    "        return None"
   ]
  },
  {
   "cell_type": "code",
   "execution_count": 157,
   "metadata": {},
   "outputs": [],
   "source": [
    "df['IR_ST'] = df['Items Recommended'].apply(st_recommended)"
   ]
  },
  {
   "cell_type": "code",
   "execution_count": 158,
   "metadata": {},
   "outputs": [],
   "source": [
    "def sntc_recommended(items_recommended):\n",
    "    if pd.isnull(items_recommended):\n",
    "        return None\n",
    "    elif 'SNTC' in items_recommended:\n",
    "        return 'SNTC'\n",
    "    else:\n",
    "        return None"
   ]
  },
  {
   "cell_type": "code",
   "execution_count": 159,
   "metadata": {},
   "outputs": [],
   "source": [
    "df['IR_SNTC'] = df['Items Recommended'].apply(sntc_recommended)"
   ]
  },
  {
   "cell_type": "code",
   "execution_count": 160,
   "metadata": {},
   "outputs": [],
   "source": [
    "def irr_recommended(items_recommended):\n",
    "    if pd.isnull(items_recommended):\n",
    "        return None\n",
    "    elif 'IRR' in items_recommended:\n",
    "        return 'IRR'\n",
    "    else:\n",
    "        return None"
   ]
  },
  {
   "cell_type": "code",
   "execution_count": 161,
   "metadata": {},
   "outputs": [],
   "source": [
    "df['IR_IRR'] = df['Items Recommended'].apply(irr_recommended)"
   ]
  },
  {
   "cell_type": "code",
   "execution_count": 162,
   "metadata": {},
   "outputs": [],
   "source": [
    "def productrefresh_recommended(items_recommended):\n",
    "    if pd.isnull(items_recommended):\n",
    "        return None\n",
    "    elif 'PR' in items_recommended:\n",
    "        return 'PR'\n",
    "    else:\n",
    "        return None"
   ]
  },
  {
   "cell_type": "code",
   "execution_count": 163,
   "metadata": {},
   "outputs": [],
   "source": [
    "df['IR_PR'] = df['Items Recommended'].apply(productrefresh_recommended)"
   ]
  },
  {
   "cell_type": "code",
   "execution_count": 164,
   "metadata": {},
   "outputs": [],
   "source": [
    "def brw_recommended(items_recommended):\n",
    "    if pd.isnull(items_recommended):\n",
    "        return None\n",
    "    elif 'BRW' in items_recommended:\n",
    "        return 'BRW'\n",
    "    else:\n",
    "        return None"
   ]
  },
  {
   "cell_type": "code",
   "execution_count": 165,
   "metadata": {},
   "outputs": [],
   "source": [
    "df['IR_BRW'] = df['Items Recommended'].apply(brw_recommended)"
   ]
  },
  {
   "cell_type": "markdown",
   "metadata": {},
   "source": [
    "# Setup Seller Confirmation conditions"
   ]
  },
  {
   "cell_type": "code",
   "execution_count": 166,
   "metadata": {},
   "outputs": [],
   "source": [
    "requesters_to_remove_2021 = list(['alcastri@cisco.cm@cisco.com','alcastri@cisco.com','anamoren@cisco.com','antmills@cisco.com','avillalo@cisco.com','boenglis@cisco.com',\n",
    "                                 'borirodr@cisco.com','braolive@cisco.com','brbuck@cisco.com','camruiz@cisco.com','fpizano@cisco.com', 'jbaldera@cisco.com','jcollie2@cisco.com',\n",
    "                                 'josguti2@cisco.com','jszmak@cisco.com','kpatton@cisco.com','kywatts@cisco.com','lmaldon@cisco.com', 'lsweidan@cisco.com' , 'nilosada@cisco.com',\n",
    "                                 'nnino@cisco.com','qhopkins@cisco.com','stotero@cisco.com', 'wzeliger@cisco.com','caltree@cisco.com','obustosm@cisco.com','antchris@cisco.com',\n",
    "                                 'dadiaspe@cisco.com','jforgy@cisco.com','jguggehe@cisco.com','stehartm@cisco.com','abdulahm@cisco.com','pamohan@cisco.com','charpost@cisco.com',\n",
    "                                 'mragam@cisco.com','javalenc@cisco.com','escudder@cisco.com'])"
   ]
  },
  {
   "cell_type": "code",
   "execution_count": 167,
   "metadata": {},
   "outputs": [],
   "source": [
    "campaigns_to_remove_from_count_2021 = list(['ACCELERATOR','IAP - STEPHAN','PROACTIVE - AMERICAS - F20Q2-3 RENEW (140)','PROACTIVE - AMERICAS - IRR EXPAND', 'PROACTIVE - AMERICAS - US COMM.1','PROACTIVE - AMERICAS - US COM.1',\n",
    "                                       'PROACTIVE - BCS 3.0', 'PROACTIVE - CAP.1','PROACTIVE - CS RESEARCH', 'PROACTIVE - EMEAR.BETA','PROACTIVE - IGNORE','PROACTIVE - PARTNER.1','PROACTIVE - PARTNER.2', 'PROACTIVE - PRESALES ALIGN PITSTOP EFFORT',\n",
    "                                       'PROACTIVE - REFRESH LIST', 'PROACTIVE - SW CONFORMANCE', 'PROACTIVE - SW CONFORMANCE.2', 'PROACTIVE - TAC LEAD', 'PROACTIVE - USPS.1','REACTIVE - APJC GC ENT', 'REACTIVE - APJC.1','REACTIVE - APJC.BETA',\n",
    "                                       'REACTIVE - ASEAN.1', 'REACTIVE - CANSAC', 'REACTIVE - CISCOREADY','REACTIVE - EMEAR-PILOT','REACTIVE - GROWTH INITIATIVE','REACTIVE - KYLE WATTS','REACTIVE - RENEWALS Q3 KSO','PROACTIVE REFRESH BDM',   ### THE 412 HEALTHCARE REQUESTS\n",
    "                                       'TEST', 'TEST REQUEST'])"
   ]
  },
  {
   "cell_type": "code",
   "execution_count": 168,
   "metadata": {},
   "outputs": [],
   "source": [
    "requesters_to_remove_2022 = list(['lsweidan@cisco.com','nenglema@cisco.com','escudder@cisco.com', 'jestjohn@cisco.com' ])"
   ]
  },
  {
   "cell_type": "code",
   "execution_count": 169,
   "metadata": {},
   "outputs": [],
   "source": [
    "temp_campaigns_to_remove_from_count = list([ #'BCS 3.0 TARGETING HEALTHCARE CAMPAIGN',\n",
    "                                           'PROACTIVE - RESEARCH',\n",
    "                                           'REACTIVE - CXIB',\n",
    "                                           'REACTIVE - GROWTH INITIATIVE',\n",
    "                                           'TEST REQUEST'])"
   ]
  },
  {
   "cell_type": "code",
   "execution_count": 170,
   "metadata": {},
   "outputs": [],
   "source": [
    "def remove_from_the_items_to_be_counted(requester_name, compass_campaign_name, SL3, created_date, date_completed):   # Anything FALSE is intended to be removed. #When this gets into Tableau, we only want to select the TRUE values\n",
    "    if pd.isnull(requester_name) or pd.isnull(date_completed):\n",
    "        return False\n",
    "    elif created_date < pd.to_datetime('20210801', format='%Y%m%d') and (requester_name in requesters_to_remove_2021 or compass_campaign_name in campaigns_to_remove_from_count_2021):\n",
    "        return False\n",
    "       \n",
    "    elif created_date >= pd.to_datetime('20210801', format='%Y%m%d') and (requester_name in requesters_to_remove_2022 or compass_campaign_name in temp_campaigns_to_remove_from_count):\n",
    "        return False\n",
    "    \n",
    "    else:\n",
    "        return True"
   ]
  },
  {
   "cell_type": "code",
   "execution_count": 171,
   "metadata": {},
   "outputs": [],
   "source": [
    "df['REMOVE_FROM_COUNT'] = df.apply(lambda x: remove_from_the_items_to_be_counted(x['Requester Name'],x['Campaign'], x['Sales Level 3'], x['Create Date'], x['Date Completed']), axis=1)"
   ]
  },
  {
   "cell_type": "code",
   "execution_count": 172,
   "metadata": {},
   "outputs": [
    {
     "data": {
      "text/plain": [
       "Campaign                                                 Sales Level 3      REMOVE_FROM_COUNT\n",
       "BCS 3.0 TARGETING GLOBAL COMPASS IDENTIFIED RISKS (NEW)  ASP TELCO MOBILE   True                  1\n",
       "                                                         ASP US SEGMENTS    True                 29\n",
       "                                                         ASP_CANADA         True                  2\n",
       "                                                         ASP_LATAM          True                  1\n",
       "                                                         COMMERCIAL CAN     True                  7\n",
       "                                                         ENTERPRISE CA      True                  8\n",
       "                                                         GES WEST           True                 69\n",
       "                                                         PUBLIC SECTOR CAN  True                 15\n",
       "                                                         SLED-EAST AREA     True                 26\n",
       "                                                         SLED-WEST AREA     True                 15\n",
       "Name: Request ID, dtype: int64"
      ]
     },
     "execution_count": 172,
     "metadata": {},
     "output_type": "execute_result"
    }
   ],
   "source": [
    "df.loc[(df['Campaign'].str.contains('IDENTIFIED RISKS', na=False, case=False)) & (df['Sales Level 1']=='AMERICAS') & (df['REMOVE_FROM_COUNT']==True) ].groupby(['Campaign','Sales Level 3','REMOVE_FROM_COUNT']).count()['Request ID']"
   ]
  },
  {
   "cell_type": "code",
   "execution_count": 173,
   "metadata": {},
   "outputs": [
    {
     "data": {
      "text/plain": [
       "Requester Name      Campaign Type     REMOVE_FROM_COUNT\n",
       "AABUL@CISCO.COM     FIELD             True                  1\n",
       "AADAY@CISCO.COM     TARGETING         True                  2\n",
       "AAFRICA@CISCO.COM   FIELD             True                  2\n",
       "AAKKAWI@CISCO.COM   COVERAGE PROGRAM  True                  1\n",
       "AALAJAJI@CISCO.COM  TARGETING         True                  6\n",
       "                                                           ..\n",
       "YUKOHAYA@CISCO.COM  TARGETING         True                  1\n",
       "YVWOIT@CISCO.COM    TARGETING         True                  1\n",
       "ZALGHAMD@CISCO.COM  FIELD             True                  1\n",
       "ZISTEPHE@CISCO.COM  FIELD             True                 32\n",
       "ZJANICEL@CISCO.COM  FIELD             True                  1\n",
       "Name: Request ID, Length: 1775, dtype: int64"
      ]
     },
     "execution_count": 173,
     "metadata": {},
     "output_type": "execute_result"
    }
   ],
   "source": [
    "df.loc[df['REMOVE_FROM_COUNT'] == True].groupby(['Requester Name','Campaign Type','REMOVE_FROM_COUNT']).count()['Request ID']"
   ]
  },
  {
   "cell_type": "code",
   "execution_count": 174,
   "metadata": {},
   "outputs": [
    {
     "data": {
      "text/plain": [
       "(42717, 145)"
      ]
     },
     "execution_count": 174,
     "metadata": {},
     "output_type": "execute_result"
    }
   ],
   "source": [
    "df.shape"
   ]
  },
  {
   "cell_type": "markdown",
   "metadata": {},
   "source": [
    "### RR (internal) field, a.k.a. Readout Required:\n",
    "#### If a record is OLDER than 6 months, a readout will NOT be done.\n",
    "#### If a record's Compass Campaign Name is in an exclusion list (TBD), a readout will not be done.\n",
    "#### If either of the above conditions are met, set a \"NO\" value in the \"RR (internal)\" field, else set a \"YES\" value there"
   ]
  },
  {
   "cell_type": "code",
   "execution_count": 175,
   "metadata": {},
   "outputs": [],
   "source": [
    "campaign_exclusion_list = ['PROACTIVE - REFRESH LIST','REACTIVE - GROWTH INITIATIVE','PROACTIVE - CS RESEARCH','PROACTIVE - IGNORE','PROACTIVE - TAC LEAD','TEST','TEST REQUEST','REACTIVE - BDM','ACCELERATOR','PROACTIVE - PRESALES ALIGN PITSTOP EFFORT','REACTIVE - CISCOREADY','REACTIVE - PARTNER','REACTIVE - PARTNER.1','REACTIVE - PARTNER.2',]"
   ]
  },
  {
   "cell_type": "code",
   "execution_count": 176,
   "metadata": {},
   "outputs": [],
   "source": [
    "campaign_inclusion_list = ['AMERICAS SP','REACTIVE - UKI – SUZI','REACTIVE','REACTIVE - AOJC','REACTIVE - AMERICAS','BCS TARGETING AMERICAS','BCS TARGETING - UKI','REACTIVE - EMEAR','REACTIVE -GESW','BCS TARGETING AMERICAS-CANADA','BCS 3.0 TARGETING',]"
   ]
  },
  {
   "cell_type": "code",
   "execution_count": 177,
   "metadata": {},
   "outputs": [],
   "source": [
    "requester_exclusion_list = ['wzeliger@cisco.com','mragam@cisco.com','caltree@cisco.com','obustosm@cisco.com','antchris@cisco.com',\n",
    "                            'dadiaspe@cisco.com','lsweidan@cisco.com','jforgy@cisco.com','jguggenhe@cisco.com', 'stehartm@cisco.com',\n",
    "                            'abdulham@cisco.com','pamohan@cisco.com','charpost@cisco.com','javalenc@cisco.com','kkaler@cisco.com']"
   ]
  },
  {
   "cell_type": "code",
   "execution_count": 178,
   "metadata": {},
   "outputs": [],
   "source": [
    "lookback_date = dt.datetime.now().date() + dt.timedelta(days = -92)"
   ]
  },
  {
   "cell_type": "code",
   "execution_count": 179,
   "metadata": {},
   "outputs": [
    {
     "data": {
      "text/plain": [
       "datetime.date(2022, 1, 17)"
      ]
     },
     "execution_count": 179,
     "metadata": {},
     "output_type": "execute_result"
    }
   ],
   "source": [
    "lookback_date"
   ]
  },
  {
   "cell_type": "code",
   "execution_count": 180,
   "metadata": {},
   "outputs": [
    {
     "data": {
      "text/html": [
       "<div>\n",
       "<style scoped>\n",
       "    .dataframe tbody tr th:only-of-type {\n",
       "        vertical-align: middle;\n",
       "    }\n",
       "\n",
       "    .dataframe tbody tr th {\n",
       "        vertical-align: top;\n",
       "    }\n",
       "\n",
       "    .dataframe thead th {\n",
       "        text-align: right;\n",
       "    }\n",
       "</style>\n",
       "<table border=\"1\" class=\"dataframe\">\n",
       "  <thead>\n",
       "    <tr style=\"text-align: right;\">\n",
       "      <th></th>\n",
       "      <th>Created By</th>\n",
       "      <th>Customer Name</th>\n",
       "      <th>GUID</th>\n",
       "      <th>Deal ID</th>\n",
       "      <th>Requester Name</th>\n",
       "      <th>Campaign</th>\n",
       "    </tr>\n",
       "  </thead>\n",
       "  <tbody>\n",
       "  </tbody>\n",
       "</table>\n",
       "</div>"
      ],
      "text/plain": [
       "Empty DataFrame\n",
       "Columns: [Created By, Customer Name, GUID, Deal ID, Requester Name, Campaign]\n",
       "Index: []"
      ]
     },
     "execution_count": 180,
     "metadata": {},
     "output_type": "execute_result"
    }
   ],
   "source": [
    "### Sanity Indicator - Are there records without the Request ID?\n",
    "df.loc[df['Request ID'].isnull()][['Created By','Customer Name','GUID','Deal ID','Requester Name','Campaign',]] #.groupby(['Created By'])"
   ]
  },
  {
   "cell_type": "code",
   "execution_count": 181,
   "metadata": {},
   "outputs": [],
   "source": [
    "df = df.loc[df['Request ID'].notnull()]"
   ]
  },
  {
   "cell_type": "code",
   "execution_count": 182,
   "metadata": {},
   "outputs": [],
   "source": [
    "not_in_list = ['test','test request','accelerator','proactive - ignore']"
   ]
  },
  {
   "cell_type": "code",
   "execution_count": 183,
   "metadata": {},
   "outputs": [],
   "source": [
    "df = df.loc[~df['Campaign'].str.lower().isin(not_in_list)]"
   ]
  },
  {
   "cell_type": "code",
   "execution_count": 184,
   "metadata": {},
   "outputs": [],
   "source": [
    "# guidtest1 = '6829690,35452880,89286617'\n",
    "# guidtest2 = '512349548'"
   ]
  },
  {
   "cell_type": "code",
   "execution_count": 185,
   "metadata": {},
   "outputs": [],
   "source": [
    "# print(guidtest1.split(','), guidtest2.split(','))"
   ]
  },
  {
   "cell_type": "code",
   "execution_count": 186,
   "metadata": {},
   "outputs": [],
   "source": [
    "### Start with GUID. If GUID is None, use CAV ID, if CAV ID, is None, use CustomerName, if GUID is bad or a list with unacceptable alpha lexicon values, use CustomerName\n",
    "\n",
    "def make_fake_guid(guid, cavid, customername):\n",
    "    import pdb\n",
    "    if pd.isnull(guid):\n",
    "        if pd.isnull(cavid) or cavid == -999:\n",
    "            return str(customername[:10])\n",
    "        else:\n",
    "            if not isinstance(cavid, int):\n",
    "                cavid = cavid.split(',')\n",
    "                return str(cavid[0])\n",
    "    elif not isinstance(guid,int):\n",
    "        try:\n",
    "            if isinstance(guid,float):\n",
    "                guid = str(int(guid))\n",
    "                return guid\n",
    "            \n",
    "            elif isinstance(guid,str):\n",
    "                guid = guid.split(',')\n",
    "                guid = str(guid[0])\n",
    "                return guid\n",
    "        except:\n",
    "            return str(guid)\n",
    "    else:\n",
    "        return str(guid)"
   ]
  },
  {
   "cell_type": "code",
   "execution_count": 187,
   "metadata": {},
   "outputs": [],
   "source": [
    "# make_fake_guid(np.nan, guidtest1, 'Jac')"
   ]
  },
  {
   "cell_type": "code",
   "execution_count": 188,
   "metadata": {
    "tags": []
   },
   "outputs": [],
   "source": [
    "# ### Start with GUID. If GUID is None, use CAV ID, if CAV ID, is None, use CustomerName, if GUID is bad or a list with unacceptable alpha lexicon values, use CustomerName\n",
    "# ### OLD METHOD from Smartsheet\n",
    "\n",
    "# def make_fake_guid(guid, cavid, customername):\n",
    "#     if pd.isnull(guid):\n",
    "#         if pd.isnull(cavid):\n",
    "#             return str(customername[:10])\n",
    "#         elif isinstance(cavid, float):\n",
    "#             return str(int(cavid))\n",
    "#         elif ',' in cavid:\n",
    "#             quicklist = list(cavid.split(','))\n",
    "#             return str(int(quicklist[0]))\n",
    "#         else:\n",
    "#             return str(int(cavid))\n",
    "#     elif type(guid) == float:\n",
    "#         return str(int(guid))\n",
    "    \n",
    "#     elif isinstance(guid, str):\n",
    "#         quicklist = list(cavid.split(','))\n",
    "#         return str(int(quicklist[0]))\n",
    "        \n",
    "#         if int(guid):\n",
    "#             return str(int(guid))\n",
    "#         else:\n",
    "#             return str(customername[:10])\n",
    "    \n",
    "#     elif ',' in guid:\n",
    "#         quicklist = list(guid.split(','))\n",
    "#         return str(int(quicklist[0]))\n",
    "    \n",
    "#     elif ';' in guid:\n",
    "#         quicklist = list(guid.split(';'))\n",
    "#         return str(int(quicklist[0]))\n",
    "    \n",
    "#     elif '\\r\\n' in guid:\n",
    "#         quicklist = list(guid.split('\\r\\n'))\n",
    "#         return str(int(quicklist[0]))\n",
    "    \n",
    "#     elif guid == '-':\n",
    "#         return str(customername[:10])\n",
    "        \n",
    "#     elif str(guid).isalpha():\n",
    "#         return str(customername[:10])\n",
    "    \n",
    "#     elif ' ' in guid:\n",
    "#         quicklist = list(guid.split(' '))\n",
    "#         if quicklist[0].isalpha():\n",
    "#             return str(customername[:10])\n",
    "#         else:\n",
    "#             return str(int(quicklist[0]))\n",
    "    \n",
    "#     elif len(str(guid)) > 12:\n",
    "#         return str(guid)[:12]\n",
    "    \n",
    "#     else:\n",
    "#         return str(guid)"
   ]
  },
  {
   "cell_type": "code",
   "execution_count": 189,
   "metadata": {},
   "outputs": [],
   "source": [
    "df['FakeID'] = df.apply(lambda x: make_fake_guid(x['GUID'], x['CAV ID'], x['Squeezed']), axis=1)"
   ]
  },
  {
   "cell_type": "code",
   "execution_count": 190,
   "metadata": {},
   "outputs": [
    {
     "data": {
      "text/html": [
       "<div>\n",
       "<style scoped>\n",
       "    .dataframe tbody tr th:only-of-type {\n",
       "        vertical-align: middle;\n",
       "    }\n",
       "\n",
       "    .dataframe tbody tr th {\n",
       "        vertical-align: top;\n",
       "    }\n",
       "\n",
       "    .dataframe thead th {\n",
       "        text-align: right;\n",
       "    }\n",
       "</style>\n",
       "<table border=\"1\" class=\"dataframe\">\n",
       "  <thead>\n",
       "    <tr style=\"text-align: right;\">\n",
       "      <th></th>\n",
       "      <th>Request ID</th>\n",
       "      <th>GUID</th>\n",
       "      <th>FakeID</th>\n",
       "    </tr>\n",
       "  </thead>\n",
       "  <tbody>\n",
       "    <tr>\n",
       "      <th>0</th>\n",
       "      <td>118405</td>\n",
       "      <td>44138</td>\n",
       "      <td>44138</td>\n",
       "    </tr>\n",
       "    <tr>\n",
       "      <th>1</th>\n",
       "      <td>118396</td>\n",
       "      <td>12847</td>\n",
       "      <td>12847</td>\n",
       "    </tr>\n",
       "    <tr>\n",
       "      <th>2</th>\n",
       "      <td>118397</td>\n",
       "      <td>39041042</td>\n",
       "      <td>39041042</td>\n",
       "    </tr>\n",
       "    <tr>\n",
       "      <th>3</th>\n",
       "      <td>118398</td>\n",
       "      <td>36861</td>\n",
       "      <td>36861</td>\n",
       "    </tr>\n",
       "    <tr>\n",
       "      <th>4</th>\n",
       "      <td>118399</td>\n",
       "      <td>4771431</td>\n",
       "      <td>4771431</td>\n",
       "    </tr>\n",
       "    <tr>\n",
       "      <th>...</th>\n",
       "      <td>...</td>\n",
       "      <td>...</td>\n",
       "      <td>...</td>\n",
       "    </tr>\n",
       "    <tr>\n",
       "      <th>42712</th>\n",
       "      <td>114327</td>\n",
       "      <td>3985794</td>\n",
       "      <td>3985794</td>\n",
       "    </tr>\n",
       "    <tr>\n",
       "      <th>42713</th>\n",
       "      <td>114365</td>\n",
       "      <td>347664188</td>\n",
       "      <td>347664188</td>\n",
       "    </tr>\n",
       "    <tr>\n",
       "      <th>42714</th>\n",
       "      <td>114344</td>\n",
       "      <td>3098248</td>\n",
       "      <td>3098248</td>\n",
       "    </tr>\n",
       "    <tr>\n",
       "      <th>42715</th>\n",
       "      <td>114370</td>\n",
       "      <td>2644050</td>\n",
       "      <td>2644050</td>\n",
       "    </tr>\n",
       "    <tr>\n",
       "      <th>42716</th>\n",
       "      <td>114383</td>\n",
       "      <td>10991086</td>\n",
       "      <td>10991086</td>\n",
       "    </tr>\n",
       "  </tbody>\n",
       "</table>\n",
       "<p>42655 rows × 3 columns</p>\n",
       "</div>"
      ],
      "text/plain": [
       "      Request ID       GUID     FakeID\n",
       "0         118405      44138      44138\n",
       "1         118396      12847      12847\n",
       "2         118397   39041042   39041042\n",
       "3         118398      36861      36861\n",
       "4         118399    4771431    4771431\n",
       "...          ...        ...        ...\n",
       "42712     114327    3985794    3985794\n",
       "42713     114365  347664188  347664188\n",
       "42714     114344    3098248    3098248\n",
       "42715     114370    2644050    2644050\n",
       "42716     114383   10991086   10991086\n",
       "\n",
       "[42655 rows x 3 columns]"
      ]
     },
     "execution_count": 190,
     "metadata": {},
     "output_type": "execute_result"
    }
   ],
   "source": [
    "df[['Request ID','GUID','FakeID']]"
   ]
  },
  {
   "cell_type": "code",
   "execution_count": 191,
   "metadata": {},
   "outputs": [],
   "source": [
    "def make_hash_entity(prehash_entity, bdm, readoutdate, items_recommded):    #compassurl, \n",
    "    entity_to_hash = str(prehash_entity).upper() + '_' + str(bdm).upper() + '_' + str(readoutdate) + '_' + str(items_recommded).upper()   #str(compassurl).upper() + '_' + \n",
    "    return entity_to_hash"
   ]
  },
  {
   "cell_type": "code",
   "execution_count": 192,
   "metadata": {},
   "outputs": [],
   "source": [
    "df['Prehash_Entity'] = df.apply(lambda x: x['Prepend'] + x['FakeID'], axis=1)"
   ]
  },
  {
   "cell_type": "code",
   "execution_count": 193,
   "metadata": {},
   "outputs": [
    {
     "data": {
      "text/html": [
       "<div>\n",
       "<style scoped>\n",
       "    .dataframe tbody tr th:only-of-type {\n",
       "        vertical-align: middle;\n",
       "    }\n",
       "\n",
       "    .dataframe tbody tr th {\n",
       "        vertical-align: top;\n",
       "    }\n",
       "\n",
       "    .dataframe thead th {\n",
       "        text-align: right;\n",
       "    }\n",
       "</style>\n",
       "<table border=\"1\" class=\"dataframe\">\n",
       "  <thead>\n",
       "    <tr style=\"text-align: right;\">\n",
       "      <th></th>\n",
       "      <th>Request ID</th>\n",
       "      <th>Create Date</th>\n",
       "      <th>Customer Name</th>\n",
       "      <th>GUID</th>\n",
       "      <th>FakeID</th>\n",
       "      <th>CAV ID</th>\n",
       "      <th>Prepend</th>\n",
       "      <th>Prehash_Entity</th>\n",
       "    </tr>\n",
       "  </thead>\n",
       "  <tbody>\n",
       "    <tr>\n",
       "      <th>0</th>\n",
       "      <td>118405</td>\n",
       "      <td>2022-04-07 20:23:50.186</td>\n",
       "      <td>ADOBE SYSTEMS INC RPORATED</td>\n",
       "      <td>44138</td>\n",
       "      <td>44138</td>\n",
       "      <td>NaN</td>\n",
       "      <td>AD</td>\n",
       "      <td>AD44138</td>\n",
       "    </tr>\n",
       "    <tr>\n",
       "      <th>1</th>\n",
       "      <td>118396</td>\n",
       "      <td>2022-04-07 20:23:28.513</td>\n",
       "      <td>DILLARD'S INC</td>\n",
       "      <td>12847</td>\n",
       "      <td>12847</td>\n",
       "      <td>NaN</td>\n",
       "      <td>DI</td>\n",
       "      <td>DI12847</td>\n",
       "    </tr>\n",
       "    <tr>\n",
       "      <th>2</th>\n",
       "      <td>118397</td>\n",
       "      <td>2022-04-07 20:23:31.109</td>\n",
       "      <td>NEIMAN MARCUS GROUP INC THE</td>\n",
       "      <td>39041042</td>\n",
       "      <td>39041042</td>\n",
       "      <td>NaN</td>\n",
       "      <td>NE</td>\n",
       "      <td>NE39041042</td>\n",
       "    </tr>\n",
       "    <tr>\n",
       "      <th>3</th>\n",
       "      <td>118398</td>\n",
       "      <td>2022-04-07 20:23:33.586</td>\n",
       "      <td>ARCTIC SLOPE REGIONAL CORP.</td>\n",
       "      <td>36861</td>\n",
       "      <td>36861</td>\n",
       "      <td>NaN</td>\n",
       "      <td>AR</td>\n",
       "      <td>AR36861</td>\n",
       "    </tr>\n",
       "    <tr>\n",
       "      <th>4</th>\n",
       "      <td>118399</td>\n",
       "      <td>2022-04-07 20:23:36.124</td>\n",
       "      <td>ILLUMINA INC</td>\n",
       "      <td>4771431</td>\n",
       "      <td>4771431</td>\n",
       "      <td>NaN</td>\n",
       "      <td>IL</td>\n",
       "      <td>IL4771431</td>\n",
       "    </tr>\n",
       "    <tr>\n",
       "      <th>...</th>\n",
       "      <td>...</td>\n",
       "      <td>...</td>\n",
       "      <td>...</td>\n",
       "      <td>...</td>\n",
       "      <td>...</td>\n",
       "      <td>...</td>\n",
       "      <td>...</td>\n",
       "      <td>...</td>\n",
       "    </tr>\n",
       "    <tr>\n",
       "      <th>42712</th>\n",
       "      <td>114327</td>\n",
       "      <td>2022-03-03 20:26:19.775</td>\n",
       "      <td>TROY CORPORATION</td>\n",
       "      <td>3985794</td>\n",
       "      <td>3985794</td>\n",
       "      <td>NaN</td>\n",
       "      <td>TR</td>\n",
       "      <td>TR3985794</td>\n",
       "    </tr>\n",
       "    <tr>\n",
       "      <th>42713</th>\n",
       "      <td>114365</td>\n",
       "      <td>2022-03-03 20:28:35.054</td>\n",
       "      <td>VALPAK</td>\n",
       "      <td>347664188</td>\n",
       "      <td>347664188</td>\n",
       "      <td>NaN</td>\n",
       "      <td>VA</td>\n",
       "      <td>VA347664188</td>\n",
       "    </tr>\n",
       "    <tr>\n",
       "      <th>42714</th>\n",
       "      <td>114344</td>\n",
       "      <td>2022-03-03 20:27:18.596</td>\n",
       "      <td>UNITED RENTALS</td>\n",
       "      <td>3098248</td>\n",
       "      <td>3098248</td>\n",
       "      <td>NaN</td>\n",
       "      <td>UN</td>\n",
       "      <td>UN3098248</td>\n",
       "    </tr>\n",
       "    <tr>\n",
       "      <th>42715</th>\n",
       "      <td>114370</td>\n",
       "      <td>2022-03-03 20:28:52.260</td>\n",
       "      <td>VERSAR INC</td>\n",
       "      <td>2644050</td>\n",
       "      <td>2644050</td>\n",
       "      <td>NaN</td>\n",
       "      <td>VE</td>\n",
       "      <td>VE2644050</td>\n",
       "    </tr>\n",
       "    <tr>\n",
       "      <th>42716</th>\n",
       "      <td>114383</td>\n",
       "      <td>2022-03-03 20:29:37.791</td>\n",
       "      <td>VT SYSTEMS</td>\n",
       "      <td>10991086</td>\n",
       "      <td>10991086</td>\n",
       "      <td>NaN</td>\n",
       "      <td>VT</td>\n",
       "      <td>VT10991086</td>\n",
       "    </tr>\n",
       "  </tbody>\n",
       "</table>\n",
       "<p>42655 rows × 8 columns</p>\n",
       "</div>"
      ],
      "text/plain": [
       "      Request ID             Create Date                Customer Name  \\\n",
       "0         118405 2022-04-07 20:23:50.186   ADOBE SYSTEMS INC RPORATED   \n",
       "1         118396 2022-04-07 20:23:28.513                DILLARD'S INC   \n",
       "2         118397 2022-04-07 20:23:31.109  NEIMAN MARCUS GROUP INC THE   \n",
       "3         118398 2022-04-07 20:23:33.586  ARCTIC SLOPE REGIONAL CORP.   \n",
       "4         118399 2022-04-07 20:23:36.124                 ILLUMINA INC   \n",
       "...          ...                     ...                          ...   \n",
       "42712     114327 2022-03-03 20:26:19.775             TROY CORPORATION   \n",
       "42713     114365 2022-03-03 20:28:35.054                       VALPAK   \n",
       "42714     114344 2022-03-03 20:27:18.596               UNITED RENTALS   \n",
       "42715     114370 2022-03-03 20:28:52.260                   VERSAR INC   \n",
       "42716     114383 2022-03-03 20:29:37.791                   VT SYSTEMS   \n",
       "\n",
       "            GUID     FakeID CAV ID Prepend Prehash_Entity  \n",
       "0          44138      44138    NaN      AD        AD44138  \n",
       "1          12847      12847    NaN      DI        DI12847  \n",
       "2       39041042   39041042    NaN      NE     NE39041042  \n",
       "3          36861      36861    NaN      AR        AR36861  \n",
       "4        4771431    4771431    NaN      IL      IL4771431  \n",
       "...          ...        ...    ...     ...            ...  \n",
       "42712    3985794    3985794    NaN      TR      TR3985794  \n",
       "42713  347664188  347664188    NaN      VA    VA347664188  \n",
       "42714    3098248    3098248    NaN      UN      UN3098248  \n",
       "42715    2644050    2644050    NaN      VE      VE2644050  \n",
       "42716   10991086   10991086    NaN      VT     VT10991086  \n",
       "\n",
       "[42655 rows x 8 columns]"
      ]
     },
     "execution_count": 193,
     "metadata": {},
     "output_type": "execute_result"
    }
   ],
   "source": [
    "df.loc[df['Prehash_Entity'].notnull()][['Request ID','Create Date','Customer Name','GUID','FakeID','CAV ID','Prepend','Prehash_Entity']]"
   ]
  },
  {
   "cell_type": "markdown",
   "metadata": {},
   "source": [
    "## Set the Deal ID on the Refresh Record based upon the Previous Request ID"
   ]
  },
  {
   "cell_type": "code",
   "execution_count": 194,
   "metadata": {},
   "outputs": [],
   "source": [
    "# request_dealid_dict = {}\n",
    "req_dealids = df[['Request ID','Deal ID']].copy()\n",
    "req_dealids = req_dealids.dropna(how='any', axis=0)\n",
    "req_dealids.set_index('Request ID', inplace=True)\n",
    "request_dealid_dict = req_dealids.to_dict()"
   ]
  },
  {
   "cell_type": "code",
   "execution_count": 195,
   "metadata": {},
   "outputs": [],
   "source": [
    "# request_dealid_dict['Deal ID']['2021202114287']"
   ]
  },
  {
   "cell_type": "code",
   "execution_count": 196,
   "metadata": {},
   "outputs": [],
   "source": [
    "def get_the_deal_id(requestid):\n",
    "    dealid = None\n",
    "    if requestid in request_dealid_dict['Deal ID']:\n",
    "        dealid = request_dealid_dict['Deal ID'][requestid]\n",
    "        if isinstance(dealid, list):\n",
    "            return dealid\n",
    "        elif isinstance(dealid, str) and not dealid.isalpha():\n",
    "            return dealid\n",
    "        elif isinstance(dealid, float):\n",
    "            return int(dealid)\n",
    "        else:\n",
    "            return dealid\n",
    "    else:\n",
    "        return None"
   ]
  },
  {
   "cell_type": "code",
   "execution_count": 197,
   "metadata": {},
   "outputs": [],
   "source": [
    "# get_the_deal_id('202120211223236')\n",
    "# df['Prior Deal ID'] = df['Previous Request ID'].apply(get_the_deal_id)"
   ]
  },
  {
   "cell_type": "code",
   "execution_count": 198,
   "metadata": {},
   "outputs": [],
   "source": [
    "# df.loc[df['Prior Deal ID'].notnull() & df['Compass Campaign Name'].str.contains('close the gap', case=False)][['Request ID','Previous Request ID','Prior Deal ID','Deal ID','Compass Campaign Name']]"
   ]
  },
  {
   "cell_type": "code",
   "execution_count": 199,
   "metadata": {},
   "outputs": [],
   "source": [
    "df['Entity_to_hash'] = pd.NA"
   ]
  },
  {
   "cell_type": "code",
   "execution_count": 200,
   "metadata": {},
   "outputs": [],
   "source": [
    "def is_this_a_targeting_campaign(compass_campaign_name):\n",
    "    if pd.isnull(compass_campaign_name):\n",
    "        return False\n",
    "    else:\n",
    "        compass_campaign_name = str(compass_campaign_name)\n",
    "    \n",
    "    if 'major' in compass_campaign_name.lower():\n",
    "        return True\n",
    "    elif 'sspt' in compass_campaign_name.lower():\n",
    "        return True\n",
    "    elif 'solution' in compass_campaign_name.lower():\n",
    "        return True\n",
    "    elif 'success' in compass_campaign_name.lower():\n",
    "        return True\n",
    "    elif 'st target' in compass_campaign_name.lower():\n",
    "        return True\n",
    "    elif 'ctu' in compass_campaign_name.lower():\n",
    "        return True\n",
    "    elif 'bcs' in compass_campaign_name.lower():\n",
    "        return True\n",
    "    elif 'partner' in compass_campaign_name.lower():\n",
    "        return False\n",
    "    else:\n",
    "        return False"
   ]
  },
  {
   "cell_type": "code",
   "execution_count": 201,
   "metadata": {},
   "outputs": [],
   "source": [
    "df['is_Targeting_Campaign'] = df['Campaign'].apply(is_this_a_targeting_campaign)"
   ]
  },
  {
   "cell_type": "code",
   "execution_count": 202,
   "metadata": {},
   "outputs": [],
   "source": [
    "def set_targeting_campaign_type(compass_campaign_name):\n",
    "    compass_campaign_name = str(compass_campaign_name)\n",
    "    \n",
    "    if 'major' in compass_campaign_name.lower():\n",
    "        return \"MAJORS\"\n",
    "    elif 'sspt' in compass_campaign_name.lower():\n",
    "        return \"SSPT\"\n",
    "    elif 'solution' in compass_campaign_name.lower():\n",
    "        return \"SSPT\"\n",
    "    elif 'success' in compass_campaign_name.lower():\n",
    "        return \"SUCCESSTRACKS\"\n",
    "    elif 'st target' in compass_campaign_name.lower():\n",
    "        return \"SUCCESSTRACKS\"\n",
    "    elif 'ctu' in compass_campaign_name.lower():\n",
    "        return \"SNTC\"\n",
    "    elif 'bcs' in compass_campaign_name.lower():\n",
    "        return \"BCS\"\n",
    "    elif 'partner' in compass_campaign_name.lower():\n",
    "        return 'PARTNER'\n",
    "    else:\n",
    "        return \"NON-TARGETING\""
   ]
  },
  {
   "cell_type": "code",
   "execution_count": 203,
   "metadata": {},
   "outputs": [],
   "source": [
    "df['Targeting Campaign Type'] = df['Campaign'].apply(set_targeting_campaign_type)"
   ]
  },
  {
   "cell_type": "code",
   "execution_count": null,
   "metadata": {},
   "outputs": [],
   "source": []
  },
  {
   "cell_type": "code",
   "execution_count": null,
   "metadata": {},
   "outputs": [],
   "source": []
  },
  {
   "cell_type": "code",
   "execution_count": 204,
   "metadata": {},
   "outputs": [],
   "source": [
    "# def set_record_type(previous_request_id):\n",
    "#     if not pd.isnull(previous_request_id):\n",
    "#         return 'Refreshed'\n",
    "#     else:\n",
    "#         return 'Original'"
   ]
  },
  {
   "cell_type": "code",
   "execution_count": 205,
   "metadata": {},
   "outputs": [],
   "source": [
    "# df['Record Type'] = df['Previous Request ID'].apply(set_record_type)"
   ]
  },
  {
   "cell_type": "code",
   "execution_count": null,
   "metadata": {},
   "outputs": [],
   "source": []
  },
  {
   "cell_type": "markdown",
   "metadata": {},
   "source": [
    "### We are Hashing the Company ID, the Compass Advisor, the Readout_Date/Scheduled, and the Items Recommended"
   ]
  },
  {
   "cell_type": "code",
   "execution_count": 206,
   "metadata": {},
   "outputs": [],
   "source": [
    "df.loc[(df['Items Recommended'].notnull()) | ((df['Readout Delivery Status'].notnull()) & (~df['Readout Delivery Status'].isin(['Declined','Postponed']))) & (df['Compass Advisor'].notnull()),'Entity_to_hash'] = \\\n",
    "df.loc[(df['Items Recommended'].notnull()) | ((df['Readout Delivery Status'].notnull()) & (~df['Readout Delivery Status'].isin(['Declined','Postponed']))) & (df['Compass Advisor'].notnull())].apply(lambda x: make_hash_entity(x['Prehash_Entity'], x['Compass Advisor'], x['Readout_Date'], x['Items Recommended']), axis=1)"
   ]
  },
  {
   "cell_type": "code",
   "execution_count": 207,
   "metadata": {},
   "outputs": [],
   "source": [
    "def hash_the_readout(entity_to_hash):\n",
    "    #if pd.isnull(entity_to_hash):  #or entity_to_hash == 'NA'\n",
    "    if not entity_to_hash:\n",
    "        return pd.NA\n",
    "    else:\n",
    "        entity_to_hash = entity_to_hash.encode()\n",
    "        hashed = hashlib.md5(entity_to_hash)\n",
    "        hashed = str(hashed.hexdigest())\n",
    "        return hashed"
   ]
  },
  {
   "cell_type": "code",
   "execution_count": 208,
   "metadata": {},
   "outputs": [],
   "source": [
    "df['HashedReadout'] = pd.NA"
   ]
  },
  {
   "cell_type": "code",
   "execution_count": 209,
   "metadata": {},
   "outputs": [],
   "source": [
    "df.loc[df['Entity_to_hash'].notnull(),'HashedReadout'] = df.loc[df['Entity_to_hash'].notnull()].apply(lambda x: hash_the_readout(x['Entity_to_hash']), axis =1)"
   ]
  },
  {
   "cell_type": "code",
   "execution_count": 210,
   "metadata": {},
   "outputs": [
    {
     "data": {
      "text/html": [
       "<div>\n",
       "<style scoped>\n",
       "    .dataframe tbody tr th:only-of-type {\n",
       "        vertical-align: middle;\n",
       "    }\n",
       "\n",
       "    .dataframe tbody tr th {\n",
       "        vertical-align: top;\n",
       "    }\n",
       "\n",
       "    .dataframe thead th {\n",
       "        text-align: right;\n",
       "    }\n",
       "</style>\n",
       "<table border=\"1\" class=\"dataframe\">\n",
       "  <thead>\n",
       "    <tr style=\"text-align: right;\">\n",
       "      <th></th>\n",
       "      <th>Request ID</th>\n",
       "      <th>HashedReadout</th>\n",
       "    </tr>\n",
       "  </thead>\n",
       "  <tbody>\n",
       "    <tr>\n",
       "      <th>17</th>\n",
       "      <td>118241</td>\n",
       "      <td>7be3ff47ec1111bfdc100c6665e29afd</td>\n",
       "    </tr>\n",
       "    <tr>\n",
       "      <th>18</th>\n",
       "      <td>118242</td>\n",
       "      <td>edc895a4ef49857a52d3819bc9f96037</td>\n",
       "    </tr>\n",
       "    <tr>\n",
       "      <th>19</th>\n",
       "      <td>118243</td>\n",
       "      <td>a083f50ab9bdfe04d3b465d27c327823</td>\n",
       "    </tr>\n",
       "    <tr>\n",
       "      <th>20</th>\n",
       "      <td>118244</td>\n",
       "      <td>a298bf54f519d11b2580950e4a531f70</td>\n",
       "    </tr>\n",
       "    <tr>\n",
       "      <th>21</th>\n",
       "      <td>118245</td>\n",
       "      <td>388d6bed783c8690196a61d58e2e0dee</td>\n",
       "    </tr>\n",
       "    <tr>\n",
       "      <th>...</th>\n",
       "      <td>...</td>\n",
       "      <td>...</td>\n",
       "    </tr>\n",
       "    <tr>\n",
       "      <th>42677</th>\n",
       "      <td>113860</td>\n",
       "      <td>513d11bcecfef5ad2e4dc5863d329c02</td>\n",
       "    </tr>\n",
       "    <tr>\n",
       "      <th>42706</th>\n",
       "      <td>114160</td>\n",
       "      <td>98e500603fe4c61d41eff54f79035a7c</td>\n",
       "    </tr>\n",
       "    <tr>\n",
       "      <th>42707</th>\n",
       "      <td>114181</td>\n",
       "      <td>6b60675559937df73c031a505cf397e4</td>\n",
       "    </tr>\n",
       "    <tr>\n",
       "      <th>42714</th>\n",
       "      <td>114344</td>\n",
       "      <td>fdb760fa68df5fc351377722a95372b5</td>\n",
       "    </tr>\n",
       "    <tr>\n",
       "      <th>42715</th>\n",
       "      <td>114370</td>\n",
       "      <td>e2e0d53522b25d1947c32535c45cacf5</td>\n",
       "    </tr>\n",
       "  </tbody>\n",
       "</table>\n",
       "<p>9991 rows × 2 columns</p>\n",
       "</div>"
      ],
      "text/plain": [
       "      Request ID                     HashedReadout\n",
       "17        118241  7be3ff47ec1111bfdc100c6665e29afd\n",
       "18        118242  edc895a4ef49857a52d3819bc9f96037\n",
       "19        118243  a083f50ab9bdfe04d3b465d27c327823\n",
       "20        118244  a298bf54f519d11b2580950e4a531f70\n",
       "21        118245  388d6bed783c8690196a61d58e2e0dee\n",
       "...          ...                               ...\n",
       "42677     113860  513d11bcecfef5ad2e4dc5863d329c02\n",
       "42706     114160  98e500603fe4c61d41eff54f79035a7c\n",
       "42707     114181  6b60675559937df73c031a505cf397e4\n",
       "42714     114344  fdb760fa68df5fc351377722a95372b5\n",
       "42715     114370  e2e0d53522b25d1947c32535c45cacf5\n",
       "\n",
       "[9991 rows x 2 columns]"
      ]
     },
     "execution_count": 210,
     "metadata": {},
     "output_type": "execute_result"
    }
   ],
   "source": [
    "df.loc[df['Entity_to_hash'].notnull()][['Request ID','HashedReadout']]"
   ]
  },
  {
   "cell_type": "code",
   "execution_count": 211,
   "metadata": {},
   "outputs": [
    {
     "data": {
      "text/html": [
       "<div>\n",
       "<style scoped>\n",
       "    .dataframe tbody tr th:only-of-type {\n",
       "        vertical-align: middle;\n",
       "    }\n",
       "\n",
       "    .dataframe tbody tr th {\n",
       "        vertical-align: top;\n",
       "    }\n",
       "\n",
       "    .dataframe thead th {\n",
       "        text-align: right;\n",
       "    }\n",
       "</style>\n",
       "<table border=\"1\" class=\"dataframe\">\n",
       "  <thead>\n",
       "    <tr style=\"text-align: right;\">\n",
       "      <th></th>\n",
       "      <th>Request ID</th>\n",
       "      <th>Create Date</th>\n",
       "      <th>Customer Name</th>\n",
       "      <th>GUID</th>\n",
       "      <th>Partner Name</th>\n",
       "      <th>Prehash_Entity</th>\n",
       "      <th>Compass Advisor</th>\n",
       "      <th>Readout_Date</th>\n",
       "      <th>Readout Delivery Status</th>\n",
       "      <th>Items Recommended</th>\n",
       "      <th>Entity_to_hash</th>\n",
       "      <th>HashedReadout</th>\n",
       "    </tr>\n",
       "  </thead>\n",
       "  <tbody>\n",
       "    <tr>\n",
       "      <th>33401</th>\n",
       "      <td>115450</td>\n",
       "      <td>2022-03-08 19:33:56.340</td>\n",
       "      <td>GLENCORE</td>\n",
       "      <td>2153907</td>\n",
       "      <td>None</td>\n",
       "      <td>GL2153907</td>\n",
       "      <td>Camila Bernal</td>\n",
       "      <td>2022-04-07</td>\n",
       "      <td>NaN</td>\n",
       "      <td>BCS,EC-HTOM,EC-KT,SNTC,SSPT,ST</td>\n",
       "      <td>GL2153907_CAMILA BERNAL_2022-04-07 00:00:00_BC...</td>\n",
       "      <td>d61c5d9d00b14e9d72a1f2e1d7deeca0</td>\n",
       "    </tr>\n",
       "    <tr>\n",
       "      <th>34552</th>\n",
       "      <td>116485</td>\n",
       "      <td>2022-03-31 20:16:45.565</td>\n",
       "      <td>SEGRA</td>\n",
       "      <td>329372341</td>\n",
       "      <td>None</td>\n",
       "      <td>SE329372341</td>\n",
       "      <td>Term</td>\n",
       "      <td>2022-04-12</td>\n",
       "      <td>NaN</td>\n",
       "      <td>BCS,EC-HTOM,PR,SNTC,SSPT,ST,SW/E-P</td>\n",
       "      <td>SE329372341_TERM_2022-04-12 00:00:00_BCS,EC-HT...</td>\n",
       "      <td>1a3a9bba3838277ee0dc9737f87e91e3</td>\n",
       "    </tr>\n",
       "    <tr>\n",
       "      <th>40154</th>\n",
       "      <td>111982</td>\n",
       "      <td>2022-02-08 15:26:57.003</td>\n",
       "      <td>CIGNA</td>\n",
       "      <td>21214</td>\n",
       "      <td>None</td>\n",
       "      <td>CI21214</td>\n",
       "      <td>Mark Vodka</td>\n",
       "      <td>NaT</td>\n",
       "      <td>Complete</td>\n",
       "      <td>BCS,DNA,EC-AM,EC-HTOM,EC-KT,IRR,PR,SNTC,SSPT,ST</td>\n",
       "      <td>CI21214_MARK VODKA_NaT_BCS,DNA,EC-AM,EC-HTOM,E...</td>\n",
       "      <td>e3380c98eeb76ee124db34ba5eb36548</td>\n",
       "    </tr>\n",
       "    <tr>\n",
       "      <th>41671</th>\n",
       "      <td>112578</td>\n",
       "      <td>2022-02-16 18:34:29.416</td>\n",
       "      <td>AMX BR EMBRATEL</td>\n",
       "      <td>4521256,167381571,255262967,6833358,3920922,79...</td>\n",
       "      <td>None</td>\n",
       "      <td>AM4521256</td>\n",
       "      <td>Term</td>\n",
       "      <td>2022-04-11</td>\n",
       "      <td>NaN</td>\n",
       "      <td>SNTC,SSPT,ST,BCS,EC-HTOM</td>\n",
       "      <td>AM4521256_TERM_2022-04-11 00:00:00_SNTC,SSPT,S...</td>\n",
       "      <td>548a83cdd2b059a7794007ed35b10637</td>\n",
       "    </tr>\n",
       "  </tbody>\n",
       "</table>\n",
       "</div>"
      ],
      "text/plain": [
       "      Request ID             Create Date    Customer Name  \\\n",
       "33401     115450 2022-03-08 19:33:56.340         GLENCORE   \n",
       "34552     116485 2022-03-31 20:16:45.565            SEGRA   \n",
       "40154     111982 2022-02-08 15:26:57.003            CIGNA   \n",
       "41671     112578 2022-02-16 18:34:29.416  AMX BR EMBRATEL   \n",
       "\n",
       "                                                    GUID Partner Name  \\\n",
       "33401                                            2153907         None   \n",
       "34552                                          329372341         None   \n",
       "40154                                              21214         None   \n",
       "41671  4521256,167381571,255262967,6833358,3920922,79...         None   \n",
       "\n",
       "      Prehash_Entity Compass Advisor Readout_Date Readout Delivery Status  \\\n",
       "33401      GL2153907   Camila Bernal   2022-04-07                     NaN   \n",
       "34552    SE329372341            Term   2022-04-12                     NaN   \n",
       "40154        CI21214      Mark Vodka          NaT                Complete   \n",
       "41671      AM4521256            Term   2022-04-11                     NaN   \n",
       "\n",
       "                                     Items Recommended  \\\n",
       "33401                   BCS,EC-HTOM,EC-KT,SNTC,SSPT,ST   \n",
       "34552               BCS,EC-HTOM,PR,SNTC,SSPT,ST,SW/E-P   \n",
       "40154  BCS,DNA,EC-AM,EC-HTOM,EC-KT,IRR,PR,SNTC,SSPT,ST   \n",
       "41671                         SNTC,SSPT,ST,BCS,EC-HTOM   \n",
       "\n",
       "                                          Entity_to_hash  \\\n",
       "33401  GL2153907_CAMILA BERNAL_2022-04-07 00:00:00_BC...   \n",
       "34552  SE329372341_TERM_2022-04-12 00:00:00_BCS,EC-HT...   \n",
       "40154  CI21214_MARK VODKA_NaT_BCS,DNA,EC-AM,EC-HTOM,E...   \n",
       "41671  AM4521256_TERM_2022-04-11 00:00:00_SNTC,SSPT,S...   \n",
       "\n",
       "                          HashedReadout  \n",
       "33401  d61c5d9d00b14e9d72a1f2e1d7deeca0  \n",
       "34552  1a3a9bba3838277ee0dc9737f87e91e3  \n",
       "40154  e3380c98eeb76ee124db34ba5eb36548  \n",
       "41671  548a83cdd2b059a7794007ed35b10637  "
      ]
     },
     "execution_count": 211,
     "metadata": {},
     "output_type": "execute_result"
    }
   ],
   "source": [
    "### Checking for Incomplete Readout Records\n",
    "\n",
    "df.loc[df['Entity_to_hash'].notnull() & (df['Items Recommended'].notnull() & (df['Readout Delivery Status'].isnull() | df['Readout_Date'].isnull()))]\\\n",
    "[['Request ID','Create Date','Customer Name','GUID','Partner Name','Prehash_Entity','Compass Advisor','Readout_Date','Readout Delivery Status','Items Recommended','Entity_to_hash','HashedReadout']]"
   ]
  },
  {
   "cell_type": "code",
   "execution_count": 212,
   "metadata": {},
   "outputs": [],
   "source": [
    "# prehash_check = df.loc[(df['Prehash_Entity'].notnull()) & (df['RR (internal)']=='YES') & (df['Campaign Type']=='PROACTIVE') & (df['Lvl1']=='EMEAR-REGION') & (df['Request FY']=='2021')].groupby(['Prehash_Entity','HashedReadout'])[['Request ID']].nunique()"
   ]
  },
  {
   "cell_type": "code",
   "execution_count": 213,
   "metadata": {},
   "outputs": [],
   "source": [
    "# prehash_check.reset_index(inplace=True)"
   ]
  },
  {
   "cell_type": "code",
   "execution_count": 214,
   "metadata": {},
   "outputs": [],
   "source": [
    "# prehash_check"
   ]
  },
  {
   "cell_type": "code",
   "execution_count": 215,
   "metadata": {},
   "outputs": [],
   "source": [
    "# prehash_check.to_excel(r'C:\\Users\\phsheari\\Desktop\\CheckData.xlsx', index=False)"
   ]
  },
  {
   "cell_type": "code",
   "execution_count": 216,
   "metadata": {},
   "outputs": [
    {
     "data": {
      "text/html": [
       "<div>\n",
       "<style scoped>\n",
       "    .dataframe tbody tr th:only-of-type {\n",
       "        vertical-align: middle;\n",
       "    }\n",
       "\n",
       "    .dataframe tbody tr th {\n",
       "        vertical-align: top;\n",
       "    }\n",
       "\n",
       "    .dataframe thead th {\n",
       "        text-align: right;\n",
       "    }\n",
       "</style>\n",
       "<table border=\"1\" class=\"dataframe\">\n",
       "  <thead>\n",
       "    <tr style=\"text-align: right;\">\n",
       "      <th></th>\n",
       "      <th>Request ID</th>\n",
       "      <th>Customer Name</th>\n",
       "      <th>Entity_to_hash</th>\n",
       "      <th>HashedReadout</th>\n",
       "      <th>Compass Advisor</th>\n",
       "      <th>Readout_Date</th>\n",
       "      <th>Readout Delivery Status</th>\n",
       "      <th>Items Recommended</th>\n",
       "      <th>Campaign Type</th>\n",
       "      <th>RR_INTERNAL</th>\n",
       "    </tr>\n",
       "  </thead>\n",
       "  <tbody>\n",
       "    <tr>\n",
       "      <th>17</th>\n",
       "      <td>118241</td>\n",
       "      <td>GRANT COUNTY PUD</td>\n",
       "      <td>GR2638914_MARK VODKA_2022-04-15 00:00:00_BCS,B...</td>\n",
       "      <td>7be3ff47ec1111bfdc100c6665e29afd</td>\n",
       "      <td>Mark Vodka</td>\n",
       "      <td>2022-04-15</td>\n",
       "      <td>Complete</td>\n",
       "      <td>BCS,BRW,DNA,EC-AM,IRR,PR,SNTC,SSPT,ST</td>\n",
       "      <td>FIELD</td>\n",
       "      <td>YES</td>\n",
       "    </tr>\n",
       "    <tr>\n",
       "      <th>18</th>\n",
       "      <td>118242</td>\n",
       "      <td>ALLY_FINANCIAL</td>\n",
       "      <td>AL15550_SANGEETHA SAMPATH_2022-04-12 00:00:00_...</td>\n",
       "      <td>edc895a4ef49857a52d3819bc9f96037</td>\n",
       "      <td>Sangeetha Sampath</td>\n",
       "      <td>2022-04-12</td>\n",
       "      <td>Complete</td>\n",
       "      <td>BCS,BRW,DNA,EC-HTOM,EC-KT,IRR,SNTC,SSPT,ST</td>\n",
       "      <td>FIELD</td>\n",
       "      <td>YES</td>\n",
       "    </tr>\n",
       "    <tr>\n",
       "      <th>19</th>\n",
       "      <td>118243</td>\n",
       "      <td>DTE ENERGY CO</td>\n",
       "      <td>DT186775_SANGEETHA SAMPATH_2022-04-12 00:00:00...</td>\n",
       "      <td>a083f50ab9bdfe04d3b465d27c327823</td>\n",
       "      <td>Sangeetha Sampath</td>\n",
       "      <td>2022-04-12</td>\n",
       "      <td>Complete</td>\n",
       "      <td>BCS,BRW,DNA,EC-HTOM,EC-KT,IRR,SNTC,SSPT,ST</td>\n",
       "      <td>FIELD</td>\n",
       "      <td>YES</td>\n",
       "    </tr>\n",
       "    <tr>\n",
       "      <th>20</th>\n",
       "      <td>118244</td>\n",
       "      <td>EATON</td>\n",
       "      <td>EA210864776_SANGEETHA SAMPATH_2022-04-12 00:00...</td>\n",
       "      <td>a298bf54f519d11b2580950e4a531f70</td>\n",
       "      <td>Sangeetha Sampath</td>\n",
       "      <td>2022-04-12</td>\n",
       "      <td>Complete</td>\n",
       "      <td>BCS,BRW,DNA,EC-HTOM,EC-KT,IRR,SNTC,SSPT,ST</td>\n",
       "      <td>FIELD</td>\n",
       "      <td>YES</td>\n",
       "    </tr>\n",
       "    <tr>\n",
       "      <th>21</th>\n",
       "      <td>118245</td>\n",
       "      <td>GOODYEAR</td>\n",
       "      <td>GO12656_SANGEETHA SAMPATH_2022-04-12 00:00:00_...</td>\n",
       "      <td>388d6bed783c8690196a61d58e2e0dee</td>\n",
       "      <td>Sangeetha Sampath</td>\n",
       "      <td>2022-04-12</td>\n",
       "      <td>Complete</td>\n",
       "      <td>BCS,BRW,DNA,EC-HTOM,EC-KT,IRR,SNTC,SSPT,ST</td>\n",
       "      <td>FIELD</td>\n",
       "      <td>YES</td>\n",
       "    </tr>\n",
       "    <tr>\n",
       "      <th>...</th>\n",
       "      <td>...</td>\n",
       "      <td>...</td>\n",
       "      <td>...</td>\n",
       "      <td>...</td>\n",
       "      <td>...</td>\n",
       "      <td>...</td>\n",
       "      <td>...</td>\n",
       "      <td>...</td>\n",
       "      <td>...</td>\n",
       "      <td>...</td>\n",
       "    </tr>\n",
       "    <tr>\n",
       "      <th>42677</th>\n",
       "      <td>113860</td>\n",
       "      <td>LIBERTY HOME CARE LLC</td>\n",
       "      <td>LI4480252_SARA VILLAMARIN_2022-04-11 00:00:00_...</td>\n",
       "      <td>513d11bcecfef5ad2e4dc5863d329c02</td>\n",
       "      <td>Sara Villamarin</td>\n",
       "      <td>2022-04-11</td>\n",
       "      <td>Emailed Recommendations</td>\n",
       "      <td>BCS,EC-KT,IRR,PR,SNTC,SSPT,ST</td>\n",
       "      <td>COVERAGE PROGRAM</td>\n",
       "      <td>YES</td>\n",
       "    </tr>\n",
       "    <tr>\n",
       "      <th>42706</th>\n",
       "      <td>114160</td>\n",
       "      <td>ROCHESTER GENERAL HEALTH SYSTEM</td>\n",
       "      <td>RO24066_SARA VILLAMARIN_2022-04-11 00:00:00_BC...</td>\n",
       "      <td>98e500603fe4c61d41eff54f79035a7c</td>\n",
       "      <td>Sara Villamarin</td>\n",
       "      <td>2022-04-11</td>\n",
       "      <td>Emailed Recommendations</td>\n",
       "      <td>BCS,DNA,EC-AM,EC-KT,IRR,PR,SNTC,SSPT,ST</td>\n",
       "      <td>COVERAGE PROGRAM</td>\n",
       "      <td>YES</td>\n",
       "    </tr>\n",
       "    <tr>\n",
       "      <th>42707</th>\n",
       "      <td>114181</td>\n",
       "      <td>SAVINGS BANK LIFE INSURANCE OF MASSACHUSETTS</td>\n",
       "      <td>SA6297067_SARA VILLAMARIN_2022-04-11 00:00:00_...</td>\n",
       "      <td>6b60675559937df73c031a505cf397e4</td>\n",
       "      <td>Sara Villamarin</td>\n",
       "      <td>2022-04-11</td>\n",
       "      <td>Emailed Recommendations</td>\n",
       "      <td>BCS,PR,SNTC,SSPT</td>\n",
       "      <td>COVERAGE PROGRAM</td>\n",
       "      <td>YES</td>\n",
       "    </tr>\n",
       "    <tr>\n",
       "      <th>42714</th>\n",
       "      <td>114344</td>\n",
       "      <td>UNITED RENTALS</td>\n",
       "      <td>UN3098248_SARA VILLAMARIN_2022-04-11 00:00:00_...</td>\n",
       "      <td>fdb760fa68df5fc351377722a95372b5</td>\n",
       "      <td>Sara Villamarin</td>\n",
       "      <td>2022-04-11</td>\n",
       "      <td>Emailed Recommendations</td>\n",
       "      <td>BCS,DNA,EC-AM,EC-HTOM,EC-KT,IRR,PR,SNTC,SSPT,ST</td>\n",
       "      <td>COVERAGE PROGRAM</td>\n",
       "      <td>YES</td>\n",
       "    </tr>\n",
       "    <tr>\n",
       "      <th>42715</th>\n",
       "      <td>114370</td>\n",
       "      <td>VERSAR INC</td>\n",
       "      <td>VE2644050_SARA VILLAMARIN_2022-04-11 00:00:00_...</td>\n",
       "      <td>e2e0d53522b25d1947c32535c45cacf5</td>\n",
       "      <td>Sara Villamarin</td>\n",
       "      <td>2022-04-11</td>\n",
       "      <td>Emailed Recommendations</td>\n",
       "      <td>BCS,DNA,IRR,SNTC,SSPT,ST</td>\n",
       "      <td>COVERAGE PROGRAM</td>\n",
       "      <td>YES</td>\n",
       "    </tr>\n",
       "  </tbody>\n",
       "</table>\n",
       "<p>9991 rows × 10 columns</p>\n",
       "</div>"
      ],
      "text/plain": [
       "      Request ID                                 Customer Name  \\\n",
       "17        118241                              GRANT COUNTY PUD   \n",
       "18        118242                                ALLY_FINANCIAL   \n",
       "19        118243                                 DTE ENERGY CO   \n",
       "20        118244                                         EATON   \n",
       "21        118245                                      GOODYEAR   \n",
       "...          ...                                           ...   \n",
       "42677     113860                         LIBERTY HOME CARE LLC   \n",
       "42706     114160               ROCHESTER GENERAL HEALTH SYSTEM   \n",
       "42707     114181  SAVINGS BANK LIFE INSURANCE OF MASSACHUSETTS   \n",
       "42714     114344                                UNITED RENTALS   \n",
       "42715     114370                                    VERSAR INC   \n",
       "\n",
       "                                          Entity_to_hash  \\\n",
       "17     GR2638914_MARK VODKA_2022-04-15 00:00:00_BCS,B...   \n",
       "18     AL15550_SANGEETHA SAMPATH_2022-04-12 00:00:00_...   \n",
       "19     DT186775_SANGEETHA SAMPATH_2022-04-12 00:00:00...   \n",
       "20     EA210864776_SANGEETHA SAMPATH_2022-04-12 00:00...   \n",
       "21     GO12656_SANGEETHA SAMPATH_2022-04-12 00:00:00_...   \n",
       "...                                                  ...   \n",
       "42677  LI4480252_SARA VILLAMARIN_2022-04-11 00:00:00_...   \n",
       "42706  RO24066_SARA VILLAMARIN_2022-04-11 00:00:00_BC...   \n",
       "42707  SA6297067_SARA VILLAMARIN_2022-04-11 00:00:00_...   \n",
       "42714  UN3098248_SARA VILLAMARIN_2022-04-11 00:00:00_...   \n",
       "42715  VE2644050_SARA VILLAMARIN_2022-04-11 00:00:00_...   \n",
       "\n",
       "                          HashedReadout    Compass Advisor Readout_Date  \\\n",
       "17     7be3ff47ec1111bfdc100c6665e29afd         Mark Vodka   2022-04-15   \n",
       "18     edc895a4ef49857a52d3819bc9f96037  Sangeetha Sampath   2022-04-12   \n",
       "19     a083f50ab9bdfe04d3b465d27c327823  Sangeetha Sampath   2022-04-12   \n",
       "20     a298bf54f519d11b2580950e4a531f70  Sangeetha Sampath   2022-04-12   \n",
       "21     388d6bed783c8690196a61d58e2e0dee  Sangeetha Sampath   2022-04-12   \n",
       "...                                 ...                ...          ...   \n",
       "42677  513d11bcecfef5ad2e4dc5863d329c02    Sara Villamarin   2022-04-11   \n",
       "42706  98e500603fe4c61d41eff54f79035a7c    Sara Villamarin   2022-04-11   \n",
       "42707  6b60675559937df73c031a505cf397e4    Sara Villamarin   2022-04-11   \n",
       "42714  fdb760fa68df5fc351377722a95372b5    Sara Villamarin   2022-04-11   \n",
       "42715  e2e0d53522b25d1947c32535c45cacf5    Sara Villamarin   2022-04-11   \n",
       "\n",
       "       Readout Delivery Status  \\\n",
       "17                    Complete   \n",
       "18                    Complete   \n",
       "19                    Complete   \n",
       "20                    Complete   \n",
       "21                    Complete   \n",
       "...                        ...   \n",
       "42677  Emailed Recommendations   \n",
       "42706  Emailed Recommendations   \n",
       "42707  Emailed Recommendations   \n",
       "42714  Emailed Recommendations   \n",
       "42715  Emailed Recommendations   \n",
       "\n",
       "                                     Items Recommended     Campaign Type  \\\n",
       "17               BCS,BRW,DNA,EC-AM,IRR,PR,SNTC,SSPT,ST             FIELD   \n",
       "18          BCS,BRW,DNA,EC-HTOM,EC-KT,IRR,SNTC,SSPT,ST             FIELD   \n",
       "19          BCS,BRW,DNA,EC-HTOM,EC-KT,IRR,SNTC,SSPT,ST             FIELD   \n",
       "20          BCS,BRW,DNA,EC-HTOM,EC-KT,IRR,SNTC,SSPT,ST             FIELD   \n",
       "21          BCS,BRW,DNA,EC-HTOM,EC-KT,IRR,SNTC,SSPT,ST             FIELD   \n",
       "...                                                ...               ...   \n",
       "42677                    BCS,EC-KT,IRR,PR,SNTC,SSPT,ST  COVERAGE PROGRAM   \n",
       "42706          BCS,DNA,EC-AM,EC-KT,IRR,PR,SNTC,SSPT,ST  COVERAGE PROGRAM   \n",
       "42707                                 BCS,PR,SNTC,SSPT  COVERAGE PROGRAM   \n",
       "42714  BCS,DNA,EC-AM,EC-HTOM,EC-KT,IRR,PR,SNTC,SSPT,ST  COVERAGE PROGRAM   \n",
       "42715                         BCS,DNA,IRR,SNTC,SSPT,ST  COVERAGE PROGRAM   \n",
       "\n",
       "      RR_INTERNAL  \n",
       "17            YES  \n",
       "18            YES  \n",
       "19            YES  \n",
       "20            YES  \n",
       "21            YES  \n",
       "...           ...  \n",
       "42677         YES  \n",
       "42706         YES  \n",
       "42707         YES  \n",
       "42714         YES  \n",
       "42715         YES  \n",
       "\n",
       "[9991 rows x 10 columns]"
      ]
     },
     "execution_count": 216,
     "metadata": {},
     "output_type": "execute_result"
    }
   ],
   "source": [
    "df.loc[df['HashedReadout'].notnull()][['Request ID','Customer Name','Entity_to_hash','HashedReadout','Compass Advisor','Readout_Date','Readout Delivery Status','Items Recommended','Campaign Type','RR_INTERNAL']]"
   ]
  },
  {
   "cell_type": "code",
   "execution_count": 217,
   "metadata": {},
   "outputs": [],
   "source": [
    "df['Partner Deal'] = df['Deal ID'].apply(lambda x: 'TRUE' if x == -44444 else 'FALSE')"
   ]
  },
  {
   "cell_type": "code",
   "execution_count": 218,
   "metadata": {},
   "outputs": [
    {
     "data": {
      "text/html": [
       "<div>\n",
       "<style scoped>\n",
       "    .dataframe tbody tr th:only-of-type {\n",
       "        vertical-align: middle;\n",
       "    }\n",
       "\n",
       "    .dataframe tbody tr th {\n",
       "        vertical-align: top;\n",
       "    }\n",
       "\n",
       "    .dataframe thead th {\n",
       "        text-align: right;\n",
       "    }\n",
       "</style>\n",
       "<table border=\"1\" class=\"dataframe\">\n",
       "  <thead>\n",
       "    <tr style=\"text-align: right;\">\n",
       "      <th></th>\n",
       "      <th>Customer Name</th>\n",
       "      <th>Deal ID</th>\n",
       "      <th>Partner Deal</th>\n",
       "      <th>Partner Name</th>\n",
       "    </tr>\n",
       "  </thead>\n",
       "  <tbody>\n",
       "    <tr>\n",
       "      <th>0</th>\n",
       "      <td>ADOBE SYSTEMS INC RPORATED</td>\n",
       "      <td>44316883</td>\n",
       "      <td>FALSE</td>\n",
       "      <td>None</td>\n",
       "    </tr>\n",
       "    <tr>\n",
       "      <th>1</th>\n",
       "      <td>DILLARD'S INC</td>\n",
       "      <td>44350905</td>\n",
       "      <td>FALSE</td>\n",
       "      <td>None</td>\n",
       "    </tr>\n",
       "    <tr>\n",
       "      <th>2</th>\n",
       "      <td>NEIMAN MARCUS GROUP INC THE</td>\n",
       "      <td>44538683</td>\n",
       "      <td>FALSE</td>\n",
       "      <td>None</td>\n",
       "    </tr>\n",
       "    <tr>\n",
       "      <th>3</th>\n",
       "      <td>ARCTIC SLOPE REGIONAL CORP.</td>\n",
       "      <td>44364041</td>\n",
       "      <td>FALSE</td>\n",
       "      <td>None</td>\n",
       "    </tr>\n",
       "    <tr>\n",
       "      <th>4</th>\n",
       "      <td>ILLUMINA INC</td>\n",
       "      <td>44361487</td>\n",
       "      <td>FALSE</td>\n",
       "      <td>None</td>\n",
       "    </tr>\n",
       "    <tr>\n",
       "      <th>...</th>\n",
       "      <td>...</td>\n",
       "      <td>...</td>\n",
       "      <td>...</td>\n",
       "      <td>...</td>\n",
       "    </tr>\n",
       "    <tr>\n",
       "      <th>42712</th>\n",
       "      <td>TROY CORPORATION</td>\n",
       "      <td>NaN</td>\n",
       "      <td>FALSE</td>\n",
       "      <td>None</td>\n",
       "    </tr>\n",
       "    <tr>\n",
       "      <th>42713</th>\n",
       "      <td>VALPAK</td>\n",
       "      <td>NaN</td>\n",
       "      <td>FALSE</td>\n",
       "      <td>None</td>\n",
       "    </tr>\n",
       "    <tr>\n",
       "      <th>42714</th>\n",
       "      <td>UNITED RENTALS</td>\n",
       "      <td>NaN</td>\n",
       "      <td>FALSE</td>\n",
       "      <td>None</td>\n",
       "    </tr>\n",
       "    <tr>\n",
       "      <th>42715</th>\n",
       "      <td>VERSAR INC</td>\n",
       "      <td>NaN</td>\n",
       "      <td>FALSE</td>\n",
       "      <td>None</td>\n",
       "    </tr>\n",
       "    <tr>\n",
       "      <th>42716</th>\n",
       "      <td>VT SYSTEMS</td>\n",
       "      <td>NaN</td>\n",
       "      <td>FALSE</td>\n",
       "      <td>None</td>\n",
       "    </tr>\n",
       "  </tbody>\n",
       "</table>\n",
       "<p>42649 rows × 4 columns</p>\n",
       "</div>"
      ],
      "text/plain": [
       "                     Customer Name   Deal ID Partner Deal Partner Name\n",
       "0       ADOBE SYSTEMS INC RPORATED  44316883        FALSE         None\n",
       "1                    DILLARD'S INC  44350905        FALSE         None\n",
       "2      NEIMAN MARCUS GROUP INC THE  44538683        FALSE         None\n",
       "3      ARCTIC SLOPE REGIONAL CORP.  44364041        FALSE         None\n",
       "4                     ILLUMINA INC  44361487        FALSE         None\n",
       "...                            ...       ...          ...          ...\n",
       "42712             TROY CORPORATION       NaN        FALSE         None\n",
       "42713                       VALPAK       NaN        FALSE         None\n",
       "42714               UNITED RENTALS       NaN        FALSE         None\n",
       "42715                   VERSAR INC       NaN        FALSE         None\n",
       "42716                   VT SYSTEMS       NaN        FALSE         None\n",
       "\n",
       "[42649 rows x 4 columns]"
      ]
     },
     "execution_count": 218,
     "metadata": {},
     "output_type": "execute_result"
    }
   ],
   "source": [
    "df.loc[df['Deal ID']!=-44444,['Customer Name','Deal ID','Partner Deal','Partner Name']]"
   ]
  },
  {
   "cell_type": "markdown",
   "metadata": {},
   "source": [
    "# Setup Compass Advisors, Concierge Advisors, Offer Creators (LPM+) standardized names, Vendors, & Reporting Groups"
   ]
  },
  {
   "cell_type": "code",
   "execution_count": 219,
   "metadata": {},
   "outputs": [],
   "source": [
    "### Run through the BDM field as if it were GUIDs, replacing \"/\" with \",\" as separators, then expanding lists; \n",
    "###   ...replacing emails with Proper Names, then feeding proper Names as lookups to return the Report Group field values. \n",
    "###  ... Accounting for older, pre-2021 values will have to be added to the roll-up list"
   ]
  },
  {
   "cell_type": "code",
   "execution_count": 220,
   "metadata": {},
   "outputs": [],
   "source": [
    "advisor_path = r'C:\\Users\\phsheari\\Documents\\Compass Advisors\\Advisor Email Translation.xlsx'\n",
    "advisors_df = pd.read_excel(advisor_path)\n",
    "advisors_df['cecid'] = advisors_df['cecid'].apply(lambda x: x if pd.notnull(x) else pd.NA)\n",
    "advisors_df['email'] = advisors_df['cecid'].apply(lambda x: x + '@cisco.com' if pd.notnull(x) else pd.NA)"
   ]
  },
  {
   "cell_type": "code",
   "execution_count": 221,
   "metadata": {},
   "outputs": [],
   "source": [
    "# advisors_df.loc[advisors_df['name']=='Farha Diba']"
   ]
  },
  {
   "cell_type": "code",
   "execution_count": 222,
   "metadata": {},
   "outputs": [],
   "source": [
    "advisors = dict(zip(advisors_df['name'],advisors_df['report_group']))\n",
    "advisors_email = dict(zip(advisors_df['email'],advisors_df['report_group']))\n",
    "advisors_names = dict(zip(advisors_df['name'], advisors_df['report_group']))"
   ]
  },
  {
   "cell_type": "code",
   "execution_count": 223,
   "metadata": {},
   "outputs": [],
   "source": [
    "def get_advisor_report_group(advisor):    #\"bdm\" is the compass advisor column from the tracker\n",
    "    if pd.isnull(advisor):\n",
    "        return pd.NA\n",
    "    elif ',' in advisor or '/' in advisor:\n",
    "        advisor = advisor.lower().strip().replace('/',',').strip()\n",
    "        advisorlist = advisor.split(',')\n",
    "        advisor = advisorlist[0]\n",
    "    \n",
    "    if advisor.lower().endswith('@cisco.com'):\n",
    "        return advisors_email.get(advisor, 'Other')\n",
    "    else:\n",
    "        return advisors.get(advisor, advisors_names.get(advisor, 'Other'))    "
   ]
  },
  {
   "cell_type": "code",
   "execution_count": 224,
   "metadata": {},
   "outputs": [],
   "source": [
    "df['Report Group'] = df['Compass Advisor'].apply(get_advisor_report_group)"
   ]
  },
  {
   "cell_type": "code",
   "execution_count": 225,
   "metadata": {},
   "outputs": [
    {
     "data": {
      "text/plain": [
       "Report Group\n",
       "Atif Ahmad         3953\n",
       "Jenee St John      2504\n",
       "Other              1973\n",
       "Stacey Edwards    13469\n",
       "Name: Report Group, dtype: int64"
      ]
     },
     "execution_count": 225,
     "metadata": {},
     "output_type": "execute_result"
    }
   ],
   "source": [
    "df.groupby(df['Report Group'])['Report Group'].count()"
   ]
  },
  {
   "cell_type": "code",
   "execution_count": 226,
   "metadata": {},
   "outputs": [],
   "source": [
    "# df.groupby(['Compass Advisor','Report Group'])['Compass Advisor','Report Group'].count()"
   ]
  },
  {
   "cell_type": "code",
   "execution_count": 227,
   "metadata": {},
   "outputs": [],
   "source": [
    "# df.loc[:,df.columns.str.startswith('O')].columns      #['Projected Booking ($,000)','Target Fiscal Month', 'Target Fiscal Quarter', 'Target Fiscal Year','Opportunity Name','Forecast Stage','Forecast Status']"
   ]
  },
  {
   "cell_type": "code",
   "execution_count": 228,
   "metadata": {},
   "outputs": [],
   "source": [
    "#forecast_columns_to_drop = ['Target Fiscal Month', 'Target Fiscal Quarter', 'Target Fiscal Year','Forecast Stage','Forecast Status']  #'Projected Booking ($,000)',"
   ]
  },
  {
   "cell_type": "code",
   "execution_count": 229,
   "metadata": {},
   "outputs": [],
   "source": [
    "#df.drop(columns=forecast_columns_to_drop, inplace=True)"
   ]
  },
  {
   "cell_type": "markdown",
   "metadata": {},
   "source": [
    "# Build Salesforce Pipeline "
   ]
  },
  {
   "cell_type": "code",
   "execution_count": 230,
   "metadata": {},
   "outputs": [],
   "source": [
    "PIPELINE_COLUMNS = ['Request ID', 'Forecast Status', 'Forecast Stage','Service Source', 'Fiscal Month', 'Fiscal Quarter', 'Fiscal Year', 'Fiscal Y-Q', 'Opportunity Value',]"
   ]
  },
  {
   "cell_type": "code",
   "execution_count": 231,
   "metadata": {},
   "outputs": [],
   "source": [
    "pipeline = pd.read_excel(r'C:\\Users\\phsheari\\Documents\\Compass Tableau Data\\TrkrPipeline.xlsx', usecols=PIPELINE_COLUMNS)"
   ]
  },
  {
   "cell_type": "code",
   "execution_count": 232,
   "metadata": {},
   "outputs": [
    {
     "data": {
      "text/plain": [
       "Index(['Request ID', 'Service Source', 'Forecast Stage', 'Forecast Status',\n",
       "       'Fiscal Month', 'Fiscal Quarter', 'Fiscal Year', 'Fiscal Y-Q',\n",
       "       'Opportunity Value'],\n",
       "      dtype='object')"
      ]
     },
     "execution_count": 232,
     "metadata": {},
     "output_type": "execute_result"
    }
   ],
   "source": [
    "pipeline.columns"
   ]
  },
  {
   "cell_type": "code",
   "execution_count": 233,
   "metadata": {},
   "outputs": [],
   "source": [
    "pipeline = pipeline.loc[pipeline['Service Source']=='New'].groupby(['Request ID','Forecast Stage','Forecast Status','Fiscal Month','Fiscal Quarter','Fiscal Year'])[['Opportunity Value']].sum()"
   ]
  },
  {
   "cell_type": "code",
   "execution_count": 234,
   "metadata": {},
   "outputs": [],
   "source": [
    "pipeline.reset_index(inplace=True)"
   ]
  },
  {
   "cell_type": "code",
   "execution_count": 235,
   "metadata": {},
   "outputs": [],
   "source": [
    "pipeline['Opportunity Value'] = pipeline['Opportunity Value'].astype(float)"
   ]
  },
  {
   "cell_type": "code",
   "execution_count": 236,
   "metadata": {},
   "outputs": [],
   "source": [
    "pipeline['Request ID'] = pipeline['Request ID'].astype(str)"
   ]
  },
  {
   "cell_type": "code",
   "execution_count": null,
   "metadata": {},
   "outputs": [],
   "source": []
  },
  {
   "cell_type": "code",
   "execution_count": 237,
   "metadata": {},
   "outputs": [],
   "source": [
    "pipeline_rename_fields = {'Fiscal Month':'Target Fiscal Month','Fiscal Quarter':'Target Fiscal Quarter','Fiscal Year':'Target Fiscal Year',}"
   ]
  },
  {
   "cell_type": "code",
   "execution_count": 238,
   "metadata": {},
   "outputs": [],
   "source": [
    "pipeline.rename(columns=pipeline_rename_fields, inplace=True)"
   ]
  },
  {
   "cell_type": "code",
   "execution_count": 239,
   "metadata": {},
   "outputs": [],
   "source": [
    "replace_na_values = {'Forecast Stage':'','Forecast Status':'','Target Fiscal Month':'','Target Fiscal Quarter':'','Target Fiscal Year':'', 'Opportunity Value':0.0}"
   ]
  },
  {
   "cell_type": "code",
   "execution_count": 240,
   "metadata": {},
   "outputs": [],
   "source": [
    "df['Request ID'] = df['Request ID'].astype(str)"
   ]
  },
  {
   "cell_type": "code",
   "execution_count": 241,
   "metadata": {},
   "outputs": [],
   "source": [
    "df = df.merge(pipeline, how='left', on='Request ID')"
   ]
  },
  {
   "cell_type": "code",
   "execution_count": 242,
   "metadata": {},
   "outputs": [],
   "source": [
    "df.fillna(value=replace_na_values, inplace=True)"
   ]
  },
  {
   "cell_type": "code",
   "execution_count": 243,
   "metadata": {},
   "outputs": [],
   "source": [
    "df.rename(columns=pipeline_rename_fields, inplace=True)"
   ]
  },
  {
   "cell_type": "code",
   "execution_count": 244,
   "metadata": {},
   "outputs": [],
   "source": [
    "df.loc[df['Request ID'].isin(finbi_requests), 'Forecast Stage'] = '5 - Closed Won'\n",
    "df.loc[df['Request ID'].isin(finbi_requests), 'Forecast Status'] = 'Booked'\n",
    "df.loc[df['Request ID'].isin(finbi_requests), 'WORKING STATUS'] = 'BOOKED'"
   ]
  },
  {
   "cell_type": "code",
   "execution_count": 245,
   "metadata": {},
   "outputs": [],
   "source": [
    "df.drop(df.loc[df['Request ID']=='undefined'].index, inplace=True)"
   ]
  },
  {
   "cell_type": "code",
   "execution_count": 246,
   "metadata": {},
   "outputs": [
    {
     "data": {
      "text/plain": [
       "array(['RR_SET_NO', 'READOUT PASSED - RESULT PENDING', 'READOUT DONE',\n",
       "       'DECLINED', 'ASSIGNED', 'SCHEDULED', 'COMPASS UNDELIVERABLE',\n",
       "       'EXCEPTION_REVIEW', 'BOOKED', 'READOUT POSTPONED', 'UNASSIGNED'],\n",
       "      dtype=object)"
      ]
     },
     "execution_count": 246,
     "metadata": {},
     "output_type": "execute_result"
    }
   ],
   "source": [
    "df['WORKING STATUS'].unique()"
   ]
  },
  {
   "cell_type": "code",
   "execution_count": 247,
   "metadata": {
    "tags": []
   },
   "outputs": [
    {
     "data": {
      "text/plain": [
       "0        2022-04-19 13:32 PM Eastern\n",
       "1        2022-04-19 13:32 PM Eastern\n",
       "2        2022-04-19 13:32 PM Eastern\n",
       "3        2022-04-19 13:32 PM Eastern\n",
       "4        2022-04-19 13:32 PM Eastern\n",
       "                    ...             \n",
       "42650    2022-04-19 13:32 PM Eastern\n",
       "42651    2022-04-19 13:32 PM Eastern\n",
       "42652    2022-04-19 13:32 PM Eastern\n",
       "42653    2022-04-19 13:32 PM Eastern\n",
       "42654    2022-04-19 13:32 PM Eastern\n",
       "Name: LAST_UPDATED, Length: 42655, dtype: object"
      ]
     },
     "execution_count": 247,
     "metadata": {},
     "output_type": "execute_result"
    }
   ],
   "source": [
    "# set_as_date(df, ['Create Date','Date Completed','Readout_Date','Last Updated'])\n",
    "df['LAST_UPDATED']"
   ]
  },
  {
   "cell_type": "code",
   "execution_count": 248,
   "metadata": {},
   "outputs": [],
   "source": [
    "df.loc[:,'Create Date'] = df.loc[df['Create Date'].notnull()]['Create Date'].apply(lambda x: x.strftime('%Y-%m-%d')).apply(lambda x: dt.datetime.strptime(x, '%Y-%m-%d'))\n",
    "df.loc[df['Date Completed'].notnull(),'Date Completed'] = df.loc[df['Date Completed'].notnull()]['Date Completed'].apply(lambda x: x.strftime('%Y-%m-%d')).apply(lambda x: dt.datetime.strptime(x, '%Y-%m-%d'))\n",
    "df.loc[df['Readout_Date'].notnull(),'Readout_Date'] = df.loc[df['Readout_Date'].notnull()]['Readout_Date'].apply(lambda x: x.strftime('%Y-%m-%d')).apply(lambda x: dt.datetime.strptime(x, '%Y-%m-%d'))\n",
    "df.loc[df['Modified'].notnull(),'Modified'] = df.loc[df['Modified'].notnull()]['Modified'].apply(lambda x: x.strftime('%Y-%m-%d')).apply(lambda x: dt.datetime.strptime(x, '%Y-%m-%d'))\n",
    "#df.loc[:,'LAST_UPDATED'] = df.loc[:,'LAST_UPDATED'].apply(lambda x: x.strftime('%Y-%m-%d %H:%M %p') + ' Eastern/NYC') #.apply(lambda x: dt.datetime.strptime(x, '%Y-%m-%d %H:%M %p'))"
   ]
  },
  {
   "cell_type": "code",
   "execution_count": 249,
   "metadata": {},
   "outputs": [],
   "source": [
    "df.loc[df['Sales Level 1'] == 'APJC__','Sales Level 1'] = 'APJC'"
   ]
  },
  {
   "cell_type": "code",
   "execution_count": 250,
   "metadata": {},
   "outputs": [
    {
     "data": {
      "text/html": [
       "<div>\n",
       "<style scoped>\n",
       "    .dataframe tbody tr th:only-of-type {\n",
       "        vertical-align: middle;\n",
       "    }\n",
       "\n",
       "    .dataframe tbody tr th {\n",
       "        vertical-align: top;\n",
       "    }\n",
       "\n",
       "    .dataframe thead th {\n",
       "        text-align: right;\n",
       "    }\n",
       "</style>\n",
       "<table border=\"1\" class=\"dataframe\">\n",
       "  <thead>\n",
       "    <tr style=\"text-align: right;\">\n",
       "      <th></th>\n",
       "      <th>Request ID</th>\n",
       "      <th>Create Date</th>\n",
       "      <th>Date Completed</th>\n",
       "      <th>Readout_Date</th>\n",
       "      <th>Modified</th>\n",
       "      <th>LAST_UPDATED</th>\n",
       "    </tr>\n",
       "  </thead>\n",
       "  <tbody>\n",
       "    <tr>\n",
       "      <th>0</th>\n",
       "      <td>118405</td>\n",
       "      <td>2022-04-07</td>\n",
       "      <td>2022-04-11</td>\n",
       "      <td>NaT</td>\n",
       "      <td>2022-04-11</td>\n",
       "      <td>2022-04-19 13:32 PM Eastern</td>\n",
       "    </tr>\n",
       "    <tr>\n",
       "      <th>1</th>\n",
       "      <td>118396</td>\n",
       "      <td>2022-04-07</td>\n",
       "      <td>2022-04-11</td>\n",
       "      <td>NaT</td>\n",
       "      <td>2022-04-11</td>\n",
       "      <td>2022-04-19 13:32 PM Eastern</td>\n",
       "    </tr>\n",
       "    <tr>\n",
       "      <th>2</th>\n",
       "      <td>118397</td>\n",
       "      <td>2022-04-07</td>\n",
       "      <td>2022-04-11</td>\n",
       "      <td>NaT</td>\n",
       "      <td>2022-04-11</td>\n",
       "      <td>2022-04-19 13:32 PM Eastern</td>\n",
       "    </tr>\n",
       "    <tr>\n",
       "      <th>3</th>\n",
       "      <td>118398</td>\n",
       "      <td>2022-04-07</td>\n",
       "      <td>2022-04-11</td>\n",
       "      <td>NaT</td>\n",
       "      <td>2022-04-11</td>\n",
       "      <td>2022-04-19 13:32 PM Eastern</td>\n",
       "    </tr>\n",
       "    <tr>\n",
       "      <th>4</th>\n",
       "      <td>118399</td>\n",
       "      <td>2022-04-07</td>\n",
       "      <td>2022-04-11</td>\n",
       "      <td>NaT</td>\n",
       "      <td>2022-04-11</td>\n",
       "      <td>2022-04-19 13:32 PM Eastern</td>\n",
       "    </tr>\n",
       "    <tr>\n",
       "      <th>...</th>\n",
       "      <td>...</td>\n",
       "      <td>...</td>\n",
       "      <td>...</td>\n",
       "      <td>...</td>\n",
       "      <td>...</td>\n",
       "      <td>...</td>\n",
       "    </tr>\n",
       "    <tr>\n",
       "      <th>42650</th>\n",
       "      <td>114327</td>\n",
       "      <td>2022-03-03</td>\n",
       "      <td>2022-03-08</td>\n",
       "      <td>2022-03-30</td>\n",
       "      <td>2022-04-14</td>\n",
       "      <td>2022-04-19 13:32 PM Eastern</td>\n",
       "    </tr>\n",
       "    <tr>\n",
       "      <th>42651</th>\n",
       "      <td>114365</td>\n",
       "      <td>2022-03-03</td>\n",
       "      <td>2022-03-08</td>\n",
       "      <td>2022-03-30</td>\n",
       "      <td>2022-04-14</td>\n",
       "      <td>2022-04-19 13:32 PM Eastern</td>\n",
       "    </tr>\n",
       "    <tr>\n",
       "      <th>42652</th>\n",
       "      <td>114344</td>\n",
       "      <td>2022-03-03</td>\n",
       "      <td>2022-03-08</td>\n",
       "      <td>2022-04-11</td>\n",
       "      <td>2022-04-14</td>\n",
       "      <td>2022-04-19 13:32 PM Eastern</td>\n",
       "    </tr>\n",
       "    <tr>\n",
       "      <th>42653</th>\n",
       "      <td>114370</td>\n",
       "      <td>2022-03-03</td>\n",
       "      <td>2022-03-08</td>\n",
       "      <td>2022-04-11</td>\n",
       "      <td>2022-04-14</td>\n",
       "      <td>2022-04-19 13:32 PM Eastern</td>\n",
       "    </tr>\n",
       "    <tr>\n",
       "      <th>42654</th>\n",
       "      <td>114383</td>\n",
       "      <td>2022-03-03</td>\n",
       "      <td>2022-03-08</td>\n",
       "      <td>2022-03-29</td>\n",
       "      <td>2022-04-04</td>\n",
       "      <td>2022-04-19 13:32 PM Eastern</td>\n",
       "    </tr>\n",
       "  </tbody>\n",
       "</table>\n",
       "<p>42655 rows × 6 columns</p>\n",
       "</div>"
      ],
      "text/plain": [
       "      Request ID Create Date Date Completed Readout_Date   Modified  \\\n",
       "0         118405  2022-04-07     2022-04-11          NaT 2022-04-11   \n",
       "1         118396  2022-04-07     2022-04-11          NaT 2022-04-11   \n",
       "2         118397  2022-04-07     2022-04-11          NaT 2022-04-11   \n",
       "3         118398  2022-04-07     2022-04-11          NaT 2022-04-11   \n",
       "4         118399  2022-04-07     2022-04-11          NaT 2022-04-11   \n",
       "...          ...         ...            ...          ...        ...   \n",
       "42650     114327  2022-03-03     2022-03-08   2022-03-30 2022-04-14   \n",
       "42651     114365  2022-03-03     2022-03-08   2022-03-30 2022-04-14   \n",
       "42652     114344  2022-03-03     2022-03-08   2022-04-11 2022-04-14   \n",
       "42653     114370  2022-03-03     2022-03-08   2022-04-11 2022-04-14   \n",
       "42654     114383  2022-03-03     2022-03-08   2022-03-29 2022-04-04   \n",
       "\n",
       "                      LAST_UPDATED  \n",
       "0      2022-04-19 13:32 PM Eastern  \n",
       "1      2022-04-19 13:32 PM Eastern  \n",
       "2      2022-04-19 13:32 PM Eastern  \n",
       "3      2022-04-19 13:32 PM Eastern  \n",
       "4      2022-04-19 13:32 PM Eastern  \n",
       "...                            ...  \n",
       "42650  2022-04-19 13:32 PM Eastern  \n",
       "42651  2022-04-19 13:32 PM Eastern  \n",
       "42652  2022-04-19 13:32 PM Eastern  \n",
       "42653  2022-04-19 13:32 PM Eastern  \n",
       "42654  2022-04-19 13:32 PM Eastern  \n",
       "\n",
       "[42655 rows x 6 columns]"
      ]
     },
     "execution_count": 250,
     "metadata": {},
     "output_type": "execute_result"
    }
   ],
   "source": [
    "df[['Request ID','Create Date','Date Completed','Readout_Date','Modified','LAST_UPDATED']]"
   ]
  },
  {
   "cell_type": "code",
   "execution_count": 251,
   "metadata": {},
   "outputs": [],
   "source": [
    "def item_recommended_count(item_name, items_recommended):#, items_recommended):\n",
    "    if pd.isnull(items_recommended):\n",
    "        return 0\n",
    "    elif item_name in items_recommended:\n",
    "        return 1\n",
    "    else:\n",
    "        return 0"
   ]
  },
  {
   "cell_type": "code",
   "execution_count": 252,
   "metadata": {},
   "outputs": [],
   "source": [
    "df['RRT_BCS']  = df['Items Recommended'].apply(lambda x: item_recommended_count('BCS', x))\n",
    "df['RRT_EC']   = df['Items Recommended'].apply(lambda x: item_recommended_count('EC', x))\n",
    "df['RRT_IRR']  = df['Items Recommended'].apply(lambda x: item_recommended_count('IRR', x))\n",
    "df['RRT_DNAC'] = df['Items Recommended'].apply(lambda x: item_recommended_count('DNA', x))\n",
    "df['RRT_SSPT'] = df['Items Recommended'].apply(lambda x: item_recommended_count('SSPT', x))\n",
    "df['RRT_ST']   = df['Items Recommended'].apply(lambda x: item_recommended_count('ST', x))\n",
    "df['RRT_SNTC'] = df['Items Recommended'].apply(lambda x: item_recommended_count('SNTC', x))\n",
    "df['RRT_PR']   = df['Items Recommended'].apply(lambda x: item_recommended_count('PR', x))\n",
    "df['RRT_BRW']  = df['Items Recommended'].apply(lambda x: item_recommended_count('BRW', x))\n",
    "df['RRT_NULL'] = 0\n",
    "df['RRT_VBDM'] = 0\n",
    "df['RRT_LPM+'] = 0"
   ]
  },
  {
   "cell_type": "code",
   "execution_count": 253,
   "metadata": {},
   "outputs": [],
   "source": [
    "df.loc[df['Items Recommended'].isnull(), 'RRT_NULL'] = 1"
   ]
  },
  {
   "cell_type": "code",
   "execution_count": 254,
   "metadata": {},
   "outputs": [],
   "source": [
    "df.loc[(df['NEXT_STEPS'].str.contains('engage vbdm', na=False, case=False)) | (df['VBDM'].str.contains('yes', na=False, case=False)), 'RRT_VBDM']=1"
   ]
  },
  {
   "cell_type": "code",
   "execution_count": 255,
   "metadata": {},
   "outputs": [],
   "source": [
    "df.loc[df['NEXT_STEPS'].str.contains('engage lpm+', na=False, case=False), 'RRT_LPM+']=1"
   ]
  },
  {
   "cell_type": "code",
   "execution_count": 256,
   "metadata": {},
   "outputs": [],
   "source": [
    "df['LPM_OFFERS'] = df['OFFER_CREATOR_OFFER_CREATED'].apply(lambda x: 1 if x == 'Yes' else 0)"
   ]
  },
  {
   "cell_type": "code",
   "execution_count": 257,
   "metadata": {},
   "outputs": [
    {
     "data": {
      "text/html": [
       "<div>\n",
       "<style scoped>\n",
       "    .dataframe tbody tr th:only-of-type {\n",
       "        vertical-align: middle;\n",
       "    }\n",
       "\n",
       "    .dataframe tbody tr th {\n",
       "        vertical-align: top;\n",
       "    }\n",
       "\n",
       "    .dataframe thead th {\n",
       "        text-align: right;\n",
       "    }\n",
       "</style>\n",
       "<table border=\"1\" class=\"dataframe\">\n",
       "  <thead>\n",
       "    <tr style=\"text-align: right;\">\n",
       "      <th></th>\n",
       "      <th>Readout_Date</th>\n",
       "      <th>Items Recommended</th>\n",
       "      <th>VBDM</th>\n",
       "      <th>RRT_BCS</th>\n",
       "      <th>RRT_EC</th>\n",
       "      <th>RRT_IRR</th>\n",
       "      <th>RRT_DNAC</th>\n",
       "      <th>RRT_ST</th>\n",
       "      <th>RRT_SSPT</th>\n",
       "      <th>RRT_SNTC</th>\n",
       "      <th>RRT_PR</th>\n",
       "      <th>RRT_BRW</th>\n",
       "      <th>RRT_VBDM</th>\n",
       "      <th>RRT_LPM+</th>\n",
       "      <th>RRT_NULL</th>\n",
       "      <th>OFFER_CREATOR_OFFER_CREATED</th>\n",
       "      <th>LPM_OFFERS</th>\n",
       "    </tr>\n",
       "  </thead>\n",
       "  <tbody>\n",
       "    <tr>\n",
       "      <th>18113</th>\n",
       "      <td>2022-01-21</td>\n",
       "      <td>BCS,DNA,EC-KT,IRR,SNTC,SSPT,ST</td>\n",
       "      <td>NaN</td>\n",
       "      <td>1</td>\n",
       "      <td>1</td>\n",
       "      <td>1</td>\n",
       "      <td>1</td>\n",
       "      <td>1</td>\n",
       "      <td>1</td>\n",
       "      <td>1</td>\n",
       "      <td>0</td>\n",
       "      <td>0</td>\n",
       "      <td>0</td>\n",
       "      <td>0</td>\n",
       "      <td>0</td>\n",
       "      <td>Yes</td>\n",
       "      <td>1</td>\n",
       "    </tr>\n",
       "    <tr>\n",
       "      <th>22530</th>\n",
       "      <td>2022-03-07</td>\n",
       "      <td>BCS,BRW,IRR,SNTC,ST,SSPT</td>\n",
       "      <td>NaN</td>\n",
       "      <td>1</td>\n",
       "      <td>0</td>\n",
       "      <td>1</td>\n",
       "      <td>0</td>\n",
       "      <td>1</td>\n",
       "      <td>1</td>\n",
       "      <td>1</td>\n",
       "      <td>0</td>\n",
       "      <td>1</td>\n",
       "      <td>0</td>\n",
       "      <td>0</td>\n",
       "      <td>0</td>\n",
       "      <td>Yes</td>\n",
       "      <td>1</td>\n",
       "    </tr>\n",
       "    <tr>\n",
       "      <th>22541</th>\n",
       "      <td>2022-03-30</td>\n",
       "      <td>BCS,ST,IRR,SSPT,EC-AM,EC-KT</td>\n",
       "      <td>NaN</td>\n",
       "      <td>1</td>\n",
       "      <td>1</td>\n",
       "      <td>1</td>\n",
       "      <td>0</td>\n",
       "      <td>1</td>\n",
       "      <td>1</td>\n",
       "      <td>0</td>\n",
       "      <td>0</td>\n",
       "      <td>0</td>\n",
       "      <td>0</td>\n",
       "      <td>0</td>\n",
       "      <td>0</td>\n",
       "      <td>Yes</td>\n",
       "      <td>1</td>\n",
       "    </tr>\n",
       "    <tr>\n",
       "      <th>24727</th>\n",
       "      <td>2021-11-25</td>\n",
       "      <td>ST,IRR,SNTC,SSPT,EC-KT,PR</td>\n",
       "      <td>YES</td>\n",
       "      <td>0</td>\n",
       "      <td>1</td>\n",
       "      <td>1</td>\n",
       "      <td>0</td>\n",
       "      <td>1</td>\n",
       "      <td>1</td>\n",
       "      <td>1</td>\n",
       "      <td>1</td>\n",
       "      <td>0</td>\n",
       "      <td>1</td>\n",
       "      <td>0</td>\n",
       "      <td>0</td>\n",
       "      <td>Yes</td>\n",
       "      <td>1</td>\n",
       "    </tr>\n",
       "    <tr>\n",
       "      <th>24924</th>\n",
       "      <td>2021-11-10</td>\n",
       "      <td>BCS,BRW,ST,SNTC,SSPT,PR,IRR,EC-AM,EC-KT</td>\n",
       "      <td>NO</td>\n",
       "      <td>1</td>\n",
       "      <td>1</td>\n",
       "      <td>1</td>\n",
       "      <td>0</td>\n",
       "      <td>1</td>\n",
       "      <td>1</td>\n",
       "      <td>1</td>\n",
       "      <td>1</td>\n",
       "      <td>1</td>\n",
       "      <td>0</td>\n",
       "      <td>0</td>\n",
       "      <td>0</td>\n",
       "      <td>Yes</td>\n",
       "      <td>1</td>\n",
       "    </tr>\n",
       "    <tr>\n",
       "      <th>...</th>\n",
       "      <td>...</td>\n",
       "      <td>...</td>\n",
       "      <td>...</td>\n",
       "      <td>...</td>\n",
       "      <td>...</td>\n",
       "      <td>...</td>\n",
       "      <td>...</td>\n",
       "      <td>...</td>\n",
       "      <td>...</td>\n",
       "      <td>...</td>\n",
       "      <td>...</td>\n",
       "      <td>...</td>\n",
       "      <td>...</td>\n",
       "      <td>...</td>\n",
       "      <td>...</td>\n",
       "      <td>...</td>\n",
       "      <td>...</td>\n",
       "    </tr>\n",
       "    <tr>\n",
       "      <th>41824</th>\n",
       "      <td>2022-04-04</td>\n",
       "      <td>BCS,DNA,IRR,PR,SNTC,SSPT,ST</td>\n",
       "      <td>NaN</td>\n",
       "      <td>1</td>\n",
       "      <td>0</td>\n",
       "      <td>1</td>\n",
       "      <td>1</td>\n",
       "      <td>1</td>\n",
       "      <td>1</td>\n",
       "      <td>1</td>\n",
       "      <td>1</td>\n",
       "      <td>0</td>\n",
       "      <td>0</td>\n",
       "      <td>0</td>\n",
       "      <td>0</td>\n",
       "      <td>Yes</td>\n",
       "      <td>1</td>\n",
       "    </tr>\n",
       "    <tr>\n",
       "      <th>41827</th>\n",
       "      <td>2022-04-04</td>\n",
       "      <td>BCS,DNA,EC-KT,IRR,PR,SNTC,SSPT,ST</td>\n",
       "      <td>NaN</td>\n",
       "      <td>1</td>\n",
       "      <td>1</td>\n",
       "      <td>1</td>\n",
       "      <td>1</td>\n",
       "      <td>1</td>\n",
       "      <td>1</td>\n",
       "      <td>1</td>\n",
       "      <td>1</td>\n",
       "      <td>0</td>\n",
       "      <td>0</td>\n",
       "      <td>0</td>\n",
       "      <td>0</td>\n",
       "      <td>Yes</td>\n",
       "      <td>1</td>\n",
       "    </tr>\n",
       "    <tr>\n",
       "      <th>41830</th>\n",
       "      <td>2022-04-04</td>\n",
       "      <td>BCS,DNA,IRR,PR,SNTC,ST</td>\n",
       "      <td>NaN</td>\n",
       "      <td>1</td>\n",
       "      <td>0</td>\n",
       "      <td>1</td>\n",
       "      <td>1</td>\n",
       "      <td>1</td>\n",
       "      <td>0</td>\n",
       "      <td>1</td>\n",
       "      <td>1</td>\n",
       "      <td>0</td>\n",
       "      <td>0</td>\n",
       "      <td>0</td>\n",
       "      <td>0</td>\n",
       "      <td>Yes</td>\n",
       "      <td>1</td>\n",
       "    </tr>\n",
       "    <tr>\n",
       "      <th>41831</th>\n",
       "      <td>2022-04-04</td>\n",
       "      <td>BCS,SNTC,PR,ST,IRR</td>\n",
       "      <td>NaN</td>\n",
       "      <td>1</td>\n",
       "      <td>0</td>\n",
       "      <td>1</td>\n",
       "      <td>0</td>\n",
       "      <td>1</td>\n",
       "      <td>0</td>\n",
       "      <td>1</td>\n",
       "      <td>1</td>\n",
       "      <td>0</td>\n",
       "      <td>0</td>\n",
       "      <td>0</td>\n",
       "      <td>0</td>\n",
       "      <td>Yes</td>\n",
       "      <td>1</td>\n",
       "    </tr>\n",
       "    <tr>\n",
       "      <th>41832</th>\n",
       "      <td>2022-04-04</td>\n",
       "      <td>BCS,EC-AM,DNA,IRR,PR,SNTC,ST</td>\n",
       "      <td>NaN</td>\n",
       "      <td>1</td>\n",
       "      <td>1</td>\n",
       "      <td>1</td>\n",
       "      <td>1</td>\n",
       "      <td>1</td>\n",
       "      <td>0</td>\n",
       "      <td>1</td>\n",
       "      <td>1</td>\n",
       "      <td>0</td>\n",
       "      <td>0</td>\n",
       "      <td>0</td>\n",
       "      <td>0</td>\n",
       "      <td>Yes</td>\n",
       "      <td>1</td>\n",
       "    </tr>\n",
       "  </tbody>\n",
       "</table>\n",
       "<p>1580 rows × 17 columns</p>\n",
       "</div>"
      ],
      "text/plain": [
       "      Readout_Date                        Items Recommended VBDM  RRT_BCS  \\\n",
       "18113   2022-01-21           BCS,DNA,EC-KT,IRR,SNTC,SSPT,ST  NaN        1   \n",
       "22530   2022-03-07                 BCS,BRW,IRR,SNTC,ST,SSPT  NaN        1   \n",
       "22541   2022-03-30              BCS,ST,IRR,SSPT,EC-AM,EC-KT  NaN        1   \n",
       "24727   2021-11-25                ST,IRR,SNTC,SSPT,EC-KT,PR  YES        0   \n",
       "24924   2021-11-10  BCS,BRW,ST,SNTC,SSPT,PR,IRR,EC-AM,EC-KT   NO        1   \n",
       "...            ...                                      ...  ...      ...   \n",
       "41824   2022-04-04              BCS,DNA,IRR,PR,SNTC,SSPT,ST  NaN        1   \n",
       "41827   2022-04-04        BCS,DNA,EC-KT,IRR,PR,SNTC,SSPT,ST  NaN        1   \n",
       "41830   2022-04-04                   BCS,DNA,IRR,PR,SNTC,ST  NaN        1   \n",
       "41831   2022-04-04                       BCS,SNTC,PR,ST,IRR  NaN        1   \n",
       "41832   2022-04-04             BCS,EC-AM,DNA,IRR,PR,SNTC,ST  NaN        1   \n",
       "\n",
       "       RRT_EC  RRT_IRR  RRT_DNAC  RRT_ST  RRT_SSPT  RRT_SNTC  RRT_PR  RRT_BRW  \\\n",
       "18113       1        1         1       1         1         1       0        0   \n",
       "22530       0        1         0       1         1         1       0        1   \n",
       "22541       1        1         0       1         1         0       0        0   \n",
       "24727       1        1         0       1         1         1       1        0   \n",
       "24924       1        1         0       1         1         1       1        1   \n",
       "...       ...      ...       ...     ...       ...       ...     ...      ...   \n",
       "41824       0        1         1       1         1         1       1        0   \n",
       "41827       1        1         1       1         1         1       1        0   \n",
       "41830       0        1         1       1         0         1       1        0   \n",
       "41831       0        1         0       1         0         1       1        0   \n",
       "41832       1        1         1       1         0         1       1        0   \n",
       "\n",
       "       RRT_VBDM  RRT_LPM+  RRT_NULL OFFER_CREATOR_OFFER_CREATED  LPM_OFFERS  \n",
       "18113         0         0         0                         Yes           1  \n",
       "22530         0         0         0                         Yes           1  \n",
       "22541         0         0         0                         Yes           1  \n",
       "24727         1         0         0                         Yes           1  \n",
       "24924         0         0         0                         Yes           1  \n",
       "...         ...       ...       ...                         ...         ...  \n",
       "41824         0         0         0                         Yes           1  \n",
       "41827         0         0         0                         Yes           1  \n",
       "41830         0         0         0                         Yes           1  \n",
       "41831         0         0         0                         Yes           1  \n",
       "41832         0         0         0                         Yes           1  \n",
       "\n",
       "[1580 rows x 17 columns]"
      ]
     },
     "execution_count": 257,
     "metadata": {},
     "output_type": "execute_result"
    }
   ],
   "source": [
    "df.loc[(df['Readout_Date'].notnull()) & (df['Items Recommended'].notnull()) & (df['OFFER_CREATOR_OFFER_CREATED'].notnull())][['Readout_Date','Items Recommended','VBDM','RRT_BCS','RRT_EC','RRT_IRR','RRT_DNAC','RRT_ST','RRT_SSPT','RRT_SNTC','RRT_PR','RRT_BRW','RRT_VBDM','RRT_LPM+','RRT_NULL','OFFER_CREATOR_OFFER_CREATED','LPM_OFFERS']]"
   ]
  },
  {
   "cell_type": "code",
   "execution_count": null,
   "metadata": {},
   "outputs": [],
   "source": []
  },
  {
   "cell_type": "code",
   "execution_count": 258,
   "metadata": {},
   "outputs": [],
   "source": [
    "df['Method'] = None"
   ]
  },
  {
   "cell_type": "code",
   "execution_count": 259,
   "metadata": {},
   "outputs": [],
   "source": [
    "df['Measure Group'] = 'Operations'"
   ]
  },
  {
   "cell_type": "code",
   "execution_count": 260,
   "metadata": {},
   "outputs": [],
   "source": [
    "df.loc[df['Campaign Type'].str.contains('coverage at renewal', na=False, case=False),'Method'] = 'M6 (Coverage at Renewal)' #[['Request ID','Create Date','Customer Name','Compass Campaign Name','Campaign Type']]"
   ]
  },
  {
   "cell_type": "code",
   "execution_count": 261,
   "metadata": {},
   "outputs": [],
   "source": [
    "df.loc[(df['Campaign'] == 'PROACTIVE - TAC LEAD') | (df['Campaign Type'].str.contains('test', na=False, case=False)),'Method'] = 'OMIT'"
   ]
  },
  {
   "cell_type": "code",
   "execution_count": 262,
   "metadata": {},
   "outputs": [],
   "source": [
    "df.loc[df['Campaign Type'].str.contains('field', na=False, case=False),'Method'] = 'FIELD'"
   ]
  },
  {
   "cell_type": "code",
   "execution_count": 263,
   "metadata": {},
   "outputs": [],
   "source": [
    "df.loc[df['Campaign Type'].str.contains('targeting', na=False, case=False),'Method'] = 'TARGETING'"
   ]
  },
  {
   "cell_type": "code",
   "execution_count": 264,
   "metadata": {},
   "outputs": [],
   "source": [
    "df.loc[df['Campaign Type'].str.contains('cxib', na=False, case=False),'Method'] = 'M6 (CXIB)'"
   ]
  },
  {
   "cell_type": "code",
   "execution_count": 265,
   "metadata": {},
   "outputs": [],
   "source": [
    "df.loc[(df['Campaign Type'].str.contains('missed attach', na=False, case=False)) | \n",
    "       (df['Campaign Type'].str.contains('coverage program', na=False, case=False)) | \n",
    "       (df['Campaign Type'] == 'TAC') |\n",
    "       (df['Campaign'] == 'COVERAGE PROGRAM - TELEMETRY') |\n",
    "       (df['Campaign'] == 'COVERAGE PROGRAM - SNTC TAC LEADS') |\n",
    "       (df['Campaign'] == 'REACTIVE - ATTACH REPORT') |\n",
    "       (df['Campaign'] == 'COVERAGE PROGRAM - FIELD REQUEST') |\n",
    "       (df['Campaign'] == 'COVERAGE PROGRAM - SNTC PROACTIVE ATTACH') |\n",
    "       (df['Campaign'] == 'COVERAGE PROGRAM - SSPT') |\n",
    "       ((df['Campaign'] == 'REACTIVE') & (df['PROACTIVE_REPORT_REQUESTED_FLAG'] == True)) |\n",
    "       (df['Campaign Type'].str.contains('proactive coverage', na=False, case=False)),'Method'] = 'M1 (Coverage Program)'"
   ]
  },
  {
   "cell_type": "code",
   "execution_count": 266,
   "metadata": {},
   "outputs": [],
   "source": [
    "# df.loc[(df['Campaign Type'].str.contains('missed attach', na=False, case=False)) | \n",
    "#        (df['Campaign Type'].str.contains('coverage program', na=False, case=False)) | \n",
    "#        (df['Campaign Type'].str.contains('telemetry', na=False, case=False)) |\n",
    "#        (df['Campaign Type'] == 'TAC') |\n",
    "#        (df['Campaign'] == 'REACTIVE - ATTACH REPORT') |\n",
    "#        (df['Campaign'] == 'COVERAGE PROGRAM - FIELD REQUEST') |\n",
    "#        (df['Campaign'] == 'COVERAGE PROGRAM - SNTC PROACTIVE ATTACH') |\n",
    "#        ((df['Campaign'] == 'REACTIVE') & (df['PROACTIVE_REPORT_REQUESTED_FLAG'] == True)) |\n",
    "#        (df['Campaign Type'].str.contains('proactive coverage', na=False, case=False)),'Method'] = 'M1 (Coverage Program)'"
   ]
  },
  {
   "cell_type": "code",
   "execution_count": 267,
   "metadata": {},
   "outputs": [
    {
     "data": {
      "text/html": [
       "<div>\n",
       "<style scoped>\n",
       "    .dataframe tbody tr th:only-of-type {\n",
       "        vertical-align: middle;\n",
       "    }\n",
       "\n",
       "    .dataframe tbody tr th {\n",
       "        vertical-align: top;\n",
       "    }\n",
       "\n",
       "    .dataframe thead th {\n",
       "        text-align: right;\n",
       "    }\n",
       "</style>\n",
       "<table border=\"1\" class=\"dataframe\">\n",
       "  <thead>\n",
       "    <tr style=\"text-align: right;\">\n",
       "      <th></th>\n",
       "      <th>Request Type</th>\n",
       "      <th>Create Date</th>\n",
       "      <th>Request Type</th>\n",
       "      <th>Campaign Type</th>\n",
       "      <th>Campaign</th>\n",
       "      <th>Request FY</th>\n",
       "      <th>Request FQ</th>\n",
       "      <th>Request FM</th>\n",
       "    </tr>\n",
       "  </thead>\n",
       "  <tbody>\n",
       "  </tbody>\n",
       "</table>\n",
       "</div>"
      ],
      "text/plain": [
       "Empty DataFrame\n",
       "Columns: [Request Type, Create Date, Request Type, Campaign Type, Campaign, Request FY, Request FQ, Request FM]\n",
       "Index: []"
      ]
     },
     "execution_count": 267,
     "metadata": {},
     "output_type": "execute_result"
    }
   ],
   "source": [
    "df.loc[(df['Campaign Type'].str.contains('proactive', na=False, case=False)) & (df['Campaign'].str.contains('attach', na=False, case=False))][['Request Type','Create Date','Request Type', 'Campaign Type','Campaign','Request FY','Request FQ','Request FM']]"
   ]
  },
  {
   "cell_type": "code",
   "execution_count": 268,
   "metadata": {},
   "outputs": [
    {
     "data": {
      "text/plain": [
       "array(['CXIB', 'FIELD', 'TARGETING', 'PROACTIVE_OLD',\n",
       "       'NONREPORTING/TESTS', 'COVERAGE PROGRAM', 'TELEMETRY',\n",
       "       'COVERAGE AT RENEWAL', 'NO CAMPAIGN'], dtype=object)"
      ]
     },
     "execution_count": 268,
     "metadata": {},
     "output_type": "execute_result"
    }
   ],
   "source": [
    "df['Campaign Type'].unique()"
   ]
  },
  {
   "cell_type": "code",
   "execution_count": 269,
   "metadata": {},
   "outputs": [
    {
     "data": {
      "text/plain": [
       "array(['NON-TARGETING', 'BCS', 'SNTC', 'PARTNER', 'SSPT', 'SUCCESSTRACKS',\n",
       "       'MAJORS'], dtype=object)"
      ]
     },
     "execution_count": 269,
     "metadata": {},
     "output_type": "execute_result"
    }
   ],
   "source": [
    "df['Targeting Campaign Type'].unique()"
   ]
  },
  {
   "cell_type": "code",
   "execution_count": 270,
   "metadata": {},
   "outputs": [],
   "source": [
    "df.loc[(df['Campaign Type']=='COVERAGE PROGRAM') & (df['Campaign']=='COVERAGE PROGRAM - PROACTIVE ATTACH'), 'Campaign'] = 'COVERAGE - SNTC PROACTIVE ATTACH'"
   ]
  },
  {
   "cell_type": "code",
   "execution_count": 271,
   "metadata": {},
   "outputs": [],
   "source": [
    "def set_offer_focus(campaign_type, target_campaign_type):\n",
    "    if campaign_type == 'FIELD':\n",
    "        return 'ANY'\n",
    "    elif campaign_type == 'CXIB':\n",
    "        return 'SNTC'\n",
    "    elif campaign_type == 'COVERAGE AT RENEWAL':\n",
    "        return 'SNTC'\n",
    "    elif (campaign_type == 'MISSED ATTACH') or (campaign_type == 'COVERAGE PROGRAM') or (campaign_type == 'PROACTIVE COVERAGE') or (campaign_type == 'TAC') or (campaign_type == 'TELEMETRY'):\n",
    "        return 'SNTC'\n",
    "    elif campaign_type == 'TARGETING' and target_campaign_type == 'MAJORS':\n",
    "        return 'BCS'\n",
    "    elif campaign_type == 'TARGETING' and target_campaign_type == 'BCS':\n",
    "        return 'BCS'\n",
    "    elif campaign_type == 'TARGETING' and target_campaign_type == 'SUCCESSTRACKS':\n",
    "        return 'ST'\n",
    "    elif campaign_type == 'TARGETING' and target_campaign_type == 'SSPT':\n",
    "        return 'SSPT'\n",
    "    elif campaign_type == 'TARGETING' and target_campaign_type == 'SNTC':\n",
    "        return 'SNTC'\n",
    "    else:\n",
    "        return None"
   ]
  },
  {
   "cell_type": "code",
   "execution_count": 272,
   "metadata": {},
   "outputs": [],
   "source": [
    "df['Offer Focus'] = df.apply(lambda x: set_offer_focus(x['Campaign Type'], x['Targeting Campaign Type']), axis=1)"
   ]
  },
  {
   "cell_type": "code",
   "execution_count": 273,
   "metadata": {},
   "outputs": [],
   "source": [
    "df['Value Type'] = 'Actual'"
   ]
  },
  {
   "cell_type": "code",
   "execution_count": 274,
   "metadata": {},
   "outputs": [],
   "source": [
    "# df.loc[:,df.columns.str.contains('readout', na=False, case=False)]"
   ]
  },
  {
   "cell_type": "code",
   "execution_count": 275,
   "metadata": {},
   "outputs": [],
   "source": [
    "def apply_fiscal_year(readout_fy, request_fy):\n",
    "    if isinstance(readout_fy,str):\n",
    "        if readout_fy.isdigit():\n",
    "            return readout_fy\n",
    "    else:\n",
    "        return request_fy"
   ]
  },
  {
   "cell_type": "code",
   "execution_count": 276,
   "metadata": {},
   "outputs": [],
   "source": [
    "# def apply_fiscal_year(oc_readout_fy, readout_fy, request_fy):\n",
    "#     if isinstance(oc_readout_fy, str):\n",
    "#         if oc_readout_fy.isdigit():\n",
    "#             return oc_readout_fy\n",
    "        \n",
    "#     elif isinstance(readout_fy,str):\n",
    "#         if readout_fy.isdigit():\n",
    "#             return readout_fy\n",
    "#     else:\n",
    "#         return request_fy"
   ]
  },
  {
   "cell_type": "code",
   "execution_count": 277,
   "metadata": {},
   "outputs": [],
   "source": [
    "def apply_fiscal_qtr(readout_fq, request_fq):\n",
    "    if isinstance(readout_fq,str):\n",
    "        if readout_fq.isdigit():\n",
    "            return 'Q' + readout_fq\n",
    "    else:\n",
    "        return 'Q' + request_fq"
   ]
  },
  {
   "cell_type": "code",
   "execution_count": 278,
   "metadata": {},
   "outputs": [],
   "source": [
    "# def apply_fiscal_qtr(oc_readout_fq, readout_fq, request_fq):\n",
    "#     if isinstance(oc_readout_fq, str):\n",
    "#         if oc_readout_fq.isdigit():\n",
    "#             return 'Q' + oc_readout_fq\n",
    "    \n",
    "#     elif isinstance(readout_fq,str):\n",
    "#         if readout_fq.isdigit():\n",
    "#             return 'Q' + readout_fq\n",
    "#     else:\n",
    "#         return 'Q' + request_fq"
   ]
  },
  {
   "cell_type": "code",
   "execution_count": 279,
   "metadata": {},
   "outputs": [],
   "source": [
    "def apply_injection_month(request_fy, request_fm):\n",
    "    if isinstance(request_fy,str):\n",
    "        if request_fy.isdigit():\n",
    "            return ''.join([request_fy,request_fm])\n",
    "    else:\n",
    "        return None"
   ]
  },
  {
   "cell_type": "code",
   "execution_count": 280,
   "metadata": {},
   "outputs": [],
   "source": [
    "def apply_injection_quarter(request_fy, request_fq):\n",
    "    if isinstance(request_fy,str):\n",
    "        if request_fy.isdigit():\n",
    "            return ''.join([request_fy,'-Q',request_fq])\n",
    "    else:\n",
    "        return None"
   ]
  },
  {
   "cell_type": "code",
   "execution_count": 281,
   "metadata": {},
   "outputs": [],
   "source": [
    "# print(list(df.loc[df['Readout FY']]['Readout FY'].unique()))"
   ]
  },
  {
   "cell_type": "code",
   "execution_count": 282,
   "metadata": {},
   "outputs": [],
   "source": [
    "df['Report FY'] = df.apply(lambda x: apply_fiscal_year(x['Readout FY'], x['Request FY']), axis=1)"
   ]
  },
  {
   "cell_type": "code",
   "execution_count": 283,
   "metadata": {},
   "outputs": [],
   "source": [
    "df['Report FQ'] = df.apply(lambda x: apply_fiscal_qtr(x['Readout FQ'], x['Request FQ']), axis=1)"
   ]
  },
  {
   "cell_type": "code",
   "execution_count": 284,
   "metadata": {},
   "outputs": [],
   "source": [
    "df['Injection Month'] = df.apply(lambda x: apply_injection_month(x['Request FY'],x['Request FM']), axis=1)"
   ]
  },
  {
   "cell_type": "code",
   "execution_count": 285,
   "metadata": {},
   "outputs": [],
   "source": [
    "df['Injection Quarter'] = df.apply(lambda x: apply_injection_quarter(x['Request FY'],x['Request FQ']), axis=1)"
   ]
  },
  {
   "cell_type": "code",
   "execution_count": 286,
   "metadata": {},
   "outputs": [
    {
     "data": {
      "text/plain": [
       "Method                 Campaign Type     Campaign                         \n",
       "M1 (Coverage Program)  COVERAGE PROGRAM  COVERAGE PROGRAM - SNTC TAC LEADS    113\n",
       "dtype: int64"
      ]
     },
     "execution_count": 286,
     "metadata": {},
     "output_type": "execute_result"
    }
   ],
   "source": [
    "df.loc[(df['Campaign'].str.contains('COVERAGE PROGRAM - SNTC TAC LEADS', na=False, case=False)) ][['Method','Campaign Type','Campaign',]].value_counts()"
   ]
  },
  {
   "cell_type": "code",
   "execution_count": 287,
   "metadata": {},
   "outputs": [
    {
     "data": {
      "text/plain": [
       "Method                 Campaign Type     Campaign                                \n",
       "M1 (Coverage Program)  COVERAGE PROGRAM  COVERAGE PROGRAM - TELEMETRY                1972\n",
       "                                         COVERAGE PROGRAM - SNTC PROACTIVE ATTACH    1237\n",
       "                       FIELD             REACTIVE                                     780\n",
       "                       COVERAGE PROGRAM  COVERAGE PROGRAM - SNTC TAC LEADS             82\n",
       "                                         COVERAGE PROGRAM - SSPT                       15\n",
       "dtype: int64"
      ]
     },
     "execution_count": 287,
     "metadata": {},
     "output_type": "execute_result"
    }
   ],
   "source": [
    "df.loc[(df['Report FY']=='2022') & (df['RR_INTERNAL']=='YES') & (df['ALERT_BELOW_25'] == 0) & (df['Method']=='M1 (Coverage Program)') & (df['OPPTY_STG1_CREATED'] == 1)][['Method','Campaign Type','Campaign',]].value_counts() #(df['Report FQ']=='Q2') & "
   ]
  },
  {
   "cell_type": "code",
   "execution_count": 288,
   "metadata": {},
   "outputs": [],
   "source": [
    "# df.loc[(df['Method']=='FIELD') & (df['Report FY']=='2022')]"
   ]
  },
  {
   "cell_type": "code",
   "execution_count": 289,
   "metadata": {},
   "outputs": [],
   "source": [
    "df.loc[(df['Report FY']=='2022') & (df['Report FQ']=='Q2') & (df['OPPTY_STG1_CREATED']==1) & (df['Campaign Type'].isin(['FIELD'])) & (df['Method']=='M1 (Coverage Program)')][['Report FY','Request ID','Create Date','Readout_Date','RR_INTERNAL','Compass Advisor','Deal ID','Method','Campaign Type','Campaign','Customer Name','Readout Delivery Status','ALERT_BELOW_25','OPPTY_STG1_CREATED','LPM_PLUS_ENGAGED','PROACTIVE_REPORT_REQUESTED_FLAG','OFFER_CREATED']].to_excel(r'C:\\Users\\phsheari\\Desktop\\FIELDS.xlsx', index=False)"
   ]
  },
  {
   "cell_type": "code",
   "execution_count": 290,
   "metadata": {},
   "outputs": [],
   "source": [
    "df.loc[(df['Campaign Type'].str.contains('field', na=False, case=False) | df['Campaign Type'].str.contains('target', na=False, case=False))  & (df['LPM_PLUS'].str.contains('yes', na=False, case=False) | df['NEXT_STEPS'].str.contains('engage lpm', na=False, case=False)),'Method'] = \\\n",
    "df.loc[(df['Campaign Type'].str.contains('field', na=False, case=False) | df['Campaign Type'].str.contains('target', na=False, case=False))  & (df['LPM_PLUS'].str.contains('yes', na=False, case=False) | df['NEXT_STEPS'].str.contains('engage lpm', na=False, case=False)),'Method'] = 'M1 (Coverage Program)'"
   ]
  },
  {
   "cell_type": "code",
   "execution_count": 291,
   "metadata": {},
   "outputs": [
    {
     "data": {
      "text/plain": [
       "COVERAGE PROGRAM    686\n",
       "FIELD               611\n",
       "TARGETING            22\n",
       "Name: Campaign Type, dtype: int64"
      ]
     },
     "execution_count": 291,
     "metadata": {},
     "output_type": "execute_result"
    }
   ],
   "source": [
    "df.loc[(df['Report FY']=='2022') & (df['Report FQ']=='Q2') & (df['RR_INTERNAL']=='YES') & (df['Sales Level 1'] == 'AMERICAS') & (df['OPPTY_STG1_CREATED'] == 1) & (df['Method'].str.contains('M1', na=False, case=False)) & (df['Campaign Type'].isin(['FIELD','COVERAGE PROGRAM','PROACTIVE COVERAGE','TAC','TELEMETRY','SSPT','TARGETING'])) & (df['ALERT_BELOW_25'] == 0)]['Campaign Type'].value_counts() #[['Report FY','Request ID','Create Date','Readout_Date','RR_INTERNAL','Compass Advisor','Deal ID','Method','Campaign Type','Campaign','Customer Name','Readout Delivery Status','OPPTY_STG1_CREATED','LPM_READOUTS_DONE','LPM_READOUTS_DECLINED','OFFER_CREATED']]"
   ]
  },
  {
   "cell_type": "code",
   "execution_count": 292,
   "metadata": {},
   "outputs": [
    {
     "data": {
      "text/plain": [
       "TARGETING    33\n",
       "Name: Campaign Type, dtype: int64"
      ]
     },
     "execution_count": 292,
     "metadata": {},
     "output_type": "execute_result"
    }
   ],
   "source": [
    "df.loc[(df['Report FY']=='2022') & (df['Report FQ']=='Q2') & (df['ALERT_BELOW_25'] == 0) & (df['RR_INTERNAL']=='YES') & (df['OPPTY_STG1_CREATED'] == 1) & (df['Method'].str.contains('M1', na=False, case=False)) & (df['Campaign Type'].isin(['TARGETING'])) ]['Campaign Type'].value_counts()  #& (df['ALERT_BELOW_25'] == 0) & (df['RR_INTERNAL']=='YES')  & (df['Sales Level 1'] == 'AMERICAS')"
   ]
  },
  {
   "cell_type": "markdown",
   "metadata": {},
   "source": [
    "###  ALTER Field and Target requests to M1 Coverage Program Method where LPM Plus = YES"
   ]
  },
  {
   "cell_type": "code",
   "execution_count": 293,
   "metadata": {},
   "outputs": [
    {
     "data": {
      "text/html": [
       "<div>\n",
       "<style scoped>\n",
       "    .dataframe tbody tr th:only-of-type {\n",
       "        vertical-align: middle;\n",
       "    }\n",
       "\n",
       "    .dataframe tbody tr th {\n",
       "        vertical-align: top;\n",
       "    }\n",
       "\n",
       "    .dataframe thead th {\n",
       "        text-align: right;\n",
       "    }\n",
       "</style>\n",
       "<table border=\"1\" class=\"dataframe\">\n",
       "  <thead>\n",
       "    <tr style=\"text-align: right;\">\n",
       "      <th></th>\n",
       "      <th>Request ID</th>\n",
       "      <th>Campaign</th>\n",
       "      <th>Campaign Type</th>\n",
       "      <th>Method</th>\n",
       "      <th>LPM_PLUS</th>\n",
       "      <th>NEXT_STEPS</th>\n",
       "    </tr>\n",
       "  </thead>\n",
       "  <tbody>\n",
       "    <tr>\n",
       "      <th>24727</th>\n",
       "      <td>24533</td>\n",
       "      <td>BCS 3.0 TARGETING GLOBAL COMPASS IDENTIFIED RI...</td>\n",
       "      <td>TARGETING</td>\n",
       "      <td>M1 (Coverage Program)</td>\n",
       "      <td>Yes</td>\n",
       "      <td>Engage vBDM,Engage Offer Creator</td>\n",
       "    </tr>\n",
       "    <tr>\n",
       "      <th>24923</th>\n",
       "      <td>24465</td>\n",
       "      <td>BCS 3.0 TARGETING GLOBAL COMPASS IDENTIFIED RI...</td>\n",
       "      <td>TARGETING</td>\n",
       "      <td>M1 (Coverage Program)</td>\n",
       "      <td>Yes</td>\n",
       "      <td>Engage Offer Creator</td>\n",
       "    </tr>\n",
       "    <tr>\n",
       "      <th>24924</th>\n",
       "      <td>24779</td>\n",
       "      <td>BCS 3.0 TARGETING GLOBAL COMPASS IDENTIFIED RI...</td>\n",
       "      <td>TARGETING</td>\n",
       "      <td>M1 (Coverage Program)</td>\n",
       "      <td>Yes</td>\n",
       "      <td>Engage Offer Creator</td>\n",
       "    </tr>\n",
       "    <tr>\n",
       "      <th>25503</th>\n",
       "      <td>107464</td>\n",
       "      <td>REACTIVE</td>\n",
       "      <td>FIELD</td>\n",
       "      <td>M1 (Coverage Program)</td>\n",
       "      <td>Yes</td>\n",
       "      <td>Engage Offer Creator</td>\n",
       "    </tr>\n",
       "    <tr>\n",
       "      <th>25504</th>\n",
       "      <td>107427</td>\n",
       "      <td>REACTIVE</td>\n",
       "      <td>FIELD</td>\n",
       "      <td>M1 (Coverage Program)</td>\n",
       "      <td>Yes</td>\n",
       "      <td>Engage Offer Creator</td>\n",
       "    </tr>\n",
       "    <tr>\n",
       "      <th>...</th>\n",
       "      <td>...</td>\n",
       "      <td>...</td>\n",
       "      <td>...</td>\n",
       "      <td>...</td>\n",
       "      <td>...</td>\n",
       "      <td>...</td>\n",
       "    </tr>\n",
       "    <tr>\n",
       "      <th>37127</th>\n",
       "      <td>108719</td>\n",
       "      <td>REACTIVE</td>\n",
       "      <td>FIELD</td>\n",
       "      <td>M1 (Coverage Program)</td>\n",
       "      <td>Yes</td>\n",
       "      <td>Engage Offer Creator</td>\n",
       "    </tr>\n",
       "    <tr>\n",
       "      <th>37179</th>\n",
       "      <td>108770</td>\n",
       "      <td>REACTIVE</td>\n",
       "      <td>FIELD</td>\n",
       "      <td>M1 (Coverage Program)</td>\n",
       "      <td>Yes</td>\n",
       "      <td>Engage Offer Creator</td>\n",
       "    </tr>\n",
       "    <tr>\n",
       "      <th>37659</th>\n",
       "      <td>108783</td>\n",
       "      <td>REACTIVE</td>\n",
       "      <td>FIELD</td>\n",
       "      <td>M1 (Coverage Program)</td>\n",
       "      <td>Yes</td>\n",
       "      <td>Engage Offer Creator</td>\n",
       "    </tr>\n",
       "    <tr>\n",
       "      <th>37666</th>\n",
       "      <td>108781</td>\n",
       "      <td>REACTIVE</td>\n",
       "      <td>FIELD</td>\n",
       "      <td>M1 (Coverage Program)</td>\n",
       "      <td>Yes</td>\n",
       "      <td>No Action,Engage Offer Creator</td>\n",
       "    </tr>\n",
       "    <tr>\n",
       "      <th>37667</th>\n",
       "      <td>109245</td>\n",
       "      <td>REACTIVE</td>\n",
       "      <td>FIELD</td>\n",
       "      <td>M1 (Coverage Program)</td>\n",
       "      <td>Yes</td>\n",
       "      <td>No Action,Engage Offer Creator</td>\n",
       "    </tr>\n",
       "  </tbody>\n",
       "</table>\n",
       "<p>291 rows × 6 columns</p>\n",
       "</div>"
      ],
      "text/plain": [
       "      Request ID                                           Campaign  \\\n",
       "24727      24533  BCS 3.0 TARGETING GLOBAL COMPASS IDENTIFIED RI...   \n",
       "24923      24465  BCS 3.0 TARGETING GLOBAL COMPASS IDENTIFIED RI...   \n",
       "24924      24779  BCS 3.0 TARGETING GLOBAL COMPASS IDENTIFIED RI...   \n",
       "25503     107464                                           REACTIVE   \n",
       "25504     107427                                           REACTIVE   \n",
       "...          ...                                                ...   \n",
       "37127     108719                                           REACTIVE   \n",
       "37179     108770                                           REACTIVE   \n",
       "37659     108783                                           REACTIVE   \n",
       "37666     108781                                           REACTIVE   \n",
       "37667     109245                                           REACTIVE   \n",
       "\n",
       "      Campaign Type                 Method LPM_PLUS  \\\n",
       "24727     TARGETING  M1 (Coverage Program)      Yes   \n",
       "24923     TARGETING  M1 (Coverage Program)      Yes   \n",
       "24924     TARGETING  M1 (Coverage Program)      Yes   \n",
       "25503         FIELD  M1 (Coverage Program)      Yes   \n",
       "25504         FIELD  M1 (Coverage Program)      Yes   \n",
       "...             ...                    ...      ...   \n",
       "37127         FIELD  M1 (Coverage Program)      Yes   \n",
       "37179         FIELD  M1 (Coverage Program)      Yes   \n",
       "37659         FIELD  M1 (Coverage Program)      Yes   \n",
       "37666         FIELD  M1 (Coverage Program)      Yes   \n",
       "37667         FIELD  M1 (Coverage Program)      Yes   \n",
       "\n",
       "                             NEXT_STEPS  \n",
       "24727  Engage vBDM,Engage Offer Creator  \n",
       "24923              Engage Offer Creator  \n",
       "24924              Engage Offer Creator  \n",
       "25503              Engage Offer Creator  \n",
       "25504              Engage Offer Creator  \n",
       "...                                 ...  \n",
       "37127              Engage Offer Creator  \n",
       "37179              Engage Offer Creator  \n",
       "37659              Engage Offer Creator  \n",
       "37666    No Action,Engage Offer Creator  \n",
       "37667    No Action,Engage Offer Creator  \n",
       "\n",
       "[291 rows x 6 columns]"
      ]
     },
     "execution_count": 293,
     "metadata": {},
     "output_type": "execute_result"
    }
   ],
   "source": [
    "df.loc[(df['Campaign Type'].str.contains('field', na=False, case=False) | df['Campaign Type'].str.contains('target', na=False, case=False)) & (df['LPM_PLUS'].str.contains('yes', na=False, case=False))][['Request ID','Campaign','Campaign Type','Method','LPM_PLUS','NEXT_STEPS']] #  & (df['LPM_PLUS'].str.contains('yes', na=False, case=False))"
   ]
  },
  {
   "cell_type": "code",
   "execution_count": 294,
   "metadata": {},
   "outputs": [],
   "source": [
    "df.rename(columns={'COMPASS_READOUTS_DONE':'READOUTS_DONE'}, inplace=True)"
   ]
  },
  {
   "cell_type": "code",
   "execution_count": 295,
   "metadata": {},
   "outputs": [],
   "source": [
    "opps_stg1 = df.loc[(df['Report FY']=='2022') & (df['ALERT_BELOW_25'] == 0) & (df['RR_INTERNAL']=='YES') & (df['OPPTY_STG1_CREATED'] == 1) & (df['Campaign Type'].isin(['TAC','TARGETING','TELEMETRY','SSPT','FIELD','PROACTIVE COVERAGE','COVERAGE AT RENEWAL','COVERAGE PROGRAM'])) ]   #& (df['Method'].str.contains('M1', na=False, case=False)) "
   ]
  },
  {
   "cell_type": "code",
   "execution_count": 296,
   "metadata": {},
   "outputs": [],
   "source": [
    "agg_opps = pd.DataFrame(opps_stg1.groupby(['Method', 'Measure Group','Campaign', 'Campaign Type','Customer Name', 'Sales Level 1', 'Sales Level 2', 'Sales Level 3', 'Sales Level 4','Offer Focus', 'Value Type','Report FY','Report FQ'])['OPPTY_STG1_CREATED'].sum())"
   ]
  },
  {
   "cell_type": "code",
   "execution_count": 297,
   "metadata": {},
   "outputs": [],
   "source": [
    "agg_opps.reset_index(inplace=True)"
   ]
  },
  {
   "cell_type": "code",
   "execution_count": 298,
   "metadata": {},
   "outputs": [
    {
     "data": {
      "text/html": [
       "<div>\n",
       "<style scoped>\n",
       "    .dataframe tbody tr th:only-of-type {\n",
       "        vertical-align: middle;\n",
       "    }\n",
       "\n",
       "    .dataframe tbody tr th {\n",
       "        vertical-align: top;\n",
       "    }\n",
       "\n",
       "    .dataframe thead th {\n",
       "        text-align: right;\n",
       "    }\n",
       "</style>\n",
       "<table border=\"1\" class=\"dataframe\">\n",
       "  <thead>\n",
       "    <tr style=\"text-align: right;\">\n",
       "      <th></th>\n",
       "      <th>Method</th>\n",
       "      <th>Measure Group</th>\n",
       "      <th>Campaign</th>\n",
       "      <th>Campaign Type</th>\n",
       "      <th>Customer Name</th>\n",
       "      <th>Sales Level 1</th>\n",
       "      <th>Sales Level 2</th>\n",
       "      <th>Sales Level 3</th>\n",
       "      <th>Sales Level 4</th>\n",
       "      <th>Offer Focus</th>\n",
       "      <th>Value Type</th>\n",
       "      <th>Report FY</th>\n",
       "      <th>Report FQ</th>\n",
       "      <th>Value</th>\n",
       "      <th>Measure</th>\n",
       "    </tr>\n",
       "  </thead>\n",
       "  <tbody>\n",
       "    <tr>\n",
       "      <th>0</th>\n",
       "      <td>FIELD</td>\n",
       "      <td>Operations</td>\n",
       "      <td>REACTIVE</td>\n",
       "      <td>FIELD</td>\n",
       "      <td>(ACSA) AIRPORTS COMPANY OF SOUTH AFRICA</td>\n",
       "      <td>EMEAR-REGION</td>\n",
       "      <td>EMEAR_MEA</td>\n",
       "      <td>CLUSTER_SSA</td>\n",
       "      <td>COUNTRY_ZAF</td>\n",
       "      <td>ANY</td>\n",
       "      <td>Actual</td>\n",
       "      <td>2022</td>\n",
       "      <td>Q2</td>\n",
       "      <td>1</td>\n",
       "      <td>Stg1 Opportunity</td>\n",
       "    </tr>\n",
       "    <tr>\n",
       "      <th>1</th>\n",
       "      <td>FIELD</td>\n",
       "      <td>Operations</td>\n",
       "      <td>REACTIVE</td>\n",
       "      <td>FIELD</td>\n",
       "      <td>(PIC) PUBLIC INVESTMENT CORPORATION</td>\n",
       "      <td>EMEAR-REGION</td>\n",
       "      <td>EMEAR_MEA</td>\n",
       "      <td>CLUSTER_SSA</td>\n",
       "      <td>COUNTRY_ZAF</td>\n",
       "      <td>ANY</td>\n",
       "      <td>Actual</td>\n",
       "      <td>2022</td>\n",
       "      <td>Q2</td>\n",
       "      <td>1</td>\n",
       "      <td>Stg1 Opportunity</td>\n",
       "    </tr>\n",
       "    <tr>\n",
       "      <th>2</th>\n",
       "      <td>FIELD</td>\n",
       "      <td>Operations</td>\n",
       "      <td>REACTIVE</td>\n",
       "      <td>FIELD</td>\n",
       "      <td>(SAA) SOUTH AFRICAN AIRWAYS</td>\n",
       "      <td>EMEAR-REGION</td>\n",
       "      <td>EMEAR_MEA</td>\n",
       "      <td>CLUSTER_SSA</td>\n",
       "      <td>COUNTRY_ZAF</td>\n",
       "      <td>ANY</td>\n",
       "      <td>Actual</td>\n",
       "      <td>2022</td>\n",
       "      <td>Q2</td>\n",
       "      <td>1</td>\n",
       "      <td>Stg1 Opportunity</td>\n",
       "    </tr>\n",
       "    <tr>\n",
       "      <th>3</th>\n",
       "      <td>FIELD</td>\n",
       "      <td>Operations</td>\n",
       "      <td>REACTIVE</td>\n",
       "      <td>FIELD</td>\n",
       "      <td>(SAPS) – SOUTH AFRICAN POLICE SERVICES</td>\n",
       "      <td>EMEAR-REGION</td>\n",
       "      <td>EMEAR_MEA</td>\n",
       "      <td>CLUSTER_SSA</td>\n",
       "      <td>COUNTRY_ZAF</td>\n",
       "      <td>ANY</td>\n",
       "      <td>Actual</td>\n",
       "      <td>2022</td>\n",
       "      <td>Q2</td>\n",
       "      <td>1</td>\n",
       "      <td>Stg1 Opportunity</td>\n",
       "    </tr>\n",
       "    <tr>\n",
       "      <th>4</th>\n",
       "      <td>FIELD</td>\n",
       "      <td>Operations</td>\n",
       "      <td>REACTIVE</td>\n",
       "      <td>FIELD</td>\n",
       "      <td>(SARS) SOUTH AFRICAN RESERVE SERVICES</td>\n",
       "      <td>EMEAR-REGION</td>\n",
       "      <td>EMEAR_MEA</td>\n",
       "      <td>SMALL_MEA</td>\n",
       "      <td>SMALL_SSA</td>\n",
       "      <td>ANY</td>\n",
       "      <td>Actual</td>\n",
       "      <td>2022</td>\n",
       "      <td>Q2</td>\n",
       "      <td>1</td>\n",
       "      <td>Stg1 Opportunity</td>\n",
       "    </tr>\n",
       "    <tr>\n",
       "      <th>...</th>\n",
       "      <td>...</td>\n",
       "      <td>...</td>\n",
       "      <td>...</td>\n",
       "      <td>...</td>\n",
       "      <td>...</td>\n",
       "      <td>...</td>\n",
       "      <td>...</td>\n",
       "      <td>...</td>\n",
       "      <td>...</td>\n",
       "      <td>...</td>\n",
       "      <td>...</td>\n",
       "      <td>...</td>\n",
       "      <td>...</td>\n",
       "      <td>...</td>\n",
       "      <td>...</td>\n",
       "    </tr>\n",
       "    <tr>\n",
       "      <th>8222</th>\n",
       "      <td>TARGETING</td>\n",
       "      <td>Operations</td>\n",
       "      <td>SUCCESS TRACKS FOR CAMPUS TARGETING - DYNAMIC</td>\n",
       "      <td>TARGETING</td>\n",
       "      <td>YANTAI WANHUA GROUP</td>\n",
       "      <td>APJC</td>\n",
       "      <td>GREATER_CHINA</td>\n",
       "      <td>CN_NORTH</td>\n",
       "      <td>CN_ENT_NORTH_MET</td>\n",
       "      <td>ST</td>\n",
       "      <td>Actual</td>\n",
       "      <td>2022</td>\n",
       "      <td>Q2</td>\n",
       "      <td>1</td>\n",
       "      <td>Stg1 Opportunity</td>\n",
       "    </tr>\n",
       "    <tr>\n",
       "      <th>8223</th>\n",
       "      <td>TARGETING</td>\n",
       "      <td>Operations</td>\n",
       "      <td>SUCCESS TRACKS FOR CAMPUS TARGETING - DYNAMIC</td>\n",
       "      <td>TARGETING</td>\n",
       "      <td>YPFB TRANSPORTE</td>\n",
       "      <td>AMERICAS</td>\n",
       "      <td>LATIN AMERICA</td>\n",
       "      <td>M_C_R</td>\n",
       "      <td>PERU_ANDEAN</td>\n",
       "      <td>ST</td>\n",
       "      <td>Actual</td>\n",
       "      <td>2022</td>\n",
       "      <td>Q1</td>\n",
       "      <td>1</td>\n",
       "      <td>Stg1 Opportunity</td>\n",
       "    </tr>\n",
       "    <tr>\n",
       "      <th>8224</th>\n",
       "      <td>TARGETING</td>\n",
       "      <td>Operations</td>\n",
       "      <td>SUCCESS TRACKS FOR CAMPUS TARGETING - DYNAMIC</td>\n",
       "      <td>TARGETING</td>\n",
       "      <td>ZENSAR TECHNOLOGIES LTD</td>\n",
       "      <td>APJC</td>\n",
       "      <td>INDIA_AREA</td>\n",
       "      <td>IND_ENTERPRISE_MAJOR</td>\n",
       "      <td>IND_ENT_STRATEGIC</td>\n",
       "      <td>ST</td>\n",
       "      <td>Actual</td>\n",
       "      <td>2022</td>\n",
       "      <td>Q2</td>\n",
       "      <td>1</td>\n",
       "      <td>Stg1 Opportunity</td>\n",
       "    </tr>\n",
       "    <tr>\n",
       "      <th>8225</th>\n",
       "      <td>TARGETING</td>\n",
       "      <td>Operations</td>\n",
       "      <td>SUCCESS TRACKS FOR CAMPUS TARGETING - DYNAMIC</td>\n",
       "      <td>TARGETING</td>\n",
       "      <td>ZURICH INSURANCE GROUP</td>\n",
       "      <td>EMEAR-REGION</td>\n",
       "      <td>EMEAR-CENTRAL</td>\n",
       "      <td>COUNTRY_SWITZERLAND</td>\n",
       "      <td>SWITZERLAND_CGEM</td>\n",
       "      <td>ST</td>\n",
       "      <td>Actual</td>\n",
       "      <td>2022</td>\n",
       "      <td>Q2</td>\n",
       "      <td>1</td>\n",
       "      <td>Stg1 Opportunity</td>\n",
       "    </tr>\n",
       "    <tr>\n",
       "      <th>8226</th>\n",
       "      <td>TARGETING</td>\n",
       "      <td>Operations</td>\n",
       "      <td>SUCCESS TRACKS FOR CAMPUS TARGETING - DYNAMIC</td>\n",
       "      <td>TARGETING</td>\n",
       "      <td>ZYDUS CADILA LIMITED</td>\n",
       "      <td>APJC</td>\n",
       "      <td>INDIA_AREA</td>\n",
       "      <td>IND_COMMERCIAL_OTH</td>\n",
       "      <td>IND_WEST</td>\n",
       "      <td>ST</td>\n",
       "      <td>Actual</td>\n",
       "      <td>2022</td>\n",
       "      <td>Q2</td>\n",
       "      <td>1</td>\n",
       "      <td>Stg1 Opportunity</td>\n",
       "    </tr>\n",
       "  </tbody>\n",
       "</table>\n",
       "<p>8227 rows × 15 columns</p>\n",
       "</div>"
      ],
      "text/plain": [
       "         Method Measure Group                                       Campaign  \\\n",
       "0         FIELD    Operations                                       REACTIVE   \n",
       "1         FIELD    Operations                                       REACTIVE   \n",
       "2         FIELD    Operations                                       REACTIVE   \n",
       "3         FIELD    Operations                                       REACTIVE   \n",
       "4         FIELD    Operations                                       REACTIVE   \n",
       "...         ...           ...                                            ...   \n",
       "8222  TARGETING    Operations  SUCCESS TRACKS FOR CAMPUS TARGETING - DYNAMIC   \n",
       "8223  TARGETING    Operations  SUCCESS TRACKS FOR CAMPUS TARGETING - DYNAMIC   \n",
       "8224  TARGETING    Operations  SUCCESS TRACKS FOR CAMPUS TARGETING - DYNAMIC   \n",
       "8225  TARGETING    Operations  SUCCESS TRACKS FOR CAMPUS TARGETING - DYNAMIC   \n",
       "8226  TARGETING    Operations  SUCCESS TRACKS FOR CAMPUS TARGETING - DYNAMIC   \n",
       "\n",
       "     Campaign Type                            Customer Name Sales Level 1  \\\n",
       "0            FIELD  (ACSA) AIRPORTS COMPANY OF SOUTH AFRICA  EMEAR-REGION   \n",
       "1            FIELD      (PIC) PUBLIC INVESTMENT CORPORATION  EMEAR-REGION   \n",
       "2            FIELD              (SAA) SOUTH AFRICAN AIRWAYS  EMEAR-REGION   \n",
       "3            FIELD   (SAPS) – SOUTH AFRICAN POLICE SERVICES  EMEAR-REGION   \n",
       "4            FIELD    (SARS) SOUTH AFRICAN RESERVE SERVICES  EMEAR-REGION   \n",
       "...            ...                                      ...           ...   \n",
       "8222     TARGETING                      YANTAI WANHUA GROUP          APJC   \n",
       "8223     TARGETING                          YPFB TRANSPORTE      AMERICAS   \n",
       "8224     TARGETING                  ZENSAR TECHNOLOGIES LTD          APJC   \n",
       "8225     TARGETING                   ZURICH INSURANCE GROUP  EMEAR-REGION   \n",
       "8226     TARGETING                     ZYDUS CADILA LIMITED          APJC   \n",
       "\n",
       "      Sales Level 2         Sales Level 3      Sales Level 4 Offer Focus  \\\n",
       "0         EMEAR_MEA           CLUSTER_SSA        COUNTRY_ZAF         ANY   \n",
       "1         EMEAR_MEA           CLUSTER_SSA        COUNTRY_ZAF         ANY   \n",
       "2         EMEAR_MEA           CLUSTER_SSA        COUNTRY_ZAF         ANY   \n",
       "3         EMEAR_MEA           CLUSTER_SSA        COUNTRY_ZAF         ANY   \n",
       "4         EMEAR_MEA             SMALL_MEA          SMALL_SSA         ANY   \n",
       "...             ...                   ...                ...         ...   \n",
       "8222  GREATER_CHINA              CN_NORTH   CN_ENT_NORTH_MET          ST   \n",
       "8223  LATIN AMERICA                 M_C_R        PERU_ANDEAN          ST   \n",
       "8224     INDIA_AREA  IND_ENTERPRISE_MAJOR  IND_ENT_STRATEGIC          ST   \n",
       "8225  EMEAR-CENTRAL   COUNTRY_SWITZERLAND   SWITZERLAND_CGEM          ST   \n",
       "8226     INDIA_AREA    IND_COMMERCIAL_OTH           IND_WEST          ST   \n",
       "\n",
       "     Value Type Report FY Report FQ  Value           Measure  \n",
       "0        Actual      2022        Q2      1  Stg1 Opportunity  \n",
       "1        Actual      2022        Q2      1  Stg1 Opportunity  \n",
       "2        Actual      2022        Q2      1  Stg1 Opportunity  \n",
       "3        Actual      2022        Q2      1  Stg1 Opportunity  \n",
       "4        Actual      2022        Q2      1  Stg1 Opportunity  \n",
       "...         ...       ...       ...    ...               ...  \n",
       "8222     Actual      2022        Q2      1  Stg1 Opportunity  \n",
       "8223     Actual      2022        Q1      1  Stg1 Opportunity  \n",
       "8224     Actual      2022        Q2      1  Stg1 Opportunity  \n",
       "8225     Actual      2022        Q2      1  Stg1 Opportunity  \n",
       "8226     Actual      2022        Q2      1  Stg1 Opportunity  \n",
       "\n",
       "[8227 rows x 15 columns]"
      ]
     },
     "execution_count": 298,
     "metadata": {},
     "output_type": "execute_result"
    }
   ],
   "source": [
    "agg_opps['Measure'] = 'Stg1 Opportunity'\n",
    "agg_opps.rename(columns={'OPPTY_STG1_CREATED':'Value'}, inplace=True)\n",
    "agg_opps"
   ]
  },
  {
   "cell_type": "code",
   "execution_count": 299,
   "metadata": {},
   "outputs": [],
   "source": [
    "readouts_done = df.loc[(df['Report FY']=='2022') & (df['READOUTS_DONE'] == 1) & (df['Campaign Type'].isin(['TAC','TARGETING','TELEMETRY','SSPT','FIELD','PROACTIVE COVERAGE','COVERAGE AT RENEWAL','COVERAGE PROGRAM'])) ] #& (df['Method'].str.contains('M1', na=False, case=False)) "
   ]
  },
  {
   "cell_type": "code",
   "execution_count": 300,
   "metadata": {},
   "outputs": [],
   "source": [
    "agg_readouts = pd.DataFrame(readouts_done.groupby(['Method', 'Measure Group','Campaign', 'Campaign Type','Customer Name', 'Sales Level 1', 'Sales Level 2', 'Sales Level 3', 'Sales Level 4','Offer Focus', 'Value Type','Report FY','Report FQ'])['READOUTS_DONE'].sum())"
   ]
  },
  {
   "cell_type": "code",
   "execution_count": 301,
   "metadata": {},
   "outputs": [],
   "source": [
    "agg_readouts.reset_index(inplace=True)"
   ]
  },
  {
   "cell_type": "code",
   "execution_count": 302,
   "metadata": {},
   "outputs": [
    {
     "data": {
      "text/html": [
       "<div>\n",
       "<style scoped>\n",
       "    .dataframe tbody tr th:only-of-type {\n",
       "        vertical-align: middle;\n",
       "    }\n",
       "\n",
       "    .dataframe tbody tr th {\n",
       "        vertical-align: top;\n",
       "    }\n",
       "\n",
       "    .dataframe thead th {\n",
       "        text-align: right;\n",
       "    }\n",
       "</style>\n",
       "<table border=\"1\" class=\"dataframe\">\n",
       "  <thead>\n",
       "    <tr style=\"text-align: right;\">\n",
       "      <th></th>\n",
       "      <th>Method</th>\n",
       "      <th>Measure Group</th>\n",
       "      <th>Campaign</th>\n",
       "      <th>Campaign Type</th>\n",
       "      <th>Customer Name</th>\n",
       "      <th>Sales Level 1</th>\n",
       "      <th>Sales Level 2</th>\n",
       "      <th>Sales Level 3</th>\n",
       "      <th>Sales Level 4</th>\n",
       "      <th>Offer Focus</th>\n",
       "      <th>Value Type</th>\n",
       "      <th>Report FY</th>\n",
       "      <th>Report FQ</th>\n",
       "      <th>Value</th>\n",
       "      <th>Measure</th>\n",
       "    </tr>\n",
       "  </thead>\n",
       "  <tbody>\n",
       "    <tr>\n",
       "      <th>0</th>\n",
       "      <td>FIELD</td>\n",
       "      <td>Operations</td>\n",
       "      <td>REACTIVE</td>\n",
       "      <td>FIELD</td>\n",
       "      <td>(ACSA) AIRPORTS COMPANY OF SOUTH AFRICA</td>\n",
       "      <td>EMEAR-REGION</td>\n",
       "      <td>EMEAR_MEA</td>\n",
       "      <td>CLUSTER_SSA</td>\n",
       "      <td>COUNTRY_ZAF</td>\n",
       "      <td>ANY</td>\n",
       "      <td>Actual</td>\n",
       "      <td>2022</td>\n",
       "      <td>Q2</td>\n",
       "      <td>1</td>\n",
       "      <td>Readouts Delivered</td>\n",
       "    </tr>\n",
       "    <tr>\n",
       "      <th>1</th>\n",
       "      <td>FIELD</td>\n",
       "      <td>Operations</td>\n",
       "      <td>REACTIVE</td>\n",
       "      <td>FIELD</td>\n",
       "      <td>(PIC) PUBLIC INVESTMENT CORPORATION</td>\n",
       "      <td>EMEAR-REGION</td>\n",
       "      <td>EMEAR_MEA</td>\n",
       "      <td>CLUSTER_SSA</td>\n",
       "      <td>COUNTRY_ZAF</td>\n",
       "      <td>ANY</td>\n",
       "      <td>Actual</td>\n",
       "      <td>2022</td>\n",
       "      <td>Q2</td>\n",
       "      <td>1</td>\n",
       "      <td>Readouts Delivered</td>\n",
       "    </tr>\n",
       "    <tr>\n",
       "      <th>2</th>\n",
       "      <td>FIELD</td>\n",
       "      <td>Operations</td>\n",
       "      <td>REACTIVE</td>\n",
       "      <td>FIELD</td>\n",
       "      <td>(SAA) SOUTH AFRICAN AIRWAYS</td>\n",
       "      <td>EMEAR-REGION</td>\n",
       "      <td>EMEAR_MEA</td>\n",
       "      <td>CLUSTER_SSA</td>\n",
       "      <td>COUNTRY_ZAF</td>\n",
       "      <td>ANY</td>\n",
       "      <td>Actual</td>\n",
       "      <td>2022</td>\n",
       "      <td>Q2</td>\n",
       "      <td>1</td>\n",
       "      <td>Readouts Delivered</td>\n",
       "    </tr>\n",
       "    <tr>\n",
       "      <th>3</th>\n",
       "      <td>FIELD</td>\n",
       "      <td>Operations</td>\n",
       "      <td>REACTIVE</td>\n",
       "      <td>FIELD</td>\n",
       "      <td>(SAPS) – SOUTH AFRICAN POLICE SERVICES</td>\n",
       "      <td>EMEAR-REGION</td>\n",
       "      <td>EMEAR_MEA</td>\n",
       "      <td>CLUSTER_SSA</td>\n",
       "      <td>COUNTRY_ZAF</td>\n",
       "      <td>ANY</td>\n",
       "      <td>Actual</td>\n",
       "      <td>2022</td>\n",
       "      <td>Q2</td>\n",
       "      <td>1</td>\n",
       "      <td>Readouts Delivered</td>\n",
       "    </tr>\n",
       "    <tr>\n",
       "      <th>4</th>\n",
       "      <td>FIELD</td>\n",
       "      <td>Operations</td>\n",
       "      <td>REACTIVE</td>\n",
       "      <td>FIELD</td>\n",
       "      <td>(SARS) SOUTH AFRICAN RESERVE SERVICES</td>\n",
       "      <td>EMEAR-REGION</td>\n",
       "      <td>EMEAR_MEA</td>\n",
       "      <td>SMALL_MEA</td>\n",
       "      <td>SMALL_SSA</td>\n",
       "      <td>ANY</td>\n",
       "      <td>Actual</td>\n",
       "      <td>2022</td>\n",
       "      <td>Q2</td>\n",
       "      <td>1</td>\n",
       "      <td>Readouts Delivered</td>\n",
       "    </tr>\n",
       "    <tr>\n",
       "      <th>...</th>\n",
       "      <td>...</td>\n",
       "      <td>...</td>\n",
       "      <td>...</td>\n",
       "      <td>...</td>\n",
       "      <td>...</td>\n",
       "      <td>...</td>\n",
       "      <td>...</td>\n",
       "      <td>...</td>\n",
       "      <td>...</td>\n",
       "      <td>...</td>\n",
       "      <td>...</td>\n",
       "      <td>...</td>\n",
       "      <td>...</td>\n",
       "      <td>...</td>\n",
       "      <td>...</td>\n",
       "    </tr>\n",
       "    <tr>\n",
       "      <th>4197</th>\n",
       "      <td>TARGETING</td>\n",
       "      <td>Operations</td>\n",
       "      <td>SUCCESS TRACKS FOR CAMPUS TARGETING - DYNAMIC</td>\n",
       "      <td>TARGETING</td>\n",
       "      <td>YAKULT</td>\n",
       "      <td>APJC</td>\n",
       "      <td>ASEAN_AREA</td>\n",
       "      <td>ASEAN_PH</td>\n",
       "      <td>ASEAN_COM_PHL</td>\n",
       "      <td>ST</td>\n",
       "      <td>Actual</td>\n",
       "      <td>2022</td>\n",
       "      <td>Q2</td>\n",
       "      <td>1</td>\n",
       "      <td>Readouts Delivered</td>\n",
       "    </tr>\n",
       "    <tr>\n",
       "      <th>4198</th>\n",
       "      <td>TARGETING</td>\n",
       "      <td>Operations</td>\n",
       "      <td>SUCCESS TRACKS FOR CAMPUS TARGETING - DYNAMIC</td>\n",
       "      <td>TARGETING</td>\n",
       "      <td>YAMAHA MOTOR CO. LTD.</td>\n",
       "      <td>APJC</td>\n",
       "      <td>JAPAN__</td>\n",
       "      <td>JP_COMMERCIAL_OTH</td>\n",
       "      <td>JP_COM_SELECT</td>\n",
       "      <td>ST</td>\n",
       "      <td>Actual</td>\n",
       "      <td>2022</td>\n",
       "      <td>Q2</td>\n",
       "      <td>1</td>\n",
       "      <td>Readouts Delivered</td>\n",
       "    </tr>\n",
       "    <tr>\n",
       "      <th>4199</th>\n",
       "      <td>TARGETING</td>\n",
       "      <td>Operations</td>\n",
       "      <td>SUCCESS TRACKS FOR CAMPUS TARGETING - DYNAMIC</td>\n",
       "      <td>TARGETING</td>\n",
       "      <td>YANTAI WANHUA GROUP</td>\n",
       "      <td>APJC</td>\n",
       "      <td>GREATER_CHINA</td>\n",
       "      <td>CN_NORTH</td>\n",
       "      <td>CN_ENT_NORTH_MET</td>\n",
       "      <td>ST</td>\n",
       "      <td>Actual</td>\n",
       "      <td>2022</td>\n",
       "      <td>Q2</td>\n",
       "      <td>1</td>\n",
       "      <td>Readouts Delivered</td>\n",
       "    </tr>\n",
       "    <tr>\n",
       "      <th>4200</th>\n",
       "      <td>TARGETING</td>\n",
       "      <td>Operations</td>\n",
       "      <td>SUCCESS TRACKS FOR CAMPUS TARGETING - DYNAMIC</td>\n",
       "      <td>TARGETING</td>\n",
       "      <td>ZENSAR TECHNOLOGIES LTD</td>\n",
       "      <td>APJC</td>\n",
       "      <td>INDIA_AREA</td>\n",
       "      <td>IND_ENTERPRISE_MAJOR</td>\n",
       "      <td>IND_ENT_STRATEGIC</td>\n",
       "      <td>ST</td>\n",
       "      <td>Actual</td>\n",
       "      <td>2022</td>\n",
       "      <td>Q2</td>\n",
       "      <td>1</td>\n",
       "      <td>Readouts Delivered</td>\n",
       "    </tr>\n",
       "    <tr>\n",
       "      <th>4201</th>\n",
       "      <td>TARGETING</td>\n",
       "      <td>Operations</td>\n",
       "      <td>SUCCESS TRACKS FOR CAMPUS TARGETING - DYNAMIC</td>\n",
       "      <td>TARGETING</td>\n",
       "      <td>ZURICH INSURANCE GROUP</td>\n",
       "      <td>EMEAR-REGION</td>\n",
       "      <td>EMEAR-CENTRAL</td>\n",
       "      <td>COUNTRY_SWITZERLAND</td>\n",
       "      <td>SWITZERLAND_CGEM</td>\n",
       "      <td>ST</td>\n",
       "      <td>Actual</td>\n",
       "      <td>2022</td>\n",
       "      <td>Q2</td>\n",
       "      <td>1</td>\n",
       "      <td>Readouts Delivered</td>\n",
       "    </tr>\n",
       "  </tbody>\n",
       "</table>\n",
       "<p>4202 rows × 15 columns</p>\n",
       "</div>"
      ],
      "text/plain": [
       "         Method Measure Group                                       Campaign  \\\n",
       "0         FIELD    Operations                                       REACTIVE   \n",
       "1         FIELD    Operations                                       REACTIVE   \n",
       "2         FIELD    Operations                                       REACTIVE   \n",
       "3         FIELD    Operations                                       REACTIVE   \n",
       "4         FIELD    Operations                                       REACTIVE   \n",
       "...         ...           ...                                            ...   \n",
       "4197  TARGETING    Operations  SUCCESS TRACKS FOR CAMPUS TARGETING - DYNAMIC   \n",
       "4198  TARGETING    Operations  SUCCESS TRACKS FOR CAMPUS TARGETING - DYNAMIC   \n",
       "4199  TARGETING    Operations  SUCCESS TRACKS FOR CAMPUS TARGETING - DYNAMIC   \n",
       "4200  TARGETING    Operations  SUCCESS TRACKS FOR CAMPUS TARGETING - DYNAMIC   \n",
       "4201  TARGETING    Operations  SUCCESS TRACKS FOR CAMPUS TARGETING - DYNAMIC   \n",
       "\n",
       "     Campaign Type                            Customer Name Sales Level 1  \\\n",
       "0            FIELD  (ACSA) AIRPORTS COMPANY OF SOUTH AFRICA  EMEAR-REGION   \n",
       "1            FIELD      (PIC) PUBLIC INVESTMENT CORPORATION  EMEAR-REGION   \n",
       "2            FIELD              (SAA) SOUTH AFRICAN AIRWAYS  EMEAR-REGION   \n",
       "3            FIELD   (SAPS) – SOUTH AFRICAN POLICE SERVICES  EMEAR-REGION   \n",
       "4            FIELD    (SARS) SOUTH AFRICAN RESERVE SERVICES  EMEAR-REGION   \n",
       "...            ...                                      ...           ...   \n",
       "4197     TARGETING                                   YAKULT          APJC   \n",
       "4198     TARGETING                    YAMAHA MOTOR CO. LTD.          APJC   \n",
       "4199     TARGETING                      YANTAI WANHUA GROUP          APJC   \n",
       "4200     TARGETING                  ZENSAR TECHNOLOGIES LTD          APJC   \n",
       "4201     TARGETING                   ZURICH INSURANCE GROUP  EMEAR-REGION   \n",
       "\n",
       "      Sales Level 2         Sales Level 3      Sales Level 4 Offer Focus  \\\n",
       "0         EMEAR_MEA           CLUSTER_SSA        COUNTRY_ZAF         ANY   \n",
       "1         EMEAR_MEA           CLUSTER_SSA        COUNTRY_ZAF         ANY   \n",
       "2         EMEAR_MEA           CLUSTER_SSA        COUNTRY_ZAF         ANY   \n",
       "3         EMEAR_MEA           CLUSTER_SSA        COUNTRY_ZAF         ANY   \n",
       "4         EMEAR_MEA             SMALL_MEA          SMALL_SSA         ANY   \n",
       "...             ...                   ...                ...         ...   \n",
       "4197     ASEAN_AREA              ASEAN_PH      ASEAN_COM_PHL          ST   \n",
       "4198        JAPAN__     JP_COMMERCIAL_OTH      JP_COM_SELECT          ST   \n",
       "4199  GREATER_CHINA              CN_NORTH   CN_ENT_NORTH_MET          ST   \n",
       "4200     INDIA_AREA  IND_ENTERPRISE_MAJOR  IND_ENT_STRATEGIC          ST   \n",
       "4201  EMEAR-CENTRAL   COUNTRY_SWITZERLAND   SWITZERLAND_CGEM          ST   \n",
       "\n",
       "     Value Type Report FY Report FQ  Value             Measure  \n",
       "0        Actual      2022        Q2      1  Readouts Delivered  \n",
       "1        Actual      2022        Q2      1  Readouts Delivered  \n",
       "2        Actual      2022        Q2      1  Readouts Delivered  \n",
       "3        Actual      2022        Q2      1  Readouts Delivered  \n",
       "4        Actual      2022        Q2      1  Readouts Delivered  \n",
       "...         ...       ...       ...    ...                 ...  \n",
       "4197     Actual      2022        Q2      1  Readouts Delivered  \n",
       "4198     Actual      2022        Q2      1  Readouts Delivered  \n",
       "4199     Actual      2022        Q2      1  Readouts Delivered  \n",
       "4200     Actual      2022        Q2      1  Readouts Delivered  \n",
       "4201     Actual      2022        Q2      1  Readouts Delivered  \n",
       "\n",
       "[4202 rows x 15 columns]"
      ]
     },
     "execution_count": 302,
     "metadata": {},
     "output_type": "execute_result"
    }
   ],
   "source": [
    "agg_readouts['Measure'] = 'Readouts Delivered'\n",
    "agg_readouts.rename(columns={'READOUTS_DONE':'Value'}, inplace=True)\n",
    "agg_readouts"
   ]
  },
  {
   "cell_type": "code",
   "execution_count": 303,
   "metadata": {},
   "outputs": [],
   "source": [
    "offers_created = df.loc[(df['Report FY']=='2022') & (df['OFFER_CREATED'] == 1) & (df['Campaign Type'].isin(['TAC','TARGETING','TELEMETRY','SSPT','FIELD','PROACTIVE COVERAGE','COVERAGE AT RENEWAL'])) ]   #& (df['Method'].str.contains('M1', na=False, case=False)) "
   ]
  },
  {
   "cell_type": "code",
   "execution_count": 304,
   "metadata": {},
   "outputs": [],
   "source": [
    "agg_offers = pd.DataFrame(offers_created.groupby(['Method', 'Measure Group','Campaign', 'Campaign Type','Customer Name', 'Sales Level 1', 'Sales Level 2', 'Sales Level 3', 'Sales Level 4','Offer Focus', 'Value Type','Report FY','Report FQ'])['OFFER_CREATED'].sum())"
   ]
  },
  {
   "cell_type": "code",
   "execution_count": 305,
   "metadata": {},
   "outputs": [],
   "source": [
    "agg_offers.reset_index(inplace=True)"
   ]
  },
  {
   "cell_type": "code",
   "execution_count": 306,
   "metadata": {},
   "outputs": [
    {
     "data": {
      "text/html": [
       "<div>\n",
       "<style scoped>\n",
       "    .dataframe tbody tr th:only-of-type {\n",
       "        vertical-align: middle;\n",
       "    }\n",
       "\n",
       "    .dataframe tbody tr th {\n",
       "        vertical-align: top;\n",
       "    }\n",
       "\n",
       "    .dataframe thead th {\n",
       "        text-align: right;\n",
       "    }\n",
       "</style>\n",
       "<table border=\"1\" class=\"dataframe\">\n",
       "  <thead>\n",
       "    <tr style=\"text-align: right;\">\n",
       "      <th></th>\n",
       "      <th>Method</th>\n",
       "      <th>Measure Group</th>\n",
       "      <th>Campaign</th>\n",
       "      <th>Campaign Type</th>\n",
       "      <th>Customer Name</th>\n",
       "      <th>Sales Level 1</th>\n",
       "      <th>Sales Level 2</th>\n",
       "      <th>Sales Level 3</th>\n",
       "      <th>Sales Level 4</th>\n",
       "      <th>Offer Focus</th>\n",
       "      <th>Value Type</th>\n",
       "      <th>Report FY</th>\n",
       "      <th>Report FQ</th>\n",
       "      <th>Value</th>\n",
       "      <th>Measure</th>\n",
       "    </tr>\n",
       "  </thead>\n",
       "  <tbody>\n",
       "    <tr>\n",
       "      <th>0</th>\n",
       "      <td>FIELD</td>\n",
       "      <td>Operations</td>\n",
       "      <td>REACTIVE</td>\n",
       "      <td>FIELD</td>\n",
       "      <td>(PIC) PUBLIC INVESTMENT CORPORATION</td>\n",
       "      <td>EMEAR-REGION</td>\n",
       "      <td>EMEAR_MEA</td>\n",
       "      <td>CLUSTER_SSA</td>\n",
       "      <td>COUNTRY_ZAF</td>\n",
       "      <td>ANY</td>\n",
       "      <td>Actual</td>\n",
       "      <td>2022</td>\n",
       "      <td>Q2</td>\n",
       "      <td>1</td>\n",
       "      <td>Offers Created</td>\n",
       "    </tr>\n",
       "    <tr>\n",
       "      <th>1</th>\n",
       "      <td>FIELD</td>\n",
       "      <td>Operations</td>\n",
       "      <td>REACTIVE</td>\n",
       "      <td>FIELD</td>\n",
       "      <td>(SAPS) – SOUTH AFRICAN POLICE SERVICES</td>\n",
       "      <td>EMEAR-REGION</td>\n",
       "      <td>EMEAR_MEA</td>\n",
       "      <td>CLUSTER_SSA</td>\n",
       "      <td>COUNTRY_ZAF</td>\n",
       "      <td>ANY</td>\n",
       "      <td>Actual</td>\n",
       "      <td>2022</td>\n",
       "      <td>Q2</td>\n",
       "      <td>1</td>\n",
       "      <td>Offers Created</td>\n",
       "    </tr>\n",
       "    <tr>\n",
       "      <th>2</th>\n",
       "      <td>FIELD</td>\n",
       "      <td>Operations</td>\n",
       "      <td>REACTIVE</td>\n",
       "      <td>FIELD</td>\n",
       "      <td>(SARS) SOUTH AFRICAN RESERVE SERVICES</td>\n",
       "      <td>EMEAR-REGION</td>\n",
       "      <td>EMEAR_MEA</td>\n",
       "      <td>SMALL_MEA</td>\n",
       "      <td>SMALL_SSA</td>\n",
       "      <td>ANY</td>\n",
       "      <td>Actual</td>\n",
       "      <td>2022</td>\n",
       "      <td>Q2</td>\n",
       "      <td>1</td>\n",
       "      <td>Offers Created</td>\n",
       "    </tr>\n",
       "    <tr>\n",
       "      <th>3</th>\n",
       "      <td>FIELD</td>\n",
       "      <td>Operations</td>\n",
       "      <td>REACTIVE</td>\n",
       "      <td>FIELD</td>\n",
       "      <td>ABSA GROUP</td>\n",
       "      <td>EMEAR-REGION</td>\n",
       "      <td>EMEAR_MEA</td>\n",
       "      <td>CLUSTER_SSA</td>\n",
       "      <td>COUNTRY_ZAF</td>\n",
       "      <td>ANY</td>\n",
       "      <td>Actual</td>\n",
       "      <td>2022</td>\n",
       "      <td>Q2</td>\n",
       "      <td>1</td>\n",
       "      <td>Offers Created</td>\n",
       "    </tr>\n",
       "    <tr>\n",
       "      <th>4</th>\n",
       "      <td>FIELD</td>\n",
       "      <td>Operations</td>\n",
       "      <td>REACTIVE</td>\n",
       "      <td>FIELD</td>\n",
       "      <td>ADP LLC</td>\n",
       "      <td>AMERICAS</td>\n",
       "      <td>GLOBAL ENTERPRISE SEGMENT</td>\n",
       "      <td>GES EAST</td>\n",
       "      <td>GLL_K_ADP</td>\n",
       "      <td>ANY</td>\n",
       "      <td>Actual</td>\n",
       "      <td>2022</td>\n",
       "      <td>Q3</td>\n",
       "      <td>1</td>\n",
       "      <td>Offers Created</td>\n",
       "    </tr>\n",
       "    <tr>\n",
       "      <th>...</th>\n",
       "      <td>...</td>\n",
       "      <td>...</td>\n",
       "      <td>...</td>\n",
       "      <td>...</td>\n",
       "      <td>...</td>\n",
       "      <td>...</td>\n",
       "      <td>...</td>\n",
       "      <td>...</td>\n",
       "      <td>...</td>\n",
       "      <td>...</td>\n",
       "      <td>...</td>\n",
       "      <td>...</td>\n",
       "      <td>...</td>\n",
       "      <td>...</td>\n",
       "      <td>...</td>\n",
       "    </tr>\n",
       "    <tr>\n",
       "      <th>1083</th>\n",
       "      <td>TARGETING</td>\n",
       "      <td>Operations</td>\n",
       "      <td>SUCCESS TRACKS FOR CAMPUS TARGETING - DYNAMIC</td>\n",
       "      <td>TARGETING</td>\n",
       "      <td>FERROCARRIL MEXICANO S.A. DE C.V</td>\n",
       "      <td>AMERICAS</td>\n",
       "      <td>LATIN AMERICA</td>\n",
       "      <td>MEXICO-</td>\n",
       "      <td>MEXICO ENTERPRISE</td>\n",
       "      <td>ST</td>\n",
       "      <td>Actual</td>\n",
       "      <td>2022</td>\n",
       "      <td>Q2</td>\n",
       "      <td>1</td>\n",
       "      <td>Offers Created</td>\n",
       "    </tr>\n",
       "    <tr>\n",
       "      <th>1084</th>\n",
       "      <td>TARGETING</td>\n",
       "      <td>Operations</td>\n",
       "      <td>SUCCESS TRACKS FOR CAMPUS TARGETING - DYNAMIC</td>\n",
       "      <td>TARGETING</td>\n",
       "      <td>NATIONAL AIR TRAFFIC SERVICES LTD</td>\n",
       "      <td>EMEAR-REGION</td>\n",
       "      <td>EMEAR-UKI</td>\n",
       "      <td>PUBLIC_SECTOR_EAW</td>\n",
       "      <td>PS_EAW_GOVT_NAT_SEC</td>\n",
       "      <td>ST</td>\n",
       "      <td>Actual</td>\n",
       "      <td>2022</td>\n",
       "      <td>Q2</td>\n",
       "      <td>1</td>\n",
       "      <td>Offers Created</td>\n",
       "    </tr>\n",
       "    <tr>\n",
       "      <th>1085</th>\n",
       "      <td>TARGETING</td>\n",
       "      <td>Operations</td>\n",
       "      <td>SUCCESS TRACKS FOR CAMPUS TARGETING - DYNAMIC</td>\n",
       "      <td>TARGETING</td>\n",
       "      <td>NEW JERSEY INSTITUTE OF TECHNOLOGY</td>\n",
       "      <td>AMERICAS</td>\n",
       "      <td>US PS MARKET SEGMENT</td>\n",
       "      <td>SLED-EAST AREA</td>\n",
       "      <td>SLED-NORTHEAST OPERATION</td>\n",
       "      <td>ST</td>\n",
       "      <td>Actual</td>\n",
       "      <td>2022</td>\n",
       "      <td>Q2</td>\n",
       "      <td>1</td>\n",
       "      <td>Offers Created</td>\n",
       "    </tr>\n",
       "    <tr>\n",
       "      <th>1086</th>\n",
       "      <td>TARGETING</td>\n",
       "      <td>Operations</td>\n",
       "      <td>SUCCESS TRACKS FOR CAMPUS TARGETING - DYNAMIC</td>\n",
       "      <td>TARGETING</td>\n",
       "      <td>NISSAN MEXICANA</td>\n",
       "      <td>AMERICAS</td>\n",
       "      <td>LATIN AMERICA</td>\n",
       "      <td>MEXICO-</td>\n",
       "      <td>MEXICO ENTERPRISE</td>\n",
       "      <td>ST</td>\n",
       "      <td>Actual</td>\n",
       "      <td>2022</td>\n",
       "      <td>Q2</td>\n",
       "      <td>1</td>\n",
       "      <td>Offers Created</td>\n",
       "    </tr>\n",
       "    <tr>\n",
       "      <th>1087</th>\n",
       "      <td>TARGETING</td>\n",
       "      <td>Operations</td>\n",
       "      <td>SUCCESS TRACKS FOR CAMPUS TARGETING - DYNAMIC</td>\n",
       "      <td>TARGETING</td>\n",
       "      <td>ROWAN UNIVERSITY</td>\n",
       "      <td>AMERICAS</td>\n",
       "      <td>US PS MARKET SEGMENT</td>\n",
       "      <td>SLED-EAST AREA</td>\n",
       "      <td>SLED-NORTHEAST OPERATION</td>\n",
       "      <td>ST</td>\n",
       "      <td>Actual</td>\n",
       "      <td>2022</td>\n",
       "      <td>Q2</td>\n",
       "      <td>1</td>\n",
       "      <td>Offers Created</td>\n",
       "    </tr>\n",
       "  </tbody>\n",
       "</table>\n",
       "<p>1088 rows × 15 columns</p>\n",
       "</div>"
      ],
      "text/plain": [
       "         Method Measure Group                                       Campaign  \\\n",
       "0         FIELD    Operations                                       REACTIVE   \n",
       "1         FIELD    Operations                                       REACTIVE   \n",
       "2         FIELD    Operations                                       REACTIVE   \n",
       "3         FIELD    Operations                                       REACTIVE   \n",
       "4         FIELD    Operations                                       REACTIVE   \n",
       "...         ...           ...                                            ...   \n",
       "1083  TARGETING    Operations  SUCCESS TRACKS FOR CAMPUS TARGETING - DYNAMIC   \n",
       "1084  TARGETING    Operations  SUCCESS TRACKS FOR CAMPUS TARGETING - DYNAMIC   \n",
       "1085  TARGETING    Operations  SUCCESS TRACKS FOR CAMPUS TARGETING - DYNAMIC   \n",
       "1086  TARGETING    Operations  SUCCESS TRACKS FOR CAMPUS TARGETING - DYNAMIC   \n",
       "1087  TARGETING    Operations  SUCCESS TRACKS FOR CAMPUS TARGETING - DYNAMIC   \n",
       "\n",
       "     Campaign Type                           Customer Name Sales Level 1  \\\n",
       "0            FIELD     (PIC) PUBLIC INVESTMENT CORPORATION  EMEAR-REGION   \n",
       "1            FIELD  (SAPS) – SOUTH AFRICAN POLICE SERVICES  EMEAR-REGION   \n",
       "2            FIELD   (SARS) SOUTH AFRICAN RESERVE SERVICES  EMEAR-REGION   \n",
       "3            FIELD                              ABSA GROUP  EMEAR-REGION   \n",
       "4            FIELD                                 ADP LLC      AMERICAS   \n",
       "...            ...                                     ...           ...   \n",
       "1083     TARGETING        FERROCARRIL MEXICANO S.A. DE C.V      AMERICAS   \n",
       "1084     TARGETING       NATIONAL AIR TRAFFIC SERVICES LTD  EMEAR-REGION   \n",
       "1085     TARGETING      NEW JERSEY INSTITUTE OF TECHNOLOGY      AMERICAS   \n",
       "1086     TARGETING                         NISSAN MEXICANA      AMERICAS   \n",
       "1087     TARGETING                        ROWAN UNIVERSITY      AMERICAS   \n",
       "\n",
       "                  Sales Level 2      Sales Level 3             Sales Level 4  \\\n",
       "0                     EMEAR_MEA        CLUSTER_SSA               COUNTRY_ZAF   \n",
       "1                     EMEAR_MEA        CLUSTER_SSA               COUNTRY_ZAF   \n",
       "2                     EMEAR_MEA          SMALL_MEA                 SMALL_SSA   \n",
       "3                     EMEAR_MEA        CLUSTER_SSA               COUNTRY_ZAF   \n",
       "4     GLOBAL ENTERPRISE SEGMENT           GES EAST                 GLL_K_ADP   \n",
       "...                         ...                ...                       ...   \n",
       "1083              LATIN AMERICA            MEXICO-         MEXICO ENTERPRISE   \n",
       "1084                  EMEAR-UKI  PUBLIC_SECTOR_EAW       PS_EAW_GOVT_NAT_SEC   \n",
       "1085       US PS MARKET SEGMENT     SLED-EAST AREA  SLED-NORTHEAST OPERATION   \n",
       "1086              LATIN AMERICA            MEXICO-         MEXICO ENTERPRISE   \n",
       "1087       US PS MARKET SEGMENT     SLED-EAST AREA  SLED-NORTHEAST OPERATION   \n",
       "\n",
       "     Offer Focus Value Type Report FY Report FQ  Value         Measure  \n",
       "0            ANY     Actual      2022        Q2      1  Offers Created  \n",
       "1            ANY     Actual      2022        Q2      1  Offers Created  \n",
       "2            ANY     Actual      2022        Q2      1  Offers Created  \n",
       "3            ANY     Actual      2022        Q2      1  Offers Created  \n",
       "4            ANY     Actual      2022        Q3      1  Offers Created  \n",
       "...          ...        ...       ...       ...    ...             ...  \n",
       "1083          ST     Actual      2022        Q2      1  Offers Created  \n",
       "1084          ST     Actual      2022        Q2      1  Offers Created  \n",
       "1085          ST     Actual      2022        Q2      1  Offers Created  \n",
       "1086          ST     Actual      2022        Q2      1  Offers Created  \n",
       "1087          ST     Actual      2022        Q2      1  Offers Created  \n",
       "\n",
       "[1088 rows x 15 columns]"
      ]
     },
     "execution_count": 306,
     "metadata": {},
     "output_type": "execute_result"
    }
   ],
   "source": [
    "agg_offers['Measure'] = 'Offers Created'\n",
    "agg_offers.rename(columns={'OFFER_CREATED':'Value'}, inplace=True)\n",
    "agg_offers"
   ]
  },
  {
   "cell_type": "code",
   "execution_count": 307,
   "metadata": {},
   "outputs": [],
   "source": [
    "uncovered_pipeline = df.loc[(df['Report FY']=='2022') & (df['UNCOVERED_OPPTY_VALUE'] > 0) & (df['Campaign Type'].isin(['TAC','TARGETING','TELEMETRY','SSPT','FIELD','PROACTIVE COVERAGE','COVERAGE AT RENEWAL'])) ]    #& (df['Method'].str.contains('M1', na=False, case=False)) "
   ]
  },
  {
   "cell_type": "code",
   "execution_count": 308,
   "metadata": {},
   "outputs": [],
   "source": [
    "agg_unc_pipeline = pd.DataFrame(uncovered_pipeline.groupby(['Method', 'Measure Group','Campaign', 'Campaign Type','Customer Name', 'Sales Level 1', 'Sales Level 2', 'Sales Level 3', 'Sales Level 4','Offer Focus', 'Value Type','Report FY','Report FQ'])['UNCOVERED_OPPTY_VALUE'].sum())"
   ]
  },
  {
   "cell_type": "code",
   "execution_count": 309,
   "metadata": {},
   "outputs": [],
   "source": [
    "agg_unc_pipeline.reset_index(inplace=True)"
   ]
  },
  {
   "cell_type": "code",
   "execution_count": 310,
   "metadata": {},
   "outputs": [
    {
     "data": {
      "text/html": [
       "<div>\n",
       "<style scoped>\n",
       "    .dataframe tbody tr th:only-of-type {\n",
       "        vertical-align: middle;\n",
       "    }\n",
       "\n",
       "    .dataframe tbody tr th {\n",
       "        vertical-align: top;\n",
       "    }\n",
       "\n",
       "    .dataframe thead th {\n",
       "        text-align: right;\n",
       "    }\n",
       "</style>\n",
       "<table border=\"1\" class=\"dataframe\">\n",
       "  <thead>\n",
       "    <tr style=\"text-align: right;\">\n",
       "      <th></th>\n",
       "      <th>Method</th>\n",
       "      <th>Measure Group</th>\n",
       "      <th>Campaign</th>\n",
       "      <th>Campaign Type</th>\n",
       "      <th>Customer Name</th>\n",
       "      <th>Sales Level 1</th>\n",
       "      <th>Sales Level 2</th>\n",
       "      <th>Sales Level 3</th>\n",
       "      <th>Sales Level 4</th>\n",
       "      <th>Offer Focus</th>\n",
       "      <th>Value Type</th>\n",
       "      <th>Report FY</th>\n",
       "      <th>Report FQ</th>\n",
       "      <th>Value</th>\n",
       "      <th>Measure</th>\n",
       "    </tr>\n",
       "  </thead>\n",
       "  <tbody>\n",
       "    <tr>\n",
       "      <th>0</th>\n",
       "      <td>FIELD</td>\n",
       "      <td>Operations</td>\n",
       "      <td>REACTIVE</td>\n",
       "      <td>FIELD</td>\n",
       "      <td>(SAPS) – SOUTH AFRICAN POLICE SERVICES</td>\n",
       "      <td>EMEAR-REGION</td>\n",
       "      <td>EMEAR_MEA</td>\n",
       "      <td>CLUSTER_SSA</td>\n",
       "      <td>COUNTRY_ZAF</td>\n",
       "      <td>ANY</td>\n",
       "      <td>Actual</td>\n",
       "      <td>2022</td>\n",
       "      <td>Q2</td>\n",
       "      <td>331.2</td>\n",
       "      <td>Uncovered Opp Value $(000s)</td>\n",
       "    </tr>\n",
       "    <tr>\n",
       "      <th>1</th>\n",
       "      <td>FIELD</td>\n",
       "      <td>Operations</td>\n",
       "      <td>REACTIVE</td>\n",
       "      <td>FIELD</td>\n",
       "      <td>(SARS) SOUTH AFRICAN RESERVE SERVICES</td>\n",
       "      <td>EMEAR-REGION</td>\n",
       "      <td>EMEAR_MEA</td>\n",
       "      <td>SMALL_MEA</td>\n",
       "      <td>SMALL_SSA</td>\n",
       "      <td>ANY</td>\n",
       "      <td>Actual</td>\n",
       "      <td>2022</td>\n",
       "      <td>Q2</td>\n",
       "      <td>28.8</td>\n",
       "      <td>Uncovered Opp Value $(000s)</td>\n",
       "    </tr>\n",
       "    <tr>\n",
       "      <th>2</th>\n",
       "      <td>FIELD</td>\n",
       "      <td>Operations</td>\n",
       "      <td>REACTIVE</td>\n",
       "      <td>FIELD</td>\n",
       "      <td>ABSA GROUP</td>\n",
       "      <td>EMEAR-REGION</td>\n",
       "      <td>EMEAR_MEA</td>\n",
       "      <td>CLUSTER_SSA</td>\n",
       "      <td>COUNTRY_ZAF</td>\n",
       "      <td>ANY</td>\n",
       "      <td>Actual</td>\n",
       "      <td>2022</td>\n",
       "      <td>Q2</td>\n",
       "      <td>55.8</td>\n",
       "      <td>Uncovered Opp Value $(000s)</td>\n",
       "    </tr>\n",
       "    <tr>\n",
       "      <th>3</th>\n",
       "      <td>FIELD</td>\n",
       "      <td>Operations</td>\n",
       "      <td>REACTIVE</td>\n",
       "      <td>FIELD</td>\n",
       "      <td>ALBANY MEDICAL CENTER</td>\n",
       "      <td>AMERICAS</td>\n",
       "      <td>US PS MARKET SEGMENT</td>\n",
       "      <td>SLED-EAST AREA</td>\n",
       "      <td>SLED-NORTHEAST OPERATION</td>\n",
       "      <td>ANY</td>\n",
       "      <td>Actual</td>\n",
       "      <td>2022</td>\n",
       "      <td>Q3</td>\n",
       "      <td>1.2</td>\n",
       "      <td>Uncovered Opp Value $(000s)</td>\n",
       "    </tr>\n",
       "    <tr>\n",
       "      <th>4</th>\n",
       "      <td>FIELD</td>\n",
       "      <td>Operations</td>\n",
       "      <td>REACTIVE</td>\n",
       "      <td>FIELD</td>\n",
       "      <td>ALFA</td>\n",
       "      <td>AMERICAS</td>\n",
       "      <td>LATIN AMERICA</td>\n",
       "      <td>MEXICO-</td>\n",
       "      <td>MEXICO COMMERCIAL SELECT</td>\n",
       "      <td>ANY</td>\n",
       "      <td>Actual</td>\n",
       "      <td>2022</td>\n",
       "      <td>Q3</td>\n",
       "      <td>12.0</td>\n",
       "      <td>Uncovered Opp Value $(000s)</td>\n",
       "    </tr>\n",
       "    <tr>\n",
       "      <th>...</th>\n",
       "      <td>...</td>\n",
       "      <td>...</td>\n",
       "      <td>...</td>\n",
       "      <td>...</td>\n",
       "      <td>...</td>\n",
       "      <td>...</td>\n",
       "      <td>...</td>\n",
       "      <td>...</td>\n",
       "      <td>...</td>\n",
       "      <td>...</td>\n",
       "      <td>...</td>\n",
       "      <td>...</td>\n",
       "      <td>...</td>\n",
       "      <td>...</td>\n",
       "      <td>...</td>\n",
       "    </tr>\n",
       "    <tr>\n",
       "      <th>854</th>\n",
       "      <td>TARGETING</td>\n",
       "      <td>Operations</td>\n",
       "      <td>SUCCESS TRACKS FOR CAMPUS TARGETING - DYNAMIC</td>\n",
       "      <td>TARGETING</td>\n",
       "      <td>FERROCARRIL MEXICANO S.A. DE C.V</td>\n",
       "      <td>AMERICAS</td>\n",
       "      <td>LATIN AMERICA</td>\n",
       "      <td>MEXICO-</td>\n",
       "      <td>MEXICO ENTERPRISE</td>\n",
       "      <td>ST</td>\n",
       "      <td>Actual</td>\n",
       "      <td>2022</td>\n",
       "      <td>Q2</td>\n",
       "      <td>19.8</td>\n",
       "      <td>Uncovered Opp Value $(000s)</td>\n",
       "    </tr>\n",
       "    <tr>\n",
       "      <th>855</th>\n",
       "      <td>TARGETING</td>\n",
       "      <td>Operations</td>\n",
       "      <td>SUCCESS TRACKS FOR CAMPUS TARGETING - DYNAMIC</td>\n",
       "      <td>TARGETING</td>\n",
       "      <td>NATIONAL AIR TRAFFIC SERVICES LTD</td>\n",
       "      <td>EMEAR-REGION</td>\n",
       "      <td>EMEAR-UKI</td>\n",
       "      <td>PUBLIC_SECTOR_EAW</td>\n",
       "      <td>PS_EAW_GOVT_NAT_SEC</td>\n",
       "      <td>ST</td>\n",
       "      <td>Actual</td>\n",
       "      <td>2022</td>\n",
       "      <td>Q2</td>\n",
       "      <td>10.8</td>\n",
       "      <td>Uncovered Opp Value $(000s)</td>\n",
       "    </tr>\n",
       "    <tr>\n",
       "      <th>856</th>\n",
       "      <td>TARGETING</td>\n",
       "      <td>Operations</td>\n",
       "      <td>SUCCESS TRACKS FOR CAMPUS TARGETING - DYNAMIC</td>\n",
       "      <td>TARGETING</td>\n",
       "      <td>NEW JERSEY INSTITUTE OF TECHNOLOGY</td>\n",
       "      <td>AMERICAS</td>\n",
       "      <td>US PS MARKET SEGMENT</td>\n",
       "      <td>SLED-EAST AREA</td>\n",
       "      <td>SLED-NORTHEAST OPERATION</td>\n",
       "      <td>ST</td>\n",
       "      <td>Actual</td>\n",
       "      <td>2022</td>\n",
       "      <td>Q2</td>\n",
       "      <td>31.2</td>\n",
       "      <td>Uncovered Opp Value $(000s)</td>\n",
       "    </tr>\n",
       "    <tr>\n",
       "      <th>857</th>\n",
       "      <td>TARGETING</td>\n",
       "      <td>Operations</td>\n",
       "      <td>SUCCESS TRACKS FOR CAMPUS TARGETING - DYNAMIC</td>\n",
       "      <td>TARGETING</td>\n",
       "      <td>NISSAN MEXICANA</td>\n",
       "      <td>AMERICAS</td>\n",
       "      <td>LATIN AMERICA</td>\n",
       "      <td>MEXICO-</td>\n",
       "      <td>MEXICO ENTERPRISE</td>\n",
       "      <td>ST</td>\n",
       "      <td>Actual</td>\n",
       "      <td>2022</td>\n",
       "      <td>Q2</td>\n",
       "      <td>192.0</td>\n",
       "      <td>Uncovered Opp Value $(000s)</td>\n",
       "    </tr>\n",
       "    <tr>\n",
       "      <th>858</th>\n",
       "      <td>TARGETING</td>\n",
       "      <td>Operations</td>\n",
       "      <td>SUCCESS TRACKS FOR CAMPUS TARGETING - DYNAMIC</td>\n",
       "      <td>TARGETING</td>\n",
       "      <td>ROWAN UNIVERSITY</td>\n",
       "      <td>AMERICAS</td>\n",
       "      <td>US PS MARKET SEGMENT</td>\n",
       "      <td>SLED-EAST AREA</td>\n",
       "      <td>SLED-NORTHEAST OPERATION</td>\n",
       "      <td>ST</td>\n",
       "      <td>Actual</td>\n",
       "      <td>2022</td>\n",
       "      <td>Q2</td>\n",
       "      <td>4.2</td>\n",
       "      <td>Uncovered Opp Value $(000s)</td>\n",
       "    </tr>\n",
       "  </tbody>\n",
       "</table>\n",
       "<p>859 rows × 15 columns</p>\n",
       "</div>"
      ],
      "text/plain": [
       "        Method Measure Group                                       Campaign  \\\n",
       "0        FIELD    Operations                                       REACTIVE   \n",
       "1        FIELD    Operations                                       REACTIVE   \n",
       "2        FIELD    Operations                                       REACTIVE   \n",
       "3        FIELD    Operations                                       REACTIVE   \n",
       "4        FIELD    Operations                                       REACTIVE   \n",
       "..         ...           ...                                            ...   \n",
       "854  TARGETING    Operations  SUCCESS TRACKS FOR CAMPUS TARGETING - DYNAMIC   \n",
       "855  TARGETING    Operations  SUCCESS TRACKS FOR CAMPUS TARGETING - DYNAMIC   \n",
       "856  TARGETING    Operations  SUCCESS TRACKS FOR CAMPUS TARGETING - DYNAMIC   \n",
       "857  TARGETING    Operations  SUCCESS TRACKS FOR CAMPUS TARGETING - DYNAMIC   \n",
       "858  TARGETING    Operations  SUCCESS TRACKS FOR CAMPUS TARGETING - DYNAMIC   \n",
       "\n",
       "    Campaign Type                           Customer Name Sales Level 1  \\\n",
       "0           FIELD  (SAPS) – SOUTH AFRICAN POLICE SERVICES  EMEAR-REGION   \n",
       "1           FIELD   (SARS) SOUTH AFRICAN RESERVE SERVICES  EMEAR-REGION   \n",
       "2           FIELD                              ABSA GROUP  EMEAR-REGION   \n",
       "3           FIELD                   ALBANY MEDICAL CENTER      AMERICAS   \n",
       "4           FIELD                                    ALFA      AMERICAS   \n",
       "..            ...                                     ...           ...   \n",
       "854     TARGETING        FERROCARRIL MEXICANO S.A. DE C.V      AMERICAS   \n",
       "855     TARGETING       NATIONAL AIR TRAFFIC SERVICES LTD  EMEAR-REGION   \n",
       "856     TARGETING      NEW JERSEY INSTITUTE OF TECHNOLOGY      AMERICAS   \n",
       "857     TARGETING                         NISSAN MEXICANA      AMERICAS   \n",
       "858     TARGETING                        ROWAN UNIVERSITY      AMERICAS   \n",
       "\n",
       "            Sales Level 2      Sales Level 3             Sales Level 4  \\\n",
       "0               EMEAR_MEA        CLUSTER_SSA               COUNTRY_ZAF   \n",
       "1               EMEAR_MEA          SMALL_MEA                 SMALL_SSA   \n",
       "2               EMEAR_MEA        CLUSTER_SSA               COUNTRY_ZAF   \n",
       "3    US PS MARKET SEGMENT     SLED-EAST AREA  SLED-NORTHEAST OPERATION   \n",
       "4           LATIN AMERICA            MEXICO-  MEXICO COMMERCIAL SELECT   \n",
       "..                    ...                ...                       ...   \n",
       "854         LATIN AMERICA            MEXICO-         MEXICO ENTERPRISE   \n",
       "855             EMEAR-UKI  PUBLIC_SECTOR_EAW       PS_EAW_GOVT_NAT_SEC   \n",
       "856  US PS MARKET SEGMENT     SLED-EAST AREA  SLED-NORTHEAST OPERATION   \n",
       "857         LATIN AMERICA            MEXICO-         MEXICO ENTERPRISE   \n",
       "858  US PS MARKET SEGMENT     SLED-EAST AREA  SLED-NORTHEAST OPERATION   \n",
       "\n",
       "    Offer Focus Value Type Report FY Report FQ  Value  \\\n",
       "0           ANY     Actual      2022        Q2  331.2   \n",
       "1           ANY     Actual      2022        Q2   28.8   \n",
       "2           ANY     Actual      2022        Q2   55.8   \n",
       "3           ANY     Actual      2022        Q3    1.2   \n",
       "4           ANY     Actual      2022        Q3   12.0   \n",
       "..          ...        ...       ...       ...    ...   \n",
       "854          ST     Actual      2022        Q2   19.8   \n",
       "855          ST     Actual      2022        Q2   10.8   \n",
       "856          ST     Actual      2022        Q2   31.2   \n",
       "857          ST     Actual      2022        Q2  192.0   \n",
       "858          ST     Actual      2022        Q2    4.2   \n",
       "\n",
       "                         Measure  \n",
       "0    Uncovered Opp Value $(000s)  \n",
       "1    Uncovered Opp Value $(000s)  \n",
       "2    Uncovered Opp Value $(000s)  \n",
       "3    Uncovered Opp Value $(000s)  \n",
       "4    Uncovered Opp Value $(000s)  \n",
       "..                           ...  \n",
       "854  Uncovered Opp Value $(000s)  \n",
       "855  Uncovered Opp Value $(000s)  \n",
       "856  Uncovered Opp Value $(000s)  \n",
       "857  Uncovered Opp Value $(000s)  \n",
       "858  Uncovered Opp Value $(000s)  \n",
       "\n",
       "[859 rows x 15 columns]"
      ]
     },
     "execution_count": 310,
     "metadata": {},
     "output_type": "execute_result"
    }
   ],
   "source": [
    "agg_unc_pipeline['Measure'] = 'Uncovered Opp Value $(000''s)'\n",
    "agg_unc_pipeline.rename(columns={'UNCOVERED_OPPTY_VALUE':'Value'},inplace=True)\n",
    "agg_unc_pipeline"
   ]
  },
  {
   "cell_type": "code",
   "execution_count": 311,
   "metadata": {},
   "outputs": [],
   "source": [
    "group_of_measures = pd.concat([agg_opps,agg_readouts,agg_offers,agg_unc_pipeline], axis=1)"
   ]
  },
  {
   "cell_type": "code",
   "execution_count": 312,
   "metadata": {},
   "outputs": [
    {
     "data": {
      "text/html": [
       "<div>\n",
       "<style scoped>\n",
       "    .dataframe tbody tr th:only-of-type {\n",
       "        vertical-align: middle;\n",
       "    }\n",
       "\n",
       "    .dataframe tbody tr th {\n",
       "        vertical-align: top;\n",
       "    }\n",
       "\n",
       "    .dataframe thead th {\n",
       "        text-align: right;\n",
       "    }\n",
       "</style>\n",
       "<table border=\"1\" class=\"dataframe\">\n",
       "  <thead>\n",
       "    <tr style=\"text-align: right;\">\n",
       "      <th></th>\n",
       "      <th>Method</th>\n",
       "      <th>Measure Group</th>\n",
       "      <th>Campaign</th>\n",
       "      <th>Campaign Type</th>\n",
       "      <th>Customer Name</th>\n",
       "      <th>Sales Level 1</th>\n",
       "      <th>Sales Level 2</th>\n",
       "      <th>Sales Level 3</th>\n",
       "      <th>Sales Level 4</th>\n",
       "      <th>Offer Focus</th>\n",
       "      <th>...</th>\n",
       "      <th>Sales Level 1</th>\n",
       "      <th>Sales Level 2</th>\n",
       "      <th>Sales Level 3</th>\n",
       "      <th>Sales Level 4</th>\n",
       "      <th>Offer Focus</th>\n",
       "      <th>Value Type</th>\n",
       "      <th>Report FY</th>\n",
       "      <th>Report FQ</th>\n",
       "      <th>Value</th>\n",
       "      <th>Measure</th>\n",
       "    </tr>\n",
       "  </thead>\n",
       "  <tbody>\n",
       "    <tr>\n",
       "      <th>0</th>\n",
       "      <td>FIELD</td>\n",
       "      <td>Operations</td>\n",
       "      <td>REACTIVE</td>\n",
       "      <td>FIELD</td>\n",
       "      <td>(ACSA) AIRPORTS COMPANY OF SOUTH AFRICA</td>\n",
       "      <td>EMEAR-REGION</td>\n",
       "      <td>EMEAR_MEA</td>\n",
       "      <td>CLUSTER_SSA</td>\n",
       "      <td>COUNTRY_ZAF</td>\n",
       "      <td>ANY</td>\n",
       "      <td>...</td>\n",
       "      <td>EMEAR-REGION</td>\n",
       "      <td>EMEAR_MEA</td>\n",
       "      <td>CLUSTER_SSA</td>\n",
       "      <td>COUNTRY_ZAF</td>\n",
       "      <td>ANY</td>\n",
       "      <td>Actual</td>\n",
       "      <td>2022</td>\n",
       "      <td>Q2</td>\n",
       "      <td>331.2</td>\n",
       "      <td>Uncovered Opp Value $(000s)</td>\n",
       "    </tr>\n",
       "    <tr>\n",
       "      <th>1</th>\n",
       "      <td>FIELD</td>\n",
       "      <td>Operations</td>\n",
       "      <td>REACTIVE</td>\n",
       "      <td>FIELD</td>\n",
       "      <td>(PIC) PUBLIC INVESTMENT CORPORATION</td>\n",
       "      <td>EMEAR-REGION</td>\n",
       "      <td>EMEAR_MEA</td>\n",
       "      <td>CLUSTER_SSA</td>\n",
       "      <td>COUNTRY_ZAF</td>\n",
       "      <td>ANY</td>\n",
       "      <td>...</td>\n",
       "      <td>EMEAR-REGION</td>\n",
       "      <td>EMEAR_MEA</td>\n",
       "      <td>SMALL_MEA</td>\n",
       "      <td>SMALL_SSA</td>\n",
       "      <td>ANY</td>\n",
       "      <td>Actual</td>\n",
       "      <td>2022</td>\n",
       "      <td>Q2</td>\n",
       "      <td>28.8</td>\n",
       "      <td>Uncovered Opp Value $(000s)</td>\n",
       "    </tr>\n",
       "    <tr>\n",
       "      <th>2</th>\n",
       "      <td>FIELD</td>\n",
       "      <td>Operations</td>\n",
       "      <td>REACTIVE</td>\n",
       "      <td>FIELD</td>\n",
       "      <td>(SAA) SOUTH AFRICAN AIRWAYS</td>\n",
       "      <td>EMEAR-REGION</td>\n",
       "      <td>EMEAR_MEA</td>\n",
       "      <td>CLUSTER_SSA</td>\n",
       "      <td>COUNTRY_ZAF</td>\n",
       "      <td>ANY</td>\n",
       "      <td>...</td>\n",
       "      <td>EMEAR-REGION</td>\n",
       "      <td>EMEAR_MEA</td>\n",
       "      <td>CLUSTER_SSA</td>\n",
       "      <td>COUNTRY_ZAF</td>\n",
       "      <td>ANY</td>\n",
       "      <td>Actual</td>\n",
       "      <td>2022</td>\n",
       "      <td>Q2</td>\n",
       "      <td>55.8</td>\n",
       "      <td>Uncovered Opp Value $(000s)</td>\n",
       "    </tr>\n",
       "    <tr>\n",
       "      <th>3</th>\n",
       "      <td>FIELD</td>\n",
       "      <td>Operations</td>\n",
       "      <td>REACTIVE</td>\n",
       "      <td>FIELD</td>\n",
       "      <td>(SAPS) – SOUTH AFRICAN POLICE SERVICES</td>\n",
       "      <td>EMEAR-REGION</td>\n",
       "      <td>EMEAR_MEA</td>\n",
       "      <td>CLUSTER_SSA</td>\n",
       "      <td>COUNTRY_ZAF</td>\n",
       "      <td>ANY</td>\n",
       "      <td>...</td>\n",
       "      <td>AMERICAS</td>\n",
       "      <td>US PS MARKET SEGMENT</td>\n",
       "      <td>SLED-EAST AREA</td>\n",
       "      <td>SLED-NORTHEAST OPERATION</td>\n",
       "      <td>ANY</td>\n",
       "      <td>Actual</td>\n",
       "      <td>2022</td>\n",
       "      <td>Q3</td>\n",
       "      <td>1.2</td>\n",
       "      <td>Uncovered Opp Value $(000s)</td>\n",
       "    </tr>\n",
       "    <tr>\n",
       "      <th>4</th>\n",
       "      <td>FIELD</td>\n",
       "      <td>Operations</td>\n",
       "      <td>REACTIVE</td>\n",
       "      <td>FIELD</td>\n",
       "      <td>(SARS) SOUTH AFRICAN RESERVE SERVICES</td>\n",
       "      <td>EMEAR-REGION</td>\n",
       "      <td>EMEAR_MEA</td>\n",
       "      <td>SMALL_MEA</td>\n",
       "      <td>SMALL_SSA</td>\n",
       "      <td>ANY</td>\n",
       "      <td>...</td>\n",
       "      <td>AMERICAS</td>\n",
       "      <td>LATIN AMERICA</td>\n",
       "      <td>MEXICO-</td>\n",
       "      <td>MEXICO COMMERCIAL SELECT</td>\n",
       "      <td>ANY</td>\n",
       "      <td>Actual</td>\n",
       "      <td>2022</td>\n",
       "      <td>Q3</td>\n",
       "      <td>12.0</td>\n",
       "      <td>Uncovered Opp Value $(000s)</td>\n",
       "    </tr>\n",
       "    <tr>\n",
       "      <th>...</th>\n",
       "      <td>...</td>\n",
       "      <td>...</td>\n",
       "      <td>...</td>\n",
       "      <td>...</td>\n",
       "      <td>...</td>\n",
       "      <td>...</td>\n",
       "      <td>...</td>\n",
       "      <td>...</td>\n",
       "      <td>...</td>\n",
       "      <td>...</td>\n",
       "      <td>...</td>\n",
       "      <td>...</td>\n",
       "      <td>...</td>\n",
       "      <td>...</td>\n",
       "      <td>...</td>\n",
       "      <td>...</td>\n",
       "      <td>...</td>\n",
       "      <td>...</td>\n",
       "      <td>...</td>\n",
       "      <td>...</td>\n",
       "      <td>...</td>\n",
       "    </tr>\n",
       "    <tr>\n",
       "      <th>8222</th>\n",
       "      <td>TARGETING</td>\n",
       "      <td>Operations</td>\n",
       "      <td>SUCCESS TRACKS FOR CAMPUS TARGETING - DYNAMIC</td>\n",
       "      <td>TARGETING</td>\n",
       "      <td>YANTAI WANHUA GROUP</td>\n",
       "      <td>APJC</td>\n",
       "      <td>GREATER_CHINA</td>\n",
       "      <td>CN_NORTH</td>\n",
       "      <td>CN_ENT_NORTH_MET</td>\n",
       "      <td>ST</td>\n",
       "      <td>...</td>\n",
       "      <td>NaN</td>\n",
       "      <td>NaN</td>\n",
       "      <td>NaN</td>\n",
       "      <td>NaN</td>\n",
       "      <td>NaN</td>\n",
       "      <td>NaN</td>\n",
       "      <td>NaN</td>\n",
       "      <td>NaN</td>\n",
       "      <td>NaN</td>\n",
       "      <td>NaN</td>\n",
       "    </tr>\n",
       "    <tr>\n",
       "      <th>8223</th>\n",
       "      <td>TARGETING</td>\n",
       "      <td>Operations</td>\n",
       "      <td>SUCCESS TRACKS FOR CAMPUS TARGETING - DYNAMIC</td>\n",
       "      <td>TARGETING</td>\n",
       "      <td>YPFB TRANSPORTE</td>\n",
       "      <td>AMERICAS</td>\n",
       "      <td>LATIN AMERICA</td>\n",
       "      <td>M_C_R</td>\n",
       "      <td>PERU_ANDEAN</td>\n",
       "      <td>ST</td>\n",
       "      <td>...</td>\n",
       "      <td>NaN</td>\n",
       "      <td>NaN</td>\n",
       "      <td>NaN</td>\n",
       "      <td>NaN</td>\n",
       "      <td>NaN</td>\n",
       "      <td>NaN</td>\n",
       "      <td>NaN</td>\n",
       "      <td>NaN</td>\n",
       "      <td>NaN</td>\n",
       "      <td>NaN</td>\n",
       "    </tr>\n",
       "    <tr>\n",
       "      <th>8224</th>\n",
       "      <td>TARGETING</td>\n",
       "      <td>Operations</td>\n",
       "      <td>SUCCESS TRACKS FOR CAMPUS TARGETING - DYNAMIC</td>\n",
       "      <td>TARGETING</td>\n",
       "      <td>ZENSAR TECHNOLOGIES LTD</td>\n",
       "      <td>APJC</td>\n",
       "      <td>INDIA_AREA</td>\n",
       "      <td>IND_ENTERPRISE_MAJOR</td>\n",
       "      <td>IND_ENT_STRATEGIC</td>\n",
       "      <td>ST</td>\n",
       "      <td>...</td>\n",
       "      <td>NaN</td>\n",
       "      <td>NaN</td>\n",
       "      <td>NaN</td>\n",
       "      <td>NaN</td>\n",
       "      <td>NaN</td>\n",
       "      <td>NaN</td>\n",
       "      <td>NaN</td>\n",
       "      <td>NaN</td>\n",
       "      <td>NaN</td>\n",
       "      <td>NaN</td>\n",
       "    </tr>\n",
       "    <tr>\n",
       "      <th>8225</th>\n",
       "      <td>TARGETING</td>\n",
       "      <td>Operations</td>\n",
       "      <td>SUCCESS TRACKS FOR CAMPUS TARGETING - DYNAMIC</td>\n",
       "      <td>TARGETING</td>\n",
       "      <td>ZURICH INSURANCE GROUP</td>\n",
       "      <td>EMEAR-REGION</td>\n",
       "      <td>EMEAR-CENTRAL</td>\n",
       "      <td>COUNTRY_SWITZERLAND</td>\n",
       "      <td>SWITZERLAND_CGEM</td>\n",
       "      <td>ST</td>\n",
       "      <td>...</td>\n",
       "      <td>NaN</td>\n",
       "      <td>NaN</td>\n",
       "      <td>NaN</td>\n",
       "      <td>NaN</td>\n",
       "      <td>NaN</td>\n",
       "      <td>NaN</td>\n",
       "      <td>NaN</td>\n",
       "      <td>NaN</td>\n",
       "      <td>NaN</td>\n",
       "      <td>NaN</td>\n",
       "    </tr>\n",
       "    <tr>\n",
       "      <th>8226</th>\n",
       "      <td>TARGETING</td>\n",
       "      <td>Operations</td>\n",
       "      <td>SUCCESS TRACKS FOR CAMPUS TARGETING - DYNAMIC</td>\n",
       "      <td>TARGETING</td>\n",
       "      <td>ZYDUS CADILA LIMITED</td>\n",
       "      <td>APJC</td>\n",
       "      <td>INDIA_AREA</td>\n",
       "      <td>IND_COMMERCIAL_OTH</td>\n",
       "      <td>IND_WEST</td>\n",
       "      <td>ST</td>\n",
       "      <td>...</td>\n",
       "      <td>NaN</td>\n",
       "      <td>NaN</td>\n",
       "      <td>NaN</td>\n",
       "      <td>NaN</td>\n",
       "      <td>NaN</td>\n",
       "      <td>NaN</td>\n",
       "      <td>NaN</td>\n",
       "      <td>NaN</td>\n",
       "      <td>NaN</td>\n",
       "      <td>NaN</td>\n",
       "    </tr>\n",
       "  </tbody>\n",
       "</table>\n",
       "<p>8227 rows × 60 columns</p>\n",
       "</div>"
      ],
      "text/plain": [
       "         Method Measure Group                                       Campaign  \\\n",
       "0         FIELD    Operations                                       REACTIVE   \n",
       "1         FIELD    Operations                                       REACTIVE   \n",
       "2         FIELD    Operations                                       REACTIVE   \n",
       "3         FIELD    Operations                                       REACTIVE   \n",
       "4         FIELD    Operations                                       REACTIVE   \n",
       "...         ...           ...                                            ...   \n",
       "8222  TARGETING    Operations  SUCCESS TRACKS FOR CAMPUS TARGETING - DYNAMIC   \n",
       "8223  TARGETING    Operations  SUCCESS TRACKS FOR CAMPUS TARGETING - DYNAMIC   \n",
       "8224  TARGETING    Operations  SUCCESS TRACKS FOR CAMPUS TARGETING - DYNAMIC   \n",
       "8225  TARGETING    Operations  SUCCESS TRACKS FOR CAMPUS TARGETING - DYNAMIC   \n",
       "8226  TARGETING    Operations  SUCCESS TRACKS FOR CAMPUS TARGETING - DYNAMIC   \n",
       "\n",
       "     Campaign Type                            Customer Name Sales Level 1  \\\n",
       "0            FIELD  (ACSA) AIRPORTS COMPANY OF SOUTH AFRICA  EMEAR-REGION   \n",
       "1            FIELD      (PIC) PUBLIC INVESTMENT CORPORATION  EMEAR-REGION   \n",
       "2            FIELD              (SAA) SOUTH AFRICAN AIRWAYS  EMEAR-REGION   \n",
       "3            FIELD   (SAPS) – SOUTH AFRICAN POLICE SERVICES  EMEAR-REGION   \n",
       "4            FIELD    (SARS) SOUTH AFRICAN RESERVE SERVICES  EMEAR-REGION   \n",
       "...            ...                                      ...           ...   \n",
       "8222     TARGETING                      YANTAI WANHUA GROUP          APJC   \n",
       "8223     TARGETING                          YPFB TRANSPORTE      AMERICAS   \n",
       "8224     TARGETING                  ZENSAR TECHNOLOGIES LTD          APJC   \n",
       "8225     TARGETING                   ZURICH INSURANCE GROUP  EMEAR-REGION   \n",
       "8226     TARGETING                     ZYDUS CADILA LIMITED          APJC   \n",
       "\n",
       "      Sales Level 2         Sales Level 3      Sales Level 4 Offer Focus  ...  \\\n",
       "0         EMEAR_MEA           CLUSTER_SSA        COUNTRY_ZAF         ANY  ...   \n",
       "1         EMEAR_MEA           CLUSTER_SSA        COUNTRY_ZAF         ANY  ...   \n",
       "2         EMEAR_MEA           CLUSTER_SSA        COUNTRY_ZAF         ANY  ...   \n",
       "3         EMEAR_MEA           CLUSTER_SSA        COUNTRY_ZAF         ANY  ...   \n",
       "4         EMEAR_MEA             SMALL_MEA          SMALL_SSA         ANY  ...   \n",
       "...             ...                   ...                ...         ...  ...   \n",
       "8222  GREATER_CHINA              CN_NORTH   CN_ENT_NORTH_MET          ST  ...   \n",
       "8223  LATIN AMERICA                 M_C_R        PERU_ANDEAN          ST  ...   \n",
       "8224     INDIA_AREA  IND_ENTERPRISE_MAJOR  IND_ENT_STRATEGIC          ST  ...   \n",
       "8225  EMEAR-CENTRAL   COUNTRY_SWITZERLAND   SWITZERLAND_CGEM          ST  ...   \n",
       "8226     INDIA_AREA    IND_COMMERCIAL_OTH           IND_WEST          ST  ...   \n",
       "\n",
       "     Sales Level 1         Sales Level 2   Sales Level 3  \\\n",
       "0     EMEAR-REGION             EMEAR_MEA     CLUSTER_SSA   \n",
       "1     EMEAR-REGION             EMEAR_MEA       SMALL_MEA   \n",
       "2     EMEAR-REGION             EMEAR_MEA     CLUSTER_SSA   \n",
       "3         AMERICAS  US PS MARKET SEGMENT  SLED-EAST AREA   \n",
       "4         AMERICAS         LATIN AMERICA         MEXICO-   \n",
       "...            ...                   ...             ...   \n",
       "8222           NaN                   NaN             NaN   \n",
       "8223           NaN                   NaN             NaN   \n",
       "8224           NaN                   NaN             NaN   \n",
       "8225           NaN                   NaN             NaN   \n",
       "8226           NaN                   NaN             NaN   \n",
       "\n",
       "                 Sales Level 4 Offer Focus Value Type Report FY Report FQ  \\\n",
       "0                  COUNTRY_ZAF         ANY     Actual      2022        Q2   \n",
       "1                    SMALL_SSA         ANY     Actual      2022        Q2   \n",
       "2                  COUNTRY_ZAF         ANY     Actual      2022        Q2   \n",
       "3     SLED-NORTHEAST OPERATION         ANY     Actual      2022        Q3   \n",
       "4     MEXICO COMMERCIAL SELECT         ANY     Actual      2022        Q3   \n",
       "...                        ...         ...        ...       ...       ...   \n",
       "8222                       NaN         NaN        NaN       NaN       NaN   \n",
       "8223                       NaN         NaN        NaN       NaN       NaN   \n",
       "8224                       NaN         NaN        NaN       NaN       NaN   \n",
       "8225                       NaN         NaN        NaN       NaN       NaN   \n",
       "8226                       NaN         NaN        NaN       NaN       NaN   \n",
       "\n",
       "      Value                      Measure  \n",
       "0     331.2  Uncovered Opp Value $(000s)  \n",
       "1      28.8  Uncovered Opp Value $(000s)  \n",
       "2      55.8  Uncovered Opp Value $(000s)  \n",
       "3       1.2  Uncovered Opp Value $(000s)  \n",
       "4      12.0  Uncovered Opp Value $(000s)  \n",
       "...     ...                          ...  \n",
       "8222    NaN                          NaN  \n",
       "8223    NaN                          NaN  \n",
       "8224    NaN                          NaN  \n",
       "8225    NaN                          NaN  \n",
       "8226    NaN                          NaN  \n",
       "\n",
       "[8227 rows x 60 columns]"
      ]
     },
     "execution_count": 312,
     "metadata": {},
     "output_type": "execute_result"
    }
   ],
   "source": [
    "group_of_measures"
   ]
  },
  {
   "cell_type": "code",
   "execution_count": 313,
   "metadata": {},
   "outputs": [
    {
     "name": "stderr",
     "output_type": "stream",
     "text": [
      "<ipython-input-313-d1763e190e15>:2: FutureWarning: Indexing with multiple keys (implicitly converted to a tuple of keys) will be deprecated, use a list instead.\n",
      "  agg_rpt = df.loc[(df['Report FY']=='2022') ].groupby(['Method', 'Measure Group','Campaign', 'Campaign Type','Customer Name', 'Sales Level 1', 'Sales Level 2', 'Sales Level 3', 'Sales Level 4','Offer Focus', 'Value Type','Report FY','Report FQ'])['OPPTY_STG1_CREATED','READOUTS_DONE', 'OFFER_CREATED','UNCOVERED_OPPTY_VALUE'].sum().stack()\n"
     ]
    }
   ],
   "source": [
    "#df.loc[(df['Report FY']=='2022') ].groupby(['Method', 'Measure Group','Campaign', 'Campaign Type','Customer Name', 'Sales Level 1', 'Sales Level 2', 'Sales Level 3', 'Sales Level 4','Offer Focus', 'Value Type','Report FY','Report FQ'])['OPPTY_STG1_CREATED','READOUTS_DONE', 'OFFER_CREATED','UNCOVERED_OPPTY_VALUE'].sum().stack()\n",
    "agg_rpt = df.loc[(df['Report FY']=='2022') ].groupby(['Method', 'Measure Group','Campaign', 'Campaign Type','Customer Name', 'Sales Level 1', 'Sales Level 2', 'Sales Level 3', 'Sales Level 4','Offer Focus', 'Value Type','Report FY','Report FQ'])['OPPTY_STG1_CREATED','READOUTS_DONE', 'OFFER_CREATED','UNCOVERED_OPPTY_VALUE'].sum().stack()"
   ]
  },
  {
   "cell_type": "code",
   "execution_count": 314,
   "metadata": {},
   "outputs": [],
   "source": [
    "agg_report = pd.DataFrame(agg_rpt.reset_index()).rename(columns={'level_13':'Measure',0:'Value'})"
   ]
  },
  {
   "cell_type": "code",
   "execution_count": 315,
   "metadata": {},
   "outputs": [
    {
     "data": {
      "text/html": [
       "<div>\n",
       "<style scoped>\n",
       "    .dataframe tbody tr th:only-of-type {\n",
       "        vertical-align: middle;\n",
       "    }\n",
       "\n",
       "    .dataframe tbody tr th {\n",
       "        vertical-align: top;\n",
       "    }\n",
       "\n",
       "    .dataframe thead th {\n",
       "        text-align: right;\n",
       "    }\n",
       "</style>\n",
       "<table border=\"1\" class=\"dataframe\">\n",
       "  <thead>\n",
       "    <tr style=\"text-align: right;\">\n",
       "      <th></th>\n",
       "      <th>Method</th>\n",
       "      <th>Measure Group</th>\n",
       "      <th>Campaign</th>\n",
       "      <th>Campaign Type</th>\n",
       "      <th>Customer Name</th>\n",
       "      <th>Sales Level 1</th>\n",
       "      <th>Sales Level 2</th>\n",
       "      <th>Sales Level 3</th>\n",
       "      <th>Sales Level 4</th>\n",
       "      <th>Offer Focus</th>\n",
       "      <th>Value Type</th>\n",
       "      <th>Report FY</th>\n",
       "      <th>Report FQ</th>\n",
       "      <th>Measure</th>\n",
       "      <th>Value</th>\n",
       "    </tr>\n",
       "  </thead>\n",
       "  <tbody>\n",
       "    <tr>\n",
       "      <th>3</th>\n",
       "      <td>FIELD</td>\n",
       "      <td>Operations</td>\n",
       "      <td>REACTIVE</td>\n",
       "      <td>FIELD</td>\n",
       "      <td>(ACSA) AIRPORTS COMPANY OF SOUTH AFRICA</td>\n",
       "      <td>EMEAR-REGION</td>\n",
       "      <td>EMEAR_MEA</td>\n",
       "      <td>CLUSTER_SSA</td>\n",
       "      <td>COUNTRY_ZAF</td>\n",
       "      <td>ANY</td>\n",
       "      <td>Actual</td>\n",
       "      <td>2022</td>\n",
       "      <td>Q2</td>\n",
       "      <td>UNCOVERED_OPPTY_VALUE</td>\n",
       "      <td>0.0</td>\n",
       "    </tr>\n",
       "    <tr>\n",
       "      <th>7</th>\n",
       "      <td>FIELD</td>\n",
       "      <td>Operations</td>\n",
       "      <td>REACTIVE</td>\n",
       "      <td>FIELD</td>\n",
       "      <td>(PIC) PUBLIC INVESTMENT CORPORATION</td>\n",
       "      <td>EMEAR-REGION</td>\n",
       "      <td>EMEAR_MEA</td>\n",
       "      <td>CLUSTER_SSA</td>\n",
       "      <td>COUNTRY_ZAF</td>\n",
       "      <td>ANY</td>\n",
       "      <td>Actual</td>\n",
       "      <td>2022</td>\n",
       "      <td>Q2</td>\n",
       "      <td>UNCOVERED_OPPTY_VALUE</td>\n",
       "      <td>0.0</td>\n",
       "    </tr>\n",
       "    <tr>\n",
       "      <th>11</th>\n",
       "      <td>FIELD</td>\n",
       "      <td>Operations</td>\n",
       "      <td>REACTIVE</td>\n",
       "      <td>FIELD</td>\n",
       "      <td>(SAA) SOUTH AFRICAN AIRWAYS</td>\n",
       "      <td>EMEAR-REGION</td>\n",
       "      <td>EMEAR_MEA</td>\n",
       "      <td>CLUSTER_SSA</td>\n",
       "      <td>COUNTRY_ZAF</td>\n",
       "      <td>ANY</td>\n",
       "      <td>Actual</td>\n",
       "      <td>2022</td>\n",
       "      <td>Q2</td>\n",
       "      <td>UNCOVERED_OPPTY_VALUE</td>\n",
       "      <td>0.0</td>\n",
       "    </tr>\n",
       "    <tr>\n",
       "      <th>15</th>\n",
       "      <td>FIELD</td>\n",
       "      <td>Operations</td>\n",
       "      <td>REACTIVE</td>\n",
       "      <td>FIELD</td>\n",
       "      <td>(SAPS) – SOUTH AFRICAN POLICE SERVICES</td>\n",
       "      <td>EMEAR-REGION</td>\n",
       "      <td>EMEAR_MEA</td>\n",
       "      <td>CLUSTER_SSA</td>\n",
       "      <td>COUNTRY_ZAF</td>\n",
       "      <td>ANY</td>\n",
       "      <td>Actual</td>\n",
       "      <td>2022</td>\n",
       "      <td>Q2</td>\n",
       "      <td>UNCOVERED_OPPTY_VALUE</td>\n",
       "      <td>331.2</td>\n",
       "    </tr>\n",
       "    <tr>\n",
       "      <th>19</th>\n",
       "      <td>FIELD</td>\n",
       "      <td>Operations</td>\n",
       "      <td>REACTIVE</td>\n",
       "      <td>FIELD</td>\n",
       "      <td>(SARS) SOUTH AFRICAN RESERVE SERVICES</td>\n",
       "      <td>EMEAR-REGION</td>\n",
       "      <td>EMEAR_MEA</td>\n",
       "      <td>CLUSTER_SSA</td>\n",
       "      <td>COUNTRY_ZAF</td>\n",
       "      <td>ANY</td>\n",
       "      <td>Actual</td>\n",
       "      <td>2022</td>\n",
       "      <td>Q2</td>\n",
       "      <td>UNCOVERED_OPPTY_VALUE</td>\n",
       "      <td>0.0</td>\n",
       "    </tr>\n",
       "    <tr>\n",
       "      <th>...</th>\n",
       "      <td>...</td>\n",
       "      <td>...</td>\n",
       "      <td>...</td>\n",
       "      <td>...</td>\n",
       "      <td>...</td>\n",
       "      <td>...</td>\n",
       "      <td>...</td>\n",
       "      <td>...</td>\n",
       "      <td>...</td>\n",
       "      <td>...</td>\n",
       "      <td>...</td>\n",
       "      <td>...</td>\n",
       "      <td>...</td>\n",
       "      <td>...</td>\n",
       "      <td>...</td>\n",
       "    </tr>\n",
       "    <tr>\n",
       "      <th>79887</th>\n",
       "      <td>TARGETING</td>\n",
       "      <td>Operations</td>\n",
       "      <td>SUCCESS TRACKS FOR CAMPUS TARGETING - DYNAMIC</td>\n",
       "      <td>TARGETING</td>\n",
       "      <td>ZIMPLATS HOLDINGS LIMITED (ZIMPLATS)</td>\n",
       "      <td>EMEAR-REGION</td>\n",
       "      <td>EMEAR_MEA</td>\n",
       "      <td>SMALL_MEA</td>\n",
       "      <td>CLUSTER_VELOCITY</td>\n",
       "      <td>ST</td>\n",
       "      <td>Actual</td>\n",
       "      <td>2022</td>\n",
       "      <td>Q1</td>\n",
       "      <td>UNCOVERED_OPPTY_VALUE</td>\n",
       "      <td>0.0</td>\n",
       "    </tr>\n",
       "    <tr>\n",
       "      <th>79891</th>\n",
       "      <td>TARGETING</td>\n",
       "      <td>Operations</td>\n",
       "      <td>SUCCESS TRACKS FOR CAMPUS TARGETING - DYNAMIC</td>\n",
       "      <td>TARGETING</td>\n",
       "      <td>ZLM VERZEKERINGEN</td>\n",
       "      <td>EMEAR-REGION</td>\n",
       "      <td>EMEAR-NORTH</td>\n",
       "      <td>COUNTRY_NETHERLANDS</td>\n",
       "      <td>COMMERCIAL_NLD</td>\n",
       "      <td>ST</td>\n",
       "      <td>Actual</td>\n",
       "      <td>2022</td>\n",
       "      <td>Q1</td>\n",
       "      <td>UNCOVERED_OPPTY_VALUE</td>\n",
       "      <td>0.0</td>\n",
       "    </tr>\n",
       "    <tr>\n",
       "      <th>79895</th>\n",
       "      <td>TARGETING</td>\n",
       "      <td>Operations</td>\n",
       "      <td>SUCCESS TRACKS FOR CAMPUS TARGETING - DYNAMIC</td>\n",
       "      <td>TARGETING</td>\n",
       "      <td>ZURICH INSURANCE GROUP</td>\n",
       "      <td>EMEAR-REGION</td>\n",
       "      <td>EMEAR-CENTRAL</td>\n",
       "      <td>COUNTRY_SWITZERLAND</td>\n",
       "      <td>SWITZERLAND_CGEM</td>\n",
       "      <td>ST</td>\n",
       "      <td>Actual</td>\n",
       "      <td>2022</td>\n",
       "      <td>Q2</td>\n",
       "      <td>UNCOVERED_OPPTY_VALUE</td>\n",
       "      <td>0.0</td>\n",
       "    </tr>\n",
       "    <tr>\n",
       "      <th>79899</th>\n",
       "      <td>TARGETING</td>\n",
       "      <td>Operations</td>\n",
       "      <td>SUCCESS TRACKS FOR CAMPUS TARGETING - DYNAMIC</td>\n",
       "      <td>TARGETING</td>\n",
       "      <td>ZWEITES DEUTSCHES FERNSEHEN GEMEINNUTZIGE ANST...</td>\n",
       "      <td>EMEAR-REGION</td>\n",
       "      <td>EMEAR_SP</td>\n",
       "      <td>SP_NORTH</td>\n",
       "      <td>MEDIA_GROUP</td>\n",
       "      <td>ST</td>\n",
       "      <td>Actual</td>\n",
       "      <td>2022</td>\n",
       "      <td>Q3</td>\n",
       "      <td>UNCOVERED_OPPTY_VALUE</td>\n",
       "      <td>0.0</td>\n",
       "    </tr>\n",
       "    <tr>\n",
       "      <th>79903</th>\n",
       "      <td>TARGETING</td>\n",
       "      <td>Operations</td>\n",
       "      <td>SUCCESS TRACKS FOR CAMPUS TARGETING - DYNAMIC</td>\n",
       "      <td>TARGETING</td>\n",
       "      <td>ZYDUS CADILA LIMITED</td>\n",
       "      <td>APJC</td>\n",
       "      <td>INDIA_AREA</td>\n",
       "      <td>IND_COMMERCIAL_OTH</td>\n",
       "      <td>IND_WEST</td>\n",
       "      <td>ST</td>\n",
       "      <td>Actual</td>\n",
       "      <td>2022</td>\n",
       "      <td>Q2</td>\n",
       "      <td>UNCOVERED_OPPTY_VALUE</td>\n",
       "      <td>0.0</td>\n",
       "    </tr>\n",
       "  </tbody>\n",
       "</table>\n",
       "<p>19976 rows × 15 columns</p>\n",
       "</div>"
      ],
      "text/plain": [
       "          Method Measure Group                                       Campaign  \\\n",
       "3          FIELD    Operations                                       REACTIVE   \n",
       "7          FIELD    Operations                                       REACTIVE   \n",
       "11         FIELD    Operations                                       REACTIVE   \n",
       "15         FIELD    Operations                                       REACTIVE   \n",
       "19         FIELD    Operations                                       REACTIVE   \n",
       "...          ...           ...                                            ...   \n",
       "79887  TARGETING    Operations  SUCCESS TRACKS FOR CAMPUS TARGETING - DYNAMIC   \n",
       "79891  TARGETING    Operations  SUCCESS TRACKS FOR CAMPUS TARGETING - DYNAMIC   \n",
       "79895  TARGETING    Operations  SUCCESS TRACKS FOR CAMPUS TARGETING - DYNAMIC   \n",
       "79899  TARGETING    Operations  SUCCESS TRACKS FOR CAMPUS TARGETING - DYNAMIC   \n",
       "79903  TARGETING    Operations  SUCCESS TRACKS FOR CAMPUS TARGETING - DYNAMIC   \n",
       "\n",
       "      Campaign Type                                      Customer Name  \\\n",
       "3             FIELD            (ACSA) AIRPORTS COMPANY OF SOUTH AFRICA   \n",
       "7             FIELD                (PIC) PUBLIC INVESTMENT CORPORATION   \n",
       "11            FIELD                        (SAA) SOUTH AFRICAN AIRWAYS   \n",
       "15            FIELD             (SAPS) – SOUTH AFRICAN POLICE SERVICES   \n",
       "19            FIELD              (SARS) SOUTH AFRICAN RESERVE SERVICES   \n",
       "...             ...                                                ...   \n",
       "79887     TARGETING               ZIMPLATS HOLDINGS LIMITED (ZIMPLATS)   \n",
       "79891     TARGETING                                  ZLM VERZEKERINGEN   \n",
       "79895     TARGETING                             ZURICH INSURANCE GROUP   \n",
       "79899     TARGETING  ZWEITES DEUTSCHES FERNSEHEN GEMEINNUTZIGE ANST...   \n",
       "79903     TARGETING                               ZYDUS CADILA LIMITED   \n",
       "\n",
       "      Sales Level 1  Sales Level 2        Sales Level 3     Sales Level 4  \\\n",
       "3      EMEAR-REGION      EMEAR_MEA          CLUSTER_SSA       COUNTRY_ZAF   \n",
       "7      EMEAR-REGION      EMEAR_MEA          CLUSTER_SSA       COUNTRY_ZAF   \n",
       "11     EMEAR-REGION      EMEAR_MEA          CLUSTER_SSA       COUNTRY_ZAF   \n",
       "15     EMEAR-REGION      EMEAR_MEA          CLUSTER_SSA       COUNTRY_ZAF   \n",
       "19     EMEAR-REGION      EMEAR_MEA          CLUSTER_SSA       COUNTRY_ZAF   \n",
       "...             ...            ...                  ...               ...   \n",
       "79887  EMEAR-REGION      EMEAR_MEA            SMALL_MEA  CLUSTER_VELOCITY   \n",
       "79891  EMEAR-REGION    EMEAR-NORTH  COUNTRY_NETHERLANDS    COMMERCIAL_NLD   \n",
       "79895  EMEAR-REGION  EMEAR-CENTRAL  COUNTRY_SWITZERLAND  SWITZERLAND_CGEM   \n",
       "79899  EMEAR-REGION       EMEAR_SP             SP_NORTH       MEDIA_GROUP   \n",
       "79903          APJC     INDIA_AREA   IND_COMMERCIAL_OTH          IND_WEST   \n",
       "\n",
       "      Offer Focus Value Type Report FY Report FQ                Measure  Value  \n",
       "3             ANY     Actual      2022        Q2  UNCOVERED_OPPTY_VALUE    0.0  \n",
       "7             ANY     Actual      2022        Q2  UNCOVERED_OPPTY_VALUE    0.0  \n",
       "11            ANY     Actual      2022        Q2  UNCOVERED_OPPTY_VALUE    0.0  \n",
       "15            ANY     Actual      2022        Q2  UNCOVERED_OPPTY_VALUE  331.2  \n",
       "19            ANY     Actual      2022        Q2  UNCOVERED_OPPTY_VALUE    0.0  \n",
       "...           ...        ...       ...       ...                    ...    ...  \n",
       "79887          ST     Actual      2022        Q1  UNCOVERED_OPPTY_VALUE    0.0  \n",
       "79891          ST     Actual      2022        Q1  UNCOVERED_OPPTY_VALUE    0.0  \n",
       "79895          ST     Actual      2022        Q2  UNCOVERED_OPPTY_VALUE    0.0  \n",
       "79899          ST     Actual      2022        Q3  UNCOVERED_OPPTY_VALUE    0.0  \n",
       "79903          ST     Actual      2022        Q2  UNCOVERED_OPPTY_VALUE    0.0  \n",
       "\n",
       "[19976 rows x 15 columns]"
      ]
     },
     "execution_count": 315,
     "metadata": {},
     "output_type": "execute_result"
    }
   ],
   "source": [
    "agg_report.loc[agg_report['Measure']=='UNCOVERED_OPPTY_VALUE']    #.pivot_table(index=['Measure Group','Measure SubGroup', 'Sales Level 1','Measure'], columns=['Report FY','Report FQ','Value Type'], values='Value')"
   ]
  },
  {
   "cell_type": "code",
   "execution_count": 316,
   "metadata": {},
   "outputs": [
    {
     "name": "stdout",
     "output_type": "stream",
     "text": [
      "<class 'pandas.core.frame.DataFrame'>\n",
      "RangeIndex: 79904 entries, 0 to 79903\n",
      "Data columns (total 15 columns):\n",
      " #   Column         Non-Null Count  Dtype  \n",
      "---  ------         --------------  -----  \n",
      " 0   Method         79904 non-null  object \n",
      " 1   Measure Group  79904 non-null  object \n",
      " 2   Campaign       79904 non-null  object \n",
      " 3   Campaign Type  79904 non-null  object \n",
      " 4   Customer Name  79904 non-null  object \n",
      " 5   Sales Level 1  79904 non-null  object \n",
      " 6   Sales Level 2  79904 non-null  object \n",
      " 7   Sales Level 3  79904 non-null  object \n",
      " 8   Sales Level 4  79904 non-null  object \n",
      " 9   Offer Focus    79904 non-null  object \n",
      " 10  Value Type     79904 non-null  object \n",
      " 11  Report FY      79904 non-null  object \n",
      " 12  Report FQ      79904 non-null  object \n",
      " 13  Measure        79904 non-null  object \n",
      " 14  Value          79904 non-null  float64\n",
      "dtypes: float64(1), object(14)\n",
      "memory usage: 9.1+ MB\n"
     ]
    }
   ],
   "source": [
    "agg_report.info()"
   ]
  },
  {
   "cell_type": "code",
   "execution_count": 317,
   "metadata": {},
   "outputs": [],
   "source": [
    "target_dtypes = {'Report FY': str, 'Value':np.float64}"
   ]
  },
  {
   "cell_type": "code",
   "execution_count": 318,
   "metadata": {},
   "outputs": [],
   "source": [
    "targets = pd.read_excel(r'C:\\Users\\phsheari\\Documents\\Compass SNOWFLAKE\\data_download\\Mock_Dashboard Targets_SLTest.xlsx', sheet_name = 'Targets', dtype = target_dtypes, na_values = 0.0)"
   ]
  },
  {
   "cell_type": "code",
   "execution_count": 319,
   "metadata": {},
   "outputs": [],
   "source": [
    "# targets = targets.loc[targets['Measure']!='DATA_PACKAGE_CREATED']"
   ]
  },
  {
   "cell_type": "code",
   "execution_count": 320,
   "metadata": {},
   "outputs": [],
   "source": [
    "targets.loc[targets['Offer Focus']=='SNTC, PSS', 'Offer Focus'] = 'SNTC'"
   ]
  },
  {
   "cell_type": "code",
   "execution_count": 321,
   "metadata": {},
   "outputs": [
    {
     "data": {
      "text/html": [
       "<div>\n",
       "<style scoped>\n",
       "    .dataframe tbody tr th:only-of-type {\n",
       "        vertical-align: middle;\n",
       "    }\n",
       "\n",
       "    .dataframe tbody tr th {\n",
       "        vertical-align: top;\n",
       "    }\n",
       "\n",
       "    .dataframe thead th {\n",
       "        text-align: right;\n",
       "    }\n",
       "</style>\n",
       "<table border=\"1\" class=\"dataframe\">\n",
       "  <thead>\n",
       "    <tr style=\"text-align: right;\">\n",
       "      <th></th>\n",
       "      <th>Method</th>\n",
       "      <th>Measure Group</th>\n",
       "      <th>Campaign</th>\n",
       "      <th>Campaign Type</th>\n",
       "      <th>Customer Name</th>\n",
       "      <th>Sales Level 1</th>\n",
       "      <th>Sales Level 2</th>\n",
       "      <th>Sales Level 3</th>\n",
       "      <th>Sales Level 4</th>\n",
       "      <th>Offer Focus</th>\n",
       "      <th>Value Type</th>\n",
       "      <th>Report FY</th>\n",
       "      <th>Report FQ</th>\n",
       "      <th>Measure</th>\n",
       "      <th>Value</th>\n",
       "      <th>Unnamed: 15</th>\n",
       "    </tr>\n",
       "  </thead>\n",
       "  <tbody>\n",
       "    <tr>\n",
       "      <th>384</th>\n",
       "      <td>M1 (Coverage Program)</td>\n",
       "      <td>Operations</td>\n",
       "      <td>COVERAGE PROGRAM - SNTC PROACTIVE ATTACH</td>\n",
       "      <td>PROACTIVE COVERAGE</td>\n",
       "      <td>NaN</td>\n",
       "      <td>AMERICAS</td>\n",
       "      <td>NaN</td>\n",
       "      <td>NaN</td>\n",
       "      <td>NaN</td>\n",
       "      <td>SNTC</td>\n",
       "      <td>Actual</td>\n",
       "      <td>2022</td>\n",
       "      <td>Q1</td>\n",
       "      <td>OPPTY_STG1_CREATED</td>\n",
       "      <td>6.000</td>\n",
       "      <td>NaN</td>\n",
       "    </tr>\n",
       "    <tr>\n",
       "      <th>385</th>\n",
       "      <td>M1 (Coverage Program)</td>\n",
       "      <td>Operations</td>\n",
       "      <td>COVERAGE PROGRAM - SNTC PROACTIVE ATTACH</td>\n",
       "      <td>PROACTIVE COVERAGE</td>\n",
       "      <td>NaN</td>\n",
       "      <td>AMERICAS</td>\n",
       "      <td>NaN</td>\n",
       "      <td>NaN</td>\n",
       "      <td>NaN</td>\n",
       "      <td>SNTC</td>\n",
       "      <td>Actual</td>\n",
       "      <td>2022</td>\n",
       "      <td>Q1</td>\n",
       "      <td>READOUTS_DONE</td>\n",
       "      <td>30.000</td>\n",
       "      <td>NaN</td>\n",
       "    </tr>\n",
       "    <tr>\n",
       "      <th>386</th>\n",
       "      <td>M1 (Coverage Program)</td>\n",
       "      <td>Operations</td>\n",
       "      <td>COVERAGE PROGRAM - SNTC PROACTIVE ATTACH</td>\n",
       "      <td>PROACTIVE COVERAGE</td>\n",
       "      <td>NaN</td>\n",
       "      <td>AMERICAS</td>\n",
       "      <td>NaN</td>\n",
       "      <td>NaN</td>\n",
       "      <td>NaN</td>\n",
       "      <td>SNTC</td>\n",
       "      <td>Actual</td>\n",
       "      <td>2022</td>\n",
       "      <td>Q1</td>\n",
       "      <td>OFFER_CREATED</td>\n",
       "      <td>23.000</td>\n",
       "      <td>NaN</td>\n",
       "    </tr>\n",
       "    <tr>\n",
       "      <th>387</th>\n",
       "      <td>M1 (Coverage Program)</td>\n",
       "      <td>Operations</td>\n",
       "      <td>COVERAGE PROGRAM - SNTC PROACTIVE ATTACH</td>\n",
       "      <td>PROACTIVE COVERAGE</td>\n",
       "      <td>NaN</td>\n",
       "      <td>AMERICAS</td>\n",
       "      <td>NaN</td>\n",
       "      <td>NaN</td>\n",
       "      <td>NaN</td>\n",
       "      <td>SNTC</td>\n",
       "      <td>Actual</td>\n",
       "      <td>2022</td>\n",
       "      <td>Q1</td>\n",
       "      <td>UNCOVERED_OPPTY_VALUE</td>\n",
       "      <td>4776.000</td>\n",
       "      <td>NaN</td>\n",
       "    </tr>\n",
       "    <tr>\n",
       "      <th>388</th>\n",
       "      <td>M1 (Coverage Program)</td>\n",
       "      <td>Bookings-New</td>\n",
       "      <td>COVERAGE PROGRAM - SNTC PROACTIVE ATTACH</td>\n",
       "      <td>PROACTIVE COVERAGE</td>\n",
       "      <td>NaN</td>\n",
       "      <td>AMERICAS</td>\n",
       "      <td>NaN</td>\n",
       "      <td>NaN</td>\n",
       "      <td>NaN</td>\n",
       "      <td>SNTC</td>\n",
       "      <td>Actual</td>\n",
       "      <td>2022</td>\n",
       "      <td>Q1</td>\n",
       "      <td>Incr ARR $(000s)</td>\n",
       "      <td>8000.000</td>\n",
       "      <td>NaN</td>\n",
       "    </tr>\n",
       "    <tr>\n",
       "      <th>...</th>\n",
       "      <td>...</td>\n",
       "      <td>...</td>\n",
       "      <td>...</td>\n",
       "      <td>...</td>\n",
       "      <td>...</td>\n",
       "      <td>...</td>\n",
       "      <td>...</td>\n",
       "      <td>...</td>\n",
       "      <td>...</td>\n",
       "      <td>...</td>\n",
       "      <td>...</td>\n",
       "      <td>...</td>\n",
       "      <td>...</td>\n",
       "      <td>...</td>\n",
       "      <td>...</td>\n",
       "      <td>...</td>\n",
       "    </tr>\n",
       "    <tr>\n",
       "      <th>793</th>\n",
       "      <td>M1 (Coverage Program)</td>\n",
       "      <td>Bookings-New</td>\n",
       "      <td>SUCCESS TRACKS FOR CAMPUS TARGETING - DYNAMIC</td>\n",
       "      <td>TARGETING</td>\n",
       "      <td>NaN</td>\n",
       "      <td>EMEAR-REGION</td>\n",
       "      <td>NaN</td>\n",
       "      <td>NaN</td>\n",
       "      <td>NaN</td>\n",
       "      <td>SNTC</td>\n",
       "      <td>Actual</td>\n",
       "      <td>2022</td>\n",
       "      <td>Q2</td>\n",
       "      <td>Incr ARR $(000s)</td>\n",
       "      <td>3.242</td>\n",
       "      <td>NaN</td>\n",
       "    </tr>\n",
       "    <tr>\n",
       "      <th>794</th>\n",
       "      <td>M1 (Coverage Program)</td>\n",
       "      <td>Bookings-New</td>\n",
       "      <td>SUCCESS TRACKS FOR CAMPUS TARGETING - DYNAMIC</td>\n",
       "      <td>TARGETING</td>\n",
       "      <td>NaN</td>\n",
       "      <td>AMERICAS</td>\n",
       "      <td>NaN</td>\n",
       "      <td>NaN</td>\n",
       "      <td>NaN</td>\n",
       "      <td>SNTC</td>\n",
       "      <td>Actual</td>\n",
       "      <td>2022</td>\n",
       "      <td>Q3</td>\n",
       "      <td>Incr ARR $(000s)</td>\n",
       "      <td>20.225</td>\n",
       "      <td>NaN</td>\n",
       "    </tr>\n",
       "    <tr>\n",
       "      <th>795</th>\n",
       "      <td>M1 (Coverage Program)</td>\n",
       "      <td>Bookings-New</td>\n",
       "      <td>SUCCESS TRACKS DYNAMIC CAMPAIGN</td>\n",
       "      <td>TARGETING</td>\n",
       "      <td>NaN</td>\n",
       "      <td>AMERICAS</td>\n",
       "      <td>NaN</td>\n",
       "      <td>NaN</td>\n",
       "      <td>NaN</td>\n",
       "      <td>SNTC</td>\n",
       "      <td>Actual</td>\n",
       "      <td>2022</td>\n",
       "      <td>Q3</td>\n",
       "      <td>Incr ARR $(000s)</td>\n",
       "      <td>161.155</td>\n",
       "      <td>NaN</td>\n",
       "    </tr>\n",
       "    <tr>\n",
       "      <th>796</th>\n",
       "      <td>M1 (Coverage Program)</td>\n",
       "      <td>Bookings-New</td>\n",
       "      <td>BCS 3.0 TARGETING GLOBAL COMPASS IDENTIFIED RI...</td>\n",
       "      <td>TARGETING</td>\n",
       "      <td>NaN</td>\n",
       "      <td>AMERICAS</td>\n",
       "      <td>NaN</td>\n",
       "      <td>NaN</td>\n",
       "      <td>NaN</td>\n",
       "      <td>SNTC</td>\n",
       "      <td>Actual</td>\n",
       "      <td>2022</td>\n",
       "      <td>Q3</td>\n",
       "      <td>Incr ARR $(000s)</td>\n",
       "      <td>6.242</td>\n",
       "      <td>NaN</td>\n",
       "    </tr>\n",
       "    <tr>\n",
       "      <th>797</th>\n",
       "      <td>M1 (Coverage Program)</td>\n",
       "      <td>Bookings-New</td>\n",
       "      <td>SUCCESS TRACKS DYNAMIC CAMPAIGN</td>\n",
       "      <td>TARGETING</td>\n",
       "      <td>NaN</td>\n",
       "      <td>EMEAR-REGION</td>\n",
       "      <td>NaN</td>\n",
       "      <td>NaN</td>\n",
       "      <td>NaN</td>\n",
       "      <td>SNTC</td>\n",
       "      <td>Actual</td>\n",
       "      <td>2022</td>\n",
       "      <td>Q3</td>\n",
       "      <td>Incr ARR $(000s)</td>\n",
       "      <td>33.791</td>\n",
       "      <td>NaN</td>\n",
       "    </tr>\n",
       "  </tbody>\n",
       "</table>\n",
       "<p>414 rows × 16 columns</p>\n",
       "</div>"
      ],
      "text/plain": [
       "                    Method Measure Group  \\\n",
       "384  M1 (Coverage Program)    Operations   \n",
       "385  M1 (Coverage Program)    Operations   \n",
       "386  M1 (Coverage Program)    Operations   \n",
       "387  M1 (Coverage Program)    Operations   \n",
       "388  M1 (Coverage Program)  Bookings-New   \n",
       "..                     ...           ...   \n",
       "793  M1 (Coverage Program)  Bookings-New   \n",
       "794  M1 (Coverage Program)  Bookings-New   \n",
       "795  M1 (Coverage Program)  Bookings-New   \n",
       "796  M1 (Coverage Program)  Bookings-New   \n",
       "797  M1 (Coverage Program)  Bookings-New   \n",
       "\n",
       "                                              Campaign       Campaign Type  \\\n",
       "384           COVERAGE PROGRAM - SNTC PROACTIVE ATTACH  PROACTIVE COVERAGE   \n",
       "385           COVERAGE PROGRAM - SNTC PROACTIVE ATTACH  PROACTIVE COVERAGE   \n",
       "386           COVERAGE PROGRAM - SNTC PROACTIVE ATTACH  PROACTIVE COVERAGE   \n",
       "387           COVERAGE PROGRAM - SNTC PROACTIVE ATTACH  PROACTIVE COVERAGE   \n",
       "388           COVERAGE PROGRAM - SNTC PROACTIVE ATTACH  PROACTIVE COVERAGE   \n",
       "..                                                 ...                 ...   \n",
       "793      SUCCESS TRACKS FOR CAMPUS TARGETING - DYNAMIC           TARGETING   \n",
       "794      SUCCESS TRACKS FOR CAMPUS TARGETING - DYNAMIC           TARGETING   \n",
       "795                    SUCCESS TRACKS DYNAMIC CAMPAIGN           TARGETING   \n",
       "796  BCS 3.0 TARGETING GLOBAL COMPASS IDENTIFIED RI...           TARGETING   \n",
       "797                    SUCCESS TRACKS DYNAMIC CAMPAIGN           TARGETING   \n",
       "\n",
       "     Customer Name Sales Level 1  Sales Level 2  Sales Level 3  Sales Level 4  \\\n",
       "384            NaN      AMERICAS            NaN            NaN            NaN   \n",
       "385            NaN      AMERICAS            NaN            NaN            NaN   \n",
       "386            NaN      AMERICAS            NaN            NaN            NaN   \n",
       "387            NaN      AMERICAS            NaN            NaN            NaN   \n",
       "388            NaN      AMERICAS            NaN            NaN            NaN   \n",
       "..             ...           ...            ...            ...            ...   \n",
       "793            NaN  EMEAR-REGION            NaN            NaN            NaN   \n",
       "794            NaN      AMERICAS            NaN            NaN            NaN   \n",
       "795            NaN      AMERICAS            NaN            NaN            NaN   \n",
       "796            NaN      AMERICAS            NaN            NaN            NaN   \n",
       "797            NaN  EMEAR-REGION            NaN            NaN            NaN   \n",
       "\n",
       "    Offer Focus Value Type Report FY Report FQ                Measure  \\\n",
       "384        SNTC     Actual      2022        Q1     OPPTY_STG1_CREATED   \n",
       "385        SNTC     Actual      2022        Q1          READOUTS_DONE   \n",
       "386        SNTC     Actual      2022        Q1          OFFER_CREATED   \n",
       "387        SNTC     Actual      2022        Q1  UNCOVERED_OPPTY_VALUE   \n",
       "388        SNTC     Actual      2022        Q1       Incr ARR $(000s)   \n",
       "..          ...        ...       ...       ...                    ...   \n",
       "793        SNTC     Actual      2022        Q2       Incr ARR $(000s)   \n",
       "794        SNTC     Actual      2022        Q3       Incr ARR $(000s)   \n",
       "795        SNTC     Actual      2022        Q3       Incr ARR $(000s)   \n",
       "796        SNTC     Actual      2022        Q3       Incr ARR $(000s)   \n",
       "797        SNTC     Actual      2022        Q3       Incr ARR $(000s)   \n",
       "\n",
       "        Value  Unnamed: 15  \n",
       "384     6.000          NaN  \n",
       "385    30.000          NaN  \n",
       "386    23.000          NaN  \n",
       "387  4776.000          NaN  \n",
       "388  8000.000          NaN  \n",
       "..        ...          ...  \n",
       "793     3.242          NaN  \n",
       "794    20.225          NaN  \n",
       "795   161.155          NaN  \n",
       "796     6.242          NaN  \n",
       "797    33.791          NaN  \n",
       "\n",
       "[414 rows x 16 columns]"
      ]
     },
     "execution_count": 321,
     "metadata": {},
     "output_type": "execute_result"
    }
   ],
   "source": [
    "targets.loc[targets['Value Type']=='Actual']"
   ]
  },
  {
   "cell_type": "code",
   "execution_count": 322,
   "metadata": {},
   "outputs": [
    {
     "data": {
      "text/plain": [
       "array(['M1 (Coverage Program)', 'M6 (Coverage at Renewal)'], dtype=object)"
      ]
     },
     "execution_count": 322,
     "metadata": {},
     "output_type": "execute_result"
    }
   ],
   "source": [
    "targets['Method'].unique()"
   ]
  },
  {
   "cell_type": "code",
   "execution_count": 323,
   "metadata": {},
   "outputs": [],
   "source": [
    "opp_flow_dash = pd.concat([agg_report, targets]).fillna(0.0)"
   ]
  },
  {
   "cell_type": "code",
   "execution_count": 324,
   "metadata": {},
   "outputs": [
    {
     "data": {
      "text/html": [
       "<div>\n",
       "<style scoped>\n",
       "    .dataframe tbody tr th:only-of-type {\n",
       "        vertical-align: middle;\n",
       "    }\n",
       "\n",
       "    .dataframe tbody tr th {\n",
       "        vertical-align: top;\n",
       "    }\n",
       "\n",
       "    .dataframe thead tr th {\n",
       "        text-align: left;\n",
       "    }\n",
       "\n",
       "    .dataframe thead tr:last-of-type th {\n",
       "        text-align: right;\n",
       "    }\n",
       "</style>\n",
       "<table border=\"1\" class=\"dataframe\">\n",
       "  <thead>\n",
       "    <tr>\n",
       "      <th></th>\n",
       "      <th></th>\n",
       "      <th></th>\n",
       "      <th></th>\n",
       "      <th></th>\n",
       "      <th></th>\n",
       "      <th>Report FY</th>\n",
       "      <th colspan=\"8\" halign=\"left\">2022</th>\n",
       "    </tr>\n",
       "    <tr>\n",
       "      <th></th>\n",
       "      <th></th>\n",
       "      <th></th>\n",
       "      <th></th>\n",
       "      <th></th>\n",
       "      <th></th>\n",
       "      <th>Report FQ</th>\n",
       "      <th colspan=\"2\" halign=\"left\">Q1</th>\n",
       "      <th colspan=\"2\" halign=\"left\">Q2</th>\n",
       "      <th colspan=\"2\" halign=\"left\">Q3</th>\n",
       "      <th colspan=\"2\" halign=\"left\">Q4</th>\n",
       "    </tr>\n",
       "    <tr>\n",
       "      <th></th>\n",
       "      <th></th>\n",
       "      <th></th>\n",
       "      <th></th>\n",
       "      <th></th>\n",
       "      <th></th>\n",
       "      <th>Value Type</th>\n",
       "      <th>Actual</th>\n",
       "      <th>Target</th>\n",
       "      <th>Actual</th>\n",
       "      <th>Target</th>\n",
       "      <th>Actual</th>\n",
       "      <th>Target</th>\n",
       "      <th>Actual</th>\n",
       "      <th>Target</th>\n",
       "    </tr>\n",
       "    <tr>\n",
       "      <th>Method</th>\n",
       "      <th>Measure Group</th>\n",
       "      <th>Sales Level 1</th>\n",
       "      <th>Sales Level 2</th>\n",
       "      <th>Sales Level 3</th>\n",
       "      <th>Sales Level 4</th>\n",
       "      <th>Measure</th>\n",
       "      <th></th>\n",
       "      <th></th>\n",
       "      <th></th>\n",
       "      <th></th>\n",
       "      <th></th>\n",
       "      <th></th>\n",
       "      <th></th>\n",
       "      <th></th>\n",
       "    </tr>\n",
       "  </thead>\n",
       "  <tbody>\n",
       "    <tr>\n",
       "      <th rowspan=\"5\" valign=\"top\">FIELD</th>\n",
       "      <th rowspan=\"5\" valign=\"top\">Operations</th>\n",
       "      <th rowspan=\"5\" valign=\"top\">AMERICAS</th>\n",
       "      <th rowspan=\"5\" valign=\"top\">AMERICAS_SP</th>\n",
       "      <th rowspan=\"4\" valign=\"top\">ASP CSP</th>\n",
       "      <th rowspan=\"4\" valign=\"top\">ASP ATT</th>\n",
       "      <th>OFFER_CREATED</th>\n",
       "      <td>0.0</td>\n",
       "      <td>0.0</td>\n",
       "      <td>0.0</td>\n",
       "      <td>0.0</td>\n",
       "      <td>0.0</td>\n",
       "      <td>0.0</td>\n",
       "      <td>0.0</td>\n",
       "      <td>0.0</td>\n",
       "    </tr>\n",
       "    <tr>\n",
       "      <th>OPPTY_STG1_CREATED</th>\n",
       "      <td>0.0</td>\n",
       "      <td>0.0</td>\n",
       "      <td>0.0</td>\n",
       "      <td>0.0</td>\n",
       "      <td>1.0</td>\n",
       "      <td>0.0</td>\n",
       "      <td>0.0</td>\n",
       "      <td>0.0</td>\n",
       "    </tr>\n",
       "    <tr>\n",
       "      <th>READOUTS_DONE</th>\n",
       "      <td>0.0</td>\n",
       "      <td>0.0</td>\n",
       "      <td>0.0</td>\n",
       "      <td>0.0</td>\n",
       "      <td>1.0</td>\n",
       "      <td>0.0</td>\n",
       "      <td>0.0</td>\n",
       "      <td>0.0</td>\n",
       "    </tr>\n",
       "    <tr>\n",
       "      <th>UNCOVERED_OPPTY_VALUE</th>\n",
       "      <td>0.0</td>\n",
       "      <td>0.0</td>\n",
       "      <td>0.0</td>\n",
       "      <td>0.0</td>\n",
       "      <td>0.0</td>\n",
       "      <td>0.0</td>\n",
       "      <td>0.0</td>\n",
       "      <td>0.0</td>\n",
       "    </tr>\n",
       "    <tr>\n",
       "      <th>ASP TELCO MOBILE</th>\n",
       "      <th>ASP AMW</th>\n",
       "      <th>OFFER_CREATED</th>\n",
       "      <td>0.0</td>\n",
       "      <td>0.0</td>\n",
       "      <td>0.0</td>\n",
       "      <td>0.0</td>\n",
       "      <td>0.0</td>\n",
       "      <td>0.0</td>\n",
       "      <td>0.0</td>\n",
       "      <td>0.0</td>\n",
       "    </tr>\n",
       "    <tr>\n",
       "      <th>...</th>\n",
       "      <th>...</th>\n",
       "      <th>...</th>\n",
       "      <th>...</th>\n",
       "      <th>...</th>\n",
       "      <th>...</th>\n",
       "      <th>...</th>\n",
       "      <td>...</td>\n",
       "      <td>...</td>\n",
       "      <td>...</td>\n",
       "      <td>...</td>\n",
       "      <td>...</td>\n",
       "      <td>...</td>\n",
       "      <td>...</td>\n",
       "      <td>...</td>\n",
       "    </tr>\n",
       "    <tr>\n",
       "      <th rowspan=\"5\" valign=\"top\">TARGETING</th>\n",
       "      <th rowspan=\"5\" valign=\"top\">Operations</th>\n",
       "      <th rowspan=\"5\" valign=\"top\">EMEAR-REGION</th>\n",
       "      <th rowspan=\"5\" valign=\"top\">EMEAR_SP</th>\n",
       "      <th rowspan=\"5\" valign=\"top\">SP_VDF_LG</th>\n",
       "      <th>LIBERTY_GLOBAL</th>\n",
       "      <th>UNCOVERED_OPPTY_VALUE</th>\n",
       "      <td>0.0</td>\n",
       "      <td>0.0</td>\n",
       "      <td>0.0</td>\n",
       "      <td>0.0</td>\n",
       "      <td>0.0</td>\n",
       "      <td>0.0</td>\n",
       "      <td>0.0</td>\n",
       "      <td>0.0</td>\n",
       "    </tr>\n",
       "    <tr>\n",
       "      <th rowspan=\"4\" valign=\"top\">VODAFONE_</th>\n",
       "      <th>OFFER_CREATED</th>\n",
       "      <td>0.0</td>\n",
       "      <td>0.0</td>\n",
       "      <td>0.0</td>\n",
       "      <td>0.0</td>\n",
       "      <td>0.0</td>\n",
       "      <td>0.0</td>\n",
       "      <td>0.0</td>\n",
       "      <td>0.0</td>\n",
       "    </tr>\n",
       "    <tr>\n",
       "      <th>OPPTY_STG1_CREATED</th>\n",
       "      <td>0.0</td>\n",
       "      <td>0.0</td>\n",
       "      <td>1.0</td>\n",
       "      <td>0.0</td>\n",
       "      <td>0.0</td>\n",
       "      <td>0.0</td>\n",
       "      <td>0.0</td>\n",
       "      <td>0.0</td>\n",
       "    </tr>\n",
       "    <tr>\n",
       "      <th>READOUTS_DONE</th>\n",
       "      <td>0.0</td>\n",
       "      <td>0.0</td>\n",
       "      <td>0.0</td>\n",
       "      <td>0.0</td>\n",
       "      <td>0.0</td>\n",
       "      <td>0.0</td>\n",
       "      <td>0.0</td>\n",
       "      <td>0.0</td>\n",
       "    </tr>\n",
       "    <tr>\n",
       "      <th>UNCOVERED_OPPTY_VALUE</th>\n",
       "      <td>0.0</td>\n",
       "      <td>0.0</td>\n",
       "      <td>0.0</td>\n",
       "      <td>0.0</td>\n",
       "      <td>0.0</td>\n",
       "      <td>0.0</td>\n",
       "      <td>0.0</td>\n",
       "      <td>0.0</td>\n",
       "    </tr>\n",
       "  </tbody>\n",
       "</table>\n",
       "<p>7076 rows × 8 columns</p>\n",
       "</div>"
      ],
      "text/plain": [
       "Report FY                                                                                                   2022  \\\n",
       "Report FQ                                                                                                     Q1   \n",
       "Value Type                                                                                                Actual   \n",
       "Method    Measure Group Sales Level 1 Sales Level 2 Sales Level 3    Sales Level 4  Measure                        \n",
       "FIELD     Operations    AMERICAS      AMERICAS_SP   ASP CSP          ASP ATT        OFFER_CREATED            0.0   \n",
       "                                                                                    OPPTY_STG1_CREATED       0.0   \n",
       "                                                                                    READOUTS_DONE            0.0   \n",
       "                                                                                    UNCOVERED_OPPTY_VALUE    0.0   \n",
       "                                                    ASP TELCO MOBILE ASP AMW        OFFER_CREATED            0.0   \n",
       "...                                                                                                          ...   \n",
       "TARGETING Operations    EMEAR-REGION  EMEAR_SP      SP_VDF_LG        LIBERTY_GLOBAL UNCOVERED_OPPTY_VALUE    0.0   \n",
       "                                                                     VODAFONE_      OFFER_CREATED            0.0   \n",
       "                                                                                    OPPTY_STG1_CREATED       0.0   \n",
       "                                                                                    READOUTS_DONE            0.0   \n",
       "                                                                                    UNCOVERED_OPPTY_VALUE    0.0   \n",
       "\n",
       "Report FY                                                                                                         \\\n",
       "Report FQ                                                                                                          \n",
       "Value Type                                                                                                Target   \n",
       "Method    Measure Group Sales Level 1 Sales Level 2 Sales Level 3    Sales Level 4  Measure                        \n",
       "FIELD     Operations    AMERICAS      AMERICAS_SP   ASP CSP          ASP ATT        OFFER_CREATED            0.0   \n",
       "                                                                                    OPPTY_STG1_CREATED       0.0   \n",
       "                                                                                    READOUTS_DONE            0.0   \n",
       "                                                                                    UNCOVERED_OPPTY_VALUE    0.0   \n",
       "                                                    ASP TELCO MOBILE ASP AMW        OFFER_CREATED            0.0   \n",
       "...                                                                                                          ...   \n",
       "TARGETING Operations    EMEAR-REGION  EMEAR_SP      SP_VDF_LG        LIBERTY_GLOBAL UNCOVERED_OPPTY_VALUE    0.0   \n",
       "                                                                     VODAFONE_      OFFER_CREATED            0.0   \n",
       "                                                                                    OPPTY_STG1_CREATED       0.0   \n",
       "                                                                                    READOUTS_DONE            0.0   \n",
       "                                                                                    UNCOVERED_OPPTY_VALUE    0.0   \n",
       "\n",
       "Report FY                                                                                                         \\\n",
       "Report FQ                                                                                                     Q2   \n",
       "Value Type                                                                                                Actual   \n",
       "Method    Measure Group Sales Level 1 Sales Level 2 Sales Level 3    Sales Level 4  Measure                        \n",
       "FIELD     Operations    AMERICAS      AMERICAS_SP   ASP CSP          ASP ATT        OFFER_CREATED            0.0   \n",
       "                                                                                    OPPTY_STG1_CREATED       0.0   \n",
       "                                                                                    READOUTS_DONE            0.0   \n",
       "                                                                                    UNCOVERED_OPPTY_VALUE    0.0   \n",
       "                                                    ASP TELCO MOBILE ASP AMW        OFFER_CREATED            0.0   \n",
       "...                                                                                                          ...   \n",
       "TARGETING Operations    EMEAR-REGION  EMEAR_SP      SP_VDF_LG        LIBERTY_GLOBAL UNCOVERED_OPPTY_VALUE    0.0   \n",
       "                                                                     VODAFONE_      OFFER_CREATED            0.0   \n",
       "                                                                                    OPPTY_STG1_CREATED       1.0   \n",
       "                                                                                    READOUTS_DONE            0.0   \n",
       "                                                                                    UNCOVERED_OPPTY_VALUE    0.0   \n",
       "\n",
       "Report FY                                                                                                         \\\n",
       "Report FQ                                                                                                          \n",
       "Value Type                                                                                                Target   \n",
       "Method    Measure Group Sales Level 1 Sales Level 2 Sales Level 3    Sales Level 4  Measure                        \n",
       "FIELD     Operations    AMERICAS      AMERICAS_SP   ASP CSP          ASP ATT        OFFER_CREATED            0.0   \n",
       "                                                                                    OPPTY_STG1_CREATED       0.0   \n",
       "                                                                                    READOUTS_DONE            0.0   \n",
       "                                                                                    UNCOVERED_OPPTY_VALUE    0.0   \n",
       "                                                    ASP TELCO MOBILE ASP AMW        OFFER_CREATED            0.0   \n",
       "...                                                                                                          ...   \n",
       "TARGETING Operations    EMEAR-REGION  EMEAR_SP      SP_VDF_LG        LIBERTY_GLOBAL UNCOVERED_OPPTY_VALUE    0.0   \n",
       "                                                                     VODAFONE_      OFFER_CREATED            0.0   \n",
       "                                                                                    OPPTY_STG1_CREATED       0.0   \n",
       "                                                                                    READOUTS_DONE            0.0   \n",
       "                                                                                    UNCOVERED_OPPTY_VALUE    0.0   \n",
       "\n",
       "Report FY                                                                                                         \\\n",
       "Report FQ                                                                                                     Q3   \n",
       "Value Type                                                                                                Actual   \n",
       "Method    Measure Group Sales Level 1 Sales Level 2 Sales Level 3    Sales Level 4  Measure                        \n",
       "FIELD     Operations    AMERICAS      AMERICAS_SP   ASP CSP          ASP ATT        OFFER_CREATED            0.0   \n",
       "                                                                                    OPPTY_STG1_CREATED       1.0   \n",
       "                                                                                    READOUTS_DONE            1.0   \n",
       "                                                                                    UNCOVERED_OPPTY_VALUE    0.0   \n",
       "                                                    ASP TELCO MOBILE ASP AMW        OFFER_CREATED            0.0   \n",
       "...                                                                                                          ...   \n",
       "TARGETING Operations    EMEAR-REGION  EMEAR_SP      SP_VDF_LG        LIBERTY_GLOBAL UNCOVERED_OPPTY_VALUE    0.0   \n",
       "                                                                     VODAFONE_      OFFER_CREATED            0.0   \n",
       "                                                                                    OPPTY_STG1_CREATED       0.0   \n",
       "                                                                                    READOUTS_DONE            0.0   \n",
       "                                                                                    UNCOVERED_OPPTY_VALUE    0.0   \n",
       "\n",
       "Report FY                                                                                                         \\\n",
       "Report FQ                                                                                                          \n",
       "Value Type                                                                                                Target   \n",
       "Method    Measure Group Sales Level 1 Sales Level 2 Sales Level 3    Sales Level 4  Measure                        \n",
       "FIELD     Operations    AMERICAS      AMERICAS_SP   ASP CSP          ASP ATT        OFFER_CREATED            0.0   \n",
       "                                                                                    OPPTY_STG1_CREATED       0.0   \n",
       "                                                                                    READOUTS_DONE            0.0   \n",
       "                                                                                    UNCOVERED_OPPTY_VALUE    0.0   \n",
       "                                                    ASP TELCO MOBILE ASP AMW        OFFER_CREATED            0.0   \n",
       "...                                                                                                          ...   \n",
       "TARGETING Operations    EMEAR-REGION  EMEAR_SP      SP_VDF_LG        LIBERTY_GLOBAL UNCOVERED_OPPTY_VALUE    0.0   \n",
       "                                                                     VODAFONE_      OFFER_CREATED            0.0   \n",
       "                                                                                    OPPTY_STG1_CREATED       0.0   \n",
       "                                                                                    READOUTS_DONE            0.0   \n",
       "                                                                                    UNCOVERED_OPPTY_VALUE    0.0   \n",
       "\n",
       "Report FY                                                                                                         \\\n",
       "Report FQ                                                                                                     Q4   \n",
       "Value Type                                                                                                Actual   \n",
       "Method    Measure Group Sales Level 1 Sales Level 2 Sales Level 3    Sales Level 4  Measure                        \n",
       "FIELD     Operations    AMERICAS      AMERICAS_SP   ASP CSP          ASP ATT        OFFER_CREATED            0.0   \n",
       "                                                                                    OPPTY_STG1_CREATED       0.0   \n",
       "                                                                                    READOUTS_DONE            0.0   \n",
       "                                                                                    UNCOVERED_OPPTY_VALUE    0.0   \n",
       "                                                    ASP TELCO MOBILE ASP AMW        OFFER_CREATED            0.0   \n",
       "...                                                                                                          ...   \n",
       "TARGETING Operations    EMEAR-REGION  EMEAR_SP      SP_VDF_LG        LIBERTY_GLOBAL UNCOVERED_OPPTY_VALUE    0.0   \n",
       "                                                                     VODAFONE_      OFFER_CREATED            0.0   \n",
       "                                                                                    OPPTY_STG1_CREATED       0.0   \n",
       "                                                                                    READOUTS_DONE            0.0   \n",
       "                                                                                    UNCOVERED_OPPTY_VALUE    0.0   \n",
       "\n",
       "Report FY                                                                                                         \n",
       "Report FQ                                                                                                         \n",
       "Value Type                                                                                                Target  \n",
       "Method    Measure Group Sales Level 1 Sales Level 2 Sales Level 3    Sales Level 4  Measure                       \n",
       "FIELD     Operations    AMERICAS      AMERICAS_SP   ASP CSP          ASP ATT        OFFER_CREATED            0.0  \n",
       "                                                                                    OPPTY_STG1_CREATED       0.0  \n",
       "                                                                                    READOUTS_DONE            0.0  \n",
       "                                                                                    UNCOVERED_OPPTY_VALUE    0.0  \n",
       "                                                    ASP TELCO MOBILE ASP AMW        OFFER_CREATED            0.0  \n",
       "...                                                                                                          ...  \n",
       "TARGETING Operations    EMEAR-REGION  EMEAR_SP      SP_VDF_LG        LIBERTY_GLOBAL UNCOVERED_OPPTY_VALUE    0.0  \n",
       "                                                                     VODAFONE_      OFFER_CREATED            0.0  \n",
       "                                                                                    OPPTY_STG1_CREATED       0.0  \n",
       "                                                                                    READOUTS_DONE            0.0  \n",
       "                                                                                    UNCOVERED_OPPTY_VALUE    0.0  \n",
       "\n",
       "[7076 rows x 8 columns]"
      ]
     },
     "execution_count": 324,
     "metadata": {},
     "output_type": "execute_result"
    }
   ],
   "source": [
    "opp_flow_dash.loc[(opp_flow_dash['Measure Group'].str.contains('operations', na=False, case=False))].pivot_table(index=['Method','Measure Group', 'Sales Level 1','Sales Level 2','Sales Level 3','Sales Level 4','Measure'], columns=['Report FY','Report FQ','Value Type'], values='Value', aggfunc='sum', margins=False).fillna(0.0)"
   ]
  },
  {
   "cell_type": "code",
   "execution_count": 325,
   "metadata": {},
   "outputs": [
    {
     "data": {
      "text/plain": [
       "array(['Operations', 'Bookings-New', 'Bookings-Upsell'], dtype=object)"
      ]
     },
     "execution_count": 325,
     "metadata": {},
     "output_type": "execute_result"
    }
   ],
   "source": [
    "targets['Measure Group'].unique()"
   ]
  },
  {
   "cell_type": "code",
   "execution_count": 326,
   "metadata": {},
   "outputs": [],
   "source": [
    "def set_campaign_product_focus(campaign_type, campaign_name, product_type):\n",
    "    if campaign_type.upper() == 'FIELD' and product_type.upper() == 'SNTC':\n",
    "        return 'SNTC'\n",
    "    elif campaign_type.upper() == 'FIELD' and 'BCS' in product_type.upper():\n",
    "        return 'BCS'\n",
    "    elif campaign_type.upper() == 'FIELD' and product_type.upper() != 'SNTC' and 'BCS' not in product_type.upper():\n",
    "        return product_type \n",
    "    elif campaign_type.upper() == 'TARGETING':\n",
    "        if 'BCS' in campaign_name:\n",
    "            return 'BCS'\n",
    "        elif 'ST' in campaign_name or 'SUCCESS' in campaign_name:\n",
    "            return 'ST'\n",
    "        elif 'SSPT' in campaign_name or 'SOLUTION' in campaign_name:\n",
    "            return 'SSPT'\n",
    "        elif 'CTU' in campaign_name:\n",
    "            return 'SNTC'\n",
    "    elif (campaign_type.upper() == 'MISSED ATTACH' or campaign_type.upper() == 'COVERAGE PROGRAM'):\n",
    "        return 'Incr ARR $(000''s)'\n",
    "    elif campaign_type.upper() == 'COVERAGE AT RENEWAL':\n",
    "        return 'Incr ARR $(000s)'"
   ]
  },
  {
   "cell_type": "code",
   "execution_count": 327,
   "metadata": {},
   "outputs": [],
   "source": [
    "def get_lpm_plus_value(request_id):\n",
    "    #import pdb\n",
    "    #pdb.set_trace()\n",
    "    lpm_plus_value = None\n",
    "    try:\n",
    "        if df.loc[df['Request ID'] == str(request_id),'LPM_PLUS'].values[0]:\n",
    "            lpm_plus_value = df.loc[df['Request ID'] == str(request_id),'LPM_PLUS'].values[0]\n",
    "            if isinstance(lpm_plus_value, float):\n",
    "                lpm_plus_value = lpm_plus_value.astype(str)\n",
    "                \n",
    "    except:\n",
    "        lpm_plus_value = 'UNKNOWN'\n",
    "    \n",
    "    return lpm_plus_value.upper()"
   ]
  },
  {
   "cell_type": "code",
   "execution_count": 328,
   "metadata": {},
   "outputs": [],
   "source": [
    "def set_method(campaign_type, request_id):\n",
    "    lpm_plus_value = get_lpm_plus_value(request_id)\n",
    "    \n",
    "    if isinstance(lpm_plus_value, str):\n",
    "        if lpm_plus_value.upper() == 'YES' and campaign_type.upper() == 'COVERAGE AT RENEWAL':\n",
    "            return 'M6 (Coverage at Renewal)'\n",
    "    \n",
    "        elif lpm_plus_value.upper() == 'YES' and campaign_type.upper() != 'COVERAGE AT RENEWAL':\n",
    "            return 'M1 (Coverage Program)'\n",
    "    \n",
    "    elif campaign_type.upper() == 'FIELD':\n",
    "        return 'FIELD'\n",
    "    \n",
    "    elif campaign_type.upper() == 'TARGETING':    \n",
    "        return 'TARGETING'"
   ]
  },
  {
   "cell_type": "code",
   "execution_count": 329,
   "metadata": {},
   "outputs": [
    {
     "data": {
      "text/plain": [
       "1139    NaN\n",
       "Name: LPM_PLUS, dtype: object"
      ]
     },
     "execution_count": 329,
     "metadata": {},
     "output_type": "execute_result"
    }
   ],
   "source": [
    "df.loc[df['Request ID']=='985','LPM_PLUS']"
   ]
  },
  {
   "cell_type": "code",
   "execution_count": 330,
   "metadata": {},
   "outputs": [],
   "source": [
    "# get_lpm_plus_value(105803)"
   ]
  },
  {
   "cell_type": "code",
   "execution_count": 331,
   "metadata": {},
   "outputs": [],
   "source": [
    "def set_measure_group(campaign_type, campaign_name, service_source, offer_focus, request_id):\n",
    "    if request_id:\n",
    "        lpm_plus_value = get_lpm_plus_value(request_id)\n",
    "    \n",
    "    if pd.notnull(lpm_plus_value) or lpm_plus_value != np.nan():\n",
    "        if pd.isnull(service_source) or service_source == 'NA' or service_source == 'N/A' or service_source.upper() == 'UNKNOWN' or service_source == '':\n",
    "            del lpm_plus_value\n",
    "            return 'Bookings-Unknown'\n",
    "        if campaign_type.upper() == 'FIELD' and service_source.upper() == 'NEW' and lpm_plus_value.upper() != 'YES':\n",
    "            del lpm_plus_value\n",
    "            return 'Bookings-New'\n",
    "        elif campaign_type.upper() == 'TARGETING' and service_source.upper() == 'NEW' and lpm_plus_value.upper() != 'YES':\n",
    "            del lpm_plus_value\n",
    "            return 'Bookings-New'\n",
    "        elif (campaign_type.upper() == 'MISSED ATTACH' or campaign_type.upper() == 'COVERAGE PROGRAM') and offer_focus.upper() == 'SNTC':\n",
    "            del lpm_plus_value\n",
    "            return 'Bookings-New'\n",
    "        elif campaign_type.upper() == 'COVERAGE AT RENEWAL' and offer_focus.upper( ) == 'SNTC':\n",
    "            del lpm_plus_value\n",
    "            return 'Bookings-New'\n",
    "        else:\n",
    "            return 'Bookings-Upsell'\n",
    "    elif campaign_type.upper() == 'FIELD' and service_source.upper() == 'NEW':\n",
    "        return 'Bookings-New'\n",
    "    elif campaign_type.upper() == 'TARGETING' and service_source.upper() == 'NEW':\n",
    "        return 'Bookings-New'\n",
    "    elif (campaign_type.upper() == 'MISSED ATTACH' or campaign_type.upper() == 'COVERAGE PROGRAM') and offer_focus.upper() == 'SNTC':\n",
    "        return 'Bookings-New'\n",
    "    elif campaign_type.upper() == 'COVERAGE AT RENEWAL' and offer_focus.upper( ) == 'SNTC':\n",
    "        return 'Bookings-New'\n",
    "    else:\n",
    "        return 'Bookings-Upsell'"
   ]
  },
  {
   "cell_type": "code",
   "execution_count": null,
   "metadata": {},
   "outputs": [],
   "source": []
  },
  {
   "cell_type": "code",
   "execution_count": 332,
   "metadata": {},
   "outputs": [
    {
     "data": {
      "text/html": [
       "<div>\n",
       "<style scoped>\n",
       "    .dataframe tbody tr th:only-of-type {\n",
       "        vertical-align: middle;\n",
       "    }\n",
       "\n",
       "    .dataframe tbody tr th {\n",
       "        vertical-align: top;\n",
       "    }\n",
       "\n",
       "    .dataframe thead th {\n",
       "        text-align: right;\n",
       "    }\n",
       "</style>\n",
       "<table border=\"1\" class=\"dataframe\">\n",
       "  <thead>\n",
       "    <tr style=\"text-align: right;\">\n",
       "      <th></th>\n",
       "      <th>Sales Level 1</th>\n",
       "      <th>Sales Level 2</th>\n",
       "      <th>Sales Level 3</th>\n",
       "      <th>Sales Level 4</th>\n",
       "      <th>Campaign</th>\n",
       "      <th>Campaign Type</th>\n",
       "      <th>Customer Name</th>\n",
       "      <th>Report FY</th>\n",
       "      <th>Report FQ</th>\n",
       "      <th>Offer Focus</th>\n",
       "      <th>Method</th>\n",
       "      <th>Measure Group</th>\n",
       "      <th>Measure</th>\n",
       "      <th>Value Type</th>\n",
       "      <th>Value</th>\n",
       "    </tr>\n",
       "  </thead>\n",
       "  <tbody>\n",
       "    <tr>\n",
       "      <th>0</th>\n",
       "      <td>EMEAR-REGION</td>\n",
       "      <td>EMEAR_MEA</td>\n",
       "      <td>CLUSTER_SSA</td>\n",
       "      <td>COUNTRY_ZAF</td>\n",
       "      <td>REACTIVE</td>\n",
       "      <td>FIELD</td>\n",
       "      <td>(ACSA) AIRPORTS COMPANY OF SOUTH AFRICA</td>\n",
       "      <td>2022</td>\n",
       "      <td>Q2</td>\n",
       "      <td>ANY</td>\n",
       "      <td>FIELD</td>\n",
       "      <td>Operations</td>\n",
       "      <td>OPPTY_STG1_CREATED</td>\n",
       "      <td>Actual</td>\n",
       "      <td>1.000</td>\n",
       "    </tr>\n",
       "    <tr>\n",
       "      <th>1</th>\n",
       "      <td>EMEAR-REGION</td>\n",
       "      <td>EMEAR_MEA</td>\n",
       "      <td>CLUSTER_SSA</td>\n",
       "      <td>COUNTRY_ZAF</td>\n",
       "      <td>REACTIVE</td>\n",
       "      <td>FIELD</td>\n",
       "      <td>(ACSA) AIRPORTS COMPANY OF SOUTH AFRICA</td>\n",
       "      <td>2022</td>\n",
       "      <td>Q2</td>\n",
       "      <td>ANY</td>\n",
       "      <td>FIELD</td>\n",
       "      <td>Operations</td>\n",
       "      <td>READOUTS_DONE</td>\n",
       "      <td>Actual</td>\n",
       "      <td>1.000</td>\n",
       "    </tr>\n",
       "    <tr>\n",
       "      <th>2</th>\n",
       "      <td>EMEAR-REGION</td>\n",
       "      <td>EMEAR_MEA</td>\n",
       "      <td>CLUSTER_SSA</td>\n",
       "      <td>COUNTRY_ZAF</td>\n",
       "      <td>REACTIVE</td>\n",
       "      <td>FIELD</td>\n",
       "      <td>(ACSA) AIRPORTS COMPANY OF SOUTH AFRICA</td>\n",
       "      <td>2022</td>\n",
       "      <td>Q2</td>\n",
       "      <td>ANY</td>\n",
       "      <td>FIELD</td>\n",
       "      <td>Operations</td>\n",
       "      <td>OFFER_CREATED</td>\n",
       "      <td>Actual</td>\n",
       "      <td>0.000</td>\n",
       "    </tr>\n",
       "    <tr>\n",
       "      <th>3</th>\n",
       "      <td>EMEAR-REGION</td>\n",
       "      <td>EMEAR_MEA</td>\n",
       "      <td>CLUSTER_SSA</td>\n",
       "      <td>COUNTRY_ZAF</td>\n",
       "      <td>REACTIVE</td>\n",
       "      <td>FIELD</td>\n",
       "      <td>(ACSA) AIRPORTS COMPANY OF SOUTH AFRICA</td>\n",
       "      <td>2022</td>\n",
       "      <td>Q2</td>\n",
       "      <td>ANY</td>\n",
       "      <td>FIELD</td>\n",
       "      <td>Operations</td>\n",
       "      <td>UNCOVERED_OPPTY_VALUE</td>\n",
       "      <td>Actual</td>\n",
       "      <td>0.000</td>\n",
       "    </tr>\n",
       "    <tr>\n",
       "      <th>4</th>\n",
       "      <td>EMEAR-REGION</td>\n",
       "      <td>EMEAR_MEA</td>\n",
       "      <td>CLUSTER_SSA</td>\n",
       "      <td>COUNTRY_ZAF</td>\n",
       "      <td>REACTIVE</td>\n",
       "      <td>FIELD</td>\n",
       "      <td>(PIC) PUBLIC INVESTMENT CORPORATION</td>\n",
       "      <td>2022</td>\n",
       "      <td>Q2</td>\n",
       "      <td>ANY</td>\n",
       "      <td>FIELD</td>\n",
       "      <td>Operations</td>\n",
       "      <td>OPPTY_STG1_CREATED</td>\n",
       "      <td>Actual</td>\n",
       "      <td>1.000</td>\n",
       "    </tr>\n",
       "    <tr>\n",
       "      <th>...</th>\n",
       "      <td>...</td>\n",
       "      <td>...</td>\n",
       "      <td>...</td>\n",
       "      <td>...</td>\n",
       "      <td>...</td>\n",
       "      <td>...</td>\n",
       "      <td>...</td>\n",
       "      <td>...</td>\n",
       "      <td>...</td>\n",
       "      <td>...</td>\n",
       "      <td>...</td>\n",
       "      <td>...</td>\n",
       "      <td>...</td>\n",
       "      <td>...</td>\n",
       "      <td>...</td>\n",
       "    </tr>\n",
       "    <tr>\n",
       "      <th>793</th>\n",
       "      <td>EMEAR-REGION</td>\n",
       "      <td>0.0</td>\n",
       "      <td>0.0</td>\n",
       "      <td>0.0</td>\n",
       "      <td>SUCCESS TRACKS FOR CAMPUS TARGETING - DYNAMIC</td>\n",
       "      <td>TARGETING</td>\n",
       "      <td>0.0</td>\n",
       "      <td>2022</td>\n",
       "      <td>Q2</td>\n",
       "      <td>SNTC</td>\n",
       "      <td>M1 (Coverage Program)</td>\n",
       "      <td>Bookings-New</td>\n",
       "      <td>Incr ARR $(000s)</td>\n",
       "      <td>Actual</td>\n",
       "      <td>3.242</td>\n",
       "    </tr>\n",
       "    <tr>\n",
       "      <th>794</th>\n",
       "      <td>AMERICAS</td>\n",
       "      <td>0.0</td>\n",
       "      <td>0.0</td>\n",
       "      <td>0.0</td>\n",
       "      <td>SUCCESS TRACKS FOR CAMPUS TARGETING - DYNAMIC</td>\n",
       "      <td>TARGETING</td>\n",
       "      <td>0.0</td>\n",
       "      <td>2022</td>\n",
       "      <td>Q3</td>\n",
       "      <td>SNTC</td>\n",
       "      <td>M1 (Coverage Program)</td>\n",
       "      <td>Bookings-New</td>\n",
       "      <td>Incr ARR $(000s)</td>\n",
       "      <td>Actual</td>\n",
       "      <td>20.225</td>\n",
       "    </tr>\n",
       "    <tr>\n",
       "      <th>795</th>\n",
       "      <td>AMERICAS</td>\n",
       "      <td>0.0</td>\n",
       "      <td>0.0</td>\n",
       "      <td>0.0</td>\n",
       "      <td>SUCCESS TRACKS DYNAMIC CAMPAIGN</td>\n",
       "      <td>TARGETING</td>\n",
       "      <td>0.0</td>\n",
       "      <td>2022</td>\n",
       "      <td>Q3</td>\n",
       "      <td>SNTC</td>\n",
       "      <td>M1 (Coverage Program)</td>\n",
       "      <td>Bookings-New</td>\n",
       "      <td>Incr ARR $(000s)</td>\n",
       "      <td>Actual</td>\n",
       "      <td>161.155</td>\n",
       "    </tr>\n",
       "    <tr>\n",
       "      <th>796</th>\n",
       "      <td>AMERICAS</td>\n",
       "      <td>0.0</td>\n",
       "      <td>0.0</td>\n",
       "      <td>0.0</td>\n",
       "      <td>BCS 3.0 TARGETING GLOBAL COMPASS IDENTIFIED RI...</td>\n",
       "      <td>TARGETING</td>\n",
       "      <td>0.0</td>\n",
       "      <td>2022</td>\n",
       "      <td>Q3</td>\n",
       "      <td>SNTC</td>\n",
       "      <td>M1 (Coverage Program)</td>\n",
       "      <td>Bookings-New</td>\n",
       "      <td>Incr ARR $(000s)</td>\n",
       "      <td>Actual</td>\n",
       "      <td>6.242</td>\n",
       "    </tr>\n",
       "    <tr>\n",
       "      <th>797</th>\n",
       "      <td>EMEAR-REGION</td>\n",
       "      <td>0.0</td>\n",
       "      <td>0.0</td>\n",
       "      <td>0.0</td>\n",
       "      <td>SUCCESS TRACKS DYNAMIC CAMPAIGN</td>\n",
       "      <td>TARGETING</td>\n",
       "      <td>0.0</td>\n",
       "      <td>2022</td>\n",
       "      <td>Q3</td>\n",
       "      <td>SNTC</td>\n",
       "      <td>M1 (Coverage Program)</td>\n",
       "      <td>Bookings-New</td>\n",
       "      <td>Incr ARR $(000s)</td>\n",
       "      <td>Actual</td>\n",
       "      <td>33.791</td>\n",
       "    </tr>\n",
       "  </tbody>\n",
       "</table>\n",
       "<p>80702 rows × 15 columns</p>\n",
       "</div>"
      ],
      "text/plain": [
       "    Sales Level 1 Sales Level 2 Sales Level 3 Sales Level 4  \\\n",
       "0    EMEAR-REGION     EMEAR_MEA   CLUSTER_SSA   COUNTRY_ZAF   \n",
       "1    EMEAR-REGION     EMEAR_MEA   CLUSTER_SSA   COUNTRY_ZAF   \n",
       "2    EMEAR-REGION     EMEAR_MEA   CLUSTER_SSA   COUNTRY_ZAF   \n",
       "3    EMEAR-REGION     EMEAR_MEA   CLUSTER_SSA   COUNTRY_ZAF   \n",
       "4    EMEAR-REGION     EMEAR_MEA   CLUSTER_SSA   COUNTRY_ZAF   \n",
       "..            ...           ...           ...           ...   \n",
       "793  EMEAR-REGION           0.0           0.0           0.0   \n",
       "794      AMERICAS           0.0           0.0           0.0   \n",
       "795      AMERICAS           0.0           0.0           0.0   \n",
       "796      AMERICAS           0.0           0.0           0.0   \n",
       "797  EMEAR-REGION           0.0           0.0           0.0   \n",
       "\n",
       "                                              Campaign Campaign Type  \\\n",
       "0                                             REACTIVE         FIELD   \n",
       "1                                             REACTIVE         FIELD   \n",
       "2                                             REACTIVE         FIELD   \n",
       "3                                             REACTIVE         FIELD   \n",
       "4                                             REACTIVE         FIELD   \n",
       "..                                                 ...           ...   \n",
       "793      SUCCESS TRACKS FOR CAMPUS TARGETING - DYNAMIC     TARGETING   \n",
       "794      SUCCESS TRACKS FOR CAMPUS TARGETING - DYNAMIC     TARGETING   \n",
       "795                    SUCCESS TRACKS DYNAMIC CAMPAIGN     TARGETING   \n",
       "796  BCS 3.0 TARGETING GLOBAL COMPASS IDENTIFIED RI...     TARGETING   \n",
       "797                    SUCCESS TRACKS DYNAMIC CAMPAIGN     TARGETING   \n",
       "\n",
       "                               Customer Name Report FY Report FQ Offer Focus  \\\n",
       "0    (ACSA) AIRPORTS COMPANY OF SOUTH AFRICA      2022        Q2         ANY   \n",
       "1    (ACSA) AIRPORTS COMPANY OF SOUTH AFRICA      2022        Q2         ANY   \n",
       "2    (ACSA) AIRPORTS COMPANY OF SOUTH AFRICA      2022        Q2         ANY   \n",
       "3    (ACSA) AIRPORTS COMPANY OF SOUTH AFRICA      2022        Q2         ANY   \n",
       "4        (PIC) PUBLIC INVESTMENT CORPORATION      2022        Q2         ANY   \n",
       "..                                       ...       ...       ...         ...   \n",
       "793                                      0.0      2022        Q2        SNTC   \n",
       "794                                      0.0      2022        Q3        SNTC   \n",
       "795                                      0.0      2022        Q3        SNTC   \n",
       "796                                      0.0      2022        Q3        SNTC   \n",
       "797                                      0.0      2022        Q3        SNTC   \n",
       "\n",
       "                    Method Measure Group                Measure Value Type  \\\n",
       "0                    FIELD    Operations     OPPTY_STG1_CREATED     Actual   \n",
       "1                    FIELD    Operations          READOUTS_DONE     Actual   \n",
       "2                    FIELD    Operations          OFFER_CREATED     Actual   \n",
       "3                    FIELD    Operations  UNCOVERED_OPPTY_VALUE     Actual   \n",
       "4                    FIELD    Operations     OPPTY_STG1_CREATED     Actual   \n",
       "..                     ...           ...                    ...        ...   \n",
       "793  M1 (Coverage Program)  Bookings-New       Incr ARR $(000s)     Actual   \n",
       "794  M1 (Coverage Program)  Bookings-New       Incr ARR $(000s)     Actual   \n",
       "795  M1 (Coverage Program)  Bookings-New       Incr ARR $(000s)     Actual   \n",
       "796  M1 (Coverage Program)  Bookings-New       Incr ARR $(000s)     Actual   \n",
       "797  M1 (Coverage Program)  Bookings-New       Incr ARR $(000s)     Actual   \n",
       "\n",
       "       Value  \n",
       "0      1.000  \n",
       "1      1.000  \n",
       "2      0.000  \n",
       "3      0.000  \n",
       "4      1.000  \n",
       "..       ...  \n",
       "793    3.242  \n",
       "794   20.225  \n",
       "795  161.155  \n",
       "796    6.242  \n",
       "797   33.791  \n",
       "\n",
       "[80702 rows x 15 columns]"
      ]
     },
     "execution_count": 332,
     "metadata": {},
     "output_type": "execute_result"
    }
   ],
   "source": [
    "opp_flow_dash[['Sales Level 1', 'Sales Level 2', 'Sales Level 3', 'Sales Level 4', 'Campaign', 'Campaign Type','Customer Name','Report FY', 'Report FQ', 'Offer Focus', 'Method', 'Measure Group', 'Measure', 'Value Type', 'Value']]"
   ]
  },
  {
   "cell_type": "code",
   "execution_count": 333,
   "metadata": {},
   "outputs": [
    {
     "data": {
      "text/html": [
       "<div>\n",
       "<style scoped>\n",
       "    .dataframe tbody tr th:only-of-type {\n",
       "        vertical-align: middle;\n",
       "    }\n",
       "\n",
       "    .dataframe tbody tr th {\n",
       "        vertical-align: top;\n",
       "    }\n",
       "\n",
       "    .dataframe thead tr th {\n",
       "        text-align: left;\n",
       "    }\n",
       "\n",
       "    .dataframe thead tr:last-of-type th {\n",
       "        text-align: right;\n",
       "    }\n",
       "</style>\n",
       "<table border=\"1\" class=\"dataframe\">\n",
       "  <thead>\n",
       "    <tr>\n",
       "      <th></th>\n",
       "      <th></th>\n",
       "      <th></th>\n",
       "      <th></th>\n",
       "      <th></th>\n",
       "      <th></th>\n",
       "      <th>Report FY</th>\n",
       "      <th colspan=\"8\" halign=\"left\">2022</th>\n",
       "    </tr>\n",
       "    <tr>\n",
       "      <th></th>\n",
       "      <th></th>\n",
       "      <th></th>\n",
       "      <th></th>\n",
       "      <th></th>\n",
       "      <th></th>\n",
       "      <th>Report FQ</th>\n",
       "      <th colspan=\"2\" halign=\"left\">Q1</th>\n",
       "      <th colspan=\"2\" halign=\"left\">Q2</th>\n",
       "      <th colspan=\"2\" halign=\"left\">Q3</th>\n",
       "      <th colspan=\"2\" halign=\"left\">Q4</th>\n",
       "    </tr>\n",
       "    <tr>\n",
       "      <th></th>\n",
       "      <th></th>\n",
       "      <th></th>\n",
       "      <th></th>\n",
       "      <th></th>\n",
       "      <th></th>\n",
       "      <th>Value Type</th>\n",
       "      <th>Actual</th>\n",
       "      <th>Target</th>\n",
       "      <th>Actual</th>\n",
       "      <th>Target</th>\n",
       "      <th>Actual</th>\n",
       "      <th>Target</th>\n",
       "      <th>Actual</th>\n",
       "      <th>Target</th>\n",
       "    </tr>\n",
       "    <tr>\n",
       "      <th>Method</th>\n",
       "      <th>Measure Group</th>\n",
       "      <th>Sales Level 1</th>\n",
       "      <th>Sales Level 2</th>\n",
       "      <th>Sales Level 3</th>\n",
       "      <th>Sales Level 4</th>\n",
       "      <th>Measure</th>\n",
       "      <th></th>\n",
       "      <th></th>\n",
       "      <th></th>\n",
       "      <th></th>\n",
       "      <th></th>\n",
       "      <th></th>\n",
       "      <th></th>\n",
       "      <th></th>\n",
       "    </tr>\n",
       "  </thead>\n",
       "  <tbody>\n",
       "    <tr>\n",
       "      <th rowspan=\"5\" valign=\"top\">FIELD</th>\n",
       "      <th rowspan=\"5\" valign=\"top\">Operations</th>\n",
       "      <th rowspan=\"5\" valign=\"top\">AMERICAS</th>\n",
       "      <th rowspan=\"5\" valign=\"top\">AMERICAS_SP</th>\n",
       "      <th rowspan=\"4\" valign=\"top\">ASP CSP</th>\n",
       "      <th rowspan=\"4\" valign=\"top\">ASP ATT</th>\n",
       "      <th>OFFER_CREATED</th>\n",
       "      <td>0.0</td>\n",
       "      <td>0.0</td>\n",
       "      <td>0.0</td>\n",
       "      <td>0.0</td>\n",
       "      <td>0.0</td>\n",
       "      <td>0.0</td>\n",
       "      <td>0.0</td>\n",
       "      <td>0.0</td>\n",
       "    </tr>\n",
       "    <tr>\n",
       "      <th>OPPTY_STG1_CREATED</th>\n",
       "      <td>0.0</td>\n",
       "      <td>0.0</td>\n",
       "      <td>0.0</td>\n",
       "      <td>0.0</td>\n",
       "      <td>1.0</td>\n",
       "      <td>0.0</td>\n",
       "      <td>0.0</td>\n",
       "      <td>0.0</td>\n",
       "    </tr>\n",
       "    <tr>\n",
       "      <th>READOUTS_DONE</th>\n",
       "      <td>0.0</td>\n",
       "      <td>0.0</td>\n",
       "      <td>0.0</td>\n",
       "      <td>0.0</td>\n",
       "      <td>1.0</td>\n",
       "      <td>0.0</td>\n",
       "      <td>0.0</td>\n",
       "      <td>0.0</td>\n",
       "    </tr>\n",
       "    <tr>\n",
       "      <th>UNCOVERED_OPPTY_VALUE</th>\n",
       "      <td>0.0</td>\n",
       "      <td>0.0</td>\n",
       "      <td>0.0</td>\n",
       "      <td>0.0</td>\n",
       "      <td>0.0</td>\n",
       "      <td>0.0</td>\n",
       "      <td>0.0</td>\n",
       "      <td>0.0</td>\n",
       "    </tr>\n",
       "    <tr>\n",
       "      <th>ASP TELCO MOBILE</th>\n",
       "      <th>ASP AMW</th>\n",
       "      <th>OFFER_CREATED</th>\n",
       "      <td>0.0</td>\n",
       "      <td>0.0</td>\n",
       "      <td>0.0</td>\n",
       "      <td>0.0</td>\n",
       "      <td>0.0</td>\n",
       "      <td>0.0</td>\n",
       "      <td>0.0</td>\n",
       "      <td>0.0</td>\n",
       "    </tr>\n",
       "    <tr>\n",
       "      <th>...</th>\n",
       "      <th>...</th>\n",
       "      <th>...</th>\n",
       "      <th>...</th>\n",
       "      <th>...</th>\n",
       "      <th>...</th>\n",
       "      <th>...</th>\n",
       "      <td>...</td>\n",
       "      <td>...</td>\n",
       "      <td>...</td>\n",
       "      <td>...</td>\n",
       "      <td>...</td>\n",
       "      <td>...</td>\n",
       "      <td>...</td>\n",
       "      <td>...</td>\n",
       "    </tr>\n",
       "    <tr>\n",
       "      <th rowspan=\"5\" valign=\"top\">TARGETING</th>\n",
       "      <th rowspan=\"5\" valign=\"top\">Operations</th>\n",
       "      <th rowspan=\"5\" valign=\"top\">EMEAR-REGION</th>\n",
       "      <th rowspan=\"5\" valign=\"top\">EMEAR_SP</th>\n",
       "      <th rowspan=\"5\" valign=\"top\">SP_VDF_LG</th>\n",
       "      <th>LIBERTY_GLOBAL</th>\n",
       "      <th>UNCOVERED_OPPTY_VALUE</th>\n",
       "      <td>0.0</td>\n",
       "      <td>0.0</td>\n",
       "      <td>0.0</td>\n",
       "      <td>0.0</td>\n",
       "      <td>0.0</td>\n",
       "      <td>0.0</td>\n",
       "      <td>0.0</td>\n",
       "      <td>0.0</td>\n",
       "    </tr>\n",
       "    <tr>\n",
       "      <th rowspan=\"4\" valign=\"top\">VODAFONE_</th>\n",
       "      <th>OFFER_CREATED</th>\n",
       "      <td>0.0</td>\n",
       "      <td>0.0</td>\n",
       "      <td>0.0</td>\n",
       "      <td>0.0</td>\n",
       "      <td>0.0</td>\n",
       "      <td>0.0</td>\n",
       "      <td>0.0</td>\n",
       "      <td>0.0</td>\n",
       "    </tr>\n",
       "    <tr>\n",
       "      <th>OPPTY_STG1_CREATED</th>\n",
       "      <td>0.0</td>\n",
       "      <td>0.0</td>\n",
       "      <td>1.0</td>\n",
       "      <td>0.0</td>\n",
       "      <td>0.0</td>\n",
       "      <td>0.0</td>\n",
       "      <td>0.0</td>\n",
       "      <td>0.0</td>\n",
       "    </tr>\n",
       "    <tr>\n",
       "      <th>READOUTS_DONE</th>\n",
       "      <td>0.0</td>\n",
       "      <td>0.0</td>\n",
       "      <td>0.0</td>\n",
       "      <td>0.0</td>\n",
       "      <td>0.0</td>\n",
       "      <td>0.0</td>\n",
       "      <td>0.0</td>\n",
       "      <td>0.0</td>\n",
       "    </tr>\n",
       "    <tr>\n",
       "      <th>UNCOVERED_OPPTY_VALUE</th>\n",
       "      <td>0.0</td>\n",
       "      <td>0.0</td>\n",
       "      <td>0.0</td>\n",
       "      <td>0.0</td>\n",
       "      <td>0.0</td>\n",
       "      <td>0.0</td>\n",
       "      <td>0.0</td>\n",
       "      <td>0.0</td>\n",
       "    </tr>\n",
       "  </tbody>\n",
       "</table>\n",
       "<p>7088 rows × 8 columns</p>\n",
       "</div>"
      ],
      "text/plain": [
       "Report FY                                                                                                   2022  \\\n",
       "Report FQ                                                                                                     Q1   \n",
       "Value Type                                                                                                Actual   \n",
       "Method    Measure Group Sales Level 1 Sales Level 2 Sales Level 3    Sales Level 4  Measure                        \n",
       "FIELD     Operations    AMERICAS      AMERICAS_SP   ASP CSP          ASP ATT        OFFER_CREATED            0.0   \n",
       "                                                                                    OPPTY_STG1_CREATED       0.0   \n",
       "                                                                                    READOUTS_DONE            0.0   \n",
       "                                                                                    UNCOVERED_OPPTY_VALUE    0.0   \n",
       "                                                    ASP TELCO MOBILE ASP AMW        OFFER_CREATED            0.0   \n",
       "...                                                                                                          ...   \n",
       "TARGETING Operations    EMEAR-REGION  EMEAR_SP      SP_VDF_LG        LIBERTY_GLOBAL UNCOVERED_OPPTY_VALUE    0.0   \n",
       "                                                                     VODAFONE_      OFFER_CREATED            0.0   \n",
       "                                                                                    OPPTY_STG1_CREATED       0.0   \n",
       "                                                                                    READOUTS_DONE            0.0   \n",
       "                                                                                    UNCOVERED_OPPTY_VALUE    0.0   \n",
       "\n",
       "Report FY                                                                                                         \\\n",
       "Report FQ                                                                                                          \n",
       "Value Type                                                                                                Target   \n",
       "Method    Measure Group Sales Level 1 Sales Level 2 Sales Level 3    Sales Level 4  Measure                        \n",
       "FIELD     Operations    AMERICAS      AMERICAS_SP   ASP CSP          ASP ATT        OFFER_CREATED            0.0   \n",
       "                                                                                    OPPTY_STG1_CREATED       0.0   \n",
       "                                                                                    READOUTS_DONE            0.0   \n",
       "                                                                                    UNCOVERED_OPPTY_VALUE    0.0   \n",
       "                                                    ASP TELCO MOBILE ASP AMW        OFFER_CREATED            0.0   \n",
       "...                                                                                                          ...   \n",
       "TARGETING Operations    EMEAR-REGION  EMEAR_SP      SP_VDF_LG        LIBERTY_GLOBAL UNCOVERED_OPPTY_VALUE    0.0   \n",
       "                                                                     VODAFONE_      OFFER_CREATED            0.0   \n",
       "                                                                                    OPPTY_STG1_CREATED       0.0   \n",
       "                                                                                    READOUTS_DONE            0.0   \n",
       "                                                                                    UNCOVERED_OPPTY_VALUE    0.0   \n",
       "\n",
       "Report FY                                                                                                         \\\n",
       "Report FQ                                                                                                     Q2   \n",
       "Value Type                                                                                                Actual   \n",
       "Method    Measure Group Sales Level 1 Sales Level 2 Sales Level 3    Sales Level 4  Measure                        \n",
       "FIELD     Operations    AMERICAS      AMERICAS_SP   ASP CSP          ASP ATT        OFFER_CREATED            0.0   \n",
       "                                                                                    OPPTY_STG1_CREATED       0.0   \n",
       "                                                                                    READOUTS_DONE            0.0   \n",
       "                                                                                    UNCOVERED_OPPTY_VALUE    0.0   \n",
       "                                                    ASP TELCO MOBILE ASP AMW        OFFER_CREATED            0.0   \n",
       "...                                                                                                          ...   \n",
       "TARGETING Operations    EMEAR-REGION  EMEAR_SP      SP_VDF_LG        LIBERTY_GLOBAL UNCOVERED_OPPTY_VALUE    0.0   \n",
       "                                                                     VODAFONE_      OFFER_CREATED            0.0   \n",
       "                                                                                    OPPTY_STG1_CREATED       1.0   \n",
       "                                                                                    READOUTS_DONE            0.0   \n",
       "                                                                                    UNCOVERED_OPPTY_VALUE    0.0   \n",
       "\n",
       "Report FY                                                                                                         \\\n",
       "Report FQ                                                                                                          \n",
       "Value Type                                                                                                Target   \n",
       "Method    Measure Group Sales Level 1 Sales Level 2 Sales Level 3    Sales Level 4  Measure                        \n",
       "FIELD     Operations    AMERICAS      AMERICAS_SP   ASP CSP          ASP ATT        OFFER_CREATED            0.0   \n",
       "                                                                                    OPPTY_STG1_CREATED       0.0   \n",
       "                                                                                    READOUTS_DONE            0.0   \n",
       "                                                                                    UNCOVERED_OPPTY_VALUE    0.0   \n",
       "                                                    ASP TELCO MOBILE ASP AMW        OFFER_CREATED            0.0   \n",
       "...                                                                                                          ...   \n",
       "TARGETING Operations    EMEAR-REGION  EMEAR_SP      SP_VDF_LG        LIBERTY_GLOBAL UNCOVERED_OPPTY_VALUE    0.0   \n",
       "                                                                     VODAFONE_      OFFER_CREATED            0.0   \n",
       "                                                                                    OPPTY_STG1_CREATED       0.0   \n",
       "                                                                                    READOUTS_DONE            0.0   \n",
       "                                                                                    UNCOVERED_OPPTY_VALUE    0.0   \n",
       "\n",
       "Report FY                                                                                                         \\\n",
       "Report FQ                                                                                                     Q3   \n",
       "Value Type                                                                                                Actual   \n",
       "Method    Measure Group Sales Level 1 Sales Level 2 Sales Level 3    Sales Level 4  Measure                        \n",
       "FIELD     Operations    AMERICAS      AMERICAS_SP   ASP CSP          ASP ATT        OFFER_CREATED            0.0   \n",
       "                                                                                    OPPTY_STG1_CREATED       1.0   \n",
       "                                                                                    READOUTS_DONE            1.0   \n",
       "                                                                                    UNCOVERED_OPPTY_VALUE    0.0   \n",
       "                                                    ASP TELCO MOBILE ASP AMW        OFFER_CREATED            0.0   \n",
       "...                                                                                                          ...   \n",
       "TARGETING Operations    EMEAR-REGION  EMEAR_SP      SP_VDF_LG        LIBERTY_GLOBAL UNCOVERED_OPPTY_VALUE    0.0   \n",
       "                                                                     VODAFONE_      OFFER_CREATED            0.0   \n",
       "                                                                                    OPPTY_STG1_CREATED       0.0   \n",
       "                                                                                    READOUTS_DONE            0.0   \n",
       "                                                                                    UNCOVERED_OPPTY_VALUE    0.0   \n",
       "\n",
       "Report FY                                                                                                         \\\n",
       "Report FQ                                                                                                          \n",
       "Value Type                                                                                                Target   \n",
       "Method    Measure Group Sales Level 1 Sales Level 2 Sales Level 3    Sales Level 4  Measure                        \n",
       "FIELD     Operations    AMERICAS      AMERICAS_SP   ASP CSP          ASP ATT        OFFER_CREATED            0.0   \n",
       "                                                                                    OPPTY_STG1_CREATED       0.0   \n",
       "                                                                                    READOUTS_DONE            0.0   \n",
       "                                                                                    UNCOVERED_OPPTY_VALUE    0.0   \n",
       "                                                    ASP TELCO MOBILE ASP AMW        OFFER_CREATED            0.0   \n",
       "...                                                                                                          ...   \n",
       "TARGETING Operations    EMEAR-REGION  EMEAR_SP      SP_VDF_LG        LIBERTY_GLOBAL UNCOVERED_OPPTY_VALUE    0.0   \n",
       "                                                                     VODAFONE_      OFFER_CREATED            0.0   \n",
       "                                                                                    OPPTY_STG1_CREATED       0.0   \n",
       "                                                                                    READOUTS_DONE            0.0   \n",
       "                                                                                    UNCOVERED_OPPTY_VALUE    0.0   \n",
       "\n",
       "Report FY                                                                                                         \\\n",
       "Report FQ                                                                                                     Q4   \n",
       "Value Type                                                                                                Actual   \n",
       "Method    Measure Group Sales Level 1 Sales Level 2 Sales Level 3    Sales Level 4  Measure                        \n",
       "FIELD     Operations    AMERICAS      AMERICAS_SP   ASP CSP          ASP ATT        OFFER_CREATED            0.0   \n",
       "                                                                                    OPPTY_STG1_CREATED       0.0   \n",
       "                                                                                    READOUTS_DONE            0.0   \n",
       "                                                                                    UNCOVERED_OPPTY_VALUE    0.0   \n",
       "                                                    ASP TELCO MOBILE ASP AMW        OFFER_CREATED            0.0   \n",
       "...                                                                                                          ...   \n",
       "TARGETING Operations    EMEAR-REGION  EMEAR_SP      SP_VDF_LG        LIBERTY_GLOBAL UNCOVERED_OPPTY_VALUE    0.0   \n",
       "                                                                     VODAFONE_      OFFER_CREATED            0.0   \n",
       "                                                                                    OPPTY_STG1_CREATED       0.0   \n",
       "                                                                                    READOUTS_DONE            0.0   \n",
       "                                                                                    UNCOVERED_OPPTY_VALUE    0.0   \n",
       "\n",
       "Report FY                                                                                                         \n",
       "Report FQ                                                                                                         \n",
       "Value Type                                                                                                Target  \n",
       "Method    Measure Group Sales Level 1 Sales Level 2 Sales Level 3    Sales Level 4  Measure                       \n",
       "FIELD     Operations    AMERICAS      AMERICAS_SP   ASP CSP          ASP ATT        OFFER_CREATED            0.0  \n",
       "                                                                                    OPPTY_STG1_CREATED       0.0  \n",
       "                                                                                    READOUTS_DONE            0.0  \n",
       "                                                                                    UNCOVERED_OPPTY_VALUE    0.0  \n",
       "                                                    ASP TELCO MOBILE ASP AMW        OFFER_CREATED            0.0  \n",
       "...                                                                                                          ...  \n",
       "TARGETING Operations    EMEAR-REGION  EMEAR_SP      SP_VDF_LG        LIBERTY_GLOBAL UNCOVERED_OPPTY_VALUE    0.0  \n",
       "                                                                     VODAFONE_      OFFER_CREATED            0.0  \n",
       "                                                                                    OPPTY_STG1_CREATED       0.0  \n",
       "                                                                                    READOUTS_DONE            0.0  \n",
       "                                                                                    UNCOVERED_OPPTY_VALUE    0.0  \n",
       "\n",
       "[7088 rows x 8 columns]"
      ]
     },
     "execution_count": 333,
     "metadata": {},
     "output_type": "execute_result"
    }
   ],
   "source": [
    "opp_flow_dash.pivot_table(index=['Method','Measure Group', 'Sales Level 1','Sales Level 2','Sales Level 3','Sales Level 4','Measure'], columns=['Report FY','Report FQ','Value Type'], values='Value', aggfunc='sum', margins=False).fillna(0.0)"
   ]
  },
  {
   "cell_type": "code",
   "execution_count": 334,
   "metadata": {},
   "outputs": [],
   "source": [
    "# opp_flow_dash = pd.concat([opp_flow_dash, sub_bookings]).fillna(0.0)"
   ]
  },
  {
   "cell_type": "code",
   "execution_count": 335,
   "metadata": {},
   "outputs": [
    {
     "name": "stdout",
     "output_type": "stream",
     "text": [
      "<class 'pandas.core.frame.DataFrame'>\n",
      "Int64Index: 80702 entries, 0 to 797\n",
      "Data columns (total 16 columns):\n",
      " #   Column         Non-Null Count  Dtype  \n",
      "---  ------         --------------  -----  \n",
      " 0   Method         80702 non-null  object \n",
      " 1   Measure Group  80702 non-null  object \n",
      " 2   Campaign       80702 non-null  object \n",
      " 3   Campaign Type  80702 non-null  object \n",
      " 4   Customer Name  80702 non-null  object \n",
      " 5   Sales Level 1  80702 non-null  object \n",
      " 6   Sales Level 2  80702 non-null  object \n",
      " 7   Sales Level 3  80702 non-null  object \n",
      " 8   Sales Level 4  80702 non-null  object \n",
      " 9   Offer Focus    80702 non-null  object \n",
      " 10  Value Type     80702 non-null  object \n",
      " 11  Report FY      80702 non-null  object \n",
      " 12  Report FQ      80702 non-null  object \n",
      " 13  Measure        80702 non-null  object \n",
      " 14  Value          80702 non-null  float64\n",
      " 15  Unnamed: 15    80702 non-null  float64\n",
      "dtypes: float64(2), object(14)\n",
      "memory usage: 10.5+ MB\n"
     ]
    }
   ],
   "source": [
    "opp_flow_dash.info()"
   ]
  },
  {
   "cell_type": "code",
   "execution_count": 336,
   "metadata": {},
   "outputs": [],
   "source": [
    "c1 = opp_flow_dash.pivot_table(index=['Method','Measure Group', 'Campaign Type','Campaign','Customer Name','Offer Focus','Sales Level 1','Sales Level 2','Sales Level 3','Sales Level 4','Measure','Report FY','Report FQ',], columns=['Value Type'], values='Value', aggfunc='sum', margins=False).fillna(0.0)  #(opp_flow_dash['Measure SubGroup'].str.contains('operations', na=False, case=False)) & "
   ]
  },
  {
   "cell_type": "code",
   "execution_count": 337,
   "metadata": {},
   "outputs": [],
   "source": [
    "c1.reset_index(inplace=True)"
   ]
  },
  {
   "cell_type": "code",
   "execution_count": 338,
   "metadata": {},
   "outputs": [
    {
     "data": {
      "text/plain": [
       "array(['ANY', 'SNTC', 'BCS', 'ST', 'SSPT'], dtype=object)"
      ]
     },
     "execution_count": 338,
     "metadata": {},
     "output_type": "execute_result"
    }
   ],
   "source": [
    "c1.loc[c1['Measure Group'].str.contains('operat', na=False, case=False)]['Offer Focus'].unique()"
   ]
  },
  {
   "cell_type": "code",
   "execution_count": 339,
   "metadata": {},
   "outputs": [],
   "source": [
    "c1.to_excel(r'C:\\Users\\phsheari\\Documents\\Compass Tableau Data\\Opp_Flow_Dashboard.xlsx', sheet_name = 'OpportunityFlow' , index=False)\n",
    "c1.to_excel(r'C:\\Users\\phsheari\\Documents\\Compass Tableau Data\\Opp_Flow_Dashboard_' + today_file + '.xlsx', sheet_name = 'OpportunityFlow_' + today_file , index=False)"
   ]
  },
  {
   "cell_type": "code",
   "execution_count": 340,
   "metadata": {},
   "outputs": [
    {
     "data": {
      "text/plain": [
       "array(['OFFER_CREATED', 'OPPTY_STG1_CREATED', 'READOUTS_DONE',\n",
       "       'UNCOVERED_OPPTY_VALUE', 'Incr ARR $(000s)'], dtype=object)"
      ]
     },
     "execution_count": 340,
     "metadata": {},
     "output_type": "execute_result"
    }
   ],
   "source": [
    "c1['Measure'].unique()"
   ]
  },
  {
   "cell_type": "code",
   "execution_count": 341,
   "metadata": {},
   "outputs": [
    {
     "data": {
      "text/html": [
       "<div>\n",
       "<style scoped>\n",
       "    .dataframe tbody tr th:only-of-type {\n",
       "        vertical-align: middle;\n",
       "    }\n",
       "\n",
       "    .dataframe tbody tr th {\n",
       "        vertical-align: top;\n",
       "    }\n",
       "\n",
       "    .dataframe thead th {\n",
       "        text-align: right;\n",
       "    }\n",
       "</style>\n",
       "<table border=\"1\" class=\"dataframe\">\n",
       "  <thead>\n",
       "    <tr style=\"text-align: right;\">\n",
       "      <th>Value Type</th>\n",
       "      <th>Method</th>\n",
       "      <th>Measure Group</th>\n",
       "      <th>Campaign Type</th>\n",
       "      <th>Campaign</th>\n",
       "      <th>Customer Name</th>\n",
       "      <th>Offer Focus</th>\n",
       "      <th>Sales Level 1</th>\n",
       "      <th>Sales Level 2</th>\n",
       "      <th>Sales Level 3</th>\n",
       "      <th>Sales Level 4</th>\n",
       "      <th>Measure</th>\n",
       "      <th>Report FY</th>\n",
       "      <th>Report FQ</th>\n",
       "      <th>Actual</th>\n",
       "      <th>Target</th>\n",
       "    </tr>\n",
       "  </thead>\n",
       "  <tbody>\n",
       "    <tr>\n",
       "      <th>9648</th>\n",
       "      <td>M1 (Coverage Program)</td>\n",
       "      <td>Operations</td>\n",
       "      <td>COVERAGE PROGRAM</td>\n",
       "      <td>COVERAGE PROGRAM - SNTC PROACTIVE ATTACH</td>\n",
       "      <td>ABDI IBRAHIM ILAC AS</td>\n",
       "      <td>SNTC</td>\n",
       "      <td>EMEAR-REGION</td>\n",
       "      <td>EMEAR_MEA</td>\n",
       "      <td>COUNTRY_TUR</td>\n",
       "      <td>COMMERCIAL_TUR</td>\n",
       "      <td>READOUTS_DONE</td>\n",
       "      <td>2022</td>\n",
       "      <td>Q2</td>\n",
       "      <td>0.0</td>\n",
       "      <td>0.0</td>\n",
       "    </tr>\n",
       "    <tr>\n",
       "      <th>9652</th>\n",
       "      <td>M1 (Coverage Program)</td>\n",
       "      <td>Operations</td>\n",
       "      <td>COVERAGE PROGRAM</td>\n",
       "      <td>COVERAGE PROGRAM - SNTC PROACTIVE ATTACH</td>\n",
       "      <td>ABU DHABI FUTURE ENERGY COMPANY - MASDAR</td>\n",
       "      <td>SNTC</td>\n",
       "      <td>EMEAR-REGION</td>\n",
       "      <td>EMEAR_MEA</td>\n",
       "      <td>CLUSTER_GULF</td>\n",
       "      <td>COUNTRY_ARE</td>\n",
       "      <td>READOUTS_DONE</td>\n",
       "      <td>2022</td>\n",
       "      <td>Q2</td>\n",
       "      <td>1.0</td>\n",
       "      <td>0.0</td>\n",
       "    </tr>\n",
       "    <tr>\n",
       "      <th>9672</th>\n",
       "      <td>M1 (Coverage Program)</td>\n",
       "      <td>Operations</td>\n",
       "      <td>COVERAGE PROGRAM</td>\n",
       "      <td>COVERAGE PROGRAM - SNTC PROACTIVE ATTACH</td>\n",
       "      <td>ACCOR GROUP</td>\n",
       "      <td>SNTC</td>\n",
       "      <td>EMEAR-REGION</td>\n",
       "      <td>EMEAR_MEA</td>\n",
       "      <td>CLUSTER_GULF</td>\n",
       "      <td>COUNTRY_ARE</td>\n",
       "      <td>READOUTS_DONE</td>\n",
       "      <td>2022</td>\n",
       "      <td>Q2</td>\n",
       "      <td>1.0</td>\n",
       "      <td>0.0</td>\n",
       "    </tr>\n",
       "    <tr>\n",
       "      <th>9696</th>\n",
       "      <td>M1 (Coverage Program)</td>\n",
       "      <td>Operations</td>\n",
       "      <td>COVERAGE PROGRAM</td>\n",
       "      <td>COVERAGE PROGRAM - SNTC PROACTIVE ATTACH</td>\n",
       "      <td>ADIX</td>\n",
       "      <td>SNTC</td>\n",
       "      <td>EMEAR-REGION</td>\n",
       "      <td>EMEAR-NORTH</td>\n",
       "      <td>COUNTRY_NETHERLANDS</td>\n",
       "      <td>COMMERCIAL_NLD</td>\n",
       "      <td>READOUTS_DONE</td>\n",
       "      <td>2022</td>\n",
       "      <td>Q2</td>\n",
       "      <td>0.0</td>\n",
       "      <td>0.0</td>\n",
       "    </tr>\n",
       "    <tr>\n",
       "      <th>9732</th>\n",
       "      <td>M1 (Coverage Program)</td>\n",
       "      <td>Operations</td>\n",
       "      <td>COVERAGE PROGRAM</td>\n",
       "      <td>COVERAGE PROGRAM - SNTC PROACTIVE ATTACH</td>\n",
       "      <td>AGFA - GEVAERT</td>\n",
       "      <td>SNTC</td>\n",
       "      <td>EMEAR-REGION</td>\n",
       "      <td>EMEAR-NORTH</td>\n",
       "      <td>CLUSTER_BELUX</td>\n",
       "      <td>COMMERCIAL_BEL</td>\n",
       "      <td>READOUTS_DONE</td>\n",
       "      <td>2022</td>\n",
       "      <td>Q2</td>\n",
       "      <td>1.0</td>\n",
       "      <td>0.0</td>\n",
       "    </tr>\n",
       "    <tr>\n",
       "      <th>...</th>\n",
       "      <td>...</td>\n",
       "      <td>...</td>\n",
       "      <td>...</td>\n",
       "      <td>...</td>\n",
       "      <td>...</td>\n",
       "      <td>...</td>\n",
       "      <td>...</td>\n",
       "      <td>...</td>\n",
       "      <td>...</td>\n",
       "      <td>...</td>\n",
       "      <td>...</td>\n",
       "      <td>...</td>\n",
       "      <td>...</td>\n",
       "      <td>...</td>\n",
       "      <td>...</td>\n",
       "    </tr>\n",
       "    <tr>\n",
       "      <th>37684</th>\n",
       "      <td>M1 (Coverage Program)</td>\n",
       "      <td>Operations</td>\n",
       "      <td>TARGETING</td>\n",
       "      <td>SUCCESS TRACKS FOR CAMPUS TARGETING - DYNAMIC</td>\n",
       "      <td>VERMEER CORPORATION (PRIMARY)</td>\n",
       "      <td>ST</td>\n",
       "      <td>AMERICAS</td>\n",
       "      <td>US COMMERCIAL</td>\n",
       "      <td>COMMERCIAL CENTRAL AREA</td>\n",
       "      <td>HEARTLAND-GULF COMMERCIAL OPERATION</td>\n",
       "      <td>READOUTS_DONE</td>\n",
       "      <td>2022</td>\n",
       "      <td>Q2</td>\n",
       "      <td>1.0</td>\n",
       "      <td>0.0</td>\n",
       "    </tr>\n",
       "    <tr>\n",
       "      <th>37688</th>\n",
       "      <td>M1 (Coverage Program)</td>\n",
       "      <td>Operations</td>\n",
       "      <td>TARGETING</td>\n",
       "      <td>SUCCESS TRACKS FOR CAMPUS TARGETING - DYNAMIC</td>\n",
       "      <td>VOCERA COMMUNICATIONS INC</td>\n",
       "      <td>ST</td>\n",
       "      <td>AMERICAS</td>\n",
       "      <td>US COMMERCIAL</td>\n",
       "      <td>COMMERCIAL WEST AREA</td>\n",
       "      <td>GOLDEN WEST COMMERCIAL OPERATION</td>\n",
       "      <td>READOUTS_DONE</td>\n",
       "      <td>2022</td>\n",
       "      <td>Q2</td>\n",
       "      <td>1.0</td>\n",
       "      <td>0.0</td>\n",
       "    </tr>\n",
       "    <tr>\n",
       "      <th>37699</th>\n",
       "      <td>M1 (Coverage Program)</td>\n",
       "      <td>Operations</td>\n",
       "      <td>TELEMETRY</td>\n",
       "      <td>COVERAGE PROGRAM - TELEMETRY</td>\n",
       "      <td>0.0</td>\n",
       "      <td>SNTC</td>\n",
       "      <td>AMERICAS</td>\n",
       "      <td>0.0</td>\n",
       "      <td>0.0</td>\n",
       "      <td>0.0</td>\n",
       "      <td>READOUTS_DONE</td>\n",
       "      <td>2022</td>\n",
       "      <td>Q2</td>\n",
       "      <td>0.0</td>\n",
       "      <td>435.0</td>\n",
       "    </tr>\n",
       "    <tr>\n",
       "      <th>37715</th>\n",
       "      <td>M1 (Coverage Program)</td>\n",
       "      <td>Operations</td>\n",
       "      <td>TELEMETRY</td>\n",
       "      <td>COVERAGE PROGRAM - TELEMETRY</td>\n",
       "      <td>0.0</td>\n",
       "      <td>SNTC</td>\n",
       "      <td>APJC</td>\n",
       "      <td>0.0</td>\n",
       "      <td>0.0</td>\n",
       "      <td>0.0</td>\n",
       "      <td>READOUTS_DONE</td>\n",
       "      <td>2022</td>\n",
       "      <td>Q2</td>\n",
       "      <td>0.0</td>\n",
       "      <td>0.0</td>\n",
       "    </tr>\n",
       "    <tr>\n",
       "      <th>37731</th>\n",
       "      <td>M1 (Coverage Program)</td>\n",
       "      <td>Operations</td>\n",
       "      <td>TELEMETRY</td>\n",
       "      <td>COVERAGE PROGRAM - TELEMETRY</td>\n",
       "      <td>0.0</td>\n",
       "      <td>SNTC</td>\n",
       "      <td>EMEAR-REGION</td>\n",
       "      <td>0.0</td>\n",
       "      <td>0.0</td>\n",
       "      <td>0.0</td>\n",
       "      <td>READOUTS_DONE</td>\n",
       "      <td>2022</td>\n",
       "      <td>Q2</td>\n",
       "      <td>0.0</td>\n",
       "      <td>70.0</td>\n",
       "    </tr>\n",
       "  </tbody>\n",
       "</table>\n",
       "<p>2560 rows × 15 columns</p>\n",
       "</div>"
      ],
      "text/plain": [
       "Value Type                 Method Measure Group     Campaign Type  \\\n",
       "9648        M1 (Coverage Program)    Operations  COVERAGE PROGRAM   \n",
       "9652        M1 (Coverage Program)    Operations  COVERAGE PROGRAM   \n",
       "9672        M1 (Coverage Program)    Operations  COVERAGE PROGRAM   \n",
       "9696        M1 (Coverage Program)    Operations  COVERAGE PROGRAM   \n",
       "9732        M1 (Coverage Program)    Operations  COVERAGE PROGRAM   \n",
       "...                           ...           ...               ...   \n",
       "37684       M1 (Coverage Program)    Operations         TARGETING   \n",
       "37688       M1 (Coverage Program)    Operations         TARGETING   \n",
       "37699       M1 (Coverage Program)    Operations         TELEMETRY   \n",
       "37715       M1 (Coverage Program)    Operations         TELEMETRY   \n",
       "37731       M1 (Coverage Program)    Operations         TELEMETRY   \n",
       "\n",
       "Value Type                                       Campaign  \\\n",
       "9648             COVERAGE PROGRAM - SNTC PROACTIVE ATTACH   \n",
       "9652             COVERAGE PROGRAM - SNTC PROACTIVE ATTACH   \n",
       "9672             COVERAGE PROGRAM - SNTC PROACTIVE ATTACH   \n",
       "9696             COVERAGE PROGRAM - SNTC PROACTIVE ATTACH   \n",
       "9732             COVERAGE PROGRAM - SNTC PROACTIVE ATTACH   \n",
       "...                                                   ...   \n",
       "37684       SUCCESS TRACKS FOR CAMPUS TARGETING - DYNAMIC   \n",
       "37688       SUCCESS TRACKS FOR CAMPUS TARGETING - DYNAMIC   \n",
       "37699                        COVERAGE PROGRAM - TELEMETRY   \n",
       "37715                        COVERAGE PROGRAM - TELEMETRY   \n",
       "37731                        COVERAGE PROGRAM - TELEMETRY   \n",
       "\n",
       "Value Type                             Customer Name Offer Focus  \\\n",
       "9648                            ABDI IBRAHIM ILAC AS        SNTC   \n",
       "9652        ABU DHABI FUTURE ENERGY COMPANY - MASDAR        SNTC   \n",
       "9672                                     ACCOR GROUP        SNTC   \n",
       "9696                                            ADIX        SNTC   \n",
       "9732                                  AGFA - GEVAERT        SNTC   \n",
       "...                                              ...         ...   \n",
       "37684                  VERMEER CORPORATION (PRIMARY)          ST   \n",
       "37688                      VOCERA COMMUNICATIONS INC          ST   \n",
       "37699                                            0.0        SNTC   \n",
       "37715                                            0.0        SNTC   \n",
       "37731                                            0.0        SNTC   \n",
       "\n",
       "Value Type Sales Level 1  Sales Level 2            Sales Level 3  \\\n",
       "9648        EMEAR-REGION      EMEAR_MEA              COUNTRY_TUR   \n",
       "9652        EMEAR-REGION      EMEAR_MEA             CLUSTER_GULF   \n",
       "9672        EMEAR-REGION      EMEAR_MEA             CLUSTER_GULF   \n",
       "9696        EMEAR-REGION    EMEAR-NORTH      COUNTRY_NETHERLANDS   \n",
       "9732        EMEAR-REGION    EMEAR-NORTH            CLUSTER_BELUX   \n",
       "...                  ...            ...                      ...   \n",
       "37684           AMERICAS  US COMMERCIAL  COMMERCIAL CENTRAL AREA   \n",
       "37688           AMERICAS  US COMMERCIAL     COMMERCIAL WEST AREA   \n",
       "37699           AMERICAS            0.0                      0.0   \n",
       "37715               APJC            0.0                      0.0   \n",
       "37731       EMEAR-REGION            0.0                      0.0   \n",
       "\n",
       "Value Type                        Sales Level 4        Measure Report FY  \\\n",
       "9648                             COMMERCIAL_TUR  READOUTS_DONE      2022   \n",
       "9652                                COUNTRY_ARE  READOUTS_DONE      2022   \n",
       "9672                                COUNTRY_ARE  READOUTS_DONE      2022   \n",
       "9696                             COMMERCIAL_NLD  READOUTS_DONE      2022   \n",
       "9732                             COMMERCIAL_BEL  READOUTS_DONE      2022   \n",
       "...                                         ...            ...       ...   \n",
       "37684       HEARTLAND-GULF COMMERCIAL OPERATION  READOUTS_DONE      2022   \n",
       "37688          GOLDEN WEST COMMERCIAL OPERATION  READOUTS_DONE      2022   \n",
       "37699                                       0.0  READOUTS_DONE      2022   \n",
       "37715                                       0.0  READOUTS_DONE      2022   \n",
       "37731                                       0.0  READOUTS_DONE      2022   \n",
       "\n",
       "Value Type Report FQ  Actual  Target  \n",
       "9648              Q2     0.0     0.0  \n",
       "9652              Q2     1.0     0.0  \n",
       "9672              Q2     1.0     0.0  \n",
       "9696              Q2     0.0     0.0  \n",
       "9732              Q2     1.0     0.0  \n",
       "...              ...     ...     ...  \n",
       "37684             Q2     1.0     0.0  \n",
       "37688             Q2     1.0     0.0  \n",
       "37699             Q2     0.0   435.0  \n",
       "37715             Q2     0.0     0.0  \n",
       "37731             Q2     0.0    70.0  \n",
       "\n",
       "[2560 rows x 15 columns]"
      ]
     },
     "execution_count": 341,
     "metadata": {},
     "output_type": "execute_result"
    }
   ],
   "source": [
    "c1.loc[(c1['Measure']=='READOUTS_DONE') & (c1['Method'].str.contains('M1 \\(Coverage')) & (c1['Report FQ']=='Q2')]"
   ]
  },
  {
   "cell_type": "markdown",
   "metadata": {},
   "source": [
    "### Add Measure Group, Measure SubGroup, Offer Focus, to bookings in order to create a table like the agg_report which can be vertically stacked with the Target file data"
   ]
  },
  {
   "cell_type": "code",
   "execution_count": 342,
   "metadata": {},
   "outputs": [
    {
     "data": {
      "text/plain": [
       "0        Operations\n",
       "1        Operations\n",
       "2        Operations\n",
       "3        Operations\n",
       "4        Operations\n",
       "           ...     \n",
       "793    Bookings-New\n",
       "794    Bookings-New\n",
       "795    Bookings-New\n",
       "796    Bookings-New\n",
       "797    Bookings-New\n",
       "Name: Measure Group, Length: 80318, dtype: object"
      ]
     },
     "execution_count": 342,
     "metadata": {},
     "output_type": "execute_result"
    }
   ],
   "source": [
    "opp_flow_dash.loc[opp_flow_dash['Value Type']=='Actual']['Measure Group'] #.unique()"
   ]
  },
  {
   "cell_type": "code",
   "execution_count": 343,
   "metadata": {},
   "outputs": [],
   "source": [
    "# df[['Request ID','Created Date','Customer Name','Campaign','Alert Below 25', 'Requester Name','Requester Function','SSP','Distribution List','RR_internal', 'SAV ID', \n",
    "#     'Compass Advisor', 'Customer Identifier','Deal ID','Declined Reason','Email Sent to SSX','Method','Measure Group','Readout Date','Next Steps', 'Items Recommended',\n",
    "#     'LPM Plus Assigned','LPM Plus Engaged','LPM Plus Scheduled','LPM Plus Unassigned','LPM Readouts Declined','LPM Readouts Done',\n",
    "#     'Offer Created','Oppty Stg1 Created','Readouts Done','SNTC Estimate','Uncovered Oppty Value','Partner Name','Readout Date',\n",
    "#     'Readout Delivery Status', 'Report FY','Report FQ','Sales Level 1','Sales Level 2','Sales Level 3', 'Sales Level 4','WORKING STATUS']]"
   ]
  },
  {
   "cell_type": "code",
   "execution_count": 344,
   "metadata": {},
   "outputs": [],
   "source": [
    "# Done"
   ]
  },
  {
   "cell_type": "code",
   "execution_count": 345,
   "metadata": {},
   "outputs": [],
   "source": [
    "# ['OPPTY_STG1_CREATED','DATA_PACKAGE_CREATED','READOUTS_DONE','OFFER_CREATED']"
   ]
  },
  {
   "cell_type": "code",
   "execution_count": 346,
   "metadata": {},
   "outputs": [
    {
     "name": "stderr",
     "output_type": "stream",
     "text": [
      "C:\\Users\\phsheari\\.conda\\envs\\compass_env\\lib\\site-packages\\xlsxwriter\\worksheet.py:986: UserWarning: Ignoring URL 'https://cisco.sharepoint.com/:p:/r/sites/ONEIB/Shared%20Documents/Compass%20Operations/Compass%20PPTs/Americas/Commercial/Compass_Analysis_BOSSELMAN_INC_111711_202201.pptx?d=w87f0671f4d61459f9509bebefc13b3d1&csf=1&web=1&e=itouom' since it exceeds Excel's limit of 65,530 URLS per worksheet.\n",
      "  warn(\"Ignoring URL '%s' since it exceeds Excel's limit of \"\n",
      "C:\\Users\\phsheari\\.conda\\envs\\compass_env\\lib\\site-packages\\xlsxwriter\\worksheet.py:986: UserWarning: Ignoring URL 'https://cisco.sharepoint.com/:p:/r/sites/ONEIB/Shared%20Documents/Compass%20Operations/Compass%20PPTs/Americas/Commercial/Compass_Analysis_RIDGEVIEW_MEDIC_111833_202201.pptx?d=w2409b14b5bef401baf0c90c5651d9be1&csf=1&web=1&e=cdQeZ4' since it exceeds Excel's limit of 65,530 URLS per worksheet.\n",
      "  warn(\"Ignoring URL '%s' since it exceeds Excel's limit of \"\n",
      "C:\\Users\\phsheari\\.conda\\envs\\compass_env\\lib\\site-packages\\xlsxwriter\\worksheet.py:986: UserWarning: Ignoring URL 'https://cisco.sharepoint.com/:p:/r/sites/ONEIB/Shared%20Documents/Compass%20Operations/Compass%20PPTs/Americas/Commercial/Compass_Analysis_SCOTT_EQUIPMENT_111838_202201.pptx?d=wc5949c4485b244b29ff0ff9641d513b0&csf=1&web=1&e=OZBIjd' since it exceeds Excel's limit of 65,530 URLS per worksheet.\n",
      "  warn(\"Ignoring URL '%s' since it exceeds Excel's limit of \"\n",
      "C:\\Users\\phsheari\\.conda\\envs\\compass_env\\lib\\site-packages\\xlsxwriter\\worksheet.py:986: UserWarning: Ignoring URL 'https://cisco.sharepoint.com/:p:/r/sites/ONEIB/_layouts/15/Doc.aspx?sourcedoc=%7B3C95A714-436C-4A89-B492-86C547BC4196%7D&file=Compass_Analysis_YATES_111884_202201.pptx&action=edit&mobileredirect=true' since it exceeds Excel's limit of 65,530 URLS per worksheet.\n",
      "  warn(\"Ignoring URL '%s' since it exceeds Excel's limit of \"\n",
      "C:\\Users\\phsheari\\.conda\\envs\\compass_env\\lib\\site-packages\\xlsxwriter\\worksheet.py:986: UserWarning: Ignoring URL 'https://cisco.sharepoint.com/:p:/r/sites/oneib/Shared%20Documents/Compass%20Operations/Compass%20PPTs/Americas/Commercial/Compass_Analysis_ESSENTIA_HEALTH_112365_202202.pptx?web=1' since it exceeds Excel's limit of 65,530 URLS per worksheet.\n",
      "  warn(\"Ignoring URL '%s' since it exceeds Excel's limit of \"\n",
      "C:\\Users\\phsheari\\.conda\\envs\\compass_env\\lib\\site-packages\\xlsxwriter\\worksheet.py:986: UserWarning: Ignoring URL 'https://cisco.sharepoint.com/:p:/r/sites/oneib/Shared%20Documents/Compass%20Operations/Compass%20PPTs/Americas/Commercial/Compass_Analysis_BLUE_CROSS_AND__113380_202203.pptx?web=1' since it exceeds Excel's limit of 65,530 URLS per worksheet.\n",
      "  warn(\"Ignoring URL '%s' since it exceeds Excel's limit of \"\n",
      "C:\\Users\\phsheari\\.conda\\envs\\compass_env\\lib\\site-packages\\xlsxwriter\\worksheet.py:986: UserWarning: Ignoring URL 'https://cisco.sharepoint.com/:p:/r/sites/oneib/Shared%20Documents/Compass%20Operations/Compass%20PPTs/Americas/Commercial/Compass_Analysis_AAA_COOPER_TRAN_113249_202203.pptx?web=1' since it exceeds Excel's limit of 65,530 URLS per worksheet.\n",
      "  warn(\"Ignoring URL '%s' since it exceeds Excel's limit of \"\n",
      "C:\\Users\\phsheari\\.conda\\envs\\compass_env\\lib\\site-packages\\xlsxwriter\\worksheet.py:986: UserWarning: Ignoring URL 'https://cisco.sharepoint.com/:p:/r/sites/oneib/Shared%20Documents/Compass%20Operations/Compass%20PPTs/Americas/Commercial/Compass_Analysis_ACADIAN_AMBULAN_113256_202203.pptx?web=1' since it exceeds Excel's limit of 65,530 URLS per worksheet.\n",
      "  warn(\"Ignoring URL '%s' since it exceeds Excel's limit of \"\n",
      "C:\\Users\\phsheari\\.conda\\envs\\compass_env\\lib\\site-packages\\xlsxwriter\\worksheet.py:986: UserWarning: Ignoring URL 'https://cisco.sharepoint.com/:p:/r/sites/oneib/Shared%20Documents/Compass%20Operations/Compass%20PPTs/Americas/Commercial/Compass_Analysis_ACCU_MOLD_CORPO_113258_202203.pptx?web=1' since it exceeds Excel's limit of 65,530 URLS per worksheet.\n",
      "  warn(\"Ignoring URL '%s' since it exceeds Excel's limit of \"\n",
      "C:\\Users\\phsheari\\.conda\\envs\\compass_env\\lib\\site-packages\\xlsxwriter\\worksheet.py:986: UserWarning: Ignoring URL 'https://cisco.sharepoint.com/:p:/r/sites/oneib/Shared%20Documents/Compass%20Operations/Compass%20PPTs/Americas/Commercial/Compass_Analysis_ALERUS_FINANCIA_113284_202203.pptx?web=1' since it exceeds Excel's limit of 65,530 URLS per worksheet.\n",
      "  warn(\"Ignoring URL '%s' since it exceeds Excel's limit of \"\n",
      "C:\\Users\\phsheari\\.conda\\envs\\compass_env\\lib\\site-packages\\xlsxwriter\\worksheet.py:986: UserWarning: Ignoring URL 'https://cisco.sharepoint.com/:p:/r/sites/oneib/Shared%20Documents/Compass%20Operations/Compass%20PPTs/Americas/Commercial/Compass_Analysis_AMDOCS_113292_202203.pptx?web=1' since it exceeds Excel's limit of 65,530 URLS per worksheet.\n",
      "  warn(\"Ignoring URL '%s' since it exceeds Excel's limit of \"\n",
      "C:\\Users\\phsheari\\.conda\\envs\\compass_env\\lib\\site-packages\\xlsxwriter\\worksheet.py:986: UserWarning: Ignoring URL 'https://cisco.sharepoint.com/:p:/r/sites/oneib/Shared%20Documents/Compass%20Operations/Compass%20PPTs/Americas/Commercial/Compass_Analysis_ARDEN_CORPORATI_113324_202203.pptx?web=1' since it exceeds Excel's limit of 65,530 URLS per worksheet.\n",
      "  warn(\"Ignoring URL '%s' since it exceeds Excel's limit of \"\n",
      "C:\\Users\\phsheari\\.conda\\envs\\compass_env\\lib\\site-packages\\xlsxwriter\\worksheet.py:986: UserWarning: Ignoring URL 'https://cisco.sharepoint.com/:p:/r/sites/oneib/Shared%20Documents/Compass%20Operations/Compass%20PPTs/Americas/Commercial/Compass_Analysis_BANK_OF_MISSOUR_113362_202203.pptx?web=1' since it exceeds Excel's limit of 65,530 URLS per worksheet.\n",
      "  warn(\"Ignoring URL '%s' since it exceeds Excel's limit of \"\n",
      "C:\\Users\\phsheari\\.conda\\envs\\compass_env\\lib\\site-packages\\xlsxwriter\\worksheet.py:986: UserWarning: Ignoring URL 'https://cisco.sharepoint.com/:p:/r/sites/oneib/Shared%20Documents/Compass%20Operations/Compass%20PPTs/Americas/Commercial/Compass_Analysis_BNP_MEDIA_113384_202203.pptx?web=1' since it exceeds Excel's limit of 65,530 URLS per worksheet.\n",
      "  warn(\"Ignoring URL '%s' since it exceeds Excel's limit of \"\n",
      "C:\\Users\\phsheari\\.conda\\envs\\compass_env\\lib\\site-packages\\xlsxwriter\\worksheet.py:986: UserWarning: Ignoring URL 'https://cisco.sharepoint.com/:p:/r/sites/oneib/Shared%20Documents/Compass%20Operations/Compass%20PPTs/Americas/Commercial/Compass_Analysis_BUNGE_NORTH_AME_113397_202203.pptx?web=1' since it exceeds Excel's limit of 65,530 URLS per worksheet.\n",
      "  warn(\"Ignoring URL '%s' since it exceeds Excel's limit of \"\n",
      "C:\\Users\\phsheari\\.conda\\envs\\compass_env\\lib\\site-packages\\xlsxwriter\\worksheet.py:986: UserWarning: Ignoring URL 'https://cisco.sharepoint.com/:p:/r/sites/oneib/Shared%20Documents/Compass%20Operations/Compass%20PPTs/Americas/Commercial/Compass_Analysis_CALAMOS_ASSET_M_113413_202203.pptx?web=1' since it exceeds Excel's limit of 65,530 URLS per worksheet.\n",
      "  warn(\"Ignoring URL '%s' since it exceeds Excel's limit of \"\n",
      "C:\\Users\\phsheari\\.conda\\envs\\compass_env\\lib\\site-packages\\xlsxwriter\\worksheet.py:986: UserWarning: Ignoring URL 'https://cisco.sharepoint.com/:p:/r/sites/oneib/Shared%20Documents/Compass%20Operations/Compass%20PPTs/Americas/Commercial/Compass_Analysis_CENTRACARE_HEAL_113452_202203.pptx?web=1' since it exceeds Excel's limit of 65,530 URLS per worksheet.\n",
      "  warn(\"Ignoring URL '%s' since it exceeds Excel's limit of \"\n",
      "C:\\Users\\phsheari\\.conda\\envs\\compass_env\\lib\\site-packages\\xlsxwriter\\worksheet.py:986: UserWarning: Ignoring URL 'https://cisco.sharepoint.com/:p:/r/sites/oneib/Shared%20Documents/Compass%20Operations/Compass%20PPTs/Americas/Commercial/Compass_Analysis_CENTRAL_ELECTRI_113453_202203.pptx?web=1' since it exceeds Excel's limit of 65,530 URLS per worksheet.\n",
      "  warn(\"Ignoring URL '%s' since it exceeds Excel's limit of \"\n",
      "C:\\Users\\phsheari\\.conda\\envs\\compass_env\\lib\\site-packages\\xlsxwriter\\worksheet.py:986: UserWarning: Ignoring URL 'https://cisco.sharepoint.com/:p:/r/sites/oneib/Shared%20Documents/Compass%20Operations/Compass%20PPTs/Americas/Commercial/Compass_Analysis_CHALLENGE_MFG_C_113462_202203.pptx?web=1' since it exceeds Excel's limit of 65,530 URLS per worksheet.\n",
      "  warn(\"Ignoring URL '%s' since it exceeds Excel's limit of \"\n",
      "C:\\Users\\phsheari\\.conda\\envs\\compass_env\\lib\\site-packages\\xlsxwriter\\worksheet.py:986: UserWarning: Ignoring URL 'https://cisco.sharepoint.com/:p:/r/sites/oneib/Shared%20Documents/Compass%20Operations/Compass%20PPTs/Americas/Commercial/Compass_Analysis_CITY_OF_SIOUX_F_113482_202203.pptx?web=1' since it exceeds Excel's limit of 65,530 URLS per worksheet.\n",
      "  warn(\"Ignoring URL '%s' since it exceeds Excel's limit of \"\n",
      "C:\\Users\\phsheari\\.conda\\envs\\compass_env\\lib\\site-packages\\xlsxwriter\\worksheet.py:986: UserWarning: Ignoring URL 'https://cisco.sharepoint.com/:p:/r/sites/oneib/Shared%20Documents/Compass%20Operations/Compass%20PPTs/Americas/Commercial/Compass_Analysis_COLLECTIONS_ETC_113494_202203.pptx?web=1' since it exceeds Excel's limit of 65,530 URLS per worksheet.\n",
      "  warn(\"Ignoring URL '%s' since it exceeds Excel's limit of \"\n",
      "C:\\Users\\phsheari\\.conda\\envs\\compass_env\\lib\\site-packages\\xlsxwriter\\worksheet.py:986: UserWarning: Ignoring URL 'https://cisco.sharepoint.com/:p:/r/sites/oneib/Shared%20Documents/Compass%20Operations/Compass%20PPTs/Americas/Commercial/Compass_Analysis_COLLINS_CREDIT__113495_202203.pptx?web=1' since it exceeds Excel's limit of 65,530 URLS per worksheet.\n",
      "  warn(\"Ignoring URL '%s' since it exceeds Excel's limit of \"\n",
      "C:\\Users\\phsheari\\.conda\\envs\\compass_env\\lib\\site-packages\\xlsxwriter\\worksheet.py:986: UserWarning: Ignoring URL 'https://cisco.sharepoint.com/:p:/r/sites/oneib/Shared%20Documents/Compass%20Operations/Compass%20PPTs/Americas/Commercial/Compass_Analysis_COMPASS_MEMORIA_113501_202203.pptx?web=1' since it exceeds Excel's limit of 65,530 URLS per worksheet.\n",
      "  warn(\"Ignoring URL '%s' since it exceeds Excel's limit of \"\n",
      "C:\\Users\\phsheari\\.conda\\envs\\compass_env\\lib\\site-packages\\xlsxwriter\\worksheet.py:986: UserWarning: Ignoring URL 'https://cisco.sharepoint.com/:p:/r/sites/oneib/Shared%20Documents/Compass%20Operations/Compass%20PPTs/Americas/Commercial/Compass_Analysis_CSG_SYSTEMS_INC_113535_202203.pptx?web=1' since it exceeds Excel's limit of 65,530 URLS per worksheet.\n",
      "  warn(\"Ignoring URL '%s' since it exceeds Excel's limit of \"\n",
      "C:\\Users\\phsheari\\.conda\\envs\\compass_env\\lib\\site-packages\\xlsxwriter\\worksheet.py:986: UserWarning: Ignoring URL 'https://cisco.sharepoint.com/:p:/r/sites/oneib/Shared%20Documents/Compass%20Operations/Compass%20PPTs/Americas/Commercial/Compass_Analysis_FIRST_NATIONAL__113624_202203.pptx?web=1' since it exceeds Excel's limit of 65,530 URLS per worksheet.\n",
      "  warn(\"Ignoring URL '%s' since it exceeds Excel's limit of \"\n",
      "C:\\Users\\phsheari\\.conda\\envs\\compass_env\\lib\\site-packages\\xlsxwriter\\worksheet.py:986: UserWarning: Ignoring URL 'https://cisco.sharepoint.com/:p:/r/sites/oneib/Shared%20Documents/Compass%20Operations/Compass%20PPTs/Americas/Commercial/Compass_Analysis_FRANCISCAN_MISS_113647_202203.pptx?web=1' since it exceeds Excel's limit of 65,530 URLS per worksheet.\n",
      "  warn(\"Ignoring URL '%s' since it exceeds Excel's limit of \"\n",
      "C:\\Users\\phsheari\\.conda\\envs\\compass_env\\lib\\site-packages\\xlsxwriter\\worksheet.py:986: UserWarning: Ignoring URL 'https://cisco.sharepoint.com/:p:/r/sites/oneib/Shared%20Documents/Compass%20Operations/Compass%20PPTs/Americas/Commercial/Compass_Analysis_FREEMAN_HEALTH__113651_202203.pptx?web=1' since it exceeds Excel's limit of 65,530 URLS per worksheet.\n",
      "  warn(\"Ignoring URL '%s' since it exceeds Excel's limit of \"\n",
      "C:\\Users\\phsheari\\.conda\\envs\\compass_env\\lib\\site-packages\\xlsxwriter\\worksheet.py:986: UserWarning: Ignoring URL 'https://cisco.sharepoint.com/:p:/r/sites/oneib/Shared%20Documents/Compass%20Operations/Compass%20PPTs/Americas/Commercial/Compass_Analysis_GRANGES_NORTH_A_113696_202203.pptx?web=1' since it exceeds Excel's limit of 65,530 URLS per worksheet.\n",
      "  warn(\"Ignoring URL '%s' since it exceeds Excel's limit of \"\n",
      "C:\\Users\\phsheari\\.conda\\envs\\compass_env\\lib\\site-packages\\xlsxwriter\\worksheet.py:986: UserWarning: Ignoring URL 'https://cisco.sharepoint.com/:p:/r/sites/oneib/Shared%20Documents/Compass%20Operations/Compass%20PPTs/Americas/Commercial/Compass_Analysis_GREAT_SOUTHERN__113698_202203.pptx?web=1' since it exceeds Excel's limit of 65,530 URLS per worksheet.\n",
      "  warn(\"Ignoring URL '%s' since it exceeds Excel's limit of \"\n",
      "C:\\Users\\phsheari\\.conda\\envs\\compass_env\\lib\\site-packages\\xlsxwriter\\worksheet.py:986: UserWarning: Ignoring URL 'https://cisco.sharepoint.com/:p:/r/sites/oneib/Shared%20Documents/Compass%20Operations/Compass%20PPTs/Americas/Commercial/Compass_Analysis_GREAT_WESTERN_B_113699_202203.pptx?web=1' since it exceeds Excel's limit of 65,530 URLS per worksheet.\n",
      "  warn(\"Ignoring URL '%s' since it exceeds Excel's limit of \"\n",
      "C:\\Users\\phsheari\\.conda\\envs\\compass_env\\lib\\site-packages\\xlsxwriter\\worksheet.py:986: UserWarning: Ignoring URL 'https://cisco.sharepoint.com/:p:/r/sites/oneib/Shared%20Documents/Compass%20Operations/Compass%20PPTs/Americas/Commercial/Compass_Analysis_HATTIESBURG_CLI_113719_202203.pptx?web=1' since it exceeds Excel's limit of 65,530 URLS per worksheet.\n",
      "  warn(\"Ignoring URL '%s' since it exceeds Excel's limit of \"\n",
      "C:\\Users\\phsheari\\.conda\\envs\\compass_env\\lib\\site-packages\\xlsxwriter\\worksheet.py:986: UserWarning: Ignoring URL 'https://cisco.sharepoint.com/:p:/r/sites/oneib/Shared%20Documents/Compass%20Operations/Compass%20PPTs/Americas/Commercial/Compass_Analysis_DOW_CHEMICAL_EM_113567_202203.pptx?web=1' since it exceeds Excel's limit of 65,530 URLS per worksheet.\n",
      "  warn(\"Ignoring URL '%s' since it exceeds Excel's limit of \"\n",
      "C:\\Users\\phsheari\\.conda\\envs\\compass_env\\lib\\site-packages\\xlsxwriter\\worksheet.py:986: UserWarning: Ignoring URL 'https://cisco.sharepoint.com/:p:/r/sites/oneib/Shared%20Documents/Compass%20Operations/Compass%20PPTs/Americas/Commercial/Compass_Analysis_ENCOMPASS_HEALT_113591_202203.pptx?web=1' since it exceeds Excel's limit of 65,530 URLS per worksheet.\n",
      "  warn(\"Ignoring URL '%s' since it exceeds Excel's limit of \"\n",
      "C:\\Users\\phsheari\\.conda\\envs\\compass_env\\lib\\site-packages\\xlsxwriter\\worksheet.py:986: UserWarning: Ignoring URL 'https://cisco.sharepoint.com/:p:/r/sites/oneib/Shared%20Documents/Compass%20Operations/Compass%20PPTs/Americas/Commercial/Compass_Analysis_EQUITY_BANK_NA_113600_202203.pptx?web=1' since it exceeds Excel's limit of 65,530 URLS per worksheet.\n",
      "  warn(\"Ignoring URL '%s' since it exceeds Excel's limit of \"\n",
      "C:\\Users\\phsheari\\.conda\\envs\\compass_env\\lib\\site-packages\\xlsxwriter\\worksheet.py:986: UserWarning: Ignoring URL 'https://cisco.sharepoint.com/:p:/r/sites/oneib/Shared%20Documents/Compass%20Operations/Compass%20PPTs/Americas/Commercial/Compass_Analysis_ETERNAL_WORD_TE_113603_202203.pptx?web=1' since it exceeds Excel's limit of 65,530 URLS per worksheet.\n",
      "  warn(\"Ignoring URL '%s' since it exceeds Excel's limit of \"\n",
      "C:\\Users\\phsheari\\.conda\\envs\\compass_env\\lib\\site-packages\\xlsxwriter\\worksheet.py:986: UserWarning: Ignoring URL 'https://cisco.sharepoint.com/:p:/r/sites/oneib/Shared%20Documents/Compass%20Operations/Compass%20PPTs/Americas/Commercial/Compass_Analysis_FACTORY_MOTOR_P_113611_202203.pptx?web=1' since it exceeds Excel's limit of 65,530 URLS per worksheet.\n",
      "  warn(\"Ignoring URL '%s' since it exceeds Excel's limit of \"\n",
      "C:\\Users\\phsheari\\.conda\\envs\\compass_env\\lib\\site-packages\\xlsxwriter\\worksheet.py:986: UserWarning: Ignoring URL 'https://cisco.sharepoint.com/:p:/r/sites/oneib/Shared%20Documents/Compass%20Operations/Compass%20PPTs/Americas/Commercial/Compass_Analysis_FARMERS_MUTUAL__113615_202203.pptx?web=1' since it exceeds Excel's limit of 65,530 URLS per worksheet.\n",
      "  warn(\"Ignoring URL '%s' since it exceeds Excel's limit of \"\n",
      "C:\\Users\\phsheari\\.conda\\envs\\compass_env\\lib\\site-packages\\xlsxwriter\\worksheet.py:986: UserWarning: Ignoring URL 'https://cisco.sharepoint.com/:p:/r/sites/oneib/Shared%20Documents/Compass%20Operations/Compass%20PPTs/Americas/Commercial/Compass_Analysis_MITEK_INDUSTRIE_113948_202203.pptx?web=1' since it exceeds Excel's limit of 65,530 URLS per worksheet.\n",
      "  warn(\"Ignoring URL '%s' since it exceeds Excel's limit of \"\n",
      "C:\\Users\\phsheari\\.conda\\envs\\compass_env\\lib\\site-packages\\xlsxwriter\\worksheet.py:986: UserWarning: Ignoring URL 'https://cisco.sharepoint.com/:p:/r/sites/oneib/Shared%20Documents/Compass%20Operations/Compass%20PPTs/Americas/Commercial/Compass_Analysis_MOLDED_FIBER_GL_113963_202203.pptx?web=1' since it exceeds Excel's limit of 65,530 URLS per worksheet.\n",
      "  warn(\"Ignoring URL '%s' since it exceeds Excel's limit of \"\n",
      "C:\\Users\\phsheari\\.conda\\envs\\compass_env\\lib\\site-packages\\xlsxwriter\\worksheet.py:986: UserWarning: Ignoring URL 'https://cisco.sharepoint.com/:p:/r/sites/oneib/Shared%20Documents/Compass%20Operations/Compass%20PPTs/Americas/Commercial/Compass_Analysis_MUNICIPAL_EMPLO_113984_202203.pptx?web=1' since it exceeds Excel's limit of 65,530 URLS per worksheet.\n",
      "  warn(\"Ignoring URL '%s' since it exceeds Excel's limit of \"\n",
      "C:\\Users\\phsheari\\.conda\\envs\\compass_env\\lib\\site-packages\\xlsxwriter\\worksheet.py:986: UserWarning: Ignoring URL 'https://cisco.sharepoint.com/:p:/r/sites/oneib/Shared%20Documents/Compass%20Operations/Compass%20PPTs/Americas/Commercial/Compass_Analysis_MURPHYHOFFMAN_C_113988_202203.pptx?web=1' since it exceeds Excel's limit of 65,530 URLS per worksheet.\n",
      "  warn(\"Ignoring URL '%s' since it exceeds Excel's limit of \"\n",
      "C:\\Users\\phsheari\\.conda\\envs\\compass_env\\lib\\site-packages\\xlsxwriter\\worksheet.py:986: UserWarning: Ignoring URL 'https://cisco.sharepoint.com/:p:/r/sites/oneib/Shared%20Documents/Compass%20Operations/Compass%20PPTs/Americas/Commercial/Compass_Analysis_NEBRASKA_FURNIT_114002_202203.pptx?web=1' since it exceeds Excel's limit of 65,530 URLS per worksheet.\n",
      "  warn(\"Ignoring URL '%s' since it exceeds Excel's limit of \"\n",
      "C:\\Users\\phsheari\\.conda\\envs\\compass_env\\lib\\site-packages\\xlsxwriter\\worksheet.py:986: UserWarning: Ignoring URL 'https://cisco.sharepoint.com/:p:/r/sites/oneib/Shared%20Documents/Compass%20Operations/Compass%20PPTs/Americas/Commercial/Compass_Analysis_NEBRASKA_ORTHOP_114003_202203.pptx?web=1' since it exceeds Excel's limit of 65,530 URLS per worksheet.\n",
      "  warn(\"Ignoring URL '%s' since it exceeds Excel's limit of \"\n",
      "C:\\Users\\phsheari\\.conda\\envs\\compass_env\\lib\\site-packages\\xlsxwriter\\worksheet.py:986: UserWarning: Ignoring URL 'https://cisco.sharepoint.com/:p:/r/sites/oneib/Shared%20Documents/Compass%20Operations/Compass%20PPTs/Americas/Commercial/Compass_Analysis_NELSON_BROTHERS_114007_202203.pptx?web=1' since it exceeds Excel's limit of 65,530 URLS per worksheet.\n",
      "  warn(\"Ignoring URL '%s' since it exceeds Excel's limit of \"\n",
      "C:\\Users\\phsheari\\.conda\\envs\\compass_env\\lib\\site-packages\\xlsxwriter\\worksheet.py:986: UserWarning: Ignoring URL 'https://cisco.sharepoint.com/:p:/r/sites/oneib/Shared%20Documents/Compass%20Operations/Compass%20PPTs/Americas/Commercial/Compass_Analysis_NEW_DIRECTIONS__114011_202203.pptx?web=1' since it exceeds Excel's limit of 65,530 URLS per worksheet.\n",
      "  warn(\"Ignoring URL '%s' since it exceeds Excel's limit of \"\n",
      "C:\\Users\\phsheari\\.conda\\envs\\compass_env\\lib\\site-packages\\xlsxwriter\\worksheet.py:986: UserWarning: Ignoring URL 'https://cisco.sharepoint.com/:p:/r/sites/oneib/Shared%20Documents/Compass%20Operations/Compass%20PPTs/Americas/Commercial/Compass_Analysis_NORTH_AMERICAN__114029_202203.pptx?web=1' since it exceeds Excel's limit of 65,530 URLS per worksheet.\n",
      "  warn(\"Ignoring URL '%s' since it exceeds Excel's limit of \"\n",
      "C:\\Users\\phsheari\\.conda\\envs\\compass_env\\lib\\site-packages\\xlsxwriter\\worksheet.py:986: UserWarning: Ignoring URL 'https://cisco.sharepoint.com/:p:/r/sites/oneib/Shared%20Documents/Compass%20Operations/Compass%20PPTs/Americas/Commercial/Compass_Analysis_NORTH_DAKOTA_K__114032_202203.pptx?web=1' since it exceeds Excel's limit of 65,530 URLS per worksheet.\n",
      "  warn(\"Ignoring URL '%s' since it exceeds Excel's limit of \"\n",
      "C:\\Users\\phsheari\\.conda\\envs\\compass_env\\lib\\site-packages\\xlsxwriter\\worksheet.py:986: UserWarning: Ignoring URL 'https://cisco.sharepoint.com/:p:/r/sites/oneib/Shared%20Documents/Compass%20Operations/Compass%20PPTs/Americas/Commercial/Compass_Analysis_HOSTESS_BRANDS_113749_202203.pptx?web=1' since it exceeds Excel's limit of 65,530 URLS per worksheet.\n",
      "  warn(\"Ignoring URL '%s' since it exceeds Excel's limit of \"\n",
      "C:\\Users\\phsheari\\.conda\\envs\\compass_env\\lib\\site-packages\\xlsxwriter\\worksheet.py:986: UserWarning: Ignoring URL 'https://cisco.sharepoint.com/:p:/r/sites/oneib/Shared%20Documents/Compass%20Operations/Compass%20PPTs/Americas/Commercial/Compass_Analysis_INFIRMARY_HEALT_113784_202203.pptx?web=1' since it exceeds Excel's limit of 65,530 URLS per worksheet.\n",
      "  warn(\"Ignoring URL '%s' since it exceeds Excel's limit of \"\n",
      "C:\\Users\\phsheari\\.conda\\envs\\compass_env\\lib\\site-packages\\xlsxwriter\\worksheet.py:986: UserWarning: Ignoring URL 'https://cisco.sharepoint.com/:p:/r/sites/oneib/Shared%20Documents/Compass%20Operations/Compass%20PPTs/Americas/Commercial/Compass_Analysis_INLAND_PRESS_IN_113787_202203.pptx?web=1' since it exceeds Excel's limit of 65,530 URLS per worksheet.\n",
      "  warn(\"Ignoring URL '%s' since it exceeds Excel's limit of \"\n",
      "C:\\Users\\phsheari\\.conda\\envs\\compass_env\\lib\\site-packages\\xlsxwriter\\worksheet.py:986: UserWarning: Ignoring URL 'https://cisco.sharepoint.com/:p:/r/sites/oneib/Shared%20Documents/Compass%20Operations/Compass%20PPTs/Americas/Commercial/Compass_Analysis_KLA_LABORATORIE_113812_202203.pptx?web=1' since it exceeds Excel's limit of 65,530 URLS per worksheet.\n",
      "  warn(\"Ignoring URL '%s' since it exceeds Excel's limit of \"\n",
      "C:\\Users\\phsheari\\.conda\\envs\\compass_env\\lib\\site-packages\\xlsxwriter\\worksheet.py:986: UserWarning: Ignoring URL 'https://cisco.sharepoint.com/:p:/r/sites/oneib/Shared%20Documents/Compass%20Operations/Compass%20PPTs/Americas/Commercial/Compass_Analysis_KANSAS_STATE_BA_113813_202203.pptx?web=1' since it exceeds Excel's limit of 65,530 URLS per worksheet.\n",
      "  warn(\"Ignoring URL '%s' since it exceeds Excel's limit of \"\n",
      "C:\\Users\\phsheari\\.conda\\envs\\compass_env\\lib\\site-packages\\xlsxwriter\\worksheet.py:986: UserWarning: Ignoring URL 'https://cisco.sharepoint.com/:p:/r/sites/oneib/Shared%20Documents/Compass%20Operations/Compass%20PPTs/Americas/Commercial/Compass_Analysis_LEE_ENTERPRISES_113852_202203.pptx?web=1' since it exceeds Excel's limit of 65,530 URLS per worksheet.\n",
      "  warn(\"Ignoring URL '%s' since it exceeds Excel's limit of \"\n",
      "C:\\Users\\phsheari\\.conda\\envs\\compass_env\\lib\\site-packages\\xlsxwriter\\worksheet.py:986: UserWarning: Ignoring URL 'https://cisco.sharepoint.com/:p:/r/sites/oneib/Shared%20Documents/Compass%20Operations/Compass%20PPTs/Americas/Commercial/Compass_Analysis_LIFESHARE_BLOOD_113865_202203.pptx?web=1' since it exceeds Excel's limit of 65,530 URLS per worksheet.\n",
      "  warn(\"Ignoring URL '%s' since it exceeds Excel's limit of \"\n",
      "C:\\Users\\phsheari\\.conda\\envs\\compass_env\\lib\\site-packages\\xlsxwriter\\worksheet.py:986: UserWarning: Ignoring URL 'https://cisco.sharepoint.com/:p:/r/sites/oneib/Shared%20Documents/Compass%20Operations/Compass%20PPTs/Americas/Commercial/Compass_Analysis_LIFESPACE_COMMU_113866_202203.pptx?web=1' since it exceeds Excel's limit of 65,530 URLS per worksheet.\n",
      "  warn(\"Ignoring URL '%s' since it exceeds Excel's limit of \"\n",
      "C:\\Users\\phsheari\\.conda\\envs\\compass_env\\lib\\site-packages\\xlsxwriter\\worksheet.py:986: UserWarning: Ignoring URL 'https://cisco.sharepoint.com/:p:/r/sites/oneib/Shared%20Documents/Compass%20Operations/Compass%20PPTs/Americas/Commercial/Compass_Analysis_LOCKTON_COMPANI_113872_202203.pptx?web=1' since it exceeds Excel's limit of 65,530 URLS per worksheet.\n",
      "  warn(\"Ignoring URL '%s' since it exceeds Excel's limit of \"\n",
      "C:\\Users\\phsheari\\.conda\\envs\\compass_env\\lib\\site-packages\\xlsxwriter\\worksheet.py:986: UserWarning: Ignoring URL 'https://cisco.sharepoint.com/:p:/r/sites/oneib/Shared%20Documents/Compass%20Operations/Compass%20PPTs/Americas/Commercial/Compass_Analysis_MARCO_TECHNOLOG_113890_202203.pptx?web=1' since it exceeds Excel's limit of 65,530 URLS per worksheet.\n",
      "  warn(\"Ignoring URL '%s' since it exceeds Excel's limit of \"\n",
      "C:\\Users\\phsheari\\.conda\\envs\\compass_env\\lib\\site-packages\\xlsxwriter\\worksheet.py:986: UserWarning: Ignoring URL 'https://cisco.sharepoint.com/:p:/r/sites/oneib/Shared%20Documents/Compass%20Operations/Compass%20PPTs/Americas/Commercial/Compass_Analysis_MASLON_EDELMAN__113897_202203.pptx?web=1' since it exceeds Excel's limit of 65,530 URLS per worksheet.\n",
      "  warn(\"Ignoring URL '%s' since it exceeds Excel's limit of \"\n",
      "C:\\Users\\phsheari\\.conda\\envs\\compass_env\\lib\\site-packages\\xlsxwriter\\worksheet.py:986: UserWarning: Ignoring URL 'https://cisco.sharepoint.com/:p:/r/sites/oneib/Shared%20Documents/Compass%20Operations/Compass%20PPTs/Americas/Commercial/Compass_Analysis_MERCHANTS_FINAN_113922_202203.pptx?web=1' since it exceeds Excel's limit of 65,530 URLS per worksheet.\n",
      "  warn(\"Ignoring URL '%s' since it exceeds Excel's limit of \"\n",
      "C:\\Users\\phsheari\\.conda\\envs\\compass_env\\lib\\site-packages\\xlsxwriter\\worksheet.py:986: UserWarning: Ignoring URL 'https://cisco.sharepoint.com/:p:/r/sites/oneib/Shared%20Documents/Compass%20Operations/Compass%20PPTs/Americas/Commercial/Compass_Analysis_MFA_OIL_COMPANY_113932_202203.pptx?web=1' since it exceeds Excel's limit of 65,530 URLS per worksheet.\n",
      "  warn(\"Ignoring URL '%s' since it exceeds Excel's limit of \"\n",
      "C:\\Users\\phsheari\\.conda\\envs\\compass_env\\lib\\site-packages\\xlsxwriter\\worksheet.py:986: UserWarning: Ignoring URL 'https://cisco.sharepoint.com/:p:/r/sites/oneib/Shared%20Documents/Compass%20Operations/Compass%20PPTs/Americas/Commercial/Compass_Analysis_OMAHA_STEAKS_IN_114069_202203.pptx?web=1' since it exceeds Excel's limit of 65,530 URLS per worksheet.\n",
      "  warn(\"Ignoring URL '%s' since it exceeds Excel's limit of \"\n",
      "C:\\Users\\phsheari\\.conda\\envs\\compass_env\\lib\\site-packages\\xlsxwriter\\worksheet.py:986: UserWarning: Ignoring URL 'https://cisco.sharepoint.com/:p:/r/sites/oneib/Shared%20Documents/Compass%20Operations/Compass%20PPTs/Americas/Commercial/Compass_Analysis_OZARKS_COCACOLA_114086_202203.pptx?web=1' since it exceeds Excel's limit of 65,530 URLS per worksheet.\n",
      "  warn(\"Ignoring URL '%s' since it exceeds Excel's limit of \"\n",
      "C:\\Users\\phsheari\\.conda\\envs\\compass_env\\lib\\site-packages\\xlsxwriter\\worksheet.py:986: UserWarning: Ignoring URL 'https://cisco.sharepoint.com/:p:/r/sites/oneib/Shared%20Documents/Compass%20Operations/Compass%20PPTs/Americas/Commercial/Compass_Analysis_PECO_FOODS_INC_114098_202203.pptx?web=1' since it exceeds Excel's limit of 65,530 URLS per worksheet.\n",
      "  warn(\"Ignoring URL '%s' since it exceeds Excel's limit of \"\n",
      "C:\\Users\\phsheari\\.conda\\envs\\compass_env\\lib\\site-packages\\xlsxwriter\\worksheet.py:986: UserWarning: Ignoring URL 'https://cisco.sharepoint.com/:p:/r/sites/oneib/Shared%20Documents/Compass%20Operations/Compass%20PPTs/Americas/Commercial/Compass_Analysis_PELLA_CORPORATI_114099_202203.pptx?web=1' since it exceeds Excel's limit of 65,530 URLS per worksheet.\n",
      "  warn(\"Ignoring URL '%s' since it exceeds Excel's limit of \"\n",
      "C:\\Users\\phsheari\\.conda\\envs\\compass_env\\lib\\site-packages\\xlsxwriter\\worksheet.py:986: UserWarning: Ignoring URL 'https://cisco.sharepoint.com/:p:/r/sites/oneib/Shared%20Documents/Compass%20Operations/Compass%20PPTs/Americas/Commercial/Compass_Analysis_PHELPS_MEMORIAL_114108_202203.pptx?web=1' since it exceeds Excel's limit of 65,530 URLS per worksheet.\n",
      "  warn(\"Ignoring URL '%s' since it exceeds Excel's limit of \"\n",
      "C:\\Users\\phsheari\\.conda\\envs\\compass_env\\lib\\site-packages\\xlsxwriter\\worksheet.py:986: UserWarning: Ignoring URL 'https://cisco.sharepoint.com/:p:/r/sites/oneib/Shared%20Documents/Compass%20Operations/Compass%20PPTs/Americas/Commercial/Compass_Analysis_PIONEER_RURAL_E_114114_202203.pptx?web=1' since it exceeds Excel's limit of 65,530 URLS per worksheet.\n",
      "  warn(\"Ignoring URL '%s' since it exceeds Excel's limit of \"\n",
      "C:\\Users\\phsheari\\.conda\\envs\\compass_env\\lib\\site-packages\\xlsxwriter\\worksheet.py:986: UserWarning: Ignoring URL 'https://cisco.sharepoint.com/:p:/r/sites/oneib/Shared%20Documents/Compass%20Operations/Compass%20PPTs/Americas/Commercial/Compass_Analysis_RESTAURANT_TECH_114152_202203.pptx?web=1' since it exceeds Excel's limit of 65,530 URLS per worksheet.\n",
      "  warn(\"Ignoring URL '%s' since it exceeds Excel's limit of \"\n",
      "C:\\Users\\phsheari\\.conda\\envs\\compass_env\\lib\\site-packages\\xlsxwriter\\worksheet.py:986: UserWarning: Ignoring URL 'https://cisco.sharepoint.com/:p:/r/sites/oneib/Shared%20Documents/Compass%20Operations/Compass%20PPTs/Americas/Commercial/Compass_Analysis_SAINT_TAMMANY_P_114169_202203.pptx?web=1' since it exceeds Excel's limit of 65,530 URLS per worksheet.\n",
      "  warn(\"Ignoring URL '%s' since it exceeds Excel's limit of \"\n",
      "C:\\Users\\phsheari\\.conda\\envs\\compass_env\\lib\\site-packages\\xlsxwriter\\worksheet.py:986: UserWarning: Ignoring URL 'https://cisco.sharepoint.com/:p:/r/sites/oneib/Shared%20Documents/Compass%20Operations/Compass%20PPTs/Americas/Commercial/Compass_Analysis_SAKS_INCORPORAT_114170_202203.pptx?web=1' since it exceeds Excel's limit of 65,530 URLS per worksheet.\n",
      "  warn(\"Ignoring URL '%s' since it exceeds Excel's limit of \"\n",
      "C:\\Users\\phsheari\\.conda\\envs\\compass_env\\lib\\site-packages\\xlsxwriter\\worksheet.py:986: UserWarning: Ignoring URL 'https://cisco.sharepoint.com/:p:/r/sites/oneib/Shared%20Documents/Compass%20Operations/Compass%20PPTs/Americas/Commercial/Compass_Analysis_SALINA_REGIONAL_114171_202203.pptx?web=1' since it exceeds Excel's limit of 65,530 URLS per worksheet.\n",
      "  warn(\"Ignoring URL '%s' since it exceeds Excel's limit of \"\n",
      "C:\\Users\\phsheari\\.conda\\envs\\compass_env\\lib\\site-packages\\xlsxwriter\\worksheet.py:986: UserWarning: Ignoring URL 'https://cisco.sharepoint.com/:p:/r/sites/oneib/Shared%20Documents/Compass%20Operations/Compass%20PPTs/Americas/Commercial/Compass_Analysis_SANDHILLS_PUBLI_114177_202203.pptx?web=1' since it exceeds Excel's limit of 65,530 URLS per worksheet.\n",
      "  warn(\"Ignoring URL '%s' since it exceeds Excel's limit of \"\n",
      "C:\\Users\\phsheari\\.conda\\envs\\compass_env\\lib\\site-packages\\xlsxwriter\\worksheet.py:986: UserWarning: Ignoring URL 'https://cisco.sharepoint.com/:p:/r/sites/oneib/Shared%20Documents/Compass%20Operations/Compass%20PPTs/Americas/Commercial/Compass_Analysis_SCHUMACHER_GROU_114186_202203.pptx?web=1' since it exceeds Excel's limit of 65,530 URLS per worksheet.\n",
      "  warn(\"Ignoring URL '%s' since it exceeds Excel's limit of \"\n",
      "C:\\Users\\phsheari\\.conda\\envs\\compass_env\\lib\\site-packages\\xlsxwriter\\worksheet.py:986: UserWarning: Ignoring URL 'https://cisco.sharepoint.com/:p:/r/sites/oneib/Shared%20Documents/Compass%20Operations/Compass%20PPTs/Americas/Commercial/Compass_Analysis_SCOTT_EQUIPMENT_114189_202203.pptx?web=1' since it exceeds Excel's limit of 65,530 URLS per worksheet.\n",
      "  warn(\"Ignoring URL '%s' since it exceeds Excel's limit of \"\n",
      "C:\\Users\\phsheari\\.conda\\envs\\compass_env\\lib\\site-packages\\xlsxwriter\\worksheet.py:986: UserWarning: Ignoring URL 'https://cisco.sharepoint.com/:p:/r/sites/oneib/Shared%20Documents/Compass%20Operations/Compass%20PPTs/Americas/Commercial/Compass_Analysis_SEARS_MANUFACTU_114194_202203.pptx?web=1' since it exceeds Excel's limit of 65,530 URLS per worksheet.\n",
      "  warn(\"Ignoring URL '%s' since it exceeds Excel's limit of \"\n",
      "C:\\Users\\phsheari\\.conda\\envs\\compass_env\\lib\\site-packages\\xlsxwriter\\worksheet.py:986: UserWarning: Ignoring URL 'https://cisco.sharepoint.com/:p:/r/sites/oneib/Shared%20Documents/Compass%20Operations/Compass%20PPTs/Americas/Commercial/Compass_Analysis_SECURITY_BENEFI_114195_202203.pptx?web=1' since it exceeds Excel's limit of 65,530 URLS per worksheet.\n",
      "  warn(\"Ignoring URL '%s' since it exceeds Excel's limit of \"\n",
      "C:\\Users\\phsheari\\.conda\\envs\\compass_env\\lib\\site-packages\\xlsxwriter\\worksheet.py:986: UserWarning: Ignoring URL 'https://cisco.sharepoint.com/:p:/r/sites/oneib/Shared%20Documents/Compass%20Operations/Compass%20PPTs/Americas/Commercial/Compass_Analysis_SLIDELL_MEMORIA_114225_202203.pptx?web=1' since it exceeds Excel's limit of 65,530 URLS per worksheet.\n",
      "  warn(\"Ignoring URL '%s' since it exceeds Excel's limit of \"\n",
      "C:\\Users\\phsheari\\.conda\\envs\\compass_env\\lib\\site-packages\\xlsxwriter\\worksheet.py:986: UserWarning: Ignoring URL 'https://cisco.sharepoint.com/:p:/r/sites/oneib/Shared%20Documents/Compass%20Operations/Compass%20PPTs/Americas/Commercial/Compass_Analysis_SMITHERSOASIS_C_114229_202203.pptx?web=1' since it exceeds Excel's limit of 65,530 URLS per worksheet.\n",
      "  warn(\"Ignoring URL '%s' since it exceeds Excel's limit of \"\n",
      "C:\\Users\\phsheari\\.conda\\envs\\compass_env\\lib\\site-packages\\xlsxwriter\\worksheet.py:986: UserWarning: Ignoring URL 'https://cisco.sharepoint.com/:p:/r/sites/oneib/Shared%20Documents/Compass%20Operations/Compass%20PPTs/Americas/Commercial/Compass_Analysis_SPIRE_114240_202203.pptx?web=1' since it exceeds Excel's limit of 65,530 URLS per worksheet.\n",
      "  warn(\"Ignoring URL '%s' since it exceeds Excel's limit of \"\n",
      "C:\\Users\\phsheari\\.conda\\envs\\compass_env\\lib\\site-packages\\xlsxwriter\\worksheet.py:986: UserWarning: Ignoring URL 'https://cisco.sharepoint.com/:p:/r/sites/oneib/Shared%20Documents/Compass%20Operations/Compass%20PPTs/Americas/Commercial/Compass_Analysis_ST_CROIX_REGION_114243_202203.pptx?web=1' since it exceeds Excel's limit of 65,530 URLS per worksheet.\n",
      "  warn(\"Ignoring URL '%s' since it exceeds Excel's limit of \"\n",
      "C:\\Users\\phsheari\\.conda\\envs\\compass_env\\lib\\site-packages\\xlsxwriter\\worksheet.py:986: UserWarning: Ignoring URL 'https://cisco.sharepoint.com/:p:/r/sites/oneib/Shared%20Documents/Compass%20Operations/Compass%20PPTs/Americas/Commercial/Compass_Analysis_STANLEY_CONSULT_114246_202203.pptx?web=1' since it exceeds Excel's limit of 65,530 URLS per worksheet.\n",
      "  warn(\"Ignoring URL '%s' since it exceeds Excel's limit of \"\n",
      "C:\\Users\\phsheari\\.conda\\envs\\compass_env\\lib\\site-packages\\xlsxwriter\\worksheet.py:986: UserWarning: Ignoring URL 'https://cisco.sharepoint.com/:p:/r/sites/oneib/Shared%20Documents/Compass%20Operations/Compass%20PPTs/Americas/Commercial/Compass_Analysis_STEEL_KING_INDU_114250_202203.pptx?web=1' since it exceeds Excel's limit of 65,530 URLS per worksheet.\n",
      "  warn(\"Ignoring URL '%s' since it exceeds Excel's limit of \"\n",
      "C:\\Users\\phsheari\\.conda\\envs\\compass_env\\lib\\site-packages\\xlsxwriter\\worksheet.py:986: UserWarning: Ignoring URL 'https://cisco.sharepoint.com/:p:/r/sites/oneib/Shared%20Documents/Compass%20Operations/Compass%20PPTs/Americas/Commercial/Compass_Analysis_STORMONT_VAIL_H_114255_202203.pptx?web=1' since it exceeds Excel's limit of 65,530 URLS per worksheet.\n",
      "  warn(\"Ignoring URL '%s' since it exceeds Excel's limit of \"\n",
      "C:\\Users\\phsheari\\.conda\\envs\\compass_env\\lib\\site-packages\\xlsxwriter\\worksheet.py:986: UserWarning: Ignoring URL 'https://cisco.sharepoint.com/:p:/r/sites/oneib/Shared%20Documents/Compass%20Operations/Compass%20PPTs/Americas/Commercial/Compass_Analysis_THE_MONARCH_CEM_114288_202203.pptx?web=1' since it exceeds Excel's limit of 65,530 URLS per worksheet.\n",
      "  warn(\"Ignoring URL '%s' since it exceeds Excel's limit of \"\n",
      "C:\\Users\\phsheari\\.conda\\envs\\compass_env\\lib\\site-packages\\xlsxwriter\\worksheet.py:986: UserWarning: Ignoring URL 'https://cisco.sharepoint.com/:p:/r/sites/oneib/Shared%20Documents/Compass%20Operations/Compass%20PPTs/Americas/Commercial/Compass_Analysis_TNEMEC_COMPANY__114304_202203.pptx?web=1' since it exceeds Excel's limit of 65,530 URLS per worksheet.\n",
      "  warn(\"Ignoring URL '%s' since it exceeds Excel's limit of \"\n",
      "C:\\Users\\phsheari\\.conda\\envs\\compass_env\\lib\\site-packages\\xlsxwriter\\worksheet.py:986: UserWarning: Ignoring URL 'https://cisco.sharepoint.com/:p:/r/sites/oneib/Shared%20Documents/Compass%20Operations/Compass%20PPTs/Americas/Commercial/Compass_Analysis_TRADEBOT_SYSTEM_114318_202203.pptx?web=1' since it exceeds Excel's limit of 65,530 URLS per worksheet.\n",
      "  warn(\"Ignoring URL '%s' since it exceeds Excel's limit of \"\n",
      "C:\\Users\\phsheari\\.conda\\envs\\compass_env\\lib\\site-packages\\xlsxwriter\\worksheet.py:986: UserWarning: Ignoring URL 'https://cisco.sharepoint.com/:p:/r/sites/oneib/Shared%20Documents/Compass%20Operations/Compass%20PPTs/Americas/Commercial/Compass_Analysis_TRANSCENDIA_INC_114319_202203.pptx?web=1' since it exceeds Excel's limit of 65,530 URLS per worksheet.\n",
      "  warn(\"Ignoring URL '%s' since it exceeds Excel's limit of \"\n",
      "C:\\Users\\phsheari\\.conda\\envs\\compass_env\\lib\\site-packages\\xlsxwriter\\worksheet.py:986: UserWarning: Ignoring URL 'https://cisco.sharepoint.com/:p:/r/sites/oneib/Shared%20Documents/Compass%20Operations/Compass%20PPTs/Americas/Commercial/Compass_Analysis_TRIMAS_CORPORAT_114323_202203.pptx?web=1' since it exceeds Excel's limit of 65,530 URLS per worksheet.\n",
      "  warn(\"Ignoring URL '%s' since it exceeds Excel's limit of \"\n",
      "C:\\Users\\phsheari\\.conda\\envs\\compass_env\\lib\\site-packages\\xlsxwriter\\worksheet.py:986: UserWarning: Ignoring URL 'https://cisco.sharepoint.com/:p:/r/sites/oneib/Shared%20Documents/Compass%20Operations/Compass%20PPTs/Americas/Commercial/Compass_Analysis_TRUSTMARK_CORPO_114329_202203.pptx?web=1' since it exceeds Excel's limit of 65,530 URLS per worksheet.\n",
      "  warn(\"Ignoring URL '%s' since it exceeds Excel's limit of \"\n",
      "C:\\Users\\phsheari\\.conda\\envs\\compass_env\\lib\\site-packages\\xlsxwriter\\worksheet.py:986: UserWarning: Ignoring URL 'https://cisco.sharepoint.com/:p:/r/sites/oneib/Shared%20Documents/Compass%20Operations/Compass%20PPTs/Americas/Commercial/Compass_Analysis_UNIVERSITY_OF_S_114353_202203.pptx?web=1' since it exceeds Excel's limit of 65,530 URLS per worksheet.\n",
      "  warn(\"Ignoring URL '%s' since it exceeds Excel's limit of \"\n",
      "C:\\Users\\phsheari\\.conda\\envs\\compass_env\\lib\\site-packages\\xlsxwriter\\worksheet.py:986: UserWarning: Ignoring URL 'https://cisco.sharepoint.com/:p:/r/sites/oneib/Shared%20Documents/Compass%20Operations/Compass%20PPTs/Americas/Commercial/Compass_Analysis_VIAM_TENNESSEE__114373_202203.pptx?web=1' since it exceeds Excel's limit of 65,530 URLS per worksheet.\n",
      "  warn(\"Ignoring URL '%s' since it exceeds Excel's limit of \"\n",
      "C:\\Users\\phsheari\\.conda\\envs\\compass_env\\lib\\site-packages\\xlsxwriter\\worksheet.py:986: UserWarning: Ignoring URL 'https://cisco.sharepoint.com/:p:/r/sites/ONEIB/Shared%20Documents/Compass%20Operations/Compass%20PPTs/Americas/Commercial/Compass_Analysis_OILDRI_CORPORAT_111814_202201.pptx?d=wdeadbf96b1804b13b73bd2a6d1b015f7&csf=1&web=1&e=bHoegX' since it exceeds Excel's limit of 65,530 URLS per worksheet.\n",
      "  warn(\"Ignoring URL '%s' since it exceeds Excel's limit of \"\n",
      "C:\\Users\\phsheari\\.conda\\envs\\compass_env\\lib\\site-packages\\xlsxwriter\\worksheet.py:986: UserWarning: Ignoring URL 'https://cisco.sharepoint.com/:p:/r/sites/ONEIB/Shared%20Documents/Compass%20Operations/Compass%20PPTs/Americas/Commercial/Compass_Analysis_BRADLEY_CORP_111712_202201.pptx?d=we579392e6f914831bc2d032b52be8b43&csf=1&web=1&e=PdTGFH' since it exceeds Excel's limit of 65,530 URLS per worksheet.\n",
      "  warn(\"Ignoring URL '%s' since it exceeds Excel's limit of \"\n",
      "C:\\Users\\phsheari\\.conda\\envs\\compass_env\\lib\\site-packages\\xlsxwriter\\worksheet.py:986: UserWarning: Ignoring URL 'https://cisco.sharepoint.com/:p:/r/sites/ONEIB/Shared%20Documents/Compass%20Operations/Compass%20PPTs/Americas/Commercial/Compass_Analysis_BUSEY_BANK_111714_202201.pptx?d=wb4d40dac83644d32af4fa0f280a766fd&csf=1&web=1&e=XYyS3j' since it exceeds Excel's limit of 65,530 URLS per worksheet.\n",
      "  warn(\"Ignoring URL '%s' since it exceeds Excel's limit of \"\n",
      "C:\\Users\\phsheari\\.conda\\envs\\compass_env\\lib\\site-packages\\xlsxwriter\\worksheet.py:986: UserWarning: Ignoring URL 'https://cisco.sharepoint.com/:p:/r/sites/oneib/Shared%20Documents/Compass%20Operations/Compass%20PPTs/Americas/Commercial/Compass_Analysis_REYNOLDS_PACTIV_112527_202202.pptx?web=1' since it exceeds Excel's limit of 65,530 URLS per worksheet.\n",
      "  warn(\"Ignoring URL '%s' since it exceeds Excel's limit of \"\n",
      "C:\\Users\\phsheari\\.conda\\envs\\compass_env\\lib\\site-packages\\xlsxwriter\\worksheet.py:986: UserWarning: Ignoring URL 'https://cisco.sharepoint.com/:p:/r/sites/oneib/Shared%20Documents/Compass%20Operations/Compass%20PPTs/Americas/Commercial/Compass_Analysis_WE_ENERGIES_112536_202202.pptx?web=1' since it exceeds Excel's limit of 65,530 URLS per worksheet.\n",
      "  warn(\"Ignoring URL '%s' since it exceeds Excel's limit of \"\n",
      "C:\\Users\\phsheari\\.conda\\envs\\compass_env\\lib\\site-packages\\xlsxwriter\\worksheet.py:986: UserWarning: Ignoring URL 'https://cisco.sharepoint.com/:p:/r/sites/oneib/Shared%20Documents/Compass%20Operations/Compass%20PPTs/Americas/Commercial/Compass_Analysis_AMSTED_INDUSTRI_113308_202203.pptx?web=1' since it exceeds Excel's limit of 65,530 URLS per worksheet.\n",
      "  warn(\"Ignoring URL '%s' since it exceeds Excel's limit of \"\n",
      "C:\\Users\\phsheari\\.conda\\envs\\compass_env\\lib\\site-packages\\xlsxwriter\\worksheet.py:986: UserWarning: Ignoring URL 'https://cisco.sharepoint.com/:p:/r/sites/oneib/Shared%20Documents/Compass%20Operations/Compass%20PPTs/Americas/Commercial/Compass_Analysis_APPLIED_SYSTEMS_113319_202203.pptx?web=1' since it exceeds Excel's limit of 65,530 URLS per worksheet.\n",
      "  warn(\"Ignoring URL '%s' since it exceeds Excel's limit of \"\n",
      "C:\\Users\\phsheari\\.conda\\envs\\compass_env\\lib\\site-packages\\xlsxwriter\\worksheet.py:986: UserWarning: Ignoring URL 'https://cisco.sharepoint.com/:p:/r/sites/oneib/Shared%20Documents/Compass%20Operations/Compass%20PPTs/Americas/Commercial/Compass_Analysis_BELT_RAILWAY_CO_113370_202203.pptx?web=1' since it exceeds Excel's limit of 65,530 URLS per worksheet.\n",
      "  warn(\"Ignoring URL '%s' since it exceeds Excel's limit of \"\n",
      "C:\\Users\\phsheari\\.conda\\envs\\compass_env\\lib\\site-packages\\xlsxwriter\\worksheet.py:986: UserWarning: Ignoring URL 'https://cisco.sharepoint.com/:p:/r/sites/oneib/Shared%20Documents/Compass%20Operations/Compass%20PPTs/Americas/Commercial/Compass_Analysis_CGH_HOSPITAL_LT_113461_202203.pptx?web=1' since it exceeds Excel's limit of 65,530 URLS per worksheet.\n",
      "  warn(\"Ignoring URL '%s' since it exceeds Excel's limit of \"\n",
      "C:\\Users\\phsheari\\.conda\\envs\\compass_env\\lib\\site-packages\\xlsxwriter\\worksheet.py:986: UserWarning: Ignoring URL 'https://cisco.sharepoint.com/:p:/r/sites/oneib/Shared%20Documents/Compass%20Operations/Compass%20PPTs/Americas/Commercial/Compass_Analysis_AFFINITY_PLUS_F_113269_202203.pptx?web=1' since it exceeds Excel's limit of 65,530 URLS per worksheet.\n",
      "  warn(\"Ignoring URL '%s' since it exceeds Excel's limit of \"\n",
      "C:\\Users\\phsheari\\.conda\\envs\\compass_env\\lib\\site-packages\\xlsxwriter\\worksheet.py:986: UserWarning: Ignoring URL 'https://cisco.sharepoint.com/:p:/r/sites/oneib/Shared%20Documents/Compass%20Operations/Compass%20PPTs/Americas/Commercial/Compass_Analysis_CENTER_FOR_DIAG_113447_202203.pptx?web=1' since it exceeds Excel's limit of 65,530 URLS per worksheet.\n",
      "  warn(\"Ignoring URL '%s' since it exceeds Excel's limit of \"\n",
      "C:\\Users\\phsheari\\.conda\\envs\\compass_env\\lib\\site-packages\\xlsxwriter\\worksheet.py:986: UserWarning: Ignoring URL 'https://cisco.sharepoint.com/:p:/r/sites/oneib/Shared%20Documents/Compass%20Operations/Compass%20PPTs/Americas/Commercial/Compass_Analysis_CLIFTON_GUNDERS_113486_202203.pptx?web=1' since it exceeds Excel's limit of 65,530 URLS per worksheet.\n",
      "  warn(\"Ignoring URL '%s' since it exceeds Excel's limit of \"\n",
      "C:\\Users\\phsheari\\.conda\\envs\\compass_env\\lib\\site-packages\\xlsxwriter\\worksheet.py:986: UserWarning: Ignoring URL 'https://cisco.sharepoint.com/:p:/r/sites/oneib/Shared%20Documents/Compass%20Operations/Compass%20PPTs/Americas/Commercial/Compass_Analysis_DAIKEN_APPLIED_113544_202203.pptx?web=1' since it exceeds Excel's limit of 65,530 URLS per worksheet.\n",
      "  warn(\"Ignoring URL '%s' since it exceeds Excel's limit of \"\n",
      "C:\\Users\\phsheari\\.conda\\envs\\compass_env\\lib\\site-packages\\xlsxwriter\\worksheet.py:986: UserWarning: Ignoring URL 'https://cisco.sharepoint.com/:p:/r/sites/oneib/Shared%20Documents/Compass%20Operations/Compass%20PPTs/Americas/Commercial/Compass_Analysis_NATIONAL_FUTURE_113992_202203.pptx?web=1' since it exceeds Excel's limit of 65,530 URLS per worksheet.\n",
      "  warn(\"Ignoring URL '%s' since it exceeds Excel's limit of \"\n",
      "C:\\Users\\phsheari\\.conda\\envs\\compass_env\\lib\\site-packages\\xlsxwriter\\worksheet.py:986: UserWarning: Ignoring URL 'https://cisco.sharepoint.com/:p:/r/sites/oneib/Shared%20Documents/Compass%20Operations/Compass%20PPTs/Americas/Commercial/Compass_Analysis_FORTUNE_BRANDS_113644_202203.pptx?web=1' since it exceeds Excel's limit of 65,530 URLS per worksheet.\n",
      "  warn(\"Ignoring URL '%s' since it exceeds Excel's limit of \"\n",
      "C:\\Users\\phsheari\\.conda\\envs\\compass_env\\lib\\site-packages\\xlsxwriter\\worksheet.py:986: UserWarning: Ignoring URL 'https://cisco.sharepoint.com/:p:/r/sites/oneib/Shared%20Documents/Compass%20Operations/Compass%20PPTs/Americas/Commercial/Compass_Analysis_MAGID_GLOVE__SA_113887_202203.pptx?web=1' since it exceeds Excel's limit of 65,530 URLS per worksheet.\n",
      "  warn(\"Ignoring URL '%s' since it exceeds Excel's limit of \"\n",
      "C:\\Users\\phsheari\\.conda\\envs\\compass_env\\lib\\site-packages\\xlsxwriter\\worksheet.py:986: UserWarning: Ignoring URL 'https://cisco.sharepoint.com/:p:/r/sites/oneib/Shared%20Documents/Compass%20Operations/Compass%20PPTs/Americas/Commercial/Compass_Analysis_DATA_RECOGNITIO_113546_202203.pptx?web=1' since it exceeds Excel's limit of 65,530 URLS per worksheet.\n",
      "  warn(\"Ignoring URL '%s' since it exceeds Excel's limit of \"\n",
      "C:\\Users\\phsheari\\.conda\\envs\\compass_env\\lib\\site-packages\\xlsxwriter\\worksheet.py:986: UserWarning: Ignoring URL 'https://cisco.sharepoint.com/:p:/r/sites/oneib/Shared%20Documents/Compass%20Operations/Compass%20PPTs/Americas/Commercial/Compass_Analysis_DATASITE_LLC_113547_202203.pptx?web=1' since it exceeds Excel's limit of 65,530 URLS per worksheet.\n",
      "  warn(\"Ignoring URL '%s' since it exceeds Excel's limit of \"\n",
      "C:\\Users\\phsheari\\.conda\\envs\\compass_env\\lib\\site-packages\\xlsxwriter\\worksheet.py:986: UserWarning: Ignoring URL 'https://cisco.sharepoint.com/:p:/r/sites/oneib/Shared%20Documents/Compass%20Operations/Compass%20PPTs/Americas/Commercial/Compass_Analysis_JOSTENS_113810_202203.pptx?web=1' since it exceeds Excel's limit of 65,530 URLS per worksheet.\n",
      "  warn(\"Ignoring URL '%s' since it exceeds Excel's limit of \"\n",
      "C:\\Users\\phsheari\\.conda\\envs\\compass_env\\lib\\site-packages\\xlsxwriter\\worksheet.py:986: UserWarning: Ignoring URL 'https://cisco.sharepoint.com/:p:/r/sites/oneib/Shared%20Documents/Compass%20Operations/Compass%20PPTs/Americas/Commercial/Compass_Analysis_M_A_MORTENSON_C_113881_202203.pptx?web=1' since it exceeds Excel's limit of 65,530 URLS per worksheet.\n",
      "  warn(\"Ignoring URL '%s' since it exceeds Excel's limit of \"\n",
      "C:\\Users\\phsheari\\.conda\\envs\\compass_env\\lib\\site-packages\\xlsxwriter\\worksheet.py:986: UserWarning: Ignoring URL 'https://cisco.sharepoint.com/:p:/r/sites/oneib/Shared%20Documents/Compass%20Operations/Compass%20PPTs/Americas/Commercial/Compass_Analysis_DV_TRADING_113573_202203.pptx?web=1' since it exceeds Excel's limit of 65,530 URLS per worksheet.\n",
      "  warn(\"Ignoring URL '%s' since it exceeds Excel's limit of \"\n",
      "C:\\Users\\phsheari\\.conda\\envs\\compass_env\\lib\\site-packages\\xlsxwriter\\worksheet.py:986: UserWarning: Ignoring URL 'https://cisco.sharepoint.com/:p:/r/sites/oneib/Shared%20Documents/Compass%20Operations/Compass%20PPTs/Americas/Commercial/Compass_Analysis_PEAK_6_114097_202203.pptx?web=1' since it exceeds Excel's limit of 65,530 URLS per worksheet.\n",
      "  warn(\"Ignoring URL '%s' since it exceeds Excel's limit of \"\n",
      "C:\\Users\\phsheari\\.conda\\envs\\compass_env\\lib\\site-packages\\xlsxwriter\\worksheet.py:986: UserWarning: Ignoring URL 'https://cisco.sharepoint.com/:p:/r/sites/oneib/Shared%20Documents/Compass%20Operations/Compass%20PPTs/Americas/Commercial/Compass_Analysis_RSM_114165_202203.pptx?web=1' since it exceeds Excel's limit of 65,530 URLS per worksheet.\n",
      "  warn(\"Ignoring URL '%s' since it exceeds Excel's limit of \"\n",
      "C:\\Users\\phsheari\\.conda\\envs\\compass_env\\lib\\site-packages\\xlsxwriter\\worksheet.py:986: UserWarning: Ignoring URL 'https://cisco.sharepoint.com/:p:/r/sites/oneib/Shared%20Documents/Compass%20Operations/Compass%20PPTs/Americas/Commercial/Compass_Analysis_ACCESS_COMMUNIT_113257_202203.pptx?web=1' since it exceeds Excel's limit of 65,530 URLS per worksheet.\n",
      "  warn(\"Ignoring URL '%s' since it exceeds Excel's limit of \"\n",
      "C:\\Users\\phsheari\\.conda\\envs\\compass_env\\lib\\site-packages\\xlsxwriter\\worksheet.py:986: UserWarning: Ignoring URL 'https://cisco.sharepoint.com/:p:/r/sites/oneib/Shared%20Documents/Compass%20Operations/Compass%20PPTs/Americas/Commercial/Compass_Analysis_AFNI_INC_113270_202203.pptx?web=1' since it exceeds Excel's limit of 65,530 URLS per worksheet.\n",
      "  warn(\"Ignoring URL '%s' since it exceeds Excel's limit of \"\n",
      "C:\\Users\\phsheari\\.conda\\envs\\compass_env\\lib\\site-packages\\xlsxwriter\\worksheet.py:986: UserWarning: Ignoring URL 'https://cisco.sharepoint.com/:p:/r/sites/oneib/Shared%20Documents/Compass%20Operations/Compass%20PPTs/Americas/Commercial/Compass_Analysis_BRADLEY_CORP_113390_202203.pptx?web=1' since it exceeds Excel's limit of 65,530 URLS per worksheet.\n",
      "  warn(\"Ignoring URL '%s' since it exceeds Excel's limit of \"\n",
      "C:\\Users\\phsheari\\.conda\\envs\\compass_env\\lib\\site-packages\\xlsxwriter\\worksheet.py:986: UserWarning: Ignoring URL 'https://cisco.sharepoint.com/:p:/r/sites/oneib/Shared%20Documents/Compass%20Operations/Compass%20PPTs/Americas/Commercial/Compass_Analysis_CHARTER_MANUFAC_113465_202203.pptx?web=1' since it exceeds Excel's limit of 65,530 URLS per worksheet.\n",
      "  warn(\"Ignoring URL '%s' since it exceeds Excel's limit of \"\n",
      "C:\\Users\\phsheari\\.conda\\envs\\compass_env\\lib\\site-packages\\xlsxwriter\\worksheet.py:986: UserWarning: Ignoring URL 'https://cisco.sharepoint.com/:p:/r/sites/oneib/Shared%20Documents/Compass%20Operations/Compass%20PPTs/Americas/Commercial/Compass_Analysis_CONNEXUS_CREDIT_113507_202203.pptx?web=1' since it exceeds Excel's limit of 65,530 URLS per worksheet.\n",
      "  warn(\"Ignoring URL '%s' since it exceeds Excel's limit of \"\n",
      "C:\\Users\\phsheari\\.conda\\envs\\compass_env\\lib\\site-packages\\xlsxwriter\\worksheet.py:986: UserWarning: Ignoring URL 'https://cisco.sharepoint.com/:p:/r/sites/oneib/Shared%20Documents/Compass%20Operations/Compass%20PPTs/Americas/Commercial/Compass_Analysis_DAIRYLAND_POWER_113545_202203.pptx?web=1' since it exceeds Excel's limit of 65,530 URLS per worksheet.\n",
      "  warn(\"Ignoring URL '%s' since it exceeds Excel's limit of \"\n",
      "C:\\Users\\phsheari\\.conda\\envs\\compass_env\\lib\\site-packages\\xlsxwriter\\worksheet.py:986: UserWarning: Ignoring URL 'https://cisco.sharepoint.com/:p:/r/sites/oneib/Shared%20Documents/Compass%20Operations/Compass%20PPTs/Americas/Commercial/Compass_Analysis_FOLEY_AND_LARDN_113640_202203.pptx?web=1' since it exceeds Excel's limit of 65,530 URLS per worksheet.\n",
      "  warn(\"Ignoring URL '%s' since it exceeds Excel's limit of \"\n",
      "C:\\Users\\phsheari\\.conda\\envs\\compass_env\\lib\\site-packages\\xlsxwriter\\worksheet.py:986: UserWarning: Ignoring URL 'https://cisco.sharepoint.com/:p:/r/sites/oneib/Shared%20Documents/Compass%20Operations/Compass%20PPTs/Americas/Commercial/Compass_Analysis_GODFREY_AND_KAH_113685_202203.pptx?web=1' since it exceeds Excel's limit of 65,530 URLS per worksheet.\n",
      "  warn(\"Ignoring URL '%s' since it exceeds Excel's limit of \"\n",
      "C:\\Users\\phsheari\\.conda\\envs\\compass_env\\lib\\site-packages\\xlsxwriter\\worksheet.py:986: UserWarning: Ignoring URL 'https://cisco.sharepoint.com/:p:/r/sites/oneib/Shared%20Documents/Compass%20Operations/Compass%20PPTs/Americas/Commercial/Compass_Analysis_GRANT_THORNTON__113697_202203.pptx?web=1' since it exceeds Excel's limit of 65,530 URLS per worksheet.\n",
      "  warn(\"Ignoring URL '%s' since it exceeds Excel's limit of \"\n",
      "C:\\Users\\phsheari\\.conda\\envs\\compass_env\\lib\\site-packages\\xlsxwriter\\worksheet.py:986: UserWarning: Ignoring URL 'https://cisco.sharepoint.com/:p:/r/sites/oneib/Shared%20Documents/Compass%20Operations/Compass%20PPTs/Americas/Commercial/Compass_Analysis_GREAT_WOLF_RESO_113700_202203.pptx?web=1' since it exceeds Excel's limit of 65,530 URLS per worksheet.\n",
      "  warn(\"Ignoring URL '%s' since it exceeds Excel's limit of \"\n",
      "C:\\Users\\phsheari\\.conda\\envs\\compass_env\\lib\\site-packages\\xlsxwriter\\worksheet.py:986: UserWarning: Ignoring URL 'https://cisco.sharepoint.com/:p:/r/sites/oneib/Shared%20Documents/Compass%20Operations/Compass%20PPTs/Americas/Commercial/Compass_Analysis_IDEX_CORPORATIO_113763_202203.pptx?web=1' since it exceeds Excel's limit of 65,530 URLS per worksheet.\n",
      "  warn(\"Ignoring URL '%s' since it exceeds Excel's limit of \"\n",
      "C:\\Users\\phsheari\\.conda\\envs\\compass_env\\lib\\site-packages\\xlsxwriter\\worksheet.py:986: UserWarning: Ignoring URL 'https://cisco.sharepoint.com/:p:/r/sites/oneib/Shared%20Documents/Compass%20Operations/Compass%20PPTs/Americas/Commercial/Compass_Analysis_KOMATSU_AMERICA_113827_202203.pptx?web=1' since it exceeds Excel's limit of 65,530 URLS per worksheet.\n",
      "  warn(\"Ignoring URL '%s' since it exceeds Excel's limit of \"\n",
      "C:\\Users\\phsheari\\.conda\\envs\\compass_env\\lib\\site-packages\\xlsxwriter\\worksheet.py:986: UserWarning: Ignoring URL 'https://cisco.sharepoint.com/:p:/r/sites/oneib/Shared%20Documents/Compass%20Operations/Compass%20PPTs/Americas/Commercial/Compass_Analysis_MENASHA_CORPORA_113921_202203.pptx?web=1' since it exceeds Excel's limit of 65,530 URLS per worksheet.\n",
      "  warn(\"Ignoring URL '%s' since it exceeds Excel's limit of \"\n",
      "C:\\Users\\phsheari\\.conda\\envs\\compass_env\\lib\\site-packages\\xlsxwriter\\worksheet.py:986: UserWarning: Ignoring URL 'https://cisco.sharepoint.com/:p:/r/sites/oneib/Shared%20Documents/Compass%20Operations/Compass%20PPTs/Americas/Commercial/Compass_Analysis_ROBERT_W_BAIRD__114158_202203.pptx?web=1' since it exceeds Excel's limit of 65,530 URLS per worksheet.\n",
      "  warn(\"Ignoring URL '%s' since it exceeds Excel's limit of \"\n",
      "C:\\Users\\phsheari\\.conda\\envs\\compass_env\\lib\\site-packages\\xlsxwriter\\worksheet.py:986: UserWarning: Ignoring URL 'https://cisco.sharepoint.com/:p:/r/sites/oneib/Shared%20Documents/Compass%20Operations/Compass%20PPTs/Americas/Commercial/Compass_Analysis_SCHIFF_HARDIN_114184_202203.pptx?web=1' since it exceeds Excel's limit of 65,530 URLS per worksheet.\n",
      "  warn(\"Ignoring URL '%s' since it exceeds Excel's limit of \"\n",
      "C:\\Users\\phsheari\\.conda\\envs\\compass_env\\lib\\site-packages\\xlsxwriter\\worksheet.py:986: UserWarning: Ignoring URL 'https://cisco.sharepoint.com/:p:/r/sites/oneib/Shared%20Documents/Compass%20Operations/Compass%20PPTs/Americas/Commercial/Compass_Analysis_THYSSENKRUPP_WA_114295_202203.pptx?web=1' since it exceeds Excel's limit of 65,530 URLS per worksheet.\n",
      "  warn(\"Ignoring URL '%s' since it exceeds Excel's limit of \"\n",
      "C:\\Users\\phsheari\\.conda\\envs\\compass_env\\lib\\site-packages\\xlsxwriter\\worksheet.py:986: UserWarning: Ignoring URL 'https://cisco.sharepoint.com/:p:/r/sites/oneib/Shared%20Documents/Compass%20Operations/Compass%20PPTs/Americas/Commercial/Compass_Analysis_VISTA_OUTDOOR_C_114376_202203.pptx?web=1' since it exceeds Excel's limit of 65,530 URLS per worksheet.\n",
      "  warn(\"Ignoring URL '%s' since it exceeds Excel's limit of \"\n",
      "C:\\Users\\phsheari\\.conda\\envs\\compass_env\\lib\\site-packages\\xlsxwriter\\worksheet.py:986: UserWarning: Ignoring URL 'https://cisco.sharepoint.com/:p:/r/sites/oneib/Shared%20Documents/Compass%20Operations/Compass%20PPTs/Americas/Commercial/Compass_Analysis_WOLVERINE_TRADI_112291_202202.pptx?web=1' since it exceeds Excel's limit of 65,530 URLS per worksheet.\n",
      "  warn(\"Ignoring URL '%s' since it exceeds Excel's limit of \"\n",
      "C:\\Users\\phsheari\\.conda\\envs\\compass_env\\lib\\site-packages\\xlsxwriter\\worksheet.py:986: UserWarning: Ignoring URL 'https://cisco.sharepoint.com/:p:/r/sites/oneib/Shared%20Documents/Compass%20Operations/Compass%20PPTs/Americas/Commercial/Compass_Analysis_CDW_DIRECT_LLC_112497_202202.pptx?web=1' since it exceeds Excel's limit of 65,530 URLS per worksheet.\n",
      "  warn(\"Ignoring URL '%s' since it exceeds Excel's limit of \"\n",
      "C:\\Users\\phsheari\\.conda\\envs\\compass_env\\lib\\site-packages\\xlsxwriter\\worksheet.py:986: UserWarning: Ignoring URL 'https://cisco.sharepoint.com/:p:/r/sites/oneib/Shared%20Documents/Compass%20Operations/Compass%20PPTs/Americas/Commercial/Compass_Analysis_ARTESIA_GENERAL_113332_202203.pptx?web=1' since it exceeds Excel's limit of 65,530 URLS per worksheet.\n",
      "  warn(\"Ignoring URL '%s' since it exceeds Excel's limit of \"\n",
      "C:\\Users\\phsheari\\.conda\\envs\\compass_env\\lib\\site-packages\\xlsxwriter\\worksheet.py:986: UserWarning: Ignoring URL 'https://cisco.sharepoint.com/:p:/r/sites/oneib/Shared%20Documents/Compass%20Operations/Compass%20PPTs/Americas/Commercial/Compass_Analysis_ALTAMED_HEALTH_113291_202203.pptx?web=1' since it exceeds Excel's limit of 65,530 URLS per worksheet.\n",
      "  warn(\"Ignoring URL '%s' since it exceeds Excel's limit of \"\n",
      "C:\\Users\\phsheari\\.conda\\envs\\compass_env\\lib\\site-packages\\xlsxwriter\\worksheet.py:986: UserWarning: Ignoring URL 'https://cisco.sharepoint.com/:p:/r/sites/oneib/Shared%20Documents/Compass%20Operations/Compass%20PPTs/Americas/Commercial/Compass_Analysis_AUCTION_COM_LLC_113342_202203.pptx?web=1' since it exceeds Excel's limit of 65,530 URLS per worksheet.\n",
      "  warn(\"Ignoring URL '%s' since it exceeds Excel's limit of \"\n",
      "C:\\Users\\phsheari\\.conda\\envs\\compass_env\\lib\\site-packages\\xlsxwriter\\worksheet.py:986: UserWarning: Ignoring URL 'https://cisco.sharepoint.com/:p:/r/sites/oneib/Shared%20Documents/Compass%20Operations/Compass%20PPTs/Americas/Commercial/Compass_Analysis_TRULY_NOLEN_OF__114328_202203.pptx?web=1' since it exceeds Excel's limit of 65,530 URLS per worksheet.\n",
      "  warn(\"Ignoring URL '%s' since it exceeds Excel's limit of \"\n",
      "C:\\Users\\phsheari\\.conda\\envs\\compass_env\\lib\\site-packages\\xlsxwriter\\worksheet.py:986: UserWarning: Ignoring URL 'https://cisco.sharepoint.com/:p:/r/sites/oneib/Shared%20Documents/Compass%20Operations/Compass%20PPTs/Americas/Commercial/Compass_Analysis_MITCHELL_REPAIR_113947_202203.pptx?web=1' since it exceeds Excel's limit of 65,530 URLS per worksheet.\n",
      "  warn(\"Ignoring URL '%s' since it exceeds Excel's limit of \"\n",
      "C:\\Users\\phsheari\\.conda\\envs\\compass_env\\lib\\site-packages\\xlsxwriter\\worksheet.py:986: UserWarning: Ignoring URL 'https://cisco.sharepoint.com/:p:/r/sites/oneib/Shared%20Documents/Compass%20Operations/Compass%20PPTs/Americas/Commercial/Compass_Analysis_GREATER_NEVADA__113701_202203.pptx?web=1' since it exceeds Excel's limit of 65,530 URLS per worksheet.\n",
      "  warn(\"Ignoring URL '%s' since it exceeds Excel's limit of \"\n",
      "C:\\Users\\phsheari\\.conda\\envs\\compass_env\\lib\\site-packages\\xlsxwriter\\worksheet.py:986: UserWarning: Ignoring URL 'https://cisco.sharepoint.com/:p:/r/sites/oneib/Shared%20Documents/Compass%20Operations/Compass%20PPTs/Americas/Commercial/Compass_Analysis_LEGALZOOMCOM_IN_113854_202203.pptx?web=1' since it exceeds Excel's limit of 65,530 URLS per worksheet.\n",
      "  warn(\"Ignoring URL '%s' since it exceeds Excel's limit of \"\n",
      "C:\\Users\\phsheari\\.conda\\envs\\compass_env\\lib\\site-packages\\xlsxwriter\\worksheet.py:986: UserWarning: Ignoring URL 'https://cisco.sharepoint.com/:p:/r/sites/oneib/Shared%20Documents/Compass%20Operations/Compass%20PPTs/Americas/Commercial/Compass_Analysis_MILLENIUM_LABOR_113937_202203.pptx?web=1' since it exceeds Excel's limit of 65,530 URLS per worksheet.\n",
      "  warn(\"Ignoring URL '%s' since it exceeds Excel's limit of \"\n",
      "C:\\Users\\phsheari\\.conda\\envs\\compass_env\\lib\\site-packages\\xlsxwriter\\worksheet.py:986: UserWarning: Ignoring URL 'https://cisco.sharepoint.com/:p:/r/sites/oneib/Shared%20Documents/Compass%20Operations/Compass%20PPTs/Americas/Commercial/Compass_Analysis_RED_DIGITAL_CIN_114145_202203.pptx?web=1' since it exceeds Excel's limit of 65,530 URLS per worksheet.\n",
      "  warn(\"Ignoring URL '%s' since it exceeds Excel's limit of \"\n",
      "C:\\Users\\phsheari\\.conda\\envs\\compass_env\\lib\\site-packages\\xlsxwriter\\worksheet.py:986: UserWarning: Ignoring URL 'https://cisco.sharepoint.com/:p:/r/sites/oneib/Shared%20Documents/Compass%20Operations/Compass%20PPTs/Americas/Commercial/Compass_Analysis_BEYONDTRUST_SOF_113377_202203.pptx?web=1' since it exceeds Excel's limit of 65,530 URLS per worksheet.\n",
      "  warn(\"Ignoring URL '%s' since it exceeds Excel's limit of \"\n",
      "C:\\Users\\phsheari\\.conda\\envs\\compass_env\\lib\\site-packages\\xlsxwriter\\worksheet.py:986: UserWarning: Ignoring URL 'https://cisco.sharepoint.com/:p:/r/sites/oneib/Shared%20Documents/Compass%20Operations/Compass%20PPTs/Americas/Commercial/Compass_Analysis_CARSON_TAHOE_RE_113433_202203.pptx?web=1' since it exceeds Excel's limit of 65,530 URLS per worksheet.\n",
      "  warn(\"Ignoring URL '%s' since it exceeds Excel's limit of \"\n",
      "C:\\Users\\phsheari\\.conda\\envs\\compass_env\\lib\\site-packages\\xlsxwriter\\worksheet.py:986: UserWarning: Ignoring URL 'https://cisco.sharepoint.com/:p:/r/sites/oneib/Shared%20Documents/Compass%20Operations/Compass%20PPTs/Americas/Commercial/Compass_Analysis_FREEDOM_FINANCI_113649_202203.pptx?web=1' since it exceeds Excel's limit of 65,530 URLS per worksheet.\n",
      "  warn(\"Ignoring URL '%s' since it exceeds Excel's limit of \"\n",
      "C:\\Users\\phsheari\\.conda\\envs\\compass_env\\lib\\site-packages\\xlsxwriter\\worksheet.py:986: UserWarning: Ignoring URL 'https://cisco.sharepoint.com/:p:/r/sites/oneib/Shared%20Documents/Compass%20Operations/Compass%20PPTs/Americas/Commercial/Compass_Analysis_COHU_INC_113492_202203.pptx?web=1' since it exceeds Excel's limit of 65,530 URLS per worksheet.\n",
      "  warn(\"Ignoring URL '%s' since it exceeds Excel's limit of \"\n",
      "C:\\Users\\phsheari\\.conda\\envs\\compass_env\\lib\\site-packages\\xlsxwriter\\worksheet.py:986: UserWarning: Ignoring URL 'https://cisco.sharepoint.com/:p:/r/sites/oneib/Shared%20Documents/Compass%20Operations/Compass%20PPTs/Americas/Commercial/Compass_Analysis_CU_DIRECT_113539_202203.pptx?web=1' since it exceeds Excel's limit of 65,530 URLS per worksheet.\n",
      "  warn(\"Ignoring URL '%s' since it exceeds Excel's limit of \"\n",
      "C:\\Users\\phsheari\\.conda\\envs\\compass_env\\lib\\site-packages\\xlsxwriter\\worksheet.py:986: UserWarning: Ignoring URL 'https://cisco.sharepoint.com/:p:/r/sites/oneib/Shared%20Documents/Compass%20Operations/Compass%20PPTs/Americas/Commercial/Compass_Analysis_MOORE__VAN_ALLE_113970_202203.pptx?web=1' since it exceeds Excel's limit of 65,530 URLS per worksheet.\n",
      "  warn(\"Ignoring URL '%s' since it exceeds Excel's limit of \"\n",
      "C:\\Users\\phsheari\\.conda\\envs\\compass_env\\lib\\site-packages\\xlsxwriter\\worksheet.py:986: UserWarning: Ignoring URL 'https://cisco.sharepoint.com/:p:/r/sites/oneib/Shared%20Documents/Compass%20Operations/Compass%20PPTs/Americas/Commercial/Compass_Analysis_NELSON_MULLINS__114008_202203.pptx?web=1' since it exceeds Excel's limit of 65,530 URLS per worksheet.\n",
      "  warn(\"Ignoring URL '%s' since it exceeds Excel's limit of \"\n",
      "C:\\Users\\phsheari\\.conda\\envs\\compass_env\\lib\\site-packages\\xlsxwriter\\worksheet.py:986: UserWarning: Ignoring URL 'https://cisco.sharepoint.com/:p:/r/sites/oneib/Shared%20Documents/Compass%20Operations/Compass%20PPTs/Americas/Commercial/Compass_Analysis_HENDRICK_AUTOMO_113729_202203.pptx?web=1' since it exceeds Excel's limit of 65,530 URLS per worksheet.\n",
      "  warn(\"Ignoring URL '%s' since it exceeds Excel's limit of \"\n",
      "C:\\Users\\phsheari\\.conda\\envs\\compass_env\\lib\\site-packages\\xlsxwriter\\worksheet.py:986: UserWarning: Ignoring URL 'https://cisco.sharepoint.com/:p:/r/sites/oneib/Shared%20Documents/Compass%20Operations/Compass%20PPTs/Americas/Commercial/Compass_Analysis_LEXINGTON_MEDIC_113856_202203.pptx?web=1' since it exceeds Excel's limit of 65,530 URLS per worksheet.\n",
      "  warn(\"Ignoring URL '%s' since it exceeds Excel's limit of \"\n",
      "C:\\Users\\phsheari\\.conda\\envs\\compass_env\\lib\\site-packages\\xlsxwriter\\worksheet.py:986: UserWarning: Ignoring URL 'https://cisco.sharepoint.com/:p:/r/sites/oneib/Shared%20Documents/Compass%20Operations/Compass%20PPTs/Americas/Commercial/Compass_Analysis_SANTEE_COOPER_114178_202203.pptx?web=1' since it exceeds Excel's limit of 65,530 URLS per worksheet.\n",
      "  warn(\"Ignoring URL '%s' since it exceeds Excel's limit of \"\n",
      "C:\\Users\\phsheari\\.conda\\envs\\compass_env\\lib\\site-packages\\xlsxwriter\\worksheet.py:986: UserWarning: Ignoring URL 'https://cisco.sharepoint.com/:p:/r/sites/oneib/Shared%20Documents/Compass%20Operations/Compass%20PPTs/Americas/Commercial/Compass_Analysis_SCANSOURCE_114182_202203.pptx?web=1' since it exceeds Excel's limit of 65,530 URLS per worksheet.\n",
      "  warn(\"Ignoring URL '%s' since it exceeds Excel's limit of \"\n",
      "C:\\Users\\phsheari\\.conda\\envs\\compass_env\\lib\\site-packages\\xlsxwriter\\worksheet.py:986: UserWarning: Ignoring URL 'https://cisco.sharepoint.com/:p:/r/sites/oneib/Shared%20Documents/Compass%20Operations/Compass%20PPTs/Americas/Commercial/Compass_Analysis_SELF_REGIONAL_H_114200_202203.pptx?web=1' since it exceeds Excel's limit of 65,530 URLS per worksheet.\n",
      "  warn(\"Ignoring URL '%s' since it exceeds Excel's limit of \"\n",
      "C:\\Users\\phsheari\\.conda\\envs\\compass_env\\lib\\site-packages\\xlsxwriter\\worksheet.py:986: UserWarning: Ignoring URL 'https://cisco.sharepoint.com/:p:/r/sites/oneib/Shared%20Documents/Compass%20Operations/Compass%20PPTs/Americas/Commercial/Compass_Analysis_ACI_WORLDWIDE_I_113260_202203.pptx?web=1' since it exceeds Excel's limit of 65,530 URLS per worksheet.\n",
      "  warn(\"Ignoring URL '%s' since it exceeds Excel's limit of \"\n",
      "C:\\Users\\phsheari\\.conda\\envs\\compass_env\\lib\\site-packages\\xlsxwriter\\worksheet.py:986: UserWarning: Ignoring URL 'https://cisco.sharepoint.com/:p:/r/sites/oneib/Shared%20Documents/Compass%20Operations/Compass%20PPTs/Americas/Commercial/Compass_Analysis_BCD_TRAVEL_113367_202203.pptx?web=1' since it exceeds Excel's limit of 65,530 URLS per worksheet.\n",
      "  warn(\"Ignoring URL '%s' since it exceeds Excel's limit of \"\n",
      "C:\\Users\\phsheari\\.conda\\envs\\compass_env\\lib\\site-packages\\xlsxwriter\\worksheet.py:986: UserWarning: Ignoring URL 'https://cisco.sharepoint.com/:p:/r/sites/oneib/Shared%20Documents/Compass%20Operations/Compass%20PPTs/Americas/Commercial/Compass_Analysis_KING__SPALDING_113819_202203.pptx?web=1' since it exceeds Excel's limit of 65,530 URLS per worksheet.\n",
      "  warn(\"Ignoring URL '%s' since it exceeds Excel's limit of \"\n",
      "C:\\Users\\phsheari\\.conda\\envs\\compass_env\\lib\\site-packages\\xlsxwriter\\worksheet.py:986: UserWarning: Ignoring URL 'https://cisco.sharepoint.com/:p:/r/sites/oneib/Shared%20Documents/Compass%20Operations/Compass%20PPTs/Americas/Commercial/Compass_Analysis_REPUBLIC_NATION_114151_202203.pptx?web=1' since it exceeds Excel's limit of 65,530 URLS per worksheet.\n",
      "  warn(\"Ignoring URL '%s' since it exceeds Excel's limit of \"\n",
      "C:\\Users\\phsheari\\.conda\\envs\\compass_env\\lib\\site-packages\\xlsxwriter\\worksheet.py:986: UserWarning: Ignoring URL 'https://cisco.sharepoint.com/:p:/r/sites/oneib/Shared%20Documents/Compass%20Operations/Compass%20PPTs/Americas/Commercial/Compass_Analysis_NEMOURS_114009_202203.pptx?web=1' since it exceeds Excel's limit of 65,530 URLS per worksheet.\n",
      "  warn(\"Ignoring URL '%s' since it exceeds Excel's limit of \"\n",
      "C:\\Users\\phsheari\\.conda\\envs\\compass_env\\lib\\site-packages\\xlsxwriter\\worksheet.py:986: UserWarning: Ignoring URL 'https://cisco.sharepoint.com/:p:/r/sites/oneib/Shared%20Documents/Compass%20Operations/Compass%20PPTs/Americas/Commercial/Compass_Analysis_AMERIS_BANCORP_113305_202203.pptx?web=1' since it exceeds Excel's limit of 65,530 URLS per worksheet.\n",
      "  warn(\"Ignoring URL '%s' since it exceeds Excel's limit of \"\n",
      "C:\\Users\\phsheari\\.conda\\envs\\compass_env\\lib\\site-packages\\xlsxwriter\\worksheet.py:986: UserWarning: Ignoring URL 'https://cisco.sharepoint.com/:p:/r/sites/oneib/Shared%20Documents/Compass%20Operations/Compass%20PPTs/Americas/Commercial/Compass_Analysis_AUGUSTA_NATIONA_113343_202203.pptx?web=1' since it exceeds Excel's limit of 65,530 URLS per worksheet.\n",
      "  warn(\"Ignoring URL '%s' since it exceeds Excel's limit of \"\n",
      "C:\\Users\\phsheari\\.conda\\envs\\compass_env\\lib\\site-packages\\xlsxwriter\\worksheet.py:986: UserWarning: Ignoring URL 'https://cisco.sharepoint.com/:p:/r/sites/oneib/Shared%20Documents/Compass%20Operations/Compass%20PPTs/Americas/Commercial/Compass_Analysis_CARLTON_FIELDS_113430_202203.pptx?web=1' since it exceeds Excel's limit of 65,530 URLS per worksheet.\n",
      "  warn(\"Ignoring URL '%s' since it exceeds Excel's limit of \"\n",
      "C:\\Users\\phsheari\\.conda\\envs\\compass_env\\lib\\site-packages\\xlsxwriter\\worksheet.py:986: UserWarning: Ignoring URL 'https://cisco.sharepoint.com/:p:/r/sites/oneib/Shared%20Documents/Compass%20Operations/Compass%20PPTs/Americas/Commercial/Compass_Analysis_FLORIDA_CANCER__113637_202203.pptx?web=1' since it exceeds Excel's limit of 65,530 URLS per worksheet.\n",
      "  warn(\"Ignoring URL '%s' since it exceeds Excel's limit of \"\n",
      "C:\\Users\\phsheari\\.conda\\envs\\compass_env\\lib\\site-packages\\xlsxwriter\\worksheet.py:986: UserWarning: Ignoring URL 'https://cisco.sharepoint.com/:p:/r/sites/oneib/Shared%20Documents/Compass%20Operations/Compass%20PPTs/Americas/Commercial/Compass_Analysis_FRESH_DELMONTE__113652_202203.pptx?web=1' since it exceeds Excel's limit of 65,530 URLS per worksheet.\n",
      "  warn(\"Ignoring URL '%s' since it exceeds Excel's limit of \"\n",
      "C:\\Users\\phsheari\\.conda\\envs\\compass_env\\lib\\site-packages\\xlsxwriter\\worksheet.py:986: UserWarning: Ignoring URL 'https://cisco.sharepoint.com/:p:/r/sites/oneib/Shared%20Documents/Compass%20Operations/Compass%20PPTs/Americas/Commercial/Compass_Analysis_INTERFACE_FLOOR_113795_202203.pptx?web=1' since it exceeds Excel's limit of 65,530 URLS per worksheet.\n",
      "  warn(\"Ignoring URL '%s' since it exceeds Excel's limit of \"\n",
      "C:\\Users\\phsheari\\.conda\\envs\\compass_env\\lib\\site-packages\\xlsxwriter\\worksheet.py:986: UserWarning: Ignoring URL 'https://cisco.sharepoint.com/:p:/r/sites/oneib/Shared%20Documents/Compass%20Operations/Compass%20PPTs/Americas/Commercial/Compass_Analysis_LENNAR_CORPORAT_113855_202203.pptx?web=1' since it exceeds Excel's limit of 65,530 URLS per worksheet.\n",
      "  warn(\"Ignoring URL '%s' since it exceeds Excel's limit of \"\n",
      "C:\\Users\\phsheari\\.conda\\envs\\compass_env\\lib\\site-packages\\xlsxwriter\\worksheet.py:986: UserWarning: Ignoring URL 'https://cisco.sharepoint.com/:p:/r/sites/oneib/Shared%20Documents/Compass%20Operations/Compass%20PPTs/Americas/Commercial/Compass_Analysis_HALIFAX_MEDICAL_113712_202203.pptx?web=1' since it exceeds Excel's limit of 65,530 URLS per worksheet.\n",
      "  warn(\"Ignoring URL '%s' since it exceeds Excel's limit of \"\n",
      "C:\\Users\\phsheari\\.conda\\envs\\compass_env\\lib\\site-packages\\xlsxwriter\\worksheet.py:986: UserWarning: Ignoring URL 'https://cisco.sharepoint.com/:p:/r/sites/oneib/Shared%20Documents/Compass%20Operations/Compass%20PPTs/Americas/Commercial/Compass_Analysis_NORTHSIDE_HOSPI_114035_202203.pptx?web=1' since it exceeds Excel's limit of 65,530 URLS per worksheet.\n",
      "  warn(\"Ignoring URL '%s' since it exceeds Excel's limit of \"\n",
      "C:\\Users\\phsheari\\.conda\\envs\\compass_env\\lib\\site-packages\\xlsxwriter\\worksheet.py:986: UserWarning: Ignoring URL 'https://cisco.sharepoint.com/:p:/r/sites/oneib/Shared%20Documents/Compass%20Operations/Compass%20PPTs/Americas/Commercial/Compass_Analysis_SUMTER_ELECTRIC_114261_202203.pptx?web=1' since it exceeds Excel's limit of 65,530 URLS per worksheet.\n",
      "  warn(\"Ignoring URL '%s' since it exceeds Excel's limit of \"\n",
      "C:\\Users\\phsheari\\.conda\\envs\\compass_env\\lib\\site-packages\\xlsxwriter\\worksheet.py:986: UserWarning: Ignoring URL 'https://cisco.sharepoint.com/:p:/r/sites/oneib/Shared%20Documents/Compass%20Operations/Compass%20PPTs/Americas/Commercial/Compass_Analysis_TALLAHASSEE_MEM_114268_202203.pptx?web=1' since it exceeds Excel's limit of 65,530 URLS per worksheet.\n",
      "  warn(\"Ignoring URL '%s' since it exceeds Excel's limit of \"\n",
      "C:\\Users\\phsheari\\.conda\\envs\\compass_env\\lib\\site-packages\\xlsxwriter\\worksheet.py:986: UserWarning: Ignoring URL 'https://cisco.sharepoint.com/:p:/r/sites/oneib/Shared%20Documents/Compass%20Operations/Compass%20PPTs/Americas/Commercial/Compass_Analysis_TIFT_REGIONAL_M_114298_202203.pptx?web=1' since it exceeds Excel's limit of 65,530 URLS per worksheet.\n",
      "  warn(\"Ignoring URL '%s' since it exceeds Excel's limit of \"\n",
      "C:\\Users\\phsheari\\.conda\\envs\\compass_env\\lib\\site-packages\\xlsxwriter\\worksheet.py:986: UserWarning: Ignoring URL 'https://cisco.sharepoint.com/:p:/r/sites/oneib/Shared%20Documents/Compass%20Operations/Compass%20PPTs/Americas/Commercial/Compass_Analysis_SNELL__WILMER_114230_202203.pptx?web=1' since it exceeds Excel's limit of 65,530 URLS per worksheet.\n",
      "  warn(\"Ignoring URL '%s' since it exceeds Excel's limit of \"\n",
      "C:\\Users\\phsheari\\.conda\\envs\\compass_env\\lib\\site-packages\\xlsxwriter\\worksheet.py:986: UserWarning: Ignoring URL 'https://cisco.sharepoint.com/:p:/r/sites/oneib/Shared%20Documents/Compass%20Operations/Compass%20PPTs/Americas/Commercial/Compass_Analysis_TUCSON_ELECTRIC_114330_202203.pptx?web=1' since it exceeds Excel's limit of 65,530 URLS per worksheet.\n",
      "  warn(\"Ignoring URL '%s' since it exceeds Excel's limit of \"\n",
      "C:\\Users\\phsheari\\.conda\\envs\\compass_env\\lib\\site-packages\\xlsxwriter\\worksheet.py:986: UserWarning: Ignoring URL 'https://cisco.sharepoint.com/:p:/r/sites/oneib/Shared%20Documents/Compass%20Operations/Compass%20PPTs/Americas/Commercial/Compass_Analysis_TERADATA_114274_202203.pptx?web=1' since it exceeds Excel's limit of 65,530 URLS per worksheet.\n",
      "  warn(\"Ignoring URL '%s' since it exceeds Excel's limit of \"\n",
      "C:\\Users\\phsheari\\.conda\\envs\\compass_env\\lib\\site-packages\\xlsxwriter\\worksheet.py:986: UserWarning: Ignoring URL 'https://cisco.sharepoint.com/:p:/r/sites/oneib/Shared%20Documents/Compass%20Operations/Compass%20PPTs/Americas/Commercial/Compass_Analysis_THALES_AVIONICS_114277_202203.pptx?web=1' since it exceeds Excel's limit of 65,530 URLS per worksheet.\n",
      "  warn(\"Ignoring URL '%s' since it exceeds Excel's limit of \"\n",
      "C:\\Users\\phsheari\\.conda\\envs\\compass_env\\lib\\site-packages\\xlsxwriter\\worksheet.py:986: UserWarning: Ignoring URL 'https://cisco.sharepoint.com/:p:/r/sites/oneib/Shared%20Documents/Compass%20Operations/Compass%20PPTs/Americas/Commercial/Compass_Analysis_KINGS_HAWAIIAN__113821_202203.pptx?web=1' since it exceeds Excel's limit of 65,530 URLS per worksheet.\n",
      "  warn(\"Ignoring URL '%s' since it exceeds Excel's limit of \"\n",
      "C:\\Users\\phsheari\\.conda\\envs\\compass_env\\lib\\site-packages\\xlsxwriter\\worksheet.py:986: UserWarning: Ignoring URL 'https://cisco.sharepoint.com/:p:/r/sites/oneib/Shared%20Documents/Compass%20Operations/Compass%20PPTs/Americas/Commercial/Compass_Analysis_PORTS_AMERICA_114121_202203.pptx?web=1' since it exceeds Excel's limit of 65,530 URLS per worksheet.\n",
      "  warn(\"Ignoring URL '%s' since it exceeds Excel's limit of \"\n",
      "C:\\Users\\phsheari\\.conda\\envs\\compass_env\\lib\\site-packages\\xlsxwriter\\worksheet.py:986: UserWarning: Ignoring URL 'https://cisco.sharepoint.com/:p:/r/sites/oneib/Shared%20Documents/Compass%20Operations/Compass%20PPTs/Americas/Commercial/Compass_Analysis_AUTOLIV_ASP_INC_113344_202203.pptx?web=1' since it exceeds Excel's limit of 65,530 URLS per worksheet.\n",
      "  warn(\"Ignoring URL '%s' since it exceeds Excel's limit of \"\n",
      "C:\\Users\\phsheari\\.conda\\envs\\compass_env\\lib\\site-packages\\xlsxwriter\\worksheet.py:986: UserWarning: Ignoring URL 'https://cisco.sharepoint.com/:p:/r/sites/oneib/Shared%20Documents/Compass%20Operations/Compass%20PPTs/Americas/Commercial/Compass_Analysis_AUTOMOBILE_CLUB_113346_202203.pptx?web=1' since it exceeds Excel's limit of 65,530 URLS per worksheet.\n",
      "  warn(\"Ignoring URL '%s' since it exceeds Excel's limit of \"\n",
      "C:\\Users\\phsheari\\.conda\\envs\\compass_env\\lib\\site-packages\\xlsxwriter\\worksheet.py:986: UserWarning: Ignoring URL 'https://cisco.sharepoint.com/:p:/r/sites/oneib/Shared%20Documents/Compass%20Operations/Compass%20PPTs/Americas/Commercial/Compass_Analysis_CHOICE_HOTELS_I_113472_202203.pptx?web=1' since it exceeds Excel's limit of 65,530 URLS per worksheet.\n",
      "  warn(\"Ignoring URL '%s' since it exceeds Excel's limit of \"\n",
      "C:\\Users\\phsheari\\.conda\\envs\\compass_env\\lib\\site-packages\\xlsxwriter\\worksheet.py:986: UserWarning: Ignoring URL 'https://cisco.sharepoint.com/:p:/r/sites/oneib/Shared%20Documents/Compass%20Operations/Compass%20PPTs/Americas/Commercial/Compass_Analysis_VESTCOM_RETAIL__114371_202203.pptx?web=1' since it exceeds Excel's limit of 65,530 URLS per worksheet.\n",
      "  warn(\"Ignoring URL '%s' since it exceeds Excel's limit of \"\n",
      "C:\\Users\\phsheari\\.conda\\envs\\compass_env\\lib\\site-packages\\xlsxwriter\\worksheet.py:986: UserWarning: Ignoring URL 'https://cisco.sharepoint.com/:p:/r/sites/oneib/Shared%20Documents/Compass%20Operations/Compass%20PPTs/Americas/Commercial/Compass_Analysis_HOAG_MEMORIAL_H_113738_202203.pptx?web=1' since it exceeds Excel's limit of 65,530 URLS per worksheet.\n",
      "  warn(\"Ignoring URL '%s' since it exceeds Excel's limit of \"\n",
      "C:\\Users\\phsheari\\.conda\\envs\\compass_env\\lib\\site-packages\\xlsxwriter\\worksheet.py:986: UserWarning: Ignoring URL 'https://cisco.sharepoint.com/:p:/r/sites/oneib/Shared%20Documents/Compass%20Operations/Compass%20PPTs/Americas/Commercial/Compass_Analysis_LOGIX_FEDERAL_C_113874_202203.pptx?web=1' since it exceeds Excel's limit of 65,530 URLS per worksheet.\n",
      "  warn(\"Ignoring URL '%s' since it exceeds Excel's limit of \"\n",
      "C:\\Users\\phsheari\\.conda\\envs\\compass_env\\lib\\site-packages\\xlsxwriter\\worksheet.py:986: UserWarning: Ignoring URL 'https://cisco.sharepoint.com/:p:/r/sites/oneib/Shared%20Documents/Compass%20Operations/Compass%20PPTs/Americas/Commercial/Compass_Analysis_AMERIHOME_MORTG_113304_202203.pptx?web=1' since it exceeds Excel's limit of 65,530 URLS per worksheet.\n",
      "  warn(\"Ignoring URL '%s' since it exceeds Excel's limit of \"\n",
      "C:\\Users\\phsheari\\.conda\\envs\\compass_env\\lib\\site-packages\\xlsxwriter\\worksheet.py:986: UserWarning: Ignoring URL 'https://cisco.sharepoint.com/:p:/r/sites/oneib/Shared%20Documents/Compass%20Operations/Compass%20PPTs/Americas/Commercial/Compass_Analysis_CENTRAL_RESEARC_113455_202203.pptx?web=1' since it exceeds Excel's limit of 65,530 URLS per worksheet.\n",
      "  warn(\"Ignoring URL '%s' since it exceeds Excel's limit of \"\n",
      "C:\\Users\\phsheari\\.conda\\envs\\compass_env\\lib\\site-packages\\xlsxwriter\\worksheet.py:986: UserWarning: Ignoring URL 'https://cisco.sharepoint.com/:p:/r/sites/oneib/Shared%20Documents/Compass%20Operations/Compass%20PPTs/Americas/Commercial/Compass_Analysis_AIDS_HEALTHCARE_113273_202203.pptx?web=1' since it exceeds Excel's limit of 65,530 URLS per worksheet.\n",
      "  warn(\"Ignoring URL '%s' since it exceeds Excel's limit of \"\n",
      "C:\\Users\\phsheari\\.conda\\envs\\compass_env\\lib\\site-packages\\xlsxwriter\\worksheet.py:986: UserWarning: Ignoring URL 'https://cisco.sharepoint.com/:p:/r/sites/oneib/Shared%20Documents/Compass%20Operations/Compass%20PPTs/Americas/Commercial/Compass_Analysis_ALLIANCE_CREDIT_113287_202203.pptx?web=1' since it exceeds Excel's limit of 65,530 URLS per worksheet.\n",
      "  warn(\"Ignoring URL '%s' since it exceeds Excel's limit of \"\n",
      "C:\\Users\\phsheari\\.conda\\envs\\compass_env\\lib\\site-packages\\xlsxwriter\\worksheet.py:986: UserWarning: Ignoring URL 'https://cisco.sharepoint.com/:p:/r/sites/oneib/Shared%20Documents/Compass%20Operations/Compass%20PPTs/Americas/Commercial/Compass_Analysis_SAN_CARLOS_APAC_114175_202203.pptx?web=1' since it exceeds Excel's limit of 65,530 URLS per worksheet.\n",
      "  warn(\"Ignoring URL '%s' since it exceeds Excel's limit of \"\n",
      "C:\\Users\\phsheari\\.conda\\envs\\compass_env\\lib\\site-packages\\xlsxwriter\\worksheet.py:986: UserWarning: Ignoring URL 'https://cisco.sharepoint.com/:p:/r/sites/oneib/Shared%20Documents/Compass%20Operations/Compass%20PPTs/Americas/Commercial/Compass_Analysis_SENIOR_CARE_ACT_114205_202203.pptx?web=1' since it exceeds Excel's limit of 65,530 URLS per worksheet.\n",
      "  warn(\"Ignoring URL '%s' since it exceeds Excel's limit of \"\n",
      "C:\\Users\\phsheari\\.conda\\envs\\compass_env\\lib\\site-packages\\xlsxwriter\\worksheet.py:986: UserWarning: Ignoring URL 'https://cisco.sharepoint.com/:p:/r/sites/oneib/Shared%20Documents/Compass%20Operations/Compass%20PPTs/Americas/Commercial/Compass_Analysis_SHEPPARD_MULLIN_114211_202203.pptx?web=1' since it exceeds Excel's limit of 65,530 URLS per worksheet.\n",
      "  warn(\"Ignoring URL '%s' since it exceeds Excel's limit of \"\n",
      "C:\\Users\\phsheari\\.conda\\envs\\compass_env\\lib\\site-packages\\xlsxwriter\\worksheet.py:986: UserWarning: Ignoring URL 'https://cisco.sharepoint.com/:p:/r/sites/oneib/Shared%20Documents/Compass%20Operations/Compass%20PPTs/Americas/Commercial/Compass_Analysis_SUSMAN_GODFREY_114264_202203.pptx?web=1' since it exceeds Excel's limit of 65,530 URLS per worksheet.\n",
      "  warn(\"Ignoring URL '%s' since it exceeds Excel's limit of \"\n",
      "C:\\Users\\phsheari\\.conda\\envs\\compass_env\\lib\\site-packages\\xlsxwriter\\worksheet.py:986: UserWarning: Ignoring URL 'https://cisco.sharepoint.com/:p:/r/sites/oneib/Shared%20Documents/Compass%20Operations/Compass%20PPTs/Americas/Commercial/Compass_Analysis_TOOLFLO_MANUFAC_114313_202203.pptx?web=1' since it exceeds Excel's limit of 65,530 URLS per worksheet.\n",
      "  warn(\"Ignoring URL '%s' since it exceeds Excel's limit of \"\n",
      "C:\\Users\\phsheari\\.conda\\envs\\compass_env\\lib\\site-packages\\xlsxwriter\\worksheet.py:986: UserWarning: Ignoring URL 'https://cisco.sharepoint.com/:p:/r/sites/oneib/Shared%20Documents/Compass%20Operations/Compass%20PPTs/Americas/Commercial/Compass_Analysis_MONTROSE_MEMORI_113968_202203.pptx?web=1' since it exceeds Excel's limit of 65,530 URLS per worksheet.\n",
      "  warn(\"Ignoring URL '%s' since it exceeds Excel's limit of \"\n",
      "C:\\Users\\phsheari\\.conda\\envs\\compass_env\\lib\\site-packages\\xlsxwriter\\worksheet.py:986: UserWarning: Ignoring URL 'https://cisco.sharepoint.com/:p:/r/sites/oneib/Shared%20Documents/Compass%20Operations/Compass%20PPTs/Americas/Commercial/Compass_Analysis_MOODY_NATIONAL__113969_202203.pptx?web=1' since it exceeds Excel's limit of 65,530 URLS per worksheet.\n",
      "  warn(\"Ignoring URL '%s' since it exceeds Excel's limit of \"\n",
      "C:\\Users\\phsheari\\.conda\\envs\\compass_env\\lib\\site-packages\\xlsxwriter\\worksheet.py:986: UserWarning: Ignoring URL 'https://cisco.sharepoint.com/:p:/r/sites/oneib/Shared%20Documents/Compass%20Operations/Compass%20PPTs/Americas/Commercial/Compass_Analysis_MUNSCH_HARDT_KO_113987_202203.pptx?web=1' since it exceeds Excel's limit of 65,530 URLS per worksheet.\n",
      "  warn(\"Ignoring URL '%s' since it exceeds Excel's limit of \"\n",
      "C:\\Users\\phsheari\\.conda\\envs\\compass_env\\lib\\site-packages\\xlsxwriter\\worksheet.py:986: UserWarning: Ignoring URL 'https://cisco.sharepoint.com/:p:/r/sites/oneib/Shared%20Documents/Compass%20Operations/Compass%20PPTs/Americas/Commercial/Compass_Analysis_NAUTILUS_HYOSUN_113995_202203.pptx?web=1' since it exceeds Excel's limit of 65,530 URLS per worksheet.\n",
      "  warn(\"Ignoring URL '%s' since it exceeds Excel's limit of \"\n",
      "C:\\Users\\phsheari\\.conda\\envs\\compass_env\\lib\\site-packages\\xlsxwriter\\worksheet.py:986: UserWarning: Ignoring URL 'https://cisco.sharepoint.com/:p:/r/sites/oneib/Shared%20Documents/Compass%20Operations/Compass%20PPTs/Americas/Commercial/Compass_Analysis_HARD_ROCK_HOTEL_113717_202203.pptx?web=1' since it exceeds Excel's limit of 65,530 URLS per worksheet.\n",
      "  warn(\"Ignoring URL '%s' since it exceeds Excel's limit of \"\n",
      "C:\\Users\\phsheari\\.conda\\envs\\compass_env\\lib\\site-packages\\xlsxwriter\\worksheet.py:986: UserWarning: Ignoring URL 'https://cisco.sharepoint.com/:p:/r/sites/oneib/Shared%20Documents/Compass%20Operations/Compass%20PPTs/Americas/Commercial/Compass_Analysis_HEALTHSMART_PRE_113724_202203.pptx?web=1' since it exceeds Excel's limit of 65,530 URLS per worksheet.\n",
      "  warn(\"Ignoring URL '%s' since it exceeds Excel's limit of \"\n",
      "C:\\Users\\phsheari\\.conda\\envs\\compass_env\\lib\\site-packages\\xlsxwriter\\worksheet.py:986: UserWarning: Ignoring URL 'https://cisco.sharepoint.com/:p:/r/sites/oneib/Shared%20Documents/Compass%20Operations/Compass%20PPTs/Americas/Commercial/Compass_Analysis_IPRO_TECH_113798_202203.pptx?web=1' since it exceeds Excel's limit of 65,530 URLS per worksheet.\n",
      "  warn(\"Ignoring URL '%s' since it exceeds Excel's limit of \"\n",
      "C:\\Users\\phsheari\\.conda\\envs\\compass_env\\lib\\site-packages\\xlsxwriter\\worksheet.py:986: UserWarning: Ignoring URL 'https://cisco.sharepoint.com/:p:/r/sites/oneib/Shared%20Documents/Compass%20Operations/Compass%20PPTs/Americas/Commercial/Compass_Analysis_LIFELONG_MEDICA_113864_202203.pptx?web=1' since it exceeds Excel's limit of 65,530 URLS per worksheet.\n",
      "  warn(\"Ignoring URL '%s' since it exceeds Excel's limit of \"\n",
      "C:\\Users\\phsheari\\.conda\\envs\\compass_env\\lib\\site-packages\\xlsxwriter\\worksheet.py:986: UserWarning: Ignoring URL 'https://cisco.sharepoint.com/:p:/r/sites/oneib/Shared%20Documents/Compass%20Operations/Compass%20PPTs/Americas/Commercial/Compass_Analysis_OPUS_ONE_WINERY_114077_202203.pptx?web=1' since it exceeds Excel's limit of 65,530 URLS per worksheet.\n",
      "  warn(\"Ignoring URL '%s' since it exceeds Excel's limit of \"\n",
      "C:\\Users\\phsheari\\.conda\\envs\\compass_env\\lib\\site-packages\\xlsxwriter\\worksheet.py:986: UserWarning: Ignoring URL 'https://cisco.sharepoint.com/:p:/r/sites/oneib/Shared%20Documents/Compass%20Operations/Compass%20PPTs/Americas/Commercial/Compass_Analysis_QUINN_EMANUEL_U_114136_202203.pptx?web=1' since it exceeds Excel's limit of 65,530 URLS per worksheet.\n",
      "  warn(\"Ignoring URL '%s' since it exceeds Excel's limit of \"\n",
      "C:\\Users\\phsheari\\.conda\\envs\\compass_env\\lib\\site-packages\\xlsxwriter\\worksheet.py:986: UserWarning: Ignoring URL 'https://cisco.sharepoint.com/:p:/r/sites/oneib/Shared%20Documents/Compass%20Operations/Compass%20PPTs/Americas/Commercial/Compass_Analysis_FORT_SILL_APACH_113642_202203.pptx?web=1' since it exceeds Excel's limit of 65,530 URLS per worksheet.\n",
      "  warn(\"Ignoring URL '%s' since it exceeds Excel's limit of \"\n",
      "C:\\Users\\phsheari\\.conda\\envs\\compass_env\\lib\\site-packages\\xlsxwriter\\worksheet.py:986: UserWarning: Ignoring URL 'https://cisco.sharepoint.com/:p:/r/sites/oneib/Shared%20Documents/Compass%20Operations/Compass%20PPTs/Americas/Commercial/Compass_Analysis_G__A_PARTNERS_113654_202203.pptx?web=1' since it exceeds Excel's limit of 65,530 URLS per worksheet.\n",
      "  warn(\"Ignoring URL '%s' since it exceeds Excel's limit of \"\n",
      "C:\\Users\\phsheari\\.conda\\envs\\compass_env\\lib\\site-packages\\xlsxwriter\\worksheet.py:986: UserWarning: Ignoring URL 'https://cisco.sharepoint.com/:p:/r/sites/oneib/Shared%20Documents/Compass%20Operations/Compass%20PPTs/Americas/Commercial/Compass_Analysis_GERMANIA_INSURA_113671_202203.pptx?web=1' since it exceeds Excel's limit of 65,530 URLS per worksheet.\n",
      "  warn(\"Ignoring URL '%s' since it exceeds Excel's limit of \"\n",
      "C:\\Users\\phsheari\\.conda\\envs\\compass_env\\lib\\site-packages\\xlsxwriter\\worksheet.py:986: UserWarning: Ignoring URL 'https://cisco.sharepoint.com/:p:/r/sites/ONEIB/Shared%20Documents/Compass%20Operations/Compass%20PPTs/Americas/Commercial/Compass_Analysis_HANSON_BRIDGETT_111764_202201.pptx?d=wee980ef45b784dfbac9846dd4494130f&csf=1&web=1&e=61qTy4' since it exceeds Excel's limit of 65,530 URLS per worksheet.\n",
      "  warn(\"Ignoring URL '%s' since it exceeds Excel's limit of \"\n",
      "C:\\Users\\phsheari\\.conda\\envs\\compass_env\\lib\\site-packages\\xlsxwriter\\worksheet.py:986: UserWarning: Ignoring URL 'https://cisco.sharepoint.com/:p:/r/sites/oneib/Shared%20Documents/Compass%20Operations/Compass%20PPTs/Americas/Commercial/Compass_Analysis_ST_MARY_LAND_AN_112289_202202.pptx?web=1' since it exceeds Excel's limit of 65,530 URLS per worksheet.\n",
      "  warn(\"Ignoring URL '%s' since it exceeds Excel's limit of \"\n",
      "C:\\Users\\phsheari\\.conda\\envs\\compass_env\\lib\\site-packages\\xlsxwriter\\worksheet.py:986: UserWarning: Ignoring URL 'https://cisco.sharepoint.com/:p:/r/sites/oneib/Shared%20Documents/Compass%20Operations/Compass%20PPTs/Americas/Commercial/Compass_Analysis_NORTHWESTERN_EN_112288_202202.pptx?web=1' since it exceeds Excel's limit of 65,530 URLS per worksheet.\n",
      "  warn(\"Ignoring URL '%s' since it exceeds Excel's limit of \"\n",
      "C:\\Users\\phsheari\\.conda\\envs\\compass_env\\lib\\site-packages\\xlsxwriter\\worksheet.py:986: UserWarning: Ignoring URL 'https://cisco.sharepoint.com/:p:/r/sites/oneib/Shared%20Documents/Compass%20Operations/Compass%20PPTs/Americas/Commercial/Compass_Analysis_ITRON_INC_112150_202202.pptx?web=1' since it exceeds Excel's limit of 65,530 URLS per worksheet.\n",
      "  warn(\"Ignoring URL '%s' since it exceeds Excel's limit of \"\n",
      "C:\\Users\\phsheari\\.conda\\envs\\compass_env\\lib\\site-packages\\xlsxwriter\\worksheet.py:986: UserWarning: Ignoring URL 'https://cisco.sharepoint.com/:p:/r/sites/oneib/Shared%20Documents/Compass%20Operations/Compass%20PPTs/Americas/Commercial/Compass_Analysis_AVISTA_112151_202202.pptx?web=1' since it exceeds Excel's limit of 65,530 URLS per worksheet.\n",
      "  warn(\"Ignoring URL '%s' since it exceeds Excel's limit of \"\n",
      "C:\\Users\\phsheari\\.conda\\envs\\compass_env\\lib\\site-packages\\xlsxwriter\\worksheet.py:986: UserWarning: Ignoring URL 'https://cisco.sharepoint.com/:p:/r/sites/oneib/Shared%20Documents/Compass%20Operations/Compass%20PPTs/Americas/Commercial/Compass_Analysis_SYNNEX_CORPORAT_112156_202202.pptx?web=1' since it exceeds Excel's limit of 65,530 URLS per worksheet.\n",
      "  warn(\"Ignoring URL '%s' since it exceeds Excel's limit of \"\n",
      "C:\\Users\\phsheari\\.conda\\envs\\compass_env\\lib\\site-packages\\xlsxwriter\\worksheet.py:986: UserWarning: Ignoring URL 'https://cisco.sharepoint.com/:p:/r/sites/oneib/Shared%20Documents/Compass%20Operations/Compass%20PPTs/Americas/Commercial/Compass_Analysis_BILLCOM_113378_202203.pptx?web=1' since it exceeds Excel's limit of 65,530 URLS per worksheet.\n",
      "  warn(\"Ignoring URL '%s' since it exceeds Excel's limit of \"\n",
      "C:\\Users\\phsheari\\.conda\\envs\\compass_env\\lib\\site-packages\\xlsxwriter\\worksheet.py:986: UserWarning: Ignoring URL 'https://cisco.sharepoint.com/:p:/r/sites/oneib/Shared%20Documents/Compass%20Operations/Compass%20PPTs/Americas/Commercial/Compass_Analysis_COLORADO_STATE__113496_202203.pptx?web=1' since it exceeds Excel's limit of 65,530 URLS per worksheet.\n",
      "  warn(\"Ignoring URL '%s' since it exceeds Excel's limit of \"\n",
      "C:\\Users\\phsheari\\.conda\\envs\\compass_env\\lib\\site-packages\\xlsxwriter\\worksheet.py:986: UserWarning: Ignoring URL 'https://cisco.sharepoint.com/:p:/r/sites/oneib/Shared%20Documents/Compass%20Operations/Compass%20PPTs/Americas/Commercial/Compass_Analysis_COLUMBIA_BASIN__113497_202203.pptx?web=1' since it exceeds Excel's limit of 65,530 URLS per worksheet.\n",
      "  warn(\"Ignoring URL '%s' since it exceeds Excel's limit of \"\n",
      "C:\\Users\\phsheari\\.conda\\envs\\compass_env\\lib\\site-packages\\xlsxwriter\\worksheet.py:986: UserWarning: Ignoring URL 'https://cisco.sharepoint.com/:p:/r/sites/oneib/Shared%20Documents/Compass%20Operations/Compass%20PPTs/Americas/Commercial/Compass_Analysis_CORNERSTONE_RES_113517_202203.pptx?web=1' since it exceeds Excel's limit of 65,530 URLS per worksheet.\n",
      "  warn(\"Ignoring URL '%s' since it exceeds Excel's limit of \"\n",
      "C:\\Users\\phsheari\\.conda\\envs\\compass_env\\lib\\site-packages\\xlsxwriter\\worksheet.py:986: UserWarning: Ignoring URL 'https://cisco.sharepoint.com/:p:/r/sites/oneib/Shared%20Documents/Compass%20Operations/Compass%20PPTs/Americas/Commercial/Compass_Analysis_DOLBY_LABORATOR_113563_202203.pptx?web=1' since it exceeds Excel's limit of 65,530 URLS per worksheet.\n",
      "  warn(\"Ignoring URL '%s' since it exceeds Excel's limit of \"\n",
      "C:\\Users\\phsheari\\.conda\\envs\\compass_env\\lib\\site-packages\\xlsxwriter\\worksheet.py:986: UserWarning: Ignoring URL 'https://cisco.sharepoint.com/:p:/r/sites/oneib/Shared%20Documents/Compass%20Operations/Compass%20PPTs/Americas/Commercial/Compass_Analysis_HOLY_CROSS_ELEC_113744_202203.pptx?web=1' since it exceeds Excel's limit of 65,530 URLS per worksheet.\n",
      "  warn(\"Ignoring URL '%s' since it exceeds Excel's limit of \"\n",
      "C:\\Users\\phsheari\\.conda\\envs\\compass_env\\lib\\site-packages\\xlsxwriter\\worksheet.py:986: UserWarning: Ignoring URL 'https://cisco.sharepoint.com/:p:/r/sites/oneib/Shared%20Documents/Compass%20Operations/Compass%20PPTs/Americas/Commercial/Compass_Analysis_SIERRA_NEVADA_B_114216_202203.pptx?web=1' since it exceeds Excel's limit of 65,530 URLS per worksheet.\n",
      "  warn(\"Ignoring URL '%s' since it exceeds Excel's limit of \"\n",
      "C:\\Users\\phsheari\\.conda\\envs\\compass_env\\lib\\site-packages\\xlsxwriter\\worksheet.py:986: UserWarning: Ignoring URL 'https://cisco.sharepoint.com/:p:/r/sites/oneib/Shared%20Documents/Compass%20Operations/Compass%20PPTs/Americas/Commercial/Compass_Analysis_TRANSMONTAIGNE__114320_202203.pptx?web=1' since it exceeds Excel's limit of 65,530 URLS per worksheet.\n",
      "  warn(\"Ignoring URL '%s' since it exceeds Excel's limit of \"\n",
      "C:\\Users\\phsheari\\.conda\\envs\\compass_env\\lib\\site-packages\\xlsxwriter\\worksheet.py:986: UserWarning: Ignoring URL 'https://cisco.sharepoint.com/:p:/r/sites/oneib/Shared%20Documents/Compass%20Operations/Compass%20PPTs/Americas/Commercial/Compass_Analysis_BENEFIS_HEALTH__113372_202203.pptx?web=1' since it exceeds Excel's limit of 65,530 URLS per worksheet.\n",
      "  warn(\"Ignoring URL '%s' since it exceeds Excel's limit of \"\n",
      "C:\\Users\\phsheari\\.conda\\envs\\compass_env\\lib\\site-packages\\xlsxwriter\\worksheet.py:986: UserWarning: Ignoring URL 'https://cisco.sharepoint.com/:p:/r/sites/oneib/Shared%20Documents/Compass%20Operations/Compass%20PPTs/Americas/Commercial/Compass_Analysis_CADENCE_113411_202203.pptx?web=1' since it exceeds Excel's limit of 65,530 URLS per worksheet.\n",
      "  warn(\"Ignoring URL '%s' since it exceeds Excel's limit of \"\n",
      "C:\\Users\\phsheari\\.conda\\envs\\compass_env\\lib\\site-packages\\xlsxwriter\\worksheet.py:986: UserWarning: Ignoring URL 'https://cisco.sharepoint.com/:p:/r/sites/oneib/Shared%20Documents/Compass%20Operations/Compass%20PPTs/Americas/Commercial/Compass_Analysis_D_A_DAVIDSON__C_113542_202203.pptx?web=1' since it exceeds Excel's limit of 65,530 URLS per worksheet.\n",
      "  warn(\"Ignoring URL '%s' since it exceeds Excel's limit of \"\n",
      "C:\\Users\\phsheari\\.conda\\envs\\compass_env\\lib\\site-packages\\xlsxwriter\\worksheet.py:986: UserWarning: Ignoring URL 'https://cisco.sharepoint.com/:p:/r/sites/oneib/Shared%20Documents/Compass%20Operations/Compass%20PPTs/Americas/Commercial/Compass_Analysis_DENVER_BRONCOS_113556_202203.pptx?web=1' since it exceeds Excel's limit of 65,530 URLS per worksheet.\n",
      "  warn(\"Ignoring URL '%s' since it exceeds Excel's limit of \"\n",
      "C:\\Users\\phsheari\\.conda\\envs\\compass_env\\lib\\site-packages\\xlsxwriter\\worksheet.py:986: UserWarning: Ignoring URL 'https://cisco.sharepoint.com/:p:/r/sites/oneib/Shared%20Documents/Compass%20Operations/Compass%20PPTs/Americas/Commercial/Compass_Analysis_GIGAMON_SYSTEMS_113672_202203.pptx?web=1' since it exceeds Excel's limit of 65,530 URLS per worksheet.\n",
      "  warn(\"Ignoring URL '%s' since it exceeds Excel's limit of \"\n",
      "C:\\Users\\phsheari\\.conda\\envs\\compass_env\\lib\\site-packages\\xlsxwriter\\worksheet.py:986: UserWarning: Ignoring URL 'https://cisco.sharepoint.com/:p:/r/sites/oneib/Shared%20Documents/Compass%20Operations/Compass%20PPTs/Americas/Commercial/Compass_Analysis_GOLDEN_1_CREDIT_113686_202203.pptx?web=1' since it exceeds Excel's limit of 65,530 URLS per worksheet.\n",
      "  warn(\"Ignoring URL '%s' since it exceeds Excel's limit of \"\n",
      "C:\\Users\\phsheari\\.conda\\envs\\compass_env\\lib\\site-packages\\xlsxwriter\\worksheet.py:986: UserWarning: Ignoring URL 'https://cisco.sharepoint.com/:p:/r/sites/oneib/Shared%20Documents/Compass%20Operations/Compass%20PPTs/Americas/Commercial/Compass_Analysis_GUIDEWIRE_SOFTW_113708_202203.pptx?web=1' since it exceeds Excel's limit of 65,530 URLS per worksheet.\n",
      "  warn(\"Ignoring URL '%s' since it exceeds Excel's limit of \"\n",
      "C:\\Users\\phsheari\\.conda\\envs\\compass_env\\lib\\site-packages\\xlsxwriter\\worksheet.py:986: UserWarning: Ignoring URL 'https://cisco.sharepoint.com/:p:/r/sites/oneib/Shared%20Documents/Compass%20Operations/Compass%20PPTs/Americas/Commercial/Compass_Analysis_INTUITIVE_SURGI_113796_202203.pptx?web=1' since it exceeds Excel's limit of 65,530 URLS per worksheet.\n",
      "  warn(\"Ignoring URL '%s' since it exceeds Excel's limit of \"\n",
      "C:\\Users\\phsheari\\.conda\\envs\\compass_env\\lib\\site-packages\\xlsxwriter\\worksheet.py:986: UserWarning: Ignoring URL 'https://cisco.sharepoint.com/:p:/r/sites/oneib/Shared%20Documents/Compass%20Operations/Compass%20PPTs/Americas/Commercial/Compass_Analysis_MONOLITHIC_POWE_113967_202203.pptx?web=1' since it exceeds Excel's limit of 65,530 URLS per worksheet.\n",
      "  warn(\"Ignoring URL '%s' since it exceeds Excel's limit of \"\n",
      "C:\\Users\\phsheari\\.conda\\envs\\compass_env\\lib\\site-packages\\xlsxwriter\\worksheet.py:986: UserWarning: Ignoring URL 'https://cisco.sharepoint.com/:p:/r/sites/oneib/Shared%20Documents/Compass%20Operations/Compass%20PPTs/Americas/Commercial/Compass_Analysis_PYROTEK_114133_202203.pptx?web=1' since it exceeds Excel's limit of 65,530 URLS per worksheet.\n",
      "  warn(\"Ignoring URL '%s' since it exceeds Excel's limit of \"\n",
      "C:\\Users\\phsheari\\.conda\\envs\\compass_env\\lib\\site-packages\\xlsxwriter\\worksheet.py:986: UserWarning: Ignoring URL 'https://cisco.sharepoint.com/:p:/r/sites/oneib/Shared%20Documents/Compass%20Operations/Compass%20PPTs/Americas/Commercial/Compass_Analysis_TRICO_BANKSHARE_114322_202203.pptx?web=1' since it exceeds Excel's limit of 65,530 URLS per worksheet.\n",
      "  warn(\"Ignoring URL '%s' since it exceeds Excel's limit of \"\n",
      "C:\\Users\\phsheari\\.conda\\envs\\compass_env\\lib\\site-packages\\xlsxwriter\\worksheet.py:986: UserWarning: Ignoring URL 'https://cisco.sharepoint.com/:p:/r/sites/oneib/Shared%20Documents/Compass%20Operations/Compass%20PPTs/Americas/Commercial/Compass_Analysis_ADVANTEST_AMERI_113265_202203.pptx?web=1' since it exceeds Excel's limit of 65,530 URLS per worksheet.\n",
      "  warn(\"Ignoring URL '%s' since it exceeds Excel's limit of \"\n",
      "C:\\Users\\phsheari\\.conda\\envs\\compass_env\\lib\\site-packages\\xlsxwriter\\worksheet.py:986: UserWarning: Ignoring URL 'https://cisco.sharepoint.com/:p:/r/sites/oneib/Shared%20Documents/Compass%20Operations/Compass%20PPTs/Americas/Commercial/Compass_Analysis_ALASKA_RAILROAD_113281_202203.pptx?web=1' since it exceeds Excel's limit of 65,530 URLS per worksheet.\n",
      "  warn(\"Ignoring URL '%s' since it exceeds Excel's limit of \"\n",
      "C:\\Users\\phsheari\\.conda\\envs\\compass_env\\lib\\site-packages\\xlsxwriter\\worksheet.py:986: UserWarning: Ignoring URL 'https://cisco.sharepoint.com/:p:/r/sites/oneib/Shared%20Documents/Compass%20Operations/Compass%20PPTs/Americas/Commercial/Compass_Analysis_ANAPLAN_113312_202203.pptx?web=1' since it exceeds Excel's limit of 65,530 URLS per worksheet.\n",
      "  warn(\"Ignoring URL '%s' since it exceeds Excel's limit of \"\n",
      "C:\\Users\\phsheari\\.conda\\envs\\compass_env\\lib\\site-packages\\xlsxwriter\\worksheet.py:986: UserWarning: Ignoring URL 'https://cisco.sharepoint.com/:p:/r/sites/oneib/Shared%20Documents/Compass%20Operations/Compass%20PPTs/Americas/Commercial/Compass_Analysis_ASPIRE_BAKERIES_113336_202203.pptx?web=1' since it exceeds Excel's limit of 65,530 URLS per worksheet.\n",
      "  warn(\"Ignoring URL '%s' since it exceeds Excel's limit of \"\n",
      "C:\\Users\\phsheari\\.conda\\envs\\compass_env\\lib\\site-packages\\xlsxwriter\\worksheet.py:986: UserWarning: Ignoring URL 'https://cisco.sharepoint.com/:p:/r/sites/oneib/Shared%20Documents/Compass%20Operations/Compass%20PPTs/Americas/Commercial/Compass_Analysis_CHUGACH_ELECTRI_113475_202203.pptx?web=1' since it exceeds Excel's limit of 65,530 URLS per worksheet.\n",
      "  warn(\"Ignoring URL '%s' since it exceeds Excel's limit of \"\n",
      "C:\\Users\\phsheari\\.conda\\envs\\compass_env\\lib\\site-packages\\xlsxwriter\\worksheet.py:986: UserWarning: Ignoring URL 'https://cisco.sharepoint.com/:p:/r/sites/oneib/Shared%20Documents/Compass%20Operations/Compass%20PPTs/Americas/Commercial/Compass_Analysis_DODGE__COX_113562_202203.pptx?web=1' since it exceeds Excel's limit of 65,530 URLS per worksheet.\n",
      "  warn(\"Ignoring URL '%s' since it exceeds Excel's limit of \"\n",
      "C:\\Users\\phsheari\\.conda\\envs\\compass_env\\lib\\site-packages\\xlsxwriter\\worksheet.py:986: UserWarning: Ignoring URL 'https://cisco.sharepoint.com/:p:/r/sites/oneib/Shared%20Documents/Compass%20Operations/Compass%20PPTs/Americas/Commercial/Compass_Analysis_FORTIVE_113643_202203.pptx?web=1' since it exceeds Excel's limit of 65,530 URLS per worksheet.\n",
      "  warn(\"Ignoring URL '%s' since it exceeds Excel's limit of \"\n",
      "C:\\Users\\phsheari\\.conda\\envs\\compass_env\\lib\\site-packages\\xlsxwriter\\worksheet.py:986: UserWarning: Ignoring URL 'https://cisco.sharepoint.com/:p:/r/sites/oneib/Shared%20Documents/Compass%20Operations/Compass%20PPTs/Americas/Commercial/Compass_Analysis_MULVANNYG2_ARCH_113983_202203.pptx?web=1' since it exceeds Excel's limit of 65,530 URLS per worksheet.\n",
      "  warn(\"Ignoring URL '%s' since it exceeds Excel's limit of \"\n",
      "C:\\Users\\phsheari\\.conda\\envs\\compass_env\\lib\\site-packages\\xlsxwriter\\worksheet.py:986: UserWarning: Ignoring URL 'https://cisco.sharepoint.com/:p:/r/sites/oneib/Shared%20Documents/Compass%20Operations/Compass%20PPTs/Americas/Commercial/Compass_Analysis_LEGACY_HEALTH_S_113853_202203.pptx?web=1' since it exceeds Excel's limit of 65,530 URLS per worksheet.\n",
      "  warn(\"Ignoring URL '%s' since it exceeds Excel's limit of \"\n",
      "C:\\Users\\phsheari\\.conda\\envs\\compass_env\\lib\\site-packages\\xlsxwriter\\worksheet.py:986: UserWarning: Ignoring URL 'https://cisco.sharepoint.com/:p:/r/sites/oneib/Shared%20Documents/Compass%20Operations/Compass%20PPTs/Americas/Commercial/Compass_Analysis_MADERA_COMMUNIT_113886_202203.pptx?web=1' since it exceeds Excel's limit of 65,530 URLS per worksheet.\n",
      "  warn(\"Ignoring URL '%s' since it exceeds Excel's limit of \"\n",
      "C:\\Users\\phsheari\\.conda\\envs\\compass_env\\lib\\site-packages\\xlsxwriter\\worksheet.py:986: UserWarning: Ignoring URL 'https://cisco.sharepoint.com/:p:/r/sites/oneib/Shared%20Documents/Compass%20Operations/Compass%20PPTs/Americas/Commercial/Compass_Analysis_MARCUS__MILLICH_113892_202203.pptx?web=1' since it exceeds Excel's limit of 65,530 URLS per worksheet.\n",
      "  warn(\"Ignoring URL '%s' since it exceeds Excel's limit of \"\n",
      "C:\\Users\\phsheari\\.conda\\envs\\compass_env\\lib\\site-packages\\xlsxwriter\\worksheet.py:986: UserWarning: Ignoring URL 'https://cisco.sharepoint.com/:p:/r/sites/oneib/Shared%20Documents/Compass%20Operations/Compass%20PPTs/Americas/Commercial/Compass_Analysis_MCGRATH_RENTCOR_113908_202203.pptx?web=1' since it exceeds Excel's limit of 65,530 URLS per worksheet.\n",
      "  warn(\"Ignoring URL '%s' since it exceeds Excel's limit of \"\n",
      "C:\\Users\\phsheari\\.conda\\envs\\compass_env\\lib\\site-packages\\xlsxwriter\\worksheet.py:986: UserWarning: Ignoring URL 'https://cisco.sharepoint.com/:p:/r/sites/oneib/Shared%20Documents/Compass%20Operations/Compass%20PPTs/Americas/Commercial/Compass_Analysis_NORTHWEST_KIDNE_114037_202203.pptx?web=1' since it exceeds Excel's limit of 65,530 URLS per worksheet.\n",
      "  warn(\"Ignoring URL '%s' since it exceeds Excel's limit of \"\n",
      "C:\\Users\\phsheari\\.conda\\envs\\compass_env\\lib\\site-packages\\xlsxwriter\\worksheet.py:986: UserWarning: Ignoring URL 'https://cisco.sharepoint.com/:p:/r/sites/oneib/Shared%20Documents/Compass%20Operations/Compass%20PPTs/Americas/Commercial/Compass_Analysis_POKEMON_USA_INC_114118_202203.pptx?web=1' since it exceeds Excel's limit of 65,530 URLS per worksheet.\n",
      "  warn(\"Ignoring URL '%s' since it exceeds Excel's limit of \"\n",
      "C:\\Users\\phsheari\\.conda\\envs\\compass_env\\lib\\site-packages\\xlsxwriter\\worksheet.py:986: UserWarning: Ignoring URL 'https://cisco.sharepoint.com/:p:/r/sites/oneib/Shared%20Documents/Compass%20Operations/Compass%20PPTs/Americas/Commercial/Compass_Analysis_STOEL_RIVES_LLP_114254_202203.pptx?web=1' since it exceeds Excel's limit of 65,530 URLS per worksheet.\n",
      "  warn(\"Ignoring URL '%s' since it exceeds Excel's limit of \"\n",
      "C:\\Users\\phsheari\\.conda\\envs\\compass_env\\lib\\site-packages\\xlsxwriter\\worksheet.py:986: UserWarning: Ignoring URL 'https://cisco.sharepoint.com/:p:/r/sites/oneib/Shared%20Documents/Compass%20Operations/Compass%20PPTs/Americas/Commercial/Compass_Analysis_HANSON_BRIDGETT_113715_202203.pptx?web=1' since it exceeds Excel's limit of 65,530 URLS per worksheet.\n",
      "  warn(\"Ignoring URL '%s' since it exceeds Excel's limit of \"\n",
      "C:\\Users\\phsheari\\.conda\\envs\\compass_env\\lib\\site-packages\\xlsxwriter\\worksheet.py:986: UserWarning: Ignoring URL 'https://cisco.sharepoint.com/:p:/r/sites/oneib/Shared%20Documents/Compass%20Operations/Compass%20PPTs/Americas/Commercial/Compass_Analysis_HEALTH_PLAN_OF__113722_202203.pptx?web=1' since it exceeds Excel's limit of 65,530 URLS per worksheet.\n",
      "  warn(\"Ignoring URL '%s' since it exceeds Excel's limit of \"\n",
      "C:\\Users\\phsheari\\.conda\\envs\\compass_env\\lib\\site-packages\\xlsxwriter\\worksheet.py:986: UserWarning: Ignoring URL 'https://cisco.sharepoint.com/:p:/r/sites/oneib/Shared%20Documents/Compass%20Operations/Compass%20PPTs/Americas/Commercial/Compass_Analysis_ELLIE_MAE_INC_113587_202203.pptx?web=1' since it exceeds Excel's limit of 65,530 URLS per worksheet.\n",
      "  warn(\"Ignoring URL '%s' since it exceeds Excel's limit of \"\n",
      "C:\\Users\\phsheari\\.conda\\envs\\compass_env\\lib\\site-packages\\xlsxwriter\\worksheet.py:986: UserWarning: Ignoring URL 'https://cisco.sharepoint.com/:p:/r/sites/oneib/Shared%20Documents/Compass%20Operations/Compass%20PPTs/Americas/Commercial/Compass_Analysis_OPERATING_ENGIN_114075_202203.pptx?web=1' since it exceeds Excel's limit of 65,530 URLS per worksheet.\n",
      "  warn(\"Ignoring URL '%s' since it exceeds Excel's limit of \"\n",
      "C:\\Users\\phsheari\\.conda\\envs\\compass_env\\lib\\site-packages\\xlsxwriter\\worksheet.py:986: UserWarning: Ignoring URL 'https://cisco.sharepoint.com/:p:/r/sites/oneib/Shared%20Documents/Compass%20Operations/Compass%20PPTs/Americas/Commercial/Compass_Analysis_PATELCO_CREDIT__114093_202203.pptx?web=1' since it exceeds Excel's limit of 65,530 URLS per worksheet.\n",
      "  warn(\"Ignoring URL '%s' since it exceeds Excel's limit of \"\n",
      "C:\\Users\\phsheari\\.conda\\envs\\compass_env\\lib\\site-packages\\xlsxwriter\\worksheet.py:986: UserWarning: Ignoring URL 'https://cisco.sharepoint.com/:p:/r/sites/oneib/Shared%20Documents/Compass%20Operations/Compass%20PPTs/Americas/Commercial/Compass_Analysis_GOLDEN_VALLEY_H_113687_202203.pptx?web=1' since it exceeds Excel's limit of 65,530 URLS per worksheet.\n",
      "  warn(\"Ignoring URL '%s' since it exceeds Excel's limit of \"\n",
      "C:\\Users\\phsheari\\.conda\\envs\\compass_env\\lib\\site-packages\\xlsxwriter\\worksheet.py:986: UserWarning: Ignoring URL 'https://cisco.sharepoint.com/:p:/r/sites/oneib/Shared%20Documents/Compass%20Operations/Compass%20PPTs/Americas/Commercial/Compass_Analysis_KLA_TENCOR_113825_202203.pptx?web=1' since it exceeds Excel's limit of 65,530 URLS per worksheet.\n",
      "  warn(\"Ignoring URL '%s' since it exceeds Excel's limit of \"\n",
      "C:\\Users\\phsheari\\.conda\\envs\\compass_env\\lib\\site-packages\\xlsxwriter\\worksheet.py:986: UserWarning: Ignoring URL 'https://cisco.sharepoint.com/:p:/r/sites/oneib/Shared%20Documents/Compass%20Operations/Compass%20PPTs/Americas/Commercial/Compass_Analysis_PURE_STORAGE_114132_202203.pptx?web=1' since it exceeds Excel's limit of 65,530 URLS per worksheet.\n",
      "  warn(\"Ignoring URL '%s' since it exceeds Excel's limit of \"\n",
      "C:\\Users\\phsheari\\.conda\\envs\\compass_env\\lib\\site-packages\\xlsxwriter\\worksheet.py:986: UserWarning: Ignoring URL 'https://cisco.sharepoint.com/:p:/r/sites/oneib/Shared%20Documents/Compass%20Operations/Compass%20PPTs/Americas/Commercial/Compass_Analysis_SALINAS_VALLEY__114172_202203.pptx?web=1' since it exceeds Excel's limit of 65,530 URLS per worksheet.\n",
      "  warn(\"Ignoring URL '%s' since it exceeds Excel's limit of \"\n",
      "C:\\Users\\phsheari\\.conda\\envs\\compass_env\\lib\\site-packages\\xlsxwriter\\worksheet.py:986: UserWarning: Ignoring URL 'https://cisco.sharepoint.com/:p:/r/sites/oneib/Shared%20Documents/Compass%20Operations/Compass%20PPTs/Americas/Commercial/Compass_Analysis_EL_CAMINO_HOSPI_113583_202203.pptx?web=1' since it exceeds Excel's limit of 65,530 URLS per worksheet.\n",
      "  warn(\"Ignoring URL '%s' since it exceeds Excel's limit of \"\n",
      "C:\\Users\\phsheari\\.conda\\envs\\compass_env\\lib\\site-packages\\xlsxwriter\\worksheet.py:986: UserWarning: Ignoring URL 'https://cisco.sharepoint.com/:p:/r/sites/oneib/Shared%20Documents/Compass%20Operations/Compass%20PPTs/Americas/Commercial/Compass_Analysis_LAM_RESEARCH_113843_202203.pptx?web=1' since it exceeds Excel's limit of 65,530 URLS per worksheet.\n",
      "  warn(\"Ignoring URL '%s' since it exceeds Excel's limit of \"\n",
      "C:\\Users\\phsheari\\.conda\\envs\\compass_env\\lib\\site-packages\\xlsxwriter\\worksheet.py:986: UserWarning: Ignoring URL 'https://cisco.sharepoint.com/:p:/r/sites/oneib/Shared%20Documents/Compass%20Operations/Compass%20PPTs/Americas/Commercial/Compass_Analysis_SWINERTON_INC_114265_202203.pptx?web=1' since it exceeds Excel's limit of 65,530 URLS per worksheet.\n",
      "  warn(\"Ignoring URL '%s' since it exceeds Excel's limit of \"\n",
      "C:\\Users\\phsheari\\.conda\\envs\\compass_env\\lib\\site-packages\\xlsxwriter\\worksheet.py:986: UserWarning: Ignoring URL 'https://cisco.sharepoint.com/:p:/r/sites/oneib/Shared%20Documents/Compass%20Operations/Compass%20PPTs/Americas/Commercial/Compass_Analysis_TRIMBLE_NAVIGAT_114324_202203.pptx?web=1' since it exceeds Excel's limit of 65,530 URLS per worksheet.\n",
      "  warn(\"Ignoring URL '%s' since it exceeds Excel's limit of \"\n",
      "C:\\Users\\phsheari\\.conda\\envs\\compass_env\\lib\\site-packages\\xlsxwriter\\worksheet.py:986: UserWarning: Ignoring URL 'https://cisco.sharepoint.com/:p:/r/sites/oneib/Shared%20Documents/Compass%20Operations/Compass%20PPTs/Americas/Commercial/Compass_Analysis_LABOR_READY_INC_113840_202203.pptx?web=1' since it exceeds Excel's limit of 65,530 URLS per worksheet.\n",
      "  warn(\"Ignoring URL '%s' since it exceeds Excel's limit of \"\n",
      "C:\\Users\\phsheari\\.conda\\envs\\compass_env\\lib\\site-packages\\xlsxwriter\\worksheet.py:986: UserWarning: Ignoring URL 'https://cisco.sharepoint.com/:p:/r/sites/oneib/Shared%20Documents/Compass%20Operations/Compass%20PPTs/Americas/Commercial/Compass_Analysis_STATE_OF_ALASKA_114248_202203.pptx?web=1' since it exceeds Excel's limit of 65,530 URLS per worksheet.\n",
      "  warn(\"Ignoring URL '%s' since it exceeds Excel's limit of \"\n",
      "C:\\Users\\phsheari\\.conda\\envs\\compass_env\\lib\\site-packages\\xlsxwriter\\worksheet.py:986: UserWarning: Ignoring URL 'https://cisco.sharepoint.com/:p:/r/sites/oneib/Shared%20Documents/Compass%20Operations/Compass%20PPTs/Americas/Commercial/Compass_Analysis_VALLEY_MEDICAL__114364_202203.pptx?web=1' since it exceeds Excel's limit of 65,530 URLS per worksheet.\n",
      "  warn(\"Ignoring URL '%s' since it exceeds Excel's limit of \"\n",
      "C:\\Users\\phsheari\\.conda\\envs\\compass_env\\lib\\site-packages\\xlsxwriter\\worksheet.py:986: UserWarning: Ignoring URL 'https://cisco.sharepoint.com/:p:/r/sites/oneib/Shared%20Documents/Compass%20Operations/Compass%20PPTs/Americas/Commercial/Compass_Analysis_VITUITY_INC_114379_202203.pptx?web=1' since it exceeds Excel's limit of 65,530 URLS per worksheet.\n",
      "  warn(\"Ignoring URL '%s' since it exceeds Excel's limit of \"\n",
      "C:\\Users\\phsheari\\.conda\\envs\\compass_env\\lib\\site-packages\\xlsxwriter\\worksheet.py:986: UserWarning: Ignoring URL 'https://cisco.sharepoint.com/:p:/r/sites/oneib/Shared%20Documents/Compass%20Operations/Compass%20PPTs/Americas/Commercial/Compass_Analysis_VSP_114382_202203.pptx?web=1' since it exceeds Excel's limit of 65,530 URLS per worksheet.\n",
      "  warn(\"Ignoring URL '%s' since it exceeds Excel's limit of \"\n",
      "C:\\Users\\phsheari\\.conda\\envs\\compass_env\\lib\\site-packages\\xlsxwriter\\worksheet.py:986: UserWarning: Ignoring URL 'https://cisco.sharepoint.com/:p:/r/sites/ONEIB/Shared%20Documents/Compass%20Operations/Compass%20PPTs/Americas/Commercial/Compass_Analysis_AXINN_VELTROP___111701_202201.pptx?d=w72ff90be96cb4f36af16d46225e215a9&csf=1&web=1&e=cGL1hP' since it exceeds Excel's limit of 65,530 URLS per worksheet.\n",
      "  warn(\"Ignoring URL '%s' since it exceeds Excel's limit of \"\n",
      "C:\\Users\\phsheari\\.conda\\envs\\compass_env\\lib\\site-packages\\xlsxwriter\\worksheet.py:986: UserWarning: Ignoring URL 'https://cisco.sharepoint.com/:p:/r/sites/ONEIB/Shared%20Documents/Compass%20Operations/Compass%20PPTs/Americas/Commercial/Compass_Analysis_CONSERVATION_IN_111724_202201.pptx?d=w55183d43d8c74c04bf82402e81afa39d&csf=1&web=1&e=aBH0fg' since it exceeds Excel's limit of 65,530 URLS per worksheet.\n",
      "  warn(\"Ignoring URL '%s' since it exceeds Excel's limit of \"\n",
      "C:\\Users\\phsheari\\.conda\\envs\\compass_env\\lib\\site-packages\\xlsxwriter\\worksheet.py:986: UserWarning: Ignoring URL 'https://cisco.sharepoint.com/:p:/r/sites/ONEIB/Shared%20Documents/Compass%20Operations/Compass%20PPTs/Americas/Commercial/Compass_Analysis_CROSSROADS_TECH_111728_202201.pptx?d=w8a399581c9f74a599842f1b2211ab6e5&csf=1&web=1&e=3YDeCE' since it exceeds Excel's limit of 65,530 URLS per worksheet.\n",
      "  warn(\"Ignoring URL '%s' since it exceeds Excel's limit of \"\n",
      "C:\\Users\\phsheari\\.conda\\envs\\compass_env\\lib\\site-packages\\xlsxwriter\\worksheet.py:986: UserWarning: Ignoring URL 'https://cisco.sharepoint.com/:p:/r/sites/ONEIB/Shared%20Documents/Compass%20Operations/Compass%20PPTs/Americas/Commercial/Compass_Analysis_PACE_CENTER_FOR_111817_202201.pptx?d=wafc3b0d2096e4b14aa8f16b31c2bb77b&csf=1&web=1&e=oPgZQA' since it exceeds Excel's limit of 65,530 URLS per worksheet.\n",
      "  warn(\"Ignoring URL '%s' since it exceeds Excel's limit of \"\n",
      "C:\\Users\\phsheari\\.conda\\envs\\compass_env\\lib\\site-packages\\xlsxwriter\\worksheet.py:986: UserWarning: Ignoring URL 'https://cisco.sharepoint.com/:p:/r/sites/ONEIB/Shared%20Documents/Compass%20Operations/Compass%20PPTs/Americas/Commercial/Compass_Analysis_ACUMED_LLC_112075_202202.pptx?d=w1e482c009635412e854ce81d5012f109&csf=1&web=1&e=vuRO4g' since it exceeds Excel's limit of 65,530 URLS per worksheet.\n",
      "  warn(\"Ignoring URL '%s' since it exceeds Excel's limit of \"\n",
      "C:\\Users\\phsheari\\.conda\\envs\\compass_env\\lib\\site-packages\\xlsxwriter\\worksheet.py:986: UserWarning: Ignoring URL 'https://cisco.sharepoint.com/:p:/r/sites/oneib/Shared%20Documents/Compass%20Operations/Compass%20PPTs/Americas/Commercial/Compass_Analysis_ADVANTIS_CREDIT_113266_202203.pptx?web=1' since it exceeds Excel's limit of 65,530 URLS per worksheet.\n",
      "  warn(\"Ignoring URL '%s' since it exceeds Excel's limit of \"\n",
      "C:\\Users\\phsheari\\.conda\\envs\\compass_env\\lib\\site-packages\\xlsxwriter\\worksheet.py:986: UserWarning: Ignoring URL 'https://cisco.sharepoint.com/:p:/r/sites/oneib/Shared%20Documents/Compass%20Operations/Compass%20PPTs/Americas/Commercial/Compass_Analysis_ALLIANCE_FEDERA_113288_202203.pptx?web=1' since it exceeds Excel's limit of 65,530 URLS per worksheet.\n",
      "  warn(\"Ignoring URL '%s' since it exceeds Excel's limit of \"\n",
      "C:\\Users\\phsheari\\.conda\\envs\\compass_env\\lib\\site-packages\\xlsxwriter\\worksheet.py:986: UserWarning: Ignoring URL 'https://cisco.sharepoint.com/:p:/r/sites/oneib/Shared%20Documents/Compass%20Operations/Compass%20PPTs/Americas/Commercial/Compass_Analysis_ARIEL_INVESTMEN_113327_202203.pptx?web=1' since it exceeds Excel's limit of 65,530 URLS per worksheet.\n",
      "  warn(\"Ignoring URL '%s' since it exceeds Excel's limit of \"\n",
      "C:\\Users\\phsheari\\.conda\\envs\\compass_env\\lib\\site-packages\\xlsxwriter\\worksheet.py:986: UserWarning: Ignoring URL 'https://cisco.sharepoint.com/:p:/r/sites/oneib/Shared%20Documents/Compass%20Operations/Compass%20PPTs/Americas/Commercial/Compass_Analysis_ATLANTA_AIRLINE_113338_202203.pptx?web=1' since it exceeds Excel's limit of 65,530 URLS per worksheet.\n",
      "  warn(\"Ignoring URL '%s' since it exceeds Excel's limit of \"\n",
      "C:\\Users\\phsheari\\.conda\\envs\\compass_env\\lib\\site-packages\\xlsxwriter\\worksheet.py:986: UserWarning: Ignoring URL 'https://cisco.sharepoint.com/:p:/r/sites/oneib/Shared%20Documents/Compass%20Operations/Compass%20PPTs/Americas/Commercial/Compass_Analysis_CENTAURI_HEALTH_113445_202203.pptx?web=1' since it exceeds Excel's limit of 65,530 URLS per worksheet.\n",
      "  warn(\"Ignoring URL '%s' since it exceeds Excel's limit of \"\n",
      "C:\\Users\\phsheari\\.conda\\envs\\compass_env\\lib\\site-packages\\xlsxwriter\\worksheet.py:986: UserWarning: Ignoring URL 'https://cisco.sharepoint.com/:p:/r/sites/oneib/Shared%20Documents/Compass%20Operations/Compass%20PPTs/Americas/Commercial/Compass_Analysis_MOHAVE_ELECTRIC_113960_202203.pptx?web=1' since it exceeds Excel's limit of 65,530 URLS per worksheet.\n",
      "  warn(\"Ignoring URL '%s' since it exceeds Excel's limit of \"\n",
      "C:\\Users\\phsheari\\.conda\\envs\\compass_env\\lib\\site-packages\\xlsxwriter\\worksheet.py:986: UserWarning: Ignoring URL 'https://cisco.sharepoint.com/:p:/r/sites/oneib/Shared%20Documents/Compass%20Operations/Compass%20PPTs/Americas/Commercial/Compass_Analysis_CENTROMOTION_113458_202203.pptx?web=1' since it exceeds Excel's limit of 65,530 URLS per worksheet.\n",
      "  warn(\"Ignoring URL '%s' since it exceeds Excel's limit of \"\n",
      "C:\\Users\\phsheari\\.conda\\envs\\compass_env\\lib\\site-packages\\xlsxwriter\\worksheet.py:986: UserWarning: Ignoring URL 'https://cisco.sharepoint.com/:p:/r/sites/oneib/Shared%20Documents/Compass%20Operations/Compass%20PPTs/Americas/Commercial/Compass_Analysis_CIENA_HEALTH_CA_113477_202203.pptx?web=1' since it exceeds Excel's limit of 65,530 URLS per worksheet.\n",
      "  warn(\"Ignoring URL '%s' since it exceeds Excel's limit of \"\n",
      "C:\\Users\\phsheari\\.conda\\envs\\compass_env\\lib\\site-packages\\xlsxwriter\\worksheet.py:986: UserWarning: Ignoring URL 'https://cisco.sharepoint.com/:p:/r/sites/oneib/Shared%20Documents/Compass%20Operations/Compass%20PPTs/Americas/Commercial/Compass_Analysis_CONRAD_N_HILTON_113508_202203.pptx?web=1' since it exceeds Excel's limit of 65,530 URLS per worksheet.\n",
      "  warn(\"Ignoring URL '%s' since it exceeds Excel's limit of \"\n",
      "C:\\Users\\phsheari\\.conda\\envs\\compass_env\\lib\\site-packages\\xlsxwriter\\worksheet.py:986: UserWarning: Ignoring URL 'https://cisco.sharepoint.com/:p:/r/sites/oneib/Shared%20Documents/Compass%20Operations/Compass%20PPTs/Americas/Commercial/Compass_Analysis_FIRST_STATE_BAN_113626_202203.pptx?web=1' since it exceeds Excel's limit of 65,530 URLS per worksheet.\n",
      "  warn(\"Ignoring URL '%s' since it exceeds Excel's limit of \"\n",
      "C:\\Users\\phsheari\\.conda\\envs\\compass_env\\lib\\site-packages\\xlsxwriter\\worksheet.py:986: UserWarning: Ignoring URL 'https://cisco.sharepoint.com/:p:/r/sites/oneib/Shared%20Documents/Compass%20Operations/Compass%20PPTs/Americas/Commercial/Compass_Analysis_GENISYS_CONTROL_113666_202203.pptx?web=1' since it exceeds Excel's limit of 65,530 URLS per worksheet.\n",
      "  warn(\"Ignoring URL '%s' since it exceeds Excel's limit of \"\n",
      "C:\\Users\\phsheari\\.conda\\envs\\compass_env\\lib\\site-packages\\xlsxwriter\\worksheet.py:986: UserWarning: Ignoring URL 'https://cisco.sharepoint.com/:p:/r/sites/oneib/Shared%20Documents/Compass%20Operations/Compass%20PPTs/Americas/Commercial/Compass_Analysis_GLENSTONE_FARM__113676_202203.pptx?web=1' since it exceeds Excel's limit of 65,530 URLS per worksheet.\n",
      "  warn(\"Ignoring URL '%s' since it exceeds Excel's limit of \"\n",
      "C:\\Users\\phsheari\\.conda\\envs\\compass_env\\lib\\site-packages\\xlsxwriter\\worksheet.py:986: UserWarning: Ignoring URL 'https://cisco.sharepoint.com/:p:/r/sites/oneib/Shared%20Documents/Compass%20Operations/Compass%20PPTs/Americas/Commercial/Compass_Analysis_IRON_BOW_HOLDIN_113799_202203.pptx?web=1' since it exceeds Excel's limit of 65,530 URLS per worksheet.\n",
      "  warn(\"Ignoring URL '%s' since it exceeds Excel's limit of \"\n",
      "C:\\Users\\phsheari\\.conda\\envs\\compass_env\\lib\\site-packages\\xlsxwriter\\worksheet.py:986: UserWarning: Ignoring URL 'https://cisco.sharepoint.com/:p:/r/sites/oneib/Shared%20Documents/Compass%20Operations/Compass%20PPTs/Americas/Commercial/Compass_Analysis_JAFRA_COSMETICS_113802_202203.pptx?web=1' since it exceeds Excel's limit of 65,530 URLS per worksheet.\n",
      "  warn(\"Ignoring URL '%s' since it exceeds Excel's limit of \"\n",
      "C:\\Users\\phsheari\\.conda\\envs\\compass_env\\lib\\site-packages\\xlsxwriter\\worksheet.py:986: UserWarning: Ignoring URL 'https://cisco.sharepoint.com/:p:/r/sites/oneib/Shared%20Documents/Compass%20Operations/Compass%20PPTs/Americas/Commercial/Compass_Analysis_MARINOWARE_113894_202203.pptx?web=1' since it exceeds Excel's limit of 65,530 URLS per worksheet.\n",
      "  warn(\"Ignoring URL '%s' since it exceeds Excel's limit of \"\n",
      "C:\\Users\\phsheari\\.conda\\envs\\compass_env\\lib\\site-packages\\xlsxwriter\\worksheet.py:986: UserWarning: Ignoring URL 'https://cisco.sharepoint.com/:p:/r/sites/oneib/Shared%20Documents/Compass%20Operations/Compass%20PPTs/Americas/Commercial/Compass_Analysis_EVANS_AND_DIXON_113604_202203.pptx?web=1' since it exceeds Excel's limit of 65,530 URLS per worksheet.\n",
      "  warn(\"Ignoring URL '%s' since it exceeds Excel's limit of \"\n",
      "C:\\Users\\phsheari\\.conda\\envs\\compass_env\\lib\\site-packages\\xlsxwriter\\worksheet.py:986: UserWarning: Ignoring URL 'https://cisco.sharepoint.com/:p:/r/sites/ONEIB/_layouts/15/Doc.aspx?sourcedoc=%7B3961907E-5099-42D7-AFFA-9A6A6C0CDC7E%7D&file=Compass_Analysis_SYSTEMS_PLANNIN_111855_202201.pptx&action=edit&mobileredirect=true' since it exceeds Excel's limit of 65,530 URLS per worksheet.\n",
      "  warn(\"Ignoring URL '%s' since it exceeds Excel's limit of \"\n",
      "C:\\Users\\phsheari\\.conda\\envs\\compass_env\\lib\\site-packages\\xlsxwriter\\worksheet.py:986: UserWarning: Ignoring URL 'https://cisco.sharepoint.com/:p:/r/sites/oneib/Shared%20Documents/Compass%20Operations/Compass%20PPTs/Americas/Commercial/Compass_Analysis_ATHENAHEALTH_IN_112290_202202.pptx?web=1' since it exceeds Excel's limit of 65,530 URLS per worksheet.\n",
      "  warn(\"Ignoring URL '%s' since it exceeds Excel's limit of \"\n",
      "C:\\Users\\phsheari\\.conda\\envs\\compass_env\\lib\\site-packages\\xlsxwriter\\worksheet.py:986: UserWarning: Ignoring URL 'https://cisco.sharepoint.com/:p:/r/sites/oneib/Shared%20Documents/Compass%20Operations/Compass%20PPTs/Americas/Commercial/Compass_Analysis_WASHINGTON_TRUS_112154_202202.pptx?web=1' since it exceeds Excel's limit of 65,530 URLS per worksheet.\n",
      "  warn(\"Ignoring URL '%s' since it exceeds Excel's limit of \"\n",
      "C:\\Users\\phsheari\\.conda\\envs\\compass_env\\lib\\site-packages\\xlsxwriter\\worksheet.py:986: UserWarning: Ignoring URL 'https://cisco.sharepoint.com/:p:/r/sites/oneib/Shared%20Documents/Compass%20Operations/Compass%20PPTs/Americas/Commercial/Compass_Analysis_PSOMAS_114129_202203.pptx?web=1' since it exceeds Excel's limit of 65,530 URLS per worksheet.\n",
      "  warn(\"Ignoring URL '%s' since it exceeds Excel's limit of \"\n",
      "C:\\Users\\phsheari\\.conda\\envs\\compass_env\\lib\\site-packages\\xlsxwriter\\worksheet.py:986: UserWarning: Ignoring URL 'https://cisco.sharepoint.com/:p:/r/sites/oneib/Shared%20Documents/Compass%20Operations/Compass%20PPTs/Americas/Commercial/Compass_Analysis_PUGET_CONSUMERS_114131_202203.pptx?web=1' since it exceeds Excel's limit of 65,530 URLS per worksheet.\n",
      "  warn(\"Ignoring URL '%s' since it exceeds Excel's limit of \"\n",
      "C:\\Users\\phsheari\\.conda\\envs\\compass_env\\lib\\site-packages\\xlsxwriter\\worksheet.py:986: UserWarning: Ignoring URL 'https://cisco.sharepoint.com/:p:/r/sites/oneib/Shared%20Documents/Compass%20Operations/Compass%20PPTs/Americas/Commercial/Compass_Analysis_ROCHESTER_METAL_114161_202203.pptx?web=1' since it exceeds Excel's limit of 65,530 URLS per worksheet.\n",
      "  warn(\"Ignoring URL '%s' since it exceeds Excel's limit of \"\n",
      "C:\\Users\\phsheari\\.conda\\envs\\compass_env\\lib\\site-packages\\xlsxwriter\\worksheet.py:986: UserWarning: Ignoring URL 'https://cisco.sharepoint.com/:p:/r/sites/oneib/Shared%20Documents/Compass%20Operations/Compass%20PPTs/Americas/Commercial/Compass_Analysis_SCIENTIFIC_APPL_114188_202203.pptx?web=1' since it exceeds Excel's limit of 65,530 URLS per worksheet.\n",
      "  warn(\"Ignoring URL '%s' since it exceeds Excel's limit of \"\n",
      "C:\\Users\\phsheari\\.conda\\envs\\compass_env\\lib\\site-packages\\xlsxwriter\\worksheet.py:986: UserWarning: Ignoring URL 'https://cisco.sharepoint.com/:p:/r/sites/oneib/Shared%20Documents/Compass%20Operations/Compass%20PPTs/Americas/Commercial/Compass_Analysis_SECURITY_FIRST__114197_202203.pptx?web=1' since it exceeds Excel's limit of 65,530 URLS per worksheet.\n",
      "  warn(\"Ignoring URL '%s' since it exceeds Excel's limit of \"\n",
      "C:\\Users\\phsheari\\.conda\\envs\\compass_env\\lib\\site-packages\\xlsxwriter\\worksheet.py:986: UserWarning: Ignoring URL 'https://cisco.sharepoint.com/:p:/r/sites/oneib/Shared%20Documents/Compass%20Operations/Compass%20PPTs/Americas/Commercial/Compass_Analysis_SMB_INTERNATION_114226_202203.pptx?web=1' since it exceeds Excel's limit of 65,530 URLS per worksheet.\n",
      "  warn(\"Ignoring URL '%s' since it exceeds Excel's limit of \"\n",
      "C:\\Users\\phsheari\\.conda\\envs\\compass_env\\lib\\site-packages\\xlsxwriter\\worksheet.py:986: UserWarning: Ignoring URL 'https://cisco.sharepoint.com/:p:/r/sites/oneib/Shared%20Documents/Compass%20Operations/Compass%20PPTs/Americas/Commercial/Compass_Analysis_STAR_OF_HOPE_MI_114247_202203.pptx?web=1' since it exceeds Excel's limit of 65,530 URLS per worksheet.\n",
      "  warn(\"Ignoring URL '%s' since it exceeds Excel's limit of \"\n",
      "C:\\Users\\phsheari\\.conda\\envs\\compass_env\\lib\\site-packages\\xlsxwriter\\worksheet.py:986: UserWarning: Ignoring URL 'https://cisco.sharepoint.com/:p:/r/sites/oneib/Shared%20Documents/Compass%20Operations/Compass%20PPTs/Americas/Commercial/Compass_Analysis_TAUCK_INC_114270_202203.pptx?web=1' since it exceeds Excel's limit of 65,530 URLS per worksheet.\n",
      "  warn(\"Ignoring URL '%s' since it exceeds Excel's limit of \"\n",
      "C:\\Users\\phsheari\\.conda\\envs\\compass_env\\lib\\site-packages\\xlsxwriter\\worksheet.py:986: UserWarning: Ignoring URL 'https://cisco.sharepoint.com/:p:/r/sites/oneib/Shared%20Documents/Compass%20Operations/Compass%20PPTs/Americas/Commercial/Compass_Analysis_TEXAS_BANK_AND__114276_202203.pptx?web=1' since it exceeds Excel's limit of 65,530 URLS per worksheet.\n",
      "  warn(\"Ignoring URL '%s' since it exceeds Excel's limit of \"\n",
      "C:\\Users\\phsheari\\.conda\\envs\\compass_env\\lib\\site-packages\\xlsxwriter\\worksheet.py:986: UserWarning: Ignoring URL 'https://cisco.sharepoint.com/:p:/r/sites/oneib/Shared%20Documents/Compass%20Operations/Compass%20PPTs/Americas/Commercial/Compass_Analysis_TRIS_PHARMA_INC_114325_202203.pptx?web=1' since it exceeds Excel's limit of 65,530 URLS per worksheet.\n",
      "  warn(\"Ignoring URL '%s' since it exceeds Excel's limit of \"\n",
      "C:\\Users\\phsheari\\.conda\\envs\\compass_env\\lib\\site-packages\\xlsxwriter\\worksheet.py:986: UserWarning: Ignoring URL 'https://cisco.sharepoint.com/:p:/r/sites/oneib/Shared%20Documents/Compass%20Operations/Compass%20PPTs/Americas/Commercial/Compass_Analysis_U_T_FEDERAL_CRE_114341_202203.pptx?web=1' since it exceeds Excel's limit of 65,530 URLS per worksheet.\n",
      "  warn(\"Ignoring URL '%s' since it exceeds Excel's limit of \"\n",
      "C:\\Users\\phsheari\\.conda\\envs\\compass_env\\lib\\site-packages\\xlsxwriter\\worksheet.py:986: UserWarning: Ignoring URL 'https://cisco.sharepoint.com/:p:/r/sites/oneib/Shared%20Documents/Compass%20Operations/Compass%20PPTs/Americas/Commercial/Compass_Analysis_UNIVERSAL_INSUR_114346_202203.pptx?web=1' since it exceeds Excel's limit of 65,530 URLS per worksheet.\n",
      "  warn(\"Ignoring URL '%s' since it exceeds Excel's limit of \"\n",
      "C:\\Users\\phsheari\\.conda\\envs\\compass_env\\lib\\site-packages\\xlsxwriter\\worksheet.py:986: UserWarning: Ignoring URL 'https://cisco.sharepoint.com/:p:/r/sites/oneib/Shared%20Documents/Compass%20Operations/Compass%20PPTs/Americas/Commercial/Compass_Analysis_UPLAND_HILLS_HE_114355_202203.pptx?web=1' since it exceeds Excel's limit of 65,530 URLS per worksheet.\n",
      "  warn(\"Ignoring URL '%s' since it exceeds Excel's limit of \"\n",
      "C:\\Users\\phsheari\\.conda\\envs\\compass_env\\lib\\site-packages\\xlsxwriter\\worksheet.py:986: UserWarning: Ignoring URL 'https://cisco.sharepoint.com/:p:/r/sites/oneib/Shared%20Documents/Compass%20Operations/Compass%20PPTs/Americas/Commercial/Compass_Analysis_VEYTEC__INC_114372_202203.pptx?web=1' since it exceeds Excel's limit of 65,530 URLS per worksheet.\n",
      "  warn(\"Ignoring URL '%s' since it exceeds Excel's limit of \"\n",
      "C:\\Users\\phsheari\\.conda\\envs\\compass_env\\lib\\site-packages\\xlsxwriter\\worksheet.py:986: UserWarning: Ignoring URL 'https://cisco.sharepoint.com/:p:/r/sites/oneib/Shared%20Documents/Compass%20Operations/Compass%20PPTs/Americas/Commercial/Compass_Analysis_PEGA_SYSTEMS_112878_202202.pptx?web=1' since it exceeds Excel's limit of 65,530 URLS per worksheet.\n",
      "  warn(\"Ignoring URL '%s' since it exceeds Excel's limit of \"\n",
      "C:\\Users\\phsheari\\.conda\\envs\\compass_env\\lib\\site-packages\\xlsxwriter\\worksheet.py:986: UserWarning: Ignoring URL 'https://cisco.sharepoint.com/:p:/r/sites/oneib/Shared%20Documents/Compass%20Operations/Compass%20PPTs/Americas/Commercial/Compass_Analysis_VELCRO_112879_202202.pptx?web=1' since it exceeds Excel's limit of 65,530 URLS per worksheet.\n",
      "  warn(\"Ignoring URL '%s' since it exceeds Excel's limit of \"\n",
      "C:\\Users\\phsheari\\.conda\\envs\\compass_env\\lib\\site-packages\\xlsxwriter\\worksheet.py:986: UserWarning: Ignoring URL 'https://cisco.sharepoint.com/:p:/r/sites/oneib/Shared%20Documents/Compass%20Operations/Compass%20PPTs/Americas/Commercial/Compass_Analysis_BERKSHIRE_HILLS_112880_202202.pptx?web=1' since it exceeds Excel's limit of 65,530 URLS per worksheet.\n",
      "  warn(\"Ignoring URL '%s' since it exceeds Excel's limit of \"\n",
      "C:\\Users\\phsheari\\.conda\\envs\\compass_env\\lib\\site-packages\\xlsxwriter\\worksheet.py:986: UserWarning: Ignoring URL 'https://cisco.sharepoint.com/:p:/r/sites/oneib/Shared%20Documents/Compass%20Operations/Compass%20PPTs/Americas/Commercial/Compass_Analysis_IRON_MOUNTAIN_112882_202202.pptx?web=1' since it exceeds Excel's limit of 65,530 URLS per worksheet.\n",
      "  warn(\"Ignoring URL '%s' since it exceeds Excel's limit of \"\n",
      "C:\\Users\\phsheari\\.conda\\envs\\compass_env\\lib\\site-packages\\xlsxwriter\\worksheet.py:986: UserWarning: Ignoring URL 'https://cisco.sharepoint.com/:p:/r/sites/ONEIB/Shared%20Documents/Compass%20Operations/Compass%20PPTs/Americas/Commercial/Compass_Analysis_ROPES__GRAY_112074_202202.pptx?d=w24b3afbf1f834667a8cf2c3070fb338c&csf=1&web=1&e=Or1PAy' since it exceeds Excel's limit of 65,530 URLS per worksheet.\n",
      "  warn(\"Ignoring URL '%s' since it exceeds Excel's limit of \"\n",
      "C:\\Users\\phsheari\\.conda\\envs\\compass_env\\lib\\site-packages\\xlsxwriter\\worksheet.py:986: UserWarning: Ignoring URL 'https://cisco.sharepoint.com/:p:/r/sites/oneib/Shared%20Documents/Compass%20Operations/Compass%20PPTs/Americas/Commercial/Compass_Analysis_TALBOTS_112874_202202.pptx?web=1' since it exceeds Excel's limit of 65,530 URLS per worksheet.\n",
      "  warn(\"Ignoring URL '%s' since it exceeds Excel's limit of \"\n",
      "C:\\Users\\phsheari\\.conda\\envs\\compass_env\\lib\\site-packages\\xlsxwriter\\worksheet.py:986: UserWarning: Ignoring URL 'https://cisco.sharepoint.com/:p:/r/sites/oneib/Shared%20Documents/Compass%20Operations/Compass%20PPTs/Americas/Commercial/Compass_Analysis_BMC_112877_202202.pptx?web=1' since it exceeds Excel's limit of 65,530 URLS per worksheet.\n",
      "  warn(\"Ignoring URL '%s' since it exceeds Excel's limit of \"\n",
      "C:\\Users\\phsheari\\.conda\\envs\\compass_env\\lib\\site-packages\\xlsxwriter\\worksheet.py:986: UserWarning: Ignoring URL 'https://cisco.sharepoint.com/:p:/r/sites/oneib/Shared%20Documents/Compass%20Operations/Compass%20PPTs/Americas/Commercial/Compass_Analysis_BAIN_112875_202202.pptx?web=1' since it exceeds Excel's limit of 65,530 URLS per worksheet.\n",
      "  warn(\"Ignoring URL '%s' since it exceeds Excel's limit of \"\n",
      "C:\\Users\\phsheari\\.conda\\envs\\compass_env\\lib\\site-packages\\xlsxwriter\\worksheet.py:986: UserWarning: Ignoring URL 'https://cisco.sharepoint.com/:p:/r/sites/oneib/Shared%20Documents/Compass%20Operations/Compass%20PPTs/Americas/Commercial/Compass_Analysis_HANOVER_112876_202202.pptx?web=1' since it exceeds Excel's limit of 65,530 URLS per worksheet.\n",
      "  warn(\"Ignoring URL '%s' since it exceeds Excel's limit of \"\n",
      "C:\\Users\\phsheari\\.conda\\envs\\compass_env\\lib\\site-packages\\xlsxwriter\\worksheet.py:986: UserWarning: Ignoring URL 'https://cisco.sharepoint.com/:p:/r/sites/oneib/Shared%20Documents/Compass%20Operations/Compass%20PPTs/Americas/Commercial/Compass_Analysis_DLA_PIPER_112524_202202.pptx?web=1' since it exceeds Excel's limit of 65,530 URLS per worksheet.\n",
      "  warn(\"Ignoring URL '%s' since it exceeds Excel's limit of \"\n",
      "C:\\Users\\phsheari\\.conda\\envs\\compass_env\\lib\\site-packages\\xlsxwriter\\worksheet.py:986: UserWarning: Ignoring URL 'https://cisco.sharepoint.com/:p:/r/sites/oneib/Shared%20Documents/Compass%20Operations/Compass%20PPTs/Americas/Commercial/Compass_Analysis_AMERICAN_WELL_S_112451_202202.pptx?web=1' since it exceeds Excel's limit of 65,530 URLS per worksheet.\n",
      "  warn(\"Ignoring URL '%s' since it exceeds Excel's limit of \"\n",
      "C:\\Users\\phsheari\\.conda\\envs\\compass_env\\lib\\site-packages\\xlsxwriter\\worksheet.py:986: UserWarning: Ignoring URL 'https://cisco.sharepoint.com/:p:/r/sites/oneib/Shared%20Documents/Compass%20Operations/Compass%20PPTs/Americas/Commercial/Compass_Analysis_ALBANY_MOLECULA_113282_202203.pptx?web=1' since it exceeds Excel's limit of 65,530 URLS per worksheet.\n",
      "  warn(\"Ignoring URL '%s' since it exceeds Excel's limit of \"\n",
      "C:\\Users\\phsheari\\.conda\\envs\\compass_env\\lib\\site-packages\\xlsxwriter\\worksheet.py:986: UserWarning: Ignoring URL 'https://cisco.sharepoint.com/:p:/r/sites/oneib/Shared%20Documents/Compass%20Operations/Compass%20PPTs/Americas/Commercial/Compass_Analysis_CAMDEN_NATIONAL_113419_202203.pptx?web=1' since it exceeds Excel's limit of 65,530 URLS per worksheet.\n",
      "  warn(\"Ignoring URL '%s' since it exceeds Excel's limit of \"\n",
      "C:\\Users\\phsheari\\.conda\\envs\\compass_env\\lib\\site-packages\\xlsxwriter\\worksheet.py:986: UserWarning: Ignoring URL 'https://cisco.sharepoint.com/:p:/r/sites/oneib/Shared%20Documents/Compass%20Operations/Compass%20PPTs/Americas/Commercial/Compass_Analysis_CENTER_FOR_INTE_113448_202203.pptx?web=1' since it exceeds Excel's limit of 65,530 URLS per worksheet.\n",
      "  warn(\"Ignoring URL '%s' since it exceeds Excel's limit of \"\n",
      "C:\\Users\\phsheari\\.conda\\envs\\compass_env\\lib\\site-packages\\xlsxwriter\\worksheet.py:986: UserWarning: Ignoring URL 'https://cisco.sharepoint.com/:p:/r/sites/oneib/Shared%20Documents/Compass%20Operations/Compass%20PPTs/Americas/Commercial/Compass_Analysis_HYPERTHERM_INC_113757_202203.pptx?web=1' since it exceeds Excel's limit of 65,530 URLS per worksheet.\n",
      "  warn(\"Ignoring URL '%s' since it exceeds Excel's limit of \"\n",
      "C:\\Users\\phsheari\\.conda\\envs\\compass_env\\lib\\site-packages\\xlsxwriter\\worksheet.py:986: UserWarning: Ignoring URL 'https://cisco.sharepoint.com/:p:/r/sites/oneib/Shared%20Documents/Compass%20Operations/Compass%20PPTs/Americas/Commercial/Compass_Analysis_INSURITY_LLC_113793_202203.pptx?web=1' since it exceeds Excel's limit of 65,530 URLS per worksheet.\n",
      "  warn(\"Ignoring URL '%s' since it exceeds Excel's limit of \"\n",
      "C:\\Users\\phsheari\\.conda\\envs\\compass_env\\lib\\site-packages\\xlsxwriter\\worksheet.py:986: UserWarning: Ignoring URL 'https://cisco.sharepoint.com/:p:/r/sites/oneib/Shared%20Documents/Compass%20Operations/Compass%20PPTs/Americas/Commercial/Compass_Analysis_HOWARDCENTER_IN_113752_202203.pptx?web=1' since it exceeds Excel's limit of 65,530 URLS per worksheet.\n",
      "  warn(\"Ignoring URL '%s' since it exceeds Excel's limit of \"\n",
      "C:\\Users\\phsheari\\.conda\\envs\\compass_env\\lib\\site-packages\\xlsxwriter\\worksheet.py:986: UserWarning: Ignoring URL 'https://cisco.sharepoint.com/:p:/r/sites/oneib/Shared%20Documents/Compass%20Operations/Compass%20PPTs/Americas/Commercial/Compass_Analysis_CORNING_CREDIT__113518_202203.pptx?web=1' since it exceeds Excel's limit of 65,530 URLS per worksheet.\n",
      "  warn(\"Ignoring URL '%s' since it exceeds Excel's limit of \"\n",
      "C:\\Users\\phsheari\\.conda\\envs\\compass_env\\lib\\site-packages\\xlsxwriter\\worksheet.py:986: UserWarning: Ignoring URL 'https://cisco.sharepoint.com/:p:/r/sites/oneib/Shared%20Documents/Compass%20Operations/Compass%20PPTs/Americas/Commercial/Compass_Analysis_DRAEGER_113568_202203.pptx?web=1' since it exceeds Excel's limit of 65,530 URLS per worksheet.\n",
      "  warn(\"Ignoring URL '%s' since it exceeds Excel's limit of \"\n",
      "C:\\Users\\phsheari\\.conda\\envs\\compass_env\\lib\\site-packages\\xlsxwriter\\worksheet.py:986: UserWarning: Ignoring URL 'https://cisco.sharepoint.com/:p:/r/sites/oneib/Shared%20Documents/Compass%20Operations/Compass%20PPTs/Americas/Commercial/Compass_Analysis_DECIPHERA_PHARM_113551_202203.pptx?web=1' since it exceeds Excel's limit of 65,530 URLS per worksheet.\n",
      "  warn(\"Ignoring URL '%s' since it exceeds Excel's limit of \"\n",
      "C:\\Users\\phsheari\\.conda\\envs\\compass_env\\lib\\site-packages\\xlsxwriter\\worksheet.py:986: UserWarning: Ignoring URL 'https://cisco.sharepoint.com/:p:/r/sites/oneib/Shared%20Documents/Compass%20Operations/Compass%20PPTs/Americas/Commercial/Compass_Analysis_ACTIONET_INC_113262_202203.pptx?web=1' since it exceeds Excel's limit of 65,530 URLS per worksheet.\n",
      "  warn(\"Ignoring URL '%s' since it exceeds Excel's limit of \"\n",
      "C:\\Users\\phsheari\\.conda\\envs\\compass_env\\lib\\site-packages\\xlsxwriter\\worksheet.py:986: UserWarning: Ignoring URL 'https://cisco.sharepoint.com/:p:/r/sites/oneib/Shared%20Documents/Compass%20Operations/Compass%20PPTs/Americas/Commercial/Compass_Analysis_AIRLINES_FOR_AM_113275_202203.pptx?web=1' since it exceeds Excel's limit of 65,530 URLS per worksheet.\n",
      "  warn(\"Ignoring URL '%s' since it exceeds Excel's limit of \"\n",
      "C:\\Users\\phsheari\\.conda\\envs\\compass_env\\lib\\site-packages\\xlsxwriter\\worksheet.py:986: UserWarning: Ignoring URL 'https://cisco.sharepoint.com/:p:/r/sites/oneib/Shared%20Documents/Compass%20Operations/Compass%20PPTs/Americas/Commercial/Compass_Analysis_AJC_INTERNATION_113276_202203.pptx?web=1' since it exceeds Excel's limit of 65,530 URLS per worksheet.\n",
      "  warn(\"Ignoring URL '%s' since it exceeds Excel's limit of \"\n",
      "C:\\Users\\phsheari\\.conda\\envs\\compass_env\\lib\\site-packages\\xlsxwriter\\worksheet.py:986: UserWarning: Ignoring URL 'https://cisco.sharepoint.com/:p:/r/sites/oneib/Shared%20Documents/Compass%20Operations/Compass%20PPTs/Americas/Commercial/Compass_Analysis_ALIGN_CREDIT_UN_113286_202203.pptx?web=1' since it exceeds Excel's limit of 65,530 URLS per worksheet.\n",
      "  warn(\"Ignoring URL '%s' since it exceeds Excel's limit of \"\n",
      "C:\\Users\\phsheari\\.conda\\envs\\compass_env\\lib\\site-packages\\xlsxwriter\\worksheet.py:986: UserWarning: Ignoring URL 'https://cisco.sharepoint.com/:p:/r/sites/oneib/Shared%20Documents/Compass%20Operations/Compass%20PPTs/Americas/Commercial/Compass_Analysis_AMERICAN_HERITA_113299_202203.pptx?web=1' since it exceeds Excel's limit of 65,530 URLS per worksheet.\n",
      "  warn(\"Ignoring URL '%s' since it exceeds Excel's limit of \"\n",
      "C:\\Users\\phsheari\\.conda\\envs\\compass_env\\lib\\site-packages\\xlsxwriter\\worksheet.py:986: UserWarning: Ignoring URL 'https://cisco.sharepoint.com/:p:/r/sites/oneib/Shared%20Documents/Compass%20Operations/Compass%20PPTs/Americas/Commercial/Compass_Analysis_AMERICAN_INSTIT_113300_202203.pptx?web=1' since it exceeds Excel's limit of 65,530 URLS per worksheet.\n",
      "  warn(\"Ignoring URL '%s' since it exceeds Excel's limit of \"\n",
      "C:\\Users\\phsheari\\.conda\\envs\\compass_env\\lib\\site-packages\\xlsxwriter\\worksheet.py:986: UserWarning: Ignoring URL 'https://cisco.sharepoint.com/:p:/r/sites/oneib/Shared%20Documents/Compass%20Operations/Compass%20PPTs/Americas/Commercial/Compass_Analysis_AMERICAN_TEXTIL_113302_202203.pptx?web=1' since it exceeds Excel's limit of 65,530 URLS per worksheet.\n",
      "  warn(\"Ignoring URL '%s' since it exceeds Excel's limit of \"\n",
      "C:\\Users\\phsheari\\.conda\\envs\\compass_env\\lib\\site-packages\\xlsxwriter\\worksheet.py:986: UserWarning: Ignoring URL 'https://cisco.sharepoint.com/:p:/r/sites/oneib/Shared%20Documents/Compass%20Operations/Compass%20PPTs/Americas/Commercial/Compass_Analysis_ARENA_OPERATING_113326_202203.pptx?web=1' since it exceeds Excel's limit of 65,530 URLS per worksheet.\n",
      "  warn(\"Ignoring URL '%s' since it exceeds Excel's limit of \"\n",
      "C:\\Users\\phsheari\\.conda\\envs\\compass_env\\lib\\site-packages\\xlsxwriter\\worksheet.py:986: UserWarning: Ignoring URL 'https://cisco.sharepoint.com/:p:/r/sites/oneib/Shared%20Documents/Compass%20Operations/Compass%20PPTs/Americas/Commercial/Compass_Analysis_BANK_FIVE_113361_202203.pptx?web=1' since it exceeds Excel's limit of 65,530 URLS per worksheet.\n",
      "  warn(\"Ignoring URL '%s' since it exceeds Excel's limit of \"\n",
      "C:\\Users\\phsheari\\.conda\\envs\\compass_env\\lib\\site-packages\\xlsxwriter\\worksheet.py:986: UserWarning: Ignoring URL 'https://cisco.sharepoint.com/:p:/r/sites/oneib/Shared%20Documents/Compass%20Operations/Compass%20PPTs/Americas/Commercial/Compass_Analysis_CARDIOVASCULAR__113427_202203.pptx?web=1' since it exceeds Excel's limit of 65,530 URLS per worksheet.\n",
      "  warn(\"Ignoring URL '%s' since it exceeds Excel's limit of \"\n",
      "C:\\Users\\phsheari\\.conda\\envs\\compass_env\\lib\\site-packages\\xlsxwriter\\worksheet.py:986: UserWarning: Ignoring URL 'https://cisco.sharepoint.com/:p:/r/sites/oneib/Shared%20Documents/Compass%20Operations/Compass%20PPTs/Americas/Commercial/Compass_Analysis_CARPENTERS_UNIO_113432_202203.pptx?web=1' since it exceeds Excel's limit of 65,530 URLS per worksheet.\n",
      "  warn(\"Ignoring URL '%s' since it exceeds Excel's limit of \"\n",
      "C:\\Users\\phsheari\\.conda\\envs\\compass_env\\lib\\site-packages\\xlsxwriter\\worksheet.py:986: UserWarning: Ignoring URL 'https://cisco.sharepoint.com/:p:/r/sites/oneib/Shared%20Documents/Compass%20Operations/Compass%20PPTs/Americas/Commercial/Compass_Analysis_CENTER_INFORMAT_113449_202203.pptx?web=1' since it exceeds Excel's limit of 65,530 URLS per worksheet.\n",
      "  warn(\"Ignoring URL '%s' since it exceeds Excel's limit of \"\n",
      "C:\\Users\\phsheari\\.conda\\envs\\compass_env\\lib\\site-packages\\xlsxwriter\\worksheet.py:986: UserWarning: Ignoring URL 'https://cisco.sharepoint.com/:p:/r/sites/oneib/Shared%20Documents/Compass%20Operations/Compass%20PPTs/Americas/Commercial/Compass_Analysis_CENTRAL_HUDSON__113454_202203.pptx?web=1' since it exceeds Excel's limit of 65,530 URLS per worksheet.\n",
      "  warn(\"Ignoring URL '%s' since it exceeds Excel's limit of \"\n",
      "C:\\Users\\phsheari\\.conda\\envs\\compass_env\\lib\\site-packages\\xlsxwriter\\worksheet.py:986: UserWarning: Ignoring URL 'https://cisco.sharepoint.com/:p:/r/sites/oneib/Shared%20Documents/Compass%20Operations/Compass%20PPTs/Americas/Commercial/Compass_Analysis_INFO_TECH_113785_202203.pptx?web=1' since it exceeds Excel's limit of 65,530 URLS per worksheet.\n",
      "  warn(\"Ignoring URL '%s' since it exceeds Excel's limit of \"\n",
      "C:\\Users\\phsheari\\.conda\\envs\\compass_env\\lib\\site-packages\\xlsxwriter\\worksheet.py:986: UserWarning: Ignoring URL 'https://cisco.sharepoint.com/:p:/r/sites/oneib/Shared%20Documents/Compass%20Operations/Compass%20PPTs/Americas/Commercial/Compass_Analysis_JAI_MEDICAL_113803_202203.pptx?web=1' since it exceeds Excel's limit of 65,530 URLS per worksheet.\n",
      "  warn(\"Ignoring URL '%s' since it exceeds Excel's limit of \"\n",
      "C:\\Users\\phsheari\\.conda\\envs\\compass_env\\lib\\site-packages\\xlsxwriter\\worksheet.py:986: UserWarning: Ignoring URL 'https://cisco.sharepoint.com/:p:/r/sites/oneib/Shared%20Documents/Compass%20Operations/Compass%20PPTs/Americas/Commercial/Compass_Analysis_JEUNESSE_113805_202203.pptx?web=1' since it exceeds Excel's limit of 65,530 URLS per worksheet.\n",
      "  warn(\"Ignoring URL '%s' since it exceeds Excel's limit of \"\n",
      "C:\\Users\\phsheari\\.conda\\envs\\compass_env\\lib\\site-packages\\xlsxwriter\\worksheet.py:986: UserWarning: Ignoring URL 'https://cisco.sharepoint.com/:p:/r/sites/oneib/Shared%20Documents/Compass%20Operations/Compass%20PPTs/Americas/Commercial/Compass_Analysis_HITT_CONTRACTIN_113737_202203.pptx?web=1' since it exceeds Excel's limit of 65,530 URLS per worksheet.\n",
      "  warn(\"Ignoring URL '%s' since it exceeds Excel's limit of \"\n",
      "C:\\Users\\phsheari\\.conda\\envs\\compass_env\\lib\\site-packages\\xlsxwriter\\worksheet.py:986: UserWarning: Ignoring URL 'https://cisco.sharepoint.com/:p:/r/sites/oneib/Shared%20Documents/Compass%20Operations/Compass%20PPTs/Americas/Commercial/Compass_Analysis_HOUSING_AUTHORI_113751_202203.pptx?web=1' since it exceeds Excel's limit of 65,530 URLS per worksheet.\n",
      "  warn(\"Ignoring URL '%s' since it exceeds Excel's limit of \"\n",
      "C:\\Users\\phsheari\\.conda\\envs\\compass_env\\lib\\site-packages\\xlsxwriter\\worksheet.py:986: UserWarning: Ignoring URL 'https://cisco.sharepoint.com/:p:/r/sites/oneib/Shared%20Documents/Compass%20Operations/Compass%20PPTs/Americas/Commercial/Compass_Analysis_H_A_BERKHEIMER__113709_202203.pptx?web=1' since it exceeds Excel's limit of 65,530 URLS per worksheet.\n",
      "  warn(\"Ignoring URL '%s' since it exceeds Excel's limit of \"\n",
      "C:\\Users\\phsheari\\.conda\\envs\\compass_env\\lib\\site-packages\\xlsxwriter\\worksheet.py:986: UserWarning: Ignoring URL 'https://cisco.sharepoint.com/:p:/r/sites/oneib/Shared%20Documents/Compass%20Operations/Compass%20PPTs/Americas/Commercial/Compass_Analysis_GLOBE_TAX_SERVI_113679_202203.pptx?web=1' since it exceeds Excel's limit of 65,530 URLS per worksheet.\n",
      "  warn(\"Ignoring URL '%s' since it exceeds Excel's limit of \"\n",
      "C:\\Users\\phsheari\\.conda\\envs\\compass_env\\lib\\site-packages\\xlsxwriter\\worksheet.py:986: UserWarning: Ignoring URL 'https://cisco.sharepoint.com/:p:/r/sites/oneib/Shared%20Documents/Compass%20Operations/Compass%20PPTs/Americas/Commercial/Compass_Analysis_HAFELE_AMERICA_113711_202203.pptx?web=1' since it exceeds Excel's limit of 65,530 URLS per worksheet.\n",
      "  warn(\"Ignoring URL '%s' since it exceeds Excel's limit of \"\n",
      "C:\\Users\\phsheari\\.conda\\envs\\compass_env\\lib\\site-packages\\xlsxwriter\\worksheet.py:986: UserWarning: Ignoring URL 'https://cisco.sharepoint.com/:p:/r/sites/oneib/Shared%20Documents/Compass%20Operations/Compass%20PPTs/Americas/Commercial/Compass_Analysis_CENTRAL_VIRGINI_113456_202203.pptx?web=1' since it exceeds Excel's limit of 65,530 URLS per worksheet.\n",
      "  warn(\"Ignoring URL '%s' since it exceeds Excel's limit of \"\n",
      "C:\\Users\\phsheari\\.conda\\envs\\compass_env\\lib\\site-packages\\xlsxwriter\\worksheet.py:986: UserWarning: Ignoring URL 'https://cisco.sharepoint.com/:p:/r/sites/oneib/Shared%20Documents/Compass%20Operations/Compass%20PPTs/Americas/Commercial/Compass_Analysis_CRUTCHFIELD_COR_113534_202203.pptx?web=1' since it exceeds Excel's limit of 65,530 URLS per worksheet.\n",
      "  warn(\"Ignoring URL '%s' since it exceeds Excel's limit of \"\n",
      "C:\\Users\\phsheari\\.conda\\envs\\compass_env\\lib\\site-packages\\xlsxwriter\\worksheet.py:986: UserWarning: Ignoring URL 'https://cisco.sharepoint.com/:p:/r/sites/oneib/Shared%20Documents/Compass%20Operations/Compass%20PPTs/Americas/Commercial/Compass_Analysis_FIRST_FINANCIAL_113623_202203.pptx?web=1' since it exceeds Excel's limit of 65,530 URLS per worksheet.\n",
      "  warn(\"Ignoring URL '%s' since it exceeds Excel's limit of \"\n",
      "C:\\Users\\phsheari\\.conda\\envs\\compass_env\\lib\\site-packages\\xlsxwriter\\worksheet.py:986: UserWarning: Ignoring URL 'https://cisco.sharepoint.com/:p:/r/sites/oneib/Shared%20Documents/Compass%20Operations/Compass%20PPTs/Americas/Commercial/Compass_Analysis_FIRST_NATIONAL__113625_202203.pptx?web=1' since it exceeds Excel's limit of 65,530 URLS per worksheet.\n",
      "  warn(\"Ignoring URL '%s' since it exceeds Excel's limit of \"\n",
      "C:\\Users\\phsheari\\.conda\\envs\\compass_env\\lib\\site-packages\\xlsxwriter\\worksheet.py:986: UserWarning: Ignoring URL 'https://cisco.sharepoint.com/:p:/r/sites/oneib/Shared%20Documents/Compass%20Operations/Compass%20PPTs/Americas/Commercial/Compass_Analysis_FRONTLINE_MANAG_113653_202203.pptx?web=1' since it exceeds Excel's limit of 65,530 URLS per worksheet.\n",
      "  warn(\"Ignoring URL '%s' since it exceeds Excel's limit of \"\n",
      "C:\\Users\\phsheari\\.conda\\envs\\compass_env\\lib\\site-packages\\xlsxwriter\\worksheet.py:986: UserWarning: Ignoring URL 'https://cisco.sharepoint.com/:p:/r/sites/oneib/Shared%20Documents/Compass%20Operations/Compass%20PPTs/Americas/Commercial/Compass_Analysis_GAMING_LABORATO_113660_202203.pptx?web=1' since it exceeds Excel's limit of 65,530 URLS per worksheet.\n",
      "  warn(\"Ignoring URL '%s' since it exceeds Excel's limit of \"\n",
      "C:\\Users\\phsheari\\.conda\\envs\\compass_env\\lib\\site-packages\\xlsxwriter\\worksheet.py:986: UserWarning: Ignoring URL 'https://cisco.sharepoint.com/:p:/r/sites/oneib/Shared%20Documents/Compass%20Operations/Compass%20PPTs/Americas/Commercial/Compass_Analysis_ENVIRONMENTAL_D_113594_202203.pptx?web=1' since it exceeds Excel's limit of 65,530 URLS per worksheet.\n",
      "  warn(\"Ignoring URL '%s' since it exceeds Excel's limit of \"\n",
      "C:\\Users\\phsheari\\.conda\\envs\\compass_env\\lib\\site-packages\\xlsxwriter\\worksheet.py:986: UserWarning: Ignoring URL 'https://cisco.sharepoint.com/:p:/r/sites/oneib/Shared%20Documents/Compass%20Operations/Compass%20PPTs/Americas/Commercial/Compass_Analysis_EPHRATA_NATIONA_113596_202203.pptx?web=1' since it exceeds Excel's limit of 65,530 URLS per worksheet.\n",
      "  warn(\"Ignoring URL '%s' since it exceeds Excel's limit of \"\n",
      "C:\\Users\\phsheari\\.conda\\envs\\compass_env\\lib\\site-packages\\xlsxwriter\\worksheet.py:986: UserWarning: Ignoring URL 'https://cisco.sharepoint.com/:p:/r/sites/oneib/Shared%20Documents/Compass%20Operations/Compass%20PPTs/Americas/Commercial/Compass_Analysis_FM_BANK_113610_202203.pptx?web=1' since it exceeds Excel's limit of 65,530 URLS per worksheet.\n",
      "  warn(\"Ignoring URL '%s' since it exceeds Excel's limit of \"\n",
      "C:\\Users\\phsheari\\.conda\\envs\\compass_env\\lib\\site-packages\\xlsxwriter\\worksheet.py:986: UserWarning: Ignoring URL 'https://cisco.sharepoint.com/:p:/r/sites/oneib/Shared%20Documents/Compass%20Operations/Compass%20PPTs/Americas/Commercial/Compass_Analysis_COVENANT_HEALTH_113529_202203.pptx?web=1' since it exceeds Excel's limit of 65,530 URLS per worksheet.\n",
      "  warn(\"Ignoring URL '%s' since it exceeds Excel's limit of \"\n",
      "C:\\Users\\phsheari\\.conda\\envs\\compass_env\\lib\\site-packages\\xlsxwriter\\worksheet.py:986: UserWarning: Ignoring URL 'https://cisco.sharepoint.com/:p:/r/sites/oneib/Shared%20Documents/Compass%20Operations/Compass%20PPTs/Americas/Commercial/Compass_Analysis_FM_GLOBAL_113639_202203.pptx?web=1' since it exceeds Excel's limit of 65,530 URLS per worksheet.\n",
      "  warn(\"Ignoring URL '%s' since it exceeds Excel's limit of \"\n",
      "C:\\Users\\phsheari\\.conda\\envs\\compass_env\\lib\\site-packages\\xlsxwriter\\worksheet.py:986: UserWarning: Ignoring URL 'https://cisco.sharepoint.com/:p:/r/sites/oneib/Shared%20Documents/Compass%20Operations/Compass%20PPTs/Americas/Commercial/Compass_Analysis_FOXWOOD_113645_202203.pptx?web=1' since it exceeds Excel's limit of 65,530 URLS per worksheet.\n",
      "  warn(\"Ignoring URL '%s' since it exceeds Excel's limit of \"\n",
      "C:\\Users\\phsheari\\.conda\\envs\\compass_env\\lib\\site-packages\\xlsxwriter\\worksheet.py:986: UserWarning: Ignoring URL 'https://cisco.sharepoint.com/:p:/r/sites/oneib/Shared%20Documents/Compass%20Operations/Compass%20PPTs/Americas/Commercial/Compass_Analysis_HACHETTE_BOOK_G_113710_202203.pptx?web=1' since it exceeds Excel's limit of 65,530 URLS per worksheet.\n",
      "  warn(\"Ignoring URL '%s' since it exceeds Excel's limit of \"\n",
      "C:\\Users\\phsheari\\.conda\\envs\\compass_env\\lib\\site-packages\\xlsxwriter\\worksheet.py:986: UserWarning: Ignoring URL 'https://cisco.sharepoint.com/:p:/r/sites/oneib/Shared%20Documents/Compass%20Operations/Compass%20PPTs/Americas/Commercial/Compass_Analysis_EASTERN_MAINE_H_113576_202203.pptx?web=1' since it exceeds Excel's limit of 65,530 URLS per worksheet.\n",
      "  warn(\"Ignoring URL '%s' since it exceeds Excel's limit of \"\n",
      "C:\\Users\\phsheari\\.conda\\envs\\compass_env\\lib\\site-packages\\xlsxwriter\\worksheet.py:986: UserWarning: Ignoring URL 'https://cisco.sharepoint.com/:p:/r/sites/oneib/Shared%20Documents/Compass%20Operations/Compass%20PPTs/Americas/Commercial/Compass_Analysis_EDGE_TECHNOLOGY_113580_202203.pptx?web=1' since it exceeds Excel's limit of 65,530 URLS per worksheet.\n",
      "  warn(\"Ignoring URL '%s' since it exceeds Excel's limit of \"\n",
      "C:\\Users\\phsheari\\.conda\\envs\\compass_env\\lib\\site-packages\\xlsxwriter\\worksheet.py:986: UserWarning: Ignoring URL 'https://cisco.sharepoint.com/:p:/r/sites/oneib/Shared%20Documents/Compass%20Operations/Compass%20PPTs/Americas/Commercial/Compass_Analysis_AVON_113350_202203.pptx?web=1' since it exceeds Excel's limit of 65,530 URLS per worksheet.\n",
      "  warn(\"Ignoring URL '%s' since it exceeds Excel's limit of \"\n",
      "C:\\Users\\phsheari\\.conda\\envs\\compass_env\\lib\\site-packages\\xlsxwriter\\worksheet.py:986: UserWarning: Ignoring URL 'https://cisco.sharepoint.com/:p:/r/sites/oneib/Shared%20Documents/Compass%20Operations/Compass%20PPTs/Americas/Commercial/Compass_Analysis_HODGSON_RUSS_113739_202203.pptx?web=1' since it exceeds Excel's limit of 65,530 URLS per worksheet.\n",
      "  warn(\"Ignoring URL '%s' since it exceeds Excel's limit of \"\n",
      "C:\\Users\\phsheari\\.conda\\envs\\compass_env\\lib\\site-packages\\xlsxwriter\\worksheet.py:986: UserWarning: Ignoring URL 'https://cisco.sharepoint.com/:p:/r/sites/oneib/Shared%20Documents/Compass%20Operations/Compass%20PPTs/Americas/Commercial/Compass_Analysis_HUBBELL_INCORPO_113754_202203.pptx?web=1' since it exceeds Excel's limit of 65,530 URLS per worksheet.\n",
      "  warn(\"Ignoring URL '%s' since it exceeds Excel's limit of \"\n",
      "C:\\Users\\phsheari\\.conda\\envs\\compass_env\\lib\\site-packages\\xlsxwriter\\worksheet.py:986: UserWarning: Ignoring URL 'https://cisco.sharepoint.com/:p:/r/sites/oneib/Shared%20Documents/Compass%20Operations/Compass%20PPTs/Americas/Commercial/Compass_Analysis_AMERICAN_ASSOCI_113294_202203.pptx?web=1' since it exceeds Excel's limit of 65,530 URLS per worksheet.\n",
      "  warn(\"Ignoring URL '%s' since it exceeds Excel's limit of \"\n",
      "C:\\Users\\phsheari\\.conda\\envs\\compass_env\\lib\\site-packages\\xlsxwriter\\worksheet.py:986: UserWarning: Ignoring URL 'https://cisco.sharepoint.com/:p:/r/sites/oneib/Shared%20Documents/Compass%20Operations/Compass%20PPTs/Americas/Commercial/Compass_Analysis_MVP_HEALTH_PLAN_113989_202203.pptx?web=1' since it exceeds Excel's limit of 65,530 URLS per worksheet.\n",
      "  warn(\"Ignoring URL '%s' since it exceeds Excel's limit of \"\n",
      "C:\\Users\\phsheari\\.conda\\envs\\compass_env\\lib\\site-packages\\xlsxwriter\\worksheet.py:986: UserWarning: Ignoring URL 'https://cisco.sharepoint.com/:p:/r/sites/oneib/Shared%20Documents/Compass%20Operations/Compass%20PPTs/Americas/Commercial/Compass_Analysis_MORNEAU_SHEPELL_113973_202203.pptx?web=1' since it exceeds Excel's limit of 65,530 URLS per worksheet.\n",
      "  warn(\"Ignoring URL '%s' since it exceeds Excel's limit of \"\n",
      "C:\\Users\\phsheari\\.conda\\envs\\compass_env\\lib\\site-packages\\xlsxwriter\\worksheet.py:986: UserWarning: Ignoring URL 'https://cisco.sharepoint.com/:p:/r/sites/oneib/Shared%20Documents/Compass%20Operations/Compass%20PPTs/Americas/Commercial/Compass_Analysis_KCI_TECHNOLOGIE_113815_202203.pptx?web=1' since it exceeds Excel's limit of 65,530 URLS per worksheet.\n",
      "  warn(\"Ignoring URL '%s' since it exceeds Excel's limit of \"\n",
      "C:\\Users\\phsheari\\.conda\\envs\\compass_env\\lib\\site-packages\\xlsxwriter\\worksheet.py:986: UserWarning: Ignoring URL 'https://cisco.sharepoint.com/:p:/r/sites/oneib/Shared%20Documents/Compass%20Operations/Compass%20PPTs/Americas/Commercial/Compass_Analysis_JUSTICE_FEDERAL_113811_202203.pptx?web=1' since it exceeds Excel's limit of 65,530 URLS per worksheet.\n",
      "  warn(\"Ignoring URL '%s' since it exceeds Excel's limit of \"\n",
      "C:\\Users\\phsheari\\.conda\\envs\\compass_env\\lib\\site-packages\\xlsxwriter\\worksheet.py:986: UserWarning: Ignoring URL 'https://cisco.sharepoint.com/:p:/r/sites/oneib/Shared%20Documents/Compass%20Operations/Compass%20PPTs/Americas/Commercial/Compass_Analysis_LE_CREUSET_OF_A_113850_202203.pptx?web=1' since it exceeds Excel's limit of 65,530 URLS per worksheet.\n",
      "  warn(\"Ignoring URL '%s' since it exceeds Excel's limit of \"\n",
      "C:\\Users\\phsheari\\.conda\\envs\\compass_env\\lib\\site-packages\\xlsxwriter\\worksheet.py:986: UserWarning: Ignoring URL 'https://cisco.sharepoint.com/:p:/r/sites/oneib/Shared%20Documents/Compass%20Operations/Compass%20PPTs/Americas/Commercial/Compass_Analysis_LEARNING_TREE_I_113851_202203.pptx?web=1' since it exceeds Excel's limit of 65,530 URLS per worksheet.\n",
      "  warn(\"Ignoring URL '%s' since it exceeds Excel's limit of \"\n",
      "C:\\Users\\phsheari\\.conda\\envs\\compass_env\\lib\\site-packages\\xlsxwriter\\worksheet.py:986: UserWarning: Ignoring URL 'https://cisco.sharepoint.com/:p:/r/sites/oneib/Shared%20Documents/Compass%20Operations/Compass%20PPTs/Americas/Commercial/Compass_Analysis_LMG_113871_202203.pptx?web=1' since it exceeds Excel's limit of 65,530 URLS per worksheet.\n",
      "  warn(\"Ignoring URL '%s' since it exceeds Excel's limit of \"\n",
      "C:\\Users\\phsheari\\.conda\\envs\\compass_env\\lib\\site-packages\\xlsxwriter\\worksheet.py:986: UserWarning: Ignoring URL 'https://cisco.sharepoint.com/:p:/r/sites/oneib/Shared%20Documents/Compass%20Operations/Compass%20PPTs/Americas/Commercial/Compass_Analysis_MERIDIAN_CAPITA_113924_202203.pptx?web=1' since it exceeds Excel's limit of 65,530 URLS per worksheet.\n",
      "  warn(\"Ignoring URL '%s' since it exceeds Excel's limit of \"\n",
      "C:\\Users\\phsheari\\.conda\\envs\\compass_env\\lib\\site-packages\\xlsxwriter\\worksheet.py:986: UserWarning: Ignoring URL 'https://cisco.sharepoint.com/:p:/r/sites/oneib/Shared%20Documents/Compass%20Operations/Compass%20PPTs/Americas/Commercial/Compass_Analysis_MCCRACKEN_FINAN_113906_202203.pptx?web=1' since it exceeds Excel's limit of 65,530 URLS per worksheet.\n",
      "  warn(\"Ignoring URL '%s' since it exceeds Excel's limit of \"\n",
      "C:\\Users\\phsheari\\.conda\\envs\\compass_env\\lib\\site-packages\\xlsxwriter\\worksheet.py:986: UserWarning: Ignoring URL 'https://cisco.sharepoint.com/:p:/r/sites/oneib/Shared%20Documents/Compass%20Operations/Compass%20PPTs/Americas/Commercial/Compass_Analysis_MARIETTA_EYE_CL_113893_202203.pptx?web=1' since it exceeds Excel's limit of 65,530 URLS per worksheet.\n",
      "  warn(\"Ignoring URL '%s' since it exceeds Excel's limit of \"\n",
      "C:\\Users\\phsheari\\.conda\\envs\\compass_env\\lib\\site-packages\\xlsxwriter\\worksheet.py:986: UserWarning: Ignoring URL 'https://cisco.sharepoint.com/:p:/r/sites/oneib/Shared%20Documents/Compass%20Operations/Compass%20PPTs/Americas/Commercial/Compass_Analysis_MARKET_RESOURCE_113895_202203.pptx?web=1' since it exceeds Excel's limit of 65,530 URLS per worksheet.\n",
      "  warn(\"Ignoring URL '%s' since it exceeds Excel's limit of \"\n",
      "C:\\Users\\phsheari\\.conda\\envs\\compass_env\\lib\\site-packages\\xlsxwriter\\worksheet.py:986: UserWarning: Ignoring URL 'https://cisco.sharepoint.com/:p:/r/sites/oneib/Shared%20Documents/Compass%20Operations/Compass%20PPTs/Americas/Commercial/Compass_Analysis_MOMENTIVE_PERFO_113965_202203.pptx?web=1' since it exceeds Excel's limit of 65,530 URLS per worksheet.\n",
      "  warn(\"Ignoring URL '%s' since it exceeds Excel's limit of \"\n",
      "C:\\Users\\phsheari\\.conda\\envs\\compass_env\\lib\\site-packages\\xlsxwriter\\worksheet.py:986: UserWarning: Ignoring URL 'https://cisco.sharepoint.com/:p:/r/sites/oneib/Shared%20Documents/Compass%20Operations/Compass%20PPTs/Americas/Commercial/Compass_Analysis_LYDALL_INC_113880_202203.pptx?web=1' since it exceeds Excel's limit of 65,530 URLS per worksheet.\n",
      "  warn(\"Ignoring URL '%s' since it exceeds Excel's limit of \"\n",
      "C:\\Users\\phsheari\\.conda\\envs\\compass_env\\lib\\site-packages\\xlsxwriter\\worksheet.py:986: UserWarning: Ignoring URL 'https://cisco.sharepoint.com/:p:/r/sites/oneib/Shared%20Documents/Compass%20Operations/Compass%20PPTs/Americas/Commercial/Compass_Analysis_NETSCOUT_SYSTEM_114010_202203.pptx?web=1' since it exceeds Excel's limit of 65,530 URLS per worksheet.\n",
      "  warn(\"Ignoring URL '%s' since it exceeds Excel's limit of \"\n",
      "C:\\Users\\phsheari\\.conda\\envs\\compass_env\\lib\\site-packages\\xlsxwriter\\worksheet.py:986: UserWarning: Ignoring URL 'https://cisco.sharepoint.com/:p:/r/sites/oneib/Shared%20Documents/Compass%20Operations/Compass%20PPTs/Americas/Commercial/Compass_Analysis_LIBERTY_HOME_CA_113860_202203.pptx?web=1' since it exceeds Excel's limit of 65,530 URLS per worksheet.\n",
      "  warn(\"Ignoring URL '%s' since it exceeds Excel's limit of \"\n",
      "C:\\Users\\phsheari\\.conda\\envs\\compass_env\\lib\\site-packages\\xlsxwriter\\worksheet.py:986: UserWarning: Ignoring URL 'https://cisco.sharepoint.com/:p:/r/sites/oneib/Shared%20Documents/Compass%20Operations/Compass%20PPTs/Americas/Commercial/Compass_Analysis_PC_CONNECTION_S_114095_202203.pptx?web=1' since it exceeds Excel's limit of 65,530 URLS per worksheet.\n",
      "  warn(\"Ignoring URL '%s' since it exceeds Excel's limit of \"\n",
      "C:\\Users\\phsheari\\.conda\\envs\\compass_env\\lib\\site-packages\\xlsxwriter\\worksheet.py:986: UserWarning: Ignoring URL 'https://cisco.sharepoint.com/:p:/r/sites/oneib/Shared%20Documents/Compass%20Operations/Compass%20PPTs/Americas/Commercial/Compass_Analysis_ROBINSON__COLE__114159_202203.pptx?web=1' since it exceeds Excel's limit of 65,530 URLS per worksheet.\n",
      "  warn(\"Ignoring URL '%s' since it exceeds Excel's limit of \"\n",
      "C:\\Users\\phsheari\\.conda\\envs\\compass_env\\lib\\site-packages\\xlsxwriter\\worksheet.py:986: UserWarning: Ignoring URL 'https://cisco.sharepoint.com/:p:/r/sites/oneib/Shared%20Documents/Compass%20Operations/Compass%20PPTs/Americas/Commercial/Compass_Analysis_SAMARITAN_MEDIC_114173_202203.pptx?web=1' since it exceeds Excel's limit of 65,530 URLS per worksheet.\n",
      "  warn(\"Ignoring URL '%s' since it exceeds Excel's limit of \"\n",
      "C:\\Users\\phsheari\\.conda\\envs\\compass_env\\lib\\site-packages\\xlsxwriter\\worksheet.py:986: UserWarning: Ignoring URL 'https://cisco.sharepoint.com/:p:/r/sites/oneib/Shared%20Documents/Compass%20Operations/Compass%20PPTs/Americas/Commercial/Compass_Analysis_RICH_PRODUCTS_C_114154_202203.pptx?web=1' since it exceeds Excel's limit of 65,530 URLS per worksheet.\n",
      "  warn(\"Ignoring URL '%s' since it exceeds Excel's limit of \"\n",
      "C:\\Users\\phsheari\\.conda\\envs\\compass_env\\lib\\site-packages\\xlsxwriter\\worksheet.py:986: UserWarning: Ignoring URL 'https://cisco.sharepoint.com/:p:/r/sites/oneib/Shared%20Documents/Compass%20Operations/Compass%20PPTs/Americas/Commercial/Compass_Analysis_ST_MARYS_BANK_114242_202203.pptx?web=1' since it exceeds Excel's limit of 65,530 URLS per worksheet.\n",
      "  warn(\"Ignoring URL '%s' since it exceeds Excel's limit of \"\n",
      "C:\\Users\\phsheari\\.conda\\envs\\compass_env\\lib\\site-packages\\xlsxwriter\\worksheet.py:986: UserWarning: Ignoring URL 'https://cisco.sharepoint.com/:p:/r/sites/oneib/Shared%20Documents/Compass%20Operations/Compass%20PPTs/Americas/Commercial/Compass_Analysis_STURM_RUGER__CO_114258_202203.pptx?web=1' since it exceeds Excel's limit of 65,530 URLS per worksheet.\n",
      "  warn(\"Ignoring URL '%s' since it exceeds Excel's limit of \"\n",
      "C:\\Users\\phsheari\\.conda\\envs\\compass_env\\lib\\site-packages\\xlsxwriter\\worksheet.py:986: UserWarning: Ignoring URL 'https://cisco.sharepoint.com/:p:/r/sites/oneib/Shared%20Documents/Compass%20Operations/Compass%20PPTs/Americas/Commercial/Compass_Analysis_TOMPKINS_TRUST__114312_202203.pptx?web=1' since it exceeds Excel's limit of 65,530 URLS per worksheet.\n",
      "  warn(\"Ignoring URL '%s' since it exceeds Excel's limit of \"\n",
      "C:\\Users\\phsheari\\.conda\\envs\\compass_env\\lib\\site-packages\\xlsxwriter\\worksheet.py:986: UserWarning: Ignoring URL 'https://cisco.sharepoint.com/:p:/r/sites/oneib/Shared%20Documents/Compass%20Operations/Compass%20PPTs/Americas/Commercial/Compass_Analysis_PDP_GROUP_INCOR_114096_202203.pptx?web=1' since it exceeds Excel's limit of 65,530 URLS per worksheet.\n",
      "  warn(\"Ignoring URL '%s' since it exceeds Excel's limit of \"\n",
      "C:\\Users\\phsheari\\.conda\\envs\\compass_env\\lib\\site-packages\\xlsxwriter\\worksheet.py:986: UserWarning: Ignoring URL 'https://cisco.sharepoint.com/:p:/r/sites/oneib/Shared%20Documents/Compass%20Operations/Compass%20PPTs/Americas/Commercial/Compass_Analysis_PENN_CAPITAL_MA_114101_202203.pptx?web=1' since it exceeds Excel's limit of 65,530 URLS per worksheet.\n",
      "  warn(\"Ignoring URL '%s' since it exceeds Excel's limit of \"\n",
      "C:\\Users\\phsheari\\.conda\\envs\\compass_env\\lib\\site-packages\\xlsxwriter\\worksheet.py:986: UserWarning: Ignoring URL 'https://cisco.sharepoint.com/:p:/r/sites/oneib/Shared%20Documents/Compass%20Operations/Compass%20PPTs/Americas/Commercial/Compass_Analysis_PHILLIPS_LYTLE__114109_202203.pptx?web=1' since it exceeds Excel's limit of 65,530 URLS per worksheet.\n",
      "  warn(\"Ignoring URL '%s' since it exceeds Excel's limit of \"\n",
      "C:\\Users\\phsheari\\.conda\\envs\\compass_env\\lib\\site-packages\\xlsxwriter\\worksheet.py:986: UserWarning: Ignoring URL 'https://cisco.sharepoint.com/:p:/r/sites/oneib/Shared%20Documents/Compass%20Operations/Compass%20PPTs/Americas/Commercial/Compass_Analysis_R_T_VANDERBILT__114138_202203.pptx?web=1' since it exceeds Excel's limit of 65,530 URLS per worksheet.\n",
      "  warn(\"Ignoring URL '%s' since it exceeds Excel's limit of \"\n",
      "C:\\Users\\phsheari\\.conda\\envs\\compass_env\\lib\\site-packages\\xlsxwriter\\worksheet.py:986: UserWarning: Ignoring URL 'https://cisco.sharepoint.com/:p:/r/sites/oneib/Shared%20Documents/Compass%20Operations/Compass%20PPTs/Americas/Commercial/Compass_Analysis_SHELTERLOGIC_LL_114209_202203.pptx?web=1' since it exceeds Excel's limit of 65,530 URLS per worksheet.\n",
      "  warn(\"Ignoring URL '%s' since it exceeds Excel's limit of \"\n",
      "C:\\Users\\phsheari\\.conda\\envs\\compass_env\\lib\\site-packages\\xlsxwriter\\worksheet.py:986: UserWarning: Ignoring URL 'https://cisco.sharepoint.com/:p:/r/sites/oneib/Shared%20Documents/Compass%20Operations/Compass%20PPTs/Americas/Commercial/Compass_Analysis_SOUTH_COUNTY_HO_114234_202203.pptx?web=1' since it exceeds Excel's limit of 65,530 URLS per worksheet.\n",
      "  warn(\"Ignoring URL '%s' since it exceeds Excel's limit of \"\n",
      "C:\\Users\\phsheari\\.conda\\envs\\compass_env\\lib\\site-packages\\xlsxwriter\\worksheet.py:986: UserWarning: Ignoring URL 'https://cisco.sharepoint.com/:p:/r/sites/oneib/Shared%20Documents/Compass%20Operations/Compass%20PPTs/Americas/Commercial/Compass_Analysis_STACK_EXCHANGE__114244_202203.pptx?web=1' since it exceeds Excel's limit of 65,530 URLS per worksheet.\n",
      "  warn(\"Ignoring URL '%s' since it exceeds Excel's limit of \"\n",
      "C:\\Users\\phsheari\\.conda\\envs\\compass_env\\lib\\site-packages\\xlsxwriter\\worksheet.py:986: UserWarning: Ignoring URL 'https://cisco.sharepoint.com/:p:/r/sites/oneib/Shared%20Documents/Compass%20Operations/Compass%20PPTs/Americas/Commercial/Compass_Analysis_SYRACUSE_ORTHOP_114266_202203.pptx?web=1' since it exceeds Excel's limit of 65,530 URLS per worksheet.\n",
      "  warn(\"Ignoring URL '%s' since it exceeds Excel's limit of \"\n",
      "C:\\Users\\phsheari\\.conda\\envs\\compass_env\\lib\\site-packages\\xlsxwriter\\worksheet.py:986: UserWarning: Ignoring URL 'https://cisco.sharepoint.com/:p:/r/sites/oneib/Shared%20Documents/Compass%20Operations/Compass%20PPTs/Americas/Commercial/Compass_Analysis_THE_COUNTY_BANK_114281_202203.pptx?web=1' since it exceeds Excel's limit of 65,530 URLS per worksheet.\n",
      "  warn(\"Ignoring URL '%s' since it exceeds Excel's limit of \"\n",
      "C:\\Users\\phsheari\\.conda\\envs\\compass_env\\lib\\site-packages\\xlsxwriter\\worksheet.py:986: UserWarning: Ignoring URL 'https://cisco.sharepoint.com/:p:/r/sites/oneib/Shared%20Documents/Compass%20Operations/Compass%20PPTs/Americas/Commercial/Compass_Analysis_THE_LEE_COMPANY_114286_202203.pptx?web=1' since it exceeds Excel's limit of 65,530 URLS per worksheet.\n",
      "  warn(\"Ignoring URL '%s' since it exceeds Excel's limit of \"\n",
      "C:\\Users\\phsheari\\.conda\\envs\\compass_env\\lib\\site-packages\\xlsxwriter\\worksheet.py:986: UserWarning: Ignoring URL 'https://cisco.sharepoint.com/:p:/r/sites/oneib/Shared%20Documents/Compass%20Operations/Compass%20PPTs/Americas/Commercial/Compass_Analysis_THIELE_KAOLIN_114291_202203.pptx?web=1' since it exceeds Excel's limit of 65,530 URLS per worksheet.\n",
      "  warn(\"Ignoring URL '%s' since it exceeds Excel's limit of \"\n",
      "C:\\Users\\phsheari\\.conda\\envs\\compass_env\\lib\\site-packages\\xlsxwriter\\worksheet.py:986: UserWarning: Ignoring URL 'https://cisco.sharepoint.com/:p:/r/sites/oneib/Shared%20Documents/Compass%20Operations/Compass%20PPTs/Americas/Commercial/Compass_Analysis_THOMAS_H_LEE_PA_114292_202203.pptx?web=1' since it exceeds Excel's limit of 65,530 URLS per worksheet.\n",
      "  warn(\"Ignoring URL '%s' since it exceeds Excel's limit of \"\n",
      "C:\\Users\\phsheari\\.conda\\envs\\compass_env\\lib\\site-packages\\xlsxwriter\\worksheet.py:986: UserWarning: Ignoring URL 'https://cisco.sharepoint.com/:p:/r/sites/oneib/Shared%20Documents/Compass%20Operations/Compass%20PPTs/Americas/Commercial/Compass_Analysis_TIC_FEDERAL_CRE_114297_202203.pptx?web=1' since it exceeds Excel's limit of 65,530 URLS per worksheet.\n",
      "  warn(\"Ignoring URL '%s' since it exceeds Excel's limit of \"\n",
      "C:\\Users\\phsheari\\.conda\\envs\\compass_env\\lib\\site-packages\\xlsxwriter\\worksheet.py:986: UserWarning: Ignoring URL 'https://cisco.sharepoint.com/:p:/r/sites/oneib/Shared%20Documents/Compass%20Operations/Compass%20PPTs/Americas/Commercial/Compass_Analysis_TORAY_PLASTICS__114315_202203.pptx?web=1' since it exceeds Excel's limit of 65,530 URLS per worksheet.\n",
      "  warn(\"Ignoring URL '%s' since it exceeds Excel's limit of \"\n",
      "C:\\Users\\phsheari\\.conda\\envs\\compass_env\\lib\\site-packages\\xlsxwriter\\worksheet.py:986: UserWarning: Ignoring URL 'https://cisco.sharepoint.com/:p:/r/sites/oneib/Shared%20Documents/Compass%20Operations/Compass%20PPTs/Americas/Commercial/Compass_Analysis_ROCHESTER_GENER_114160_202203.pptx?web=1' since it exceeds Excel's limit of 65,530 URLS per worksheet.\n",
      "  warn(\"Ignoring URL '%s' since it exceeds Excel's limit of \"\n",
      "C:\\Users\\phsheari\\.conda\\envs\\compass_env\\lib\\site-packages\\xlsxwriter\\worksheet.py:986: UserWarning: Ignoring URL 'https://cisco.sharepoint.com/:p:/r/sites/oneib/Shared%20Documents/Compass%20Operations/Compass%20PPTs/Americas/Commercial/Compass_Analysis_SAVINGS_BANK_LI_114181_202203.pptx?web=1' since it exceeds Excel's limit of 65,530 URLS per worksheet.\n",
      "  warn(\"Ignoring URL '%s' since it exceeds Excel's limit of \"\n",
      "C:\\Users\\phsheari\\.conda\\envs\\compass_env\\lib\\site-packages\\xlsxwriter\\worksheet.py:986: UserWarning: Ignoring URL 'https://cisco.sharepoint.com/:p:/r/sites/oneib/Shared%20Documents/Compass%20Operations/Compass%20PPTs/Americas/Commercial/Compass_Analysis_TUFTS_HEALTH_PL_114331_202203.pptx?web=1' since it exceeds Excel's limit of 65,530 URLS per worksheet.\n",
      "  warn(\"Ignoring URL '%s' since it exceeds Excel's limit of \"\n",
      "C:\\Users\\phsheari\\.conda\\envs\\compass_env\\lib\\site-packages\\xlsxwriter\\worksheet.py:986: UserWarning: Ignoring URL 'https://cisco.sharepoint.com/:p:/r/sites/oneib/Shared%20Documents/Compass%20Operations/Compass%20PPTs/Americas/Commercial/Compass_Analysis_TROPICAL_FINANC_114326_202203.pptx?web=1' since it exceeds Excel's limit of 65,530 URLS per worksheet.\n",
      "  warn(\"Ignoring URL '%s' since it exceeds Excel's limit of \"\n",
      "C:\\Users\\phsheari\\.conda\\envs\\compass_env\\lib\\site-packages\\xlsxwriter\\worksheet.py:986: UserWarning: Ignoring URL 'https://cisco.sharepoint.com/:p:/r/sites/oneib/Shared%20Documents/Compass%20Operations/Compass%20PPTs/Americas/Commercial/Compass_Analysis_TROY_CORPORATIO_114327_202203.pptx?web=1' since it exceeds Excel's limit of 65,530 URLS per worksheet.\n",
      "  warn(\"Ignoring URL '%s' since it exceeds Excel's limit of \"\n",
      "C:\\Users\\phsheari\\.conda\\envs\\compass_env\\lib\\site-packages\\xlsxwriter\\worksheet.py:986: UserWarning: Ignoring URL 'https://cisco.sharepoint.com/:p:/r/sites/oneib/Shared%20Documents/Compass%20Operations/Compass%20PPTs/Americas/Commercial/Compass_Analysis_VALPAK_114365_202203.pptx?web=1' since it exceeds Excel's limit of 65,530 URLS per worksheet.\n",
      "  warn(\"Ignoring URL '%s' since it exceeds Excel's limit of \"\n",
      "C:\\Users\\phsheari\\.conda\\envs\\compass_env\\lib\\site-packages\\xlsxwriter\\worksheet.py:986: UserWarning: Ignoring URL 'https://cisco.sharepoint.com/:p:/r/sites/oneib/Shared%20Documents/Compass%20Operations/Compass%20PPTs/Americas/Commercial/Compass_Analysis_UNITED_RENTALS_114344_202203.pptx?web=1' since it exceeds Excel's limit of 65,530 URLS per worksheet.\n",
      "  warn(\"Ignoring URL '%s' since it exceeds Excel's limit of \"\n",
      "C:\\Users\\phsheari\\.conda\\envs\\compass_env\\lib\\site-packages\\xlsxwriter\\worksheet.py:986: UserWarning: Ignoring URL 'https://cx-tableau-stage.cisco.com/' since it exceeds Excel's limit of 65,530 URLS per worksheet.\n",
      "  warn(\"Ignoring URL '%s' since it exceeds Excel's limit of \"\n",
      "C:\\Users\\phsheari\\.conda\\envs\\compass_env\\lib\\site-packages\\xlsxwriter\\worksheet.py:986: UserWarning: Ignoring URL 'https://tableau.cisco.com/' since it exceeds Excel's limit of 65,530 URLS per worksheet.\n",
      "  warn(\"Ignoring URL '%s' since it exceeds Excel's limit of \"\n",
      "C:\\Users\\phsheari\\.conda\\envs\\compass_env\\lib\\site-packages\\xlsxwriter\\worksheet.py:986: UserWarning: Ignoring URL 'https://tableau.cisco.com/t/CXAmericasDelivery/views/OffersPackage/OfferAdvisorSalesRecommendation/alcastri@cisco.com/CountyofSanBernardino03112020?:showAppBanner=false&:display_count=n&:showVizHome=n&:origin=viz_share_link' since it exceeds Excel's limit of 65,530 URLS per worksheet.\n",
      "  warn(\"Ignoring URL '%s' since it exceeds Excel's limit of \"\n",
      "C:\\Users\\phsheari\\.conda\\envs\\compass_env\\lib\\site-packages\\xlsxwriter\\worksheet.py:986: UserWarning: Ignoring URL 'https://tableau.cisco.com/t/CXAmericasDelivery/views/OffersPackage/OfferAdvisorSalesRecommendation/alcastri@cisco.com/MadisonSquareTeam-05112020?:showAppBanner=false&:display_count=n&:showVizHome=n&:origin=viz_share_link' since it exceeds Excel's limit of 65,530 URLS per worksheet.\n",
      "  warn(\"Ignoring URL '%s' since it exceeds Excel's limit of \"\n",
      "C:\\Users\\phsheari\\.conda\\envs\\compass_env\\lib\\site-packages\\xlsxwriter\\worksheet.py:986: UserWarning: Ignoring URL 'https://tableau.cisco.com/t/CXAmericasDelivery/views/OffersPackage/OfferAdvisorSalesRecommendation/alcastri@cisco.com/Armstrong-06112020?:showAppBanner=false&:display_count=n&:showVizHome=n&:origin=viz_share_link' since it exceeds Excel's limit of 65,530 URLS per worksheet.\n",
      "  warn(\"Ignoring URL '%s' since it exceeds Excel's limit of \"\n",
      "C:\\Users\\phsheari\\.conda\\envs\\compass_env\\lib\\site-packages\\xlsxwriter\\worksheet.py:986: UserWarning: Ignoring URL 'https://tableau.cisco.com/t/CXAmericasDelivery/views/OffersPackage/OfferAdvisorSalesRecommendation/andmelo@cisco.com/Banpro?:showAppBanner=false&:origin=viz_share_link&:display_count=n&:showVizHome=n' since it exceeds Excel's limit of 65,530 URLS per worksheet.\n",
      "  warn(\"Ignoring URL '%s' since it exceeds Excel's limit of \"\n",
      "C:\\Users\\phsheari\\.conda\\envs\\compass_env\\lib\\site-packages\\xlsxwriter\\worksheet.py:986: UserWarning: Ignoring URL 'https://tableau.cisco.com/t/CXAmericasDelivery/views/OffersPackage_Batch20/OfferAdvisorSalesRecommendation/malondon@cisco.com/ec5f8fd5-5195-490e-9b9b-34b630030b35?:display_count=n&:showVizHome=n&:origin=viz_share_link' since it exceeds Excel's limit of 65,530 URLS per worksheet.\n",
      "  warn(\"Ignoring URL '%s' since it exceeds Excel's limit of \"\n",
      "C:\\Users\\phsheari\\.conda\\envs\\compass_env\\lib\\site-packages\\xlsxwriter\\worksheet.py:986: UserWarning: Ignoring URL 'https://tableau.cisco.com/t/CXAmericasDelivery/views/OffersPackage_Batch20/OfferAdvisorSalesRecommendation/malondon@cisco.com/2fa2c641-4dd1-4251-9342-7a7fa9a65b82?:display_count=n&:showVizHome=n&:origin=viz_share_link' since it exceeds Excel's limit of 65,530 URLS per worksheet.\n",
      "  warn(\"Ignoring URL '%s' since it exceeds Excel's limit of \"\n",
      "C:\\Users\\phsheari\\.conda\\envs\\compass_env\\lib\\site-packages\\xlsxwriter\\worksheet.py:986: UserWarning: Ignoring URL 'https://tableau.cisco.com/t/CXAmericasDelivery/views/OffersPackage_Batch20/OfferAdvisorSalesRecommendation/malondon@cisco.com/f5b0f878-ef16-4547-bdd8-29d11c35c922?:display_count=n&:showVizHome=n&:origin=viz_share_link' since it exceeds Excel's limit of 65,530 URLS per worksheet.\n",
      "  warn(\"Ignoring URL '%s' since it exceeds Excel's limit of \"\n",
      "C:\\Users\\phsheari\\.conda\\envs\\compass_env\\lib\\site-packages\\xlsxwriter\\worksheet.py:986: UserWarning: Ignoring URL 'https://tableau.cisco.com/t/CXAmericasDelivery/views/OffersPackage_Batch20/OfferAdvisorSalesRecommendation/malondon@cisco.com/66f99941-53b6-49a1-a194-e97188a2e396?:display_count=n&:showVizHome=n&:origin=viz_share_link' since it exceeds Excel's limit of 65,530 URLS per worksheet.\n",
      "  warn(\"Ignoring URL '%s' since it exceeds Excel's limit of \"\n",
      "C:\\Users\\phsheari\\.conda\\envs\\compass_env\\lib\\site-packages\\xlsxwriter\\worksheet.py:986: UserWarning: Ignoring URL 'https://tableau.cisco.com/t/CXAmericasDelivery/views/OffersPackage_Batch20/OfferAdvisorSalesRecommendation/malondon@cisco.com/03fc5b2c-8672-4622-b0ba-6cd4de03bf70?:display_count=n&:showVizHome=n&:origin=viz_share_link' since it exceeds Excel's limit of 65,530 URLS per worksheet.\n",
      "  warn(\"Ignoring URL '%s' since it exceeds Excel's limit of \"\n",
      "C:\\Users\\phsheari\\.conda\\envs\\compass_env\\lib\\site-packages\\xlsxwriter\\worksheet.py:986: UserWarning: Ignoring URL 'https://tableau.cisco.com/t/CXAmericasDelivery/views/OffersPackage_Batch17/OfferAdvisorSalesRecommendation/juagarc4@cisco.com/CajaCostaricense?:showAppBanner=false&:display_count=n&:showVizHome=n&:origin=viz_share_link' since it exceeds Excel's limit of 65,530 URLS per worksheet.\n",
      "  warn(\"Ignoring URL '%s' since it exceeds Excel's limit of \"\n",
      "C:\\Users\\phsheari\\.conda\\envs\\compass_env\\lib\\site-packages\\xlsxwriter\\worksheet.py:986: UserWarning: Ignoring URL 'https://tableau.cisco.com/t/CXAmericasDelivery/views/OffersPackage_Batch17/OfferAdvisorSalesRecommendation/malondon@cisco.com/GLENCORE?:showAppBanner=false&:display_count=n&:showVizHome=n&:origin=viz_share_link' since it exceeds Excel's limit of 65,530 URLS per worksheet.\n",
      "  warn(\"Ignoring URL '%s' since it exceeds Excel's limit of \"\n",
      "C:\\Users\\phsheari\\.conda\\envs\\compass_env\\lib\\site-packages\\xlsxwriter\\worksheet.py:986: UserWarning: Ignoring URL 'https://tableau.cisco.com/t/CXAmericasDelivery/views/OffersPackage_Batch17/OfferAdvisorSalesRecommendation/malondon@cisco.com/c38c0129-2a5e-470a-9ae3-654530d9d6de?:display_count=n&:showVizHome=n&:origin=viz_share_link' since it exceeds Excel's limit of 65,530 URLS per worksheet.\n",
      "  warn(\"Ignoring URL '%s' since it exceeds Excel's limit of \"\n",
      "C:\\Users\\phsheari\\.conda\\envs\\compass_env\\lib\\site-packages\\xlsxwriter\\worksheet.py:986: UserWarning: Ignoring URL 'https://tableau.cisco.com/t/CXAmericasDelivery/views/OffersPackage_Batch17/OfferAdvisorSalesRecommendation/malondon@cisco.com/GRUPOYPF?:showAppBanner=false&:display_count=n&:showVizHome=n&:origin=viz_share_link' since it exceeds Excel's limit of 65,530 URLS per worksheet.\n",
      "  warn(\"Ignoring URL '%s' since it exceeds Excel's limit of \"\n",
      "C:\\Users\\phsheari\\.conda\\envs\\compass_env\\lib\\site-packages\\xlsxwriter\\worksheet.py:986: UserWarning: Ignoring URL 'https://tableau.cisco.com/t/CXAmericasDelivery/views/OffersPackage_Batch18/OfferAdvisorSalesRecommendation/juagarc4@cisco.com/b32ab336-783a-41bf-b6e8-d51e89890fa8?:display_count=n&:showVizHome=n&:origin=viz_share_link' since it exceeds Excel's limit of 65,530 URLS per worksheet.\n",
      "  warn(\"Ignoring URL '%s' since it exceeds Excel's limit of \"\n",
      "C:\\Users\\phsheari\\.conda\\envs\\compass_env\\lib\\site-packages\\xlsxwriter\\worksheet.py:986: UserWarning: Ignoring URL 'https://tableau.cisco.com/t/CXAmericasDelivery/views/OffersPackage_Batch18/OfferAdvisorSalesRecommendation/malondon@cisco.com/9c7f3bd0-0b77-4519-a40c-fdd6d32fa533?:display_count=n&:showVizHome=n&:origin=viz_share_link' since it exceeds Excel's limit of 65,530 URLS per worksheet.\n",
      "  warn(\"Ignoring URL '%s' since it exceeds Excel's limit of \"\n",
      "C:\\Users\\phsheari\\.conda\\envs\\compass_env\\lib\\site-packages\\xlsxwriter\\worksheet.py:986: UserWarning: Ignoring URL 'https://tableau.cisco.com/t/CXAmericasDelivery/views/OffersPackage_Batch18/OfferAdvisorSalesRecommendation/malondon@cisco.com/BUNGENORTHAMERICA?:showAppBanner=false&:display_count=n&:showVizHome=n&:origin=viz_share_link' since it exceeds Excel's limit of 65,530 URLS per worksheet.\n",
      "  warn(\"Ignoring URL '%s' since it exceeds Excel's limit of \"\n",
      "C:\\Users\\phsheari\\.conda\\envs\\compass_env\\lib\\site-packages\\xlsxwriter\\worksheet.py:986: UserWarning: Ignoring URL 'https://cisco-my.sharepoint.com/:b:/p/fagalea/Ed1WtXS3xi5GqCC1AK_t30kBJyHDEJz3ClxIk16pno37NQ?email=linherna%40cisco.com&e=lMSBgc' since it exceeds Excel's limit of 65,530 URLS per worksheet.\n",
      "  warn(\"Ignoring URL '%s' since it exceeds Excel's limit of \"\n",
      "C:\\Users\\phsheari\\.conda\\envs\\compass_env\\lib\\site-packages\\xlsxwriter\\worksheet.py:986: UserWarning: Ignoring URL 'https://tableau.cisco.com/t/CXAmericasDelivery/views/OffersPackage_Batch18/OfferAdvisorSalesRecommendation/malondon@cisco.com/0c732f8b-ea35-407b-81b7-15bf4a515c98?:display_count=n&:showVizHome=n&:origin=viz_share_link' since it exceeds Excel's limit of 65,530 URLS per worksheet.\n",
      "  warn(\"Ignoring URL '%s' since it exceeds Excel's limit of \"\n",
      "C:\\Users\\phsheari\\.conda\\envs\\compass_env\\lib\\site-packages\\xlsxwriter\\worksheet.py:986: UserWarning: Ignoring URL 'https://tableau.cisco.com/t/CXAmericasDelivery/views/OffersPackage_Batch18/OfferAdvisorSalesRecommendation/malondon@cisco.com/HAWORTH?:showAppBanner=false&:display_count=n&:showVizHome=n&:origin=viz_share_link' since it exceeds Excel's limit of 65,530 URLS per worksheet.\n",
      "  warn(\"Ignoring URL '%s' since it exceeds Excel's limit of \"\n",
      "C:\\Users\\phsheari\\.conda\\envs\\compass_env\\lib\\site-packages\\xlsxwriter\\worksheet.py:986: UserWarning: Ignoring URL 'https://tableau.cisco.com/t/CXAmericasDelivery/views/OffersPackage_Batch18/OfferAdvisorSalesRecommendation/malondon@cisco.com/a142eefa-c6ed-4cdb-8d81-0cb57b3597be?:display_count=n&:showVizHome=n&:origin=viz_share_link' since it exceeds Excel's limit of 65,530 URLS per worksheet.\n",
      "  warn(\"Ignoring URL '%s' since it exceeds Excel's limit of \"\n",
      "C:\\Users\\phsheari\\.conda\\envs\\compass_env\\lib\\site-packages\\xlsxwriter\\worksheet.py:986: UserWarning: Ignoring URL 'https://tableau.cisco.com/t/CXAmericasDelivery/views/OffersPackage_Batch18/OfferAdvisorSalesRecommendation/malondon@cisco.com/64c6ae56-ddce-42a5-8de4-98d7c311ecd0?:display_count=n&:showVizHome=n&:origin=viz_share_link' since it exceeds Excel's limit of 65,530 URLS per worksheet.\n",
      "  warn(\"Ignoring URL '%s' since it exceeds Excel's limit of \"\n",
      "C:\\Users\\phsheari\\.conda\\envs\\compass_env\\lib\\site-packages\\xlsxwriter\\worksheet.py:986: UserWarning: Ignoring URL 'https://tableau.cisco.com/t/CXAmericasDelivery/views/OffersPackage_Batch18/OfferAdvisorSalesRecommendation/juagarc4@cisco.com/7287e3fd-581b-4e1e-94d7-a7f3dd0e59c9?:display_count=n&:showVizHome=n&:origin=viz_share_link' since it exceeds Excel's limit of 65,530 URLS per worksheet.\n",
      "  warn(\"Ignoring URL '%s' since it exceeds Excel's limit of \"\n",
      "C:\\Users\\phsheari\\.conda\\envs\\compass_env\\lib\\site-packages\\xlsxwriter\\worksheet.py:986: UserWarning: Ignoring URL 'https://tableau.cisco.com/t/CXAmericasDelivery/views/OffersPackage_Batch18/OfferAdvisorSalesRecommendation/juagarc4@cisco.com/HUTCHISON?:showAppBanner=false&:display_count=n&:showVizHome=n&:origin=viz_share_link' since it exceeds Excel's limit of 65,530 URLS per worksheet.\n",
      "  warn(\"Ignoring URL '%s' since it exceeds Excel's limit of \"\n",
      "C:\\Users\\phsheari\\.conda\\envs\\compass_env\\lib\\site-packages\\xlsxwriter\\worksheet.py:986: UserWarning: Ignoring URL 'https://tableau.cisco.com/t/CXAmericasDelivery/views/OffersPackage_Batch19/OfferAdvisorSalesRecommendation/juagarc4@cisco.com/171864e5-8411-4ae6-8a15-2e32d55049e3?:display_count=n&:showVizHome=n&:origin=viz_share_link' since it exceeds Excel's limit of 65,530 URLS per worksheet.\n",
      "  warn(\"Ignoring URL '%s' since it exceeds Excel's limit of \"\n",
      "C:\\Users\\phsheari\\.conda\\envs\\compass_env\\lib\\site-packages\\xlsxwriter\\worksheet.py:986: UserWarning: Ignoring URL 'https://tableau.cisco.com/t/CXAmericasDelivery/views/OffersPackage_Batch19/OfferAdvisorSalesRecommendation/juagarc4@cisco.com/Sumter?:showAppBanner=false&:display_count=n&:showVizHome=n&:origin=viz_share_link' since it exceeds Excel's limit of 65,530 URLS per worksheet.\n",
      "  warn(\"Ignoring URL '%s' since it exceeds Excel's limit of \"\n",
      "C:\\Users\\phsheari\\.conda\\envs\\compass_env\\lib\\site-packages\\xlsxwriter\\worksheet.py:986: UserWarning: Ignoring URL 'https://tableau.cisco.com/t/CXAmericasDelivery/views/OffersPackage_Batch19/OfferAdvisorSalesRecommendation/malondon@cisco.com/SCIENTIFICGAMES?:showAppBanner=false&:display_count=n&:showVizHome=n&:origin=viz_share_link' since it exceeds Excel's limit of 65,530 URLS per worksheet.\n",
      "  warn(\"Ignoring URL '%s' since it exceeds Excel's limit of \"\n",
      "C:\\Users\\phsheari\\.conda\\envs\\compass_env\\lib\\site-packages\\xlsxwriter\\worksheet.py:986: UserWarning: Ignoring URL 'https://tableau.cisco.com/t/CXAmericasDelivery/views/OffersPackage_Batch19/OfferAdvisorSalesRecommendation/malondon@cisco.com/f19d38f4-a087-451e-ad8c-023e260aa3ab?:display_count=n&:showVizHome=n&:origin=viz_share_link' since it exceeds Excel's limit of 65,530 URLS per worksheet.\n",
      "  warn(\"Ignoring URL '%s' since it exceeds Excel's limit of \"\n",
      "C:\\Users\\phsheari\\.conda\\envs\\compass_env\\lib\\site-packages\\xlsxwriter\\worksheet.py:986: UserWarning: Ignoring URL 'https://tableau.cisco.com/t/CXAmericasDelivery/views/OffersPackage_Batch18/OfferAdvisorSalesRecommendation/juagarc4@cisco.com/Salinas?:showAppBanner=false&:display_count=n&:showVizHome=n&:origin=viz_share_link' since it exceeds Excel's limit of 65,530 URLS per worksheet.\n",
      "  warn(\"Ignoring URL '%s' since it exceeds Excel's limit of \"\n",
      "C:\\Users\\phsheari\\.conda\\envs\\compass_env\\lib\\site-packages\\xlsxwriter\\worksheet.py:986: UserWarning: Ignoring URL 'https://tableau.cisco.com/t/CXAmericasDelivery/views/OffersPackage_Batch19/OfferAdvisorSalesRecommendation/malondon@cisco.com/EQUITYBANK?:showAppBanner=false&:display_count=n&:showVizHome=n&:origin=viz_share_link' since it exceeds Excel's limit of 65,530 URLS per worksheet.\n",
      "  warn(\"Ignoring URL '%s' since it exceeds Excel's limit of \"\n",
      "C:\\Users\\phsheari\\.conda\\envs\\compass_env\\lib\\site-packages\\xlsxwriter\\worksheet.py:986: UserWarning: Ignoring URL 'https://tableau.cisco.com/t/CXAmericasDelivery/views/OffersPackage_Batch18/OfferAdvisorSalesRecommendation/malondon@cisco.com/fcef0b08-35b4-4338-b9f5-e02268e417f2?:display_count=n&:showVizHome=n&:origin=viz_share_link' since it exceeds Excel's limit of 65,530 URLS per worksheet.\n",
      "  warn(\"Ignoring URL '%s' since it exceeds Excel's limit of \"\n",
      "C:\\Users\\phsheari\\.conda\\envs\\compass_env\\lib\\site-packages\\xlsxwriter\\worksheet.py:986: UserWarning: Ignoring URL 'https://tableau.cisco.com/t/CXAmericasDelivery/views/OffersPackage_Batch20/OfferAdvisorSalesRecommendation/juagarc4@cisco.com/Familia?:showAppBanner=false&:display_count=n&:showVizHome=n&:origin=viz_share_link' since it exceeds Excel's limit of 65,530 URLS per worksheet.\n",
      "  warn(\"Ignoring URL '%s' since it exceeds Excel's limit of \"\n",
      "C:\\Users\\phsheari\\.conda\\envs\\compass_env\\lib\\site-packages\\xlsxwriter\\worksheet.py:986: UserWarning: Ignoring URL 'https://tableau.cisco.com/t/CXAmericasDelivery/views/OffersPackage_Batch20/OfferAdvisorSalesRecommendation/juagarc4@cisco.com/IBERDROLA?:showAppBanner=false&:display_count=n&:showVizHome=n&:origin=viz_share_link' since it exceeds Excel's limit of 65,530 URLS per worksheet.\n",
      "  warn(\"Ignoring URL '%s' since it exceeds Excel's limit of \"\n",
      "C:\\Users\\phsheari\\.conda\\envs\\compass_env\\lib\\site-packages\\xlsxwriter\\worksheet.py:986: UserWarning: Ignoring URL 'https://tableau.cisco.com/t/CXAmericasDelivery/views/OffersPackage_Batch20/OfferAdvisorSalesRecommendation/malondon@cisco.com/d5d36fd4-e5b5-4bc7-8094-54e3b7681e01?:display_count=n&:showVizHome=n&:origin=viz_share_link' since it exceeds Excel's limit of 65,530 URLS per worksheet.\n",
      "  warn(\"Ignoring URL '%s' since it exceeds Excel's limit of \"\n",
      "C:\\Users\\phsheari\\.conda\\envs\\compass_env\\lib\\site-packages\\xlsxwriter\\worksheet.py:986: UserWarning: Ignoring URL 'https://tableau.cisco.com/t/CXAmericasDelivery/views/OffersPackage_Batch20/OfferAdvisorSalesRecommendation/malondon@cisco.com/fe07d0d1-c549-4dd5-b676-cd58d83d66a7?:display_count=n&:showVizHome=n&:origin=viz_share_link' since it exceeds Excel's limit of 65,530 URLS per worksheet.\n",
      "  warn(\"Ignoring URL '%s' since it exceeds Excel's limit of \"\n",
      "C:\\Users\\phsheari\\.conda\\envs\\compass_env\\lib\\site-packages\\xlsxwriter\\worksheet.py:986: UserWarning: Ignoring URL 'https://tableau.cisco.com/t/CXAmericasDelivery/views/OffersPackage_Batch20/OfferAdvisorSalesRecommendation/malondon@cisco.com/AGSLLC?:showAppBanner=false&:display_count=n&:showVizHome=n&:origin=viz_share_link' since it exceeds Excel's limit of 65,530 URLS per worksheet.\n",
      "  warn(\"Ignoring URL '%s' since it exceeds Excel's limit of \"\n",
      "C:\\Users\\phsheari\\.conda\\envs\\compass_env\\lib\\site-packages\\xlsxwriter\\worksheet.py:986: UserWarning: Ignoring URL 'https://tableau.cisco.com/t/CXAmericasDelivery/views/OffersPackage_Batch20/OfferAdvisorSalesRecommendation/malondon@cisco.com/MANHATTANASSOCIATESINC?:showAppBanner=false&:display_count=n&:showVizHome=n&:origin=viz_share_link' since it exceeds Excel's limit of 65,530 URLS per worksheet.\n",
      "  warn(\"Ignoring URL '%s' since it exceeds Excel's limit of \"\n",
      "C:\\Users\\phsheari\\.conda\\envs\\compass_env\\lib\\site-packages\\xlsxwriter\\worksheet.py:986: UserWarning: Ignoring URL 'https://tableau.cisco.com/t/CXAmericasDelivery/views/OffersPackage_Batch20/OfferAdvisorSalesRecommendation/juagarc4@cisco.com/CanadaPensionPlan?:showAppBanner=false&:display_count=n&:showVizHome=n&:origin=viz_share_link' since it exceeds Excel's limit of 65,530 URLS per worksheet.\n",
      "  warn(\"Ignoring URL '%s' since it exceeds Excel's limit of \"\n",
      "C:\\Users\\phsheari\\.conda\\envs\\compass_env\\lib\\site-packages\\xlsxwriter\\worksheet.py:986: UserWarning: Ignoring URL 'https://tableau.cisco.com/t/CXAmericasDelivery/views/OffersPackage_Batch21/OfferAdvisorSalesRecommendation/juagarc4@cisco.com/PuertoAguadulce?:showAppBanner=false&:display_count=n&:showVizHome=n&:origin=viz_share_link' since it exceeds Excel's limit of 65,530 URLS per worksheet.\n",
      "  warn(\"Ignoring URL '%s' since it exceeds Excel's limit of \"\n",
      "C:\\Users\\phsheari\\.conda\\envs\\compass_env\\lib\\site-packages\\xlsxwriter\\worksheet.py:986: UserWarning: Ignoring URL 'https://tableau.cisco.com/t/CXAmericasDelivery/views/OffersPackage_Batch21/OfferAdvisorSalesRecommendation/juagarc4@cisco.com/2f1c5fe9-a671-4ae5-a757-76420b459e1b?:display_count=n&:showVizHome=n&:origin=viz_share_link' since it exceeds Excel's limit of 65,530 URLS per worksheet.\n",
      "  warn(\"Ignoring URL '%s' since it exceeds Excel's limit of \"\n",
      "C:\\Users\\phsheari\\.conda\\envs\\compass_env\\lib\\site-packages\\xlsxwriter\\worksheet.py:986: UserWarning: Ignoring URL 'https://tableau.cisco.com/t/CXAmericasDelivery/views/OffersPackage_Batch21/OfferAdvisorSalesRecommendation/juagarc4@cisco.com/FederacionNacionaldeCafeteros?:showAppBanner=false&:display_count=n&:showVizHome=n&:origin=viz_share_link' since it exceeds Excel's limit of 65,530 URLS per worksheet.\n",
      "  warn(\"Ignoring URL '%s' since it exceeds Excel's limit of \"\n",
      "C:\\Users\\phsheari\\.conda\\envs\\compass_env\\lib\\site-packages\\xlsxwriter\\worksheet.py:986: UserWarning: Ignoring URL 'https://tableau.cisco.com/t/CXAmericasDelivery/views/OffersPackage_Batch21/OfferAdvisorSalesRecommendation/malondon@cisco.com/5ff16fd8-441c-4e6f-aad6-a14c1f751ffc?:display_count=n&:showVizHome=n&:origin=viz_share_link' since it exceeds Excel's limit of 65,530 URLS per worksheet.\n",
      "  warn(\"Ignoring URL '%s' since it exceeds Excel's limit of \"\n",
      "C:\\Users\\phsheari\\.conda\\envs\\compass_env\\lib\\site-packages\\xlsxwriter\\worksheet.py:986: UserWarning: Ignoring URL 'https://tableau.cisco.com/t/CXAmericasDelivery/views/OffersPackage_Batch21/OfferAdvisorSalesRecommendation/juagarc4@cisco.com/Indura?:showAppBanner=false&:display_count=n&:showVizHome=n&:origin=viz_share_link' since it exceeds Excel's limit of 65,530 URLS per worksheet.\n",
      "  warn(\"Ignoring URL '%s' since it exceeds Excel's limit of \"\n",
      "C:\\Users\\phsheari\\.conda\\envs\\compass_env\\lib\\site-packages\\xlsxwriter\\worksheet.py:986: UserWarning: Ignoring URL 'https://tableau.cisco.com/t/CXAmericasDelivery/views/OffersPackage_Batch21/OfferAdvisorSalesRecommendation/juagarc4@cisco.com/universidadAut?:showAppBanner=false&:display_count=n&:showVizHome=n&:origin=viz_share_link' since it exceeds Excel's limit of 65,530 URLS per worksheet.\n",
      "  warn(\"Ignoring URL '%s' since it exceeds Excel's limit of \"\n",
      "C:\\Users\\phsheari\\.conda\\envs\\compass_env\\lib\\site-packages\\xlsxwriter\\worksheet.py:986: UserWarning: Ignoring URL 'https://tableau.cisco.com/t/CXAmericasDelivery/views/OffersPackage_Batch21/OfferAdvisorSalesRecommendation/juagarc4@cisco.com/FashionPark?:showAppBanner=false&:display_count=n&:showVizHome=n&:origin=viz_share_link' since it exceeds Excel's limit of 65,530 URLS per worksheet.\n",
      "  warn(\"Ignoring URL '%s' since it exceeds Excel's limit of \"\n",
      "C:\\Users\\phsheari\\.conda\\envs\\compass_env\\lib\\site-packages\\xlsxwriter\\worksheet.py:986: UserWarning: Ignoring URL 'https://tableau.cisco.com/t/CXAmericasDelivery/views/OffersPackage_Batch21/OfferAdvisorSalesRecommendation/malondon@cisco.com/BLACKANDVEATCHINC?:showAppBanner=false&:display_count=n&:showVizHome=n&:origin=viz_share_link' since it exceeds Excel's limit of 65,530 URLS per worksheet.\n",
      "  warn(\"Ignoring URL '%s' since it exceeds Excel's limit of \"\n",
      "C:\\Users\\phsheari\\.conda\\envs\\compass_env\\lib\\site-packages\\xlsxwriter\\worksheet.py:986: UserWarning: Ignoring URL 'https://tableau.cisco.com/t/CXAmericasDelivery/views/OffersPackage_Batch21/OfferAdvisorSalesRecommendation/malondon@cisco.com/7c17a993-79e8-4b9c-9cf7-ee174a1cfa00?:display_count=n&:showVizHome=n&:origin=viz_share_link' since it exceeds Excel's limit of 65,530 URLS per worksheet.\n",
      "  warn(\"Ignoring URL '%s' since it exceeds Excel's limit of \"\n",
      "C:\\Users\\phsheari\\.conda\\envs\\compass_env\\lib\\site-packages\\xlsxwriter\\worksheet.py:986: UserWarning: Ignoring URL 'https://tableau.cisco.com/t/CXAmericasDelivery/views/OffersPackage_Batch21/OfferAdvisorSalesRecommendation/malondon@cisco.com/56b7054e-6065-4ef0-8afe-5e206f9b14e3?:display_count=n&:showVizHome=n&:origin=viz_share_link' since it exceeds Excel's limit of 65,530 URLS per worksheet.\n",
      "  warn(\"Ignoring URL '%s' since it exceeds Excel's limit of \"\n",
      "C:\\Users\\phsheari\\.conda\\envs\\compass_env\\lib\\site-packages\\xlsxwriter\\worksheet.py:986: UserWarning: Ignoring URL 'https://tableau.cisco.com/t/CXAmericasDelivery/views/OffersPackage_Batch21/OfferAdvisorSalesRecommendation/malondon@cisco.com/SPEEDYCASHCPT?:showAppBanner=false&:display_count=n&:showVizHome=n&:origin=viz_share_link' since it exceeds Excel's limit of 65,530 URLS per worksheet.\n",
      "  warn(\"Ignoring URL '%s' since it exceeds Excel's limit of \"\n",
      "C:\\Users\\phsheari\\.conda\\envs\\compass_env\\lib\\site-packages\\xlsxwriter\\worksheet.py:986: UserWarning: Ignoring URL 'https://tableau.cisco.com/t/CXAmericasDelivery/views/OffersPackage_Batch21/OfferAdvisorSalesRecommendation/malondon@cisco.com/a5e2e8a4-7877-475a-90b3-2813f4916207?:display_count=n&:showVizHome=n&:origin=viz_share_link' since it exceeds Excel's limit of 65,530 URLS per worksheet.\n",
      "  warn(\"Ignoring URL '%s' since it exceeds Excel's limit of \"\n",
      "C:\\Users\\phsheari\\.conda\\envs\\compass_env\\lib\\site-packages\\xlsxwriter\\worksheet.py:986: UserWarning: Ignoring URL 'https://tableau.cisco.com/t/CXAmericasDelivery/views/OffersPackage_Batch21/OfferAdvisorSalesRecommendation/malondon@cisco.com/4486df23-b537-45a1-9537-d1292504e3da?:display_count=n&:showVizHome=n&:origin=viz_share_link' since it exceeds Excel's limit of 65,530 URLS per worksheet.\n",
      "  warn(\"Ignoring URL '%s' since it exceeds Excel's limit of \"\n",
      "C:\\Users\\phsheari\\.conda\\envs\\compass_env\\lib\\site-packages\\xlsxwriter\\worksheet.py:986: UserWarning: Ignoring URL 'https://tableau.cisco.com/t/CXAmericasDelivery/views/OffersPackage_Batch22/OfferAdvisorSalesRecommendation/malondon@cisco.com/6ebc54de-28e4-460f-8291-b4c03fc2d296?:display_count=n&:showVizHome=n&:origin=viz_share_link' since it exceeds Excel's limit of 65,530 URLS per worksheet.\n",
      "  warn(\"Ignoring URL '%s' since it exceeds Excel's limit of \"\n",
      "C:\\Users\\phsheari\\.conda\\envs\\compass_env\\lib\\site-packages\\xlsxwriter\\worksheet.py:986: UserWarning: Ignoring URL 'https://tableau.cisco.com/t/CXAmericasDelivery/views/OffersPackage_Batch22/OfferAdvisorSalesRecommendation/malondon@cisco.com/CARLTONFIELDS?:showAppBanner=false&:display_count=n&:showVizHome=n&:origin=viz_share_link' since it exceeds Excel's limit of 65,530 URLS per worksheet.\n",
      "  warn(\"Ignoring URL '%s' since it exceeds Excel's limit of \"\n",
      "C:\\Users\\phsheari\\.conda\\envs\\compass_env\\lib\\site-packages\\xlsxwriter\\worksheet.py:986: UserWarning: Ignoring URL 'https://tableau.cisco.com/t/CXAmericasDelivery/views/OffersPackage_Batch22/OfferAdvisorSalesRecommendation/malondon@cisco.com/22449722-8e92-4494-9554-1a5505304800?:display_count=n&:showVizHome=n&:origin=viz_share_link' since it exceeds Excel's limit of 65,530 URLS per worksheet.\n",
      "  warn(\"Ignoring URL '%s' since it exceeds Excel's limit of \"\n",
      "C:\\Users\\phsheari\\.conda\\envs\\compass_env\\lib\\site-packages\\xlsxwriter\\worksheet.py:986: UserWarning: Ignoring URL 'https://tableau.cisco.com/t/CXAmericasDelivery/views/OffersPackage_Batch22/OfferAdvisorSalesRecommendation/malondon@cisco.com/dd7e7793-672b-40d8-b44f-4102e5129387?:display_count=n&:showVizHome=n&:origin=viz_share_link' since it exceeds Excel's limit of 65,530 URLS per worksheet.\n",
      "  warn(\"Ignoring URL '%s' since it exceeds Excel's limit of \"\n",
      "C:\\Users\\phsheari\\.conda\\envs\\compass_env\\lib\\site-packages\\xlsxwriter\\worksheet.py:986: UserWarning: Ignoring URL 'https://tableau.cisco.com/t/CXAmericasDelivery/views/OffersPackage_Batch22/OfferAdvisorSalesRecommendation/malondon@cisco.com/3b6caab2-2d82-4170-94d3-d7cf10a9a37c?:display_count=n&:showVizHome=n&:origin=viz_share_link' since it exceeds Excel's limit of 65,530 URLS per worksheet.\n",
      "  warn(\"Ignoring URL '%s' since it exceeds Excel's limit of \"\n",
      "C:\\Users\\phsheari\\.conda\\envs\\compass_env\\lib\\site-packages\\xlsxwriter\\worksheet.py:986: UserWarning: Ignoring URL 'https://tableau.cisco.com/t/CXAmericasDelivery/views/OffersPackage_Batch22/OfferAdvisorSalesRecommendation/malondon@cisco.com/13b3d89d-74c3-4524-9da6-5fbf21f6d752?:display_count=n&:showVizHome=n&:origin=viz_share_link' since it exceeds Excel's limit of 65,530 URLS per worksheet.\n",
      "  warn(\"Ignoring URL '%s' since it exceeds Excel's limit of \"\n",
      "C:\\Users\\phsheari\\.conda\\envs\\compass_env\\lib\\site-packages\\xlsxwriter\\worksheet.py:986: UserWarning: Ignoring URL 'https://tableau.cisco.com/t/CXAmericasDelivery/views/OffersPackage_Batch22/OfferAdvisorSalesRecommendation/malondon@cisco.com/NATIONALASSOCIATIONOFINSURANCECOMMISSIONERS?:showAppBanner=false&:display_count=n&:showVizHome=n&:origin=viz_share_link' since it exceeds Excel's limit of 65,530 URLS per worksheet.\n",
      "  warn(\"Ignoring URL '%s' since it exceeds Excel's limit of \"\n",
      "C:\\Users\\phsheari\\.conda\\envs\\compass_env\\lib\\site-packages\\xlsxwriter\\worksheet.py:986: UserWarning: Ignoring URL 'https://tableau.cisco.com/t/CXAmericasDelivery/views/OffersPackage_Batch23/OfferAdvisorSalesRecommendation/malondon@cisco.com/NEBRASKAFURNITUREMARTINC?:showAppBanner=false&:display_count=n&:showVizHome=n&:origin=viz_share_link' since it exceeds Excel's limit of 65,530 URLS per worksheet.\n",
      "  warn(\"Ignoring URL '%s' since it exceeds Excel's limit of \"\n",
      "C:\\Users\\phsheari\\.conda\\envs\\compass_env\\lib\\site-packages\\xlsxwriter\\worksheet.py:986: UserWarning: Ignoring URL 'https://tableau.cisco.com/t/CXAmericasDelivery/views/OffersPackage_Batch23/OfferAdvisorSalesRecommendation/juagarc4@cisco.com/ACIWORLDWIDE?:showAppBanner=false&:origin=viz_share_link&:display_count=n&:showVizHome=n' since it exceeds Excel's limit of 65,530 URLS per worksheet.\n",
      "  warn(\"Ignoring URL '%s' since it exceeds Excel's limit of \"\n",
      "C:\\Users\\phsheari\\.conda\\envs\\compass_env\\lib\\site-packages\\xlsxwriter\\worksheet.py:986: UserWarning: Ignoring URL 'https://tableau.cisco.com/t/CXAmericasDelivery/views/OffersPackage_Batch23/OfferAdvisorSalesRecommendation/juagarc4@cisco.com/AVANOS?:showAppBanner=false&:origin=viz_share_link&:display_count=n&:showVizHome=n' since it exceeds Excel's limit of 65,530 URLS per worksheet.\n",
      "  warn(\"Ignoring URL '%s' since it exceeds Excel's limit of \"\n",
      "C:\\Users\\phsheari\\.conda\\envs\\compass_env\\lib\\site-packages\\xlsxwriter\\worksheet.py:986: UserWarning: Ignoring URL 'https://tableau.cisco.com/t/CXAmericasDelivery/views/OffersPackage_Batch23/OfferAdvisorSalesRecommendation/malondon@cisco.com/d1c6bcbd-c470-4199-a1c1-cbc7c42c4e11?:display_count=n&:showVizHome=n&:origin=viz_share_link' since it exceeds Excel's limit of 65,530 URLS per worksheet.\n",
      "  warn(\"Ignoring URL '%s' since it exceeds Excel's limit of \"\n",
      "C:\\Users\\phsheari\\.conda\\envs\\compass_env\\lib\\site-packages\\xlsxwriter\\worksheet.py:986: UserWarning: Ignoring URL 'https://tableau.cisco.com/t/CXAmericasDelivery/views/OffersPackage_Batch23/OfferAdvisorSalesRecommendation/malondon@cisco.com/6149bd0f-943f-479b-8829-ecf7f0989e99?:display_count=n&:showVizHome=n&:origin=viz_share_link' since it exceeds Excel's limit of 65,530 URLS per worksheet.\n",
      "  warn(\"Ignoring URL '%s' since it exceeds Excel's limit of \"\n",
      "C:\\Users\\phsheari\\.conda\\envs\\compass_env\\lib\\site-packages\\xlsxwriter\\worksheet.py:986: UserWarning: Ignoring URL 'https://tableau.cisco.com/t/CXAmericasDelivery/views/OffersPackage_Batch23/OfferAdvisorSalesRecommendation/malondon@cisco.com/223181ed-51c8-4188-b457-2cc427616a33?:display_count=n&:showVizHome=n&:origin=viz_share_link' since it exceeds Excel's limit of 65,530 URLS per worksheet.\n",
      "  warn(\"Ignoring URL '%s' since it exceeds Excel's limit of \"\n",
      "C:\\Users\\phsheari\\.conda\\envs\\compass_env\\lib\\site-packages\\xlsxwriter\\worksheet.py:986: UserWarning: Ignoring URL 'https://tableau.cisco.com/t/CXAmericasDelivery/views/OffersPackage_Batch24/OfferAdvisorSalesRecommendation/malondon@cisco.com/6f249898-2310-4083-a584-ff6b83a6fd2c?:display_count=n&:showVizHome=n&:origin=viz_share_link' since it exceeds Excel's limit of 65,530 URLS per worksheet.\n",
      "  warn(\"Ignoring URL '%s' since it exceeds Excel's limit of \"\n",
      "C:\\Users\\phsheari\\.conda\\envs\\compass_env\\lib\\site-packages\\xlsxwriter\\worksheet.py:986: UserWarning: Ignoring URL 'https://tableau.cisco.com/t/CXAmericasDelivery/views/OffersPackage_Batch23/OfferAdvisorSalesRecommendation/juagarc4@cisco.com/8e6dd01b-1a29-4448-b5dd-0b339c7dda63?:display_count=n&:showVizHome=n&:origin=viz_share_link' since it exceeds Excel's limit of 65,530 URLS per worksheet.\n",
      "  warn(\"Ignoring URL '%s' since it exceeds Excel's limit of \"\n",
      "C:\\Users\\phsheari\\.conda\\envs\\compass_env\\lib\\site-packages\\xlsxwriter\\worksheet.py:986: UserWarning: Ignoring URL 'https://tableau.cisco.com/t/CXAmericasDelivery/views/OffersPackage_Batch23/OfferAdvisorSalesRecommendation/juagarc4@cisco.com/saskatchewan?:showAppBanner=false&:origin=viz_share_link&:display_count=n&:showVizHome=n' since it exceeds Excel's limit of 65,530 URLS per worksheet.\n",
      "  warn(\"Ignoring URL '%s' since it exceeds Excel's limit of \"\n",
      "C:\\Users\\phsheari\\.conda\\envs\\compass_env\\lib\\site-packages\\xlsxwriter\\worksheet.py:986: UserWarning: Ignoring URL 'https://tableau.cisco.com/t/CXAmericasDelivery/views/OffersPackage_Batch20/OfferAdvisorSalesRecommendation/juagarc4@cisco.com/TorontoDistrictSchoolBoard?:showAppBanner=false&:display_count=n&:showVizHome=n&:origin=viz_share_link' since it exceeds Excel's limit of 65,530 URLS per worksheet.\n",
      "  warn(\"Ignoring URL '%s' since it exceeds Excel's limit of \"\n",
      "C:\\Users\\phsheari\\.conda\\envs\\compass_env\\lib\\site-packages\\xlsxwriter\\worksheet.py:986: UserWarning: Ignoring URL 'https://tableau.cisco.com/t/CXAmericasDelivery/views/OffersPackage_Batch25/OfferAdvisorSalesRecommendation/malondon@cisco.com/3998d2e8-d389-4cce-9e14-3e51b8559d42?:display_count=n&:showVizHome=n&:origin=viz_share_link' since it exceeds Excel's limit of 65,530 URLS per worksheet.\n",
      "  warn(\"Ignoring URL '%s' since it exceeds Excel's limit of \"\n",
      "C:\\Users\\phsheari\\.conda\\envs\\compass_env\\lib\\site-packages\\xlsxwriter\\worksheet.py:986: UserWarning: Ignoring URL 'https://tableau.cisco.com/t/CXAmericasDelivery/views/OffersPackage_Batch25/OfferAdvisorSalesRecommendation/daylozan@cisco.com/NEOGENOMICS?:showAppBanner=false&:display_count=n&:showVizHome=n&:origin=viz_share_link' since it exceeds Excel's limit of 65,530 URLS per worksheet.\n",
      "  warn(\"Ignoring URL '%s' since it exceeds Excel's limit of \"\n",
      "C:\\Users\\phsheari\\.conda\\envs\\compass_env\\lib\\site-packages\\xlsxwriter\\worksheet.py:986: UserWarning: Ignoring URL 'https://tableau.cisco.com/t/CXAmericasDelivery/views/OffersPackage_Batch25/OfferAdvisorSalesRecommendation/daylozan@cisco.com/63604efe-a6df-4cbf-881c-7f841fc4e1b9?:showAppBanner=false&:origin=viz_share_link&:display_count=n&:showVizHome=n' since it exceeds Excel's limit of 65,530 URLS per worksheet.\n",
      "  warn(\"Ignoring URL '%s' since it exceeds Excel's limit of \"\n",
      "C:\\Users\\phsheari\\.conda\\envs\\compass_env\\lib\\site-packages\\xlsxwriter\\worksheet.py:986: UserWarning: Ignoring URL 'https://tableau.cisco.com/t/CXAmericasDelivery/views/OffersPackage_Batch25/OfferAdvisorSalesRecommendation/daylozan@cisco.com/TERPEL?:showAppBanner=false&:display_count=n&:showVizHome=n&:origin=viz_share_link' since it exceeds Excel's limit of 65,530 URLS per worksheet.\n",
      "  warn(\"Ignoring URL '%s' since it exceeds Excel's limit of \"\n",
      "C:\\Users\\phsheari\\.conda\\envs\\compass_env\\lib\\site-packages\\xlsxwriter\\worksheet.py:986: UserWarning: Ignoring URL 'https://tableau.cisco.com/t/CXAmericasDelivery/views/OffersPackage_Batch26/OfferAdvisorSalesRecommendation/malondon@cisco.com/72c0da5a-4f1c-4f36-b443-605b2a73abcb?:display_count=n&:showVizHome=n&:origin=viz_share_link' since it exceeds Excel's limit of 65,530 URLS per worksheet.\n",
      "  warn(\"Ignoring URL '%s' since it exceeds Excel's limit of \"\n",
      "C:\\Users\\phsheari\\.conda\\envs\\compass_env\\lib\\site-packages\\xlsxwriter\\worksheet.py:986: UserWarning: Ignoring URL 'https://tableau.cisco.com/t/CXAmericasDelivery/views/OffersPackage_Batch26/OfferAdvisorSalesRecommendation/daylozan@cisco.com/AEROJET?:showAppBanner=false&:display_count=n&:showVizHome=n&:origin=viz_share_link' since it exceeds Excel's limit of 65,530 URLS per worksheet.\n",
      "  warn(\"Ignoring URL '%s' since it exceeds Excel's limit of \"\n",
      "C:\\Users\\phsheari\\.conda\\envs\\compass_env\\lib\\site-packages\\xlsxwriter\\worksheet.py:986: UserWarning: Ignoring URL 'https://tableau.cisco.com/t/CXAmericasDelivery/views/OffersPackage_EMEAR_SAV_203726679_DEBEKA/OfferAdvisorSalesRecommendation?:showAppBanner=false&:display_count=n&:showVizHome=n&:origin=viz_share_link' since it exceeds Excel's limit of 65,530 URLS per worksheet.\n",
      "  warn(\"Ignoring URL '%s' since it exceeds Excel's limit of \"\n",
      "C:\\Users\\phsheari\\.conda\\envs\\compass_env\\lib\\site-packages\\xlsxwriter\\worksheet.py:986: UserWarning: Ignoring URL 'https://tableau.cisco.com/t/CXAmericasDelivery/views/OffersPackage_Batch27/OfferAdvisorSalesRecommendation/malondon@cisco.com/2b54a8e8-14cc-46c2-8e43-f034ef6f4bff?:display_count=n&:showVizHome=n&:origin=viz_share_link' since it exceeds Excel's limit of 65,530 URLS per worksheet.\n",
      "  warn(\"Ignoring URL '%s' since it exceeds Excel's limit of \"\n",
      "C:\\Users\\phsheari\\.conda\\envs\\compass_env\\lib\\site-packages\\xlsxwriter\\worksheet.py:986: UserWarning: Ignoring URL 'https://tableau.cisco.com/t/CXAmericasDelivery/views/OffersPackage_Batch27/OfferAdvisorSalesRecommendation/malondon@cisco.com/PARKPLACETECHNOLOGIESINC?:showAppBanner=false&:display_count=n&:showVizHome=n&:origin=viz_share_link' since it exceeds Excel's limit of 65,530 URLS per worksheet.\n",
      "  warn(\"Ignoring URL '%s' since it exceeds Excel's limit of \"\n",
      "C:\\Users\\phsheari\\.conda\\envs\\compass_env\\lib\\site-packages\\xlsxwriter\\worksheet.py:986: UserWarning: Ignoring URL 'https://tableau.cisco.com/t/CXAmericasDelivery/views/OffersPackage_Batch27/OfferAdvisorSalesRecommendation/malondon@cisco.com/f6a10ae4-523d-469f-98d7-14918d02398f?:display_count=n&:showVizHome=n&:origin=viz_share_link' since it exceeds Excel's limit of 65,530 URLS per worksheet.\n",
      "  warn(\"Ignoring URL '%s' since it exceeds Excel's limit of \"\n",
      "C:\\Users\\phsheari\\.conda\\envs\\compass_env\\lib\\site-packages\\xlsxwriter\\worksheet.py:986: UserWarning: Ignoring URL 'https://tableau.cisco.com/t/CXAmericasDelivery/views/OffersPackage_Batch27/OfferAdvisorSalesRecommendation/malondon@cisco.com/8d23b0d7-60f5-480e-aa70-d2bec21bb303?:display_count=n&:showVizHome=n&:origin=viz_share_link' since it exceeds Excel's limit of 65,530 URLS per worksheet.\n",
      "  warn(\"Ignoring URL '%s' since it exceeds Excel's limit of \"\n",
      "C:\\Users\\phsheari\\.conda\\envs\\compass_env\\lib\\site-packages\\xlsxwriter\\worksheet.py:986: UserWarning: Ignoring URL 'https://tableau.cisco.com/t/CXAmericasDelivery/views/OffersPackage_Batch27/OfferAdvisorSalesRecommendation/daylozan@cisco.com/HONDUTEL?:showAppBanner=false&:display_count=n&:showVizHome=n&:origin=viz_share_link' since it exceeds Excel's limit of 65,530 URLS per worksheet.\n",
      "  warn(\"Ignoring URL '%s' since it exceeds Excel's limit of \"\n",
      "C:\\Users\\phsheari\\.conda\\envs\\compass_env\\lib\\site-packages\\xlsxwriter\\worksheet.py:986: UserWarning: Ignoring URL 'https://tableau.cisco.com/t/CXAmericasDelivery/views/OffersPackage_EMER_SAV_203750872_MUNCHENERRUCK/OfferAdvisorSalesRecommendation?:showAppBanner=false&:display_count=n&:showVizHome=n&:origin=viz_share_link' since it exceeds Excel's limit of 65,530 URLS per worksheet.\n",
      "  warn(\"Ignoring URL '%s' since it exceeds Excel's limit of \"\n",
      "C:\\Users\\phsheari\\.conda\\envs\\compass_env\\lib\\site-packages\\xlsxwriter\\worksheet.py:986: UserWarning: Ignoring URL 'https://tableau.cisco.com/t/CXAmericasDelivery/views/OffersPackage_Batch28/OfferAdvisorSalesRecommendation/daylozan@cisco.com/CONTRALORIA?:showAppBanner=false&:origin=viz_share_link&:display_count=n&:showVizHome=n' since it exceeds Excel's limit of 65,530 URLS per worksheet.\n",
      "  warn(\"Ignoring URL '%s' since it exceeds Excel's limit of \"\n",
      "C:\\Users\\phsheari\\.conda\\envs\\compass_env\\lib\\site-packages\\xlsxwriter\\worksheet.py:986: UserWarning: Ignoring URL 'https://tableau.cisco.com/t/CXAmericasDelivery/views/OffersPackage_Batch28/OfferAdvisorSalesRecommendation/daylozan@cisco.com/c49ee2c6-3b31-47d5-9e24-45903a1587b9?:display_count=n&:showVizHome=n&:origin=viz_share_link' since it exceeds Excel's limit of 65,530 URLS per worksheet.\n",
      "  warn(\"Ignoring URL '%s' since it exceeds Excel's limit of \"\n",
      "C:\\Users\\phsheari\\.conda\\envs\\compass_env\\lib\\site-packages\\xlsxwriter\\worksheet.py:986: UserWarning: Ignoring URL 'https://tableau.cisco.com/t/CXAmericasDelivery/views/OffersPackage_Batch27/OfferAdvisorSalesRecommendation/juagarc4@cisco.com/DEERE?:showAppBanner=false&:display_count=n&:showVizHome=n&:origin=viz_share_link' since it exceeds Excel's limit of 65,530 URLS per worksheet.\n",
      "  warn(\"Ignoring URL '%s' since it exceeds Excel's limit of \"\n",
      "C:\\Users\\phsheari\\.conda\\envs\\compass_env\\lib\\site-packages\\xlsxwriter\\worksheet.py:986: UserWarning: Ignoring URL 'https://tableau.cisco.com/t/CXAmericasDelivery/views/OffersPackage_Batch19/OfferAdvisorSalesRecommendation/juagarc4@cisco.com/CTBC?:showAppBanner=false&:display_count=n&:showVizHome=n&:origin=viz_share_link' since it exceeds Excel's limit of 65,530 URLS per worksheet.\n",
      "  warn(\"Ignoring URL '%s' since it exceeds Excel's limit of \"\n",
      "C:\\Users\\phsheari\\.conda\\envs\\compass_env\\lib\\site-packages\\xlsxwriter\\worksheet.py:986: UserWarning: Ignoring URL 'https://tableau.cisco.com/t/CXAmericasDelivery/views/OffersPackage_Batch19/OfferAdvisorSalesRecommendation/juagarc4@cisco.com/UOL?:showAppBanner=false&:display_count=n&:showVizHome=n&:origin=viz_share_link' since it exceeds Excel's limit of 65,530 URLS per worksheet.\n",
      "  warn(\"Ignoring URL '%s' since it exceeds Excel's limit of \"\n",
      "C:\\Users\\phsheari\\.conda\\envs\\compass_env\\lib\\site-packages\\xlsxwriter\\worksheet.py:986: UserWarning: Ignoring URL 'https://tableau.cisco.com/t/CXAmericasDelivery/views/OffersPackage_Batch22/OfferAdvisorSalesRecommendation/juagarc4@cisco.com/Kinross?:showAppBanner=false&:display_count=n&:showVizHome=n&:origin=viz_share_link' since it exceeds Excel's limit of 65,530 URLS per worksheet.\n",
      "  warn(\"Ignoring URL '%s' since it exceeds Excel's limit of \"\n",
      "C:\\Users\\phsheari\\.conda\\envs\\compass_env\\lib\\site-packages\\xlsxwriter\\worksheet.py:986: UserWarning: Ignoring URL 'https://tableau.cisco.com/t/CXAmericasDelivery/views/OffersPackage_Batch22/OfferAdvisorSalesRecommendation/juagarc4@cisco.com/InternationalPaper?:showAppBanner=false&:display_count=n&:showVizHome=n&:origin=viz_share_link' since it exceeds Excel's limit of 65,530 URLS per worksheet.\n",
      "  warn(\"Ignoring URL '%s' since it exceeds Excel's limit of \"\n",
      "C:\\Users\\phsheari\\.conda\\envs\\compass_env\\lib\\site-packages\\xlsxwriter\\worksheet.py:986: UserWarning: Ignoring URL 'https://tableau.cisco.com/t/CXAmericasDelivery/views/OffersPackage_Batch22/OfferAdvisorSalesRecommendation/juagarc4@cisco.com/UniversalTabacos?:showAppBanner=false&:display_count=n&:showVizHome=n&:origin=viz_share_link' since it exceeds Excel's limit of 65,530 URLS per worksheet.\n",
      "  warn(\"Ignoring URL '%s' since it exceeds Excel's limit of \"\n",
      "C:\\Users\\phsheari\\.conda\\envs\\compass_env\\lib\\site-packages\\xlsxwriter\\worksheet.py:986: UserWarning: Ignoring URL 'https://tableau.cisco.com/t/CXAmericasDelivery/views/OffersPackage_Batch22/OfferAdvisorSalesRecommendation/juagarc4@cisco.com/unimed?:showAppBanner=false&:display_count=n&:showVizHome=n&:origin=viz_share_link' since it exceeds Excel's limit of 65,530 URLS per worksheet.\n",
      "  warn(\"Ignoring URL '%s' since it exceeds Excel's limit of \"\n",
      "C:\\Users\\phsheari\\.conda\\envs\\compass_env\\lib\\site-packages\\xlsxwriter\\worksheet.py:986: UserWarning: Ignoring URL 'https://tableau.cisco.com/t/CXAmericasDelivery/views/OffersPackage/OfferAdvisorSalesRecommendation/alcastri@cisco.com/GovofSaoPaulo271020?:showAppBanner=false&:display_count=n&:showVizHome=n&:origin=viz_share_link' since it exceeds Excel's limit of 65,530 URLS per worksheet.\n",
      "  warn(\"Ignoring URL '%s' since it exceeds Excel's limit of \"\n",
      "C:\\Users\\phsheari\\.conda\\envs\\compass_env\\lib\\site-packages\\xlsxwriter\\worksheet.py:986: UserWarning: Ignoring URL 'https://tableau.cisco.com/t/CXAmericasDelivery/views/OffersPackage_Batch28/OfferAdvisorSalesRecommendation/malondon@cisco.com/3a7b7672-4f1a-4746-b26e-367218ba3902?:display_count=n&:showVizHome=n&:origin=viz_share_link' since it exceeds Excel's limit of 65,530 URLS per worksheet.\n",
      "  warn(\"Ignoring URL '%s' since it exceeds Excel's limit of \"\n",
      "C:\\Users\\phsheari\\.conda\\envs\\compass_env\\lib\\site-packages\\xlsxwriter\\worksheet.py:986: UserWarning: Ignoring URL 'https://tableau.cisco.com/t/CXAmericasDelivery/views/OffersPackage_Batch29_30/OfferAdvisorSalesRecommendation/daylozan@cisco.com/ATLANTIC?:showAppBanner=false&:display_count=n&:showVizHome=n&:origin=viz_share_link' since it exceeds Excel's limit of 65,530 URLS per worksheet.\n",
      "  warn(\"Ignoring URL '%s' since it exceeds Excel's limit of \"\n",
      "C:\\Users\\phsheari\\.conda\\envs\\compass_env\\lib\\site-packages\\xlsxwriter\\worksheet.py:986: UserWarning: Ignoring URL 'https://tableau.cisco.com/t/CXAmericasDelivery/views/OffersPackage_Batch29_30/OfferAdvisorSalesRecommendation/juagarc4@cisco.com/HEALTHGROUPBRAZIL?:showAppBanner=false&:display_count=n&:showVizHome=n&:origin=viz_share_link' since it exceeds Excel's limit of 65,530 URLS per worksheet.\n",
      "  warn(\"Ignoring URL '%s' since it exceeds Excel's limit of \"\n",
      "C:\\Users\\phsheari\\.conda\\envs\\compass_env\\lib\\site-packages\\xlsxwriter\\worksheet.py:986: UserWarning: Ignoring URL 'https://cx-tableau-stage.cisco.com/t/Compass/views/OP_Americas_SAVID_203854815_MEGACABLES_A_DEC_V__2021_8_5/OfferAdvisorSalesRecommendation/malondon@cisco.com/93e97aa8-8379-4c07-b5af-281a1e61c3bb?:display_count=n&:showVizHome=n&:origin=viz_share_link' since it exceeds Excel's limit of 65,530 URLS per worksheet.\n",
      "  warn(\"Ignoring URL '%s' since it exceeds Excel's limit of \"\n",
      "C:\\Users\\phsheari\\.conda\\envs\\compass_env\\lib\\site-packages\\xlsxwriter\\worksheet.py:986: UserWarning: Ignoring URL 'https://cx-tableau-stage.cisco.com/t/Compass/views/OP_EMEAR_SAVID_203691405_SOCIETYFORWORLDWIDEINTERBANKFIN/OfferAdvisorSalesRecommendation/malondon@cisco.com/06dbd23b-92bb-4c18-9b03-bd7df36b9064?:display_count=n&:showVizHome=n&:origin=viz_share_link' since it exceeds Excel's limit of 65,530 URLS per worksheet.\n",
      "  warn(\"Ignoring URL '%s' since it exceeds Excel's limit of \"\n",
      "C:\\Users\\phsheari\\.conda\\envs\\compass_env\\lib\\site-packages\\xlsxwriter\\worksheet.py:986: UserWarning: Ignoring URL 'https://cx-tableau-stage.cisco.com/t/Compass/views/OP_Americas_SAVID_203706201_CHEMICALABSTRACTSSERVICE_2021_8_11/OfferAdvisorSalesRecommendation?:showAppBanner=false&:display_count=n&:showVizHome=n&:origin=viz_share_link' since it exceeds Excel's limit of 65,530 URLS per worksheet.\n",
      "  warn(\"Ignoring URL '%s' since it exceeds Excel's limit of \"\n",
      "C:\\Users\\phsheari\\.conda\\envs\\compass_env\\lib\\site-packages\\xlsxwriter\\worksheet.py:986: UserWarning: Ignoring URL 'https://cx-tableau-stage.cisco.com/t/Compass/views/OP_Americas_SAVID_203878657_HIGHMARKINCORPORATED_2021_8_10/OfferAdvisorSalesRecommendation?:showAppBanner=false&:display_count=n&:showVizHome=n&:origin=viz_share_link' since it exceeds Excel's limit of 65,530 URLS per worksheet.\n",
      "  warn(\"Ignoring URL '%s' since it exceeds Excel's limit of \"\n",
      "C:\\Users\\phsheari\\.conda\\envs\\compass_env\\lib\\site-packages\\xlsxwriter\\worksheet.py:986: UserWarning: Ignoring URL 'https://cx-tableau-stage.cisco.com/t/Compass/views/OP_Americas_SAVID_222173994_BELIZETELECOM_2021_8_10/OfferAdvisorSalesRecommendation?:showAppBanner=false&:display_count=n&:showVizHome=n&:origin=viz_share_link' since it exceeds Excel's limit of 65,530 URLS per worksheet.\n",
      "  warn(\"Ignoring URL '%s' since it exceeds Excel's limit of \"\n",
      "C:\\Users\\phsheari\\.conda\\envs\\compass_env\\lib\\site-packages\\xlsxwriter\\worksheet.py:986: UserWarning: Ignoring URL 'https://cx-tableau-stage.cisco.com/t/Compass/views/OP_Americas_SAVID_203797997_GOC_SHAREDSERVICESCANADA_2021_8_10/OfferAdvisorSalesRecommendation?:showAppBanner=false&:display_count=n&:showVizHome=n&:origin=viz_share_link' since it exceeds Excel's limit of 65,530 URLS per worksheet.\n",
      "  warn(\"Ignoring URL '%s' since it exceeds Excel's limit of \"\n",
      "C:\\Users\\phsheari\\.conda\\envs\\compass_env\\lib\\site-packages\\xlsxwriter\\worksheet.py:986: UserWarning: Ignoring URL 'https://cx-tableau-stage.cisco.com/t/Compass/views/OP_Americas_SAVID_283403700_UNITEDHEALTHGROUPPERU_2021_8_10/OfferAdvisorSalesRecommendation?:showAppBanner=false&:display_count=n&:showVizHome=n&:origin=viz_share_link' since it exceeds Excel's limit of 65,530 URLS per worksheet.\n",
      "  warn(\"Ignoring URL '%s' since it exceeds Excel's limit of \"\n",
      "C:\\Users\\phsheari\\.conda\\envs\\compass_env\\lib\\site-packages\\xlsxwriter\\worksheet.py:986: UserWarning: Ignoring URL 'https://cx-tableau-stage.cisco.com/t/Compass/views/OP_Americas_SAVID_203694546_SPARTANNASH_2021_8_10/OfferAdvisorSalesRecommendation?:showAppBanner=false&:display_count=n&:showVizHome=n&:origin=viz_share_link' since it exceeds Excel's limit of 65,530 URLS per worksheet.\n",
      "  warn(\"Ignoring URL '%s' since it exceeds Excel's limit of \"\n",
      "C:\\Users\\phsheari\\.conda\\envs\\compass_env\\lib\\site-packages\\xlsxwriter\\worksheet.py:986: UserWarning: Ignoring URL 'https://cx-tableau-stage.cisco.com/t/Compass/views/OP_Americas_SAVID_203767857_AMTRUSTNORTHAMERICAHQ_2021_8_11/OfferAdvisorSalesRecommendation?:showAppBanner=false&:display_count=n&:showVizHome=n&:origin=viz_share_link' since it exceeds Excel's limit of 65,530 URLS per worksheet.\n",
      "  warn(\"Ignoring URL '%s' since it exceeds Excel's limit of \"\n",
      "C:\\Users\\phsheari\\.conda\\envs\\compass_env\\lib\\site-packages\\xlsxwriter\\worksheet.py:986: UserWarning: Ignoring URL 'https://cx-tableau-stage.cisco.com/t/Compass/views/OP_Americas_SAVID_222059291_MINISTERIODEHACIENDADEELSALVADOR_2021_8_10/OfferAdvisorSalesRecommendation?:showAppBanner=false&:display_count=n&:showVizHome=n&:origin=viz_share_link' since it exceeds Excel's limit of 65,530 URLS per worksheet.\n",
      "  warn(\"Ignoring URL '%s' since it exceeds Excel's limit of \"\n",
      "C:\\Users\\phsheari\\.conda\\envs\\compass_env\\lib\\site-packages\\xlsxwriter\\worksheet.py:986: UserWarning: Ignoring URL 'https://cx-tableau-stage.cisco.com/t/Compass/views/OP_Americas_SAVID_283427850_MCBARUBA_2021_8_10/OfferAdvisorSalesRecommendation?:showAppBanner=false&:display_count=n&:showVizHome=n&:origin=viz_share_link' since it exceeds Excel's limit of 65,530 URLS per worksheet.\n",
      "  warn(\"Ignoring URL '%s' since it exceeds Excel's limit of \"\n",
      "C:\\Users\\phsheari\\.conda\\envs\\compass_env\\lib\\site-packages\\xlsxwriter\\worksheet.py:986: UserWarning: Ignoring URL 'https://cx-tableau-stage.cisco.com/t/Compass/views/OP_Americas_SAVID_283399332_PROSEGUR_2021_8_10/OfferAdvisorSalesRecommendation?:showAppBanner=false&:display_count=n&:showVizHome=n&:origin=viz_share_link' since it exceeds Excel's limit of 65,530 URLS per worksheet.\n",
      "  warn(\"Ignoring URL '%s' since it exceeds Excel's limit of \"\n",
      "C:\\Users\\phsheari\\.conda\\envs\\compass_env\\lib\\site-packages\\xlsxwriter\\worksheet.py:986: UserWarning: Ignoring URL 'https://cx-tableau-stage.cisco.com/t/Compass/views/OP_Americas_SAVID_283637095_TELECABLEECONOMICOTVESA_2021_8_10/OfferAdvisorSalesRecommendation?:showAppBanner=false&:display_count=n&:showVizHome=n&:origin=viz_share_link' since it exceeds Excel's limit of 65,530 URLS per worksheet.\n",
      "  warn(\"Ignoring URL '%s' since it exceeds Excel's limit of \"\n",
      "C:\\Users\\phsheari\\.conda\\envs\\compass_env\\lib\\site-packages\\xlsxwriter\\worksheet.py:986: UserWarning: Ignoring URL 'https://cx-tableau-stage.cisco.com/t/Compass/views/OP_Americas_SAVID_283377275_BANCOSOL_2021_8_10/OfferAdvisorSalesRecommendation?:showAppBanner=false&:display_count=n&:showVizHome=n&:origin=viz_share_link' since it exceeds Excel's limit of 65,530 URLS per worksheet.\n",
      "  warn(\"Ignoring URL '%s' since it exceeds Excel's limit of \"\n",
      "C:\\Users\\phsheari\\.conda\\envs\\compass_env\\lib\\site-packages\\xlsxwriter\\worksheet.py:986: UserWarning: Ignoring URL 'https://cx-tableau-stage.cisco.com/t/Compass/views/OP_Americas_SAVID_283395984_UNIVERSIDADANDINASIMNBOLIVAR__2021_8_10/OfferAdvisorSalesRecommendation?:showAppBanner=false&:display_count=n&:showVizHome=n&:origin=viz_share_link' since it exceeds Excel's limit of 65,530 URLS per worksheet.\n",
      "  warn(\"Ignoring URL '%s' since it exceeds Excel's limit of \"\n",
      "C:\\Users\\phsheari\\.conda\\envs\\compass_env\\lib\\site-packages\\xlsxwriter\\worksheet.py:986: UserWarning: Ignoring URL 'https://cx-tableau-stage.cisco.com/t/Compass/views/OP_Americas_SAVID_203753130_CohenCompany_2021_8_11/OfferAdvisorSalesRecommendation?:showAppBanner=false&:display_count=n&:showVizHome=n&:origin=viz_share_link' since it exceeds Excel's limit of 65,530 URLS per worksheet.\n",
      "  warn(\"Ignoring URL '%s' since it exceeds Excel's limit of \"\n",
      "C:\\Users\\phsheari\\.conda\\envs\\compass_env\\lib\\site-packages\\xlsxwriter\\worksheet.py:986: UserWarning: Ignoring URL 'https://cx-tableau-stage.cisco.com/t/Compass/views/OP_Americas_GUID_146850_BELTERRACORPOR_2021_8_13/OfferAdvisorSalesRecommendation?:showAppBanner=false&:display_count=n&:showVizHome=n&:origin=viz_share_link' since it exceeds Excel's limit of 65,530 URLS per worksheet.\n",
      "  warn(\"Ignoring URL '%s' since it exceeds Excel's limit of \"\n",
      "C:\\Users\\phsheari\\.conda\\envs\\compass_env\\lib\\site-packages\\xlsxwriter\\worksheet.py:986: UserWarning: Ignoring URL 'https://tableau.cisco.com/t/CXAmericasDelivery/views/OffersPackage_Batch29_30/OfferAdvisorSalesRecommendation/daylozan@cisco.com/LANDRYS?:showAppBanner=false&:display_count=n&:showVizHome=n&:origin=viz_share_link' since it exceeds Excel's limit of 65,530 URLS per worksheet.\n",
      "  warn(\"Ignoring URL '%s' since it exceeds Excel's limit of \"\n",
      "C:\\Users\\phsheari\\.conda\\envs\\compass_env\\lib\\site-packages\\xlsxwriter\\worksheet.py:986: UserWarning: Ignoring URL 'https://tableau.cisco.com/t/CXAmericasDelivery/views/OffersPackage_Batch29_30/OfferAdvisorSalesRecommendation/daylozan@cisco.com/63829fc7-df23-4bd0-a4fb-a5254de637f8?:display_count=n&:showVizHome=n&:origin=viz_share_link' since it exceeds Excel's limit of 65,530 URLS per worksheet.\n",
      "  warn(\"Ignoring URL '%s' since it exceeds Excel's limit of \"\n",
      "C:\\Users\\phsheari\\.conda\\envs\\compass_env\\lib\\site-packages\\xlsxwriter\\worksheet.py:986: UserWarning: Ignoring URL 'https://tableau.cisco.com/t/CXAmericasDelivery/views/OffersPackage_Batch31/OfferAdvisorSalesRecommendation/daylozan@cisco.com/97e7f14c-7da5-4bbd-b110-184fb1562bd8?:display_count=n&:showVizHome=n&:origin=viz_share_link' since it exceeds Excel's limit of 65,530 URLS per worksheet.\n",
      "  warn(\"Ignoring URL '%s' since it exceeds Excel's limit of \"\n",
      "C:\\Users\\phsheari\\.conda\\envs\\compass_env\\lib\\site-packages\\xlsxwriter\\worksheet.py:986: UserWarning: Ignoring URL 'https://cx-tableau-stage.cisco.com/t/Compass/views/OP_Americas_GUID_33335_CITYOFCHARLOTTE_2021_8_3/OfferAdvisorSalesRecommendation?:showAppBanner=false&:display_count=n&:showVizHome=n&:origin=viz_share_link' since it exceeds Excel's limit of 65,530 URLS per worksheet.\n",
      "  warn(\"Ignoring URL '%s' since it exceeds Excel's limit of \"\n",
      "C:\\Users\\phsheari\\.conda\\envs\\compass_env\\lib\\site-packages\\xlsxwriter\\worksheet.py:986: UserWarning: Ignoring URL 'https://cx-tableau-stage.cisco.com/t/Compass/views/OP_Americas_GUID_10763_CITYOFCHICAGO_2021_8_3/OfferAdvisorSalesRecommendation/malondon@cisco.com/cf9903a0-c670-4e6e-bd18-6df46200e546?:display_count=n&:showVizHome=n&:origin=viz_share_link' since it exceeds Excel's limit of 65,530 URLS per worksheet.\n",
      "  warn(\"Ignoring URL '%s' since it exceeds Excel's limit of \"\n",
      "C:\\Users\\phsheari\\.conda\\envs\\compass_env\\lib\\site-packages\\xlsxwriter\\worksheet.py:986: UserWarning: Ignoring URL 'https://cx-tableau-stage.cisco.com/t/Compass/views/OP_Americas_GUID_10460_COLGATE-PALMOLIVECOMPANY_2021_8_3/OfferAdvisorSalesRecommendation?:showAppBanner=false&:display_count=n&:showVizHome=n&:origin=viz_share_link' since it exceeds Excel's limit of 65,530 URLS per worksheet.\n",
      "  warn(\"Ignoring URL '%s' since it exceeds Excel's limit of \"\n",
      "C:\\Users\\phsheari\\.conda\\envs\\compass_env\\lib\\site-packages\\xlsxwriter\\worksheet.py:986: UserWarning: Ignoring URL 'https://cx-tableau-stage.cisco.com/t/Compass/views/OP_EMEAR_GUID_3418000_KCOMGROUPPLC_2021_8_12/OfferAdvisorSalesRecommendation?:showAppBanner=false&:display_count=n&:showVizHome=n&:origin=viz_share_link' since it exceeds Excel's limit of 65,530 URLS per worksheet.\n",
      "  warn(\"Ignoring URL '%s' since it exceeds Excel's limit of \"\n",
      "C:\\Users\\phsheari\\.conda\\envs\\compass_env\\lib\\site-packages\\xlsxwriter\\worksheet.py:986: UserWarning: Ignoring URL 'https://cx-tableau-stage.cisco.com/t/Compass/views/OP_Americas_GUID_12223_CHUGACHELECTRI_2021_8_12/OfferAdvisorSalesRecommendation?:showAppBanner=false&:display_count=n&:showVizHome=n&:origin=viz_share_link' since it exceeds Excel's limit of 65,530 URLS per worksheet.\n",
      "  warn(\"Ignoring URL '%s' since it exceeds Excel's limit of \"\n",
      "C:\\Users\\phsheari\\.conda\\envs\\compass_env\\lib\\site-packages\\xlsxwriter\\worksheet.py:986: UserWarning: Ignoring URL 'https://cx-tableau-stage.cisco.com/t/Compass/views/OP_Americas_SAVID_203738827_TELEDYNETECHNOLOGIESINC_2021_8_10/OfferAdvisorSalesRecommendation?:showAppBanner=false&:display_count=n&:showVizHome=n&:origin=viz_share_link' since it exceeds Excel's limit of 65,530 URLS per worksheet.\n",
      "  warn(\"Ignoring URL '%s' since it exceeds Excel's limit of \"\n",
      "C:\\Users\\phsheari\\.conda\\envs\\compass_env\\lib\\site-packages\\xlsxwriter\\worksheet.py:986: UserWarning: Ignoring URL 'https://cx-tableau-stage.cisco.com/t/Compass/views/OP_Americas_GUID_113066966_RAPID7LLC_2021_8_12/OfferAdvisorSalesRecommendation?:showAppBanner=false&:display_count=n&:showVizHome=n&:origin=viz_share_link' since it exceeds Excel's limit of 65,530 URLS per worksheet.\n",
      "  warn(\"Ignoring URL '%s' since it exceeds Excel's limit of \"\n",
      "C:\\Users\\phsheari\\.conda\\envs\\compass_env\\lib\\site-packages\\xlsxwriter\\worksheet.py:986: UserWarning: Ignoring URL 'https://cx-tableau-stage.cisco.com/t/Compass/views/OP_EMEAR_GUID_6923113_CSECONSORZIOS_2021_8_12/OfferAdvisorSalesRecommendation?:showAppBanner=false&:display_count=n&:showVizHome=n&:origin=viz_share_link' since it exceeds Excel's limit of 65,530 URLS per worksheet.\n",
      "  warn(\"Ignoring URL '%s' since it exceeds Excel's limit of \"\n",
      "C:\\Users\\phsheari\\.conda\\envs\\compass_env\\lib\\site-packages\\xlsxwriter\\worksheet.py:986: UserWarning: Ignoring URL 'https://cx-tableau-stage.cisco.com/t/Compass/views/OP_Americas_GUID_112674707_DELFINSARL_2021_8_12/OfferAdvisorSalesRecommendation?:showAppBanner=false&:display_count=n&:showVizHome=n&:origin=viz_share_link' since it exceeds Excel's limit of 65,530 URLS per worksheet.\n",
      "  warn(\"Ignoring URL '%s' since it exceeds Excel's limit of \"\n",
      "C:\\Users\\phsheari\\.conda\\envs\\compass_env\\lib\\site-packages\\xlsxwriter\\worksheet.py:986: UserWarning: Ignoring URL 'https://cx-tableau-stage.cisco.com/t/Compass/views/OP_Americas_GUID_3957413_JUVENILEDIABET_2021_8_12/OfferAdvisorSalesRecommendation?:showAppBanner=false&:display_count=n&:showVizHome=n&:origin=viz_share_link' since it exceeds Excel's limit of 65,530 URLS per worksheet.\n",
      "  warn(\"Ignoring URL '%s' since it exceeds Excel's limit of \"\n",
      "C:\\Users\\phsheari\\.conda\\envs\\compass_env\\lib\\site-packages\\xlsxwriter\\worksheet.py:986: UserWarning: Ignoring URL 'https://cx-tableau-stage.cisco.com/t/Compass/views/OP_EMEAR_GUID_300569115_SYSTELPRAHASR_2021_8_12/OfferAdvisorSalesRecommendation?:showAppBanner=false&:display_count=n&:showVizHome=n&:origin=viz_share_link' since it exceeds Excel's limit of 65,530 URLS per worksheet.\n",
      "  warn(\"Ignoring URL '%s' since it exceeds Excel's limit of \"\n",
      "C:\\Users\\phsheari\\.conda\\envs\\compass_env\\lib\\site-packages\\xlsxwriter\\worksheet.py:986: UserWarning: Ignoring URL 'https://cx-tableau-stage.cisco.com/t/Compass/views/OP_Americas_GUID_144321811_LINCOLNELECTRI_2021_8_12/OfferAdvisorSalesRecommendation?:showAppBanner=false&:display_count=n&:showVizHome=n&:origin=viz_share_link' since it exceeds Excel's limit of 65,530 URLS per worksheet.\n",
      "  warn(\"Ignoring URL '%s' since it exceeds Excel's limit of \"\n",
      "C:\\Users\\phsheari\\.conda\\envs\\compass_env\\lib\\site-packages\\xlsxwriter\\worksheet.py:986: UserWarning: Ignoring URL 'https://cx-tableau-stage.cisco.com/t/Compass/views/OP_Americas_GUID_354554710_VERSANTPOWER_2021_8_12/OfferAdvisorSalesRecommendation?:showAppBanner=false&:display_count=n&:showVizHome=n&:origin=viz_share_link' since it exceeds Excel's limit of 65,530 URLS per worksheet.\n",
      "  warn(\"Ignoring URL '%s' since it exceeds Excel's limit of \"\n",
      "C:\\Users\\phsheari\\.conda\\envs\\compass_env\\lib\\site-packages\\xlsxwriter\\worksheet.py:986: UserWarning: Ignoring URL 'https://cx-tableau-stage.cisco.com/t/Compass/views/OP_EMEAR_GUID_6779151_NATIONALBANK_2021_8_12/OfferAdvisorSalesRecommendation?:showAppBanner=false&:display_count=n&:showVizHome=n&:origin=viz_share_link' since it exceeds Excel's limit of 65,530 URLS per worksheet.\n",
      "  warn(\"Ignoring URL '%s' since it exceeds Excel's limit of \"\n",
      "C:\\Users\\phsheari\\.conda\\envs\\compass_env\\lib\\site-packages\\xlsxwriter\\worksheet.py:986: UserWarning: Ignoring URL 'https://cx-tableau-stage.cisco.com/t/Compass/views/OP_Americas_GUID_89344333_ATLASSIANCORPO_2021_8_12/OfferAdvisorSalesRecommendation?:showAppBanner=false&:display_count=n&:showVizHome=n&:origin=viz_share_link' since it exceeds Excel's limit of 65,530 URLS per worksheet.\n",
      "  warn(\"Ignoring URL '%s' since it exceeds Excel's limit of \"\n",
      "C:\\Users\\phsheari\\.conda\\envs\\compass_env\\lib\\site-packages\\xlsxwriter\\worksheet.py:986: UserWarning: Ignoring URL 'https://cx-tableau-stage.cisco.com/t/Compass/views/OP_Americas_GUID_3400643_POWERENGINEERS_2021_8_12/OfferAdvisorSalesRecommendation?:showAppBanner=false&:display_count=n&:showVizHome=n&:origin=viz_share_link' since it exceeds Excel's limit of 65,530 URLS per worksheet.\n",
      "  warn(\"Ignoring URL '%s' since it exceeds Excel's limit of \"\n",
      "C:\\Users\\phsheari\\.conda\\envs\\compass_env\\lib\\site-packages\\xlsxwriter\\worksheet.py:986: UserWarning: Ignoring URL 'https://cx-tableau-stage.cisco.com/t/Compass/views/OP_APJC_GUID_328261068_LDKHEALTHCARE_2021_8_12/OfferAdvisorSalesRecommendation?:showAppBanner=false&:display_count=n&:showVizHome=n&:origin=viz_share_link' since it exceeds Excel's limit of 65,530 URLS per worksheet.\n",
      "  warn(\"Ignoring URL '%s' since it exceeds Excel's limit of \"\n",
      "C:\\Users\\phsheari\\.conda\\envs\\compass_env\\lib\\site-packages\\xlsxwriter\\worksheet.py:986: UserWarning: Ignoring URL 'https://cx-tableau-stage.cisco.com/t/Compass/views/OP_APJC_GUID_10843495_MALAYSIANELECT_2021_8_12/OfferAdvisorSalesRecommendation?:showAppBanner=false&:display_count=n&:showVizHome=n&:origin=viz_share_link' since it exceeds Excel's limit of 65,530 URLS per worksheet.\n",
      "  warn(\"Ignoring URL '%s' since it exceeds Excel's limit of \"\n",
      "C:\\Users\\phsheari\\.conda\\envs\\compass_env\\lib\\site-packages\\xlsxwriter\\worksheet.py:986: UserWarning: Ignoring URL 'https://cx-tableau-stage.cisco.com/t/Compass/views/OP_APJC_GUID_146859_MITSUBISHIESTA_2021_8_12/OfferAdvisorSalesRecommendation?:showAppBanner=false&:display_count=n&:showVizHome=n&:origin=viz_share_link' since it exceeds Excel's limit of 65,530 URLS per worksheet.\n",
      "  warn(\"Ignoring URL '%s' since it exceeds Excel's limit of \"\n",
      "C:\\Users\\phsheari\\.conda\\envs\\compass_env\\lib\\site-packages\\xlsxwriter\\worksheet.py:986: UserWarning: Ignoring URL 'https://cx-tableau-stage.cisco.com/t/Compass/views/rcbc_106254_2021_11_11_noncollector/summary?iframeSizedToWindow=true&:embed=y&:showAppBanner=false&:display_count=no&:showVizHome=no&:tabs=no&:origin=viz_share_link&:toolbar=no' since it exceeds Excel's limit of 65,530 URLS per worksheet.\n",
      "  warn(\"Ignoring URL '%s' since it exceeds Excel's limit of \"\n",
      "C:\\Users\\phsheari\\.conda\\envs\\compass_env\\lib\\site-packages\\xlsxwriter\\worksheet.py:986: UserWarning: Ignoring URL 'https://cx-tableau-stage.cisco.com/t/Compass/views/bloombury_inves_106257_2021_11_11_noncollector/summary?iframeSizedToWindow=true&:embed=y&:showAppBanner=false&:display_count=no&:showVizHome=no&:tabs=no&:origin=viz_share_link&:toolbar=no' since it exceeds Excel's limit of 65,530 URLS per worksheet.\n",
      "  warn(\"Ignoring URL '%s' since it exceeds Excel's limit of \"\n",
      "C:\\Users\\phsheari\\.conda\\envs\\compass_env\\lib\\site-packages\\xlsxwriter\\worksheet.py:986: UserWarning: Ignoring URL 'https://cx-tableau-stage.cisco.com/t/Compass/views/OP_Americas_SAVID_203772653_LAWSOCIETYOF_2022_4_7/EstimatorRecommendationsSummary?iframeSizedToWindow=true&%3Aembed=y&%3AshowAppBanner=false&%3Adisplay_count=no&%3AshowVizHome=no&%3Atabs=no&%3Aorigin=viz_share_link&%3Atoolbar=yes' since it exceeds Excel's limit of 65,530 URLS per worksheet.\n",
      "  warn(\"Ignoring URL '%s' since it exceeds Excel's limit of \"\n",
      "C:\\Users\\phsheari\\.conda\\envs\\compass_env\\lib\\site-packages\\xlsxwriter\\worksheet.py:986: UserWarning: Ignoring URL 'https://cx-tableau-stage.cisco.com/t/Compass/views/OP_Americas_SAVID_203734699_SHAWCOR_2022_4_7/EstimatorRecommendationsSummary?iframeSizedToWindow=true&%3Aembed=y&%3AshowAppBanner=false&%3Adisplay_count=no&%3AshowVizHome=no&%3Atabs=no&%3Aorigin=viz_share_link&%3Atoolbar=yes' since it exceeds Excel's limit of 65,530 URLS per worksheet.\n",
      "  warn(\"Ignoring URL '%s' since it exceeds Excel's limit of \"\n",
      "C:\\Users\\phsheari\\.conda\\envs\\compass_env\\lib\\site-packages\\xlsxwriter\\worksheet.py:986: UserWarning: Ignoring URL 'https://cx-tableau-stage.cisco.com/t/Compass/views/OP_APJC_SAVID_203810194_NORTHERNTERRIT_2022_4_7/EstimatorRecommendationsSummary?iframeSizedToWindow=true&%3Aembed=y&%3AshowAppBanner=false&%3Adisplay_count=no&%3AshowVizHome=no&%3Atabs=no&%3Aorigin=viz_share_link&%3Atoolbar=yes' since it exceeds Excel's limit of 65,530 URLS per worksheet.\n",
      "  warn(\"Ignoring URL '%s' since it exceeds Excel's limit of \"\n",
      "C:\\Users\\phsheari\\.conda\\envs\\compass_env\\lib\\site-packages\\xlsxwriter\\worksheet.py:986: UserWarning: Ignoring URL 'https://cx-tableau-stage.cisco.com/t/Compass/views/OP_Americas_SAVID_283718002_TN-VANDERBILTU_2022_3_28/EstimatorRecommendationsSummary?iframeSizedToWindow=true&%3Aembed=y&%3AshowAppBanner=false&%3Adisplay_count=no&%3AshowVizHome=no&%3Atabs=no&%3Aorigin=viz_share_link&%3Atoolbar=yes' since it exceeds Excel's limit of 65,530 URLS per worksheet.\n",
      "  warn(\"Ignoring URL '%s' since it exceeds Excel's limit of \"\n",
      "C:\\Users\\phsheari\\.conda\\envs\\compass_env\\lib\\site-packages\\xlsxwriter\\worksheet.py:986: UserWarning: Ignoring URL 'https://cx-tableau-stage.cisco.com/t/Compass/views/OP_Americas_SAVID_203743236_BANCOSANTANDER_2022_4_7/EstimatorRecommendationsSummary?iframeSizedToWindow=true&%3Aembed=y&%3AshowAppBanner=false&%3Adisplay_count=no&%3AshowVizHome=no&%3Atabs=no&%3Aorigin=viz_share_link&%3Atoolbar=yes' since it exceeds Excel's limit of 65,530 URLS per worksheet.\n",
      "  warn(\"Ignoring URL '%s' since it exceeds Excel's limit of \"\n",
      "C:\\Users\\phsheari\\.conda\\envs\\compass_env\\lib\\site-packages\\xlsxwriter\\worksheet.py:986: UserWarning: Ignoring URL 'https://cx-tableau-stage.cisco.com/t/Compass/views/OP_Americas_SAVID_203794914_BAPTISTHEALTH_2022_4_7/EstimatorRecommendationsSummary?iframeSizedToWindow=true&%3Aembed=y&%3AshowAppBanner=false&%3Adisplay_count=no&%3AshowVizHome=no&%3Atabs=no&%3Aorigin=viz_share_link&%3Atoolbar=yes' since it exceeds Excel's limit of 65,530 URLS per worksheet.\n",
      "  warn(\"Ignoring URL '%s' since it exceeds Excel's limit of \"\n",
      "C:\\Users\\phsheari\\.conda\\envs\\compass_env\\lib\\site-packages\\xlsxwriter\\worksheet.py:986: UserWarning: Ignoring URL 'https://cx-tableau-stage.cisco.com/t/Compass/views/OP_Americas_SAVID_203799350_MOODYS_2022_4_7/EstimatorRecommendationsSummary?iframeSizedToWindow=true&%3Aembed=y&%3AshowAppBanner=false&%3Adisplay_count=no&%3AshowVizHome=no&%3Atabs=no&%3Aorigin=viz_share_link&%3Atoolbar=yes' since it exceeds Excel's limit of 65,530 URLS per worksheet.\n",
      "  warn(\"Ignoring URL '%s' since it exceeds Excel's limit of \"\n",
      "C:\\Users\\phsheari\\.conda\\envs\\compass_env\\lib\\site-packages\\xlsxwriter\\worksheet.py:986: UserWarning: Ignoring URL 'https://cx-tableau-stage.cisco.com/t/Compass/views/OP_Americas_SAVID_203733664_LHIN7TORONTO_2022_4_7/EstimatorRecommendationsSummary?iframeSizedToWindow=true&%3Aembed=y&%3AshowAppBanner=false&%3Adisplay_count=no&%3AshowVizHome=no&%3Atabs=no&%3Aorigin=viz_share_link&%3Atoolbar=yes' since it exceeds Excel's limit of 65,530 URLS per worksheet.\n",
      "  warn(\"Ignoring URL '%s' since it exceeds Excel's limit of \"\n",
      "C:\\Users\\phsheari\\.conda\\envs\\compass_env\\lib\\site-packages\\xlsxwriter\\worksheet.py:986: UserWarning: Ignoring URL 'https://cx-tableau-stage.cisco.com/t/Compass/views/OP_Americas_SAVID_203684898_COMMUNITYHOSPI_2022_4_7/EstimatorRecommendationsSummary?iframeSizedToWindow=true&%3Aembed=y&%3AshowAppBanner=false&%3Adisplay_count=no&%3AshowVizHome=no&%3Atabs=no&%3Aorigin=viz_share_link&%3Atoolbar=yes' since it exceeds Excel's limit of 65,530 URLS per worksheet.\n",
      "  warn(\"Ignoring URL '%s' since it exceeds Excel's limit of \"\n",
      "C:\\Users\\phsheari\\.conda\\envs\\compass_env\\lib\\site-packages\\xlsxwriter\\worksheet.py:986: UserWarning: Ignoring URL 'https://cx-tableau-stage.cisco.com/t/Compass/views/OP_EMEAR_SAVID_246000176_ZRACNALUKADUB_2022_4_7/EstimatorRecommendationsSummary?iframeSizedToWindow=true&%3Aembed=y&%3AshowAppBanner=false&%3Adisplay_count=no&%3AshowVizHome=no&%3Atabs=no&%3Aorigin=viz_share_link&%3Atoolbar=yes' since it exceeds Excel's limit of 65,530 URLS per worksheet.\n",
      "  warn(\"Ignoring URL '%s' since it exceeds Excel's limit of \"\n",
      "C:\\Users\\phsheari\\.conda\\envs\\compass_env\\lib\\site-packages\\xlsxwriter\\worksheet.py:986: UserWarning: Ignoring URL 'https://cx-tableau-stage.cisco.com/t/Compass/views/OP_Americas_GUID_344663037_CPEAXTEL_2021_12_8/EstimatorRecommendationsSummary?:showAppBanner=false&:display_count=n&:showVizHome=n&:origin=viz_share_link' since it exceeds Excel's limit of 65,530 URLS per worksheet.\n",
      "  warn(\"Ignoring URL '%s' since it exceeds Excel's limit of \"\n",
      "C:\\Users\\phsheari\\.conda\\envs\\compass_env\\lib\\site-packages\\xlsxwriter\\worksheet.py:986: UserWarning: Ignoring URL 'https://cx-tableau-stage.cisco.com/t/Compass/views/OP_Americas_GUID_4613218_MINISTERIODAF_2021_12_8_/EstimatorRecommendationsSummary?:showAppBanner=false&:display_count=n&:showVizHome=n&:origin=viz_share_link' since it exceeds Excel's limit of 65,530 URLS per worksheet.\n",
      "  warn(\"Ignoring URL '%s' since it exceeds Excel's limit of \"\n",
      "C:\\Users\\phsheari\\.conda\\envs\\compass_env\\lib\\site-packages\\xlsxwriter\\worksheet.py:986: UserWarning: Ignoring URL 'https://cx-tableau-stage.cisco.com/t/Compass/views/OP_EMEAR_GUID_39359220_MAILRU_2021_12_10/EstimatorRecommendationsSummary?:showAppBanner=false&:display_count=n&:showVizHome=n&:origin=viz_share_link' since it exceeds Excel's limit of 65,530 URLS per worksheet.\n",
      "  warn(\"Ignoring URL '%s' since it exceeds Excel's limit of \"\n",
      "C:\\Users\\phsheari\\.conda\\envs\\compass_env\\lib\\site-packages\\xlsxwriter\\worksheet.py:986: UserWarning: Ignoring URL 'https://cx-tableau-stage.cisco.com/t/Compass/views/OP_Americas_SAVID_222113646_INVITAE_2021_12_14/EstimatorRecommendationsSummary?iframeSizedToWindow=true&%3Aembed=y&%3AshowAppBanner=false&%3Adisplay_count=no&%3AshowVizHome=no&%3Atabs=no&%3Aorigin=viz_share_link&%3Atoolbar=yes' since it exceeds Excel's limit of 65,530 URLS per worksheet.\n",
      "  warn(\"Ignoring URL '%s' since it exceeds Excel's limit of \"\n",
      "C:\\Users\\phsheari\\.conda\\envs\\compass_env\\lib\\site-packages\\xlsxwriter\\worksheet.py:986: UserWarning: Ignoring URL 'https://cx-tableau-stage.cisco.com/t/Compass/views/OP_Americas_CAVID_JOHNSONCOUNTYPARKSRECREATION_JOHNSONCOUNTY_2021_12_16/EstimatorRecommendationsSummary?iframeSizedToWindow=true&%3Aembed=y&%3AshowAppBanner=false&%3Adisplay_count=no&%3AshowVizHome=no&%3Atabs=no&%3Aorigin=viz_share_link&%3Atoolbar=yes' since it exceeds Excel's limit of 65,530 URLS per worksheet.\n",
      "  warn(\"Ignoring URL '%s' since it exceeds Excel's limit of \"\n",
      "C:\\Users\\phsheari\\.conda\\envs\\compass_env\\lib\\site-packages\\xlsxwriter\\worksheet.py:986: UserWarning: Ignoring URL 'https://cx-tableau-stage.cisco.com/t/Compass/views/OP_Americas_CAVID_ANDOVERUNIFIEDSCHOOLDISTRICT385INC_ANDOVERUNIFIED_2021_12_16/EstimatorRecommendationsSummary?iframeSizedToWindow=true&%3Aembed=y&%3AshowAppBanner=false&%3Adisplay_count=no&%3AshowVizHome=no&%3Atabs=no&%3Aorigin=viz_share_link&%3Atoolbar=yes' since it exceeds Excel's limit of 65,530 URLS per worksheet.\n",
      "  warn(\"Ignoring URL '%s' since it exceeds Excel's limit of \"\n",
      "C:\\Users\\phsheari\\.conda\\envs\\compass_env\\lib\\site-packages\\xlsxwriter\\worksheet.py:986: UserWarning: Ignoring URL 'https://cx-tableau-stage.cisco.com/t/Compass/views/OP_Americas_SAVID_203793423_FTICONSULTING_2021_1_17/EstimatorRecommendationsSummary?iframeSizedToWindow=true&%3Aembed=y&%3AshowAppBanner=false&%3Adisplay_count=no&%3AshowVizHome=no&%3Atabs=no&%3Aorigin=viz_share_link&%3Atoolbar=yes' since it exceeds Excel's limit of 65,530 URLS per worksheet.\n",
      "  warn(\"Ignoring URL '%s' since it exceeds Excel's limit of \"\n",
      "C:\\Users\\phsheari\\.conda\\envs\\compass_env\\lib\\site-packages\\xlsxwriter\\worksheet.py:986: UserWarning: Ignoring URL 'https://cx-tableau-stage.cisco.com/t/Compass/views/OP_EMEAR_SAVID_203727864_DREI-BANKENEDV_2021_1_12/EstimatorRecommendationsSummary?:showAppBanner=false&:display_count=n&:showVizHome=n&:origin=viz_share_link' since it exceeds Excel's limit of 65,530 URLS per worksheet.\n",
      "  warn(\"Ignoring URL '%s' since it exceeds Excel's limit of \"\n",
      "C:\\Users\\phsheari\\.conda\\envs\\compass_env\\lib\\site-packages\\xlsxwriter\\worksheet.py:986: UserWarning: Ignoring URL 'https://cx-tableau-stage.cisco.com/t/Compass/views/OP_EMEAR_SAVID_203895639_WIENEnergieGm_2021_1_12/EstimatorRecommendationsSummary?:showAppBanner=false&:display_count=n&:showVizHome=n&:origin=viz_share_link' since it exceeds Excel's limit of 65,530 URLS per worksheet.\n",
      "  warn(\"Ignoring URL '%s' since it exceeds Excel's limit of \"\n",
      "C:\\Users\\phsheari\\.conda\\envs\\compass_env\\lib\\site-packages\\xlsxwriter\\worksheet.py:986: UserWarning: Ignoring URL 'https://cx-tableau-stage.cisco.com/t/Compass/views/OP_EMEAR_SAVID_221317514_MODEE_2021_1_12/EstimatorRecommendationsSummary?:showAppBanner=false&:display_count=n&:showVizHome=n&:origin=viz_share_link' since it exceeds Excel's limit of 65,530 URLS per worksheet.\n",
      "  warn(\"Ignoring URL '%s' since it exceeds Excel's limit of \"\n",
      "C:\\Users\\phsheari\\.conda\\envs\\compass_env\\lib\\site-packages\\xlsxwriter\\worksheet.py:986: UserWarning: Ignoring URL 'https://cx-tableau-stage.cisco.com/t/Compass/views/OP_EMEAR_SAVID_283651402_MOBILETELECOM_2021_1_12/EstimatorRecommendationsSummary?:showAppBanner=false&:display_count=n&:showVizHome=n&:origin=viz_share_link' since it exceeds Excel's limit of 65,530 URLS per worksheet.\n",
      "  warn(\"Ignoring URL '%s' since it exceeds Excel's limit of \"\n",
      "C:\\Users\\phsheari\\.conda\\envs\\compass_env\\lib\\site-packages\\xlsxwriter\\worksheet.py:986: UserWarning: Ignoring URL 'https://cx-tableau-stage.cisco.com/t/Compass/views/OP_EMEAR_SAVID_283653890_ALSALAMINTER_2021_1_12/EstimatorRecommendationsSummary?:showAppBanner=false&:display_count=n&:showVizHome=n&:origin=viz_share_link' since it exceeds Excel's limit of 65,530 URLS per worksheet.\n",
      "  warn(\"Ignoring URL '%s' since it exceeds Excel's limit of \"\n",
      "C:\\Users\\phsheari\\.conda\\envs\\compass_env\\lib\\site-packages\\xlsxwriter\\worksheet.py:986: UserWarning: Ignoring URL 'https://cx-tableau-stage.cisco.com/t/Compass/views/OP_EMEAR_SAVID_283703746_SOCIEDADANONIM_2021_1_12/EstimatorRecommendationsSummary?:showAppBanner=false&:display_count=n&:showVizHome=n&:origin=viz_share_link' since it exceeds Excel's limit of 65,530 URLS per worksheet.\n",
      "  warn(\"Ignoring URL '%s' since it exceeds Excel's limit of \"\n",
      "C:\\Users\\phsheari\\.conda\\envs\\compass_env\\lib\\site-packages\\xlsxwriter\\worksheet.py:986: UserWarning: Ignoring URL 'https://cx-tableau-stage.cisco.com/t/Compass/views/OP_EMEAR_SAVID_283505839_FIATCHRYSLERC_2021_1_12/EstimatorRecommendationsSummary?:showAppBanner=false&:display_count=n&:showVizHome=n&:origin=viz_share_link' since it exceeds Excel's limit of 65,530 URLS per worksheet.\n",
      "  warn(\"Ignoring URL '%s' since it exceeds Excel's limit of \"\n",
      "C:\\Users\\phsheari\\.conda\\envs\\compass_env\\lib\\site-packages\\xlsxwriter\\worksheet.py:986: UserWarning: Ignoring URL 'https://cx-tableau-stage.cisco.com/t/Compass/views/OP_EMEAR_SAVID_283361821_S7GROUP_2021_1_12/EstimatorRecommendationsSummary?:showAppBanner=false&:display_count=n&:showVizHome=n&:origin=viz_share_link' since it exceeds Excel's limit of 65,530 URLS per worksheet.\n",
      "  warn(\"Ignoring URL '%s' since it exceeds Excel's limit of \"\n",
      "C:\\Users\\phsheari\\.conda\\envs\\compass_env\\lib\\site-packages\\xlsxwriter\\worksheet.py:986: UserWarning: Ignoring URL 'https://cx-tableau-stage.cisco.com/t/Compass/views/OP_EMEAR_SAVID_283604187_DECATHLON_2021_1_12/EstimatorRecommendationsSummary?:showAppBanner=false&:display_count=n&:showVizHome=n&:origin=viz_share_link' since it exceeds Excel's limit of 65,530 URLS per worksheet.\n",
      "  warn(\"Ignoring URL '%s' since it exceeds Excel's limit of \"\n",
      "C:\\Users\\phsheari\\.conda\\envs\\compass_env\\lib\\site-packages\\xlsxwriter\\worksheet.py:986: UserWarning: Ignoring URL 'https://cx-tableau-stage.cisco.com/t/Compass/views/OP_Americas_SAVID_203704567_HERITAGEGALLER_2021_1_21/EstimatorRecommendationsSummary?iframeSizedToWindow=true&:embed=y&:display_count=n&:showAppBanner=false&:origin=viz_share_link&:showVizHome=n' since it exceeds Excel's limit of 65,530 URLS per worksheet.\n",
      "  warn(\"Ignoring URL '%s' since it exceeds Excel's limit of \"\n",
      "C:\\Users\\phsheari\\.conda\\envs\\compass_env\\lib\\site-packages\\xlsxwriter\\worksheet.py:986: UserWarning: Ignoring URL 'https://cx-tableau-stage.cisco.com/t/Compass/views/OP_Americas_SAVID_203772242_TANIMURAANTL_2021_1_17/EstimatorRecommendationsSummary?iframeSizedToWindow=true&:embed=y&:display_count=n&:showAppBanner=false&:origin=viz_share_link&:showVizHome=n' since it exceeds Excel's limit of 65,530 URLS per worksheet.\n",
      "  warn(\"Ignoring URL '%s' since it exceeds Excel's limit of \"\n",
      "C:\\Users\\phsheari\\.conda\\envs\\compass_env\\lib\\site-packages\\xlsxwriter\\worksheet.py:986: UserWarning: Ignoring URL 'https://cx-tableau-stage.cisco.com/t/Compass/views/OP_Americas_SAVID_203848606_CALIFORNIAWATE_2021_1_12/EstimatorRecommendationsSummary?:showAppBanner=false&:display_count=n&:showVizHome=n&:origin=viz_share_link' since it exceeds Excel's limit of 65,530 URLS per worksheet.\n",
      "  warn(\"Ignoring URL '%s' since it exceeds Excel's limit of \"\n",
      "C:\\Users\\phsheari\\.conda\\envs\\compass_env\\lib\\site-packages\\xlsxwriter\\worksheet.py:986: UserWarning: Ignoring URL 'https://cx-tableau-stage.cisco.com/t/Compass/views/OP_Americas_SAVID_203774459_FIREFIGHTERSFI_2021_1_12/EstimatorRecommendationsSummary?:showAppBanner=false&:display_count=n&:showVizHome=n&:origin=viz_share_link' since it exceeds Excel's limit of 65,530 URLS per worksheet.\n",
      "  warn(\"Ignoring URL '%s' since it exceeds Excel's limit of \"\n",
      "C:\\Users\\phsheari\\.conda\\envs\\compass_env\\lib\\site-packages\\xlsxwriter\\worksheet.py:986: UserWarning: Ignoring URL 'https://cx-tableau-stage.cisco.com/t/Compass/views/OP_Americas_SAVID_203723252_UniversityofC_2022_2_14_16449603802720/EstimatorRecommendationsSummary?:showAppBanner=false&:display_count=n&:showVizHome=n&:origin=viz_share_link' since it exceeds Excel's limit of 65,530 URLS per worksheet.\n",
      "  warn(\"Ignoring URL '%s' since it exceeds Excel's limit of \"\n",
      "C:\\Users\\phsheari\\.conda\\envs\\compass_env\\lib\\site-packages\\xlsxwriter\\worksheet.py:986: UserWarning: Ignoring URL 'https://cx-tableau-stage.cisco.com/t/Compass/views/OP_Americas_SAVID_203755105_Cigna_2022_2_22_1/EstimatorRecommendationsSummary?:showAppBanner=false&:display_count=n&:showVizHome=n&:origin=viz_share_link' since it exceeds Excel's limit of 65,530 URLS per worksheet.\n",
      "  warn(\"Ignoring URL '%s' since it exceeds Excel's limit of \"\n",
      "C:\\Users\\phsheari\\.conda\\envs\\compass_env\\lib\\site-packages\\xlsxwriter\\worksheet.py:986: UserWarning: Ignoring URL 'https://cx-tableau-stage.cisco.com/t/Compass/views/OP_Americas_SAVID_203755105_Cigna_2022_2_112658/EstimatorRecommendationsSummary?:showAppBanner=false&:display_count=n&:showVizHome=n&:origin=viz_share_link' since it exceeds Excel's limit of 65,530 URLS per worksheet.\n",
      "  warn(\"Ignoring URL '%s' since it exceeds Excel's limit of \"\n",
      "C:\\Users\\phsheari\\.conda\\envs\\compass_env\\lib\\site-packages\\xlsxwriter\\worksheet.py:986: UserWarning: Ignoring URL 'https://cx-tableau-stage.cisco.com/t/Compass/views/OP_Americas_SAVID_203755105_Cigna_2022_2_2_3/EstimatorRecommendationsSummary?:showAppBanner=false&:display_count=n&:showVizHome=n&:origin=viz_share_link' since it exceeds Excel's limit of 65,530 URLS per worksheet.\n",
      "  warn(\"Ignoring URL '%s' since it exceeds Excel's limit of \"\n",
      "C:\\Users\\phsheari\\.conda\\envs\\compass_env\\lib\\site-packages\\xlsxwriter\\worksheet.py:986: UserWarning: Ignoring URL 'https://cx-tableau-stage.cisco.com/t/Compass/views/OP_Americas_SAVID_203773685_HBFULLER_2022_2_28/TACAnalysis?:showAppBanner=false&:display_count=n&:showVizHome=n&:origin=viz_share_link' since it exceeds Excel's limit of 65,530 URLS per worksheet.\n",
      "  warn(\"Ignoring URL '%s' since it exceeds Excel's limit of \"\n"
     ]
    }
   ],
   "source": [
    "df.to_pickle(excel_file_path_sfdc_version)\n",
    "df.to_excel(excel_file_path_tracker,sheet_name='TrackerData_' + today_file, index=False)\n",
    "df.to_excel(excel_file_path_tableau,sheet_name='TableauData_' + today_file, index=False)"
   ]
  },
  {
   "cell_type": "code",
   "execution_count": 347,
   "metadata": {},
   "outputs": [
    {
     "name": "stdout",
     "output_type": "stream",
     "text": [
      "0:00:11.919197\n"
     ]
    }
   ],
   "source": [
    "finish = dt.datetime.now()\n",
    "elapsed = (finish - start)\n",
    "print(elapsed/60.0)"
   ]
  },
  {
   "cell_type": "code",
   "execution_count": 348,
   "metadata": {},
   "outputs": [
    {
     "data": {
      "text/html": [
       "<div>\n",
       "<style scoped>\n",
       "    .dataframe tbody tr th:only-of-type {\n",
       "        vertical-align: middle;\n",
       "    }\n",
       "\n",
       "    .dataframe tbody tr th {\n",
       "        vertical-align: top;\n",
       "    }\n",
       "\n",
       "    .dataframe thead th {\n",
       "        text-align: right;\n",
       "    }\n",
       "</style>\n",
       "<table border=\"1\" class=\"dataframe\">\n",
       "  <thead>\n",
       "    <tr style=\"text-align: right;\">\n",
       "      <th></th>\n",
       "      <th>Request ID</th>\n",
       "      <th>Create Date</th>\n",
       "      <th>Created By</th>\n",
       "      <th>Request Type</th>\n",
       "      <th>Modified</th>\n",
       "      <th>Modified By</th>\n",
       "      <th>Date Completed</th>\n",
       "      <th>LAST_UPDATED</th>\n",
       "      <th>QA Approve</th>\n",
       "      <th>REVIEW_REQUIRED_FLAG</th>\n",
       "      <th>...</th>\n",
       "      <th>RRT_LPM+</th>\n",
       "      <th>LPM_OFFERS</th>\n",
       "      <th>Method</th>\n",
       "      <th>Measure Group</th>\n",
       "      <th>Offer Focus</th>\n",
       "      <th>Value Type</th>\n",
       "      <th>Report FY</th>\n",
       "      <th>Report FQ</th>\n",
       "      <th>Injection Month</th>\n",
       "      <th>Injection Quarter</th>\n",
       "    </tr>\n",
       "  </thead>\n",
       "  <tbody>\n",
       "    <tr>\n",
       "      <th>0</th>\n",
       "      <td>118405</td>\n",
       "      <td>2022-04-07</td>\n",
       "      <td>vikantha@cisco.com</td>\n",
       "      <td>Reactive</td>\n",
       "      <td>2022-04-11</td>\n",
       "      <td>cx-compass-two.gen@cisco.com</td>\n",
       "      <td>2022-04-11</td>\n",
       "      <td>2022-04-19 13:32 PM Eastern</td>\n",
       "      <td>False</td>\n",
       "      <td>False</td>\n",
       "      <td>...</td>\n",
       "      <td>0</td>\n",
       "      <td>0</td>\n",
       "      <td>M6 (CXIB)</td>\n",
       "      <td>Operations</td>\n",
       "      <td>SNTC</td>\n",
       "      <td>Actual</td>\n",
       "      <td>2022</td>\n",
       "      <td>Q3</td>\n",
       "      <td>202209</td>\n",
       "      <td>2022-Q3</td>\n",
       "    </tr>\n",
       "    <tr>\n",
       "      <th>1</th>\n",
       "      <td>118396</td>\n",
       "      <td>2022-04-07</td>\n",
       "      <td>vikantha@cisco.com</td>\n",
       "      <td>Reactive</td>\n",
       "      <td>2022-04-11</td>\n",
       "      <td>cx-compass-two.gen@cisco.com</td>\n",
       "      <td>2022-04-11</td>\n",
       "      <td>2022-04-19 13:32 PM Eastern</td>\n",
       "      <td>False</td>\n",
       "      <td>False</td>\n",
       "      <td>...</td>\n",
       "      <td>0</td>\n",
       "      <td>0</td>\n",
       "      <td>M6 (CXIB)</td>\n",
       "      <td>Operations</td>\n",
       "      <td>SNTC</td>\n",
       "      <td>Actual</td>\n",
       "      <td>2022</td>\n",
       "      <td>Q3</td>\n",
       "      <td>202209</td>\n",
       "      <td>2022-Q3</td>\n",
       "    </tr>\n",
       "    <tr>\n",
       "      <th>2</th>\n",
       "      <td>118397</td>\n",
       "      <td>2022-04-07</td>\n",
       "      <td>vikantha@cisco.com</td>\n",
       "      <td>Reactive</td>\n",
       "      <td>2022-04-11</td>\n",
       "      <td>cx-compass-two.gen@cisco.com</td>\n",
       "      <td>2022-04-11</td>\n",
       "      <td>2022-04-19 13:32 PM Eastern</td>\n",
       "      <td>False</td>\n",
       "      <td>False</td>\n",
       "      <td>...</td>\n",
       "      <td>0</td>\n",
       "      <td>0</td>\n",
       "      <td>M6 (CXIB)</td>\n",
       "      <td>Operations</td>\n",
       "      <td>SNTC</td>\n",
       "      <td>Actual</td>\n",
       "      <td>2022</td>\n",
       "      <td>Q3</td>\n",
       "      <td>202209</td>\n",
       "      <td>2022-Q3</td>\n",
       "    </tr>\n",
       "    <tr>\n",
       "      <th>3</th>\n",
       "      <td>118398</td>\n",
       "      <td>2022-04-07</td>\n",
       "      <td>vikantha@cisco.com</td>\n",
       "      <td>Reactive</td>\n",
       "      <td>2022-04-11</td>\n",
       "      <td>cx-compass-two.gen@cisco.com</td>\n",
       "      <td>2022-04-11</td>\n",
       "      <td>2022-04-19 13:32 PM Eastern</td>\n",
       "      <td>False</td>\n",
       "      <td>False</td>\n",
       "      <td>...</td>\n",
       "      <td>0</td>\n",
       "      <td>0</td>\n",
       "      <td>M6 (CXIB)</td>\n",
       "      <td>Operations</td>\n",
       "      <td>SNTC</td>\n",
       "      <td>Actual</td>\n",
       "      <td>2022</td>\n",
       "      <td>Q3</td>\n",
       "      <td>202209</td>\n",
       "      <td>2022-Q3</td>\n",
       "    </tr>\n",
       "    <tr>\n",
       "      <th>4</th>\n",
       "      <td>118399</td>\n",
       "      <td>2022-04-07</td>\n",
       "      <td>vikantha@cisco.com</td>\n",
       "      <td>Reactive</td>\n",
       "      <td>2022-04-11</td>\n",
       "      <td>cx-compass-two.gen@cisco.com</td>\n",
       "      <td>2022-04-11</td>\n",
       "      <td>2022-04-19 13:32 PM Eastern</td>\n",
       "      <td>False</td>\n",
       "      <td>False</td>\n",
       "      <td>...</td>\n",
       "      <td>0</td>\n",
       "      <td>0</td>\n",
       "      <td>M6 (CXIB)</td>\n",
       "      <td>Operations</td>\n",
       "      <td>SNTC</td>\n",
       "      <td>Actual</td>\n",
       "      <td>2022</td>\n",
       "      <td>Q3</td>\n",
       "      <td>202209</td>\n",
       "      <td>2022-Q3</td>\n",
       "    </tr>\n",
       "    <tr>\n",
       "      <th>...</th>\n",
       "      <td>...</td>\n",
       "      <td>...</td>\n",
       "      <td>...</td>\n",
       "      <td>...</td>\n",
       "      <td>...</td>\n",
       "      <td>...</td>\n",
       "      <td>...</td>\n",
       "      <td>...</td>\n",
       "      <td>...</td>\n",
       "      <td>...</td>\n",
       "      <td>...</td>\n",
       "      <td>...</td>\n",
       "      <td>...</td>\n",
       "      <td>...</td>\n",
       "      <td>...</td>\n",
       "      <td>...</td>\n",
       "      <td>...</td>\n",
       "      <td>...</td>\n",
       "      <td>...</td>\n",
       "      <td>...</td>\n",
       "      <td>...</td>\n",
       "    </tr>\n",
       "    <tr>\n",
       "      <th>42650</th>\n",
       "      <td>114327</td>\n",
       "      <td>2022-03-03</td>\n",
       "      <td>vikantha@cisco.com</td>\n",
       "      <td>Targeting Campaign</td>\n",
       "      <td>2022-04-14</td>\n",
       "      <td>ggomezbe@cisco.com</td>\n",
       "      <td>2022-03-08</td>\n",
       "      <td>2022-04-19 13:32 PM Eastern</td>\n",
       "      <td>False</td>\n",
       "      <td>False</td>\n",
       "      <td>...</td>\n",
       "      <td>0</td>\n",
       "      <td>0</td>\n",
       "      <td>M1 (Coverage Program)</td>\n",
       "      <td>Operations</td>\n",
       "      <td>SNTC</td>\n",
       "      <td>Actual</td>\n",
       "      <td>2022</td>\n",
       "      <td>Q3</td>\n",
       "      <td>202208</td>\n",
       "      <td>2022-Q3</td>\n",
       "    </tr>\n",
       "    <tr>\n",
       "      <th>42651</th>\n",
       "      <td>114365</td>\n",
       "      <td>2022-03-03</td>\n",
       "      <td>vikantha@cisco.com</td>\n",
       "      <td>Targeting Campaign</td>\n",
       "      <td>2022-04-14</td>\n",
       "      <td>ggomezbe@cisco.com</td>\n",
       "      <td>2022-03-08</td>\n",
       "      <td>2022-04-19 13:32 PM Eastern</td>\n",
       "      <td>False</td>\n",
       "      <td>False</td>\n",
       "      <td>...</td>\n",
       "      <td>0</td>\n",
       "      <td>0</td>\n",
       "      <td>M1 (Coverage Program)</td>\n",
       "      <td>Operations</td>\n",
       "      <td>SNTC</td>\n",
       "      <td>Actual</td>\n",
       "      <td>2022</td>\n",
       "      <td>Q3</td>\n",
       "      <td>202208</td>\n",
       "      <td>2022-Q3</td>\n",
       "    </tr>\n",
       "    <tr>\n",
       "      <th>42652</th>\n",
       "      <td>114344</td>\n",
       "      <td>2022-03-03</td>\n",
       "      <td>vikantha@cisco.com</td>\n",
       "      <td>Targeting Campaign</td>\n",
       "      <td>2022-04-14</td>\n",
       "      <td>ggomezbe@cisco.com</td>\n",
       "      <td>2022-03-08</td>\n",
       "      <td>2022-04-19 13:32 PM Eastern</td>\n",
       "      <td>False</td>\n",
       "      <td>False</td>\n",
       "      <td>...</td>\n",
       "      <td>0</td>\n",
       "      <td>0</td>\n",
       "      <td>M1 (Coverage Program)</td>\n",
       "      <td>Operations</td>\n",
       "      <td>SNTC</td>\n",
       "      <td>Actual</td>\n",
       "      <td>2022</td>\n",
       "      <td>Q3</td>\n",
       "      <td>202208</td>\n",
       "      <td>2022-Q3</td>\n",
       "    </tr>\n",
       "    <tr>\n",
       "      <th>42653</th>\n",
       "      <td>114370</td>\n",
       "      <td>2022-03-03</td>\n",
       "      <td>vikantha@cisco.com</td>\n",
       "      <td>Targeting Campaign</td>\n",
       "      <td>2022-04-14</td>\n",
       "      <td>ggomezbe@cisco.com</td>\n",
       "      <td>2022-03-08</td>\n",
       "      <td>2022-04-19 13:32 PM Eastern</td>\n",
       "      <td>False</td>\n",
       "      <td>False</td>\n",
       "      <td>...</td>\n",
       "      <td>0</td>\n",
       "      <td>0</td>\n",
       "      <td>M1 (Coverage Program)</td>\n",
       "      <td>Operations</td>\n",
       "      <td>SNTC</td>\n",
       "      <td>Actual</td>\n",
       "      <td>2022</td>\n",
       "      <td>Q3</td>\n",
       "      <td>202208</td>\n",
       "      <td>2022-Q3</td>\n",
       "    </tr>\n",
       "    <tr>\n",
       "      <th>42654</th>\n",
       "      <td>114383</td>\n",
       "      <td>2022-03-03</td>\n",
       "      <td>vikantha@cisco.com</td>\n",
       "      <td>Targeting Campaign</td>\n",
       "      <td>2022-04-04</td>\n",
       "      <td>svillama@cisco.com</td>\n",
       "      <td>2022-03-08</td>\n",
       "      <td>2022-04-19 13:32 PM Eastern</td>\n",
       "      <td>False</td>\n",
       "      <td>False</td>\n",
       "      <td>...</td>\n",
       "      <td>0</td>\n",
       "      <td>0</td>\n",
       "      <td>M1 (Coverage Program)</td>\n",
       "      <td>Operations</td>\n",
       "      <td>SNTC</td>\n",
       "      <td>Actual</td>\n",
       "      <td>2022</td>\n",
       "      <td>Q3</td>\n",
       "      <td>202208</td>\n",
       "      <td>2022-Q3</td>\n",
       "    </tr>\n",
       "  </tbody>\n",
       "</table>\n",
       "<p>42655 rows × 181 columns</p>\n",
       "</div>"
      ],
      "text/plain": [
       "      Request ID Create Date          Created By        Request Type  \\\n",
       "0         118405  2022-04-07  vikantha@cisco.com            Reactive   \n",
       "1         118396  2022-04-07  vikantha@cisco.com            Reactive   \n",
       "2         118397  2022-04-07  vikantha@cisco.com            Reactive   \n",
       "3         118398  2022-04-07  vikantha@cisco.com            Reactive   \n",
       "4         118399  2022-04-07  vikantha@cisco.com            Reactive   \n",
       "...          ...         ...                 ...                 ...   \n",
       "42650     114327  2022-03-03  vikantha@cisco.com  Targeting Campaign   \n",
       "42651     114365  2022-03-03  vikantha@cisco.com  Targeting Campaign   \n",
       "42652     114344  2022-03-03  vikantha@cisco.com  Targeting Campaign   \n",
       "42653     114370  2022-03-03  vikantha@cisco.com  Targeting Campaign   \n",
       "42654     114383  2022-03-03  vikantha@cisco.com  Targeting Campaign   \n",
       "\n",
       "        Modified                   Modified By Date Completed  \\\n",
       "0     2022-04-11  cx-compass-two.gen@cisco.com     2022-04-11   \n",
       "1     2022-04-11  cx-compass-two.gen@cisco.com     2022-04-11   \n",
       "2     2022-04-11  cx-compass-two.gen@cisco.com     2022-04-11   \n",
       "3     2022-04-11  cx-compass-two.gen@cisco.com     2022-04-11   \n",
       "4     2022-04-11  cx-compass-two.gen@cisco.com     2022-04-11   \n",
       "...          ...                           ...            ...   \n",
       "42650 2022-04-14            ggomezbe@cisco.com     2022-03-08   \n",
       "42651 2022-04-14            ggomezbe@cisco.com     2022-03-08   \n",
       "42652 2022-04-14            ggomezbe@cisco.com     2022-03-08   \n",
       "42653 2022-04-14            ggomezbe@cisco.com     2022-03-08   \n",
       "42654 2022-04-04            svillama@cisco.com     2022-03-08   \n",
       "\n",
       "                      LAST_UPDATED  QA Approve  REVIEW_REQUIRED_FLAG  ...  \\\n",
       "0      2022-04-19 13:32 PM Eastern       False                 False  ...   \n",
       "1      2022-04-19 13:32 PM Eastern       False                 False  ...   \n",
       "2      2022-04-19 13:32 PM Eastern       False                 False  ...   \n",
       "3      2022-04-19 13:32 PM Eastern       False                 False  ...   \n",
       "4      2022-04-19 13:32 PM Eastern       False                 False  ...   \n",
       "...                            ...         ...                   ...  ...   \n",
       "42650  2022-04-19 13:32 PM Eastern       False                 False  ...   \n",
       "42651  2022-04-19 13:32 PM Eastern       False                 False  ...   \n",
       "42652  2022-04-19 13:32 PM Eastern       False                 False  ...   \n",
       "42653  2022-04-19 13:32 PM Eastern       False                 False  ...   \n",
       "42654  2022-04-19 13:32 PM Eastern       False                 False  ...   \n",
       "\n",
       "      RRT_LPM+  LPM_OFFERS                 Method  Measure Group  Offer Focus  \\\n",
       "0            0           0              M6 (CXIB)     Operations         SNTC   \n",
       "1            0           0              M6 (CXIB)     Operations         SNTC   \n",
       "2            0           0              M6 (CXIB)     Operations         SNTC   \n",
       "3            0           0              M6 (CXIB)     Operations         SNTC   \n",
       "4            0           0              M6 (CXIB)     Operations         SNTC   \n",
       "...        ...         ...                    ...            ...          ...   \n",
       "42650        0           0  M1 (Coverage Program)     Operations         SNTC   \n",
       "42651        0           0  M1 (Coverage Program)     Operations         SNTC   \n",
       "42652        0           0  M1 (Coverage Program)     Operations         SNTC   \n",
       "42653        0           0  M1 (Coverage Program)     Operations         SNTC   \n",
       "42654        0           0  M1 (Coverage Program)     Operations         SNTC   \n",
       "\n",
       "       Value Type Report FY Report FQ Injection Month Injection Quarter  \n",
       "0          Actual      2022        Q3          202209           2022-Q3  \n",
       "1          Actual      2022        Q3          202209           2022-Q3  \n",
       "2          Actual      2022        Q3          202209           2022-Q3  \n",
       "3          Actual      2022        Q3          202209           2022-Q3  \n",
       "4          Actual      2022        Q3          202209           2022-Q3  \n",
       "...           ...       ...       ...             ...               ...  \n",
       "42650      Actual      2022        Q3          202208           2022-Q3  \n",
       "42651      Actual      2022        Q3          202208           2022-Q3  \n",
       "42652      Actual      2022        Q3          202208           2022-Q3  \n",
       "42653      Actual      2022        Q3          202208           2022-Q3  \n",
       "42654      Actual      2022        Q3          202208           2022-Q3  \n",
       "\n",
       "[42655 rows x 181 columns]"
      ]
     },
     "execution_count": 348,
     "metadata": {},
     "output_type": "execute_result"
    }
   ],
   "source": [
    "df"
   ]
  },
  {
   "cell_type": "code",
   "execution_count": null,
   "metadata": {},
   "outputs": [],
   "source": []
  },
  {
   "cell_type": "code",
   "execution_count": null,
   "metadata": {},
   "outputs": [],
   "source": []
  },
  {
   "cell_type": "code",
   "execution_count": 349,
   "metadata": {},
   "outputs": [
    {
     "ename": "FileNotFoundError",
     "evalue": "[Errno 2] No such file or directory: 'D:\\\\Compass Trackers\\\\TrackerData.pkl'",
     "output_type": "error",
     "traceback": [
      "\u001b[1;31m---------------------------------------------------------------------------\u001b[0m",
      "\u001b[1;31mFileNotFoundError\u001b[0m                         Traceback (most recent call last)",
      "\u001b[1;32m<ipython-input-349-a81ed688d670>\u001b[0m in \u001b[0;36m<module>\u001b[1;34m\u001b[0m\n\u001b[1;32m----> 1\u001b[1;33m \u001b[0mdf\u001b[0m\u001b[1;33m.\u001b[0m\u001b[0mto_pickle\u001b[0m\u001b[1;33m(\u001b[0m\u001b[1;34mr'D:\\Compass Trackers\\TrackerData.pkl'\u001b[0m\u001b[1;33m)\u001b[0m\u001b[1;33m\u001b[0m\u001b[1;33m\u001b[0m\u001b[0m\n\u001b[0m\u001b[0;32m      2\u001b[0m \u001b[0mdf\u001b[0m\u001b[1;33m.\u001b[0m\u001b[0mto_excel\u001b[0m\u001b[1;33m(\u001b[0m\u001b[1;34mr'D:\\Compass Trackers\\Tracker Data_'\u001b[0m \u001b[1;33m+\u001b[0m \u001b[0mtoday_file\u001b[0m \u001b[1;33m+\u001b[0m \u001b[1;34m'.xlsx'\u001b[0m\u001b[1;33m,\u001b[0m \u001b[0mindex\u001b[0m\u001b[1;33m=\u001b[0m\u001b[1;32mFalse\u001b[0m\u001b[1;33m)\u001b[0m\u001b[1;33m\u001b[0m\u001b[1;33m\u001b[0m\u001b[0m\n\u001b[0;32m      3\u001b[0m \u001b[1;31m# df.to_csv(hyper_csv_file_path_tracker, index=False)\u001b[0m\u001b[1;33m\u001b[0m\u001b[1;33m\u001b[0m\u001b[1;33m\u001b[0m\u001b[0m\n",
      "\u001b[1;32m~\\.conda\\envs\\compass_env\\lib\\site-packages\\pandas\\core\\generic.py\u001b[0m in \u001b[0;36mto_pickle\u001b[1;34m(self, path, compression, protocol, storage_options)\u001b[0m\n\u001b[0;32m   2861\u001b[0m         \u001b[1;32mfrom\u001b[0m \u001b[0mpandas\u001b[0m\u001b[1;33m.\u001b[0m\u001b[0mio\u001b[0m\u001b[1;33m.\u001b[0m\u001b[0mpickle\u001b[0m \u001b[1;32mimport\u001b[0m \u001b[0mto_pickle\u001b[0m\u001b[1;33m\u001b[0m\u001b[1;33m\u001b[0m\u001b[0m\n\u001b[0;32m   2862\u001b[0m \u001b[1;33m\u001b[0m\u001b[0m\n\u001b[1;32m-> 2863\u001b[1;33m         to_pickle(\n\u001b[0m\u001b[0;32m   2864\u001b[0m             \u001b[0mself\u001b[0m\u001b[1;33m,\u001b[0m\u001b[1;33m\u001b[0m\u001b[1;33m\u001b[0m\u001b[0m\n\u001b[0;32m   2865\u001b[0m             \u001b[0mpath\u001b[0m\u001b[1;33m,\u001b[0m\u001b[1;33m\u001b[0m\u001b[1;33m\u001b[0m\u001b[0m\n",
      "\u001b[1;32m~\\.conda\\envs\\compass_env\\lib\\site-packages\\pandas\\io\\pickle.py\u001b[0m in \u001b[0;36mto_pickle\u001b[1;34m(obj, filepath_or_buffer, compression, protocol, storage_options)\u001b[0m\n\u001b[0;32m     88\u001b[0m         \u001b[0mprotocol\u001b[0m \u001b[1;33m=\u001b[0m \u001b[0mpickle\u001b[0m\u001b[1;33m.\u001b[0m\u001b[0mHIGHEST_PROTOCOL\u001b[0m\u001b[1;33m\u001b[0m\u001b[1;33m\u001b[0m\u001b[0m\n\u001b[0;32m     89\u001b[0m \u001b[1;33m\u001b[0m\u001b[0m\n\u001b[1;32m---> 90\u001b[1;33m     with get_handle(\n\u001b[0m\u001b[0;32m     91\u001b[0m         \u001b[0mfilepath_or_buffer\u001b[0m\u001b[1;33m,\u001b[0m\u001b[1;33m\u001b[0m\u001b[1;33m\u001b[0m\u001b[0m\n\u001b[0;32m     92\u001b[0m         \u001b[1;34m\"wb\"\u001b[0m\u001b[1;33m,\u001b[0m\u001b[1;33m\u001b[0m\u001b[1;33m\u001b[0m\u001b[0m\n",
      "\u001b[1;32m~\\.conda\\envs\\compass_env\\lib\\site-packages\\pandas\\io\\common.py\u001b[0m in \u001b[0;36mget_handle\u001b[1;34m(path_or_buf, mode, encoding, compression, memory_map, is_text, errors, storage_options)\u001b[0m\n\u001b[0;32m    649\u001b[0m         \u001b[1;32melse\u001b[0m\u001b[1;33m:\u001b[0m\u001b[1;33m\u001b[0m\u001b[1;33m\u001b[0m\u001b[0m\n\u001b[0;32m    650\u001b[0m             \u001b[1;31m# Binary mode\u001b[0m\u001b[1;33m\u001b[0m\u001b[1;33m\u001b[0m\u001b[1;33m\u001b[0m\u001b[0m\n\u001b[1;32m--> 651\u001b[1;33m             \u001b[0mhandle\u001b[0m \u001b[1;33m=\u001b[0m \u001b[0mopen\u001b[0m\u001b[1;33m(\u001b[0m\u001b[0mhandle\u001b[0m\u001b[1;33m,\u001b[0m \u001b[0mioargs\u001b[0m\u001b[1;33m.\u001b[0m\u001b[0mmode\u001b[0m\u001b[1;33m)\u001b[0m\u001b[1;33m\u001b[0m\u001b[1;33m\u001b[0m\u001b[0m\n\u001b[0m\u001b[0;32m    652\u001b[0m         \u001b[0mhandles\u001b[0m\u001b[1;33m.\u001b[0m\u001b[0mappend\u001b[0m\u001b[1;33m(\u001b[0m\u001b[0mhandle\u001b[0m\u001b[1;33m)\u001b[0m\u001b[1;33m\u001b[0m\u001b[1;33m\u001b[0m\u001b[0m\n\u001b[0;32m    653\u001b[0m \u001b[1;33m\u001b[0m\u001b[0m\n",
      "\u001b[1;31mFileNotFoundError\u001b[0m: [Errno 2] No such file or directory: 'D:\\\\Compass Trackers\\\\TrackerData.pkl'"
     ]
    }
   ],
   "source": [
    "df.to_pickle(r'D:\\Compass Trackers\\TrackerData.pkl')\n",
    "df.to_excel(r'D:\\Compass Trackers\\Tracker Data_' + today_file + '.xlsx', index=False)\n",
    "# df.to_csv(hyper_csv_file_path_tracker, index=False)"
   ]
  },
  {
   "cell_type": "code",
   "execution_count": null,
   "metadata": {},
   "outputs": [],
   "source": [
    "df.loc[(df['Method'].str.contains('M1', na=False, case=False)) & (df['ALERT_BELOW_25'] == 1)][['Create Date','Customer Name','Compass Advisor','Readout Delivery Status','LPM_PLUS_ENGAGED','ADVISOR_NOTES','LPM_NOTES']]"
   ]
  },
  {
   "cell_type": "code",
   "execution_count": null,
   "metadata": {},
   "outputs": [],
   "source": [
    "Done"
   ]
  },
  {
   "cell_type": "code",
   "execution_count": null,
   "metadata": {},
   "outputs": [],
   "source": [
    "len(df.loc[df['Request ID'].isnull()]['Request ID'].unique())"
   ]
  },
  {
   "cell_type": "code",
   "execution_count": null,
   "metadata": {},
   "outputs": [],
   "source": [
    "# df.loc[df['Request ID'].isin(['202120216643','202120216987'])][['Request ID','Requester Name','Create Date','GUID','CR Party ID','SAV ID','Customer Name','Lvl1','Lvl2 (Region)','Compass Campaign Name']]"
   ]
  },
  {
   "cell_type": "code",
   "execution_count": null,
   "metadata": {},
   "outputs": [],
   "source": [
    "today = dt.datetime.today()"
   ]
  },
  {
   "cell_type": "code",
   "execution_count": null,
   "metadata": {},
   "outputs": [],
   "source": [
    "today"
   ]
  },
  {
   "cell_type": "markdown",
   "metadata": {},
   "source": [
    "### Create the COMPASS GENERATED file for Tableau"
   ]
  },
  {
   "cell_type": "code",
   "execution_count": null,
   "metadata": {},
   "outputs": [],
   "source": [
    "compass_generated = df.loc[(df['Request FY'].isin(['2021','2022'])) & (df['DELIVERABILITY']=='Good') & (df['REMOVE_FROM_COUNT'] == True)][['Request ID','Create Date','Customer Name','GUID','CR Party ID', 'CR Party Name', 'CAV BU ID', 'CAV ID', \n",
    "                                                                                                                                'Deal ID', 'SAV ID', 'Contract ID', 'Inventory Name', 'Appliance ID', 'Requester Name','Requester Function','Campaign','Partner Name', 'Partner Deal','Status', \n",
    "                                                                                                                                'Lvl1', 'Lvl2 (Region)', 'Lvl3','Request Type', 'Date Completed', 'Compass Advisor','Readout_Date','Readout Delivery Status', 'Items Recommended','HashedReadout','CONCIERGE_ADVISOR_ASSIGNED',\n",
    "                                                                                                                                'CONCIERGE_READOUT_DATE', 'CONCIERGE_READOUT_RESULT', 'Report Group', 'Request FY', 'Request FH','Request FQ', 'Request FM','Request FWOFQ','Request FWOFY','Readout FY','Readout FH','Readout FQ','Readout FM', 'Readout FWOFM', 'Readout FWOFQ', 'Readout FWOFY', \n",
    "                                                                                                                                'Recipient Confirmation','RR (internal)','is_Targeting_Campaign', 'Campaign Type', 'Targeting Campaign Type', 'REMOVE_FROM_COUNT',]]#.pivot_table(values='Customer Name', columns='Deliverability', aggfunc='count')"
   ]
  },
  {
   "cell_type": "code",
   "execution_count": null,
   "metadata": {},
   "outputs": [],
   "source": [
    "compass_generated.columns"
   ]
  },
  {
   "cell_type": "code",
   "execution_count": null,
   "metadata": {},
   "outputs": [],
   "source": [
    "compass_generated.to_excel(r'C:\\Users\\phsheari\\Documents\\Compass Tableau Data\\CompassGenerated.xlsx', sheet_name='CompassGenerated',  index=False)"
   ]
  },
  {
   "cell_type": "markdown",
   "metadata": {},
   "source": [
    "### Readouts to Publish to Tableau"
   ]
  },
  {
   "cell_type": "code",
   "execution_count": null,
   "metadata": {},
   "outputs": [],
   "source": [
    "readouts_for_tableau_path = r'C:\\Users\\phsheari\\Documents\\Compass Tableau Data\\Readouts.xlsx'\n",
    "undelivered_readouts_for_tableau_path = r'C:\\Users\\phsheari\\Documents\\Compass Tableau Data\\UndeliveredReadouts.xlsx'"
   ]
  },
  {
   "cell_type": "code",
   "execution_count": null,
   "metadata": {},
   "outputs": [],
   "source": [
    "_11months_ago = today + dt.timedelta(days = -330)"
   ]
  },
  {
   "cell_type": "code",
   "execution_count": null,
   "metadata": {},
   "outputs": [],
   "source": [
    "# df['Date Readout Done'] = pd.to_datetime(df['Date Readout Done'])"
   ]
  },
  {
   "cell_type": "code",
   "execution_count": null,
   "metadata": {},
   "outputs": [],
   "source": [
    "# readouts = df.loc[(df['Date Readout Done'].notnull()) & (df['Readout Delivery Status'].notnull())][['Request ID', 'Sheet Name', 'Previous Request ID', 'Create Date', 'Customer Name', 'GUID', 'CR Party ID','CAV ID', 'Deal ID', 'Requester Name',\n",
    "#                                                                                                    'Partner Name', 'Compass Campaign Name','Status', 'Lvl1', 'Lvl2 (Region)', 'Lvl3','COMPASS URL 1.0', 'COMPASS PPT URL','Compass Concierge Requested',\n",
    "#                                                                                                    'RR (internal)', 'Compass Advisor', 'BDM Notes', 'Items Recommended', 'Date Readout Done', 'Readout Delivery Status', 'Reason Declined', 'EXT_BDM_ASSIGNED',\n",
    "#                                                                                                    'EXT_DATE_READOUT_DONE', 'EXT_READOUT_RESULT', 'Forecast Stage','Projected Booking ($,000)','Target Fiscal Month', 'Target Fiscal Quarter', 'Target Fiscal Year',\n",
    "#                                                                                                    'Deliverability','Recipient Confirmation', 'Request FY', 'Request FQ', 'Request FM', 'Request FWOFM', 'Request FWOFQ', 'Request FWOFY', 'Readout FY', \n",
    "#                                                                                                    'Readout FQ','Readout FM', 'Readout FWOFM', 'Readout FWOFQ', 'Readout FWOFY', 'Campaign Type','IR_BCS', 'IR_EC', 'IR_DNAC', 'IR_SSPT', 'IR_ST', 'IR_SNTC', \n",
    "#                                                                                                    'IR_IRR', 'IR_PR', 'IR_BRW', 'TC_Priority_Recommend','Squeezed','Prepend']]"
   ]
  },
  {
   "cell_type": "code",
   "execution_count": null,
   "metadata": {},
   "outputs": [],
   "source": [
    "# readouts['Prehash_Entity'] = readouts.apply(lambda x: x['Prepend'] + x['FakeID'], axis=1)"
   ]
  },
  {
   "cell_type": "code",
   "execution_count": null,
   "metadata": {},
   "outputs": [],
   "source": [
    "# readouts[['Prehash_Entity','GUID','CAV ID','Customer Name']]"
   ]
  },
  {
   "cell_type": "code",
   "execution_count": null,
   "metadata": {},
   "outputs": [],
   "source": [
    "df.loc[:,df.columns.str.contains('COMPASS URL', na=False, case=False)]"
   ]
  },
  {
   "cell_type": "code",
   "execution_count": null,
   "metadata": {},
   "outputs": [],
   "source": [
    "readouts_publish_to_tableau  = df.loc[(df['Date Readout Done'].notnull()) & \n",
    "                                 ~df['Readout Delivery Status'].isin(['Declined','Postponed']) & \n",
    "                                 (df['GUID'].notnull() | df['CAV ID'].notnull()) &\n",
    "                                 (df['Date Readout Done'] <= today) & \n",
    "                                 (df['REMOVE_FROM_COUNT'] == True) &\n",
    "                                 (df['DELIVERABILITY']=='Good')][['Request ID', 'Create Date', 'Customer Name', 'GUID', 'CR Party ID','CAV ID', 'SAV ID','Deal ID', 'Requester Name',\n",
    "                                                                  'Partner Name','Partner Deal', 'Campaign', 'Lvl1', 'Lvl2 (Region)', 'Lvl3','COMPASS URL', 'COMPASS PPT URL','RR (internal)', 'Report Group', 'Compass Advisor', 'Items Recommended', 'Date Readout Done', 'Readout Delivery Status', \n",
    "                                                                  'CONCIERGE_ADVISOR_ASSIGNED', 'CONCIERGE_READOUT_DATE', 'CONCIERGE_READOUT_RESULT', 'Forecast Stage','Opportunity Value','Target Fiscal Month', 'Target Fiscal Quarter', 'Target Fiscal Year', 'TC_Priority_Recommend', \n",
    "                                                                  'Recipient Confirmation', 'Request FY', 'Request FH','Request FQ', 'Request FM', 'Request FWOFM', 'Request FWOFQ', 'Request FWOFY', 'Readout FY','Readout FH','Readout FQ','Readout FM', 'Readout FWOFM', 'Readout FWOFQ', 'Readout FWOFY', \n",
    "                                                                  'is_Targeting_Campaign', 'Campaign Type','Targeting Campaign Type','Prehash_Entity','Entity_to_hash','HashedReadout','FakeID','REMOVE_FROM_COUNT']]"
   ]
  },
  {
   "cell_type": "code",
   "execution_count": null,
   "metadata": {},
   "outputs": [],
   "source": [
    "def item_recommended_count(item_name, items_recommended):\n",
    "    if pd.isnull(items_recommended):\n",
    "        return 0\n",
    "    elif item_name in items_recommended:\n",
    "        return 1\n",
    "    else:\n",
    "        return 0"
   ]
  },
  {
   "cell_type": "code",
   "execution_count": null,
   "metadata": {},
   "outputs": [],
   "source": [
    "def bcs_recommended_count(items_recommended):\n",
    "    if pd.isnull(items_recommended):\n",
    "        return 0\n",
    "    elif 'BCS' in items_recommended:\n",
    "        return 1\n",
    "    else:\n",
    "        return 0"
   ]
  },
  {
   "cell_type": "code",
   "execution_count": null,
   "metadata": {},
   "outputs": [],
   "source": [
    "def ec_recommended_count(items_recommended):\n",
    "    if pd.isnull(items_recommended):\n",
    "        return 0\n",
    "    elif 'EC' in items_recommended:\n",
    "        return 1\n",
    "    else:\n",
    "        return 0"
   ]
  },
  {
   "cell_type": "code",
   "execution_count": null,
   "metadata": {},
   "outputs": [],
   "source": [
    "def irr_recommended_count(items_recommended):\n",
    "    if pd.isnull(items_recommended):\n",
    "        return 0\n",
    "    elif 'IRR' in items_recommended:\n",
    "        return 1\n",
    "    else:\n",
    "        return 0"
   ]
  },
  {
   "cell_type": "code",
   "execution_count": null,
   "metadata": {},
   "outputs": [],
   "source": [
    "def dnac_recommended_count(items_recommended):\n",
    "    if pd.isnull(items_recommended):\n",
    "        return 0\n",
    "    elif 'DNA' in items_recommended:\n",
    "        return 1\n",
    "    else:\n",
    "        return 0"
   ]
  },
  {
   "cell_type": "code",
   "execution_count": null,
   "metadata": {},
   "outputs": [],
   "source": [
    "def sspt_recommended_count(items_recommended):\n",
    "    if pd.isnull(items_recommended):\n",
    "        return 0\n",
    "    elif 'SSPT' in items_recommended:\n",
    "        return 1\n",
    "    else:\n",
    "        return 0"
   ]
  },
  {
   "cell_type": "code",
   "execution_count": null,
   "metadata": {},
   "outputs": [],
   "source": [
    "def sntc_recommended_count(items_recommended):\n",
    "    if pd.isnull(items_recommended):\n",
    "        return 0\n",
    "    elif 'SNTC' in items_recommended:\n",
    "        return 1\n",
    "    else:\n",
    "        return 0"
   ]
  },
  {
   "cell_type": "code",
   "execution_count": null,
   "metadata": {},
   "outputs": [],
   "source": [
    "def st_recommended_count(items_recommended):\n",
    "    if pd.isnull(items_recommended):\n",
    "        return 0\n",
    "    elif 'ST' in items_recommended:\n",
    "        return 1\n",
    "    else:\n",
    "        return 0"
   ]
  },
  {
   "cell_type": "code",
   "execution_count": null,
   "metadata": {},
   "outputs": [],
   "source": [
    "def pr_recommended_count(items_recommended):\n",
    "    if pd.isnull(items_recommended):\n",
    "        return 0\n",
    "    elif 'PR' in items_recommended:\n",
    "        return 1\n",
    "    else:\n",
    "        return 0"
   ]
  },
  {
   "cell_type": "code",
   "execution_count": null,
   "metadata": {},
   "outputs": [],
   "source": [
    "def brw_recommended_count(items_recommended):\n",
    "    if pd.isnull(items_recommended):\n",
    "        return 0\n",
    "    elif 'BRW' in items_recommended:\n",
    "        return 1\n",
    "    else:\n",
    "        return 0"
   ]
  },
  {
   "cell_type": "code",
   "execution_count": null,
   "metadata": {},
   "outputs": [],
   "source": [
    "def NULL_recommended_count(items_recommended):\n",
    "    if pd.isnull(items_recommended):\n",
    "        return 1\n",
    "    else:\n",
    "        return 0"
   ]
  },
  {
   "cell_type": "code",
   "execution_count": null,
   "metadata": {},
   "outputs": [],
   "source": [
    "# readouts_publish_to_tableau['HashEntity'] = readouts_publish_to_tableau.apply(lambda x: make_hash_entity(x['Prehash_Entity'], x['Compass Advisor'],x['Date Readout Done'], x['Items Recommended']), axis=1) #x['COMPASS URL 1.0'], "
   ]
  },
  {
   "cell_type": "code",
   "execution_count": null,
   "metadata": {},
   "outputs": [],
   "source": [
    "readouts_publish_to_tableau['Targeting Campaign Type'].unique()"
   ]
  },
  {
   "cell_type": "code",
   "execution_count": null,
   "metadata": {},
   "outputs": [],
   "source": [
    "# readouts_publish_to_tableau['HashedReadout'] = readouts_publish_to_tableau.apply(lambda x: hash_the_readout(x['HashEntity']), axis=1 )"
   ]
  },
  {
   "cell_type": "code",
   "execution_count": null,
   "metadata": {},
   "outputs": [],
   "source": [
    "# readouts_publish_to_tableau.HashedReadout.nunique()"
   ]
  },
  {
   "cell_type": "code",
   "execution_count": null,
   "metadata": {},
   "outputs": [],
   "source": [
    "readouts_publish_to_tableau['IRC_BCS']  = readouts_publish_to_tableau['Items Recommended'].apply(bcs_recommended_count)\n",
    "readouts_publish_to_tableau['IRC_EC']   = readouts_publish_to_tableau['Items Recommended'].apply(ec_recommended_count)\n",
    "readouts_publish_to_tableau['IRC_IRR']  = readouts_publish_to_tableau['Items Recommended'].apply(irr_recommended_count)\n",
    "readouts_publish_to_tableau['IRC_DNAC'] = readouts_publish_to_tableau['Items Recommended'].apply(dnac_recommended_count)\n",
    "readouts_publish_to_tableau['IRC_SSPT'] = readouts_publish_to_tableau['Items Recommended'].apply(sspt_recommended_count)\n",
    "readouts_publish_to_tableau['IRC_ST']   = readouts_publish_to_tableau['Items Recommended'].apply(st_recommended_count)\n",
    "readouts_publish_to_tableau['IRC_SNTC'] = readouts_publish_to_tableau['Items Recommended'].apply(sntc_recommended_count)\n",
    "readouts_publish_to_tableau['IRC_PR']   = readouts_publish_to_tableau['Items Recommended'].apply(pr_recommended_count)\n",
    "readouts_publish_to_tableau['IRC_BRW']  = readouts_publish_to_tableau['Items Recommended'].apply(brw_recommended_count)\n",
    "readouts_publish_to_tableau['IRC_NULL'] = readouts_publish_to_tableau['Items Recommended'].apply(NULL_recommended_count)"
   ]
  },
  {
   "cell_type": "code",
   "execution_count": null,
   "metadata": {},
   "outputs": [],
   "source": [
    "readouts_publish_to_tableau.to_excel(readouts_for_tableau_path,sheet_name='TableauReadoutData', index=False)\n",
    "readouts_publish_to_tableau.to_excel(r'C:\\Users\\phsheari\\Documents\\Compass Readouts\\Compass Readouts.xlsx',sheet_name='TableauReadoutData', index=False)"
   ]
  },
  {
   "cell_type": "code",
   "execution_count": null,
   "metadata": {},
   "outputs": [],
   "source": [
    "readouts_publish_to_tableau.groupby('REMOVE_FROM_COUNT')['Request ID'].count()"
   ]
  },
  {
   "cell_type": "code",
   "execution_count": null,
   "metadata": {},
   "outputs": [],
   "source": [
    "latam_readouts1 = readouts_publish_to_tableau['Lvl2 (Region)']=='LATIN AMERICA'\n",
    "latam_readouts3 = readouts_publish_to_tableau['Date Readout Done'] <= '2021-05-07'\n",
    "latam_readouts2 = readouts_publish_to_tableau['Date Readout Done'] > '2020-10-07'"
   ]
  },
  {
   "cell_type": "code",
   "execution_count": null,
   "metadata": {},
   "outputs": [],
   "source": []
  },
  {
   "cell_type": "code",
   "execution_count": null,
   "metadata": {},
   "outputs": [],
   "source": [
    "latam_readouts = readouts_publish_to_tableau.loc[(latam_readouts1 & latam_readouts2 & latam_readouts3)][['Request ID','Date Readout Done','Customer Name','GUID','Compass Advisor','Readout Delivery Status','IRC_BCS','IRC_SSPT','IRC_EC','IRC_ST','IRC_SNTC']]"
   ]
  },
  {
   "cell_type": "code",
   "execution_count": null,
   "metadata": {},
   "outputs": [],
   "source": [
    "#latam_readouts.to_excel(r'C:\\Users\\phsheari\\Documents\\FIN BI Data\\1_AMERICAS\\FY21Q4 Data\\Latam Readouts.xlsx',index=False)"
   ]
  },
  {
   "cell_type": "code",
   "execution_count": null,
   "metadata": {},
   "outputs": [],
   "source": []
  },
  {
   "cell_type": "code",
   "execution_count": null,
   "metadata": {},
   "outputs": [],
   "source": [
    "readouts_publish_to_tableau.loc[readouts_publish_to_tableau['Customer Name'].str.contains('kfh', na=False, case=False)]"
   ]
  },
  {
   "cell_type": "code",
   "execution_count": null,
   "metadata": {},
   "outputs": [],
   "source": [
    "readouts_not_done_condition1 = ((df['Readout Delivery Status'].isnull()) | (df['Readout Delivery Status'].isin(['Declined','Postponed']))) & (df['Items Recommended'].isnull())"
   ]
  },
  {
   "cell_type": "code",
   "execution_count": null,
   "metadata": {},
   "outputs": [],
   "source": [
    "readouts_not_done_condition2 = df['DELIVERABILITY']=='Good'"
   ]
  },
  {
   "cell_type": "code",
   "execution_count": null,
   "metadata": {},
   "outputs": [],
   "source": [
    "readouts_not_done_condition3 = ~(df['Request FY']==2021 & df['Campaign'].str.contains('growth initiative', case=False))"
   ]
  },
  {
   "cell_type": "code",
   "execution_count": null,
   "metadata": {},
   "outputs": [],
   "source": [
    "readouts_not_done_condition4 = df['Request FY'].isin(['2021','2022'])"
   ]
  },
  {
   "cell_type": "code",
   "execution_count": null,
   "metadata": {},
   "outputs": [],
   "source": [
    "readouts_not_done_condition5 = df['REMOVE_FROM_COUNT']==True"
   ]
  },
  {
   "cell_type": "code",
   "execution_count": null,
   "metadata": {},
   "outputs": [],
   "source": [
    "readouts_not_done = df.loc[readouts_not_done_condition1 & readouts_not_done_condition2 & readouts_not_done_condition3 & readouts_not_done_condition4 & readouts_not_done_condition5][['Request ID', 'Create Date', 'Customer Name', 'GUID', 'CR Party ID','CAV ID', 'Deal ID','Requester Name',\n",
    "                                                                                                   'Partner Name','Partner Deal', 'Campaign','Status', 'Lvl1', 'Lvl2 (Region)', 'Lvl3','COMPASS URL', 'COMPASS PPT URL','Compass Concierge Requested',\n",
    "                                                                                                   'RR (internal)','Report Group','Compass Advisor', 'BDM Notes', 'Items Recommended', 'Date Readout Done', 'Readout Delivery Status', 'Reason Declined', 'CONCIERGE_ADVISOR_ASSIGNED',\n",
    "                                                                                                   'CONCIERGE_READOUT_DATE', 'CONCIERGE_READOUT_RESULT',  'Forecast Stage','Opportunity Value','Target Fiscal Month', 'Target Fiscal Quarter', 'Target Fiscal Year',\n",
    "                                                                                                   'DELIVERABILITY','Recipient Confirmation', 'Request FY', 'Request FH', 'Request FQ', 'Request FM', 'Request FWOFM', 'Request FWOFQ', 'Request FWOFY', 'Readout FY','Readout FH', \n",
    "                                                                                                   'Readout FQ','Readout FM', 'Readout FWOFM', 'Readout FWOFQ', 'Readout FWOFY', 'is_Targeting_Campaign', 'Campaign Type', 'Targeting Campaign Type','IR_BCS', 'IR_EC', 'IR_DNAC', 'IR_SSPT', 'IR_ST', 'IR_SNTC', \n",
    "                                                                                                   'IR_IRR', 'IR_PR', 'IR_BRW', 'TC_Priority_Recommend','Entity_to_hash','HashedReadout','REMOVE_FROM_COUNT']]"
   ]
  },
  {
   "cell_type": "code",
   "execution_count": null,
   "metadata": {},
   "outputs": [],
   "source": [
    "readouts_not_done"
   ]
  },
  {
   "cell_type": "code",
   "execution_count": null,
   "metadata": {},
   "outputs": [],
   "source": [
    "### Readouts Scheduled\n",
    "readouts_not_done.loc[(readouts_not_done['Date Readout Done']>= today) & (readouts_not_done['Request FY']>=str(today.year - 1))]"
   ]
  },
  {
   "cell_type": "code",
   "execution_count": null,
   "metadata": {},
   "outputs": [],
   "source": [
    "### Readouts Not Done/ Not Scheduled / Not Declined\n",
    "readouts_not_done.loc[(readouts_not_done['Date Readout Done'].isnull()) & (readouts_not_done['Request FY']>=str(today.year-1)) & ~(readouts_not_done['Readout Delivery Status'].isin(['Declined','Postponed']))].groupby(['Request FY','Campaign','Request FQ', 'Request FM',]).count()[['Request ID']]"
   ]
  },
  {
   "cell_type": "code",
   "execution_count": null,
   "metadata": {},
   "outputs": [],
   "source": [
    "### Readouts Declined or Postponed\n",
    "readouts_not_done.loc[readouts_not_done['Readout Delivery Status'].isin(['Declined','Postponed'])]"
   ]
  },
  {
   "cell_type": "code",
   "execution_count": null,
   "metadata": {},
   "outputs": [],
   "source": [
    "readouts_not_done.to_excel(undelivered_readouts_for_tableau_path,sheet_name='Undelivered', index=False)\n",
    "readouts_not_done.to_excel(r'C:\\Users\\phsheari\\Documents\\Compass Readouts\\Undelivered Readouts.xlsx',sheet_name='Undelivered', index=False)"
   ]
  },
  {
   "cell_type": "code",
   "execution_count": null,
   "metadata": {},
   "outputs": [],
   "source": [
    "readouts_not_done.columns"
   ]
  },
  {
   "cell_type": "code",
   "execution_count": null,
   "metadata": {},
   "outputs": [],
   "source": []
  },
  {
   "cell_type": "code",
   "execution_count": null,
   "metadata": {},
   "outputs": [],
   "source": []
  },
  {
   "cell_type": "markdown",
   "metadata": {},
   "source": [
    "## Compass Partner Data"
   ]
  },
  {
   "cell_type": "markdown",
   "metadata": {},
   "source": [
    "#### ---Partner Compass Delivered"
   ]
  },
  {
   "cell_type": "code",
   "execution_count": null,
   "metadata": {},
   "outputs": [],
   "source": [
    "CURRENT_FISCAL_YEAR = today.year"
   ]
  },
  {
   "cell_type": "code",
   "execution_count": null,
   "metadata": {},
   "outputs": [],
   "source": [
    "CURRENT_FISCAL_YEAR   #& (df['Request FY']==CURRENT_FISCAL_YEAR)   ##  ((df['Deal ID']==-44444) | df['Sheet Name'].str.contains('partner', case=False)) & "
   ]
  },
  {
   "cell_type": "code",
   "execution_count": null,
   "metadata": {},
   "outputs": [],
   "source": [
    "partner_model = (df['Deal ID']==-44444) & (df['Request FY'] == str(CURRENT_FISCAL_YEAR))  #[['Request ID','Request FY']]"
   ]
  },
  {
   "cell_type": "code",
   "execution_count": null,
   "metadata": {},
   "outputs": [],
   "source": [
    "partner_compass_delivered = df.loc[partner_model][['Request ID','Create Date','Customer Name','GUID','Partner Name', 'Partner Deal', 'Lvl1','Lvl2 (Region)','Lvl3','Report Group','Compass Advisor','Date Readout Done', 'Request FY',  'Request FH', \n",
    "                                                   'Request FQ','Request FM', 'Request FWOFM', 'Request FWOFQ', 'Request FWOFY','Readout FY', 'Readout FH', 'Readout FQ','Readout FM', 'Readout FWOFM', 'Readout FWOFQ', 'Readout FWOFY']] "
   ]
  },
  {
   "cell_type": "code",
   "execution_count": null,
   "metadata": {},
   "outputs": [],
   "source": [
    "# partner_compass_delivered['GUID'] = partner_compass_delivered['GUID'].astype(int)"
   ]
  },
  {
   "cell_type": "code",
   "execution_count": null,
   "metadata": {},
   "outputs": [],
   "source": [
    "partner_compass_delivered.sort_values(by=(['Lvl1','Partner Name','Lvl2 (Region)','Create Date','Request ID','Customer Name']), inplace=True)"
   ]
  },
  {
   "cell_type": "code",
   "execution_count": null,
   "metadata": {},
   "outputs": [],
   "source": [
    "# partner_compass_delivered.groupby(['Request FY','Lvl1','Partner Name']).count()[['Request ID','Compass Advisor','Date Readout Done']]"
   ]
  },
  {
   "cell_type": "markdown",
   "metadata": {},
   "source": [
    "#### ---Partner Readouts Delivered"
   ]
  },
  {
   "cell_type": "code",
   "execution_count": null,
   "metadata": {},
   "outputs": [],
   "source": [
    "partner_readouts_delivered = df.loc[(df['Deal ID']==-44444) & \n",
    "#                                     (df['Request FY']==CURRENT_FISCAL_YEAR) & \n",
    "                                    (df['Readout Delivery Status'].str.contains('complete', case=False))  & \n",
    "                                    (df['DELIVERABILITY']=='Good')][['Request ID','Create Date','Customer Name','GUID','Partner Name','Partner Deal','Lvl1','Lvl2 (Region)','Compass Advisor','Date Readout Done','Readout Delivery Status','Items Recommended','Readout FY','Readout FH','Readout FQ','Readout FM',]]"
   ]
  },
  {
   "cell_type": "code",
   "execution_count": null,
   "metadata": {},
   "outputs": [],
   "source": [
    "partner_readouts_delivered['GUID'] = partner_readouts_delivered['GUID'].astype(int)"
   ]
  },
  {
   "cell_type": "code",
   "execution_count": null,
   "metadata": {},
   "outputs": [],
   "source": [
    "partner_readouts_delivered.sort_values(by=(['Lvl1','Partner Name','Create Date','Request ID','Customer Name']), inplace=True)"
   ]
  },
  {
   "cell_type": "code",
   "execution_count": null,
   "metadata": {},
   "outputs": [],
   "source": [
    "partner_readouts_delivered.groupby(['Readout FY','Readout FQ','Readout FM']).count()['Request ID']"
   ]
  },
  {
   "cell_type": "code",
   "execution_count": null,
   "metadata": {},
   "outputs": [],
   "source": [
    "partner_compass_delivered.to_excel(r'C:\\Users\\phsheari\\Documents\\Compass Tableau Data\\PartnerData.xlsx',sheet_name='Partners', index=False)"
   ]
  },
  {
   "cell_type": "code",
   "execution_count": null,
   "metadata": {},
   "outputs": [],
   "source": [
    "Done"
   ]
  },
  {
   "cell_type": "code",
   "execution_count": null,
   "metadata": {},
   "outputs": [],
   "source": []
  },
  {
   "cell_type": "markdown",
   "metadata": {},
   "source": [
    "## Compass Pipeline Data"
   ]
  },
  {
   "cell_type": "code",
   "execution_count": null,
   "metadata": {},
   "outputs": [],
   "source": [
    "### Compass Pipeline Conditions\n",
    "forecast_stages = ['1 - Prospect','2 - Qualification','3 - Proposal','4 - Agreement']\n",
    "pipeline1 = (df['Forecast Stage'].isin(forecast_stages))\n",
    "pipeline2 = (df['Deliverability']=='Good')\n",
    "pipeline3 = ((df['Target Fiscal Year'] == str(CURRENT_FISCAL_YEAR)) | (df['Target Fiscal Year'] == str(CURRENT_FISCAL_YEAR + 1)))\n",
    "pipeline4 = (df['Request FY'].isin([str(CURRENT_FISCAL_YEAR - 1),str(CURRENT_FISCAL_YEAR)]))"
   ]
  },
  {
   "cell_type": "code",
   "execution_count": null,
   "metadata": {},
   "outputs": [],
   "source": [
    "compass_pipeline_data = df.loc[pipeline1 & pipeline2 & pipeline3 & pipeline4][['Request ID','Create Date','Customer Name','Requester Name','GUID','CAV ID','Deal ID', 'Lvl1','Lvl2 (Region)','Forecast Stage','Forecast Status','Opportunity Value','Target Fiscal Month','Target Fiscal Quarter','Target Fiscal Year']] "
   ]
  },
  {
   "cell_type": "code",
   "execution_count": null,
   "metadata": {},
   "outputs": [],
   "source": [
    "compass_pipeline_data['Deal ID'] = compass_pipeline_data['Deal ID'].astype(int)"
   ]
  },
  {
   "cell_type": "code",
   "execution_count": null,
   "metadata": {},
   "outputs": [],
   "source": [
    "# compass_pipeline_data['GUID'] = compass_pipeline_data['GUID'].astype(int)"
   ]
  },
  {
   "cell_type": "code",
   "execution_count": null,
   "metadata": {},
   "outputs": [],
   "source": [
    "compass_pipeline_data.loc[compass_pipeline_data['GUID'].isnull()]"
   ]
  },
  {
   "cell_type": "code",
   "execution_count": null,
   "metadata": {},
   "outputs": [],
   "source": [
    "pd.pivot_table(data=compass_pipeline_data, values='Projected Booking ($,000)', index=['Target Fiscal Year','Target Fiscal Quarter'], columns='Forecast Stage', aggfunc=['sum','count'], fill_value = 0.0)"
   ]
  },
  {
   "cell_type": "code",
   "execution_count": null,
   "metadata": {},
   "outputs": [],
   "source": [
    "compass_pipeline_data.to_excel(r'C:\\Users\\phsheari\\Documents\\Compass Tableau Data\\CompassPipeline.xlsx',sheet_name='Pipeline', index=False)"
   ]
  },
  {
   "cell_type": "code",
   "execution_count": null,
   "metadata": {},
   "outputs": [],
   "source": [
    "non_reporting_campaigns = ['accelerator','test','test request','proactive - ignore']"
   ]
  },
  {
   "cell_type": "code",
   "execution_count": null,
   "metadata": {},
   "outputs": [],
   "source": []
  },
  {
   "cell_type": "code",
   "execution_count": null,
   "metadata": {},
   "outputs": [],
   "source": [
    "## Compass Inventory Generated\n",
    "compass_generated_inventory = df.loc[(df['Deliverability']=='Good') & ~(df['Campaign'].str.lower().isin(non_reporting_campaigns))][['Request ID', 'Create Date','Date Completed','Complete?','Date Readout Done','Customer Name','Requester Name','Requester Function','Partner Name','Partner Deal','Recipient Confirmation','Compass Campaign Name', 'Request FY', 'Lvl1','Lvl2 (Region)','Lvl3','Campaign Type','Record Type','REMOVE_FROM_COUNT','RR (internal)','Targeting Campaign Type']]"
   ]
  },
  {
   "cell_type": "code",
   "execution_count": null,
   "metadata": {},
   "outputs": [],
   "source": [
    "compass_generated_inventory.loc[(compass_generated_inventory['Request FY']=='2021') & (compass_generated_inventory['REMOVE_FROM_COUNT']==True) & ~(compass_generated_inventory['RR (internal)']=='NO')]  #(compass_generated_inventory['Recipient Confirmation']=='Confirmed') & "
   ]
  },
  {
   "cell_type": "code",
   "execution_count": null,
   "metadata": {},
   "outputs": [],
   "source": [
    "compass_generated_inventory.to_excel(r'C:\\Users\\phsheari\\Documents\\Compass Tableau Data\\Compass_Generated_Inventory.xlsx', sheet_name='Compass Generated', index=False)"
   ]
  },
  {
   "cell_type": "code",
   "execution_count": null,
   "metadata": {},
   "outputs": [],
   "source": [
    "# if finish.weekday() == 4:\n",
    "#     send_file = r'C:\\Users\\phsheari\\Documents\\Compass Pipeline' + \"\\\\\" + 'Compass_Maven_Bookings_Pipeline_Partners_ETL_File_' + today_file[:8] + '.xlsx'\n",
    "#     with pd.ExcelWriter(send_file) as writer:  #endfilename\n",
    "#         compass_pipeline_data.to_excel(writer, sheet_name = \"Compass Pipeline Data\", index=False)\n",
    "#         compas_finbi_bookings.to_excel(writer, sheet_name = 'Compass FINBI Bookings', index=False)\n",
    "#         partner_compass_delivered.to_excel(writer, sheet_name = \"Partner Compass Delivered\", index=False)\n",
    "#         partner_readouts_delivered.to_excel(writer, sheet_name = \"Partner Readouts Delivered\", index=False)\n",
    "#         finbi_partner_deals.to_excel(writer, sheet_name = 'Partner Bookings (from Compass)', index = False)   "
   ]
  },
  {
   "cell_type": "markdown",
   "metadata": {},
   "source": [
    "### LATAM records from Smartsheet"
   ]
  },
  {
   "cell_type": "code",
   "execution_count": null,
   "metadata": {},
   "outputs": [],
   "source": [
    "df.loc[(df['Lvl2 (Region)'].notnull()) & \n",
    "       (df['Lvl2 (Region)'].str.contains('LATIN AMERICA', case=False)) & \n",
    "       (df['Request FY'] == '2021')  & \n",
    "       ~(df['Campaign'].str.contains('growth', na=False, case=False))\n",
    "      ].groupby(['Campaign Type','Targeting Campaign Type']).count()[['Request ID','Compass Advisor','Date Readout Done','Readout Delivery Status','Items Recommended','HashedReadout']]"
   ]
  },
  {
   "cell_type": "code",
   "execution_count": null,
   "metadata": {},
   "outputs": [],
   "source": [
    "finish = dt.datetime.now()\n",
    "elapsed = (finish - start)\n",
    "print(elapsed/60.0)"
   ]
  },
  {
   "cell_type": "code",
   "execution_count": null,
   "metadata": {},
   "outputs": [],
   "source": [
    "Done"
   ]
  },
  {
   "cell_type": "markdown",
   "metadata": {},
   "source": [
    "## Healthcare records exercise"
   ]
  },
  {
   "cell_type": "code",
   "execution_count": null,
   "metadata": {},
   "outputs": [],
   "source": [
    "h1 = df['Customer Name'].str.contains('medical', case=False)"
   ]
  },
  {
   "cell_type": "code",
   "execution_count": null,
   "metadata": {},
   "outputs": [],
   "source": [
    "h2 = df['Customer Name'].str.contains('hospital', case=False)"
   ]
  },
  {
   "cell_type": "code",
   "execution_count": null,
   "metadata": {},
   "outputs": [],
   "source": [
    "h3 = df['Customer Name'].str.contains('health', case=False)"
   ]
  },
  {
   "cell_type": "code",
   "execution_count": null,
   "metadata": {},
   "outputs": [],
   "source": [
    "h4 = df['Customer Name'].str.contains('physician', case=False)"
   ]
  },
  {
   "cell_type": "code",
   "execution_count": null,
   "metadata": {},
   "outputs": [],
   "source": [
    "h5 = df['Customer Name'].str.contains('pharma', case=False)"
   ]
  },
  {
   "cell_type": "code",
   "execution_count": null,
   "metadata": {},
   "outputs": [],
   "source": [
    "h6 = df['Customer Name'].str.contains('laboratori', case=False)"
   ]
  },
  {
   "cell_type": "code",
   "execution_count": null,
   "metadata": {},
   "outputs": [],
   "source": [
    "h7 = df['Customer Name'].str.contains('labs', case=False)"
   ]
  },
  {
   "cell_type": "code",
   "execution_count": null,
   "metadata": {},
   "outputs": [],
   "source": [
    "h8 = df['Customer Name'].str.contains('pfizer', case=False)"
   ]
  },
  {
   "cell_type": "code",
   "execution_count": null,
   "metadata": {},
   "outputs": [],
   "source": [
    "h9 = df['Customer Name'].str.contains('bayer', case=False)"
   ]
  },
  {
   "cell_type": "code",
   "execution_count": null,
   "metadata": {},
   "outputs": [],
   "source": [
    "h10 = df['Customer Name'].str.contains('merck', case=False)"
   ]
  },
  {
   "cell_type": "code",
   "execution_count": null,
   "metadata": {},
   "outputs": [],
   "source": [
    "h11 = df['Customer Name'].str.contains('roche', case=False)"
   ]
  },
  {
   "cell_type": "code",
   "execution_count": null,
   "metadata": {},
   "outputs": [],
   "source": [
    "h12 = df['Customer Name'].str.contains('novartis', case=False)"
   ]
  },
  {
   "cell_type": "code",
   "execution_count": null,
   "metadata": {},
   "outputs": [],
   "source": [
    "h13 = df['Customer Name'].str.contains('glaxo', case=False)"
   ]
  },
  {
   "cell_type": "code",
   "execution_count": null,
   "metadata": {},
   "outputs": [],
   "source": [
    "h14 = df['Customer Name'].str.contains('johnson & johnson', case=False)"
   ]
  },
  {
   "cell_type": "code",
   "execution_count": null,
   "metadata": {},
   "outputs": [],
   "source": [
    "h15 = df['Customer Name'].str.contains('sanofi', case=False)"
   ]
  },
  {
   "cell_type": "code",
   "execution_count": null,
   "metadata": {},
   "outputs": [],
   "source": [
    "h16 = df['Customer Name'].str.contains('abbvie', case=False)"
   ]
  },
  {
   "cell_type": "code",
   "execution_count": null,
   "metadata": {},
   "outputs": [],
   "source": [
    "h17 = df['Customer Name'].str.contains('zeneca', case=False)"
   ]
  },
  {
   "cell_type": "code",
   "execution_count": null,
   "metadata": {},
   "outputs": [],
   "source": [
    "h18 = df['Customer Name'].str.contains('baxter', case=False)"
   ]
  },
  {
   "cell_type": "code",
   "execution_count": null,
   "metadata": {},
   "outputs": [],
   "source": [
    "h19 = df['Customer Name'].str.contains('bausch', case=False)"
   ]
  },
  {
   "cell_type": "code",
   "execution_count": null,
   "metadata": {},
   "outputs": [],
   "source": [
    "h20 = df['Customer Name'].str.contains('biogen', case=False)"
   ]
  },
  {
   "cell_type": "code",
   "execution_count": null,
   "metadata": {},
   "outputs": [],
   "source": [
    "h21 = df['Customer Name'].str.contains('celgene', case=False)"
   ]
  },
  {
   "cell_type": "code",
   "execution_count": null,
   "metadata": {},
   "outputs": [],
   "source": [
    "h22 = df['Customer Name'].str.contains('moderna', case=False)"
   ]
  },
  {
   "cell_type": "code",
   "execution_count": null,
   "metadata": {},
   "outputs": [],
   "source": [
    "h23 = df['Customer Name'].str.contains('stryker', case=False)"
   ]
  },
  {
   "cell_type": "code",
   "execution_count": null,
   "metadata": {},
   "outputs": [],
   "source": [
    "h24 = df['Customer Name'].str.contains('teva', case=False)"
   ]
  },
  {
   "cell_type": "code",
   "execution_count": null,
   "metadata": {},
   "outputs": [],
   "source": [
    "h25 = df['Customer Name'].str.contains('medtronic', case=False)"
   ]
  },
  {
   "cell_type": "code",
   "execution_count": null,
   "metadata": {},
   "outputs": [],
   "source": [
    "h26 = df['Customer Name'].str.contains('diagnostic', case=False)"
   ]
  },
  {
   "cell_type": "code",
   "execution_count": null,
   "metadata": {},
   "outputs": [],
   "source": [
    "today = dt.datetime.now()"
   ]
  },
  {
   "cell_type": "code",
   "execution_count": null,
   "metadata": {},
   "outputs": [],
   "source": [
    "last_90_days = today.date() + dt.timedelta(days=-90)"
   ]
  },
  {
   "cell_type": "code",
   "execution_count": null,
   "metadata": {},
   "outputs": [],
   "source": [
    "last_90_days"
   ]
  },
  {
   "cell_type": "code",
   "execution_count": null,
   "metadata": {},
   "outputs": [],
   "source": [
    "h_last_90 = (df['Create Date'] >= last_90_days)"
   ]
  },
  {
   "cell_type": "code",
   "execution_count": null,
   "metadata": {},
   "outputs": [],
   "source": [
    "health2 = df.loc[(h1 | h2 | h3 | h4 | h5 | h6 | h8 | h9 | h10 | h11 | h12 | h13 | h14 | h15 | h16 | h17 | h18 | h19 | h20 | h21 | h22 | h23 | h24 | h25 | h26) & h_last_90][['Request ID','Create Date','Customer Name','GUID','Lvl1','Lvl2 (Region)','Compass Advisor','Date Readout Done', 'Readout Delivery Status']]"
   ]
  },
  {
   "cell_type": "code",
   "execution_count": null,
   "metadata": {},
   "outputs": [],
   "source": [
    "health2.shape"
   ]
  },
  {
   "cell_type": "code",
   "execution_count": null,
   "metadata": {},
   "outputs": [],
   "source": [
    "health2.sort_values(by=(['Create Date','Customer Name']), inplace=True)"
   ]
  },
  {
   "cell_type": "code",
   "execution_count": null,
   "metadata": {},
   "outputs": [],
   "source": [
    "health2.to_excel(r'C:\\Users\\phsheari\\Documents\\Francisco\\Healthcare_Compass_Accounts3.xlsx', index=False)"
   ]
  },
  {
   "cell_type": "code",
   "execution_count": null,
   "metadata": {},
   "outputs": [],
   "source": [
    "emma_scudder = df.loc[h_last_90 & (df['Deliverability']=='Good')][['Request ID','Create Date','Customer Name','GUID', 'CAV ID','CAV BU ID','SAV ID','CR Party ID','CR Party Name','Appliance ID','Contract ID', 'Lvl1','Lvl2 (Region)','Lvl3']]"
   ]
  },
  {
   "cell_type": "code",
   "execution_count": null,
   "metadata": {},
   "outputs": [],
   "source": [
    "emma_scudder.to_excel(r'C:\\Users\\phsheari\\Documents\\Francisco\\Emma_Scudder_Request_Last_90_Days_Compass.xlsx', index=False)"
   ]
  },
  {
   "cell_type": "code",
   "execution_count": null,
   "metadata": {},
   "outputs": [],
   "source": []
  },
  {
   "cell_type": "code",
   "execution_count": null,
   "metadata": {},
   "outputs": [],
   "source": []
  },
  {
   "cell_type": "code",
   "execution_count": null,
   "metadata": {},
   "outputs": [],
   "source": []
  },
  {
   "cell_type": "markdown",
   "metadata": {},
   "source": [
    "### Main Work Complete"
   ]
  },
  {
   "cell_type": "code",
   "execution_count": null,
   "metadata": {},
   "outputs": [],
   "source": [
    "df[['Request ID','Sheet Name']].nunique()"
   ]
  },
  {
   "cell_type": "code",
   "execution_count": null,
   "metadata": {},
   "outputs": [],
   "source": [
    "finish"
   ]
  },
  {
   "cell_type": "code",
   "execution_count": null,
   "metadata": {},
   "outputs": [],
   "source": [
    "df['Deal ID'] = df['Deal ID'].apply(convert_nan_to_int_to_str)"
   ]
  },
  {
   "cell_type": "code",
   "execution_count": null,
   "metadata": {},
   "outputs": [],
   "source": [
    "campaign_counts = pd.DataFrame(df.loc[df['Campaign].notnull()][['Lvl1','Lvl2 (Region)','Lvl3','Campaign','Requester Name','Create Date','Request FY','Request FQ']].value_counts())"
   ]
  },
  {
   "cell_type": "code",
   "execution_count": null,
   "metadata": {},
   "outputs": [],
   "source": [
    "campaign_counts.rename(columns={0:'Counts'}, inplace=True)"
   ]
  },
  {
   "cell_type": "code",
   "execution_count": null,
   "metadata": {},
   "outputs": [],
   "source": [
    "campaign_counts.sort_values(['Campaign', 'Request FY','Request FQ'], inplace=True)"
   ]
  },
  {
   "cell_type": "code",
   "execution_count": null,
   "metadata": {},
   "outputs": [],
   "source": [
    "campaign_counts.reset_index(inplace=True)"
   ]
  },
  {
   "cell_type": "code",
   "execution_count": null,
   "metadata": {},
   "outputs": [],
   "source": [
    "campaign_counts.columns"
   ]
  },
  {
   "cell_type": "code",
   "execution_count": null,
   "metadata": {},
   "outputs": [],
   "source": [
    "campaign_counts.to_csv(r'C:\\Users\\phsheari\\Desktop\\campaigns.csv', index=False)"
   ]
  },
  {
   "cell_type": "code",
   "execution_count": null,
   "metadata": {},
   "outputs": [],
   "source": [
    "# bigdict = pre_dict.to_dict('records')"
   ]
  },
  {
   "cell_type": "code",
   "execution_count": null,
   "metadata": {},
   "outputs": [],
   "source": [
    "# bigdict"
   ]
  },
  {
   "cell_type": "code",
   "execution_count": null,
   "metadata": {},
   "outputs": [],
   "source": [
    "# dic = {}\n",
    "# for x in bigdict:\n",
    "#     dic[x['Request ID']] = x['Requester Name']"
   ]
  },
  {
   "cell_type": "code",
   "execution_count": null,
   "metadata": {},
   "outputs": [],
   "source": [
    "# dic"
   ]
  },
  {
   "cell_type": "code",
   "execution_count": null,
   "metadata": {},
   "outputs": [],
   "source": [
    "# len(dic.items()) #['Compass Campaign Name']"
   ]
  },
  {
   "cell_type": "code",
   "execution_count": null,
   "metadata": {},
   "outputs": [],
   "source": [
    "today = dt.datetime.today().date()"
   ]
  },
  {
   "cell_type": "code",
   "execution_count": null,
   "metadata": {},
   "outputs": [],
   "source": [
    "today"
   ]
  },
  {
   "cell_type": "code",
   "execution_count": null,
   "metadata": {},
   "outputs": [],
   "source": [
    "_30days_ago = today + dt.timedelta(days=-30)"
   ]
  },
  {
   "cell_type": "code",
   "execution_count": null,
   "metadata": {},
   "outputs": [],
   "source": [
    "_90days_ago = today + dt.timedelta(days=-90)"
   ]
  },
  {
   "cell_type": "code",
   "execution_count": null,
   "metadata": {},
   "outputs": [],
   "source": [
    "_90days_ago"
   ]
  },
  {
   "cell_type": "code",
   "execution_count": null,
   "metadata": {},
   "outputs": [],
   "source": [
    "cond0 = df['Compass Campaign Name'].notnull()\n",
    "cond11 = df['Compass Campaign Name'].str.contains('target', case=False)\n",
    "cond12 = df['Compass Campaign Name'].str.contains('success', case=False)\n",
    "cond13 = df['Compass Campaign Name'].str.contains('bcs', case=False)\n",
    "cond3 = df['Date Readout Done'] >= _30days_ago\n",
    "cond4 = (df['Date Readout Done'] > _90days_ago) & (df['Date Readout Done'] <= _30days_ago)"
   ]
  },
  {
   "cell_type": "code",
   "execution_count": null,
   "metadata": {},
   "outputs": [],
   "source": [
    "cond5 =  df['Create Date'] >= _30days_ago\n",
    "cond6 = df['Date Readout Done'].isnull()\n",
    "cond7 = (df['RR (internal)'].isnull() | df['RR (internal)'].str.lower()=='yes')\n",
    "cond8 = (df['RR (internal)'].isnull() | df['RR (internal)'].str.lower()=='no')"
   ]
  },
  {
   "cell_type": "code",
   "execution_count": null,
   "metadata": {},
   "outputs": [],
   "source": [
    "_30_day_data = df.loc[cond3 & cond7][['Request ID', 'Create Date', 'Sheet Name','Requester Name','Customer Name','GUID','Compass Campaign Name','Compass Advisor','Date Readout Done', 'Readout Delivery Status']]"
   ]
  },
  {
   "cell_type": "code",
   "execution_count": null,
   "metadata": {},
   "outputs": [],
   "source": [
    "new_last_30_days = df.loc[cond0 & (cond11 | cond12 | cond13) & cond5 & cond6][['Request ID', 'Create Date', 'Sheet Name','Requester Name','Customer Name','GUID','Compass Campaign Name','Compass Advisor','Date Readout Done', 'Readout Delivery Status']]"
   ]
  },
  {
   "cell_type": "code",
   "execution_count": null,
   "metadata": {},
   "outputs": [],
   "source": [
    "new_entries_to_cancel = pd.merge(new_last_30_days, _30_day_data, how ='inner', left_on = ['GUID','Customer Name'], right_on = ['GUID','Customer Name'])[['Request ID_x', 'Create Date_x', 'Sheet Name_x','Requester Name_x','Customer Name','GUID','Compass Campaign Name_x','Compass Advisor_x','Date Readout Done_x', 'Readout Delivery Status_x']]"
   ]
  },
  {
   "cell_type": "code",
   "execution_count": null,
   "metadata": {},
   "outputs": [],
   "source": [
    "newcols = []\n",
    "for col in new_entries_to_cancel.columns:\n",
    "    newcols.append(col.replace('_x',''))\n",
    "new_entries_to_cancel.columns = newcols"
   ]
  },
  {
   "cell_type": "code",
   "execution_count": null,
   "metadata": {},
   "outputs": [],
   "source": [
    "new_entries_to_cancel.drop_duplicates(inplace=True)"
   ]
  },
  {
   "cell_type": "code",
   "execution_count": null,
   "metadata": {},
   "outputs": [],
   "source": [
    "new_entries_to_cancel.sort_values(by=['Sheet Name','Request ID'], inplace=True, ignore_index=True)"
   ]
  },
  {
   "cell_type": "code",
   "execution_count": null,
   "metadata": {},
   "outputs": [],
   "source": [
    "new_entries_to_cancel['Requester Name'] = new_entries_to_cancel['Requester Name'].apply(lambda x: None if x == 'nan@cisco.com' else x)"
   ]
  },
  {
   "cell_type": "code",
   "execution_count": null,
   "metadata": {},
   "outputs": [],
   "source": [
    "new_entries_to_cancel"
   ]
  },
  {
   "cell_type": "code",
   "execution_count": null,
   "metadata": {},
   "outputs": [],
   "source": [
    "_90day_data = df.loc[cond0 & (cond11 | cond12 | cond13) & cond4 & cond8][['Request ID', 'Create Date', 'Sheet Name','Requester Name','Customer Name','GUID','Compass Campaign Name','Compass Advisor','Date Readout Done', 'Readout Delivery Status']]"
   ]
  },
  {
   "cell_type": "code",
   "execution_count": null,
   "metadata": {},
   "outputs": [],
   "source": [
    "new_entries_to_schedule = pd.merge(new_last_30_days, _90day_data, how ='inner', left_on = ['GUID','Customer Name'], right_on = ['GUID','Customer Name'])[['Request ID_x', 'Create Date_x','Sheet Name_x','Requester Name_x','Customer Name','GUID','Compass Campaign Name_x','Compass Advisor_x','Date Readout Done_x', 'Readout Delivery Status_x']]"
   ]
  },
  {
   "cell_type": "code",
   "execution_count": null,
   "metadata": {},
   "outputs": [],
   "source": [
    "newcols_sched = []\n",
    "for col in new_entries_to_schedule.columns:\n",
    "    newcols_sched.append(col.replace('_x',''))\n",
    "new_entries_to_schedule.columns = newcols_sched"
   ]
  },
  {
   "cell_type": "code",
   "execution_count": null,
   "metadata": {},
   "outputs": [],
   "source": [
    "new_entries_to_schedule.drop_duplicates(inplace=True)"
   ]
  },
  {
   "cell_type": "code",
   "execution_count": null,
   "metadata": {},
   "outputs": [],
   "source": [
    "new_entries_to_schedule.sort_values(by=['Sheet Name','Request ID'], inplace=True, ignore_index=True)"
   ]
  },
  {
   "cell_type": "code",
   "execution_count": null,
   "metadata": {},
   "outputs": [],
   "source": [
    "# new_entries_to_schedule['Requester Name'] = new_entries_to_schedule['Requester Name'].apply(lambda x: None if x.startswith('nan') else x)"
   ]
  },
  {
   "cell_type": "code",
   "execution_count": null,
   "metadata": {},
   "outputs": [],
   "source": [
    "new_entries_to_schedule"
   ]
  },
  {
   "cell_type": "code",
   "execution_count": null,
   "metadata": {},
   "outputs": [],
   "source": [
    "with pd.ExcelWriter(r'C:\\\\Users\\\\phsheari\\\\Documents\\\\Compass Scheduling' + \"\\\\\" + 'Stacey_To_Schedule_' + today_file[:8] + '.xlsx') as writer:  #endfilename\n",
    "    new_entries_to_cancel.to_excel(writer, sheet_name = 'Entries for NO', index = False)\n",
    "    new_entries_to_schedule.to_excel(writer, sheet_name = 'Entries to Schedule', index = False)"
   ]
  },
  {
   "cell_type": "code",
   "execution_count": null,
   "metadata": {},
   "outputs": [],
   "source": [
    "pd.options.display.float_format = '{:,.2f}'.format"
   ]
  },
  {
   "cell_type": "code",
   "execution_count": null,
   "metadata": {},
   "outputs": [],
   "source": []
  },
  {
   "cell_type": "code",
   "execution_count": null,
   "metadata": {},
   "outputs": [],
   "source": [
    "partner_list = list(df.loc[df['Partner Name'].notnull()]['Partner Name'].str.lower()\\\n",
    "                                                    .replace({'. ':'',\n",
    "                                                              '.':''})\\\n",
    "                                                    .unique()\n",
    "                   )"
   ]
  },
  {
   "cell_type": "code",
   "execution_count": null,
   "metadata": {},
   "outputs": [],
   "source": [
    "finbi_df.columns"
   ]
  },
  {
   "cell_type": "code",
   "execution_count": null,
   "metadata": {},
   "outputs": [],
   "source": [
    "finbi_df.loc[finbi_df['Partner Deal']==True] [['Sales Level 1','Sales Level 2','GUID Name','CAV Name','Partner','Fiscal Quarter ID','ProductType','CX Product Category','TCV']]"
   ]
  },
  {
   "cell_type": "code",
   "execution_count": null,
   "metadata": {},
   "outputs": [],
   "source": [
    "finbi_partners_booked = pd.pivot_table(finbi_df.loc[finbi_df['Partner Deal']==True][['Sales Level 1','Sales Level 2','GUID Name','CAV Name','Campaign','Partner','Fiscal Quarter ID','ProductType','CX Product Category','TCV']], index=['Sales Level 1','Sales Level 2','Partner','GUID Name','CAV Name','Campaign','ProductType','CX Product Category',], values='TCV', fill_value='999', columns=['Fiscal Quarter ID'], margins_name='Total')"
   ]
  },
  {
   "cell_type": "code",
   "execution_count": null,
   "metadata": {},
   "outputs": [],
   "source": [
    "finbi_partners_booked.reset_index(inplace=True)"
   ]
  },
  {
   "cell_type": "code",
   "execution_count": null,
   "metadata": {},
   "outputs": [],
   "source": [
    "finbi_partners_booked"
   ]
  }
 ],
 "metadata": {
  "kernelspec": {
   "display_name": "Python 3",
   "language": "python",
   "name": "python3"
  },
  "language_info": {
   "codemirror_mode": {
    "name": "ipython",
    "version": 3
   },
   "file_extension": ".py",
   "mimetype": "text/x-python",
   "name": "python",
   "nbconvert_exporter": "python",
   "pygments_lexer": "ipython3",
   "version": "3.9.5"
  }
 },
 "nbformat": 4,
 "nbformat_minor": 4
}
