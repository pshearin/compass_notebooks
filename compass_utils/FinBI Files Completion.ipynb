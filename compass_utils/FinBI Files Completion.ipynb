{
 "cells": [
  {
   "cell_type": "code",
   "execution_count": 1,
   "id": "multiple-competition",
   "metadata": {},
   "outputs": [],
   "source": [
    "import pandas as pd\n",
    "import datetime as dt\n",
    "import os\n",
    "import cisco_fiscal_calendar as cfc"
   ]
  },
  {
   "cell_type": "code",
   "execution_count": 2,
   "id": "middle-torture",
   "metadata": {},
   "outputs": [],
   "source": [
    "today = dt.datetime.today().date()"
   ]
  },
  {
   "cell_type": "code",
   "execution_count": 3,
   "id": "wrong-chapter",
   "metadata": {},
   "outputs": [
    {
     "data": {
      "text/plain": [
       "datetime.date(2022, 4, 14)"
      ]
     },
     "execution_count": 3,
     "metadata": {},
     "output_type": "execute_result"
    }
   ],
   "source": [
    "today"
   ]
  },
  {
   "cell_type": "code",
   "execution_count": 4,
   "id": "ebe4cae2-e3bc-4dbd-9a5f-f0a028fe9e10",
   "metadata": {},
   "outputs": [],
   "source": [
    "USE_DATA_TYPES = {'Request ID':'Int64'}"
   ]
  },
  {
   "cell_type": "markdown",
   "id": "guilty-blond",
   "metadata": {},
   "source": [
    "## Read in all of the Regional Booking Files"
   ]
  },
  {
   "cell_type": "code",
   "execution_count": 5,
   "id": "exciting-welsh",
   "metadata": {},
   "outputs": [],
   "source": [
    "Americas_path = r'C:\\Users\\phsheari\\Documents\\FIN BI Data\\1_AMERICAS'\n",
    "APJC_path = r'C:\\Users\\phsheari\\Documents\\FIN BI Data\\2_APJC'\n",
    "EMEAR_path = r'C:\\Users\\phsheari\\Documents\\FIN BI Data\\3_EMEAR'"
   ]
  },
  {
   "cell_type": "code",
   "execution_count": 6,
   "id": "aboriginal-source",
   "metadata": {},
   "outputs": [],
   "source": [
    "path_list = []\n",
    "path_list.append(Americas_path)\n",
    "path_list.append(APJC_path)\n",
    "path_list.append(EMEAR_path)"
   ]
  },
  {
   "cell_type": "code",
   "execution_count": 7,
   "id": "quiet-batman",
   "metadata": {},
   "outputs": [
    {
     "data": {
      "text/plain": [
       "['C:\\\\Users\\\\phsheari\\\\Documents\\\\FIN BI Data\\\\1_AMERICAS',\n",
       " 'C:\\\\Users\\\\phsheari\\\\Documents\\\\FIN BI Data\\\\2_APJC',\n",
       " 'C:\\\\Users\\\\phsheari\\\\Documents\\\\FIN BI Data\\\\3_EMEAR']"
      ]
     },
     "execution_count": 7,
     "metadata": {},
     "output_type": "execute_result"
    }
   ],
   "source": [
    "path_list"
   ]
  },
  {
   "cell_type": "code",
   "execution_count": 8,
   "id": "apparent-fellow",
   "metadata": {},
   "outputs": [
    {
     "name": "stderr",
     "output_type": "stream",
     "text": [
      "C:\\Users\\phsheari\\.conda\\envs\\compass_env\\lib\\site-packages\\openpyxl\\worksheet\\_reader.py:312: UserWarning: Conditional Formatting extension is not supported and will be removed\n",
      "  warn(msg)\n"
     ]
    }
   ],
   "source": [
    "BookedFiles = []\n",
    "\n",
    "for path in path_list:\n",
    "    entries = os.listdir(path)\n",
    "    for f_name in entries:\n",
    "        if f_name.startswith('FINBI_') and f_name.endswith('.xlsx'):\n",
    "            tempdf = pd.read_excel(path + '\\\\' + f_name, sheet_name='Compass Claim', dtype=USE_DATA_TYPES)\n",
    "            tempdf['Respondant_File'] = f_name\n",
    "            tempdf['AddIncre'] = today\n",
    "            BookedFiles.append(tempdf)"
   ]
  },
  {
   "cell_type": "code",
   "execution_count": 9,
   "id": "seven-queen",
   "metadata": {},
   "outputs": [],
   "source": [
    "Booked = pd.concat(BookedFiles)"
   ]
  },
  {
   "cell_type": "code",
   "execution_count": 10,
   "id": "3d818297-609a-4033-baf1-5844e6aad935",
   "metadata": {},
   "outputs": [],
   "source": [
    "Booked['Request ID'] = Booked['Request ID'].astype(str)"
   ]
  },
  {
   "cell_type": "code",
   "execution_count": 11,
   "id": "aaa3f859-ab7e-47a8-b144-8b00f95aac07",
   "metadata": {},
   "outputs": [],
   "source": [
    "Booked.rename(columns={'Date Readout Done':'Readout_Date', 'Compass Campaign Name':'Campaign'}, inplace=True)"
   ]
  },
  {
   "cell_type": "code",
   "execution_count": 12,
   "id": "ebf0ce56-f2a2-4769-ba13-a8cbb1d9b0ae",
   "metadata": {},
   "outputs": [],
   "source": [
    "Booked['CONCIERGE_EXTERNAL_READOUT_DT'] = pd.NA"
   ]
  },
  {
   "cell_type": "code",
   "execution_count": 13,
   "id": "norwegian-president",
   "metadata": {},
   "outputs": [
    {
     "data": {
      "text/plain": [
       "Index(['Sales Level 1', 'Sales Level 2', 'Sales Level 3', 'Sales Level 4',\n",
       "       'CAV ID', 'CAV Name', 'GUID', 'GUID Name', 'FINBI Partner',\n",
       "       'FINBI Deal ID', 'CX Product Category', 'Fiscal Quarter ID',\n",
       "       'Fiscal Week ID', 'ReportWeek', 'Product Type', 'TCV', 'ACV', 'Ind',\n",
       "       'DupeCheck', 'Request ID', 'Compass GUID', 'Compass GUID Name',\n",
       "       'Compass Deal ID', 'Campaign', 'Threshold Date', 'Readout_Date',\n",
       "       'Compass Advisor', 'Readout Delivery Status', 'Items Recommended',\n",
       "       'Campaign Type', 'Service Source', 'CONCIERGE_ADVISOR_ASSIGNED',\n",
       "       'CONCIERGE_INTERNAL_READOUT_DT', 'Target Campaign Flag',\n",
       "       'Compass Exists?', 'Compass Claim?', 'Notes', 'Respondant_File',\n",
       "       'AddIncre', 'CONCIERGE_EXTERNAL_READOUT_DT'],\n",
       "      dtype='object')"
      ]
     },
     "execution_count": 13,
     "metadata": {},
     "output_type": "execute_result"
    }
   ],
   "source": [
    "Booked.columns"
   ]
  },
  {
   "cell_type": "code",
   "execution_count": 14,
   "id": "lesbian-winning",
   "metadata": {},
   "outputs": [],
   "source": [
    "def mark_partner_deals(compass_deal_id):\n",
    "    if compass_deal_id == -44444 or compass_deal_id == 44444:\n",
    "        return True\n",
    "    else:\n",
    "        return False"
   ]
  },
  {
   "cell_type": "code",
   "execution_count": 15,
   "id": "split-stuff",
   "metadata": {},
   "outputs": [],
   "source": [
    "Booked['Partner Deal'] = Booked.apply(lambda x: mark_partner_deals(x['Compass Deal ID']), axis=1)"
   ]
  },
  {
   "cell_type": "code",
   "execution_count": 16,
   "id": "threaded-recall",
   "metadata": {},
   "outputs": [
    {
     "data": {
      "text/html": [
       "<div>\n",
       "<style scoped>\n",
       "    .dataframe tbody tr th:only-of-type {\n",
       "        vertical-align: middle;\n",
       "    }\n",
       "\n",
       "    .dataframe tbody tr th {\n",
       "        vertical-align: top;\n",
       "    }\n",
       "\n",
       "    .dataframe thead th {\n",
       "        text-align: right;\n",
       "    }\n",
       "</style>\n",
       "<table border=\"1\" class=\"dataframe\">\n",
       "  <thead>\n",
       "    <tr style=\"text-align: right;\">\n",
       "      <th></th>\n",
       "      <th>Sales Level 1</th>\n",
       "      <th>Sales Level 2</th>\n",
       "      <th>Sales Level 3</th>\n",
       "      <th>Sales Level 4</th>\n",
       "      <th>CAV ID</th>\n",
       "      <th>CAV Name</th>\n",
       "      <th>GUID</th>\n",
       "      <th>GUID Name</th>\n",
       "      <th>FINBI Partner</th>\n",
       "      <th>FINBI Deal ID</th>\n",
       "      <th>...</th>\n",
       "      <th>CONCIERGE_ADVISOR_ASSIGNED</th>\n",
       "      <th>CONCIERGE_INTERNAL_READOUT_DT</th>\n",
       "      <th>Target Campaign Flag</th>\n",
       "      <th>Compass Exists?</th>\n",
       "      <th>Compass Claim?</th>\n",
       "      <th>Notes</th>\n",
       "      <th>Respondant_File</th>\n",
       "      <th>AddIncre</th>\n",
       "      <th>CONCIERGE_EXTERNAL_READOUT_DT</th>\n",
       "      <th>Partner Deal</th>\n",
       "    </tr>\n",
       "  </thead>\n",
       "  <tbody>\n",
       "    <tr>\n",
       "      <th>43</th>\n",
       "      <td>EMEAR-REGION</td>\n",
       "      <td>EMEAR_MEA</td>\n",
       "      <td>COUNTRY_KSA</td>\n",
       "      <td>PUBLIC_SECTOR_KSA</td>\n",
       "      <td>2099103</td>\n",
       "      <td>NATIONAL INFORMATION CENTER SAUDI ARABIA</td>\n",
       "      <td>40357990</td>\n",
       "      <td>GOVERNMENT OF SAUDI ARABIA</td>\n",
       "      <td>NTT LTD COMMERCE CENTRE</td>\n",
       "      <td>55722259</td>\n",
       "      <td>...</td>\n",
       "      <td>NaN</td>\n",
       "      <td>NaT</td>\n",
       "      <td>False</td>\n",
       "      <td>Y</td>\n",
       "      <td>Y</td>\n",
       "      <td>NaN</td>\n",
       "      <td>FINBI_EMEAR_Bookings_FY22Q3_W9_W10.xlsx</td>\n",
       "      <td>2022-04-14</td>\n",
       "      <td>&lt;NA&gt;</td>\n",
       "      <td>True</td>\n",
       "    </tr>\n",
       "    <tr>\n",
       "      <th>44</th>\n",
       "      <td>EMEAR-REGION</td>\n",
       "      <td>EMEAR_OTHER</td>\n",
       "      <td>EMEAR_REBATES</td>\n",
       "      <td>EMEAR_CSPP</td>\n",
       "      <td>2099103</td>\n",
       "      <td>NATIONAL INFORMATION CENTER SAUDI ARABIA</td>\n",
       "      <td>40357990</td>\n",
       "      <td>GOVERNMENT OF SAUDI ARABIA</td>\n",
       "      <td>UNKNOWN</td>\n",
       "      <td>53411021</td>\n",
       "      <td>...</td>\n",
       "      <td>NaN</td>\n",
       "      <td>NaT</td>\n",
       "      <td>False</td>\n",
       "      <td>Y</td>\n",
       "      <td>Y</td>\n",
       "      <td>NaN</td>\n",
       "      <td>FINBI_EMEAR_Bookings_FY22Q3_W9_W10.xlsx</td>\n",
       "      <td>2022-04-14</td>\n",
       "      <td>&lt;NA&gt;</td>\n",
       "      <td>True</td>\n",
       "    </tr>\n",
       "  </tbody>\n",
       "</table>\n",
       "<p>2 rows × 41 columns</p>\n",
       "</div>"
      ],
      "text/plain": [
       "   Sales Level 1 Sales Level 2  Sales Level 3      Sales Level 4   CAV ID  \\\n",
       "43  EMEAR-REGION     EMEAR_MEA    COUNTRY_KSA  PUBLIC_SECTOR_KSA  2099103   \n",
       "44  EMEAR-REGION   EMEAR_OTHER  EMEAR_REBATES         EMEAR_CSPP  2099103   \n",
       "\n",
       "                                    CAV Name      GUID  \\\n",
       "43  NATIONAL INFORMATION CENTER SAUDI ARABIA  40357990   \n",
       "44  NATIONAL INFORMATION CENTER SAUDI ARABIA  40357990   \n",
       "\n",
       "                     GUID Name            FINBI Partner  FINBI Deal ID  ...  \\\n",
       "43  GOVERNMENT OF SAUDI ARABIA  NTT LTD COMMERCE CENTRE       55722259  ...   \n",
       "44  GOVERNMENT OF SAUDI ARABIA                  UNKNOWN       53411021  ...   \n",
       "\n",
       "   CONCIERGE_ADVISOR_ASSIGNED CONCIERGE_INTERNAL_READOUT_DT  \\\n",
       "43                        NaN                           NaT   \n",
       "44                        NaN                           NaT   \n",
       "\n",
       "    Target Campaign Flag  Compass Exists? Compass Claim?  Notes  \\\n",
       "43                 False                Y              Y    NaN   \n",
       "44                 False                Y              Y    NaN   \n",
       "\n",
       "                            Respondant_File    AddIncre  \\\n",
       "43  FINBI_EMEAR_Bookings_FY22Q3_W9_W10.xlsx  2022-04-14   \n",
       "44  FINBI_EMEAR_Bookings_FY22Q3_W9_W10.xlsx  2022-04-14   \n",
       "\n",
       "    CONCIERGE_EXTERNAL_READOUT_DT Partner Deal  \n",
       "43                           <NA>         True  \n",
       "44                           <NA>         True  \n",
       "\n",
       "[2 rows x 41 columns]"
      ]
     },
     "execution_count": 16,
     "metadata": {},
     "output_type": "execute_result"
    }
   ],
   "source": [
    "Booked.loc[Booked['Partner Deal']==True]"
   ]
  },
  {
   "cell_type": "markdown",
   "id": "environmental-highlight",
   "metadata": {},
   "source": [
    "## Read In the FINBI Booking Accrual file"
   ]
  },
  {
   "cell_type": "code",
   "execution_count": 17,
   "id": "professional-reasoning",
   "metadata": {},
   "outputs": [],
   "source": [
    "finbi_accrual_path = r'C:\\Users\\phsheari\\Documents\\FIN BI Data\\FINBI_Bookings_Accrued_Results.xlsx'"
   ]
  },
  {
   "cell_type": "code",
   "execution_count": 18,
   "id": "tutorial-potter",
   "metadata": {},
   "outputs": [],
   "source": [
    "Accrued = pd.read_excel(finbi_accrual_path, sheet_name='YTD Transactions', dtype=USE_DATA_TYPES)"
   ]
  },
  {
   "cell_type": "code",
   "execution_count": 19,
   "id": "0709c163-521a-48de-a198-99c69753240e",
   "metadata": {},
   "outputs": [],
   "source": [
    "Accrued['Request ID'] = Accrued['Request ID'].astype(str)"
   ]
  },
  {
   "cell_type": "code",
   "execution_count": 20,
   "id": "tribal-platform",
   "metadata": {},
   "outputs": [
    {
     "name": "stdout",
     "output_type": "stream",
     "text": [
      "<class 'pandas.core.frame.DataFrame'>\n",
      "RangeIndex: 6312 entries, 0 to 6311\n",
      "Data columns (total 42 columns):\n",
      " #   Column                         Non-Null Count  Dtype         \n",
      "---  ------                         --------------  -----         \n",
      " 0   Sales Level 1                  6312 non-null   object        \n",
      " 1   Sales Level 2                  6312 non-null   object        \n",
      " 2   Sales Level 3                  6312 non-null   object        \n",
      " 3   Sales Level 4                  6307 non-null   object        \n",
      " 4   CAV ID                         6194 non-null   float64       \n",
      " 5   CAV Name                       6207 non-null   object        \n",
      " 6   GUID                           6312 non-null   int64         \n",
      " 7   GUID Name                      6312 non-null   object        \n",
      " 8   Partner                        5473 non-null   object        \n",
      " 9   Booked Deal ID                 6312 non-null   int64         \n",
      " 10  CX Product Category            6312 non-null   object        \n",
      " 11  Fiscal Year                    6312 non-null   int64         \n",
      " 12  Fiscal Quarter ID              6312 non-null   object        \n",
      " 13  Fiscal Week ID                 6312 non-null   int64         \n",
      " 14  Fiscal Week of Year            6312 non-null   int64         \n",
      " 15  ReportWeek                     6312 non-null   int64         \n",
      " 16  ProductType                    6312 non-null   object        \n",
      " 17  TCV                            6312 non-null   float64       \n",
      " 18  ACV                            6312 non-null   float64       \n",
      " 19  Ind                            6304 non-null   object        \n",
      " 20  Request ID                     6312 non-null   object        \n",
      " 21  Readout_Date                   5772 non-null   datetime64[ns]\n",
      " 22  Campaign Type                  6312 non-null   object        \n",
      " 23  Compass Exists?                6312 non-null   object        \n",
      " 24  Compass Claim?                 6312 non-null   object        \n",
      " 25  Notes                          610 non-null    object        \n",
      " 26  Respondant_File                6064 non-null   object        \n",
      " 27  AddIncre                       6312 non-null   object        \n",
      " 28  Campaign                       6312 non-null   object        \n",
      " 29  Target Campaign Flag           6312 non-null   bool          \n",
      " 30  Partner Deal                   6312 non-null   bool          \n",
      " 31  Service Source                 6051 non-null   object        \n",
      " 32  Compass GUID Name              5555 non-null   object        \n",
      " 33  Compass GUID                   1339 non-null   float64       \n",
      " 34  Compass Deal ID                2959 non-null   object        \n",
      " 35  Compass Advisor                5412 non-null   object        \n",
      " 36  Readout Delivery Status        5376 non-null   object        \n",
      " 37  Items Recommended              5298 non-null   object        \n",
      " 38  CONCIERGE_ADVISOR_ASSIGNED     3477 non-null   object        \n",
      " 39  CONCIERGE_INTERNAL_READOUT_DT  159 non-null    datetime64[ns]\n",
      " 40  CONCIERGE_EXTERNAL             19 non-null     datetime64[ns]\n",
      " 41  Vendor                         6312 non-null   object        \n",
      "dtypes: bool(2), datetime64[ns](3), float64(4), int64(6), object(27)\n",
      "memory usage: 1.9+ MB\n"
     ]
    }
   ],
   "source": [
    "Accrued.info()"
   ]
  },
  {
   "cell_type": "code",
   "execution_count": 21,
   "id": "b2c65a4a-83c8-4587-a485-ea040ad1cc0a",
   "metadata": {},
   "outputs": [
    {
     "data": {
      "text/plain": [
       "0          985\n",
       "1          985\n",
       "2          985\n",
       "3          985\n",
       "4          985\n",
       "         ...  \n",
       "6307     20355\n",
       "6308     20355\n",
       "6309    108570\n",
       "6310    108570\n",
       "6311    108570\n",
       "Name: Request ID, Length: 6312, dtype: object"
      ]
     },
     "execution_count": 21,
     "metadata": {},
     "output_type": "execute_result"
    }
   ],
   "source": [
    "Accrued['Request ID']"
   ]
  },
  {
   "cell_type": "code",
   "execution_count": null,
   "id": "509dbcf5-47e4-4313-80ac-4bf56bd22a69",
   "metadata": {},
   "outputs": [],
   "source": []
  },
  {
   "cell_type": "code",
   "execution_count": 22,
   "id": "adult-twenty",
   "metadata": {},
   "outputs": [],
   "source": [
    "Booked.rename(columns={'Compass Campaign Name':'Campaign',\n",
    "                       'FINBI Deal ID':'Booked Deal ID',\n",
    "                       'FINBI Partner':'Partner',\n",
    "                       'Product Type':'ProductType',\n",
    "                       }, inplace=True)"
   ]
  },
  {
   "cell_type": "code",
   "execution_count": 23,
   "id": "offshore-dragon",
   "metadata": {},
   "outputs": [],
   "source": [
    "dropcolumns = ['DupeCheck','IndexID','Threshold Date','Replacement','Old Request IDs','Unnamed: 43','MATCH','Concierge']"
   ]
  },
  {
   "cell_type": "code",
   "execution_count": 24,
   "id": "headed-emergency",
   "metadata": {},
   "outputs": [],
   "source": [
    "# Booked = Booked.drop(columns=dropcolumns)\n",
    "for col in Booked.columns:\n",
    "    if col in dropcolumns:\n",
    "        Booked.drop(columns=col, inplace=True)"
   ]
  },
  {
   "cell_type": "code",
   "execution_count": 25,
   "id": "young-packing",
   "metadata": {},
   "outputs": [
    {
     "data": {
      "text/plain": [
       "Index(['Sales Level 1', 'Sales Level 2', 'Sales Level 3', 'Sales Level 4',\n",
       "       'CAV ID', 'CAV Name', 'GUID', 'GUID Name', 'Partner', 'Booked Deal ID',\n",
       "       'CX Product Category', 'Fiscal Quarter ID', 'Fiscal Week ID',\n",
       "       'ReportWeek', 'ProductType', 'TCV', 'ACV', 'Ind', 'Request ID',\n",
       "       'Compass GUID', 'Compass GUID Name', 'Compass Deal ID', 'Campaign',\n",
       "       'Readout_Date', 'Compass Advisor', 'Readout Delivery Status',\n",
       "       'Items Recommended', 'Campaign Type', 'Service Source',\n",
       "       'CONCIERGE_ADVISOR_ASSIGNED', 'CONCIERGE_INTERNAL_READOUT_DT',\n",
       "       'Target Campaign Flag', 'Compass Exists?', 'Compass Claim?', 'Notes',\n",
       "       'Respondant_File', 'AddIncre', 'CONCIERGE_EXTERNAL_READOUT_DT',\n",
       "       'Partner Deal'],\n",
       "      dtype='object')"
      ]
     },
     "execution_count": 25,
     "metadata": {},
     "output_type": "execute_result"
    }
   ],
   "source": [
    "Booked.columns"
   ]
  },
  {
   "cell_type": "code",
   "execution_count": 26,
   "id": "imperial-advisory",
   "metadata": {},
   "outputs": [],
   "source": [
    "Booked = Booked[['Sales Level 1', 'Sales Level 2', 'Sales Level 3', 'Sales Level 4', 'CAV ID', 'CAV Name',\n",
    "       'GUID', 'GUID Name', 'Partner', 'Booked Deal ID',\n",
    "       'CX Product Category', 'Fiscal Quarter ID', 'Fiscal Week ID',\n",
    "       'ReportWeek', 'ProductType', 'TCV', 'ACV', 'Ind', 'Request ID',\n",
    "       'Readout_Date', 'Campaign Type', 'Compass Exists?',\n",
    "       'Compass Claim?', 'Notes', 'Respondant_File', 'AddIncre', 'Campaign',\n",
    "       'Target Campaign Flag', 'Partner Deal', 'Service Source',\n",
    "       'Compass GUID Name', 'Compass GUID', 'Compass Deal ID', 'Compass Advisor',\n",
    "       'Readout Delivery Status', 'Items Recommended','CONCIERGE_ADVISOR_ASSIGNED','CONCIERGE_INTERNAL_READOUT_DT','CONCIERGE_EXTERNAL_READOUT_DT']]"
   ]
  },
  {
   "cell_type": "code",
   "execution_count": 27,
   "id": "understanding-replica",
   "metadata": {},
   "outputs": [
    {
     "data": {
      "text/plain": [
       "(397, 39)"
      ]
     },
     "execution_count": 27,
     "metadata": {},
     "output_type": "execute_result"
    }
   ],
   "source": [
    "Booked.shape"
   ]
  },
  {
   "cell_type": "code",
   "execution_count": 28,
   "id": "180a0587-e398-40e6-9da0-7c5d0b0248bc",
   "metadata": {},
   "outputs": [],
   "source": [
    "cal = cfc.get_calendar_dataframe()"
   ]
  },
  {
   "cell_type": "code",
   "execution_count": 29,
   "id": "04780acf-2cbc-4033-9bc2-967ee7327f40",
   "metadata": {},
   "outputs": [
    {
     "data": {
      "text/html": [
       "<div>\n",
       "<style scoped>\n",
       "    .dataframe tbody tr th:only-of-type {\n",
       "        vertical-align: middle;\n",
       "    }\n",
       "\n",
       "    .dataframe tbody tr th {\n",
       "        vertical-align: top;\n",
       "    }\n",
       "\n",
       "    .dataframe thead th {\n",
       "        text-align: right;\n",
       "    }\n",
       "</style>\n",
       "<table border=\"1\" class=\"dataframe\">\n",
       "  <thead>\n",
       "    <tr style=\"text-align: right;\">\n",
       "      <th></th>\n",
       "      <th>Sales Level 1</th>\n",
       "      <th>Sales Level 2</th>\n",
       "      <th>CAV ID</th>\n",
       "      <th>CAV Name</th>\n",
       "      <th>GUID</th>\n",
       "      <th>GUID Name</th>\n",
       "      <th>Booked Deal ID</th>\n",
       "      <th>CX Product Category</th>\n",
       "      <th>Fiscal Quarter ID</th>\n",
       "      <th>Fiscal Week ID</th>\n",
       "      <th>ReportWeek</th>\n",
       "      <th>ProductType</th>\n",
       "      <th>TCV</th>\n",
       "      <th>Request ID</th>\n",
       "      <th>Readout_Date</th>\n",
       "      <th>Campaign Type</th>\n",
       "      <th>Compass Exists?</th>\n",
       "      <th>Compass Claim?</th>\n",
       "    </tr>\n",
       "  </thead>\n",
       "  <tbody>\n",
       "    <tr>\n",
       "      <th>0</th>\n",
       "      <td>Americas</td>\n",
       "      <td>US COMMERCIAL</td>\n",
       "      <td>479713</td>\n",
       "      <td>ACI WORLDWIDE INC</td>\n",
       "      <td>187793</td>\n",
       "      <td>ACI WORLDWIDE INC</td>\n",
       "      <td>54351297</td>\n",
       "      <td>SNTC</td>\n",
       "      <td>2022Q3</td>\n",
       "      <td>2022092</td>\n",
       "      <td>10</td>\n",
       "      <td>SNTC</td>\n",
       "      <td>48916.80</td>\n",
       "      <td>107613</td>\n",
       "      <td>2021-12-16</td>\n",
       "      <td>FIELD</td>\n",
       "      <td>Y</td>\n",
       "      <td>Y</td>\n",
       "    </tr>\n",
       "    <tr>\n",
       "      <th>1</th>\n",
       "      <td>Americas</td>\n",
       "      <td>GLOBAL ENTERPRISE SEGMENT</td>\n",
       "      <td>103157</td>\n",
       "      <td>ADVENTHEALTH</td>\n",
       "      <td>34694</td>\n",
       "      <td>ADVENTIST HEALTH SYSTEM SUNBELT INC</td>\n",
       "      <td>20188711</td>\n",
       "      <td>SNTC</td>\n",
       "      <td>2022Q3</td>\n",
       "      <td>2022091</td>\n",
       "      <td>9</td>\n",
       "      <td>SNTC</td>\n",
       "      <td>23581.64</td>\n",
       "      <td>102231</td>\n",
       "      <td>2021-11-18</td>\n",
       "      <td>TARGETING</td>\n",
       "      <td>Y</td>\n",
       "      <td>Y</td>\n",
       "    </tr>\n",
       "    <tr>\n",
       "      <th>2</th>\n",
       "      <td>Americas</td>\n",
       "      <td>GLOBAL ENTERPRISE SEGMENT</td>\n",
       "      <td>103157</td>\n",
       "      <td>ADVENTHEALTH</td>\n",
       "      <td>34694</td>\n",
       "      <td>ADVENTIST HEALTH SYSTEM SUNBELT INC</td>\n",
       "      <td>20188711</td>\n",
       "      <td>SNTC</td>\n",
       "      <td>2022Q3</td>\n",
       "      <td>2022092</td>\n",
       "      <td>10</td>\n",
       "      <td>SNTC</td>\n",
       "      <td>34544.21</td>\n",
       "      <td>102231</td>\n",
       "      <td>2021-11-18</td>\n",
       "      <td>TARGETING</td>\n",
       "      <td>Y</td>\n",
       "      <td>Y</td>\n",
       "    </tr>\n",
       "    <tr>\n",
       "      <th>3</th>\n",
       "      <td>Americas</td>\n",
       "      <td>US COMMERCIAL</td>\n",
       "      <td>103034</td>\n",
       "      <td>ADVENTIST HEALTH WEST</td>\n",
       "      <td>36063</td>\n",
       "      <td>ADVENTIST HEALTH SYSTEMWEST</td>\n",
       "      <td>54118622</td>\n",
       "      <td>SNTC</td>\n",
       "      <td>2022Q3</td>\n",
       "      <td>2022091</td>\n",
       "      <td>9</td>\n",
       "      <td>SNTC</td>\n",
       "      <td>27160.56</td>\n",
       "      <td>104922</td>\n",
       "      <td>2021-11-18</td>\n",
       "      <td>FIELD</td>\n",
       "      <td>Y</td>\n",
       "      <td>Y</td>\n",
       "    </tr>\n",
       "    <tr>\n",
       "      <th>4</th>\n",
       "      <td>Americas</td>\n",
       "      <td>AMERICAS_SP</td>\n",
       "      <td>107836</td>\n",
       "      <td>AMERICA MOVIL SAB DE CV</td>\n",
       "      <td>6547768</td>\n",
       "      <td>AMERICA MOVIL SAB DE CV</td>\n",
       "      <td>52595787</td>\n",
       "      <td>Expert Care</td>\n",
       "      <td>2022Q3</td>\n",
       "      <td>2022092</td>\n",
       "      <td>10</td>\n",
       "      <td>HTEC</td>\n",
       "      <td>3322620.00</td>\n",
       "      <td>20463</td>\n",
       "      <td>2021-07-09</td>\n",
       "      <td>FIELD</td>\n",
       "      <td>Y</td>\n",
       "      <td>Y</td>\n",
       "    </tr>\n",
       "    <tr>\n",
       "      <th>...</th>\n",
       "      <td>...</td>\n",
       "      <td>...</td>\n",
       "      <td>...</td>\n",
       "      <td>...</td>\n",
       "      <td>...</td>\n",
       "      <td>...</td>\n",
       "      <td>...</td>\n",
       "      <td>...</td>\n",
       "      <td>...</td>\n",
       "      <td>...</td>\n",
       "      <td>...</td>\n",
       "      <td>...</td>\n",
       "      <td>...</td>\n",
       "      <td>...</td>\n",
       "      <td>...</td>\n",
       "      <td>...</td>\n",
       "      <td>...</td>\n",
       "      <td>...</td>\n",
       "    </tr>\n",
       "    <tr>\n",
       "      <th>113</th>\n",
       "      <td>EMEAR-REGION</td>\n",
       "      <td>EMEAR-CENTRAL</td>\n",
       "      <td>137629</td>\n",
       "      <td>VOESTALPINE AG</td>\n",
       "      <td>2367977</td>\n",
       "      <td>VOESTALPINE AG</td>\n",
       "      <td>55423540</td>\n",
       "      <td>Solution Support</td>\n",
       "      <td>2022Q3</td>\n",
       "      <td>2022082</td>\n",
       "      <td>6</td>\n",
       "      <td>SSPT</td>\n",
       "      <td>74785.51</td>\n",
       "      <td>101450</td>\n",
       "      <td>2022-01-21</td>\n",
       "      <td>TARGETING</td>\n",
       "      <td>Y</td>\n",
       "      <td>Y</td>\n",
       "    </tr>\n",
       "    <tr>\n",
       "      <th>114</th>\n",
       "      <td>EMEAR-REGION</td>\n",
       "      <td>EMEAR-CENTRAL</td>\n",
       "      <td>137629</td>\n",
       "      <td>VOESTALPINE AG</td>\n",
       "      <td>2367977</td>\n",
       "      <td>VOESTALPINE AG</td>\n",
       "      <td>52213775</td>\n",
       "      <td>Solution Support</td>\n",
       "      <td>2022Q3</td>\n",
       "      <td>2022084</td>\n",
       "      <td>8</td>\n",
       "      <td>SSPT</td>\n",
       "      <td>11009.38</td>\n",
       "      <td>101450</td>\n",
       "      <td>2022-01-21</td>\n",
       "      <td>TARGETING</td>\n",
       "      <td>Y</td>\n",
       "      <td>Y</td>\n",
       "    </tr>\n",
       "    <tr>\n",
       "      <th>115</th>\n",
       "      <td>EMEAR-REGION</td>\n",
       "      <td>EMEAR-UKI</td>\n",
       "      <td>669255</td>\n",
       "      <td>WPP PLC</td>\n",
       "      <td>201248059</td>\n",
       "      <td>WPP PLC</td>\n",
       "      <td>53611681</td>\n",
       "      <td>Solution Support</td>\n",
       "      <td>2022Q3</td>\n",
       "      <td>2022073</td>\n",
       "      <td>3</td>\n",
       "      <td>SSPT</td>\n",
       "      <td>18018.96</td>\n",
       "      <td>105757</td>\n",
       "      <td>2022-01-07</td>\n",
       "      <td>FIELD</td>\n",
       "      <td>Y</td>\n",
       "      <td>Y</td>\n",
       "    </tr>\n",
       "    <tr>\n",
       "      <th>116</th>\n",
       "      <td>EMEAR-REGION</td>\n",
       "      <td>EMEAR-CENTRAL</td>\n",
       "      <td>103144</td>\n",
       "      <td>ZURICH INSURANCE GROUP AG</td>\n",
       "      <td>4892203</td>\n",
       "      <td>ZURICH INSURANCE GROUP AG</td>\n",
       "      <td>44302318</td>\n",
       "      <td>Solution Support</td>\n",
       "      <td>2022Q3</td>\n",
       "      <td>2022074</td>\n",
       "      <td>4</td>\n",
       "      <td>SSPT</td>\n",
       "      <td>32496.99</td>\n",
       "      <td>101609</td>\n",
       "      <td>2022-01-19</td>\n",
       "      <td>TARGETING</td>\n",
       "      <td>Y</td>\n",
       "      <td>Y</td>\n",
       "    </tr>\n",
       "    <tr>\n",
       "      <th>117</th>\n",
       "      <td>EMEAR-REGION</td>\n",
       "      <td>EMEAR-CENTRAL</td>\n",
       "      <td>103144</td>\n",
       "      <td>ZURICH INSURANCE GROUP AG</td>\n",
       "      <td>4892203</td>\n",
       "      <td>ZURICH INSURANCE GROUP AG</td>\n",
       "      <td>52212205</td>\n",
       "      <td>SNTC</td>\n",
       "      <td>2022Q3</td>\n",
       "      <td>2022081</td>\n",
       "      <td>5</td>\n",
       "      <td>SNTC</td>\n",
       "      <td>-10126.75</td>\n",
       "      <td>101609</td>\n",
       "      <td>2022-01-19</td>\n",
       "      <td>TARGETING</td>\n",
       "      <td>Y</td>\n",
       "      <td>Y</td>\n",
       "    </tr>\n",
       "  </tbody>\n",
       "</table>\n",
       "<p>397 rows × 18 columns</p>\n",
       "</div>"
      ],
      "text/plain": [
       "    Sales Level 1              Sales Level 2  CAV ID  \\\n",
       "0        Americas              US COMMERCIAL  479713   \n",
       "1        Americas  GLOBAL ENTERPRISE SEGMENT  103157   \n",
       "2        Americas  GLOBAL ENTERPRISE SEGMENT  103157   \n",
       "3        Americas              US COMMERCIAL  103034   \n",
       "4        Americas                AMERICAS_SP  107836   \n",
       "..            ...                        ...     ...   \n",
       "113  EMEAR-REGION              EMEAR-CENTRAL  137629   \n",
       "114  EMEAR-REGION              EMEAR-CENTRAL  137629   \n",
       "115  EMEAR-REGION                  EMEAR-UKI  669255   \n",
       "116  EMEAR-REGION              EMEAR-CENTRAL  103144   \n",
       "117  EMEAR-REGION              EMEAR-CENTRAL  103144   \n",
       "\n",
       "                      CAV Name       GUID  \\\n",
       "0            ACI WORLDWIDE INC     187793   \n",
       "1                 ADVENTHEALTH      34694   \n",
       "2                 ADVENTHEALTH      34694   \n",
       "3        ADVENTIST HEALTH WEST      36063   \n",
       "4      AMERICA MOVIL SAB DE CV    6547768   \n",
       "..                         ...        ...   \n",
       "113             VOESTALPINE AG    2367977   \n",
       "114             VOESTALPINE AG    2367977   \n",
       "115                    WPP PLC  201248059   \n",
       "116  ZURICH INSURANCE GROUP AG    4892203   \n",
       "117  ZURICH INSURANCE GROUP AG    4892203   \n",
       "\n",
       "                               GUID Name  Booked Deal ID CX Product Category  \\\n",
       "0                      ACI WORLDWIDE INC        54351297                SNTC   \n",
       "1    ADVENTIST HEALTH SYSTEM SUNBELT INC        20188711                SNTC   \n",
       "2    ADVENTIST HEALTH SYSTEM SUNBELT INC        20188711                SNTC   \n",
       "3            ADVENTIST HEALTH SYSTEMWEST        54118622                SNTC   \n",
       "4                AMERICA MOVIL SAB DE CV        52595787         Expert Care   \n",
       "..                                   ...             ...                 ...   \n",
       "113                       VOESTALPINE AG        55423540    Solution Support   \n",
       "114                       VOESTALPINE AG        52213775    Solution Support   \n",
       "115                              WPP PLC        53611681    Solution Support   \n",
       "116            ZURICH INSURANCE GROUP AG        44302318    Solution Support   \n",
       "117            ZURICH INSURANCE GROUP AG        52212205                SNTC   \n",
       "\n",
       "    Fiscal Quarter ID  Fiscal Week ID  ReportWeek ProductType         TCV  \\\n",
       "0              2022Q3         2022092          10        SNTC    48916.80   \n",
       "1              2022Q3         2022091           9        SNTC    23581.64   \n",
       "2              2022Q3         2022092          10        SNTC    34544.21   \n",
       "3              2022Q3         2022091           9        SNTC    27160.56   \n",
       "4              2022Q3         2022092          10        HTEC  3322620.00   \n",
       "..                ...             ...         ...         ...         ...   \n",
       "113            2022Q3         2022082           6        SSPT    74785.51   \n",
       "114            2022Q3         2022084           8        SSPT    11009.38   \n",
       "115            2022Q3         2022073           3        SSPT    18018.96   \n",
       "116            2022Q3         2022074           4        SSPT    32496.99   \n",
       "117            2022Q3         2022081           5        SNTC   -10126.75   \n",
       "\n",
       "    Request ID Readout_Date Campaign Type Compass Exists? Compass Claim?  \n",
       "0       107613   2021-12-16         FIELD               Y              Y  \n",
       "1       102231   2021-11-18     TARGETING               Y              Y  \n",
       "2       102231   2021-11-18     TARGETING               Y              Y  \n",
       "3       104922   2021-11-18         FIELD               Y              Y  \n",
       "4        20463   2021-07-09         FIELD               Y              Y  \n",
       "..         ...          ...           ...             ...            ...  \n",
       "113     101450   2022-01-21     TARGETING               Y              Y  \n",
       "114     101450   2022-01-21     TARGETING               Y              Y  \n",
       "115     105757   2022-01-07         FIELD               Y              Y  \n",
       "116     101609   2022-01-19     TARGETING               Y              Y  \n",
       "117     101609   2022-01-19     TARGETING               Y              Y  \n",
       "\n",
       "[397 rows x 18 columns]"
      ]
     },
     "execution_count": 29,
     "metadata": {},
     "output_type": "execute_result"
    }
   ],
   "source": [
    "Booked[['Sales Level 1', 'Sales Level 2', 'CAV ID', 'CAV Name',\n",
    "       'GUID', 'GUID Name', 'Booked Deal ID',\n",
    "       'CX Product Category', 'Fiscal Quarter ID', 'Fiscal Week ID',\n",
    "       'ReportWeek', 'ProductType', 'TCV', 'Request ID',\n",
    "       'Readout_Date', 'Campaign Type', 'Compass Exists?',\n",
    "       'Compass Claim?',]]"
   ]
  },
  {
   "cell_type": "code",
   "execution_count": 30,
   "id": "4fc5860f-bec0-463f-822c-4bd1e9ce0c14",
   "metadata": {},
   "outputs": [],
   "source": [
    "weeks = cal.groupby(['finbi_fiscal_week_id',])[['week_of_fiscalyear']].min()"
   ]
  },
  {
   "cell_type": "code",
   "execution_count": 31,
   "id": "a013d377-cb6d-4756-a4e5-1b1fb5796ec2",
   "metadata": {},
   "outputs": [],
   "source": [
    "weeks.reset_index(inplace=True)\n",
    "weeks.rename(columns={'finbi_fiscal_week_id':'Fiscal Week ID','week_of_fiscalyear':'Fiscal Week of Year'}, inplace=True)"
   ]
  },
  {
   "cell_type": "code",
   "execution_count": 32,
   "id": "3a9038d9-5e59-4ac5-868f-d323d10ef1a6",
   "metadata": {},
   "outputs": [],
   "source": [
    "Booked = Booked.merge(weeks, how='left')"
   ]
  },
  {
   "cell_type": "code",
   "execution_count": 33,
   "id": "engaged-european",
   "metadata": {},
   "outputs": [],
   "source": [
    "Booked['Fiscal Week ID'] = Booked['Fiscal Week ID'].astype(str)\n",
    "Booked['Fiscal Week of Year'] = Booked['Fiscal Week of Year'].astype(str)\n",
    "Booked['Fiscal Year'] = Booked['Fiscal Quarter ID'].str.slice(stop=4)"
   ]
  },
  {
   "cell_type": "code",
   "execution_count": 34,
   "id": "c5c9e41c-5422-47f0-8880-ff280c1209ef",
   "metadata": {},
   "outputs": [],
   "source": [
    "Booked = Booked[['Sales Level 1', 'Sales Level 2', 'Sales Level 3', 'Sales Level 4', 'CAV ID', 'CAV Name',\n",
    "       'GUID', 'GUID Name', 'Partner', 'Booked Deal ID', 'CX Product Category', 'Fiscal Year',\n",
    "       'Fiscal Quarter ID', 'Fiscal Week ID', 'Fiscal Week of Year', 'ReportWeek', 'ProductType',\n",
    "       'TCV', 'ACV', 'Ind', 'Request ID', 'Readout_Date', 'Campaign Type',\n",
    "       'Compass Exists?', 'Compass Claim?', 'Notes', 'Respondant_File',\n",
    "       'AddIncre', 'Campaign', 'Target Campaign Flag', 'Partner Deal',\n",
    "       'Service Source', 'Compass GUID Name', 'Compass GUID', 'Compass Deal ID',\n",
    "       'Compass Advisor', 'Readout Delivery Status', 'Items Recommended', 'CONCIERGE_ADVISOR_ASSIGNED','CONCIERGE_INTERNAL_READOUT_DT','CONCIERGE_EXTERNAL_READOUT_DT']]"
   ]
  },
  {
   "cell_type": "code",
   "execution_count": 35,
   "id": "fe92de9c-5395-471d-a40f-f650fb9c8b50",
   "metadata": {},
   "outputs": [
    {
     "name": "stdout",
     "output_type": "stream",
     "text": [
      "<class 'pandas.core.frame.DataFrame'>\n",
      "Int64Index: 397 entries, 0 to 396\n",
      "Data columns (total 2 columns):\n",
      " #   Column               Non-Null Count  Dtype \n",
      "---  ------               --------------  ----- \n",
      " 0   Fiscal Week of Year  397 non-null    object\n",
      " 1   Request ID           397 non-null    object\n",
      "dtypes: object(2)\n",
      "memory usage: 9.3+ KB\n"
     ]
    }
   ],
   "source": [
    "Booked[['Fiscal Week of Year','Request ID']].info()"
   ]
  },
  {
   "cell_type": "code",
   "execution_count": 36,
   "id": "b2c944de-9893-4897-923d-547fa241721b",
   "metadata": {},
   "outputs": [],
   "source": [
    "# Booked['Fiscal Year']"
   ]
  },
  {
   "cell_type": "code",
   "execution_count": 37,
   "id": "c430bb03-6698-40ae-bb02-be8f18be35ef",
   "metadata": {},
   "outputs": [
    {
     "name": "stdout",
     "output_type": "stream",
     "text": [
      "<class 'pandas.core.frame.DataFrame'>\n",
      "Int64Index: 397 entries, 0 to 396\n",
      "Data columns (total 41 columns):\n",
      " #   Column                         Non-Null Count  Dtype         \n",
      "---  ------                         --------------  -----         \n",
      " 0   Sales Level 1                  397 non-null    object        \n",
      " 1   Sales Level 2                  397 non-null    object        \n",
      " 2   Sales Level 3                  397 non-null    object        \n",
      " 3   Sales Level 4                  397 non-null    object        \n",
      " 4   CAV ID                         397 non-null    int64         \n",
      " 5   CAV Name                       397 non-null    object        \n",
      " 6   GUID                           397 non-null    int64         \n",
      " 7   GUID Name                      397 non-null    object        \n",
      " 8   Partner                        397 non-null    object        \n",
      " 9   Booked Deal ID                 397 non-null    int64         \n",
      " 10  CX Product Category            397 non-null    object        \n",
      " 11  Fiscal Year                    397 non-null    object        \n",
      " 12  Fiscal Quarter ID              397 non-null    object        \n",
      " 13  Fiscal Week ID                 397 non-null    object        \n",
      " 14  Fiscal Week of Year            397 non-null    object        \n",
      " 15  ReportWeek                     397 non-null    int64         \n",
      " 16  ProductType                    397 non-null    object        \n",
      " 17  TCV                            397 non-null    float64       \n",
      " 18  ACV                            397 non-null    float64       \n",
      " 19  Ind                            397 non-null    object        \n",
      " 20  Request ID                     397 non-null    object        \n",
      " 21  Readout_Date                   397 non-null    datetime64[ns]\n",
      " 22  Campaign Type                  397 non-null    object        \n",
      " 23  Compass Exists?                397 non-null    object        \n",
      " 24  Compass Claim?                 397 non-null    object        \n",
      " 25  Notes                          36 non-null     object        \n",
      " 26  Respondant_File                397 non-null    object        \n",
      " 27  AddIncre                       397 non-null    object        \n",
      " 28  Campaign                       397 non-null    object        \n",
      " 29  Target Campaign Flag           397 non-null    bool          \n",
      " 30  Partner Deal                   397 non-null    bool          \n",
      " 31  Service Source                 397 non-null    object        \n",
      " 32  Compass GUID Name              397 non-null    object        \n",
      " 33  Compass GUID                   397 non-null    int64         \n",
      " 34  Compass Deal ID                247 non-null    float64       \n",
      " 35  Compass Advisor                397 non-null    object        \n",
      " 36  Readout Delivery Status        397 non-null    object        \n",
      " 37  Items Recommended              397 non-null    object        \n",
      " 38  CONCIERGE_ADVISOR_ASSIGNED     36 non-null     object        \n",
      " 39  CONCIERGE_INTERNAL_READOUT_DT  34 non-null     object        \n",
      " 40  CONCIERGE_EXTERNAL_READOUT_DT  0 non-null      object        \n",
      "dtypes: bool(2), datetime64[ns](1), float64(3), int64(5), object(30)\n",
      "memory usage: 124.8+ KB\n"
     ]
    }
   ],
   "source": [
    "Booked.info()"
   ]
  },
  {
   "cell_type": "code",
   "execution_count": 38,
   "id": "06e9be22-2e39-4bf5-b991-826b8b328a7e",
   "metadata": {},
   "outputs": [],
   "source": [
    "Accrued = Accrued.merge(weeks, how='left')"
   ]
  },
  {
   "cell_type": "code",
   "execution_count": 39,
   "id": "passing-amino",
   "metadata": {},
   "outputs": [],
   "source": [
    "NewAccrued = pd.concat([Accrued,Booked])"
   ]
  },
  {
   "cell_type": "code",
   "execution_count": 40,
   "id": "tired-convert",
   "metadata": {},
   "outputs": [],
   "source": [
    "# NewAccrued['Request ID'] = NewAccrued['Request ID'].astype(str)"
   ]
  },
  {
   "cell_type": "code",
   "execution_count": 41,
   "id": "material-facial",
   "metadata": {},
   "outputs": [],
   "source": [
    "NewAccrued['Fiscal Week ID'] = NewAccrued['Fiscal Week ID'].astype(str)\n",
    "NewAccrued['Fiscal Week of Year'] = NewAccrued['Fiscal Week of Year'].astype(str)\n",
    "NewAccrued['Fiscal Year'] = NewAccrued['Fiscal Quarter ID'].str.slice(stop=4)"
   ]
  },
  {
   "cell_type": "code",
   "execution_count": 42,
   "id": "ef12ff7f-9f5b-4f23-9d9c-d78eefb91484",
   "metadata": {},
   "outputs": [],
   "source": [
    "NewAccrued = NewAccrued[['Sales Level 1', 'Sales Level 2', 'Sales Level 3', 'Sales Level 4', 'CAV ID', 'CAV Name',\n",
    "       'GUID', 'GUID Name', 'Partner', 'Booked Deal ID', 'CX Product Category', 'Fiscal Year',\n",
    "       'Fiscal Quarter ID', 'Fiscal Week ID', 'Fiscal Week of Year', 'ReportWeek', 'ProductType',\n",
    "       'TCV', 'ACV', 'Ind', 'Request ID', 'Readout_Date', 'Campaign Type',\n",
    "       'Compass Exists?', 'Compass Claim?', 'Notes', 'Respondant_File',\n",
    "       'AddIncre', 'Campaign', 'Target Campaign Flag', 'Partner Deal',\n",
    "       'Service Source', 'Compass GUID Name', 'Compass GUID', 'Compass Deal ID',\n",
    "       'Compass Advisor', 'Readout Delivery Status', 'Items Recommended','CONCIERGE_ADVISOR_ASSIGNED','CONCIERGE_INTERNAL_READOUT_DT','CONCIERGE_EXTERNAL_READOUT_DT']]"
   ]
  },
  {
   "cell_type": "code",
   "execution_count": 43,
   "id": "7d958c2f-8309-4be9-9755-e944688f5d9f",
   "metadata": {},
   "outputs": [
    {
     "data": {
      "text/plain": [
       "0         985\n",
       "1         985\n",
       "2         985\n",
       "3         985\n",
       "4         985\n",
       "        ...  \n",
       "392    101450\n",
       "393    101450\n",
       "394    105757\n",
       "395    101609\n",
       "396    101609\n",
       "Name: Request ID, Length: 6709, dtype: object"
      ]
     },
     "execution_count": 43,
     "metadata": {},
     "output_type": "execute_result"
    }
   ],
   "source": [
    "NewAccrued['Request ID']"
   ]
  },
  {
   "cell_type": "code",
   "execution_count": 44,
   "id": "6259c576-2694-4558-b78c-8737e28905f9",
   "metadata": {},
   "outputs": [
    {
     "data": {
      "text/plain": [
       "array(['2020', '2021', '2022'], dtype=object)"
      ]
     },
     "execution_count": 44,
     "metadata": {},
     "output_type": "execute_result"
    }
   ],
   "source": [
    "NewAccrued['Fiscal Year'].unique()"
   ]
  },
  {
   "cell_type": "code",
   "execution_count": 45,
   "id": "universal-cyprus",
   "metadata": {},
   "outputs": [
    {
     "data": {
      "text/plain": [
       "172404333.01417854"
      ]
     },
     "execution_count": 45,
     "metadata": {},
     "output_type": "execute_result"
    }
   ],
   "source": [
    "NewAccrued.loc[(NewAccrued['Fiscal Quarter ID'].str.startswith('2022') & (NewAccrued['Fiscal Quarter ID'].str.endswith('Q2'))) & (NewAccrued['Sales Level 1']=='Americas')].TCV.sum()"
   ]
  },
  {
   "cell_type": "code",
   "execution_count": 46,
   "id": "processed-edward",
   "metadata": {},
   "outputs": [],
   "source": [
    "NewAccrued.to_excel(r'C:\\Users\\phsheari\\Documents\\FIN BI Data\\FINBI_Bookings_Accrued_Results - Copy2NewAccrued.xlsx', engine='xlsxwriter', sheet_name='YTD Transaction', index=False)"
   ]
  },
  {
   "cell_type": "code",
   "execution_count": 47,
   "id": "exceptional-drove",
   "metadata": {},
   "outputs": [],
   "source": [
    "Booked.to_excel(r'C:\\Users\\phsheari\\Documents\\FIN BI Data\\FINBI_INCREMENTAL_Booked.xlsx', engine='xlsxwriter', sheet_name='2Week Transactions', index=False)"
   ]
  },
  {
   "cell_type": "code",
   "execution_count": null,
   "id": "crude-earthquake",
   "metadata": {},
   "outputs": [],
   "source": []
  }
 ],
 "metadata": {
  "kernelspec": {
   "display_name": "Python 3",
   "language": "python",
   "name": "python3"
  },
  "language_info": {
   "codemirror_mode": {
    "name": "ipython",
    "version": 3
   },
   "file_extension": ".py",
   "mimetype": "text/x-python",
   "name": "python",
   "nbconvert_exporter": "python",
   "pygments_lexer": "ipython3",
   "version": "3.9.5"
  }
 },
 "nbformat": 4,
 "nbformat_minor": 5
}
