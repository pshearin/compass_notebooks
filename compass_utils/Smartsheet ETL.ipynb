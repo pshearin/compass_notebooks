{
 "cells": [
  {
   "cell_type": "code",
   "execution_count": 1,
   "metadata": {},
   "outputs": [],
   "source": [
    "import numpy as np\n",
    "import pandas as pd\n",
    "import datetime as dt\n",
    "import os\n",
    "# from compass_smartsheet import CompassSmartsheet\n",
    "# from ftplib import FTP\n",
    "import cisco_fiscal_calendar as fc\n",
    "import hashlib"
   ]
  },
  {
   "cell_type": "code",
   "execution_count": 2,
   "metadata": {},
   "outputs": [
    {
     "data": {
      "text/plain": [
       "'1.2.2'"
      ]
     },
     "execution_count": 2,
     "metadata": {},
     "output_type": "execute_result"
    }
   ],
   "source": [
    "pd.__version__"
   ]
  },
  {
   "cell_type": "code",
   "execution_count": 3,
   "metadata": {},
   "outputs": [],
   "source": [
    "today_timestamp = dt.datetime.now().isoformat()[:19]"
   ]
  },
  {
   "cell_type": "code",
   "execution_count": 4,
   "metadata": {},
   "outputs": [],
   "source": [
    "def convert_nan_to_int_to_str(dataframe_cell):\n",
    "        if pd.isnull(dataframe_cell):\n",
    "            return pd.NA\n",
    "        else:\n",
    "            try:\n",
    "                return str(int(dataframe_cell))\n",
    "            except:\n",
    "                return pd.NA"
   ]
  },
  {
   "cell_type": "code",
   "execution_count": 5,
   "metadata": {},
   "outputs": [],
   "source": [
    "# def convert_requestid_to_str(requestid_cell):\n",
    "#     return str(int(requestid_cell))"
   ]
  },
  {
   "cell_type": "markdown",
   "metadata": {},
   "source": [
    "### Prepare the Partners Dictionary"
   ]
  },
  {
   "cell_type": "code",
   "execution_count": 6,
   "metadata": {},
   "outputs": [],
   "source": [
    "partner = pd.read_excel(r'C:\\Users\\phsheari\\Documents\\Compass Partners\\Compass Partners Hash.xlsx')"
   ]
  },
  {
   "cell_type": "code",
   "execution_count": 7,
   "metadata": {},
   "outputs": [],
   "source": [
    "compass_partner_names = partner['CompassPartnerName']\n",
    "standardname = partner['StandardName']"
   ]
  },
  {
   "cell_type": "code",
   "execution_count": 8,
   "metadata": {},
   "outputs": [],
   "source": [
    "partner_dict = {}\n",
    "for k,v in zip(compass_partner_names,standardname):\n",
    "    partner_dict[k] = v"
   ]
  },
  {
   "cell_type": "code",
   "execution_count": 9,
   "metadata": {},
   "outputs": [],
   "source": [
    "# partner_dict"
   ]
  },
  {
   "cell_type": "code",
   "execution_count": 10,
   "metadata": {},
   "outputs": [],
   "source": [
    "sss_map = pd.read_excel(r'C:\\Users\\phsheari\\Documents\\Francisco\\SSS_GEO Mapping.xlsx')"
   ]
  },
  {
   "cell_type": "code",
   "execution_count": 11,
   "metadata": {},
   "outputs": [],
   "source": [
    "sss = list(sss_map['SSS'])"
   ]
  },
  {
   "cell_type": "code",
   "execution_count": 12,
   "metadata": {},
   "outputs": [],
   "source": [
    "geo = list(sss_map['SL3'])"
   ]
  },
  {
   "cell_type": "code",
   "execution_count": 13,
   "metadata": {},
   "outputs": [],
   "source": [
    "sssgeo_dict = {}\n",
    "for k, v in zip(sss,geo):\n",
    "    sssgeo_dict[k] = v"
   ]
  },
  {
   "cell_type": "code",
   "execution_count": 14,
   "metadata": {},
   "outputs": [],
   "source": [
    "# sssgeo_dict"
   ]
  },
  {
   "cell_type": "markdown",
   "metadata": {},
   "source": [
    "#### Bring in FINBI Accrued Results to verify booked records are tagged as '5 - Closed Won'"
   ]
  },
  {
   "cell_type": "code",
   "execution_count": 15,
   "metadata": {},
   "outputs": [],
   "source": [
    "finbi_data_types = {'Sales Level 1':str,                     \n",
    "                    'Sales Level 2':str, \n",
    "                    'Sales Level 3':str, \n",
    "                    'CAV ID':str, \n",
    "                    'CAV Name':str,\n",
    "                    'GUID':str, \n",
    "                    'GUID Name':str, \n",
    "                    'Partner':str,\n",
    "                    'Booked Deal ID':str, \n",
    "                    'CX Product Category':str, \n",
    "                    'Fiscal Year':str,\n",
    "                    'Fiscal Quarter ID':str, \n",
    "                    'Fiscal Week ID':str, \n",
    "                    'Fiscal Week of Year':str, \n",
    "                    'ReportWeek':str, \n",
    "                    'ProductType':str,\n",
    "                    'TCV':np.float32, \n",
    "                    'ACV':np.float32, \n",
    "                    'Request ID':str, \n",
    "                    'Readout_Date':np.datetime64, \n",
    "                    'Campaign Type':str,\n",
    "                    'Campaign':str, \n",
    "                    'Target Campaign Flag':str, \n",
    "                    'Partner Deal':str,\n",
    "                    'Service Source':str,\n",
    "                    'Compass GUID Name':str,\n",
    "                    'Compass Deal ID':str,\n",
    "                    'Compass Advisor':str,\n",
    "                    'Readout Delivery Status':str,\n",
    "                    'Items Recommended':str,}"
   ]
  },
  {
   "cell_type": "code",
   "execution_count": 16,
   "metadata": {},
   "outputs": [],
   "source": [
    "finbi_path = r'C:\\Users\\phsheari\\Documents\\FIN BI Data\\FINBI_Bookings_Accrued_Results.xlsx'\n",
    "finbi_sheetname = 'YTD Transactions'\n",
    "finbi_columns = ['Sales Level 1', 'Sales Level 2', 'Sales Level 3', 'CAV ID', 'CAV Name',\n",
    "       'GUID', 'GUID Name', 'Partner','Booked Deal ID', 'CX Product Category', 'Fiscal Year',\n",
    "       'Fiscal Quarter ID', 'Fiscal Week ID', 'Fiscal Week of Year', 'ReportWeek', 'ProductType',\n",
    "       'TCV', 'ACV', 'Request ID', 'Readout_Date', 'Campaign Type',\n",
    "       'Campaign', 'Target Campaign Flag', 'Partner Deal','Service Source','Compass GUID Name','Compass Deal ID','Compass Advisor','Readout Delivery Status','Items Recommended', ]\n",
    "finbi_df = pd.read_excel(finbi_path, sheet_name = finbi_sheetname, usecols=finbi_columns, dtype=finbi_data_types)\n",
    "finbi_df['Request ID'] = finbi_df['Request ID'].apply(convert_nan_to_int_to_str)\n",
    "finbi_df['Readout_Date'] = finbi_df['Readout_Date'].apply(lambda x: pd.to_datetime(x).date() if x != pd.NA else x)\n",
    "\n",
    "finbi_df.to_pickle(r'C:\\Users\\phsheari\\Documents\\FIN BI Data\\FINBI_Bookings_Accrued_Results.pkl')\n",
    "finbi_df.to_excel(r'C:\\Users\\phsheari\\Documents\\FIN BI Data\\FINBI_Bookings_Accrued_Results_Copy.xlsx', index=False)\n",
    "\n",
    "#maven_fields_to_drop = ['Ind','Compass Exists?','Compass Claim?','Notes','Respondant_File','AddIncre']\n",
    "maven_version = finbi_df #.drop(columns=maven_fields_to_drop)\n",
    "maven_version.to_excel(r'C:\\Users\\phsheari\\Documents\\FIN BI Data\\Maven\\Compass Bookings.xlsx', index=False)\n",
    "\n",
    "finbi_requests = list(finbi_df.loc[finbi_df['Request ID'].notnull()]['Request ID'].unique())"
   ]
  },
  {
   "cell_type": "code",
   "execution_count": 17,
   "metadata": {},
   "outputs": [],
   "source": [
    "# finbi_df.columns\n",
    "finbi_requests.sort()"
   ]
  },
  {
   "cell_type": "code",
   "execution_count": 18,
   "metadata": {},
   "outputs": [],
   "source": [
    "# finbi_requests"
   ]
  },
  {
   "cell_type": "code",
   "execution_count": null,
   "metadata": {},
   "outputs": [],
   "source": []
  },
  {
   "cell_type": "markdown",
   "metadata": {},
   "source": [
    "### Start the pull from SMARTSHEET"
   ]
  },
  {
   "cell_type": "code",
   "execution_count": 19,
   "metadata": {},
   "outputs": [],
   "source": [
    "start = dt.datetime.now()\n",
    "\n",
    "# # The Compass Smartsheet object init's a class which retrieves, cleans, & modifies records to prepare for presentation. \n",
    "# # It also unmarks, then remarks the Duplicate DealID Request records\n",
    "\n",
    "# dflist = []\n",
    "# for i in range(1,4,1):                  # This paginates the CompassSmartsheet Object, pulling 10k records per page\n",
    "#     cs = CompassSmartsheet(page = i)\n",
    "#     tmpdf = cs.get_report_dataframe()   # this takes the dataframe object from cs and stores it in tmpdf\n",
    "#     dflist.append(tmpdf)                # appends each tmpdf to dflist, for future concatenation\n",
    "    \n",
    "# nonbooked = pd.concat(dflist)\n",
    "\n",
    "# finish = dt.datetime.now()\n",
    "# elapsed = (finish - start)\n",
    "# print(f'Compass object was created in {elapsed} minutes. It shows {nonbooked.shape[0]} rows in the dataframe.')"
   ]
  },
  {
   "cell_type": "code",
   "execution_count": 20,
   "metadata": {},
   "outputs": [],
   "source": [
    "nonbooked = pd.read_pickle(r'C:\\Users\\phsheari\\Documents\\Compass SNOWFLAKE\\data_download\\result.pkl')"
   ]
  },
  {
   "cell_type": "code",
   "execution_count": 21,
   "metadata": {},
   "outputs": [],
   "source": [
    "today_file = today_timestamp.replace('-','').replace('T','_').replace(':','')"
   ]
  },
  {
   "cell_type": "code",
   "execution_count": 22,
   "metadata": {},
   "outputs": [
    {
     "data": {
      "text/plain": [
       "'20220303_181048'"
      ]
     },
     "execution_count": 22,
     "metadata": {},
     "output_type": "execute_result"
    }
   ],
   "source": [
    "today_file"
   ]
  },
  {
   "cell_type": "code",
   "execution_count": 23,
   "metadata": {},
   "outputs": [
    {
     "name": "stdout",
     "output_type": "stream",
     "text": [
      "<class 'pandas.core.frame.DataFrame'>\n",
      "RangeIndex: 37376 entries, 0 to 37375\n",
      "Columns: 107 entries, Request ID to WORKING STATUS\n",
      "dtypes: bool(9), datetime64[ns](7), float64(13), int64(16), object(62)\n",
      "memory usage: 28.3+ MB\n"
     ]
    }
   ],
   "source": [
    "nonbooked.info()"
   ]
  },
  {
   "cell_type": "markdown",
   "metadata": {},
   "source": [
    "### Push Booked deals to a reference file for corrective measures"
   ]
  },
  {
   "cell_type": "code",
   "execution_count": 24,
   "metadata": {},
   "outputs": [
    {
     "name": "stdout",
     "output_type": "stream",
     "text": [
      "Nickname is Mirthas Top68 and its count is 52\n",
      "Nickname is US Commercial Missed Attach Mari 20211130 and its count is 376\n"
     ]
    }
   ],
   "source": [
    "nickname_files_path = r'C:\\Users\\phsheari\\Documents\\Compass Nickname'\n",
    "nonbooked['Nickname'] = pd.NA\n",
    "USECOLS = ['Request ID']\n",
    "DTYPES = {'Request ID':str}\n",
    "\n",
    "entries = os.listdir(nickname_files_path)\n",
    "for f_name in entries:\n",
    "    tempdf = pd.read_excel(nickname_files_path + '\\\\' + f_name, usecols = USECOLS, dtype=DTYPES)\n",
    "    id_list = list(tempdf['Request ID'].unique())\n",
    "    nonbooked.loc[nonbooked['Request ID'].isin(id_list),'Nickname'] = f_name[:-5]\n",
    "    print(f'Nickname is {f_name[:-5]} and its count is {len(id_list)}')"
   ]
  },
  {
   "cell_type": "code",
   "execution_count": 25,
   "metadata": {},
   "outputs": [
    {
     "data": {
      "text/html": [
       "<div>\n",
       "<style scoped>\n",
       "    .dataframe tbody tr th:only-of-type {\n",
       "        vertical-align: middle;\n",
       "    }\n",
       "\n",
       "    .dataframe tbody tr th {\n",
       "        vertical-align: top;\n",
       "    }\n",
       "\n",
       "    .dataframe thead th {\n",
       "        text-align: right;\n",
       "    }\n",
       "</style>\n",
       "<table border=\"1\" class=\"dataframe\">\n",
       "  <thead>\n",
       "    <tr style=\"text-align: right;\">\n",
       "      <th></th>\n",
       "      <th>Request ID</th>\n",
       "      <th>Create Date</th>\n",
       "      <th>Customer Name</th>\n",
       "      <th>Campaign</th>\n",
       "      <th>Nickname</th>\n",
       "      <th>WORKING STATUS</th>\n",
       "    </tr>\n",
       "  </thead>\n",
       "  <tbody>\n",
       "    <tr>\n",
       "      <th>214</th>\n",
       "      <td>107585</td>\n",
       "      <td>2021-11-24 20:55:02.766</td>\n",
       "      <td>CURTISS-WRIGHT CORPORATION</td>\n",
       "      <td>REACTIVE</td>\n",
       "      <td>US Commercial Missed Attach Mari 20211130</td>\n",
       "      <td>READOUT DONE</td>\n",
       "    </tr>\n",
       "    <tr>\n",
       "      <th>215</th>\n",
       "      <td>107584</td>\n",
       "      <td>2021-11-24 20:54:57.403</td>\n",
       "      <td>PENN NATIONAL GAMING</td>\n",
       "      <td>REACTIVE</td>\n",
       "      <td>US Commercial Missed Attach Mari 20211130</td>\n",
       "      <td>READOUT DONE</td>\n",
       "    </tr>\n",
       "    <tr>\n",
       "      <th>216</th>\n",
       "      <td>107578</td>\n",
       "      <td>2021-11-24 20:54:28.685</td>\n",
       "      <td>PRISMA HEALTH</td>\n",
       "      <td>REACTIVE</td>\n",
       "      <td>US Commercial Missed Attach Mari 20211130</td>\n",
       "      <td>DECLINED</td>\n",
       "    </tr>\n",
       "    <tr>\n",
       "      <th>217</th>\n",
       "      <td>107579</td>\n",
       "      <td>2021-11-24 20:54:33.427</td>\n",
       "      <td>DOMTAR PAPER COMPANY</td>\n",
       "      <td>REACTIVE</td>\n",
       "      <td>US Commercial Missed Attach Mari 20211130</td>\n",
       "      <td>DECLINED</td>\n",
       "    </tr>\n",
       "    <tr>\n",
       "      <th>218</th>\n",
       "      <td>107580</td>\n",
       "      <td>2021-11-24 20:54:38.550</td>\n",
       "      <td>XPO LOGISTICS</td>\n",
       "      <td>REACTIVE</td>\n",
       "      <td>US Commercial Missed Attach Mari 20211130</td>\n",
       "      <td>DECLINED</td>\n",
       "    </tr>\n",
       "    <tr>\n",
       "      <th>...</th>\n",
       "      <td>...</td>\n",
       "      <td>...</td>\n",
       "      <td>...</td>\n",
       "      <td>...</td>\n",
       "      <td>...</td>\n",
       "      <td>...</td>\n",
       "    </tr>\n",
       "    <tr>\n",
       "      <th>37371</th>\n",
       "      <td>107566</td>\n",
       "      <td>2021-11-24 20:53:28.591</td>\n",
       "      <td>SYNCRO CORPORATION</td>\n",
       "      <td>REACTIVE</td>\n",
       "      <td>US Commercial Missed Attach Mari 20211130</td>\n",
       "      <td>READOUT DONE</td>\n",
       "    </tr>\n",
       "    <tr>\n",
       "      <th>37372</th>\n",
       "      <td>107567</td>\n",
       "      <td>2021-11-24 20:53:33.745</td>\n",
       "      <td>ENCOMPASS HEALTH CORPORATION</td>\n",
       "      <td>REACTIVE</td>\n",
       "      <td>US Commercial Missed Attach Mari 20211130</td>\n",
       "      <td>READOUT DONE</td>\n",
       "    </tr>\n",
       "    <tr>\n",
       "      <th>37373</th>\n",
       "      <td>107568</td>\n",
       "      <td>2021-11-24 20:53:38.865</td>\n",
       "      <td>SLIDELL MEMORIAL HOSPITAL</td>\n",
       "      <td>REACTIVE</td>\n",
       "      <td>US Commercial Missed Attach Mari 20211130</td>\n",
       "      <td>READOUT DONE</td>\n",
       "    </tr>\n",
       "    <tr>\n",
       "      <th>37374</th>\n",
       "      <td>107569</td>\n",
       "      <td>2021-11-24 20:53:44.214</td>\n",
       "      <td>MILLIPORE SIGMA</td>\n",
       "      <td>REACTIVE</td>\n",
       "      <td>US Commercial Missed Attach Mari 20211130</td>\n",
       "      <td>READOUT DONE</td>\n",
       "    </tr>\n",
       "    <tr>\n",
       "      <th>37375</th>\n",
       "      <td>107570</td>\n",
       "      <td>2021-11-24 20:53:49.386</td>\n",
       "      <td>CENTRAL ELECTRIC COMPANY</td>\n",
       "      <td>REACTIVE</td>\n",
       "      <td>US Commercial Missed Attach Mari 20211130</td>\n",
       "      <td>READOUT DONE</td>\n",
       "    </tr>\n",
       "  </tbody>\n",
       "</table>\n",
       "<p>428 rows × 6 columns</p>\n",
       "</div>"
      ],
      "text/plain": [
       "      Request ID             Create Date                 Customer Name  \\\n",
       "214       107585 2021-11-24 20:55:02.766    CURTISS-WRIGHT CORPORATION   \n",
       "215       107584 2021-11-24 20:54:57.403          PENN NATIONAL GAMING   \n",
       "216       107578 2021-11-24 20:54:28.685                 PRISMA HEALTH   \n",
       "217       107579 2021-11-24 20:54:33.427          DOMTAR PAPER COMPANY   \n",
       "218       107580 2021-11-24 20:54:38.550                 XPO LOGISTICS   \n",
       "...          ...                     ...                           ...   \n",
       "37371     107566 2021-11-24 20:53:28.591            SYNCRO CORPORATION   \n",
       "37372     107567 2021-11-24 20:53:33.745  ENCOMPASS HEALTH CORPORATION   \n",
       "37373     107568 2021-11-24 20:53:38.865     SLIDELL MEMORIAL HOSPITAL   \n",
       "37374     107569 2021-11-24 20:53:44.214               MILLIPORE SIGMA   \n",
       "37375     107570 2021-11-24 20:53:49.386      CENTRAL ELECTRIC COMPANY   \n",
       "\n",
       "       Campaign                                   Nickname WORKING STATUS  \n",
       "214    REACTIVE  US Commercial Missed Attach Mari 20211130   READOUT DONE  \n",
       "215    REACTIVE  US Commercial Missed Attach Mari 20211130   READOUT DONE  \n",
       "216    REACTIVE  US Commercial Missed Attach Mari 20211130       DECLINED  \n",
       "217    REACTIVE  US Commercial Missed Attach Mari 20211130       DECLINED  \n",
       "218    REACTIVE  US Commercial Missed Attach Mari 20211130       DECLINED  \n",
       "...         ...                                        ...            ...  \n",
       "37371  REACTIVE  US Commercial Missed Attach Mari 20211130   READOUT DONE  \n",
       "37372  REACTIVE  US Commercial Missed Attach Mari 20211130   READOUT DONE  \n",
       "37373  REACTIVE  US Commercial Missed Attach Mari 20211130   READOUT DONE  \n",
       "37374  REACTIVE  US Commercial Missed Attach Mari 20211130   READOUT DONE  \n",
       "37375  REACTIVE  US Commercial Missed Attach Mari 20211130   READOUT DONE  \n",
       "\n",
       "[428 rows x 6 columns]"
      ]
     },
     "execution_count": 25,
     "metadata": {},
     "output_type": "execute_result"
    }
   ],
   "source": [
    "nonbooked.loc[nonbooked['Nickname'].notnull()][['Request ID','Create Date','Customer Name','Campaign','Nickname','WORKING STATUS']]"
   ]
  },
  {
   "cell_type": "code",
   "execution_count": 26,
   "metadata": {},
   "outputs": [],
   "source": [
    "# booked_requestids = nonbooked.loc[nonbooked['TARGET_REQUEST_ID'].isin(finbi_requests),['Request ID','Forecast Stage', 'Customer Name','Deal ID','Compass Campaign Name']]"
   ]
  },
  {
   "cell_type": "code",
   "execution_count": 27,
   "metadata": {},
   "outputs": [],
   "source": [
    "# booked_requestids.sort_values(by=['Sheet Name','Request ID'], inplace=True)"
   ]
  },
  {
   "cell_type": "code",
   "execution_count": 28,
   "metadata": {},
   "outputs": [],
   "source": [
    "# booked_requestids.shape[0]"
   ]
  },
  {
   "cell_type": "code",
   "execution_count": 29,
   "metadata": {},
   "outputs": [],
   "source": [
    "# booked_requestids.loc[booked_requestids['Forecast Stage']!='5 - Closed Won'].to_excel(r'C:\\Users\\phsheari\\Documents\\FIN BI Data\\REQUEST IDS TO BOOK.xlsx', index=False)\n",
    "# booked_requestids.loc[booked_requestids['Forecast Stage']!='5 - Closed Won'].to_pickle(r'C:\\Users\\phsheari\\Documents\\FIN BI Data\\REQUEST IDS TO BOOK.pkl')"
   ]
  },
  {
   "cell_type": "markdown",
   "metadata": {},
   "source": [
    "### Begin to Inspect, Clean, & Curate the remaining dataframe"
   ]
  },
  {
   "cell_type": "code",
   "execution_count": 30,
   "metadata": {},
   "outputs": [
    {
     "data": {
      "text/plain": [
       "Good                 30655\n",
       "Insufficient Data     6721\n",
       "Name: DELIVERABILITY, dtype: int64"
      ]
     },
     "execution_count": 30,
     "metadata": {},
     "output_type": "execute_result"
    }
   ],
   "source": [
    "nonbooked['DELIVERABILITY'].value_counts()"
   ]
  },
  {
   "cell_type": "code",
   "execution_count": 31,
   "metadata": {},
   "outputs": [],
   "source": [
    "hyper_csv_file_path_tracker = r'C:\\Users\\phsheari\\Documents\\Compass_hyper_csvs\\compass_tracker_hyper.csv'\n",
    "excel_file_path_tracker = r'C:\\Users\\phsheari\\Documents\\Compass Trackers\\ConsolidatedReport_' + today_file + '.xlsx'\n",
    "excel_file_path_sfdc_version = r'C:\\Users\\phsheari\\Documents\\SFDC Data\\PIPELINE UPDATE\\SFDC_Trackerfile.pkl'\n",
    "excel_file_path_tableau = r'C:\\Users\\phsheari\\Documents\\Compass Tableau Data\\ConsolidatedReport_' + today_file + '.xlsx'"
   ]
  },
  {
   "cell_type": "code",
   "execution_count": 32,
   "metadata": {},
   "outputs": [],
   "source": [
    "# nonbooked = nonbooked.reindex(columns = booked.columns)\n",
    "# nonbooked = nonbooked.loc[~(nonbooked['Forecast Stage']=='5 - Closed Won')]"
   ]
  },
  {
   "cell_type": "code",
   "execution_count": 33,
   "metadata": {},
   "outputs": [],
   "source": [
    "#Determine what is undeliverable so you can avoid or remove any pipeline values in those records\n",
    "\n",
    "undeliverable_requests = list(nonbooked.loc[(nonbooked['INSUFFICIENT_DATA_COUNT']==1)]['Request ID'])\n",
    "\n",
    "nonbooked.loc[nonbooked['Request ID'].isin(undeliverable_requests),'Forecast Stage']=pd.NA\n",
    "#nonbooked.loc[nonbooked['Request ID'].isin(undeliverable_requests),'Forecast Status']=pd.NA\n",
    "#nonbooked.loc[nonbooked['Request ID'].isin(undeliverable_requests),'Opportunity Name']=pd.NA\n",
    "#nonbooked.loc[nonbooked['Request ID'].isin(undeliverable_requests),'Projected Booking ($,000)']=pd.NA\n",
    "#nonbooked.loc[nonbooked['Request ID'].isin(undeliverable_requests),'Target Fiscal Month']=pd.NA\n",
    "#nonbooked.loc[nonbooked['Request ID'].isin(undeliverable_requests),'Target Fiscal Quarter']=pd.NA\n",
    "#nonbooked.loc[nonbooked['Request ID'].isin(undeliverable_requests),'Target Fiscal Year']=pd.NA"
   ]
  },
  {
   "cell_type": "code",
   "execution_count": 34,
   "metadata": {},
   "outputs": [],
   "source": [
    "def update_did_dupechk(did, dupechk):\n",
    "    if pd.isnull(did):\n",
    "        return False\n",
    "    elif did == None:\n",
    "        return False\n",
    "    elif did in [-44444,99999,9999,22222]:\n",
    "        return False\n",
    "    else:\n",
    "        return dupechk"
   ]
  },
  {
   "cell_type": "code",
   "execution_count": 35,
   "metadata": {},
   "outputs": [],
   "source": [
    "# Initialize the nonbooked dataframe Dupechk field to 0. Sort the Deal ID Subset dataframe to determine which rows contain duplicate deal IDs\n",
    "nonbooked['Dupechk'] = 0\n",
    "\n",
    "did_subset = nonbooked.loc[(nonbooked['INSUFFICIENT_DATA_COUNT']==0),['Request ID','Create Date','Customer Name', 'Deal ID','Forecast Stage']].copy()\n",
    "did_subset.sort_values(['Deal ID','Request ID','Create Date'], ascending=[True, False, False], ignore_index=False, inplace=True)\n",
    "did_subset['Dupechk'] = did_subset.duplicated(['Deal ID'], keep='first')  # Chronologically sets the first deal id occurance to False, all after to True\n",
    "did_subset['Dupechk'] = did_subset.apply(lambda x: update_did_dupechk(x['Deal ID'], x['Dupechk']), axis=1)"
   ]
  },
  {
   "cell_type": "code",
   "execution_count": 36,
   "metadata": {},
   "outputs": [],
   "source": [
    "dupes_requestid_list = list(did_subset.loc[(did_subset['Dupechk']==True) & ~(did_subset['Forecast Stage']=='5 - Closed Won')]['Request ID'])"
   ]
  },
  {
   "cell_type": "code",
   "execution_count": 37,
   "metadata": {},
   "outputs": [
    {
     "data": {
      "text/plain": [
       "3751"
      ]
     },
     "execution_count": 37,
     "metadata": {},
     "output_type": "execute_result"
    }
   ],
   "source": [
    "len(dupes_requestid_list)"
   ]
  },
  {
   "cell_type": "code",
   "execution_count": 38,
   "metadata": {},
   "outputs": [],
   "source": [
    "# did_subset.to_excel(r'C:\\Users\\phsheari\\Desktop\\Dupes.xlsx', index=False)"
   ]
  },
  {
   "cell_type": "code",
   "execution_count": 39,
   "metadata": {},
   "outputs": [],
   "source": [
    "# nonbooked.info()"
   ]
  },
  {
   "cell_type": "code",
   "execution_count": 40,
   "metadata": {},
   "outputs": [],
   "source": [
    "# booked.info()"
   ]
  },
  {
   "cell_type": "code",
   "execution_count": 41,
   "metadata": {},
   "outputs": [],
   "source": [
    "# nonbooked.loc[nonbooked['Request ID'].isin(dupes_requestid_list)]   ### Sanity Check"
   ]
  },
  {
   "cell_type": "code",
   "execution_count": 42,
   "metadata": {},
   "outputs": [],
   "source": [
    "# Set the duplicate deal ID values so that pipeline values are not duplicated\n",
    "nonbooked.loc[nonbooked['Request ID'].isin(dupes_requestid_list),'Dupechk'] = 1\n",
    "nonbooked.loc[nonbooked['Request ID'].isin(dupes_requestid_list),'Forecast Stage'] = '7 - Duplicate Request'\n",
    "#nonbooked.loc[nonbooked['Request ID'].isin(dupes_requestid_list),'Forecast Status'] = pd.NA\n",
    "#nonbooked.loc[nonbooked['Request ID'].isin(dupes_requestid_list),'Opportunity Name'] = pd.NA\n",
    "#nonbooked.loc[nonbooked['Request ID'].isin(dupes_requestid_list),'Projected Booking ($,000)'] = pd.NA\n",
    "#nonbooked.loc[nonbooked['Request ID'].isin(dupes_requestid_list),'Target Fiscal Month'] = pd.NA\n",
    "#nonbooked.loc[nonbooked['Request ID'].isin(dupes_requestid_list),'Target Fiscal Quarter'] = pd.NA\n",
    "#nonbooked.loc[nonbooked['Request ID'].isin(dupes_requestid_list),'Target Fiscal Year'] = pd.NA"
   ]
  },
  {
   "cell_type": "code",
   "execution_count": 43,
   "metadata": {},
   "outputs": [],
   "source": [
    "#df = pd.concat([booked, nonbooked]) #### [booked, nonbooked]\n",
    "df = nonbooked"
   ]
  },
  {
   "cell_type": "code",
   "execution_count": 44,
   "metadata": {},
   "outputs": [
    {
     "data": {
      "text/plain": [
       "(37376, 110)"
      ]
     },
     "execution_count": 44,
     "metadata": {},
     "output_type": "execute_result"
    }
   ],
   "source": [
    "df.shape"
   ]
  },
  {
   "cell_type": "code",
   "execution_count": null,
   "metadata": {},
   "outputs": [],
   "source": []
  },
  {
   "cell_type": "markdown",
   "metadata": {},
   "source": [
    "### Change the field name \"BDM Assigned\" to \"Compass Advisor\""
   ]
  },
  {
   "cell_type": "code",
   "execution_count": 45,
   "metadata": {},
   "outputs": [],
   "source": [
    "df.rename(columns={'BDM Assigned': 'Compass Advisor'}, inplace=True)"
   ]
  },
  {
   "cell_type": "markdown",
   "metadata": {},
   "source": [
    "### Read in the Compass Advisor Email Lookup Table to resolve proper names"
   ]
  },
  {
   "cell_type": "code",
   "execution_count": 46,
   "metadata": {},
   "outputs": [],
   "source": [
    "advisor_emails = pd.read_excel(r'C:\\Users\\phsheari\\Documents\\Compass Advisors\\Advisor Email Translation.xlsx', usecols=['cecid','name', 'source'])"
   ]
  },
  {
   "cell_type": "code",
   "execution_count": 47,
   "metadata": {},
   "outputs": [],
   "source": [
    "advisor_email = dict(zip(advisor_emails.cecid, advisor_emails.name))"
   ]
  },
  {
   "cell_type": "code",
   "execution_count": 48,
   "metadata": {},
   "outputs": [],
   "source": [
    "advisor_vendor = dict(zip(advisor_emails.cecid, advisor_emails.source))"
   ]
  },
  {
   "cell_type": "code",
   "execution_count": 49,
   "metadata": {},
   "outputs": [],
   "source": [
    "def get_advisor_name_from_cecid(advisor):\n",
    "    if pd.isnull(advisor) or advisor == None or advisor.lower()=='nan':\n",
    "        return None\n",
    "    if advisor=='Expired' or advisor=='N/A':\n",
    "        return 'Expired'\n",
    "    if advisor.lower().endswith('cisco.com'):\n",
    "        pieces = advisor.lower().split('@')\n",
    "        cecid = pieces[0]\n",
    "        actual_name = advisor_email.get(cecid,'Term')\n",
    "        return actual_name \n",
    "    else:\n",
    "        return advisor"
   ]
  },
  {
   "cell_type": "code",
   "execution_count": 50,
   "metadata": {},
   "outputs": [],
   "source": [
    "def get_advisor_vendor_from_cecid(advisor):\n",
    "    if pd.isnull(advisor) or advisor == None or advisor.lower()=='nan':\n",
    "        return None\n",
    "    if advisor=='Expired' or advisor=='N/A':\n",
    "        return None\n",
    "    if advisor.lower().endswith('cisco.com'):\n",
    "        pieces = advisor.lower().split('@')\n",
    "        cecid = pieces[0]\n",
    "        vendor_name = advisor_vendor.get(cecid, None)\n",
    "        if vendor_name:\n",
    "            return vendor_name.upper()\n",
    "        else:\n",
    "            return None\n",
    "    else:\n",
    "        return None"
   ]
  },
  {
   "cell_type": "code",
   "execution_count": 51,
   "metadata": {},
   "outputs": [],
   "source": [
    "df['NewAdvisor'] = df['Compass Advisor'].apply(lambda x: get_advisor_name_from_cecid(x))"
   ]
  },
  {
   "cell_type": "code",
   "execution_count": 52,
   "metadata": {},
   "outputs": [],
   "source": [
    "df['Vendor'] = df['Compass Advisor'].apply(lambda x: get_advisor_vendor_from_cecid(x))"
   ]
  },
  {
   "cell_type": "code",
   "execution_count": 53,
   "metadata": {},
   "outputs": [],
   "source": [
    "df['Concierge Advisor Name'] = df['CONCIERGE_ADVISOR_ASSIGNED'].apply(lambda x: get_advisor_name_from_cecid(x))"
   ]
  },
  {
   "cell_type": "code",
   "execution_count": 54,
   "metadata": {},
   "outputs": [
    {
     "data": {
      "text/plain": [
       "array([None, 'Alicia Biersteker', 'Adrian Machado', 'Martin Coup',\n",
       "       'Atif Ahmad', 'Mark Vodka', 'Emma Baird', 'Tracy Turner',\n",
       "       'Peter Wittenstrom', 'Stacey Edwards', 'Houman Asefi',\n",
       "       'Sangeetha Sampath', 'Clare Fagan', 'Brenda Buck', 'Jenee St John',\n",
       "       'Bill Black-Hogins', 'Jenee St. John', 'Alicia Bierstkeker',\n",
       "       'Stacey Edwards,', 'DUPLICATE of SAME record',\n",
       "       'Jenee St John <jestjohn@cisco.com>', 'x', 'Term',\n",
       "       'Alicia Bierstker', 'Alicia'], dtype=object)"
      ]
     },
     "execution_count": 54,
     "metadata": {},
     "output_type": "execute_result"
    }
   ],
   "source": [
    "df['Concierge Advisor Name'].unique()"
   ]
  },
  {
   "cell_type": "code",
   "execution_count": 55,
   "metadata": {},
   "outputs": [],
   "source": [
    "df['Compass Advisor'] = df['NewAdvisor']"
   ]
  },
  {
   "cell_type": "code",
   "execution_count": 56,
   "metadata": {},
   "outputs": [],
   "source": [
    "# df['Compass Advisor'].unique()"
   ]
  },
  {
   "cell_type": "code",
   "execution_count": 57,
   "metadata": {},
   "outputs": [],
   "source": [
    "df.drop(columns=['NewAdvisor'], inplace=True)"
   ]
  },
  {
   "cell_type": "code",
   "execution_count": 58,
   "metadata": {},
   "outputs": [
    {
     "data": {
      "text/plain": [
       "array(['MODIS INC', 'NUB78', 'ADECCO UK LTD', None, 'SERVICESOURCE',\n",
       "       'ADECCO AISAPAC', 'ADECCO AUSTRALIA', 'CISCO'], dtype=object)"
      ]
     },
     "execution_count": 58,
     "metadata": {},
     "output_type": "execute_result"
    }
   ],
   "source": [
    "df['Vendor'].unique()"
   ]
  },
  {
   "cell_type": "markdown",
   "metadata": {},
   "source": [
    "### Fix/Clean Customer Names"
   ]
  },
  {
   "cell_type": "code",
   "execution_count": 59,
   "metadata": {},
   "outputs": [],
   "source": [
    "name_correction = {'201820184589':'NIPPON TELEGRAPH AND TELEPHONE EAST CORPORATION'}"
   ]
  },
  {
   "cell_type": "code",
   "execution_count": 60,
   "metadata": {},
   "outputs": [],
   "source": [
    "def correct_customer_name(df):\n",
    "    reqid = df['TARGET_REQUEST_ID']\n",
    "    if reqid in name_correction.keys():\n",
    "        return name_correction.get(reqid)\n",
    "    else:\n",
    "        return df['Customer Name'].strip()"
   ]
  },
  {
   "cell_type": "code",
   "execution_count": 61,
   "metadata": {},
   "outputs": [],
   "source": [
    "# df['Customer Name'] = df['Customer Name'].astype(str)\n",
    "# df['Customer Name'] = df.apply(lambda x: correct_customer_name(x), axis=1)"
   ]
  },
  {
   "cell_type": "code",
   "execution_count": 62,
   "metadata": {},
   "outputs": [
    {
     "name": "stderr",
     "output_type": "stream",
     "text": [
      "<ipython-input-62-c82f039ad48b>:1: FutureWarning: The default value of regex will change from True to False in a future version.\n",
      "  df['Customer Name'] = df['Customer Name'].str.lower().str.replace('\\^_ inc',' inc').str.replace('\\^_ ',', ').str.replace(', ',' ').str.replace(' inc.',' inc ').str.replace('\\* ','').str.strip().str.upper()\n"
     ]
    }
   ],
   "source": [
    "df['Customer Name'] = df['Customer Name'].str.lower().str.replace('\\^_ inc',' inc').str.replace('\\^_ ',', ').str.replace(', ',' ').str.replace(' inc.',' inc ').str.replace('\\* ','').str.strip().str.upper()"
   ]
  },
  {
   "cell_type": "code",
   "execution_count": 63,
   "metadata": {},
   "outputs": [],
   "source": [
    "def squeeze_customer_name(customer_name):\n",
    "    if customer_name.startswith('THE '):\n",
    "        customer_name = customer_name[4:]\n",
    "    customer_name = customer_name.replace(',',\"\").replace('[ACTIVE]','').replace('-','').replace('_','').replace('.','').replace(' ','').strip()\n",
    "    return customer_name"
   ]
  },
  {
   "cell_type": "code",
   "execution_count": 64,
   "metadata": {},
   "outputs": [],
   "source": [
    "df['Squeezed'] = df['Customer Name'].apply(lambda x: squeeze_customer_name(x))"
   ]
  },
  {
   "cell_type": "code",
   "execution_count": 65,
   "metadata": {},
   "outputs": [],
   "source": [
    "# df['Squeezed']"
   ]
  },
  {
   "cell_type": "code",
   "execution_count": 66,
   "metadata": {},
   "outputs": [],
   "source": [
    "df['Prepend'] = df['Squeezed'].apply(lambda x: x[:2].upper())"
   ]
  },
  {
   "cell_type": "code",
   "execution_count": 67,
   "metadata": {},
   "outputs": [],
   "source": [
    "# df.loc[(df['Customer Name'].str.contains('choctaw', case=False))] #df['GUID'].isnull()) | "
   ]
  },
  {
   "cell_type": "markdown",
   "metadata": {},
   "source": [
    "### Standardize Campaign Name to Uppercase"
   ]
  },
  {
   "cell_type": "code",
   "execution_count": 68,
   "metadata": {},
   "outputs": [],
   "source": [
    "df['Campaign'] = df['Campaign'].str.upper()"
   ]
  },
  {
   "cell_type": "code",
   "execution_count": 69,
   "metadata": {},
   "outputs": [],
   "source": [
    "df.loc[df['Campaign'].str.contains('missed attach', na=False, case=False),'Campaign'] = df.loc[df['Campaign'].str.contains('missed attach', na=False, case=False), 'Campaign'].apply(lambda x: x.replace('MISSED ATTACH','COVERAGE PROGRAM'))"
   ]
  },
  {
   "cell_type": "code",
   "execution_count": 70,
   "metadata": {},
   "outputs": [
    {
     "data": {
      "text/html": [
       "<div>\n",
       "<style scoped>\n",
       "    .dataframe tbody tr th:only-of-type {\n",
       "        vertical-align: middle;\n",
       "    }\n",
       "\n",
       "    .dataframe tbody tr th {\n",
       "        vertical-align: top;\n",
       "    }\n",
       "\n",
       "    .dataframe thead th {\n",
       "        text-align: right;\n",
       "    }\n",
       "</style>\n",
       "<table border=\"1\" class=\"dataframe\">\n",
       "  <thead>\n",
       "    <tr style=\"text-align: right;\">\n",
       "      <th></th>\n",
       "      <th>Request ID</th>\n",
       "      <th>Customer Name</th>\n",
       "      <th>Campaign</th>\n",
       "    </tr>\n",
       "  </thead>\n",
       "  <tbody>\n",
       "    <tr>\n",
       "      <th>25</th>\n",
       "      <td>111388</td>\n",
       "      <td>WA-AUBURN SCHOOL DISTRICT 408</td>\n",
       "      <td>COVERAGE PROGRAM - TELEMETRY</td>\n",
       "    </tr>\n",
       "    <tr>\n",
       "      <th>26</th>\n",
       "      <td>111352</td>\n",
       "      <td>UT-SALT LAKE VALLEY EMERGENCY COMMUNICATIONS C...</td>\n",
       "      <td>COVERAGE PROGRAM - TELEMETRY</td>\n",
       "    </tr>\n",
       "    <tr>\n",
       "      <th>27</th>\n",
       "      <td>111346</td>\n",
       "      <td>UT-CITY OF RIVERTON</td>\n",
       "      <td>COVERAGE PROGRAM - TELEMETRY</td>\n",
       "    </tr>\n",
       "    <tr>\n",
       "      <th>28</th>\n",
       "      <td>111386</td>\n",
       "      <td>VOYAGER LEARNING</td>\n",
       "      <td>COVERAGE PROGRAM - TELEMETRY</td>\n",
       "    </tr>\n",
       "    <tr>\n",
       "      <th>29</th>\n",
       "      <td>111342</td>\n",
       "      <td>KIRBY CORPORATION</td>\n",
       "      <td>COVERAGE PROGRAM - TELEMETRY</td>\n",
       "    </tr>\n",
       "    <tr>\n",
       "      <th>...</th>\n",
       "      <td>...</td>\n",
       "      <td>...</td>\n",
       "      <td>...</td>\n",
       "    </tr>\n",
       "    <tr>\n",
       "      <th>37151</th>\n",
       "      <td>103950</td>\n",
       "      <td>ENDURANCE REINSURANCE CORPORATION OF AMERICA</td>\n",
       "      <td>COVERAGE PROGRAM - TELEMETRY</td>\n",
       "    </tr>\n",
       "    <tr>\n",
       "      <th>37155</th>\n",
       "      <td>104005</td>\n",
       "      <td>INSURITY LLC</td>\n",
       "      <td>COVERAGE PROGRAM - TELEMETRY</td>\n",
       "    </tr>\n",
       "    <tr>\n",
       "      <th>37156</th>\n",
       "      <td>104021</td>\n",
       "      <td>TIMEX CORPORATION</td>\n",
       "      <td>COVERAGE PROGRAM - TELEMETRY</td>\n",
       "    </tr>\n",
       "    <tr>\n",
       "      <th>37157</th>\n",
       "      <td>104041</td>\n",
       "      <td>LUME STRATEGIES INC</td>\n",
       "      <td>COVERAGE PROGRAM - TELEMETRY</td>\n",
       "    </tr>\n",
       "    <tr>\n",
       "      <th>37158</th>\n",
       "      <td>104147</td>\n",
       "      <td>AMALGAMATED LIFE INSURANCE COMPANY</td>\n",
       "      <td>COVERAGE PROGRAM - TELEMETRY</td>\n",
       "    </tr>\n",
       "  </tbody>\n",
       "</table>\n",
       "<p>3309 rows × 3 columns</p>\n",
       "</div>"
      ],
      "text/plain": [
       "      Request ID                                      Customer Name  \\\n",
       "25        111388                      WA-AUBURN SCHOOL DISTRICT 408   \n",
       "26        111352  UT-SALT LAKE VALLEY EMERGENCY COMMUNICATIONS C...   \n",
       "27        111346                                UT-CITY OF RIVERTON   \n",
       "28        111386                                   VOYAGER LEARNING   \n",
       "29        111342                                  KIRBY CORPORATION   \n",
       "...          ...                                                ...   \n",
       "37151     103950       ENDURANCE REINSURANCE CORPORATION OF AMERICA   \n",
       "37155     104005                                       INSURITY LLC   \n",
       "37156     104021                                  TIMEX CORPORATION   \n",
       "37157     104041                                LUME STRATEGIES INC   \n",
       "37158     104147                 AMALGAMATED LIFE INSURANCE COMPANY   \n",
       "\n",
       "                           Campaign  \n",
       "25     COVERAGE PROGRAM - TELEMETRY  \n",
       "26     COVERAGE PROGRAM - TELEMETRY  \n",
       "27     COVERAGE PROGRAM - TELEMETRY  \n",
       "28     COVERAGE PROGRAM - TELEMETRY  \n",
       "29     COVERAGE PROGRAM - TELEMETRY  \n",
       "...                             ...  \n",
       "37151  COVERAGE PROGRAM - TELEMETRY  \n",
       "37155  COVERAGE PROGRAM - TELEMETRY  \n",
       "37156  COVERAGE PROGRAM - TELEMETRY  \n",
       "37157  COVERAGE PROGRAM - TELEMETRY  \n",
       "37158  COVERAGE PROGRAM - TELEMETRY  \n",
       "\n",
       "[3309 rows x 3 columns]"
      ]
     },
     "execution_count": 70,
     "metadata": {},
     "output_type": "execute_result"
    }
   ],
   "source": [
    "df.loc[df['Campaign'].str.contains('coverage p', na=False, case=False)][['Request ID','Customer Name','Campaign']]"
   ]
  },
  {
   "cell_type": "code",
   "execution_count": 71,
   "metadata": {},
   "outputs": [],
   "source": [
    "# df.loc[df['Requester Name'].str.lower().isin(confirm_exclusions)][['Request ID','Requester Name']]"
   ]
  },
  {
   "cell_type": "markdown",
   "metadata": {},
   "source": [
    "### Clean up issues with Requester Name"
   ]
  },
  {
   "cell_type": "code",
   "execution_count": 72,
   "metadata": {},
   "outputs": [],
   "source": [
    "confirm_exclusions = ['kenpatton@cisco.com','kpatton@cisco.com','lsweidan@cisco.com','escudder@cisco.com', 'rosecam@cisco.com']"
   ]
  },
  {
   "cell_type": "code",
   "execution_count": 73,
   "metadata": {},
   "outputs": [],
   "source": [
    "def swap_requester_name_with_notified(requester_name, distribution_list, campaign_name):\n",
    "    if requester_name:\n",
    "        requester_name = str(requester_name.lower())\n",
    "    if distribution_list:\n",
    "        distribution_list = str(distribution_list)\n",
    "    if (campaign_name != 'nan' or pd.notnull(campaign_name)):\n",
    "        campaign_name = str(campaign_name).lower()\n",
    "     \n",
    "    if ('target' in campaign_name or 'tac lead' in campaign_name or 'success tracks' in campaign_name or 'major' in campaign_name) and (requester_name.lower() in confirm_exclusions and pd.notnull(distribution_list)):\n",
    "        requester_name = distribution_list\n",
    "        return requester_name.upper()\n",
    "    else:\n",
    "        return requester_name.upper()\n",
    "    "
   ]
  },
  {
   "cell_type": "code",
   "execution_count": 74,
   "metadata": {},
   "outputs": [],
   "source": [
    "df.loc[df['Requester Name'].notnull(),'Requester Name'] = df.loc[df['Requester Name'].notnull()].apply(lambda x: swap_requester_name_with_notified(x['Requester Name'],x['DISTRIBUTION_LIST'], x['Campaign']), axis=1)"
   ]
  },
  {
   "cell_type": "markdown",
   "metadata": {},
   "source": [
    "### Sanity Check"
   ]
  },
  {
   "cell_type": "code",
   "execution_count": 75,
   "metadata": {},
   "outputs": [],
   "source": [
    "# df.loc[(df['Compass Campaign Name']=='BCS 3.0 TARGETING') & (df['Who Should be Notified On Completion of Analysis'].notnull())][['Request ID','Customer Name','Requester Name','Who Should be Notified On Completion of Analysis']]"
   ]
  },
  {
   "cell_type": "code",
   "execution_count": 76,
   "metadata": {},
   "outputs": [],
   "source": [
    "# name_counts = pd.DataFrame(df['Requester Name'].value_counts())"
   ]
  },
  {
   "cell_type": "code",
   "execution_count": 77,
   "metadata": {},
   "outputs": [],
   "source": [
    "# name_counts.reset_index(inplace=True)"
   ]
  },
  {
   "cell_type": "code",
   "execution_count": 78,
   "metadata": {},
   "outputs": [],
   "source": [
    "# name_counts"
   ]
  },
  {
   "cell_type": "code",
   "execution_count": 79,
   "metadata": {},
   "outputs": [],
   "source": [
    "# df.loc[df['Requester Name']=='nan']"
   ]
  },
  {
   "cell_type": "code",
   "execution_count": null,
   "metadata": {},
   "outputs": [],
   "source": []
  },
  {
   "cell_type": "code",
   "execution_count": null,
   "metadata": {},
   "outputs": [],
   "source": []
  },
  {
   "cell_type": "markdown",
   "metadata": {},
   "source": [
    "### Set Recipient Confirmation Status & Clean Requester Name"
   ]
  },
  {
   "cell_type": "code",
   "execution_count": 80,
   "metadata": {},
   "outputs": [],
   "source": [
    "def set_recipient_confirmation_field(requester_name, compass_url, oa_url, distribution_list):\n",
    "    #requester_name = str(requester_name)\n",
    "\n",
    "    if pd.isnull(requester_name) or requester_name == 'N/A' or requester_name == 'nan' or type(requester_name) == bool or requester_name.lower().startswith('kpatton'):\n",
    "        return \"NOT CONFIRMED\"\n",
    "    \n",
    "    elif (pd.isnull(compass_url) and pd.isnull(oa_url)):\n",
    "          return 'NOT CONFIRMED'\n",
    "    \n",
    "    elif requester_name.lower() in confirm_exclusions and not pd.isnull(distribution_list):\n",
    "        return \"CONFIRMED\"\n",
    "    \n",
    "    elif requester_name.lower() in confirm_exclusions  and pd.isnull(distribution_list):\n",
    "        return \"NOT CONFIRMED\"\n",
    "    \n",
    "    else:\n",
    "        return \"CONFIRMED\""
   ]
  },
  {
   "cell_type": "code",
   "execution_count": 81,
   "metadata": {},
   "outputs": [],
   "source": [
    "df['Recipient Confirmation'] = df.apply(lambda x: set_recipient_confirmation_field(x['Requester Name'], x['COMPASS URL'], x['OA URL'], x['DISTRIBUTION_LIST']), axis=1)"
   ]
  },
  {
   "cell_type": "code",
   "execution_count": 82,
   "metadata": {},
   "outputs": [
    {
     "data": {
      "text/plain": [
       "CONFIRMED        26689\n",
       "NOT CONFIRMED    10687\n",
       "Name: Recipient Confirmation, dtype: int64"
      ]
     },
     "execution_count": 82,
     "metadata": {},
     "output_type": "execute_result"
    }
   ],
   "source": [
    "df['Recipient Confirmation'].value_counts()"
   ]
  },
  {
   "cell_type": "code",
   "execution_count": 83,
   "metadata": {},
   "outputs": [],
   "source": [
    "working_status_list = ['ASSIGNED','BOOKED','EXCEPTION_REVIEW','READOUT DONE','READOUT POSTPONED','SCHEDULED','UNASSIGNED']"
   ]
  },
  {
   "cell_type": "code",
   "execution_count": 84,
   "metadata": {},
   "outputs": [],
   "source": [
    "# df.loc[(df['Request FY']=='2022') & (df['Report FY']=='2022') & (df['WORKING STATUS'].isin(working_status_list)) & (df['Recipient Confirmation']=='NOT CONFIRMED')][['Requester Name','DISTRIBUTION_LIST','Recipient Confirmation']]"
   ]
  },
  {
   "cell_type": "markdown",
   "metadata": {},
   "source": [
    "### Note: The Requester Name is acting as if there is hidden / blank / characters. Test deeply!!!"
   ]
  },
  {
   "cell_type": "code",
   "execution_count": 85,
   "metadata": {},
   "outputs": [],
   "source": [
    "# requester_list = list(df['Requester Name'])"
   ]
  },
  {
   "cell_type": "code",
   "execution_count": 86,
   "metadata": {},
   "outputs": [],
   "source": [
    "# len(requester_list)"
   ]
  },
  {
   "cell_type": "code",
   "execution_count": 87,
   "metadata": {},
   "outputs": [],
   "source": [
    "# confirm_list = list([set_recipient_confirmation_field(x) for x in requester_list])"
   ]
  },
  {
   "cell_type": "code",
   "execution_count": 88,
   "metadata": {},
   "outputs": [],
   "source": [
    "# len(confirm_list)"
   ]
  },
  {
   "cell_type": "code",
   "execution_count": 89,
   "metadata": {},
   "outputs": [],
   "source": [
    "# kk = pd.DataFrame(confirm_list)"
   ]
  },
  {
   "cell_type": "code",
   "execution_count": 90,
   "metadata": {},
   "outputs": [],
   "source": [
    "# kk.rename(columns={0:'Recipient Confirmation'}, inplace=True)"
   ]
  },
  {
   "cell_type": "code",
   "execution_count": 91,
   "metadata": {},
   "outputs": [],
   "source": [
    "# kk.value_counts()"
   ]
  },
  {
   "cell_type": "code",
   "execution_count": 92,
   "metadata": {},
   "outputs": [
    {
     "data": {
      "text/plain": [
       "(10687, 7)"
      ]
     },
     "execution_count": 92,
     "metadata": {},
     "output_type": "execute_result"
    }
   ],
   "source": [
    "df.loc[df['Recipient Confirmation'].isin(['NOT CONFIRMED'])][['Request ID','Create Date','Customer Name','GUID','Deal ID','Requester Name','Campaign']].shape"
   ]
  },
  {
   "cell_type": "code",
   "execution_count": 93,
   "metadata": {},
   "outputs": [],
   "source": [
    "# def fix_requester_name(requester_name, sss_confirmation):\n",
    "#     requester_name = str(requester_name)\n",
    "#     sss_confirmation = str(sss_confirmation)\n",
    "    \n",
    "#     if sss_confirmation.lower() == \"not confirmed\":\n",
    "#         return requester_name\n",
    "    \n",
    "#     if pd.isnull(requester_name) or requester_name == 'nan':\n",
    "#         return pd.NA\n",
    "    \n",
    "#     if requester_name.lower().endswith(\"@cisco.com\"):\n",
    "#             return requester_name\n",
    "#     else:    # requester name does not end in \"@cisco.com\"\n",
    "#         if not ',' in requester_name:   # would not be construed as a list of items\n",
    "#                 return requester_name + \"@cisco.com\"\n",
    "#         else:\n",
    "#             requester_name = requester_name.replace(';',',')\n",
    "#             alist = list(requester_name.split(','))\n",
    "#             checklist = []\n",
    "#             for n in alist:\n",
    "#                 checklist.append(n + \"@cisco.com\")\n",
    "#             return ', '.join(checklist)"
   ]
  },
  {
   "cell_type": "code",
   "execution_count": 94,
   "metadata": {},
   "outputs": [],
   "source": [
    "# df['Requester Name'] = df.apply(lambda x: fix_requester_name(x['Requester Name'],x['Recipient Confirmation']), axis = 1)"
   ]
  },
  {
   "cell_type": "code",
   "execution_count": 95,
   "metadata": {},
   "outputs": [],
   "source": [
    "# df['Requester Name'].value_counts()"
   ]
  },
  {
   "cell_type": "code",
   "execution_count": 96,
   "metadata": {},
   "outputs": [],
   "source": [
    "# df['Requester Name'] = df['Requester Name'].apply(lambda x: None if x == 'nan@cisco.com' else x)"
   ]
  },
  {
   "cell_type": "markdown",
   "metadata": {},
   "source": [
    "### Assign Compass Advisor name"
   ]
  },
  {
   "cell_type": "code",
   "execution_count": 97,
   "metadata": {},
   "outputs": [],
   "source": [
    "def clean_bdm_assigned(bdm_assigned):\n",
    "    if pd.isnull(bdm_assigned):\n",
    "        return None\n",
    "    elif bdm_assigned.lower() == 'nan':\n",
    "        return 'Expired'\n",
    "    else:\n",
    "        return bdm_assigned.title()"
   ]
  },
  {
   "cell_type": "code",
   "execution_count": 98,
   "metadata": {},
   "outputs": [],
   "source": [
    "df['Compass Advisor'] = df['Compass Advisor'].apply(clean_bdm_assigned)"
   ]
  },
  {
   "cell_type": "code",
   "execution_count": 99,
   "metadata": {},
   "outputs": [],
   "source": [
    "# df.loc[df['Recipient Confirmation'] == 'Confirmed',['Request ID','Requester Name','Compass Campaign Name','Recipient Confirmation']].shape"
   ]
  },
  {
   "cell_type": "code",
   "execution_count": 100,
   "metadata": {},
   "outputs": [],
   "source": [
    "# df['Compass Advisor'].unique()"
   ]
  },
  {
   "cell_type": "code",
   "execution_count": 101,
   "metadata": {},
   "outputs": [],
   "source": [
    "confirmed = df.loc[(df['Recipient Confirmation']=='Confirmed') & ~(df['Requester Name'].str.lower().isin(confirm_exclusions)) & (df['Requester Name'].notnull())][['Request ID', 'Create Date','Customer Name','Requester Name','Campaign','Sales Level 2','Sales Level 3','Recipient Confirmation', 'Compass Advisor','Readout_Date']]"
   ]
  },
  {
   "cell_type": "code",
   "execution_count": 102,
   "metadata": {},
   "outputs": [
    {
     "data": {
      "text/html": [
       "<div>\n",
       "<style scoped>\n",
       "    .dataframe tbody tr th:only-of-type {\n",
       "        vertical-align: middle;\n",
       "    }\n",
       "\n",
       "    .dataframe tbody tr th {\n",
       "        vertical-align: top;\n",
       "    }\n",
       "\n",
       "    .dataframe thead th {\n",
       "        text-align: right;\n",
       "    }\n",
       "</style>\n",
       "<table border=\"1\" class=\"dataframe\">\n",
       "  <thead>\n",
       "    <tr style=\"text-align: right;\">\n",
       "      <th></th>\n",
       "      <th>Request ID</th>\n",
       "      <th>Create Date</th>\n",
       "      <th>Customer Name</th>\n",
       "      <th>Requester Name</th>\n",
       "      <th>Campaign</th>\n",
       "      <th>Sales Level 2</th>\n",
       "      <th>Sales Level 3</th>\n",
       "      <th>Recipient Confirmation</th>\n",
       "      <th>Compass Advisor</th>\n",
       "      <th>Readout_Date</th>\n",
       "    </tr>\n",
       "  </thead>\n",
       "  <tbody>\n",
       "  </tbody>\n",
       "</table>\n",
       "</div>"
      ],
      "text/plain": [
       "Empty DataFrame\n",
       "Columns: [Request ID, Create Date, Customer Name, Requester Name, Campaign, Sales Level 2, Sales Level 3, Recipient Confirmation, Compass Advisor, Readout_Date]\n",
       "Index: []"
      ]
     },
     "execution_count": 102,
     "metadata": {},
     "output_type": "execute_result"
    }
   ],
   "source": [
    "# Sanity Check -- Test if we show all the \"Confirmed\" recipients for readouts on Targeting Campaign leads\n",
    "confirmed"
   ]
  },
  {
   "cell_type": "code",
   "execution_count": 103,
   "metadata": {},
   "outputs": [],
   "source": [
    "def populate_sl3_from_requestername(requester_name):\n",
    "    if requester_name in sssgeo_dict.keys():\n",
    "        try:\n",
    "            return sssgeo_dict.get(requester_name)\n",
    "        except:\n",
    "            return 'No SL3 Available'\n",
    "\n",
    "confirmed['Sales Level 3'] = confirmed.apply(lambda x: populate_sl3_from_requestername(x['Requester Name']), axis=1)"
   ]
  },
  {
   "cell_type": "code",
   "execution_count": 104,
   "metadata": {},
   "outputs": [],
   "source": [
    "confirmed = confirmed[['Request ID', 'Create Date', 'Customer Name', 'Requester Name','Recipient Confirmation','Campaign', 'Sales Level 2', 'Sales Level 3',]]"
   ]
  },
  {
   "cell_type": "markdown",
   "metadata": {},
   "source": [
    "### Fix the Sales Level3 value for certain Requester Names"
   ]
  },
  {
   "cell_type": "code",
   "execution_count": 105,
   "metadata": {},
   "outputs": [],
   "source": [
    "# df.loc[df['Request ID'].isin(list(confirmed['Request ID'])),'Lvl3'] = df.loc[df['Request ID'].isin(list(confirmed['Request ID']))].apply(lambda x: populate_sl3_from_requestername(x['Requester Name']), axis=1)"
   ]
  },
  {
   "cell_type": "markdown",
   "metadata": {},
   "source": [
    "### Standardize the Partner Names from the partner_dict hash"
   ]
  },
  {
   "cell_type": "code",
   "execution_count": 106,
   "metadata": {},
   "outputs": [],
   "source": [
    "PartnerNames = list(df.loc[df['Partner Name'].notnull()]['Partner Name'].unique())"
   ]
  },
  {
   "cell_type": "code",
   "execution_count": 107,
   "metadata": {},
   "outputs": [],
   "source": [
    "PartnerNames.sort()"
   ]
  },
  {
   "cell_type": "code",
   "execution_count": 108,
   "metadata": {},
   "outputs": [],
   "source": [
    "# PartnerNames"
   ]
  },
  {
   "cell_type": "code",
   "execution_count": 109,
   "metadata": {},
   "outputs": [],
   "source": [
    "# partner_dict\n",
    "def update_partner_names(partner_name):\n",
    "    if partner_name == np.nan or partner_name is None or pd.isnull(partner_name):\n",
    "        return None\n",
    "    else:\n",
    "        PN = partner_name.lower().replace('. ','').replace('.','')\n",
    "        newname = partner_dict.get(PN, PN.upper())\n",
    "        return newname"
   ]
  },
  {
   "cell_type": "code",
   "execution_count": 110,
   "metadata": {},
   "outputs": [],
   "source": [
    "df['Partner Name'] = df['Partner Name'].apply(update_partner_names)"
   ]
  },
  {
   "cell_type": "markdown",
   "metadata": {},
   "source": [
    "### Apply Fiscal Period Dating to the Create Date and Readout Date fields"
   ]
  },
  {
   "cell_type": "code",
   "execution_count": 111,
   "metadata": {},
   "outputs": [],
   "source": [
    "### Fix Injection & Readout Date for 10 Missed Attach records\n",
    "coverage_at_renewal_q1_list = ['104315','104316','104317','104318','104319','104320','104321','104322','104323','104324']    #['104315','104316','104317','104318','104319','104320','104321','104322','104323','104324']    #[104315,104316,104317,104318,104319,104320,104321,104322,104323,104324]   "
   ]
  },
  {
   "cell_type": "code",
   "execution_count": 112,
   "metadata": {},
   "outputs": [],
   "source": [
    "df.loc[df['Request ID'].isin(coverage_at_renewal_q1_list), 'Create Date'] = pd.to_datetime('20211101T1903', format='%Y-%m-%d %H:%M:%S', errors='ignore')"
   ]
  },
  {
   "cell_type": "code",
   "execution_count": 113,
   "metadata": {},
   "outputs": [],
   "source": [
    "df.loc[df['Request ID'].isin(coverage_at_renewal_q1_list), 'Readout_Date'] = pd.to_datetime('20211103', format='%Y-%m-%d', errors='ignore')"
   ]
  },
  {
   "cell_type": "code",
   "execution_count": 114,
   "metadata": {},
   "outputs": [
    {
     "data": {
      "text/html": [
       "<div>\n",
       "<style scoped>\n",
       "    .dataframe tbody tr th:only-of-type {\n",
       "        vertical-align: middle;\n",
       "    }\n",
       "\n",
       "    .dataframe tbody tr th {\n",
       "        vertical-align: top;\n",
       "    }\n",
       "\n",
       "    .dataframe thead th {\n",
       "        text-align: right;\n",
       "    }\n",
       "</style>\n",
       "<table border=\"1\" class=\"dataframe\">\n",
       "  <thead>\n",
       "    <tr style=\"text-align: right;\">\n",
       "      <th></th>\n",
       "      <th>Request ID</th>\n",
       "      <th>Create Date</th>\n",
       "      <th>Readout_Date</th>\n",
       "    </tr>\n",
       "  </thead>\n",
       "  <tbody>\n",
       "    <tr>\n",
       "      <th>33588</th>\n",
       "      <td>104315</td>\n",
       "      <td>2021-11-01 19:03:00</td>\n",
       "      <td>2021-11-03</td>\n",
       "    </tr>\n",
       "    <tr>\n",
       "      <th>33589</th>\n",
       "      <td>104316</td>\n",
       "      <td>2021-11-01 19:03:00</td>\n",
       "      <td>2021-11-03</td>\n",
       "    </tr>\n",
       "    <tr>\n",
       "      <th>33590</th>\n",
       "      <td>104317</td>\n",
       "      <td>2021-11-01 19:03:00</td>\n",
       "      <td>2021-11-03</td>\n",
       "    </tr>\n",
       "    <tr>\n",
       "      <th>33591</th>\n",
       "      <td>104324</td>\n",
       "      <td>2021-11-01 19:03:00</td>\n",
       "      <td>2021-11-03</td>\n",
       "    </tr>\n",
       "    <tr>\n",
       "      <th>33596</th>\n",
       "      <td>104318</td>\n",
       "      <td>2021-11-01 19:03:00</td>\n",
       "      <td>2021-11-03</td>\n",
       "    </tr>\n",
       "    <tr>\n",
       "      <th>33597</th>\n",
       "      <td>104319</td>\n",
       "      <td>2021-11-01 19:03:00</td>\n",
       "      <td>2021-11-03</td>\n",
       "    </tr>\n",
       "    <tr>\n",
       "      <th>33598</th>\n",
       "      <td>104320</td>\n",
       "      <td>2021-11-01 19:03:00</td>\n",
       "      <td>2021-11-03</td>\n",
       "    </tr>\n",
       "    <tr>\n",
       "      <th>33599</th>\n",
       "      <td>104323</td>\n",
       "      <td>2021-11-01 19:03:00</td>\n",
       "      <td>2021-11-03</td>\n",
       "    </tr>\n",
       "    <tr>\n",
       "      <th>33600</th>\n",
       "      <td>104321</td>\n",
       "      <td>2021-11-01 19:03:00</td>\n",
       "      <td>2021-11-03</td>\n",
       "    </tr>\n",
       "    <tr>\n",
       "      <th>33601</th>\n",
       "      <td>104322</td>\n",
       "      <td>2021-11-01 19:03:00</td>\n",
       "      <td>2021-11-03</td>\n",
       "    </tr>\n",
       "  </tbody>\n",
       "</table>\n",
       "</div>"
      ],
      "text/plain": [
       "      Request ID         Create Date Readout_Date\n",
       "33588     104315 2021-11-01 19:03:00   2021-11-03\n",
       "33589     104316 2021-11-01 19:03:00   2021-11-03\n",
       "33590     104317 2021-11-01 19:03:00   2021-11-03\n",
       "33591     104324 2021-11-01 19:03:00   2021-11-03\n",
       "33596     104318 2021-11-01 19:03:00   2021-11-03\n",
       "33597     104319 2021-11-01 19:03:00   2021-11-03\n",
       "33598     104320 2021-11-01 19:03:00   2021-11-03\n",
       "33599     104323 2021-11-01 19:03:00   2021-11-03\n",
       "33600     104321 2021-11-01 19:03:00   2021-11-03\n",
       "33601     104322 2021-11-01 19:03:00   2021-11-03"
      ]
     },
     "execution_count": 114,
     "metadata": {},
     "output_type": "execute_result"
    }
   ],
   "source": [
    "df.loc[df['Request ID'].isin(coverage_at_renewal_q1_list) ][['Request ID','Create Date','Readout_Date']]"
   ]
  },
  {
   "cell_type": "code",
   "execution_count": 115,
   "metadata": {},
   "outputs": [
    {
     "data": {
      "text/html": [
       "<div>\n",
       "<style scoped>\n",
       "    .dataframe tbody tr th:only-of-type {\n",
       "        vertical-align: middle;\n",
       "    }\n",
       "\n",
       "    .dataframe tbody tr th {\n",
       "        vertical-align: top;\n",
       "    }\n",
       "\n",
       "    .dataframe thead th {\n",
       "        text-align: right;\n",
       "    }\n",
       "</style>\n",
       "<table border=\"1\" class=\"dataframe\">\n",
       "  <thead>\n",
       "    <tr style=\"text-align: right;\">\n",
       "      <th></th>\n",
       "      <th>Request ID</th>\n",
       "      <th>Create Date</th>\n",
       "      <th>Created By</th>\n",
       "      <th>Request Type</th>\n",
       "      <th>Modified</th>\n",
       "      <th>Modified By</th>\n",
       "      <th>Date Completed</th>\n",
       "      <th>TARGET_REQUEST_ID</th>\n",
       "      <th>LAST_UPDATED</th>\n",
       "      <th>QA Approve</th>\n",
       "      <th>...</th>\n",
       "      <th>UNCOVERED_OPPTY_VALUE</th>\n",
       "      <th>WORKING STATUS</th>\n",
       "      <th>Nickname</th>\n",
       "      <th>Forecast Stage</th>\n",
       "      <th>Dupechk</th>\n",
       "      <th>Vendor</th>\n",
       "      <th>Concierge Advisor Name</th>\n",
       "      <th>Squeezed</th>\n",
       "      <th>Prepend</th>\n",
       "      <th>Recipient Confirmation</th>\n",
       "    </tr>\n",
       "  </thead>\n",
       "  <tbody>\n",
       "  </tbody>\n",
       "</table>\n",
       "<p>0 rows × 115 columns</p>\n",
       "</div>"
      ],
      "text/plain": [
       "Empty DataFrame\n",
       "Columns: [Request ID, Create Date, Created By, Request Type, Modified, Modified By, Date Completed, TARGET_REQUEST_ID, LAST_UPDATED, QA Approve, REVIEW_REQUIRED_FLAG, FAILURE_DETAILS, Low Volume Count, API_TRANSACTION_ID, CONCIERGE_REQUESTED_FLAG, CC_INDICATED, PARTNER_RECORD, CUSTOMER_IDENTIFIER, Customer Name, Deal ID, SAV ID, GUID, CAV ID, CAV BU ID, CR Party ID, CR Party Name, Contract ID, Appliance ID, Inventory Name, Status, Requester Name, SSP, Requester Function, REQUESTER_COMMENTS, DISTRIBUTION_LIST, Partner Name, BE_GEO_ID, Sales Level 1, Sales Level 2, Sales Level 3, Sales Level 4, Sales Level 5, Sales Level 6, opportunityID18, OPPTY_NAME, PROJECTED_BOOKING, Campaign, Risk Score, RR_INTERNAL, ADVISOR_NOTES, Compass Advisor, Readout_Date, Readout Delivery Status, Items Recommended, DECLINED_REASON, NEXT_STEPS, BCS_ESTIMATE, EC_ESTIMATE, ST_ESTIMATE, SSPT_ESTIMATE, SNTC_ESTIMATE, TOTAL_ESTIMATE, CONCIERGE_ADVISOR_ASSIGNED, CONCIERGE_BUSINESS_OBJECTIVE, CONCIERGE_INTERNAL_READOUT_DT, CONCIERGE_INTERNAL_RESULT, CONCIERGE_EXTERNAL_READOUT_DT, CONCIERGE_EXTERNAL_READOUT_RESULT, CONCIERGE_ACCOUNT_TEAM_NOTES, LPM_PROACTIVE_REPORT_URL, LPM_READOUT_DT, LPM_READOUT_STATUS, LPM_EMAIL, LPM_DECLINED_REASON, LPM_NOTES, LPM_PLUS, NS_LPM_PLUS, LPM_OFFER_CREATED, PROACTIVE_REPORT_REQUESTED_FLAG, ALERT_BELOW_25, Tableau Project Name, Report Type, COMPASS URL, COMPASS PPT URL, OA Package Type, OA URL, VBDM, NS_VBDM, REPORT_EXIST_FLAG, DELIVERABILITY, INSUFFICIENT_DATA_COUNT, READOUT_DELIVERABLE, Email sent, EMAIL_SENT_TO_SSX_FLAG, OPPTY_STG1_CREATED, COMPASS_READOUTS_DONE, LPM_PLUS_ENGAGED, LPM_PLUS_UNASSIGNED, LPM_PLUS_ASSIGNED, LPM_PLUS_SCHEDULED, ...]\n",
       "Index: []\n",
       "\n",
       "[0 rows x 115 columns]"
      ]
     },
     "execution_count": 115,
     "metadata": {},
     "output_type": "execute_result"
    }
   ],
   "source": [
    "df.loc[df['Campaign'].str.contains('coverage at', na=False, case=False) & (df['Readout_Date'] < '2021-10-31')]"
   ]
  },
  {
   "cell_type": "code",
   "execution_count": 116,
   "metadata": {},
   "outputs": [],
   "source": [
    "def get_fiscal_half(fiscal_quarter):\n",
    "    if pd.isnull(fiscal_quarter):\n",
    "        return pd.NA\n",
    "    elif fiscal_quarter == '1' or fiscal_quarter == '2':\n",
    "        return '1'\n",
    "    else:\n",
    "        return '2'"
   ]
  },
  {
   "cell_type": "code",
   "execution_count": 117,
   "metadata": {},
   "outputs": [],
   "source": [
    "df['Request FY'] = df['Create Date'].apply(fc.get_fiscal_year)"
   ]
  },
  {
   "cell_type": "code",
   "execution_count": 118,
   "metadata": {},
   "outputs": [],
   "source": [
    "df['Request FQ'] = df['Create Date'].apply(fc.get_fiscal_quarter)"
   ]
  },
  {
   "cell_type": "code",
   "execution_count": 119,
   "metadata": {},
   "outputs": [],
   "source": [
    "df['Request FM'] = df['Create Date'].apply(fc.get_fiscal_month)"
   ]
  },
  {
   "cell_type": "code",
   "execution_count": 120,
   "metadata": {},
   "outputs": [],
   "source": [
    "df['Request FWOFM'] = df['Create Date'].apply(fc.get_fiscal_week_of_fiscal_month)"
   ]
  },
  {
   "cell_type": "code",
   "execution_count": 121,
   "metadata": {},
   "outputs": [
    {
     "data": {
      "text/plain": [
       "array(['3', '2', '4', '1'], dtype=object)"
      ]
     },
     "execution_count": 121,
     "metadata": {},
     "output_type": "execute_result"
    }
   ],
   "source": [
    "df['Request FQ'].unique()"
   ]
  },
  {
   "cell_type": "code",
   "execution_count": 122,
   "metadata": {},
   "outputs": [],
   "source": [
    "df['Request FH'] = df['Request FQ'].apply(get_fiscal_half)"
   ]
  },
  {
   "cell_type": "code",
   "execution_count": 123,
   "metadata": {},
   "outputs": [],
   "source": [
    "df['Request FWOFQ'] = df['Create Date'].apply(fc.get_fiscal_week_of_fiscal_quarter)"
   ]
  },
  {
   "cell_type": "code",
   "execution_count": 124,
   "metadata": {},
   "outputs": [],
   "source": [
    "df['Request FWOFY'] = df['Create Date'].apply(fc.get_fiscal_week_of_fiscal_year)"
   ]
  },
  {
   "cell_type": "code",
   "execution_count": 125,
   "metadata": {},
   "outputs": [],
   "source": [
    "df['Readout_Date'] = pd.to_datetime(df['Readout_Date'])"
   ]
  },
  {
   "cell_type": "code",
   "execution_count": 126,
   "metadata": {},
   "outputs": [],
   "source": [
    "df['Readout FY'] = df['Readout_Date'].apply(fc.get_fiscal_year)\n",
    "df['Readout FQ'] = df['Readout_Date'].apply(fc.get_fiscal_quarter)\n",
    "df['Readout FM'] = df['Readout_Date'].apply(fc.get_fiscal_month)"
   ]
  },
  {
   "cell_type": "code",
   "execution_count": 127,
   "metadata": {},
   "outputs": [],
   "source": [
    "df['Readout FWOFM'] = df['Readout_Date'].apply(fc.get_fiscal_week_of_fiscal_month)"
   ]
  },
  {
   "cell_type": "code",
   "execution_count": 128,
   "metadata": {},
   "outputs": [],
   "source": [
    "df['Readout FWOFQ'] = df['Readout_Date'].apply(fc.get_fiscal_week_of_fiscal_quarter)"
   ]
  },
  {
   "cell_type": "code",
   "execution_count": 129,
   "metadata": {},
   "outputs": [],
   "source": [
    "df['Readout FWOFY'] = df['Readout_Date'].apply(fc.get_fiscal_week_of_fiscal_year)"
   ]
  },
  {
   "cell_type": "code",
   "execution_count": 130,
   "metadata": {},
   "outputs": [],
   "source": [
    "df['Readout FH'] = df['Readout FQ'].apply(get_fiscal_half)"
   ]
  },
  {
   "cell_type": "code",
   "execution_count": 131,
   "metadata": {},
   "outputs": [
    {
     "data": {
      "text/plain": [
       "array(['2', '1'], dtype=object)"
      ]
     },
     "execution_count": 131,
     "metadata": {},
     "output_type": "execute_result"
    }
   ],
   "source": [
    "df['Request FH'].unique()"
   ]
  },
  {
   "cell_type": "markdown",
   "metadata": {},
   "source": [
    "### Set the Campaign Type field from the campaign names"
   ]
  },
  {
   "cell_type": "code",
   "execution_count": 132,
   "metadata": {},
   "outputs": [],
   "source": [
    "def set_campaign_type(campaign_name):\n",
    "    if pd.isnull(campaign_name) or campaign_name == '':\n",
    "        return 'NO CAMPAIGN'\n",
    "    \n",
    "    elif campaign_name.lower() == 'test' or campaign_name.lower() == 'accelerator' or campaign_name.lower() == 'proactive - ignore' \\\n",
    "    or campaign_name.upper() == 'IAP – STEPHAN' or campaign_name.upper() == 'IAP - STEPHAN' or 'research' in campaign_name.lower():\n",
    "        return 'NONREPORTING/TESTS'\n",
    "    \n",
    "    elif 'cxib scale' in campaign_name.lower():\n",
    "        return 'COVERAGE AT RENEWAL'\n",
    "    \n",
    "    elif 'cxib' in campaign_name.lower():\n",
    "        return 'CXIB'    \n",
    "    \n",
    "    elif 'coverage at renewal' in campaign_name.lower():\n",
    "        return 'COVERAGE AT RENEWAL'\n",
    "    \n",
    "    elif campaign_name.upper() == 'COVERAGE PROGRAM - TELEMETRY':\n",
    "        return 'TELEMETRY'\n",
    "    \n",
    "    elif ('missed attach' in campaign_name.lower() or 'coverage program' in campaign_name.lower()) and ('sntc tac leads' in campaign_name.lower() or 'tac sntc' in campaign_name.lower() or campaign_name.upper()=='PROACTIVE - TAC LEAD'):\n",
    "        return 'TAC'\n",
    "    \n",
    "    elif ('missed attach' in campaign_name.lower() or 'coverage program' in campaign_name.lower()) and ('proactive attach' in campaign_name.lower() or 'proactive sntc' in campaign_name.lower()):\n",
    "        return 'PROACTIVE COVERAGE'\n",
    "    \n",
    "    elif ('missed attach' in campaign_name.lower() or 'coverage program' in campaign_name.lower()) and ('field' in campaign_name.lower() or 'reactive' in campaign_name.lower()):\n",
    "        return 'FIELD'\n",
    "    \n",
    "    #elif ('missed attach' in campaign_name.lower() or 'coverage program' in campaign_name.lower()):\n",
    "    #    return 'PROACTIVE COVERAGE'\n",
    "    \n",
    "    elif 'proactive - refresh bdm' in campaign_name.lower():   #'PROACTIVE - AMERICAS - IRR EXPAND',\n",
    "        return 'NONREPORTING/TESTS'\n",
    "        \n",
    "    elif 'proactive' in campaign_name.lower() or campaign_name.upper() in ('PROACTIVE - REFRESH','PROACTIVE - CS RESEARCH'):   #'PROACTIVE - AMERICAS - IRR EXPAND',\n",
    "        return 'PROACTIVE_OLD'\n",
    "    \n",
    "    elif 'proactive tac' in campaign_name.lower():\n",
    "        return 'TAC'\n",
    "    \n",
    "    elif 'reactive' in campaign_name.lower() or campaign_name.upper() in ('UKI - SUZI','UKI -- SUZI','PROACTIVE - PARTNER.1','PROACTIVE - PARTNER.2') or campaign_name.upper() == 'PROACTIVE - REFRESH BDM':   #'PROACTIVE - AMERICAS - IRR EXPAND',\n",
    "        return 'FIELD'\n",
    "    \n",
    "    elif campaign_name.upper() == 'TELEMETRY':\n",
    "        return 'TARGETING'\n",
    "    \n",
    "    elif 'bcs' in campaign_name.lower() or 'success' in campaign_name.lower() or 'solution' in campaign_name.lower() or 'sspt' in campaign_name.lower() or 'st target' in campaign_name.lower() or 'ctu' in campaign_name.lower() or 'target' in campaign_name.lower():\n",
    "        return 'TARGETING'    "
   ]
  },
  {
   "cell_type": "code",
   "execution_count": 133,
   "metadata": {},
   "outputs": [],
   "source": [
    "df['Campaign Type'] = df['Campaign'].apply(lambda x: set_campaign_type(x))"
   ]
  },
  {
   "cell_type": "code",
   "execution_count": 134,
   "metadata": {},
   "outputs": [
    {
     "data": {
      "text/plain": [
       "array(['CXIB'], dtype=object)"
      ]
     },
     "execution_count": 134,
     "metadata": {},
     "output_type": "execute_result"
    }
   ],
   "source": [
    "# df['Campaign Type'].unique()\n",
    "df.loc[df['Campaign'].str.contains('CXIB', na=False, case=False)]['Campaign Type'].unique()"
   ]
  },
  {
   "cell_type": "code",
   "execution_count": 135,
   "metadata": {},
   "outputs": [
    {
     "data": {
      "text/plain": [
       "array(['TEST REQUEST'], dtype=object)"
      ]
     },
     "execution_count": 135,
     "metadata": {},
     "output_type": "execute_result"
    }
   ],
   "source": [
    "df.loc[df['Campaign Type'].isnull()]['Campaign'].unique()"
   ]
  },
  {
   "cell_type": "markdown",
   "metadata": {},
   "source": [
    "### Set the Items Recommended fields"
   ]
  },
  {
   "cell_type": "code",
   "execution_count": 136,
   "metadata": {},
   "outputs": [],
   "source": [
    "def bcs_recommended(items_recommended):\n",
    "    if pd.isnull(items_recommended):\n",
    "        return None\n",
    "    elif 'BCS' in items_recommended:\n",
    "        return 'BCS'\n",
    "    else:\n",
    "        return None"
   ]
  },
  {
   "cell_type": "code",
   "execution_count": 137,
   "metadata": {},
   "outputs": [],
   "source": [
    "# df['Items Recommended'].unique()"
   ]
  },
  {
   "cell_type": "code",
   "execution_count": 138,
   "metadata": {},
   "outputs": [],
   "source": [
    "df['IR_BCS'] = df['Items Recommended'].apply(bcs_recommended)"
   ]
  },
  {
   "cell_type": "code",
   "execution_count": 139,
   "metadata": {},
   "outputs": [],
   "source": [
    "def ec_recommended(items_recommended):\n",
    "    if pd.isnull(items_recommended):\n",
    "        return None\n",
    "    elif 'EC-' in items_recommended:\n",
    "        return 'EC'\n",
    "    else:\n",
    "        return None"
   ]
  },
  {
   "cell_type": "code",
   "execution_count": 140,
   "metadata": {},
   "outputs": [],
   "source": [
    "df['IR_EC'] = df['Items Recommended'].apply(ec_recommended)"
   ]
  },
  {
   "cell_type": "code",
   "execution_count": 141,
   "metadata": {},
   "outputs": [],
   "source": [
    "def dnac_recommended(items_recommended):\n",
    "    if pd.isnull(items_recommended):\n",
    "        return None\n",
    "    elif 'DNA' in items_recommended:\n",
    "        return 'DNAC'\n",
    "    else:\n",
    "        return None"
   ]
  },
  {
   "cell_type": "code",
   "execution_count": 142,
   "metadata": {},
   "outputs": [],
   "source": [
    "df['IR_DNAC'] = df['Items Recommended'].apply(dnac_recommended)"
   ]
  },
  {
   "cell_type": "code",
   "execution_count": 143,
   "metadata": {},
   "outputs": [],
   "source": [
    "def sspt_recommended(items_recommended):\n",
    "    if pd.isnull(items_recommended):\n",
    "        return None\n",
    "    elif 'SSPT' in items_recommended:\n",
    "        return 'SSPT'\n",
    "    else:\n",
    "        return None"
   ]
  },
  {
   "cell_type": "code",
   "execution_count": 144,
   "metadata": {},
   "outputs": [],
   "source": [
    "df['IR_SSPT'] = df['Items Recommended'].apply(sspt_recommended)"
   ]
  },
  {
   "cell_type": "code",
   "execution_count": 145,
   "metadata": {},
   "outputs": [],
   "source": [
    "def st_recommended(items_recommended):\n",
    "    if pd.isnull(items_recommended):\n",
    "        return None\n",
    "    elif 'ST' in items_recommended:\n",
    "        return 'ST'\n",
    "    else:\n",
    "        return None"
   ]
  },
  {
   "cell_type": "code",
   "execution_count": 146,
   "metadata": {},
   "outputs": [],
   "source": [
    "df['IR_ST'] = df['Items Recommended'].apply(st_recommended)"
   ]
  },
  {
   "cell_type": "code",
   "execution_count": 147,
   "metadata": {},
   "outputs": [],
   "source": [
    "def sntc_recommended(items_recommended):\n",
    "    if pd.isnull(items_recommended):\n",
    "        return None\n",
    "    elif 'SNTC' in items_recommended:\n",
    "        return 'SNTC'\n",
    "    else:\n",
    "        return None"
   ]
  },
  {
   "cell_type": "code",
   "execution_count": 148,
   "metadata": {},
   "outputs": [],
   "source": [
    "df['IR_SNTC'] = df['Items Recommended'].apply(sntc_recommended)"
   ]
  },
  {
   "cell_type": "code",
   "execution_count": 149,
   "metadata": {},
   "outputs": [],
   "source": [
    "def irr_recommended(items_recommended):\n",
    "    if pd.isnull(items_recommended):\n",
    "        return None\n",
    "    elif 'IRR' in items_recommended:\n",
    "        return 'IRR'\n",
    "    else:\n",
    "        return None"
   ]
  },
  {
   "cell_type": "code",
   "execution_count": 150,
   "metadata": {},
   "outputs": [],
   "source": [
    "df['IR_IRR'] = df['Items Recommended'].apply(irr_recommended)"
   ]
  },
  {
   "cell_type": "code",
   "execution_count": 151,
   "metadata": {},
   "outputs": [],
   "source": [
    "def productrefresh_recommended(items_recommended):\n",
    "    if pd.isnull(items_recommended):\n",
    "        return None\n",
    "    elif 'PR' in items_recommended:\n",
    "        return 'PR'\n",
    "    else:\n",
    "        return None"
   ]
  },
  {
   "cell_type": "code",
   "execution_count": 152,
   "metadata": {},
   "outputs": [],
   "source": [
    "df['IR_PR'] = df['Items Recommended'].apply(productrefresh_recommended)"
   ]
  },
  {
   "cell_type": "code",
   "execution_count": 153,
   "metadata": {},
   "outputs": [],
   "source": [
    "def brw_recommended(items_recommended):\n",
    "    if pd.isnull(items_recommended):\n",
    "        return None\n",
    "    elif 'BRW' in items_recommended:\n",
    "        return 'BRW'\n",
    "    else:\n",
    "        return None"
   ]
  },
  {
   "cell_type": "code",
   "execution_count": 154,
   "metadata": {},
   "outputs": [],
   "source": [
    "df['IR_BRW'] = df['Items Recommended'].apply(brw_recommended)"
   ]
  },
  {
   "cell_type": "code",
   "execution_count": 155,
   "metadata": {},
   "outputs": [],
   "source": [
    "# def target_campaigns_priority_recommendation(items_recommended):\n",
    "#     if pd.isnull(items_recommended):\n",
    "#         return None\n",
    "#     elif 'BCS' in items_recommended:\n",
    "#         return 'BCS'\n",
    "#     elif 'EC' in items_recommended:\n",
    "#         return 'BCS'\n",
    "#     elif 'IRR' in items_recommended:\n",
    "#         return 'BCS'\n",
    "#     elif 'ST' in items_recommended:\n",
    "#         return 'ST'\n",
    "#     elif 'SSPT' in items_recommended:\n",
    "#         return 'SSPT'\n",
    "#     elif 'SNTC' in items_recommended:\n",
    "#         return 'SNTC'"
   ]
  },
  {
   "cell_type": "code",
   "execution_count": 156,
   "metadata": {},
   "outputs": [],
   "source": [
    "# df['TC_Priority_Recommend'] = df['Items Recommended'].apply(target_campaigns_priority_recommendation)"
   ]
  },
  {
   "cell_type": "code",
   "execution_count": 157,
   "metadata": {},
   "outputs": [],
   "source": [
    "# def create_index_id(requestID, sheetname):\n",
    "#     if pd.isnull(requestID):\n",
    "#         return None\n",
    "#     else:\n",
    "#         indexid = requestID + '_' + sheetname\n",
    "#         return indexid"
   ]
  },
  {
   "cell_type": "code",
   "execution_count": 158,
   "metadata": {},
   "outputs": [],
   "source": [
    "# df['IndexID'] = df.apply(lambda x: create_index_id(x['Request ID'], x['Sheet Name']), axis = 1)"
   ]
  },
  {
   "cell_type": "code",
   "execution_count": 159,
   "metadata": {},
   "outputs": [],
   "source": [
    "# df['IndexID']"
   ]
  },
  {
   "cell_type": "code",
   "execution_count": 160,
   "metadata": {},
   "outputs": [],
   "source": [
    "requesters_to_remove_2021 = list(['alcastri@cisco.cm@cisco.com','alcastri@cisco.com','anamoren@cisco.com','antmills@cisco.com','avillalo@cisco.com','boenglis@cisco.com',\n",
    "                                 'borirodr@cisco.com','braolive@cisco.com','brbuck@cisco.com','camruiz@cisco.com','fpizano@cisco.com', 'jbaldera@cisco.com','jcollie2@cisco.com',\n",
    "                                 'josguti2@cisco.com','jszmak@cisco.com','kpatton@cisco.com','kywatts@cisco.com','lmaldon@cisco.com', 'lsweidan@cisco.com' , 'nilosada@cisco.com',\n",
    "                                 'nnino@cisco.com','qhopkins@cisco.com','stotero@cisco.com', 'wzeliger@cisco.com','caltree@cisco.com','obustosm@cisco.com','antchris@cisco.com',\n",
    "                                 'dadiaspe@cisco.com','jforgy@cisco.com','jguggehe@cisco.com','stehartm@cisco.com','abdulahm@cisco.com','pamohan@cisco.com','charpost@cisco.com',\n",
    "                                 'mragam@cisco.com','javalenc@cisco.com','escudder@cisco.com'])"
   ]
  },
  {
   "cell_type": "code",
   "execution_count": 161,
   "metadata": {},
   "outputs": [],
   "source": [
    "campaigns_to_remove_from_count_2021 = list(['ACCELERATOR','IAP - STEPHAN','PROACTIVE - AMERICAS - F20Q2-3 RENEW (140)','PROACTIVE - AMERICAS - IRR EXPAND', 'PROACTIVE - AMERICAS - US COMM.1','PROACTIVE - AMERICAS - US COM.1',\n",
    "                                       'PROACTIVE - BCS 3.0', 'PROACTIVE - CAP.1','PROACTIVE - CS RESEARCH', 'PROACTIVE - EMEAR.BETA','PROACTIVE - IGNORE','PROACTIVE - PARTNER.1','PROACTIVE - PARTNER.2', 'PROACTIVE - PRESALES ALIGN PITSTOP EFFORT',\n",
    "                                       'PROACTIVE - REFRESH LIST', 'PROACTIVE - SW CONFORMANCE', 'PROACTIVE - SW CONFORMANCE.2', 'PROACTIVE - TAC LEAD', 'PROACTIVE - USPS.1','REACTIVE - APJC GC ENT', 'REACTIVE - APJC.1','REACTIVE - APJC.BETA',\n",
    "                                       'REACTIVE - ASEAN.1', 'REACTIVE - CANSAC', 'REACTIVE - CISCOREADY','REACTIVE - EMEAR-PILOT','REACTIVE - GROWTH INITIATIVE','REACTIVE - KYLE WATTS','REACTIVE - RENEWALS Q3 KSO','PROACTIVE REFRESH BDM',   ### THE 412 HEALTHCARE REQUESTS\n",
    "                                       'TEST', 'TEST REQUEST'])"
   ]
  },
  {
   "cell_type": "code",
   "execution_count": 162,
   "metadata": {},
   "outputs": [],
   "source": [
    "requesters_to_remove_2022 = list(['lsweidan@cisco.com','nenglema@cisco.com','escudder@cisco.com', 'jestjohn@cisco.com' ])"
   ]
  },
  {
   "cell_type": "code",
   "execution_count": 163,
   "metadata": {},
   "outputs": [],
   "source": [
    "temp_campaigns_to_remove_from_count = list([ #'BCS 3.0 TARGETING HEALTHCARE CAMPAIGN',\n",
    "                                           'PROACTIVE - RESEARCH',\n",
    "                                           'REACTIVE - CXIB',\n",
    "                                           'REACTIVE - GROWTH INITIATIVE',\n",
    "                                           'TEST REQUEST'])"
   ]
  },
  {
   "cell_type": "code",
   "execution_count": 164,
   "metadata": {},
   "outputs": [],
   "source": [
    "def remove_from_the_items_to_be_counted(requester_name, compass_campaign_name, SL3, created_date, date_completed):   # Anything FALSE is intended to be removed. #When this gets into Tableau, we only want to select the TRUE values\n",
    "    if pd.isnull(requester_name) or pd.isnull(date_completed):\n",
    "        return False\n",
    "    elif created_date < pd.to_datetime('20210801', format='%Y%m%d') and (requester_name in requesters_to_remove_2021 or compass_campaign_name in campaigns_to_remove_from_count_2021):\n",
    "        return False\n",
    "       \n",
    "    elif created_date >= pd.to_datetime('20210801', format='%Y%m%d') and (requester_name in requesters_to_remove_2022 or compass_campaign_name in temp_campaigns_to_remove_from_count):\n",
    "        return False\n",
    "    \n",
    "    else:\n",
    "        return True"
   ]
  },
  {
   "cell_type": "code",
   "execution_count": 165,
   "metadata": {},
   "outputs": [],
   "source": [
    "# pd.to_datetime('20210801', format='%Y%m%d')"
   ]
  },
  {
   "cell_type": "code",
   "execution_count": 166,
   "metadata": {},
   "outputs": [],
   "source": [
    "df['REMOVE_FROM_COUNT'] = df.apply(lambda x: remove_from_the_items_to_be_counted(x['Requester Name'],x['Campaign'], x['Sales Level 3'], x['Create Date'], x['Date Completed']), axis=1)"
   ]
  },
  {
   "cell_type": "code",
   "execution_count": 167,
   "metadata": {},
   "outputs": [
    {
     "data": {
      "text/plain": [
       "Campaign                                                 Sales Level 3      REMOVE_FROM_COUNT\n",
       "BCS 3.0 TARGETING GLOBAL COMPASS IDENTIFIED RISKS (NEW)  ASP TELCO MOBILE   True                  1\n",
       "                                                         ASP US SEGMENTS    True                 29\n",
       "                                                         ASP_CANADA         True                  2\n",
       "                                                         ASP_LATAM          True                  1\n",
       "                                                         COMMERCIAL CAN     True                  7\n",
       "                                                         ENTERPRISE CA      True                  8\n",
       "                                                         GES WEST           True                 69\n",
       "                                                         PUBLIC SECTOR CAN  True                 15\n",
       "                                                         SLED-EAST AREA     True                 26\n",
       "                                                         SLED-WEST AREA     True                 15\n",
       "Name: Request ID, dtype: int64"
      ]
     },
     "execution_count": 167,
     "metadata": {},
     "output_type": "execute_result"
    }
   ],
   "source": [
    "df.loc[(df['Campaign'].str.contains('IDENTIFIED RISKS', na=False, case=False)) & (df['Sales Level 1']=='AMERICAS') & (df['REMOVE_FROM_COUNT']==True) ].groupby(['Campaign','Sales Level 3','REMOVE_FROM_COUNT']).count()['Request ID']"
   ]
  },
  {
   "cell_type": "code",
   "execution_count": 168,
   "metadata": {},
   "outputs": [
    {
     "data": {
      "text/plain": [
       "Requester Name      Campaign Type  REMOVE_FROM_COUNT\n",
       "AABUL@CISCO.COM     FIELD          True                  1\n",
       "AADAY@CISCO.COM     TARGETING      True                  2\n",
       "AAFRICA@CISCO.COM   FIELD          True                  2\n",
       "AAKKAWI@CISCO.COM   TAC            True                  1\n",
       "AALAJAJI@CISCO.COM  TARGETING      True                  6\n",
       "                                                        ..\n",
       "YUKOHAYA@CISCO.COM  TARGETING      True                  1\n",
       "YVWOIT@CISCO.COM    TARGETING      True                  1\n",
       "ZALGHAMD@CISCO.COM  FIELD          True                  1\n",
       "ZISTEPHE@CISCO.COM  FIELD          True                 32\n",
       "ZJANICEL@CISCO.COM  FIELD          True                  1\n",
       "Name: Request ID, Length: 1800, dtype: int64"
      ]
     },
     "execution_count": 168,
     "metadata": {},
     "output_type": "execute_result"
    }
   ],
   "source": [
    "df.loc[df['REMOVE_FROM_COUNT'] == True].groupby(['Requester Name','Campaign Type','REMOVE_FROM_COUNT']).count()['Request ID']"
   ]
  },
  {
   "cell_type": "code",
   "execution_count": 169,
   "metadata": {},
   "outputs": [
    {
     "data": {
      "text/plain": [
       "(37376, 140)"
      ]
     },
     "execution_count": 169,
     "metadata": {},
     "output_type": "execute_result"
    }
   ],
   "source": [
    "df.shape"
   ]
  },
  {
   "cell_type": "markdown",
   "metadata": {},
   "source": [
    "### RR (internal) field, a.k.a. Readout Required:\n",
    "#### If a record is OLDER than 6 months, a readout will NOT be done.\n",
    "#### If a record's Compass Campaign Name is in an exclusion list (TBD), a readout will not be done.\n",
    "#### If either of the above conditions are met, set a \"NO\" value in the \"RR (internal)\" field, else set a \"YES\" value there"
   ]
  },
  {
   "cell_type": "code",
   "execution_count": 170,
   "metadata": {},
   "outputs": [],
   "source": [
    "campaign_exclusion_list = ['PROACTIVE - REFRESH LIST','REACTIVE - GROWTH INITIATIVE','PROACTIVE - CS RESEARCH','PROACTIVE - IGNORE','PROACTIVE - TAC LEAD','TEST','TEST REQUEST','REACTIVE - BDM','ACCELERATOR','PROACTIVE - PRESALES ALIGN PITSTOP EFFORT','REACTIVE - CISCOREADY','REACTIVE - PARTNER','REACTIVE - PARTNER.1','REACTIVE - PARTNER.2',]"
   ]
  },
  {
   "cell_type": "code",
   "execution_count": 171,
   "metadata": {},
   "outputs": [],
   "source": [
    "campaign_inclusion_list = ['AMERICAS SP','REACTIVE - UKI – SUZI','REACTIVE','REACTIVE - AOJC','REACTIVE - AMERICAS','BCS TARGETING AMERICAS','BCS TARGETING - UKI','REACTIVE - EMEAR','REACTIVE -GESW','BCS TARGETING AMERICAS-CANADA','BCS 3.0 TARGETING',]"
   ]
  },
  {
   "cell_type": "code",
   "execution_count": 172,
   "metadata": {},
   "outputs": [],
   "source": [
    "requester_exclusion_list = ['wzeliger@cisco.com','mragam@cisco.com','caltree@cisco.com','obustosm@cisco.com','antchris@cisco.com',\n",
    "                            'dadiaspe@cisco.com','lsweidan@cisco.com','jforgy@cisco.com','jguggenhe@cisco.com', 'stehartm@cisco.com',\n",
    "                            'abdulham@cisco.com','pamohan@cisco.com','charpost@cisco.com','javalenc@cisco.com','kkaler@cisco.com']"
   ]
  },
  {
   "cell_type": "code",
   "execution_count": 173,
   "metadata": {},
   "outputs": [],
   "source": [
    "lookback_date = dt.datetime.now().date() + dt.timedelta(days = -92)"
   ]
  },
  {
   "cell_type": "code",
   "execution_count": 174,
   "metadata": {},
   "outputs": [
    {
     "data": {
      "text/plain": [
       "datetime.date(2021, 12, 1)"
      ]
     },
     "execution_count": 174,
     "metadata": {},
     "output_type": "execute_result"
    }
   ],
   "source": [
    "lookback_date"
   ]
  },
  {
   "cell_type": "code",
   "execution_count": 175,
   "metadata": {},
   "outputs": [
    {
     "data": {
      "text/html": [
       "<div>\n",
       "<style scoped>\n",
       "    .dataframe tbody tr th:only-of-type {\n",
       "        vertical-align: middle;\n",
       "    }\n",
       "\n",
       "    .dataframe tbody tr th {\n",
       "        vertical-align: top;\n",
       "    }\n",
       "\n",
       "    .dataframe thead th {\n",
       "        text-align: right;\n",
       "    }\n",
       "</style>\n",
       "<table border=\"1\" class=\"dataframe\">\n",
       "  <thead>\n",
       "    <tr style=\"text-align: right;\">\n",
       "      <th></th>\n",
       "      <th>Created By</th>\n",
       "      <th>Customer Name</th>\n",
       "      <th>GUID</th>\n",
       "      <th>Deal ID</th>\n",
       "      <th>Requester Name</th>\n",
       "      <th>Campaign</th>\n",
       "    </tr>\n",
       "  </thead>\n",
       "  <tbody>\n",
       "  </tbody>\n",
       "</table>\n",
       "</div>"
      ],
      "text/plain": [
       "Empty DataFrame\n",
       "Columns: [Created By, Customer Name, GUID, Deal ID, Requester Name, Campaign]\n",
       "Index: []"
      ]
     },
     "execution_count": 175,
     "metadata": {},
     "output_type": "execute_result"
    }
   ],
   "source": [
    "### Sanity Indicator - Are there records without the Request ID?\n",
    "df.loc[df['Request ID'].isnull()][['Created By','Customer Name','GUID','Deal ID','Requester Name','Campaign',]] #.groupby(['Created By'])"
   ]
  },
  {
   "cell_type": "code",
   "execution_count": 176,
   "metadata": {},
   "outputs": [],
   "source": [
    "df = df.loc[df['Request ID'].notnull()]"
   ]
  },
  {
   "cell_type": "code",
   "execution_count": 177,
   "metadata": {},
   "outputs": [],
   "source": [
    "not_in_list = ['test','test request','accelerator','proactive - ignore']"
   ]
  },
  {
   "cell_type": "code",
   "execution_count": 178,
   "metadata": {},
   "outputs": [],
   "source": [
    "df = df.loc[~df['Campaign'].str.lower().isin(not_in_list)]"
   ]
  },
  {
   "cell_type": "code",
   "execution_count": 179,
   "metadata": {},
   "outputs": [],
   "source": [
    "# guidtest1 = '6829690,35452880,89286617'\n",
    "# guidtest2 = '512349548'"
   ]
  },
  {
   "cell_type": "code",
   "execution_count": 180,
   "metadata": {},
   "outputs": [],
   "source": [
    "# print(guidtest1.split(','), guidtest2.split(','))"
   ]
  },
  {
   "cell_type": "code",
   "execution_count": 181,
   "metadata": {},
   "outputs": [],
   "source": [
    "### Start with GUID. If GUID is None, use CAV ID, if CAV ID, is None, use CustomerName, if GUID is bad or a list with unacceptable alpha lexicon values, use CustomerName\n",
    "\n",
    "def make_fake_guid(guid, cavid, customername):\n",
    "    import pdb\n",
    "    if pd.isnull(guid):\n",
    "        if pd.isnull(cavid) or cavid == -999:\n",
    "            return str(customername[:10])\n",
    "        else:\n",
    "            if not isinstance(cavid, int):\n",
    "                cavid = cavid.split(',')\n",
    "                return str(cavid[0])\n",
    "    elif not isinstance(guid,int):\n",
    "        try:\n",
    "            if isinstance(guid,float):\n",
    "                guid = str(int(guid))\n",
    "                return guid\n",
    "            \n",
    "            elif isinstance(guid,str):\n",
    "                guid = guid.split(',')\n",
    "                guid = str(guid[0])\n",
    "                return guid\n",
    "        except:\n",
    "            return str(guid)\n",
    "    else:\n",
    "        return str(guid)"
   ]
  },
  {
   "cell_type": "code",
   "execution_count": 182,
   "metadata": {},
   "outputs": [],
   "source": [
    "# make_fake_guid(np.nan, guidtest1, 'Jac')"
   ]
  },
  {
   "cell_type": "code",
   "execution_count": 183,
   "metadata": {
    "tags": []
   },
   "outputs": [],
   "source": [
    "# ### Start with GUID. If GUID is None, use CAV ID, if CAV ID, is None, use CustomerName, if GUID is bad or a list with unacceptable alpha lexicon values, use CustomerName\n",
    "# ### OLD METHOD from Smartsheet\n",
    "\n",
    "# def make_fake_guid(guid, cavid, customername):\n",
    "#     if pd.isnull(guid):\n",
    "#         if pd.isnull(cavid):\n",
    "#             return str(customername[:10])\n",
    "#         elif isinstance(cavid, float):\n",
    "#             return str(int(cavid))\n",
    "#         elif ',' in cavid:\n",
    "#             quicklist = list(cavid.split(','))\n",
    "#             return str(int(quicklist[0]))\n",
    "#         else:\n",
    "#             return str(int(cavid))\n",
    "#     elif type(guid) == float:\n",
    "#         return str(int(guid))\n",
    "    \n",
    "#     elif isinstance(guid, str):\n",
    "#         quicklist = list(cavid.split(','))\n",
    "#         return str(int(quicklist[0]))\n",
    "        \n",
    "#         if int(guid):\n",
    "#             return str(int(guid))\n",
    "#         else:\n",
    "#             return str(customername[:10])\n",
    "    \n",
    "#     elif ',' in guid:\n",
    "#         quicklist = list(guid.split(','))\n",
    "#         return str(int(quicklist[0]))\n",
    "    \n",
    "#     elif ';' in guid:\n",
    "#         quicklist = list(guid.split(';'))\n",
    "#         return str(int(quicklist[0]))\n",
    "    \n",
    "#     elif '\\r\\n' in guid:\n",
    "#         quicklist = list(guid.split('\\r\\n'))\n",
    "#         return str(int(quicklist[0]))\n",
    "    \n",
    "#     elif guid == '-':\n",
    "#         return str(customername[:10])\n",
    "        \n",
    "#     elif str(guid).isalpha():\n",
    "#         return str(customername[:10])\n",
    "    \n",
    "#     elif ' ' in guid:\n",
    "#         quicklist = list(guid.split(' '))\n",
    "#         if quicklist[0].isalpha():\n",
    "#             return str(customername[:10])\n",
    "#         else:\n",
    "#             return str(int(quicklist[0]))\n",
    "    \n",
    "#     elif len(str(guid)) > 12:\n",
    "#         return str(guid)[:12]\n",
    "    \n",
    "#     else:\n",
    "#         return str(guid)"
   ]
  },
  {
   "cell_type": "code",
   "execution_count": 184,
   "metadata": {},
   "outputs": [],
   "source": [
    "df['FakeID'] = df.apply(lambda x: make_fake_guid(x['GUID'], x['CAV ID'], x['Squeezed']), axis=1)"
   ]
  },
  {
   "cell_type": "code",
   "execution_count": 185,
   "metadata": {},
   "outputs": [
    {
     "data": {
      "text/html": [
       "<div>\n",
       "<style scoped>\n",
       "    .dataframe tbody tr th:only-of-type {\n",
       "        vertical-align: middle;\n",
       "    }\n",
       "\n",
       "    .dataframe tbody tr th {\n",
       "        vertical-align: top;\n",
       "    }\n",
       "\n",
       "    .dataframe thead th {\n",
       "        text-align: right;\n",
       "    }\n",
       "</style>\n",
       "<table border=\"1\" class=\"dataframe\">\n",
       "  <thead>\n",
       "    <tr style=\"text-align: right;\">\n",
       "      <th></th>\n",
       "      <th>Request ID</th>\n",
       "      <th>GUID</th>\n",
       "      <th>FakeID</th>\n",
       "    </tr>\n",
       "  </thead>\n",
       "  <tbody>\n",
       "    <tr>\n",
       "      <th>0</th>\n",
       "      <td>112652</td>\n",
       "      <td>3967128,73909</td>\n",
       "      <td>3967128</td>\n",
       "    </tr>\n",
       "    <tr>\n",
       "      <th>1</th>\n",
       "      <td>111949</td>\n",
       "      <td>179365505</td>\n",
       "      <td>179365505</td>\n",
       "    </tr>\n",
       "    <tr>\n",
       "      <th>2</th>\n",
       "      <td>111948</td>\n",
       "      <td>254033997,122674843,144688312,187444876,236144...</td>\n",
       "      <td>254033997</td>\n",
       "    </tr>\n",
       "    <tr>\n",
       "      <th>3</th>\n",
       "      <td>111647</td>\n",
       "      <td>40456091</td>\n",
       "      <td>40456091</td>\n",
       "    </tr>\n",
       "    <tr>\n",
       "      <th>4</th>\n",
       "      <td>111648</td>\n",
       "      <td>41318866</td>\n",
       "      <td>41318866</td>\n",
       "    </tr>\n",
       "    <tr>\n",
       "      <th>...</th>\n",
       "      <td>...</td>\n",
       "      <td>...</td>\n",
       "      <td>...</td>\n",
       "    </tr>\n",
       "    <tr>\n",
       "      <th>37371</th>\n",
       "      <td>107566</td>\n",
       "      <td>10368781</td>\n",
       "      <td>10368781</td>\n",
       "    </tr>\n",
       "    <tr>\n",
       "      <th>37372</th>\n",
       "      <td>107567</td>\n",
       "      <td>320903967</td>\n",
       "      <td>320903967</td>\n",
       "    </tr>\n",
       "    <tr>\n",
       "      <th>37373</th>\n",
       "      <td>107568</td>\n",
       "      <td>3773236</td>\n",
       "      <td>3773236</td>\n",
       "    </tr>\n",
       "    <tr>\n",
       "      <th>37374</th>\n",
       "      <td>107569</td>\n",
       "      <td>2134315</td>\n",
       "      <td>2134315</td>\n",
       "    </tr>\n",
       "    <tr>\n",
       "      <th>37375</th>\n",
       "      <td>107570</td>\n",
       "      <td>4453896</td>\n",
       "      <td>4453896</td>\n",
       "    </tr>\n",
       "  </tbody>\n",
       "</table>\n",
       "<p>37314 rows × 3 columns</p>\n",
       "</div>"
      ],
      "text/plain": [
       "      Request ID                                               GUID     FakeID\n",
       "0         112652                                      3967128,73909    3967128\n",
       "1         111949                                          179365505  179365505\n",
       "2         111948  254033997,122674843,144688312,187444876,236144...  254033997\n",
       "3         111647                                           40456091   40456091\n",
       "4         111648                                           41318866   41318866\n",
       "...          ...                                                ...        ...\n",
       "37371     107566                                           10368781   10368781\n",
       "37372     107567                                          320903967  320903967\n",
       "37373     107568                                            3773236    3773236\n",
       "37374     107569                                            2134315    2134315\n",
       "37375     107570                                            4453896    4453896\n",
       "\n",
       "[37314 rows x 3 columns]"
      ]
     },
     "execution_count": 185,
     "metadata": {},
     "output_type": "execute_result"
    }
   ],
   "source": [
    "df[['Request ID','GUID','FakeID']]"
   ]
  },
  {
   "cell_type": "code",
   "execution_count": 186,
   "metadata": {},
   "outputs": [],
   "source": [
    "def make_hash_entity(prehash_entity, bdm, readoutdate, items_recommded):    #compassurl, \n",
    "    entity_to_hash = str(prehash_entity).upper() + '_' + str(bdm).upper() + '_' + str(readoutdate) + '_' + str(items_recommded).upper()   #str(compassurl).upper() + '_' + \n",
    "    return entity_to_hash"
   ]
  },
  {
   "cell_type": "code",
   "execution_count": 187,
   "metadata": {},
   "outputs": [],
   "source": [
    "df['Prehash_Entity'] = df.apply(lambda x: x['Prepend'] + x['FakeID'], axis=1)"
   ]
  },
  {
   "cell_type": "code",
   "execution_count": 188,
   "metadata": {},
   "outputs": [
    {
     "data": {
      "text/html": [
       "<div>\n",
       "<style scoped>\n",
       "    .dataframe tbody tr th:only-of-type {\n",
       "        vertical-align: middle;\n",
       "    }\n",
       "\n",
       "    .dataframe tbody tr th {\n",
       "        vertical-align: top;\n",
       "    }\n",
       "\n",
       "    .dataframe thead th {\n",
       "        text-align: right;\n",
       "    }\n",
       "</style>\n",
       "<table border=\"1\" class=\"dataframe\">\n",
       "  <thead>\n",
       "    <tr style=\"text-align: right;\">\n",
       "      <th></th>\n",
       "      <th>Request ID</th>\n",
       "      <th>Create Date</th>\n",
       "      <th>Customer Name</th>\n",
       "      <th>GUID</th>\n",
       "      <th>FakeID</th>\n",
       "      <th>CAV ID</th>\n",
       "      <th>Prepend</th>\n",
       "      <th>Prehash_Entity</th>\n",
       "    </tr>\n",
       "  </thead>\n",
       "  <tbody>\n",
       "    <tr>\n",
       "      <th>0</th>\n",
       "      <td>112652</td>\n",
       "      <td>2022-02-17 22:26:29.919</td>\n",
       "      <td>ENBRIDGE INC</td>\n",
       "      <td>3967128,73909</td>\n",
       "      <td>3967128</td>\n",
       "      <td>NaN</td>\n",
       "      <td>EN</td>\n",
       "      <td>EN3967128</td>\n",
       "    </tr>\n",
       "    <tr>\n",
       "      <th>1</th>\n",
       "      <td>111949</td>\n",
       "      <td>2022-02-07 04:16:24.656</td>\n",
       "      <td>TRAFIKVERKET</td>\n",
       "      <td>179365505</td>\n",
       "      <td>179365505</td>\n",
       "      <td>NaN</td>\n",
       "      <td>TR</td>\n",
       "      <td>TR179365505</td>\n",
       "    </tr>\n",
       "    <tr>\n",
       "      <th>2</th>\n",
       "      <td>111948</td>\n",
       "      <td>2022-02-07 03:57:07.084</td>\n",
       "      <td>CENTRAL GOVERNMENT UK</td>\n",
       "      <td>254033997,122674843,144688312,187444876,236144...</td>\n",
       "      <td>254033997</td>\n",
       "      <td>NaN</td>\n",
       "      <td>CE</td>\n",
       "      <td>CE254033997</td>\n",
       "    </tr>\n",
       "    <tr>\n",
       "      <th>3</th>\n",
       "      <td>111647</td>\n",
       "      <td>2022-01-28 07:47:12.834</td>\n",
       "      <td>FRIEDE SPRINGER GMBH &amp; CO. KG</td>\n",
       "      <td>40456091</td>\n",
       "      <td>40456091</td>\n",
       "      <td>562367</td>\n",
       "      <td>FR</td>\n",
       "      <td>FR40456091</td>\n",
       "    </tr>\n",
       "    <tr>\n",
       "      <th>4</th>\n",
       "      <td>111648</td>\n",
       "      <td>2022-01-28 07:47:15.071</td>\n",
       "      <td>GLOBAL MOBILITY HOLDING BV</td>\n",
       "      <td>41318866</td>\n",
       "      <td>41318866</td>\n",
       "      <td>173452</td>\n",
       "      <td>GL</td>\n",
       "      <td>GL41318866</td>\n",
       "    </tr>\n",
       "    <tr>\n",
       "      <th>...</th>\n",
       "      <td>...</td>\n",
       "      <td>...</td>\n",
       "      <td>...</td>\n",
       "      <td>...</td>\n",
       "      <td>...</td>\n",
       "      <td>...</td>\n",
       "      <td>...</td>\n",
       "      <td>...</td>\n",
       "    </tr>\n",
       "    <tr>\n",
       "      <th>37371</th>\n",
       "      <td>107566</td>\n",
       "      <td>2021-11-24 20:53:28.591</td>\n",
       "      <td>SYNCRO CORPORATION</td>\n",
       "      <td>10368781</td>\n",
       "      <td>10368781</td>\n",
       "      <td>NaN</td>\n",
       "      <td>SY</td>\n",
       "      <td>SY10368781</td>\n",
       "    </tr>\n",
       "    <tr>\n",
       "      <th>37372</th>\n",
       "      <td>107567</td>\n",
       "      <td>2021-11-24 20:53:33.745</td>\n",
       "      <td>ENCOMPASS HEALTH CORPORATION</td>\n",
       "      <td>320903967</td>\n",
       "      <td>320903967</td>\n",
       "      <td>NaN</td>\n",
       "      <td>EN</td>\n",
       "      <td>EN320903967</td>\n",
       "    </tr>\n",
       "    <tr>\n",
       "      <th>37373</th>\n",
       "      <td>107568</td>\n",
       "      <td>2021-11-24 20:53:38.865</td>\n",
       "      <td>SLIDELL MEMORIAL HOSPITAL</td>\n",
       "      <td>3773236</td>\n",
       "      <td>3773236</td>\n",
       "      <td>NaN</td>\n",
       "      <td>SL</td>\n",
       "      <td>SL3773236</td>\n",
       "    </tr>\n",
       "    <tr>\n",
       "      <th>37374</th>\n",
       "      <td>107569</td>\n",
       "      <td>2021-11-24 20:53:44.214</td>\n",
       "      <td>MILLIPORE SIGMA</td>\n",
       "      <td>2134315</td>\n",
       "      <td>2134315</td>\n",
       "      <td>NaN</td>\n",
       "      <td>MI</td>\n",
       "      <td>MI2134315</td>\n",
       "    </tr>\n",
       "    <tr>\n",
       "      <th>37375</th>\n",
       "      <td>107570</td>\n",
       "      <td>2021-11-24 20:53:49.386</td>\n",
       "      <td>CENTRAL ELECTRIC COMPANY</td>\n",
       "      <td>4453896</td>\n",
       "      <td>4453896</td>\n",
       "      <td>NaN</td>\n",
       "      <td>CE</td>\n",
       "      <td>CE4453896</td>\n",
       "    </tr>\n",
       "  </tbody>\n",
       "</table>\n",
       "<p>37314 rows × 8 columns</p>\n",
       "</div>"
      ],
      "text/plain": [
       "      Request ID             Create Date                  Customer Name  \\\n",
       "0         112652 2022-02-17 22:26:29.919                   ENBRIDGE INC   \n",
       "1         111949 2022-02-07 04:16:24.656                   TRAFIKVERKET   \n",
       "2         111948 2022-02-07 03:57:07.084          CENTRAL GOVERNMENT UK   \n",
       "3         111647 2022-01-28 07:47:12.834  FRIEDE SPRINGER GMBH & CO. KG   \n",
       "4         111648 2022-01-28 07:47:15.071     GLOBAL MOBILITY HOLDING BV   \n",
       "...          ...                     ...                            ...   \n",
       "37371     107566 2021-11-24 20:53:28.591             SYNCRO CORPORATION   \n",
       "37372     107567 2021-11-24 20:53:33.745   ENCOMPASS HEALTH CORPORATION   \n",
       "37373     107568 2021-11-24 20:53:38.865      SLIDELL MEMORIAL HOSPITAL   \n",
       "37374     107569 2021-11-24 20:53:44.214                MILLIPORE SIGMA   \n",
       "37375     107570 2021-11-24 20:53:49.386       CENTRAL ELECTRIC COMPANY   \n",
       "\n",
       "                                                    GUID     FakeID  CAV ID  \\\n",
       "0                                          3967128,73909    3967128     NaN   \n",
       "1                                              179365505  179365505     NaN   \n",
       "2      254033997,122674843,144688312,187444876,236144...  254033997     NaN   \n",
       "3                                               40456091   40456091  562367   \n",
       "4                                               41318866   41318866  173452   \n",
       "...                                                  ...        ...     ...   \n",
       "37371                                           10368781   10368781     NaN   \n",
       "37372                                          320903967  320903967     NaN   \n",
       "37373                                            3773236    3773236     NaN   \n",
       "37374                                            2134315    2134315     NaN   \n",
       "37375                                            4453896    4453896     NaN   \n",
       "\n",
       "      Prepend Prehash_Entity  \n",
       "0          EN      EN3967128  \n",
       "1          TR    TR179365505  \n",
       "2          CE    CE254033997  \n",
       "3          FR     FR40456091  \n",
       "4          GL     GL41318866  \n",
       "...       ...            ...  \n",
       "37371      SY     SY10368781  \n",
       "37372      EN    EN320903967  \n",
       "37373      SL      SL3773236  \n",
       "37374      MI      MI2134315  \n",
       "37375      CE      CE4453896  \n",
       "\n",
       "[37314 rows x 8 columns]"
      ]
     },
     "execution_count": 188,
     "metadata": {},
     "output_type": "execute_result"
    }
   ],
   "source": [
    "df.loc[df['Prehash_Entity'].notnull()][['Request ID','Create Date','Customer Name','GUID','FakeID','CAV ID','Prepend','Prehash_Entity']]"
   ]
  },
  {
   "cell_type": "markdown",
   "metadata": {},
   "source": [
    "## Set the Deal ID on the Refresh Record based upon the Previous Request ID"
   ]
  },
  {
   "cell_type": "code",
   "execution_count": 189,
   "metadata": {},
   "outputs": [],
   "source": [
    "# request_dealid_dict = {}\n",
    "req_dealids = df[['Request ID','Deal ID']].copy()\n",
    "req_dealids = req_dealids.dropna(how='any', axis=0)\n",
    "req_dealids.set_index('Request ID', inplace=True)\n",
    "request_dealid_dict = req_dealids.to_dict()"
   ]
  },
  {
   "cell_type": "code",
   "execution_count": 190,
   "metadata": {},
   "outputs": [],
   "source": [
    "# request_dealid_dict['Deal ID']['2021202114287']"
   ]
  },
  {
   "cell_type": "code",
   "execution_count": 191,
   "metadata": {},
   "outputs": [],
   "source": [
    "def get_the_deal_id(requestid):\n",
    "    dealid = None\n",
    "    if requestid in request_dealid_dict['Deal ID']:\n",
    "        dealid = request_dealid_dict['Deal ID'][requestid]\n",
    "        if isinstance(dealid, list):\n",
    "            return dealid\n",
    "        elif isinstance(dealid, str) and not dealid.isalpha():\n",
    "            return dealid\n",
    "        elif isinstance(dealid, float):\n",
    "            return int(dealid)\n",
    "        else:\n",
    "            return dealid\n",
    "    else:\n",
    "        return None"
   ]
  },
  {
   "cell_type": "code",
   "execution_count": 192,
   "metadata": {},
   "outputs": [],
   "source": [
    "# get_the_deal_id('202120211223236')\n",
    "# df['Prior Deal ID'] = df['Previous Request ID'].apply(get_the_deal_id)"
   ]
  },
  {
   "cell_type": "code",
   "execution_count": 193,
   "metadata": {},
   "outputs": [],
   "source": [
    "# df.loc[df['Prior Deal ID'].notnull() & df['Compass Campaign Name'].str.contains('close the gap', case=False)][['Request ID','Previous Request ID','Prior Deal ID','Deal ID','Compass Campaign Name']]"
   ]
  },
  {
   "cell_type": "code",
   "execution_count": 194,
   "metadata": {},
   "outputs": [],
   "source": [
    "df['Entity_to_hash'] = pd.NA"
   ]
  },
  {
   "cell_type": "code",
   "execution_count": 195,
   "metadata": {},
   "outputs": [],
   "source": [
    "def is_this_a_targeting_campaign(compass_campaign_name):\n",
    "    if pd.isnull(compass_campaign_name):\n",
    "        return False\n",
    "    else:\n",
    "        compass_campaign_name = str(compass_campaign_name)\n",
    "    \n",
    "    if 'major' in compass_campaign_name.lower():\n",
    "        return True\n",
    "    elif 'sspt' in compass_campaign_name.lower():\n",
    "        return True\n",
    "    elif 'solution' in compass_campaign_name.lower():\n",
    "        return True\n",
    "    elif 'success' in compass_campaign_name.lower():\n",
    "        return True\n",
    "    elif 'st target' in compass_campaign_name.lower():\n",
    "        return True\n",
    "    elif 'ctu' in compass_campaign_name.lower():\n",
    "        return True\n",
    "    elif 'bcs' in compass_campaign_name.lower():\n",
    "        return True\n",
    "    elif 'partner' in compass_campaign_name.lower():\n",
    "        return False\n",
    "    else:\n",
    "        return False"
   ]
  },
  {
   "cell_type": "code",
   "execution_count": 196,
   "metadata": {},
   "outputs": [],
   "source": [
    "df['is_Targeting_Campaign'] = df['Campaign'].apply(is_this_a_targeting_campaign)"
   ]
  },
  {
   "cell_type": "code",
   "execution_count": 197,
   "metadata": {},
   "outputs": [],
   "source": [
    "def set_targeting_campaign_type(compass_campaign_name):\n",
    "    compass_campaign_name = str(compass_campaign_name)\n",
    "    \n",
    "    if 'major' in compass_campaign_name.lower():\n",
    "        return \"MAJORS\"\n",
    "    elif 'sspt' in compass_campaign_name.lower():\n",
    "        return \"SSPT\"\n",
    "    elif 'solution' in compass_campaign_name.lower():\n",
    "        return \"SSPT\"\n",
    "    elif 'success' in compass_campaign_name.lower():\n",
    "        return \"SUCCESSTRACKS\"\n",
    "    elif 'st target' in compass_campaign_name.lower():\n",
    "        return \"SUCCESSTRACKS\"\n",
    "    elif 'ctu' in compass_campaign_name.lower():\n",
    "        return \"SNTC\"\n",
    "    elif 'bcs' in compass_campaign_name.lower():\n",
    "        return \"BCS\"\n",
    "    elif 'partner' in compass_campaign_name.lower():\n",
    "        return 'PARTNER'\n",
    "    else:\n",
    "        return \"NON-TARGETING\""
   ]
  },
  {
   "cell_type": "code",
   "execution_count": 198,
   "metadata": {},
   "outputs": [],
   "source": [
    "df['Targeting Campaign Type'] = df['Campaign'].apply(set_targeting_campaign_type)"
   ]
  },
  {
   "cell_type": "code",
   "execution_count": null,
   "metadata": {},
   "outputs": [],
   "source": []
  },
  {
   "cell_type": "code",
   "execution_count": null,
   "metadata": {},
   "outputs": [],
   "source": []
  },
  {
   "cell_type": "code",
   "execution_count": 199,
   "metadata": {},
   "outputs": [],
   "source": [
    "# def set_record_type(previous_request_id):\n",
    "#     if not pd.isnull(previous_request_id):\n",
    "#         return 'Refreshed'\n",
    "#     else:\n",
    "#         return 'Original'"
   ]
  },
  {
   "cell_type": "code",
   "execution_count": 200,
   "metadata": {},
   "outputs": [],
   "source": [
    "# df['Record Type'] = df['Previous Request ID'].apply(set_record_type)"
   ]
  },
  {
   "cell_type": "code",
   "execution_count": null,
   "metadata": {},
   "outputs": [],
   "source": []
  },
  {
   "cell_type": "markdown",
   "metadata": {},
   "source": [
    "### We are Hashing the Company ID, the Compass Advisor, the Readout_Date/Scheduled, and the Items Recommended"
   ]
  },
  {
   "cell_type": "code",
   "execution_count": 201,
   "metadata": {},
   "outputs": [],
   "source": [
    "df.loc[(df['Items Recommended'].notnull()) | ((df['Readout Delivery Status'].notnull()) & (~df['Readout Delivery Status'].isin(['Declined','Postponed']))) & (df['Compass Advisor'].notnull()),'Entity_to_hash'] = \\\n",
    "df.loc[(df['Items Recommended'].notnull()) | ((df['Readout Delivery Status'].notnull()) & (~df['Readout Delivery Status'].isin(['Declined','Postponed']))) & (df['Compass Advisor'].notnull())].apply(lambda x: make_hash_entity(x['Prehash_Entity'], x['Compass Advisor'], x['Readout_Date'], x['Items Recommended']), axis=1)"
   ]
  },
  {
   "cell_type": "code",
   "execution_count": 202,
   "metadata": {},
   "outputs": [],
   "source": [
    "def hash_the_readout(entity_to_hash):\n",
    "    #if pd.isnull(entity_to_hash):  #or entity_to_hash == 'NA'\n",
    "    if not entity_to_hash:\n",
    "        return pd.NA\n",
    "    else:\n",
    "        entity_to_hash = entity_to_hash.encode()\n",
    "        hashed = hashlib.md5(entity_to_hash)\n",
    "        hashed = str(hashed.hexdigest())\n",
    "        return hashed"
   ]
  },
  {
   "cell_type": "code",
   "execution_count": 203,
   "metadata": {},
   "outputs": [],
   "source": [
    "df['HashedReadout'] = pd.NA"
   ]
  },
  {
   "cell_type": "code",
   "execution_count": 204,
   "metadata": {},
   "outputs": [],
   "source": [
    "df.loc[df['Entity_to_hash'].notnull(),'HashedReadout'] = df.loc[df['Entity_to_hash'].notnull()].apply(lambda x: hash_the_readout(x['Entity_to_hash']), axis =1)"
   ]
  },
  {
   "cell_type": "code",
   "execution_count": 205,
   "metadata": {},
   "outputs": [
    {
     "data": {
      "text/html": [
       "<div>\n",
       "<style scoped>\n",
       "    .dataframe tbody tr th:only-of-type {\n",
       "        vertical-align: middle;\n",
       "    }\n",
       "\n",
       "    .dataframe tbody tr th {\n",
       "        vertical-align: top;\n",
       "    }\n",
       "\n",
       "    .dataframe thead th {\n",
       "        text-align: right;\n",
       "    }\n",
       "</style>\n",
       "<table border=\"1\" class=\"dataframe\">\n",
       "  <thead>\n",
       "    <tr style=\"text-align: right;\">\n",
       "      <th></th>\n",
       "      <th>Request ID</th>\n",
       "      <th>HashedReadout</th>\n",
       "    </tr>\n",
       "  </thead>\n",
       "  <tbody>\n",
       "    <tr>\n",
       "      <th>1</th>\n",
       "      <td>111949</td>\n",
       "      <td>f0aaa98058ee49a8ec07b2a85c0a5736</td>\n",
       "    </tr>\n",
       "    <tr>\n",
       "      <th>33</th>\n",
       "      <td>111333</td>\n",
       "      <td>75ef3002862e107f66e9add00fb55a43</td>\n",
       "    </tr>\n",
       "    <tr>\n",
       "      <th>39</th>\n",
       "      <td>111236</td>\n",
       "      <td>2091d0524ee0bd5bffe0755fcf15dfc7</td>\n",
       "    </tr>\n",
       "    <tr>\n",
       "      <th>40</th>\n",
       "      <td>111181</td>\n",
       "      <td>c460162b4a36ecf4b12e70daa98c23ed</td>\n",
       "    </tr>\n",
       "    <tr>\n",
       "      <th>41</th>\n",
       "      <td>111126</td>\n",
       "      <td>ff73c3631e4b63fa902f39b78375e521</td>\n",
       "    </tr>\n",
       "    <tr>\n",
       "      <th>...</th>\n",
       "      <td>...</td>\n",
       "      <td>...</td>\n",
       "    </tr>\n",
       "    <tr>\n",
       "      <th>37371</th>\n",
       "      <td>107566</td>\n",
       "      <td>8b7b0aebae31b2a3130b9a1251b603cd</td>\n",
       "    </tr>\n",
       "    <tr>\n",
       "      <th>37372</th>\n",
       "      <td>107567</td>\n",
       "      <td>dcbfcc3664ab6063160cf23817ae8636</td>\n",
       "    </tr>\n",
       "    <tr>\n",
       "      <th>37373</th>\n",
       "      <td>107568</td>\n",
       "      <td>e51a7718bad6cd5bf5a2caad877af536</td>\n",
       "    </tr>\n",
       "    <tr>\n",
       "      <th>37374</th>\n",
       "      <td>107569</td>\n",
       "      <td>23880ed49b4c61890731eee5eac8dfed</td>\n",
       "    </tr>\n",
       "    <tr>\n",
       "      <th>37375</th>\n",
       "      <td>107570</td>\n",
       "      <td>33a6ffd450f4557080a94ac927589202</td>\n",
       "    </tr>\n",
       "  </tbody>\n",
       "</table>\n",
       "<p>8182 rows × 2 columns</p>\n",
       "</div>"
      ],
      "text/plain": [
       "      Request ID                     HashedReadout\n",
       "1         111949  f0aaa98058ee49a8ec07b2a85c0a5736\n",
       "33        111333  75ef3002862e107f66e9add00fb55a43\n",
       "39        111236  2091d0524ee0bd5bffe0755fcf15dfc7\n",
       "40        111181  c460162b4a36ecf4b12e70daa98c23ed\n",
       "41        111126  ff73c3631e4b63fa902f39b78375e521\n",
       "...          ...                               ...\n",
       "37371     107566  8b7b0aebae31b2a3130b9a1251b603cd\n",
       "37372     107567  dcbfcc3664ab6063160cf23817ae8636\n",
       "37373     107568  e51a7718bad6cd5bf5a2caad877af536\n",
       "37374     107569  23880ed49b4c61890731eee5eac8dfed\n",
       "37375     107570  33a6ffd450f4557080a94ac927589202\n",
       "\n",
       "[8182 rows x 2 columns]"
      ]
     },
     "execution_count": 205,
     "metadata": {},
     "output_type": "execute_result"
    }
   ],
   "source": [
    "df.loc[df['Entity_to_hash'].notnull()][['Request ID','HashedReadout']]"
   ]
  },
  {
   "cell_type": "code",
   "execution_count": 206,
   "metadata": {},
   "outputs": [
    {
     "data": {
      "text/html": [
       "<div>\n",
       "<style scoped>\n",
       "    .dataframe tbody tr th:only-of-type {\n",
       "        vertical-align: middle;\n",
       "    }\n",
       "\n",
       "    .dataframe tbody tr th {\n",
       "        vertical-align: top;\n",
       "    }\n",
       "\n",
       "    .dataframe thead th {\n",
       "        text-align: right;\n",
       "    }\n",
       "</style>\n",
       "<table border=\"1\" class=\"dataframe\">\n",
       "  <thead>\n",
       "    <tr style=\"text-align: right;\">\n",
       "      <th></th>\n",
       "      <th>Request ID</th>\n",
       "      <th>Create Date</th>\n",
       "      <th>Customer Name</th>\n",
       "      <th>GUID</th>\n",
       "      <th>Partner Name</th>\n",
       "      <th>Prehash_Entity</th>\n",
       "      <th>Compass Advisor</th>\n",
       "      <th>Readout_Date</th>\n",
       "      <th>Readout Delivery Status</th>\n",
       "      <th>Items Recommended</th>\n",
       "      <th>Entity_to_hash</th>\n",
       "      <th>HashedReadout</th>\n",
       "    </tr>\n",
       "  </thead>\n",
       "  <tbody>\n",
       "    <tr>\n",
       "      <th>4439</th>\n",
       "      <td>111999</td>\n",
       "      <td>2022-02-08 23:18:47.963</td>\n",
       "      <td>WA-COUNTY OF KING</td>\n",
       "      <td>36324</td>\n",
       "      <td>None</td>\n",
       "      <td>WA36324</td>\n",
       "      <td>Mark Vodka</td>\n",
       "      <td>2022-03-04</td>\n",
       "      <td>NaN</td>\n",
       "      <td>BCS,DNA,EC-AM,EC-HTOM,EC-KT,IRR,PR,SNTC,ST,SSPT</td>\n",
       "      <td>WA36324_MARK VODKA_2022-03-04 00:00:00_BCS,DNA...</td>\n",
       "      <td>150b7a0c6d1a9a8840195514184a09a0</td>\n",
       "    </tr>\n",
       "    <tr>\n",
       "      <th>4995</th>\n",
       "      <td>112084</td>\n",
       "      <td>2022-02-15 15:30:57.444</td>\n",
       "      <td>INTERNATIONAL FLAVORS AND FRAGRANCES</td>\n",
       "      <td>10636</td>\n",
       "      <td>None</td>\n",
       "      <td>IN10636</td>\n",
       "      <td>Term</td>\n",
       "      <td>NaT</td>\n",
       "      <td>Complete</td>\n",
       "      <td>SNTC,SSPT,EC-HTOM,EC-KT,ST,BCS</td>\n",
       "      <td>IN10636_TERM_NaT_SNTC,SSPT,EC-HTOM,EC-KT,ST,BCS</td>\n",
       "      <td>e1e67bc9cfdcc04ad61302ccd9da79d2</td>\n",
       "    </tr>\n",
       "    <tr>\n",
       "      <th>5363</th>\n",
       "      <td>112993</td>\n",
       "      <td>2022-02-27 18:06:35.629</td>\n",
       "      <td>ANTEL URUGUAY,ANTEL URUGUAY ANCEL ANTEL ADMINI...</td>\n",
       "      <td>4548987,37398468</td>\n",
       "      <td>None</td>\n",
       "      <td>AN4548987</td>\n",
       "      <td>Term</td>\n",
       "      <td>NaT</td>\n",
       "      <td>NaN</td>\n",
       "      <td>BCS,BRW,DNA,EC-KT,PR,SNTC,SSPT,ST</td>\n",
       "      <td>AN4548987_TERM_NaT_BCS,BRW,DNA,EC-KT,PR,SNTC,S...</td>\n",
       "      <td>2a410c1578ea36a88ae1da92ac9ed44d</td>\n",
       "    </tr>\n",
       "    <tr>\n",
       "      <th>5364</th>\n",
       "      <td>112994</td>\n",
       "      <td>2022-02-27 18:06:38.609</td>\n",
       "      <td>BANCO DE CORDOBA BANCO DE CORDOBA SA BANCO DE ...</td>\n",
       "      <td>4549041</td>\n",
       "      <td>None</td>\n",
       "      <td>BA4549041</td>\n",
       "      <td>Term</td>\n",
       "      <td>NaT</td>\n",
       "      <td>NaN</td>\n",
       "      <td>BCS,BRW,EC-AM,EC-HTOM,IRR,EC-KT,PR,SNTC,SSPT,ST</td>\n",
       "      <td>BA4549041_TERM_NaT_BCS,BRW,EC-AM,EC-HTOM,IRR,E...</td>\n",
       "      <td>ded1a477ea302a0cce12773548cfa940</td>\n",
       "    </tr>\n",
       "    <tr>\n",
       "      <th>5365</th>\n",
       "      <td>112995</td>\n",
       "      <td>2022-02-27 18:06:41.082</td>\n",
       "      <td>BANCO DE LA CIUDAD DE BUENOS AIRES FUNDACION B...</td>\n",
       "      <td>4549017</td>\n",
       "      <td>None</td>\n",
       "      <td>BA4549017</td>\n",
       "      <td>Term</td>\n",
       "      <td>NaT</td>\n",
       "      <td>NaN</td>\n",
       "      <td>BCS,BRW,EC-KT,SNTC,SSPT,ST</td>\n",
       "      <td>BA4549017_TERM_NaT_BCS,BRW,EC-KT,SNTC,SSPT,ST</td>\n",
       "      <td>04b4f70916006e2d62d19c4f45dff67e</td>\n",
       "    </tr>\n",
       "    <tr>\n",
       "      <th>5373</th>\n",
       "      <td>112991</td>\n",
       "      <td>2022-02-27 18:06:29.805</td>\n",
       "      <td>EMPRESA ARGENTINA DE SOLUCIONES SATELITALES SA...</td>\n",
       "      <td>162532705,274993982,317887260,62680155,144364432</td>\n",
       "      <td>None</td>\n",
       "      <td>EM162532705</td>\n",
       "      <td>Term</td>\n",
       "      <td>NaT</td>\n",
       "      <td>NaN</td>\n",
       "      <td>BCS,BRW,EC-AM,EC-HTOM,EC-KT,IRR,PR,SNTC,SSPT,ST</td>\n",
       "      <td>EM162532705_TERM_NaT_BCS,BRW,EC-AM,EC-HTOM,EC-...</td>\n",
       "      <td>942bb1e3e8f3cd5b6a897b4de5a83830</td>\n",
       "    </tr>\n",
       "    <tr>\n",
       "      <th>5374</th>\n",
       "      <td>112992</td>\n",
       "      <td>2022-02-27 18:06:32.875</td>\n",
       "      <td>BANCO DE GALICIA Y BUENOS AIRES</td>\n",
       "      <td>179950255,4645125</td>\n",
       "      <td>None</td>\n",
       "      <td>BA179950255</td>\n",
       "      <td>Term</td>\n",
       "      <td>NaT</td>\n",
       "      <td>NaN</td>\n",
       "      <td>BCS,BRW,EC-HTOM,EC-AM,EC-KT,IRR,PR,SNTC,SSPT,ST</td>\n",
       "      <td>BA179950255_TERM_NaT_BCS,BRW,EC-HTOM,EC-AM,EC-...</td>\n",
       "      <td>59cd6822feed07c1eab407be0cea1f80</td>\n",
       "    </tr>\n",
       "  </tbody>\n",
       "</table>\n",
       "</div>"
      ],
      "text/plain": [
       "     Request ID             Create Date  \\\n",
       "4439     111999 2022-02-08 23:18:47.963   \n",
       "4995     112084 2022-02-15 15:30:57.444   \n",
       "5363     112993 2022-02-27 18:06:35.629   \n",
       "5364     112994 2022-02-27 18:06:38.609   \n",
       "5365     112995 2022-02-27 18:06:41.082   \n",
       "5373     112991 2022-02-27 18:06:29.805   \n",
       "5374     112992 2022-02-27 18:06:32.875   \n",
       "\n",
       "                                          Customer Name  \\\n",
       "4439                                  WA-COUNTY OF KING   \n",
       "4995               INTERNATIONAL FLAVORS AND FRAGRANCES   \n",
       "5363  ANTEL URUGUAY,ANTEL URUGUAY ANCEL ANTEL ADMINI...   \n",
       "5364  BANCO DE CORDOBA BANCO DE CORDOBA SA BANCO DE ...   \n",
       "5365  BANCO DE LA CIUDAD DE BUENOS AIRES FUNDACION B...   \n",
       "5373  EMPRESA ARGENTINA DE SOLUCIONES SATELITALES SA...   \n",
       "5374                    BANCO DE GALICIA Y BUENOS AIRES   \n",
       "\n",
       "                                                  GUID Partner Name  \\\n",
       "4439                                             36324         None   \n",
       "4995                                             10636         None   \n",
       "5363                                  4548987,37398468         None   \n",
       "5364                                           4549041         None   \n",
       "5365                                           4549017         None   \n",
       "5373  162532705,274993982,317887260,62680155,144364432         None   \n",
       "5374                                 179950255,4645125         None   \n",
       "\n",
       "     Prehash_Entity Compass Advisor Readout_Date Readout Delivery Status  \\\n",
       "4439        WA36324      Mark Vodka   2022-03-04                     NaN   \n",
       "4995        IN10636            Term          NaT                Complete   \n",
       "5363      AN4548987            Term          NaT                     NaN   \n",
       "5364      BA4549041            Term          NaT                     NaN   \n",
       "5365      BA4549017            Term          NaT                     NaN   \n",
       "5373    EM162532705            Term          NaT                     NaN   \n",
       "5374    BA179950255            Term          NaT                     NaN   \n",
       "\n",
       "                                    Items Recommended  \\\n",
       "4439  BCS,DNA,EC-AM,EC-HTOM,EC-KT,IRR,PR,SNTC,ST,SSPT   \n",
       "4995                   SNTC,SSPT,EC-HTOM,EC-KT,ST,BCS   \n",
       "5363                BCS,BRW,DNA,EC-KT,PR,SNTC,SSPT,ST   \n",
       "5364  BCS,BRW,EC-AM,EC-HTOM,IRR,EC-KT,PR,SNTC,SSPT,ST   \n",
       "5365                       BCS,BRW,EC-KT,SNTC,SSPT,ST   \n",
       "5373  BCS,BRW,EC-AM,EC-HTOM,EC-KT,IRR,PR,SNTC,SSPT,ST   \n",
       "5374  BCS,BRW,EC-HTOM,EC-AM,EC-KT,IRR,PR,SNTC,SSPT,ST   \n",
       "\n",
       "                                         Entity_to_hash  \\\n",
       "4439  WA36324_MARK VODKA_2022-03-04 00:00:00_BCS,DNA...   \n",
       "4995    IN10636_TERM_NaT_SNTC,SSPT,EC-HTOM,EC-KT,ST,BCS   \n",
       "5363  AN4548987_TERM_NaT_BCS,BRW,DNA,EC-KT,PR,SNTC,S...   \n",
       "5364  BA4549041_TERM_NaT_BCS,BRW,EC-AM,EC-HTOM,IRR,E...   \n",
       "5365      BA4549017_TERM_NaT_BCS,BRW,EC-KT,SNTC,SSPT,ST   \n",
       "5373  EM162532705_TERM_NaT_BCS,BRW,EC-AM,EC-HTOM,EC-...   \n",
       "5374  BA179950255_TERM_NaT_BCS,BRW,EC-HTOM,EC-AM,EC-...   \n",
       "\n",
       "                         HashedReadout  \n",
       "4439  150b7a0c6d1a9a8840195514184a09a0  \n",
       "4995  e1e67bc9cfdcc04ad61302ccd9da79d2  \n",
       "5363  2a410c1578ea36a88ae1da92ac9ed44d  \n",
       "5364  ded1a477ea302a0cce12773548cfa940  \n",
       "5365  04b4f70916006e2d62d19c4f45dff67e  \n",
       "5373  942bb1e3e8f3cd5b6a897b4de5a83830  \n",
       "5374  59cd6822feed07c1eab407be0cea1f80  "
      ]
     },
     "execution_count": 206,
     "metadata": {},
     "output_type": "execute_result"
    }
   ],
   "source": [
    "### Checking for Incomplete Readout Records\n",
    "\n",
    "df.loc[df['Entity_to_hash'].notnull() & (df['Items Recommended'].notnull() & (df['Readout Delivery Status'].isnull() | df['Readout_Date'].isnull()))]\\\n",
    "[['Request ID','Create Date','Customer Name','GUID','Partner Name','Prehash_Entity','Compass Advisor','Readout_Date','Readout Delivery Status','Items Recommended','Entity_to_hash','HashedReadout']]"
   ]
  },
  {
   "cell_type": "code",
   "execution_count": 207,
   "metadata": {},
   "outputs": [],
   "source": [
    "# prehash_check = df.loc[(df['Prehash_Entity'].notnull()) & (df['RR (internal)']=='YES') & (df['Campaign Type']=='PROACTIVE') & (df['Lvl1']=='EMEAR-REGION') & (df['Request FY']=='2021')].groupby(['Prehash_Entity','HashedReadout'])[['Request ID']].nunique()"
   ]
  },
  {
   "cell_type": "code",
   "execution_count": 208,
   "metadata": {},
   "outputs": [],
   "source": [
    "# prehash_check.reset_index(inplace=True)"
   ]
  },
  {
   "cell_type": "code",
   "execution_count": 209,
   "metadata": {},
   "outputs": [],
   "source": [
    "# prehash_check"
   ]
  },
  {
   "cell_type": "code",
   "execution_count": 210,
   "metadata": {},
   "outputs": [],
   "source": [
    "# prehash_check.to_excel(r'C:\\Users\\phsheari\\Desktop\\CheckData.xlsx', index=False)"
   ]
  },
  {
   "cell_type": "code",
   "execution_count": 211,
   "metadata": {},
   "outputs": [
    {
     "data": {
      "text/html": [
       "<div>\n",
       "<style scoped>\n",
       "    .dataframe tbody tr th:only-of-type {\n",
       "        vertical-align: middle;\n",
       "    }\n",
       "\n",
       "    .dataframe tbody tr th {\n",
       "        vertical-align: top;\n",
       "    }\n",
       "\n",
       "    .dataframe thead th {\n",
       "        text-align: right;\n",
       "    }\n",
       "</style>\n",
       "<table border=\"1\" class=\"dataframe\">\n",
       "  <thead>\n",
       "    <tr style=\"text-align: right;\">\n",
       "      <th></th>\n",
       "      <th>Request ID</th>\n",
       "      <th>Customer Name</th>\n",
       "      <th>Entity_to_hash</th>\n",
       "      <th>HashedReadout</th>\n",
       "      <th>Compass Advisor</th>\n",
       "      <th>Readout_Date</th>\n",
       "      <th>Readout Delivery Status</th>\n",
       "      <th>Items Recommended</th>\n",
       "      <th>Campaign Type</th>\n",
       "      <th>RR_INTERNAL</th>\n",
       "    </tr>\n",
       "  </thead>\n",
       "  <tbody>\n",
       "    <tr>\n",
       "      <th>1</th>\n",
       "      <td>111949</td>\n",
       "      <td>TRAFIKVERKET</td>\n",
       "      <td>TR179365505_VIRIATO EVANGELISTA_2022-02-09 00:...</td>\n",
       "      <td>f0aaa98058ee49a8ec07b2a85c0a5736</td>\n",
       "      <td>Viriato Evangelista</td>\n",
       "      <td>2022-02-09</td>\n",
       "      <td>Complete</td>\n",
       "      <td>SNTC</td>\n",
       "      <td>FIELD</td>\n",
       "      <td>YES</td>\n",
       "    </tr>\n",
       "    <tr>\n",
       "      <th>33</th>\n",
       "      <td>111333</td>\n",
       "      <td>KEURIG GREEN MOUNTAIN COFFEE ROASTERS INC</td>\n",
       "      <td>KE212964998_CRISTIAN HERRERA_2022-02-22 00:00:...</td>\n",
       "      <td>75ef3002862e107f66e9add00fb55a43</td>\n",
       "      <td>Cristian Herrera</td>\n",
       "      <td>2022-02-22</td>\n",
       "      <td>Complete</td>\n",
       "      <td>SNTC</td>\n",
       "      <td>TELEMETRY</td>\n",
       "      <td>YES</td>\n",
       "    </tr>\n",
       "    <tr>\n",
       "      <th>39</th>\n",
       "      <td>111236</td>\n",
       "      <td>THE FRED W ALBRECHT GROCERY COMPANY</td>\n",
       "      <td>FR2637570_GLORIA CANALES_2022-02-28 00:00:00_SNTC</td>\n",
       "      <td>2091d0524ee0bd5bffe0755fcf15dfc7</td>\n",
       "      <td>Gloria Canales</td>\n",
       "      <td>2022-02-28</td>\n",
       "      <td>Complete</td>\n",
       "      <td>SNTC</td>\n",
       "      <td>TELEMETRY</td>\n",
       "      <td>YES</td>\n",
       "    </tr>\n",
       "    <tr>\n",
       "      <th>40</th>\n",
       "      <td>111181</td>\n",
       "      <td>GIVAUDAN FLAVORS CORPORATION</td>\n",
       "      <td>GI123467_GLORIA CANALES_2022-02-28 00:00:00_SNTC</td>\n",
       "      <td>c460162b4a36ecf4b12e70daa98c23ed</td>\n",
       "      <td>Gloria Canales</td>\n",
       "      <td>2022-02-28</td>\n",
       "      <td>Complete</td>\n",
       "      <td>SNTC</td>\n",
       "      <td>TELEMETRY</td>\n",
       "      <td>YES</td>\n",
       "    </tr>\n",
       "    <tr>\n",
       "      <th>41</th>\n",
       "      <td>111126</td>\n",
       "      <td>RYAN SPECIALTY GROUP</td>\n",
       "      <td>RY176821284_GLORIA CANALES_2022-02-28 00:00:00...</td>\n",
       "      <td>ff73c3631e4b63fa902f39b78375e521</td>\n",
       "      <td>Gloria Canales</td>\n",
       "      <td>2022-02-28</td>\n",
       "      <td>Complete</td>\n",
       "      <td>SNTC</td>\n",
       "      <td>TELEMETRY</td>\n",
       "      <td>YES</td>\n",
       "    </tr>\n",
       "    <tr>\n",
       "      <th>...</th>\n",
       "      <td>...</td>\n",
       "      <td>...</td>\n",
       "      <td>...</td>\n",
       "      <td>...</td>\n",
       "      <td>...</td>\n",
       "      <td>...</td>\n",
       "      <td>...</td>\n",
       "      <td>...</td>\n",
       "      <td>...</td>\n",
       "      <td>...</td>\n",
       "    </tr>\n",
       "    <tr>\n",
       "      <th>37371</th>\n",
       "      <td>107566</td>\n",
       "      <td>SYNCRO CORPORATION</td>\n",
       "      <td>SY10368781_SANGEETHA SAMPATH_2021-12-14 00:00:...</td>\n",
       "      <td>8b7b0aebae31b2a3130b9a1251b603cd</td>\n",
       "      <td>Sangeetha Sampath</td>\n",
       "      <td>2021-12-14</td>\n",
       "      <td>Complete</td>\n",
       "      <td>BCS,BRW,DNA,EC-HTOM,IRR,SNTC,SSPT</td>\n",
       "      <td>FIELD</td>\n",
       "      <td>YES</td>\n",
       "    </tr>\n",
       "    <tr>\n",
       "      <th>37372</th>\n",
       "      <td>107567</td>\n",
       "      <td>ENCOMPASS HEALTH CORPORATION</td>\n",
       "      <td>EN320903967_SANGEETHA SAMPATH_2021-12-14 00:00...</td>\n",
       "      <td>dcbfcc3664ab6063160cf23817ae8636</td>\n",
       "      <td>Sangeetha Sampath</td>\n",
       "      <td>2021-12-14</td>\n",
       "      <td>Complete</td>\n",
       "      <td>BCS,BRW,IRR,EC-HTOM,SNTC,SSPT</td>\n",
       "      <td>FIELD</td>\n",
       "      <td>YES</td>\n",
       "    </tr>\n",
       "    <tr>\n",
       "      <th>37373</th>\n",
       "      <td>107568</td>\n",
       "      <td>SLIDELL MEMORIAL HOSPITAL</td>\n",
       "      <td>SL3773236_SANGEETHA SAMPATH_2021-12-14 00:00:0...</td>\n",
       "      <td>e51a7718bad6cd5bf5a2caad877af536</td>\n",
       "      <td>Sangeetha Sampath</td>\n",
       "      <td>2021-12-14</td>\n",
       "      <td>Complete</td>\n",
       "      <td>BCS,EC-HTOM,IRR,SNTC,SSPT,ST</td>\n",
       "      <td>FIELD</td>\n",
       "      <td>YES</td>\n",
       "    </tr>\n",
       "    <tr>\n",
       "      <th>37374</th>\n",
       "      <td>107569</td>\n",
       "      <td>MILLIPORE SIGMA</td>\n",
       "      <td>MI2134315_SANGEETHA SAMPATH_2021-12-14 00:00:0...</td>\n",
       "      <td>23880ed49b4c61890731eee5eac8dfed</td>\n",
       "      <td>Sangeetha Sampath</td>\n",
       "      <td>2021-12-14</td>\n",
       "      <td>Complete</td>\n",
       "      <td>BCS,BRW,DNA,EC-HTOM,IRR,SNTC,SSPT,ST</td>\n",
       "      <td>FIELD</td>\n",
       "      <td>YES</td>\n",
       "    </tr>\n",
       "    <tr>\n",
       "      <th>37375</th>\n",
       "      <td>107570</td>\n",
       "      <td>CENTRAL ELECTRIC COMPANY</td>\n",
       "      <td>CE4453896_SANGEETHA SAMPATH_2021-12-14 00:00:0...</td>\n",
       "      <td>33a6ffd450f4557080a94ac927589202</td>\n",
       "      <td>Sangeetha Sampath</td>\n",
       "      <td>2021-12-14</td>\n",
       "      <td>Complete</td>\n",
       "      <td>SSPT,ST,SNTC,BCS,BRW</td>\n",
       "      <td>FIELD</td>\n",
       "      <td>YES</td>\n",
       "    </tr>\n",
       "  </tbody>\n",
       "</table>\n",
       "<p>8182 rows × 10 columns</p>\n",
       "</div>"
      ],
      "text/plain": [
       "      Request ID                              Customer Name  \\\n",
       "1         111949                               TRAFIKVERKET   \n",
       "33        111333  KEURIG GREEN MOUNTAIN COFFEE ROASTERS INC   \n",
       "39        111236        THE FRED W ALBRECHT GROCERY COMPANY   \n",
       "40        111181               GIVAUDAN FLAVORS CORPORATION   \n",
       "41        111126                       RYAN SPECIALTY GROUP   \n",
       "...          ...                                        ...   \n",
       "37371     107566                         SYNCRO CORPORATION   \n",
       "37372     107567               ENCOMPASS HEALTH CORPORATION   \n",
       "37373     107568                  SLIDELL MEMORIAL HOSPITAL   \n",
       "37374     107569                            MILLIPORE SIGMA   \n",
       "37375     107570                   CENTRAL ELECTRIC COMPANY   \n",
       "\n",
       "                                          Entity_to_hash  \\\n",
       "1      TR179365505_VIRIATO EVANGELISTA_2022-02-09 00:...   \n",
       "33     KE212964998_CRISTIAN HERRERA_2022-02-22 00:00:...   \n",
       "39     FR2637570_GLORIA CANALES_2022-02-28 00:00:00_SNTC   \n",
       "40      GI123467_GLORIA CANALES_2022-02-28 00:00:00_SNTC   \n",
       "41     RY176821284_GLORIA CANALES_2022-02-28 00:00:00...   \n",
       "...                                                  ...   \n",
       "37371  SY10368781_SANGEETHA SAMPATH_2021-12-14 00:00:...   \n",
       "37372  EN320903967_SANGEETHA SAMPATH_2021-12-14 00:00...   \n",
       "37373  SL3773236_SANGEETHA SAMPATH_2021-12-14 00:00:0...   \n",
       "37374  MI2134315_SANGEETHA SAMPATH_2021-12-14 00:00:0...   \n",
       "37375  CE4453896_SANGEETHA SAMPATH_2021-12-14 00:00:0...   \n",
       "\n",
       "                          HashedReadout      Compass Advisor Readout_Date  \\\n",
       "1      f0aaa98058ee49a8ec07b2a85c0a5736  Viriato Evangelista   2022-02-09   \n",
       "33     75ef3002862e107f66e9add00fb55a43     Cristian Herrera   2022-02-22   \n",
       "39     2091d0524ee0bd5bffe0755fcf15dfc7       Gloria Canales   2022-02-28   \n",
       "40     c460162b4a36ecf4b12e70daa98c23ed       Gloria Canales   2022-02-28   \n",
       "41     ff73c3631e4b63fa902f39b78375e521       Gloria Canales   2022-02-28   \n",
       "...                                 ...                  ...          ...   \n",
       "37371  8b7b0aebae31b2a3130b9a1251b603cd    Sangeetha Sampath   2021-12-14   \n",
       "37372  dcbfcc3664ab6063160cf23817ae8636    Sangeetha Sampath   2021-12-14   \n",
       "37373  e51a7718bad6cd5bf5a2caad877af536    Sangeetha Sampath   2021-12-14   \n",
       "37374  23880ed49b4c61890731eee5eac8dfed    Sangeetha Sampath   2021-12-14   \n",
       "37375  33a6ffd450f4557080a94ac927589202    Sangeetha Sampath   2021-12-14   \n",
       "\n",
       "      Readout Delivery Status                     Items Recommended  \\\n",
       "1                    Complete                                  SNTC   \n",
       "33                   Complete                                  SNTC   \n",
       "39                   Complete                                  SNTC   \n",
       "40                   Complete                                  SNTC   \n",
       "41                   Complete                                  SNTC   \n",
       "...                       ...                                   ...   \n",
       "37371                Complete     BCS,BRW,DNA,EC-HTOM,IRR,SNTC,SSPT   \n",
       "37372                Complete         BCS,BRW,IRR,EC-HTOM,SNTC,SSPT   \n",
       "37373                Complete          BCS,EC-HTOM,IRR,SNTC,SSPT,ST   \n",
       "37374                Complete  BCS,BRW,DNA,EC-HTOM,IRR,SNTC,SSPT,ST   \n",
       "37375                Complete                  SSPT,ST,SNTC,BCS,BRW   \n",
       "\n",
       "      Campaign Type RR_INTERNAL  \n",
       "1             FIELD         YES  \n",
       "33        TELEMETRY         YES  \n",
       "39        TELEMETRY         YES  \n",
       "40        TELEMETRY         YES  \n",
       "41        TELEMETRY         YES  \n",
       "...             ...         ...  \n",
       "37371         FIELD         YES  \n",
       "37372         FIELD         YES  \n",
       "37373         FIELD         YES  \n",
       "37374         FIELD         YES  \n",
       "37375         FIELD         YES  \n",
       "\n",
       "[8182 rows x 10 columns]"
      ]
     },
     "execution_count": 211,
     "metadata": {},
     "output_type": "execute_result"
    }
   ],
   "source": [
    "df.loc[df['HashedReadout'].notnull()][['Request ID','Customer Name','Entity_to_hash','HashedReadout','Compass Advisor','Readout_Date','Readout Delivery Status','Items Recommended','Campaign Type','RR_INTERNAL']]"
   ]
  },
  {
   "cell_type": "code",
   "execution_count": 212,
   "metadata": {},
   "outputs": [],
   "source": [
    "df['Partner Deal'] = df['Deal ID'].apply(lambda x: 'TRUE' if x == -44444 else 'FALSE')"
   ]
  },
  {
   "cell_type": "code",
   "execution_count": 213,
   "metadata": {},
   "outputs": [
    {
     "data": {
      "text/html": [
       "<div>\n",
       "<style scoped>\n",
       "    .dataframe tbody tr th:only-of-type {\n",
       "        vertical-align: middle;\n",
       "    }\n",
       "\n",
       "    .dataframe tbody tr th {\n",
       "        vertical-align: top;\n",
       "    }\n",
       "\n",
       "    .dataframe thead th {\n",
       "        text-align: right;\n",
       "    }\n",
       "</style>\n",
       "<table border=\"1\" class=\"dataframe\">\n",
       "  <thead>\n",
       "    <tr style=\"text-align: right;\">\n",
       "      <th></th>\n",
       "      <th>Customer Name</th>\n",
       "      <th>Deal ID</th>\n",
       "      <th>Partner Deal</th>\n",
       "      <th>Partner Name</th>\n",
       "    </tr>\n",
       "  </thead>\n",
       "  <tbody>\n",
       "    <tr>\n",
       "      <th>0</th>\n",
       "      <td>ENBRIDGE INC</td>\n",
       "      <td>55694286</td>\n",
       "      <td>FALSE</td>\n",
       "      <td>None</td>\n",
       "    </tr>\n",
       "    <tr>\n",
       "      <th>1</th>\n",
       "      <td>TRAFIKVERKET</td>\n",
       "      <td>NaN</td>\n",
       "      <td>FALSE</td>\n",
       "      <td>None</td>\n",
       "    </tr>\n",
       "    <tr>\n",
       "      <th>2</th>\n",
       "      <td>CENTRAL GOVERNMENT UK</td>\n",
       "      <td>NaN</td>\n",
       "      <td>FALSE</td>\n",
       "      <td>None</td>\n",
       "    </tr>\n",
       "    <tr>\n",
       "      <th>3</th>\n",
       "      <td>FRIEDE SPRINGER GMBH &amp; CO. KG</td>\n",
       "      <td>NaN</td>\n",
       "      <td>FALSE</td>\n",
       "      <td>None</td>\n",
       "    </tr>\n",
       "    <tr>\n",
       "      <th>4</th>\n",
       "      <td>GLOBAL MOBILITY HOLDING BV</td>\n",
       "      <td>NaN</td>\n",
       "      <td>FALSE</td>\n",
       "      <td>None</td>\n",
       "    </tr>\n",
       "    <tr>\n",
       "      <th>...</th>\n",
       "      <td>...</td>\n",
       "      <td>...</td>\n",
       "      <td>...</td>\n",
       "      <td>...</td>\n",
       "    </tr>\n",
       "    <tr>\n",
       "      <th>37371</th>\n",
       "      <td>SYNCRO CORPORATION</td>\n",
       "      <td>NaN</td>\n",
       "      <td>FALSE</td>\n",
       "      <td>None</td>\n",
       "    </tr>\n",
       "    <tr>\n",
       "      <th>37372</th>\n",
       "      <td>ENCOMPASS HEALTH CORPORATION</td>\n",
       "      <td>NaN</td>\n",
       "      <td>FALSE</td>\n",
       "      <td>None</td>\n",
       "    </tr>\n",
       "    <tr>\n",
       "      <th>37373</th>\n",
       "      <td>SLIDELL MEMORIAL HOSPITAL</td>\n",
       "      <td>NaN</td>\n",
       "      <td>FALSE</td>\n",
       "      <td>None</td>\n",
       "    </tr>\n",
       "    <tr>\n",
       "      <th>37374</th>\n",
       "      <td>MILLIPORE SIGMA</td>\n",
       "      <td>NaN</td>\n",
       "      <td>FALSE</td>\n",
       "      <td>None</td>\n",
       "    </tr>\n",
       "    <tr>\n",
       "      <th>37375</th>\n",
       "      <td>CENTRAL ELECTRIC COMPANY</td>\n",
       "      <td>NaN</td>\n",
       "      <td>FALSE</td>\n",
       "      <td>None</td>\n",
       "    </tr>\n",
       "  </tbody>\n",
       "</table>\n",
       "<p>37314 rows × 4 columns</p>\n",
       "</div>"
      ],
      "text/plain": [
       "                       Customer Name   Deal ID Partner Deal Partner Name\n",
       "0                       ENBRIDGE INC  55694286        FALSE         None\n",
       "1                       TRAFIKVERKET       NaN        FALSE         None\n",
       "2              CENTRAL GOVERNMENT UK       NaN        FALSE         None\n",
       "3      FRIEDE SPRINGER GMBH & CO. KG       NaN        FALSE         None\n",
       "4         GLOBAL MOBILITY HOLDING BV       NaN        FALSE         None\n",
       "...                              ...       ...          ...          ...\n",
       "37371             SYNCRO CORPORATION       NaN        FALSE         None\n",
       "37372   ENCOMPASS HEALTH CORPORATION       NaN        FALSE         None\n",
       "37373      SLIDELL MEMORIAL HOSPITAL       NaN        FALSE         None\n",
       "37374                MILLIPORE SIGMA       NaN        FALSE         None\n",
       "37375       CENTRAL ELECTRIC COMPANY       NaN        FALSE         None\n",
       "\n",
       "[37314 rows x 4 columns]"
      ]
     },
     "execution_count": 213,
     "metadata": {},
     "output_type": "execute_result"
    }
   ],
   "source": [
    "df.loc[df['Deal ID']!=-44444,['Customer Name','Deal ID','Partner Deal','Partner Name']]"
   ]
  },
  {
   "cell_type": "code",
   "execution_count": 214,
   "metadata": {},
   "outputs": [],
   "source": [
    "### Run through the BDM field as if it were GUIDs, replacing \"/\" with \",\" as separators, then expanding lists; \n",
    "###   ...replacing emails with Proper Names, then feeding proper Names as lookups to return the Report Group field values. \n",
    "###  ... Accounting for older, pre-2021 values will have to be added to the roll-up list"
   ]
  },
  {
   "cell_type": "code",
   "execution_count": 215,
   "metadata": {},
   "outputs": [],
   "source": [
    "advisor_path = r'C:\\Users\\phsheari\\Documents\\Compass Advisors\\Advisor Email Translation.xlsx'\n",
    "advisors_df = pd.read_excel(advisor_path)\n",
    "advisors_df['cecid'] = advisors_df['cecid'].apply(lambda x: x if pd.notnull(x) else pd.NA)\n",
    "advisors_df['email'] = advisors_df['cecid'].apply(lambda x: x + '@cisco.com' if pd.notnull(x) else pd.NA)"
   ]
  },
  {
   "cell_type": "code",
   "execution_count": 216,
   "metadata": {},
   "outputs": [],
   "source": [
    "# advisors_df.loc[advisors_df['name']=='Farha Diba']"
   ]
  },
  {
   "cell_type": "code",
   "execution_count": 217,
   "metadata": {},
   "outputs": [],
   "source": [
    "advisors = dict(zip(advisors_df['name'],advisors_df['report_group']))\n",
    "advisors_email = dict(zip(advisors_df['email'],advisors_df['report_group']))\n",
    "advisors_names = dict(zip(advisors_df['name'], advisors_df['report_group']))"
   ]
  },
  {
   "cell_type": "code",
   "execution_count": 218,
   "metadata": {},
   "outputs": [],
   "source": [
    "def get_bdm_report_group(bdm):    #\"bdm\" is the compass advisor column from the tracker\n",
    "    if pd.isnull(bdm):\n",
    "        return pd.NA\n",
    "    elif ',' in bdm or '/' in bdm:\n",
    "        bdm = bdm.lower().strip().replace('/',',').strip()\n",
    "        bdmlist = bdm.split(',')\n",
    "        bdm = bdmlist[0]\n",
    "    \n",
    "    if bdm.lower().endswith('@cisco.com'):\n",
    "        return advisors_email.get(bdm, 'Other')\n",
    "    else:\n",
    "        return advisors.get(bdm, advisors_names.get(bdm, 'Other'))    "
   ]
  },
  {
   "cell_type": "code",
   "execution_count": 219,
   "metadata": {},
   "outputs": [],
   "source": [
    "df['Report Group'] = df['Compass Advisor'].apply(get_bdm_report_group)"
   ]
  },
  {
   "cell_type": "code",
   "execution_count": 220,
   "metadata": {},
   "outputs": [],
   "source": [
    "# df.loc[df['Compass Advisor'].str.contains('Farha Diba', na=False, case=False)][['Request ID','Create Date','Customer Name','Compass Advisor','Report Group']]"
   ]
  },
  {
   "cell_type": "code",
   "execution_count": 221,
   "metadata": {},
   "outputs": [
    {
     "data": {
      "text/plain": [
       "Report Group\n",
       "Atif Ahmad         2633\n",
       "Jenee St John      2174\n",
       "Other              1179\n",
       "Stacey Edwards    10550\n",
       "Name: Report Group, dtype: int64"
      ]
     },
     "execution_count": 221,
     "metadata": {},
     "output_type": "execute_result"
    }
   ],
   "source": [
    "df.groupby(df['Report Group'])['Report Group'].count()"
   ]
  },
  {
   "cell_type": "code",
   "execution_count": 222,
   "metadata": {},
   "outputs": [],
   "source": [
    "# df.groupby(['Compass Advisor','Report Group'])['Compass Advisor','Report Group'].count()"
   ]
  },
  {
   "cell_type": "code",
   "execution_count": 223,
   "metadata": {},
   "outputs": [],
   "source": [
    "# df.loc[:,df.columns.str.startswith('O')].columns      #['Projected Booking ($,000)','Target Fiscal Month', 'Target Fiscal Quarter', 'Target Fiscal Year','Opportunity Name','Forecast Stage','Forecast Status']"
   ]
  },
  {
   "cell_type": "code",
   "execution_count": 224,
   "metadata": {},
   "outputs": [],
   "source": [
    "#forecast_columns_to_drop = ['Target Fiscal Month', 'Target Fiscal Quarter', 'Target Fiscal Year','Forecast Stage','Forecast Status']  #'Projected Booking ($,000)',"
   ]
  },
  {
   "cell_type": "code",
   "execution_count": 225,
   "metadata": {},
   "outputs": [],
   "source": [
    "#df.drop(columns=forecast_columns_to_drop, inplace=True)"
   ]
  },
  {
   "cell_type": "code",
   "execution_count": 226,
   "metadata": {},
   "outputs": [],
   "source": [
    "PIPELINE_COLUMNS = ['Request ID', 'Forecast Status', 'Forecast Stage','Service Source', 'Fiscal Month', 'Fiscal Quarter', 'Fiscal Year', 'Fiscal Y-Q', 'Opportunity Value',]"
   ]
  },
  {
   "cell_type": "code",
   "execution_count": 227,
   "metadata": {},
   "outputs": [],
   "source": [
    "pipeline = pd.read_excel(r'C:\\Users\\phsheari\\Documents\\Compass Tableau Data\\TrkrPipeline.xlsx', usecols=PIPELINE_COLUMNS)"
   ]
  },
  {
   "cell_type": "code",
   "execution_count": 228,
   "metadata": {},
   "outputs": [
    {
     "data": {
      "text/plain": [
       "Index(['Request ID', 'Service Source', 'Forecast Stage', 'Forecast Status',\n",
       "       'Fiscal Month', 'Fiscal Quarter', 'Fiscal Year', 'Fiscal Y-Q',\n",
       "       'Opportunity Value'],\n",
       "      dtype='object')"
      ]
     },
     "execution_count": 228,
     "metadata": {},
     "output_type": "execute_result"
    }
   ],
   "source": [
    "pipeline.columns"
   ]
  },
  {
   "cell_type": "code",
   "execution_count": 229,
   "metadata": {},
   "outputs": [],
   "source": [
    "pipeline = pipeline.loc[pipeline['Service Source']=='New'].groupby(['Request ID','Forecast Stage','Forecast Status','Fiscal Month','Fiscal Quarter','Fiscal Year'])[['Opportunity Value']].sum()"
   ]
  },
  {
   "cell_type": "code",
   "execution_count": 230,
   "metadata": {},
   "outputs": [],
   "source": [
    "pipeline.reset_index(inplace=True)"
   ]
  },
  {
   "cell_type": "code",
   "execution_count": 231,
   "metadata": {},
   "outputs": [],
   "source": [
    "pipeline['Opportunity Value'] = pipeline['Opportunity Value'].astype(float)"
   ]
  },
  {
   "cell_type": "code",
   "execution_count": 232,
   "metadata": {},
   "outputs": [],
   "source": [
    "pipeline['Request ID'] = pipeline['Request ID'].astype(str)"
   ]
  },
  {
   "cell_type": "code",
   "execution_count": null,
   "metadata": {},
   "outputs": [],
   "source": []
  },
  {
   "cell_type": "code",
   "execution_count": 233,
   "metadata": {},
   "outputs": [],
   "source": [
    "pipeline_rename_fields = {'Fiscal Month':'Target Fiscal Month','Fiscal Quarter':'Target Fiscal Quarter','Fiscal Year':'Target Fiscal Year',}"
   ]
  },
  {
   "cell_type": "code",
   "execution_count": 234,
   "metadata": {},
   "outputs": [],
   "source": [
    "pipeline.rename(columns=pipeline_rename_fields, inplace=True)"
   ]
  },
  {
   "cell_type": "code",
   "execution_count": 235,
   "metadata": {},
   "outputs": [],
   "source": [
    "replace_na_values = {'Forecast Stage':'','Forecast Status':'','Target Fiscal Month':'','Target Fiscal Quarter':'','Target Fiscal Year':'', 'Opportunity Value':0.0}"
   ]
  },
  {
   "cell_type": "code",
   "execution_count": 236,
   "metadata": {},
   "outputs": [],
   "source": [
    "df['Request ID'] = df['Request ID'].astype(str)"
   ]
  },
  {
   "cell_type": "code",
   "execution_count": 237,
   "metadata": {},
   "outputs": [],
   "source": [
    "df = df.merge(pipeline, how='left', on='Request ID')"
   ]
  },
  {
   "cell_type": "code",
   "execution_count": 238,
   "metadata": {},
   "outputs": [],
   "source": [
    "df.fillna(value=replace_na_values, inplace=True)"
   ]
  },
  {
   "cell_type": "code",
   "execution_count": 239,
   "metadata": {},
   "outputs": [],
   "source": [
    "df.rename(columns=pipeline_rename_fields, inplace=True)"
   ]
  },
  {
   "cell_type": "code",
   "execution_count": 240,
   "metadata": {},
   "outputs": [],
   "source": [
    "df.loc[df['Request ID'].isin(finbi_requests), 'Forecast Stage'] = '5 - Closed Won'\n",
    "df.loc[df['Request ID'].isin(finbi_requests), 'Forecast Status'] = 'Booked'\n",
    "df.loc[df['Request ID'].isin(finbi_requests), 'WORKING STATUS'] = 'BOOKED'"
   ]
  },
  {
   "cell_type": "code",
   "execution_count": 241,
   "metadata": {},
   "outputs": [],
   "source": [
    "df.drop(df.loc[df['Request ID']=='undefined'].index, inplace=True)"
   ]
  },
  {
   "cell_type": "code",
   "execution_count": 242,
   "metadata": {},
   "outputs": [
    {
     "data": {
      "text/plain": [
       "array(['SCHEDULED', 'READOUT DONE', 'COMPASS UNDELIVERABLE', 'RR_SET_NO',\n",
       "       'DECLINED', 'READOUT POSTPONED', 'UNASSIGNED', 'ASSIGNED',\n",
       "       'EXCEPTION_REVIEW', 'BOOKED', 'READOUT PASSED - RESULT PENDING'],\n",
       "      dtype=object)"
      ]
     },
     "execution_count": 242,
     "metadata": {},
     "output_type": "execute_result"
    }
   ],
   "source": [
    "df['WORKING STATUS'].unique()"
   ]
  },
  {
   "cell_type": "code",
   "execution_count": 243,
   "metadata": {
    "tags": []
   },
   "outputs": [
    {
     "data": {
      "text/plain": [
       "0        2022-03-03 18:03 PM Eastern\n",
       "1        2022-03-03 18:03 PM Eastern\n",
       "2        2022-03-03 18:03 PM Eastern\n",
       "3        2022-03-03 18:03 PM Eastern\n",
       "4        2022-03-03 18:03 PM Eastern\n",
       "                    ...             \n",
       "37310    2022-03-03 18:03 PM Eastern\n",
       "37311    2022-03-03 18:03 PM Eastern\n",
       "37312    2022-03-03 18:03 PM Eastern\n",
       "37313    2022-03-03 18:03 PM Eastern\n",
       "37314    2022-03-03 18:03 PM Eastern\n",
       "Name: LAST_UPDATED, Length: 37315, dtype: object"
      ]
     },
     "execution_count": 243,
     "metadata": {},
     "output_type": "execute_result"
    }
   ],
   "source": [
    "# set_as_date(df, ['Create Date','Date Completed','Readout_Date','Last Updated'])\n",
    "df['LAST_UPDATED']"
   ]
  },
  {
   "cell_type": "code",
   "execution_count": 244,
   "metadata": {},
   "outputs": [],
   "source": [
    "df.loc[:,'Create Date'] = df.loc[df['Create Date'].notnull()]['Create Date'].apply(lambda x: x.strftime('%Y-%m-%d')).apply(lambda x: dt.datetime.strptime(x, '%Y-%m-%d'))\n",
    "df.loc[df['Date Completed'].notnull(),'Date Completed'] = df.loc[df['Date Completed'].notnull()]['Date Completed'].apply(lambda x: x.strftime('%Y-%m-%d')).apply(lambda x: dt.datetime.strptime(x, '%Y-%m-%d'))\n",
    "df.loc[df['Readout_Date'].notnull(),'Readout_Date'] = df.loc[df['Readout_Date'].notnull()]['Readout_Date'].apply(lambda x: x.strftime('%Y-%m-%d')).apply(lambda x: dt.datetime.strptime(x, '%Y-%m-%d'))\n",
    "df.loc[df['Modified'].notnull(),'Modified'] = df.loc[df['Modified'].notnull()]['Modified'].apply(lambda x: x.strftime('%Y-%m-%d')).apply(lambda x: dt.datetime.strptime(x, '%Y-%m-%d'))\n",
    "#df.loc[:,'LAST_UPDATED'] = df.loc[:,'LAST_UPDATED'].apply(lambda x: x.strftime('%Y-%m-%d %H:%M %p') + ' Eastern/NYC') #.apply(lambda x: dt.datetime.strptime(x, '%Y-%m-%d %H:%M %p'))"
   ]
  },
  {
   "cell_type": "code",
   "execution_count": 245,
   "metadata": {},
   "outputs": [],
   "source": [
    "df.loc[df['Sales Level 1'] == 'APJC__','Sales Level 1'] = 'APJC'"
   ]
  },
  {
   "cell_type": "code",
   "execution_count": 246,
   "metadata": {},
   "outputs": [
    {
     "data": {
      "text/html": [
       "<div>\n",
       "<style scoped>\n",
       "    .dataframe tbody tr th:only-of-type {\n",
       "        vertical-align: middle;\n",
       "    }\n",
       "\n",
       "    .dataframe tbody tr th {\n",
       "        vertical-align: top;\n",
       "    }\n",
       "\n",
       "    .dataframe thead th {\n",
       "        text-align: right;\n",
       "    }\n",
       "</style>\n",
       "<table border=\"1\" class=\"dataframe\">\n",
       "  <thead>\n",
       "    <tr style=\"text-align: right;\">\n",
       "      <th></th>\n",
       "      <th>Request ID</th>\n",
       "      <th>Create Date</th>\n",
       "      <th>Date Completed</th>\n",
       "      <th>Readout_Date</th>\n",
       "      <th>Modified</th>\n",
       "      <th>LAST_UPDATED</th>\n",
       "    </tr>\n",
       "  </thead>\n",
       "  <tbody>\n",
       "    <tr>\n",
       "      <th>0</th>\n",
       "      <td>112652</td>\n",
       "      <td>2022-02-17</td>\n",
       "      <td>2022-02-24</td>\n",
       "      <td>2022-03-07</td>\n",
       "      <td>2022-03-03</td>\n",
       "      <td>2022-03-03 18:03 PM Eastern</td>\n",
       "    </tr>\n",
       "    <tr>\n",
       "      <th>1</th>\n",
       "      <td>111949</td>\n",
       "      <td>2022-02-07</td>\n",
       "      <td>2022-02-09</td>\n",
       "      <td>2022-02-09</td>\n",
       "      <td>2022-02-16</td>\n",
       "      <td>2022-03-03 18:03 PM Eastern</td>\n",
       "    </tr>\n",
       "    <tr>\n",
       "      <th>2</th>\n",
       "      <td>111948</td>\n",
       "      <td>2022-02-07</td>\n",
       "      <td>2022-02-09</td>\n",
       "      <td>2022-03-07</td>\n",
       "      <td>2022-03-01</td>\n",
       "      <td>2022-03-03 18:03 PM Eastern</td>\n",
       "    </tr>\n",
       "    <tr>\n",
       "      <th>3</th>\n",
       "      <td>111647</td>\n",
       "      <td>2022-01-28</td>\n",
       "      <td>2022-02-04</td>\n",
       "      <td>NaT</td>\n",
       "      <td>2022-02-03</td>\n",
       "      <td>2022-03-03 18:03 PM Eastern</td>\n",
       "    </tr>\n",
       "    <tr>\n",
       "      <th>4</th>\n",
       "      <td>111648</td>\n",
       "      <td>2022-01-28</td>\n",
       "      <td>2022-02-04</td>\n",
       "      <td>NaT</td>\n",
       "      <td>2022-02-03</td>\n",
       "      <td>2022-03-03 18:03 PM Eastern</td>\n",
       "    </tr>\n",
       "    <tr>\n",
       "      <th>...</th>\n",
       "      <td>...</td>\n",
       "      <td>...</td>\n",
       "      <td>...</td>\n",
       "      <td>...</td>\n",
       "      <td>...</td>\n",
       "      <td>...</td>\n",
       "    </tr>\n",
       "    <tr>\n",
       "      <th>37310</th>\n",
       "      <td>107566</td>\n",
       "      <td>2021-11-24</td>\n",
       "      <td>2021-12-06</td>\n",
       "      <td>2021-12-14</td>\n",
       "      <td>2022-03-01</td>\n",
       "      <td>2022-03-03 18:03 PM Eastern</td>\n",
       "    </tr>\n",
       "    <tr>\n",
       "      <th>37311</th>\n",
       "      <td>107567</td>\n",
       "      <td>2021-11-24</td>\n",
       "      <td>2021-12-06</td>\n",
       "      <td>2021-12-14</td>\n",
       "      <td>2022-03-01</td>\n",
       "      <td>2022-03-03 18:03 PM Eastern</td>\n",
       "    </tr>\n",
       "    <tr>\n",
       "      <th>37312</th>\n",
       "      <td>107568</td>\n",
       "      <td>2021-11-24</td>\n",
       "      <td>2021-12-06</td>\n",
       "      <td>2021-12-14</td>\n",
       "      <td>2022-03-01</td>\n",
       "      <td>2022-03-03 18:03 PM Eastern</td>\n",
       "    </tr>\n",
       "    <tr>\n",
       "      <th>37313</th>\n",
       "      <td>107569</td>\n",
       "      <td>2021-11-24</td>\n",
       "      <td>2021-12-06</td>\n",
       "      <td>2021-12-14</td>\n",
       "      <td>2022-03-01</td>\n",
       "      <td>2022-03-03 18:03 PM Eastern</td>\n",
       "    </tr>\n",
       "    <tr>\n",
       "      <th>37314</th>\n",
       "      <td>107570</td>\n",
       "      <td>2021-11-24</td>\n",
       "      <td>2021-12-06</td>\n",
       "      <td>2021-12-14</td>\n",
       "      <td>2022-03-01</td>\n",
       "      <td>2022-03-03 18:03 PM Eastern</td>\n",
       "    </tr>\n",
       "  </tbody>\n",
       "</table>\n",
       "<p>37315 rows × 6 columns</p>\n",
       "</div>"
      ],
      "text/plain": [
       "      Request ID Create Date Date Completed Readout_Date   Modified  \\\n",
       "0         112652  2022-02-17     2022-02-24   2022-03-07 2022-03-03   \n",
       "1         111949  2022-02-07     2022-02-09   2022-02-09 2022-02-16   \n",
       "2         111948  2022-02-07     2022-02-09   2022-03-07 2022-03-01   \n",
       "3         111647  2022-01-28     2022-02-04          NaT 2022-02-03   \n",
       "4         111648  2022-01-28     2022-02-04          NaT 2022-02-03   \n",
       "...          ...         ...            ...          ...        ...   \n",
       "37310     107566  2021-11-24     2021-12-06   2021-12-14 2022-03-01   \n",
       "37311     107567  2021-11-24     2021-12-06   2021-12-14 2022-03-01   \n",
       "37312     107568  2021-11-24     2021-12-06   2021-12-14 2022-03-01   \n",
       "37313     107569  2021-11-24     2021-12-06   2021-12-14 2022-03-01   \n",
       "37314     107570  2021-11-24     2021-12-06   2021-12-14 2022-03-01   \n",
       "\n",
       "                      LAST_UPDATED  \n",
       "0      2022-03-03 18:03 PM Eastern  \n",
       "1      2022-03-03 18:03 PM Eastern  \n",
       "2      2022-03-03 18:03 PM Eastern  \n",
       "3      2022-03-03 18:03 PM Eastern  \n",
       "4      2022-03-03 18:03 PM Eastern  \n",
       "...                            ...  \n",
       "37310  2022-03-03 18:03 PM Eastern  \n",
       "37311  2022-03-03 18:03 PM Eastern  \n",
       "37312  2022-03-03 18:03 PM Eastern  \n",
       "37313  2022-03-03 18:03 PM Eastern  \n",
       "37314  2022-03-03 18:03 PM Eastern  \n",
       "\n",
       "[37315 rows x 6 columns]"
      ]
     },
     "execution_count": 246,
     "metadata": {},
     "output_type": "execute_result"
    }
   ],
   "source": [
    "df[['Request ID','Create Date','Date Completed','Readout_Date','Modified','LAST_UPDATED']]"
   ]
  },
  {
   "cell_type": "code",
   "execution_count": 247,
   "metadata": {},
   "outputs": [],
   "source": [
    "def item_recommended_count(item_name, items_recommended):#, items_recommended):\n",
    "    if pd.isnull(items_recommended):\n",
    "        return 0\n",
    "    elif item_name in items_recommended:\n",
    "        return 1\n",
    "    else:\n",
    "        return 0"
   ]
  },
  {
   "cell_type": "code",
   "execution_count": 248,
   "metadata": {},
   "outputs": [],
   "source": [
    "df['RRT_BCS']  = df['Items Recommended'].apply(lambda x: item_recommended_count('BCS', x))\n",
    "df['RRT_EC']   = df['Items Recommended'].apply(lambda x: item_recommended_count('EC', x))\n",
    "df['RRT_IRR']  = df['Items Recommended'].apply(lambda x: item_recommended_count('IRR', x))\n",
    "df['RRT_DNAC'] = df['Items Recommended'].apply(lambda x: item_recommended_count('DNA', x))\n",
    "df['RRT_SSPT'] = df['Items Recommended'].apply(lambda x: item_recommended_count('SSPT', x))\n",
    "df['RRT_ST']   = df['Items Recommended'].apply(lambda x: item_recommended_count('ST', x))\n",
    "df['RRT_SNTC'] = df['Items Recommended'].apply(lambda x: item_recommended_count('SNTC', x))\n",
    "df['RRT_PR']   = df['Items Recommended'].apply(lambda x: item_recommended_count('PR', x))\n",
    "df['RRT_BRW']  = df['Items Recommended'].apply(lambda x: item_recommended_count('BRW', x))\n",
    "df['RRT_NULL'] = 0\n",
    "df['RRT_VBDM'] = 0\n",
    "df['RRT_LPM+'] = 0"
   ]
  },
  {
   "cell_type": "code",
   "execution_count": 249,
   "metadata": {},
   "outputs": [],
   "source": [
    "df.loc[df['Items Recommended'].isnull(), 'RRT_NULL'] = 1"
   ]
  },
  {
   "cell_type": "code",
   "execution_count": 250,
   "metadata": {},
   "outputs": [],
   "source": [
    "df.loc[(df['NEXT_STEPS'].str.contains('engage vbdm', na=False, case=False)) | (df['VBDM'].str.contains('yes', na=False, case=False)), 'RRT_VBDM']=1"
   ]
  },
  {
   "cell_type": "code",
   "execution_count": 251,
   "metadata": {},
   "outputs": [],
   "source": [
    "df.loc[df['NEXT_STEPS'].str.contains('engage lpm+', na=False, case=False), 'RRT_LPM+']=1"
   ]
  },
  {
   "cell_type": "code",
   "execution_count": 252,
   "metadata": {},
   "outputs": [],
   "source": [
    "df['LPM_OFFERS'] = df['LPM_OFFER_CREATED'].apply(lambda x: 1 if x == 'Yes' else 0)"
   ]
  },
  {
   "cell_type": "code",
   "execution_count": 253,
   "metadata": {},
   "outputs": [
    {
     "data": {
      "text/html": [
       "<div>\n",
       "<style scoped>\n",
       "    .dataframe tbody tr th:only-of-type {\n",
       "        vertical-align: middle;\n",
       "    }\n",
       "\n",
       "    .dataframe tbody tr th {\n",
       "        vertical-align: top;\n",
       "    }\n",
       "\n",
       "    .dataframe thead th {\n",
       "        text-align: right;\n",
       "    }\n",
       "</style>\n",
       "<table border=\"1\" class=\"dataframe\">\n",
       "  <thead>\n",
       "    <tr style=\"text-align: right;\">\n",
       "      <th></th>\n",
       "      <th>Readout_Date</th>\n",
       "      <th>Items Recommended</th>\n",
       "      <th>VBDM</th>\n",
       "      <th>RRT_BCS</th>\n",
       "      <th>RRT_EC</th>\n",
       "      <th>RRT_IRR</th>\n",
       "      <th>RRT_DNAC</th>\n",
       "      <th>RRT_ST</th>\n",
       "      <th>RRT_SSPT</th>\n",
       "      <th>RRT_SNTC</th>\n",
       "      <th>RRT_PR</th>\n",
       "      <th>RRT_BRW</th>\n",
       "      <th>RRT_VBDM</th>\n",
       "      <th>RRT_LPM+</th>\n",
       "      <th>RRT_NULL</th>\n",
       "      <th>LPM_OFFER_CREATED</th>\n",
       "      <th>LPM_OFFERS</th>\n",
       "    </tr>\n",
       "  </thead>\n",
       "  <tbody>\n",
       "    <tr>\n",
       "      <th>51</th>\n",
       "      <td>2022-02-16</td>\n",
       "      <td>BCS,DNA,BRW,EC-AM,EC-HTOM,EC-KT,IRR,PR,SNTC,SS...</td>\n",
       "      <td>NaN</td>\n",
       "      <td>1</td>\n",
       "      <td>1</td>\n",
       "      <td>1</td>\n",
       "      <td>1</td>\n",
       "      <td>1</td>\n",
       "      <td>1</td>\n",
       "      <td>1</td>\n",
       "      <td>1</td>\n",
       "      <td>1</td>\n",
       "      <td>0</td>\n",
       "      <td>1</td>\n",
       "      <td>0</td>\n",
       "      <td>Yes</td>\n",
       "      <td>1</td>\n",
       "    </tr>\n",
       "    <tr>\n",
       "      <th>52</th>\n",
       "      <td>2022-02-04</td>\n",
       "      <td>BCS,BRW,DNA,EC-AM,EC-HTOM,EC-KT,IRR,PR,SNTC,SS...</td>\n",
       "      <td>NaN</td>\n",
       "      <td>1</td>\n",
       "      <td>1</td>\n",
       "      <td>1</td>\n",
       "      <td>1</td>\n",
       "      <td>1</td>\n",
       "      <td>1</td>\n",
       "      <td>1</td>\n",
       "      <td>1</td>\n",
       "      <td>1</td>\n",
       "      <td>0</td>\n",
       "      <td>1</td>\n",
       "      <td>0</td>\n",
       "      <td>Yes</td>\n",
       "      <td>1</td>\n",
       "    </tr>\n",
       "    <tr>\n",
       "      <th>61</th>\n",
       "      <td>2022-02-14</td>\n",
       "      <td>SNTC,SSPT</td>\n",
       "      <td>NaN</td>\n",
       "      <td>0</td>\n",
       "      <td>0</td>\n",
       "      <td>0</td>\n",
       "      <td>0</td>\n",
       "      <td>0</td>\n",
       "      <td>1</td>\n",
       "      <td>1</td>\n",
       "      <td>0</td>\n",
       "      <td>0</td>\n",
       "      <td>0</td>\n",
       "      <td>1</td>\n",
       "      <td>0</td>\n",
       "      <td>Yes</td>\n",
       "      <td>1</td>\n",
       "    </tr>\n",
       "    <tr>\n",
       "      <th>69</th>\n",
       "      <td>2022-02-03</td>\n",
       "      <td>SNTC</td>\n",
       "      <td>NaN</td>\n",
       "      <td>0</td>\n",
       "      <td>0</td>\n",
       "      <td>0</td>\n",
       "      <td>0</td>\n",
       "      <td>0</td>\n",
       "      <td>0</td>\n",
       "      <td>1</td>\n",
       "      <td>0</td>\n",
       "      <td>0</td>\n",
       "      <td>0</td>\n",
       "      <td>1</td>\n",
       "      <td>0</td>\n",
       "      <td>Yes</td>\n",
       "      <td>1</td>\n",
       "    </tr>\n",
       "    <tr>\n",
       "      <th>164</th>\n",
       "      <td>2022-01-21</td>\n",
       "      <td>BCS,DNA,EC-AM,EC-KT,IRR,PR,SNTC,SSPT,ST</td>\n",
       "      <td>NaN</td>\n",
       "      <td>1</td>\n",
       "      <td>1</td>\n",
       "      <td>1</td>\n",
       "      <td>1</td>\n",
       "      <td>1</td>\n",
       "      <td>1</td>\n",
       "      <td>1</td>\n",
       "      <td>1</td>\n",
       "      <td>0</td>\n",
       "      <td>0</td>\n",
       "      <td>1</td>\n",
       "      <td>0</td>\n",
       "      <td>Yes</td>\n",
       "      <td>1</td>\n",
       "    </tr>\n",
       "    <tr>\n",
       "      <th>...</th>\n",
       "      <td>...</td>\n",
       "      <td>...</td>\n",
       "      <td>...</td>\n",
       "      <td>...</td>\n",
       "      <td>...</td>\n",
       "      <td>...</td>\n",
       "      <td>...</td>\n",
       "      <td>...</td>\n",
       "      <td>...</td>\n",
       "      <td>...</td>\n",
       "      <td>...</td>\n",
       "      <td>...</td>\n",
       "      <td>...</td>\n",
       "      <td>...</td>\n",
       "      <td>...</td>\n",
       "      <td>...</td>\n",
       "      <td>...</td>\n",
       "    </tr>\n",
       "    <tr>\n",
       "      <th>37310</th>\n",
       "      <td>2021-12-14</td>\n",
       "      <td>BCS,BRW,DNA,EC-HTOM,IRR,SNTC,SSPT</td>\n",
       "      <td>NO</td>\n",
       "      <td>1</td>\n",
       "      <td>1</td>\n",
       "      <td>1</td>\n",
       "      <td>1</td>\n",
       "      <td>0</td>\n",
       "      <td>1</td>\n",
       "      <td>1</td>\n",
       "      <td>0</td>\n",
       "      <td>1</td>\n",
       "      <td>0</td>\n",
       "      <td>1</td>\n",
       "      <td>0</td>\n",
       "      <td>Yes</td>\n",
       "      <td>1</td>\n",
       "    </tr>\n",
       "    <tr>\n",
       "      <th>37311</th>\n",
       "      <td>2021-12-14</td>\n",
       "      <td>BCS,BRW,IRR,EC-HTOM,SNTC,SSPT</td>\n",
       "      <td>NO</td>\n",
       "      <td>1</td>\n",
       "      <td>1</td>\n",
       "      <td>1</td>\n",
       "      <td>0</td>\n",
       "      <td>0</td>\n",
       "      <td>1</td>\n",
       "      <td>1</td>\n",
       "      <td>0</td>\n",
       "      <td>1</td>\n",
       "      <td>0</td>\n",
       "      <td>1</td>\n",
       "      <td>0</td>\n",
       "      <td>Yes</td>\n",
       "      <td>1</td>\n",
       "    </tr>\n",
       "    <tr>\n",
       "      <th>37312</th>\n",
       "      <td>2021-12-14</td>\n",
       "      <td>BCS,EC-HTOM,IRR,SNTC,SSPT,ST</td>\n",
       "      <td>NO</td>\n",
       "      <td>1</td>\n",
       "      <td>1</td>\n",
       "      <td>1</td>\n",
       "      <td>0</td>\n",
       "      <td>1</td>\n",
       "      <td>1</td>\n",
       "      <td>1</td>\n",
       "      <td>0</td>\n",
       "      <td>0</td>\n",
       "      <td>0</td>\n",
       "      <td>1</td>\n",
       "      <td>0</td>\n",
       "      <td>Yes</td>\n",
       "      <td>1</td>\n",
       "    </tr>\n",
       "    <tr>\n",
       "      <th>37313</th>\n",
       "      <td>2021-12-14</td>\n",
       "      <td>BCS,BRW,DNA,EC-HTOM,IRR,SNTC,SSPT,ST</td>\n",
       "      <td>NO</td>\n",
       "      <td>1</td>\n",
       "      <td>1</td>\n",
       "      <td>1</td>\n",
       "      <td>1</td>\n",
       "      <td>1</td>\n",
       "      <td>1</td>\n",
       "      <td>1</td>\n",
       "      <td>0</td>\n",
       "      <td>1</td>\n",
       "      <td>0</td>\n",
       "      <td>1</td>\n",
       "      <td>0</td>\n",
       "      <td>Yes</td>\n",
       "      <td>1</td>\n",
       "    </tr>\n",
       "    <tr>\n",
       "      <th>37314</th>\n",
       "      <td>2021-12-14</td>\n",
       "      <td>SSPT,ST,SNTC,BCS,BRW</td>\n",
       "      <td>NO</td>\n",
       "      <td>1</td>\n",
       "      <td>0</td>\n",
       "      <td>0</td>\n",
       "      <td>0</td>\n",
       "      <td>1</td>\n",
       "      <td>1</td>\n",
       "      <td>1</td>\n",
       "      <td>0</td>\n",
       "      <td>1</td>\n",
       "      <td>0</td>\n",
       "      <td>1</td>\n",
       "      <td>0</td>\n",
       "      <td>Yes</td>\n",
       "      <td>1</td>\n",
       "    </tr>\n",
       "  </tbody>\n",
       "</table>\n",
       "<p>930 rows × 17 columns</p>\n",
       "</div>"
      ],
      "text/plain": [
       "      Readout_Date                                  Items Recommended VBDM  \\\n",
       "51      2022-02-16  BCS,DNA,BRW,EC-AM,EC-HTOM,EC-KT,IRR,PR,SNTC,SS...  NaN   \n",
       "52      2022-02-04  BCS,BRW,DNA,EC-AM,EC-HTOM,EC-KT,IRR,PR,SNTC,SS...  NaN   \n",
       "61      2022-02-14                                          SNTC,SSPT  NaN   \n",
       "69      2022-02-03                                               SNTC  NaN   \n",
       "164     2022-01-21            BCS,DNA,EC-AM,EC-KT,IRR,PR,SNTC,SSPT,ST  NaN   \n",
       "...            ...                                                ...  ...   \n",
       "37310   2021-12-14                  BCS,BRW,DNA,EC-HTOM,IRR,SNTC,SSPT   NO   \n",
       "37311   2021-12-14                      BCS,BRW,IRR,EC-HTOM,SNTC,SSPT   NO   \n",
       "37312   2021-12-14                       BCS,EC-HTOM,IRR,SNTC,SSPT,ST   NO   \n",
       "37313   2021-12-14               BCS,BRW,DNA,EC-HTOM,IRR,SNTC,SSPT,ST   NO   \n",
       "37314   2021-12-14                               SSPT,ST,SNTC,BCS,BRW   NO   \n",
       "\n",
       "       RRT_BCS  RRT_EC  RRT_IRR  RRT_DNAC  RRT_ST  RRT_SSPT  RRT_SNTC  RRT_PR  \\\n",
       "51           1       1        1         1       1         1         1       1   \n",
       "52           1       1        1         1       1         1         1       1   \n",
       "61           0       0        0         0       0         1         1       0   \n",
       "69           0       0        0         0       0         0         1       0   \n",
       "164          1       1        1         1       1         1         1       1   \n",
       "...        ...     ...      ...       ...     ...       ...       ...     ...   \n",
       "37310        1       1        1         1       0         1         1       0   \n",
       "37311        1       1        1         0       0         1         1       0   \n",
       "37312        1       1        1         0       1         1         1       0   \n",
       "37313        1       1        1         1       1         1         1       0   \n",
       "37314        1       0        0         0       1         1         1       0   \n",
       "\n",
       "       RRT_BRW  RRT_VBDM  RRT_LPM+  RRT_NULL LPM_OFFER_CREATED  LPM_OFFERS  \n",
       "51           1         0         1         0               Yes           1  \n",
       "52           1         0         1         0               Yes           1  \n",
       "61           0         0         1         0               Yes           1  \n",
       "69           0         0         1         0               Yes           1  \n",
       "164          0         0         1         0               Yes           1  \n",
       "...        ...       ...       ...       ...               ...         ...  \n",
       "37310        1         0         1         0               Yes           1  \n",
       "37311        1         0         1         0               Yes           1  \n",
       "37312        0         0         1         0               Yes           1  \n",
       "37313        1         0         1         0               Yes           1  \n",
       "37314        1         0         1         0               Yes           1  \n",
       "\n",
       "[930 rows x 17 columns]"
      ]
     },
     "execution_count": 253,
     "metadata": {},
     "output_type": "execute_result"
    }
   ],
   "source": [
    "df.loc[(df['Readout_Date'].notnull()) & (df['Items Recommended'].notnull()) & (df['LPM_OFFER_CREATED'].notnull())][['Readout_Date','Items Recommended','VBDM','RRT_BCS','RRT_EC','RRT_IRR','RRT_DNAC','RRT_ST','RRT_SSPT','RRT_SNTC','RRT_PR','RRT_BRW','RRT_VBDM','RRT_LPM+','RRT_NULL','LPM_OFFER_CREATED','LPM_OFFERS']]"
   ]
  },
  {
   "cell_type": "code",
   "execution_count": null,
   "metadata": {},
   "outputs": [],
   "source": []
  },
  {
   "cell_type": "code",
   "execution_count": 254,
   "metadata": {},
   "outputs": [],
   "source": [
    "df['Method'] = None"
   ]
  },
  {
   "cell_type": "code",
   "execution_count": 255,
   "metadata": {},
   "outputs": [],
   "source": [
    "df['Measure Group'] = 'Operations'"
   ]
  },
  {
   "cell_type": "code",
   "execution_count": 256,
   "metadata": {},
   "outputs": [],
   "source": [
    "df.loc[df['Campaign Type'].str.contains('coverage at renewal', na=False, case=False),'Method'] = 'M6 (Coverage at Renewal)' #[['Request ID','Create Date','Customer Name','Compass Campaign Name','Campaign Type']]"
   ]
  },
  {
   "cell_type": "code",
   "execution_count": 257,
   "metadata": {},
   "outputs": [],
   "source": [
    "df.loc[(df['Campaign'] == 'PROACTIVE - TAC LEAD') | (df['Campaign Type'].str.contains('test', na=False, case=False)),'Method'] = 'OMIT'"
   ]
  },
  {
   "cell_type": "code",
   "execution_count": 258,
   "metadata": {},
   "outputs": [],
   "source": [
    "df.loc[df['Campaign Type'].str.contains('field', na=False, case=False),'Method'] = 'FIELD'"
   ]
  },
  {
   "cell_type": "code",
   "execution_count": 259,
   "metadata": {},
   "outputs": [],
   "source": [
    "df.loc[df['Campaign Type'].str.contains('targeting', na=False, case=False),'Method'] = 'TARGETING'"
   ]
  },
  {
   "cell_type": "code",
   "execution_count": 260,
   "metadata": {},
   "outputs": [],
   "source": [
    "df.loc[df['Campaign Type'].str.contains('cxib', na=False, case=False),'Method'] = 'M6 (CXIB)'"
   ]
  },
  {
   "cell_type": "code",
   "execution_count": 261,
   "metadata": {},
   "outputs": [],
   "source": [
    "df.loc[(df['Campaign Type'].str.contains('missed attach', na=False, case=False)) | \n",
    "       (df['Campaign Type'].str.contains('coverage program', na=False, case=False)) | \n",
    "       (df['Campaign Type'].str.contains('telemetry', na=False, case=False)) |\n",
    "       (df['Campaign Type'] == 'TAC') |\n",
    "       (df['Campaign'] == 'REACTIVE - ATTACH REPORT') |\n",
    "       (df['Campaign'] == 'COVERAGE PROGRAM - FIELD REQUEST') |\n",
    "       (df['Campaign'] == 'COVERAGE PROGRAM - SNTC PROACTIVE ATTACH') |\n",
    "       (df['Campaign Type'].str.contains('proactive coverage', na=False, case=False)),'Method'] = 'M1 (Coverage Program)'"
   ]
  },
  {
   "cell_type": "code",
   "execution_count": 262,
   "metadata": {},
   "outputs": [
    {
     "data": {
      "text/html": [
       "<div>\n",
       "<style scoped>\n",
       "    .dataframe tbody tr th:only-of-type {\n",
       "        vertical-align: middle;\n",
       "    }\n",
       "\n",
       "    .dataframe tbody tr th {\n",
       "        vertical-align: top;\n",
       "    }\n",
       "\n",
       "    .dataframe thead th {\n",
       "        text-align: right;\n",
       "    }\n",
       "</style>\n",
       "<table border=\"1\" class=\"dataframe\">\n",
       "  <thead>\n",
       "    <tr style=\"text-align: right;\">\n",
       "      <th></th>\n",
       "      <th>Request Type</th>\n",
       "      <th>Create Date</th>\n",
       "      <th>Request Type</th>\n",
       "      <th>Campaign Type</th>\n",
       "      <th>Campaign</th>\n",
       "      <th>Request FY</th>\n",
       "      <th>Request FQ</th>\n",
       "      <th>Request FM</th>\n",
       "    </tr>\n",
       "  </thead>\n",
       "  <tbody>\n",
       "    <tr>\n",
       "      <th>4476</th>\n",
       "      <td>Targeting Campaign</td>\n",
       "      <td>2022-02-16</td>\n",
       "      <td>Targeting Campaign</td>\n",
       "      <td>PROACTIVE COVERAGE</td>\n",
       "      <td>COVERAGE PROGRAM - SNTC PROACTIVE ATTACH</td>\n",
       "      <td>2022</td>\n",
       "      <td>3</td>\n",
       "      <td>07</td>\n",
       "    </tr>\n",
       "    <tr>\n",
       "      <th>4477</th>\n",
       "      <td>Targeting Campaign</td>\n",
       "      <td>2022-02-16</td>\n",
       "      <td>Targeting Campaign</td>\n",
       "      <td>PROACTIVE COVERAGE</td>\n",
       "      <td>COVERAGE PROGRAM - SNTC PROACTIVE ATTACH</td>\n",
       "      <td>2022</td>\n",
       "      <td>3</td>\n",
       "      <td>07</td>\n",
       "    </tr>\n",
       "    <tr>\n",
       "      <th>4478</th>\n",
       "      <td>Targeting Campaign</td>\n",
       "      <td>2022-02-16</td>\n",
       "      <td>Targeting Campaign</td>\n",
       "      <td>PROACTIVE COVERAGE</td>\n",
       "      <td>COVERAGE PROGRAM - SNTC PROACTIVE ATTACH</td>\n",
       "      <td>2022</td>\n",
       "      <td>3</td>\n",
       "      <td>07</td>\n",
       "    </tr>\n",
       "    <tr>\n",
       "      <th>4479</th>\n",
       "      <td>Targeting Campaign</td>\n",
       "      <td>2022-02-16</td>\n",
       "      <td>Targeting Campaign</td>\n",
       "      <td>PROACTIVE COVERAGE</td>\n",
       "      <td>COVERAGE PROGRAM - SNTC PROACTIVE ATTACH</td>\n",
       "      <td>2022</td>\n",
       "      <td>3</td>\n",
       "      <td>07</td>\n",
       "    </tr>\n",
       "    <tr>\n",
       "      <th>4480</th>\n",
       "      <td>Targeting Campaign</td>\n",
       "      <td>2022-02-16</td>\n",
       "      <td>Targeting Campaign</td>\n",
       "      <td>PROACTIVE COVERAGE</td>\n",
       "      <td>COVERAGE PROGRAM - SNTC PROACTIVE ATTACH</td>\n",
       "      <td>2022</td>\n",
       "      <td>3</td>\n",
       "      <td>07</td>\n",
       "    </tr>\n",
       "    <tr>\n",
       "      <th>...</th>\n",
       "      <td>...</td>\n",
       "      <td>...</td>\n",
       "      <td>...</td>\n",
       "      <td>...</td>\n",
       "      <td>...</td>\n",
       "      <td>...</td>\n",
       "      <td>...</td>\n",
       "      <td>...</td>\n",
       "    </tr>\n",
       "    <tr>\n",
       "      <th>36355</th>\n",
       "      <td>Targeting Campaign</td>\n",
       "      <td>2021-11-23</td>\n",
       "      <td>Targeting Campaign</td>\n",
       "      <td>PROACTIVE COVERAGE</td>\n",
       "      <td>COVERAGE PROGRAM - SNTC PROACTIVE ATTACH</td>\n",
       "      <td>2022</td>\n",
       "      <td>2</td>\n",
       "      <td>04</td>\n",
       "    </tr>\n",
       "    <tr>\n",
       "      <th>36356</th>\n",
       "      <td>Targeting Campaign</td>\n",
       "      <td>2021-11-23</td>\n",
       "      <td>Targeting Campaign</td>\n",
       "      <td>PROACTIVE COVERAGE</td>\n",
       "      <td>COVERAGE PROGRAM - SNTC PROACTIVE ATTACH</td>\n",
       "      <td>2022</td>\n",
       "      <td>2</td>\n",
       "      <td>04</td>\n",
       "    </tr>\n",
       "    <tr>\n",
       "      <th>36357</th>\n",
       "      <td>Targeting Campaign</td>\n",
       "      <td>2021-11-23</td>\n",
       "      <td>Targeting Campaign</td>\n",
       "      <td>PROACTIVE COVERAGE</td>\n",
       "      <td>COVERAGE PROGRAM - SNTC PROACTIVE ATTACH</td>\n",
       "      <td>2022</td>\n",
       "      <td>2</td>\n",
       "      <td>04</td>\n",
       "    </tr>\n",
       "    <tr>\n",
       "      <th>36358</th>\n",
       "      <td>Targeting Campaign</td>\n",
       "      <td>2021-11-23</td>\n",
       "      <td>Targeting Campaign</td>\n",
       "      <td>PROACTIVE COVERAGE</td>\n",
       "      <td>COVERAGE PROGRAM - SNTC PROACTIVE ATTACH</td>\n",
       "      <td>2022</td>\n",
       "      <td>2</td>\n",
       "      <td>04</td>\n",
       "    </tr>\n",
       "    <tr>\n",
       "      <th>36751</th>\n",
       "      <td>Targeting Campaign</td>\n",
       "      <td>2021-11-04</td>\n",
       "      <td>Targeting Campaign</td>\n",
       "      <td>PROACTIVE COVERAGE</td>\n",
       "      <td>COVERAGE PROGRAM - SNTC PROACTIVE ATTACH</td>\n",
       "      <td>2022</td>\n",
       "      <td>2</td>\n",
       "      <td>04</td>\n",
       "    </tr>\n",
       "  </tbody>\n",
       "</table>\n",
       "<p>861 rows × 8 columns</p>\n",
       "</div>"
      ],
      "text/plain": [
       "             Request Type Create Date        Request Type       Campaign Type  \\\n",
       "4476   Targeting Campaign  2022-02-16  Targeting Campaign  PROACTIVE COVERAGE   \n",
       "4477   Targeting Campaign  2022-02-16  Targeting Campaign  PROACTIVE COVERAGE   \n",
       "4478   Targeting Campaign  2022-02-16  Targeting Campaign  PROACTIVE COVERAGE   \n",
       "4479   Targeting Campaign  2022-02-16  Targeting Campaign  PROACTIVE COVERAGE   \n",
       "4480   Targeting Campaign  2022-02-16  Targeting Campaign  PROACTIVE COVERAGE   \n",
       "...                   ...         ...                 ...                 ...   \n",
       "36355  Targeting Campaign  2021-11-23  Targeting Campaign  PROACTIVE COVERAGE   \n",
       "36356  Targeting Campaign  2021-11-23  Targeting Campaign  PROACTIVE COVERAGE   \n",
       "36357  Targeting Campaign  2021-11-23  Targeting Campaign  PROACTIVE COVERAGE   \n",
       "36358  Targeting Campaign  2021-11-23  Targeting Campaign  PROACTIVE COVERAGE   \n",
       "36751  Targeting Campaign  2021-11-04  Targeting Campaign  PROACTIVE COVERAGE   \n",
       "\n",
       "                                       Campaign Request FY Request FQ  \\\n",
       "4476   COVERAGE PROGRAM - SNTC PROACTIVE ATTACH       2022          3   \n",
       "4477   COVERAGE PROGRAM - SNTC PROACTIVE ATTACH       2022          3   \n",
       "4478   COVERAGE PROGRAM - SNTC PROACTIVE ATTACH       2022          3   \n",
       "4479   COVERAGE PROGRAM - SNTC PROACTIVE ATTACH       2022          3   \n",
       "4480   COVERAGE PROGRAM - SNTC PROACTIVE ATTACH       2022          3   \n",
       "...                                         ...        ...        ...   \n",
       "36355  COVERAGE PROGRAM - SNTC PROACTIVE ATTACH       2022          2   \n",
       "36356  COVERAGE PROGRAM - SNTC PROACTIVE ATTACH       2022          2   \n",
       "36357  COVERAGE PROGRAM - SNTC PROACTIVE ATTACH       2022          2   \n",
       "36358  COVERAGE PROGRAM - SNTC PROACTIVE ATTACH       2022          2   \n",
       "36751  COVERAGE PROGRAM - SNTC PROACTIVE ATTACH       2022          2   \n",
       "\n",
       "      Request FM  \n",
       "4476          07  \n",
       "4477          07  \n",
       "4478          07  \n",
       "4479          07  \n",
       "4480          07  \n",
       "...          ...  \n",
       "36355         04  \n",
       "36356         04  \n",
       "36357         04  \n",
       "36358         04  \n",
       "36751         04  \n",
       "\n",
       "[861 rows x 8 columns]"
      ]
     },
     "execution_count": 262,
     "metadata": {},
     "output_type": "execute_result"
    }
   ],
   "source": [
    "df.loc[(df['Campaign Type'].str.contains('proactive', na=False, case=False)) & (df['Campaign'].str.contains('attach', na=False, case=False))][['Request Type','Create Date','Request Type', 'Campaign Type','Campaign','Request FY','Request FQ','Request FM']]"
   ]
  },
  {
   "cell_type": "code",
   "execution_count": 263,
   "metadata": {},
   "outputs": [
    {
     "data": {
      "text/plain": [
       "array(['FIELD', 'TARGETING', 'TELEMETRY', 'COVERAGE AT RENEWAL', 'CXIB',\n",
       "       'TAC', 'PROACTIVE COVERAGE', 'PROACTIVE_OLD', 'NONREPORTING/TESTS'],\n",
       "      dtype=object)"
      ]
     },
     "execution_count": 263,
     "metadata": {},
     "output_type": "execute_result"
    }
   ],
   "source": [
    "df['Campaign Type'].unique()"
   ]
  },
  {
   "cell_type": "code",
   "execution_count": 264,
   "metadata": {},
   "outputs": [
    {
     "data": {
      "text/plain": [
       "array(['NON-TARGETING', 'BCS', 'SNTC', 'SUCCESSTRACKS', 'PARTNER', 'SSPT',\n",
       "       'MAJORS'], dtype=object)"
      ]
     },
     "execution_count": 264,
     "metadata": {},
     "output_type": "execute_result"
    }
   ],
   "source": [
    "df['Targeting Campaign Type'].unique()"
   ]
  },
  {
   "cell_type": "code",
   "execution_count": 265,
   "metadata": {},
   "outputs": [],
   "source": [
    "df.loc[(df['Campaign Type']=='COVERAGE PROGRAM') & (df['Campaign']=='COVERAGE PROGRAM - PROACTIVE ATTACH'), 'Campaign'] = 'COVERAGE - SNTC PROACTIVE ATTACH'"
   ]
  },
  {
   "cell_type": "code",
   "execution_count": 266,
   "metadata": {},
   "outputs": [],
   "source": [
    "def set_offer_focus(campaign_type, target_campaign_type):\n",
    "    if campaign_type == 'FIELD':\n",
    "        return 'ANY'\n",
    "    elif campaign_type == 'CXIB':\n",
    "        return 'SNTC'\n",
    "    elif campaign_type == 'COVERAGE AT RENEWAL':\n",
    "        return 'SNTC'\n",
    "    elif (campaign_type == 'MISSED ATTACH') or (campaign_type == 'COVERAGE PROGRAM') or (campaign_type == 'PROACTIVE COVERAGE') or (campaign_type == 'TAC') or (campaign_type == 'TELEMETRY'):\n",
    "        return 'SNTC'\n",
    "    elif campaign_type == 'TARGETING' and target_campaign_type == 'MAJORS':\n",
    "        return 'BCS'\n",
    "    elif campaign_type == 'TARGETING' and target_campaign_type == 'BCS':\n",
    "        return 'BCS'\n",
    "    elif campaign_type == 'TARGETING' and target_campaign_type == 'SUCCESSTRACKS':\n",
    "        return 'ST'\n",
    "    elif campaign_type == 'TARGETING' and target_campaign_type == 'SSPT':\n",
    "        return 'SSPT'\n",
    "    elif campaign_type == 'TARGETING' and target_campaign_type == 'SNTC':\n",
    "        return 'SNTC'\n",
    "    else:\n",
    "        return None"
   ]
  },
  {
   "cell_type": "code",
   "execution_count": 267,
   "metadata": {},
   "outputs": [],
   "source": [
    "df['Offer Focus'] = df.apply(lambda x: set_offer_focus(x['Campaign Type'], x['Targeting Campaign Type']), axis=1)"
   ]
  },
  {
   "cell_type": "code",
   "execution_count": 268,
   "metadata": {},
   "outputs": [],
   "source": [
    "df['Value Type'] = 'Actual'"
   ]
  },
  {
   "cell_type": "code",
   "execution_count": 269,
   "metadata": {},
   "outputs": [],
   "source": [
    "# df.loc[:,df.columns.str.contains('readout', na=False, case=False)]"
   ]
  },
  {
   "cell_type": "code",
   "execution_count": 270,
   "metadata": {},
   "outputs": [],
   "source": [
    "def apply_fiscal_year(readout_fy, request_fy):\n",
    "    if isinstance(readout_fy,str):\n",
    "        if readout_fy.isdigit():\n",
    "            return readout_fy\n",
    "    else:\n",
    "        return request_fy"
   ]
  },
  {
   "cell_type": "code",
   "execution_count": 271,
   "metadata": {},
   "outputs": [],
   "source": [
    "def apply_fiscal_qtr(readout_fq, request_fq):\n",
    "    if isinstance(readout_fq,str):\n",
    "        if readout_fq.isdigit():\n",
    "            return 'Q' + readout_fq\n",
    "    else:\n",
    "        return 'Q' + request_fq"
   ]
  },
  {
   "cell_type": "code",
   "execution_count": 272,
   "metadata": {},
   "outputs": [],
   "source": [
    "def apply_injection_month(request_fy, request_fm):\n",
    "    if isinstance(request_fy,str):\n",
    "        if request_fy.isdigit():\n",
    "            return ''.join([request_fy,request_fm])\n",
    "    else:\n",
    "        return None"
   ]
  },
  {
   "cell_type": "code",
   "execution_count": 273,
   "metadata": {},
   "outputs": [],
   "source": [
    "def apply_injection_quarter(request_fy, request_fq):\n",
    "    if isinstance(request_fy,str):\n",
    "        if request_fy.isdigit():\n",
    "            return ''.join([request_fy,'-Q',request_fq])\n",
    "    else:\n",
    "        return None"
   ]
  },
  {
   "cell_type": "code",
   "execution_count": 274,
   "metadata": {},
   "outputs": [],
   "source": [
    "# print(list(df.loc[df['Readout FY']]['Readout FY'].unique()))"
   ]
  },
  {
   "cell_type": "code",
   "execution_count": 275,
   "metadata": {},
   "outputs": [],
   "source": [
    "df['Report FY'] = df.apply(lambda x: apply_fiscal_year(x['Readout FY'], x['Request FY']), axis=1)"
   ]
  },
  {
   "cell_type": "code",
   "execution_count": 276,
   "metadata": {},
   "outputs": [],
   "source": [
    "df['Report FQ'] = df.apply(lambda x: apply_fiscal_qtr(x['Readout FQ'], x['Request FQ']), axis=1)"
   ]
  },
  {
   "cell_type": "code",
   "execution_count": 277,
   "metadata": {},
   "outputs": [],
   "source": [
    "df['Injection Month'] = df.apply(lambda x: apply_injection_month(x['Request FY'],x['Request FM']), axis=1)"
   ]
  },
  {
   "cell_type": "code",
   "execution_count": 278,
   "metadata": {},
   "outputs": [],
   "source": [
    "df['Injection Quarter'] = df.apply(lambda x: apply_injection_quarter(x['Request FY'],x['Request FQ']), axis=1)"
   ]
  },
  {
   "cell_type": "code",
   "execution_count": 279,
   "metadata": {},
   "outputs": [
    {
     "data": {
      "text/plain": [
       "Campaign                                          Campaign Type       Method               \n",
       "COVERAGE PROGRAM - SNTC PROACTIVE ATTACH          PROACTIVE COVERAGE  M1 (Coverage Program)    861\n",
       "SUCCESS TRACKS FOR CAMPUS TARGETING - DCN ATTACH  TARGETING           TARGETING                430\n",
       "COVERAGE PROGRAM - SNTC TAC LEADS                 TAC                 M1 (Coverage Program)    113\n",
       "PROACTIVE - TAC LEAD                              PROACTIVE_OLD       OMIT                     100\n",
       "dtype: int64"
      ]
     },
     "execution_count": 279,
     "metadata": {},
     "output_type": "execute_result"
    }
   ],
   "source": [
    "df.loc[(df['Campaign'].str.contains('TAC')) ][['Campaign','Campaign Type','Method']].value_counts()"
   ]
  },
  {
   "cell_type": "code",
   "execution_count": 280,
   "metadata": {},
   "outputs": [
    {
     "data": {
      "text/plain": [
       "Method                 Campaign Type       Campaign                                \n",
       "M1 (Coverage Program)  TELEMETRY           COVERAGE PROGRAM - TELEMETRY                659\n",
       "                       PROACTIVE COVERAGE  COVERAGE PROGRAM - SNTC PROACTIVE ATTACH    224\n",
       "                       TAC                 COVERAGE PROGRAM - SNTC TAC LEADS            11\n",
       "dtype: int64"
      ]
     },
     "execution_count": 280,
     "metadata": {},
     "output_type": "execute_result"
    }
   ],
   "source": [
    "df.loc[(df['Report FY']=='2022') & (df['Report FQ']=='Q2') & (df['RR_INTERNAL']=='YES') & (df['ALERT_BELOW_25'] == 0) & (df['Method']=='M1 (Coverage Program)')][['Method','Campaign Type','Campaign',]].value_counts()"
   ]
  },
  {
   "cell_type": "code",
   "execution_count": 281,
   "metadata": {},
   "outputs": [
    {
     "data": {
      "text/html": [
       "<div>\n",
       "<style scoped>\n",
       "    .dataframe tbody tr th:only-of-type {\n",
       "        vertical-align: middle;\n",
       "    }\n",
       "\n",
       "    .dataframe tbody tr th {\n",
       "        vertical-align: top;\n",
       "    }\n",
       "\n",
       "    .dataframe thead th {\n",
       "        text-align: right;\n",
       "    }\n",
       "</style>\n",
       "<table border=\"1\" class=\"dataframe\">\n",
       "  <thead>\n",
       "    <tr style=\"text-align: right;\">\n",
       "      <th></th>\n",
       "      <th>Request ID</th>\n",
       "      <th>Create Date</th>\n",
       "      <th>Created By</th>\n",
       "      <th>Request Type</th>\n",
       "      <th>Modified</th>\n",
       "      <th>Modified By</th>\n",
       "      <th>Date Completed</th>\n",
       "      <th>TARGET_REQUEST_ID</th>\n",
       "      <th>LAST_UPDATED</th>\n",
       "      <th>QA Approve</th>\n",
       "      <th>...</th>\n",
       "      <th>RRT_LPM+</th>\n",
       "      <th>LPM_OFFERS</th>\n",
       "      <th>Method</th>\n",
       "      <th>Measure Group</th>\n",
       "      <th>Offer Focus</th>\n",
       "      <th>Value Type</th>\n",
       "      <th>Report FY</th>\n",
       "      <th>Report FQ</th>\n",
       "      <th>Injection Month</th>\n",
       "      <th>Injection Quarter</th>\n",
       "    </tr>\n",
       "  </thead>\n",
       "  <tbody>\n",
       "    <tr>\n",
       "      <th>0</th>\n",
       "      <td>112652</td>\n",
       "      <td>2022-02-17</td>\n",
       "      <td>gschribe@cisco.com</td>\n",
       "      <td>Reactive</td>\n",
       "      <td>2022-03-03</td>\n",
       "      <td>sansampa@cisco.com</td>\n",
       "      <td>2022-02-24</td>\n",
       "      <td>NaN</td>\n",
       "      <td>2022-03-03 18:03 PM Eastern</td>\n",
       "      <td>False</td>\n",
       "      <td>...</td>\n",
       "      <td>0</td>\n",
       "      <td>0</td>\n",
       "      <td>FIELD</td>\n",
       "      <td>Operations</td>\n",
       "      <td>ANY</td>\n",
       "      <td>Actual</td>\n",
       "      <td>2022</td>\n",
       "      <td>Q3</td>\n",
       "      <td>202207</td>\n",
       "      <td>2022-Q3</td>\n",
       "    </tr>\n",
       "    <tr>\n",
       "      <th>1</th>\n",
       "      <td>111949</td>\n",
       "      <td>2022-02-07</td>\n",
       "      <td>ngulahme@cisco.com</td>\n",
       "      <td>Reactive</td>\n",
       "      <td>2022-02-16</td>\n",
       "      <td>vevangel@cisco.com</td>\n",
       "      <td>2022-02-09</td>\n",
       "      <td>NaN</td>\n",
       "      <td>2022-03-03 18:03 PM Eastern</td>\n",
       "      <td>False</td>\n",
       "      <td>...</td>\n",
       "      <td>0</td>\n",
       "      <td>0</td>\n",
       "      <td>FIELD</td>\n",
       "      <td>Operations</td>\n",
       "      <td>ANY</td>\n",
       "      <td>Actual</td>\n",
       "      <td>2022</td>\n",
       "      <td>Q3</td>\n",
       "      <td>202207</td>\n",
       "      <td>2022-Q3</td>\n",
       "    </tr>\n",
       "    <tr>\n",
       "      <th>2</th>\n",
       "      <td>111948</td>\n",
       "      <td>2022-02-07</td>\n",
       "      <td>macoup@cisco.com</td>\n",
       "      <td>Reactive</td>\n",
       "      <td>2022-03-01</td>\n",
       "      <td>macoup@cisco.com</td>\n",
       "      <td>2022-02-09</td>\n",
       "      <td>NaN</td>\n",
       "      <td>2022-03-03 18:03 PM Eastern</td>\n",
       "      <td>False</td>\n",
       "      <td>...</td>\n",
       "      <td>0</td>\n",
       "      <td>0</td>\n",
       "      <td>FIELD</td>\n",
       "      <td>Operations</td>\n",
       "      <td>ANY</td>\n",
       "      <td>Actual</td>\n",
       "      <td>2022</td>\n",
       "      <td>Q3</td>\n",
       "      <td>202207</td>\n",
       "      <td>2022-Q3</td>\n",
       "    </tr>\n",
       "    <tr>\n",
       "      <th>154</th>\n",
       "      <td>109242</td>\n",
       "      <td>2021-12-17</td>\n",
       "      <td>chrihoff@cisco.com</td>\n",
       "      <td>Reactive</td>\n",
       "      <td>2022-01-28</td>\n",
       "      <td>ebaird@cisco.com</td>\n",
       "      <td>2022-01-10</td>\n",
       "      <td>NaN</td>\n",
       "      <td>2022-03-03 18:03 PM Eastern</td>\n",
       "      <td>False</td>\n",
       "      <td>...</td>\n",
       "      <td>1</td>\n",
       "      <td>0</td>\n",
       "      <td>FIELD</td>\n",
       "      <td>Operations</td>\n",
       "      <td>ANY</td>\n",
       "      <td>Actual</td>\n",
       "      <td>2022</td>\n",
       "      <td>Q2</td>\n",
       "      <td>202205</td>\n",
       "      <td>2022-Q2</td>\n",
       "    </tr>\n",
       "    <tr>\n",
       "      <th>155</th>\n",
       "      <td>110407</td>\n",
       "      <td>2022-01-11</td>\n",
       "      <td>vikantha@cisco.com</td>\n",
       "      <td>Reactive</td>\n",
       "      <td>2022-03-01</td>\n",
       "      <td>abierste@cisco.com</td>\n",
       "      <td>2022-01-17</td>\n",
       "      <td>NaN</td>\n",
       "      <td>2022-03-03 18:03 PM Eastern</td>\n",
       "      <td>False</td>\n",
       "      <td>...</td>\n",
       "      <td>0</td>\n",
       "      <td>0</td>\n",
       "      <td>FIELD</td>\n",
       "      <td>Operations</td>\n",
       "      <td>ANY</td>\n",
       "      <td>Actual</td>\n",
       "      <td>2022</td>\n",
       "      <td>Q3</td>\n",
       "      <td>202206</td>\n",
       "      <td>2022-Q2</td>\n",
       "    </tr>\n",
       "    <tr>\n",
       "      <th>...</th>\n",
       "      <td>...</td>\n",
       "      <td>...</td>\n",
       "      <td>...</td>\n",
       "      <td>...</td>\n",
       "      <td>...</td>\n",
       "      <td>...</td>\n",
       "      <td>...</td>\n",
       "      <td>...</td>\n",
       "      <td>...</td>\n",
       "      <td>...</td>\n",
       "      <td>...</td>\n",
       "      <td>...</td>\n",
       "      <td>...</td>\n",
       "      <td>...</td>\n",
       "      <td>...</td>\n",
       "      <td>...</td>\n",
       "      <td>...</td>\n",
       "      <td>...</td>\n",
       "      <td>...</td>\n",
       "      <td>...</td>\n",
       "      <td>...</td>\n",
       "    </tr>\n",
       "    <tr>\n",
       "      <th>37310</th>\n",
       "      <td>107566</td>\n",
       "      <td>2021-11-24</td>\n",
       "      <td>navedeva@cisco.com</td>\n",
       "      <td>Targeting Campaign</td>\n",
       "      <td>2022-03-01</td>\n",
       "      <td>rosecam@cisco.com</td>\n",
       "      <td>2021-12-06</td>\n",
       "      <td>NaN</td>\n",
       "      <td>2022-03-03 18:03 PM Eastern</td>\n",
       "      <td>False</td>\n",
       "      <td>...</td>\n",
       "      <td>1</td>\n",
       "      <td>1</td>\n",
       "      <td>FIELD</td>\n",
       "      <td>Operations</td>\n",
       "      <td>ANY</td>\n",
       "      <td>Actual</td>\n",
       "      <td>2022</td>\n",
       "      <td>Q2</td>\n",
       "      <td>202204</td>\n",
       "      <td>2022-Q2</td>\n",
       "    </tr>\n",
       "    <tr>\n",
       "      <th>37311</th>\n",
       "      <td>107567</td>\n",
       "      <td>2021-11-24</td>\n",
       "      <td>navedeva@cisco.com</td>\n",
       "      <td>Targeting Campaign</td>\n",
       "      <td>2022-03-01</td>\n",
       "      <td>rosecam@cisco.com</td>\n",
       "      <td>2021-12-06</td>\n",
       "      <td>NaN</td>\n",
       "      <td>2022-03-03 18:03 PM Eastern</td>\n",
       "      <td>False</td>\n",
       "      <td>...</td>\n",
       "      <td>1</td>\n",
       "      <td>1</td>\n",
       "      <td>FIELD</td>\n",
       "      <td>Operations</td>\n",
       "      <td>ANY</td>\n",
       "      <td>Actual</td>\n",
       "      <td>2022</td>\n",
       "      <td>Q2</td>\n",
       "      <td>202204</td>\n",
       "      <td>2022-Q2</td>\n",
       "    </tr>\n",
       "    <tr>\n",
       "      <th>37312</th>\n",
       "      <td>107568</td>\n",
       "      <td>2021-11-24</td>\n",
       "      <td>navedeva@cisco.com</td>\n",
       "      <td>Targeting Campaign</td>\n",
       "      <td>2022-03-01</td>\n",
       "      <td>rosecam@cisco.com</td>\n",
       "      <td>2021-12-06</td>\n",
       "      <td>NaN</td>\n",
       "      <td>2022-03-03 18:03 PM Eastern</td>\n",
       "      <td>False</td>\n",
       "      <td>...</td>\n",
       "      <td>1</td>\n",
       "      <td>1</td>\n",
       "      <td>FIELD</td>\n",
       "      <td>Operations</td>\n",
       "      <td>ANY</td>\n",
       "      <td>Actual</td>\n",
       "      <td>2022</td>\n",
       "      <td>Q2</td>\n",
       "      <td>202204</td>\n",
       "      <td>2022-Q2</td>\n",
       "    </tr>\n",
       "    <tr>\n",
       "      <th>37313</th>\n",
       "      <td>107569</td>\n",
       "      <td>2021-11-24</td>\n",
       "      <td>navedeva@cisco.com</td>\n",
       "      <td>Targeting Campaign</td>\n",
       "      <td>2022-03-01</td>\n",
       "      <td>rosecam@cisco.com</td>\n",
       "      <td>2021-12-06</td>\n",
       "      <td>NaN</td>\n",
       "      <td>2022-03-03 18:03 PM Eastern</td>\n",
       "      <td>False</td>\n",
       "      <td>...</td>\n",
       "      <td>1</td>\n",
       "      <td>1</td>\n",
       "      <td>FIELD</td>\n",
       "      <td>Operations</td>\n",
       "      <td>ANY</td>\n",
       "      <td>Actual</td>\n",
       "      <td>2022</td>\n",
       "      <td>Q2</td>\n",
       "      <td>202204</td>\n",
       "      <td>2022-Q2</td>\n",
       "    </tr>\n",
       "    <tr>\n",
       "      <th>37314</th>\n",
       "      <td>107570</td>\n",
       "      <td>2021-11-24</td>\n",
       "      <td>navedeva@cisco.com</td>\n",
       "      <td>Targeting Campaign</td>\n",
       "      <td>2022-03-01</td>\n",
       "      <td>rosecam@cisco.com</td>\n",
       "      <td>2021-12-06</td>\n",
       "      <td>NaN</td>\n",
       "      <td>2022-03-03 18:03 PM Eastern</td>\n",
       "      <td>False</td>\n",
       "      <td>...</td>\n",
       "      <td>1</td>\n",
       "      <td>1</td>\n",
       "      <td>FIELD</td>\n",
       "      <td>Operations</td>\n",
       "      <td>ANY</td>\n",
       "      <td>Actual</td>\n",
       "      <td>2022</td>\n",
       "      <td>Q2</td>\n",
       "      <td>202204</td>\n",
       "      <td>2022-Q2</td>\n",
       "    </tr>\n",
       "  </tbody>\n",
       "</table>\n",
       "<p>2811 rows × 176 columns</p>\n",
       "</div>"
      ],
      "text/plain": [
       "      Request ID Create Date          Created By        Request Type  \\\n",
       "0         112652  2022-02-17  gschribe@cisco.com            Reactive   \n",
       "1         111949  2022-02-07  ngulahme@cisco.com            Reactive   \n",
       "2         111948  2022-02-07    macoup@cisco.com            Reactive   \n",
       "154       109242  2021-12-17  chrihoff@cisco.com            Reactive   \n",
       "155       110407  2022-01-11  vikantha@cisco.com            Reactive   \n",
       "...          ...         ...                 ...                 ...   \n",
       "37310     107566  2021-11-24  navedeva@cisco.com  Targeting Campaign   \n",
       "37311     107567  2021-11-24  navedeva@cisco.com  Targeting Campaign   \n",
       "37312     107568  2021-11-24  navedeva@cisco.com  Targeting Campaign   \n",
       "37313     107569  2021-11-24  navedeva@cisco.com  Targeting Campaign   \n",
       "37314     107570  2021-11-24  navedeva@cisco.com  Targeting Campaign   \n",
       "\n",
       "        Modified         Modified By Date Completed  TARGET_REQUEST_ID  \\\n",
       "0     2022-03-03  sansampa@cisco.com     2022-02-24                NaN   \n",
       "1     2022-02-16  vevangel@cisco.com     2022-02-09                NaN   \n",
       "2     2022-03-01    macoup@cisco.com     2022-02-09                NaN   \n",
       "154   2022-01-28    ebaird@cisco.com     2022-01-10                NaN   \n",
       "155   2022-03-01  abierste@cisco.com     2022-01-17                NaN   \n",
       "...          ...                 ...            ...                ...   \n",
       "37310 2022-03-01   rosecam@cisco.com     2021-12-06                NaN   \n",
       "37311 2022-03-01   rosecam@cisco.com     2021-12-06                NaN   \n",
       "37312 2022-03-01   rosecam@cisco.com     2021-12-06                NaN   \n",
       "37313 2022-03-01   rosecam@cisco.com     2021-12-06                NaN   \n",
       "37314 2022-03-01   rosecam@cisco.com     2021-12-06                NaN   \n",
       "\n",
       "                      LAST_UPDATED  QA Approve  ...  RRT_LPM+ LPM_OFFERS  \\\n",
       "0      2022-03-03 18:03 PM Eastern       False  ...         0          0   \n",
       "1      2022-03-03 18:03 PM Eastern       False  ...         0          0   \n",
       "2      2022-03-03 18:03 PM Eastern       False  ...         0          0   \n",
       "154    2022-03-03 18:03 PM Eastern       False  ...         1          0   \n",
       "155    2022-03-03 18:03 PM Eastern       False  ...         0          0   \n",
       "...                            ...         ...  ...       ...        ...   \n",
       "37310  2022-03-03 18:03 PM Eastern       False  ...         1          1   \n",
       "37311  2022-03-03 18:03 PM Eastern       False  ...         1          1   \n",
       "37312  2022-03-03 18:03 PM Eastern       False  ...         1          1   \n",
       "37313  2022-03-03 18:03 PM Eastern       False  ...         1          1   \n",
       "37314  2022-03-03 18:03 PM Eastern       False  ...         1          1   \n",
       "\n",
       "       Method Measure Group  Offer Focus  Value Type  Report FY Report FQ  \\\n",
       "0       FIELD    Operations          ANY      Actual       2022        Q3   \n",
       "1       FIELD    Operations          ANY      Actual       2022        Q3   \n",
       "2       FIELD    Operations          ANY      Actual       2022        Q3   \n",
       "154     FIELD    Operations          ANY      Actual       2022        Q2   \n",
       "155     FIELD    Operations          ANY      Actual       2022        Q3   \n",
       "...       ...           ...          ...         ...        ...       ...   \n",
       "37310   FIELD    Operations          ANY      Actual       2022        Q2   \n",
       "37311   FIELD    Operations          ANY      Actual       2022        Q2   \n",
       "37312   FIELD    Operations          ANY      Actual       2022        Q2   \n",
       "37313   FIELD    Operations          ANY      Actual       2022        Q2   \n",
       "37314   FIELD    Operations          ANY      Actual       2022        Q2   \n",
       "\n",
       "      Injection Month Injection Quarter  \n",
       "0              202207           2022-Q3  \n",
       "1              202207           2022-Q3  \n",
       "2              202207           2022-Q3  \n",
       "154            202205           2022-Q2  \n",
       "155            202206           2022-Q2  \n",
       "...               ...               ...  \n",
       "37310          202204           2022-Q2  \n",
       "37311          202204           2022-Q2  \n",
       "37312          202204           2022-Q2  \n",
       "37313          202204           2022-Q2  \n",
       "37314          202204           2022-Q2  \n",
       "\n",
       "[2811 rows x 176 columns]"
      ]
     },
     "execution_count": 281,
     "metadata": {},
     "output_type": "execute_result"
    }
   ],
   "source": [
    "df.loc[(df['Method']=='FIELD') & (df['Report FY']=='2022')]"
   ]
  },
  {
   "cell_type": "code",
   "execution_count": 282,
   "metadata": {},
   "outputs": [
    {
     "data": {
      "text/html": [
       "<div>\n",
       "<style scoped>\n",
       "    .dataframe tbody tr th:only-of-type {\n",
       "        vertical-align: middle;\n",
       "    }\n",
       "\n",
       "    .dataframe tbody tr th {\n",
       "        vertical-align: top;\n",
       "    }\n",
       "\n",
       "    .dataframe thead th {\n",
       "        text-align: right;\n",
       "    }\n",
       "</style>\n",
       "<table border=\"1\" class=\"dataframe\">\n",
       "  <thead>\n",
       "    <tr style=\"text-align: right;\">\n",
       "      <th></th>\n",
       "      <th>Report FY</th>\n",
       "      <th>Request ID</th>\n",
       "      <th>Create Date</th>\n",
       "      <th>Readout_Date</th>\n",
       "      <th>RR_INTERNAL</th>\n",
       "      <th>Compass Advisor</th>\n",
       "      <th>Deal ID</th>\n",
       "      <th>Method</th>\n",
       "      <th>Campaign Type</th>\n",
       "      <th>Campaign</th>\n",
       "      <th>Customer Name</th>\n",
       "      <th>Readout Delivery Status</th>\n",
       "      <th>OPPTY_STG1_CREATED</th>\n",
       "      <th>LPM_READOUTS_DONE</th>\n",
       "      <th>LPM_READOUTS_DECLINED</th>\n",
       "      <th>OFFER_CREATED</th>\n",
       "    </tr>\n",
       "  </thead>\n",
       "  <tbody>\n",
       "    <tr>\n",
       "      <th>2207</th>\n",
       "      <td>2022</td>\n",
       "      <td>109902</td>\n",
       "      <td>2022-01-11</td>\n",
       "      <td>2022-02-09</td>\n",
       "      <td>YES</td>\n",
       "      <td>Viriato Evangelista</td>\n",
       "      <td>NaN</td>\n",
       "      <td>M6 (Coverage at Renewal)</td>\n",
       "      <td>COVERAGE AT RENEWAL</td>\n",
       "      <td>COVER THE UNCOVERED - COVERAGE AT RENEWAL</td>\n",
       "      <td>BRIGHTLANDS CHEMELOT CAMPUS</td>\n",
       "      <td>Complete</td>\n",
       "      <td>1</td>\n",
       "      <td>0</td>\n",
       "      <td>0</td>\n",
       "      <td>0</td>\n",
       "    </tr>\n",
       "    <tr>\n",
       "      <th>2223</th>\n",
       "      <td>2022</td>\n",
       "      <td>109904</td>\n",
       "      <td>2022-01-11</td>\n",
       "      <td>2022-01-25</td>\n",
       "      <td>YES</td>\n",
       "      <td>Yesenia Diaz</td>\n",
       "      <td>NaN</td>\n",
       "      <td>M6 (Coverage at Renewal)</td>\n",
       "      <td>COVERAGE AT RENEWAL</td>\n",
       "      <td>COVER THE UNCOVERED - COVERAGE AT RENEWAL</td>\n",
       "      <td>WILKINSON GROUP PLC</td>\n",
       "      <td>Complete</td>\n",
       "      <td>1</td>\n",
       "      <td>1</td>\n",
       "      <td>0</td>\n",
       "      <td>1</td>\n",
       "    </tr>\n",
       "    <tr>\n",
       "      <th>2224</th>\n",
       "      <td>2022</td>\n",
       "      <td>109905</td>\n",
       "      <td>2022-01-11</td>\n",
       "      <td>2022-01-27</td>\n",
       "      <td>YES</td>\n",
       "      <td>Yesenia Diaz</td>\n",
       "      <td>NaN</td>\n",
       "      <td>M6 (Coverage at Renewal)</td>\n",
       "      <td>COVERAGE AT RENEWAL</td>\n",
       "      <td>COVER THE UNCOVERED - COVERAGE AT RENEWAL</td>\n",
       "      <td>BERKLEY GROUP</td>\n",
       "      <td>Complete</td>\n",
       "      <td>1</td>\n",
       "      <td>0</td>\n",
       "      <td>0</td>\n",
       "      <td>0</td>\n",
       "    </tr>\n",
       "    <tr>\n",
       "      <th>2225</th>\n",
       "      <td>2022</td>\n",
       "      <td>109909</td>\n",
       "      <td>2022-01-11</td>\n",
       "      <td>2022-01-27</td>\n",
       "      <td>YES</td>\n",
       "      <td>Yesenia Diaz</td>\n",
       "      <td>NaN</td>\n",
       "      <td>M6 (Coverage at Renewal)</td>\n",
       "      <td>COVERAGE AT RENEWAL</td>\n",
       "      <td>COVER THE UNCOVERED - COVERAGE AT RENEWAL</td>\n",
       "      <td>THE FOOTBALL ASSOCIATION</td>\n",
       "      <td>Complete</td>\n",
       "      <td>1</td>\n",
       "      <td>0</td>\n",
       "      <td>0</td>\n",
       "      <td>0</td>\n",
       "    </tr>\n",
       "    <tr>\n",
       "      <th>2226</th>\n",
       "      <td>2022</td>\n",
       "      <td>109917</td>\n",
       "      <td>2022-01-11</td>\n",
       "      <td>2022-02-04</td>\n",
       "      <td>YES</td>\n",
       "      <td>Yesenia Diaz</td>\n",
       "      <td>NaN</td>\n",
       "      <td>M6 (Coverage at Renewal)</td>\n",
       "      <td>COVERAGE AT RENEWAL</td>\n",
       "      <td>COVER THE UNCOVERED - COVERAGE AT RENEWAL</td>\n",
       "      <td>AKQUINET AG</td>\n",
       "      <td>Complete</td>\n",
       "      <td>1</td>\n",
       "      <td>0</td>\n",
       "      <td>0</td>\n",
       "      <td>0</td>\n",
       "    </tr>\n",
       "    <tr>\n",
       "      <th>...</th>\n",
       "      <td>...</td>\n",
       "      <td>...</td>\n",
       "      <td>...</td>\n",
       "      <td>...</td>\n",
       "      <td>...</td>\n",
       "      <td>...</td>\n",
       "      <td>...</td>\n",
       "      <td>...</td>\n",
       "      <td>...</td>\n",
       "      <td>...</td>\n",
       "      <td>...</td>\n",
       "      <td>...</td>\n",
       "      <td>...</td>\n",
       "      <td>...</td>\n",
       "      <td>...</td>\n",
       "      <td>...</td>\n",
       "    </tr>\n",
       "    <tr>\n",
       "      <th>37148</th>\n",
       "      <td>2022</td>\n",
       "      <td>107258</td>\n",
       "      <td>2021-11-23</td>\n",
       "      <td>2021-12-14</td>\n",
       "      <td>YES</td>\n",
       "      <td>Sangeetha Sampath</td>\n",
       "      <td>NaN</td>\n",
       "      <td>M6 (Coverage at Renewal)</td>\n",
       "      <td>COVERAGE AT RENEWAL</td>\n",
       "      <td>COVER THE UNCOVERED - COVERAGE AT RENEWAL</td>\n",
       "      <td>CENTRAL BANCOMPANY INC</td>\n",
       "      <td>Complete</td>\n",
       "      <td>1</td>\n",
       "      <td>0</td>\n",
       "      <td>0</td>\n",
       "      <td>1</td>\n",
       "    </tr>\n",
       "    <tr>\n",
       "      <th>37149</th>\n",
       "      <td>2022</td>\n",
       "      <td>107321</td>\n",
       "      <td>2021-11-23</td>\n",
       "      <td>2021-12-14</td>\n",
       "      <td>YES</td>\n",
       "      <td>Mariangela Pineda</td>\n",
       "      <td>NaN</td>\n",
       "      <td>M6 (Coverage at Renewal)</td>\n",
       "      <td>COVERAGE AT RENEWAL</td>\n",
       "      <td>COVER THE UNCOVERED - COVERAGE AT RENEWAL</td>\n",
       "      <td>BRUCE POWER LP</td>\n",
       "      <td>Complete</td>\n",
       "      <td>1</td>\n",
       "      <td>1</td>\n",
       "      <td>0</td>\n",
       "      <td>1</td>\n",
       "    </tr>\n",
       "    <tr>\n",
       "      <th>37150</th>\n",
       "      <td>2022</td>\n",
       "      <td>107203</td>\n",
       "      <td>2021-11-23</td>\n",
       "      <td>2021-12-14</td>\n",
       "      <td>YES</td>\n",
       "      <td>Sangeetha Sampath</td>\n",
       "      <td>NaN</td>\n",
       "      <td>M6 (Coverage at Renewal)</td>\n",
       "      <td>COVERAGE AT RENEWAL</td>\n",
       "      <td>COVER THE UNCOVERED - COVERAGE AT RENEWAL</td>\n",
       "      <td>VISTEON</td>\n",
       "      <td>Complete</td>\n",
       "      <td>1</td>\n",
       "      <td>0</td>\n",
       "      <td>1</td>\n",
       "      <td>0</td>\n",
       "    </tr>\n",
       "    <tr>\n",
       "      <th>37151</th>\n",
       "      <td>2022</td>\n",
       "      <td>107317</td>\n",
       "      <td>2021-11-23</td>\n",
       "      <td>2021-12-14</td>\n",
       "      <td>YES</td>\n",
       "      <td>Sangeetha Sampath</td>\n",
       "      <td>NaN</td>\n",
       "      <td>M6 (Coverage at Renewal)</td>\n",
       "      <td>COVERAGE AT RENEWAL</td>\n",
       "      <td>COVER THE UNCOVERED - COVERAGE AT RENEWAL</td>\n",
       "      <td>A123 SYSTEMS INC</td>\n",
       "      <td>Complete</td>\n",
       "      <td>1</td>\n",
       "      <td>0</td>\n",
       "      <td>1</td>\n",
       "      <td>0</td>\n",
       "    </tr>\n",
       "    <tr>\n",
       "      <th>37152</th>\n",
       "      <td>2022</td>\n",
       "      <td>107340</td>\n",
       "      <td>2021-11-23</td>\n",
       "      <td>2021-12-14</td>\n",
       "      <td>YES</td>\n",
       "      <td>Sangeetha Sampath</td>\n",
       "      <td>NaN</td>\n",
       "      <td>M6 (Coverage at Renewal)</td>\n",
       "      <td>COVERAGE AT RENEWAL</td>\n",
       "      <td>COVER THE UNCOVERED - COVERAGE AT RENEWAL</td>\n",
       "      <td>LEAR CORPORATION</td>\n",
       "      <td>Complete</td>\n",
       "      <td>1</td>\n",
       "      <td>0</td>\n",
       "      <td>1</td>\n",
       "      <td>0</td>\n",
       "    </tr>\n",
       "  </tbody>\n",
       "</table>\n",
       "<p>1187 rows × 16 columns</p>\n",
       "</div>"
      ],
      "text/plain": [
       "      Report FY Request ID Create Date Readout_Date RR_INTERNAL  \\\n",
       "2207       2022     109902  2022-01-11   2022-02-09         YES   \n",
       "2223       2022     109904  2022-01-11   2022-01-25         YES   \n",
       "2224       2022     109905  2022-01-11   2022-01-27         YES   \n",
       "2225       2022     109909  2022-01-11   2022-01-27         YES   \n",
       "2226       2022     109917  2022-01-11   2022-02-04         YES   \n",
       "...         ...        ...         ...          ...         ...   \n",
       "37148      2022     107258  2021-11-23   2021-12-14         YES   \n",
       "37149      2022     107321  2021-11-23   2021-12-14         YES   \n",
       "37150      2022     107203  2021-11-23   2021-12-14         YES   \n",
       "37151      2022     107317  2021-11-23   2021-12-14         YES   \n",
       "37152      2022     107340  2021-11-23   2021-12-14         YES   \n",
       "\n",
       "           Compass Advisor Deal ID                    Method  \\\n",
       "2207   Viriato Evangelista     NaN  M6 (Coverage at Renewal)   \n",
       "2223          Yesenia Diaz     NaN  M6 (Coverage at Renewal)   \n",
       "2224          Yesenia Diaz     NaN  M6 (Coverage at Renewal)   \n",
       "2225          Yesenia Diaz     NaN  M6 (Coverage at Renewal)   \n",
       "2226          Yesenia Diaz     NaN  M6 (Coverage at Renewal)   \n",
       "...                    ...     ...                       ...   \n",
       "37148    Sangeetha Sampath     NaN  M6 (Coverage at Renewal)   \n",
       "37149    Mariangela Pineda     NaN  M6 (Coverage at Renewal)   \n",
       "37150    Sangeetha Sampath     NaN  M6 (Coverage at Renewal)   \n",
       "37151    Sangeetha Sampath     NaN  M6 (Coverage at Renewal)   \n",
       "37152    Sangeetha Sampath     NaN  M6 (Coverage at Renewal)   \n",
       "\n",
       "             Campaign Type                                   Campaign  \\\n",
       "2207   COVERAGE AT RENEWAL  COVER THE UNCOVERED - COVERAGE AT RENEWAL   \n",
       "2223   COVERAGE AT RENEWAL  COVER THE UNCOVERED - COVERAGE AT RENEWAL   \n",
       "2224   COVERAGE AT RENEWAL  COVER THE UNCOVERED - COVERAGE AT RENEWAL   \n",
       "2225   COVERAGE AT RENEWAL  COVER THE UNCOVERED - COVERAGE AT RENEWAL   \n",
       "2226   COVERAGE AT RENEWAL  COVER THE UNCOVERED - COVERAGE AT RENEWAL   \n",
       "...                    ...                                        ...   \n",
       "37148  COVERAGE AT RENEWAL  COVER THE UNCOVERED - COVERAGE AT RENEWAL   \n",
       "37149  COVERAGE AT RENEWAL  COVER THE UNCOVERED - COVERAGE AT RENEWAL   \n",
       "37150  COVERAGE AT RENEWAL  COVER THE UNCOVERED - COVERAGE AT RENEWAL   \n",
       "37151  COVERAGE AT RENEWAL  COVER THE UNCOVERED - COVERAGE AT RENEWAL   \n",
       "37152  COVERAGE AT RENEWAL  COVER THE UNCOVERED - COVERAGE AT RENEWAL   \n",
       "\n",
       "                     Customer Name Readout Delivery Status  \\\n",
       "2207   BRIGHTLANDS CHEMELOT CAMPUS                Complete   \n",
       "2223           WILKINSON GROUP PLC                Complete   \n",
       "2224                 BERKLEY GROUP                Complete   \n",
       "2225      THE FOOTBALL ASSOCIATION                Complete   \n",
       "2226                   AKQUINET AG                Complete   \n",
       "...                            ...                     ...   \n",
       "37148       CENTRAL BANCOMPANY INC                Complete   \n",
       "37149               BRUCE POWER LP                Complete   \n",
       "37150                      VISTEON                Complete   \n",
       "37151             A123 SYSTEMS INC                Complete   \n",
       "37152             LEAR CORPORATION                Complete   \n",
       "\n",
       "       OPPTY_STG1_CREATED  LPM_READOUTS_DONE  LPM_READOUTS_DECLINED  \\\n",
       "2207                    1                  0                      0   \n",
       "2223                    1                  1                      0   \n",
       "2224                    1                  0                      0   \n",
       "2225                    1                  0                      0   \n",
       "2226                    1                  0                      0   \n",
       "...                   ...                ...                    ...   \n",
       "37148                   1                  0                      0   \n",
       "37149                   1                  1                      0   \n",
       "37150                   1                  0                      1   \n",
       "37151                   1                  0                      1   \n",
       "37152                   1                  0                      1   \n",
       "\n",
       "       OFFER_CREATED  \n",
       "2207               0  \n",
       "2223               1  \n",
       "2224               0  \n",
       "2225               0  \n",
       "2226               0  \n",
       "...              ...  \n",
       "37148              1  \n",
       "37149              1  \n",
       "37150              0  \n",
       "37151              0  \n",
       "37152              0  \n",
       "\n",
       "[1187 rows x 16 columns]"
      ]
     },
     "execution_count": 282,
     "metadata": {},
     "output_type": "execute_result"
    }
   ],
   "source": [
    "df.loc[(df['Report FY']=='2022') & (df['OPPTY_STG1_CREATED'] == 1) & (df['Campaign Type'].isin(['MISSED ATTACH','COVERAGE PROGRAM','COVERAGE AT RENEWAL']))][['Report FY','Request ID','Create Date','Readout_Date','RR_INTERNAL','Compass Advisor','Deal ID','Method','Campaign Type','Campaign','Customer Name','Readout Delivery Status','OPPTY_STG1_CREATED','LPM_READOUTS_DONE','LPM_READOUTS_DECLINED','OFFER_CREATED']]"
   ]
  },
  {
   "cell_type": "code",
   "execution_count": 283,
   "metadata": {},
   "outputs": [],
   "source": [
    "df.loc[(df['Campaign Type'].str.contains('field', na=False, case=False) | df['Campaign Type'].str.contains('target', na=False, case=False))  & (df['LPM_PLUS'].str.contains('yes', na=False, case=False) | df['NEXT_STEPS'].str.contains('engage lpm', na=False, case=False)),'Method'] = \\\n",
    "df.loc[(df['Campaign Type'].str.contains('field', na=False, case=False) | df['Campaign Type'].str.contains('target', na=False, case=False))  & (df['LPM_PLUS'].str.contains('yes', na=False, case=False) | df['NEXT_STEPS'].str.contains('engage lpm', na=False, case=False)),'Method'] = 'M1 (Coverage Program)'"
   ]
  },
  {
   "cell_type": "code",
   "execution_count": 284,
   "metadata": {},
   "outputs": [
    {
     "data": {
      "text/plain": [
       "TELEMETRY             641\n",
       "FIELD                 307\n",
       "TARGETING              26\n",
       "PROACTIVE COVERAGE     22\n",
       "TAC                    11\n",
       "Name: Campaign Type, dtype: int64"
      ]
     },
     "execution_count": 284,
     "metadata": {},
     "output_type": "execute_result"
    }
   ],
   "source": [
    "df.loc[(df['Report FY']=='2022') & (df['Report FQ']=='Q2') & (df['RR_INTERNAL']=='YES') & (df['Sales Level 1'] == 'AMERICAS') & (df['OPPTY_STG1_CREATED'] == 1) & (df['Method'].str.contains('M1', na=False, case=False)) & (df['Campaign Type'].isin(['FIELD','COVERAGE PROGRAM','PROACTIVE COVERAGE','TAC','TELEMETRY','TARGETING'])) & (df['ALERT_BELOW_25'] == 0)]['Campaign Type'].value_counts() #[['Report FY','Request ID','Create Date','Readout_Date','RR_INTERNAL','Compass Advisor','Deal ID','Method','Campaign Type','Campaign','Customer Name','Readout Delivery Status','OPPTY_STG1_CREATED','LPM_READOUTS_DONE','LPM_READOUTS_DECLINED','OFFER_CREATED']]"
   ]
  },
  {
   "cell_type": "code",
   "execution_count": 285,
   "metadata": {},
   "outputs": [
    {
     "data": {
      "text/plain": [
       "TARGETING    40\n",
       "Name: Campaign Type, dtype: int64"
      ]
     },
     "execution_count": 285,
     "metadata": {},
     "output_type": "execute_result"
    }
   ],
   "source": [
    "df.loc[(df['Report FY']=='2022') & (df['Report FQ']=='Q2') & (df['ALERT_BELOW_25'] == 0) & (df['RR_INTERNAL']=='YES') & (df['OPPTY_STG1_CREATED'] == 1) & (df['Method'].str.contains('M1', na=False, case=False)) & (df['Campaign Type'].isin(['TARGETING'])) ]['Campaign Type'].value_counts()  #& (df['ALERT_BELOW_25'] == 0) & (df['RR_INTERNAL']=='YES')  & (df['Sales Level 1'] == 'AMERICAS')"
   ]
  },
  {
   "cell_type": "markdown",
   "metadata": {},
   "source": [
    "###  ALTER Field and Target requests to M1 Coverage Program Method where LPM Plus = YES"
   ]
  },
  {
   "cell_type": "code",
   "execution_count": 286,
   "metadata": {},
   "outputs": [
    {
     "data": {
      "text/html": [
       "<div>\n",
       "<style scoped>\n",
       "    .dataframe tbody tr th:only-of-type {\n",
       "        vertical-align: middle;\n",
       "    }\n",
       "\n",
       "    .dataframe tbody tr th {\n",
       "        vertical-align: top;\n",
       "    }\n",
       "\n",
       "    .dataframe thead th {\n",
       "        text-align: right;\n",
       "    }\n",
       "</style>\n",
       "<table border=\"1\" class=\"dataframe\">\n",
       "  <thead>\n",
       "    <tr style=\"text-align: right;\">\n",
       "      <th></th>\n",
       "      <th>Request ID</th>\n",
       "      <th>Campaign</th>\n",
       "      <th>Campaign Type</th>\n",
       "      <th>Method</th>\n",
       "      <th>LPM_PLUS</th>\n",
       "      <th>NEXT_STEPS</th>\n",
       "    </tr>\n",
       "  </thead>\n",
       "  <tbody>\n",
       "    <tr>\n",
       "      <th>162</th>\n",
       "      <td>108777</td>\n",
       "      <td>REACTIVE</td>\n",
       "      <td>FIELD</td>\n",
       "      <td>M1 (Coverage Program)</td>\n",
       "      <td>Yes</td>\n",
       "      <td>NaN</td>\n",
       "    </tr>\n",
       "    <tr>\n",
       "      <th>163</th>\n",
       "      <td>108776</td>\n",
       "      <td>REACTIVE</td>\n",
       "      <td>FIELD</td>\n",
       "      <td>M1 (Coverage Program)</td>\n",
       "      <td>Yes</td>\n",
       "      <td>NaN</td>\n",
       "    </tr>\n",
       "    <tr>\n",
       "      <th>165</th>\n",
       "      <td>108775</td>\n",
       "      <td>REACTIVE</td>\n",
       "      <td>FIELD</td>\n",
       "      <td>M1 (Coverage Program)</td>\n",
       "      <td>Yes</td>\n",
       "      <td>NaN</td>\n",
       "    </tr>\n",
       "    <tr>\n",
       "      <th>213</th>\n",
       "      <td>108116</td>\n",
       "      <td>REACTIVE</td>\n",
       "      <td>FIELD</td>\n",
       "      <td>M1 (Coverage Program)</td>\n",
       "      <td>Yes</td>\n",
       "      <td>Engage LPM+</td>\n",
       "    </tr>\n",
       "    <tr>\n",
       "      <th>234</th>\n",
       "      <td>107605</td>\n",
       "      <td>REACTIVE</td>\n",
       "      <td>FIELD</td>\n",
       "      <td>M1 (Coverage Program)</td>\n",
       "      <td>Yes</td>\n",
       "      <td>Engage LPM+</td>\n",
       "    </tr>\n",
       "    <tr>\n",
       "      <th>...</th>\n",
       "      <td>...</td>\n",
       "      <td>...</td>\n",
       "      <td>...</td>\n",
       "      <td>...</td>\n",
       "      <td>...</td>\n",
       "      <td>...</td>\n",
       "    </tr>\n",
       "    <tr>\n",
       "      <th>37310</th>\n",
       "      <td>107566</td>\n",
       "      <td>REACTIVE</td>\n",
       "      <td>FIELD</td>\n",
       "      <td>M1 (Coverage Program)</td>\n",
       "      <td>Yes</td>\n",
       "      <td>Engage LPM+</td>\n",
       "    </tr>\n",
       "    <tr>\n",
       "      <th>37311</th>\n",
       "      <td>107567</td>\n",
       "      <td>REACTIVE</td>\n",
       "      <td>FIELD</td>\n",
       "      <td>M1 (Coverage Program)</td>\n",
       "      <td>Yes</td>\n",
       "      <td>Engage LPM+</td>\n",
       "    </tr>\n",
       "    <tr>\n",
       "      <th>37312</th>\n",
       "      <td>107568</td>\n",
       "      <td>REACTIVE</td>\n",
       "      <td>FIELD</td>\n",
       "      <td>M1 (Coverage Program)</td>\n",
       "      <td>Yes</td>\n",
       "      <td>Engage LPM+</td>\n",
       "    </tr>\n",
       "    <tr>\n",
       "      <th>37313</th>\n",
       "      <td>107569</td>\n",
       "      <td>REACTIVE</td>\n",
       "      <td>FIELD</td>\n",
       "      <td>M1 (Coverage Program)</td>\n",
       "      <td>Yes</td>\n",
       "      <td>Engage LPM+</td>\n",
       "    </tr>\n",
       "    <tr>\n",
       "      <th>37314</th>\n",
       "      <td>107570</td>\n",
       "      <td>REACTIVE</td>\n",
       "      <td>FIELD</td>\n",
       "      <td>M1 (Coverage Program)</td>\n",
       "      <td>Yes</td>\n",
       "      <td>Engage LPM+</td>\n",
       "    </tr>\n",
       "  </tbody>\n",
       "</table>\n",
       "<p>291 rows × 6 columns</p>\n",
       "</div>"
      ],
      "text/plain": [
       "      Request ID  Campaign Campaign Type                 Method LPM_PLUS  \\\n",
       "162       108777  REACTIVE         FIELD  M1 (Coverage Program)      Yes   \n",
       "163       108776  REACTIVE         FIELD  M1 (Coverage Program)      Yes   \n",
       "165       108775  REACTIVE         FIELD  M1 (Coverage Program)      Yes   \n",
       "213       108116  REACTIVE         FIELD  M1 (Coverage Program)      Yes   \n",
       "234       107605  REACTIVE         FIELD  M1 (Coverage Program)      Yes   \n",
       "...          ...       ...           ...                    ...      ...   \n",
       "37310     107566  REACTIVE         FIELD  M1 (Coverage Program)      Yes   \n",
       "37311     107567  REACTIVE         FIELD  M1 (Coverage Program)      Yes   \n",
       "37312     107568  REACTIVE         FIELD  M1 (Coverage Program)      Yes   \n",
       "37313     107569  REACTIVE         FIELD  M1 (Coverage Program)      Yes   \n",
       "37314     107570  REACTIVE         FIELD  M1 (Coverage Program)      Yes   \n",
       "\n",
       "        NEXT_STEPS  \n",
       "162            NaN  \n",
       "163            NaN  \n",
       "165            NaN  \n",
       "213    Engage LPM+  \n",
       "234    Engage LPM+  \n",
       "...            ...  \n",
       "37310  Engage LPM+  \n",
       "37311  Engage LPM+  \n",
       "37312  Engage LPM+  \n",
       "37313  Engage LPM+  \n",
       "37314  Engage LPM+  \n",
       "\n",
       "[291 rows x 6 columns]"
      ]
     },
     "execution_count": 286,
     "metadata": {},
     "output_type": "execute_result"
    }
   ],
   "source": [
    "df.loc[(df['Campaign Type'].str.contains('field', na=False, case=False) | df['Campaign Type'].str.contains('target', na=False, case=False)) & (df['LPM_PLUS'].str.contains('yes', na=False, case=False))][['Request ID','Campaign','Campaign Type','Method','LPM_PLUS','NEXT_STEPS']] #  & (df['LPM_PLUS'].str.contains('yes', na=False, case=False))"
   ]
  },
  {
   "cell_type": "code",
   "execution_count": 287,
   "metadata": {},
   "outputs": [],
   "source": [
    "df.rename(columns={'COMPASS_READOUTS_DONE':'READOUTS_DONE'}, inplace=True)"
   ]
  },
  {
   "cell_type": "code",
   "execution_count": 288,
   "metadata": {},
   "outputs": [],
   "source": [
    "opps_stg1 = df.loc[(df['Report FY']=='2022') & (df['ALERT_BELOW_25'] == 0) & (df['RR_INTERNAL']=='YES') & (df['OPPTY_STG1_CREATED'] == 1) & (df['Campaign Type'].isin(['TAC','TARGETING','TELEMETRY','FIELD','PROACTIVE COVERAGE','COVERAGE AT RENEWAL'])) ]   #& (df['Method'].str.contains('M1', na=False, case=False)) "
   ]
  },
  {
   "cell_type": "code",
   "execution_count": 289,
   "metadata": {},
   "outputs": [],
   "source": [
    "agg_opps = pd.DataFrame(opps_stg1.groupby(['Method', 'Measure Group','Campaign', 'Campaign Type','Customer Name', 'Sales Level 1', 'Sales Level 2', 'Sales Level 3', 'Sales Level 4','Offer Focus', 'Value Type','Report FY','Report FQ'])['OPPTY_STG1_CREATED'].sum())"
   ]
  },
  {
   "cell_type": "code",
   "execution_count": 290,
   "metadata": {},
   "outputs": [],
   "source": [
    "agg_opps.reset_index(inplace=True)"
   ]
  },
  {
   "cell_type": "code",
   "execution_count": 291,
   "metadata": {},
   "outputs": [
    {
     "data": {
      "text/html": [
       "<div>\n",
       "<style scoped>\n",
       "    .dataframe tbody tr th:only-of-type {\n",
       "        vertical-align: middle;\n",
       "    }\n",
       "\n",
       "    .dataframe tbody tr th {\n",
       "        vertical-align: top;\n",
       "    }\n",
       "\n",
       "    .dataframe thead th {\n",
       "        text-align: right;\n",
       "    }\n",
       "</style>\n",
       "<table border=\"1\" class=\"dataframe\">\n",
       "  <thead>\n",
       "    <tr style=\"text-align: right;\">\n",
       "      <th></th>\n",
       "      <th>Method</th>\n",
       "      <th>Measure Group</th>\n",
       "      <th>Campaign</th>\n",
       "      <th>Campaign Type</th>\n",
       "      <th>Customer Name</th>\n",
       "      <th>Sales Level 1</th>\n",
       "      <th>Sales Level 2</th>\n",
       "      <th>Sales Level 3</th>\n",
       "      <th>Sales Level 4</th>\n",
       "      <th>Offer Focus</th>\n",
       "      <th>Value Type</th>\n",
       "      <th>Report FY</th>\n",
       "      <th>Report FQ</th>\n",
       "      <th>Value</th>\n",
       "      <th>Measure</th>\n",
       "    </tr>\n",
       "  </thead>\n",
       "  <tbody>\n",
       "    <tr>\n",
       "      <th>0</th>\n",
       "      <td>FIELD</td>\n",
       "      <td>Operations</td>\n",
       "      <td>REACTIVE</td>\n",
       "      <td>FIELD</td>\n",
       "      <td>(ACSA) AIRPORTS COMPANY OF SOUTH AFRICA</td>\n",
       "      <td>EMEAR-REGION</td>\n",
       "      <td>EMEAR_MEA</td>\n",
       "      <td>CLUSTER_SSA</td>\n",
       "      <td>COUNTRY_ZAF</td>\n",
       "      <td>ANY</td>\n",
       "      <td>Actual</td>\n",
       "      <td>2022</td>\n",
       "      <td>Q2</td>\n",
       "      <td>1</td>\n",
       "      <td>Stg1 Opportunity</td>\n",
       "    </tr>\n",
       "    <tr>\n",
       "      <th>1</th>\n",
       "      <td>FIELD</td>\n",
       "      <td>Operations</td>\n",
       "      <td>REACTIVE</td>\n",
       "      <td>FIELD</td>\n",
       "      <td>(PIC) PUBLIC INVESTMENT CORPORATION</td>\n",
       "      <td>EMEAR-REGION</td>\n",
       "      <td>EMEAR_MEA</td>\n",
       "      <td>CLUSTER_SSA</td>\n",
       "      <td>COUNTRY_ZAF</td>\n",
       "      <td>ANY</td>\n",
       "      <td>Actual</td>\n",
       "      <td>2022</td>\n",
       "      <td>Q2</td>\n",
       "      <td>1</td>\n",
       "      <td>Stg1 Opportunity</td>\n",
       "    </tr>\n",
       "    <tr>\n",
       "      <th>2</th>\n",
       "      <td>FIELD</td>\n",
       "      <td>Operations</td>\n",
       "      <td>REACTIVE</td>\n",
       "      <td>FIELD</td>\n",
       "      <td>(SAA) SOUTH AFRICAN AIRWAYS</td>\n",
       "      <td>EMEAR-REGION</td>\n",
       "      <td>EMEAR_MEA</td>\n",
       "      <td>CLUSTER_SSA</td>\n",
       "      <td>COUNTRY_ZAF</td>\n",
       "      <td>ANY</td>\n",
       "      <td>Actual</td>\n",
       "      <td>2022</td>\n",
       "      <td>Q2</td>\n",
       "      <td>1</td>\n",
       "      <td>Stg1 Opportunity</td>\n",
       "    </tr>\n",
       "    <tr>\n",
       "      <th>3</th>\n",
       "      <td>FIELD</td>\n",
       "      <td>Operations</td>\n",
       "      <td>REACTIVE</td>\n",
       "      <td>FIELD</td>\n",
       "      <td>2 SISTER POULTRY LTD</td>\n",
       "      <td>EMEAR-REGION</td>\n",
       "      <td>EMEAR-UKI</td>\n",
       "      <td>COMMERCIAL_EAW</td>\n",
       "      <td>COM_EAW_SEL_NORTH</td>\n",
       "      <td>ANY</td>\n",
       "      <td>Actual</td>\n",
       "      <td>2022</td>\n",
       "      <td>Q3</td>\n",
       "      <td>1</td>\n",
       "      <td>Stg1 Opportunity</td>\n",
       "    </tr>\n",
       "    <tr>\n",
       "      <th>4</th>\n",
       "      <td>FIELD</td>\n",
       "      <td>Operations</td>\n",
       "      <td>REACTIVE</td>\n",
       "      <td>FIELD</td>\n",
       "      <td>3M</td>\n",
       "      <td>AMERICAS</td>\n",
       "      <td>GLOBAL ENTERPRISE SEGMENT</td>\n",
       "      <td>GES CENTRAL</td>\n",
       "      <td>GLL_K_3M</td>\n",
       "      <td>ANY</td>\n",
       "      <td>Actual</td>\n",
       "      <td>2022</td>\n",
       "      <td>Q1</td>\n",
       "      <td>1</td>\n",
       "      <td>Stg1 Opportunity</td>\n",
       "    </tr>\n",
       "    <tr>\n",
       "      <th>...</th>\n",
       "      <td>...</td>\n",
       "      <td>...</td>\n",
       "      <td>...</td>\n",
       "      <td>...</td>\n",
       "      <td>...</td>\n",
       "      <td>...</td>\n",
       "      <td>...</td>\n",
       "      <td>...</td>\n",
       "      <td>...</td>\n",
       "      <td>...</td>\n",
       "      <td>...</td>\n",
       "      <td>...</td>\n",
       "      <td>...</td>\n",
       "      <td>...</td>\n",
       "      <td>...</td>\n",
       "    </tr>\n",
       "    <tr>\n",
       "      <th>6107</th>\n",
       "      <td>TARGETING</td>\n",
       "      <td>Operations</td>\n",
       "      <td>SUCCESS TRACKS FOR CAMPUS TARGETING - DYNAMIC</td>\n",
       "      <td>TARGETING</td>\n",
       "      <td>YANTAI WANHUA GROUP</td>\n",
       "      <td>APJC</td>\n",
       "      <td>GREATER_CHINA</td>\n",
       "      <td>CN_NORTH</td>\n",
       "      <td>CN_ENT_NORTH_MET</td>\n",
       "      <td>ST</td>\n",
       "      <td>Actual</td>\n",
       "      <td>2022</td>\n",
       "      <td>Q2</td>\n",
       "      <td>1</td>\n",
       "      <td>Stg1 Opportunity</td>\n",
       "    </tr>\n",
       "    <tr>\n",
       "      <th>6108</th>\n",
       "      <td>TARGETING</td>\n",
       "      <td>Operations</td>\n",
       "      <td>SUCCESS TRACKS FOR CAMPUS TARGETING - DYNAMIC</td>\n",
       "      <td>TARGETING</td>\n",
       "      <td>YPFB TRANSPORTE</td>\n",
       "      <td>AMERICAS</td>\n",
       "      <td>LATIN AMERICA</td>\n",
       "      <td>M_C_R</td>\n",
       "      <td>PERU_ANDEAN</td>\n",
       "      <td>ST</td>\n",
       "      <td>Actual</td>\n",
       "      <td>2022</td>\n",
       "      <td>Q1</td>\n",
       "      <td>1</td>\n",
       "      <td>Stg1 Opportunity</td>\n",
       "    </tr>\n",
       "    <tr>\n",
       "      <th>6109</th>\n",
       "      <td>TARGETING</td>\n",
       "      <td>Operations</td>\n",
       "      <td>SUCCESS TRACKS FOR CAMPUS TARGETING - DYNAMIC</td>\n",
       "      <td>TARGETING</td>\n",
       "      <td>ZENSAR TECHNOLOGIES LTD</td>\n",
       "      <td>APJC</td>\n",
       "      <td>INDIA_AREA</td>\n",
       "      <td>IND_ENTERPRISE_MAJOR</td>\n",
       "      <td>IND_ENT_STRATEGIC</td>\n",
       "      <td>ST</td>\n",
       "      <td>Actual</td>\n",
       "      <td>2022</td>\n",
       "      <td>Q2</td>\n",
       "      <td>1</td>\n",
       "      <td>Stg1 Opportunity</td>\n",
       "    </tr>\n",
       "    <tr>\n",
       "      <th>6110</th>\n",
       "      <td>TARGETING</td>\n",
       "      <td>Operations</td>\n",
       "      <td>SUCCESS TRACKS FOR CAMPUS TARGETING - DYNAMIC</td>\n",
       "      <td>TARGETING</td>\n",
       "      <td>ZURICH INSURANCE GROUP</td>\n",
       "      <td>EMEAR-REGION</td>\n",
       "      <td>EMEAR-CENTRAL</td>\n",
       "      <td>COUNTRY_SWITZERLAND</td>\n",
       "      <td>SWITZERLAND_CGEM</td>\n",
       "      <td>ST</td>\n",
       "      <td>Actual</td>\n",
       "      <td>2022</td>\n",
       "      <td>Q2</td>\n",
       "      <td>1</td>\n",
       "      <td>Stg1 Opportunity</td>\n",
       "    </tr>\n",
       "    <tr>\n",
       "      <th>6111</th>\n",
       "      <td>TARGETING</td>\n",
       "      <td>Operations</td>\n",
       "      <td>SUCCESS TRACKS FOR CAMPUS TARGETING - DYNAMIC</td>\n",
       "      <td>TARGETING</td>\n",
       "      <td>ZYDUS CADILA LIMITED</td>\n",
       "      <td>APJC</td>\n",
       "      <td>INDIA_AREA</td>\n",
       "      <td>IND_COMMERCIAL_OTH</td>\n",
       "      <td>IND_WEST</td>\n",
       "      <td>ST</td>\n",
       "      <td>Actual</td>\n",
       "      <td>2022</td>\n",
       "      <td>Q2</td>\n",
       "      <td>1</td>\n",
       "      <td>Stg1 Opportunity</td>\n",
       "    </tr>\n",
       "  </tbody>\n",
       "</table>\n",
       "<p>6112 rows × 15 columns</p>\n",
       "</div>"
      ],
      "text/plain": [
       "         Method Measure Group                                       Campaign  \\\n",
       "0         FIELD    Operations                                       REACTIVE   \n",
       "1         FIELD    Operations                                       REACTIVE   \n",
       "2         FIELD    Operations                                       REACTIVE   \n",
       "3         FIELD    Operations                                       REACTIVE   \n",
       "4         FIELD    Operations                                       REACTIVE   \n",
       "...         ...           ...                                            ...   \n",
       "6107  TARGETING    Operations  SUCCESS TRACKS FOR CAMPUS TARGETING - DYNAMIC   \n",
       "6108  TARGETING    Operations  SUCCESS TRACKS FOR CAMPUS TARGETING - DYNAMIC   \n",
       "6109  TARGETING    Operations  SUCCESS TRACKS FOR CAMPUS TARGETING - DYNAMIC   \n",
       "6110  TARGETING    Operations  SUCCESS TRACKS FOR CAMPUS TARGETING - DYNAMIC   \n",
       "6111  TARGETING    Operations  SUCCESS TRACKS FOR CAMPUS TARGETING - DYNAMIC   \n",
       "\n",
       "     Campaign Type                            Customer Name Sales Level 1  \\\n",
       "0            FIELD  (ACSA) AIRPORTS COMPANY OF SOUTH AFRICA  EMEAR-REGION   \n",
       "1            FIELD      (PIC) PUBLIC INVESTMENT CORPORATION  EMEAR-REGION   \n",
       "2            FIELD              (SAA) SOUTH AFRICAN AIRWAYS  EMEAR-REGION   \n",
       "3            FIELD                     2 SISTER POULTRY LTD  EMEAR-REGION   \n",
       "4            FIELD                                       3M      AMERICAS   \n",
       "...            ...                                      ...           ...   \n",
       "6107     TARGETING                      YANTAI WANHUA GROUP          APJC   \n",
       "6108     TARGETING                          YPFB TRANSPORTE      AMERICAS   \n",
       "6109     TARGETING                  ZENSAR TECHNOLOGIES LTD          APJC   \n",
       "6110     TARGETING                   ZURICH INSURANCE GROUP  EMEAR-REGION   \n",
       "6111     TARGETING                     ZYDUS CADILA LIMITED          APJC   \n",
       "\n",
       "                  Sales Level 2         Sales Level 3      Sales Level 4  \\\n",
       "0                     EMEAR_MEA           CLUSTER_SSA        COUNTRY_ZAF   \n",
       "1                     EMEAR_MEA           CLUSTER_SSA        COUNTRY_ZAF   \n",
       "2                     EMEAR_MEA           CLUSTER_SSA        COUNTRY_ZAF   \n",
       "3                     EMEAR-UKI        COMMERCIAL_EAW  COM_EAW_SEL_NORTH   \n",
       "4     GLOBAL ENTERPRISE SEGMENT           GES CENTRAL           GLL_K_3M   \n",
       "...                         ...                   ...                ...   \n",
       "6107              GREATER_CHINA              CN_NORTH   CN_ENT_NORTH_MET   \n",
       "6108              LATIN AMERICA                 M_C_R        PERU_ANDEAN   \n",
       "6109                 INDIA_AREA  IND_ENTERPRISE_MAJOR  IND_ENT_STRATEGIC   \n",
       "6110              EMEAR-CENTRAL   COUNTRY_SWITZERLAND   SWITZERLAND_CGEM   \n",
       "6111                 INDIA_AREA    IND_COMMERCIAL_OTH           IND_WEST   \n",
       "\n",
       "     Offer Focus Value Type Report FY Report FQ  Value           Measure  \n",
       "0            ANY     Actual      2022        Q2      1  Stg1 Opportunity  \n",
       "1            ANY     Actual      2022        Q2      1  Stg1 Opportunity  \n",
       "2            ANY     Actual      2022        Q2      1  Stg1 Opportunity  \n",
       "3            ANY     Actual      2022        Q3      1  Stg1 Opportunity  \n",
       "4            ANY     Actual      2022        Q1      1  Stg1 Opportunity  \n",
       "...          ...        ...       ...       ...    ...               ...  \n",
       "6107          ST     Actual      2022        Q2      1  Stg1 Opportunity  \n",
       "6108          ST     Actual      2022        Q1      1  Stg1 Opportunity  \n",
       "6109          ST     Actual      2022        Q2      1  Stg1 Opportunity  \n",
       "6110          ST     Actual      2022        Q2      1  Stg1 Opportunity  \n",
       "6111          ST     Actual      2022        Q2      1  Stg1 Opportunity  \n",
       "\n",
       "[6112 rows x 15 columns]"
      ]
     },
     "execution_count": 291,
     "metadata": {},
     "output_type": "execute_result"
    }
   ],
   "source": [
    "agg_opps['Measure'] = 'Stg1 Opportunity'\n",
    "agg_opps.rename(columns={'OPPTY_STG1_CREATED':'Value'}, inplace=True)\n",
    "agg_opps"
   ]
  },
  {
   "cell_type": "code",
   "execution_count": 292,
   "metadata": {},
   "outputs": [],
   "source": [
    "readouts_done = df.loc[(df['Report FY']=='2022') & (df['READOUTS_DONE'] == 1) & (df['Campaign Type'].isin(['TAC','TARGETING','TELEMETRY','FIELD','PROACTIVE COVERAGE','COVERAGE AT RENEWAL'])) ] #& (df['Method'].str.contains('M1', na=False, case=False)) "
   ]
  },
  {
   "cell_type": "code",
   "execution_count": 293,
   "metadata": {},
   "outputs": [],
   "source": [
    "agg_readouts = pd.DataFrame(readouts_done.groupby(['Method', 'Measure Group','Campaign', 'Campaign Type','Customer Name', 'Sales Level 1', 'Sales Level 2', 'Sales Level 3', 'Sales Level 4','Offer Focus', 'Value Type','Report FY','Report FQ'])['READOUTS_DONE'].sum())"
   ]
  },
  {
   "cell_type": "code",
   "execution_count": 294,
   "metadata": {},
   "outputs": [],
   "source": [
    "agg_readouts.reset_index(inplace=True)"
   ]
  },
  {
   "cell_type": "code",
   "execution_count": 295,
   "metadata": {},
   "outputs": [
    {
     "data": {
      "text/html": [
       "<div>\n",
       "<style scoped>\n",
       "    .dataframe tbody tr th:only-of-type {\n",
       "        vertical-align: middle;\n",
       "    }\n",
       "\n",
       "    .dataframe tbody tr th {\n",
       "        vertical-align: top;\n",
       "    }\n",
       "\n",
       "    .dataframe thead th {\n",
       "        text-align: right;\n",
       "    }\n",
       "</style>\n",
       "<table border=\"1\" class=\"dataframe\">\n",
       "  <thead>\n",
       "    <tr style=\"text-align: right;\">\n",
       "      <th></th>\n",
       "      <th>Method</th>\n",
       "      <th>Measure Group</th>\n",
       "      <th>Campaign</th>\n",
       "      <th>Campaign Type</th>\n",
       "      <th>Customer Name</th>\n",
       "      <th>Sales Level 1</th>\n",
       "      <th>Sales Level 2</th>\n",
       "      <th>Sales Level 3</th>\n",
       "      <th>Sales Level 4</th>\n",
       "      <th>Offer Focus</th>\n",
       "      <th>Value Type</th>\n",
       "      <th>Report FY</th>\n",
       "      <th>Report FQ</th>\n",
       "      <th>Value</th>\n",
       "      <th>Measure</th>\n",
       "    </tr>\n",
       "  </thead>\n",
       "  <tbody>\n",
       "    <tr>\n",
       "      <th>0</th>\n",
       "      <td>FIELD</td>\n",
       "      <td>Operations</td>\n",
       "      <td>REACTIVE</td>\n",
       "      <td>FIELD</td>\n",
       "      <td>(ACSA) AIRPORTS COMPANY OF SOUTH AFRICA</td>\n",
       "      <td>EMEAR-REGION</td>\n",
       "      <td>EMEAR_MEA</td>\n",
       "      <td>CLUSTER_SSA</td>\n",
       "      <td>COUNTRY_ZAF</td>\n",
       "      <td>ANY</td>\n",
       "      <td>Actual</td>\n",
       "      <td>2022</td>\n",
       "      <td>Q2</td>\n",
       "      <td>1</td>\n",
       "      <td>Readouts Delivered</td>\n",
       "    </tr>\n",
       "    <tr>\n",
       "      <th>1</th>\n",
       "      <td>FIELD</td>\n",
       "      <td>Operations</td>\n",
       "      <td>REACTIVE</td>\n",
       "      <td>FIELD</td>\n",
       "      <td>(PIC) PUBLIC INVESTMENT CORPORATION</td>\n",
       "      <td>EMEAR-REGION</td>\n",
       "      <td>EMEAR_MEA</td>\n",
       "      <td>CLUSTER_SSA</td>\n",
       "      <td>COUNTRY_ZAF</td>\n",
       "      <td>ANY</td>\n",
       "      <td>Actual</td>\n",
       "      <td>2022</td>\n",
       "      <td>Q2</td>\n",
       "      <td>1</td>\n",
       "      <td>Readouts Delivered</td>\n",
       "    </tr>\n",
       "    <tr>\n",
       "      <th>2</th>\n",
       "      <td>FIELD</td>\n",
       "      <td>Operations</td>\n",
       "      <td>REACTIVE</td>\n",
       "      <td>FIELD</td>\n",
       "      <td>(SAA) SOUTH AFRICAN AIRWAYS</td>\n",
       "      <td>EMEAR-REGION</td>\n",
       "      <td>EMEAR_MEA</td>\n",
       "      <td>CLUSTER_SSA</td>\n",
       "      <td>COUNTRY_ZAF</td>\n",
       "      <td>ANY</td>\n",
       "      <td>Actual</td>\n",
       "      <td>2022</td>\n",
       "      <td>Q2</td>\n",
       "      <td>1</td>\n",
       "      <td>Readouts Delivered</td>\n",
       "    </tr>\n",
       "    <tr>\n",
       "      <th>3</th>\n",
       "      <td>FIELD</td>\n",
       "      <td>Operations</td>\n",
       "      <td>REACTIVE</td>\n",
       "      <td>FIELD</td>\n",
       "      <td>2 SISTER POULTRY LTD</td>\n",
       "      <td>EMEAR-REGION</td>\n",
       "      <td>EMEAR-UKI</td>\n",
       "      <td>COMMERCIAL_EAW</td>\n",
       "      <td>COM_EAW_SEL_NORTH</td>\n",
       "      <td>ANY</td>\n",
       "      <td>Actual</td>\n",
       "      <td>2022</td>\n",
       "      <td>Q3</td>\n",
       "      <td>1</td>\n",
       "      <td>Readouts Delivered</td>\n",
       "    </tr>\n",
       "    <tr>\n",
       "      <th>4</th>\n",
       "      <td>FIELD</td>\n",
       "      <td>Operations</td>\n",
       "      <td>REACTIVE</td>\n",
       "      <td>FIELD</td>\n",
       "      <td>A J BELL HOLDINGS LTD</td>\n",
       "      <td>EMEAR-REGION</td>\n",
       "      <td>EMEAR-UKI</td>\n",
       "      <td>COMMERCIAL_EAW</td>\n",
       "      <td>COM_EAW_SEL_NORTH</td>\n",
       "      <td>ANY</td>\n",
       "      <td>Actual</td>\n",
       "      <td>2022</td>\n",
       "      <td>Q3</td>\n",
       "      <td>1</td>\n",
       "      <td>Readouts Delivered</td>\n",
       "    </tr>\n",
       "    <tr>\n",
       "      <th>...</th>\n",
       "      <td>...</td>\n",
       "      <td>...</td>\n",
       "      <td>...</td>\n",
       "      <td>...</td>\n",
       "      <td>...</td>\n",
       "      <td>...</td>\n",
       "      <td>...</td>\n",
       "      <td>...</td>\n",
       "      <td>...</td>\n",
       "      <td>...</td>\n",
       "      <td>...</td>\n",
       "      <td>...</td>\n",
       "      <td>...</td>\n",
       "      <td>...</td>\n",
       "      <td>...</td>\n",
       "    </tr>\n",
       "    <tr>\n",
       "      <th>3239</th>\n",
       "      <td>TARGETING</td>\n",
       "      <td>Operations</td>\n",
       "      <td>SUCCESS TRACKS FOR CAMPUS TARGETING - DYNAMIC</td>\n",
       "      <td>TARGETING</td>\n",
       "      <td>YAKULT</td>\n",
       "      <td>APJC</td>\n",
       "      <td>ASEAN_AREA</td>\n",
       "      <td>ASEAN_PH</td>\n",
       "      <td>ASEAN_COM_PHL</td>\n",
       "      <td>ST</td>\n",
       "      <td>Actual</td>\n",
       "      <td>2022</td>\n",
       "      <td>Q2</td>\n",
       "      <td>1</td>\n",
       "      <td>Readouts Delivered</td>\n",
       "    </tr>\n",
       "    <tr>\n",
       "      <th>3240</th>\n",
       "      <td>TARGETING</td>\n",
       "      <td>Operations</td>\n",
       "      <td>SUCCESS TRACKS FOR CAMPUS TARGETING - DYNAMIC</td>\n",
       "      <td>TARGETING</td>\n",
       "      <td>YAMAHA MOTOR CO. LTD.</td>\n",
       "      <td>APJC</td>\n",
       "      <td>JAPAN__</td>\n",
       "      <td>JP_COMMERCIAL_OTH</td>\n",
       "      <td>JP_COM_SELECT</td>\n",
       "      <td>ST</td>\n",
       "      <td>Actual</td>\n",
       "      <td>2022</td>\n",
       "      <td>Q2</td>\n",
       "      <td>1</td>\n",
       "      <td>Readouts Delivered</td>\n",
       "    </tr>\n",
       "    <tr>\n",
       "      <th>3241</th>\n",
       "      <td>TARGETING</td>\n",
       "      <td>Operations</td>\n",
       "      <td>SUCCESS TRACKS FOR CAMPUS TARGETING - DYNAMIC</td>\n",
       "      <td>TARGETING</td>\n",
       "      <td>YANTAI WANHUA GROUP</td>\n",
       "      <td>APJC</td>\n",
       "      <td>GREATER_CHINA</td>\n",
       "      <td>CN_NORTH</td>\n",
       "      <td>CN_ENT_NORTH_MET</td>\n",
       "      <td>ST</td>\n",
       "      <td>Actual</td>\n",
       "      <td>2022</td>\n",
       "      <td>Q2</td>\n",
       "      <td>1</td>\n",
       "      <td>Readouts Delivered</td>\n",
       "    </tr>\n",
       "    <tr>\n",
       "      <th>3242</th>\n",
       "      <td>TARGETING</td>\n",
       "      <td>Operations</td>\n",
       "      <td>SUCCESS TRACKS FOR CAMPUS TARGETING - DYNAMIC</td>\n",
       "      <td>TARGETING</td>\n",
       "      <td>ZENSAR TECHNOLOGIES LTD</td>\n",
       "      <td>APJC</td>\n",
       "      <td>INDIA_AREA</td>\n",
       "      <td>IND_ENTERPRISE_MAJOR</td>\n",
       "      <td>IND_ENT_STRATEGIC</td>\n",
       "      <td>ST</td>\n",
       "      <td>Actual</td>\n",
       "      <td>2022</td>\n",
       "      <td>Q2</td>\n",
       "      <td>1</td>\n",
       "      <td>Readouts Delivered</td>\n",
       "    </tr>\n",
       "    <tr>\n",
       "      <th>3243</th>\n",
       "      <td>TARGETING</td>\n",
       "      <td>Operations</td>\n",
       "      <td>SUCCESS TRACKS FOR CAMPUS TARGETING - DYNAMIC</td>\n",
       "      <td>TARGETING</td>\n",
       "      <td>ZURICH INSURANCE GROUP</td>\n",
       "      <td>EMEAR-REGION</td>\n",
       "      <td>EMEAR-CENTRAL</td>\n",
       "      <td>COUNTRY_SWITZERLAND</td>\n",
       "      <td>SWITZERLAND_CGEM</td>\n",
       "      <td>ST</td>\n",
       "      <td>Actual</td>\n",
       "      <td>2022</td>\n",
       "      <td>Q2</td>\n",
       "      <td>1</td>\n",
       "      <td>Readouts Delivered</td>\n",
       "    </tr>\n",
       "  </tbody>\n",
       "</table>\n",
       "<p>3244 rows × 15 columns</p>\n",
       "</div>"
      ],
      "text/plain": [
       "         Method Measure Group                                       Campaign  \\\n",
       "0         FIELD    Operations                                       REACTIVE   \n",
       "1         FIELD    Operations                                       REACTIVE   \n",
       "2         FIELD    Operations                                       REACTIVE   \n",
       "3         FIELD    Operations                                       REACTIVE   \n",
       "4         FIELD    Operations                                       REACTIVE   \n",
       "...         ...           ...                                            ...   \n",
       "3239  TARGETING    Operations  SUCCESS TRACKS FOR CAMPUS TARGETING - DYNAMIC   \n",
       "3240  TARGETING    Operations  SUCCESS TRACKS FOR CAMPUS TARGETING - DYNAMIC   \n",
       "3241  TARGETING    Operations  SUCCESS TRACKS FOR CAMPUS TARGETING - DYNAMIC   \n",
       "3242  TARGETING    Operations  SUCCESS TRACKS FOR CAMPUS TARGETING - DYNAMIC   \n",
       "3243  TARGETING    Operations  SUCCESS TRACKS FOR CAMPUS TARGETING - DYNAMIC   \n",
       "\n",
       "     Campaign Type                            Customer Name Sales Level 1  \\\n",
       "0            FIELD  (ACSA) AIRPORTS COMPANY OF SOUTH AFRICA  EMEAR-REGION   \n",
       "1            FIELD      (PIC) PUBLIC INVESTMENT CORPORATION  EMEAR-REGION   \n",
       "2            FIELD              (SAA) SOUTH AFRICAN AIRWAYS  EMEAR-REGION   \n",
       "3            FIELD                     2 SISTER POULTRY LTD  EMEAR-REGION   \n",
       "4            FIELD                    A J BELL HOLDINGS LTD  EMEAR-REGION   \n",
       "...            ...                                      ...           ...   \n",
       "3239     TARGETING                                   YAKULT          APJC   \n",
       "3240     TARGETING                    YAMAHA MOTOR CO. LTD.          APJC   \n",
       "3241     TARGETING                      YANTAI WANHUA GROUP          APJC   \n",
       "3242     TARGETING                  ZENSAR TECHNOLOGIES LTD          APJC   \n",
       "3243     TARGETING                   ZURICH INSURANCE GROUP  EMEAR-REGION   \n",
       "\n",
       "      Sales Level 2         Sales Level 3      Sales Level 4 Offer Focus  \\\n",
       "0         EMEAR_MEA           CLUSTER_SSA        COUNTRY_ZAF         ANY   \n",
       "1         EMEAR_MEA           CLUSTER_SSA        COUNTRY_ZAF         ANY   \n",
       "2         EMEAR_MEA           CLUSTER_SSA        COUNTRY_ZAF         ANY   \n",
       "3         EMEAR-UKI        COMMERCIAL_EAW  COM_EAW_SEL_NORTH         ANY   \n",
       "4         EMEAR-UKI        COMMERCIAL_EAW  COM_EAW_SEL_NORTH         ANY   \n",
       "...             ...                   ...                ...         ...   \n",
       "3239     ASEAN_AREA              ASEAN_PH      ASEAN_COM_PHL          ST   \n",
       "3240        JAPAN__     JP_COMMERCIAL_OTH      JP_COM_SELECT          ST   \n",
       "3241  GREATER_CHINA              CN_NORTH   CN_ENT_NORTH_MET          ST   \n",
       "3242     INDIA_AREA  IND_ENTERPRISE_MAJOR  IND_ENT_STRATEGIC          ST   \n",
       "3243  EMEAR-CENTRAL   COUNTRY_SWITZERLAND   SWITZERLAND_CGEM          ST   \n",
       "\n",
       "     Value Type Report FY Report FQ  Value             Measure  \n",
       "0        Actual      2022        Q2      1  Readouts Delivered  \n",
       "1        Actual      2022        Q2      1  Readouts Delivered  \n",
       "2        Actual      2022        Q2      1  Readouts Delivered  \n",
       "3        Actual      2022        Q3      1  Readouts Delivered  \n",
       "4        Actual      2022        Q3      1  Readouts Delivered  \n",
       "...         ...       ...       ...    ...                 ...  \n",
       "3239     Actual      2022        Q2      1  Readouts Delivered  \n",
       "3240     Actual      2022        Q2      1  Readouts Delivered  \n",
       "3241     Actual      2022        Q2      1  Readouts Delivered  \n",
       "3242     Actual      2022        Q2      1  Readouts Delivered  \n",
       "3243     Actual      2022        Q2      1  Readouts Delivered  \n",
       "\n",
       "[3244 rows x 15 columns]"
      ]
     },
     "execution_count": 295,
     "metadata": {},
     "output_type": "execute_result"
    }
   ],
   "source": [
    "agg_readouts['Measure'] = 'Readouts Delivered'\n",
    "agg_readouts.rename(columns={'READOUTS_DONE':'Value'}, inplace=True)\n",
    "agg_readouts"
   ]
  },
  {
   "cell_type": "code",
   "execution_count": 296,
   "metadata": {},
   "outputs": [],
   "source": [
    "offers_created = df.loc[(df['Report FY']=='2022') & (df['OFFER_CREATED'] == 1) & (df['Campaign Type'].isin(['TAC','TARGETING','TELEMETRY','FIELD','PROACTIVE COVERAGE','COVERAGE AT RENEWAL'])) ]   #& (df['Method'].str.contains('M1', na=False, case=False)) "
   ]
  },
  {
   "cell_type": "code",
   "execution_count": 297,
   "metadata": {},
   "outputs": [],
   "source": [
    "agg_offers = pd.DataFrame(offers_created.groupby(['Method', 'Measure Group','Campaign', 'Campaign Type','Customer Name', 'Sales Level 1', 'Sales Level 2', 'Sales Level 3', 'Sales Level 4','Offer Focus', 'Value Type','Report FY','Report FQ'])['OFFER_CREATED'].sum())"
   ]
  },
  {
   "cell_type": "code",
   "execution_count": 298,
   "metadata": {},
   "outputs": [],
   "source": [
    "agg_offers.reset_index(inplace=True)"
   ]
  },
  {
   "cell_type": "code",
   "execution_count": 299,
   "metadata": {},
   "outputs": [
    {
     "data": {
      "text/html": [
       "<div>\n",
       "<style scoped>\n",
       "    .dataframe tbody tr th:only-of-type {\n",
       "        vertical-align: middle;\n",
       "    }\n",
       "\n",
       "    .dataframe tbody tr th {\n",
       "        vertical-align: top;\n",
       "    }\n",
       "\n",
       "    .dataframe thead th {\n",
       "        text-align: right;\n",
       "    }\n",
       "</style>\n",
       "<table border=\"1\" class=\"dataframe\">\n",
       "  <thead>\n",
       "    <tr style=\"text-align: right;\">\n",
       "      <th></th>\n",
       "      <th>Method</th>\n",
       "      <th>Measure Group</th>\n",
       "      <th>Campaign</th>\n",
       "      <th>Campaign Type</th>\n",
       "      <th>Customer Name</th>\n",
       "      <th>Sales Level 1</th>\n",
       "      <th>Sales Level 2</th>\n",
       "      <th>Sales Level 3</th>\n",
       "      <th>Sales Level 4</th>\n",
       "      <th>Offer Focus</th>\n",
       "      <th>Value Type</th>\n",
       "      <th>Report FY</th>\n",
       "      <th>Report FQ</th>\n",
       "      <th>Value</th>\n",
       "      <th>Measure</th>\n",
       "    </tr>\n",
       "  </thead>\n",
       "  <tbody>\n",
       "    <tr>\n",
       "      <th>0</th>\n",
       "      <td>FIELD</td>\n",
       "      <td>Operations</td>\n",
       "      <td>REACTIVE</td>\n",
       "      <td>FIELD</td>\n",
       "      <td>(PIC) PUBLIC INVESTMENT CORPORATION</td>\n",
       "      <td>EMEAR-REGION</td>\n",
       "      <td>EMEAR_MEA</td>\n",
       "      <td>CLUSTER_SSA</td>\n",
       "      <td>COUNTRY_ZAF</td>\n",
       "      <td>ANY</td>\n",
       "      <td>Actual</td>\n",
       "      <td>2022</td>\n",
       "      <td>Q2</td>\n",
       "      <td>1</td>\n",
       "      <td>Offers Created</td>\n",
       "    </tr>\n",
       "    <tr>\n",
       "      <th>1</th>\n",
       "      <td>FIELD</td>\n",
       "      <td>Operations</td>\n",
       "      <td>REACTIVE</td>\n",
       "      <td>FIELD</td>\n",
       "      <td>ADVENT HEALTH</td>\n",
       "      <td>AMERICAS</td>\n",
       "      <td>GLOBAL ENTERPRISE SEGMENT</td>\n",
       "      <td>GES SOUTH</td>\n",
       "      <td>SOUTHEAST OP</td>\n",
       "      <td>ANY</td>\n",
       "      <td>Actual</td>\n",
       "      <td>2022</td>\n",
       "      <td>Q3</td>\n",
       "      <td>1</td>\n",
       "      <td>Offers Created</td>\n",
       "    </tr>\n",
       "    <tr>\n",
       "      <th>2</th>\n",
       "      <td>FIELD</td>\n",
       "      <td>Operations</td>\n",
       "      <td>REACTIVE</td>\n",
       "      <td>FIELD</td>\n",
       "      <td>AFLAC</td>\n",
       "      <td>AMERICAS</td>\n",
       "      <td>GLOBAL ENTERPRISE SEGMENT</td>\n",
       "      <td>GES SOUTH</td>\n",
       "      <td>TAG OPERATION</td>\n",
       "      <td>ANY</td>\n",
       "      <td>Actual</td>\n",
       "      <td>2022</td>\n",
       "      <td>Q3</td>\n",
       "      <td>1</td>\n",
       "      <td>Offers Created</td>\n",
       "    </tr>\n",
       "    <tr>\n",
       "      <th>3</th>\n",
       "      <td>FIELD</td>\n",
       "      <td>Operations</td>\n",
       "      <td>REACTIVE</td>\n",
       "      <td>FIELD</td>\n",
       "      <td>ALLY_FINANCIAL</td>\n",
       "      <td>AMERICAS</td>\n",
       "      <td>GLOBAL ENTERPRISE SEGMENT</td>\n",
       "      <td>GES CENTRAL</td>\n",
       "      <td>MIDWEST ENTERPRISE OPERATION</td>\n",
       "      <td>ANY</td>\n",
       "      <td>Actual</td>\n",
       "      <td>2022</td>\n",
       "      <td>Q3</td>\n",
       "      <td>1</td>\n",
       "      <td>Offers Created</td>\n",
       "    </tr>\n",
       "    <tr>\n",
       "      <th>4</th>\n",
       "      <td>FIELD</td>\n",
       "      <td>Operations</td>\n",
       "      <td>REACTIVE</td>\n",
       "      <td>FIELD</td>\n",
       "      <td>AMERICAN FINANCIAL GROUP</td>\n",
       "      <td>AMERICAS</td>\n",
       "      <td>GLOBAL ENTERPRISE SEGMENT</td>\n",
       "      <td>GES CENTRAL</td>\n",
       "      <td>MIDWEST ENTERPRISE OPERATION</td>\n",
       "      <td>ANY</td>\n",
       "      <td>Actual</td>\n",
       "      <td>2022</td>\n",
       "      <td>Q3</td>\n",
       "      <td>1</td>\n",
       "      <td>Offers Created</td>\n",
       "    </tr>\n",
       "    <tr>\n",
       "      <th>...</th>\n",
       "      <td>...</td>\n",
       "      <td>...</td>\n",
       "      <td>...</td>\n",
       "      <td>...</td>\n",
       "      <td>...</td>\n",
       "      <td>...</td>\n",
       "      <td>...</td>\n",
       "      <td>...</td>\n",
       "      <td>...</td>\n",
       "      <td>...</td>\n",
       "      <td>...</td>\n",
       "      <td>...</td>\n",
       "      <td>...</td>\n",
       "      <td>...</td>\n",
       "      <td>...</td>\n",
       "    </tr>\n",
       "    <tr>\n",
       "      <th>883</th>\n",
       "      <td>TARGETING</td>\n",
       "      <td>Operations</td>\n",
       "      <td>SUCCESS TRACKS DYNAMIC CAMPAIGN</td>\n",
       "      <td>TARGETING</td>\n",
       "      <td>COOK GROUP INC</td>\n",
       "      <td>AMERICAS</td>\n",
       "      <td>US COMMERCIAL</td>\n",
       "      <td>COMMERCIAL CENTRAL AREA</td>\n",
       "      <td>CENTRAL EAST COMMERCIAL OPERATION</td>\n",
       "      <td>ST</td>\n",
       "      <td>Actual</td>\n",
       "      <td>2022</td>\n",
       "      <td>Q2</td>\n",
       "      <td>1</td>\n",
       "      <td>Offers Created</td>\n",
       "    </tr>\n",
       "    <tr>\n",
       "      <th>884</th>\n",
       "      <td>TARGETING</td>\n",
       "      <td>Operations</td>\n",
       "      <td>SUCCESS TRACKS DYNAMIC CAMPAIGN</td>\n",
       "      <td>TARGETING</td>\n",
       "      <td>DEUTSCHER SPARKASSEN-UND GIROVERBAND EV</td>\n",
       "      <td>EMEAR-REGION</td>\n",
       "      <td>EMEAR_GERMANY</td>\n",
       "      <td>ENTERPRISE_I_DEU</td>\n",
       "      <td>ENT_DEU_FSI</td>\n",
       "      <td>ST</td>\n",
       "      <td>Actual</td>\n",
       "      <td>2022</td>\n",
       "      <td>Q3</td>\n",
       "      <td>1</td>\n",
       "      <td>Offers Created</td>\n",
       "    </tr>\n",
       "    <tr>\n",
       "      <th>885</th>\n",
       "      <td>TARGETING</td>\n",
       "      <td>Operations</td>\n",
       "      <td>SUCCESS TRACKS DYNAMIC CAMPAIGN</td>\n",
       "      <td>TARGETING</td>\n",
       "      <td>THE WORLD BANK GROUP - PRIMARY</td>\n",
       "      <td>AMERICAS</td>\n",
       "      <td>GLOBAL ENTERPRISE SEGMENT</td>\n",
       "      <td>GES EAST</td>\n",
       "      <td>ATLANTIC ENTERPRISE OPERATION</td>\n",
       "      <td>ST</td>\n",
       "      <td>Actual</td>\n",
       "      <td>2022</td>\n",
       "      <td>Q2</td>\n",
       "      <td>1</td>\n",
       "      <td>Offers Created</td>\n",
       "    </tr>\n",
       "    <tr>\n",
       "      <th>886</th>\n",
       "      <td>TARGETING</td>\n",
       "      <td>Operations</td>\n",
       "      <td>SUCCESS TRACKS FOR CAMPUS TARGETING - DYNAMIC</td>\n",
       "      <td>TARGETING</td>\n",
       "      <td>NEW JERSEY INSTITUTE OF TECHNOLOGY</td>\n",
       "      <td>AMERICAS</td>\n",
       "      <td>US PS MARKET SEGMENT</td>\n",
       "      <td>SLED-EAST AREA</td>\n",
       "      <td>SLED-NORTHEAST OPERATION</td>\n",
       "      <td>ST</td>\n",
       "      <td>Actual</td>\n",
       "      <td>2022</td>\n",
       "      <td>Q2</td>\n",
       "      <td>1</td>\n",
       "      <td>Offers Created</td>\n",
       "    </tr>\n",
       "    <tr>\n",
       "      <th>887</th>\n",
       "      <td>TARGETING</td>\n",
       "      <td>Operations</td>\n",
       "      <td>SUCCESS TRACKS FOR CAMPUS TARGETING - DYNAMIC</td>\n",
       "      <td>TARGETING</td>\n",
       "      <td>ROWAN UNIVERSITY</td>\n",
       "      <td>AMERICAS</td>\n",
       "      <td>US PS MARKET SEGMENT</td>\n",
       "      <td>SLED-EAST AREA</td>\n",
       "      <td>SLED-NORTHEAST OPERATION</td>\n",
       "      <td>ST</td>\n",
       "      <td>Actual</td>\n",
       "      <td>2022</td>\n",
       "      <td>Q2</td>\n",
       "      <td>1</td>\n",
       "      <td>Offers Created</td>\n",
       "    </tr>\n",
       "  </tbody>\n",
       "</table>\n",
       "<p>888 rows × 15 columns</p>\n",
       "</div>"
      ],
      "text/plain": [
       "        Method Measure Group                                       Campaign  \\\n",
       "0        FIELD    Operations                                       REACTIVE   \n",
       "1        FIELD    Operations                                       REACTIVE   \n",
       "2        FIELD    Operations                                       REACTIVE   \n",
       "3        FIELD    Operations                                       REACTIVE   \n",
       "4        FIELD    Operations                                       REACTIVE   \n",
       "..         ...           ...                                            ...   \n",
       "883  TARGETING    Operations                SUCCESS TRACKS DYNAMIC CAMPAIGN   \n",
       "884  TARGETING    Operations                SUCCESS TRACKS DYNAMIC CAMPAIGN   \n",
       "885  TARGETING    Operations                SUCCESS TRACKS DYNAMIC CAMPAIGN   \n",
       "886  TARGETING    Operations  SUCCESS TRACKS FOR CAMPUS TARGETING - DYNAMIC   \n",
       "887  TARGETING    Operations  SUCCESS TRACKS FOR CAMPUS TARGETING - DYNAMIC   \n",
       "\n",
       "    Campaign Type                            Customer Name Sales Level 1  \\\n",
       "0           FIELD      (PIC) PUBLIC INVESTMENT CORPORATION  EMEAR-REGION   \n",
       "1           FIELD                            ADVENT HEALTH      AMERICAS   \n",
       "2           FIELD                                    AFLAC      AMERICAS   \n",
       "3           FIELD                           ALLY_FINANCIAL      AMERICAS   \n",
       "4           FIELD                 AMERICAN FINANCIAL GROUP      AMERICAS   \n",
       "..            ...                                      ...           ...   \n",
       "883     TARGETING                           COOK GROUP INC      AMERICAS   \n",
       "884     TARGETING  DEUTSCHER SPARKASSEN-UND GIROVERBAND EV  EMEAR-REGION   \n",
       "885     TARGETING           THE WORLD BANK GROUP - PRIMARY      AMERICAS   \n",
       "886     TARGETING       NEW JERSEY INSTITUTE OF TECHNOLOGY      AMERICAS   \n",
       "887     TARGETING                         ROWAN UNIVERSITY      AMERICAS   \n",
       "\n",
       "                 Sales Level 2            Sales Level 3  \\\n",
       "0                    EMEAR_MEA              CLUSTER_SSA   \n",
       "1    GLOBAL ENTERPRISE SEGMENT                GES SOUTH   \n",
       "2    GLOBAL ENTERPRISE SEGMENT                GES SOUTH   \n",
       "3    GLOBAL ENTERPRISE SEGMENT              GES CENTRAL   \n",
       "4    GLOBAL ENTERPRISE SEGMENT              GES CENTRAL   \n",
       "..                         ...                      ...   \n",
       "883              US COMMERCIAL  COMMERCIAL CENTRAL AREA   \n",
       "884              EMEAR_GERMANY         ENTERPRISE_I_DEU   \n",
       "885  GLOBAL ENTERPRISE SEGMENT                 GES EAST   \n",
       "886       US PS MARKET SEGMENT           SLED-EAST AREA   \n",
       "887       US PS MARKET SEGMENT           SLED-EAST AREA   \n",
       "\n",
       "                         Sales Level 4 Offer Focus Value Type Report FY  \\\n",
       "0                          COUNTRY_ZAF         ANY     Actual      2022   \n",
       "1                         SOUTHEAST OP         ANY     Actual      2022   \n",
       "2                        TAG OPERATION         ANY     Actual      2022   \n",
       "3         MIDWEST ENTERPRISE OPERATION         ANY     Actual      2022   \n",
       "4         MIDWEST ENTERPRISE OPERATION         ANY     Actual      2022   \n",
       "..                                 ...         ...        ...       ...   \n",
       "883  CENTRAL EAST COMMERCIAL OPERATION          ST     Actual      2022   \n",
       "884                        ENT_DEU_FSI          ST     Actual      2022   \n",
       "885      ATLANTIC ENTERPRISE OPERATION          ST     Actual      2022   \n",
       "886           SLED-NORTHEAST OPERATION          ST     Actual      2022   \n",
       "887           SLED-NORTHEAST OPERATION          ST     Actual      2022   \n",
       "\n",
       "    Report FQ  Value         Measure  \n",
       "0          Q2      1  Offers Created  \n",
       "1          Q3      1  Offers Created  \n",
       "2          Q3      1  Offers Created  \n",
       "3          Q3      1  Offers Created  \n",
       "4          Q3      1  Offers Created  \n",
       "..        ...    ...             ...  \n",
       "883        Q2      1  Offers Created  \n",
       "884        Q3      1  Offers Created  \n",
       "885        Q2      1  Offers Created  \n",
       "886        Q2      1  Offers Created  \n",
       "887        Q2      1  Offers Created  \n",
       "\n",
       "[888 rows x 15 columns]"
      ]
     },
     "execution_count": 299,
     "metadata": {},
     "output_type": "execute_result"
    }
   ],
   "source": [
    "agg_offers['Measure'] = 'Offers Created'\n",
    "agg_offers.rename(columns={'OFFER_CREATED':'Value'}, inplace=True)\n",
    "agg_offers"
   ]
  },
  {
   "cell_type": "code",
   "execution_count": 300,
   "metadata": {},
   "outputs": [],
   "source": [
    "uncovered_pipeline = df.loc[(df['Report FY']=='2022') & (df['UNCOVERED_OPPTY_VALUE'] > 0) & (df['Campaign Type'].isin(['TAC','TARGETING','TELEMETRY','FIELD','PROACTIVE COVERAGE','COVERAGE AT RENEWAL'])) ]    #& (df['Method'].str.contains('M1', na=False, case=False)) "
   ]
  },
  {
   "cell_type": "code",
   "execution_count": 301,
   "metadata": {},
   "outputs": [],
   "source": [
    "agg_unc_pipeline = pd.DataFrame(uncovered_pipeline.groupby(['Method', 'Measure Group','Campaign', 'Campaign Type','Customer Name', 'Sales Level 1', 'Sales Level 2', 'Sales Level 3', 'Sales Level 4','Offer Focus', 'Value Type','Report FY','Report FQ'])['UNCOVERED_OPPTY_VALUE'].sum())"
   ]
  },
  {
   "cell_type": "code",
   "execution_count": 302,
   "metadata": {},
   "outputs": [],
   "source": [
    "agg_unc_pipeline.reset_index(inplace=True)"
   ]
  },
  {
   "cell_type": "code",
   "execution_count": 303,
   "metadata": {},
   "outputs": [
    {
     "data": {
      "text/html": [
       "<div>\n",
       "<style scoped>\n",
       "    .dataframe tbody tr th:only-of-type {\n",
       "        vertical-align: middle;\n",
       "    }\n",
       "\n",
       "    .dataframe tbody tr th {\n",
       "        vertical-align: top;\n",
       "    }\n",
       "\n",
       "    .dataframe thead th {\n",
       "        text-align: right;\n",
       "    }\n",
       "</style>\n",
       "<table border=\"1\" class=\"dataframe\">\n",
       "  <thead>\n",
       "    <tr style=\"text-align: right;\">\n",
       "      <th></th>\n",
       "      <th>Method</th>\n",
       "      <th>Measure Group</th>\n",
       "      <th>Campaign</th>\n",
       "      <th>Campaign Type</th>\n",
       "      <th>Customer Name</th>\n",
       "      <th>Sales Level 1</th>\n",
       "      <th>Sales Level 2</th>\n",
       "      <th>Sales Level 3</th>\n",
       "      <th>Sales Level 4</th>\n",
       "      <th>Offer Focus</th>\n",
       "      <th>Value Type</th>\n",
       "      <th>Report FY</th>\n",
       "      <th>Report FQ</th>\n",
       "      <th>Value</th>\n",
       "      <th>Measure</th>\n",
       "    </tr>\n",
       "  </thead>\n",
       "  <tbody>\n",
       "    <tr>\n",
       "      <th>0</th>\n",
       "      <td>FIELD</td>\n",
       "      <td>Operations</td>\n",
       "      <td>REACTIVE</td>\n",
       "      <td>FIELD</td>\n",
       "      <td>AFLAC</td>\n",
       "      <td>AMERICAS</td>\n",
       "      <td>GLOBAL ENTERPRISE SEGMENT</td>\n",
       "      <td>GES SOUTH</td>\n",
       "      <td>TAG OPERATION</td>\n",
       "      <td>ANY</td>\n",
       "      <td>Actual</td>\n",
       "      <td>2022</td>\n",
       "      <td>Q3</td>\n",
       "      <td>24.0</td>\n",
       "      <td>Uncovered Opp Value $(000s)</td>\n",
       "    </tr>\n",
       "    <tr>\n",
       "      <th>1</th>\n",
       "      <td>FIELD</td>\n",
       "      <td>Operations</td>\n",
       "      <td>REACTIVE</td>\n",
       "      <td>FIELD</td>\n",
       "      <td>ASPIRE TECHNOLOGY PARTNERS LLC</td>\n",
       "      <td>AMERICAS</td>\n",
       "      <td>AMERICAS_SP</td>\n",
       "      <td>ASP US SEGMENTS</td>\n",
       "      <td>ASP MID MARKET TERRITORY</td>\n",
       "      <td>ANY</td>\n",
       "      <td>Actual</td>\n",
       "      <td>2022</td>\n",
       "      <td>Q3</td>\n",
       "      <td>0.6</td>\n",
       "      <td>Uncovered Opp Value $(000s)</td>\n",
       "    </tr>\n",
       "    <tr>\n",
       "      <th>2</th>\n",
       "      <td>FIELD</td>\n",
       "      <td>Operations</td>\n",
       "      <td>REACTIVE</td>\n",
       "      <td>FIELD</td>\n",
       "      <td>BAKER HUGHES INC</td>\n",
       "      <td>AMERICAS</td>\n",
       "      <td>GLOBAL ENTERPRISE SEGMENT</td>\n",
       "      <td>GES SOUTH</td>\n",
       "      <td>GLL_M_BAKER HUGHES</td>\n",
       "      <td>ANY</td>\n",
       "      <td>Actual</td>\n",
       "      <td>2022</td>\n",
       "      <td>Q3</td>\n",
       "      <td>75.0</td>\n",
       "      <td>Uncovered Opp Value $(000s)</td>\n",
       "    </tr>\n",
       "    <tr>\n",
       "      <th>3</th>\n",
       "      <td>FIELD</td>\n",
       "      <td>Operations</td>\n",
       "      <td>REACTIVE</td>\n",
       "      <td>FIELD</td>\n",
       "      <td>BANCO SANTANDER</td>\n",
       "      <td>AMERICAS</td>\n",
       "      <td>LATIN AMERICA</td>\n",
       "      <td>M_C_R</td>\n",
       "      <td>ARGENTINA_P_U</td>\n",
       "      <td>ANY</td>\n",
       "      <td>Actual</td>\n",
       "      <td>2022</td>\n",
       "      <td>Q3</td>\n",
       "      <td>0.6</td>\n",
       "      <td>Uncovered Opp Value $(000s)</td>\n",
       "    </tr>\n",
       "    <tr>\n",
       "      <th>4</th>\n",
       "      <td>FIELD</td>\n",
       "      <td>Operations</td>\n",
       "      <td>REACTIVE</td>\n",
       "      <td>FIELD</td>\n",
       "      <td>BAYCARE</td>\n",
       "      <td>AMERICAS</td>\n",
       "      <td>GLOBAL ENTERPRISE SEGMENT</td>\n",
       "      <td>GES SOUTH</td>\n",
       "      <td>SOUTHEAST OP</td>\n",
       "      <td>ANY</td>\n",
       "      <td>Actual</td>\n",
       "      <td>2022</td>\n",
       "      <td>Q2</td>\n",
       "      <td>342.6</td>\n",
       "      <td>Uncovered Opp Value $(000s)</td>\n",
       "    </tr>\n",
       "    <tr>\n",
       "      <th>...</th>\n",
       "      <td>...</td>\n",
       "      <td>...</td>\n",
       "      <td>...</td>\n",
       "      <td>...</td>\n",
       "      <td>...</td>\n",
       "      <td>...</td>\n",
       "      <td>...</td>\n",
       "      <td>...</td>\n",
       "      <td>...</td>\n",
       "      <td>...</td>\n",
       "      <td>...</td>\n",
       "      <td>...</td>\n",
       "      <td>...</td>\n",
       "      <td>...</td>\n",
       "      <td>...</td>\n",
       "    </tr>\n",
       "    <tr>\n",
       "      <th>791</th>\n",
       "      <td>M6 (Coverage at Renewal)</td>\n",
       "      <td>Operations</td>\n",
       "      <td>COVER THE UNCOVERED - COVERAGE AT RENEWAL</td>\n",
       "      <td>COVERAGE AT RENEWAL</td>\n",
       "      <td>ZEUS INTERNATIONAL</td>\n",
       "      <td>AMERICAS</td>\n",
       "      <td>US COMMERCIAL</td>\n",
       "      <td>COMMERCIAL EAST AREA</td>\n",
       "      <td>SOUTH EAST COMMERCIAL OPERATION</td>\n",
       "      <td>SNTC</td>\n",
       "      <td>Actual</td>\n",
       "      <td>2022</td>\n",
       "      <td>Q2</td>\n",
       "      <td>3.0</td>\n",
       "      <td>Uncovered Opp Value $(000s)</td>\n",
       "    </tr>\n",
       "    <tr>\n",
       "      <th>792</th>\n",
       "      <td>TARGETING</td>\n",
       "      <td>Operations</td>\n",
       "      <td>SUCCESS TRACKS DYNAMIC CAMPAIGN</td>\n",
       "      <td>TARGETING</td>\n",
       "      <td>DEUTSCHER SPARKASSEN-UND GIROVERBAND EV</td>\n",
       "      <td>EMEAR-REGION</td>\n",
       "      <td>EMEAR_GERMANY</td>\n",
       "      <td>ENTERPRISE_I_DEU</td>\n",
       "      <td>ENT_DEU_FSI</td>\n",
       "      <td>ST</td>\n",
       "      <td>Actual</td>\n",
       "      <td>2022</td>\n",
       "      <td>Q3</td>\n",
       "      <td>1.8</td>\n",
       "      <td>Uncovered Opp Value $(000s)</td>\n",
       "    </tr>\n",
       "    <tr>\n",
       "      <th>793</th>\n",
       "      <td>TARGETING</td>\n",
       "      <td>Operations</td>\n",
       "      <td>SUCCESS TRACKS DYNAMIC CAMPAIGN</td>\n",
       "      <td>TARGETING</td>\n",
       "      <td>THE WORLD BANK GROUP - PRIMARY</td>\n",
       "      <td>AMERICAS</td>\n",
       "      <td>GLOBAL ENTERPRISE SEGMENT</td>\n",
       "      <td>GES EAST</td>\n",
       "      <td>ATLANTIC ENTERPRISE OPERATION</td>\n",
       "      <td>ST</td>\n",
       "      <td>Actual</td>\n",
       "      <td>2022</td>\n",
       "      <td>Q2</td>\n",
       "      <td>63.6</td>\n",
       "      <td>Uncovered Opp Value $(000s)</td>\n",
       "    </tr>\n",
       "    <tr>\n",
       "      <th>794</th>\n",
       "      <td>TARGETING</td>\n",
       "      <td>Operations</td>\n",
       "      <td>SUCCESS TRACKS FOR CAMPUS TARGETING - DYNAMIC</td>\n",
       "      <td>TARGETING</td>\n",
       "      <td>NEW JERSEY INSTITUTE OF TECHNOLOGY</td>\n",
       "      <td>AMERICAS</td>\n",
       "      <td>US PS MARKET SEGMENT</td>\n",
       "      <td>SLED-EAST AREA</td>\n",
       "      <td>SLED-NORTHEAST OPERATION</td>\n",
       "      <td>ST</td>\n",
       "      <td>Actual</td>\n",
       "      <td>2022</td>\n",
       "      <td>Q2</td>\n",
       "      <td>31.2</td>\n",
       "      <td>Uncovered Opp Value $(000s)</td>\n",
       "    </tr>\n",
       "    <tr>\n",
       "      <th>795</th>\n",
       "      <td>TARGETING</td>\n",
       "      <td>Operations</td>\n",
       "      <td>SUCCESS TRACKS FOR CAMPUS TARGETING - DYNAMIC</td>\n",
       "      <td>TARGETING</td>\n",
       "      <td>ROWAN UNIVERSITY</td>\n",
       "      <td>AMERICAS</td>\n",
       "      <td>US PS MARKET SEGMENT</td>\n",
       "      <td>SLED-EAST AREA</td>\n",
       "      <td>SLED-NORTHEAST OPERATION</td>\n",
       "      <td>ST</td>\n",
       "      <td>Actual</td>\n",
       "      <td>2022</td>\n",
       "      <td>Q2</td>\n",
       "      <td>4.2</td>\n",
       "      <td>Uncovered Opp Value $(000s)</td>\n",
       "    </tr>\n",
       "  </tbody>\n",
       "</table>\n",
       "<p>796 rows × 15 columns</p>\n",
       "</div>"
      ],
      "text/plain": [
       "                       Method Measure Group  \\\n",
       "0                       FIELD    Operations   \n",
       "1                       FIELD    Operations   \n",
       "2                       FIELD    Operations   \n",
       "3                       FIELD    Operations   \n",
       "4                       FIELD    Operations   \n",
       "..                        ...           ...   \n",
       "791  M6 (Coverage at Renewal)    Operations   \n",
       "792                 TARGETING    Operations   \n",
       "793                 TARGETING    Operations   \n",
       "794                 TARGETING    Operations   \n",
       "795                 TARGETING    Operations   \n",
       "\n",
       "                                          Campaign        Campaign Type  \\\n",
       "0                                         REACTIVE                FIELD   \n",
       "1                                         REACTIVE                FIELD   \n",
       "2                                         REACTIVE                FIELD   \n",
       "3                                         REACTIVE                FIELD   \n",
       "4                                         REACTIVE                FIELD   \n",
       "..                                             ...                  ...   \n",
       "791      COVER THE UNCOVERED - COVERAGE AT RENEWAL  COVERAGE AT RENEWAL   \n",
       "792                SUCCESS TRACKS DYNAMIC CAMPAIGN            TARGETING   \n",
       "793                SUCCESS TRACKS DYNAMIC CAMPAIGN            TARGETING   \n",
       "794  SUCCESS TRACKS FOR CAMPUS TARGETING - DYNAMIC            TARGETING   \n",
       "795  SUCCESS TRACKS FOR CAMPUS TARGETING - DYNAMIC            TARGETING   \n",
       "\n",
       "                               Customer Name Sales Level 1  \\\n",
       "0                                      AFLAC      AMERICAS   \n",
       "1             ASPIRE TECHNOLOGY PARTNERS LLC      AMERICAS   \n",
       "2                           BAKER HUGHES INC      AMERICAS   \n",
       "3                            BANCO SANTANDER      AMERICAS   \n",
       "4                                    BAYCARE      AMERICAS   \n",
       "..                                       ...           ...   \n",
       "791                       ZEUS INTERNATIONAL      AMERICAS   \n",
       "792  DEUTSCHER SPARKASSEN-UND GIROVERBAND EV  EMEAR-REGION   \n",
       "793           THE WORLD BANK GROUP - PRIMARY      AMERICAS   \n",
       "794       NEW JERSEY INSTITUTE OF TECHNOLOGY      AMERICAS   \n",
       "795                         ROWAN UNIVERSITY      AMERICAS   \n",
       "\n",
       "                 Sales Level 2         Sales Level 3  \\\n",
       "0    GLOBAL ENTERPRISE SEGMENT             GES SOUTH   \n",
       "1                  AMERICAS_SP       ASP US SEGMENTS   \n",
       "2    GLOBAL ENTERPRISE SEGMENT             GES SOUTH   \n",
       "3                LATIN AMERICA                 M_C_R   \n",
       "4    GLOBAL ENTERPRISE SEGMENT             GES SOUTH   \n",
       "..                         ...                   ...   \n",
       "791              US COMMERCIAL  COMMERCIAL EAST AREA   \n",
       "792              EMEAR_GERMANY      ENTERPRISE_I_DEU   \n",
       "793  GLOBAL ENTERPRISE SEGMENT              GES EAST   \n",
       "794       US PS MARKET SEGMENT        SLED-EAST AREA   \n",
       "795       US PS MARKET SEGMENT        SLED-EAST AREA   \n",
       "\n",
       "                       Sales Level 4 Offer Focus Value Type Report FY  \\\n",
       "0                      TAG OPERATION         ANY     Actual      2022   \n",
       "1           ASP MID MARKET TERRITORY         ANY     Actual      2022   \n",
       "2                 GLL_M_BAKER HUGHES         ANY     Actual      2022   \n",
       "3                      ARGENTINA_P_U         ANY     Actual      2022   \n",
       "4                       SOUTHEAST OP         ANY     Actual      2022   \n",
       "..                               ...         ...        ...       ...   \n",
       "791  SOUTH EAST COMMERCIAL OPERATION        SNTC     Actual      2022   \n",
       "792                      ENT_DEU_FSI          ST     Actual      2022   \n",
       "793    ATLANTIC ENTERPRISE OPERATION          ST     Actual      2022   \n",
       "794         SLED-NORTHEAST OPERATION          ST     Actual      2022   \n",
       "795         SLED-NORTHEAST OPERATION          ST     Actual      2022   \n",
       "\n",
       "    Report FQ  Value                      Measure  \n",
       "0          Q3   24.0  Uncovered Opp Value $(000s)  \n",
       "1          Q3    0.6  Uncovered Opp Value $(000s)  \n",
       "2          Q3   75.0  Uncovered Opp Value $(000s)  \n",
       "3          Q3    0.6  Uncovered Opp Value $(000s)  \n",
       "4          Q2  342.6  Uncovered Opp Value $(000s)  \n",
       "..        ...    ...                          ...  \n",
       "791        Q2    3.0  Uncovered Opp Value $(000s)  \n",
       "792        Q3    1.8  Uncovered Opp Value $(000s)  \n",
       "793        Q2   63.6  Uncovered Opp Value $(000s)  \n",
       "794        Q2   31.2  Uncovered Opp Value $(000s)  \n",
       "795        Q2    4.2  Uncovered Opp Value $(000s)  \n",
       "\n",
       "[796 rows x 15 columns]"
      ]
     },
     "execution_count": 303,
     "metadata": {},
     "output_type": "execute_result"
    }
   ],
   "source": [
    "agg_unc_pipeline['Measure'] = 'Uncovered Opp Value $(000''s)'\n",
    "agg_unc_pipeline.rename(columns={'UNCOVERED_OPPTY_VALUE':'Value'},inplace=True)\n",
    "agg_unc_pipeline"
   ]
  },
  {
   "cell_type": "code",
   "execution_count": 304,
   "metadata": {},
   "outputs": [],
   "source": [
    "group_of_measures = pd.concat([agg_opps,agg_readouts,agg_offers,agg_unc_pipeline], axis=1)"
   ]
  },
  {
   "cell_type": "code",
   "execution_count": 305,
   "metadata": {},
   "outputs": [
    {
     "data": {
      "text/html": [
       "<div>\n",
       "<style scoped>\n",
       "    .dataframe tbody tr th:only-of-type {\n",
       "        vertical-align: middle;\n",
       "    }\n",
       "\n",
       "    .dataframe tbody tr th {\n",
       "        vertical-align: top;\n",
       "    }\n",
       "\n",
       "    .dataframe thead th {\n",
       "        text-align: right;\n",
       "    }\n",
       "</style>\n",
       "<table border=\"1\" class=\"dataframe\">\n",
       "  <thead>\n",
       "    <tr style=\"text-align: right;\">\n",
       "      <th></th>\n",
       "      <th>Method</th>\n",
       "      <th>Measure Group</th>\n",
       "      <th>Campaign</th>\n",
       "      <th>Campaign Type</th>\n",
       "      <th>Customer Name</th>\n",
       "      <th>Sales Level 1</th>\n",
       "      <th>Sales Level 2</th>\n",
       "      <th>Sales Level 3</th>\n",
       "      <th>Sales Level 4</th>\n",
       "      <th>Offer Focus</th>\n",
       "      <th>...</th>\n",
       "      <th>Sales Level 1</th>\n",
       "      <th>Sales Level 2</th>\n",
       "      <th>Sales Level 3</th>\n",
       "      <th>Sales Level 4</th>\n",
       "      <th>Offer Focus</th>\n",
       "      <th>Value Type</th>\n",
       "      <th>Report FY</th>\n",
       "      <th>Report FQ</th>\n",
       "      <th>Value</th>\n",
       "      <th>Measure</th>\n",
       "    </tr>\n",
       "  </thead>\n",
       "  <tbody>\n",
       "    <tr>\n",
       "      <th>0</th>\n",
       "      <td>FIELD</td>\n",
       "      <td>Operations</td>\n",
       "      <td>REACTIVE</td>\n",
       "      <td>FIELD</td>\n",
       "      <td>(ACSA) AIRPORTS COMPANY OF SOUTH AFRICA</td>\n",
       "      <td>EMEAR-REGION</td>\n",
       "      <td>EMEAR_MEA</td>\n",
       "      <td>CLUSTER_SSA</td>\n",
       "      <td>COUNTRY_ZAF</td>\n",
       "      <td>ANY</td>\n",
       "      <td>...</td>\n",
       "      <td>AMERICAS</td>\n",
       "      <td>GLOBAL ENTERPRISE SEGMENT</td>\n",
       "      <td>GES SOUTH</td>\n",
       "      <td>TAG OPERATION</td>\n",
       "      <td>ANY</td>\n",
       "      <td>Actual</td>\n",
       "      <td>2022</td>\n",
       "      <td>Q3</td>\n",
       "      <td>24.0</td>\n",
       "      <td>Uncovered Opp Value $(000s)</td>\n",
       "    </tr>\n",
       "    <tr>\n",
       "      <th>1</th>\n",
       "      <td>FIELD</td>\n",
       "      <td>Operations</td>\n",
       "      <td>REACTIVE</td>\n",
       "      <td>FIELD</td>\n",
       "      <td>(PIC) PUBLIC INVESTMENT CORPORATION</td>\n",
       "      <td>EMEAR-REGION</td>\n",
       "      <td>EMEAR_MEA</td>\n",
       "      <td>CLUSTER_SSA</td>\n",
       "      <td>COUNTRY_ZAF</td>\n",
       "      <td>ANY</td>\n",
       "      <td>...</td>\n",
       "      <td>AMERICAS</td>\n",
       "      <td>AMERICAS_SP</td>\n",
       "      <td>ASP US SEGMENTS</td>\n",
       "      <td>ASP MID MARKET TERRITORY</td>\n",
       "      <td>ANY</td>\n",
       "      <td>Actual</td>\n",
       "      <td>2022</td>\n",
       "      <td>Q3</td>\n",
       "      <td>0.6</td>\n",
       "      <td>Uncovered Opp Value $(000s)</td>\n",
       "    </tr>\n",
       "    <tr>\n",
       "      <th>2</th>\n",
       "      <td>FIELD</td>\n",
       "      <td>Operations</td>\n",
       "      <td>REACTIVE</td>\n",
       "      <td>FIELD</td>\n",
       "      <td>(SAA) SOUTH AFRICAN AIRWAYS</td>\n",
       "      <td>EMEAR-REGION</td>\n",
       "      <td>EMEAR_MEA</td>\n",
       "      <td>CLUSTER_SSA</td>\n",
       "      <td>COUNTRY_ZAF</td>\n",
       "      <td>ANY</td>\n",
       "      <td>...</td>\n",
       "      <td>AMERICAS</td>\n",
       "      <td>GLOBAL ENTERPRISE SEGMENT</td>\n",
       "      <td>GES SOUTH</td>\n",
       "      <td>GLL_M_BAKER HUGHES</td>\n",
       "      <td>ANY</td>\n",
       "      <td>Actual</td>\n",
       "      <td>2022</td>\n",
       "      <td>Q3</td>\n",
       "      <td>75.0</td>\n",
       "      <td>Uncovered Opp Value $(000s)</td>\n",
       "    </tr>\n",
       "    <tr>\n",
       "      <th>3</th>\n",
       "      <td>FIELD</td>\n",
       "      <td>Operations</td>\n",
       "      <td>REACTIVE</td>\n",
       "      <td>FIELD</td>\n",
       "      <td>2 SISTER POULTRY LTD</td>\n",
       "      <td>EMEAR-REGION</td>\n",
       "      <td>EMEAR-UKI</td>\n",
       "      <td>COMMERCIAL_EAW</td>\n",
       "      <td>COM_EAW_SEL_NORTH</td>\n",
       "      <td>ANY</td>\n",
       "      <td>...</td>\n",
       "      <td>AMERICAS</td>\n",
       "      <td>LATIN AMERICA</td>\n",
       "      <td>M_C_R</td>\n",
       "      <td>ARGENTINA_P_U</td>\n",
       "      <td>ANY</td>\n",
       "      <td>Actual</td>\n",
       "      <td>2022</td>\n",
       "      <td>Q3</td>\n",
       "      <td>0.6</td>\n",
       "      <td>Uncovered Opp Value $(000s)</td>\n",
       "    </tr>\n",
       "    <tr>\n",
       "      <th>4</th>\n",
       "      <td>FIELD</td>\n",
       "      <td>Operations</td>\n",
       "      <td>REACTIVE</td>\n",
       "      <td>FIELD</td>\n",
       "      <td>3M</td>\n",
       "      <td>AMERICAS</td>\n",
       "      <td>GLOBAL ENTERPRISE SEGMENT</td>\n",
       "      <td>GES CENTRAL</td>\n",
       "      <td>GLL_K_3M</td>\n",
       "      <td>ANY</td>\n",
       "      <td>...</td>\n",
       "      <td>AMERICAS</td>\n",
       "      <td>GLOBAL ENTERPRISE SEGMENT</td>\n",
       "      <td>GES SOUTH</td>\n",
       "      <td>SOUTHEAST OP</td>\n",
       "      <td>ANY</td>\n",
       "      <td>Actual</td>\n",
       "      <td>2022</td>\n",
       "      <td>Q2</td>\n",
       "      <td>342.6</td>\n",
       "      <td>Uncovered Opp Value $(000s)</td>\n",
       "    </tr>\n",
       "    <tr>\n",
       "      <th>...</th>\n",
       "      <td>...</td>\n",
       "      <td>...</td>\n",
       "      <td>...</td>\n",
       "      <td>...</td>\n",
       "      <td>...</td>\n",
       "      <td>...</td>\n",
       "      <td>...</td>\n",
       "      <td>...</td>\n",
       "      <td>...</td>\n",
       "      <td>...</td>\n",
       "      <td>...</td>\n",
       "      <td>...</td>\n",
       "      <td>...</td>\n",
       "      <td>...</td>\n",
       "      <td>...</td>\n",
       "      <td>...</td>\n",
       "      <td>...</td>\n",
       "      <td>...</td>\n",
       "      <td>...</td>\n",
       "      <td>...</td>\n",
       "      <td>...</td>\n",
       "    </tr>\n",
       "    <tr>\n",
       "      <th>6107</th>\n",
       "      <td>TARGETING</td>\n",
       "      <td>Operations</td>\n",
       "      <td>SUCCESS TRACKS FOR CAMPUS TARGETING - DYNAMIC</td>\n",
       "      <td>TARGETING</td>\n",
       "      <td>YANTAI WANHUA GROUP</td>\n",
       "      <td>APJC</td>\n",
       "      <td>GREATER_CHINA</td>\n",
       "      <td>CN_NORTH</td>\n",
       "      <td>CN_ENT_NORTH_MET</td>\n",
       "      <td>ST</td>\n",
       "      <td>...</td>\n",
       "      <td>NaN</td>\n",
       "      <td>NaN</td>\n",
       "      <td>NaN</td>\n",
       "      <td>NaN</td>\n",
       "      <td>NaN</td>\n",
       "      <td>NaN</td>\n",
       "      <td>NaN</td>\n",
       "      <td>NaN</td>\n",
       "      <td>NaN</td>\n",
       "      <td>NaN</td>\n",
       "    </tr>\n",
       "    <tr>\n",
       "      <th>6108</th>\n",
       "      <td>TARGETING</td>\n",
       "      <td>Operations</td>\n",
       "      <td>SUCCESS TRACKS FOR CAMPUS TARGETING - DYNAMIC</td>\n",
       "      <td>TARGETING</td>\n",
       "      <td>YPFB TRANSPORTE</td>\n",
       "      <td>AMERICAS</td>\n",
       "      <td>LATIN AMERICA</td>\n",
       "      <td>M_C_R</td>\n",
       "      <td>PERU_ANDEAN</td>\n",
       "      <td>ST</td>\n",
       "      <td>...</td>\n",
       "      <td>NaN</td>\n",
       "      <td>NaN</td>\n",
       "      <td>NaN</td>\n",
       "      <td>NaN</td>\n",
       "      <td>NaN</td>\n",
       "      <td>NaN</td>\n",
       "      <td>NaN</td>\n",
       "      <td>NaN</td>\n",
       "      <td>NaN</td>\n",
       "      <td>NaN</td>\n",
       "    </tr>\n",
       "    <tr>\n",
       "      <th>6109</th>\n",
       "      <td>TARGETING</td>\n",
       "      <td>Operations</td>\n",
       "      <td>SUCCESS TRACKS FOR CAMPUS TARGETING - DYNAMIC</td>\n",
       "      <td>TARGETING</td>\n",
       "      <td>ZENSAR TECHNOLOGIES LTD</td>\n",
       "      <td>APJC</td>\n",
       "      <td>INDIA_AREA</td>\n",
       "      <td>IND_ENTERPRISE_MAJOR</td>\n",
       "      <td>IND_ENT_STRATEGIC</td>\n",
       "      <td>ST</td>\n",
       "      <td>...</td>\n",
       "      <td>NaN</td>\n",
       "      <td>NaN</td>\n",
       "      <td>NaN</td>\n",
       "      <td>NaN</td>\n",
       "      <td>NaN</td>\n",
       "      <td>NaN</td>\n",
       "      <td>NaN</td>\n",
       "      <td>NaN</td>\n",
       "      <td>NaN</td>\n",
       "      <td>NaN</td>\n",
       "    </tr>\n",
       "    <tr>\n",
       "      <th>6110</th>\n",
       "      <td>TARGETING</td>\n",
       "      <td>Operations</td>\n",
       "      <td>SUCCESS TRACKS FOR CAMPUS TARGETING - DYNAMIC</td>\n",
       "      <td>TARGETING</td>\n",
       "      <td>ZURICH INSURANCE GROUP</td>\n",
       "      <td>EMEAR-REGION</td>\n",
       "      <td>EMEAR-CENTRAL</td>\n",
       "      <td>COUNTRY_SWITZERLAND</td>\n",
       "      <td>SWITZERLAND_CGEM</td>\n",
       "      <td>ST</td>\n",
       "      <td>...</td>\n",
       "      <td>NaN</td>\n",
       "      <td>NaN</td>\n",
       "      <td>NaN</td>\n",
       "      <td>NaN</td>\n",
       "      <td>NaN</td>\n",
       "      <td>NaN</td>\n",
       "      <td>NaN</td>\n",
       "      <td>NaN</td>\n",
       "      <td>NaN</td>\n",
       "      <td>NaN</td>\n",
       "    </tr>\n",
       "    <tr>\n",
       "      <th>6111</th>\n",
       "      <td>TARGETING</td>\n",
       "      <td>Operations</td>\n",
       "      <td>SUCCESS TRACKS FOR CAMPUS TARGETING - DYNAMIC</td>\n",
       "      <td>TARGETING</td>\n",
       "      <td>ZYDUS CADILA LIMITED</td>\n",
       "      <td>APJC</td>\n",
       "      <td>INDIA_AREA</td>\n",
       "      <td>IND_COMMERCIAL_OTH</td>\n",
       "      <td>IND_WEST</td>\n",
       "      <td>ST</td>\n",
       "      <td>...</td>\n",
       "      <td>NaN</td>\n",
       "      <td>NaN</td>\n",
       "      <td>NaN</td>\n",
       "      <td>NaN</td>\n",
       "      <td>NaN</td>\n",
       "      <td>NaN</td>\n",
       "      <td>NaN</td>\n",
       "      <td>NaN</td>\n",
       "      <td>NaN</td>\n",
       "      <td>NaN</td>\n",
       "    </tr>\n",
       "  </tbody>\n",
       "</table>\n",
       "<p>6112 rows × 60 columns</p>\n",
       "</div>"
      ],
      "text/plain": [
       "         Method Measure Group                                       Campaign  \\\n",
       "0         FIELD    Operations                                       REACTIVE   \n",
       "1         FIELD    Operations                                       REACTIVE   \n",
       "2         FIELD    Operations                                       REACTIVE   \n",
       "3         FIELD    Operations                                       REACTIVE   \n",
       "4         FIELD    Operations                                       REACTIVE   \n",
       "...         ...           ...                                            ...   \n",
       "6107  TARGETING    Operations  SUCCESS TRACKS FOR CAMPUS TARGETING - DYNAMIC   \n",
       "6108  TARGETING    Operations  SUCCESS TRACKS FOR CAMPUS TARGETING - DYNAMIC   \n",
       "6109  TARGETING    Operations  SUCCESS TRACKS FOR CAMPUS TARGETING - DYNAMIC   \n",
       "6110  TARGETING    Operations  SUCCESS TRACKS FOR CAMPUS TARGETING - DYNAMIC   \n",
       "6111  TARGETING    Operations  SUCCESS TRACKS FOR CAMPUS TARGETING - DYNAMIC   \n",
       "\n",
       "     Campaign Type                            Customer Name Sales Level 1  \\\n",
       "0            FIELD  (ACSA) AIRPORTS COMPANY OF SOUTH AFRICA  EMEAR-REGION   \n",
       "1            FIELD      (PIC) PUBLIC INVESTMENT CORPORATION  EMEAR-REGION   \n",
       "2            FIELD              (SAA) SOUTH AFRICAN AIRWAYS  EMEAR-REGION   \n",
       "3            FIELD                     2 SISTER POULTRY LTD  EMEAR-REGION   \n",
       "4            FIELD                                       3M      AMERICAS   \n",
       "...            ...                                      ...           ...   \n",
       "6107     TARGETING                      YANTAI WANHUA GROUP          APJC   \n",
       "6108     TARGETING                          YPFB TRANSPORTE      AMERICAS   \n",
       "6109     TARGETING                  ZENSAR TECHNOLOGIES LTD          APJC   \n",
       "6110     TARGETING                   ZURICH INSURANCE GROUP  EMEAR-REGION   \n",
       "6111     TARGETING                     ZYDUS CADILA LIMITED          APJC   \n",
       "\n",
       "                  Sales Level 2         Sales Level 3      Sales Level 4  \\\n",
       "0                     EMEAR_MEA           CLUSTER_SSA        COUNTRY_ZAF   \n",
       "1                     EMEAR_MEA           CLUSTER_SSA        COUNTRY_ZAF   \n",
       "2                     EMEAR_MEA           CLUSTER_SSA        COUNTRY_ZAF   \n",
       "3                     EMEAR-UKI        COMMERCIAL_EAW  COM_EAW_SEL_NORTH   \n",
       "4     GLOBAL ENTERPRISE SEGMENT           GES CENTRAL           GLL_K_3M   \n",
       "...                         ...                   ...                ...   \n",
       "6107              GREATER_CHINA              CN_NORTH   CN_ENT_NORTH_MET   \n",
       "6108              LATIN AMERICA                 M_C_R        PERU_ANDEAN   \n",
       "6109                 INDIA_AREA  IND_ENTERPRISE_MAJOR  IND_ENT_STRATEGIC   \n",
       "6110              EMEAR-CENTRAL   COUNTRY_SWITZERLAND   SWITZERLAND_CGEM   \n",
       "6111                 INDIA_AREA    IND_COMMERCIAL_OTH           IND_WEST   \n",
       "\n",
       "     Offer Focus  ... Sales Level 1              Sales Level 2  \\\n",
       "0            ANY  ...      AMERICAS  GLOBAL ENTERPRISE SEGMENT   \n",
       "1            ANY  ...      AMERICAS                AMERICAS_SP   \n",
       "2            ANY  ...      AMERICAS  GLOBAL ENTERPRISE SEGMENT   \n",
       "3            ANY  ...      AMERICAS              LATIN AMERICA   \n",
       "4            ANY  ...      AMERICAS  GLOBAL ENTERPRISE SEGMENT   \n",
       "...          ...  ...           ...                        ...   \n",
       "6107          ST  ...           NaN                        NaN   \n",
       "6108          ST  ...           NaN                        NaN   \n",
       "6109          ST  ...           NaN                        NaN   \n",
       "6110          ST  ...           NaN                        NaN   \n",
       "6111          ST  ...           NaN                        NaN   \n",
       "\n",
       "        Sales Level 3             Sales Level 4 Offer Focus Value Type  \\\n",
       "0           GES SOUTH             TAG OPERATION         ANY     Actual   \n",
       "1     ASP US SEGMENTS  ASP MID MARKET TERRITORY         ANY     Actual   \n",
       "2           GES SOUTH        GLL_M_BAKER HUGHES         ANY     Actual   \n",
       "3               M_C_R             ARGENTINA_P_U         ANY     Actual   \n",
       "4           GES SOUTH              SOUTHEAST OP         ANY     Actual   \n",
       "...               ...                       ...         ...        ...   \n",
       "6107              NaN                       NaN         NaN        NaN   \n",
       "6108              NaN                       NaN         NaN        NaN   \n",
       "6109              NaN                       NaN         NaN        NaN   \n",
       "6110              NaN                       NaN         NaN        NaN   \n",
       "6111              NaN                       NaN         NaN        NaN   \n",
       "\n",
       "     Report FY Report FQ  Value                      Measure  \n",
       "0         2022        Q3   24.0  Uncovered Opp Value $(000s)  \n",
       "1         2022        Q3    0.6  Uncovered Opp Value $(000s)  \n",
       "2         2022        Q3   75.0  Uncovered Opp Value $(000s)  \n",
       "3         2022        Q3    0.6  Uncovered Opp Value $(000s)  \n",
       "4         2022        Q2  342.6  Uncovered Opp Value $(000s)  \n",
       "...        ...       ...    ...                          ...  \n",
       "6107       NaN       NaN    NaN                          NaN  \n",
       "6108       NaN       NaN    NaN                          NaN  \n",
       "6109       NaN       NaN    NaN                          NaN  \n",
       "6110       NaN       NaN    NaN                          NaN  \n",
       "6111       NaN       NaN    NaN                          NaN  \n",
       "\n",
       "[6112 rows x 60 columns]"
      ]
     },
     "execution_count": 305,
     "metadata": {},
     "output_type": "execute_result"
    }
   ],
   "source": [
    "group_of_measures"
   ]
  },
  {
   "cell_type": "code",
   "execution_count": 306,
   "metadata": {},
   "outputs": [
    {
     "name": "stderr",
     "output_type": "stream",
     "text": [
      "<ipython-input-306-d1763e190e15>:2: FutureWarning: Indexing with multiple keys (implicitly converted to a tuple of keys) will be deprecated, use a list instead.\n",
      "  agg_rpt = df.loc[(df['Report FY']=='2022') ].groupby(['Method', 'Measure Group','Campaign', 'Campaign Type','Customer Name', 'Sales Level 1', 'Sales Level 2', 'Sales Level 3', 'Sales Level 4','Offer Focus', 'Value Type','Report FY','Report FQ'])['OPPTY_STG1_CREATED','READOUTS_DONE', 'OFFER_CREATED','UNCOVERED_OPPTY_VALUE'].sum().stack()\n"
     ]
    }
   ],
   "source": [
    "#df.loc[(df['Report FY']=='2022') ].groupby(['Method', 'Measure Group','Campaign', 'Campaign Type','Customer Name', 'Sales Level 1', 'Sales Level 2', 'Sales Level 3', 'Sales Level 4','Offer Focus', 'Value Type','Report FY','Report FQ'])['OPPTY_STG1_CREATED','READOUTS_DONE', 'OFFER_CREATED','UNCOVERED_OPPTY_VALUE'].sum().stack()\n",
    "agg_rpt = df.loc[(df['Report FY']=='2022') ].groupby(['Method', 'Measure Group','Campaign', 'Campaign Type','Customer Name', 'Sales Level 1', 'Sales Level 2', 'Sales Level 3', 'Sales Level 4','Offer Focus', 'Value Type','Report FY','Report FQ'])['OPPTY_STG1_CREATED','READOUTS_DONE', 'OFFER_CREATED','UNCOVERED_OPPTY_VALUE'].sum().stack()"
   ]
  },
  {
   "cell_type": "code",
   "execution_count": 307,
   "metadata": {},
   "outputs": [],
   "source": [
    "agg_report = pd.DataFrame(agg_rpt.reset_index()).rename(columns={'level_13':'Measure',0:'Value'})"
   ]
  },
  {
   "cell_type": "code",
   "execution_count": 308,
   "metadata": {},
   "outputs": [
    {
     "data": {
      "text/html": [
       "<div>\n",
       "<style scoped>\n",
       "    .dataframe tbody tr th:only-of-type {\n",
       "        vertical-align: middle;\n",
       "    }\n",
       "\n",
       "    .dataframe tbody tr th {\n",
       "        vertical-align: top;\n",
       "    }\n",
       "\n",
       "    .dataframe thead th {\n",
       "        text-align: right;\n",
       "    }\n",
       "</style>\n",
       "<table border=\"1\" class=\"dataframe\">\n",
       "  <thead>\n",
       "    <tr style=\"text-align: right;\">\n",
       "      <th></th>\n",
       "      <th>Method</th>\n",
       "      <th>Measure Group</th>\n",
       "      <th>Campaign</th>\n",
       "      <th>Campaign Type</th>\n",
       "      <th>Customer Name</th>\n",
       "      <th>Sales Level 1</th>\n",
       "      <th>Sales Level 2</th>\n",
       "      <th>Sales Level 3</th>\n",
       "      <th>Sales Level 4</th>\n",
       "      <th>Offer Focus</th>\n",
       "      <th>Value Type</th>\n",
       "      <th>Report FY</th>\n",
       "      <th>Report FQ</th>\n",
       "      <th>Measure</th>\n",
       "      <th>Value</th>\n",
       "    </tr>\n",
       "  </thead>\n",
       "  <tbody>\n",
       "    <tr>\n",
       "      <th>3</th>\n",
       "      <td>FIELD</td>\n",
       "      <td>Operations</td>\n",
       "      <td>REACTIVE</td>\n",
       "      <td>FIELD</td>\n",
       "      <td>(ACSA) AIRPORTS COMPANY OF SOUTH AFRICA</td>\n",
       "      <td>EMEAR-REGION</td>\n",
       "      <td>EMEAR_MEA</td>\n",
       "      <td>CLUSTER_SSA</td>\n",
       "      <td>COUNTRY_ZAF</td>\n",
       "      <td>ANY</td>\n",
       "      <td>Actual</td>\n",
       "      <td>2022</td>\n",
       "      <td>Q2</td>\n",
       "      <td>UNCOVERED_OPPTY_VALUE</td>\n",
       "      <td>0.0</td>\n",
       "    </tr>\n",
       "    <tr>\n",
       "      <th>7</th>\n",
       "      <td>FIELD</td>\n",
       "      <td>Operations</td>\n",
       "      <td>REACTIVE</td>\n",
       "      <td>FIELD</td>\n",
       "      <td>(PIC) PUBLIC INVESTMENT CORPORATION</td>\n",
       "      <td>EMEAR-REGION</td>\n",
       "      <td>EMEAR_MEA</td>\n",
       "      <td>CLUSTER_SSA</td>\n",
       "      <td>COUNTRY_ZAF</td>\n",
       "      <td>ANY</td>\n",
       "      <td>Actual</td>\n",
       "      <td>2022</td>\n",
       "      <td>Q2</td>\n",
       "      <td>UNCOVERED_OPPTY_VALUE</td>\n",
       "      <td>0.0</td>\n",
       "    </tr>\n",
       "    <tr>\n",
       "      <th>11</th>\n",
       "      <td>FIELD</td>\n",
       "      <td>Operations</td>\n",
       "      <td>REACTIVE</td>\n",
       "      <td>FIELD</td>\n",
       "      <td>(SAA) SOUTH AFRICAN AIRWAYS</td>\n",
       "      <td>EMEAR-REGION</td>\n",
       "      <td>EMEAR_MEA</td>\n",
       "      <td>CLUSTER_SSA</td>\n",
       "      <td>COUNTRY_ZAF</td>\n",
       "      <td>ANY</td>\n",
       "      <td>Actual</td>\n",
       "      <td>2022</td>\n",
       "      <td>Q2</td>\n",
       "      <td>UNCOVERED_OPPTY_VALUE</td>\n",
       "      <td>0.0</td>\n",
       "    </tr>\n",
       "    <tr>\n",
       "      <th>15</th>\n",
       "      <td>FIELD</td>\n",
       "      <td>Operations</td>\n",
       "      <td>REACTIVE</td>\n",
       "      <td>FIELD</td>\n",
       "      <td>(SAPS) – SOUTH AFRICAN POLICE SERVICES</td>\n",
       "      <td>EMEAR-REGION</td>\n",
       "      <td>EMEAR_MEA</td>\n",
       "      <td>CLUSTER_SSA</td>\n",
       "      <td>COUNTRY_ZAF</td>\n",
       "      <td>ANY</td>\n",
       "      <td>Actual</td>\n",
       "      <td>2022</td>\n",
       "      <td>Q2</td>\n",
       "      <td>UNCOVERED_OPPTY_VALUE</td>\n",
       "      <td>0.0</td>\n",
       "    </tr>\n",
       "    <tr>\n",
       "      <th>19</th>\n",
       "      <td>FIELD</td>\n",
       "      <td>Operations</td>\n",
       "      <td>REACTIVE</td>\n",
       "      <td>FIELD</td>\n",
       "      <td>(SARS) SOUTH AFRICAN RESERVE SERVICES</td>\n",
       "      <td>EMEAR-REGION</td>\n",
       "      <td>EMEAR_MEA</td>\n",
       "      <td>CLUSTER_SSA</td>\n",
       "      <td>COUNTRY_ZAF</td>\n",
       "      <td>ANY</td>\n",
       "      <td>Actual</td>\n",
       "      <td>2022</td>\n",
       "      <td>Q2</td>\n",
       "      <td>UNCOVERED_OPPTY_VALUE</td>\n",
       "      <td>0.0</td>\n",
       "    </tr>\n",
       "    <tr>\n",
       "      <th>...</th>\n",
       "      <td>...</td>\n",
       "      <td>...</td>\n",
       "      <td>...</td>\n",
       "      <td>...</td>\n",
       "      <td>...</td>\n",
       "      <td>...</td>\n",
       "      <td>...</td>\n",
       "      <td>...</td>\n",
       "      <td>...</td>\n",
       "      <td>...</td>\n",
       "      <td>...</td>\n",
       "      <td>...</td>\n",
       "      <td>...</td>\n",
       "      <td>...</td>\n",
       "      <td>...</td>\n",
       "    </tr>\n",
       "    <tr>\n",
       "      <th>60747</th>\n",
       "      <td>TARGETING</td>\n",
       "      <td>Operations</td>\n",
       "      <td>SUCCESS TRACKS FOR CAMPUS TARGETING - DYNAMIC</td>\n",
       "      <td>TARGETING</td>\n",
       "      <td>ZIMPLATS HOLDINGS LIMITED (ZIMPLATS)</td>\n",
       "      <td>EMEAR-REGION</td>\n",
       "      <td>EMEAR_MEA</td>\n",
       "      <td>SMALL_MEA</td>\n",
       "      <td>CLUSTER_VELOCITY</td>\n",
       "      <td>ST</td>\n",
       "      <td>Actual</td>\n",
       "      <td>2022</td>\n",
       "      <td>Q1</td>\n",
       "      <td>UNCOVERED_OPPTY_VALUE</td>\n",
       "      <td>0.0</td>\n",
       "    </tr>\n",
       "    <tr>\n",
       "      <th>60751</th>\n",
       "      <td>TARGETING</td>\n",
       "      <td>Operations</td>\n",
       "      <td>SUCCESS TRACKS FOR CAMPUS TARGETING - DYNAMIC</td>\n",
       "      <td>TARGETING</td>\n",
       "      <td>ZLM VERZEKERINGEN</td>\n",
       "      <td>EMEAR-REGION</td>\n",
       "      <td>EMEAR-NORTH</td>\n",
       "      <td>COUNTRY_NETHERLANDS</td>\n",
       "      <td>COMMERCIAL_NLD</td>\n",
       "      <td>ST</td>\n",
       "      <td>Actual</td>\n",
       "      <td>2022</td>\n",
       "      <td>Q1</td>\n",
       "      <td>UNCOVERED_OPPTY_VALUE</td>\n",
       "      <td>0.0</td>\n",
       "    </tr>\n",
       "    <tr>\n",
       "      <th>60755</th>\n",
       "      <td>TARGETING</td>\n",
       "      <td>Operations</td>\n",
       "      <td>SUCCESS TRACKS FOR CAMPUS TARGETING - DYNAMIC</td>\n",
       "      <td>TARGETING</td>\n",
       "      <td>ZURICH INSURANCE GROUP</td>\n",
       "      <td>EMEAR-REGION</td>\n",
       "      <td>EMEAR-CENTRAL</td>\n",
       "      <td>COUNTRY_SWITZERLAND</td>\n",
       "      <td>SWITZERLAND_CGEM</td>\n",
       "      <td>ST</td>\n",
       "      <td>Actual</td>\n",
       "      <td>2022</td>\n",
       "      <td>Q2</td>\n",
       "      <td>UNCOVERED_OPPTY_VALUE</td>\n",
       "      <td>0.0</td>\n",
       "    </tr>\n",
       "    <tr>\n",
       "      <th>60759</th>\n",
       "      <td>TARGETING</td>\n",
       "      <td>Operations</td>\n",
       "      <td>SUCCESS TRACKS FOR CAMPUS TARGETING - DYNAMIC</td>\n",
       "      <td>TARGETING</td>\n",
       "      <td>ZWEITES DEUTSCHES FERNSEHEN GEMEINNUTZIGE ANST...</td>\n",
       "      <td>EMEAR-REGION</td>\n",
       "      <td>EMEAR_SP</td>\n",
       "      <td>SP_NORTH</td>\n",
       "      <td>MEDIA_GROUP</td>\n",
       "      <td>ST</td>\n",
       "      <td>Actual</td>\n",
       "      <td>2022</td>\n",
       "      <td>Q3</td>\n",
       "      <td>UNCOVERED_OPPTY_VALUE</td>\n",
       "      <td>0.0</td>\n",
       "    </tr>\n",
       "    <tr>\n",
       "      <th>60763</th>\n",
       "      <td>TARGETING</td>\n",
       "      <td>Operations</td>\n",
       "      <td>SUCCESS TRACKS FOR CAMPUS TARGETING - DYNAMIC</td>\n",
       "      <td>TARGETING</td>\n",
       "      <td>ZYDUS CADILA LIMITED</td>\n",
       "      <td>APJC</td>\n",
       "      <td>INDIA_AREA</td>\n",
       "      <td>IND_COMMERCIAL_OTH</td>\n",
       "      <td>IND_WEST</td>\n",
       "      <td>ST</td>\n",
       "      <td>Actual</td>\n",
       "      <td>2022</td>\n",
       "      <td>Q2</td>\n",
       "      <td>UNCOVERED_OPPTY_VALUE</td>\n",
       "      <td>0.0</td>\n",
       "    </tr>\n",
       "  </tbody>\n",
       "</table>\n",
       "<p>15191 rows × 15 columns</p>\n",
       "</div>"
      ],
      "text/plain": [
       "          Method Measure Group                                       Campaign  \\\n",
       "3          FIELD    Operations                                       REACTIVE   \n",
       "7          FIELD    Operations                                       REACTIVE   \n",
       "11         FIELD    Operations                                       REACTIVE   \n",
       "15         FIELD    Operations                                       REACTIVE   \n",
       "19         FIELD    Operations                                       REACTIVE   \n",
       "...          ...           ...                                            ...   \n",
       "60747  TARGETING    Operations  SUCCESS TRACKS FOR CAMPUS TARGETING - DYNAMIC   \n",
       "60751  TARGETING    Operations  SUCCESS TRACKS FOR CAMPUS TARGETING - DYNAMIC   \n",
       "60755  TARGETING    Operations  SUCCESS TRACKS FOR CAMPUS TARGETING - DYNAMIC   \n",
       "60759  TARGETING    Operations  SUCCESS TRACKS FOR CAMPUS TARGETING - DYNAMIC   \n",
       "60763  TARGETING    Operations  SUCCESS TRACKS FOR CAMPUS TARGETING - DYNAMIC   \n",
       "\n",
       "      Campaign Type                                      Customer Name  \\\n",
       "3             FIELD            (ACSA) AIRPORTS COMPANY OF SOUTH AFRICA   \n",
       "7             FIELD                (PIC) PUBLIC INVESTMENT CORPORATION   \n",
       "11            FIELD                        (SAA) SOUTH AFRICAN AIRWAYS   \n",
       "15            FIELD             (SAPS) – SOUTH AFRICAN POLICE SERVICES   \n",
       "19            FIELD              (SARS) SOUTH AFRICAN RESERVE SERVICES   \n",
       "...             ...                                                ...   \n",
       "60747     TARGETING               ZIMPLATS HOLDINGS LIMITED (ZIMPLATS)   \n",
       "60751     TARGETING                                  ZLM VERZEKERINGEN   \n",
       "60755     TARGETING                             ZURICH INSURANCE GROUP   \n",
       "60759     TARGETING  ZWEITES DEUTSCHES FERNSEHEN GEMEINNUTZIGE ANST...   \n",
       "60763     TARGETING                               ZYDUS CADILA LIMITED   \n",
       "\n",
       "      Sales Level 1  Sales Level 2        Sales Level 3     Sales Level 4  \\\n",
       "3      EMEAR-REGION      EMEAR_MEA          CLUSTER_SSA       COUNTRY_ZAF   \n",
       "7      EMEAR-REGION      EMEAR_MEA          CLUSTER_SSA       COUNTRY_ZAF   \n",
       "11     EMEAR-REGION      EMEAR_MEA          CLUSTER_SSA       COUNTRY_ZAF   \n",
       "15     EMEAR-REGION      EMEAR_MEA          CLUSTER_SSA       COUNTRY_ZAF   \n",
       "19     EMEAR-REGION      EMEAR_MEA          CLUSTER_SSA       COUNTRY_ZAF   \n",
       "...             ...            ...                  ...               ...   \n",
       "60747  EMEAR-REGION      EMEAR_MEA            SMALL_MEA  CLUSTER_VELOCITY   \n",
       "60751  EMEAR-REGION    EMEAR-NORTH  COUNTRY_NETHERLANDS    COMMERCIAL_NLD   \n",
       "60755  EMEAR-REGION  EMEAR-CENTRAL  COUNTRY_SWITZERLAND  SWITZERLAND_CGEM   \n",
       "60759  EMEAR-REGION       EMEAR_SP             SP_NORTH       MEDIA_GROUP   \n",
       "60763          APJC     INDIA_AREA   IND_COMMERCIAL_OTH          IND_WEST   \n",
       "\n",
       "      Offer Focus Value Type Report FY Report FQ                Measure  Value  \n",
       "3             ANY     Actual      2022        Q2  UNCOVERED_OPPTY_VALUE    0.0  \n",
       "7             ANY     Actual      2022        Q2  UNCOVERED_OPPTY_VALUE    0.0  \n",
       "11            ANY     Actual      2022        Q2  UNCOVERED_OPPTY_VALUE    0.0  \n",
       "15            ANY     Actual      2022        Q2  UNCOVERED_OPPTY_VALUE    0.0  \n",
       "19            ANY     Actual      2022        Q2  UNCOVERED_OPPTY_VALUE    0.0  \n",
       "...           ...        ...       ...       ...                    ...    ...  \n",
       "60747          ST     Actual      2022        Q1  UNCOVERED_OPPTY_VALUE    0.0  \n",
       "60751          ST     Actual      2022        Q1  UNCOVERED_OPPTY_VALUE    0.0  \n",
       "60755          ST     Actual      2022        Q2  UNCOVERED_OPPTY_VALUE    0.0  \n",
       "60759          ST     Actual      2022        Q3  UNCOVERED_OPPTY_VALUE    0.0  \n",
       "60763          ST     Actual      2022        Q2  UNCOVERED_OPPTY_VALUE    0.0  \n",
       "\n",
       "[15191 rows x 15 columns]"
      ]
     },
     "execution_count": 308,
     "metadata": {},
     "output_type": "execute_result"
    }
   ],
   "source": [
    "agg_report.loc[agg_report['Measure']=='UNCOVERED_OPPTY_VALUE']    #.pivot_table(index=['Measure Group','Measure SubGroup', 'Sales Level 1','Measure'], columns=['Report FY','Report FQ','Value Type'], values='Value')"
   ]
  },
  {
   "cell_type": "code",
   "execution_count": 309,
   "metadata": {},
   "outputs": [
    {
     "name": "stdout",
     "output_type": "stream",
     "text": [
      "<class 'pandas.core.frame.DataFrame'>\n",
      "RangeIndex: 60764 entries, 0 to 60763\n",
      "Data columns (total 15 columns):\n",
      " #   Column         Non-Null Count  Dtype  \n",
      "---  ------         --------------  -----  \n",
      " 0   Method         60764 non-null  object \n",
      " 1   Measure Group  60764 non-null  object \n",
      " 2   Campaign       60764 non-null  object \n",
      " 3   Campaign Type  60764 non-null  object \n",
      " 4   Customer Name  60764 non-null  object \n",
      " 5   Sales Level 1  60764 non-null  object \n",
      " 6   Sales Level 2  60764 non-null  object \n",
      " 7   Sales Level 3  60764 non-null  object \n",
      " 8   Sales Level 4  60764 non-null  object \n",
      " 9   Offer Focus    60764 non-null  object \n",
      " 10  Value Type     60764 non-null  object \n",
      " 11  Report FY      60764 non-null  object \n",
      " 12  Report FQ      60764 non-null  object \n",
      " 13  Measure        60764 non-null  object \n",
      " 14  Value          60764 non-null  float64\n",
      "dtypes: float64(1), object(14)\n",
      "memory usage: 7.0+ MB\n"
     ]
    }
   ],
   "source": [
    "agg_report.info()"
   ]
  },
  {
   "cell_type": "code",
   "execution_count": 310,
   "metadata": {},
   "outputs": [],
   "source": [
    "target_dtypes = {'Report FY': str, 'Value':np.float64}"
   ]
  },
  {
   "cell_type": "code",
   "execution_count": 311,
   "metadata": {},
   "outputs": [],
   "source": [
    "targets = pd.read_excel(r'C:\\Users\\phsheari\\Documents\\Compass SNOWFLAKE\\data_download\\Mock_Dashboard Targets_SLTest.xlsx', sheet_name = 'Targets', dtype = target_dtypes, na_values = 0.0)"
   ]
  },
  {
   "cell_type": "code",
   "execution_count": 312,
   "metadata": {},
   "outputs": [],
   "source": [
    "# targets = targets.loc[targets['Measure']!='DATA_PACKAGE_CREATED']"
   ]
  },
  {
   "cell_type": "code",
   "execution_count": 313,
   "metadata": {},
   "outputs": [],
   "source": [
    "targets.loc[targets['Offer Focus']=='SNTC, PSS', 'Offer Focus'] = 'SNTC'"
   ]
  },
  {
   "cell_type": "code",
   "execution_count": 314,
   "metadata": {},
   "outputs": [
    {
     "data": {
      "text/html": [
       "<div>\n",
       "<style scoped>\n",
       "    .dataframe tbody tr th:only-of-type {\n",
       "        vertical-align: middle;\n",
       "    }\n",
       "\n",
       "    .dataframe tbody tr th {\n",
       "        vertical-align: top;\n",
       "    }\n",
       "\n",
       "    .dataframe thead th {\n",
       "        text-align: right;\n",
       "    }\n",
       "</style>\n",
       "<table border=\"1\" class=\"dataframe\">\n",
       "  <thead>\n",
       "    <tr style=\"text-align: right;\">\n",
       "      <th></th>\n",
       "      <th>Method</th>\n",
       "      <th>Measure Group</th>\n",
       "      <th>Campaign</th>\n",
       "      <th>Campaign Type</th>\n",
       "      <th>Customer Name</th>\n",
       "      <th>Sales Level 1</th>\n",
       "      <th>Sales Level 2</th>\n",
       "      <th>Sales Level 3</th>\n",
       "      <th>Sales Level 4</th>\n",
       "      <th>Offer Focus</th>\n",
       "      <th>Value Type</th>\n",
       "      <th>Report FY</th>\n",
       "      <th>Report FQ</th>\n",
       "      <th>Measure</th>\n",
       "      <th>Value</th>\n",
       "    </tr>\n",
       "  </thead>\n",
       "  <tbody>\n",
       "    <tr>\n",
       "      <th>384</th>\n",
       "      <td>M1 (Coverage Program)</td>\n",
       "      <td>Operations</td>\n",
       "      <td>COVERAGE PROGRAM - SNTC PROACTIVE ATTACH</td>\n",
       "      <td>PROACTIVE COVERAGE</td>\n",
       "      <td>NaN</td>\n",
       "      <td>AMERICAS</td>\n",
       "      <td>NaN</td>\n",
       "      <td>NaN</td>\n",
       "      <td>NaN</td>\n",
       "      <td>SNTC</td>\n",
       "      <td>Actual</td>\n",
       "      <td>2022</td>\n",
       "      <td>Q1</td>\n",
       "      <td>OPPTY_STG1_CREATED</td>\n",
       "      <td>6.000</td>\n",
       "    </tr>\n",
       "    <tr>\n",
       "      <th>385</th>\n",
       "      <td>M1 (Coverage Program)</td>\n",
       "      <td>Operations</td>\n",
       "      <td>COVERAGE PROGRAM - SNTC PROACTIVE ATTACH</td>\n",
       "      <td>PROACTIVE COVERAGE</td>\n",
       "      <td>NaN</td>\n",
       "      <td>AMERICAS</td>\n",
       "      <td>NaN</td>\n",
       "      <td>NaN</td>\n",
       "      <td>NaN</td>\n",
       "      <td>SNTC</td>\n",
       "      <td>Actual</td>\n",
       "      <td>2022</td>\n",
       "      <td>Q1</td>\n",
       "      <td>READOUTS_DONE</td>\n",
       "      <td>30.000</td>\n",
       "    </tr>\n",
       "    <tr>\n",
       "      <th>386</th>\n",
       "      <td>M1 (Coverage Program)</td>\n",
       "      <td>Operations</td>\n",
       "      <td>COVERAGE PROGRAM - SNTC PROACTIVE ATTACH</td>\n",
       "      <td>PROACTIVE COVERAGE</td>\n",
       "      <td>NaN</td>\n",
       "      <td>AMERICAS</td>\n",
       "      <td>NaN</td>\n",
       "      <td>NaN</td>\n",
       "      <td>NaN</td>\n",
       "      <td>SNTC</td>\n",
       "      <td>Actual</td>\n",
       "      <td>2022</td>\n",
       "      <td>Q1</td>\n",
       "      <td>OFFER_CREATED</td>\n",
       "      <td>23.000</td>\n",
       "    </tr>\n",
       "    <tr>\n",
       "      <th>387</th>\n",
       "      <td>M1 (Coverage Program)</td>\n",
       "      <td>Operations</td>\n",
       "      <td>COVERAGE PROGRAM - SNTC PROACTIVE ATTACH</td>\n",
       "      <td>PROACTIVE COVERAGE</td>\n",
       "      <td>NaN</td>\n",
       "      <td>AMERICAS</td>\n",
       "      <td>NaN</td>\n",
       "      <td>NaN</td>\n",
       "      <td>NaN</td>\n",
       "      <td>SNTC</td>\n",
       "      <td>Actual</td>\n",
       "      <td>2022</td>\n",
       "      <td>Q1</td>\n",
       "      <td>UNCOVERED_OPPTY_VALUE</td>\n",
       "      <td>4776.000</td>\n",
       "    </tr>\n",
       "    <tr>\n",
       "      <th>388</th>\n",
       "      <td>M1 (Coverage Program)</td>\n",
       "      <td>Bookings-New</td>\n",
       "      <td>COVERAGE PROGRAM - SNTC PROACTIVE ATTACH</td>\n",
       "      <td>PROACTIVE COVERAGE</td>\n",
       "      <td>NaN</td>\n",
       "      <td>AMERICAS</td>\n",
       "      <td>NaN</td>\n",
       "      <td>NaN</td>\n",
       "      <td>NaN</td>\n",
       "      <td>SNTC</td>\n",
       "      <td>Actual</td>\n",
       "      <td>2022</td>\n",
       "      <td>Q1</td>\n",
       "      <td>Incr ARR $(000s)</td>\n",
       "      <td>8000.000</td>\n",
       "    </tr>\n",
       "    <tr>\n",
       "      <th>...</th>\n",
       "      <td>...</td>\n",
       "      <td>...</td>\n",
       "      <td>...</td>\n",
       "      <td>...</td>\n",
       "      <td>...</td>\n",
       "      <td>...</td>\n",
       "      <td>...</td>\n",
       "      <td>...</td>\n",
       "      <td>...</td>\n",
       "      <td>...</td>\n",
       "      <td>...</td>\n",
       "      <td>...</td>\n",
       "      <td>...</td>\n",
       "      <td>...</td>\n",
       "      <td>...</td>\n",
       "    </tr>\n",
       "    <tr>\n",
       "      <th>793</th>\n",
       "      <td>M1 (Coverage Program)</td>\n",
       "      <td>Bookings-New</td>\n",
       "      <td>SUCCESS TRACKS FOR CAMPUS TARGETING - DYNAMIC</td>\n",
       "      <td>TARGETING</td>\n",
       "      <td>NaN</td>\n",
       "      <td>EMEAR-REGION</td>\n",
       "      <td>NaN</td>\n",
       "      <td>NaN</td>\n",
       "      <td>NaN</td>\n",
       "      <td>SNTC</td>\n",
       "      <td>Actual</td>\n",
       "      <td>2022</td>\n",
       "      <td>Q2</td>\n",
       "      <td>Incr ARR $(000s)</td>\n",
       "      <td>3.242</td>\n",
       "    </tr>\n",
       "    <tr>\n",
       "      <th>794</th>\n",
       "      <td>M1 (Coverage Program)</td>\n",
       "      <td>Bookings-New</td>\n",
       "      <td>COVERAGE PROGRAM - FIELD REQUEST</td>\n",
       "      <td>FIELD</td>\n",
       "      <td>NaN</td>\n",
       "      <td>AMERICAS</td>\n",
       "      <td>NaN</td>\n",
       "      <td>NaN</td>\n",
       "      <td>NaN</td>\n",
       "      <td>SNTC</td>\n",
       "      <td>Actual</td>\n",
       "      <td>2022</td>\n",
       "      <td>Q3</td>\n",
       "      <td>Incr ARR $(000s)</td>\n",
       "      <td>1094.407</td>\n",
       "    </tr>\n",
       "    <tr>\n",
       "      <th>795</th>\n",
       "      <td>M1 (Coverage Program)</td>\n",
       "      <td>Bookings-New</td>\n",
       "      <td>SUCCESS TRACKS DYNAMIC CAMPAIGN</td>\n",
       "      <td>TARGETING</td>\n",
       "      <td>NaN</td>\n",
       "      <td>AMERICAS</td>\n",
       "      <td>NaN</td>\n",
       "      <td>NaN</td>\n",
       "      <td>NaN</td>\n",
       "      <td>SNTC</td>\n",
       "      <td>Actual</td>\n",
       "      <td>2022</td>\n",
       "      <td>Q3</td>\n",
       "      <td>Incr ARR $(000s)</td>\n",
       "      <td>89.966</td>\n",
       "    </tr>\n",
       "    <tr>\n",
       "      <th>796</th>\n",
       "      <td>M1 (Coverage Program)</td>\n",
       "      <td>Bookings-New</td>\n",
       "      <td>BCS 3.0 TARGETING GLOBAL COMPASS IDENTIFIED RI...</td>\n",
       "      <td>TARGETING</td>\n",
       "      <td>NaN</td>\n",
       "      <td>AMERICAS</td>\n",
       "      <td>NaN</td>\n",
       "      <td>NaN</td>\n",
       "      <td>NaN</td>\n",
       "      <td>SNTC</td>\n",
       "      <td>Actual</td>\n",
       "      <td>2022</td>\n",
       "      <td>Q3</td>\n",
       "      <td>Incr ARR $(000s)</td>\n",
       "      <td>11.629</td>\n",
       "    </tr>\n",
       "    <tr>\n",
       "      <th>797</th>\n",
       "      <td>M1 (Coverage Program)</td>\n",
       "      <td>Bookings-New</td>\n",
       "      <td>COVERAGE PROGRAM - FIELD REQUEST</td>\n",
       "      <td>FIELD</td>\n",
       "      <td>NaN</td>\n",
       "      <td>EMEAR-REGION</td>\n",
       "      <td>NaN</td>\n",
       "      <td>NaN</td>\n",
       "      <td>NaN</td>\n",
       "      <td>SNTC</td>\n",
       "      <td>Actual</td>\n",
       "      <td>2022</td>\n",
       "      <td>Q3</td>\n",
       "      <td>Incr ARR $(000s)</td>\n",
       "      <td>386.951</td>\n",
       "    </tr>\n",
       "  </tbody>\n",
       "</table>\n",
       "<p>414 rows × 15 columns</p>\n",
       "</div>"
      ],
      "text/plain": [
       "                    Method Measure Group  \\\n",
       "384  M1 (Coverage Program)    Operations   \n",
       "385  M1 (Coverage Program)    Operations   \n",
       "386  M1 (Coverage Program)    Operations   \n",
       "387  M1 (Coverage Program)    Operations   \n",
       "388  M1 (Coverage Program)  Bookings-New   \n",
       "..                     ...           ...   \n",
       "793  M1 (Coverage Program)  Bookings-New   \n",
       "794  M1 (Coverage Program)  Bookings-New   \n",
       "795  M1 (Coverage Program)  Bookings-New   \n",
       "796  M1 (Coverage Program)  Bookings-New   \n",
       "797  M1 (Coverage Program)  Bookings-New   \n",
       "\n",
       "                                              Campaign       Campaign Type  \\\n",
       "384           COVERAGE PROGRAM - SNTC PROACTIVE ATTACH  PROACTIVE COVERAGE   \n",
       "385           COVERAGE PROGRAM - SNTC PROACTIVE ATTACH  PROACTIVE COVERAGE   \n",
       "386           COVERAGE PROGRAM - SNTC PROACTIVE ATTACH  PROACTIVE COVERAGE   \n",
       "387           COVERAGE PROGRAM - SNTC PROACTIVE ATTACH  PROACTIVE COVERAGE   \n",
       "388           COVERAGE PROGRAM - SNTC PROACTIVE ATTACH  PROACTIVE COVERAGE   \n",
       "..                                                 ...                 ...   \n",
       "793      SUCCESS TRACKS FOR CAMPUS TARGETING - DYNAMIC           TARGETING   \n",
       "794                   COVERAGE PROGRAM - FIELD REQUEST               FIELD   \n",
       "795                    SUCCESS TRACKS DYNAMIC CAMPAIGN           TARGETING   \n",
       "796  BCS 3.0 TARGETING GLOBAL COMPASS IDENTIFIED RI...           TARGETING   \n",
       "797                   COVERAGE PROGRAM - FIELD REQUEST               FIELD   \n",
       "\n",
       "     Customer Name Sales Level 1  Sales Level 2  Sales Level 3  Sales Level 4  \\\n",
       "384            NaN      AMERICAS            NaN            NaN            NaN   \n",
       "385            NaN      AMERICAS            NaN            NaN            NaN   \n",
       "386            NaN      AMERICAS            NaN            NaN            NaN   \n",
       "387            NaN      AMERICAS            NaN            NaN            NaN   \n",
       "388            NaN      AMERICAS            NaN            NaN            NaN   \n",
       "..             ...           ...            ...            ...            ...   \n",
       "793            NaN  EMEAR-REGION            NaN            NaN            NaN   \n",
       "794            NaN      AMERICAS            NaN            NaN            NaN   \n",
       "795            NaN      AMERICAS            NaN            NaN            NaN   \n",
       "796            NaN      AMERICAS            NaN            NaN            NaN   \n",
       "797            NaN  EMEAR-REGION            NaN            NaN            NaN   \n",
       "\n",
       "    Offer Focus Value Type Report FY Report FQ                Measure  \\\n",
       "384        SNTC     Actual      2022        Q1     OPPTY_STG1_CREATED   \n",
       "385        SNTC     Actual      2022        Q1          READOUTS_DONE   \n",
       "386        SNTC     Actual      2022        Q1          OFFER_CREATED   \n",
       "387        SNTC     Actual      2022        Q1  UNCOVERED_OPPTY_VALUE   \n",
       "388        SNTC     Actual      2022        Q1       Incr ARR $(000s)   \n",
       "..          ...        ...       ...       ...                    ...   \n",
       "793        SNTC     Actual      2022        Q2       Incr ARR $(000s)   \n",
       "794        SNTC     Actual      2022        Q3       Incr ARR $(000s)   \n",
       "795        SNTC     Actual      2022        Q3       Incr ARR $(000s)   \n",
       "796        SNTC     Actual      2022        Q3       Incr ARR $(000s)   \n",
       "797        SNTC     Actual      2022        Q3       Incr ARR $(000s)   \n",
       "\n",
       "        Value  \n",
       "384     6.000  \n",
       "385    30.000  \n",
       "386    23.000  \n",
       "387  4776.000  \n",
       "388  8000.000  \n",
       "..        ...  \n",
       "793     3.242  \n",
       "794  1094.407  \n",
       "795    89.966  \n",
       "796    11.629  \n",
       "797   386.951  \n",
       "\n",
       "[414 rows x 15 columns]"
      ]
     },
     "execution_count": 314,
     "metadata": {},
     "output_type": "execute_result"
    }
   ],
   "source": [
    "targets.loc[targets['Value Type']=='Actual']"
   ]
  },
  {
   "cell_type": "code",
   "execution_count": 315,
   "metadata": {},
   "outputs": [
    {
     "data": {
      "text/plain": [
       "array(['M1 (Coverage Program)', 'M6 (Coverage at Renewal)'], dtype=object)"
      ]
     },
     "execution_count": 315,
     "metadata": {},
     "output_type": "execute_result"
    }
   ],
   "source": [
    "targets['Method'].unique()"
   ]
  },
  {
   "cell_type": "code",
   "execution_count": 316,
   "metadata": {},
   "outputs": [],
   "source": [
    "opp_flow_dash = pd.concat([agg_report, targets]).fillna(0.0)"
   ]
  },
  {
   "cell_type": "code",
   "execution_count": 317,
   "metadata": {},
   "outputs": [
    {
     "data": {
      "text/html": [
       "<div>\n",
       "<style scoped>\n",
       "    .dataframe tbody tr th:only-of-type {\n",
       "        vertical-align: middle;\n",
       "    }\n",
       "\n",
       "    .dataframe tbody tr th {\n",
       "        vertical-align: top;\n",
       "    }\n",
       "\n",
       "    .dataframe thead tr th {\n",
       "        text-align: left;\n",
       "    }\n",
       "\n",
       "    .dataframe thead tr:last-of-type th {\n",
       "        text-align: right;\n",
       "    }\n",
       "</style>\n",
       "<table border=\"1\" class=\"dataframe\">\n",
       "  <thead>\n",
       "    <tr>\n",
       "      <th></th>\n",
       "      <th></th>\n",
       "      <th></th>\n",
       "      <th></th>\n",
       "      <th></th>\n",
       "      <th></th>\n",
       "      <th>Report FY</th>\n",
       "      <th colspan=\"8\" halign=\"left\">2022</th>\n",
       "    </tr>\n",
       "    <tr>\n",
       "      <th></th>\n",
       "      <th></th>\n",
       "      <th></th>\n",
       "      <th></th>\n",
       "      <th></th>\n",
       "      <th></th>\n",
       "      <th>Report FQ</th>\n",
       "      <th colspan=\"2\" halign=\"left\">Q1</th>\n",
       "      <th colspan=\"2\" halign=\"left\">Q2</th>\n",
       "      <th colspan=\"2\" halign=\"left\">Q3</th>\n",
       "      <th colspan=\"2\" halign=\"left\">Q4</th>\n",
       "    </tr>\n",
       "    <tr>\n",
       "      <th></th>\n",
       "      <th></th>\n",
       "      <th></th>\n",
       "      <th></th>\n",
       "      <th></th>\n",
       "      <th></th>\n",
       "      <th>Value Type</th>\n",
       "      <th>Actual</th>\n",
       "      <th>Target</th>\n",
       "      <th>Actual</th>\n",
       "      <th>Target</th>\n",
       "      <th>Actual</th>\n",
       "      <th>Target</th>\n",
       "      <th>Actual</th>\n",
       "      <th>Target</th>\n",
       "    </tr>\n",
       "    <tr>\n",
       "      <th>Method</th>\n",
       "      <th>Measure Group</th>\n",
       "      <th>Sales Level 1</th>\n",
       "      <th>Sales Level 2</th>\n",
       "      <th>Sales Level 3</th>\n",
       "      <th>Sales Level 4</th>\n",
       "      <th>Measure</th>\n",
       "      <th></th>\n",
       "      <th></th>\n",
       "      <th></th>\n",
       "      <th></th>\n",
       "      <th></th>\n",
       "      <th></th>\n",
       "      <th></th>\n",
       "      <th></th>\n",
       "    </tr>\n",
       "  </thead>\n",
       "  <tbody>\n",
       "    <tr>\n",
       "      <th rowspan=\"5\" valign=\"top\">FIELD</th>\n",
       "      <th rowspan=\"5\" valign=\"top\">Operations</th>\n",
       "      <th rowspan=\"5\" valign=\"top\">AMERICAS</th>\n",
       "      <th rowspan=\"5\" valign=\"top\">AMERICAS_SP</th>\n",
       "      <th rowspan=\"5\" valign=\"top\">ASP TELCO MOBILE</th>\n",
       "      <th rowspan=\"4\" valign=\"top\">ASP AMW</th>\n",
       "      <th>OFFER_CREATED</th>\n",
       "      <td>0.0</td>\n",
       "      <td>0.0</td>\n",
       "      <td>0.0</td>\n",
       "      <td>0.0</td>\n",
       "      <td>0.0</td>\n",
       "      <td>0.0</td>\n",
       "      <td>0.0</td>\n",
       "      <td>0.0</td>\n",
       "    </tr>\n",
       "    <tr>\n",
       "      <th>OPPTY_STG1_CREATED</th>\n",
       "      <td>1.0</td>\n",
       "      <td>0.0</td>\n",
       "      <td>0.0</td>\n",
       "      <td>0.0</td>\n",
       "      <td>0.0</td>\n",
       "      <td>0.0</td>\n",
       "      <td>0.0</td>\n",
       "      <td>0.0</td>\n",
       "    </tr>\n",
       "    <tr>\n",
       "      <th>READOUTS_DONE</th>\n",
       "      <td>1.0</td>\n",
       "      <td>0.0</td>\n",
       "      <td>0.0</td>\n",
       "      <td>0.0</td>\n",
       "      <td>0.0</td>\n",
       "      <td>0.0</td>\n",
       "      <td>0.0</td>\n",
       "      <td>0.0</td>\n",
       "    </tr>\n",
       "    <tr>\n",
       "      <th>UNCOVERED_OPPTY_VALUE</th>\n",
       "      <td>0.0</td>\n",
       "      <td>0.0</td>\n",
       "      <td>0.0</td>\n",
       "      <td>0.0</td>\n",
       "      <td>0.0</td>\n",
       "      <td>0.0</td>\n",
       "      <td>0.0</td>\n",
       "      <td>0.0</td>\n",
       "    </tr>\n",
       "    <tr>\n",
       "      <th>ASP LUMEN</th>\n",
       "      <th>OFFER_CREATED</th>\n",
       "      <td>0.0</td>\n",
       "      <td>0.0</td>\n",
       "      <td>0.0</td>\n",
       "      <td>0.0</td>\n",
       "      <td>0.0</td>\n",
       "      <td>0.0</td>\n",
       "      <td>0.0</td>\n",
       "      <td>0.0</td>\n",
       "    </tr>\n",
       "    <tr>\n",
       "      <th>...</th>\n",
       "      <th>...</th>\n",
       "      <th>...</th>\n",
       "      <th>...</th>\n",
       "      <th>...</th>\n",
       "      <th>...</th>\n",
       "      <th>...</th>\n",
       "      <td>...</td>\n",
       "      <td>...</td>\n",
       "      <td>...</td>\n",
       "      <td>...</td>\n",
       "      <td>...</td>\n",
       "      <td>...</td>\n",
       "      <td>...</td>\n",
       "      <td>...</td>\n",
       "    </tr>\n",
       "    <tr>\n",
       "      <th rowspan=\"5\" valign=\"top\">TARGETING</th>\n",
       "      <th rowspan=\"5\" valign=\"top\">Operations</th>\n",
       "      <th rowspan=\"5\" valign=\"top\">EMEAR-REGION</th>\n",
       "      <th rowspan=\"5\" valign=\"top\">EMEAR_SP</th>\n",
       "      <th rowspan=\"5\" valign=\"top\">SP_VDF_LG</th>\n",
       "      <th>LIBERTY_GLOBAL</th>\n",
       "      <th>UNCOVERED_OPPTY_VALUE</th>\n",
       "      <td>0.0</td>\n",
       "      <td>0.0</td>\n",
       "      <td>0.0</td>\n",
       "      <td>0.0</td>\n",
       "      <td>0.0</td>\n",
       "      <td>0.0</td>\n",
       "      <td>0.0</td>\n",
       "      <td>0.0</td>\n",
       "    </tr>\n",
       "    <tr>\n",
       "      <th rowspan=\"4\" valign=\"top\">VODAFONE_</th>\n",
       "      <th>OFFER_CREATED</th>\n",
       "      <td>0.0</td>\n",
       "      <td>0.0</td>\n",
       "      <td>0.0</td>\n",
       "      <td>0.0</td>\n",
       "      <td>0.0</td>\n",
       "      <td>0.0</td>\n",
       "      <td>0.0</td>\n",
       "      <td>0.0</td>\n",
       "    </tr>\n",
       "    <tr>\n",
       "      <th>OPPTY_STG1_CREATED</th>\n",
       "      <td>0.0</td>\n",
       "      <td>0.0</td>\n",
       "      <td>1.0</td>\n",
       "      <td>0.0</td>\n",
       "      <td>0.0</td>\n",
       "      <td>0.0</td>\n",
       "      <td>0.0</td>\n",
       "      <td>0.0</td>\n",
       "    </tr>\n",
       "    <tr>\n",
       "      <th>READOUTS_DONE</th>\n",
       "      <td>0.0</td>\n",
       "      <td>0.0</td>\n",
       "      <td>0.0</td>\n",
       "      <td>0.0</td>\n",
       "      <td>0.0</td>\n",
       "      <td>0.0</td>\n",
       "      <td>0.0</td>\n",
       "      <td>0.0</td>\n",
       "    </tr>\n",
       "    <tr>\n",
       "      <th>UNCOVERED_OPPTY_VALUE</th>\n",
       "      <td>0.0</td>\n",
       "      <td>0.0</td>\n",
       "      <td>0.0</td>\n",
       "      <td>0.0</td>\n",
       "      <td>0.0</td>\n",
       "      <td>0.0</td>\n",
       "      <td>0.0</td>\n",
       "      <td>0.0</td>\n",
       "    </tr>\n",
       "  </tbody>\n",
       "</table>\n",
       "<p>6340 rows × 8 columns</p>\n",
       "</div>"
      ],
      "text/plain": [
       "Report FY                                                                                                   2022  \\\n",
       "Report FQ                                                                                                     Q1   \n",
       "Value Type                                                                                                Actual   \n",
       "Method    Measure Group Sales Level 1 Sales Level 2 Sales Level 3    Sales Level 4  Measure                        \n",
       "FIELD     Operations    AMERICAS      AMERICAS_SP   ASP TELCO MOBILE ASP AMW        OFFER_CREATED            0.0   \n",
       "                                                                                    OPPTY_STG1_CREATED       1.0   \n",
       "                                                                                    READOUTS_DONE            1.0   \n",
       "                                                                                    UNCOVERED_OPPTY_VALUE    0.0   \n",
       "                                                                     ASP LUMEN      OFFER_CREATED            0.0   \n",
       "...                                                                                                          ...   \n",
       "TARGETING Operations    EMEAR-REGION  EMEAR_SP      SP_VDF_LG        LIBERTY_GLOBAL UNCOVERED_OPPTY_VALUE    0.0   \n",
       "                                                                     VODAFONE_      OFFER_CREATED            0.0   \n",
       "                                                                                    OPPTY_STG1_CREATED       0.0   \n",
       "                                                                                    READOUTS_DONE            0.0   \n",
       "                                                                                    UNCOVERED_OPPTY_VALUE    0.0   \n",
       "\n",
       "Report FY                                                                                                         \\\n",
       "Report FQ                                                                                                          \n",
       "Value Type                                                                                                Target   \n",
       "Method    Measure Group Sales Level 1 Sales Level 2 Sales Level 3    Sales Level 4  Measure                        \n",
       "FIELD     Operations    AMERICAS      AMERICAS_SP   ASP TELCO MOBILE ASP AMW        OFFER_CREATED            0.0   \n",
       "                                                                                    OPPTY_STG1_CREATED       0.0   \n",
       "                                                                                    READOUTS_DONE            0.0   \n",
       "                                                                                    UNCOVERED_OPPTY_VALUE    0.0   \n",
       "                                                                     ASP LUMEN      OFFER_CREATED            0.0   \n",
       "...                                                                                                          ...   \n",
       "TARGETING Operations    EMEAR-REGION  EMEAR_SP      SP_VDF_LG        LIBERTY_GLOBAL UNCOVERED_OPPTY_VALUE    0.0   \n",
       "                                                                     VODAFONE_      OFFER_CREATED            0.0   \n",
       "                                                                                    OPPTY_STG1_CREATED       0.0   \n",
       "                                                                                    READOUTS_DONE            0.0   \n",
       "                                                                                    UNCOVERED_OPPTY_VALUE    0.0   \n",
       "\n",
       "Report FY                                                                                                         \\\n",
       "Report FQ                                                                                                     Q2   \n",
       "Value Type                                                                                                Actual   \n",
       "Method    Measure Group Sales Level 1 Sales Level 2 Sales Level 3    Sales Level 4  Measure                        \n",
       "FIELD     Operations    AMERICAS      AMERICAS_SP   ASP TELCO MOBILE ASP AMW        OFFER_CREATED            0.0   \n",
       "                                                                                    OPPTY_STG1_CREATED       0.0   \n",
       "                                                                                    READOUTS_DONE            0.0   \n",
       "                                                                                    UNCOVERED_OPPTY_VALUE    0.0   \n",
       "                                                                     ASP LUMEN      OFFER_CREATED            0.0   \n",
       "...                                                                                                          ...   \n",
       "TARGETING Operations    EMEAR-REGION  EMEAR_SP      SP_VDF_LG        LIBERTY_GLOBAL UNCOVERED_OPPTY_VALUE    0.0   \n",
       "                                                                     VODAFONE_      OFFER_CREATED            0.0   \n",
       "                                                                                    OPPTY_STG1_CREATED       1.0   \n",
       "                                                                                    READOUTS_DONE            0.0   \n",
       "                                                                                    UNCOVERED_OPPTY_VALUE    0.0   \n",
       "\n",
       "Report FY                                                                                                         \\\n",
       "Report FQ                                                                                                          \n",
       "Value Type                                                                                                Target   \n",
       "Method    Measure Group Sales Level 1 Sales Level 2 Sales Level 3    Sales Level 4  Measure                        \n",
       "FIELD     Operations    AMERICAS      AMERICAS_SP   ASP TELCO MOBILE ASP AMW        OFFER_CREATED            0.0   \n",
       "                                                                                    OPPTY_STG1_CREATED       0.0   \n",
       "                                                                                    READOUTS_DONE            0.0   \n",
       "                                                                                    UNCOVERED_OPPTY_VALUE    0.0   \n",
       "                                                                     ASP LUMEN      OFFER_CREATED            0.0   \n",
       "...                                                                                                          ...   \n",
       "TARGETING Operations    EMEAR-REGION  EMEAR_SP      SP_VDF_LG        LIBERTY_GLOBAL UNCOVERED_OPPTY_VALUE    0.0   \n",
       "                                                                     VODAFONE_      OFFER_CREATED            0.0   \n",
       "                                                                                    OPPTY_STG1_CREATED       0.0   \n",
       "                                                                                    READOUTS_DONE            0.0   \n",
       "                                                                                    UNCOVERED_OPPTY_VALUE    0.0   \n",
       "\n",
       "Report FY                                                                                                         \\\n",
       "Report FQ                                                                                                     Q3   \n",
       "Value Type                                                                                                Actual   \n",
       "Method    Measure Group Sales Level 1 Sales Level 2 Sales Level 3    Sales Level 4  Measure                        \n",
       "FIELD     Operations    AMERICAS      AMERICAS_SP   ASP TELCO MOBILE ASP AMW        OFFER_CREATED            0.0   \n",
       "                                                                                    OPPTY_STG1_CREATED       0.0   \n",
       "                                                                                    READOUTS_DONE            0.0   \n",
       "                                                                                    UNCOVERED_OPPTY_VALUE    0.0   \n",
       "                                                                     ASP LUMEN      OFFER_CREATED            0.0   \n",
       "...                                                                                                          ...   \n",
       "TARGETING Operations    EMEAR-REGION  EMEAR_SP      SP_VDF_LG        LIBERTY_GLOBAL UNCOVERED_OPPTY_VALUE    0.0   \n",
       "                                                                     VODAFONE_      OFFER_CREATED            0.0   \n",
       "                                                                                    OPPTY_STG1_CREATED       0.0   \n",
       "                                                                                    READOUTS_DONE            0.0   \n",
       "                                                                                    UNCOVERED_OPPTY_VALUE    0.0   \n",
       "\n",
       "Report FY                                                                                                         \\\n",
       "Report FQ                                                                                                          \n",
       "Value Type                                                                                                Target   \n",
       "Method    Measure Group Sales Level 1 Sales Level 2 Sales Level 3    Sales Level 4  Measure                        \n",
       "FIELD     Operations    AMERICAS      AMERICAS_SP   ASP TELCO MOBILE ASP AMW        OFFER_CREATED            0.0   \n",
       "                                                                                    OPPTY_STG1_CREATED       0.0   \n",
       "                                                                                    READOUTS_DONE            0.0   \n",
       "                                                                                    UNCOVERED_OPPTY_VALUE    0.0   \n",
       "                                                                     ASP LUMEN      OFFER_CREATED            0.0   \n",
       "...                                                                                                          ...   \n",
       "TARGETING Operations    EMEAR-REGION  EMEAR_SP      SP_VDF_LG        LIBERTY_GLOBAL UNCOVERED_OPPTY_VALUE    0.0   \n",
       "                                                                     VODAFONE_      OFFER_CREATED            0.0   \n",
       "                                                                                    OPPTY_STG1_CREATED       0.0   \n",
       "                                                                                    READOUTS_DONE            0.0   \n",
       "                                                                                    UNCOVERED_OPPTY_VALUE    0.0   \n",
       "\n",
       "Report FY                                                                                                         \\\n",
       "Report FQ                                                                                                     Q4   \n",
       "Value Type                                                                                                Actual   \n",
       "Method    Measure Group Sales Level 1 Sales Level 2 Sales Level 3    Sales Level 4  Measure                        \n",
       "FIELD     Operations    AMERICAS      AMERICAS_SP   ASP TELCO MOBILE ASP AMW        OFFER_CREATED            0.0   \n",
       "                                                                                    OPPTY_STG1_CREATED       0.0   \n",
       "                                                                                    READOUTS_DONE            0.0   \n",
       "                                                                                    UNCOVERED_OPPTY_VALUE    0.0   \n",
       "                                                                     ASP LUMEN      OFFER_CREATED            0.0   \n",
       "...                                                                                                          ...   \n",
       "TARGETING Operations    EMEAR-REGION  EMEAR_SP      SP_VDF_LG        LIBERTY_GLOBAL UNCOVERED_OPPTY_VALUE    0.0   \n",
       "                                                                     VODAFONE_      OFFER_CREATED            0.0   \n",
       "                                                                                    OPPTY_STG1_CREATED       0.0   \n",
       "                                                                                    READOUTS_DONE            0.0   \n",
       "                                                                                    UNCOVERED_OPPTY_VALUE    0.0   \n",
       "\n",
       "Report FY                                                                                                         \n",
       "Report FQ                                                                                                         \n",
       "Value Type                                                                                                Target  \n",
       "Method    Measure Group Sales Level 1 Sales Level 2 Sales Level 3    Sales Level 4  Measure                       \n",
       "FIELD     Operations    AMERICAS      AMERICAS_SP   ASP TELCO MOBILE ASP AMW        OFFER_CREATED            0.0  \n",
       "                                                                                    OPPTY_STG1_CREATED       0.0  \n",
       "                                                                                    READOUTS_DONE            0.0  \n",
       "                                                                                    UNCOVERED_OPPTY_VALUE    0.0  \n",
       "                                                                     ASP LUMEN      OFFER_CREATED            0.0  \n",
       "...                                                                                                          ...  \n",
       "TARGETING Operations    EMEAR-REGION  EMEAR_SP      SP_VDF_LG        LIBERTY_GLOBAL UNCOVERED_OPPTY_VALUE    0.0  \n",
       "                                                                     VODAFONE_      OFFER_CREATED            0.0  \n",
       "                                                                                    OPPTY_STG1_CREATED       0.0  \n",
       "                                                                                    READOUTS_DONE            0.0  \n",
       "                                                                                    UNCOVERED_OPPTY_VALUE    0.0  \n",
       "\n",
       "[6340 rows x 8 columns]"
      ]
     },
     "execution_count": 317,
     "metadata": {},
     "output_type": "execute_result"
    }
   ],
   "source": [
    "opp_flow_dash.loc[(opp_flow_dash['Measure Group'].str.contains('operations', na=False, case=False))].pivot_table(index=['Method','Measure Group', 'Sales Level 1','Sales Level 2','Sales Level 3','Sales Level 4','Measure'], columns=['Report FY','Report FQ','Value Type'], values='Value', aggfunc='sum', margins=False).fillna(0.0)"
   ]
  },
  {
   "cell_type": "code",
   "execution_count": 318,
   "metadata": {},
   "outputs": [
    {
     "data": {
      "text/plain": [
       "array(['Operations', 'Bookings-New', 'Bookings-Upsell'], dtype=object)"
      ]
     },
     "execution_count": 318,
     "metadata": {},
     "output_type": "execute_result"
    }
   ],
   "source": [
    "targets['Measure Group'].unique()"
   ]
  },
  {
   "cell_type": "code",
   "execution_count": 319,
   "metadata": {},
   "outputs": [],
   "source": [
    "# bookings = finbi_df #.loc[finbi_df['Partner Deal']==False][['Sales Level 1', 'Sales Level 2', 'Sales Level 3', 'CAV ID', 'CAV Name',\n",
    "#                        'GUID', 'GUID Name', 'Partner', 'Booked Deal ID', 'CX Product Category',\n",
    "#                        'Fiscal Year', 'Fiscal Quarter ID', 'Fiscal Week ID',\n",
    "#                        'Fiscal Week of Year', 'ReportWeek', 'ProductType', 'TCV', 'ACV',\n",
    "#                        'Request ID', 'Readout_Date',  'Campaign', 'Campaign Type',\n",
    "#                        'Target Campaign Flag', 'Partner Deal', 'Service Source',\n",
    "#                        'Compass GUID Name', 'Compass Deal ID', 'Compass Advisor',\n",
    "#                        'Readout Delivery Status', 'Items Recommended']]"
   ]
  },
  {
   "cell_type": "code",
   "execution_count": 320,
   "metadata": {},
   "outputs": [],
   "source": [
    "# bookings['Sales Level 1'] = bookings['Sales Level 1'].str.upper()\n",
    "# bookings['Sales Level 2'] = bookings['Sales Level 2'].str.upper()\n",
    "# bookings['Sales Level 3'] = bookings['Sales Level 3'].str.upper()\n",
    "# bookings['Sales Level 4'] = ''"
   ]
  },
  {
   "cell_type": "code",
   "execution_count": 321,
   "metadata": {},
   "outputs": [],
   "source": [
    "# bookings"
   ]
  },
  {
   "cell_type": "code",
   "execution_count": 322,
   "metadata": {},
   "outputs": [],
   "source": [
    "def set_campaign_product_focus(campaign_type, campaign_name, product_type):\n",
    "    if campaign_type.upper() == 'FIELD' and product_type.upper() == 'SNTC':\n",
    "        return 'SNTC'\n",
    "    elif campaign_type.upper() == 'FIELD' and 'BCS' in product_type.upper():\n",
    "        return 'BCS'\n",
    "    elif campaign_type.upper() == 'FIELD' and product_type.upper() != 'SNTC' and 'BCS' not in product_type.upper():\n",
    "        return product_type \n",
    "    elif campaign_type.upper() == 'TARGETING':\n",
    "        if 'BCS' in campaign_name:\n",
    "            return 'BCS'\n",
    "        elif 'ST' in campaign_name or 'SUCCESS' in campaign_name:\n",
    "            return 'ST'\n",
    "        elif 'SSPT' in campaign_name or 'SOLUTION' in campaign_name:\n",
    "            return 'SSPT'\n",
    "        elif 'CTU' in campaign_name:\n",
    "            return 'SNTC'\n",
    "    elif (campaign_type.upper() == 'MISSED ATTACH' or campaign_type.upper() == 'COVERAGE PROGRAM'):\n",
    "        return 'Incr ARR $(000''s)'\n",
    "    elif campaign_type.upper() == 'COVERAGE AT RENEWAL':\n",
    "        return 'Incr ARR $(000s)'"
   ]
  },
  {
   "cell_type": "code",
   "execution_count": 323,
   "metadata": {},
   "outputs": [],
   "source": [
    "def get_lpm_plus_value(request_id):\n",
    "    #import pdb\n",
    "    #pdb.set_trace()\n",
    "    lpm_plus_value = None\n",
    "    try:\n",
    "        if df.loc[df['Request ID'] == str(request_id),'LPM_PLUS'].values[0]:\n",
    "            lpm_plus_value = df.loc[df['Request ID'] == str(request_id),'LPM_PLUS'].values[0]\n",
    "            if isinstance(lpm_plus_value, float):\n",
    "                lpm_plus_value = lpm_plus_value.astype(str)\n",
    "                \n",
    "    except:\n",
    "        lpm_plus_value = 'UNKNOWN'\n",
    "    \n",
    "    return lpm_plus_value.upper()"
   ]
  },
  {
   "cell_type": "code",
   "execution_count": 324,
   "metadata": {},
   "outputs": [],
   "source": [
    "def set_method(campaign_type, request_id):\n",
    "    lpm_plus_value = get_lpm_plus_value(request_id)\n",
    "    \n",
    "    if isinstance(lpm_plus_value, str):\n",
    "        if lpm_plus_value.upper() == 'YES' and campaign_type.upper() == 'COVERAGE AT RENEWAL':\n",
    "            return 'M6 (Coverage at Renewal)'\n",
    "    \n",
    "        elif lpm_plus_value.upper() == 'YES' and campaign_type.upper() != 'COVERAGE AT RENEWAL':\n",
    "            return 'M1 (Coverage Program)'\n",
    "    \n",
    "    elif campaign_type.upper() == 'FIELD':\n",
    "        return 'FIELD'\n",
    "    \n",
    "    elif campaign_type.upper() == 'TARGETING':    \n",
    "        return 'TARGETING'"
   ]
  },
  {
   "cell_type": "code",
   "execution_count": 325,
   "metadata": {},
   "outputs": [
    {
     "data": {
      "text/plain": [
       "6435    NaN\n",
       "Name: LPM_PLUS, dtype: object"
      ]
     },
     "execution_count": 325,
     "metadata": {},
     "output_type": "execute_result"
    }
   ],
   "source": [
    "df.loc[df['Request ID']=='985','LPM_PLUS']"
   ]
  },
  {
   "cell_type": "code",
   "execution_count": 326,
   "metadata": {},
   "outputs": [
    {
     "data": {
      "text/plain": [
       "'YES'"
      ]
     },
     "execution_count": 326,
     "metadata": {},
     "output_type": "execute_result"
    }
   ],
   "source": [
    "get_lpm_plus_value(105803)"
   ]
  },
  {
   "cell_type": "code",
   "execution_count": 327,
   "metadata": {},
   "outputs": [],
   "source": [
    "def set_measure_group(campaign_type, campaign_name, service_source, offer_focus, request_id):\n",
    "    if request_id:\n",
    "        lpm_plus_value = get_lpm_plus_value(request_id)\n",
    "    \n",
    "    if pd.notnull(lpm_plus_value) or lpm_plus_value != np.nan():\n",
    "        if pd.isnull(service_source) or service_source == 'NA' or service_source == 'N/A' or service_source.upper() == 'UNKNOWN' or service_source == '':\n",
    "            del lpm_plus_value\n",
    "            return 'Bookings-Unknown'\n",
    "        if campaign_type.upper() == 'FIELD' and service_source.upper() == 'NEW' and lpm_plus_value.upper() != 'YES':\n",
    "            del lpm_plus_value\n",
    "            return 'Bookings-New'\n",
    "        elif campaign_type.upper() == 'TARGETING' and service_source.upper() == 'NEW' and lpm_plus_value.upper() != 'YES':\n",
    "            del lpm_plus_value\n",
    "            return 'Bookings-New'\n",
    "        elif (campaign_type.upper() == 'MISSED ATTACH' or campaign_type.upper() == 'COVERAGE PROGRAM') and offer_focus.upper() == 'SNTC':\n",
    "            del lpm_plus_value\n",
    "            return 'Bookings-New'\n",
    "        elif campaign_type.upper() == 'COVERAGE AT RENEWAL' and offer_focus.upper( ) == 'SNTC':\n",
    "            del lpm_plus_value\n",
    "            return 'Bookings-New'\n",
    "        else:\n",
    "            return 'Bookings-Upsell'\n",
    "    elif campaign_type.upper() == 'FIELD' and service_source.upper() == 'NEW':\n",
    "        return 'Bookings-New'\n",
    "    elif campaign_type.upper() == 'TARGETING' and service_source.upper() == 'NEW':\n",
    "        return 'Bookings-New'\n",
    "    elif (campaign_type.upper() == 'MISSED ATTACH' or campaign_type.upper() == 'COVERAGE PROGRAM') and offer_focus.upper() == 'SNTC':\n",
    "        return 'Bookings-New'\n",
    "    elif campaign_type.upper() == 'COVERAGE AT RENEWAL' and offer_focus.upper( ) == 'SNTC':\n",
    "        return 'Bookings-New'\n",
    "    else:\n",
    "        return 'Bookings-Upsell'"
   ]
  },
  {
   "cell_type": "code",
   "execution_count": 328,
   "metadata": {},
   "outputs": [],
   "source": [
    "# bookings['Method'] = bookings.apply(lambda x: set_method(x['Campaign Type'], x['Request ID']), axis=1)"
   ]
  },
  {
   "cell_type": "code",
   "execution_count": null,
   "metadata": {},
   "outputs": [],
   "source": []
  },
  {
   "cell_type": "code",
   "execution_count": 329,
   "metadata": {},
   "outputs": [],
   "source": [
    "# bookings.loc[bookings['Campaign Type'].isnull()]"
   ]
  },
  {
   "cell_type": "code",
   "execution_count": 330,
   "metadata": {},
   "outputs": [],
   "source": [
    "# bookings['Offer Focus'] = bookings.apply(lambda x: set_campaign_product_focus(x['Campaign Type'], x['Campaign'], x['ProductType']), axis=1)"
   ]
  },
  {
   "cell_type": "code",
   "execution_count": 331,
   "metadata": {},
   "outputs": [],
   "source": [
    "# bookings['Measure'] = 'Incr ARR $(000s)'"
   ]
  },
  {
   "cell_type": "code",
   "execution_count": 332,
   "metadata": {},
   "outputs": [],
   "source": [
    "# bookings['Measure Group'] = bookings.apply(lambda x: set_measure_group(x['Campaign Type'], x['Campaign'], x['Service Source'], x['Offer Focus'], x['Request ID']), axis=1)"
   ]
  },
  {
   "cell_type": "code",
   "execution_count": 333,
   "metadata": {},
   "outputs": [],
   "source": [
    "# bookings['Report FY'] = bookings['Fiscal Year'].astype(str)"
   ]
  },
  {
   "cell_type": "code",
   "execution_count": 334,
   "metadata": {},
   "outputs": [],
   "source": [
    "# bookings['Report FQ'] = [(x[-2:]) for x in bookings['Fiscal Quarter ID']]"
   ]
  },
  {
   "cell_type": "code",
   "execution_count": 335,
   "metadata": {},
   "outputs": [],
   "source": [
    "# bookings['Value Type'] = 'Actual'"
   ]
  },
  {
   "cell_type": "code",
   "execution_count": 336,
   "metadata": {},
   "outputs": [],
   "source": [
    "# bookings['Customer Name'] = bookings['CAV Name']"
   ]
  },
  {
   "cell_type": "code",
   "execution_count": 337,
   "metadata": {},
   "outputs": [],
   "source": [
    "# bookings['Value'] = bookings['ACV']/1000.00"
   ]
  },
  {
   "cell_type": "code",
   "execution_count": 338,
   "metadata": {},
   "outputs": [],
   "source": [
    "# sub_bookings = bookings.loc[(bookings['Report FY']=='2022')][['Sales Level 1','Sales Level 2', 'Sales Level 3', 'Sales Level 4','Campaign', 'Campaign Type','Report FY','Report FQ', 'Offer Focus','Method','Measure Group','Measure','Value Type','Value']].fillna(0.0) #.pivot_table(index=['Measure Group','Measure SubGroup', 'Sales Level 1','Measure'], columns=['Report FY','Report FQ','Value Type'], values='Value', aggfunc='sum', margins=False).fillna(0.0)"
   ]
  },
  {
   "cell_type": "code",
   "execution_count": 339,
   "metadata": {},
   "outputs": [],
   "source": [
    "# sub_bookings.shape"
   ]
  },
  {
   "cell_type": "code",
   "execution_count": 340,
   "metadata": {},
   "outputs": [],
   "source": [
    "# sub_bookings['Measure Group'].unique()"
   ]
  },
  {
   "cell_type": "code",
   "execution_count": 341,
   "metadata": {},
   "outputs": [
    {
     "data": {
      "text/html": [
       "<div>\n",
       "<style scoped>\n",
       "    .dataframe tbody tr th:only-of-type {\n",
       "        vertical-align: middle;\n",
       "    }\n",
       "\n",
       "    .dataframe tbody tr th {\n",
       "        vertical-align: top;\n",
       "    }\n",
       "\n",
       "    .dataframe thead th {\n",
       "        text-align: right;\n",
       "    }\n",
       "</style>\n",
       "<table border=\"1\" class=\"dataframe\">\n",
       "  <thead>\n",
       "    <tr style=\"text-align: right;\">\n",
       "      <th></th>\n",
       "      <th>Sales Level 1</th>\n",
       "      <th>Sales Level 2</th>\n",
       "      <th>Sales Level 3</th>\n",
       "      <th>Sales Level 4</th>\n",
       "      <th>Campaign</th>\n",
       "      <th>Campaign Type</th>\n",
       "      <th>Customer Name</th>\n",
       "      <th>Report FY</th>\n",
       "      <th>Report FQ</th>\n",
       "      <th>Offer Focus</th>\n",
       "      <th>Method</th>\n",
       "      <th>Measure Group</th>\n",
       "      <th>Measure</th>\n",
       "      <th>Value Type</th>\n",
       "      <th>Value</th>\n",
       "    </tr>\n",
       "  </thead>\n",
       "  <tbody>\n",
       "    <tr>\n",
       "      <th>0</th>\n",
       "      <td>EMEAR-REGION</td>\n",
       "      <td>EMEAR_MEA</td>\n",
       "      <td>CLUSTER_SSA</td>\n",
       "      <td>COUNTRY_ZAF</td>\n",
       "      <td>REACTIVE</td>\n",
       "      <td>FIELD</td>\n",
       "      <td>(ACSA) AIRPORTS COMPANY OF SOUTH AFRICA</td>\n",
       "      <td>2022</td>\n",
       "      <td>Q2</td>\n",
       "      <td>ANY</td>\n",
       "      <td>FIELD</td>\n",
       "      <td>Operations</td>\n",
       "      <td>OPPTY_STG1_CREATED</td>\n",
       "      <td>Actual</td>\n",
       "      <td>1.000</td>\n",
       "    </tr>\n",
       "    <tr>\n",
       "      <th>1</th>\n",
       "      <td>EMEAR-REGION</td>\n",
       "      <td>EMEAR_MEA</td>\n",
       "      <td>CLUSTER_SSA</td>\n",
       "      <td>COUNTRY_ZAF</td>\n",
       "      <td>REACTIVE</td>\n",
       "      <td>FIELD</td>\n",
       "      <td>(ACSA) AIRPORTS COMPANY OF SOUTH AFRICA</td>\n",
       "      <td>2022</td>\n",
       "      <td>Q2</td>\n",
       "      <td>ANY</td>\n",
       "      <td>FIELD</td>\n",
       "      <td>Operations</td>\n",
       "      <td>READOUTS_DONE</td>\n",
       "      <td>Actual</td>\n",
       "      <td>1.000</td>\n",
       "    </tr>\n",
       "    <tr>\n",
       "      <th>2</th>\n",
       "      <td>EMEAR-REGION</td>\n",
       "      <td>EMEAR_MEA</td>\n",
       "      <td>CLUSTER_SSA</td>\n",
       "      <td>COUNTRY_ZAF</td>\n",
       "      <td>REACTIVE</td>\n",
       "      <td>FIELD</td>\n",
       "      <td>(ACSA) AIRPORTS COMPANY OF SOUTH AFRICA</td>\n",
       "      <td>2022</td>\n",
       "      <td>Q2</td>\n",
       "      <td>ANY</td>\n",
       "      <td>FIELD</td>\n",
       "      <td>Operations</td>\n",
       "      <td>OFFER_CREATED</td>\n",
       "      <td>Actual</td>\n",
       "      <td>0.000</td>\n",
       "    </tr>\n",
       "    <tr>\n",
       "      <th>3</th>\n",
       "      <td>EMEAR-REGION</td>\n",
       "      <td>EMEAR_MEA</td>\n",
       "      <td>CLUSTER_SSA</td>\n",
       "      <td>COUNTRY_ZAF</td>\n",
       "      <td>REACTIVE</td>\n",
       "      <td>FIELD</td>\n",
       "      <td>(ACSA) AIRPORTS COMPANY OF SOUTH AFRICA</td>\n",
       "      <td>2022</td>\n",
       "      <td>Q2</td>\n",
       "      <td>ANY</td>\n",
       "      <td>FIELD</td>\n",
       "      <td>Operations</td>\n",
       "      <td>UNCOVERED_OPPTY_VALUE</td>\n",
       "      <td>Actual</td>\n",
       "      <td>0.000</td>\n",
       "    </tr>\n",
       "    <tr>\n",
       "      <th>4</th>\n",
       "      <td>EMEAR-REGION</td>\n",
       "      <td>EMEAR_MEA</td>\n",
       "      <td>CLUSTER_SSA</td>\n",
       "      <td>COUNTRY_ZAF</td>\n",
       "      <td>REACTIVE</td>\n",
       "      <td>FIELD</td>\n",
       "      <td>(PIC) PUBLIC INVESTMENT CORPORATION</td>\n",
       "      <td>2022</td>\n",
       "      <td>Q2</td>\n",
       "      <td>ANY</td>\n",
       "      <td>FIELD</td>\n",
       "      <td>Operations</td>\n",
       "      <td>OPPTY_STG1_CREATED</td>\n",
       "      <td>Actual</td>\n",
       "      <td>1.000</td>\n",
       "    </tr>\n",
       "    <tr>\n",
       "      <th>...</th>\n",
       "      <td>...</td>\n",
       "      <td>...</td>\n",
       "      <td>...</td>\n",
       "      <td>...</td>\n",
       "      <td>...</td>\n",
       "      <td>...</td>\n",
       "      <td>...</td>\n",
       "      <td>...</td>\n",
       "      <td>...</td>\n",
       "      <td>...</td>\n",
       "      <td>...</td>\n",
       "      <td>...</td>\n",
       "      <td>...</td>\n",
       "      <td>...</td>\n",
       "      <td>...</td>\n",
       "    </tr>\n",
       "    <tr>\n",
       "      <th>793</th>\n",
       "      <td>EMEAR-REGION</td>\n",
       "      <td>0.0</td>\n",
       "      <td>0.0</td>\n",
       "      <td>0.0</td>\n",
       "      <td>SUCCESS TRACKS FOR CAMPUS TARGETING - DYNAMIC</td>\n",
       "      <td>TARGETING</td>\n",
       "      <td>0.0</td>\n",
       "      <td>2022</td>\n",
       "      <td>Q2</td>\n",
       "      <td>SNTC</td>\n",
       "      <td>M1 (Coverage Program)</td>\n",
       "      <td>Bookings-New</td>\n",
       "      <td>Incr ARR $(000s)</td>\n",
       "      <td>Actual</td>\n",
       "      <td>3.242</td>\n",
       "    </tr>\n",
       "    <tr>\n",
       "      <th>794</th>\n",
       "      <td>AMERICAS</td>\n",
       "      <td>0.0</td>\n",
       "      <td>0.0</td>\n",
       "      <td>0.0</td>\n",
       "      <td>COVERAGE PROGRAM - FIELD REQUEST</td>\n",
       "      <td>FIELD</td>\n",
       "      <td>0.0</td>\n",
       "      <td>2022</td>\n",
       "      <td>Q3</td>\n",
       "      <td>SNTC</td>\n",
       "      <td>M1 (Coverage Program)</td>\n",
       "      <td>Bookings-New</td>\n",
       "      <td>Incr ARR $(000s)</td>\n",
       "      <td>Actual</td>\n",
       "      <td>1094.407</td>\n",
       "    </tr>\n",
       "    <tr>\n",
       "      <th>795</th>\n",
       "      <td>AMERICAS</td>\n",
       "      <td>0.0</td>\n",
       "      <td>0.0</td>\n",
       "      <td>0.0</td>\n",
       "      <td>SUCCESS TRACKS DYNAMIC CAMPAIGN</td>\n",
       "      <td>TARGETING</td>\n",
       "      <td>0.0</td>\n",
       "      <td>2022</td>\n",
       "      <td>Q3</td>\n",
       "      <td>SNTC</td>\n",
       "      <td>M1 (Coverage Program)</td>\n",
       "      <td>Bookings-New</td>\n",
       "      <td>Incr ARR $(000s)</td>\n",
       "      <td>Actual</td>\n",
       "      <td>89.966</td>\n",
       "    </tr>\n",
       "    <tr>\n",
       "      <th>796</th>\n",
       "      <td>AMERICAS</td>\n",
       "      <td>0.0</td>\n",
       "      <td>0.0</td>\n",
       "      <td>0.0</td>\n",
       "      <td>BCS 3.0 TARGETING GLOBAL COMPASS IDENTIFIED RI...</td>\n",
       "      <td>TARGETING</td>\n",
       "      <td>0.0</td>\n",
       "      <td>2022</td>\n",
       "      <td>Q3</td>\n",
       "      <td>SNTC</td>\n",
       "      <td>M1 (Coverage Program)</td>\n",
       "      <td>Bookings-New</td>\n",
       "      <td>Incr ARR $(000s)</td>\n",
       "      <td>Actual</td>\n",
       "      <td>11.629</td>\n",
       "    </tr>\n",
       "    <tr>\n",
       "      <th>797</th>\n",
       "      <td>EMEAR-REGION</td>\n",
       "      <td>0.0</td>\n",
       "      <td>0.0</td>\n",
       "      <td>0.0</td>\n",
       "      <td>COVERAGE PROGRAM - FIELD REQUEST</td>\n",
       "      <td>FIELD</td>\n",
       "      <td>0.0</td>\n",
       "      <td>2022</td>\n",
       "      <td>Q3</td>\n",
       "      <td>SNTC</td>\n",
       "      <td>M1 (Coverage Program)</td>\n",
       "      <td>Bookings-New</td>\n",
       "      <td>Incr ARR $(000s)</td>\n",
       "      <td>Actual</td>\n",
       "      <td>386.951</td>\n",
       "    </tr>\n",
       "  </tbody>\n",
       "</table>\n",
       "<p>61562 rows × 15 columns</p>\n",
       "</div>"
      ],
      "text/plain": [
       "    Sales Level 1 Sales Level 2 Sales Level 3 Sales Level 4  \\\n",
       "0    EMEAR-REGION     EMEAR_MEA   CLUSTER_SSA   COUNTRY_ZAF   \n",
       "1    EMEAR-REGION     EMEAR_MEA   CLUSTER_SSA   COUNTRY_ZAF   \n",
       "2    EMEAR-REGION     EMEAR_MEA   CLUSTER_SSA   COUNTRY_ZAF   \n",
       "3    EMEAR-REGION     EMEAR_MEA   CLUSTER_SSA   COUNTRY_ZAF   \n",
       "4    EMEAR-REGION     EMEAR_MEA   CLUSTER_SSA   COUNTRY_ZAF   \n",
       "..            ...           ...           ...           ...   \n",
       "793  EMEAR-REGION           0.0           0.0           0.0   \n",
       "794      AMERICAS           0.0           0.0           0.0   \n",
       "795      AMERICAS           0.0           0.0           0.0   \n",
       "796      AMERICAS           0.0           0.0           0.0   \n",
       "797  EMEAR-REGION           0.0           0.0           0.0   \n",
       "\n",
       "                                              Campaign Campaign Type  \\\n",
       "0                                             REACTIVE         FIELD   \n",
       "1                                             REACTIVE         FIELD   \n",
       "2                                             REACTIVE         FIELD   \n",
       "3                                             REACTIVE         FIELD   \n",
       "4                                             REACTIVE         FIELD   \n",
       "..                                                 ...           ...   \n",
       "793      SUCCESS TRACKS FOR CAMPUS TARGETING - DYNAMIC     TARGETING   \n",
       "794                   COVERAGE PROGRAM - FIELD REQUEST         FIELD   \n",
       "795                    SUCCESS TRACKS DYNAMIC CAMPAIGN     TARGETING   \n",
       "796  BCS 3.0 TARGETING GLOBAL COMPASS IDENTIFIED RI...     TARGETING   \n",
       "797                   COVERAGE PROGRAM - FIELD REQUEST         FIELD   \n",
       "\n",
       "                               Customer Name Report FY Report FQ Offer Focus  \\\n",
       "0    (ACSA) AIRPORTS COMPANY OF SOUTH AFRICA      2022        Q2         ANY   \n",
       "1    (ACSA) AIRPORTS COMPANY OF SOUTH AFRICA      2022        Q2         ANY   \n",
       "2    (ACSA) AIRPORTS COMPANY OF SOUTH AFRICA      2022        Q2         ANY   \n",
       "3    (ACSA) AIRPORTS COMPANY OF SOUTH AFRICA      2022        Q2         ANY   \n",
       "4        (PIC) PUBLIC INVESTMENT CORPORATION      2022        Q2         ANY   \n",
       "..                                       ...       ...       ...         ...   \n",
       "793                                      0.0      2022        Q2        SNTC   \n",
       "794                                      0.0      2022        Q3        SNTC   \n",
       "795                                      0.0      2022        Q3        SNTC   \n",
       "796                                      0.0      2022        Q3        SNTC   \n",
       "797                                      0.0      2022        Q3        SNTC   \n",
       "\n",
       "                    Method Measure Group                Measure Value Type  \\\n",
       "0                    FIELD    Operations     OPPTY_STG1_CREATED     Actual   \n",
       "1                    FIELD    Operations          READOUTS_DONE     Actual   \n",
       "2                    FIELD    Operations          OFFER_CREATED     Actual   \n",
       "3                    FIELD    Operations  UNCOVERED_OPPTY_VALUE     Actual   \n",
       "4                    FIELD    Operations     OPPTY_STG1_CREATED     Actual   \n",
       "..                     ...           ...                    ...        ...   \n",
       "793  M1 (Coverage Program)  Bookings-New       Incr ARR $(000s)     Actual   \n",
       "794  M1 (Coverage Program)  Bookings-New       Incr ARR $(000s)     Actual   \n",
       "795  M1 (Coverage Program)  Bookings-New       Incr ARR $(000s)     Actual   \n",
       "796  M1 (Coverage Program)  Bookings-New       Incr ARR $(000s)     Actual   \n",
       "797  M1 (Coverage Program)  Bookings-New       Incr ARR $(000s)     Actual   \n",
       "\n",
       "        Value  \n",
       "0       1.000  \n",
       "1       1.000  \n",
       "2       0.000  \n",
       "3       0.000  \n",
       "4       1.000  \n",
       "..        ...  \n",
       "793     3.242  \n",
       "794  1094.407  \n",
       "795    89.966  \n",
       "796    11.629  \n",
       "797   386.951  \n",
       "\n",
       "[61562 rows x 15 columns]"
      ]
     },
     "execution_count": 341,
     "metadata": {},
     "output_type": "execute_result"
    }
   ],
   "source": [
    "opp_flow_dash[['Sales Level 1', 'Sales Level 2', 'Sales Level 3', 'Sales Level 4', 'Campaign', 'Campaign Type','Customer Name','Report FY', 'Report FQ', 'Offer Focus', 'Method', 'Measure Group', 'Measure', 'Value Type', 'Value']]"
   ]
  },
  {
   "cell_type": "code",
   "execution_count": 342,
   "metadata": {},
   "outputs": [
    {
     "data": {
      "text/html": [
       "<div>\n",
       "<style scoped>\n",
       "    .dataframe tbody tr th:only-of-type {\n",
       "        vertical-align: middle;\n",
       "    }\n",
       "\n",
       "    .dataframe tbody tr th {\n",
       "        vertical-align: top;\n",
       "    }\n",
       "\n",
       "    .dataframe thead tr th {\n",
       "        text-align: left;\n",
       "    }\n",
       "\n",
       "    .dataframe thead tr:last-of-type th {\n",
       "        text-align: right;\n",
       "    }\n",
       "</style>\n",
       "<table border=\"1\" class=\"dataframe\">\n",
       "  <thead>\n",
       "    <tr>\n",
       "      <th></th>\n",
       "      <th></th>\n",
       "      <th></th>\n",
       "      <th></th>\n",
       "      <th></th>\n",
       "      <th></th>\n",
       "      <th>Report FY</th>\n",
       "      <th colspan=\"8\" halign=\"left\">2022</th>\n",
       "    </tr>\n",
       "    <tr>\n",
       "      <th></th>\n",
       "      <th></th>\n",
       "      <th></th>\n",
       "      <th></th>\n",
       "      <th></th>\n",
       "      <th></th>\n",
       "      <th>Report FQ</th>\n",
       "      <th colspan=\"2\" halign=\"left\">Q1</th>\n",
       "      <th colspan=\"2\" halign=\"left\">Q2</th>\n",
       "      <th colspan=\"2\" halign=\"left\">Q3</th>\n",
       "      <th colspan=\"2\" halign=\"left\">Q4</th>\n",
       "    </tr>\n",
       "    <tr>\n",
       "      <th></th>\n",
       "      <th></th>\n",
       "      <th></th>\n",
       "      <th></th>\n",
       "      <th></th>\n",
       "      <th></th>\n",
       "      <th>Value Type</th>\n",
       "      <th>Actual</th>\n",
       "      <th>Target</th>\n",
       "      <th>Actual</th>\n",
       "      <th>Target</th>\n",
       "      <th>Actual</th>\n",
       "      <th>Target</th>\n",
       "      <th>Actual</th>\n",
       "      <th>Target</th>\n",
       "    </tr>\n",
       "    <tr>\n",
       "      <th>Method</th>\n",
       "      <th>Measure Group</th>\n",
       "      <th>Sales Level 1</th>\n",
       "      <th>Sales Level 2</th>\n",
       "      <th>Sales Level 3</th>\n",
       "      <th>Sales Level 4</th>\n",
       "      <th>Measure</th>\n",
       "      <th></th>\n",
       "      <th></th>\n",
       "      <th></th>\n",
       "      <th></th>\n",
       "      <th></th>\n",
       "      <th></th>\n",
       "      <th></th>\n",
       "      <th></th>\n",
       "    </tr>\n",
       "  </thead>\n",
       "  <tbody>\n",
       "    <tr>\n",
       "      <th rowspan=\"5\" valign=\"top\">FIELD</th>\n",
       "      <th rowspan=\"5\" valign=\"top\">Operations</th>\n",
       "      <th rowspan=\"5\" valign=\"top\">AMERICAS</th>\n",
       "      <th rowspan=\"5\" valign=\"top\">AMERICAS_SP</th>\n",
       "      <th rowspan=\"5\" valign=\"top\">ASP TELCO MOBILE</th>\n",
       "      <th rowspan=\"4\" valign=\"top\">ASP AMW</th>\n",
       "      <th>OFFER_CREATED</th>\n",
       "      <td>0.0</td>\n",
       "      <td>0.0</td>\n",
       "      <td>0.0</td>\n",
       "      <td>0.0</td>\n",
       "      <td>0.0</td>\n",
       "      <td>0.0</td>\n",
       "      <td>0.0</td>\n",
       "      <td>0.0</td>\n",
       "    </tr>\n",
       "    <tr>\n",
       "      <th>OPPTY_STG1_CREATED</th>\n",
       "      <td>1.0</td>\n",
       "      <td>0.0</td>\n",
       "      <td>0.0</td>\n",
       "      <td>0.0</td>\n",
       "      <td>0.0</td>\n",
       "      <td>0.0</td>\n",
       "      <td>0.0</td>\n",
       "      <td>0.0</td>\n",
       "    </tr>\n",
       "    <tr>\n",
       "      <th>READOUTS_DONE</th>\n",
       "      <td>1.0</td>\n",
       "      <td>0.0</td>\n",
       "      <td>0.0</td>\n",
       "      <td>0.0</td>\n",
       "      <td>0.0</td>\n",
       "      <td>0.0</td>\n",
       "      <td>0.0</td>\n",
       "      <td>0.0</td>\n",
       "    </tr>\n",
       "    <tr>\n",
       "      <th>UNCOVERED_OPPTY_VALUE</th>\n",
       "      <td>0.0</td>\n",
       "      <td>0.0</td>\n",
       "      <td>0.0</td>\n",
       "      <td>0.0</td>\n",
       "      <td>0.0</td>\n",
       "      <td>0.0</td>\n",
       "      <td>0.0</td>\n",
       "      <td>0.0</td>\n",
       "    </tr>\n",
       "    <tr>\n",
       "      <th>ASP LUMEN</th>\n",
       "      <th>OFFER_CREATED</th>\n",
       "      <td>0.0</td>\n",
       "      <td>0.0</td>\n",
       "      <td>0.0</td>\n",
       "      <td>0.0</td>\n",
       "      <td>0.0</td>\n",
       "      <td>0.0</td>\n",
       "      <td>0.0</td>\n",
       "      <td>0.0</td>\n",
       "    </tr>\n",
       "    <tr>\n",
       "      <th>...</th>\n",
       "      <th>...</th>\n",
       "      <th>...</th>\n",
       "      <th>...</th>\n",
       "      <th>...</th>\n",
       "      <th>...</th>\n",
       "      <th>...</th>\n",
       "      <td>...</td>\n",
       "      <td>...</td>\n",
       "      <td>...</td>\n",
       "      <td>...</td>\n",
       "      <td>...</td>\n",
       "      <td>...</td>\n",
       "      <td>...</td>\n",
       "      <td>...</td>\n",
       "    </tr>\n",
       "    <tr>\n",
       "      <th rowspan=\"5\" valign=\"top\">TARGETING</th>\n",
       "      <th rowspan=\"5\" valign=\"top\">Operations</th>\n",
       "      <th rowspan=\"5\" valign=\"top\">EMEAR-REGION</th>\n",
       "      <th rowspan=\"5\" valign=\"top\">EMEAR_SP</th>\n",
       "      <th rowspan=\"5\" valign=\"top\">SP_VDF_LG</th>\n",
       "      <th>LIBERTY_GLOBAL</th>\n",
       "      <th>UNCOVERED_OPPTY_VALUE</th>\n",
       "      <td>0.0</td>\n",
       "      <td>0.0</td>\n",
       "      <td>0.0</td>\n",
       "      <td>0.0</td>\n",
       "      <td>0.0</td>\n",
       "      <td>0.0</td>\n",
       "      <td>0.0</td>\n",
       "      <td>0.0</td>\n",
       "    </tr>\n",
       "    <tr>\n",
       "      <th rowspan=\"4\" valign=\"top\">VODAFONE_</th>\n",
       "      <th>OFFER_CREATED</th>\n",
       "      <td>0.0</td>\n",
       "      <td>0.0</td>\n",
       "      <td>0.0</td>\n",
       "      <td>0.0</td>\n",
       "      <td>0.0</td>\n",
       "      <td>0.0</td>\n",
       "      <td>0.0</td>\n",
       "      <td>0.0</td>\n",
       "    </tr>\n",
       "    <tr>\n",
       "      <th>OPPTY_STG1_CREATED</th>\n",
       "      <td>0.0</td>\n",
       "      <td>0.0</td>\n",
       "      <td>1.0</td>\n",
       "      <td>0.0</td>\n",
       "      <td>0.0</td>\n",
       "      <td>0.0</td>\n",
       "      <td>0.0</td>\n",
       "      <td>0.0</td>\n",
       "    </tr>\n",
       "    <tr>\n",
       "      <th>READOUTS_DONE</th>\n",
       "      <td>0.0</td>\n",
       "      <td>0.0</td>\n",
       "      <td>0.0</td>\n",
       "      <td>0.0</td>\n",
       "      <td>0.0</td>\n",
       "      <td>0.0</td>\n",
       "      <td>0.0</td>\n",
       "      <td>0.0</td>\n",
       "    </tr>\n",
       "    <tr>\n",
       "      <th>UNCOVERED_OPPTY_VALUE</th>\n",
       "      <td>0.0</td>\n",
       "      <td>0.0</td>\n",
       "      <td>0.0</td>\n",
       "      <td>0.0</td>\n",
       "      <td>0.0</td>\n",
       "      <td>0.0</td>\n",
       "      <td>0.0</td>\n",
       "      <td>0.0</td>\n",
       "    </tr>\n",
       "  </tbody>\n",
       "</table>\n",
       "<p>6352 rows × 8 columns</p>\n",
       "</div>"
      ],
      "text/plain": [
       "Report FY                                                                                                   2022  \\\n",
       "Report FQ                                                                                                     Q1   \n",
       "Value Type                                                                                                Actual   \n",
       "Method    Measure Group Sales Level 1 Sales Level 2 Sales Level 3    Sales Level 4  Measure                        \n",
       "FIELD     Operations    AMERICAS      AMERICAS_SP   ASP TELCO MOBILE ASP AMW        OFFER_CREATED            0.0   \n",
       "                                                                                    OPPTY_STG1_CREATED       1.0   \n",
       "                                                                                    READOUTS_DONE            1.0   \n",
       "                                                                                    UNCOVERED_OPPTY_VALUE    0.0   \n",
       "                                                                     ASP LUMEN      OFFER_CREATED            0.0   \n",
       "...                                                                                                          ...   \n",
       "TARGETING Operations    EMEAR-REGION  EMEAR_SP      SP_VDF_LG        LIBERTY_GLOBAL UNCOVERED_OPPTY_VALUE    0.0   \n",
       "                                                                     VODAFONE_      OFFER_CREATED            0.0   \n",
       "                                                                                    OPPTY_STG1_CREATED       0.0   \n",
       "                                                                                    READOUTS_DONE            0.0   \n",
       "                                                                                    UNCOVERED_OPPTY_VALUE    0.0   \n",
       "\n",
       "Report FY                                                                                                         \\\n",
       "Report FQ                                                                                                          \n",
       "Value Type                                                                                                Target   \n",
       "Method    Measure Group Sales Level 1 Sales Level 2 Sales Level 3    Sales Level 4  Measure                        \n",
       "FIELD     Operations    AMERICAS      AMERICAS_SP   ASP TELCO MOBILE ASP AMW        OFFER_CREATED            0.0   \n",
       "                                                                                    OPPTY_STG1_CREATED       0.0   \n",
       "                                                                                    READOUTS_DONE            0.0   \n",
       "                                                                                    UNCOVERED_OPPTY_VALUE    0.0   \n",
       "                                                                     ASP LUMEN      OFFER_CREATED            0.0   \n",
       "...                                                                                                          ...   \n",
       "TARGETING Operations    EMEAR-REGION  EMEAR_SP      SP_VDF_LG        LIBERTY_GLOBAL UNCOVERED_OPPTY_VALUE    0.0   \n",
       "                                                                     VODAFONE_      OFFER_CREATED            0.0   \n",
       "                                                                                    OPPTY_STG1_CREATED       0.0   \n",
       "                                                                                    READOUTS_DONE            0.0   \n",
       "                                                                                    UNCOVERED_OPPTY_VALUE    0.0   \n",
       "\n",
       "Report FY                                                                                                         \\\n",
       "Report FQ                                                                                                     Q2   \n",
       "Value Type                                                                                                Actual   \n",
       "Method    Measure Group Sales Level 1 Sales Level 2 Sales Level 3    Sales Level 4  Measure                        \n",
       "FIELD     Operations    AMERICAS      AMERICAS_SP   ASP TELCO MOBILE ASP AMW        OFFER_CREATED            0.0   \n",
       "                                                                                    OPPTY_STG1_CREATED       0.0   \n",
       "                                                                                    READOUTS_DONE            0.0   \n",
       "                                                                                    UNCOVERED_OPPTY_VALUE    0.0   \n",
       "                                                                     ASP LUMEN      OFFER_CREATED            0.0   \n",
       "...                                                                                                          ...   \n",
       "TARGETING Operations    EMEAR-REGION  EMEAR_SP      SP_VDF_LG        LIBERTY_GLOBAL UNCOVERED_OPPTY_VALUE    0.0   \n",
       "                                                                     VODAFONE_      OFFER_CREATED            0.0   \n",
       "                                                                                    OPPTY_STG1_CREATED       1.0   \n",
       "                                                                                    READOUTS_DONE            0.0   \n",
       "                                                                                    UNCOVERED_OPPTY_VALUE    0.0   \n",
       "\n",
       "Report FY                                                                                                         \\\n",
       "Report FQ                                                                                                          \n",
       "Value Type                                                                                                Target   \n",
       "Method    Measure Group Sales Level 1 Sales Level 2 Sales Level 3    Sales Level 4  Measure                        \n",
       "FIELD     Operations    AMERICAS      AMERICAS_SP   ASP TELCO MOBILE ASP AMW        OFFER_CREATED            0.0   \n",
       "                                                                                    OPPTY_STG1_CREATED       0.0   \n",
       "                                                                                    READOUTS_DONE            0.0   \n",
       "                                                                                    UNCOVERED_OPPTY_VALUE    0.0   \n",
       "                                                                     ASP LUMEN      OFFER_CREATED            0.0   \n",
       "...                                                                                                          ...   \n",
       "TARGETING Operations    EMEAR-REGION  EMEAR_SP      SP_VDF_LG        LIBERTY_GLOBAL UNCOVERED_OPPTY_VALUE    0.0   \n",
       "                                                                     VODAFONE_      OFFER_CREATED            0.0   \n",
       "                                                                                    OPPTY_STG1_CREATED       0.0   \n",
       "                                                                                    READOUTS_DONE            0.0   \n",
       "                                                                                    UNCOVERED_OPPTY_VALUE    0.0   \n",
       "\n",
       "Report FY                                                                                                         \\\n",
       "Report FQ                                                                                                     Q3   \n",
       "Value Type                                                                                                Actual   \n",
       "Method    Measure Group Sales Level 1 Sales Level 2 Sales Level 3    Sales Level 4  Measure                        \n",
       "FIELD     Operations    AMERICAS      AMERICAS_SP   ASP TELCO MOBILE ASP AMW        OFFER_CREATED            0.0   \n",
       "                                                                                    OPPTY_STG1_CREATED       0.0   \n",
       "                                                                                    READOUTS_DONE            0.0   \n",
       "                                                                                    UNCOVERED_OPPTY_VALUE    0.0   \n",
       "                                                                     ASP LUMEN      OFFER_CREATED            0.0   \n",
       "...                                                                                                          ...   \n",
       "TARGETING Operations    EMEAR-REGION  EMEAR_SP      SP_VDF_LG        LIBERTY_GLOBAL UNCOVERED_OPPTY_VALUE    0.0   \n",
       "                                                                     VODAFONE_      OFFER_CREATED            0.0   \n",
       "                                                                                    OPPTY_STG1_CREATED       0.0   \n",
       "                                                                                    READOUTS_DONE            0.0   \n",
       "                                                                                    UNCOVERED_OPPTY_VALUE    0.0   \n",
       "\n",
       "Report FY                                                                                                         \\\n",
       "Report FQ                                                                                                          \n",
       "Value Type                                                                                                Target   \n",
       "Method    Measure Group Sales Level 1 Sales Level 2 Sales Level 3    Sales Level 4  Measure                        \n",
       "FIELD     Operations    AMERICAS      AMERICAS_SP   ASP TELCO MOBILE ASP AMW        OFFER_CREATED            0.0   \n",
       "                                                                                    OPPTY_STG1_CREATED       0.0   \n",
       "                                                                                    READOUTS_DONE            0.0   \n",
       "                                                                                    UNCOVERED_OPPTY_VALUE    0.0   \n",
       "                                                                     ASP LUMEN      OFFER_CREATED            0.0   \n",
       "...                                                                                                          ...   \n",
       "TARGETING Operations    EMEAR-REGION  EMEAR_SP      SP_VDF_LG        LIBERTY_GLOBAL UNCOVERED_OPPTY_VALUE    0.0   \n",
       "                                                                     VODAFONE_      OFFER_CREATED            0.0   \n",
       "                                                                                    OPPTY_STG1_CREATED       0.0   \n",
       "                                                                                    READOUTS_DONE            0.0   \n",
       "                                                                                    UNCOVERED_OPPTY_VALUE    0.0   \n",
       "\n",
       "Report FY                                                                                                         \\\n",
       "Report FQ                                                                                                     Q4   \n",
       "Value Type                                                                                                Actual   \n",
       "Method    Measure Group Sales Level 1 Sales Level 2 Sales Level 3    Sales Level 4  Measure                        \n",
       "FIELD     Operations    AMERICAS      AMERICAS_SP   ASP TELCO MOBILE ASP AMW        OFFER_CREATED            0.0   \n",
       "                                                                                    OPPTY_STG1_CREATED       0.0   \n",
       "                                                                                    READOUTS_DONE            0.0   \n",
       "                                                                                    UNCOVERED_OPPTY_VALUE    0.0   \n",
       "                                                                     ASP LUMEN      OFFER_CREATED            0.0   \n",
       "...                                                                                                          ...   \n",
       "TARGETING Operations    EMEAR-REGION  EMEAR_SP      SP_VDF_LG        LIBERTY_GLOBAL UNCOVERED_OPPTY_VALUE    0.0   \n",
       "                                                                     VODAFONE_      OFFER_CREATED            0.0   \n",
       "                                                                                    OPPTY_STG1_CREATED       0.0   \n",
       "                                                                                    READOUTS_DONE            0.0   \n",
       "                                                                                    UNCOVERED_OPPTY_VALUE    0.0   \n",
       "\n",
       "Report FY                                                                                                         \n",
       "Report FQ                                                                                                         \n",
       "Value Type                                                                                                Target  \n",
       "Method    Measure Group Sales Level 1 Sales Level 2 Sales Level 3    Sales Level 4  Measure                       \n",
       "FIELD     Operations    AMERICAS      AMERICAS_SP   ASP TELCO MOBILE ASP AMW        OFFER_CREATED            0.0  \n",
       "                                                                                    OPPTY_STG1_CREATED       0.0  \n",
       "                                                                                    READOUTS_DONE            0.0  \n",
       "                                                                                    UNCOVERED_OPPTY_VALUE    0.0  \n",
       "                                                                     ASP LUMEN      OFFER_CREATED            0.0  \n",
       "...                                                                                                          ...  \n",
       "TARGETING Operations    EMEAR-REGION  EMEAR_SP      SP_VDF_LG        LIBERTY_GLOBAL UNCOVERED_OPPTY_VALUE    0.0  \n",
       "                                                                     VODAFONE_      OFFER_CREATED            0.0  \n",
       "                                                                                    OPPTY_STG1_CREATED       0.0  \n",
       "                                                                                    READOUTS_DONE            0.0  \n",
       "                                                                                    UNCOVERED_OPPTY_VALUE    0.0  \n",
       "\n",
       "[6352 rows x 8 columns]"
      ]
     },
     "execution_count": 342,
     "metadata": {},
     "output_type": "execute_result"
    }
   ],
   "source": [
    "opp_flow_dash.pivot_table(index=['Method','Measure Group', 'Sales Level 1','Sales Level 2','Sales Level 3','Sales Level 4','Measure'], columns=['Report FY','Report FQ','Value Type'], values='Value', aggfunc='sum', margins=False).fillna(0.0)"
   ]
  },
  {
   "cell_type": "code",
   "execution_count": 343,
   "metadata": {},
   "outputs": [],
   "source": [
    "# opp_flow_dash = pd.concat([opp_flow_dash, sub_bookings]).fillna(0.0)"
   ]
  },
  {
   "cell_type": "code",
   "execution_count": 344,
   "metadata": {},
   "outputs": [
    {
     "name": "stdout",
     "output_type": "stream",
     "text": [
      "<class 'pandas.core.frame.DataFrame'>\n",
      "Int64Index: 61562 entries, 0 to 797\n",
      "Data columns (total 15 columns):\n",
      " #   Column         Non-Null Count  Dtype  \n",
      "---  ------         --------------  -----  \n",
      " 0   Method         61562 non-null  object \n",
      " 1   Measure Group  61562 non-null  object \n",
      " 2   Campaign       61562 non-null  object \n",
      " 3   Campaign Type  61562 non-null  object \n",
      " 4   Customer Name  61562 non-null  object \n",
      " 5   Sales Level 1  61562 non-null  object \n",
      " 6   Sales Level 2  61562 non-null  object \n",
      " 7   Sales Level 3  61562 non-null  object \n",
      " 8   Sales Level 4  61562 non-null  object \n",
      " 9   Offer Focus    61562 non-null  object \n",
      " 10  Value Type     61562 non-null  object \n",
      " 11  Report FY      61562 non-null  object \n",
      " 12  Report FQ      61562 non-null  object \n",
      " 13  Measure        61562 non-null  object \n",
      " 14  Value          61562 non-null  float64\n",
      "dtypes: float64(1), object(14)\n",
      "memory usage: 7.5+ MB\n"
     ]
    }
   ],
   "source": [
    "opp_flow_dash.info()"
   ]
  },
  {
   "cell_type": "code",
   "execution_count": 345,
   "metadata": {},
   "outputs": [],
   "source": [
    "c1 = opp_flow_dash.pivot_table(index=['Method','Measure Group', 'Campaign Type','Campaign','Customer Name','Offer Focus','Sales Level 1','Sales Level 2','Sales Level 3','Sales Level 4','Measure','Report FY','Report FQ',], columns=['Value Type'], values='Value', aggfunc='sum', margins=False).fillna(0.0)  #(opp_flow_dash['Measure SubGroup'].str.contains('operations', na=False, case=False)) & "
   ]
  },
  {
   "cell_type": "code",
   "execution_count": 346,
   "metadata": {},
   "outputs": [],
   "source": [
    "c1.reset_index(inplace=True)"
   ]
  },
  {
   "cell_type": "code",
   "execution_count": 347,
   "metadata": {},
   "outputs": [
    {
     "data": {
      "text/plain": [
       "array(['ANY', 'SNTC', 'BCS', 'ST'], dtype=object)"
      ]
     },
     "execution_count": 347,
     "metadata": {},
     "output_type": "execute_result"
    }
   ],
   "source": [
    "c1.loc[c1['Measure Group'].str.contains('operat', na=False, case=False)]['Offer Focus'].unique()"
   ]
  },
  {
   "cell_type": "code",
   "execution_count": 348,
   "metadata": {},
   "outputs": [],
   "source": [
    "c1.to_excel(r'C:\\Users\\phsheari\\Documents\\Compass Tableau Data\\Opp_Flow_Dashboard.xlsx', sheet_name = 'OpportunityFlow' , index=False)"
   ]
  },
  {
   "cell_type": "code",
   "execution_count": 349,
   "metadata": {},
   "outputs": [
    {
     "data": {
      "text/plain": [
       "array(['OFFER_CREATED', 'OPPTY_STG1_CREATED', 'READOUTS_DONE',\n",
       "       'UNCOVERED_OPPTY_VALUE', 'Incr ARR $(000s)'], dtype=object)"
      ]
     },
     "execution_count": 349,
     "metadata": {},
     "output_type": "execute_result"
    }
   ],
   "source": [
    "c1['Measure'].unique()"
   ]
  },
  {
   "cell_type": "code",
   "execution_count": 350,
   "metadata": {},
   "outputs": [
    {
     "data": {
      "text/html": [
       "<div>\n",
       "<style scoped>\n",
       "    .dataframe tbody tr th:only-of-type {\n",
       "        vertical-align: middle;\n",
       "    }\n",
       "\n",
       "    .dataframe tbody tr th {\n",
       "        vertical-align: top;\n",
       "    }\n",
       "\n",
       "    .dataframe thead th {\n",
       "        text-align: right;\n",
       "    }\n",
       "</style>\n",
       "<table border=\"1\" class=\"dataframe\">\n",
       "  <thead>\n",
       "    <tr style=\"text-align: right;\">\n",
       "      <th>Value Type</th>\n",
       "      <th>Method</th>\n",
       "      <th>Measure Group</th>\n",
       "      <th>Campaign Type</th>\n",
       "      <th>Campaign</th>\n",
       "      <th>Customer Name</th>\n",
       "      <th>Offer Focus</th>\n",
       "      <th>Sales Level 1</th>\n",
       "      <th>Sales Level 2</th>\n",
       "      <th>Sales Level 3</th>\n",
       "      <th>Sales Level 4</th>\n",
       "      <th>Measure</th>\n",
       "      <th>Report FY</th>\n",
       "      <th>Report FQ</th>\n",
       "      <th>Actual</th>\n",
       "      <th>Target</th>\n",
       "    </tr>\n",
       "  </thead>\n",
       "  <tbody>\n",
       "    <tr>\n",
       "      <th>9222</th>\n",
       "      <td>M1 (Coverage Program)</td>\n",
       "      <td>Operations</td>\n",
       "      <td>FIELD</td>\n",
       "      <td>REACTIVE</td>\n",
       "      <td>(SAPS) – SOUTH AFRICAN POLICE SERVICES</td>\n",
       "      <td>ANY</td>\n",
       "      <td>EMEAR-REGION</td>\n",
       "      <td>EMEAR_MEA</td>\n",
       "      <td>CLUSTER_SSA</td>\n",
       "      <td>COUNTRY_ZAF</td>\n",
       "      <td>READOUTS_DONE</td>\n",
       "      <td>2022</td>\n",
       "      <td>Q2</td>\n",
       "      <td>1.0</td>\n",
       "      <td>0.0</td>\n",
       "    </tr>\n",
       "    <tr>\n",
       "      <th>9226</th>\n",
       "      <td>M1 (Coverage Program)</td>\n",
       "      <td>Operations</td>\n",
       "      <td>FIELD</td>\n",
       "      <td>REACTIVE</td>\n",
       "      <td>(SARS) SOUTH AFRICAN RESERVE SERVICES</td>\n",
       "      <td>ANY</td>\n",
       "      <td>EMEAR-REGION</td>\n",
       "      <td>EMEAR_MEA</td>\n",
       "      <td>SMALL_MEA</td>\n",
       "      <td>SMALL_SSA</td>\n",
       "      <td>READOUTS_DONE</td>\n",
       "      <td>2022</td>\n",
       "      <td>Q2</td>\n",
       "      <td>1.0</td>\n",
       "      <td>0.0</td>\n",
       "    </tr>\n",
       "    <tr>\n",
       "      <th>9230</th>\n",
       "      <td>M1 (Coverage Program)</td>\n",
       "      <td>Operations</td>\n",
       "      <td>FIELD</td>\n",
       "      <td>REACTIVE</td>\n",
       "      <td>ABSA GROUP</td>\n",
       "      <td>ANY</td>\n",
       "      <td>EMEAR-REGION</td>\n",
       "      <td>EMEAR_MEA</td>\n",
       "      <td>CLUSTER_SSA</td>\n",
       "      <td>COUNTRY_ZAF</td>\n",
       "      <td>READOUTS_DONE</td>\n",
       "      <td>2022</td>\n",
       "      <td>Q2</td>\n",
       "      <td>1.0</td>\n",
       "      <td>0.0</td>\n",
       "    </tr>\n",
       "    <tr>\n",
       "      <th>9234</th>\n",
       "      <td>M1 (Coverage Program)</td>\n",
       "      <td>Operations</td>\n",
       "      <td>FIELD</td>\n",
       "      <td>REACTIVE</td>\n",
       "      <td>ABU DHABI ISLAMIC BANK ADIB</td>\n",
       "      <td>ANY</td>\n",
       "      <td>EMEAR-REGION</td>\n",
       "      <td>EMEAR_MEA</td>\n",
       "      <td>CLUSTER_GULF</td>\n",
       "      <td>COUNTRY_ARE</td>\n",
       "      <td>READOUTS_DONE</td>\n",
       "      <td>2022</td>\n",
       "      <td>Q2</td>\n",
       "      <td>1.0</td>\n",
       "      <td>0.0</td>\n",
       "    </tr>\n",
       "    <tr>\n",
       "      <th>9238</th>\n",
       "      <td>M1 (Coverage Program)</td>\n",
       "      <td>Operations</td>\n",
       "      <td>FIELD</td>\n",
       "      <td>REACTIVE</td>\n",
       "      <td>ADCB</td>\n",
       "      <td>ANY</td>\n",
       "      <td>EMEAR-REGION</td>\n",
       "      <td>EMEAR_MEA</td>\n",
       "      <td>CLUSTER_GULF</td>\n",
       "      <td>COUNTRY_ARE</td>\n",
       "      <td>READOUTS_DONE</td>\n",
       "      <td>2022</td>\n",
       "      <td>Q2</td>\n",
       "      <td>1.0</td>\n",
       "      <td>0.0</td>\n",
       "    </tr>\n",
       "    <tr>\n",
       "      <th>...</th>\n",
       "      <td>...</td>\n",
       "      <td>...</td>\n",
       "      <td>...</td>\n",
       "      <td>...</td>\n",
       "      <td>...</td>\n",
       "      <td>...</td>\n",
       "      <td>...</td>\n",
       "      <td>...</td>\n",
       "      <td>...</td>\n",
       "      <td>...</td>\n",
       "      <td>...</td>\n",
       "      <td>...</td>\n",
       "      <td>...</td>\n",
       "      <td>...</td>\n",
       "      <td>...</td>\n",
       "    </tr>\n",
       "    <tr>\n",
       "      <th>24258</th>\n",
       "      <td>M1 (Coverage Program)</td>\n",
       "      <td>Operations</td>\n",
       "      <td>TELEMETRY</td>\n",
       "      <td>COVERAGE PROGRAM - TELEMETRY</td>\n",
       "      <td>ZENTIS FOOD SOLUTIONS NORTH AMERICA LLC</td>\n",
       "      <td>SNTC</td>\n",
       "      <td>AMERICAS</td>\n",
       "      <td>US COMMERCIAL</td>\n",
       "      <td>COMMERCIAL CENTRAL AREA</td>\n",
       "      <td>HEARTLAND-GULF COMMERCIAL OPERATION</td>\n",
       "      <td>READOUTS_DONE</td>\n",
       "      <td>2022</td>\n",
       "      <td>Q2</td>\n",
       "      <td>1.0</td>\n",
       "      <td>0.0</td>\n",
       "    </tr>\n",
       "    <tr>\n",
       "      <th>24262</th>\n",
       "      <td>M1 (Coverage Program)</td>\n",
       "      <td>Operations</td>\n",
       "      <td>TELEMETRY</td>\n",
       "      <td>COVERAGE PROGRAM - TELEMETRY</td>\n",
       "      <td>ZETEC INC</td>\n",
       "      <td>SNTC</td>\n",
       "      <td>AMERICAS</td>\n",
       "      <td>US COMMERCIAL</td>\n",
       "      <td>COMMERCIAL WEST AREA</td>\n",
       "      <td>UNION PACIFIC COMMERCIAL OPERATION</td>\n",
       "      <td>READOUTS_DONE</td>\n",
       "      <td>2022</td>\n",
       "      <td>Q2</td>\n",
       "      <td>0.0</td>\n",
       "      <td>0.0</td>\n",
       "    </tr>\n",
       "    <tr>\n",
       "      <th>24266</th>\n",
       "      <td>M1 (Coverage Program)</td>\n",
       "      <td>Operations</td>\n",
       "      <td>TELEMETRY</td>\n",
       "      <td>COVERAGE PROGRAM - TELEMETRY</td>\n",
       "      <td>ZIFF BROTHERS</td>\n",
       "      <td>SNTC</td>\n",
       "      <td>AMERICAS</td>\n",
       "      <td>US COMMERCIAL</td>\n",
       "      <td>COMMERCIAL EAST AREA</td>\n",
       "      <td>TRI-STATE COMMERCIAL OPERATION</td>\n",
       "      <td>READOUTS_DONE</td>\n",
       "      <td>2022</td>\n",
       "      <td>Q2</td>\n",
       "      <td>0.0</td>\n",
       "      <td>0.0</td>\n",
       "    </tr>\n",
       "    <tr>\n",
       "      <th>24274</th>\n",
       "      <td>M1 (Coverage Program)</td>\n",
       "      <td>Operations</td>\n",
       "      <td>TELEMETRY</td>\n",
       "      <td>COVERAGE PROGRAM - TELEMETRY</td>\n",
       "      <td>ZOLL MEDICAL CORPORATION-BMT</td>\n",
       "      <td>SNTC</td>\n",
       "      <td>AMERICAS</td>\n",
       "      <td>US COMMERCIAL</td>\n",
       "      <td>COMMERCIAL EAST AREA</td>\n",
       "      <td>NORTH EAST COMMERCIAL OPERATION</td>\n",
       "      <td>READOUTS_DONE</td>\n",
       "      <td>2022</td>\n",
       "      <td>Q2</td>\n",
       "      <td>0.0</td>\n",
       "      <td>0.0</td>\n",
       "    </tr>\n",
       "    <tr>\n",
       "      <th>24278</th>\n",
       "      <td>M1 (Coverage Program)</td>\n",
       "      <td>Operations</td>\n",
       "      <td>TELEMETRY</td>\n",
       "      <td>COVERAGE PROGRAM - TELEMETRY</td>\n",
       "      <td>ZUCKERMAN SPAEDER LLP</td>\n",
       "      <td>SNTC</td>\n",
       "      <td>AMERICAS</td>\n",
       "      <td>US COMMERCIAL</td>\n",
       "      <td>COMMERCIAL EAST AREA</td>\n",
       "      <td>NORTH EAST COMMERCIAL OPERATION</td>\n",
       "      <td>READOUTS_DONE</td>\n",
       "      <td>2022</td>\n",
       "      <td>Q2</td>\n",
       "      <td>0.0</td>\n",
       "      <td>0.0</td>\n",
       "    </tr>\n",
       "  </tbody>\n",
       "</table>\n",
       "<p>2249 rows × 15 columns</p>\n",
       "</div>"
      ],
      "text/plain": [
       "Value Type                 Method Measure Group Campaign Type  \\\n",
       "9222        M1 (Coverage Program)    Operations         FIELD   \n",
       "9226        M1 (Coverage Program)    Operations         FIELD   \n",
       "9230        M1 (Coverage Program)    Operations         FIELD   \n",
       "9234        M1 (Coverage Program)    Operations         FIELD   \n",
       "9238        M1 (Coverage Program)    Operations         FIELD   \n",
       "...                           ...           ...           ...   \n",
       "24258       M1 (Coverage Program)    Operations     TELEMETRY   \n",
       "24262       M1 (Coverage Program)    Operations     TELEMETRY   \n",
       "24266       M1 (Coverage Program)    Operations     TELEMETRY   \n",
       "24274       M1 (Coverage Program)    Operations     TELEMETRY   \n",
       "24278       M1 (Coverage Program)    Operations     TELEMETRY   \n",
       "\n",
       "Value Type                      Campaign  \\\n",
       "9222                            REACTIVE   \n",
       "9226                            REACTIVE   \n",
       "9230                            REACTIVE   \n",
       "9234                            REACTIVE   \n",
       "9238                            REACTIVE   \n",
       "...                                  ...   \n",
       "24258       COVERAGE PROGRAM - TELEMETRY   \n",
       "24262       COVERAGE PROGRAM - TELEMETRY   \n",
       "24266       COVERAGE PROGRAM - TELEMETRY   \n",
       "24274       COVERAGE PROGRAM - TELEMETRY   \n",
       "24278       COVERAGE PROGRAM - TELEMETRY   \n",
       "\n",
       "Value Type                            Customer Name Offer Focus Sales Level 1  \\\n",
       "9222         (SAPS) – SOUTH AFRICAN POLICE SERVICES         ANY  EMEAR-REGION   \n",
       "9226          (SARS) SOUTH AFRICAN RESERVE SERVICES         ANY  EMEAR-REGION   \n",
       "9230                                     ABSA GROUP         ANY  EMEAR-REGION   \n",
       "9234                    ABU DHABI ISLAMIC BANK ADIB         ANY  EMEAR-REGION   \n",
       "9238                                           ADCB         ANY  EMEAR-REGION   \n",
       "...                                             ...         ...           ...   \n",
       "24258       ZENTIS FOOD SOLUTIONS NORTH AMERICA LLC        SNTC      AMERICAS   \n",
       "24262                                     ZETEC INC        SNTC      AMERICAS   \n",
       "24266                                 ZIFF BROTHERS        SNTC      AMERICAS   \n",
       "24274                  ZOLL MEDICAL CORPORATION-BMT        SNTC      AMERICAS   \n",
       "24278                         ZUCKERMAN SPAEDER LLP        SNTC      AMERICAS   \n",
       "\n",
       "Value Type  Sales Level 2            Sales Level 3  \\\n",
       "9222            EMEAR_MEA              CLUSTER_SSA   \n",
       "9226            EMEAR_MEA                SMALL_MEA   \n",
       "9230            EMEAR_MEA              CLUSTER_SSA   \n",
       "9234            EMEAR_MEA             CLUSTER_GULF   \n",
       "9238            EMEAR_MEA             CLUSTER_GULF   \n",
       "...                   ...                      ...   \n",
       "24258       US COMMERCIAL  COMMERCIAL CENTRAL AREA   \n",
       "24262       US COMMERCIAL     COMMERCIAL WEST AREA   \n",
       "24266       US COMMERCIAL     COMMERCIAL EAST AREA   \n",
       "24274       US COMMERCIAL     COMMERCIAL EAST AREA   \n",
       "24278       US COMMERCIAL     COMMERCIAL EAST AREA   \n",
       "\n",
       "Value Type                        Sales Level 4        Measure Report FY  \\\n",
       "9222                                COUNTRY_ZAF  READOUTS_DONE      2022   \n",
       "9226                                  SMALL_SSA  READOUTS_DONE      2022   \n",
       "9230                                COUNTRY_ZAF  READOUTS_DONE      2022   \n",
       "9234                                COUNTRY_ARE  READOUTS_DONE      2022   \n",
       "9238                                COUNTRY_ARE  READOUTS_DONE      2022   \n",
       "...                                         ...            ...       ...   \n",
       "24258       HEARTLAND-GULF COMMERCIAL OPERATION  READOUTS_DONE      2022   \n",
       "24262        UNION PACIFIC COMMERCIAL OPERATION  READOUTS_DONE      2022   \n",
       "24266            TRI-STATE COMMERCIAL OPERATION  READOUTS_DONE      2022   \n",
       "24274           NORTH EAST COMMERCIAL OPERATION  READOUTS_DONE      2022   \n",
       "24278           NORTH EAST COMMERCIAL OPERATION  READOUTS_DONE      2022   \n",
       "\n",
       "Value Type Report FQ  Actual  Target  \n",
       "9222              Q2     1.0     0.0  \n",
       "9226              Q2     1.0     0.0  \n",
       "9230              Q2     1.0     0.0  \n",
       "9234              Q2     1.0     0.0  \n",
       "9238              Q2     1.0     0.0  \n",
       "...              ...     ...     ...  \n",
       "24258             Q2     1.0     0.0  \n",
       "24262             Q2     0.0     0.0  \n",
       "24266             Q2     0.0     0.0  \n",
       "24274             Q2     0.0     0.0  \n",
       "24278             Q2     0.0     0.0  \n",
       "\n",
       "[2249 rows x 15 columns]"
      ]
     },
     "execution_count": 350,
     "metadata": {},
     "output_type": "execute_result"
    }
   ],
   "source": [
    "c1.loc[(c1['Measure']=='READOUTS_DONE') & (c1['Method'].str.contains('M1 \\(Coverage')) & (c1['Report FQ']=='Q2')]"
   ]
  },
  {
   "cell_type": "markdown",
   "metadata": {},
   "source": [
    "### Add Measure Group, Measure SubGroup, Offer Focus, to bookings in order to create a table like the agg_report which can be vertically stacked with the Target file data"
   ]
  },
  {
   "cell_type": "code",
   "execution_count": 351,
   "metadata": {},
   "outputs": [
    {
     "data": {
      "text/plain": [
       "0        Operations\n",
       "1        Operations\n",
       "2        Operations\n",
       "3        Operations\n",
       "4        Operations\n",
       "           ...     \n",
       "793    Bookings-New\n",
       "794    Bookings-New\n",
       "795    Bookings-New\n",
       "796    Bookings-New\n",
       "797    Bookings-New\n",
       "Name: Measure Group, Length: 61178, dtype: object"
      ]
     },
     "execution_count": 351,
     "metadata": {},
     "output_type": "execute_result"
    }
   ],
   "source": [
    "opp_flow_dash.loc[opp_flow_dash['Value Type']=='Actual']['Measure Group'] #.unique()"
   ]
  },
  {
   "cell_type": "code",
   "execution_count": 352,
   "metadata": {},
   "outputs": [],
   "source": [
    "# df[['Request ID','Created Date','Customer Name','Campaign','Alert Below 25', 'Requester Name','Requester Function','SSP','Distribution List','RR_internal', 'SAV ID', \n",
    "#     'Compass Advisor', 'Customer Identifier','Deal ID','Declined Reason','Email Sent to SSX','Method','Measure Group','Readout Date','Next Steps', 'Items Recommended',\n",
    "#     'LPM Plus Assigned','LPM Plus Engaged','LPM Plus Scheduled','LPM Plus Unassigned','LPM Readouts Declined','LPM Readouts Done',\n",
    "#     'Offer Created','Oppty Stg1 Created','Readouts Done','SNTC Estimate','Uncovered Oppty Value','Partner Name','Readout Date',\n",
    "#     'Readout Delivery Status', 'Report FY','Report FQ','Sales Level 1','Sales Level 2','Sales Level 3', 'Sales Level 4','WORKING STATUS']]"
   ]
  },
  {
   "cell_type": "code",
   "execution_count": 353,
   "metadata": {},
   "outputs": [],
   "source": [
    "# Done"
   ]
  },
  {
   "cell_type": "code",
   "execution_count": 354,
   "metadata": {},
   "outputs": [],
   "source": [
    "# ['OPPTY_STG1_CREATED','DATA_PACKAGE_CREATED','READOUTS_DONE','OFFER_CREATED']"
   ]
  },
  {
   "cell_type": "code",
   "execution_count": 355,
   "metadata": {},
   "outputs": [
    {
     "name": "stderr",
     "output_type": "stream",
     "text": [
      "C:\\Users\\phsheari\\.conda\\envs\\compass_env\\lib\\site-packages\\xlsxwriter\\worksheet.py:986: UserWarning: Ignoring URL 'https://cx-tableau-stage.cisco.com/' since it exceeds Excel's limit of 65,530 URLS per worksheet.\n",
      "  warn(\"Ignoring URL '%s' since it exceeds Excel's limit of \"\n"
     ]
    }
   ],
   "source": [
    "df.to_pickle(excel_file_path_sfdc_version)\n",
    "df.to_excel(excel_file_path_tracker,sheet_name='TrackerData_' + today_file, index=False)\n",
    "df.to_excel(excel_file_path_tableau,sheet_name='TableauData_' + today_file, index=False)"
   ]
  },
  {
   "cell_type": "code",
   "execution_count": 356,
   "metadata": {},
   "outputs": [
    {
     "name": "stdout",
     "output_type": "stream",
     "text": [
      "0:00:11.350142\n"
     ]
    }
   ],
   "source": [
    "finish = dt.datetime.now()\n",
    "elapsed = (finish - start)\n",
    "print(elapsed/60.0)"
   ]
  },
  {
   "cell_type": "code",
   "execution_count": 357,
   "metadata": {},
   "outputs": [
    {
     "data": {
      "text/html": [
       "<div>\n",
       "<style scoped>\n",
       "    .dataframe tbody tr th:only-of-type {\n",
       "        vertical-align: middle;\n",
       "    }\n",
       "\n",
       "    .dataframe tbody tr th {\n",
       "        vertical-align: top;\n",
       "    }\n",
       "\n",
       "    .dataframe thead th {\n",
       "        text-align: right;\n",
       "    }\n",
       "</style>\n",
       "<table border=\"1\" class=\"dataframe\">\n",
       "  <thead>\n",
       "    <tr style=\"text-align: right;\">\n",
       "      <th></th>\n",
       "      <th>Request ID</th>\n",
       "      <th>Create Date</th>\n",
       "      <th>Created By</th>\n",
       "      <th>Request Type</th>\n",
       "      <th>Modified</th>\n",
       "      <th>Modified By</th>\n",
       "      <th>Date Completed</th>\n",
       "      <th>TARGET_REQUEST_ID</th>\n",
       "      <th>LAST_UPDATED</th>\n",
       "      <th>QA Approve</th>\n",
       "      <th>...</th>\n",
       "      <th>RRT_LPM+</th>\n",
       "      <th>LPM_OFFERS</th>\n",
       "      <th>Method</th>\n",
       "      <th>Measure Group</th>\n",
       "      <th>Offer Focus</th>\n",
       "      <th>Value Type</th>\n",
       "      <th>Report FY</th>\n",
       "      <th>Report FQ</th>\n",
       "      <th>Injection Month</th>\n",
       "      <th>Injection Quarter</th>\n",
       "    </tr>\n",
       "  </thead>\n",
       "  <tbody>\n",
       "    <tr>\n",
       "      <th>0</th>\n",
       "      <td>112652</td>\n",
       "      <td>2022-02-17</td>\n",
       "      <td>gschribe@cisco.com</td>\n",
       "      <td>Reactive</td>\n",
       "      <td>2022-03-03</td>\n",
       "      <td>sansampa@cisco.com</td>\n",
       "      <td>2022-02-24</td>\n",
       "      <td>NaN</td>\n",
       "      <td>2022-03-03 18:03 PM Eastern</td>\n",
       "      <td>False</td>\n",
       "      <td>...</td>\n",
       "      <td>0</td>\n",
       "      <td>0</td>\n",
       "      <td>FIELD</td>\n",
       "      <td>Operations</td>\n",
       "      <td>ANY</td>\n",
       "      <td>Actual</td>\n",
       "      <td>2022</td>\n",
       "      <td>Q3</td>\n",
       "      <td>202207</td>\n",
       "      <td>2022-Q3</td>\n",
       "    </tr>\n",
       "    <tr>\n",
       "      <th>1</th>\n",
       "      <td>111949</td>\n",
       "      <td>2022-02-07</td>\n",
       "      <td>ngulahme@cisco.com</td>\n",
       "      <td>Reactive</td>\n",
       "      <td>2022-02-16</td>\n",
       "      <td>vevangel@cisco.com</td>\n",
       "      <td>2022-02-09</td>\n",
       "      <td>NaN</td>\n",
       "      <td>2022-03-03 18:03 PM Eastern</td>\n",
       "      <td>False</td>\n",
       "      <td>...</td>\n",
       "      <td>0</td>\n",
       "      <td>0</td>\n",
       "      <td>FIELD</td>\n",
       "      <td>Operations</td>\n",
       "      <td>ANY</td>\n",
       "      <td>Actual</td>\n",
       "      <td>2022</td>\n",
       "      <td>Q3</td>\n",
       "      <td>202207</td>\n",
       "      <td>2022-Q3</td>\n",
       "    </tr>\n",
       "    <tr>\n",
       "      <th>2</th>\n",
       "      <td>111948</td>\n",
       "      <td>2022-02-07</td>\n",
       "      <td>macoup@cisco.com</td>\n",
       "      <td>Reactive</td>\n",
       "      <td>2022-03-01</td>\n",
       "      <td>macoup@cisco.com</td>\n",
       "      <td>2022-02-09</td>\n",
       "      <td>NaN</td>\n",
       "      <td>2022-03-03 18:03 PM Eastern</td>\n",
       "      <td>False</td>\n",
       "      <td>...</td>\n",
       "      <td>0</td>\n",
       "      <td>0</td>\n",
       "      <td>FIELD</td>\n",
       "      <td>Operations</td>\n",
       "      <td>ANY</td>\n",
       "      <td>Actual</td>\n",
       "      <td>2022</td>\n",
       "      <td>Q3</td>\n",
       "      <td>202207</td>\n",
       "      <td>2022-Q3</td>\n",
       "    </tr>\n",
       "    <tr>\n",
       "      <th>3</th>\n",
       "      <td>111647</td>\n",
       "      <td>2022-01-28</td>\n",
       "      <td>vikantha@cisco.com</td>\n",
       "      <td>Research</td>\n",
       "      <td>2022-02-03</td>\n",
       "      <td>navedeva@cisco.com</td>\n",
       "      <td>2022-02-04</td>\n",
       "      <td>NaN</td>\n",
       "      <td>2022-03-03 18:03 PM Eastern</td>\n",
       "      <td>False</td>\n",
       "      <td>...</td>\n",
       "      <td>0</td>\n",
       "      <td>0</td>\n",
       "      <td>TARGETING</td>\n",
       "      <td>Operations</td>\n",
       "      <td>BCS</td>\n",
       "      <td>Actual</td>\n",
       "      <td>2022</td>\n",
       "      <td>Q2</td>\n",
       "      <td>202206</td>\n",
       "      <td>2022-Q2</td>\n",
       "    </tr>\n",
       "    <tr>\n",
       "      <th>4</th>\n",
       "      <td>111648</td>\n",
       "      <td>2022-01-28</td>\n",
       "      <td>vikantha@cisco.com</td>\n",
       "      <td>Research</td>\n",
       "      <td>2022-02-03</td>\n",
       "      <td>navedeva@cisco.com</td>\n",
       "      <td>2022-02-04</td>\n",
       "      <td>NaN</td>\n",
       "      <td>2022-03-03 18:03 PM Eastern</td>\n",
       "      <td>False</td>\n",
       "      <td>...</td>\n",
       "      <td>0</td>\n",
       "      <td>0</td>\n",
       "      <td>TARGETING</td>\n",
       "      <td>Operations</td>\n",
       "      <td>BCS</td>\n",
       "      <td>Actual</td>\n",
       "      <td>2022</td>\n",
       "      <td>Q2</td>\n",
       "      <td>202206</td>\n",
       "      <td>2022-Q2</td>\n",
       "    </tr>\n",
       "    <tr>\n",
       "      <th>...</th>\n",
       "      <td>...</td>\n",
       "      <td>...</td>\n",
       "      <td>...</td>\n",
       "      <td>...</td>\n",
       "      <td>...</td>\n",
       "      <td>...</td>\n",
       "      <td>...</td>\n",
       "      <td>...</td>\n",
       "      <td>...</td>\n",
       "      <td>...</td>\n",
       "      <td>...</td>\n",
       "      <td>...</td>\n",
       "      <td>...</td>\n",
       "      <td>...</td>\n",
       "      <td>...</td>\n",
       "      <td>...</td>\n",
       "      <td>...</td>\n",
       "      <td>...</td>\n",
       "      <td>...</td>\n",
       "      <td>...</td>\n",
       "      <td>...</td>\n",
       "    </tr>\n",
       "    <tr>\n",
       "      <th>37310</th>\n",
       "      <td>107566</td>\n",
       "      <td>2021-11-24</td>\n",
       "      <td>navedeva@cisco.com</td>\n",
       "      <td>Targeting Campaign</td>\n",
       "      <td>2022-03-01</td>\n",
       "      <td>rosecam@cisco.com</td>\n",
       "      <td>2021-12-06</td>\n",
       "      <td>NaN</td>\n",
       "      <td>2022-03-03 18:03 PM Eastern</td>\n",
       "      <td>False</td>\n",
       "      <td>...</td>\n",
       "      <td>1</td>\n",
       "      <td>1</td>\n",
       "      <td>M1 (Coverage Program)</td>\n",
       "      <td>Operations</td>\n",
       "      <td>ANY</td>\n",
       "      <td>Actual</td>\n",
       "      <td>2022</td>\n",
       "      <td>Q2</td>\n",
       "      <td>202204</td>\n",
       "      <td>2022-Q2</td>\n",
       "    </tr>\n",
       "    <tr>\n",
       "      <th>37311</th>\n",
       "      <td>107567</td>\n",
       "      <td>2021-11-24</td>\n",
       "      <td>navedeva@cisco.com</td>\n",
       "      <td>Targeting Campaign</td>\n",
       "      <td>2022-03-01</td>\n",
       "      <td>rosecam@cisco.com</td>\n",
       "      <td>2021-12-06</td>\n",
       "      <td>NaN</td>\n",
       "      <td>2022-03-03 18:03 PM Eastern</td>\n",
       "      <td>False</td>\n",
       "      <td>...</td>\n",
       "      <td>1</td>\n",
       "      <td>1</td>\n",
       "      <td>M1 (Coverage Program)</td>\n",
       "      <td>Operations</td>\n",
       "      <td>ANY</td>\n",
       "      <td>Actual</td>\n",
       "      <td>2022</td>\n",
       "      <td>Q2</td>\n",
       "      <td>202204</td>\n",
       "      <td>2022-Q2</td>\n",
       "    </tr>\n",
       "    <tr>\n",
       "      <th>37312</th>\n",
       "      <td>107568</td>\n",
       "      <td>2021-11-24</td>\n",
       "      <td>navedeva@cisco.com</td>\n",
       "      <td>Targeting Campaign</td>\n",
       "      <td>2022-03-01</td>\n",
       "      <td>rosecam@cisco.com</td>\n",
       "      <td>2021-12-06</td>\n",
       "      <td>NaN</td>\n",
       "      <td>2022-03-03 18:03 PM Eastern</td>\n",
       "      <td>False</td>\n",
       "      <td>...</td>\n",
       "      <td>1</td>\n",
       "      <td>1</td>\n",
       "      <td>M1 (Coverage Program)</td>\n",
       "      <td>Operations</td>\n",
       "      <td>ANY</td>\n",
       "      <td>Actual</td>\n",
       "      <td>2022</td>\n",
       "      <td>Q2</td>\n",
       "      <td>202204</td>\n",
       "      <td>2022-Q2</td>\n",
       "    </tr>\n",
       "    <tr>\n",
       "      <th>37313</th>\n",
       "      <td>107569</td>\n",
       "      <td>2021-11-24</td>\n",
       "      <td>navedeva@cisco.com</td>\n",
       "      <td>Targeting Campaign</td>\n",
       "      <td>2022-03-01</td>\n",
       "      <td>rosecam@cisco.com</td>\n",
       "      <td>2021-12-06</td>\n",
       "      <td>NaN</td>\n",
       "      <td>2022-03-03 18:03 PM Eastern</td>\n",
       "      <td>False</td>\n",
       "      <td>...</td>\n",
       "      <td>1</td>\n",
       "      <td>1</td>\n",
       "      <td>M1 (Coverage Program)</td>\n",
       "      <td>Operations</td>\n",
       "      <td>ANY</td>\n",
       "      <td>Actual</td>\n",
       "      <td>2022</td>\n",
       "      <td>Q2</td>\n",
       "      <td>202204</td>\n",
       "      <td>2022-Q2</td>\n",
       "    </tr>\n",
       "    <tr>\n",
       "      <th>37314</th>\n",
       "      <td>107570</td>\n",
       "      <td>2021-11-24</td>\n",
       "      <td>navedeva@cisco.com</td>\n",
       "      <td>Targeting Campaign</td>\n",
       "      <td>2022-03-01</td>\n",
       "      <td>rosecam@cisco.com</td>\n",
       "      <td>2021-12-06</td>\n",
       "      <td>NaN</td>\n",
       "      <td>2022-03-03 18:03 PM Eastern</td>\n",
       "      <td>False</td>\n",
       "      <td>...</td>\n",
       "      <td>1</td>\n",
       "      <td>1</td>\n",
       "      <td>M1 (Coverage Program)</td>\n",
       "      <td>Operations</td>\n",
       "      <td>ANY</td>\n",
       "      <td>Actual</td>\n",
       "      <td>2022</td>\n",
       "      <td>Q2</td>\n",
       "      <td>202204</td>\n",
       "      <td>2022-Q2</td>\n",
       "    </tr>\n",
       "  </tbody>\n",
       "</table>\n",
       "<p>37315 rows × 176 columns</p>\n",
       "</div>"
      ],
      "text/plain": [
       "      Request ID Create Date          Created By        Request Type  \\\n",
       "0         112652  2022-02-17  gschribe@cisco.com            Reactive   \n",
       "1         111949  2022-02-07  ngulahme@cisco.com            Reactive   \n",
       "2         111948  2022-02-07    macoup@cisco.com            Reactive   \n",
       "3         111647  2022-01-28  vikantha@cisco.com            Research   \n",
       "4         111648  2022-01-28  vikantha@cisco.com            Research   \n",
       "...          ...         ...                 ...                 ...   \n",
       "37310     107566  2021-11-24  navedeva@cisco.com  Targeting Campaign   \n",
       "37311     107567  2021-11-24  navedeva@cisco.com  Targeting Campaign   \n",
       "37312     107568  2021-11-24  navedeva@cisco.com  Targeting Campaign   \n",
       "37313     107569  2021-11-24  navedeva@cisco.com  Targeting Campaign   \n",
       "37314     107570  2021-11-24  navedeva@cisco.com  Targeting Campaign   \n",
       "\n",
       "        Modified         Modified By Date Completed  TARGET_REQUEST_ID  \\\n",
       "0     2022-03-03  sansampa@cisco.com     2022-02-24                NaN   \n",
       "1     2022-02-16  vevangel@cisco.com     2022-02-09                NaN   \n",
       "2     2022-03-01    macoup@cisco.com     2022-02-09                NaN   \n",
       "3     2022-02-03  navedeva@cisco.com     2022-02-04                NaN   \n",
       "4     2022-02-03  navedeva@cisco.com     2022-02-04                NaN   \n",
       "...          ...                 ...            ...                ...   \n",
       "37310 2022-03-01   rosecam@cisco.com     2021-12-06                NaN   \n",
       "37311 2022-03-01   rosecam@cisco.com     2021-12-06                NaN   \n",
       "37312 2022-03-01   rosecam@cisco.com     2021-12-06                NaN   \n",
       "37313 2022-03-01   rosecam@cisco.com     2021-12-06                NaN   \n",
       "37314 2022-03-01   rosecam@cisco.com     2021-12-06                NaN   \n",
       "\n",
       "                      LAST_UPDATED  QA Approve  ...  RRT_LPM+ LPM_OFFERS  \\\n",
       "0      2022-03-03 18:03 PM Eastern       False  ...         0          0   \n",
       "1      2022-03-03 18:03 PM Eastern       False  ...         0          0   \n",
       "2      2022-03-03 18:03 PM Eastern       False  ...         0          0   \n",
       "3      2022-03-03 18:03 PM Eastern       False  ...         0          0   \n",
       "4      2022-03-03 18:03 PM Eastern       False  ...         0          0   \n",
       "...                            ...         ...  ...       ...        ...   \n",
       "37310  2022-03-03 18:03 PM Eastern       False  ...         1          1   \n",
       "37311  2022-03-03 18:03 PM Eastern       False  ...         1          1   \n",
       "37312  2022-03-03 18:03 PM Eastern       False  ...         1          1   \n",
       "37313  2022-03-03 18:03 PM Eastern       False  ...         1          1   \n",
       "37314  2022-03-03 18:03 PM Eastern       False  ...         1          1   \n",
       "\n",
       "                      Method Measure Group  Offer Focus  Value Type  \\\n",
       "0                      FIELD    Operations          ANY      Actual   \n",
       "1                      FIELD    Operations          ANY      Actual   \n",
       "2                      FIELD    Operations          ANY      Actual   \n",
       "3                  TARGETING    Operations          BCS      Actual   \n",
       "4                  TARGETING    Operations          BCS      Actual   \n",
       "...                      ...           ...          ...         ...   \n",
       "37310  M1 (Coverage Program)    Operations          ANY      Actual   \n",
       "37311  M1 (Coverage Program)    Operations          ANY      Actual   \n",
       "37312  M1 (Coverage Program)    Operations          ANY      Actual   \n",
       "37313  M1 (Coverage Program)    Operations          ANY      Actual   \n",
       "37314  M1 (Coverage Program)    Operations          ANY      Actual   \n",
       "\n",
       "       Report FY Report FQ Injection Month Injection Quarter  \n",
       "0           2022        Q3          202207           2022-Q3  \n",
       "1           2022        Q3          202207           2022-Q3  \n",
       "2           2022        Q3          202207           2022-Q3  \n",
       "3           2022        Q2          202206           2022-Q2  \n",
       "4           2022        Q2          202206           2022-Q2  \n",
       "...          ...       ...             ...               ...  \n",
       "37310       2022        Q2          202204           2022-Q2  \n",
       "37311       2022        Q2          202204           2022-Q2  \n",
       "37312       2022        Q2          202204           2022-Q2  \n",
       "37313       2022        Q2          202204           2022-Q2  \n",
       "37314       2022        Q2          202204           2022-Q2  \n",
       "\n",
       "[37315 rows x 176 columns]"
      ]
     },
     "execution_count": 357,
     "metadata": {},
     "output_type": "execute_result"
    }
   ],
   "source": [
    "df"
   ]
  },
  {
   "cell_type": "code",
   "execution_count": null,
   "metadata": {},
   "outputs": [],
   "source": []
  },
  {
   "cell_type": "code",
   "execution_count": null,
   "metadata": {},
   "outputs": [],
   "source": []
  },
  {
   "cell_type": "code",
   "execution_count": 358,
   "metadata": {},
   "outputs": [
    {
     "ename": "FileNotFoundError",
     "evalue": "[Errno 2] No such file or directory: 'D:\\\\Compass Trackers\\\\TrackerData.pkl'",
     "output_type": "error",
     "traceback": [
      "\u001b[1;31m---------------------------------------------------------------------------\u001b[0m",
      "\u001b[1;31mFileNotFoundError\u001b[0m                         Traceback (most recent call last)",
      "\u001b[1;32m<ipython-input-358-a81ed688d670>\u001b[0m in \u001b[0;36m<module>\u001b[1;34m\u001b[0m\n\u001b[1;32m----> 1\u001b[1;33m \u001b[0mdf\u001b[0m\u001b[1;33m.\u001b[0m\u001b[0mto_pickle\u001b[0m\u001b[1;33m(\u001b[0m\u001b[1;34mr'D:\\Compass Trackers\\TrackerData.pkl'\u001b[0m\u001b[1;33m)\u001b[0m\u001b[1;33m\u001b[0m\u001b[1;33m\u001b[0m\u001b[0m\n\u001b[0m\u001b[0;32m      2\u001b[0m \u001b[0mdf\u001b[0m\u001b[1;33m.\u001b[0m\u001b[0mto_excel\u001b[0m\u001b[1;33m(\u001b[0m\u001b[1;34mr'D:\\Compass Trackers\\Tracker Data_'\u001b[0m \u001b[1;33m+\u001b[0m \u001b[0mtoday_file\u001b[0m \u001b[1;33m+\u001b[0m \u001b[1;34m'.xlsx'\u001b[0m\u001b[1;33m,\u001b[0m \u001b[0mindex\u001b[0m\u001b[1;33m=\u001b[0m\u001b[1;32mFalse\u001b[0m\u001b[1;33m)\u001b[0m\u001b[1;33m\u001b[0m\u001b[1;33m\u001b[0m\u001b[0m\n\u001b[0;32m      3\u001b[0m \u001b[1;31m# df.to_csv(hyper_csv_file_path_tracker, index=False)\u001b[0m\u001b[1;33m\u001b[0m\u001b[1;33m\u001b[0m\u001b[1;33m\u001b[0m\u001b[0m\n",
      "\u001b[1;32m~\\.conda\\envs\\compass_env\\lib\\site-packages\\pandas\\core\\generic.py\u001b[0m in \u001b[0;36mto_pickle\u001b[1;34m(self, path, compression, protocol, storage_options)\u001b[0m\n\u001b[0;32m   2861\u001b[0m         \u001b[1;32mfrom\u001b[0m \u001b[0mpandas\u001b[0m\u001b[1;33m.\u001b[0m\u001b[0mio\u001b[0m\u001b[1;33m.\u001b[0m\u001b[0mpickle\u001b[0m \u001b[1;32mimport\u001b[0m \u001b[0mto_pickle\u001b[0m\u001b[1;33m\u001b[0m\u001b[1;33m\u001b[0m\u001b[0m\n\u001b[0;32m   2862\u001b[0m \u001b[1;33m\u001b[0m\u001b[0m\n\u001b[1;32m-> 2863\u001b[1;33m         to_pickle(\n\u001b[0m\u001b[0;32m   2864\u001b[0m             \u001b[0mself\u001b[0m\u001b[1;33m,\u001b[0m\u001b[1;33m\u001b[0m\u001b[1;33m\u001b[0m\u001b[0m\n\u001b[0;32m   2865\u001b[0m             \u001b[0mpath\u001b[0m\u001b[1;33m,\u001b[0m\u001b[1;33m\u001b[0m\u001b[1;33m\u001b[0m\u001b[0m\n",
      "\u001b[1;32m~\\.conda\\envs\\compass_env\\lib\\site-packages\\pandas\\io\\pickle.py\u001b[0m in \u001b[0;36mto_pickle\u001b[1;34m(obj, filepath_or_buffer, compression, protocol, storage_options)\u001b[0m\n\u001b[0;32m     88\u001b[0m         \u001b[0mprotocol\u001b[0m \u001b[1;33m=\u001b[0m \u001b[0mpickle\u001b[0m\u001b[1;33m.\u001b[0m\u001b[0mHIGHEST_PROTOCOL\u001b[0m\u001b[1;33m\u001b[0m\u001b[1;33m\u001b[0m\u001b[0m\n\u001b[0;32m     89\u001b[0m \u001b[1;33m\u001b[0m\u001b[0m\n\u001b[1;32m---> 90\u001b[1;33m     with get_handle(\n\u001b[0m\u001b[0;32m     91\u001b[0m         \u001b[0mfilepath_or_buffer\u001b[0m\u001b[1;33m,\u001b[0m\u001b[1;33m\u001b[0m\u001b[1;33m\u001b[0m\u001b[0m\n\u001b[0;32m     92\u001b[0m         \u001b[1;34m\"wb\"\u001b[0m\u001b[1;33m,\u001b[0m\u001b[1;33m\u001b[0m\u001b[1;33m\u001b[0m\u001b[0m\n",
      "\u001b[1;32m~\\.conda\\envs\\compass_env\\lib\\site-packages\\pandas\\io\\common.py\u001b[0m in \u001b[0;36mget_handle\u001b[1;34m(path_or_buf, mode, encoding, compression, memory_map, is_text, errors, storage_options)\u001b[0m\n\u001b[0;32m    649\u001b[0m         \u001b[1;32melse\u001b[0m\u001b[1;33m:\u001b[0m\u001b[1;33m\u001b[0m\u001b[1;33m\u001b[0m\u001b[0m\n\u001b[0;32m    650\u001b[0m             \u001b[1;31m# Binary mode\u001b[0m\u001b[1;33m\u001b[0m\u001b[1;33m\u001b[0m\u001b[1;33m\u001b[0m\u001b[0m\n\u001b[1;32m--> 651\u001b[1;33m             \u001b[0mhandle\u001b[0m \u001b[1;33m=\u001b[0m \u001b[0mopen\u001b[0m\u001b[1;33m(\u001b[0m\u001b[0mhandle\u001b[0m\u001b[1;33m,\u001b[0m \u001b[0mioargs\u001b[0m\u001b[1;33m.\u001b[0m\u001b[0mmode\u001b[0m\u001b[1;33m)\u001b[0m\u001b[1;33m\u001b[0m\u001b[1;33m\u001b[0m\u001b[0m\n\u001b[0m\u001b[0;32m    652\u001b[0m         \u001b[0mhandles\u001b[0m\u001b[1;33m.\u001b[0m\u001b[0mappend\u001b[0m\u001b[1;33m(\u001b[0m\u001b[0mhandle\u001b[0m\u001b[1;33m)\u001b[0m\u001b[1;33m\u001b[0m\u001b[1;33m\u001b[0m\u001b[0m\n\u001b[0;32m    653\u001b[0m \u001b[1;33m\u001b[0m\u001b[0m\n",
      "\u001b[1;31mFileNotFoundError\u001b[0m: [Errno 2] No such file or directory: 'D:\\\\Compass Trackers\\\\TrackerData.pkl'"
     ]
    }
   ],
   "source": [
    "df.to_pickle(r'D:\\Compass Trackers\\TrackerData.pkl')\n",
    "df.to_excel(r'D:\\Compass Trackers\\Tracker Data_' + today_file + '.xlsx', index=False)\n",
    "# df.to_csv(hyper_csv_file_path_tracker, index=False)"
   ]
  },
  {
   "cell_type": "code",
   "execution_count": null,
   "metadata": {},
   "outputs": [],
   "source": [
    "df.loc[(df['Method'].str.contains('M1', na=False, case=False)) & (df['ALERT_BELOW_25'] == 1)][['Create Date','Customer Name','Compass Advisor','Readout Delivery Status','LPM_PLUS_ENGAGED','ADVISOR_NOTES','LPM_NOTES']]"
   ]
  },
  {
   "cell_type": "code",
   "execution_count": null,
   "metadata": {},
   "outputs": [],
   "source": [
    "Done"
   ]
  },
  {
   "cell_type": "code",
   "execution_count": null,
   "metadata": {},
   "outputs": [],
   "source": [
    "len(df.loc[df['Request ID'].isnull()]['Request ID'].unique())"
   ]
  },
  {
   "cell_type": "code",
   "execution_count": null,
   "metadata": {},
   "outputs": [],
   "source": [
    "# df.loc[df['Request ID'].isin(['202120216643','202120216987'])][['Request ID','Requester Name','Create Date','GUID','CR Party ID','SAV ID','Customer Name','Lvl1','Lvl2 (Region)','Compass Campaign Name']]"
   ]
  },
  {
   "cell_type": "code",
   "execution_count": null,
   "metadata": {},
   "outputs": [],
   "source": [
    "today = dt.datetime.today()"
   ]
  },
  {
   "cell_type": "code",
   "execution_count": null,
   "metadata": {},
   "outputs": [],
   "source": [
    "today"
   ]
  },
  {
   "cell_type": "markdown",
   "metadata": {},
   "source": [
    "### Create the COMPASS GENERATED file for Tableau"
   ]
  },
  {
   "cell_type": "code",
   "execution_count": null,
   "metadata": {},
   "outputs": [],
   "source": [
    "compass_generated = df.loc[(df['Request FY'].isin(['2021','2022'])) & (df['DELIVERABILITY']=='Good') & (df['REMOVE_FROM_COUNT'] == True)][['Request ID','Create Date','Customer Name','GUID','CR Party ID', 'CR Party Name', 'CAV BU ID', 'CAV ID', \n",
    "                                                                                                                                'Deal ID', 'SAV ID', 'Contract ID', 'Inventory Name', 'Appliance ID', 'Requester Name','Requester Function','Campaign','Partner Name', 'Partner Deal','Status', \n",
    "                                                                                                                                'Lvl1', 'Lvl2 (Region)', 'Lvl3','Request Type', 'Date Completed', 'Compass Advisor','Readout_Date','Readout Delivery Status', 'Items Recommended','HashedReadout','CONCIERGE_ADVISOR_ASSIGNED',\n",
    "                                                                                                                                'CONCIERGE_READOUT_DATE', 'CONCIERGE_READOUT_RESULT', 'Report Group', 'Request FY', 'Request FH','Request FQ', 'Request FM','Request FWOFQ','Request FWOFY','Readout FY','Readout FH','Readout FQ','Readout FM', 'Readout FWOFM', 'Readout FWOFQ', 'Readout FWOFY', \n",
    "                                                                                                                                'Recipient Confirmation','RR (internal)','is_Targeting_Campaign', 'Campaign Type', 'Targeting Campaign Type', 'REMOVE_FROM_COUNT',]]#.pivot_table(values='Customer Name', columns='Deliverability', aggfunc='count')"
   ]
  },
  {
   "cell_type": "code",
   "execution_count": null,
   "metadata": {},
   "outputs": [],
   "source": [
    "compass_generated.columns"
   ]
  },
  {
   "cell_type": "code",
   "execution_count": null,
   "metadata": {},
   "outputs": [],
   "source": [
    "compass_generated.to_excel(r'C:\\Users\\phsheari\\Documents\\Compass Tableau Data\\CompassGenerated.xlsx', sheet_name='CompassGenerated',  index=False)"
   ]
  },
  {
   "cell_type": "markdown",
   "metadata": {},
   "source": [
    "### Readouts to Publish to Tableau"
   ]
  },
  {
   "cell_type": "code",
   "execution_count": null,
   "metadata": {},
   "outputs": [],
   "source": [
    "readouts_for_tableau_path = r'C:\\Users\\phsheari\\Documents\\Compass Tableau Data\\Readouts.xlsx'\n",
    "undelivered_readouts_for_tableau_path = r'C:\\Users\\phsheari\\Documents\\Compass Tableau Data\\UndeliveredReadouts.xlsx'"
   ]
  },
  {
   "cell_type": "code",
   "execution_count": null,
   "metadata": {},
   "outputs": [],
   "source": [
    "_11months_ago = today + dt.timedelta(days = -330)"
   ]
  },
  {
   "cell_type": "code",
   "execution_count": null,
   "metadata": {},
   "outputs": [],
   "source": [
    "# df['Date Readout Done'] = pd.to_datetime(df['Date Readout Done'])"
   ]
  },
  {
   "cell_type": "code",
   "execution_count": null,
   "metadata": {},
   "outputs": [],
   "source": [
    "# readouts = df.loc[(df['Date Readout Done'].notnull()) & (df['Readout Delivery Status'].notnull())][['Request ID', 'Sheet Name', 'Previous Request ID', 'Create Date', 'Customer Name', 'GUID', 'CR Party ID','CAV ID', 'Deal ID', 'Requester Name',\n",
    "#                                                                                                    'Partner Name', 'Compass Campaign Name','Status', 'Lvl1', 'Lvl2 (Region)', 'Lvl3','COMPASS URL 1.0', 'COMPASS PPT URL','Compass Concierge Requested',\n",
    "#                                                                                                    'RR (internal)', 'Compass Advisor', 'BDM Notes', 'Items Recommended', 'Date Readout Done', 'Readout Delivery Status', 'Reason Declined', 'EXT_BDM_ASSIGNED',\n",
    "#                                                                                                    'EXT_DATE_READOUT_DONE', 'EXT_READOUT_RESULT', 'Forecast Stage','Projected Booking ($,000)','Target Fiscal Month', 'Target Fiscal Quarter', 'Target Fiscal Year',\n",
    "#                                                                                                    'Deliverability','Recipient Confirmation', 'Request FY', 'Request FQ', 'Request FM', 'Request FWOFM', 'Request FWOFQ', 'Request FWOFY', 'Readout FY', \n",
    "#                                                                                                    'Readout FQ','Readout FM', 'Readout FWOFM', 'Readout FWOFQ', 'Readout FWOFY', 'Campaign Type','IR_BCS', 'IR_EC', 'IR_DNAC', 'IR_SSPT', 'IR_ST', 'IR_SNTC', \n",
    "#                                                                                                    'IR_IRR', 'IR_PR', 'IR_BRW', 'TC_Priority_Recommend','Squeezed','Prepend']]"
   ]
  },
  {
   "cell_type": "code",
   "execution_count": null,
   "metadata": {},
   "outputs": [],
   "source": [
    "# readouts['Prehash_Entity'] = readouts.apply(lambda x: x['Prepend'] + x['FakeID'], axis=1)"
   ]
  },
  {
   "cell_type": "code",
   "execution_count": null,
   "metadata": {},
   "outputs": [],
   "source": [
    "# readouts[['Prehash_Entity','GUID','CAV ID','Customer Name']]"
   ]
  },
  {
   "cell_type": "code",
   "execution_count": null,
   "metadata": {},
   "outputs": [],
   "source": [
    "df.loc[:,df.columns.str.contains('COMPASS URL', na=False, case=False)]"
   ]
  },
  {
   "cell_type": "code",
   "execution_count": null,
   "metadata": {},
   "outputs": [],
   "source": [
    "readouts_publish_to_tableau  = df.loc[(df['Date Readout Done'].notnull()) & \n",
    "                                 ~df['Readout Delivery Status'].isin(['Declined','Postponed']) & \n",
    "                                 (df['GUID'].notnull() | df['CAV ID'].notnull()) &\n",
    "                                 (df['Date Readout Done'] <= today) & \n",
    "                                 (df['REMOVE_FROM_COUNT'] == True) &\n",
    "                                 (df['DELIVERABILITY']=='Good')][['Request ID', 'Create Date', 'Customer Name', 'GUID', 'CR Party ID','CAV ID', 'SAV ID','Deal ID', 'Requester Name',\n",
    "                                                                  'Partner Name','Partner Deal', 'Campaign', 'Lvl1', 'Lvl2 (Region)', 'Lvl3','COMPASS URL', 'COMPASS PPT URL','RR (internal)', 'Report Group', 'Compass Advisor', 'Items Recommended', 'Date Readout Done', 'Readout Delivery Status', \n",
    "                                                                  'CONCIERGE_ADVISOR_ASSIGNED', 'CONCIERGE_READOUT_DATE', 'CONCIERGE_READOUT_RESULT', 'Forecast Stage','Opportunity Value','Target Fiscal Month', 'Target Fiscal Quarter', 'Target Fiscal Year', 'TC_Priority_Recommend', \n",
    "                                                                  'Recipient Confirmation', 'Request FY', 'Request FH','Request FQ', 'Request FM', 'Request FWOFM', 'Request FWOFQ', 'Request FWOFY', 'Readout FY','Readout FH','Readout FQ','Readout FM', 'Readout FWOFM', 'Readout FWOFQ', 'Readout FWOFY', \n",
    "                                                                  'is_Targeting_Campaign', 'Campaign Type','Targeting Campaign Type','Prehash_Entity','Entity_to_hash','HashedReadout','FakeID','REMOVE_FROM_COUNT']]"
   ]
  },
  {
   "cell_type": "code",
   "execution_count": null,
   "metadata": {},
   "outputs": [],
   "source": [
    "def item_recommended_count(item_name, items_recommended):\n",
    "    if pd.isnull(items_recommended):\n",
    "        return 0\n",
    "    elif item_name in items_recommended:\n",
    "        return 1\n",
    "    else:\n",
    "        return 0"
   ]
  },
  {
   "cell_type": "code",
   "execution_count": null,
   "metadata": {},
   "outputs": [],
   "source": [
    "def bcs_recommended_count(items_recommended):\n",
    "    if pd.isnull(items_recommended):\n",
    "        return 0\n",
    "    elif 'BCS' in items_recommended:\n",
    "        return 1\n",
    "    else:\n",
    "        return 0"
   ]
  },
  {
   "cell_type": "code",
   "execution_count": null,
   "metadata": {},
   "outputs": [],
   "source": [
    "def ec_recommended_count(items_recommended):\n",
    "    if pd.isnull(items_recommended):\n",
    "        return 0\n",
    "    elif 'EC' in items_recommended:\n",
    "        return 1\n",
    "    else:\n",
    "        return 0"
   ]
  },
  {
   "cell_type": "code",
   "execution_count": null,
   "metadata": {},
   "outputs": [],
   "source": [
    "def irr_recommended_count(items_recommended):\n",
    "    if pd.isnull(items_recommended):\n",
    "        return 0\n",
    "    elif 'IRR' in items_recommended:\n",
    "        return 1\n",
    "    else:\n",
    "        return 0"
   ]
  },
  {
   "cell_type": "code",
   "execution_count": null,
   "metadata": {},
   "outputs": [],
   "source": [
    "def dnac_recommended_count(items_recommended):\n",
    "    if pd.isnull(items_recommended):\n",
    "        return 0\n",
    "    elif 'DNA' in items_recommended:\n",
    "        return 1\n",
    "    else:\n",
    "        return 0"
   ]
  },
  {
   "cell_type": "code",
   "execution_count": null,
   "metadata": {},
   "outputs": [],
   "source": [
    "def sspt_recommended_count(items_recommended):\n",
    "    if pd.isnull(items_recommended):\n",
    "        return 0\n",
    "    elif 'SSPT' in items_recommended:\n",
    "        return 1\n",
    "    else:\n",
    "        return 0"
   ]
  },
  {
   "cell_type": "code",
   "execution_count": null,
   "metadata": {},
   "outputs": [],
   "source": [
    "def sntc_recommended_count(items_recommended):\n",
    "    if pd.isnull(items_recommended):\n",
    "        return 0\n",
    "    elif 'SNTC' in items_recommended:\n",
    "        return 1\n",
    "    else:\n",
    "        return 0"
   ]
  },
  {
   "cell_type": "code",
   "execution_count": null,
   "metadata": {},
   "outputs": [],
   "source": [
    "def st_recommended_count(items_recommended):\n",
    "    if pd.isnull(items_recommended):\n",
    "        return 0\n",
    "    elif 'ST' in items_recommended:\n",
    "        return 1\n",
    "    else:\n",
    "        return 0"
   ]
  },
  {
   "cell_type": "code",
   "execution_count": null,
   "metadata": {},
   "outputs": [],
   "source": [
    "def pr_recommended_count(items_recommended):\n",
    "    if pd.isnull(items_recommended):\n",
    "        return 0\n",
    "    elif 'PR' in items_recommended:\n",
    "        return 1\n",
    "    else:\n",
    "        return 0"
   ]
  },
  {
   "cell_type": "code",
   "execution_count": null,
   "metadata": {},
   "outputs": [],
   "source": [
    "def brw_recommended_count(items_recommended):\n",
    "    if pd.isnull(items_recommended):\n",
    "        return 0\n",
    "    elif 'BRW' in items_recommended:\n",
    "        return 1\n",
    "    else:\n",
    "        return 0"
   ]
  },
  {
   "cell_type": "code",
   "execution_count": null,
   "metadata": {},
   "outputs": [],
   "source": [
    "def NULL_recommended_count(items_recommended):\n",
    "    if pd.isnull(items_recommended):\n",
    "        return 1\n",
    "    else:\n",
    "        return 0"
   ]
  },
  {
   "cell_type": "code",
   "execution_count": null,
   "metadata": {},
   "outputs": [],
   "source": [
    "# readouts_publish_to_tableau['HashEntity'] = readouts_publish_to_tableau.apply(lambda x: make_hash_entity(x['Prehash_Entity'], x['Compass Advisor'],x['Date Readout Done'], x['Items Recommended']), axis=1) #x['COMPASS URL 1.0'], "
   ]
  },
  {
   "cell_type": "code",
   "execution_count": null,
   "metadata": {},
   "outputs": [],
   "source": [
    "readouts_publish_to_tableau['Targeting Campaign Type'].unique()"
   ]
  },
  {
   "cell_type": "code",
   "execution_count": null,
   "metadata": {},
   "outputs": [],
   "source": [
    "# readouts_publish_to_tableau['HashedReadout'] = readouts_publish_to_tableau.apply(lambda x: hash_the_readout(x['HashEntity']), axis=1 )"
   ]
  },
  {
   "cell_type": "code",
   "execution_count": null,
   "metadata": {},
   "outputs": [],
   "source": [
    "# readouts_publish_to_tableau.HashedReadout.nunique()"
   ]
  },
  {
   "cell_type": "code",
   "execution_count": null,
   "metadata": {},
   "outputs": [],
   "source": [
    "readouts_publish_to_tableau['IRC_BCS']  = readouts_publish_to_tableau['Items Recommended'].apply(bcs_recommended_count)\n",
    "readouts_publish_to_tableau['IRC_EC']   = readouts_publish_to_tableau['Items Recommended'].apply(ec_recommended_count)\n",
    "readouts_publish_to_tableau['IRC_IRR']  = readouts_publish_to_tableau['Items Recommended'].apply(irr_recommended_count)\n",
    "readouts_publish_to_tableau['IRC_DNAC'] = readouts_publish_to_tableau['Items Recommended'].apply(dnac_recommended_count)\n",
    "readouts_publish_to_tableau['IRC_SSPT'] = readouts_publish_to_tableau['Items Recommended'].apply(sspt_recommended_count)\n",
    "readouts_publish_to_tableau['IRC_ST']   = readouts_publish_to_tableau['Items Recommended'].apply(st_recommended_count)\n",
    "readouts_publish_to_tableau['IRC_SNTC'] = readouts_publish_to_tableau['Items Recommended'].apply(sntc_recommended_count)\n",
    "readouts_publish_to_tableau['IRC_PR']   = readouts_publish_to_tableau['Items Recommended'].apply(pr_recommended_count)\n",
    "readouts_publish_to_tableau['IRC_BRW']  = readouts_publish_to_tableau['Items Recommended'].apply(brw_recommended_count)\n",
    "readouts_publish_to_tableau['IRC_NULL'] = readouts_publish_to_tableau['Items Recommended'].apply(NULL_recommended_count)"
   ]
  },
  {
   "cell_type": "code",
   "execution_count": null,
   "metadata": {},
   "outputs": [],
   "source": [
    "readouts_publish_to_tableau.to_excel(readouts_for_tableau_path,sheet_name='TableauReadoutData', index=False)\n",
    "readouts_publish_to_tableau.to_excel(r'C:\\Users\\phsheari\\Documents\\Compass Readouts\\Compass Readouts.xlsx',sheet_name='TableauReadoutData', index=False)"
   ]
  },
  {
   "cell_type": "code",
   "execution_count": null,
   "metadata": {},
   "outputs": [],
   "source": [
    "readouts_publish_to_tableau.groupby('REMOVE_FROM_COUNT')['Request ID'].count()"
   ]
  },
  {
   "cell_type": "code",
   "execution_count": null,
   "metadata": {},
   "outputs": [],
   "source": [
    "latam_readouts1 = readouts_publish_to_tableau['Lvl2 (Region)']=='LATIN AMERICA'\n",
    "latam_readouts3 = readouts_publish_to_tableau['Date Readout Done'] <= '2021-05-07'\n",
    "latam_readouts2 = readouts_publish_to_tableau['Date Readout Done'] > '2020-10-07'"
   ]
  },
  {
   "cell_type": "code",
   "execution_count": null,
   "metadata": {},
   "outputs": [],
   "source": []
  },
  {
   "cell_type": "code",
   "execution_count": null,
   "metadata": {},
   "outputs": [],
   "source": [
    "latam_readouts = readouts_publish_to_tableau.loc[(latam_readouts1 & latam_readouts2 & latam_readouts3)][['Request ID','Date Readout Done','Customer Name','GUID','Compass Advisor','Readout Delivery Status','IRC_BCS','IRC_SSPT','IRC_EC','IRC_ST','IRC_SNTC']]"
   ]
  },
  {
   "cell_type": "code",
   "execution_count": null,
   "metadata": {},
   "outputs": [],
   "source": [
    "#latam_readouts.to_excel(r'C:\\Users\\phsheari\\Documents\\FIN BI Data\\1_AMERICAS\\FY21Q4 Data\\Latam Readouts.xlsx',index=False)"
   ]
  },
  {
   "cell_type": "code",
   "execution_count": null,
   "metadata": {},
   "outputs": [],
   "source": []
  },
  {
   "cell_type": "code",
   "execution_count": null,
   "metadata": {},
   "outputs": [],
   "source": [
    "readouts_publish_to_tableau.loc[readouts_publish_to_tableau['Customer Name'].str.contains('kfh', na=False, case=False)]"
   ]
  },
  {
   "cell_type": "code",
   "execution_count": null,
   "metadata": {},
   "outputs": [],
   "source": [
    "readouts_not_done_condition1 = ((df['Readout Delivery Status'].isnull()) | (df['Readout Delivery Status'].isin(['Declined','Postponed']))) & (df['Items Recommended'].isnull())"
   ]
  },
  {
   "cell_type": "code",
   "execution_count": null,
   "metadata": {},
   "outputs": [],
   "source": [
    "readouts_not_done_condition2 = df['DELIVERABILITY']=='Good'"
   ]
  },
  {
   "cell_type": "code",
   "execution_count": null,
   "metadata": {},
   "outputs": [],
   "source": [
    "readouts_not_done_condition3 = ~(df['Request FY']==2021 & df['Campaign'].str.contains('growth initiative', case=False))"
   ]
  },
  {
   "cell_type": "code",
   "execution_count": null,
   "metadata": {},
   "outputs": [],
   "source": [
    "readouts_not_done_condition4 = df['Request FY'].isin(['2021','2022'])"
   ]
  },
  {
   "cell_type": "code",
   "execution_count": null,
   "metadata": {},
   "outputs": [],
   "source": [
    "readouts_not_done_condition5 = df['REMOVE_FROM_COUNT']==True"
   ]
  },
  {
   "cell_type": "code",
   "execution_count": null,
   "metadata": {},
   "outputs": [],
   "source": [
    "readouts_not_done = df.loc[readouts_not_done_condition1 & readouts_not_done_condition2 & readouts_not_done_condition3 & readouts_not_done_condition4 & readouts_not_done_condition5][['Request ID', 'Create Date', 'Customer Name', 'GUID', 'CR Party ID','CAV ID', 'Deal ID','Requester Name',\n",
    "                                                                                                   'Partner Name','Partner Deal', 'Campaign','Status', 'Lvl1', 'Lvl2 (Region)', 'Lvl3','COMPASS URL', 'COMPASS PPT URL','Compass Concierge Requested',\n",
    "                                                                                                   'RR (internal)','Report Group','Compass Advisor', 'BDM Notes', 'Items Recommended', 'Date Readout Done', 'Readout Delivery Status', 'Reason Declined', 'CONCIERGE_ADVISOR_ASSIGNED',\n",
    "                                                                                                   'CONCIERGE_READOUT_DATE', 'CONCIERGE_READOUT_RESULT',  'Forecast Stage','Opportunity Value','Target Fiscal Month', 'Target Fiscal Quarter', 'Target Fiscal Year',\n",
    "                                                                                                   'DELIVERABILITY','Recipient Confirmation', 'Request FY', 'Request FH', 'Request FQ', 'Request FM', 'Request FWOFM', 'Request FWOFQ', 'Request FWOFY', 'Readout FY','Readout FH', \n",
    "                                                                                                   'Readout FQ','Readout FM', 'Readout FWOFM', 'Readout FWOFQ', 'Readout FWOFY', 'is_Targeting_Campaign', 'Campaign Type', 'Targeting Campaign Type','IR_BCS', 'IR_EC', 'IR_DNAC', 'IR_SSPT', 'IR_ST', 'IR_SNTC', \n",
    "                                                                                                   'IR_IRR', 'IR_PR', 'IR_BRW', 'TC_Priority_Recommend','Entity_to_hash','HashedReadout','REMOVE_FROM_COUNT']]"
   ]
  },
  {
   "cell_type": "code",
   "execution_count": null,
   "metadata": {},
   "outputs": [],
   "source": [
    "readouts_not_done"
   ]
  },
  {
   "cell_type": "code",
   "execution_count": null,
   "metadata": {},
   "outputs": [],
   "source": [
    "### Readouts Scheduled\n",
    "readouts_not_done.loc[(readouts_not_done['Date Readout Done']>= today) & (readouts_not_done['Request FY']>=str(today.year - 1))]"
   ]
  },
  {
   "cell_type": "code",
   "execution_count": null,
   "metadata": {},
   "outputs": [],
   "source": [
    "### Readouts Not Done/ Not Scheduled / Not Declined\n",
    "readouts_not_done.loc[(readouts_not_done['Date Readout Done'].isnull()) & (readouts_not_done['Request FY']>=str(today.year-1)) & ~(readouts_not_done['Readout Delivery Status'].isin(['Declined','Postponed']))].groupby(['Request FY','Campaign','Request FQ', 'Request FM',]).count()[['Request ID']]"
   ]
  },
  {
   "cell_type": "code",
   "execution_count": null,
   "metadata": {},
   "outputs": [],
   "source": [
    "### Readouts Declined or Postponed\n",
    "readouts_not_done.loc[readouts_not_done['Readout Delivery Status'].isin(['Declined','Postponed'])]"
   ]
  },
  {
   "cell_type": "code",
   "execution_count": null,
   "metadata": {},
   "outputs": [],
   "source": [
    "readouts_not_done.to_excel(undelivered_readouts_for_tableau_path,sheet_name='Undelivered', index=False)\n",
    "readouts_not_done.to_excel(r'C:\\Users\\phsheari\\Documents\\Compass Readouts\\Undelivered Readouts.xlsx',sheet_name='Undelivered', index=False)"
   ]
  },
  {
   "cell_type": "code",
   "execution_count": null,
   "metadata": {},
   "outputs": [],
   "source": [
    "readouts_not_done.columns"
   ]
  },
  {
   "cell_type": "code",
   "execution_count": null,
   "metadata": {},
   "outputs": [],
   "source": []
  },
  {
   "cell_type": "code",
   "execution_count": null,
   "metadata": {},
   "outputs": [],
   "source": []
  },
  {
   "cell_type": "markdown",
   "metadata": {},
   "source": [
    "## Compass Partner Data"
   ]
  },
  {
   "cell_type": "markdown",
   "metadata": {},
   "source": [
    "#### ---Partner Compass Delivered"
   ]
  },
  {
   "cell_type": "code",
   "execution_count": null,
   "metadata": {},
   "outputs": [],
   "source": [
    "CURRENT_FISCAL_YEAR = today.year"
   ]
  },
  {
   "cell_type": "code",
   "execution_count": null,
   "metadata": {},
   "outputs": [],
   "source": [
    "CURRENT_FISCAL_YEAR   #& (df['Request FY']==CURRENT_FISCAL_YEAR)   ##  ((df['Deal ID']==-44444) | df['Sheet Name'].str.contains('partner', case=False)) & "
   ]
  },
  {
   "cell_type": "code",
   "execution_count": null,
   "metadata": {},
   "outputs": [],
   "source": [
    "partner_model = (df['Deal ID']==-44444) & (df['Request FY'] == str(CURRENT_FISCAL_YEAR))  #[['Request ID','Request FY']]"
   ]
  },
  {
   "cell_type": "code",
   "execution_count": null,
   "metadata": {},
   "outputs": [],
   "source": [
    "partner_compass_delivered = df.loc[partner_model][['Request ID','Create Date','Customer Name','GUID','Partner Name', 'Partner Deal', 'Lvl1','Lvl2 (Region)','Lvl3','Report Group','Compass Advisor','Date Readout Done', 'Request FY',  'Request FH', \n",
    "                                                   'Request FQ','Request FM', 'Request FWOFM', 'Request FWOFQ', 'Request FWOFY','Readout FY', 'Readout FH', 'Readout FQ','Readout FM', 'Readout FWOFM', 'Readout FWOFQ', 'Readout FWOFY']] "
   ]
  },
  {
   "cell_type": "code",
   "execution_count": null,
   "metadata": {},
   "outputs": [],
   "source": [
    "# partner_compass_delivered['GUID'] = partner_compass_delivered['GUID'].astype(int)"
   ]
  },
  {
   "cell_type": "code",
   "execution_count": null,
   "metadata": {},
   "outputs": [],
   "source": [
    "partner_compass_delivered.sort_values(by=(['Lvl1','Partner Name','Lvl2 (Region)','Create Date','Request ID','Customer Name']), inplace=True)"
   ]
  },
  {
   "cell_type": "code",
   "execution_count": null,
   "metadata": {},
   "outputs": [],
   "source": [
    "# partner_compass_delivered.groupby(['Request FY','Lvl1','Partner Name']).count()[['Request ID','Compass Advisor','Date Readout Done']]"
   ]
  },
  {
   "cell_type": "markdown",
   "metadata": {},
   "source": [
    "#### ---Partner Readouts Delivered"
   ]
  },
  {
   "cell_type": "code",
   "execution_count": null,
   "metadata": {},
   "outputs": [],
   "source": [
    "partner_readouts_delivered = df.loc[(df['Deal ID']==-44444) & \n",
    "#                                     (df['Request FY']==CURRENT_FISCAL_YEAR) & \n",
    "                                    (df['Readout Delivery Status'].str.contains('complete', case=False))  & \n",
    "                                    (df['DELIVERABILITY']=='Good')][['Request ID','Create Date','Customer Name','GUID','Partner Name','Partner Deal','Lvl1','Lvl2 (Region)','Compass Advisor','Date Readout Done','Readout Delivery Status','Items Recommended','Readout FY','Readout FH','Readout FQ','Readout FM',]]"
   ]
  },
  {
   "cell_type": "code",
   "execution_count": null,
   "metadata": {},
   "outputs": [],
   "source": [
    "partner_readouts_delivered['GUID'] = partner_readouts_delivered['GUID'].astype(int)"
   ]
  },
  {
   "cell_type": "code",
   "execution_count": null,
   "metadata": {},
   "outputs": [],
   "source": [
    "partner_readouts_delivered.sort_values(by=(['Lvl1','Partner Name','Create Date','Request ID','Customer Name']), inplace=True)"
   ]
  },
  {
   "cell_type": "code",
   "execution_count": null,
   "metadata": {},
   "outputs": [],
   "source": [
    "partner_readouts_delivered.groupby(['Readout FY','Readout FQ','Readout FM']).count()['Request ID']"
   ]
  },
  {
   "cell_type": "code",
   "execution_count": null,
   "metadata": {},
   "outputs": [],
   "source": [
    "partner_compass_delivered.to_excel(r'C:\\Users\\phsheari\\Documents\\Compass Tableau Data\\PartnerData.xlsx',sheet_name='Partners', index=False)"
   ]
  },
  {
   "cell_type": "code",
   "execution_count": null,
   "metadata": {},
   "outputs": [],
   "source": [
    "Done"
   ]
  },
  {
   "cell_type": "code",
   "execution_count": null,
   "metadata": {},
   "outputs": [],
   "source": []
  },
  {
   "cell_type": "markdown",
   "metadata": {},
   "source": [
    "## Compass Pipeline Data"
   ]
  },
  {
   "cell_type": "code",
   "execution_count": null,
   "metadata": {},
   "outputs": [],
   "source": [
    "### Compass Pipeline Conditions\n",
    "forecast_stages = ['1 - Prospect','2 - Qualification','3 - Proposal','4 - Agreement']\n",
    "pipeline1 = (df['Forecast Stage'].isin(forecast_stages))\n",
    "pipeline2 = (df['Deliverability']=='Good')\n",
    "pipeline3 = ((df['Target Fiscal Year'] == str(CURRENT_FISCAL_YEAR)) | (df['Target Fiscal Year'] == str(CURRENT_FISCAL_YEAR + 1)))\n",
    "pipeline4 = (df['Request FY'].isin([str(CURRENT_FISCAL_YEAR - 1),str(CURRENT_FISCAL_YEAR)]))"
   ]
  },
  {
   "cell_type": "code",
   "execution_count": null,
   "metadata": {},
   "outputs": [],
   "source": [
    "compass_pipeline_data = df.loc[pipeline1 & pipeline2 & pipeline3 & pipeline4][['Request ID','Create Date','Customer Name','Requester Name','GUID','CAV ID','Deal ID', 'Lvl1','Lvl2 (Region)','Forecast Stage','Forecast Status','Opportunity Value','Target Fiscal Month','Target Fiscal Quarter','Target Fiscal Year']] "
   ]
  },
  {
   "cell_type": "code",
   "execution_count": null,
   "metadata": {},
   "outputs": [],
   "source": [
    "compass_pipeline_data['Deal ID'] = compass_pipeline_data['Deal ID'].astype(int)"
   ]
  },
  {
   "cell_type": "code",
   "execution_count": null,
   "metadata": {},
   "outputs": [],
   "source": [
    "# compass_pipeline_data['GUID'] = compass_pipeline_data['GUID'].astype(int)"
   ]
  },
  {
   "cell_type": "code",
   "execution_count": null,
   "metadata": {},
   "outputs": [],
   "source": [
    "compass_pipeline_data.loc[compass_pipeline_data['GUID'].isnull()]"
   ]
  },
  {
   "cell_type": "code",
   "execution_count": null,
   "metadata": {},
   "outputs": [],
   "source": [
    "pd.pivot_table(data=compass_pipeline_data, values='Projected Booking ($,000)', index=['Target Fiscal Year','Target Fiscal Quarter'], columns='Forecast Stage', aggfunc=['sum','count'], fill_value = 0.0)"
   ]
  },
  {
   "cell_type": "code",
   "execution_count": null,
   "metadata": {},
   "outputs": [],
   "source": [
    "compass_pipeline_data.to_excel(r'C:\\Users\\phsheari\\Documents\\Compass Tableau Data\\CompassPipeline.xlsx',sheet_name='Pipeline', index=False)"
   ]
  },
  {
   "cell_type": "code",
   "execution_count": null,
   "metadata": {},
   "outputs": [],
   "source": [
    "non_reporting_campaigns = ['accelerator','test','test request','proactive - ignore']"
   ]
  },
  {
   "cell_type": "code",
   "execution_count": null,
   "metadata": {},
   "outputs": [],
   "source": []
  },
  {
   "cell_type": "code",
   "execution_count": null,
   "metadata": {},
   "outputs": [],
   "source": [
    "## Compass Inventory Generated\n",
    "compass_generated_inventory = df.loc[(df['Deliverability']=='Good') & ~(df['Campaign'].str.lower().isin(non_reporting_campaigns))][['Request ID', 'Create Date','Date Completed','Complete?','Date Readout Done','Customer Name','Requester Name','Requester Function','Partner Name','Partner Deal','Recipient Confirmation','Compass Campaign Name', 'Request FY', 'Lvl1','Lvl2 (Region)','Lvl3','Campaign Type','Record Type','REMOVE_FROM_COUNT','RR (internal)','Targeting Campaign Type']]"
   ]
  },
  {
   "cell_type": "code",
   "execution_count": null,
   "metadata": {},
   "outputs": [],
   "source": [
    "compass_generated_inventory.loc[(compass_generated_inventory['Request FY']=='2021') & (compass_generated_inventory['REMOVE_FROM_COUNT']==True) & ~(compass_generated_inventory['RR (internal)']=='NO')]  #(compass_generated_inventory['Recipient Confirmation']=='Confirmed') & "
   ]
  },
  {
   "cell_type": "code",
   "execution_count": null,
   "metadata": {},
   "outputs": [],
   "source": [
    "compass_generated_inventory.to_excel(r'C:\\Users\\phsheari\\Documents\\Compass Tableau Data\\Compass_Generated_Inventory.xlsx', sheet_name='Compass Generated', index=False)"
   ]
  },
  {
   "cell_type": "code",
   "execution_count": null,
   "metadata": {},
   "outputs": [],
   "source": [
    "# if finish.weekday() == 4:\n",
    "#     send_file = r'C:\\Users\\phsheari\\Documents\\Compass Pipeline' + \"\\\\\" + 'Compass_Maven_Bookings_Pipeline_Partners_ETL_File_' + today_file[:8] + '.xlsx'\n",
    "#     with pd.ExcelWriter(send_file) as writer:  #endfilename\n",
    "#         compass_pipeline_data.to_excel(writer, sheet_name = \"Compass Pipeline Data\", index=False)\n",
    "#         compas_finbi_bookings.to_excel(writer, sheet_name = 'Compass FINBI Bookings', index=False)\n",
    "#         partner_compass_delivered.to_excel(writer, sheet_name = \"Partner Compass Delivered\", index=False)\n",
    "#         partner_readouts_delivered.to_excel(writer, sheet_name = \"Partner Readouts Delivered\", index=False)\n",
    "#         finbi_partner_deals.to_excel(writer, sheet_name = 'Partner Bookings (from Compass)', index = False)   "
   ]
  },
  {
   "cell_type": "markdown",
   "metadata": {},
   "source": [
    "### LATAM records from Smartsheet"
   ]
  },
  {
   "cell_type": "code",
   "execution_count": null,
   "metadata": {},
   "outputs": [],
   "source": [
    "df.loc[(df['Lvl2 (Region)'].notnull()) & \n",
    "       (df['Lvl2 (Region)'].str.contains('LATIN AMERICA', case=False)) & \n",
    "       (df['Request FY'] == '2021')  & \n",
    "       ~(df['Campaign'].str.contains('growth', na=False, case=False))\n",
    "      ].groupby(['Campaign Type','Targeting Campaign Type']).count()[['Request ID','Compass Advisor','Date Readout Done','Readout Delivery Status','Items Recommended','HashedReadout']]"
   ]
  },
  {
   "cell_type": "code",
   "execution_count": null,
   "metadata": {},
   "outputs": [],
   "source": [
    "finish = dt.datetime.now()\n",
    "elapsed = (finish - start)\n",
    "print(elapsed/60.0)"
   ]
  },
  {
   "cell_type": "code",
   "execution_count": null,
   "metadata": {},
   "outputs": [],
   "source": [
    "Done"
   ]
  },
  {
   "cell_type": "markdown",
   "metadata": {},
   "source": [
    "## Healthcare records exercise"
   ]
  },
  {
   "cell_type": "code",
   "execution_count": null,
   "metadata": {},
   "outputs": [],
   "source": [
    "h1 = df['Customer Name'].str.contains('medical', case=False)"
   ]
  },
  {
   "cell_type": "code",
   "execution_count": null,
   "metadata": {},
   "outputs": [],
   "source": [
    "h2 = df['Customer Name'].str.contains('hospital', case=False)"
   ]
  },
  {
   "cell_type": "code",
   "execution_count": null,
   "metadata": {},
   "outputs": [],
   "source": [
    "h3 = df['Customer Name'].str.contains('health', case=False)"
   ]
  },
  {
   "cell_type": "code",
   "execution_count": null,
   "metadata": {},
   "outputs": [],
   "source": [
    "h4 = df['Customer Name'].str.contains('physician', case=False)"
   ]
  },
  {
   "cell_type": "code",
   "execution_count": null,
   "metadata": {},
   "outputs": [],
   "source": [
    "h5 = df['Customer Name'].str.contains('pharma', case=False)"
   ]
  },
  {
   "cell_type": "code",
   "execution_count": null,
   "metadata": {},
   "outputs": [],
   "source": [
    "h6 = df['Customer Name'].str.contains('laboratori', case=False)"
   ]
  },
  {
   "cell_type": "code",
   "execution_count": null,
   "metadata": {},
   "outputs": [],
   "source": [
    "h7 = df['Customer Name'].str.contains('labs', case=False)"
   ]
  },
  {
   "cell_type": "code",
   "execution_count": null,
   "metadata": {},
   "outputs": [],
   "source": [
    "h8 = df['Customer Name'].str.contains('pfizer', case=False)"
   ]
  },
  {
   "cell_type": "code",
   "execution_count": null,
   "metadata": {},
   "outputs": [],
   "source": [
    "h9 = df['Customer Name'].str.contains('bayer', case=False)"
   ]
  },
  {
   "cell_type": "code",
   "execution_count": null,
   "metadata": {},
   "outputs": [],
   "source": [
    "h10 = df['Customer Name'].str.contains('merck', case=False)"
   ]
  },
  {
   "cell_type": "code",
   "execution_count": null,
   "metadata": {},
   "outputs": [],
   "source": [
    "h11 = df['Customer Name'].str.contains('roche', case=False)"
   ]
  },
  {
   "cell_type": "code",
   "execution_count": null,
   "metadata": {},
   "outputs": [],
   "source": [
    "h12 = df['Customer Name'].str.contains('novartis', case=False)"
   ]
  },
  {
   "cell_type": "code",
   "execution_count": null,
   "metadata": {},
   "outputs": [],
   "source": [
    "h13 = df['Customer Name'].str.contains('glaxo', case=False)"
   ]
  },
  {
   "cell_type": "code",
   "execution_count": null,
   "metadata": {},
   "outputs": [],
   "source": [
    "h14 = df['Customer Name'].str.contains('johnson & johnson', case=False)"
   ]
  },
  {
   "cell_type": "code",
   "execution_count": null,
   "metadata": {},
   "outputs": [],
   "source": [
    "h15 = df['Customer Name'].str.contains('sanofi', case=False)"
   ]
  },
  {
   "cell_type": "code",
   "execution_count": null,
   "metadata": {},
   "outputs": [],
   "source": [
    "h16 = df['Customer Name'].str.contains('abbvie', case=False)"
   ]
  },
  {
   "cell_type": "code",
   "execution_count": null,
   "metadata": {},
   "outputs": [],
   "source": [
    "h17 = df['Customer Name'].str.contains('zeneca', case=False)"
   ]
  },
  {
   "cell_type": "code",
   "execution_count": null,
   "metadata": {},
   "outputs": [],
   "source": [
    "h18 = df['Customer Name'].str.contains('baxter', case=False)"
   ]
  },
  {
   "cell_type": "code",
   "execution_count": null,
   "metadata": {},
   "outputs": [],
   "source": [
    "h19 = df['Customer Name'].str.contains('bausch', case=False)"
   ]
  },
  {
   "cell_type": "code",
   "execution_count": null,
   "metadata": {},
   "outputs": [],
   "source": [
    "h20 = df['Customer Name'].str.contains('biogen', case=False)"
   ]
  },
  {
   "cell_type": "code",
   "execution_count": null,
   "metadata": {},
   "outputs": [],
   "source": [
    "h21 = df['Customer Name'].str.contains('celgene', case=False)"
   ]
  },
  {
   "cell_type": "code",
   "execution_count": null,
   "metadata": {},
   "outputs": [],
   "source": [
    "h22 = df['Customer Name'].str.contains('moderna', case=False)"
   ]
  },
  {
   "cell_type": "code",
   "execution_count": null,
   "metadata": {},
   "outputs": [],
   "source": [
    "h23 = df['Customer Name'].str.contains('stryker', case=False)"
   ]
  },
  {
   "cell_type": "code",
   "execution_count": null,
   "metadata": {},
   "outputs": [],
   "source": [
    "h24 = df['Customer Name'].str.contains('teva', case=False)"
   ]
  },
  {
   "cell_type": "code",
   "execution_count": null,
   "metadata": {},
   "outputs": [],
   "source": [
    "h25 = df['Customer Name'].str.contains('medtronic', case=False)"
   ]
  },
  {
   "cell_type": "code",
   "execution_count": null,
   "metadata": {},
   "outputs": [],
   "source": [
    "h26 = df['Customer Name'].str.contains('diagnostic', case=False)"
   ]
  },
  {
   "cell_type": "code",
   "execution_count": null,
   "metadata": {},
   "outputs": [],
   "source": [
    "today = dt.datetime.now()"
   ]
  },
  {
   "cell_type": "code",
   "execution_count": null,
   "metadata": {},
   "outputs": [],
   "source": [
    "last_90_days = today.date() + dt.timedelta(days=-90)"
   ]
  },
  {
   "cell_type": "code",
   "execution_count": null,
   "metadata": {},
   "outputs": [],
   "source": [
    "last_90_days"
   ]
  },
  {
   "cell_type": "code",
   "execution_count": null,
   "metadata": {},
   "outputs": [],
   "source": [
    "h_last_90 = (df['Create Date'] >= last_90_days)"
   ]
  },
  {
   "cell_type": "code",
   "execution_count": null,
   "metadata": {},
   "outputs": [],
   "source": [
    "health2 = df.loc[(h1 | h2 | h3 | h4 | h5 | h6 | h8 | h9 | h10 | h11 | h12 | h13 | h14 | h15 | h16 | h17 | h18 | h19 | h20 | h21 | h22 | h23 | h24 | h25 | h26) & h_last_90][['Request ID','Create Date','Customer Name','GUID','Lvl1','Lvl2 (Region)','Compass Advisor','Date Readout Done', 'Readout Delivery Status']]"
   ]
  },
  {
   "cell_type": "code",
   "execution_count": null,
   "metadata": {},
   "outputs": [],
   "source": [
    "health2.shape"
   ]
  },
  {
   "cell_type": "code",
   "execution_count": null,
   "metadata": {},
   "outputs": [],
   "source": [
    "health2.sort_values(by=(['Create Date','Customer Name']), inplace=True)"
   ]
  },
  {
   "cell_type": "code",
   "execution_count": null,
   "metadata": {},
   "outputs": [],
   "source": [
    "health2.to_excel(r'C:\\Users\\phsheari\\Documents\\Francisco\\Healthcare_Compass_Accounts3.xlsx', index=False)"
   ]
  },
  {
   "cell_type": "code",
   "execution_count": null,
   "metadata": {},
   "outputs": [],
   "source": [
    "emma_scudder = df.loc[h_last_90 & (df['Deliverability']=='Good')][['Request ID','Create Date','Customer Name','GUID', 'CAV ID','CAV BU ID','SAV ID','CR Party ID','CR Party Name','Appliance ID','Contract ID', 'Lvl1','Lvl2 (Region)','Lvl3']]"
   ]
  },
  {
   "cell_type": "code",
   "execution_count": null,
   "metadata": {},
   "outputs": [],
   "source": [
    "emma_scudder.to_excel(r'C:\\Users\\phsheari\\Documents\\Francisco\\Emma_Scudder_Request_Last_90_Days_Compass.xlsx', index=False)"
   ]
  },
  {
   "cell_type": "code",
   "execution_count": null,
   "metadata": {},
   "outputs": [],
   "source": []
  },
  {
   "cell_type": "code",
   "execution_count": null,
   "metadata": {},
   "outputs": [],
   "source": []
  },
  {
   "cell_type": "code",
   "execution_count": null,
   "metadata": {},
   "outputs": [],
   "source": []
  },
  {
   "cell_type": "markdown",
   "metadata": {},
   "source": [
    "### Main Work Complete"
   ]
  },
  {
   "cell_type": "code",
   "execution_count": null,
   "metadata": {},
   "outputs": [],
   "source": [
    "df[['Request ID','Sheet Name']].nunique()"
   ]
  },
  {
   "cell_type": "code",
   "execution_count": null,
   "metadata": {},
   "outputs": [],
   "source": [
    "finish"
   ]
  },
  {
   "cell_type": "code",
   "execution_count": null,
   "metadata": {},
   "outputs": [],
   "source": [
    "df['Deal ID'] = df['Deal ID'].apply(convert_nan_to_int_to_str)"
   ]
  },
  {
   "cell_type": "code",
   "execution_count": null,
   "metadata": {},
   "outputs": [],
   "source": [
    "campaign_counts = pd.DataFrame(df.loc[df['Campaign].notnull()][['Lvl1','Lvl2 (Region)','Lvl3','Campaign','Requester Name','Create Date','Request FY','Request FQ']].value_counts())"
   ]
  },
  {
   "cell_type": "code",
   "execution_count": null,
   "metadata": {},
   "outputs": [],
   "source": [
    "campaign_counts.rename(columns={0:'Counts'}, inplace=True)"
   ]
  },
  {
   "cell_type": "code",
   "execution_count": null,
   "metadata": {},
   "outputs": [],
   "source": [
    "campaign_counts.sort_values(['Campaign', 'Request FY','Request FQ'], inplace=True)"
   ]
  },
  {
   "cell_type": "code",
   "execution_count": null,
   "metadata": {},
   "outputs": [],
   "source": [
    "campaign_counts.reset_index(inplace=True)"
   ]
  },
  {
   "cell_type": "code",
   "execution_count": null,
   "metadata": {},
   "outputs": [],
   "source": [
    "campaign_counts.columns"
   ]
  },
  {
   "cell_type": "code",
   "execution_count": null,
   "metadata": {},
   "outputs": [],
   "source": [
    "campaign_counts.to_csv(r'C:\\Users\\phsheari\\Desktop\\campaigns.csv', index=False)"
   ]
  },
  {
   "cell_type": "code",
   "execution_count": null,
   "metadata": {},
   "outputs": [],
   "source": [
    "# bigdict = pre_dict.to_dict('records')"
   ]
  },
  {
   "cell_type": "code",
   "execution_count": null,
   "metadata": {},
   "outputs": [],
   "source": [
    "# bigdict"
   ]
  },
  {
   "cell_type": "code",
   "execution_count": null,
   "metadata": {},
   "outputs": [],
   "source": [
    "# dic = {}\n",
    "# for x in bigdict:\n",
    "#     dic[x['Request ID']] = x['Requester Name']"
   ]
  },
  {
   "cell_type": "code",
   "execution_count": null,
   "metadata": {},
   "outputs": [],
   "source": [
    "# dic"
   ]
  },
  {
   "cell_type": "code",
   "execution_count": null,
   "metadata": {},
   "outputs": [],
   "source": [
    "# len(dic.items()) #['Compass Campaign Name']"
   ]
  },
  {
   "cell_type": "code",
   "execution_count": null,
   "metadata": {},
   "outputs": [],
   "source": [
    "today = dt.datetime.today().date()"
   ]
  },
  {
   "cell_type": "code",
   "execution_count": null,
   "metadata": {},
   "outputs": [],
   "source": [
    "today"
   ]
  },
  {
   "cell_type": "code",
   "execution_count": null,
   "metadata": {},
   "outputs": [],
   "source": [
    "_30days_ago = today + dt.timedelta(days=-30)"
   ]
  },
  {
   "cell_type": "code",
   "execution_count": null,
   "metadata": {},
   "outputs": [],
   "source": [
    "_90days_ago = today + dt.timedelta(days=-90)"
   ]
  },
  {
   "cell_type": "code",
   "execution_count": null,
   "metadata": {},
   "outputs": [],
   "source": [
    "_90days_ago"
   ]
  },
  {
   "cell_type": "code",
   "execution_count": null,
   "metadata": {},
   "outputs": [],
   "source": [
    "cond0 = df['Compass Campaign Name'].notnull()\n",
    "cond11 = df['Compass Campaign Name'].str.contains('target', case=False)\n",
    "cond12 = df['Compass Campaign Name'].str.contains('success', case=False)\n",
    "cond13 = df['Compass Campaign Name'].str.contains('bcs', case=False)\n",
    "cond3 = df['Date Readout Done'] >= _30days_ago\n",
    "cond4 = (df['Date Readout Done'] > _90days_ago) & (df['Date Readout Done'] <= _30days_ago)"
   ]
  },
  {
   "cell_type": "code",
   "execution_count": null,
   "metadata": {},
   "outputs": [],
   "source": [
    "cond5 =  df['Create Date'] >= _30days_ago\n",
    "cond6 = df['Date Readout Done'].isnull()\n",
    "cond7 = (df['RR (internal)'].isnull() | df['RR (internal)'].str.lower()=='yes')\n",
    "cond8 = (df['RR (internal)'].isnull() | df['RR (internal)'].str.lower()=='no')"
   ]
  },
  {
   "cell_type": "code",
   "execution_count": null,
   "metadata": {},
   "outputs": [],
   "source": [
    "_30_day_data = df.loc[cond3 & cond7][['Request ID', 'Create Date', 'Sheet Name','Requester Name','Customer Name','GUID','Compass Campaign Name','Compass Advisor','Date Readout Done', 'Readout Delivery Status']]"
   ]
  },
  {
   "cell_type": "code",
   "execution_count": null,
   "metadata": {},
   "outputs": [],
   "source": [
    "new_last_30_days = df.loc[cond0 & (cond11 | cond12 | cond13) & cond5 & cond6][['Request ID', 'Create Date', 'Sheet Name','Requester Name','Customer Name','GUID','Compass Campaign Name','Compass Advisor','Date Readout Done', 'Readout Delivery Status']]"
   ]
  },
  {
   "cell_type": "code",
   "execution_count": null,
   "metadata": {},
   "outputs": [],
   "source": [
    "new_entries_to_cancel = pd.merge(new_last_30_days, _30_day_data, how ='inner', left_on = ['GUID','Customer Name'], right_on = ['GUID','Customer Name'])[['Request ID_x', 'Create Date_x', 'Sheet Name_x','Requester Name_x','Customer Name','GUID','Compass Campaign Name_x','Compass Advisor_x','Date Readout Done_x', 'Readout Delivery Status_x']]"
   ]
  },
  {
   "cell_type": "code",
   "execution_count": null,
   "metadata": {},
   "outputs": [],
   "source": [
    "newcols = []\n",
    "for col in new_entries_to_cancel.columns:\n",
    "    newcols.append(col.replace('_x',''))\n",
    "new_entries_to_cancel.columns = newcols"
   ]
  },
  {
   "cell_type": "code",
   "execution_count": null,
   "metadata": {},
   "outputs": [],
   "source": [
    "new_entries_to_cancel.drop_duplicates(inplace=True)"
   ]
  },
  {
   "cell_type": "code",
   "execution_count": null,
   "metadata": {},
   "outputs": [],
   "source": [
    "new_entries_to_cancel.sort_values(by=['Sheet Name','Request ID'], inplace=True, ignore_index=True)"
   ]
  },
  {
   "cell_type": "code",
   "execution_count": null,
   "metadata": {},
   "outputs": [],
   "source": [
    "new_entries_to_cancel['Requester Name'] = new_entries_to_cancel['Requester Name'].apply(lambda x: None if x == 'nan@cisco.com' else x)"
   ]
  },
  {
   "cell_type": "code",
   "execution_count": null,
   "metadata": {},
   "outputs": [],
   "source": [
    "new_entries_to_cancel"
   ]
  },
  {
   "cell_type": "code",
   "execution_count": null,
   "metadata": {},
   "outputs": [],
   "source": [
    "_90day_data = df.loc[cond0 & (cond11 | cond12 | cond13) & cond4 & cond8][['Request ID', 'Create Date', 'Sheet Name','Requester Name','Customer Name','GUID','Compass Campaign Name','Compass Advisor','Date Readout Done', 'Readout Delivery Status']]"
   ]
  },
  {
   "cell_type": "code",
   "execution_count": null,
   "metadata": {},
   "outputs": [],
   "source": [
    "new_entries_to_schedule = pd.merge(new_last_30_days, _90day_data, how ='inner', left_on = ['GUID','Customer Name'], right_on = ['GUID','Customer Name'])[['Request ID_x', 'Create Date_x','Sheet Name_x','Requester Name_x','Customer Name','GUID','Compass Campaign Name_x','Compass Advisor_x','Date Readout Done_x', 'Readout Delivery Status_x']]"
   ]
  },
  {
   "cell_type": "code",
   "execution_count": null,
   "metadata": {},
   "outputs": [],
   "source": [
    "newcols_sched = []\n",
    "for col in new_entries_to_schedule.columns:\n",
    "    newcols_sched.append(col.replace('_x',''))\n",
    "new_entries_to_schedule.columns = newcols_sched"
   ]
  },
  {
   "cell_type": "code",
   "execution_count": null,
   "metadata": {},
   "outputs": [],
   "source": [
    "new_entries_to_schedule.drop_duplicates(inplace=True)"
   ]
  },
  {
   "cell_type": "code",
   "execution_count": null,
   "metadata": {},
   "outputs": [],
   "source": [
    "new_entries_to_schedule.sort_values(by=['Sheet Name','Request ID'], inplace=True, ignore_index=True)"
   ]
  },
  {
   "cell_type": "code",
   "execution_count": null,
   "metadata": {},
   "outputs": [],
   "source": [
    "# new_entries_to_schedule['Requester Name'] = new_entries_to_schedule['Requester Name'].apply(lambda x: None if x.startswith('nan') else x)"
   ]
  },
  {
   "cell_type": "code",
   "execution_count": null,
   "metadata": {},
   "outputs": [],
   "source": [
    "new_entries_to_schedule"
   ]
  },
  {
   "cell_type": "code",
   "execution_count": null,
   "metadata": {},
   "outputs": [],
   "source": [
    "with pd.ExcelWriter(r'C:\\\\Users\\\\phsheari\\\\Documents\\\\Compass Scheduling' + \"\\\\\" + 'Stacey_To_Schedule_' + today_file[:8] + '.xlsx') as writer:  #endfilename\n",
    "    new_entries_to_cancel.to_excel(writer, sheet_name = 'Entries for NO', index = False)\n",
    "    new_entries_to_schedule.to_excel(writer, sheet_name = 'Entries to Schedule', index = False)"
   ]
  },
  {
   "cell_type": "code",
   "execution_count": null,
   "metadata": {},
   "outputs": [],
   "source": [
    "pd.options.display.float_format = '{:,.2f}'.format"
   ]
  },
  {
   "cell_type": "code",
   "execution_count": null,
   "metadata": {},
   "outputs": [],
   "source": []
  },
  {
   "cell_type": "code",
   "execution_count": null,
   "metadata": {},
   "outputs": [],
   "source": [
    "partner_list = list(df.loc[df['Partner Name'].notnull()]['Partner Name'].str.lower()\\\n",
    "                                                    .replace({'. ':'',\n",
    "                                                              '.':''})\\\n",
    "                                                    .unique()\n",
    "                   )"
   ]
  },
  {
   "cell_type": "code",
   "execution_count": null,
   "metadata": {},
   "outputs": [],
   "source": [
    "finbi_df.columns"
   ]
  },
  {
   "cell_type": "code",
   "execution_count": null,
   "metadata": {},
   "outputs": [],
   "source": [
    "finbi_df.loc[finbi_df['Partner Deal']==True] [['Sales Level 1','Sales Level 2','GUID Name','CAV Name','Partner','Fiscal Quarter ID','ProductType','CX Product Category','TCV']]"
   ]
  },
  {
   "cell_type": "code",
   "execution_count": null,
   "metadata": {},
   "outputs": [],
   "source": [
    "finbi_partners_booked = pd.pivot_table(finbi_df.loc[finbi_df['Partner Deal']==True][['Sales Level 1','Sales Level 2','GUID Name','CAV Name','Campaign','Partner','Fiscal Quarter ID','ProductType','CX Product Category','TCV']], index=['Sales Level 1','Sales Level 2','Partner','GUID Name','CAV Name','Campaign','ProductType','CX Product Category',], values='TCV', fill_value='999', columns=['Fiscal Quarter ID'], margins_name='Total')"
   ]
  },
  {
   "cell_type": "code",
   "execution_count": null,
   "metadata": {},
   "outputs": [],
   "source": [
    "finbi_partners_booked.reset_index(inplace=True)"
   ]
  },
  {
   "cell_type": "code",
   "execution_count": null,
   "metadata": {},
   "outputs": [],
   "source": [
    "finbi_partners_booked"
   ]
  }
 ],
 "metadata": {
  "kernelspec": {
   "display_name": "Python 3",
   "language": "python",
   "name": "python3"
  },
  "language_info": {
   "codemirror_mode": {
    "name": "ipython",
    "version": 3
   },
   "file_extension": ".py",
   "mimetype": "text/x-python",
   "name": "python",
   "nbconvert_exporter": "python",
   "pygments_lexer": "ipython3",
   "version": "3.9.5"
  }
 },
 "nbformat": 4,
 "nbformat_minor": 4
}
