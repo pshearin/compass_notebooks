{
 "cells": [
  {
   "cell_type": "code",
   "execution_count": 1,
   "id": "fd734bf8-d234-4602-98e9-156f97d60601",
   "metadata": {},
   "outputs": [],
   "source": [
    "import numpy as np\n",
    "import pandas as pd\n",
    "import datetime as dt"
   ]
  },
  {
   "cell_type": "code",
   "execution_count": 2,
   "id": "f35aadba-d40d-49cd-bcdf-fb222c428398",
   "metadata": {},
   "outputs": [],
   "source": [
    "# USECOLS = ['REQUEST_ID', 'REQUESTED_DTM', 'REQUEST_TYPE', 'ACCOUNT_NAME', 'SAV_ID', 'GU_ID', 'CAV_ID', 'CAV_BU_ID', 'CONTRACT_NUMBER', 'INVENTORY_NAME', 'APPLIANCE_ID', 'CR_PARTY_NAME', 'CR_PARTY_ID', 'DEAL_ID', 'REQUESTER_NAME', 'SSP', 'REQUESTER_FUNCTION', \n",
    "#            'REQUESTER_COMMENTS', 'REQUEST_CREATED_BY','DISTRIBUTION_LIST', 'PARTNER_NAME', 'OPPTY_ID', 'CAMPAIGN_NAME', 'SALES_LEVEL1', 'SALES_LEVEL2', 'SALES_LEVEL3', 'SALES_LEVEL4', 'SALES_LEVEL5', 'SALES_LEVEL6',\n",
    "#            'EMAIL_SENT_FLAG', 'STATUS', 'COMPLETED_DTM', 'FAILURE_DETAILS', 'LOW_VOLUME_COUNT', 'REVIEW_REQUIRED_FLAG', 'QA_APPROVED_FLAG', 'RISK_SCORE', 'CUSTOMER_IDENTIFIER', 'REPORT_TYPE','COMPASS_URL','OP_URL', 'OA_PACKAGE_TYPE','COMPASS_PPT_URL', 'TABLEAU_PROJECT_NAME', \n",
    "#            'MODIFIED_BY', 'MODIFIED_DTM', 'CONCIERGE_REQUESTED_FLAG', 'TARGET_REQUEST_ID', 'RR_INTERNAL', 'ADVISOR_ASSIGNED', 'READOUT_DONE_DTM', 'ADVISOR_NOTES', 'READOUT_DELIVERY_STATUS','DECLINED_REASON', 'ITEMS_RECOMMENDED','VBDM','NEXT_STEPS',\n",
    "#            'BCS_ESTIMATE','EC_ESTIMATE','ST_ESTIMATE','SSPT_ESTIMATE','SNTC_ESTIMATE', 'TOTAL_ESTIMATE', 'LPM_OFFER_CREATED',\n",
    "#            'CONCIERGE_ADVISOR_ASSIGNED', 'CONCIERGE_BUSINESS_OBJECTIVE', 'CONCIERGE_EXTERNAL_READOUT_DT', 'CONCIERGE_EXTERNAL_READOUT_RESULT', 'CONCIERGE_ACCOUNT_TEAM_NOTES', 'DELIVERABILITY', 'INSUFFICIENT_DATA_COUNT', 'COMPASS_DELIVERABLE','OAP_DELIVERABLE','LAST_UPDATED', 'API_TRANSACTION_ID',\n",
    "#            'OPPTY_STG1_CREATED','DATA_PACKAGE_CREATED','READOUTS_DONE', 'READOUTS_DECLINED', 'OFFER_CREATED', 'UNCOVERED_OPPTY_VALUE', 'OPPTY_NAME', # 'FORECAST_STATUS','PROJECTED_BOOKING', 'FORECAST_STAGE', 'TARGET_FISCAL_MONTH','TARGET_FISCAL_QUARTER', 'TARGET_FISCAL_YEAR',  'REPORT_EXIST_FLAG',\n",
    "#            ]  # 'API_TRANSACTION_ID',"
   ]
  },
  {
   "cell_type": "code",
   "execution_count": 3,
   "id": "cf3a18c4-0231-4e99-9fa2-63c55bba21b9",
   "metadata": {},
   "outputs": [],
   "source": [
    "DTYPES = {'REQUEST_ID':str, 'BCS_ESTIMATE':float,'EC_ESTIMATE':float,'ST_ESTIMATE':float,'SSPT_ESTIMATE':float,'SNTC_ESTIMATE':float, 'TOTAL_ESTIMATE':float,} # 'COMPASS_READOUTS_DONE':np.int32, 'OFFER_CREATED':np.int32, 'OPPTY_STG1_CREATED':np.int32, 'LPM_READOUTS_DONE':np.int32,'LPM_READOUTS_DECLINED':np.int32}  #'REQUESTED_DTM':np.datetime64,'MODIFIED_DTM':np.datetime64,'READOUT_DONE_DTM':np.datetime64,'Last Updated':np.datetime64, "
   ]
  },
  {
   "cell_type": "code",
   "execution_count": 4,
   "id": "a7d21fc5-f35b-4582-b52e-1f70970d149f",
   "metadata": {},
   "outputs": [
    {
     "name": "stderr",
     "output_type": "stream",
     "text": [
      "C:\\Users\\phsheari\\.conda\\envs\\compass_env\\lib\\site-packages\\IPython\\core\\interactiveshell.py:3165: DtypeWarning: Columns (3,12,16,18,19,21,25,30,34,62,65,66,67,68,69,70,71,72,73,74,76,85) have mixed types.Specify dtype option on import or set low_memory=False.\n",
      "  has_raised = await self.run_ast_nodes(code_ast.body, cell_name,\n"
     ]
    }
   ],
   "source": [
    "df = pd.read_csv(r'C:\\Users\\phsheari\\Documents\\Compass SNOWFLAKE\\data_download\\result.tsv', sep='\\t',  dtype = DTYPES, parse_dates=True,) #usecols=USECOLS, "
   ]
  },
  {
   "cell_type": "code",
   "execution_count": 5,
   "id": "343d065e-37b1-4a37-b1d8-bbbe330d8840",
   "metadata": {},
   "outputs": [
    {
     "data": {
      "text/plain": [
       "0        False\n",
       "1        False\n",
       "2        False\n",
       "3        False\n",
       "4        False\n",
       "         ...  \n",
       "42712    False\n",
       "42713    False\n",
       "42714    False\n",
       "42715    False\n",
       "42716    False\n",
       "Name: PROACTIVE_REPORT_REQUESTED_FLAG, Length: 42717, dtype: bool"
      ]
     },
     "execution_count": 5,
     "metadata": {},
     "output_type": "execute_result"
    }
   ],
   "source": [
    "df['PROACTIVE_REPORT_REQUESTED_FLAG']"
   ]
  },
  {
   "cell_type": "code",
   "execution_count": 6,
   "id": "3278bce4-e98c-4c5a-b610-b3b724e63087",
   "metadata": {},
   "outputs": [],
   "source": [
    "# df.info()"
   ]
  },
  {
   "cell_type": "code",
   "execution_count": 7,
   "id": "554f4eb3-b4cb-447b-aa98-142da0ee0348",
   "metadata": {
    "tags": []
   },
   "outputs": [],
   "source": [
    "# df = df[['REQUEST_ID', 'REQUESTED_DTM', 'REQUEST_TYPE', 'ACCOUNT_NAME', 'DEAL_ID','CUSTOMER_IDENTIFIER', 'SAV_ID', 'GU_ID','CAV_ID', 'CAV_BU_ID', 'CR_PARTY_ID', 'CR_PARTY_NAME', 'CONTRACT_NUMBER', 'INVENTORY_NAME', 'APPLIANCE_ID', 'REQUESTER_NAME', 'SSP',\n",
    "#          'REQUESTER_FUNCTION', 'REQUESTER_COMMENTS', 'REQUEST_CREATED_BY', 'DISTRIBUTION_LIST', 'PARTNER_NAME', 'OPPTY_ID', 'CAMPAIGN_NAME', 'SALES_LEVEL1', 'SALES_LEVEL2', 'SALES_LEVEL3', 'SALES_LEVEL4', 'SALES_LEVEL5', 'SALES_LEVEL6',\n",
    "#          'EMAIL_SENT_FLAG', 'STATUS', 'COMPLETED_DTM', 'FAILURE_DETAILS', 'LOW_VOLUME_COUNT', 'REVIEW_REQUIRED_FLAG', 'QA_APPROVED_FLAG', 'RISK_SCORE', 'REPORT_TYPE','COMPASS_URL','OP_URL', 'OA_PACKAGE_TYPE','COMPASS_PPT_URL', 'TABLEAU_PROJECT_NAME', \n",
    "#          'MODIFIED_BY', 'MODIFIED_DTM', 'CONCIERGE_REQUESTED_FLAG', 'TARGET_REQUEST_ID', 'RR_INTERNAL', 'ADVISOR_ASSIGNED', 'READOUT_DONE_DTM', 'ADVISOR_NOTES', 'READOUT_DELIVERY_STATUS','DECLINED_REASON', 'ITEMS_RECOMMENDED','NEXT_STEPS',\n",
    "#          'BCS_ESTIMATE','EC_ESTIMATE','ST_ESTIMATE','SSPT_ESTIMATE','SNTC_ESTIMATE','TOTAL_ESTIMATE',  'LPM_OFFER_CREATED','VBDM', 'CONCIERGE_ADVISOR_ASSIGNED', 'CONCIERGE_BUSINESS_OBJECTIVE', 'CONCIERGE_EXTERNAL_READOUT_DT', 'CONCIERGE_EXTERNAL_READOUT_RESULT', 'CONCIERGE_ACCOUNT_TEAM_NOTES',\n",
    "#          'DELIVERABILITY', 'INSUFFICIENT_DATA_COUNT', 'COMPASS_DELIVERABLE','OAP_DELIVERABLE','LAST_UPDATED','API_TRANSACTION_ID','OPPTY_STG1_CREATED','DATA_PACKAGE_CREATED','READOUTS_DONE','READOUTS_DECLINED','OFFER_CREATED']]   #'REPORT_EXIST_FLAG', "
   ]
  },
  {
   "cell_type": "code",
   "execution_count": 8,
   "id": "80458769-2c32-4339-93ca-dc63fef68070",
   "metadata": {
    "tags": []
   },
   "outputs": [],
   "source": [
    "LOADFILE = df.copy()"
   ]
  },
  {
   "cell_type": "code",
   "execution_count": 9,
   "id": "7140a4af-e27c-4419-84f5-7cd3acbf7dd6",
   "metadata": {},
   "outputs": [],
   "source": [
    "# df['TOTAL_ESTIMATE'] = sum(df['BCS_ESTIMATE'] + df['EC_ESTIMATE'] + df['ST_ESTIMATE'] + df['SSPT_ESTIMATE'] + df['SNTC_ESTIMATE'])"
   ]
  },
  {
   "cell_type": "code",
   "execution_count": 10,
   "id": "102d3ff6-9892-4c02-bf0e-8c4b410621ef",
   "metadata": {},
   "outputs": [],
   "source": [
    "# df.loc[(df['TOTAL_ESTIMATE'].notnull()) & (df['TOTAL_ESTIMATE'] != 0)]['TOTAL_ESTIMATE'].count()"
   ]
  },
  {
   "cell_type": "code",
   "execution_count": 11,
   "id": "4c46b3e8-bebc-4535-8a7c-38db79a151db",
   "metadata": {},
   "outputs": [],
   "source": [
    "# df['TOTAL_ESTIMATE'].sum()"
   ]
  },
  {
   "cell_type": "code",
   "execution_count": 12,
   "id": "1593fda0-a219-48bb-959d-c00f4bb186a6",
   "metadata": {},
   "outputs": [
    {
     "data": {
      "text/plain": [
       "(42717, 106)"
      ]
     },
     "execution_count": 12,
     "metadata": {},
     "output_type": "execute_result"
    }
   ],
   "source": [
    "df.shape"
   ]
  },
  {
   "cell_type": "code",
   "execution_count": 13,
   "id": "5be0fe0c-836f-42c9-abbc-7902ffbce2e2",
   "metadata": {},
   "outputs": [],
   "source": [
    "df['REQUESTED_DTM'] =      pd.to_datetime(df['REQUESTED_DTM'])\n",
    "df['COMPLETED_DTM'] =      pd.to_datetime(df['COMPLETED_DTM'])\n",
    "df['MODIFIED_DTM'] =       pd.to_datetime(df['MODIFIED_DTM'])\n",
    "df['READOUT_DONE_DTM'] =   pd.to_datetime(df['READOUT_DONE_DT'])\n",
    "df['LAST_UPDATED'] =       pd.to_datetime(df['LAST_UPDATED'])\n",
    "df['OFFER_CREATOR_READOUT_DT'] =     pd.to_datetime(df['OFFER_CREATOR_READOUT_DT'])\n",
    "df['CONCIERGE_EXTERNAL_READOUT_DT'] = pd.to_datetime(df['CONCIERGE_EXTERNAL_READOUT_DT'])\n",
    "df['CONCIERGE_INTERNAL_READOUT_DT'] = pd.to_datetime(df['CONCIERGE_INTERNAL_READOUT_DT'])\n",
    "LOADFILE['LAST_UPDATED'] = pd.to_datetime(LOADFILE['LAST_UPDATED'])"
   ]
  },
  {
   "cell_type": "code",
   "execution_count": 14,
   "id": "c9dd36f8-ee96-4b97-966b-6b2f3c882474",
   "metadata": {},
   "outputs": [
    {
     "data": {
      "text/plain": [
       "(41516, 107)"
      ]
     },
     "execution_count": 14,
     "metadata": {},
     "output_type": "execute_result"
    }
   ],
   "source": [
    "df.loc[df['COMPLETED_DTM'].notnull()].shape"
   ]
  },
  {
   "cell_type": "code",
   "execution_count": 15,
   "id": "6f3cbc3c-7d70-44d6-b4e6-1a53f63575c7",
   "metadata": {},
   "outputs": [
    {
     "data": {
      "text/plain": [
       "16      2022-04-19\n",
       "17      2022-04-15\n",
       "18      2022-04-12\n",
       "19      2022-04-12\n",
       "20      2022-04-12\n",
       "           ...    \n",
       "42712   2022-03-30\n",
       "42713   2022-03-30\n",
       "42714   2022-04-11\n",
       "42715   2022-04-11\n",
       "42716   2022-03-29\n",
       "Name: READOUT_DONE_DTM, Length: 17751, dtype: datetime64[ns]"
      ]
     },
     "execution_count": 15,
     "metadata": {},
     "output_type": "execute_result"
    }
   ],
   "source": [
    "df.loc[df['READOUT_DONE_DTM'].notnull()]['READOUT_DONE_DTM']"
   ]
  },
  {
   "cell_type": "code",
   "execution_count": 16,
   "id": "d7e77cf2-4ff4-4e0e-8856-b343ce8503f7",
   "metadata": {},
   "outputs": [],
   "source": [
    "#Rename columns to OLD column names for now\n",
    "\n",
    "RENAMES = {'REQUEST_ID':'Request ID',\n",
    "           'REQUESTED_DTM': 'Create Date',\n",
    "           'REQUEST_TYPE': 'Request Type',\n",
    "           'ACCOUNT_NAME':'Customer Name',\n",
    "           'SAV_ID':'SAV ID',\n",
    "           'GU_ID':'GUID',\n",
    "           'CAV_ID':'CAV ID',\n",
    "           'CAV_BU_ID':'CAV BU ID',\n",
    "           'CONTRACT_NUMBER':'Contract ID',\n",
    "           'INVENTORY_NAME':'Inventory Name',\n",
    "           'APPLIANCE_ID':'Appliance ID',\n",
    "           'CR_PARTY_NAME':'CR Party Name',\n",
    "           'CR_PARTY_ID':'CR Party ID',\n",
    "           'DEAL_ID':'Deal ID',\n",
    "           'REQUESTER_NAME':'Requester Name',\n",
    "           'REQUESTER_FUNCTION':'Requester Function',\n",
    "           'SALES_CX_TEAM':'Sales/CX team',\n",
    "           'REQUEST_CREATED_BY':'Created By',\n",
    "           'PARTNER_NAME':'Partner Name',\n",
    "           'OPPTY_ID':'opportunityID18',\n",
    "           'CAMPAIGN_NAME':'Campaign',\n",
    "           'SALES_LEVEL1':'Sales Level 1',\n",
    "           'SALES_LEVEL2':'Sales Level 2',\n",
    "           'SALES_LEVEL3':'Sales Level 3',\n",
    "           'SALES_LEVEL4':'Sales Level 4',\n",
    "           'SALES_LEVEL5':'Sales Level 5',\n",
    "           'SALES_LEVEL6':'Sales Level 6',\n",
    "           'EMAIL_SENT_FLAG':'Email sent',\n",
    "           'STATUS':'Status',\n",
    "           'COMPLETED_DTM':'Date Completed',\n",
    "           'LOW_VOLUME_COUNT':'Low Volume Count',\n",
    "           'QA_APPROVED_FLAG':'QA Approve',\n",
    "           'RISK_SCORE':'Risk Score',\n",
    "           'REPORT_TYPE':'Report Type',\n",
    "           'COMPASS_URL':'COMPASS URL',    #Did Compass URL get combined with Compass URL 1.0?\n",
    "           'OP_URL': 'OA URL',\n",
    "           'OA_PACKAGE_TYPE':'OA Package Type',\n",
    "           'COMPASS_PPT_URL':'COMPASS PPT URL',\n",
    "           'TABLEAU_PROJECT_NAME': 'Tableau Project Name',  #Did Tableau Project Name get combined with Tableau Project Name 1.0?\n",
    "           'MODIFIED_BY': 'Modified By',\n",
    "           'MODIFIED_DTM': 'Modified',\n",
    "           #'CONCIERGE_REQUESTED_FLAG':'Compass Concierge Requested',\n",
    "           #'TARGET_REQUEST_ID',       What are these fields used for?\n",
    "           #'TARGET_REQUEST_TYPE',\n",
    "           #'REPORT_EXIST_FLAG',\n",
    "           'ADVISOR_ASSIGNED':'Compass Advisor',\n",
    "           'READOUT_DONE_DTM':'Readout_Date',\n",
    "           'READOUT_DELIVERY_STATUS':'Readout Delivery Status',\n",
    "           #'RR_INTERNAL':'RR (internal)',\n",
    "           #'DECLINED_REASON':'Reason Declined',\n",
    "           'ITEMS_RECOMMENDED':'Items Recommended',\n",
    "           #'VBDM':'vBDM',\n",
    "           #'CONCIERGE_ADVISOR_ASSIGNED':'EXT_BDM_ASSIGNED',\n",
    "           #'CONCIERGE_READOUT_DATE':'EXT_DATE_READOUT_DONE',\n",
    "           #'CONCIERGE_READOUT_RESULT':'EXT_READOUT_RESULT'\n",
    "            }   ### Fields not yet renamed: 'FAILURE_DETAILS', 'REVIEW_REQUIRED_FLAG','REQUESTER_COMMENTS','CUSTOMER_IDENTIFIER'\n"
   ]
  },
  {
   "cell_type": "code",
   "execution_count": 17,
   "id": "2885b90e-1e6e-4076-8c86-3110bfd5a344",
   "metadata": {},
   "outputs": [],
   "source": [
    "df.rename(columns=RENAMES, inplace=True)"
   ]
  },
  {
   "cell_type": "code",
   "execution_count": 18,
   "id": "5a972654-0486-442a-8aae-732fd6fb34be",
   "metadata": {},
   "outputs": [
    {
     "data": {
      "text/plain": [
       "'1.2.2'"
      ]
     },
     "execution_count": 18,
     "metadata": {},
     "output_type": "execute_result"
    }
   ],
   "source": [
    "pd.__version__"
   ]
  },
  {
   "cell_type": "code",
   "execution_count": 19,
   "id": "b6e4fbe8-13ef-46a7-9e31-e9b7f40b13ef",
   "metadata": {},
   "outputs": [],
   "source": [
    "# df['TARGET_REQUEST_ID'] = df['TARGET_REQUEST_ID'].astype('Int64').astype(str)"
   ]
  },
  {
   "cell_type": "code",
   "execution_count": 20,
   "id": "5f5a2377-5056-47d8-8406-6367d2522f16",
   "metadata": {},
   "outputs": [
    {
     "data": {
      "text/plain": [
       "(42717, 107)"
      ]
     },
     "execution_count": 20,
     "metadata": {},
     "output_type": "execute_result"
    }
   ],
   "source": [
    "df.shape"
   ]
  },
  {
   "cell_type": "code",
   "execution_count": 21,
   "id": "10753242-ef17-42c2-b807-92308c179cb2",
   "metadata": {},
   "outputs": [],
   "source": [
    "last_updated_dtm = df['LAST_UPDATED'].unique().strftime('%Y%m%d%H%M%S')[0]"
   ]
  },
  {
   "cell_type": "code",
   "execution_count": 22,
   "id": "77b6e2f6-1a1e-4313-9206-44f9164a08a6",
   "metadata": {},
   "outputs": [
    {
     "data": {
      "text/plain": [
       "'20220419133232'"
      ]
     },
     "execution_count": 22,
     "metadata": {},
     "output_type": "execute_result"
    }
   ],
   "source": [
    "last_updated_dtm"
   ]
  },
  {
   "cell_type": "code",
   "execution_count": 23,
   "id": "7600459a-b9da-43a6-8280-08ecf4381410",
   "metadata": {},
   "outputs": [],
   "source": [
    "df.loc[:,'LAST_UPDATED'] = df.loc[:,'LAST_UPDATED'].apply(lambda x: x.strftime('%Y-%m-%d %H:%M %p') + ' Eastern')\n",
    "LOADFILE.loc[:,'LAST_UPDATED'] = LOADFILE.loc[:,'LAST_UPDATED'].apply(lambda x: x.strftime('%Y-%m-%d %H:%M %p') + ' Eastern')"
   ]
  },
  {
   "cell_type": "code",
   "execution_count": 24,
   "id": "cf22c008-dcf5-4630-b58f-37fc6288cca5",
   "metadata": {},
   "outputs": [
    {
     "data": {
      "text/plain": [
       "array(['2022-04-19 13:32 PM Eastern'], dtype=object)"
      ]
     },
     "execution_count": 24,
     "metadata": {},
     "output_type": "execute_result"
    }
   ],
   "source": [
    "df['LAST_UPDATED'].unique()"
   ]
  },
  {
   "cell_type": "code",
   "execution_count": 25,
   "id": "c7e24668-d13a-4872-a328-2472b1bb804f",
   "metadata": {},
   "outputs": [
    {
     "data": {
      "text/plain": [
       "array(['2022-04-19 13:32 PM Eastern'], dtype=object)"
      ]
     },
     "execution_count": 25,
     "metadata": {},
     "output_type": "execute_result"
    }
   ],
   "source": [
    "LOADFILE['LAST_UPDATED'].unique()"
   ]
  },
  {
   "cell_type": "code",
   "execution_count": 26,
   "id": "16aac64f-bd94-4c46-a70c-995748105d80",
   "metadata": {},
   "outputs": [],
   "source": [
    "# LOADFILE"
   ]
  },
  {
   "cell_type": "code",
   "execution_count": 27,
   "id": "2790c3cb-b968-4e04-8841-2017a9d71d15",
   "metadata": {},
   "outputs": [],
   "source": [
    "df.to_pickle(r'C:\\Users\\phsheari\\Documents\\Compass SNOWFLAKE\\data_download\\result.pkl')"
   ]
  },
  {
   "cell_type": "code",
   "execution_count": 28,
   "id": "2d4af6f6-4e9d-4c04-80a8-e2a4bc5f89e3",
   "metadata": {},
   "outputs": [],
   "source": [
    "# LOADFILE.to_csv(r'C:\\Users\\phsheari\\Documents\\Compass SNOWFLAKE\\data_download\\request_tracker_detail_' + last_updated_dtm + '.tsv', sep='\\t', na_rep='NULL', compression='gzip', index=False)\n",
    "# LOADFILE.to_excel(r'C:\\Users\\phsheari\\Documents\\Compass SNOWFLAKE\\data_download\\request_tracker_detail_' + last_updated_dtm + '.xlsx', index=False)"
   ]
  },
  {
   "cell_type": "code",
   "execution_count": 29,
   "id": "27e0e7f2-80a6-45fd-927d-d18320ebf868",
   "metadata": {},
   "outputs": [
    {
     "data": {
      "text/plain": [
       "0        False\n",
       "1        False\n",
       "2        False\n",
       "3        False\n",
       "4        False\n",
       "         ...  \n",
       "42712    False\n",
       "42713    False\n",
       "42714    False\n",
       "42715    False\n",
       "42716    False\n",
       "Name: CONCIERGE_REQUESTED_FLAG, Length: 42717, dtype: bool"
      ]
     },
     "execution_count": 29,
     "metadata": {},
     "output_type": "execute_result"
    }
   ],
   "source": [
    "df['CONCIERGE_REQUESTED_FLAG']"
   ]
  },
  {
   "cell_type": "code",
   "execution_count": 30,
   "id": "7f8d41a1-3d01-49c5-9c2f-7dff2f367475",
   "metadata": {},
   "outputs": [
    {
     "data": {
      "text/plain": [
       "DECLINED                           700\n",
       "RR_SET_NO                          513\n",
       "READOUT DONE                       392\n",
       "COMPASS UNDELIVERABLE              132\n",
       "SCHEDULED                           45\n",
       "READOUT POSTPONED                   39\n",
       "ASSIGNED                            22\n",
       "READOUT PASSED - RESULT PENDING      8\n",
       "Name: WORKING STATUS, dtype: int64"
      ]
     },
     "execution_count": 30,
     "metadata": {},
     "output_type": "execute_result"
    }
   ],
   "source": [
    "df.loc[(df['Create Date'] >= '2021-10-31') & (df['Sales Level 2'].str.contains('US PS MARKET SEGMENT', na=False, case=False))]['WORKING STATUS'].value_counts()"
   ]
  },
  {
   "cell_type": "code",
   "execution_count": 31,
   "id": "ee71a9f9-11a8-4b58-8e8f-ebbf77d525b5",
   "metadata": {},
   "outputs": [
    {
     "data": {
      "text/html": [
       "<div>\n",
       "<style scoped>\n",
       "    .dataframe tbody tr th:only-of-type {\n",
       "        vertical-align: middle;\n",
       "    }\n",
       "\n",
       "    .dataframe tbody tr th {\n",
       "        vertical-align: top;\n",
       "    }\n",
       "\n",
       "    .dataframe thead th {\n",
       "        text-align: right;\n",
       "    }\n",
       "</style>\n",
       "<table border=\"1\" class=\"dataframe\">\n",
       "  <thead>\n",
       "    <tr style=\"text-align: right;\">\n",
       "      <th></th>\n",
       "      <th>UNCOVERED_OPPTY_VALUE</th>\n",
       "    </tr>\n",
       "  </thead>\n",
       "  <tbody>\n",
       "    <tr>\n",
       "      <th>279</th>\n",
       "      <td>106.2</td>\n",
       "    </tr>\n",
       "    <tr>\n",
       "      <th>18165</th>\n",
       "      <td>5.4</td>\n",
       "    </tr>\n",
       "    <tr>\n",
       "      <th>22586</th>\n",
       "      <td>12.6</td>\n",
       "    </tr>\n",
       "    <tr>\n",
       "      <th>22597</th>\n",
       "      <td>193.2</td>\n",
       "    </tr>\n",
       "    <tr>\n",
       "      <th>24783</th>\n",
       "      <td>6.6</td>\n",
       "    </tr>\n",
       "    <tr>\n",
       "      <th>...</th>\n",
       "      <td>...</td>\n",
       "    </tr>\n",
       "    <tr>\n",
       "      <th>41837</th>\n",
       "      <td>4.2</td>\n",
       "    </tr>\n",
       "    <tr>\n",
       "      <th>41860</th>\n",
       "      <td>0.6</td>\n",
       "    </tr>\n",
       "    <tr>\n",
       "      <th>41861</th>\n",
       "      <td>3.6</td>\n",
       "    </tr>\n",
       "    <tr>\n",
       "      <th>41886</th>\n",
       "      <td>0.6</td>\n",
       "    </tr>\n",
       "    <tr>\n",
       "      <th>41889</th>\n",
       "      <td>0.6</td>\n",
       "    </tr>\n",
       "  </tbody>\n",
       "</table>\n",
       "<p>1417 rows × 1 columns</p>\n",
       "</div>"
      ],
      "text/plain": [
       "       UNCOVERED_OPPTY_VALUE\n",
       "279                    106.2\n",
       "18165                    5.4\n",
       "22586                   12.6\n",
       "22597                  193.2\n",
       "24783                    6.6\n",
       "...                      ...\n",
       "41837                    4.2\n",
       "41860                    0.6\n",
       "41861                    3.6\n",
       "41886                    0.6\n",
       "41889                    0.6\n",
       "\n",
       "[1417 rows x 1 columns]"
      ]
     },
     "execution_count": 31,
     "metadata": {},
     "output_type": "execute_result"
    }
   ],
   "source": [
    "df.loc[df['UNCOVERED_OPPTY_VALUE'] > 0][['UNCOVERED_OPPTY_VALUE']]"
   ]
  },
  {
   "cell_type": "code",
   "execution_count": 32,
   "id": "6ea63f4d-8632-4a81-b6f3-da5582941596",
   "metadata": {},
   "outputs": [
    {
     "data": {
      "text/plain": [
       "Index(['Request ID', 'Create Date', 'Created By', 'Request Type', 'Modified',\n",
       "       'Modified By', 'Date Completed', 'LAST_UPDATED', 'QA Approve',\n",
       "       'REVIEW_REQUIRED_FLAG',\n",
       "       ...\n",
       "       'LPM_PLUS_ASSIGNED', 'LPM_PLUS_SCHEDULED', 'LPM_READOUTS_DONE',\n",
       "       'LPM_INCOMPLETE', 'LPM_READOUTS_DECLINED', 'LPM_READOUTS_POSTPONED',\n",
       "       'OFFER_CREATED', 'UNCOVERED_OPPTY_VALUE', 'WORKING STATUS',\n",
       "       'Readout_Date'],\n",
       "      dtype='object', length=107)"
      ]
     },
     "execution_count": 32,
     "metadata": {},
     "output_type": "execute_result"
    }
   ],
   "source": [
    "df.columns"
   ]
  },
  {
   "cell_type": "code",
   "execution_count": 33,
   "id": "670b18ad-736f-4537-a8a8-f915f72f1ef3",
   "metadata": {},
   "outputs": [
    {
     "ename": "NameError",
     "evalue": "name 'model' is not defined",
     "output_type": "error",
     "traceback": [
      "\u001b[1;31m---------------------------------------------------------------------------\u001b[0m",
      "\u001b[1;31mNameError\u001b[0m                                 Traceback (most recent call last)",
      "\u001b[1;32m<ipython-input-33-b8591eb44077>\u001b[0m in \u001b[0;36m<module>\u001b[1;34m\u001b[0m\n\u001b[1;32m----> 1\u001b[1;33m \u001b[0mmodel\u001b[0m\u001b[1;33m.\u001b[0m\u001b[0mshape\u001b[0m\u001b[1;33m\u001b[0m\u001b[1;33m\u001b[0m\u001b[0m\n\u001b[0m",
      "\u001b[1;31mNameError\u001b[0m: name 'model' is not defined"
     ]
    }
   ],
   "source": [
    "model.shape"
   ]
  },
  {
   "cell_type": "code",
   "execution_count": null,
   "id": "9958cf1b-d4e3-4641-bc43-2a64ae597a4b",
   "metadata": {},
   "outputs": [],
   "source": [
    "model.loc[(model['SAV ID'].isnull()) & (model['GUID'].isnull()) & (model['CAV ID'].isnull()) & (model['CR Party ID'].isnull()) & (model['Deal ID'].isnull())]   \n",
    "                                                                                                        #ALL NULLS: 382 records; ONLY GUID: 11,662 records; ONLY SAV ID: 848 records, SAV ID & GUID: 17518 records\n",
    "                                                                                                        #SAV NULL, GUID NULL, CR Party NOT NULL: 29 records\n",
    "                                                                                                        #SAV NULL, GUID NULL, CAV ID NOT NULL: 65 records\n",
    "                                                                                                        #SAV NULL, GUID NULL, CAV NULL, CR PARTY NULL: 292 records\n",
    "                                                                                                        #SAV NULL, GUID NULL, CAV NULL, CR PARTY NULL, HAS DEAL ID: 64"
   ]
  },
  {
   "cell_type": "code",
   "execution_count": null,
   "id": "6d4a74e9-6f40-4558-81dd-292e08426349",
   "metadata": {},
   "outputs": [],
   "source": []
  }
 ],
 "metadata": {
  "kernelspec": {
   "display_name": "Python 3",
   "language": "python",
   "name": "python3"
  },
  "language_info": {
   "codemirror_mode": {
    "name": "ipython",
    "version": 3
   },
   "file_extension": ".py",
   "mimetype": "text/x-python",
   "name": "python",
   "nbconvert_exporter": "python",
   "pygments_lexer": "ipython3",
   "version": "3.9.5"
  }
 },
 "nbformat": 4,
 "nbformat_minor": 5
}
